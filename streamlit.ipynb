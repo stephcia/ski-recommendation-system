{
 "cells": [
  {
   "cell_type": "code",
   "execution_count": 1,
   "metadata": {},
   "outputs": [],
   "source": [
    "import streamlit as st\n",
    "import pandas as pd\n",
    "import pickle\n",
    "import numpy as np\n",
    "import joblib\n",
    "import seaborn as sns\n",
    "\n",
    "from sklearn.metrics.pairwise import cosine_similarity\n",
    "from surprise import SVDpp, SVD\n",
    "from surprise import accuracy\n",
    "from surprise import Dataset\n",
    "from surprise import Reader\n",
    "from surprise.model_selection import GridSearchCV, cross_validate, train_test_split\n",
    "\n",
    "from PIL import Image"
   ]
  },
  {
   "cell_type": "code",
   "execution_count": 63,
   "metadata": {},
   "outputs": [],
   "source": [
    "content_matrix = pd.read_csv(\"data/cleaned_data_exports/scraped_feature_df_3.csv\")\n",
    "sim_df = pd.read_csv(\"data/cleaned_data_exports/similarity_matrix.csv\")\n",
    "final_user_df = pd.read_csv(\"data/cleaned_data_exports/user_df_model.csv\")\n",
    "surprise_df = pd.read_csv(\"data/cleaned_data_exports/surprise_df.csv\")"
   ]
  },
  {
   "cell_type": "code",
   "execution_count": 64,
   "metadata": {},
   "outputs": [
    {
     "name": "stdout",
     "output_type": "stream",
     "text": [
      "<class 'pandas.core.frame.DataFrame'>\n",
      "RangeIndex: 330 entries, 0 to 329\n",
      "Columns: 103 entries, Unnamed: 0 to total_lifts\n",
      "dtypes: float64(20), int64(70), object(13)\n",
      "memory usage: 265.7+ KB\n"
     ]
    }
   ],
   "source": [
    "content_matrix.info()"
   ]
  },
  {
   "cell_type": "code",
   "execution_count": 65,
   "metadata": {},
   "outputs": [
    {
     "data": {
      "text/plain": [
       "0      284\n",
       "1      191\n",
       "2      256\n",
       "3      256\n",
       "4      304\n",
       "      ... \n",
       "325    232\n",
       "326    128\n",
       "327    177\n",
       "328    180\n",
       "329    160\n",
       "Name: dec_mean_2_guests, Length: 330, dtype: int64"
      ]
     },
     "execution_count": 65,
     "metadata": {},
     "output_type": "execute_result"
    }
   ],
   "source": [
    "content_matrix['dec_mean_2_guests'].fillna(0).astype(int)"
   ]
  },
  {
   "cell_type": "code",
   "execution_count": 66,
   "metadata": {},
   "outputs": [],
   "source": [
    "#resetting index\n",
    "sim_df = sim_df.set_index('ski_resort')\n",
    "content_matrix = content_matrix.set_index('ski_resort')"
   ]
  },
  {
   "cell_type": "code",
   "execution_count": 67,
   "metadata": {},
   "outputs": [],
   "source": [
    "#dropping unnamed column\n",
    "df_list = [content_matrix, final_user_df, surprise_df]\n",
    "\n",
    "for x in df_list:\n",
    "    x.drop(columns=\"Unnamed: 0\", inplace=True)"
   ]
  },
  {
   "cell_type": "code",
   "execution_count": 68,
   "metadata": {},
   "outputs": [],
   "source": [
    "#dropping duplicates\n",
    "surprise_df = surprise_df.drop_duplicates()"
   ]
  },
  {
   "cell_type": "code",
   "execution_count": 69,
   "metadata": {},
   "outputs": [],
   "source": [
    "#setting scale\n",
    "reader = Reader(rating_scale=(1, 5))\n",
    "\n",
    "#loading final dataset\n",
    "data_full = Dataset.load_from_df(surprise_df[['user_name', 'ski_resort', 'rating']], reader)\n",
    "\n",
    "#making trainset\n",
    "full_trainset = data_full.build_full_trainset()"
   ]
  },
  {
   "cell_type": "code",
   "execution_count": 70,
   "metadata": {},
   "outputs": [
    {
     "data": {
      "text/html": [
       "<div>\n",
       "<style scoped>\n",
       "    .dataframe tbody tr th:only-of-type {\n",
       "        vertical-align: middle;\n",
       "    }\n",
       "\n",
       "    .dataframe tbody tr th {\n",
       "        vertical-align: top;\n",
       "    }\n",
       "\n",
       "    .dataframe thead th {\n",
       "        text-align: right;\n",
       "    }\n",
       "</style>\n",
       "<table border=\"1\" class=\"dataframe\">\n",
       "  <thead>\n",
       "    <tr style=\"text-align: right;\">\n",
       "      <th></th>\n",
       "      <th>ski_resort</th>\n",
       "    </tr>\n",
       "    <tr>\n",
       "      <th>user_name</th>\n",
       "      <th></th>\n",
       "    </tr>\n",
       "  </thead>\n",
       "  <tbody>\n",
       "    <tr>\n",
       "      <th>anon_1</th>\n",
       "      <td>Winter Park</td>\n",
       "    </tr>\n",
       "    <tr>\n",
       "      <th>anon_1</th>\n",
       "      <td>Arapahoe Basin</td>\n",
       "    </tr>\n",
       "    <tr>\n",
       "      <th>anon_1</th>\n",
       "      <td>Steamboat</td>\n",
       "    </tr>\n",
       "    <tr>\n",
       "      <th>anon_1</th>\n",
       "      <td>Copper Mountain</td>\n",
       "    </tr>\n",
       "    <tr>\n",
       "      <th>anon_2</th>\n",
       "      <td>Solitude Mountain</td>\n",
       "    </tr>\n",
       "  </tbody>\n",
       "</table>\n",
       "</div>"
      ],
      "text/plain": [
       "                  ski_resort\n",
       "user_name                   \n",
       "anon_1           Winter Park\n",
       "anon_1        Arapahoe Basin\n",
       "anon_1             Steamboat\n",
       "anon_1       Copper Mountain\n",
       "anon_2     Solitude Mountain"
      ]
     },
     "execution_count": 70,
     "metadata": {},
     "output_type": "execute_result"
    }
   ],
   "source": [
    "#saving new dataframe with only user information\n",
    "user_df = surprise_df.reset_index()\n",
    "user_df.set_index('user_name', inplace = True)\n",
    "user_df.drop(columns = ['rating', 'index'], inplace =True)\n",
    "user_df.head()"
   ]
  },
  {
   "cell_type": "code",
   "execution_count": 77,
   "metadata": {},
   "outputs": [
    {
     "data": {
      "text/plain": [
       "['address',\n",
       " 'city',\n",
       " 'state',\n",
       " 'zipcode',\n",
       " 'summit',\n",
       " 'drop',\n",
       " 'base',\n",
       " 'gondolas_and_trams',\n",
       " 'fast_eight',\n",
       " 'high_speed_sixes',\n",
       " 'quad_chairs',\n",
       " 'triple_chairs',\n",
       " 'double_chairs',\n",
       " 'surface_lifts',\n",
       " 'total_runs',\n",
       " 'longest_run',\n",
       " 'skiable_terrain',\n",
       " 'snow_making',\n",
       " 'daysOpenLastYear',\n",
       " 'averageSnowfall',\n",
       " 'projectedOpening',\n",
       " 'projectedClosing',\n",
       " 'nov_snow',\n",
       " 'dec_snow',\n",
       " 'jan_snow',\n",
       " 'feb_snow',\n",
       " 'mar_snow',\n",
       " 'apr_snow',\n",
       " 'childrenWeekdayPrice',\n",
       " 'childrenWeekendPrice',\n",
       " 'teenagerWeekdayPrice',\n",
       " 'teenagerWeekendPrice',\n",
       " 'adultWeekdayPrice',\n",
       " 'adultWeekendPrice',\n",
       " 'seniorWeekdayPrice',\n",
       " 'seniorWeekendPrice',\n",
       " 'childrenPrice_season',\n",
       " 'teenagerPrice_season',\n",
       " 'adultPrice_season',\n",
       " 'Url',\n",
       " 'beginner_runs',\n",
       " 'intermediate_runs',\n",
       " 'advanced_runs',\n",
       " 'expert_runs',\n",
       " 'night_skiing',\n",
       " 'epic',\n",
       " 'mountain_collective',\n",
       " 'ikon',\n",
       " 'indy',\n",
       " 'dec_mean_2_guests',\n",
       " 'dec_min_2_guests',\n",
       " 'dec_max_2_guests',\n",
       " 'jan_mean_2_guests',\n",
       " 'jan_min_2_guests',\n",
       " 'jan_max_2_guests',\n",
       " 'feb_mean_2_guests',\n",
       " 'feb_min_2_guests',\n",
       " 'feb_max_2_guests',\n",
       " 'mar_mean_2_guests',\n",
       " 'mar_min_2_guests',\n",
       " 'mar_max_2_guests',\n",
       " 'apr_mean_2_guests',\n",
       " 'apr_min_2_guests',\n",
       " 'apr_max_2_guests',\n",
       " 'may_mean_2_guests',\n",
       " 'may_min_2_guests',\n",
       " 'may_max_2_guests',\n",
       " 'dec_mean_4_guests',\n",
       " 'dec_min_4_guests',\n",
       " 'dec_max_4_guests',\n",
       " 'jan_mean_4_guests',\n",
       " 'jan_min_4_guests',\n",
       " 'jan_max_4_guests',\n",
       " 'feb_mean_4_guests',\n",
       " 'feb_min_4_guests',\n",
       " 'feb_max_4_guests',\n",
       " 'mar_mean_4_guests',\n",
       " 'mar_min_4_guests',\n",
       " 'mar_max_4_guests',\n",
       " 'apr_mean_4_guests',\n",
       " 'apr_min_4_guests',\n",
       " 'apr_max_4_guests',\n",
       " 'may_mean_4_guests',\n",
       " 'may_min_4_guests',\n",
       " 'may_max_4_guests',\n",
       " 'full_address',\n",
       " 'latitude',\n",
       " 'longitude',\n",
       " 'airport_1',\n",
       " 'distance_1',\n",
       " 'lat',\n",
       " 'long',\n",
       " 'airport_2',\n",
       " 'distance_2',\n",
       " 'lat_2',\n",
       " 'long_2',\n",
       " 'airport_3',\n",
       " 'distance_3',\n",
       " 'lat_3',\n",
       " 'long_3',\n",
       " 'total_lifts']"
      ]
     },
     "execution_count": 77,
     "metadata": {},
     "output_type": "execute_result"
    }
   ],
   "source": [
    "content_matrix.columns.to_list()"
   ]
  },
  {
   "cell_type": "code",
   "execution_count": 72,
   "metadata": {},
   "outputs": [],
   "source": [
    "def load_model(model_filename):\n",
    "    print (\">> Loading dump\")\n",
    "    from surprise import dump\n",
    "    import os\n",
    "    file_name = os.path.expanduser(model_filename)\n",
    "    _, loaded_model = dump.load(file_name)\n",
    "    return loaded_model\n",
    "\n",
    "def hybrid_model_content():\n",
    "    # User inputs\n",
    "    user = str(input('Name: '))\n",
    "    n_recs = int(input('How many resort recommendations do you want? '))\n",
    "    mountain_name = str(input(\"What's your favorite ski resort? \"))\n",
    "    travel_date = str(input('What month would you like to travel? '))\n",
    "    mtn_pass = str(input('Are you using a multi-resort pass?  '))\n",
    "    \n",
    "    loaded_model = load_model('model.pickle')\n",
    "    \n",
    "    # Content-based model\n",
    "    y = sim_df.loc[[mountain_name]]\n",
    "    cos_sim = cosine_similarity(sim_df, y)\n",
    "    cos_sim_df = pd.DataFrame(data=cos_sim, index=sim_df.index)\n",
    "    cos_sim_df.sort_values(by=0, ascending=False, inplace=True)\n",
    "    cos_sim_df = cos_sim_df.reset_index()\n",
    "\n",
    "    #making list for column names\n",
    "    rec_list = []\n",
    "    \n",
    "    #grabbing rows from content_matrix for final output\n",
    "    for x in cos_sim_df['ski_resort']:\n",
    "        rec_df = content_matrix.loc[[x]]  \n",
    "        rec_list.append(rec_df)  #\n",
    "\n",
    "    rec_df = pd.concat(rec_list)\n",
    "\n",
    "    #Concatenate all the dataframes in rec_list into a single dataframe\n",
    "    concat_df = rec_df[[\"city\", \"state\", \"summit\", \"drop\", \"base\",\"adultWeekdayPrice\", \"adultWeekendPrice\",\n",
    "                           \"beginner_runs\", \"intermediate_runs\", \"advanced_runs\", \"expert_runs\",\n",
    "                        \"ikon\", \"epic\", \"mountain_collective\"]]\n",
    "    concat_df = concat_df.reset_index()\n",
    "\n",
    "    #filtering based on month to return airbnb prices and turning into dataframe\n",
    "    travel_date = travel_date.lower()\n",
    "\n",
    "    month = [\"december\", \"january\", \"february\", \"march\", \"april\", \"may\"]\n",
    "    month_abv = [\"dec\", \"jan\", \"feb\", \"mar\", \"apr\", \"may\"]\n",
    "\n",
    "    selected_columns = []\n",
    "    for x, y in zip(month_abv, month):\n",
    "        if travel_date == y:\n",
    "            selected_columns = [x + \"_mean_4_guests\", x + \"_mean_2_guests\"]\n",
    "\n",
    "    result = rec_df[selected_columns]\n",
    "    result = result.reset_index()                        \n",
    "    content_recommendations = pd.merge(concat_df, result, on=\"ski_resort\")\n",
    "    \n",
    "    #adding mountain fil\n",
    "    if mtn_pass == \"Ikon\":\n",
    "        content_recommendations = content_recommendations.loc[content_recommendations['ikon'] == 1]\n",
    "    elif mtn_pass == \"Epic\":\n",
    "        content_recommendations = content_recommendations.loc[content_recommendations['epic'] == 1]\n",
    "    elif mtn_pass == \"Mountain_collective\":\n",
    "        content_recommendations = content_recommendations.loc[content_recommendations['mountain_collective'] == 1]\n",
    "    elif mtn_pass == \"No\":\n",
    "        pass\n",
    "    \n",
    "    content_recommendations = content_recommendations[content_recommendations.ski_resort != mountain_name].head(20)\n",
    "\n",
    "    # Collaborative model\n",
    "    have_rated = list(user_df.loc[user, 'ski_resort'])\n",
    "    not_rated = final_user_df.copy()\n",
    "    not_rated = not_rated.loc[~not_rated['ski_resort'].isin(have_rated)]\n",
    "    not_rated = not_rated.drop_duplicates(subset=['ski_resort'])\n",
    "    not_rated.reset_index(inplace=True)\n",
    "    not_rated['predicted_rating'] = not_rated['ski_resort'].apply(lambda x: loaded_model.predict(user, x).est)\n",
    "    not_rated.sort_values(by='predicted_rating', ascending=False, inplace=True)\n",
    "    collaborative_recommendations = not_rated[['ski_resort', 'predicted_rating']]\n",
    "\n",
    "    # Combine content-based and collaborative recommendations\n",
    "    combined_recommendations = pd.merge(content_recommendations, collaborative_recommendations, on='ski_resort', how='left')\n",
    "    combined_recommendations = combined_recommendations.drop_duplicates(subset=['ski_resort'])\n",
    "    combined_recommendations.sort_values(by='predicted_rating', ascending=False, inplace=True)\n",
    "    combined_recommendations.drop(columns=['ikon', 'mountain_collective', 'epic'], inplace=True)\n",
    "    return combined_recommendations.head(n_recs)"
   ]
  },
  {
   "cell_type": "code",
   "execution_count": 73,
   "metadata": {},
   "outputs": [
    {
     "name": "stdout",
     "output_type": "stream",
     "text": [
      "Name: Stephanie Ciaccia\n",
      "How many resort recommendations do you want? 5\n",
      "What's your favorite ski resort? Park City Mountain\n",
      "What month would you like to travel? December\n",
      "Are you using a multi-resort pass?  Ikon\n",
      ">> Loading dump\n"
     ]
    }
   ],
   "source": [
    "recommendations = hybrid_model_content()"
   ]
  },
  {
   "cell_type": "code",
   "execution_count": 5,
   "metadata": {},
   "outputs": [],
   "source": [
    "map_df = content_matrix[['ski_resort', 'latitude', 'longitude']]"
   ]
  },
  {
   "cell_type": "code",
   "execution_count": 74,
   "metadata": {},
   "outputs": [
    {
     "data": {
      "text/html": [
       "<div>\n",
       "<style scoped>\n",
       "    .dataframe tbody tr th:only-of-type {\n",
       "        vertical-align: middle;\n",
       "    }\n",
       "\n",
       "    .dataframe tbody tr th {\n",
       "        vertical-align: top;\n",
       "    }\n",
       "\n",
       "    .dataframe thead th {\n",
       "        text-align: right;\n",
       "    }\n",
       "</style>\n",
       "<table border=\"1\" class=\"dataframe\">\n",
       "  <thead>\n",
       "    <tr style=\"text-align: right;\">\n",
       "      <th></th>\n",
       "      <th>ski_resort</th>\n",
       "      <th>city</th>\n",
       "      <th>state</th>\n",
       "      <th>summit</th>\n",
       "      <th>drop</th>\n",
       "      <th>base</th>\n",
       "      <th>adultWeekdayPrice</th>\n",
       "      <th>adultWeekendPrice</th>\n",
       "      <th>beginner_runs</th>\n",
       "      <th>intermediate_runs</th>\n",
       "      <th>advanced_runs</th>\n",
       "      <th>expert_runs</th>\n",
       "      <th>dec_mean_4_guests</th>\n",
       "      <th>dec_mean_2_guests</th>\n",
       "      <th>predicted_rating</th>\n",
       "    </tr>\n",
       "  </thead>\n",
       "  <tbody>\n",
       "    <tr>\n",
       "      <th>5</th>\n",
       "      <td>Big Sky</td>\n",
       "      <td>Big Sky</td>\n",
       "      <td>Montana</td>\n",
       "      <td>11166</td>\n",
       "      <td>4350</td>\n",
       "      <td>7500</td>\n",
       "      <td>152.0</td>\n",
       "      <td>194.0</td>\n",
       "      <td>15</td>\n",
       "      <td>25</td>\n",
       "      <td>42</td>\n",
       "      <td>18.0</td>\n",
       "      <td>314</td>\n",
       "      <td>208</td>\n",
       "      <td>4.483927</td>\n",
       "    </tr>\n",
       "    <tr>\n",
       "      <th>0</th>\n",
       "      <td>Steamboat</td>\n",
       "      <td>Steamboat Springs</td>\n",
       "      <td>Colorado</td>\n",
       "      <td>10568</td>\n",
       "      <td>3668</td>\n",
       "      <td>6900</td>\n",
       "      <td>177.0</td>\n",
       "      <td>192.0</td>\n",
       "      <td>12</td>\n",
       "      <td>43</td>\n",
       "      <td>40</td>\n",
       "      <td>5.0</td>\n",
       "      <td>246</td>\n",
       "      <td>189</td>\n",
       "      <td>4.273560</td>\n",
       "    </tr>\n",
       "    <tr>\n",
       "      <th>16</th>\n",
       "      <td>Copper Mountain</td>\n",
       "      <td>Copper Mountain</td>\n",
       "      <td>Colorado</td>\n",
       "      <td>12313</td>\n",
       "      <td>2738</td>\n",
       "      <td>9712</td>\n",
       "      <td>129.0</td>\n",
       "      <td>179.0</td>\n",
       "      <td>25</td>\n",
       "      <td>24</td>\n",
       "      <td>34</td>\n",
       "      <td>17.0</td>\n",
       "      <td>274</td>\n",
       "      <td>218</td>\n",
       "      <td>4.165930</td>\n",
       "    </tr>\n",
       "    <tr>\n",
       "      <th>8</th>\n",
       "      <td>Snowbasin</td>\n",
       "      <td>Huntsville</td>\n",
       "      <td>Utah</td>\n",
       "      <td>9350</td>\n",
       "      <td>2900</td>\n",
       "      <td>6450</td>\n",
       "      <td>149.0</td>\n",
       "      <td>169.0</td>\n",
       "      <td>9</td>\n",
       "      <td>33</td>\n",
       "      <td>52</td>\n",
       "      <td>6.0</td>\n",
       "      <td>240</td>\n",
       "      <td>215</td>\n",
       "      <td>4.163306</td>\n",
       "    </tr>\n",
       "    <tr>\n",
       "      <th>15</th>\n",
       "      <td>Eldora Mountain</td>\n",
       "      <td>Nederland</td>\n",
       "      <td>Colorado</td>\n",
       "      <td>10600</td>\n",
       "      <td>1400</td>\n",
       "      <td>9200</td>\n",
       "      <td>99.0</td>\n",
       "      <td>99.0</td>\n",
       "      <td>18</td>\n",
       "      <td>48</td>\n",
       "      <td>18</td>\n",
       "      <td>16.0</td>\n",
       "      <td>287</td>\n",
       "      <td>212</td>\n",
       "      <td>4.098580</td>\n",
       "    </tr>\n",
       "  </tbody>\n",
       "</table>\n",
       "</div>"
      ],
      "text/plain": [
       "         ski_resort               city     state  summit  drop  base   \n",
       "5           Big Sky            Big Sky   Montana   11166  4350  7500  \\\n",
       "0         Steamboat  Steamboat Springs  Colorado   10568  3668  6900   \n",
       "16  Copper Mountain    Copper Mountain  Colorado   12313  2738  9712   \n",
       "8         Snowbasin         Huntsville      Utah    9350  2900  6450   \n",
       "15  Eldora Mountain          Nederland  Colorado   10600  1400  9200   \n",
       "\n",
       "    adultWeekdayPrice  adultWeekendPrice  beginner_runs  intermediate_runs   \n",
       "5               152.0              194.0             15                 25  \\\n",
       "0               177.0              192.0             12                 43   \n",
       "16              129.0              179.0             25                 24   \n",
       "8               149.0              169.0              9                 33   \n",
       "15               99.0               99.0             18                 48   \n",
       "\n",
       "    advanced_runs  expert_runs  dec_mean_4_guests  dec_mean_2_guests   \n",
       "5              42         18.0                314                208  \\\n",
       "0              40          5.0                246                189   \n",
       "16             34         17.0                274                218   \n",
       "8              52          6.0                240                215   \n",
       "15             18         16.0                287                212   \n",
       "\n",
       "    predicted_rating  \n",
       "5           4.483927  \n",
       "0           4.273560  \n",
       "16          4.165930  \n",
       "8           4.163306  \n",
       "15          4.098580  "
      ]
     },
     "execution_count": 74,
     "metadata": {},
     "output_type": "execute_result"
    }
   ],
   "source": [
    "recommendations"
   ]
  },
  {
   "cell_type": "code",
   "execution_count": 39,
   "metadata": {},
   "outputs": [],
   "source": [
    "rec_list = recommendations['ski_resort'].to_list()\n",
    "rec_map_df = content_matrix[content_matrix.index.isin(rec_list)]\n",
    "rec_map_df = rec_map_df.reset_index()"
   ]
  },
  {
   "cell_type": "code",
   "execution_count": 40,
   "metadata": {},
   "outputs": [
    {
     "data": {
      "text/html": [
       "<div>\n",
       "<style scoped>\n",
       "    .dataframe tbody tr th:only-of-type {\n",
       "        vertical-align: middle;\n",
       "    }\n",
       "\n",
       "    .dataframe tbody tr th {\n",
       "        vertical-align: top;\n",
       "    }\n",
       "\n",
       "    .dataframe thead th {\n",
       "        text-align: right;\n",
       "    }\n",
       "</style>\n",
       "<table border=\"1\" class=\"dataframe\">\n",
       "  <thead>\n",
       "    <tr style=\"text-align: right;\">\n",
       "      <th></th>\n",
       "      <th>ski_resort</th>\n",
       "      <th>address</th>\n",
       "      <th>city</th>\n",
       "      <th>state</th>\n",
       "      <th>zipcode</th>\n",
       "      <th>summit</th>\n",
       "      <th>drop</th>\n",
       "      <th>base</th>\n",
       "      <th>gondolas_and_trams</th>\n",
       "      <th>fast_eight</th>\n",
       "      <th>...</th>\n",
       "      <th>full_address</th>\n",
       "      <th>latitude</th>\n",
       "      <th>longitude</th>\n",
       "      <th>airport_1</th>\n",
       "      <th>distance_1</th>\n",
       "      <th>airport_2</th>\n",
       "      <th>distance_2</th>\n",
       "      <th>airport_3</th>\n",
       "      <th>distance_3</th>\n",
       "      <th>total_lifts</th>\n",
       "    </tr>\n",
       "  </thead>\n",
       "  <tbody>\n",
       "    <tr>\n",
       "      <th>0</th>\n",
       "      <td>Snowbasin</td>\n",
       "      <td>P.O. Box 460</td>\n",
       "      <td>Huntsville</td>\n",
       "      <td>Utah</td>\n",
       "      <td>84317</td>\n",
       "      <td>9350</td>\n",
       "      <td>2900</td>\n",
       "      <td>6450</td>\n",
       "      <td>3.0</td>\n",
       "      <td>2.0</td>\n",
       "      <td>...</td>\n",
       "      <td>P.O. Box 460, Huntsville, Utah</td>\n",
       "      <td>41.260774</td>\n",
       "      <td>-111.769938</td>\n",
       "      <td>Ogden-Hinckley</td>\n",
       "      <td>21.502312</td>\n",
       "      <td>Brigham City</td>\n",
       "      <td>40.568973</td>\n",
       "      <td>Ruth</td>\n",
       "      <td>977.506101</td>\n",
       "      <td>12.0</td>\n",
       "    </tr>\n",
       "    <tr>\n",
       "      <th>1</th>\n",
       "      <td>Copper Mountain</td>\n",
       "      <td>P.O. Box 3001</td>\n",
       "      <td>Copper Mountain</td>\n",
       "      <td>Colorado</td>\n",
       "      <td>80443</td>\n",
       "      <td>12313</td>\n",
       "      <td>2738</td>\n",
       "      <td>9712</td>\n",
       "      <td>1.0</td>\n",
       "      <td>4.0</td>\n",
       "      <td>...</td>\n",
       "      <td>P.O. Box 3001, Copper Mountain, Colorado</td>\n",
       "      <td>39.501419</td>\n",
       "      <td>-106.151627</td>\n",
       "      <td>Lake County</td>\n",
       "      <td>34.332678</td>\n",
       "      <td>Eagle County Regional</td>\n",
       "      <td>67.510635</td>\n",
       "      <td>Big Sandy</td>\n",
       "      <td>1013.771656</td>\n",
       "      <td>24.0</td>\n",
       "    </tr>\n",
       "    <tr>\n",
       "      <th>2</th>\n",
       "      <td>Steamboat</td>\n",
       "      <td>2305 Mt. Werner Circle</td>\n",
       "      <td>Steamboat Springs</td>\n",
       "      <td>Colorado</td>\n",
       "      <td>80487</td>\n",
       "      <td>10568</td>\n",
       "      <td>3668</td>\n",
       "      <td>6900</td>\n",
       "      <td>2.0</td>\n",
       "      <td>6.0</td>\n",
       "      <td>...</td>\n",
       "      <td>2305 Mt. Werner Circle, Steamboat Springs, Col...</td>\n",
       "      <td>40.457098</td>\n",
       "      <td>-106.804472</td>\n",
       "      <td>Steamboat Springs</td>\n",
       "      <td>8.403405</td>\n",
       "      <td>Yampa Valley</td>\n",
       "      <td>35.054858</td>\n",
       "      <td>Wayne County</td>\n",
       "      <td>2094.926203</td>\n",
       "      <td>21.0</td>\n",
       "    </tr>\n",
       "    <tr>\n",
       "      <th>3</th>\n",
       "      <td>Big Sky</td>\n",
       "      <td>P.O. Box 160001</td>\n",
       "      <td>Big Sky</td>\n",
       "      <td>Montana</td>\n",
       "      <td>59716-0001</td>\n",
       "      <td>11166</td>\n",
       "      <td>4350</td>\n",
       "      <td>7500</td>\n",
       "      <td>1.0</td>\n",
       "      <td>5.0</td>\n",
       "      <td>...</td>\n",
       "      <td>P.O. Box 160001, Big Sky, Montana</td>\n",
       "      <td>45.261781</td>\n",
       "      <td>-111.308024</td>\n",
       "      <td>Ennis - Big Sky</td>\n",
       "      <td>26.679464</td>\n",
       "      <td>Gardiner</td>\n",
       "      <td>49.928602</td>\n",
       "      <td>Gillespie County</td>\n",
       "      <td>1988.972720</td>\n",
       "      <td>35.0</td>\n",
       "    </tr>\n",
       "  </tbody>\n",
       "</table>\n",
       "<p>4 rows × 96 columns</p>\n",
       "</div>"
      ],
      "text/plain": [
       "        ski_resort                 address               city     state   \n",
       "0        Snowbasin            P.O. Box 460         Huntsville      Utah  \\\n",
       "1  Copper Mountain           P.O. Box 3001    Copper Mountain  Colorado   \n",
       "2        Steamboat  2305 Mt. Werner Circle  Steamboat Springs  Colorado   \n",
       "3          Big Sky         P.O. Box 160001            Big Sky   Montana   \n",
       "\n",
       "      zipcode  summit  drop  base  gondolas_and_trams  fast_eight  ...   \n",
       "0       84317    9350  2900  6450                 3.0         2.0  ...  \\\n",
       "1       80443   12313  2738  9712                 1.0         4.0  ...   \n",
       "2       80487   10568  3668  6900                 2.0         6.0  ...   \n",
       "3  59716-0001   11166  4350  7500                 1.0         5.0  ...   \n",
       "\n",
       "                                        full_address   latitude   longitude   \n",
       "0                     P.O. Box 460, Huntsville, Utah  41.260774 -111.769938  \\\n",
       "1           P.O. Box 3001, Copper Mountain, Colorado  39.501419 -106.151627   \n",
       "2  2305 Mt. Werner Circle, Steamboat Springs, Col...  40.457098 -106.804472   \n",
       "3                  P.O. Box 160001, Big Sky, Montana  45.261781 -111.308024   \n",
       "\n",
       "           airport_1  distance_1              airport_2  distance_2   \n",
       "0     Ogden-Hinckley   21.502312           Brigham City   40.568973  \\\n",
       "1        Lake County   34.332678  Eagle County Regional   67.510635   \n",
       "2  Steamboat Springs    8.403405           Yampa Valley   35.054858   \n",
       "3    Ennis - Big Sky   26.679464               Gardiner   49.928602   \n",
       "\n",
       "          airport_3   distance_3 total_lifts  \n",
       "0              Ruth   977.506101        12.0  \n",
       "1         Big Sandy  1013.771656        24.0  \n",
       "2      Wayne County  2094.926203        21.0  \n",
       "3  Gillespie County  1988.972720        35.0  \n",
       "\n",
       "[4 rows x 96 columns]"
      ]
     },
     "execution_count": 40,
     "metadata": {},
     "output_type": "execute_result"
    }
   ],
   "source": [
    "rec_map_df"
   ]
  },
  {
   "cell_type": "code",
   "execution_count": 44,
   "metadata": {},
   "outputs": [
    {
     "name": "stdout",
     "output_type": "stream",
     "text": [
      "<class 'pandas.core.frame.DataFrame'>\n",
      "RangeIndex: 4 entries, 0 to 3\n",
      "Data columns (total 96 columns):\n",
      " #   Column                Non-Null Count  Dtype  \n",
      "---  ------                --------------  -----  \n",
      " 0   ski_resort            4 non-null      object \n",
      " 1   address               4 non-null      object \n",
      " 2   city                  4 non-null      object \n",
      " 3   state                 4 non-null      object \n",
      " 4   zipcode               4 non-null      object \n",
      " 5   summit                4 non-null      int64  \n",
      " 6   drop                  4 non-null      int64  \n",
      " 7   base                  4 non-null      int64  \n",
      " 8   gondolas_and_trams    4 non-null      float64\n",
      " 9   fast_eight            4 non-null      float64\n",
      " 10  high_speed_sixes      4 non-null      float64\n",
      " 11  quad_chairs           4 non-null      float64\n",
      " 12  triple_chairs         4 non-null      float64\n",
      " 13  double_chairs         4 non-null      float64\n",
      " 14  surface_lifts         4 non-null      float64\n",
      " 15  total_runs            4 non-null      float64\n",
      " 16  longest_run           4 non-null      int64  \n",
      " 17  skiable_terrain       4 non-null      int64  \n",
      " 18  snow_making           4 non-null      int64  \n",
      " 19  daysOpenLastYear      4 non-null      object \n",
      " 20  averageSnowfall       4 non-null      int64  \n",
      " 21  projectedOpening      4 non-null      object \n",
      " 22  projectedClosing      4 non-null      object \n",
      " 23  nov_snow              4 non-null      int64  \n",
      " 24  dec_snow              4 non-null      int64  \n",
      " 25  jan_snow              4 non-null      int64  \n",
      " 26  feb_snow              4 non-null      int64  \n",
      " 27  mar_snow              4 non-null      int64  \n",
      " 28  apr_snow              4 non-null      int64  \n",
      " 29  childrenWeekdayPrice  3 non-null      float64\n",
      " 30  childrenWeekendPrice  3 non-null      float64\n",
      " 31  teenagerWeekdayPrice  3 non-null      float64\n",
      " 32  teenagerWeekendPrice  3 non-null      float64\n",
      " 33  adultWeekdayPrice     4 non-null      float64\n",
      " 34  adultWeekendPrice     4 non-null      float64\n",
      " 35  seniorWeekdayPrice    3 non-null      float64\n",
      " 36  seniorWeekendPrice    3 non-null      float64\n",
      " 37  childrenPrice_season  4 non-null      float64\n",
      " 38  teenagerPrice_season  4 non-null      float64\n",
      " 39  adultPrice_season     4 non-null      float64\n",
      " 40  Url                   4 non-null      object \n",
      " 41  beginner_runs         4 non-null      int64  \n",
      " 42  intermediate_runs     4 non-null      int64  \n",
      " 43  advanced_runs         4 non-null      int64  \n",
      " 44  expert_runs           4 non-null      float64\n",
      " 45  night_skiing          4 non-null      int64  \n",
      " 46  epic                  4 non-null      int64  \n",
      " 47  mountain_collective   4 non-null      int64  \n",
      " 48  ikon                  4 non-null      int64  \n",
      " 49  indy                  4 non-null      int64  \n",
      " 50  dec_mean_2_guests     4 non-null      float64\n",
      " 51  dec_min_2_guests      4 non-null      float64\n",
      " 52  dec_max_2_guests      4 non-null      float64\n",
      " 53  jan_mean_2_guests     4 non-null      float64\n",
      " 54  jan_min_2_guests      4 non-null      float64\n",
      " 55  jan_max_2_guests      4 non-null      float64\n",
      " 56  feb_mean_2_guests     4 non-null      float64\n",
      " 57  feb_min_2_guests      4 non-null      float64\n",
      " 58  feb_max_2_guests      4 non-null      float64\n",
      " 59  mar_mean_2_guests     4 non-null      float64\n",
      " 60  mar_min_2_guests      4 non-null      float64\n",
      " 61  mar_max_2_guests      4 non-null      float64\n",
      " 62  apr_mean_2_guests     4 non-null      float64\n",
      " 63  apr_min_2_guests      4 non-null      float64\n",
      " 64  apr_max_2_guests      4 non-null      float64\n",
      " 65  may_mean_2_guests     4 non-null      float64\n",
      " 66  may_min_2_guests      4 non-null      float64\n",
      " 67  may_max_2_guests      4 non-null      float64\n",
      " 68  dec_mean_4_guests     4 non-null      float64\n",
      " 69  dec_min_4_guests      4 non-null      float64\n",
      " 70  dec_max_4_guests      4 non-null      float64\n",
      " 71  jan_mean_4_guests     4 non-null      float64\n",
      " 72  jan_min_4_guests      4 non-null      float64\n",
      " 73  jan_max_4_guests      4 non-null      float64\n",
      " 74  feb_mean_4_guests     4 non-null      float64\n",
      " 75  feb_min_4_guests      4 non-null      float64\n",
      " 76  feb_max_4_guests      4 non-null      float64\n",
      " 77  mar_mean_4_guests     4 non-null      float64\n",
      " 78  mar_min_4_guests      4 non-null      float64\n",
      " 79  mar_max_4_guests      4 non-null      float64\n",
      " 80  apr_mean_4_guests     4 non-null      float64\n",
      " 81  apr_min_4_guests      4 non-null      float64\n",
      " 82  apr_max_4_guests      4 non-null      float64\n",
      " 83  may_mean_4_guests     4 non-null      float64\n",
      " 84  may_min_4_guests      4 non-null      float64\n",
      " 85  may_max_4_guests      4 non-null      float64\n",
      " 86  full_address          4 non-null      object \n",
      " 87  latitude              4 non-null      float64\n",
      " 88  longitude             4 non-null      float64\n",
      " 89  airport_1             4 non-null      object \n",
      " 90  distance_1            4 non-null      float64\n",
      " 91  airport_2             4 non-null      object \n",
      " 92  distance_2            4 non-null      float64\n",
      " 93  airport_3             4 non-null      object \n",
      " 94  distance_3            4 non-null      float64\n",
      " 95  total_lifts           4 non-null      float64\n",
      "dtypes: float64(62), int64(21), object(13)\n",
      "memory usage: 3.1+ KB\n"
     ]
    }
   ],
   "source": [
    "rec_map_df.info()"
   ]
  },
  {
   "cell_type": "code",
   "execution_count": 13,
   "metadata": {},
   "outputs": [
    {
     "data": {
      "application/vnd.plotly.v1+json": {
       "config": {
        "plotlyServerURL": "https://plot.ly"
       },
       "data": [
        {
         "customdata": [
          [
           9050,
           6200,
           2850
          ]
         ],
         "hovertemplate": "<b>%{hovertext}</b><br><br>ski_resort=Palisades Tahoe<br>latitude=%{lat}<br>longitude=%{lon}<br>summit=%{customdata[0]}<br>base=%{customdata[1]}<br>drop=%{customdata[2]}<extra></extra>",
         "hovertext": [
          "Palisades Tahoe"
         ],
         "lat": [
          39.1969804
         ],
         "legendgroup": "Palisades Tahoe",
         "lon": [
          -120.2357055
         ],
         "marker": {
          "color": "#000001"
         },
         "mode": "markers",
         "name": "Palisades Tahoe",
         "showlegend": true,
         "subplot": "mapbox",
         "type": "scattermapbox"
        },
        {
         "customdata": [
          [
           11053,
           7953,
           3100
          ]
         ],
         "hovertemplate": "<b>%{hovertext}</b><br><br>ski_resort=Mammoth Mountain<br>latitude=%{lat}<br>longitude=%{lon}<br>summit=%{customdata[0]}<br>base=%{customdata[1]}<br>drop=%{customdata[2]}<extra></extra>",
         "hovertext": [
          "Mammoth Mountain"
         ],
         "lat": [
          37.648546
         ],
         "legendgroup": "Mammoth Mountain",
         "lon": [
          -118.972079
         ],
         "marker": {
          "color": "#000002"
         },
         "mode": "markers",
         "name": "Mammoth Mountain",
         "showlegend": true,
         "subplot": "mapbox",
         "type": "scattermapbox"
        },
        {
         "customdata": [
          [
           8012,
           7031,
           750
          ]
         ],
         "hovertemplate": "<b>%{hovertext}</b><br><br>ski_resort=Donner Ski Ranch<br>latitude=%{lat}<br>longitude=%{lon}<br>summit=%{customdata[0]}<br>base=%{customdata[1]}<br>drop=%{customdata[2]}<extra></extra>",
         "hovertext": [
          "Donner Ski Ranch"
         ],
         "lat": [
          39.317355600000006
         ],
         "legendgroup": "Donner Ski Ranch",
         "lon": [
          -120.354182
         ],
         "marker": {
          "color": "#000003"
         },
         "mode": "markers",
         "name": "Donner Ski Ranch",
         "showlegend": true,
         "subplot": "mapbox",
         "type": "scattermapbox"
        },
        {
         "customdata": [
          [
           8383,
           6883,
           1500
          ]
         ],
         "hovertemplate": "<b>%{hovertext}</b><br><br>ski_resort=Sugar Bowl<br>latitude=%{lat}<br>longitude=%{lon}<br>summit=%{customdata[0]}<br>base=%{customdata[1]}<br>drop=%{customdata[2]}<extra></extra>",
         "hovertext": [
          "Sugar Bowl"
         ],
         "lat": [
          39.317355600000006
         ],
         "legendgroup": "Sugar Bowl",
         "lon": [
          -120.354182
         ],
         "marker": {
          "color": "#000004"
         },
         "mode": "markers",
         "name": "Sugar Bowl",
         "showlegend": true,
         "subplot": "mapbox",
         "type": "scattermapbox"
        },
        {
         "customdata": [
          [
           9800,
           7800,
           2000
          ]
         ],
         "hovertemplate": "<b>%{hovertext}</b><br><br>ski_resort=Kirkwood<br>latitude=%{lat}<br>longitude=%{lon}<br>summit=%{customdata[0]}<br>base=%{customdata[1]}<br>drop=%{customdata[2]}<extra></extra>",
         "hovertext": [
          "Kirkwood"
         ],
         "lat": [
          38.7023082
         ],
         "legendgroup": "Kirkwood",
         "lon": [
          -120.0722442
         ],
         "marker": {
          "color": "#000005"
         },
         "mode": "markers",
         "name": "Kirkwood",
         "showlegend": true,
         "subplot": "mapbox",
         "type": "scattermapbox"
        }
       ],
       "layout": {
        "legend": {
         "title": {
          "text": "ski_resort"
         },
         "tracegroupgap": 0
        },
        "mapbox": {
         "center": {
          "lat": 38.836509160000006,
          "lon": -119.99767854
         },
         "domain": {
          "x": [
           0,
           1
          ],
          "y": [
           0,
           1
          ]
         },
         "style": "open-street-map",
         "zoom": 8
        },
        "margin": {
         "b": 0,
         "l": 0,
         "r": 0,
         "t": 0
        },
        "template": {
         "data": {
          "candlestick": [
           {
            "decreasing": {
             "line": {
              "color": "#000033"
             }
            },
            "increasing": {
             "line": {
              "color": "#000032"
             }
            },
            "type": "candlestick"
           }
          ],
          "contour": [
           {
            "colorscale": [
             [
              0,
              "#000011"
             ],
             [
              0.1111111111111111,
              "#000012"
             ],
             [
              0.2222222222222222,
              "#000013"
             ],
             [
              0.3333333333333333,
              "#000014"
             ],
             [
              0.4444444444444444,
              "#000015"
             ],
             [
              0.5555555555555556,
              "#000016"
             ],
             [
              0.6666666666666666,
              "#000017"
             ],
             [
              0.7777777777777778,
              "#000018"
             ],
             [
              0.8888888888888888,
              "#000019"
             ],
             [
              1,
              "#000020"
             ]
            ],
            "type": "contour"
           }
          ],
          "contourcarpet": [
           {
            "colorscale": [
             [
              0,
              "#000011"
             ],
             [
              0.1111111111111111,
              "#000012"
             ],
             [
              0.2222222222222222,
              "#000013"
             ],
             [
              0.3333333333333333,
              "#000014"
             ],
             [
              0.4444444444444444,
              "#000015"
             ],
             [
              0.5555555555555556,
              "#000016"
             ],
             [
              0.6666666666666666,
              "#000017"
             ],
             [
              0.7777777777777778,
              "#000018"
             ],
             [
              0.8888888888888888,
              "#000019"
             ],
             [
              1,
              "#000020"
             ]
            ],
            "type": "contourcarpet"
           }
          ],
          "heatmap": [
           {
            "colorscale": [
             [
              0,
              "#000011"
             ],
             [
              0.1111111111111111,
              "#000012"
             ],
             [
              0.2222222222222222,
              "#000013"
             ],
             [
              0.3333333333333333,
              "#000014"
             ],
             [
              0.4444444444444444,
              "#000015"
             ],
             [
              0.5555555555555556,
              "#000016"
             ],
             [
              0.6666666666666666,
              "#000017"
             ],
             [
              0.7777777777777778,
              "#000018"
             ],
             [
              0.8888888888888888,
              "#000019"
             ],
             [
              1,
              "#000020"
             ]
            ],
            "type": "heatmap"
           }
          ],
          "histogram2d": [
           {
            "colorscale": [
             [
              0,
              "#000011"
             ],
             [
              0.1111111111111111,
              "#000012"
             ],
             [
              0.2222222222222222,
              "#000013"
             ],
             [
              0.3333333333333333,
              "#000014"
             ],
             [
              0.4444444444444444,
              "#000015"
             ],
             [
              0.5555555555555556,
              "#000016"
             ],
             [
              0.6666666666666666,
              "#000017"
             ],
             [
              0.7777777777777778,
              "#000018"
             ],
             [
              0.8888888888888888,
              "#000019"
             ],
             [
              1,
              "#000020"
             ]
            ],
            "type": "histogram2d"
           }
          ],
          "icicle": [
           {
            "textfont": {
             "color": "white"
            },
            "type": "icicle"
           }
          ],
          "sankey": [
           {
            "textfont": {
             "color": "#000036"
            },
            "type": "sankey"
           }
          ],
          "scatter": [
           {
            "marker": {
             "line": {
              "width": 0
             }
            },
            "type": "scatter"
           }
          ],
          "table": [
           {
            "cells": {
             "fill": {
              "color": "#000038"
             },
             "font": {
              "color": "#000037"
             },
             "line": {
              "color": "#000039"
             }
            },
            "header": {
             "fill": {
              "color": "#000040"
             },
             "font": {
              "color": "#000036"
             },
             "line": {
              "color": "#000039"
             }
            },
            "type": "table"
           }
          ],
          "waterfall": [
           {
            "connector": {
             "line": {
              "color": "#000036",
              "width": 2
             }
            },
            "decreasing": {
             "marker": {
              "color": "#000033"
             }
            },
            "increasing": {
             "marker": {
              "color": "#000032"
             }
            },
            "totals": {
             "marker": {
              "color": "#000034"
             }
            },
            "type": "waterfall"
           }
          ]
         },
         "layout": {
          "coloraxis": {
           "colorscale": [
            [
             0,
             "#000011"
            ],
            [
             0.1111111111111111,
             "#000012"
            ],
            [
             0.2222222222222222,
             "#000013"
            ],
            [
             0.3333333333333333,
             "#000014"
            ],
            [
             0.4444444444444444,
             "#000015"
            ],
            [
             0.5555555555555556,
             "#000016"
            ],
            [
             0.6666666666666666,
             "#000017"
            ],
            [
             0.7777777777777778,
             "#000018"
            ],
            [
             0.8888888888888888,
             "#000019"
            ],
            [
             1,
             "#000020"
            ]
           ]
          },
          "colorscale": {
           "diverging": [
            [
             0,
             "#000021"
            ],
            [
             0.1,
             "#000022"
            ],
            [
             0.2,
             "#000023"
            ],
            [
             0.3,
             "#000024"
            ],
            [
             0.4,
             "#000025"
            ],
            [
             0.5,
             "#000026"
            ],
            [
             0.6,
             "#000027"
            ],
            [
             0.7,
             "#000028"
            ],
            [
             0.8,
             "#000029"
            ],
            [
             0.9,
             "#000030"
            ],
            [
             1,
             "#000031"
            ]
           ],
           "sequential": [
            [
             0,
             "#000011"
            ],
            [
             0.1111111111111111,
             "#000012"
            ],
            [
             0.2222222222222222,
             "#000013"
            ],
            [
             0.3333333333333333,
             "#000014"
            ],
            [
             0.4444444444444444,
             "#000015"
            ],
            [
             0.5555555555555556,
             "#000016"
            ],
            [
             0.6666666666666666,
             "#000017"
            ],
            [
             0.7777777777777778,
             "#000018"
            ],
            [
             0.8888888888888888,
             "#000019"
            ],
            [
             1,
             "#000020"
            ]
           ],
           "sequentialminus": [
            [
             0,
             "#000011"
            ],
            [
             0.1111111111111111,
             "#000012"
            ],
            [
             0.2222222222222222,
             "#000013"
            ],
            [
             0.3333333333333333,
             "#000014"
            ],
            [
             0.4444444444444444,
             "#000015"
            ],
            [
             0.5555555555555556,
             "#000016"
            ],
            [
             0.6666666666666666,
             "#000017"
            ],
            [
             0.7777777777777778,
             "#000018"
            ],
            [
             0.8888888888888888,
             "#000019"
            ],
            [
             1,
             "#000020"
            ]
           ]
          },
          "colorway": [
           "#000001",
           "#000002",
           "#000003",
           "#000004",
           "#000005",
           "#000006",
           "#000007",
           "#000008",
           "#000009",
           "#000010"
          ]
         }
        }
       }
      },
      "text/html": [
       "<div>                            <div id=\"4ddd2dea-5967-45e8-9e94-5a7dbfb3b51c\" class=\"plotly-graph-div\" style=\"height:525px; width:100%;\"></div>            <script type=\"text/javascript\">                require([\"plotly\"], function(Plotly) {                    window.PLOTLYENV=window.PLOTLYENV || {};                                    if (document.getElementById(\"4ddd2dea-5967-45e8-9e94-5a7dbfb3b51c\")) {                    Plotly.newPlot(                        \"4ddd2dea-5967-45e8-9e94-5a7dbfb3b51c\",                        [{\"customdata\":[[9050,6200,2850]],\"hovertemplate\":\"<b>%{hovertext}</b><br><br>ski_resort=Palisades Tahoe<br>latitude=%{lat}<br>longitude=%{lon}<br>summit=%{customdata[0]}<br>base=%{customdata[1]}<br>drop=%{customdata[2]}<extra></extra>\",\"hovertext\":[\"Palisades Tahoe\"],\"lat\":[39.1969804],\"legendgroup\":\"Palisades Tahoe\",\"lon\":[-120.2357055],\"marker\":{\"color\":\"#000001\"},\"mode\":\"markers\",\"name\":\"Palisades Tahoe\",\"showlegend\":true,\"subplot\":\"mapbox\",\"type\":\"scattermapbox\"},{\"customdata\":[[11053,7953,3100]],\"hovertemplate\":\"<b>%{hovertext}</b><br><br>ski_resort=Mammoth Mountain<br>latitude=%{lat}<br>longitude=%{lon}<br>summit=%{customdata[0]}<br>base=%{customdata[1]}<br>drop=%{customdata[2]}<extra></extra>\",\"hovertext\":[\"Mammoth Mountain\"],\"lat\":[37.648546],\"legendgroup\":\"Mammoth Mountain\",\"lon\":[-118.972079],\"marker\":{\"color\":\"#000002\"},\"mode\":\"markers\",\"name\":\"Mammoth Mountain\",\"showlegend\":true,\"subplot\":\"mapbox\",\"type\":\"scattermapbox\"},{\"customdata\":[[8012,7031,750]],\"hovertemplate\":\"<b>%{hovertext}</b><br><br>ski_resort=Donner Ski Ranch<br>latitude=%{lat}<br>longitude=%{lon}<br>summit=%{customdata[0]}<br>base=%{customdata[1]}<br>drop=%{customdata[2]}<extra></extra>\",\"hovertext\":[\"Donner Ski Ranch\"],\"lat\":[39.317355600000006],\"legendgroup\":\"Donner Ski Ranch\",\"lon\":[-120.354182],\"marker\":{\"color\":\"#000003\"},\"mode\":\"markers\",\"name\":\"Donner Ski Ranch\",\"showlegend\":true,\"subplot\":\"mapbox\",\"type\":\"scattermapbox\"},{\"customdata\":[[8383,6883,1500]],\"hovertemplate\":\"<b>%{hovertext}</b><br><br>ski_resort=Sugar Bowl<br>latitude=%{lat}<br>longitude=%{lon}<br>summit=%{customdata[0]}<br>base=%{customdata[1]}<br>drop=%{customdata[2]}<extra></extra>\",\"hovertext\":[\"Sugar Bowl\"],\"lat\":[39.317355600000006],\"legendgroup\":\"Sugar Bowl\",\"lon\":[-120.354182],\"marker\":{\"color\":\"#000004\"},\"mode\":\"markers\",\"name\":\"Sugar Bowl\",\"showlegend\":true,\"subplot\":\"mapbox\",\"type\":\"scattermapbox\"},{\"customdata\":[[9800,7800,2000]],\"hovertemplate\":\"<b>%{hovertext}</b><br><br>ski_resort=Kirkwood<br>latitude=%{lat}<br>longitude=%{lon}<br>summit=%{customdata[0]}<br>base=%{customdata[1]}<br>drop=%{customdata[2]}<extra></extra>\",\"hovertext\":[\"Kirkwood\"],\"lat\":[38.7023082],\"legendgroup\":\"Kirkwood\",\"lon\":[-120.0722442],\"marker\":{\"color\":\"#000005\"},\"mode\":\"markers\",\"name\":\"Kirkwood\",\"showlegend\":true,\"subplot\":\"mapbox\",\"type\":\"scattermapbox\"}],                        {\"template\":{\"data\":{\"candlestick\":[{\"decreasing\":{\"line\":{\"color\":\"#000033\"}},\"increasing\":{\"line\":{\"color\":\"#000032\"}},\"type\":\"candlestick\"}],\"contourcarpet\":[{\"colorscale\":[[0.0,\"#000011\"],[0.1111111111111111,\"#000012\"],[0.2222222222222222,\"#000013\"],[0.3333333333333333,\"#000014\"],[0.4444444444444444,\"#000015\"],[0.5555555555555556,\"#000016\"],[0.6666666666666666,\"#000017\"],[0.7777777777777778,\"#000018\"],[0.8888888888888888,\"#000019\"],[1.0,\"#000020\"]],\"type\":\"contourcarpet\"}],\"contour\":[{\"colorscale\":[[0.0,\"#000011\"],[0.1111111111111111,\"#000012\"],[0.2222222222222222,\"#000013\"],[0.3333333333333333,\"#000014\"],[0.4444444444444444,\"#000015\"],[0.5555555555555556,\"#000016\"],[0.6666666666666666,\"#000017\"],[0.7777777777777778,\"#000018\"],[0.8888888888888888,\"#000019\"],[1.0,\"#000020\"]],\"type\":\"contour\"}],\"heatmap\":[{\"colorscale\":[[0.0,\"#000011\"],[0.1111111111111111,\"#000012\"],[0.2222222222222222,\"#000013\"],[0.3333333333333333,\"#000014\"],[0.4444444444444444,\"#000015\"],[0.5555555555555556,\"#000016\"],[0.6666666666666666,\"#000017\"],[0.7777777777777778,\"#000018\"],[0.8888888888888888,\"#000019\"],[1.0,\"#000020\"]],\"type\":\"heatmap\"}],\"histogram2d\":[{\"colorscale\":[[0.0,\"#000011\"],[0.1111111111111111,\"#000012\"],[0.2222222222222222,\"#000013\"],[0.3333333333333333,\"#000014\"],[0.4444444444444444,\"#000015\"],[0.5555555555555556,\"#000016\"],[0.6666666666666666,\"#000017\"],[0.7777777777777778,\"#000018\"],[0.8888888888888888,\"#000019\"],[1.0,\"#000020\"]],\"type\":\"histogram2d\"}],\"icicle\":[{\"textfont\":{\"color\":\"white\"},\"type\":\"icicle\"}],\"sankey\":[{\"textfont\":{\"color\":\"#000036\"},\"type\":\"sankey\"}],\"scatter\":[{\"marker\":{\"line\":{\"width\":0}},\"type\":\"scatter\"}],\"table\":[{\"cells\":{\"fill\":{\"color\":\"#000038\"},\"font\":{\"color\":\"#000037\"},\"line\":{\"color\":\"#000039\"}},\"header\":{\"fill\":{\"color\":\"#000040\"},\"font\":{\"color\":\"#000036\"},\"line\":{\"color\":\"#000039\"}},\"type\":\"table\"}],\"waterfall\":[{\"connector\":{\"line\":{\"color\":\"#000036\",\"width\":2}},\"decreasing\":{\"marker\":{\"color\":\"#000033\"}},\"increasing\":{\"marker\":{\"color\":\"#000032\"}},\"totals\":{\"marker\":{\"color\":\"#000034\"}},\"type\":\"waterfall\"}]},\"layout\":{\"coloraxis\":{\"colorscale\":[[0.0,\"#000011\"],[0.1111111111111111,\"#000012\"],[0.2222222222222222,\"#000013\"],[0.3333333333333333,\"#000014\"],[0.4444444444444444,\"#000015\"],[0.5555555555555556,\"#000016\"],[0.6666666666666666,\"#000017\"],[0.7777777777777778,\"#000018\"],[0.8888888888888888,\"#000019\"],[1.0,\"#000020\"]]},\"colorscale\":{\"diverging\":[[0.0,\"#000021\"],[0.1,\"#000022\"],[0.2,\"#000023\"],[0.3,\"#000024\"],[0.4,\"#000025\"],[0.5,\"#000026\"],[0.6,\"#000027\"],[0.7,\"#000028\"],[0.8,\"#000029\"],[0.9,\"#000030\"],[1.0,\"#000031\"]],\"sequential\":[[0.0,\"#000011\"],[0.1111111111111111,\"#000012\"],[0.2222222222222222,\"#000013\"],[0.3333333333333333,\"#000014\"],[0.4444444444444444,\"#000015\"],[0.5555555555555556,\"#000016\"],[0.6666666666666666,\"#000017\"],[0.7777777777777778,\"#000018\"],[0.8888888888888888,\"#000019\"],[1.0,\"#000020\"]],\"sequentialminus\":[[0.0,\"#000011\"],[0.1111111111111111,\"#000012\"],[0.2222222222222222,\"#000013\"],[0.3333333333333333,\"#000014\"],[0.4444444444444444,\"#000015\"],[0.5555555555555556,\"#000016\"],[0.6666666666666666,\"#000017\"],[0.7777777777777778,\"#000018\"],[0.8888888888888888,\"#000019\"],[1.0,\"#000020\"]]},\"colorway\":[\"#000001\",\"#000002\",\"#000003\",\"#000004\",\"#000005\",\"#000006\",\"#000007\",\"#000008\",\"#000009\",\"#000010\"]}},\"mapbox\":{\"domain\":{\"x\":[0.0,1.0],\"y\":[0.0,1.0]},\"center\":{\"lat\":38.836509160000006,\"lon\":-119.99767854},\"zoom\":8,\"style\":\"open-street-map\"},\"legend\":{\"title\":{\"text\":\"ski_resort\"},\"tracegroupgap\":0},\"margin\":{\"t\":0,\"r\":0,\"l\":0,\"b\":0}},                        {\"responsive\": true}                    ).then(function(){\n",
       "                            \n",
       "var gd = document.getElementById('4ddd2dea-5967-45e8-9e94-5a7dbfb3b51c');\n",
       "var x = new MutationObserver(function (mutations, observer) {{\n",
       "        var display = window.getComputedStyle(gd).display;\n",
       "        if (!display || display === 'none') {{\n",
       "            console.log([gd, 'removed!']);\n",
       "            Plotly.purge(gd);\n",
       "            observer.disconnect();\n",
       "        }}\n",
       "}});\n",
       "\n",
       "// Listen for the removal of the full notebook cells\n",
       "var notebookContainer = gd.closest('#notebook-container');\n",
       "if (notebookContainer) {{\n",
       "    x.observe(notebookContainer, {childList: true});\n",
       "}}\n",
       "\n",
       "// Listen for the clearing of the current output cell\n",
       "var outputEl = gd.closest('.output');\n",
       "if (outputEl) {{\n",
       "    x.observe(outputEl, {childList: true});\n",
       "}}\n",
       "\n",
       "                        })                };                });            </script>        </div>"
      ]
     },
     "metadata": {},
     "output_type": "display_data"
    }
   ],
   "source": [
    "fig = px.scatter_mapbox(content_matrix.head(), lat='latitude', lon='longitude', hover_name=\"ski_resort\",\n",
    "                        hover_data=[\"summit\", \"base\", \"drop\"], color=\"ski_resort\")\n",
    "\n",
    "# Update the map layout\n",
    "fig.update_layout(mapbox_style='open-street-map')\n",
    "fig.update_layout(margin={'r': 0, 't': 0, 'l': 0, 'b': 0})\n",
    "\n",
    "# Display the map\n",
    "fig.show()"
   ]
  },
  {
   "cell_type": "code",
   "execution_count": 43,
   "metadata": {},
   "outputs": [
    {
     "ename": "TypeError",
     "evalue": "'PngImageFile' object is not callable",
     "output_type": "error",
     "traceback": [
      "\u001b[0;31m---------------------------------------------------------------------------\u001b[0m",
      "\u001b[0;31mTypeError\u001b[0m                                 Traceback (most recent call last)",
      "Cell \u001b[0;32mIn[43], line 2\u001b[0m\n\u001b[1;32m      1\u001b[0m image \u001b[38;5;241m=\u001b[39m Image\u001b[38;5;241m.\u001b[39mopen(\u001b[38;5;124m'\u001b[39m\u001b[38;5;124mimages/icons/cable-car.png\u001b[39m\u001b[38;5;124m'\u001b[39m)\n\u001b[0;32m----> 2\u001b[0m \u001b[43mimage\u001b[49m\u001b[43m(\u001b[49m\u001b[43mimage\u001b[49m\u001b[43m,\u001b[49m\u001b[43m \u001b[49m\u001b[43mcaption\u001b[49m\u001b[38;5;241;43m=\u001b[39;49m\u001b[38;5;124;43m'\u001b[39;49m\u001b[38;5;124;43mcable-car\u001b[39;49m\u001b[38;5;124;43m'\u001b[39;49m\u001b[43m,\u001b[49m\u001b[43m \u001b[49m\u001b[43mwidth\u001b[49m\u001b[38;5;241;43m=\u001b[39;49m\u001b[38;5;241;43m300\u001b[39;49m\u001b[43m)\u001b[49m\n",
      "\u001b[0;31mTypeError\u001b[0m: 'PngImageFile' object is not callable"
     ]
    }
   ],
   "source": [
    "image = Image.open('images/icons/cable-car.png')\n",
    "image(image, caption='cable-car', width=300)"
   ]
  },
  {
   "cell_type": "code",
   "execution_count": null,
   "metadata": {},
   "outputs": [],
   "source": []
  }
 ],
 "metadata": {
  "kernelspec": {
   "display_name": "streamlit",
   "language": "python",
   "name": "streamlit"
  },
  "language_info": {
   "codemirror_mode": {
    "name": "ipython",
    "version": 3
   },
   "file_extension": ".py",
   "mimetype": "text/x-python",
   "name": "python",
   "nbconvert_exporter": "python",
   "pygments_lexer": "ipython3",
   "version": "3.11.3"
  }
 },
 "nbformat": 4,
 "nbformat_minor": 4
}
