{
 "cells": [
  {
   "cell_type": "markdown",
   "metadata": {},
   "source": [
    "## Google Geocoding API Pull"
   ]
  },
  {
   "cell_type": "markdown",
   "metadata": {},
   "source": [
    "[Google's Geocoding API]([https://developers.google.com/maps/documentation/geocoding/overview]) is a service that accepts a place as an address, latitude and longitude coordinates, or Place ID. It converts the address into latitude and longitude coordinates and a Place ID, or converts latitude and longitude coordinates or a Place ID into an address."
   ]
  },
  {
   "cell_type": "code",
   "execution_count": 29,
   "metadata": {},
   "outputs": [],
   "source": [
    "import pandas as pd\n",
    "import googlemaps\n",
    "import numpy as np\n",
    "\n",
    "from math import cos, asin, sqrt"
   ]
  },
  {
   "cell_type": "markdown",
   "metadata": {},
   "source": [
    "### Importing address file"
   ]
  },
  {
   "cell_type": "code",
   "execution_count": 3,
   "metadata": {},
   "outputs": [],
   "source": [
    "#importing address list from modeling notebook\n",
    "address_df = pd.read_csv(\"cleaned_data_exports/address_for_googlemaps.csv\")"
   ]
  },
  {
   "cell_type": "code",
   "execution_count": 7,
   "metadata": {},
   "outputs": [],
   "source": [
    "address_df.drop(columns=\"Unnamed: 0\", inplace=True)"
   ]
  },
  {
   "cell_type": "code",
   "execution_count": 9,
   "metadata": {},
   "outputs": [
    {
     "name": "stdout",
     "output_type": "stream",
     "text": [
      "<class 'pandas.core.frame.DataFrame'>\n",
      "RangeIndex: 325 entries, 0 to 324\n",
      "Data columns (total 2 columns):\n",
      " #   Column        Non-Null Count  Dtype \n",
      "---  ------        --------------  ----- \n",
      " 0   full_address  325 non-null    object\n",
      " 1   ski_resort    325 non-null    object\n",
      "dtypes: object(2)\n",
      "memory usage: 5.2+ KB\n"
     ]
    }
   ],
   "source": [
    "address_df.info()"
   ]
  },
  {
   "cell_type": "code",
   "execution_count": 11,
   "metadata": {},
   "outputs": [
    {
     "data": {
      "text/html": [
       "<div>\n",
       "<style scoped>\n",
       "    .dataframe tbody tr th:only-of-type {\n",
       "        vertical-align: middle;\n",
       "    }\n",
       "\n",
       "    .dataframe tbody tr th {\n",
       "        vertical-align: top;\n",
       "    }\n",
       "\n",
       "    .dataframe thead th {\n",
       "        text-align: right;\n",
       "    }\n",
       "</style>\n",
       "<table border=\"1\" class=\"dataframe\">\n",
       "  <thead>\n",
       "    <tr style=\"text-align: right;\">\n",
       "      <th></th>\n",
       "      <th>full_address</th>\n",
       "      <th>ski_resort</th>\n",
       "    </tr>\n",
       "  </thead>\n",
       "  <tbody>\n",
       "    <tr>\n",
       "      <th>0</th>\n",
       "      <td>P.O. Box 166, Chewelah, Washington</td>\n",
       "      <td>49 Degrees North</td>\n",
       "    </tr>\n",
       "    <tr>\n",
       "      <th>1</th>\n",
       "      <td>6600 Peller Avenue South, Hastings, Minnesota</td>\n",
       "      <td>Afton Alps</td>\n",
       "    </tr>\n",
       "    <tr>\n",
       "      <th>2</th>\n",
       "      <td>POB 1068, Snoquale Pass, Washington</td>\n",
       "      <td>Alpental</td>\n",
       "    </tr>\n",
       "    <tr>\n",
       "      <th>3</th>\n",
       "      <td>10620 Mayfield, Chesterland, Ohio</td>\n",
       "      <td>Alpine Valley Ohio</td>\n",
       "    </tr>\n",
       "    <tr>\n",
       "      <th>4</th>\n",
       "      <td>P.O. Box 615, East Troy, Wisconsin</td>\n",
       "      <td>Alpine Valley Wisconsin</td>\n",
       "    </tr>\n",
       "  </tbody>\n",
       "</table>\n",
       "</div>"
      ],
      "text/plain": [
       "                                    full_address               ski_resort\n",
       "0             P.O. Box 166, Chewelah, Washington         49 Degrees North\n",
       "1  6600 Peller Avenue South, Hastings, Minnesota               Afton Alps\n",
       "2            POB 1068, Snoquale Pass, Washington                 Alpental\n",
       "3              10620 Mayfield, Chesterland, Ohio       Alpine Valley Ohio\n",
       "4             P.O. Box 615, East Troy, Wisconsin  Alpine Valley Wisconsin"
      ]
     },
     "execution_count": 11,
     "metadata": {},
     "output_type": "execute_result"
    }
   ],
   "source": [
    "address_df.head()"
   ]
  },
  {
   "cell_type": "markdown",
   "metadata": {},
   "source": [
    "### Pulling from API"
   ]
  },
  {
   "cell_type": "code",
   "execution_count": 4,
   "metadata": {},
   "outputs": [],
   "source": [
    "# initialize the client with your API key\n",
    "\n",
    "client_key = \"\"\n",
    "\n",
    "gmaps = googlemaps.Client(key=client_key)"
   ]
  },
  {
   "cell_type": "code",
   "execution_count": 5,
   "metadata": {},
   "outputs": [],
   "source": [
    "lat_list = []\n",
    "long_list = []\n",
    "\n",
    "for address in address_df['full_address']:\n",
    "    # geocoding addresses\n",
    "    geocode_result = gmaps.geocode(address)\n",
    "    \n",
    "    # finding lat and lon\n",
    "    if geocode_result:\n",
    "        lat_list.append(geocode_result[0]['geometry']['location']['lat'])\n",
    "        long_list.append(geocode_result[0]['geometry']['location']['lng'])\n",
    "        \n",
    "        #sanity check of values\n",
    "        print(f\"Address: {address} - Latitude: {lat}, Longitude: {lng}\")\n",
    "    else:\n",
    "        print(f\"No geocode result found for address: {address}\")\n",
    "\n",
    "# saving back to original dataframe\n",
    "address_df['latitude'] = lat_list\n",
    "address_df['longitude'] = long_list"
   ]
  },
  {
   "cell_type": "code",
   "execution_count": 12,
   "metadata": {},
   "outputs": [],
   "source": [
    "#exporting results as .csv\n",
    "#file_path = \"data/mountain_lat_long.csv\" #add file path here\n",
    "#address_df.to_csv(file_path)"
   ]
  },
  {
   "cell_type": "markdown",
   "metadata": {},
   "source": [
    "### Airport Data"
   ]
  },
  {
   "cell_type": "markdown",
   "metadata": {},
   "source": [
    "I will also be including airport information that will be added to the final web application to find the closest airport to each ski resort. \n",
    "\n",
    "This information was found on [kaggle](https://www.kaggle.com/datasets/nancyalaswad90/us-airports). I adapted code from [stack overflow](https://stackoverflow.com/questions/69174417/pandas-find-nearest-lat-long-pair).\n",
    "\n",
    "The haversince formula was used to compute the distance between airport and resort locations. This formula computes the distance between two points on a sphere, and is used in navigation."
   ]
  },
  {
   "cell_type": "code",
   "execution_count": 5,
   "metadata": {},
   "outputs": [],
   "source": [
    "resort_location_df = pd.read_csv(\"data/cleaned_data_exports/mountain_lat_long.csv\")\n",
    "airport_df = pd.read_csv(\"data/airports.csv\")"
   ]
  },
  {
   "cell_type": "code",
   "execution_count": 13,
   "metadata": {},
   "outputs": [],
   "source": [
    "#dropping column\n",
    "resort_location_df.drop(columns=\"Unnamed: 0\", inplace=True)\n",
    "\n",
    "#renaming columns\n",
    "resort_location_df.rename(columns={\"latitude\":\"lat\", \"longitude\": \"long\"}, inplace=True)"
   ]
  },
  {
   "cell_type": "code",
   "execution_count": 163,
   "metadata": {},
   "outputs": [
    {
     "data": {
      "text/html": [
       "<div>\n",
       "<style scoped>\n",
       "    .dataframe tbody tr th:only-of-type {\n",
       "        vertical-align: middle;\n",
       "    }\n",
       "\n",
       "    .dataframe tbody tr th {\n",
       "        vertical-align: top;\n",
       "    }\n",
       "\n",
       "    .dataframe thead th {\n",
       "        text-align: right;\n",
       "    }\n",
       "</style>\n",
       "<table border=\"1\" class=\"dataframe\">\n",
       "  <thead>\n",
       "    <tr style=\"text-align: right;\">\n",
       "      <th></th>\n",
       "      <th>iata</th>\n",
       "      <th>airport</th>\n",
       "      <th>city</th>\n",
       "      <th>state</th>\n",
       "      <th>country</th>\n",
       "      <th>lat</th>\n",
       "      <th>long</th>\n",
       "    </tr>\n",
       "  </thead>\n",
       "  <tbody>\n",
       "    <tr>\n",
       "      <th>0</th>\n",
       "      <td>00M</td>\n",
       "      <td>Thigpen</td>\n",
       "      <td>Bay Springs</td>\n",
       "      <td>MS</td>\n",
       "      <td>USA</td>\n",
       "      <td>31.953765</td>\n",
       "      <td>-89.234505</td>\n",
       "    </tr>\n",
       "    <tr>\n",
       "      <th>1</th>\n",
       "      <td>00R</td>\n",
       "      <td>Livingston Municipal</td>\n",
       "      <td>Livingston</td>\n",
       "      <td>TX</td>\n",
       "      <td>USA</td>\n",
       "      <td>30.685861</td>\n",
       "      <td>-95.017928</td>\n",
       "    </tr>\n",
       "    <tr>\n",
       "      <th>2</th>\n",
       "      <td>00V</td>\n",
       "      <td>Meadow Lake</td>\n",
       "      <td>Colorado Springs</td>\n",
       "      <td>CO</td>\n",
       "      <td>USA</td>\n",
       "      <td>38.945749</td>\n",
       "      <td>-104.569893</td>\n",
       "    </tr>\n",
       "    <tr>\n",
       "      <th>3</th>\n",
       "      <td>01G</td>\n",
       "      <td>Perry-Warsaw</td>\n",
       "      <td>Perry</td>\n",
       "      <td>NY</td>\n",
       "      <td>USA</td>\n",
       "      <td>42.741347</td>\n",
       "      <td>-78.052081</td>\n",
       "    </tr>\n",
       "    <tr>\n",
       "      <th>4</th>\n",
       "      <td>01J</td>\n",
       "      <td>Hilliard Airpark</td>\n",
       "      <td>Hilliard</td>\n",
       "      <td>FL</td>\n",
       "      <td>USA</td>\n",
       "      <td>30.688012</td>\n",
       "      <td>-81.905944</td>\n",
       "    </tr>\n",
       "  </tbody>\n",
       "</table>\n",
       "</div>"
      ],
      "text/plain": [
       "  iata               airport              city state country        lat  \\\n",
       "0  00M              Thigpen        Bay Springs    MS     USA  31.953765   \n",
       "1  00R  Livingston Municipal        Livingston    TX     USA  30.685861   \n",
       "2  00V           Meadow Lake  Colorado Springs    CO     USA  38.945749   \n",
       "3  01G          Perry-Warsaw             Perry    NY     USA  42.741347   \n",
       "4  01J      Hilliard Airpark          Hilliard    FL     USA  30.688012   \n",
       "\n",
       "         long  \n",
       "0  -89.234505  \n",
       "1  -95.017928  \n",
       "2 -104.569893  \n",
       "3  -78.052081  \n",
       "4  -81.905944  "
      ]
     },
     "execution_count": 163,
     "metadata": {},
     "output_type": "execute_result"
    }
   ],
   "source": [
    "airport_df.head()"
   ]
  },
  {
   "cell_type": "markdown",
   "metadata": {},
   "source": [
    "### Defining distance function"
   ]
  },
  {
   "cell_type": "code",
   "execution_count": 11,
   "metadata": {},
   "outputs": [],
   "source": [
    "def distance(lat1, lon1, lat2, lon2):\n",
    "    p = 0.017453292519943295\n",
    "    hav = 0.5 - cos((lat2-lat1)*p)/2 + cos(lat1*p)*cos(lat2*p) * (1-cos((lon2-lon1)*p)) / 2\n",
    "    return 12742 * asin(sqrt(hav))"
   ]
  },
  {
   "cell_type": "markdown",
   "metadata": {},
   "source": [
    "### Finding Closest Airport"
   ]
  },
  {
   "cell_type": "code",
   "execution_count": 67,
   "metadata": {},
   "outputs": [],
   "source": [
    "new_df = pd.DataFrame(columns = [\"Airport\",\"Location\",\"Distance\"])\n",
    "\n",
    "for _, airport_row in closest_airport_df.iterrows():\n",
    "    id1 = airport_row['airport']\n",
    "    lat1 = airport_row['lat']\n",
    "    lon1 = airport_row['long']\n",
    "    \n",
    "    for _, resort_row in resort_location_df.iterrows():\n",
    "        id2 = resort_row['ski_resort']\n",
    "        lat2 = resort_row['lat']\n",
    "        lon2 = resort_row['long']\n",
    "        \n",
    "        dist = distance(lat1, lon1, lat2, lon2)\n",
    "        \n",
    "        new_df = new_df.append({\"Airport\": id1, \"Location\": id2, \"Distance\": dist}, ignore_index=True)\n",
    "\n",
    "# Find the closest airport for each resort\n",
    "closest_airports = new_df.groupby('Location')['Distance'].idxmin()\n",
    "closest_airports_df = new_df.loc[closest_airports]\n",
    "\n",
    "#saving as csv\n",
    "#closest_airports_df.to_csv(\"data/cleaned_data_exports/closest_airports.csv\")"
   ]
  },
  {
   "cell_type": "code",
   "execution_count": 136,
   "metadata": {},
   "outputs": [],
   "source": [
    "closest_airports_df.rename(columns={\"Airport\": \"airport_1\", \"Location\": \"ski_resort\", \"Distance\":\"distance_\"}, inplace=True)"
   ]
  },
  {
   "cell_type": "code",
   "execution_count": 164,
   "metadata": {},
   "outputs": [],
   "source": [
    "#renaming columns\n",
    "closest_airports_df.rename(columns={\"airport_1\":\"airport\"}, inplace=True)"
   ]
  },
  {
   "cell_type": "code",
   "execution_count": 179,
   "metadata": {},
   "outputs": [],
   "source": [
    "#closest_airports_df.to_csv(\"data/cleaned_data_exports/airport_dist_1.csv\")"
   ]
  },
  {
   "cell_type": "code",
   "execution_count": 182,
   "metadata": {},
   "outputs": [],
   "source": [
    "airport_1_df = pd.merge(closest_airports_df, airport_df[['airport','lat', 'long']],on='airport', how='left')"
   ]
  },
  {
   "cell_type": "code",
   "execution_count": 220,
   "metadata": {},
   "outputs": [],
   "source": [
    "airport_1_df.rename(columns={\"lat\":\"latitude\", \"long\":\"longitude\"}, inplace=True)"
   ]
  },
  {
   "cell_type": "code",
   "execution_count": 222,
   "metadata": {},
   "outputs": [],
   "source": [
    "airport_1_df.to_csv(\"data/cleaned_data_exports/airport_1_cleaned.csv\")"
   ]
  },
  {
   "cell_type": "markdown",
   "metadata": {},
   "source": [
    "### Finding 2nd Closest Airport"
   ]
  },
  {
   "cell_type": "code",
   "execution_count": 100,
   "metadata": {},
   "outputs": [],
   "source": [
    "#making a new list for the third airport pull that removes the last airports\n",
    "airport_list = closest_airports_df['Airport'].to_list()\n",
    "\n",
    "#dropping values in list\n",
    "airport_df_2 = airport_df[~airport_df['airport'].isin(airport_list)]"
   ]
  },
  {
   "cell_type": "code",
   "execution_count": 122,
   "metadata": {},
   "outputs": [],
   "source": [
    "new_df_two = pd.DataFrame(columns = [\"airport\",\"ski_resort\",\"distance\"])\n",
    "\n",
    "for _, airport_row in airport_df_2.iterrows():\n",
    "    id1 = airport_row['airport']\n",
    "    lat1 = airport_row['lat']\n",
    "    lon1 = airport_row['long']\n",
    "    \n",
    "    for _, resort_row in resort_location_df.iterrows():\n",
    "        id2 = resort_row['ski_resort']\n",
    "        lat2 = resort_row['lat']\n",
    "        lon2 = resort_row['long']\n",
    "        \n",
    "        dist = distance(lat1, lon1, lat2, lon2)\n",
    "        \n",
    "        new_df_two = new_df_two.append({\"airport\": id1, \"ski_resort\": id2, \"distance\": dist}, ignore_index=True)\n",
    "\n",
    "# Find the closest airport for each resort\n",
    "closest_airports_two = new_df_two.groupby('ski_resort')['distance'].idxmin()\n",
    "closest_airports_df_two = new_df_two.loc[closest_airports_two]"
   ]
  },
  {
   "cell_type": "code",
   "execution_count": 183,
   "metadata": {},
   "outputs": [],
   "source": [
    "#renaming columns\n",
    "closest_airports_df_two.rename(columns={\"airport_2\": \"airport\"}, inplace=True)"
   ]
  },
  {
   "cell_type": "code",
   "execution_count": 185,
   "metadata": {},
   "outputs": [],
   "source": [
    "airport_2_df = pd.merge(closest_airports_df_two, airport_df[['airport','lat', 'long']],on='airport', how='left')"
   ]
  },
  {
   "cell_type": "code",
   "execution_count": 213,
   "metadata": {},
   "outputs": [],
   "source": [
    "airport_2_df.rename(columns={\"distance_2\": \"distance\"}, inplace=True)"
   ]
  },
  {
   "cell_type": "code",
   "execution_count": 209,
   "metadata": {},
   "outputs": [],
   "source": [
    "airport_2_df.rename(columns={\"lat_2\":\"latitude\", \"long_2\":\"longitude\"}, inplace=True)"
   ]
  },
  {
   "cell_type": "code",
   "execution_count": 215,
   "metadata": {},
   "outputs": [],
   "source": [
    "airport_2_df.to_csv(\"data/cleaned_data_exports/airport_2_cleaned.csv\")"
   ]
  },
  {
   "cell_type": "code",
   "execution_count": 180,
   "metadata": {},
   "outputs": [],
   "source": [
    "closest_airports_df_two.to_csv(\"data/cleaned_data_exports/airport_dist_2.csv\")"
   ]
  },
  {
   "cell_type": "markdown",
   "metadata": {},
   "source": [
    "### Finding 3rd Closest Airport"
   ]
  },
  {
   "cell_type": "code",
   "execution_count": 125,
   "metadata": {},
   "outputs": [],
   "source": [
    "#making a new list for the third airport pull that removes the last airports\n",
    "airport_list_3 = closest_airports_df_two['airport'].to_list()\n",
    "\n",
    "#dropping values in list for new df\n",
    "airport_df_3 = airport_df_2[~airport_df_2['airport'].isin(airport_list_3)]"
   ]
  },
  {
   "cell_type": "code",
   "execution_count": 208,
   "metadata": {},
   "outputs": [
    {
     "data": {
      "text/html": [
       "<div>\n",
       "<style scoped>\n",
       "    .dataframe tbody tr th:only-of-type {\n",
       "        vertical-align: middle;\n",
       "    }\n",
       "\n",
       "    .dataframe tbody tr th {\n",
       "        vertical-align: top;\n",
       "    }\n",
       "\n",
       "    .dataframe thead th {\n",
       "        text-align: right;\n",
       "    }\n",
       "</style>\n",
       "<table border=\"1\" class=\"dataframe\">\n",
       "  <thead>\n",
       "    <tr style=\"text-align: right;\">\n",
       "      <th></th>\n",
       "      <th>iata</th>\n",
       "      <th>airport</th>\n",
       "      <th>city</th>\n",
       "      <th>state</th>\n",
       "      <th>country</th>\n",
       "      <th>lat</th>\n",
       "      <th>long</th>\n",
       "    </tr>\n",
       "  </thead>\n",
       "  <tbody>\n",
       "    <tr>\n",
       "      <th>0</th>\n",
       "      <td>00M</td>\n",
       "      <td>Thigpen</td>\n",
       "      <td>Bay Springs</td>\n",
       "      <td>MS</td>\n",
       "      <td>USA</td>\n",
       "      <td>31.953765</td>\n",
       "      <td>-89.234505</td>\n",
       "    </tr>\n",
       "    <tr>\n",
       "      <th>1</th>\n",
       "      <td>00R</td>\n",
       "      <td>Livingston Municipal</td>\n",
       "      <td>Livingston</td>\n",
       "      <td>TX</td>\n",
       "      <td>USA</td>\n",
       "      <td>30.685861</td>\n",
       "      <td>-95.017928</td>\n",
       "    </tr>\n",
       "    <tr>\n",
       "      <th>2</th>\n",
       "      <td>00V</td>\n",
       "      <td>Meadow Lake</td>\n",
       "      <td>Colorado Springs</td>\n",
       "      <td>CO</td>\n",
       "      <td>USA</td>\n",
       "      <td>38.945749</td>\n",
       "      <td>-104.569893</td>\n",
       "    </tr>\n",
       "    <tr>\n",
       "      <th>3</th>\n",
       "      <td>01G</td>\n",
       "      <td>Perry-Warsaw</td>\n",
       "      <td>Perry</td>\n",
       "      <td>NY</td>\n",
       "      <td>USA</td>\n",
       "      <td>42.741347</td>\n",
       "      <td>-78.052081</td>\n",
       "    </tr>\n",
       "    <tr>\n",
       "      <th>4</th>\n",
       "      <td>01J</td>\n",
       "      <td>Hilliard Airpark</td>\n",
       "      <td>Hilliard</td>\n",
       "      <td>FL</td>\n",
       "      <td>USA</td>\n",
       "      <td>30.688012</td>\n",
       "      <td>-81.905944</td>\n",
       "    </tr>\n",
       "    <tr>\n",
       "      <th>...</th>\n",
       "      <td>...</td>\n",
       "      <td>...</td>\n",
       "      <td>...</td>\n",
       "      <td>...</td>\n",
       "      <td>...</td>\n",
       "      <td>...</td>\n",
       "      <td>...</td>\n",
       "    </tr>\n",
       "    <tr>\n",
       "      <th>3374</th>\n",
       "      <td>ZUN</td>\n",
       "      <td>Black Rock</td>\n",
       "      <td>Zuni</td>\n",
       "      <td>NM</td>\n",
       "      <td>USA</td>\n",
       "      <td>35.083227</td>\n",
       "      <td>-108.791777</td>\n",
       "    </tr>\n",
       "    <tr>\n",
       "      <th>3375</th>\n",
       "      <td>ZZV</td>\n",
       "      <td>Zanesville Municipal</td>\n",
       "      <td>Zanesville</td>\n",
       "      <td>OH</td>\n",
       "      <td>USA</td>\n",
       "      <td>39.944458</td>\n",
       "      <td>-81.892105</td>\n",
       "    </tr>\n",
       "    <tr>\n",
       "      <th>3376</th>\n",
       "      <td>Z55</td>\n",
       "      <td>Lake Louise</td>\n",
       "      <td>Lake Louise</td>\n",
       "      <td>AK</td>\n",
       "      <td>USA</td>\n",
       "      <td>62.293689</td>\n",
       "      <td>-146.579422</td>\n",
       "    </tr>\n",
       "    <tr>\n",
       "      <th>3377</th>\n",
       "      <td>Z73</td>\n",
       "      <td>Nelson Lagoon</td>\n",
       "      <td>Nelson Lagoon</td>\n",
       "      <td>AK</td>\n",
       "      <td>USA</td>\n",
       "      <td>56.007536</td>\n",
       "      <td>-161.160367</td>\n",
       "    </tr>\n",
       "    <tr>\n",
       "      <th>3378</th>\n",
       "      <td>Z84</td>\n",
       "      <td>Clear</td>\n",
       "      <td>Clear A.F.B.</td>\n",
       "      <td>AK</td>\n",
       "      <td>USA</td>\n",
       "      <td>64.301204</td>\n",
       "      <td>-149.120144</td>\n",
       "    </tr>\n",
       "  </tbody>\n",
       "</table>\n",
       "<p>2892 rows × 7 columns</p>\n",
       "</div>"
      ],
      "text/plain": [
       "     iata               airport              city state country        lat  \\\n",
       "0     00M              Thigpen        Bay Springs    MS     USA  31.953765   \n",
       "1     00R  Livingston Municipal        Livingston    TX     USA  30.685861   \n",
       "2     00V           Meadow Lake  Colorado Springs    CO     USA  38.945749   \n",
       "3     01G          Perry-Warsaw             Perry    NY     USA  42.741347   \n",
       "4     01J      Hilliard Airpark          Hilliard    FL     USA  30.688012   \n",
       "...   ...                   ...               ...   ...     ...        ...   \n",
       "3374  ZUN            Black Rock              Zuni    NM     USA  35.083227   \n",
       "3375  ZZV  Zanesville Municipal        Zanesville    OH     USA  39.944458   \n",
       "3376  Z55           Lake Louise       Lake Louise    AK     USA  62.293689   \n",
       "3377  Z73         Nelson Lagoon     Nelson Lagoon    AK     USA  56.007536   \n",
       "3378  Z84                 Clear      Clear A.F.B.    AK     USA  64.301204   \n",
       "\n",
       "            long  \n",
       "0     -89.234505  \n",
       "1     -95.017928  \n",
       "2    -104.569893  \n",
       "3     -78.052081  \n",
       "4     -81.905944  \n",
       "...          ...  \n",
       "3374 -108.791777  \n",
       "3375  -81.892105  \n",
       "3376 -146.579422  \n",
       "3377 -161.160367  \n",
       "3378 -149.120144  \n",
       "\n",
       "[2892 rows x 7 columns]"
      ]
     },
     "execution_count": 208,
     "metadata": {},
     "output_type": "execute_result"
    }
   ],
   "source": [
    "airport_df_3"
   ]
  },
  {
   "cell_type": "code",
   "execution_count": 128,
   "metadata": {},
   "outputs": [],
   "source": [
    "new_df_three = pd.DataFrame(columns = [\"airport_3\",\"ski_resort\",\"distance\"])\n",
    "\n",
    "for _, airport_row in airport_df_3.iterrows():\n",
    "    id1 = airport_row['airport']\n",
    "    lat1 = airport_row['lat']\n",
    "    lon1 = airport_row['long']\n",
    "    \n",
    "    for _, resort_row in resort_location_df.iterrows():\n",
    "        id2 = resort_row['ski_resort']\n",
    "        lat2 = resort_row['lat']\n",
    "        lon2 = resort_row['long']\n",
    "        \n",
    "        dist = distance(lat1, lon1, lat2, lon2)\n",
    "        \n",
    "        new_df_three = new_df_three.append({\"airport_3\": id1, \"ski_resort\": id2, \"distance\": dist}, ignore_index=True)\n",
    "\n",
    "# Find the closest airport for each resort\n",
    "closest_airports_three = new_df_three.groupby('ski_resort')['distance'].idxmin()\n",
    "closest_airports_df_three = new_df_two.loc[closest_airports_three]"
   ]
  },
  {
   "cell_type": "code",
   "execution_count": 189,
   "metadata": {},
   "outputs": [],
   "source": [
    "#renaming columns for merging\n",
    "closest_airports_df_three.rename(columns={\"airport_3\":\"airport\"}, inplace=True)"
   ]
  },
  {
   "cell_type": "code",
   "execution_count": 190,
   "metadata": {},
   "outputs": [],
   "source": [
    "airport_3_df = pd.merge(closest_airports_df_three, airport_df[['airport','lat', 'long']],on='airport', how='left')"
   ]
  },
  {
   "cell_type": "code",
   "execution_count": 191,
   "metadata": {},
   "outputs": [],
   "source": [
    "airport_3_df.rename(columns={\"airport\":\"airport_3\"}, inplace=True)"
   ]
  },
  {
   "cell_type": "code",
   "execution_count": 195,
   "metadata": {},
   "outputs": [],
   "source": [
    "airport_3_df.rename(columns={\"lat\":\"lat_3\", \"long\":\"long_3\"}, inplace=True)"
   ]
  },
  {
   "cell_type": "code",
   "execution_count": 181,
   "metadata": {},
   "outputs": [],
   "source": [
    "#closest_airports_df_three.to_csv(\"data/cleaned_data_exports/airport_dist_3.csv\")"
   ]
  },
  {
   "cell_type": "markdown",
   "metadata": {},
   "source": [
    "### Merging dataframes and exporting csv"
   ]
  },
  {
   "cell_type": "code",
   "execution_count": 197,
   "metadata": {},
   "outputs": [],
   "source": [
    "#merging dataframes on ski resort\n",
    "final_airport_df = pd.merge(airport_1_df, airport_2_df, on='ski_resort')\n",
    "\n",
    "final_airport_df = pd.merge(final_airport_df, airport_3_df, on='ski_resort')"
   ]
  },
  {
   "cell_type": "code",
   "execution_count": 199,
   "metadata": {},
   "outputs": [],
   "source": [
    "# shift column 'C' to first position\n",
    "first_column = final_airport_df.pop('ski_resort')\n",
    "  \n",
    "# insert column using insert(position,column_name,first_column) function\n",
    "final_airport_df.insert(0, 'ski_resort', first_column)\n",
    "\n",
    "#saving to csv\n",
    "final_airport_df.to_csv(\"data/cleaned_data_exports/closest_airports.csv\")"
   ]
  },
  {
   "cell_type": "code",
   "execution_count": 201,
   "metadata": {},
   "outputs": [],
   "source": [
    "final_airport_df.to_csv(\"data/cleaned_data_exports/closest_airports.csv\")"
   ]
  },
  {
   "cell_type": "code",
   "execution_count": 207,
   "metadata": {},
   "outputs": [
    {
     "data": {
      "text/html": [
       "<div>\n",
       "<style scoped>\n",
       "    .dataframe tbody tr th:only-of-type {\n",
       "        vertical-align: middle;\n",
       "    }\n",
       "\n",
       "    .dataframe tbody tr th {\n",
       "        vertical-align: top;\n",
       "    }\n",
       "\n",
       "    .dataframe thead th {\n",
       "        text-align: right;\n",
       "    }\n",
       "</style>\n",
       "<table border=\"1\" class=\"dataframe\">\n",
       "  <thead>\n",
       "    <tr style=\"text-align: right;\">\n",
       "      <th></th>\n",
       "      <th>ski_resort</th>\n",
       "      <th>airport_1</th>\n",
       "      <th>distance_1</th>\n",
       "      <th>lat</th>\n",
       "      <th>long</th>\n",
       "      <th>airport_2</th>\n",
       "      <th>distance_2</th>\n",
       "      <th>lat_2</th>\n",
       "      <th>long_2</th>\n",
       "      <th>airport_3</th>\n",
       "      <th>distance_3</th>\n",
       "      <th>lat_3</th>\n",
       "      <th>long_3</th>\n",
       "    </tr>\n",
       "  </thead>\n",
       "  <tbody>\n",
       "    <tr>\n",
       "      <th>135</th>\n",
       "      <td>Heavenly Mountain</td>\n",
       "      <td>Lake Tahoe</td>\n",
       "      <td>9.002929</td>\n",
       "      <td>38.893882</td>\n",
       "      <td>-119.995335</td>\n",
       "      <td>Minden-Tahoe</td>\n",
       "      <td>16.879594</td>\n",
       "      <td>39.000309</td>\n",
       "      <td>-119.750806</td>\n",
       "      <td>Mojave</td>\n",
       "      <td>462.096824</td>\n",
       "      <td>35.059365</td>\n",
       "      <td>-118.151856</td>\n",
       "    </tr>\n",
       "  </tbody>\n",
       "</table>\n",
       "</div>"
      ],
      "text/plain": [
       "            ski_resort   airport_1  distance_1        lat        long  \\\n",
       "135  Heavenly Mountain  Lake Tahoe    9.002929  38.893882 -119.995335   \n",
       "\n",
       "        airport_2  distance_2      lat_2      long_2 airport_3  distance_3  \\\n",
       "135  Minden-Tahoe   16.879594  39.000309 -119.750806    Mojave  462.096824   \n",
       "\n",
       "         lat_3      long_3  \n",
       "135  35.059365 -118.151856  "
      ]
     },
     "execution_count": 207,
     "metadata": {},
     "output_type": "execute_result"
    }
   ],
   "source": [
    "final_airport_df.loc[final_airport_df['ski_resort'] == \"Heavenly Mountain\"]"
   ]
  },
  {
   "cell_type": "code",
   "execution_count": 161,
   "metadata": {},
   "outputs": [
    {
     "name": "stdout",
     "output_type": "stream",
     "text": [
      "<class 'pandas.core.frame.DataFrame'>\n",
      "Int64Index: 332 entries, 0 to 331\n",
      "Data columns (total 7 columns):\n",
      " #   Column      Non-Null Count  Dtype  \n",
      "---  ------      --------------  -----  \n",
      " 0   ski_resort  332 non-null    object \n",
      " 1   airport_1   332 non-null    object \n",
      " 2   distance_1  332 non-null    float64\n",
      " 3   airport_2   332 non-null    object \n",
      " 4   distance_2  332 non-null    float64\n",
      " 5   airport_3   332 non-null    object \n",
      " 6   distance_3  332 non-null    float64\n",
      "dtypes: float64(3), object(4)\n",
      "memory usage: 20.8+ KB\n"
     ]
    }
   ],
   "source": [
    "pd.merge(final_airport_df"
   ]
  },
  {
   "cell_type": "code",
   "execution_count": null,
   "metadata": {},
   "outputs": [],
   "source": []
  }
 ],
 "metadata": {
  "kernelspec": {
   "display_name": "Python (learn-env)",
   "language": "python",
   "name": "learn-env"
  },
  "language_info": {
   "codemirror_mode": {
    "name": "ipython",
    "version": 3
   },
   "file_extension": ".py",
   "mimetype": "text/x-python",
   "name": "python",
   "nbconvert_exporter": "python",
   "pygments_lexer": "ipython3",
   "version": "3.8.5"
  }
 },
 "nbformat": 4,
 "nbformat_minor": 4
}
