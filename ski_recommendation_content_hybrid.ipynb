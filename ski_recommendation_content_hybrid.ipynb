{
 "cells": [
  {
   "cell_type": "markdown",
   "metadata": {},
   "source": [
    "# Avant Ski - Content Based System"
   ]
  },
  {
   "cell_type": "markdown",
   "metadata": {},
   "source": [
    "by: Stephanie Ciaccia"
   ]
  },
  {
   "cell_type": "markdown",
   "metadata": {},
   "source": [
    "# Overview\n",
    "\n",
    "Skiing holds a prominent place for those seeking winter recreational activities in the United States. With its stunning mountain ranges and diverse terrain, the country boasts numerous ski resorts that cater to all skill levels, from beginners to seasoned professionals. Skiing offers a unique blend of adventure, physical activity, and natural beauty, making it a popular choice for winter enthusiasts seeking both relaxation and excitement.\n",
    "\n",
    "The ski market in the United States is thriving, contributing significantly to the economy. According to the [National Ski Areas Association (NSAA)](chrome-extension://efaidnbmnnnibpcajpcglclefindmkaj/https://nsaa.org/webdocs/Media_Public/IndustryStats/Historical_Skier_Days_1979_2022.pdf), approximately 60.7 million skiers and snowboarders visited 473 ski resorts in the 2021-2022 winter season."
   ]
  },
  {
   "cell_type": "markdown",
   "metadata": {},
   "source": [
    "# Business Problem \n",
    "Skiing, an exhilarating winter sport cherished by many, often involves time-consuming and daunting trip planning. The sheer abundance of ski resorts available makes it overwhelming to choose the ideal destination, and existing ski websites lack the necessary tools to filter options based on individual preferences.\n",
    "\n",
    "To address these challenges, I'm developing Avant Ski, a ski resort recommendation app. Avant Ski simplifies the ski resort selection process by leveraging data and user preferences. With dynamic filtering features, users can personalize their search based on budget, location, amenities, and skill level. By bridging the gap between ski enthusiasts and their dream destinations, Avant Ski makes skiing accessible to a wider audience, empowering them to plan unforgettable ski trips with confidence.\n",
    "\n",
    "Since data plays a crucial role in this application, I plan to showcase the app to representatives from different ski resorts across the USA at the National Ski Area Association Winter Confernce. This presentation aims to foster partnerships and encourage resort feature sharing between Avant Ski and these resorts once the app is launched."
   ]
  },
  {
   "cell_type": "markdown",
   "metadata": {},
   "source": [
    "# Data Understading"
   ]
  },
  {
   "cell_type": "code",
   "execution_count": 1,
   "metadata": {},
   "outputs": [],
   "source": [
    "import pandas as pd\n",
    "import numpy as np\n",
    "import math\n",
    "from datetime import datetime\n",
    "import datetime\n",
    "from scipy import stats\n",
    "\n",
    "import matplotlib.pyplot as plt\n",
    "import seaborn as sns\n",
    "import plotly.graph_objects as go\n",
    "%matplotlib inline\n",
    "import plotly\n",
    "import plotly.express as px\n",
    "import plotly.io as pio\n",
    "from matplotlib.ticker import StrMethodFormatter\n",
    "\n",
    "from collections import Counter\n",
    "from nltk.corpus import stopwords\n",
    "\n",
    "from IPython.display import display\n",
    "\n",
    "from sklearn.metrics.pairwise import cosine_similarity\n",
    "from sklearn.preprocessing import MinMaxScaler\n",
    "from sklearn.preprocessing import StandardScaler\n",
    "from sklearn.preprocessing import OneHotEncoder\n",
    "from sklearn.neighbors import NearestNeighbors\n",
    "\n",
    "from surprise import SVDpp, SVD\n",
    "from surprise import accuracy\n",
    "from surprise import Dataset\n",
    "from surprise import Reader\n",
    "from surprise.model_selection import GridSearchCV, cross_validate, train_test_split\n",
    "\n",
    "import glob\n",
    "import os"
   ]
  },
  {
   "cell_type": "code",
   "execution_count": 2,
   "metadata": {},
   "outputs": [],
   "source": [
    "def print_full(x):\n",
    "    pd.set_option('display.max_rows', len(x))\n",
    "    print(x)\n",
    "    pd.reset_option('display.max_rows')"
   ]
  },
  {
   "cell_type": "markdown",
   "metadata": {},
   "source": [
    "## Importing Data\n",
    "### Data Source #1 - Final Feature Data\n",
    "Importing main ski resort and features dataframe that I scraped and cleaned from OnTheSnow in cleaning notebook."
   ]
  },
  {
   "cell_type": "code",
   "execution_count": 3,
   "metadata": {},
   "outputs": [],
   "source": [
    "content_df = pd.read_csv(\"data/cleaned_data_exports/scraped_feature_df.csv\")"
   ]
  },
  {
   "cell_type": "code",
   "execution_count": 4,
   "metadata": {},
   "outputs": [
    {
     "name": "stdout",
     "output_type": "stream",
     "text": [
      "<class 'pandas.core.frame.DataFrame'>\n",
      "RangeIndex: 330 entries, 0 to 329\n",
      "Columns: 103 entries, Unnamed: 0 to total_lifts\n",
      "dtypes: float64(21), int64(69), object(13)\n",
      "memory usage: 265.7+ KB\n"
     ]
    }
   ],
   "source": [
    "content_df.info()"
   ]
  },
  {
   "cell_type": "code",
   "execution_count": 5,
   "metadata": {},
   "outputs": [
    {
     "data": {
      "text/html": [
       "<div>\n",
       "<style scoped>\n",
       "    .dataframe tbody tr th:only-of-type {\n",
       "        vertical-align: middle;\n",
       "    }\n",
       "\n",
       "    .dataframe tbody tr th {\n",
       "        vertical-align: top;\n",
       "    }\n",
       "\n",
       "    .dataframe thead th {\n",
       "        text-align: right;\n",
       "    }\n",
       "</style>\n",
       "<table border=\"1\" class=\"dataframe\">\n",
       "  <thead>\n",
       "    <tr style=\"text-align: right;\">\n",
       "      <th></th>\n",
       "      <th>Unnamed: 0</th>\n",
       "      <th>ski_resort</th>\n",
       "      <th>address</th>\n",
       "      <th>city</th>\n",
       "      <th>state</th>\n",
       "      <th>zipcode</th>\n",
       "      <th>summit</th>\n",
       "      <th>drop</th>\n",
       "      <th>base</th>\n",
       "      <th>gondolas_and_trams</th>\n",
       "      <th>...</th>\n",
       "      <th>long</th>\n",
       "      <th>airport_2</th>\n",
       "      <th>distance_2</th>\n",
       "      <th>lat_2</th>\n",
       "      <th>long_2</th>\n",
       "      <th>airport_3</th>\n",
       "      <th>distance_3</th>\n",
       "      <th>lat_3</th>\n",
       "      <th>long_3</th>\n",
       "      <th>total_lifts</th>\n",
       "    </tr>\n",
       "  </thead>\n",
       "  <tbody>\n",
       "    <tr>\n",
       "      <th>0</th>\n",
       "      <td>0</td>\n",
       "      <td>Palisades Tahoe</td>\n",
       "      <td>PO Box 2007</td>\n",
       "      <td>Olympic Valley</td>\n",
       "      <td>California</td>\n",
       "      <td>96146</td>\n",
       "      <td>9050</td>\n",
       "      <td>2850</td>\n",
       "      <td>6200</td>\n",
       "      <td>3.0</td>\n",
       "      <td>...</td>\n",
       "      <td>-120.139563</td>\n",
       "      <td>Minden-Tahoe</td>\n",
       "      <td>47</td>\n",
       "      <td>39.000309</td>\n",
       "      <td>-119.750806</td>\n",
       "      <td>Greenville Muni</td>\n",
       "      <td>3357</td>\n",
       "      <td>41.446832</td>\n",
       "      <td>-80.391262</td>\n",
       "      <td>36</td>\n",
       "    </tr>\n",
       "    <tr>\n",
       "      <th>1</th>\n",
       "      <td>1</td>\n",
       "      <td>Mammoth Mountain</td>\n",
       "      <td>P.O. Box 24</td>\n",
       "      <td>Mammoth Mountain Lakes</td>\n",
       "      <td>California</td>\n",
       "      <td>93546</td>\n",
       "      <td>11053</td>\n",
       "      <td>3100</td>\n",
       "      <td>7953</td>\n",
       "      <td>3.0</td>\n",
       "      <td>...</td>\n",
       "      <td>-118.837772</td>\n",
       "      <td>Bryant</td>\n",
       "      <td>71</td>\n",
       "      <td>38.262419</td>\n",
       "      <td>-119.225709</td>\n",
       "      <td>Grand Rapids-Itasca County</td>\n",
       "      <td>2330</td>\n",
       "      <td>47.211103</td>\n",
       "      <td>-93.509845</td>\n",
       "      <td>25</td>\n",
       "    </tr>\n",
       "    <tr>\n",
       "      <th>2</th>\n",
       "      <td>2</td>\n",
       "      <td>Donner Ski Ranch</td>\n",
       "      <td>P.O. Box 66</td>\n",
       "      <td>Norden</td>\n",
       "      <td>California</td>\n",
       "      <td>95724</td>\n",
       "      <td>8012</td>\n",
       "      <td>750</td>\n",
       "      <td>7031</td>\n",
       "      <td>0.0</td>\n",
       "      <td>...</td>\n",
       "      <td>-120.139563</td>\n",
       "      <td>Reno/Tahoe International</td>\n",
       "      <td>54</td>\n",
       "      <td>39.498576</td>\n",
       "      <td>-119.768065</td>\n",
       "      <td>Mapleton Municipal</td>\n",
       "      <td>2085</td>\n",
       "      <td>42.178295</td>\n",
       "      <td>-95.793645</td>\n",
       "      <td>8</td>\n",
       "    </tr>\n",
       "    <tr>\n",
       "      <th>3</th>\n",
       "      <td>3</td>\n",
       "      <td>Sugar Bowl</td>\n",
       "      <td>P.O. Box 5</td>\n",
       "      <td>Norden</td>\n",
       "      <td>California</td>\n",
       "      <td>95724</td>\n",
       "      <td>8383</td>\n",
       "      <td>1500</td>\n",
       "      <td>6883</td>\n",
       "      <td>1.0</td>\n",
       "      <td>...</td>\n",
       "      <td>-120.139563</td>\n",
       "      <td>Reno/Tahoe International</td>\n",
       "      <td>54</td>\n",
       "      <td>39.498576</td>\n",
       "      <td>-119.768065</td>\n",
       "      <td>Mapleton Municipal</td>\n",
       "      <td>2085</td>\n",
       "      <td>42.178295</td>\n",
       "      <td>-95.793645</td>\n",
       "      <td>12</td>\n",
       "    </tr>\n",
       "    <tr>\n",
       "      <th>4</th>\n",
       "      <td>4</td>\n",
       "      <td>Kirkwood</td>\n",
       "      <td>PO Box 1</td>\n",
       "      <td>Kirkwood</td>\n",
       "      <td>California</td>\n",
       "      <td>95646</td>\n",
       "      <td>9800</td>\n",
       "      <td>2000</td>\n",
       "      <td>7800</td>\n",
       "      <td>0.0</td>\n",
       "      <td>...</td>\n",
       "      <td>-119.995335</td>\n",
       "      <td>Minden-Tahoe</td>\n",
       "      <td>43</td>\n",
       "      <td>39.000309</td>\n",
       "      <td>-119.750806</td>\n",
       "      <td>Nogales International</td>\n",
       "      <td>1165</td>\n",
       "      <td>31.417722</td>\n",
       "      <td>-110.847889</td>\n",
       "      <td>13</td>\n",
       "    </tr>\n",
       "  </tbody>\n",
       "</table>\n",
       "<p>5 rows × 103 columns</p>\n",
       "</div>"
      ],
      "text/plain": [
       "   Unnamed: 0        ski_resort      address                    city  \\\n",
       "0           0   Palisades Tahoe  PO Box 2007          Olympic Valley   \n",
       "1           1  Mammoth Mountain  P.O. Box 24  Mammoth Mountain Lakes   \n",
       "2           2  Donner Ski Ranch  P.O. Box 66                  Norden   \n",
       "3           3        Sugar Bowl   P.O. Box 5                  Norden   \n",
       "4           4          Kirkwood     PO Box 1                Kirkwood   \n",
       "\n",
       "        state zipcode  summit  drop  base  gondolas_and_trams  ...  \\\n",
       "0  California   96146    9050  2850  6200                 3.0  ...   \n",
       "1  California   93546   11053  3100  7953                 3.0  ...   \n",
       "2  California   95724    8012   750  7031                 0.0  ...   \n",
       "3  California   95724    8383  1500  6883                 1.0  ...   \n",
       "4  California   95646    9800  2000  7800                 0.0  ...   \n",
       "\n",
       "         long                 airport_2  distance_2      lat_2      long_2  \\\n",
       "0 -120.139563              Minden-Tahoe          47  39.000309 -119.750806   \n",
       "1 -118.837772                   Bryant           71  38.262419 -119.225709   \n",
       "2 -120.139563  Reno/Tahoe International          54  39.498576 -119.768065   \n",
       "3 -120.139563  Reno/Tahoe International          54  39.498576 -119.768065   \n",
       "4 -119.995335              Minden-Tahoe          43  39.000309 -119.750806   \n",
       "\n",
       "                    airport_3  distance_3      lat_3      long_3  total_lifts  \n",
       "0             Greenville Muni        3357  41.446832  -80.391262           36  \n",
       "1  Grand Rapids-Itasca County        2330  47.211103  -93.509845           25  \n",
       "2          Mapleton Municipal        2085  42.178295  -95.793645            8  \n",
       "3          Mapleton Municipal        2085  42.178295  -95.793645           12  \n",
       "4       Nogales International        1165  31.417722 -110.847889           13  \n",
       "\n",
       "[5 rows x 103 columns]"
      ]
     },
     "execution_count": 5,
     "metadata": {},
     "output_type": "execute_result"
    }
   ],
   "source": [
    "content_df.head()"
   ]
  },
  {
   "cell_type": "markdown",
   "metadata": {},
   "source": [
    "### Data Source #2 - Final User/Review Data"
   ]
  },
  {
   "cell_type": "markdown",
   "metadata": {},
   "source": [
    "Importing final cleaned user review data from the cleaning notebook."
   ]
  },
  {
   "cell_type": "code",
   "execution_count": 6,
   "metadata": {},
   "outputs": [],
   "source": [
    "final_user_df = pd.read_csv(\"data/cleaned_data_exports/user_df_model.csv\")"
   ]
  },
  {
   "cell_type": "code",
   "execution_count": 7,
   "metadata": {},
   "outputs": [
    {
     "name": "stdout",
     "output_type": "stream",
     "text": [
      "<class 'pandas.core.frame.DataFrame'>\n",
      "RangeIndex: 2521 entries, 0 to 2520\n",
      "Data columns (total 7 columns):\n",
      " #   Column       Non-Null Count  Dtype \n",
      "---  ------       --------------  ----- \n",
      " 0   Unnamed: 0   2521 non-null   int64 \n",
      " 1   review_date  2521 non-null   object\n",
      " 2   state        2521 non-null   object\n",
      " 3   ski_resort   2521 non-null   object\n",
      " 4   rating       2521 non-null   int64 \n",
      " 5   review       2521 non-null   object\n",
      " 6   user_name    2521 non-null   object\n",
      "dtypes: int64(2), object(5)\n",
      "memory usage: 138.0+ KB\n"
     ]
    }
   ],
   "source": [
    "final_user_df.info()"
   ]
  },
  {
   "cell_type": "code",
   "execution_count": 8,
   "metadata": {},
   "outputs": [
    {
     "data": {
      "text/html": [
       "<div>\n",
       "<style scoped>\n",
       "    .dataframe tbody tr th:only-of-type {\n",
       "        vertical-align: middle;\n",
       "    }\n",
       "\n",
       "    .dataframe tbody tr th {\n",
       "        vertical-align: top;\n",
       "    }\n",
       "\n",
       "    .dataframe thead th {\n",
       "        text-align: right;\n",
       "    }\n",
       "</style>\n",
       "<table border=\"1\" class=\"dataframe\">\n",
       "  <thead>\n",
       "    <tr style=\"text-align: right;\">\n",
       "      <th></th>\n",
       "      <th>Unnamed: 0</th>\n",
       "      <th>review_date</th>\n",
       "      <th>state</th>\n",
       "      <th>ski_resort</th>\n",
       "      <th>rating</th>\n",
       "      <th>review</th>\n",
       "      <th>user_name</th>\n",
       "    </tr>\n",
       "  </thead>\n",
       "  <tbody>\n",
       "    <tr>\n",
       "      <th>0</th>\n",
       "      <td>0</td>\n",
       "      <td>2023-05-04</td>\n",
       "      <td>Colorado</td>\n",
       "      <td>Winter Park</td>\n",
       "      <td>4</td>\n",
       "      <td>Very family friendly</td>\n",
       "      <td>anon_1</td>\n",
       "    </tr>\n",
       "    <tr>\n",
       "      <th>1</th>\n",
       "      <td>1</td>\n",
       "      <td>2023-05-04</td>\n",
       "      <td>Colorado</td>\n",
       "      <td>Arapahoe Basin</td>\n",
       "      <td>5</td>\n",
       "      <td>Challenging terrain no frills</td>\n",
       "      <td>anon_1</td>\n",
       "    </tr>\n",
       "    <tr>\n",
       "      <th>2</th>\n",
       "      <td>2</td>\n",
       "      <td>2023-05-04</td>\n",
       "      <td>Colorado</td>\n",
       "      <td>Steamboat</td>\n",
       "      <td>5</td>\n",
       "      <td>Great public transport to and from lodging</td>\n",
       "      <td>anon_1</td>\n",
       "    </tr>\n",
       "    <tr>\n",
       "      <th>3</th>\n",
       "      <td>3</td>\n",
       "      <td>2023-05-04</td>\n",
       "      <td>Colorado</td>\n",
       "      <td>Copper Mountain</td>\n",
       "      <td>5</td>\n",
       "      <td>Extremely diverse terrain and fantastic terrai...</td>\n",
       "      <td>anon_1</td>\n",
       "    </tr>\n",
       "    <tr>\n",
       "      <th>4</th>\n",
       "      <td>4</td>\n",
       "      <td>2023-05-04</td>\n",
       "      <td>Utah</td>\n",
       "      <td>Solitude Mountain</td>\n",
       "      <td>5</td>\n",
       "      <td>y had so much terrain especially for the start...</td>\n",
       "      <td>anon_2</td>\n",
       "    </tr>\n",
       "  </tbody>\n",
       "</table>\n",
       "</div>"
      ],
      "text/plain": [
       "   Unnamed: 0 review_date     state         ski_resort  rating  \\\n",
       "0           0  2023-05-04  Colorado        Winter Park       4   \n",
       "1           1  2023-05-04  Colorado     Arapahoe Basin       5   \n",
       "2           2  2023-05-04  Colorado          Steamboat       5   \n",
       "3           3  2023-05-04  Colorado    Copper Mountain       5   \n",
       "4           4  2023-05-04      Utah  Solitude Mountain       5   \n",
       "\n",
       "                                              review user_name  \n",
       "0                               Very family friendly    anon_1  \n",
       "1                      Challenging terrain no frills    anon_1  \n",
       "2         Great public transport to and from lodging    anon_1  \n",
       "3  Extremely diverse terrain and fantastic terrai...    anon_1  \n",
       "4  y had so much terrain especially for the start...    anon_2  "
      ]
     },
     "execution_count": 8,
     "metadata": {},
     "output_type": "execute_result"
    }
   ],
   "source": [
    "final_user_df.head()"
   ]
  },
  {
   "cell_type": "markdown",
   "metadata": {},
   "source": [
    "### Content Modeling"
   ]
  },
  {
   "cell_type": "markdown",
   "metadata": {},
   "source": [
    "To begin our content modeling, we will need to create a feature matrix that will store all of the feature information. This matrix will allow us to calculate the similarties between item vectors, so we can determine which ski resorts are similar."
   ]
  },
  {
   "cell_type": "code",
   "execution_count": 9,
   "metadata": {},
   "outputs": [
    {
     "data": {
      "text/plain": [
       "['Unnamed: 0',\n",
       " 'ski_resort',\n",
       " 'address',\n",
       " 'city',\n",
       " 'state',\n",
       " 'zipcode',\n",
       " 'summit',\n",
       " 'drop',\n",
       " 'base',\n",
       " 'gondolas_and_trams',\n",
       " 'fast_eight',\n",
       " 'high_speed_sixes',\n",
       " 'quad_chairs',\n",
       " 'triple_chairs',\n",
       " 'double_chairs',\n",
       " 'surface_lifts',\n",
       " 'total_runs',\n",
       " 'longest_run',\n",
       " 'skiable_terrain',\n",
       " 'snow_making',\n",
       " 'daysOpenLastYear',\n",
       " 'averageSnowfall',\n",
       " 'projectedOpening',\n",
       " 'projectedClosing',\n",
       " 'nov_snow',\n",
       " 'dec_snow',\n",
       " 'jan_snow',\n",
       " 'feb_snow',\n",
       " 'mar_snow',\n",
       " 'apr_snow',\n",
       " 'childrenWeekdayPrice',\n",
       " 'childrenWeekendPrice',\n",
       " 'teenagerWeekdayPrice',\n",
       " 'teenagerWeekendPrice',\n",
       " 'adultWeekdayPrice',\n",
       " 'adultWeekendPrice',\n",
       " 'seniorWeekdayPrice',\n",
       " 'seniorWeekendPrice',\n",
       " 'childrenPrice_season',\n",
       " 'teenagerPrice_season',\n",
       " 'adultPrice_season',\n",
       " 'Url',\n",
       " 'beginner_runs',\n",
       " 'intermediate_runs',\n",
       " 'advanced_runs',\n",
       " 'expert_runs',\n",
       " 'night_skiing',\n",
       " 'epic',\n",
       " 'mountain_collective',\n",
       " 'ikon',\n",
       " 'indy',\n",
       " 'dec_mean_2_guests',\n",
       " 'dec_min_2_guests',\n",
       " 'dec_max_2_guests',\n",
       " 'jan_mean_2_guests',\n",
       " 'jan_min_2_guests',\n",
       " 'jan_max_2_guests',\n",
       " 'feb_mean_2_guests',\n",
       " 'feb_min_2_guests',\n",
       " 'feb_max_2_guests',\n",
       " 'mar_mean_2_guests',\n",
       " 'mar_min_2_guests',\n",
       " 'mar_max_2_guests',\n",
       " 'apr_mean_2_guests',\n",
       " 'apr_min_2_guests',\n",
       " 'apr_max_2_guests',\n",
       " 'may_mean_2_guests',\n",
       " 'may_min_2_guests',\n",
       " 'may_max_2_guests',\n",
       " 'dec_mean_4_guests',\n",
       " 'dec_min_4_guests',\n",
       " 'dec_max_4_guests',\n",
       " 'jan_mean_4_guests',\n",
       " 'jan_min_4_guests',\n",
       " 'jan_max_4_guests',\n",
       " 'feb_mean_4_guests',\n",
       " 'feb_min_4_guests',\n",
       " 'feb_max_4_guests',\n",
       " 'mar_mean_4_guests',\n",
       " 'mar_min_4_guests',\n",
       " 'mar_max_4_guests',\n",
       " 'apr_mean_4_guests',\n",
       " 'apr_min_4_guests',\n",
       " 'apr_max_4_guests',\n",
       " 'may_mean_4_guests',\n",
       " 'may_min_4_guests',\n",
       " 'may_max_4_guests',\n",
       " 'full_address',\n",
       " 'latitude',\n",
       " 'longitude',\n",
       " 'airport_1',\n",
       " 'distance_1',\n",
       " 'lat',\n",
       " 'long',\n",
       " 'airport_2',\n",
       " 'distance_2',\n",
       " 'lat_2',\n",
       " 'long_2',\n",
       " 'airport_3',\n",
       " 'distance_3',\n",
       " 'lat_3',\n",
       " 'long_3',\n",
       " 'total_lifts']"
      ]
     },
     "execution_count": 9,
     "metadata": {},
     "output_type": "execute_result"
    }
   ],
   "source": [
    "content_df.columns.to_list()"
   ]
  },
  {
   "cell_type": "code",
   "execution_count": 10,
   "metadata": {},
   "outputs": [],
   "source": [
    "#making a copy of the finaldataframe\n",
    "content_matrix = content_df.copy()"
   ]
  },
  {
   "cell_type": "code",
   "execution_count": 11,
   "metadata": {},
   "outputs": [],
   "source": [
    "drop_list = ['address', 'zipcode', 'Url', 'projectedOpening', 'projectedClosing', 'Unnamed: 0',\n",
    "             \"daysOpenLastYear\", 'projectedOpening', 'projectedClosing',\n",
    "             'full_address','airport_1','distance_1','lat', 'long',\n",
    "             'airport_2','distance_2','lat_2','long_2','airport_3','distance_3','lat_3','long_3']\n",
    "\n",
    "content_matrix.drop(columns=drop_list, inplace=True)"
   ]
  },
  {
   "cell_type": "code",
   "execution_count": 12,
   "metadata": {},
   "outputs": [
    {
     "data": {
      "text/html": [
       "<div>\n",
       "<style scoped>\n",
       "    .dataframe tbody tr th:only-of-type {\n",
       "        vertical-align: middle;\n",
       "    }\n",
       "\n",
       "    .dataframe tbody tr th {\n",
       "        vertical-align: top;\n",
       "    }\n",
       "\n",
       "    .dataframe thead th {\n",
       "        text-align: right;\n",
       "    }\n",
       "</style>\n",
       "<table border=\"1\" class=\"dataframe\">\n",
       "  <thead>\n",
       "    <tr style=\"text-align: right;\">\n",
       "      <th></th>\n",
       "      <th>ski_resort</th>\n",
       "      <th>city</th>\n",
       "      <th>state</th>\n",
       "      <th>summit</th>\n",
       "      <th>drop</th>\n",
       "      <th>base</th>\n",
       "      <th>gondolas_and_trams</th>\n",
       "      <th>fast_eight</th>\n",
       "      <th>high_speed_sixes</th>\n",
       "      <th>quad_chairs</th>\n",
       "      <th>...</th>\n",
       "      <th>mar_max_4_guests</th>\n",
       "      <th>apr_mean_4_guests</th>\n",
       "      <th>apr_min_4_guests</th>\n",
       "      <th>apr_max_4_guests</th>\n",
       "      <th>may_mean_4_guests</th>\n",
       "      <th>may_min_4_guests</th>\n",
       "      <th>may_max_4_guests</th>\n",
       "      <th>latitude</th>\n",
       "      <th>longitude</th>\n",
       "      <th>total_lifts</th>\n",
       "    </tr>\n",
       "  </thead>\n",
       "  <tbody>\n",
       "    <tr>\n",
       "      <th>0</th>\n",
       "      <td>Palisades Tahoe</td>\n",
       "      <td>Olympic Valley</td>\n",
       "      <td>California</td>\n",
       "      <td>9050</td>\n",
       "      <td>2850</td>\n",
       "      <td>6200</td>\n",
       "      <td>3.0</td>\n",
       "      <td>6</td>\n",
       "      <td>4</td>\n",
       "      <td>1</td>\n",
       "      <td>...</td>\n",
       "      <td>1320</td>\n",
       "      <td>463</td>\n",
       "      <td>178</td>\n",
       "      <td>1260</td>\n",
       "      <td>331</td>\n",
       "      <td>122</td>\n",
       "      <td>825</td>\n",
       "      <td>39.196980</td>\n",
       "      <td>-120.235705</td>\n",
       "      <td>36</td>\n",
       "    </tr>\n",
       "    <tr>\n",
       "      <th>1</th>\n",
       "      <td>Mammoth Mountain</td>\n",
       "      <td>Mammoth Mountain Lakes</td>\n",
       "      <td>California</td>\n",
       "      <td>11053</td>\n",
       "      <td>3100</td>\n",
       "      <td>7953</td>\n",
       "      <td>3.0</td>\n",
       "      <td>9</td>\n",
       "      <td>2</td>\n",
       "      <td>1</td>\n",
       "      <td>...</td>\n",
       "      <td>589</td>\n",
       "      <td>325</td>\n",
       "      <td>126</td>\n",
       "      <td>699</td>\n",
       "      <td>144</td>\n",
       "      <td>64</td>\n",
       "      <td>246</td>\n",
       "      <td>37.648546</td>\n",
       "      <td>-118.972079</td>\n",
       "      <td>25</td>\n",
       "    </tr>\n",
       "    <tr>\n",
       "      <th>2</th>\n",
       "      <td>Donner Ski Ranch</td>\n",
       "      <td>Norden</td>\n",
       "      <td>California</td>\n",
       "      <td>8012</td>\n",
       "      <td>750</td>\n",
       "      <td>7031</td>\n",
       "      <td>0.0</td>\n",
       "      <td>0</td>\n",
       "      <td>0</td>\n",
       "      <td>0</td>\n",
       "      <td>...</td>\n",
       "      <td>739</td>\n",
       "      <td>349</td>\n",
       "      <td>165</td>\n",
       "      <td>996</td>\n",
       "      <td>231</td>\n",
       "      <td>83</td>\n",
       "      <td>643</td>\n",
       "      <td>39.317356</td>\n",
       "      <td>-120.354182</td>\n",
       "      <td>8</td>\n",
       "    </tr>\n",
       "    <tr>\n",
       "      <th>3</th>\n",
       "      <td>Sugar Bowl</td>\n",
       "      <td>Norden</td>\n",
       "      <td>California</td>\n",
       "      <td>8383</td>\n",
       "      <td>1500</td>\n",
       "      <td>6883</td>\n",
       "      <td>1.0</td>\n",
       "      <td>5</td>\n",
       "      <td>0</td>\n",
       "      <td>3</td>\n",
       "      <td>...</td>\n",
       "      <td>739</td>\n",
       "      <td>349</td>\n",
       "      <td>165</td>\n",
       "      <td>996</td>\n",
       "      <td>245</td>\n",
       "      <td>120</td>\n",
       "      <td>643</td>\n",
       "      <td>39.317356</td>\n",
       "      <td>-120.354182</td>\n",
       "      <td>12</td>\n",
       "    </tr>\n",
       "    <tr>\n",
       "      <th>4</th>\n",
       "      <td>Kirkwood</td>\n",
       "      <td>Kirkwood</td>\n",
       "      <td>California</td>\n",
       "      <td>9800</td>\n",
       "      <td>2000</td>\n",
       "      <td>7800</td>\n",
       "      <td>0.0</td>\n",
       "      <td>2</td>\n",
       "      <td>0</td>\n",
       "      <td>2</td>\n",
       "      <td>...</td>\n",
       "      <td>1179</td>\n",
       "      <td>420</td>\n",
       "      <td>150</td>\n",
       "      <td>950</td>\n",
       "      <td>309</td>\n",
       "      <td>114</td>\n",
       "      <td>590</td>\n",
       "      <td>38.702308</td>\n",
       "      <td>-120.072244</td>\n",
       "      <td>13</td>\n",
       "    </tr>\n",
       "  </tbody>\n",
       "</table>\n",
       "<p>5 rows × 83 columns</p>\n",
       "</div>"
      ],
      "text/plain": [
       "         ski_resort                    city       state  summit  drop  base  \\\n",
       "0   Palisades Tahoe          Olympic Valley  California    9050  2850  6200   \n",
       "1  Mammoth Mountain  Mammoth Mountain Lakes  California   11053  3100  7953   \n",
       "2  Donner Ski Ranch                  Norden  California    8012   750  7031   \n",
       "3        Sugar Bowl                  Norden  California    8383  1500  6883   \n",
       "4          Kirkwood                Kirkwood  California    9800  2000  7800   \n",
       "\n",
       "   gondolas_and_trams  fast_eight  high_speed_sixes  quad_chairs  ...  \\\n",
       "0                 3.0           6                 4            1  ...   \n",
       "1                 3.0           9                 2            1  ...   \n",
       "2                 0.0           0                 0            0  ...   \n",
       "3                 1.0           5                 0            3  ...   \n",
       "4                 0.0           2                 0            2  ...   \n",
       "\n",
       "   mar_max_4_guests  apr_mean_4_guests  apr_min_4_guests  apr_max_4_guests  \\\n",
       "0              1320                463               178              1260   \n",
       "1               589                325               126               699   \n",
       "2               739                349               165               996   \n",
       "3               739                349               165               996   \n",
       "4              1179                420               150               950   \n",
       "\n",
       "   may_mean_4_guests  may_min_4_guests  may_max_4_guests   latitude  \\\n",
       "0                331               122               825  39.196980   \n",
       "1                144                64               246  37.648546   \n",
       "2                231                83               643  39.317356   \n",
       "3                245               120               643  39.317356   \n",
       "4                309               114               590  38.702308   \n",
       "\n",
       "    longitude  total_lifts  \n",
       "0 -120.235705           36  \n",
       "1 -118.972079           25  \n",
       "2 -120.354182            8  \n",
       "3 -120.354182           12  \n",
       "4 -120.072244           13  \n",
       "\n",
       "[5 rows x 83 columns]"
      ]
     },
     "execution_count": 12,
     "metadata": {},
     "output_type": "execute_result"
    }
   ],
   "source": [
    "content_matrix.head()"
   ]
  },
  {
   "cell_type": "markdown",
   "metadata": {},
   "source": [
    "### One Hot Encoding Categorical Variables\n",
    "\n",
    "I will be one hot encoding the state column, as this is the only column in the dataframe that is a caterogial values. I would like to keep this in the final model, as the location of a resort often plays an important role in deciding where to ski."
   ]
  },
  {
   "cell_type": "code",
   "execution_count": 13,
   "metadata": {},
   "outputs": [],
   "source": [
    "# Instantiating OHE\n",
    "ohe = OneHotEncoder()\n",
    "\n",
    "# fit and transforming\n",
    "ohe_state = pd.DataFrame(ohe.fit_transform(content_matrix[['state']]).toarray())\n",
    "\n",
    "# renaming based on original names\n",
    "ohe_state.columns = ohe.get_feature_names(['state'])"
   ]
  },
  {
   "cell_type": "code",
   "execution_count": 14,
   "metadata": {},
   "outputs": [
    {
     "data": {
      "text/html": [
       "<div>\n",
       "<style scoped>\n",
       "    .dataframe tbody tr th:only-of-type {\n",
       "        vertical-align: middle;\n",
       "    }\n",
       "\n",
       "    .dataframe tbody tr th {\n",
       "        vertical-align: top;\n",
       "    }\n",
       "\n",
       "    .dataframe thead th {\n",
       "        text-align: right;\n",
       "    }\n",
       "</style>\n",
       "<table border=\"1\" class=\"dataframe\">\n",
       "  <thead>\n",
       "    <tr style=\"text-align: right;\">\n",
       "      <th></th>\n",
       "      <th>state_Alaska</th>\n",
       "      <th>state_Arizona</th>\n",
       "      <th>state_California</th>\n",
       "      <th>state_Colorado</th>\n",
       "      <th>state_Connecticut</th>\n",
       "      <th>state_Idaho</th>\n",
       "      <th>state_Illinois</th>\n",
       "      <th>state_Indiana</th>\n",
       "      <th>state_Iowa</th>\n",
       "      <th>state_Maine</th>\n",
       "      <th>...</th>\n",
       "      <th>state_Rhode Island</th>\n",
       "      <th>state_South Dakota</th>\n",
       "      <th>state_Tennessee</th>\n",
       "      <th>state_Utah</th>\n",
       "      <th>state_Vermont</th>\n",
       "      <th>state_Virginia</th>\n",
       "      <th>state_Washington</th>\n",
       "      <th>state_West Virginia</th>\n",
       "      <th>state_Wisconsin</th>\n",
       "      <th>state_Wyoming</th>\n",
       "    </tr>\n",
       "  </thead>\n",
       "  <tbody>\n",
       "    <tr>\n",
       "      <th>0</th>\n",
       "      <td>0.0</td>\n",
       "      <td>0.0</td>\n",
       "      <td>1.0</td>\n",
       "      <td>0.0</td>\n",
       "      <td>0.0</td>\n",
       "      <td>0.0</td>\n",
       "      <td>0.0</td>\n",
       "      <td>0.0</td>\n",
       "      <td>0.0</td>\n",
       "      <td>0.0</td>\n",
       "      <td>...</td>\n",
       "      <td>0.0</td>\n",
       "      <td>0.0</td>\n",
       "      <td>0.0</td>\n",
       "      <td>0.0</td>\n",
       "      <td>0.0</td>\n",
       "      <td>0.0</td>\n",
       "      <td>0.0</td>\n",
       "      <td>0.0</td>\n",
       "      <td>0.0</td>\n",
       "      <td>0.0</td>\n",
       "    </tr>\n",
       "    <tr>\n",
       "      <th>1</th>\n",
       "      <td>0.0</td>\n",
       "      <td>0.0</td>\n",
       "      <td>1.0</td>\n",
       "      <td>0.0</td>\n",
       "      <td>0.0</td>\n",
       "      <td>0.0</td>\n",
       "      <td>0.0</td>\n",
       "      <td>0.0</td>\n",
       "      <td>0.0</td>\n",
       "      <td>0.0</td>\n",
       "      <td>...</td>\n",
       "      <td>0.0</td>\n",
       "      <td>0.0</td>\n",
       "      <td>0.0</td>\n",
       "      <td>0.0</td>\n",
       "      <td>0.0</td>\n",
       "      <td>0.0</td>\n",
       "      <td>0.0</td>\n",
       "      <td>0.0</td>\n",
       "      <td>0.0</td>\n",
       "      <td>0.0</td>\n",
       "    </tr>\n",
       "    <tr>\n",
       "      <th>2</th>\n",
       "      <td>0.0</td>\n",
       "      <td>0.0</td>\n",
       "      <td>1.0</td>\n",
       "      <td>0.0</td>\n",
       "      <td>0.0</td>\n",
       "      <td>0.0</td>\n",
       "      <td>0.0</td>\n",
       "      <td>0.0</td>\n",
       "      <td>0.0</td>\n",
       "      <td>0.0</td>\n",
       "      <td>...</td>\n",
       "      <td>0.0</td>\n",
       "      <td>0.0</td>\n",
       "      <td>0.0</td>\n",
       "      <td>0.0</td>\n",
       "      <td>0.0</td>\n",
       "      <td>0.0</td>\n",
       "      <td>0.0</td>\n",
       "      <td>0.0</td>\n",
       "      <td>0.0</td>\n",
       "      <td>0.0</td>\n",
       "    </tr>\n",
       "    <tr>\n",
       "      <th>3</th>\n",
       "      <td>0.0</td>\n",
       "      <td>0.0</td>\n",
       "      <td>1.0</td>\n",
       "      <td>0.0</td>\n",
       "      <td>0.0</td>\n",
       "      <td>0.0</td>\n",
       "      <td>0.0</td>\n",
       "      <td>0.0</td>\n",
       "      <td>0.0</td>\n",
       "      <td>0.0</td>\n",
       "      <td>...</td>\n",
       "      <td>0.0</td>\n",
       "      <td>0.0</td>\n",
       "      <td>0.0</td>\n",
       "      <td>0.0</td>\n",
       "      <td>0.0</td>\n",
       "      <td>0.0</td>\n",
       "      <td>0.0</td>\n",
       "      <td>0.0</td>\n",
       "      <td>0.0</td>\n",
       "      <td>0.0</td>\n",
       "    </tr>\n",
       "    <tr>\n",
       "      <th>4</th>\n",
       "      <td>0.0</td>\n",
       "      <td>0.0</td>\n",
       "      <td>1.0</td>\n",
       "      <td>0.0</td>\n",
       "      <td>0.0</td>\n",
       "      <td>0.0</td>\n",
       "      <td>0.0</td>\n",
       "      <td>0.0</td>\n",
       "      <td>0.0</td>\n",
       "      <td>0.0</td>\n",
       "      <td>...</td>\n",
       "      <td>0.0</td>\n",
       "      <td>0.0</td>\n",
       "      <td>0.0</td>\n",
       "      <td>0.0</td>\n",
       "      <td>0.0</td>\n",
       "      <td>0.0</td>\n",
       "      <td>0.0</td>\n",
       "      <td>0.0</td>\n",
       "      <td>0.0</td>\n",
       "      <td>0.0</td>\n",
       "    </tr>\n",
       "    <tr>\n",
       "      <th>...</th>\n",
       "      <td>...</td>\n",
       "      <td>...</td>\n",
       "      <td>...</td>\n",
       "      <td>...</td>\n",
       "      <td>...</td>\n",
       "      <td>...</td>\n",
       "      <td>...</td>\n",
       "      <td>...</td>\n",
       "      <td>...</td>\n",
       "      <td>...</td>\n",
       "      <td>...</td>\n",
       "      <td>...</td>\n",
       "      <td>...</td>\n",
       "      <td>...</td>\n",
       "      <td>...</td>\n",
       "      <td>...</td>\n",
       "      <td>...</td>\n",
       "      <td>...</td>\n",
       "      <td>...</td>\n",
       "      <td>...</td>\n",
       "      <td>...</td>\n",
       "    </tr>\n",
       "    <tr>\n",
       "      <th>325</th>\n",
       "      <td>0.0</td>\n",
       "      <td>0.0</td>\n",
       "      <td>0.0</td>\n",
       "      <td>0.0</td>\n",
       "      <td>0.0</td>\n",
       "      <td>0.0</td>\n",
       "      <td>0.0</td>\n",
       "      <td>0.0</td>\n",
       "      <td>0.0</td>\n",
       "      <td>0.0</td>\n",
       "      <td>...</td>\n",
       "      <td>0.0</td>\n",
       "      <td>0.0</td>\n",
       "      <td>0.0</td>\n",
       "      <td>0.0</td>\n",
       "      <td>0.0</td>\n",
       "      <td>0.0</td>\n",
       "      <td>0.0</td>\n",
       "      <td>0.0</td>\n",
       "      <td>0.0</td>\n",
       "      <td>0.0</td>\n",
       "    </tr>\n",
       "    <tr>\n",
       "      <th>326</th>\n",
       "      <td>0.0</td>\n",
       "      <td>0.0</td>\n",
       "      <td>0.0</td>\n",
       "      <td>0.0</td>\n",
       "      <td>0.0</td>\n",
       "      <td>0.0</td>\n",
       "      <td>0.0</td>\n",
       "      <td>0.0</td>\n",
       "      <td>0.0</td>\n",
       "      <td>0.0</td>\n",
       "      <td>...</td>\n",
       "      <td>0.0</td>\n",
       "      <td>0.0</td>\n",
       "      <td>0.0</td>\n",
       "      <td>0.0</td>\n",
       "      <td>0.0</td>\n",
       "      <td>0.0</td>\n",
       "      <td>0.0</td>\n",
       "      <td>0.0</td>\n",
       "      <td>0.0</td>\n",
       "      <td>0.0</td>\n",
       "    </tr>\n",
       "    <tr>\n",
       "      <th>327</th>\n",
       "      <td>0.0</td>\n",
       "      <td>0.0</td>\n",
       "      <td>0.0</td>\n",
       "      <td>0.0</td>\n",
       "      <td>0.0</td>\n",
       "      <td>0.0</td>\n",
       "      <td>0.0</td>\n",
       "      <td>0.0</td>\n",
       "      <td>0.0</td>\n",
       "      <td>0.0</td>\n",
       "      <td>...</td>\n",
       "      <td>0.0</td>\n",
       "      <td>0.0</td>\n",
       "      <td>0.0</td>\n",
       "      <td>0.0</td>\n",
       "      <td>0.0</td>\n",
       "      <td>0.0</td>\n",
       "      <td>0.0</td>\n",
       "      <td>0.0</td>\n",
       "      <td>0.0</td>\n",
       "      <td>0.0</td>\n",
       "    </tr>\n",
       "    <tr>\n",
       "      <th>328</th>\n",
       "      <td>0.0</td>\n",
       "      <td>0.0</td>\n",
       "      <td>0.0</td>\n",
       "      <td>0.0</td>\n",
       "      <td>1.0</td>\n",
       "      <td>0.0</td>\n",
       "      <td>0.0</td>\n",
       "      <td>0.0</td>\n",
       "      <td>0.0</td>\n",
       "      <td>0.0</td>\n",
       "      <td>...</td>\n",
       "      <td>0.0</td>\n",
       "      <td>0.0</td>\n",
       "      <td>0.0</td>\n",
       "      <td>0.0</td>\n",
       "      <td>0.0</td>\n",
       "      <td>0.0</td>\n",
       "      <td>0.0</td>\n",
       "      <td>0.0</td>\n",
       "      <td>0.0</td>\n",
       "      <td>0.0</td>\n",
       "    </tr>\n",
       "    <tr>\n",
       "      <th>329</th>\n",
       "      <td>0.0</td>\n",
       "      <td>0.0</td>\n",
       "      <td>0.0</td>\n",
       "      <td>0.0</td>\n",
       "      <td>0.0</td>\n",
       "      <td>0.0</td>\n",
       "      <td>0.0</td>\n",
       "      <td>0.0</td>\n",
       "      <td>0.0</td>\n",
       "      <td>0.0</td>\n",
       "      <td>...</td>\n",
       "      <td>0.0</td>\n",
       "      <td>0.0</td>\n",
       "      <td>0.0</td>\n",
       "      <td>0.0</td>\n",
       "      <td>0.0</td>\n",
       "      <td>0.0</td>\n",
       "      <td>0.0</td>\n",
       "      <td>0.0</td>\n",
       "      <td>0.0</td>\n",
       "      <td>0.0</td>\n",
       "    </tr>\n",
       "  </tbody>\n",
       "</table>\n",
       "<p>330 rows × 35 columns</p>\n",
       "</div>"
      ],
      "text/plain": [
       "     state_Alaska  state_Arizona  state_California  state_Colorado  \\\n",
       "0             0.0            0.0               1.0             0.0   \n",
       "1             0.0            0.0               1.0             0.0   \n",
       "2             0.0            0.0               1.0             0.0   \n",
       "3             0.0            0.0               1.0             0.0   \n",
       "4             0.0            0.0               1.0             0.0   \n",
       "..            ...            ...               ...             ...   \n",
       "325           0.0            0.0               0.0             0.0   \n",
       "326           0.0            0.0               0.0             0.0   \n",
       "327           0.0            0.0               0.0             0.0   \n",
       "328           0.0            0.0               0.0             0.0   \n",
       "329           0.0            0.0               0.0             0.0   \n",
       "\n",
       "     state_Connecticut  state_Idaho  state_Illinois  state_Indiana  \\\n",
       "0                  0.0          0.0             0.0            0.0   \n",
       "1                  0.0          0.0             0.0            0.0   \n",
       "2                  0.0          0.0             0.0            0.0   \n",
       "3                  0.0          0.0             0.0            0.0   \n",
       "4                  0.0          0.0             0.0            0.0   \n",
       "..                 ...          ...             ...            ...   \n",
       "325                0.0          0.0             0.0            0.0   \n",
       "326                0.0          0.0             0.0            0.0   \n",
       "327                0.0          0.0             0.0            0.0   \n",
       "328                1.0          0.0             0.0            0.0   \n",
       "329                0.0          0.0             0.0            0.0   \n",
       "\n",
       "     state_Iowa  state_Maine  ...  state_Rhode Island  state_South Dakota  \\\n",
       "0           0.0          0.0  ...                 0.0                 0.0   \n",
       "1           0.0          0.0  ...                 0.0                 0.0   \n",
       "2           0.0          0.0  ...                 0.0                 0.0   \n",
       "3           0.0          0.0  ...                 0.0                 0.0   \n",
       "4           0.0          0.0  ...                 0.0                 0.0   \n",
       "..          ...          ...  ...                 ...                 ...   \n",
       "325         0.0          0.0  ...                 0.0                 0.0   \n",
       "326         0.0          0.0  ...                 0.0                 0.0   \n",
       "327         0.0          0.0  ...                 0.0                 0.0   \n",
       "328         0.0          0.0  ...                 0.0                 0.0   \n",
       "329         0.0          0.0  ...                 0.0                 0.0   \n",
       "\n",
       "     state_Tennessee  state_Utah  state_Vermont  state_Virginia  \\\n",
       "0                0.0         0.0            0.0             0.0   \n",
       "1                0.0         0.0            0.0             0.0   \n",
       "2                0.0         0.0            0.0             0.0   \n",
       "3                0.0         0.0            0.0             0.0   \n",
       "4                0.0         0.0            0.0             0.0   \n",
       "..               ...         ...            ...             ...   \n",
       "325              0.0         0.0            0.0             0.0   \n",
       "326              0.0         0.0            0.0             0.0   \n",
       "327              0.0         0.0            0.0             0.0   \n",
       "328              0.0         0.0            0.0             0.0   \n",
       "329              0.0         0.0            0.0             0.0   \n",
       "\n",
       "     state_Washington  state_West Virginia  state_Wisconsin  state_Wyoming  \n",
       "0                 0.0                  0.0              0.0            0.0  \n",
       "1                 0.0                  0.0              0.0            0.0  \n",
       "2                 0.0                  0.0              0.0            0.0  \n",
       "3                 0.0                  0.0              0.0            0.0  \n",
       "4                 0.0                  0.0              0.0            0.0  \n",
       "..                ...                  ...              ...            ...  \n",
       "325               0.0                  0.0              0.0            0.0  \n",
       "326               0.0                  0.0              0.0            0.0  \n",
       "327               0.0                  0.0              0.0            0.0  \n",
       "328               0.0                  0.0              0.0            0.0  \n",
       "329               0.0                  0.0              0.0            0.0  \n",
       "\n",
       "[330 rows x 35 columns]"
      ]
     },
     "execution_count": 14,
     "metadata": {},
     "output_type": "execute_result"
    }
   ],
   "source": [
    "ohe_state"
   ]
  },
  {
   "cell_type": "code",
   "execution_count": 15,
   "metadata": {},
   "outputs": [],
   "source": [
    "#setting index\n",
    "ohe_state = ohe_state.set_index(content_matrix['ski_resort'])"
   ]
  },
  {
   "cell_type": "code",
   "execution_count": 16,
   "metadata": {},
   "outputs": [
    {
     "data": {
      "text/html": [
       "<div>\n",
       "<style scoped>\n",
       "    .dataframe tbody tr th:only-of-type {\n",
       "        vertical-align: middle;\n",
       "    }\n",
       "\n",
       "    .dataframe tbody tr th {\n",
       "        vertical-align: top;\n",
       "    }\n",
       "\n",
       "    .dataframe thead th {\n",
       "        text-align: right;\n",
       "    }\n",
       "</style>\n",
       "<table border=\"1\" class=\"dataframe\">\n",
       "  <thead>\n",
       "    <tr style=\"text-align: right;\">\n",
       "      <th></th>\n",
       "      <th>state_Alaska</th>\n",
       "      <th>state_Arizona</th>\n",
       "      <th>state_California</th>\n",
       "      <th>state_Colorado</th>\n",
       "      <th>state_Connecticut</th>\n",
       "      <th>state_Idaho</th>\n",
       "      <th>state_Illinois</th>\n",
       "      <th>state_Indiana</th>\n",
       "      <th>state_Iowa</th>\n",
       "      <th>state_Maine</th>\n",
       "      <th>...</th>\n",
       "      <th>state_Rhode Island</th>\n",
       "      <th>state_South Dakota</th>\n",
       "      <th>state_Tennessee</th>\n",
       "      <th>state_Utah</th>\n",
       "      <th>state_Vermont</th>\n",
       "      <th>state_Virginia</th>\n",
       "      <th>state_Washington</th>\n",
       "      <th>state_West Virginia</th>\n",
       "      <th>state_Wisconsin</th>\n",
       "      <th>state_Wyoming</th>\n",
       "    </tr>\n",
       "    <tr>\n",
       "      <th>ski_resort</th>\n",
       "      <th></th>\n",
       "      <th></th>\n",
       "      <th></th>\n",
       "      <th></th>\n",
       "      <th></th>\n",
       "      <th></th>\n",
       "      <th></th>\n",
       "      <th></th>\n",
       "      <th></th>\n",
       "      <th></th>\n",
       "      <th></th>\n",
       "      <th></th>\n",
       "      <th></th>\n",
       "      <th></th>\n",
       "      <th></th>\n",
       "      <th></th>\n",
       "      <th></th>\n",
       "      <th></th>\n",
       "      <th></th>\n",
       "      <th></th>\n",
       "      <th></th>\n",
       "    </tr>\n",
       "  </thead>\n",
       "  <tbody>\n",
       "    <tr>\n",
       "      <th>Palisades Tahoe</th>\n",
       "      <td>0.0</td>\n",
       "      <td>0.0</td>\n",
       "      <td>1.0</td>\n",
       "      <td>0.0</td>\n",
       "      <td>0.0</td>\n",
       "      <td>0.0</td>\n",
       "      <td>0.0</td>\n",
       "      <td>0.0</td>\n",
       "      <td>0.0</td>\n",
       "      <td>0.0</td>\n",
       "      <td>...</td>\n",
       "      <td>0.0</td>\n",
       "      <td>0.0</td>\n",
       "      <td>0.0</td>\n",
       "      <td>0.0</td>\n",
       "      <td>0.0</td>\n",
       "      <td>0.0</td>\n",
       "      <td>0.0</td>\n",
       "      <td>0.0</td>\n",
       "      <td>0.0</td>\n",
       "      <td>0.0</td>\n",
       "    </tr>\n",
       "    <tr>\n",
       "      <th>Mammoth Mountain</th>\n",
       "      <td>0.0</td>\n",
       "      <td>0.0</td>\n",
       "      <td>1.0</td>\n",
       "      <td>0.0</td>\n",
       "      <td>0.0</td>\n",
       "      <td>0.0</td>\n",
       "      <td>0.0</td>\n",
       "      <td>0.0</td>\n",
       "      <td>0.0</td>\n",
       "      <td>0.0</td>\n",
       "      <td>...</td>\n",
       "      <td>0.0</td>\n",
       "      <td>0.0</td>\n",
       "      <td>0.0</td>\n",
       "      <td>0.0</td>\n",
       "      <td>0.0</td>\n",
       "      <td>0.0</td>\n",
       "      <td>0.0</td>\n",
       "      <td>0.0</td>\n",
       "      <td>0.0</td>\n",
       "      <td>0.0</td>\n",
       "    </tr>\n",
       "    <tr>\n",
       "      <th>Donner Ski Ranch</th>\n",
       "      <td>0.0</td>\n",
       "      <td>0.0</td>\n",
       "      <td>1.0</td>\n",
       "      <td>0.0</td>\n",
       "      <td>0.0</td>\n",
       "      <td>0.0</td>\n",
       "      <td>0.0</td>\n",
       "      <td>0.0</td>\n",
       "      <td>0.0</td>\n",
       "      <td>0.0</td>\n",
       "      <td>...</td>\n",
       "      <td>0.0</td>\n",
       "      <td>0.0</td>\n",
       "      <td>0.0</td>\n",
       "      <td>0.0</td>\n",
       "      <td>0.0</td>\n",
       "      <td>0.0</td>\n",
       "      <td>0.0</td>\n",
       "      <td>0.0</td>\n",
       "      <td>0.0</td>\n",
       "      <td>0.0</td>\n",
       "    </tr>\n",
       "    <tr>\n",
       "      <th>Sugar Bowl</th>\n",
       "      <td>0.0</td>\n",
       "      <td>0.0</td>\n",
       "      <td>1.0</td>\n",
       "      <td>0.0</td>\n",
       "      <td>0.0</td>\n",
       "      <td>0.0</td>\n",
       "      <td>0.0</td>\n",
       "      <td>0.0</td>\n",
       "      <td>0.0</td>\n",
       "      <td>0.0</td>\n",
       "      <td>...</td>\n",
       "      <td>0.0</td>\n",
       "      <td>0.0</td>\n",
       "      <td>0.0</td>\n",
       "      <td>0.0</td>\n",
       "      <td>0.0</td>\n",
       "      <td>0.0</td>\n",
       "      <td>0.0</td>\n",
       "      <td>0.0</td>\n",
       "      <td>0.0</td>\n",
       "      <td>0.0</td>\n",
       "    </tr>\n",
       "    <tr>\n",
       "      <th>Kirkwood</th>\n",
       "      <td>0.0</td>\n",
       "      <td>0.0</td>\n",
       "      <td>1.0</td>\n",
       "      <td>0.0</td>\n",
       "      <td>0.0</td>\n",
       "      <td>0.0</td>\n",
       "      <td>0.0</td>\n",
       "      <td>0.0</td>\n",
       "      <td>0.0</td>\n",
       "      <td>0.0</td>\n",
       "      <td>...</td>\n",
       "      <td>0.0</td>\n",
       "      <td>0.0</td>\n",
       "      <td>0.0</td>\n",
       "      <td>0.0</td>\n",
       "      <td>0.0</td>\n",
       "      <td>0.0</td>\n",
       "      <td>0.0</td>\n",
       "      <td>0.0</td>\n",
       "      <td>0.0</td>\n",
       "      <td>0.0</td>\n",
       "    </tr>\n",
       "    <tr>\n",
       "      <th>...</th>\n",
       "      <td>...</td>\n",
       "      <td>...</td>\n",
       "      <td>...</td>\n",
       "      <td>...</td>\n",
       "      <td>...</td>\n",
       "      <td>...</td>\n",
       "      <td>...</td>\n",
       "      <td>...</td>\n",
       "      <td>...</td>\n",
       "      <td>...</td>\n",
       "      <td>...</td>\n",
       "      <td>...</td>\n",
       "      <td>...</td>\n",
       "      <td>...</td>\n",
       "      <td>...</td>\n",
       "      <td>...</td>\n",
       "      <td>...</td>\n",
       "      <td>...</td>\n",
       "      <td>...</td>\n",
       "      <td>...</td>\n",
       "      <td>...</td>\n",
       "    </tr>\n",
       "    <tr>\n",
       "      <th>Oak Mountain</th>\n",
       "      <td>0.0</td>\n",
       "      <td>0.0</td>\n",
       "      <td>0.0</td>\n",
       "      <td>0.0</td>\n",
       "      <td>0.0</td>\n",
       "      <td>0.0</td>\n",
       "      <td>0.0</td>\n",
       "      <td>0.0</td>\n",
       "      <td>0.0</td>\n",
       "      <td>0.0</td>\n",
       "      <td>...</td>\n",
       "      <td>0.0</td>\n",
       "      <td>0.0</td>\n",
       "      <td>0.0</td>\n",
       "      <td>0.0</td>\n",
       "      <td>0.0</td>\n",
       "      <td>0.0</td>\n",
       "      <td>0.0</td>\n",
       "      <td>0.0</td>\n",
       "      <td>0.0</td>\n",
       "      <td>0.0</td>\n",
       "    </tr>\n",
       "    <tr>\n",
       "      <th>Mt. Pleasant</th>\n",
       "      <td>0.0</td>\n",
       "      <td>0.0</td>\n",
       "      <td>0.0</td>\n",
       "      <td>0.0</td>\n",
       "      <td>0.0</td>\n",
       "      <td>0.0</td>\n",
       "      <td>0.0</td>\n",
       "      <td>0.0</td>\n",
       "      <td>0.0</td>\n",
       "      <td>0.0</td>\n",
       "      <td>...</td>\n",
       "      <td>0.0</td>\n",
       "      <td>0.0</td>\n",
       "      <td>0.0</td>\n",
       "      <td>0.0</td>\n",
       "      <td>0.0</td>\n",
       "      <td>0.0</td>\n",
       "      <td>0.0</td>\n",
       "      <td>0.0</td>\n",
       "      <td>0.0</td>\n",
       "      <td>0.0</td>\n",
       "    </tr>\n",
       "    <tr>\n",
       "      <th>Hunt Hollow</th>\n",
       "      <td>0.0</td>\n",
       "      <td>0.0</td>\n",
       "      <td>0.0</td>\n",
       "      <td>0.0</td>\n",
       "      <td>0.0</td>\n",
       "      <td>0.0</td>\n",
       "      <td>0.0</td>\n",
       "      <td>0.0</td>\n",
       "      <td>0.0</td>\n",
       "      <td>0.0</td>\n",
       "      <td>...</td>\n",
       "      <td>0.0</td>\n",
       "      <td>0.0</td>\n",
       "      <td>0.0</td>\n",
       "      <td>0.0</td>\n",
       "      <td>0.0</td>\n",
       "      <td>0.0</td>\n",
       "      <td>0.0</td>\n",
       "      <td>0.0</td>\n",
       "      <td>0.0</td>\n",
       "      <td>0.0</td>\n",
       "    </tr>\n",
       "    <tr>\n",
       "      <th>Powder Ridge Connecticut</th>\n",
       "      <td>0.0</td>\n",
       "      <td>0.0</td>\n",
       "      <td>0.0</td>\n",
       "      <td>0.0</td>\n",
       "      <td>1.0</td>\n",
       "      <td>0.0</td>\n",
       "      <td>0.0</td>\n",
       "      <td>0.0</td>\n",
       "      <td>0.0</td>\n",
       "      <td>0.0</td>\n",
       "      <td>...</td>\n",
       "      <td>0.0</td>\n",
       "      <td>0.0</td>\n",
       "      <td>0.0</td>\n",
       "      <td>0.0</td>\n",
       "      <td>0.0</td>\n",
       "      <td>0.0</td>\n",
       "      <td>0.0</td>\n",
       "      <td>0.0</td>\n",
       "      <td>0.0</td>\n",
       "      <td>0.0</td>\n",
       "    </tr>\n",
       "    <tr>\n",
       "      <th>Shawnee Mountain</th>\n",
       "      <td>0.0</td>\n",
       "      <td>0.0</td>\n",
       "      <td>0.0</td>\n",
       "      <td>0.0</td>\n",
       "      <td>0.0</td>\n",
       "      <td>0.0</td>\n",
       "      <td>0.0</td>\n",
       "      <td>0.0</td>\n",
       "      <td>0.0</td>\n",
       "      <td>0.0</td>\n",
       "      <td>...</td>\n",
       "      <td>0.0</td>\n",
       "      <td>0.0</td>\n",
       "      <td>0.0</td>\n",
       "      <td>0.0</td>\n",
       "      <td>0.0</td>\n",
       "      <td>0.0</td>\n",
       "      <td>0.0</td>\n",
       "      <td>0.0</td>\n",
       "      <td>0.0</td>\n",
       "      <td>0.0</td>\n",
       "    </tr>\n",
       "  </tbody>\n",
       "</table>\n",
       "<p>330 rows × 35 columns</p>\n",
       "</div>"
      ],
      "text/plain": [
       "                          state_Alaska  state_Arizona  state_California  \\\n",
       "ski_resort                                                                \n",
       "Palisades Tahoe                    0.0            0.0               1.0   \n",
       "Mammoth Mountain                   0.0            0.0               1.0   \n",
       "Donner Ski Ranch                   0.0            0.0               1.0   \n",
       "Sugar Bowl                         0.0            0.0               1.0   \n",
       "Kirkwood                           0.0            0.0               1.0   \n",
       "...                                ...            ...               ...   \n",
       "Oak Mountain                       0.0            0.0               0.0   \n",
       "Mt. Pleasant                       0.0            0.0               0.0   \n",
       "Hunt Hollow                        0.0            0.0               0.0   \n",
       "Powder Ridge Connecticut           0.0            0.0               0.0   \n",
       "Shawnee Mountain                   0.0            0.0               0.0   \n",
       "\n",
       "                          state_Colorado  state_Connecticut  state_Idaho  \\\n",
       "ski_resort                                                                 \n",
       "Palisades Tahoe                      0.0                0.0          0.0   \n",
       "Mammoth Mountain                     0.0                0.0          0.0   \n",
       "Donner Ski Ranch                     0.0                0.0          0.0   \n",
       "Sugar Bowl                           0.0                0.0          0.0   \n",
       "Kirkwood                             0.0                0.0          0.0   \n",
       "...                                  ...                ...          ...   \n",
       "Oak Mountain                         0.0                0.0          0.0   \n",
       "Mt. Pleasant                         0.0                0.0          0.0   \n",
       "Hunt Hollow                          0.0                0.0          0.0   \n",
       "Powder Ridge Connecticut             0.0                1.0          0.0   \n",
       "Shawnee Mountain                     0.0                0.0          0.0   \n",
       "\n",
       "                          state_Illinois  state_Indiana  state_Iowa  \\\n",
       "ski_resort                                                            \n",
       "Palisades Tahoe                      0.0            0.0         0.0   \n",
       "Mammoth Mountain                     0.0            0.0         0.0   \n",
       "Donner Ski Ranch                     0.0            0.0         0.0   \n",
       "Sugar Bowl                           0.0            0.0         0.0   \n",
       "Kirkwood                             0.0            0.0         0.0   \n",
       "...                                  ...            ...         ...   \n",
       "Oak Mountain                         0.0            0.0         0.0   \n",
       "Mt. Pleasant                         0.0            0.0         0.0   \n",
       "Hunt Hollow                          0.0            0.0         0.0   \n",
       "Powder Ridge Connecticut             0.0            0.0         0.0   \n",
       "Shawnee Mountain                     0.0            0.0         0.0   \n",
       "\n",
       "                          state_Maine  ...  state_Rhode Island  \\\n",
       "ski_resort                             ...                       \n",
       "Palisades Tahoe                   0.0  ...                 0.0   \n",
       "Mammoth Mountain                  0.0  ...                 0.0   \n",
       "Donner Ski Ranch                  0.0  ...                 0.0   \n",
       "Sugar Bowl                        0.0  ...                 0.0   \n",
       "Kirkwood                          0.0  ...                 0.0   \n",
       "...                               ...  ...                 ...   \n",
       "Oak Mountain                      0.0  ...                 0.0   \n",
       "Mt. Pleasant                      0.0  ...                 0.0   \n",
       "Hunt Hollow                       0.0  ...                 0.0   \n",
       "Powder Ridge Connecticut          0.0  ...                 0.0   \n",
       "Shawnee Mountain                  0.0  ...                 0.0   \n",
       "\n",
       "                          state_South Dakota  state_Tennessee  state_Utah  \\\n",
       "ski_resort                                                                  \n",
       "Palisades Tahoe                          0.0              0.0         0.0   \n",
       "Mammoth Mountain                         0.0              0.0         0.0   \n",
       "Donner Ski Ranch                         0.0              0.0         0.0   \n",
       "Sugar Bowl                               0.0              0.0         0.0   \n",
       "Kirkwood                                 0.0              0.0         0.0   \n",
       "...                                      ...              ...         ...   \n",
       "Oak Mountain                             0.0              0.0         0.0   \n",
       "Mt. Pleasant                             0.0              0.0         0.0   \n",
       "Hunt Hollow                              0.0              0.0         0.0   \n",
       "Powder Ridge Connecticut                 0.0              0.0         0.0   \n",
       "Shawnee Mountain                         0.0              0.0         0.0   \n",
       "\n",
       "                          state_Vermont  state_Virginia  state_Washington  \\\n",
       "ski_resort                                                                  \n",
       "Palisades Tahoe                     0.0             0.0               0.0   \n",
       "Mammoth Mountain                    0.0             0.0               0.0   \n",
       "Donner Ski Ranch                    0.0             0.0               0.0   \n",
       "Sugar Bowl                          0.0             0.0               0.0   \n",
       "Kirkwood                            0.0             0.0               0.0   \n",
       "...                                 ...             ...               ...   \n",
       "Oak Mountain                        0.0             0.0               0.0   \n",
       "Mt. Pleasant                        0.0             0.0               0.0   \n",
       "Hunt Hollow                         0.0             0.0               0.0   \n",
       "Powder Ridge Connecticut            0.0             0.0               0.0   \n",
       "Shawnee Mountain                    0.0             0.0               0.0   \n",
       "\n",
       "                          state_West Virginia  state_Wisconsin  state_Wyoming  \n",
       "ski_resort                                                                     \n",
       "Palisades Tahoe                           0.0              0.0            0.0  \n",
       "Mammoth Mountain                          0.0              0.0            0.0  \n",
       "Donner Ski Ranch                          0.0              0.0            0.0  \n",
       "Sugar Bowl                                0.0              0.0            0.0  \n",
       "Kirkwood                                  0.0              0.0            0.0  \n",
       "...                                       ...              ...            ...  \n",
       "Oak Mountain                              0.0              0.0            0.0  \n",
       "Mt. Pleasant                              0.0              0.0            0.0  \n",
       "Hunt Hollow                               0.0              0.0            0.0  \n",
       "Powder Ridge Connecticut                  0.0              0.0            0.0  \n",
       "Shawnee Mountain                          0.0              0.0            0.0  \n",
       "\n",
       "[330 rows x 35 columns]"
      ]
     },
     "execution_count": 16,
     "metadata": {},
     "output_type": "execute_result"
    }
   ],
   "source": [
    "ohe_state"
   ]
  },
  {
   "cell_type": "code",
   "execution_count": 17,
   "metadata": {
    "scrolled": false
   },
   "outputs": [],
   "source": [
    "#resetting index as ski_resort\n",
    "content_matrix = content_matrix.set_index(\"ski_resort\")\n",
    "\n",
    "#dropping state column\n",
    "final_content_matrix = content_matrix.drop(columns=[\"state\", \"city\", 'latitude','longitude'])\n",
    "\n",
    "#filling null matrix values with 0\n",
    "final_content_matrix = final_content_matrix.fillna(0)"
   ]
  },
  {
   "cell_type": "code",
   "execution_count": 18,
   "metadata": {},
   "outputs": [
    {
     "name": "stdout",
     "output_type": "stream",
     "text": [
      "<class 'pandas.core.frame.DataFrame'>\n",
      "Index: 330 entries, Palisades Tahoe to Shawnee Mountain\n",
      "Data columns (total 78 columns):\n",
      " #   Column                Non-Null Count  Dtype  \n",
      "---  ------                --------------  -----  \n",
      " 0   summit                330 non-null    int64  \n",
      " 1   drop                  330 non-null    int64  \n",
      " 2   base                  330 non-null    int64  \n",
      " 3   gondolas_and_trams    330 non-null    float64\n",
      " 4   fast_eight            330 non-null    int64  \n",
      " 5   high_speed_sixes      330 non-null    int64  \n",
      " 6   quad_chairs           330 non-null    int64  \n",
      " 7   triple_chairs         330 non-null    int64  \n",
      " 8   double_chairs         330 non-null    int64  \n",
      " 9   surface_lifts         330 non-null    int64  \n",
      " 10  total_runs            330 non-null    int64  \n",
      " 11  longest_run           330 non-null    int64  \n",
      " 12  skiable_terrain       330 non-null    int64  \n",
      " 13  snow_making           330 non-null    int64  \n",
      " 14  averageSnowfall       330 non-null    int64  \n",
      " 15  nov_snow              330 non-null    int64  \n",
      " 16  dec_snow              330 non-null    int64  \n",
      " 17  jan_snow              330 non-null    int64  \n",
      " 18  feb_snow              330 non-null    int64  \n",
      " 19  mar_snow              330 non-null    int64  \n",
      " 20  apr_snow              330 non-null    int64  \n",
      " 21  childrenWeekdayPrice  330 non-null    float64\n",
      " 22  childrenWeekendPrice  330 non-null    float64\n",
      " 23  teenagerWeekdayPrice  330 non-null    float64\n",
      " 24  teenagerWeekendPrice  330 non-null    float64\n",
      " 25  adultWeekdayPrice     330 non-null    float64\n",
      " 26  adultWeekendPrice     330 non-null    float64\n",
      " 27  seniorWeekdayPrice    330 non-null    float64\n",
      " 28  seniorWeekendPrice    330 non-null    float64\n",
      " 29  childrenPrice_season  330 non-null    float64\n",
      " 30  teenagerPrice_season  330 non-null    float64\n",
      " 31  adultPrice_season     330 non-null    float64\n",
      " 32  beginner_runs         330 non-null    int64  \n",
      " 33  intermediate_runs     330 non-null    int64  \n",
      " 34  advanced_runs         330 non-null    int64  \n",
      " 35  expert_runs           330 non-null    float64\n",
      " 36  night_skiing          330 non-null    int64  \n",
      " 37  epic                  330 non-null    int64  \n",
      " 38  mountain_collective   330 non-null    int64  \n",
      " 39  ikon                  330 non-null    int64  \n",
      " 40  indy                  330 non-null    int64  \n",
      " 41  dec_mean_2_guests     330 non-null    int64  \n",
      " 42  dec_min_2_guests      330 non-null    int64  \n",
      " 43  dec_max_2_guests      330 non-null    int64  \n",
      " 44  jan_mean_2_guests     330 non-null    int64  \n",
      " 45  jan_min_2_guests      330 non-null    int64  \n",
      " 46  jan_max_2_guests      330 non-null    int64  \n",
      " 47  feb_mean_2_guests     330 non-null    int64  \n",
      " 48  feb_min_2_guests      330 non-null    int64  \n",
      " 49  feb_max_2_guests      330 non-null    int64  \n",
      " 50  mar_mean_2_guests     330 non-null    int64  \n",
      " 51  mar_min_2_guests      330 non-null    int64  \n",
      " 52  mar_max_2_guests      330 non-null    int64  \n",
      " 53  apr_mean_2_guests     330 non-null    int64  \n",
      " 54  apr_min_2_guests      330 non-null    int64  \n",
      " 55  apr_max_2_guests      330 non-null    int64  \n",
      " 56  may_mean_2_guests     330 non-null    int64  \n",
      " 57  may_min_2_guests      330 non-null    int64  \n",
      " 58  may_max_2_guests      330 non-null    int64  \n",
      " 59  dec_mean_4_guests     330 non-null    int64  \n",
      " 60  dec_min_4_guests      330 non-null    int64  \n",
      " 61  dec_max_4_guests      330 non-null    int64  \n",
      " 62  jan_mean_4_guests     330 non-null    int64  \n",
      " 63  jan_min_4_guests      330 non-null    int64  \n",
      " 64  jan_max_4_guests      330 non-null    int64  \n",
      " 65  feb_mean_4_guests     330 non-null    int64  \n",
      " 66  feb_min_4_guests      330 non-null    int64  \n",
      " 67  feb_max_4_guests      330 non-null    int64  \n",
      " 68  mar_mean_4_guests     330 non-null    int64  \n",
      " 69  mar_min_4_guests      330 non-null    int64  \n",
      " 70  mar_max_4_guests      330 non-null    int64  \n",
      " 71  apr_mean_4_guests     330 non-null    int64  \n",
      " 72  apr_min_4_guests      330 non-null    int64  \n",
      " 73  apr_max_4_guests      330 non-null    int64  \n",
      " 74  may_mean_4_guests     330 non-null    int64  \n",
      " 75  may_min_4_guests      330 non-null    int64  \n",
      " 76  may_max_4_guests      330 non-null    int64  \n",
      " 77  total_lifts           330 non-null    int64  \n",
      "dtypes: float64(13), int64(65)\n",
      "memory usage: 203.7+ KB\n"
     ]
    }
   ],
   "source": [
    "final_content_matrix.info()"
   ]
  },
  {
   "cell_type": "markdown",
   "metadata": {},
   "source": [
    "### Scaling Data"
   ]
  },
  {
   "cell_type": "markdown",
   "metadata": {},
   "source": [
    "I will be using StandardScaler to scale the values in the matrix to ensure they are on the same scale. This is necessary to continue modeling."
   ]
  },
  {
   "cell_type": "code",
   "execution_count": 19,
   "metadata": {},
   "outputs": [],
   "source": [
    "#instantiating minmaxscaler\n",
    "scaler = StandardScaler()\n",
    "\n",
    "#scaling array\n",
    "scaled = scaler.fit_transform(final_content_matrix)\n",
    "\n",
    "#saving as dataframe\n",
    "scaled_ski_df = pd.DataFrame(scaled, index=final_content_matrix.index, columns=final_content_matrix.columns)"
   ]
  },
  {
   "cell_type": "code",
   "execution_count": 20,
   "metadata": {},
   "outputs": [
    {
     "data": {
      "text/html": [
       "<div>\n",
       "<style scoped>\n",
       "    .dataframe tbody tr th:only-of-type {\n",
       "        vertical-align: middle;\n",
       "    }\n",
       "\n",
       "    .dataframe tbody tr th {\n",
       "        vertical-align: top;\n",
       "    }\n",
       "\n",
       "    .dataframe thead th {\n",
       "        text-align: right;\n",
       "    }\n",
       "</style>\n",
       "<table border=\"1\" class=\"dataframe\">\n",
       "  <thead>\n",
       "    <tr style=\"text-align: right;\">\n",
       "      <th></th>\n",
       "      <th>summit</th>\n",
       "      <th>drop</th>\n",
       "      <th>base</th>\n",
       "      <th>gondolas_and_trams</th>\n",
       "      <th>fast_eight</th>\n",
       "      <th>high_speed_sixes</th>\n",
       "      <th>quad_chairs</th>\n",
       "      <th>triple_chairs</th>\n",
       "      <th>double_chairs</th>\n",
       "      <th>surface_lifts</th>\n",
       "      <th>...</th>\n",
       "      <th>mar_mean_4_guests</th>\n",
       "      <th>mar_min_4_guests</th>\n",
       "      <th>mar_max_4_guests</th>\n",
       "      <th>apr_mean_4_guests</th>\n",
       "      <th>apr_min_4_guests</th>\n",
       "      <th>apr_max_4_guests</th>\n",
       "      <th>may_mean_4_guests</th>\n",
       "      <th>may_min_4_guests</th>\n",
       "      <th>may_max_4_guests</th>\n",
       "      <th>total_lifts</th>\n",
       "    </tr>\n",
       "    <tr>\n",
       "      <th>ski_resort</th>\n",
       "      <th></th>\n",
       "      <th></th>\n",
       "      <th></th>\n",
       "      <th></th>\n",
       "      <th></th>\n",
       "      <th></th>\n",
       "      <th></th>\n",
       "      <th></th>\n",
       "      <th></th>\n",
       "      <th></th>\n",
       "      <th></th>\n",
       "      <th></th>\n",
       "      <th></th>\n",
       "      <th></th>\n",
       "      <th></th>\n",
       "      <th></th>\n",
       "      <th></th>\n",
       "      <th></th>\n",
       "      <th></th>\n",
       "      <th></th>\n",
       "      <th></th>\n",
       "    </tr>\n",
       "  </thead>\n",
       "  <tbody>\n",
       "    <tr>\n",
       "      <th>Palisades Tahoe</th>\n",
       "      <td>1.186487</td>\n",
       "      <td>1.710642</td>\n",
       "      <td>0.902438</td>\n",
       "      <td>4.759106</td>\n",
       "      <td>2.238096</td>\n",
       "      <td>5.503542</td>\n",
       "      <td>0.006503</td>\n",
       "      <td>6.302092</td>\n",
       "      <td>1.902088</td>\n",
       "      <td>1.080304</td>\n",
       "      <td>...</td>\n",
       "      <td>2.541470</td>\n",
       "      <td>2.537409</td>\n",
       "      <td>2.180666</td>\n",
       "      <td>2.334115</td>\n",
       "      <td>1.841660</td>\n",
       "      <td>1.669874</td>\n",
       "      <td>2.000277</td>\n",
       "      <td>1.059825</td>\n",
       "      <td>1.368909</td>\n",
       "      <td>4.654503</td>\n",
       "    </tr>\n",
       "    <tr>\n",
       "      <th>Mammoth Mountain</th>\n",
       "      <td>1.722887</td>\n",
       "      <td>1.973881</td>\n",
       "      <td>1.465619</td>\n",
       "      <td>4.759106</td>\n",
       "      <td>3.594102</td>\n",
       "      <td>2.599995</td>\n",
       "      <td>0.006503</td>\n",
       "      <td>2.697776</td>\n",
       "      <td>1.325698</td>\n",
       "      <td>-1.290043</td>\n",
       "      <td>...</td>\n",
       "      <td>0.792226</td>\n",
       "      <td>1.139202</td>\n",
       "      <td>-0.155575</td>\n",
       "      <td>0.684433</td>\n",
       "      <td>0.415601</td>\n",
       "      <td>0.110550</td>\n",
       "      <td>-1.049510</td>\n",
       "      <td>-1.007546</td>\n",
       "      <td>-0.928538</td>\n",
       "      <td>2.801482</td>\n",
       "    </tr>\n",
       "    <tr>\n",
       "      <th>Donner Ski Ranch</th>\n",
       "      <td>0.908512</td>\n",
       "      <td>-0.500562</td>\n",
       "      <td>1.169411</td>\n",
       "      <td>-0.323434</td>\n",
       "      <td>-0.473917</td>\n",
       "      <td>-0.303553</td>\n",
       "      <td>-0.708794</td>\n",
       "      <td>-0.305821</td>\n",
       "      <td>1.902088</td>\n",
       "      <td>-0.341905</td>\n",
       "      <td>...</td>\n",
       "      <td>0.648301</td>\n",
       "      <td>2.019554</td>\n",
       "      <td>0.323818</td>\n",
       "      <td>0.971334</td>\n",
       "      <td>1.485145</td>\n",
       "      <td>0.936075</td>\n",
       "      <td>0.369375</td>\n",
       "      <td>-0.330304</td>\n",
       "      <td>0.646741</td>\n",
       "      <td>-0.062278</td>\n",
       "    </tr>\n",
       "    <tr>\n",
       "      <th>Sugar Bowl</th>\n",
       "      <td>1.007865</td>\n",
       "      <td>0.289154</td>\n",
       "      <td>1.121864</td>\n",
       "      <td>1.370746</td>\n",
       "      <td>1.786094</td>\n",
       "      <td>-0.303553</td>\n",
       "      <td>1.437096</td>\n",
       "      <td>-0.305821</td>\n",
       "      <td>-0.979864</td>\n",
       "      <td>-0.341905</td>\n",
       "      <td>...</td>\n",
       "      <td>0.902937</td>\n",
       "      <td>2.019554</td>\n",
       "      <td>0.323818</td>\n",
       "      <td>0.971334</td>\n",
       "      <td>1.485145</td>\n",
       "      <td>0.936075</td>\n",
       "      <td>0.597701</td>\n",
       "      <td>0.988536</td>\n",
       "      <td>0.646741</td>\n",
       "      <td>0.611548</td>\n",
       "    </tr>\n",
       "    <tr>\n",
       "      <th>Kirkwood</th>\n",
       "      <td>1.387336</td>\n",
       "      <td>0.815631</td>\n",
       "      <td>1.416465</td>\n",
       "      <td>-0.323434</td>\n",
       "      <td>0.430087</td>\n",
       "      <td>-0.303553</td>\n",
       "      <td>0.721800</td>\n",
       "      <td>2.097056</td>\n",
       "      <td>-0.403473</td>\n",
       "      <td>0.132165</td>\n",
       "      <td>...</td>\n",
       "      <td>1.733275</td>\n",
       "      <td>0.880274</td>\n",
       "      <td>1.730037</td>\n",
       "      <td>1.820084</td>\n",
       "      <td>1.073782</td>\n",
       "      <td>0.808216</td>\n",
       "      <td>1.641478</td>\n",
       "      <td>0.774670</td>\n",
       "      <td>0.436439</td>\n",
       "      <td>0.780005</td>\n",
       "    </tr>\n",
       "    <tr>\n",
       "      <th>...</th>\n",
       "      <td>...</td>\n",
       "      <td>...</td>\n",
       "      <td>...</td>\n",
       "      <td>...</td>\n",
       "      <td>...</td>\n",
       "      <td>...</td>\n",
       "      <td>...</td>\n",
       "      <td>...</td>\n",
       "      <td>...</td>\n",
       "      <td>...</td>\n",
       "      <td>...</td>\n",
       "      <td>...</td>\n",
       "      <td>...</td>\n",
       "      <td>...</td>\n",
       "      <td>...</td>\n",
       "      <td>...</td>\n",
       "      <td>...</td>\n",
       "      <td>...</td>\n",
       "      <td>...</td>\n",
       "      <td>...</td>\n",
       "      <td>...</td>\n",
       "    </tr>\n",
       "    <tr>\n",
       "      <th>Oak Mountain</th>\n",
       "      <td>-0.594373</td>\n",
       "      <td>-0.605857</td>\n",
       "      <td>-0.527200</td>\n",
       "      <td>-0.323434</td>\n",
       "      <td>-0.473917</td>\n",
       "      <td>-0.303553</td>\n",
       "      <td>0.006503</td>\n",
       "      <td>-0.906540</td>\n",
       "      <td>-0.979864</td>\n",
       "      <td>0.132165</td>\n",
       "      <td>...</td>\n",
       "      <td>0.028315</td>\n",
       "      <td>-0.310791</td>\n",
       "      <td>0.419696</td>\n",
       "      <td>0.206265</td>\n",
       "      <td>0.388177</td>\n",
       "      <td>0.305118</td>\n",
       "      <td>0.173666</td>\n",
       "      <td>0.097428</td>\n",
       "      <td>-0.079395</td>\n",
       "      <td>-0.736104</td>\n",
       "    </tr>\n",
       "    <tr>\n",
       "      <th>Mt. Pleasant</th>\n",
       "      <td>-0.824680</td>\n",
       "      <td>-0.932273</td>\n",
       "      <td>-0.703897</td>\n",
       "      <td>-0.323434</td>\n",
       "      <td>-0.473917</td>\n",
       "      <td>-0.303553</td>\n",
       "      <td>-0.708794</td>\n",
       "      <td>-0.305821</td>\n",
       "      <td>-0.979864</td>\n",
       "      <td>-0.815974</td>\n",
       "      <td>...</td>\n",
       "      <td>-1.012374</td>\n",
       "      <td>-1.475964</td>\n",
       "      <td>-0.919408</td>\n",
       "      <td>-1.001111</td>\n",
       "      <td>-1.531517</td>\n",
       "      <td>-0.859511</td>\n",
       "      <td>-0.315604</td>\n",
       "      <td>-0.579814</td>\n",
       "      <td>-0.317473</td>\n",
       "      <td>-1.073017</td>\n",
       "    </tr>\n",
       "    <tr>\n",
       "      <th>Hunt Hollow</th>\n",
       "      <td>-0.693458</td>\n",
       "      <td>-0.421590</td>\n",
       "      <td>-0.768150</td>\n",
       "      <td>-0.323434</td>\n",
       "      <td>-0.473917</td>\n",
       "      <td>-0.303553</td>\n",
       "      <td>-0.708794</td>\n",
       "      <td>-0.305821</td>\n",
       "      <td>-0.403473</td>\n",
       "      <td>-0.815974</td>\n",
       "      <td>...</td>\n",
       "      <td>0.515447</td>\n",
       "      <td>0.336527</td>\n",
       "      <td>0.518771</td>\n",
       "      <td>0.469257</td>\n",
       "      <td>0.360753</td>\n",
       "      <td>0.391284</td>\n",
       "      <td>0.548774</td>\n",
       "      <td>0.240005</td>\n",
       "      <td>-0.142883</td>\n",
       "      <td>-0.904560</td>\n",
       "    </tr>\n",
       "    <tr>\n",
       "      <th>Powder Ridge Connecticut</th>\n",
       "      <td>-1.044275</td>\n",
       "      <td>-0.711153</td>\n",
       "      <td>-1.034802</td>\n",
       "      <td>-0.323434</td>\n",
       "      <td>-0.473917</td>\n",
       "      <td>-0.303553</td>\n",
       "      <td>-0.708794</td>\n",
       "      <td>-0.305821</td>\n",
       "      <td>0.172917</td>\n",
       "      <td>0.132165</td>\n",
       "      <td>...</td>\n",
       "      <td>-0.469887</td>\n",
       "      <td>-1.165251</td>\n",
       "      <td>1.084454</td>\n",
       "      <td>-0.367538</td>\n",
       "      <td>-1.175002</td>\n",
       "      <td>1.500322</td>\n",
       "      <td>-0.984274</td>\n",
       "      <td>-0.686747</td>\n",
       "      <td>-0.912666</td>\n",
       "      <td>-0.399191</td>\n",
       "    </tr>\n",
       "    <tr>\n",
       "      <th>Shawnee Mountain</th>\n",
       "      <td>-0.875561</td>\n",
       "      <td>-0.553209</td>\n",
       "      <td>-0.880594</td>\n",
       "      <td>-0.323434</td>\n",
       "      <td>-0.021915</td>\n",
       "      <td>-0.303553</td>\n",
       "      <td>0.006503</td>\n",
       "      <td>-0.906540</td>\n",
       "      <td>0.749308</td>\n",
       "      <td>0.606234</td>\n",
       "      <td>...</td>\n",
       "      <td>-0.779880</td>\n",
       "      <td>0.207063</td>\n",
       "      <td>-0.724455</td>\n",
       "      <td>-0.726164</td>\n",
       "      <td>-1.092730</td>\n",
       "      <td>-0.517627</td>\n",
       "      <td>-1.098437</td>\n",
       "      <td>-0.864969</td>\n",
       "      <td>-0.674589</td>\n",
       "      <td>0.106179</td>\n",
       "    </tr>\n",
       "  </tbody>\n",
       "</table>\n",
       "<p>330 rows × 78 columns</p>\n",
       "</div>"
      ],
      "text/plain": [
       "                            summit      drop      base  gondolas_and_trams  \\\n",
       "ski_resort                                                                   \n",
       "Palisades Tahoe           1.186487  1.710642  0.902438            4.759106   \n",
       "Mammoth Mountain          1.722887  1.973881  1.465619            4.759106   \n",
       "Donner Ski Ranch          0.908512 -0.500562  1.169411           -0.323434   \n",
       "Sugar Bowl                1.007865  0.289154  1.121864            1.370746   \n",
       "Kirkwood                  1.387336  0.815631  1.416465           -0.323434   \n",
       "...                            ...       ...       ...                 ...   \n",
       "Oak Mountain             -0.594373 -0.605857 -0.527200           -0.323434   \n",
       "Mt. Pleasant             -0.824680 -0.932273 -0.703897           -0.323434   \n",
       "Hunt Hollow              -0.693458 -0.421590 -0.768150           -0.323434   \n",
       "Powder Ridge Connecticut -1.044275 -0.711153 -1.034802           -0.323434   \n",
       "Shawnee Mountain         -0.875561 -0.553209 -0.880594           -0.323434   \n",
       "\n",
       "                          fast_eight  high_speed_sixes  quad_chairs  \\\n",
       "ski_resort                                                            \n",
       "Palisades Tahoe             2.238096          5.503542     0.006503   \n",
       "Mammoth Mountain            3.594102          2.599995     0.006503   \n",
       "Donner Ski Ranch           -0.473917         -0.303553    -0.708794   \n",
       "Sugar Bowl                  1.786094         -0.303553     1.437096   \n",
       "Kirkwood                    0.430087         -0.303553     0.721800   \n",
       "...                              ...               ...          ...   \n",
       "Oak Mountain               -0.473917         -0.303553     0.006503   \n",
       "Mt. Pleasant               -0.473917         -0.303553    -0.708794   \n",
       "Hunt Hollow                -0.473917         -0.303553    -0.708794   \n",
       "Powder Ridge Connecticut   -0.473917         -0.303553    -0.708794   \n",
       "Shawnee Mountain           -0.021915         -0.303553     0.006503   \n",
       "\n",
       "                          triple_chairs  double_chairs  surface_lifts  ...  \\\n",
       "ski_resort                                                             ...   \n",
       "Palisades Tahoe                6.302092       1.902088       1.080304  ...   \n",
       "Mammoth Mountain               2.697776       1.325698      -1.290043  ...   \n",
       "Donner Ski Ranch              -0.305821       1.902088      -0.341905  ...   \n",
       "Sugar Bowl                    -0.305821      -0.979864      -0.341905  ...   \n",
       "Kirkwood                       2.097056      -0.403473       0.132165  ...   \n",
       "...                                 ...            ...            ...  ...   \n",
       "Oak Mountain                  -0.906540      -0.979864       0.132165  ...   \n",
       "Mt. Pleasant                  -0.305821      -0.979864      -0.815974  ...   \n",
       "Hunt Hollow                   -0.305821      -0.403473      -0.815974  ...   \n",
       "Powder Ridge Connecticut      -0.305821       0.172917       0.132165  ...   \n",
       "Shawnee Mountain              -0.906540       0.749308       0.606234  ...   \n",
       "\n",
       "                          mar_mean_4_guests  mar_min_4_guests  \\\n",
       "ski_resort                                                      \n",
       "Palisades Tahoe                    2.541470          2.537409   \n",
       "Mammoth Mountain                   0.792226          1.139202   \n",
       "Donner Ski Ranch                   0.648301          2.019554   \n",
       "Sugar Bowl                         0.902937          2.019554   \n",
       "Kirkwood                           1.733275          0.880274   \n",
       "...                                     ...               ...   \n",
       "Oak Mountain                       0.028315         -0.310791   \n",
       "Mt. Pleasant                      -1.012374         -1.475964   \n",
       "Hunt Hollow                        0.515447          0.336527   \n",
       "Powder Ridge Connecticut          -0.469887         -1.165251   \n",
       "Shawnee Mountain                  -0.779880          0.207063   \n",
       "\n",
       "                          mar_max_4_guests  apr_mean_4_guests  \\\n",
       "ski_resort                                                      \n",
       "Palisades Tahoe                   2.180666           2.334115   \n",
       "Mammoth Mountain                 -0.155575           0.684433   \n",
       "Donner Ski Ranch                  0.323818           0.971334   \n",
       "Sugar Bowl                        0.323818           0.971334   \n",
       "Kirkwood                          1.730037           1.820084   \n",
       "...                                    ...                ...   \n",
       "Oak Mountain                      0.419696           0.206265   \n",
       "Mt. Pleasant                     -0.919408          -1.001111   \n",
       "Hunt Hollow                       0.518771           0.469257   \n",
       "Powder Ridge Connecticut          1.084454          -0.367538   \n",
       "Shawnee Mountain                 -0.724455          -0.726164   \n",
       "\n",
       "                          apr_min_4_guests  apr_max_4_guests  \\\n",
       "ski_resort                                                     \n",
       "Palisades Tahoe                   1.841660          1.669874   \n",
       "Mammoth Mountain                  0.415601          0.110550   \n",
       "Donner Ski Ranch                  1.485145          0.936075   \n",
       "Sugar Bowl                        1.485145          0.936075   \n",
       "Kirkwood                          1.073782          0.808216   \n",
       "...                                    ...               ...   \n",
       "Oak Mountain                      0.388177          0.305118   \n",
       "Mt. Pleasant                     -1.531517         -0.859511   \n",
       "Hunt Hollow                       0.360753          0.391284   \n",
       "Powder Ridge Connecticut         -1.175002          1.500322   \n",
       "Shawnee Mountain                 -1.092730         -0.517627   \n",
       "\n",
       "                          may_mean_4_guests  may_min_4_guests  \\\n",
       "ski_resort                                                      \n",
       "Palisades Tahoe                    2.000277          1.059825   \n",
       "Mammoth Mountain                  -1.049510         -1.007546   \n",
       "Donner Ski Ranch                   0.369375         -0.330304   \n",
       "Sugar Bowl                         0.597701          0.988536   \n",
       "Kirkwood                           1.641478          0.774670   \n",
       "...                                     ...               ...   \n",
       "Oak Mountain                       0.173666          0.097428   \n",
       "Mt. Pleasant                      -0.315604         -0.579814   \n",
       "Hunt Hollow                        0.548774          0.240005   \n",
       "Powder Ridge Connecticut          -0.984274         -0.686747   \n",
       "Shawnee Mountain                  -1.098437         -0.864969   \n",
       "\n",
       "                          may_max_4_guests  total_lifts  \n",
       "ski_resort                                               \n",
       "Palisades Tahoe                   1.368909     4.654503  \n",
       "Mammoth Mountain                 -0.928538     2.801482  \n",
       "Donner Ski Ranch                  0.646741    -0.062278  \n",
       "Sugar Bowl                        0.646741     0.611548  \n",
       "Kirkwood                          0.436439     0.780005  \n",
       "...                                    ...          ...  \n",
       "Oak Mountain                     -0.079395    -0.736104  \n",
       "Mt. Pleasant                     -0.317473    -1.073017  \n",
       "Hunt Hollow                      -0.142883    -0.904560  \n",
       "Powder Ridge Connecticut         -0.912666    -0.399191  \n",
       "Shawnee Mountain                 -0.674589     0.106179  \n",
       "\n",
       "[330 rows x 78 columns]"
      ]
     },
     "execution_count": 20,
     "metadata": {},
     "output_type": "execute_result"
    }
   ],
   "source": [
    "scaled_ski_df"
   ]
  },
  {
   "cell_type": "code",
   "execution_count": 21,
   "metadata": {},
   "outputs": [],
   "source": [
    "#merging scaled_ski_df and one hot encoded dataframes\n",
    "final_content_df = scaled_ski_df.join(ohe_state)"
   ]
  },
  {
   "cell_type": "code",
   "execution_count": 22,
   "metadata": {},
   "outputs": [
    {
     "data": {
      "text/html": [
       "<div>\n",
       "<style scoped>\n",
       "    .dataframe tbody tr th:only-of-type {\n",
       "        vertical-align: middle;\n",
       "    }\n",
       "\n",
       "    .dataframe tbody tr th {\n",
       "        vertical-align: top;\n",
       "    }\n",
       "\n",
       "    .dataframe thead th {\n",
       "        text-align: right;\n",
       "    }\n",
       "</style>\n",
       "<table border=\"1\" class=\"dataframe\">\n",
       "  <thead>\n",
       "    <tr style=\"text-align: right;\">\n",
       "      <th></th>\n",
       "      <th>summit</th>\n",
       "      <th>drop</th>\n",
       "      <th>base</th>\n",
       "      <th>gondolas_and_trams</th>\n",
       "      <th>fast_eight</th>\n",
       "      <th>high_speed_sixes</th>\n",
       "      <th>quad_chairs</th>\n",
       "      <th>triple_chairs</th>\n",
       "      <th>double_chairs</th>\n",
       "      <th>surface_lifts</th>\n",
       "      <th>...</th>\n",
       "      <th>state_Rhode Island</th>\n",
       "      <th>state_South Dakota</th>\n",
       "      <th>state_Tennessee</th>\n",
       "      <th>state_Utah</th>\n",
       "      <th>state_Vermont</th>\n",
       "      <th>state_Virginia</th>\n",
       "      <th>state_Washington</th>\n",
       "      <th>state_West Virginia</th>\n",
       "      <th>state_Wisconsin</th>\n",
       "      <th>state_Wyoming</th>\n",
       "    </tr>\n",
       "    <tr>\n",
       "      <th>ski_resort</th>\n",
       "      <th></th>\n",
       "      <th></th>\n",
       "      <th></th>\n",
       "      <th></th>\n",
       "      <th></th>\n",
       "      <th></th>\n",
       "      <th></th>\n",
       "      <th></th>\n",
       "      <th></th>\n",
       "      <th></th>\n",
       "      <th></th>\n",
       "      <th></th>\n",
       "      <th></th>\n",
       "      <th></th>\n",
       "      <th></th>\n",
       "      <th></th>\n",
       "      <th></th>\n",
       "      <th></th>\n",
       "      <th></th>\n",
       "      <th></th>\n",
       "      <th></th>\n",
       "    </tr>\n",
       "  </thead>\n",
       "  <tbody>\n",
       "    <tr>\n",
       "      <th>Palisades Tahoe</th>\n",
       "      <td>1.186487</td>\n",
       "      <td>1.710642</td>\n",
       "      <td>0.902438</td>\n",
       "      <td>4.759106</td>\n",
       "      <td>2.238096</td>\n",
       "      <td>5.503542</td>\n",
       "      <td>0.006503</td>\n",
       "      <td>6.302092</td>\n",
       "      <td>1.902088</td>\n",
       "      <td>1.080304</td>\n",
       "      <td>...</td>\n",
       "      <td>0.0</td>\n",
       "      <td>0.0</td>\n",
       "      <td>0.0</td>\n",
       "      <td>0.0</td>\n",
       "      <td>0.0</td>\n",
       "      <td>0.0</td>\n",
       "      <td>0.0</td>\n",
       "      <td>0.0</td>\n",
       "      <td>0.0</td>\n",
       "      <td>0.0</td>\n",
       "    </tr>\n",
       "    <tr>\n",
       "      <th>Mammoth Mountain</th>\n",
       "      <td>1.722887</td>\n",
       "      <td>1.973881</td>\n",
       "      <td>1.465619</td>\n",
       "      <td>4.759106</td>\n",
       "      <td>3.594102</td>\n",
       "      <td>2.599995</td>\n",
       "      <td>0.006503</td>\n",
       "      <td>2.697776</td>\n",
       "      <td>1.325698</td>\n",
       "      <td>-1.290043</td>\n",
       "      <td>...</td>\n",
       "      <td>0.0</td>\n",
       "      <td>0.0</td>\n",
       "      <td>0.0</td>\n",
       "      <td>0.0</td>\n",
       "      <td>0.0</td>\n",
       "      <td>0.0</td>\n",
       "      <td>0.0</td>\n",
       "      <td>0.0</td>\n",
       "      <td>0.0</td>\n",
       "      <td>0.0</td>\n",
       "    </tr>\n",
       "    <tr>\n",
       "      <th>Donner Ski Ranch</th>\n",
       "      <td>0.908512</td>\n",
       "      <td>-0.500562</td>\n",
       "      <td>1.169411</td>\n",
       "      <td>-0.323434</td>\n",
       "      <td>-0.473917</td>\n",
       "      <td>-0.303553</td>\n",
       "      <td>-0.708794</td>\n",
       "      <td>-0.305821</td>\n",
       "      <td>1.902088</td>\n",
       "      <td>-0.341905</td>\n",
       "      <td>...</td>\n",
       "      <td>0.0</td>\n",
       "      <td>0.0</td>\n",
       "      <td>0.0</td>\n",
       "      <td>0.0</td>\n",
       "      <td>0.0</td>\n",
       "      <td>0.0</td>\n",
       "      <td>0.0</td>\n",
       "      <td>0.0</td>\n",
       "      <td>0.0</td>\n",
       "      <td>0.0</td>\n",
       "    </tr>\n",
       "    <tr>\n",
       "      <th>Sugar Bowl</th>\n",
       "      <td>1.007865</td>\n",
       "      <td>0.289154</td>\n",
       "      <td>1.121864</td>\n",
       "      <td>1.370746</td>\n",
       "      <td>1.786094</td>\n",
       "      <td>-0.303553</td>\n",
       "      <td>1.437096</td>\n",
       "      <td>-0.305821</td>\n",
       "      <td>-0.979864</td>\n",
       "      <td>-0.341905</td>\n",
       "      <td>...</td>\n",
       "      <td>0.0</td>\n",
       "      <td>0.0</td>\n",
       "      <td>0.0</td>\n",
       "      <td>0.0</td>\n",
       "      <td>0.0</td>\n",
       "      <td>0.0</td>\n",
       "      <td>0.0</td>\n",
       "      <td>0.0</td>\n",
       "      <td>0.0</td>\n",
       "      <td>0.0</td>\n",
       "    </tr>\n",
       "    <tr>\n",
       "      <th>Kirkwood</th>\n",
       "      <td>1.387336</td>\n",
       "      <td>0.815631</td>\n",
       "      <td>1.416465</td>\n",
       "      <td>-0.323434</td>\n",
       "      <td>0.430087</td>\n",
       "      <td>-0.303553</td>\n",
       "      <td>0.721800</td>\n",
       "      <td>2.097056</td>\n",
       "      <td>-0.403473</td>\n",
       "      <td>0.132165</td>\n",
       "      <td>...</td>\n",
       "      <td>0.0</td>\n",
       "      <td>0.0</td>\n",
       "      <td>0.0</td>\n",
       "      <td>0.0</td>\n",
       "      <td>0.0</td>\n",
       "      <td>0.0</td>\n",
       "      <td>0.0</td>\n",
       "      <td>0.0</td>\n",
       "      <td>0.0</td>\n",
       "      <td>0.0</td>\n",
       "    </tr>\n",
       "  </tbody>\n",
       "</table>\n",
       "<p>5 rows × 113 columns</p>\n",
       "</div>"
      ],
      "text/plain": [
       "                    summit      drop      base  gondolas_and_trams  \\\n",
       "ski_resort                                                           \n",
       "Palisades Tahoe   1.186487  1.710642  0.902438            4.759106   \n",
       "Mammoth Mountain  1.722887  1.973881  1.465619            4.759106   \n",
       "Donner Ski Ranch  0.908512 -0.500562  1.169411           -0.323434   \n",
       "Sugar Bowl        1.007865  0.289154  1.121864            1.370746   \n",
       "Kirkwood          1.387336  0.815631  1.416465           -0.323434   \n",
       "\n",
       "                  fast_eight  high_speed_sixes  quad_chairs  triple_chairs  \\\n",
       "ski_resort                                                                   \n",
       "Palisades Tahoe     2.238096          5.503542     0.006503       6.302092   \n",
       "Mammoth Mountain    3.594102          2.599995     0.006503       2.697776   \n",
       "Donner Ski Ranch   -0.473917         -0.303553    -0.708794      -0.305821   \n",
       "Sugar Bowl          1.786094         -0.303553     1.437096      -0.305821   \n",
       "Kirkwood            0.430087         -0.303553     0.721800       2.097056   \n",
       "\n",
       "                  double_chairs  surface_lifts  ...  state_Rhode Island  \\\n",
       "ski_resort                                      ...                       \n",
       "Palisades Tahoe        1.902088       1.080304  ...                 0.0   \n",
       "Mammoth Mountain       1.325698      -1.290043  ...                 0.0   \n",
       "Donner Ski Ranch       1.902088      -0.341905  ...                 0.0   \n",
       "Sugar Bowl            -0.979864      -0.341905  ...                 0.0   \n",
       "Kirkwood              -0.403473       0.132165  ...                 0.0   \n",
       "\n",
       "                  state_South Dakota  state_Tennessee  state_Utah  \\\n",
       "ski_resort                                                          \n",
       "Palisades Tahoe                  0.0              0.0         0.0   \n",
       "Mammoth Mountain                 0.0              0.0         0.0   \n",
       "Donner Ski Ranch                 0.0              0.0         0.0   \n",
       "Sugar Bowl                       0.0              0.0         0.0   \n",
       "Kirkwood                         0.0              0.0         0.0   \n",
       "\n",
       "                  state_Vermont  state_Virginia  state_Washington  \\\n",
       "ski_resort                                                          \n",
       "Palisades Tahoe             0.0             0.0               0.0   \n",
       "Mammoth Mountain            0.0             0.0               0.0   \n",
       "Donner Ski Ranch            0.0             0.0               0.0   \n",
       "Sugar Bowl                  0.0             0.0               0.0   \n",
       "Kirkwood                    0.0             0.0               0.0   \n",
       "\n",
       "                  state_West Virginia  state_Wisconsin  state_Wyoming  \n",
       "ski_resort                                                             \n",
       "Palisades Tahoe                   0.0              0.0            0.0  \n",
       "Mammoth Mountain                  0.0              0.0            0.0  \n",
       "Donner Ski Ranch                  0.0              0.0            0.0  \n",
       "Sugar Bowl                        0.0              0.0            0.0  \n",
       "Kirkwood                          0.0              0.0            0.0  \n",
       "\n",
       "[5 rows x 113 columns]"
      ]
     },
     "execution_count": 22,
     "metadata": {},
     "output_type": "execute_result"
    }
   ],
   "source": [
    "final_content_df.head()"
   ]
  },
  {
   "cell_type": "markdown",
   "metadata": {},
   "source": [
    "### Cosine Similarity"
   ]
  },
  {
   "cell_type": "markdown",
   "metadata": {},
   "source": [
    "I will start the content based modeling using cosine similarty to determine the distance between related ski resorts. "
   ]
  },
  {
   "cell_type": "code",
   "execution_count": 23,
   "metadata": {},
   "outputs": [],
   "source": [
    "sim_df = pd.DataFrame(cosine_similarity(final_content_df), index=final_content_df.index, columns=final_content_df.index)"
   ]
  },
  {
   "cell_type": "code",
   "execution_count": 24,
   "metadata": {},
   "outputs": [
    {
     "data": {
      "text/html": [
       "<div>\n",
       "<style scoped>\n",
       "    .dataframe tbody tr th:only-of-type {\n",
       "        vertical-align: middle;\n",
       "    }\n",
       "\n",
       "    .dataframe tbody tr th {\n",
       "        vertical-align: top;\n",
       "    }\n",
       "\n",
       "    .dataframe thead th {\n",
       "        text-align: right;\n",
       "    }\n",
       "</style>\n",
       "<table border=\"1\" class=\"dataframe\">\n",
       "  <thead>\n",
       "    <tr style=\"text-align: right;\">\n",
       "      <th>ski_resort</th>\n",
       "      <th>Palisades Tahoe</th>\n",
       "      <th>Mammoth Mountain</th>\n",
       "      <th>Donner Ski Ranch</th>\n",
       "      <th>Sugar Bowl</th>\n",
       "      <th>Kirkwood</th>\n",
       "      <th>Boreal</th>\n",
       "      <th>Sierra at Tahoe</th>\n",
       "      <th>Mt. Rose Ski Tahoe</th>\n",
       "      <th>Soda Springs</th>\n",
       "      <th>Wolf Creek</th>\n",
       "      <th>...</th>\n",
       "      <th>Elko SnoBowl</th>\n",
       "      <th>Eagle Point</th>\n",
       "      <th>Pine Knob</th>\n",
       "      <th>Whaleback</th>\n",
       "      <th>Little Switzerland</th>\n",
       "      <th>Oak Mountain</th>\n",
       "      <th>Mt. Pleasant</th>\n",
       "      <th>Hunt Hollow</th>\n",
       "      <th>Powder Ridge Connecticut</th>\n",
       "      <th>Shawnee Mountain</th>\n",
       "    </tr>\n",
       "    <tr>\n",
       "      <th>ski_resort</th>\n",
       "      <th></th>\n",
       "      <th></th>\n",
       "      <th></th>\n",
       "      <th></th>\n",
       "      <th></th>\n",
       "      <th></th>\n",
       "      <th></th>\n",
       "      <th></th>\n",
       "      <th></th>\n",
       "      <th></th>\n",
       "      <th></th>\n",
       "      <th></th>\n",
       "      <th></th>\n",
       "      <th></th>\n",
       "      <th></th>\n",
       "      <th></th>\n",
       "      <th></th>\n",
       "      <th></th>\n",
       "      <th></th>\n",
       "      <th></th>\n",
       "      <th></th>\n",
       "    </tr>\n",
       "  </thead>\n",
       "  <tbody>\n",
       "    <tr>\n",
       "      <th>Palisades Tahoe</th>\n",
       "      <td>1.000000</td>\n",
       "      <td>0.823149</td>\n",
       "      <td>0.539314</td>\n",
       "      <td>0.735256</td>\n",
       "      <td>0.465232</td>\n",
       "      <td>0.372678</td>\n",
       "      <td>0.553026</td>\n",
       "      <td>-0.036230</td>\n",
       "      <td>0.266275</td>\n",
       "      <td>0.075180</td>\n",
       "      <td>...</td>\n",
       "      <td>-0.614285</td>\n",
       "      <td>-0.146584</td>\n",
       "      <td>-0.348659</td>\n",
       "      <td>-0.680172</td>\n",
       "      <td>-0.251267</td>\n",
       "      <td>-0.248502</td>\n",
       "      <td>-0.726121</td>\n",
       "      <td>-0.252279</td>\n",
       "      <td>-0.281585</td>\n",
       "      <td>-0.488876</td>\n",
       "    </tr>\n",
       "    <tr>\n",
       "      <th>Mammoth Mountain</th>\n",
       "      <td>0.823149</td>\n",
       "      <td>1.000000</td>\n",
       "      <td>0.432411</td>\n",
       "      <td>0.749373</td>\n",
       "      <td>0.189272</td>\n",
       "      <td>0.408419</td>\n",
       "      <td>0.353691</td>\n",
       "      <td>0.133770</td>\n",
       "      <td>0.243271</td>\n",
       "      <td>0.277605</td>\n",
       "      <td>...</td>\n",
       "      <td>-0.504310</td>\n",
       "      <td>-0.055882</td>\n",
       "      <td>-0.412711</td>\n",
       "      <td>-0.609549</td>\n",
       "      <td>-0.416625</td>\n",
       "      <td>-0.277246</td>\n",
       "      <td>-0.539815</td>\n",
       "      <td>-0.352964</td>\n",
       "      <td>-0.386309</td>\n",
       "      <td>-0.363905</td>\n",
       "    </tr>\n",
       "    <tr>\n",
       "      <th>Donner Ski Ranch</th>\n",
       "      <td>0.539314</td>\n",
       "      <td>0.432411</td>\n",
       "      <td>1.000000</td>\n",
       "      <td>0.698741</td>\n",
       "      <td>0.279330</td>\n",
       "      <td>0.566406</td>\n",
       "      <td>0.503379</td>\n",
       "      <td>-0.338611</td>\n",
       "      <td>0.673875</td>\n",
       "      <td>-0.152606</td>\n",
       "      <td>...</td>\n",
       "      <td>-0.708454</td>\n",
       "      <td>-0.095278</td>\n",
       "      <td>-0.364185</td>\n",
       "      <td>-0.641948</td>\n",
       "      <td>-0.061481</td>\n",
       "      <td>0.292695</td>\n",
       "      <td>-0.715639</td>\n",
       "      <td>-0.068328</td>\n",
       "      <td>-0.229705</td>\n",
       "      <td>-0.410521</td>\n",
       "    </tr>\n",
       "    <tr>\n",
       "      <th>Sugar Bowl</th>\n",
       "      <td>0.735256</td>\n",
       "      <td>0.749373</td>\n",
       "      <td>0.698741</td>\n",
       "      <td>1.000000</td>\n",
       "      <td>0.387737</td>\n",
       "      <td>0.596819</td>\n",
       "      <td>0.508879</td>\n",
       "      <td>-0.081097</td>\n",
       "      <td>0.491120</td>\n",
       "      <td>0.172871</td>\n",
       "      <td>...</td>\n",
       "      <td>-0.696508</td>\n",
       "      <td>-0.027450</td>\n",
       "      <td>-0.356759</td>\n",
       "      <td>-0.668789</td>\n",
       "      <td>-0.288107</td>\n",
       "      <td>-0.014466</td>\n",
       "      <td>-0.718568</td>\n",
       "      <td>-0.275252</td>\n",
       "      <td>-0.373465</td>\n",
       "      <td>-0.567521</td>\n",
       "    </tr>\n",
       "    <tr>\n",
       "      <th>Kirkwood</th>\n",
       "      <td>0.465232</td>\n",
       "      <td>0.189272</td>\n",
       "      <td>0.279330</td>\n",
       "      <td>0.387737</td>\n",
       "      <td>1.000000</td>\n",
       "      <td>0.383667</td>\n",
       "      <td>0.617872</td>\n",
       "      <td>-0.103257</td>\n",
       "      <td>0.236125</td>\n",
       "      <td>0.206694</td>\n",
       "      <td>...</td>\n",
       "      <td>-0.307853</td>\n",
       "      <td>0.233529</td>\n",
       "      <td>-0.230095</td>\n",
       "      <td>-0.462766</td>\n",
       "      <td>-0.002941</td>\n",
       "      <td>-0.114154</td>\n",
       "      <td>-0.575598</td>\n",
       "      <td>-0.145045</td>\n",
       "      <td>-0.130904</td>\n",
       "      <td>-0.567811</td>\n",
       "    </tr>\n",
       "  </tbody>\n",
       "</table>\n",
       "<p>5 rows × 330 columns</p>\n",
       "</div>"
      ],
      "text/plain": [
       "ski_resort        Palisades Tahoe  Mammoth Mountain  Donner Ski Ranch  \\\n",
       "ski_resort                                                              \n",
       "Palisades Tahoe          1.000000          0.823149          0.539314   \n",
       "Mammoth Mountain         0.823149          1.000000          0.432411   \n",
       "Donner Ski Ranch         0.539314          0.432411          1.000000   \n",
       "Sugar Bowl               0.735256          0.749373          0.698741   \n",
       "Kirkwood                 0.465232          0.189272          0.279330   \n",
       "\n",
       "ski_resort        Sugar Bowl  Kirkwood    Boreal  Sierra at Tahoe  \\\n",
       "ski_resort                                                          \n",
       "Palisades Tahoe     0.735256  0.465232  0.372678         0.553026   \n",
       "Mammoth Mountain    0.749373  0.189272  0.408419         0.353691   \n",
       "Donner Ski Ranch    0.698741  0.279330  0.566406         0.503379   \n",
       "Sugar Bowl          1.000000  0.387737  0.596819         0.508879   \n",
       "Kirkwood            0.387737  1.000000  0.383667         0.617872   \n",
       "\n",
       "ski_resort        Mt. Rose Ski Tahoe  Soda Springs  Wolf Creek  ...  \\\n",
       "ski_resort                                                      ...   \n",
       "Palisades Tahoe            -0.036230      0.266275    0.075180  ...   \n",
       "Mammoth Mountain            0.133770      0.243271    0.277605  ...   \n",
       "Donner Ski Ranch           -0.338611      0.673875   -0.152606  ...   \n",
       "Sugar Bowl                 -0.081097      0.491120    0.172871  ...   \n",
       "Kirkwood                   -0.103257      0.236125    0.206694  ...   \n",
       "\n",
       "ski_resort        Elko SnoBowl  Eagle Point  Pine Knob  Whaleback  \\\n",
       "ski_resort                                                          \n",
       "Palisades Tahoe      -0.614285    -0.146584  -0.348659  -0.680172   \n",
       "Mammoth Mountain     -0.504310    -0.055882  -0.412711  -0.609549   \n",
       "Donner Ski Ranch     -0.708454    -0.095278  -0.364185  -0.641948   \n",
       "Sugar Bowl           -0.696508    -0.027450  -0.356759  -0.668789   \n",
       "Kirkwood             -0.307853     0.233529  -0.230095  -0.462766   \n",
       "\n",
       "ski_resort        Little Switzerland  Oak Mountain  Mt. Pleasant  Hunt Hollow  \\\n",
       "ski_resort                                                                      \n",
       "Palisades Tahoe            -0.251267     -0.248502     -0.726121    -0.252279   \n",
       "Mammoth Mountain           -0.416625     -0.277246     -0.539815    -0.352964   \n",
       "Donner Ski Ranch           -0.061481      0.292695     -0.715639    -0.068328   \n",
       "Sugar Bowl                 -0.288107     -0.014466     -0.718568    -0.275252   \n",
       "Kirkwood                   -0.002941     -0.114154     -0.575598    -0.145045   \n",
       "\n",
       "ski_resort        Powder Ridge Connecticut  Shawnee Mountain  \n",
       "ski_resort                                                    \n",
       "Palisades Tahoe                  -0.281585         -0.488876  \n",
       "Mammoth Mountain                 -0.386309         -0.363905  \n",
       "Donner Ski Ranch                 -0.229705         -0.410521  \n",
       "Sugar Bowl                       -0.373465         -0.567521  \n",
       "Kirkwood                         -0.130904         -0.567811  \n",
       "\n",
       "[5 rows x 330 columns]"
      ]
     },
     "execution_count": 24,
     "metadata": {},
     "output_type": "execute_result"
    }
   ],
   "source": [
    "sim_df.head()"
   ]
  },
  {
   "cell_type": "code",
   "execution_count": 25,
   "metadata": {},
   "outputs": [],
   "source": [
    "#saving final content dataframe\n",
    "final_content_df.to_csv(\"data/cleaned_data_exports/final_content_df.csv\")"
   ]
  },
  {
   "cell_type": "code",
   "execution_count": 26,
   "metadata": {},
   "outputs": [],
   "source": [
    "#saving similarity matrix for streamlit modeling\n",
    "sim_df.to_csv(\"data/cleaned_data_exports/similarity_matrix.csv\")"
   ]
  },
  {
   "cell_type": "markdown",
   "metadata": {},
   "source": [
    "### Function Building"
   ]
  },
  {
   "cell_type": "code",
   "execution_count": 28,
   "metadata": {},
   "outputs": [
    {
     "name": "stdout",
     "output_type": "stream",
     "text": [
      "What is your favorite ski resort? Telluride\n",
      "How many recommendations would you like? 5\n",
      "What month would you like to travel? December\n"
     ]
    }
   ],
   "source": [
    "# Input for mountain name\n",
    "mountain_name = str(input(\"What is your favorite ski resort? \"))\n",
    "\n",
    "# input to ask user how many recommendations they would like\n",
    "n_recs = int(input('How many recommendations would you like? '))\n",
    "    \n",
    "#what month would you like to travel\n",
    "travel_date = str(input('What month would you like to travel? '))"
   ]
  },
  {
   "cell_type": "code",
   "execution_count": 29,
   "metadata": {},
   "outputs": [],
   "source": [
    "# Pulling out an individual mountain\n",
    "y = sim_df.loc[[mountain_name]].T\n",
    "\n",
    "#resetting index and sorting values\n",
    "cos_sim_df = y.reset_index().sort_values(by=mountain_name, ascending=False).head(n_recs + 1)"
   ]
  },
  {
   "cell_type": "code",
   "execution_count": 30,
   "metadata": {},
   "outputs": [
    {
     "data": {
      "text/html": [
       "<div>\n",
       "<style scoped>\n",
       "    .dataframe tbody tr th:only-of-type {\n",
       "        vertical-align: middle;\n",
       "    }\n",
       "\n",
       "    .dataframe tbody tr th {\n",
       "        vertical-align: top;\n",
       "    }\n",
       "\n",
       "    .dataframe thead th {\n",
       "        text-align: right;\n",
       "    }\n",
       "</style>\n",
       "<table border=\"1\" class=\"dataframe\">\n",
       "  <thead>\n",
       "    <tr style=\"text-align: right;\">\n",
       "      <th>ski_resort</th>\n",
       "      <th>ski_resort</th>\n",
       "      <th>Telluride</th>\n",
       "    </tr>\n",
       "  </thead>\n",
       "  <tbody>\n",
       "    <tr>\n",
       "      <th>47</th>\n",
       "      <td>Telluride</td>\n",
       "      <td>1.000000</td>\n",
       "    </tr>\n",
       "    <tr>\n",
       "      <th>42</th>\n",
       "      <td>Aspen Snowmass</td>\n",
       "      <td>0.833555</td>\n",
       "    </tr>\n",
       "    <tr>\n",
       "      <th>26</th>\n",
       "      <td>Solitude Mountain</td>\n",
       "      <td>0.785323</td>\n",
       "    </tr>\n",
       "    <tr>\n",
       "      <th>81</th>\n",
       "      <td>Beaver Creek</td>\n",
       "      <td>0.740816</td>\n",
       "    </tr>\n",
       "    <tr>\n",
       "      <th>21</th>\n",
       "      <td>Brighton</td>\n",
       "      <td>0.681397</td>\n",
       "    </tr>\n",
       "    <tr>\n",
       "      <th>39</th>\n",
       "      <td>Jackson Hole</td>\n",
       "      <td>0.677006</td>\n",
       "    </tr>\n",
       "  </tbody>\n",
       "</table>\n",
       "</div>"
      ],
      "text/plain": [
       "ski_resort         ski_resort  Telluride\n",
       "47                  Telluride   1.000000\n",
       "42             Aspen Snowmass   0.833555\n",
       "26          Solitude Mountain   0.785323\n",
       "81               Beaver Creek   0.740816\n",
       "21                   Brighton   0.681397\n",
       "39               Jackson Hole   0.677006"
      ]
     },
     "execution_count": 30,
     "metadata": {},
     "output_type": "execute_result"
    }
   ],
   "source": [
    "cos_sim_df"
   ]
  },
  {
   "cell_type": "code",
   "execution_count": 31,
   "metadata": {},
   "outputs": [
    {
     "data": {
      "text/html": [
       "<div>\n",
       "<style scoped>\n",
       "    .dataframe tbody tr th:only-of-type {\n",
       "        vertical-align: middle;\n",
       "    }\n",
       "\n",
       "    .dataframe tbody tr th {\n",
       "        vertical-align: top;\n",
       "    }\n",
       "\n",
       "    .dataframe thead th {\n",
       "        text-align: right;\n",
       "    }\n",
       "</style>\n",
       "<table border=\"1\" class=\"dataframe\">\n",
       "  <thead>\n",
       "    <tr style=\"text-align: right;\">\n",
       "      <th></th>\n",
       "      <th>ski_resort</th>\n",
       "      <th>city</th>\n",
       "      <th>state</th>\n",
       "      <th>summit</th>\n",
       "      <th>drop</th>\n",
       "      <th>base</th>\n",
       "      <th>adultWeekdayPrice</th>\n",
       "      <th>beginner_runs</th>\n",
       "      <th>intermediate_runs</th>\n",
       "      <th>adultWeekendPrice</th>\n",
       "      <th>expert_runs</th>\n",
       "    </tr>\n",
       "  </thead>\n",
       "  <tbody>\n",
       "    <tr>\n",
       "      <th>0</th>\n",
       "      <td>Telluride</td>\n",
       "      <td>Telluride</td>\n",
       "      <td>Colorado</td>\n",
       "      <td>13150</td>\n",
       "      <td>4425</td>\n",
       "      <td>8725</td>\n",
       "      <td>209.0</td>\n",
       "      <td>16</td>\n",
       "      <td>30</td>\n",
       "      <td>219.0</td>\n",
       "      <td>34.0</td>\n",
       "    </tr>\n",
       "    <tr>\n",
       "      <th>1</th>\n",
       "      <td>Aspen Snowmass</td>\n",
       "      <td>Aspen</td>\n",
       "      <td>Colorado</td>\n",
       "      <td>12510</td>\n",
       "      <td>4406</td>\n",
       "      <td>8104</td>\n",
       "      <td>189.0</td>\n",
       "      <td>0</td>\n",
       "      <td>0</td>\n",
       "      <td>199.0</td>\n",
       "      <td>0.0</td>\n",
       "    </tr>\n",
       "    <tr>\n",
       "      <th>2</th>\n",
       "      <td>Solitude Mountain</td>\n",
       "      <td>Brighton</td>\n",
       "      <td>Utah</td>\n",
       "      <td>10488</td>\n",
       "      <td>2494</td>\n",
       "      <td>7994</td>\n",
       "      <td>115.0</td>\n",
       "      <td>6</td>\n",
       "      <td>46</td>\n",
       "      <td>115.0</td>\n",
       "      <td>18.0</td>\n",
       "    </tr>\n",
       "    <tr>\n",
       "      <th>3</th>\n",
       "      <td>Beaver Creek</td>\n",
       "      <td>Vail</td>\n",
       "      <td>Colorado</td>\n",
       "      <td>11440</td>\n",
       "      <td>3340</td>\n",
       "      <td>8100</td>\n",
       "      <td>191.0</td>\n",
       "      <td>38</td>\n",
       "      <td>30</td>\n",
       "      <td>275.0</td>\n",
       "      <td>8.0</td>\n",
       "    </tr>\n",
       "    <tr>\n",
       "      <th>4</th>\n",
       "      <td>Brighton</td>\n",
       "      <td>Brighton</td>\n",
       "      <td>Utah</td>\n",
       "      <td>10500</td>\n",
       "      <td>1745</td>\n",
       "      <td>8755</td>\n",
       "      <td>85.0</td>\n",
       "      <td>0</td>\n",
       "      <td>0</td>\n",
       "      <td>85.0</td>\n",
       "      <td>0.0</td>\n",
       "    </tr>\n",
       "    <tr>\n",
       "      <th>5</th>\n",
       "      <td>Jackson Hole</td>\n",
       "      <td>Teton Village</td>\n",
       "      <td>Wyoming</td>\n",
       "      <td>10450</td>\n",
       "      <td>4139</td>\n",
       "      <td>6311</td>\n",
       "      <td>215.0</td>\n",
       "      <td>4</td>\n",
       "      <td>41</td>\n",
       "      <td>215.0</td>\n",
       "      <td>17.0</td>\n",
       "    </tr>\n",
       "  </tbody>\n",
       "</table>\n",
       "</div>"
      ],
      "text/plain": [
       "          ski_resort           city     state  summit  drop  base  \\\n",
       "0          Telluride      Telluride  Colorado   13150  4425  8725   \n",
       "1     Aspen Snowmass          Aspen  Colorado   12510  4406  8104   \n",
       "2  Solitude Mountain       Brighton      Utah   10488  2494  7994   \n",
       "3       Beaver Creek           Vail  Colorado   11440  3340  8100   \n",
       "4           Brighton       Brighton      Utah   10500  1745  8755   \n",
       "5       Jackson Hole  Teton Village   Wyoming   10450  4139  6311   \n",
       "\n",
       "   adultWeekdayPrice  beginner_runs  intermediate_runs  adultWeekendPrice  \\\n",
       "0              209.0             16                 30              219.0   \n",
       "1              189.0              0                  0              199.0   \n",
       "2              115.0              6                 46              115.0   \n",
       "3              191.0             38                 30              275.0   \n",
       "4               85.0              0                  0               85.0   \n",
       "5              215.0              4                 41              215.0   \n",
       "\n",
       "   expert_runs  \n",
       "0         34.0  \n",
       "1          0.0  \n",
       "2         18.0  \n",
       "3          8.0  \n",
       "4          0.0  \n",
       "5         17.0  "
      ]
     },
     "execution_count": 31,
     "metadata": {},
     "output_type": "execute_result"
    }
   ],
   "source": [
    "#making list for column names\n",
    "rec_list = []\n",
    "    \n",
    "#grabbing rows from content_matrix \n",
    "for x in cos_sim_df['ski_resort']:\n",
    "    rec_df = content_matrix.loc[[x]]  \n",
    "    rec_list.append(rec_df)  #\n",
    "\n",
    "rec_df = pd.concat(rec_list)\n",
    "\n",
    "#Concatenate all the dataframes in rec_list into a single dataframe\n",
    "concat_df = rec_df[[\"city\", \"state\", \"summit\", \"drop\", \"base\", \"adultWeekdayPrice\",\n",
    "                           \"beginner_runs\", \"intermediate_runs\", \"adultWeekendPrice\", \"expert_runs\"]]\n",
    "\n",
    "concat_df = concat_df.reset_index()\n",
    "\n",
    "concat_df"
   ]
  },
  {
   "cell_type": "code",
   "execution_count": 32,
   "metadata": {},
   "outputs": [
    {
     "data": {
      "text/html": [
       "<div>\n",
       "<style scoped>\n",
       "    .dataframe tbody tr th:only-of-type {\n",
       "        vertical-align: middle;\n",
       "    }\n",
       "\n",
       "    .dataframe tbody tr th {\n",
       "        vertical-align: top;\n",
       "    }\n",
       "\n",
       "    .dataframe thead th {\n",
       "        text-align: right;\n",
       "    }\n",
       "</style>\n",
       "<table border=\"1\" class=\"dataframe\">\n",
       "  <thead>\n",
       "    <tr style=\"text-align: right;\">\n",
       "      <th></th>\n",
       "      <th>ski_resort</th>\n",
       "      <th>dec_mean_4_guests</th>\n",
       "      <th>dec_mean_2_guests</th>\n",
       "    </tr>\n",
       "  </thead>\n",
       "  <tbody>\n",
       "    <tr>\n",
       "      <th>0</th>\n",
       "      <td>Telluride</td>\n",
       "      <td>425</td>\n",
       "      <td>308</td>\n",
       "    </tr>\n",
       "    <tr>\n",
       "      <th>1</th>\n",
       "      <td>Aspen Snowmass</td>\n",
       "      <td>624</td>\n",
       "      <td>316</td>\n",
       "    </tr>\n",
       "    <tr>\n",
       "      <th>2</th>\n",
       "      <td>Solitude Mountain</td>\n",
       "      <td>375</td>\n",
       "      <td>322</td>\n",
       "    </tr>\n",
       "    <tr>\n",
       "      <th>3</th>\n",
       "      <td>Beaver Creek</td>\n",
       "      <td>420</td>\n",
       "      <td>268</td>\n",
       "    </tr>\n",
       "    <tr>\n",
       "      <th>4</th>\n",
       "      <td>Brighton</td>\n",
       "      <td>375</td>\n",
       "      <td>322</td>\n",
       "    </tr>\n",
       "    <tr>\n",
       "      <th>5</th>\n",
       "      <td>Jackson Hole</td>\n",
       "      <td>436</td>\n",
       "      <td>254</td>\n",
       "    </tr>\n",
       "  </tbody>\n",
       "</table>\n",
       "</div>"
      ],
      "text/plain": [
       "          ski_resort  dec_mean_4_guests  dec_mean_2_guests\n",
       "0          Telluride                425                308\n",
       "1     Aspen Snowmass                624                316\n",
       "2  Solitude Mountain                375                322\n",
       "3       Beaver Creek                420                268\n",
       "4           Brighton                375                322\n",
       "5       Jackson Hole                436                254"
      ]
     },
     "execution_count": 32,
     "metadata": {},
     "output_type": "execute_result"
    }
   ],
   "source": [
    "#filtering based on month to return airbnb prices and turning into dataframe\n",
    "travel_date = travel_date.lower()\n",
    "\n",
    "month = [\"december\", \"january\", \"february\", \"march\", \"april\", \"may\"]\n",
    "month_abv = [\"dec\", \"jan\", \"feb\", \"mar\", \"apr\", \"may\"]\n",
    "\n",
    "#for loop that changes the user input to the month appreviation that's in the column names\n",
    "selected_columns = []\n",
    "for x, y in zip(month_abv, month):\n",
    "    if travel_date == y:\n",
    "        selected_columns = [x + \"_mean_4_guests\", x + \"_mean_2_guests\"]\n",
    "\n",
    "result = rec_df[selected_columns]\n",
    "\n",
    "#resetting index\n",
    "result = result.reset_index()\n",
    "\n",
    "result"
   ]
  },
  {
   "cell_type": "markdown",
   "metadata": {},
   "source": [
    "Testing first part of function by hard coding example user inputs"
   ]
  },
  {
   "cell_type": "code",
   "execution_count": 33,
   "metadata": {},
   "outputs": [
    {
     "data": {
      "text/html": [
       "<div>\n",
       "<style scoped>\n",
       "    .dataframe tbody tr th:only-of-type {\n",
       "        vertical-align: middle;\n",
       "    }\n",
       "\n",
       "    .dataframe tbody tr th {\n",
       "        vertical-align: top;\n",
       "    }\n",
       "\n",
       "    .dataframe thead th {\n",
       "        text-align: right;\n",
       "    }\n",
       "</style>\n",
       "<table border=\"1\" class=\"dataframe\">\n",
       "  <thead>\n",
       "    <tr style=\"text-align: right;\">\n",
       "      <th></th>\n",
       "      <th>ski_resort</th>\n",
       "      <th>city</th>\n",
       "      <th>state</th>\n",
       "      <th>summit</th>\n",
       "      <th>drop</th>\n",
       "      <th>base</th>\n",
       "      <th>adultWeekdayPrice</th>\n",
       "      <th>beginner_runs</th>\n",
       "      <th>intermediate_runs</th>\n",
       "      <th>adultWeekendPrice</th>\n",
       "      <th>expert_runs</th>\n",
       "      <th>mar_mean_4_guests</th>\n",
       "      <th>mar_mean_2_guests</th>\n",
       "    </tr>\n",
       "  </thead>\n",
       "  <tbody>\n",
       "    <tr>\n",
       "      <th>1</th>\n",
       "      <td>Breckenridge</td>\n",
       "      <td>Breckenridge</td>\n",
       "      <td>Colorado</td>\n",
       "      <td>12998</td>\n",
       "      <td>3398</td>\n",
       "      <td>9600</td>\n",
       "      <td>149.0</td>\n",
       "      <td>13</td>\n",
       "      <td>23</td>\n",
       "      <td>179.0</td>\n",
       "      <td>28.0</td>\n",
       "      <td>436</td>\n",
       "      <td>258</td>\n",
       "    </tr>\n",
       "    <tr>\n",
       "      <th>2</th>\n",
       "      <td>Keystone</td>\n",
       "      <td>Keystone</td>\n",
       "      <td>Colorado</td>\n",
       "      <td>12408</td>\n",
       "      <td>3128</td>\n",
       "      <td>9280</td>\n",
       "      <td>195.0</td>\n",
       "      <td>16</td>\n",
       "      <td>43</td>\n",
       "      <td>225.0</td>\n",
       "      <td>0.0</td>\n",
       "      <td>335</td>\n",
       "      <td>255</td>\n",
       "    </tr>\n",
       "    <tr>\n",
       "      <th>3</th>\n",
       "      <td>Vail</td>\n",
       "      <td>Vail</td>\n",
       "      <td>Colorado</td>\n",
       "      <td>11570</td>\n",
       "      <td>3450</td>\n",
       "      <td>8120</td>\n",
       "      <td>225.0</td>\n",
       "      <td>23</td>\n",
       "      <td>35</td>\n",
       "      <td>245.0</td>\n",
       "      <td>2.0</td>\n",
       "      <td>462</td>\n",
       "      <td>338</td>\n",
       "    </tr>\n",
       "  </tbody>\n",
       "</table>\n",
       "</div>"
      ],
      "text/plain": [
       "     ski_resort          city     state  summit  drop  base  \\\n",
       "1  Breckenridge  Breckenridge  Colorado   12998  3398  9600   \n",
       "2      Keystone      Keystone  Colorado   12408  3128  9280   \n",
       "3          Vail          Vail  Colorado   11570  3450  8120   \n",
       "\n",
       "   adultWeekdayPrice  beginner_runs  intermediate_runs  adultWeekendPrice  \\\n",
       "1              149.0             13                 23              179.0   \n",
       "2              195.0             16                 43              225.0   \n",
       "3              225.0             23                 35              245.0   \n",
       "\n",
       "   expert_runs  mar_mean_4_guests  mar_mean_2_guests  \n",
       "1         28.0                436                258  \n",
       "2          0.0                335                255  \n",
       "3          2.0                462                338  "
      ]
     },
     "execution_count": 33,
     "metadata": {},
     "output_type": "execute_result"
    }
   ],
   "source": [
    "#Input for book title that returns the 'asin' index number for the book to be used to call dataframe\n",
    "mountain_name = \"Park City Mountain\"\n",
    "    \n",
    "# input to ask user how many recommendations they would like\n",
    "n_recs = 3\n",
    "    \n",
    "#what month would you like to travel\n",
    "travel_date = \"March\"\n",
    "    \n",
    "# Pulling out an individual resort\n",
    "y = sim_df.loc[[mountain_name]].T\n",
    "\n",
    "#sorting values by similarity score\n",
    "cos_sim_df = y.reset_index().sort_values(by=mountain_name, ascending=False).head(n_recs + 1)\n",
    "\n",
    "#making list for column names\n",
    "rec_list = []\n",
    "    \n",
    "#grabbing rows from content_matrix \n",
    "for x in cos_sim_df['ski_resort']:\n",
    "    rec_df = content_matrix.loc[[x]]  \n",
    "    rec_list.append(rec_df)  #\n",
    "\n",
    "rec_df = pd.concat(rec_list)\n",
    "\n",
    "#Concatenate all the dataframes in rec_list into a single dataframe\n",
    "concat_df = rec_df[[\"city\", \"state\", \"summit\", \"drop\", \"base\", \"adultWeekdayPrice\",\n",
    "                           \"beginner_runs\", \"intermediate_runs\", \"adultWeekendPrice\", \"expert_runs\"]]\n",
    "\n",
    "concat_df = concat_df.reset_index()\n",
    "\n",
    "#filtering based on month to return airbnb prices and turning into dataframe\n",
    "travel_date = travel_date.lower()\n",
    "\n",
    "month = [\"december\", \"january\", \"february\", \"march\", \"april\", \"may\"]\n",
    "month_abv = [\"dec\", \"jan\", \"feb\", \"mar\", \"apr\", \"may\"]\n",
    "\n",
    "#for loop that changes the user input to the month appreviation that's in the column names\n",
    "selected_columns = []\n",
    "\n",
    "for x, y in zip(month_abv, month):\n",
    "    if travel_date == y:\n",
    "        selected_columns = [x + \"_mean_4_guests\", x + \"_mean_2_guests\"]\n",
    "\n",
    "result = rec_df[selected_columns]\n",
    "\n",
    "#resetting index\n",
    "result = result.reset_index()\n",
    "\n",
    "#merging dataframes \n",
    "final_concat_df = pd.merge(concat_df, result, on=\"ski_resort\")\n",
    "    \n",
    "#dropping mountain name from the results\n",
    "final_concat_df = final_concat_df[final_concat_df.ski_resort != mountain_name]\n",
    "\n",
    "#showing final dataframe\n",
    "final_concat_df.head(n_recs)"
   ]
  },
  {
   "cell_type": "markdown",
   "metadata": {},
   "source": [
    "Making final function. I will need to add a line of code to drop the row where ski_resort matches the user's input to ensure this is not part of their recommendations."
   ]
  },
  {
   "cell_type": "code",
   "execution_count": 34,
   "metadata": {},
   "outputs": [],
   "source": [
    "# Content-based model\n",
    "def content_model():\n",
    "    \n",
    "    #user inputs\n",
    "    n_recs = int(input('How many resort recommendations do you want? '))\n",
    "    mountain_name = str(input(\"What's your favorite ski resort? \"))\n",
    "    travel_date = str(input('What month would you like to travel? '))\n",
    "    \n",
    "    # Pulling out an individual resort\n",
    "    y = sim_df.loc[[mountain_name]].T\n",
    "\n",
    "    #sorting values by similarity score\n",
    "    cos_sim_df = y.reset_index().sort_values(by=mountain_name, ascending=False).head(n_recs + 1)\n",
    "\n",
    "    #making list for column names\n",
    "    rec_list = []\n",
    "    \n",
    "    #grabbing rows from content_matrix \n",
    "    for x in cos_sim_df['ski_resort']:\n",
    "        rec_df = content_matrix.loc[[x]]  \n",
    "        rec_list.append(rec_df)  #\n",
    "\n",
    "    rec_df = pd.concat(rec_list)\n",
    "\n",
    "    #Concatenate all the dataframes in rec_list into a single dataframe\n",
    "    concat_df = rec_df[[\"city\", \"state\", \"summit\", \"drop\", \"base\", \"adultWeekdayPrice\", \"adultWeekendPrice\",\n",
    "                           \"beginner_runs\", \"intermediate_runs\", \"advanced_runs\", \"expert_runs\"]]\n",
    "    concat_df = concat_df.reset_index()\n",
    "\n",
    "    #filtering based on month to return airbnb prices and turning into dataframe\n",
    "    travel_date = travel_date.lower()\n",
    "\n",
    "    month = [\"december\", \"january\", \"february\", \"march\", \"april\", \"may\"]\n",
    "    month_abv = [\"dec\", \"jan\", \"feb\", \"mar\", \"apr\", \"may\"]\n",
    "\n",
    "    selected_columns = []\n",
    "    for x, y in zip(month_abv, month):\n",
    "        if travel_date == y:\n",
    "            selected_columns = [x + \"_mean_4_guests\", x + \"_mean_2_guests\"]\n",
    "\n",
    "    result = rec_df[selected_columns]\n",
    "    result = result.reset_index()\n",
    "\n",
    "    #merging dataframes \n",
    "    final_concat_df = pd.merge(concat_df, result, on=\"ski_resort\")\n",
    "    \n",
    "    #dropping mountain name from the results\n",
    "    final_concat_df = final_concat_df[final_concat_df.ski_resort != mountain_name]\n",
    "\n",
    "    #showing final dataframe\n",
    "    return(final_concat_df.head(n_recs))"
   ]
  },
  {
   "cell_type": "markdown",
   "metadata": {},
   "source": [
    "I will now test the content model. After inputting a few different resorts, the recommendations are aligned in terms of mountain characteristics."
   ]
  },
  {
   "cell_type": "code",
   "execution_count": 35,
   "metadata": {},
   "outputs": [
    {
     "name": "stdout",
     "output_type": "stream",
     "text": [
      "How many resort recommendations do you want? 3\n",
      "What's your favorite ski resort? Telluride\n",
      "What month would you like to travel? December\n"
     ]
    },
    {
     "data": {
      "text/html": [
       "<div>\n",
       "<style scoped>\n",
       "    .dataframe tbody tr th:only-of-type {\n",
       "        vertical-align: middle;\n",
       "    }\n",
       "\n",
       "    .dataframe tbody tr th {\n",
       "        vertical-align: top;\n",
       "    }\n",
       "\n",
       "    .dataframe thead th {\n",
       "        text-align: right;\n",
       "    }\n",
       "</style>\n",
       "<table border=\"1\" class=\"dataframe\">\n",
       "  <thead>\n",
       "    <tr style=\"text-align: right;\">\n",
       "      <th></th>\n",
       "      <th>ski_resort</th>\n",
       "      <th>city</th>\n",
       "      <th>state</th>\n",
       "      <th>summit</th>\n",
       "      <th>drop</th>\n",
       "      <th>base</th>\n",
       "      <th>adultWeekdayPrice</th>\n",
       "      <th>adultWeekendPrice</th>\n",
       "      <th>beginner_runs</th>\n",
       "      <th>intermediate_runs</th>\n",
       "      <th>advanced_runs</th>\n",
       "      <th>expert_runs</th>\n",
       "      <th>dec_mean_4_guests</th>\n",
       "      <th>dec_mean_2_guests</th>\n",
       "    </tr>\n",
       "  </thead>\n",
       "  <tbody>\n",
       "    <tr>\n",
       "      <th>1</th>\n",
       "      <td>Aspen Snowmass</td>\n",
       "      <td>Aspen</td>\n",
       "      <td>Colorado</td>\n",
       "      <td>12510</td>\n",
       "      <td>4406</td>\n",
       "      <td>8104</td>\n",
       "      <td>189.0</td>\n",
       "      <td>199.0</td>\n",
       "      <td>0</td>\n",
       "      <td>0</td>\n",
       "      <td>0</td>\n",
       "      <td>0.0</td>\n",
       "      <td>624</td>\n",
       "      <td>316</td>\n",
       "    </tr>\n",
       "    <tr>\n",
       "      <th>2</th>\n",
       "      <td>Solitude Mountain</td>\n",
       "      <td>Brighton</td>\n",
       "      <td>Utah</td>\n",
       "      <td>10488</td>\n",
       "      <td>2494</td>\n",
       "      <td>7994</td>\n",
       "      <td>115.0</td>\n",
       "      <td>115.0</td>\n",
       "      <td>6</td>\n",
       "      <td>46</td>\n",
       "      <td>30</td>\n",
       "      <td>18.0</td>\n",
       "      <td>375</td>\n",
       "      <td>322</td>\n",
       "    </tr>\n",
       "    <tr>\n",
       "      <th>3</th>\n",
       "      <td>Beaver Creek</td>\n",
       "      <td>Vail</td>\n",
       "      <td>Colorado</td>\n",
       "      <td>11440</td>\n",
       "      <td>3340</td>\n",
       "      <td>8100</td>\n",
       "      <td>191.0</td>\n",
       "      <td>275.0</td>\n",
       "      <td>38</td>\n",
       "      <td>30</td>\n",
       "      <td>24</td>\n",
       "      <td>8.0</td>\n",
       "      <td>420</td>\n",
       "      <td>268</td>\n",
       "    </tr>\n",
       "  </tbody>\n",
       "</table>\n",
       "</div>"
      ],
      "text/plain": [
       "          ski_resort      city     state  summit  drop  base  \\\n",
       "1     Aspen Snowmass     Aspen  Colorado   12510  4406  8104   \n",
       "2  Solitude Mountain  Brighton      Utah   10488  2494  7994   \n",
       "3       Beaver Creek      Vail  Colorado   11440  3340  8100   \n",
       "\n",
       "   adultWeekdayPrice  adultWeekendPrice  beginner_runs  intermediate_runs  \\\n",
       "1              189.0              199.0              0                  0   \n",
       "2              115.0              115.0              6                 46   \n",
       "3              191.0              275.0             38                 30   \n",
       "\n",
       "   advanced_runs  expert_runs  dec_mean_4_guests  dec_mean_2_guests  \n",
       "1              0          0.0                624                316  \n",
       "2             30         18.0                375                322  \n",
       "3             24          8.0                420                268  "
      ]
     },
     "execution_count": 35,
     "metadata": {},
     "output_type": "execute_result"
    }
   ],
   "source": [
    "content_model()"
   ]
  },
  {
   "cell_type": "markdown",
   "metadata": {},
   "source": [
    "### Collaborative Model"
   ]
  },
  {
   "cell_type": "markdown",
   "metadata": {},
   "source": [
    "Importing the final cleaned user/review surprise dataframe from the collaborative model notebook and using the final params from the best model in the collaborative notebook.\n",
    "\n",
    "The best model was the first SVD Grid Search #1 that gave us a RMSE of .90.\n",
    "\n",
    "- n_factors = 140\n",
    "- n_epochs = .40\n",
    "- biased = True"
   ]
  },
  {
   "cell_type": "code",
   "execution_count": 36,
   "metadata": {},
   "outputs": [
    {
     "name": "stdout",
     "output_type": "stream",
     "text": [
      "<class 'pandas.core.frame.DataFrame'>\n",
      "RangeIndex: 2521 entries, 0 to 2520\n",
      "Data columns (total 7 columns):\n",
      " #   Column       Non-Null Count  Dtype \n",
      "---  ------       --------------  ----- \n",
      " 0   Unnamed: 0   2521 non-null   int64 \n",
      " 1   review_date  2521 non-null   object\n",
      " 2   state        2521 non-null   object\n",
      " 3   ski_resort   2521 non-null   object\n",
      " 4   rating       2521 non-null   int64 \n",
      " 5   review       2521 non-null   object\n",
      " 6   user_name    2521 non-null   object\n",
      "dtypes: int64(2), object(5)\n",
      "memory usage: 138.0+ KB\n"
     ]
    }
   ],
   "source": [
    "final_user_df.info()"
   ]
  },
  {
   "cell_type": "code",
   "execution_count": 37,
   "metadata": {},
   "outputs": [],
   "source": [
    "final_user_df.drop(columns=\"Unnamed: 0\", inplace=True)"
   ]
  },
  {
   "cell_type": "code",
   "execution_count": 38,
   "metadata": {},
   "outputs": [],
   "source": [
    "from surprise import Reader, Dataset\n",
    "from surprise.model_selection import GridSearchCV, cross_validate, train_test_split\n",
    "\n",
    "#copying final rewview dataframe\n",
    "surprise_df = final_user_df.copy()\n",
    "\n",
    "#dropping unneeded columns\n",
    "surprise_df = surprise_df[['user_name', 'ski_resort', 'rating']]\n",
    "\n",
    "# counting the number of reviews for each user\n",
    "value_counts = surprise_df['user_name'].value_counts()\n",
    "\n",
    "# selecting only users with more than three reviews\n",
    "selected_users = value_counts[value_counts > 2].index\n",
    "\n",
    "# selecting only the rows where the user_name is in the selected_users list\n",
    "surprise_df = surprise_df[surprise_df['user_name'].isin(selected_users)]\n",
    "\n",
    "#saving for streamlit app\n",
    "surprise_df.to_csv(\"data/cleaned_data_exports/surprise_df.csv\")"
   ]
  },
  {
   "cell_type": "code",
   "execution_count": 39,
   "metadata": {},
   "outputs": [
    {
     "data": {
      "text/html": [
       "<div>\n",
       "<style scoped>\n",
       "    .dataframe tbody tr th:only-of-type {\n",
       "        vertical-align: middle;\n",
       "    }\n",
       "\n",
       "    .dataframe tbody tr th {\n",
       "        vertical-align: top;\n",
       "    }\n",
       "\n",
       "    .dataframe thead th {\n",
       "        text-align: right;\n",
       "    }\n",
       "</style>\n",
       "<table border=\"1\" class=\"dataframe\">\n",
       "  <thead>\n",
       "    <tr style=\"text-align: right;\">\n",
       "      <th></th>\n",
       "      <th>user_name</th>\n",
       "      <th>ski_resort</th>\n",
       "      <th>rating</th>\n",
       "    </tr>\n",
       "  </thead>\n",
       "  <tbody>\n",
       "    <tr>\n",
       "      <th>0</th>\n",
       "      <td>anon_1</td>\n",
       "      <td>Winter Park</td>\n",
       "      <td>4</td>\n",
       "    </tr>\n",
       "    <tr>\n",
       "      <th>1</th>\n",
       "      <td>anon_1</td>\n",
       "      <td>Arapahoe Basin</td>\n",
       "      <td>5</td>\n",
       "    </tr>\n",
       "    <tr>\n",
       "      <th>2</th>\n",
       "      <td>anon_1</td>\n",
       "      <td>Steamboat</td>\n",
       "      <td>5</td>\n",
       "    </tr>\n",
       "    <tr>\n",
       "      <th>3</th>\n",
       "      <td>anon_1</td>\n",
       "      <td>Copper Mountain</td>\n",
       "      <td>5</td>\n",
       "    </tr>\n",
       "    <tr>\n",
       "      <th>4</th>\n",
       "      <td>anon_2</td>\n",
       "      <td>Solitude Mountain</td>\n",
       "      <td>5</td>\n",
       "    </tr>\n",
       "  </tbody>\n",
       "</table>\n",
       "</div>"
      ],
      "text/plain": [
       "  user_name         ski_resort  rating\n",
       "0    anon_1        Winter Park       4\n",
       "1    anon_1     Arapahoe Basin       5\n",
       "2    anon_1          Steamboat       5\n",
       "3    anon_1    Copper Mountain       5\n",
       "4    anon_2  Solitude Mountain       5"
      ]
     },
     "execution_count": 39,
     "metadata": {},
     "output_type": "execute_result"
    }
   ],
   "source": [
    "surprise_df.head()"
   ]
  },
  {
   "cell_type": "code",
   "execution_count": 40,
   "metadata": {},
   "outputs": [
    {
     "data": {
      "text/plain": [
       "<surprise.prediction_algorithms.matrix_factorization.SVD at 0x7ff240d2e5e0>"
      ]
     },
     "execution_count": 40,
     "metadata": {},
     "output_type": "execute_result"
    }
   ],
   "source": [
    "#saving Reader information\n",
    "reader = Reader(rating_scale=(1, 5))\n",
    "\n",
    "#loading final dataset\n",
    "data = Dataset.load_from_df(surprise_df[['user_name', 'ski_resort', 'rating']], reader)\n",
    "\n",
    "#making trainset\n",
    "trainset = data.build_full_trainset()\n",
    "\n",
    "#instantiating model and training\n",
    "algo = SVD(n_factors=140, n_epochs=40, biased=True, random_state=42)\n",
    "algo.fit(trainset) "
   ]
  },
  {
   "cell_type": "code",
   "execution_count": 41,
   "metadata": {},
   "outputs": [
    {
     "data": {
      "text/html": [
       "<div>\n",
       "<style scoped>\n",
       "    .dataframe tbody tr th:only-of-type {\n",
       "        vertical-align: middle;\n",
       "    }\n",
       "\n",
       "    .dataframe tbody tr th {\n",
       "        vertical-align: top;\n",
       "    }\n",
       "\n",
       "    .dataframe thead th {\n",
       "        text-align: right;\n",
       "    }\n",
       "</style>\n",
       "<table border=\"1\" class=\"dataframe\">\n",
       "  <thead>\n",
       "    <tr style=\"text-align: right;\">\n",
       "      <th></th>\n",
       "      <th>ski_resort</th>\n",
       "    </tr>\n",
       "    <tr>\n",
       "      <th>user_name</th>\n",
       "      <th></th>\n",
       "    </tr>\n",
       "  </thead>\n",
       "  <tbody>\n",
       "    <tr>\n",
       "      <th>anon_1</th>\n",
       "      <td>Winter Park</td>\n",
       "    </tr>\n",
       "    <tr>\n",
       "      <th>anon_1</th>\n",
       "      <td>Arapahoe Basin</td>\n",
       "    </tr>\n",
       "    <tr>\n",
       "      <th>anon_1</th>\n",
       "      <td>Steamboat</td>\n",
       "    </tr>\n",
       "    <tr>\n",
       "      <th>anon_1</th>\n",
       "      <td>Copper Mountain</td>\n",
       "    </tr>\n",
       "    <tr>\n",
       "      <th>anon_2</th>\n",
       "      <td>Solitude Mountain</td>\n",
       "    </tr>\n",
       "  </tbody>\n",
       "</table>\n",
       "</div>"
      ],
      "text/plain": [
       "                  ski_resort\n",
       "user_name                   \n",
       "anon_1           Winter Park\n",
       "anon_1        Arapahoe Basin\n",
       "anon_1             Steamboat\n",
       "anon_1       Copper Mountain\n",
       "anon_2     Solitude Mountain"
      ]
     },
     "execution_count": 41,
     "metadata": {},
     "output_type": "execute_result"
    }
   ],
   "source": [
    "#saving new dataframe with only user information\n",
    "user_df = surprise_df.reset_index()\n",
    "user_df.set_index('user_name', inplace = True)\n",
    "user_df.drop(columns = ['rating', 'index'], inplace =True)\n",
    "user_df.head()"
   ]
  },
  {
   "cell_type": "code",
   "execution_count": 42,
   "metadata": {},
   "outputs": [
    {
     "name": "stdout",
     "output_type": "stream",
     "text": [
      "Number of users:  534 \n",
      "\n",
      "Number of items:  269\n"
     ]
    }
   ],
   "source": [
    "#looking at number of users\n",
    "print('Number of users: ', trainset.n_users, '\\n')\n",
    "print('Number of items: ', trainset.n_items)"
   ]
  },
  {
   "cell_type": "markdown",
   "metadata": {},
   "source": [
    "# Collaborative and Content Based Models"
   ]
  },
  {
   "cell_type": "markdown",
   "metadata": {},
   "source": [
    "### Final Collaborative Model"
   ]
  },
  {
   "cell_type": "code",
   "execution_count": 43,
   "metadata": {},
   "outputs": [],
   "source": [
    "#Collaborative model\n",
    "def collaborative_model():\n",
    "    \n",
    "    user = str(input('Name: '))\n",
    "    n_recs = int(input('How many resort recommendations do you want? '))\n",
    "    \n",
    "    have_rated = list(user_df.loc[user, 'ski_resort'])\n",
    "    not_rated = content_df.copy()\n",
    "    not_rated = not_rated.loc[~not_rated['ski_resort'].isin(have_rated)]  # & (not_rated['state'] == state)]\n",
    "    not_rated = not_rated.drop_duplicates(subset=['ski_resort'])\n",
    "    not_rated.reset_index(inplace=True)\n",
    "    not_rated['predicted_rating'] = not_rated['ski_resort'].apply(lambda x: algo.predict(user, x).est)\n",
    "    not_rated.sort_values(by='predicted_rating', ascending=False, inplace=True)\n",
    "    not_rated = not_rated[['ski_resort', 'state', 'city', \"adultWeekdayPrice\", \"adultWeekendPrice\", 'summit', 'drop',\n",
    "                           'base','ikon', 'epic','mountain_collective',\n",
    "                          'advanced_runs',  'intermediate_runs', 'expert_runs', 'predicted_rating']].copy()\n",
    "\n",
    "    return not_rated.head(n_recs)"
   ]
  },
  {
   "cell_type": "code",
   "execution_count": 44,
   "metadata": {},
   "outputs": [
    {
     "name": "stdout",
     "output_type": "stream",
     "text": [
      "Name: Stephanie Ciaccia\n",
      "How many resort recommendations do you want? 3\n"
     ]
    },
    {
     "data": {
      "text/html": [
       "<div>\n",
       "<style scoped>\n",
       "    .dataframe tbody tr th:only-of-type {\n",
       "        vertical-align: middle;\n",
       "    }\n",
       "\n",
       "    .dataframe tbody tr th {\n",
       "        vertical-align: top;\n",
       "    }\n",
       "\n",
       "    .dataframe thead th {\n",
       "        text-align: right;\n",
       "    }\n",
       "</style>\n",
       "<table border=\"1\" class=\"dataframe\">\n",
       "  <thead>\n",
       "    <tr style=\"text-align: right;\">\n",
       "      <th></th>\n",
       "      <th>ski_resort</th>\n",
       "      <th>state</th>\n",
       "      <th>city</th>\n",
       "      <th>adultWeekdayPrice</th>\n",
       "      <th>adultWeekendPrice</th>\n",
       "      <th>summit</th>\n",
       "      <th>drop</th>\n",
       "      <th>base</th>\n",
       "      <th>ikon</th>\n",
       "      <th>epic</th>\n",
       "      <th>mountain_collective</th>\n",
       "      <th>advanced_runs</th>\n",
       "      <th>intermediate_runs</th>\n",
       "      <th>expert_runs</th>\n",
       "      <th>predicted_rating</th>\n",
       "    </tr>\n",
       "  </thead>\n",
       "  <tbody>\n",
       "    <tr>\n",
       "      <th>154</th>\n",
       "      <td>Whiteface Mountain</td>\n",
       "      <td>New York</td>\n",
       "      <td>Wilmington</td>\n",
       "      <td>115.0</td>\n",
       "      <td>115.0</td>\n",
       "      <td>4650</td>\n",
       "      <td>3430</td>\n",
       "      <td>1220</td>\n",
       "      <td>0</td>\n",
       "      <td>0</td>\n",
       "      <td>0</td>\n",
       "      <td>31</td>\n",
       "      <td>46</td>\n",
       "      <td>0.0</td>\n",
       "      <td>4.437569</td>\n",
       "    </tr>\n",
       "    <tr>\n",
       "      <th>47</th>\n",
       "      <td>Taos Ski Valley</td>\n",
       "      <td>New Mexico</td>\n",
       "      <td>Taos Ski Valley Ski Valley</td>\n",
       "      <td>195.0</td>\n",
       "      <td>195.0</td>\n",
       "      <td>12481</td>\n",
       "      <td>3281</td>\n",
       "      <td>9200</td>\n",
       "      <td>1</td>\n",
       "      <td>0</td>\n",
       "      <td>1</td>\n",
       "      <td>30</td>\n",
       "      <td>16</td>\n",
       "      <td>40.0</td>\n",
       "      <td>4.431001</td>\n",
       "    </tr>\n",
       "    <tr>\n",
       "      <th>83</th>\n",
       "      <td>Granite Peak</td>\n",
       "      <td>Wisconsin</td>\n",
       "      <td>Wausau</td>\n",
       "      <td>95.0</td>\n",
       "      <td>105.0</td>\n",
       "      <td>1942</td>\n",
       "      <td>700</td>\n",
       "      <td>1242</td>\n",
       "      <td>0</td>\n",
       "      <td>0</td>\n",
       "      <td>0</td>\n",
       "      <td>0</td>\n",
       "      <td>0</td>\n",
       "      <td>0.0</td>\n",
       "      <td>4.428575</td>\n",
       "    </tr>\n",
       "  </tbody>\n",
       "</table>\n",
       "</div>"
      ],
      "text/plain": [
       "             ski_resort       state                        city  \\\n",
       "154  Whiteface Mountain    New York                  Wilmington   \n",
       "47      Taos Ski Valley  New Mexico  Taos Ski Valley Ski Valley   \n",
       "83         Granite Peak   Wisconsin                      Wausau   \n",
       "\n",
       "     adultWeekdayPrice  adultWeekendPrice  summit  drop  base  ikon  epic  \\\n",
       "154              115.0              115.0    4650  3430  1220     0     0   \n",
       "47               195.0              195.0   12481  3281  9200     1     0   \n",
       "83                95.0              105.0    1942   700  1242     0     0   \n",
       "\n",
       "     mountain_collective  advanced_runs  intermediate_runs  expert_runs  \\\n",
       "154                    0             31                 46          0.0   \n",
       "47                     1             30                 16         40.0   \n",
       "83                     0              0                  0          0.0   \n",
       "\n",
       "     predicted_rating  \n",
       "154          4.437569  \n",
       "47           4.431001  \n",
       "83           4.428575  "
      ]
     },
     "execution_count": 44,
     "metadata": {},
     "output_type": "execute_result"
    }
   ],
   "source": [
    "collaborative_model()"
   ]
  },
  {
   "cell_type": "markdown",
   "metadata": {},
   "source": [
    "### Final Content Model"
   ]
  },
  {
   "cell_type": "code",
   "execution_count": 45,
   "metadata": {},
   "outputs": [],
   "source": [
    "# Content-based model\n",
    "def content_model():\n",
    "    \n",
    "    #user inputs\n",
    "    n_recs = int(input('How many resort recommendations do you want? '))\n",
    "    mountain_name = str(input(\"What's your favorite ski resort? \"))\n",
    "    travel_date = str(input('What month would you like to travel? '))\n",
    "    \n",
    "    # Pulling out an individual resort\n",
    "    y = sim_df.loc[[mountain_name]].T\n",
    "\n",
    "    #sorting values by similarity score\n",
    "    cos_sim_df = y.reset_index().sort_values(by=mountain_name, ascending=False).head(n_recs + 1)\n",
    "    \n",
    "    #making list for column names\n",
    "    rec_list = []\n",
    "    \n",
    "    #grabbing rows from content_matrix \n",
    "    for x in cos_sim_df['ski_resort']:\n",
    "        rec_df = content_matrix.loc[[x]]  \n",
    "        rec_list.append(rec_df)  #\n",
    "\n",
    "    rec_df = pd.concat(rec_list)\n",
    "\n",
    "    #Concatenate all the dataframes in rec_list into a single dataframe\n",
    "    concat_df = rec_df[[\"city\", \"state\", \"summit\", \"drop\", \"base\", \"adultWeekdayPrice\", \"adultWeekendPrice\", \n",
    "                           'ikon', 'epic','mountain_collective',\n",
    "                        \"beginner_runs\", \"intermediate_runs\", \"advanced_runs\", \"expert_runs\"]]\n",
    "    concat_df = concat_df.reset_index()\n",
    "\n",
    "    #filtering based on month to return airbnb prices and turning into dataframe\n",
    "    travel_date = travel_date.lower()\n",
    "\n",
    "    month = [\"december\", \"january\", \"february\", \"march\", \"april\", \"may\"]\n",
    "    month_abv = [\"dec\", \"jan\", \"feb\", \"mar\", \"apr\", \"may\"]\n",
    "\n",
    "    selected_columns = []\n",
    "    for x, y in zip(month_abv, month):\n",
    "        if travel_date == y:\n",
    "            selected_columns = [x + \"_mean_4_guests\", x + \"_mean_2_guests\"]\n",
    "\n",
    "    result = rec_df[selected_columns]\n",
    "    result = result.reset_index()\n",
    "\n",
    "    #merging dataframes \n",
    "    final_concat_df = pd.merge(concat_df, result, on=\"ski_resort\")\n",
    "    \n",
    "    #dropping mountain name from the results\n",
    "    final_concat_df = final_concat_df[final_concat_df.ski_resort != mountain_name]\n",
    "\n",
    "    #showing final dataframe\n",
    "    return(final_concat_df.head(n_recs))"
   ]
  },
  {
   "cell_type": "code",
   "execution_count": 46,
   "metadata": {},
   "outputs": [
    {
     "name": "stdout",
     "output_type": "stream",
     "text": [
      "How many resort recommendations do you want? 5\n",
      "What's your favorite ski resort? Telluride\n",
      "What month would you like to travel? December\n"
     ]
    },
    {
     "data": {
      "text/html": [
       "<div>\n",
       "<style scoped>\n",
       "    .dataframe tbody tr th:only-of-type {\n",
       "        vertical-align: middle;\n",
       "    }\n",
       "\n",
       "    .dataframe tbody tr th {\n",
       "        vertical-align: top;\n",
       "    }\n",
       "\n",
       "    .dataframe thead th {\n",
       "        text-align: right;\n",
       "    }\n",
       "</style>\n",
       "<table border=\"1\" class=\"dataframe\">\n",
       "  <thead>\n",
       "    <tr style=\"text-align: right;\">\n",
       "      <th></th>\n",
       "      <th>ski_resort</th>\n",
       "      <th>city</th>\n",
       "      <th>state</th>\n",
       "      <th>summit</th>\n",
       "      <th>drop</th>\n",
       "      <th>base</th>\n",
       "      <th>adultWeekdayPrice</th>\n",
       "      <th>adultWeekendPrice</th>\n",
       "      <th>ikon</th>\n",
       "      <th>epic</th>\n",
       "      <th>mountain_collective</th>\n",
       "      <th>beginner_runs</th>\n",
       "      <th>intermediate_runs</th>\n",
       "      <th>advanced_runs</th>\n",
       "      <th>expert_runs</th>\n",
       "      <th>dec_mean_4_guests</th>\n",
       "      <th>dec_mean_2_guests</th>\n",
       "    </tr>\n",
       "  </thead>\n",
       "  <tbody>\n",
       "    <tr>\n",
       "      <th>1</th>\n",
       "      <td>Aspen Snowmass</td>\n",
       "      <td>Aspen</td>\n",
       "      <td>Colorado</td>\n",
       "      <td>12510</td>\n",
       "      <td>4406</td>\n",
       "      <td>8104</td>\n",
       "      <td>189.0</td>\n",
       "      <td>199.0</td>\n",
       "      <td>1</td>\n",
       "      <td>0</td>\n",
       "      <td>1</td>\n",
       "      <td>0</td>\n",
       "      <td>0</td>\n",
       "      <td>0</td>\n",
       "      <td>0.0</td>\n",
       "      <td>624</td>\n",
       "      <td>316</td>\n",
       "    </tr>\n",
       "    <tr>\n",
       "      <th>2</th>\n",
       "      <td>Solitude Mountain</td>\n",
       "      <td>Brighton</td>\n",
       "      <td>Utah</td>\n",
       "      <td>10488</td>\n",
       "      <td>2494</td>\n",
       "      <td>7994</td>\n",
       "      <td>115.0</td>\n",
       "      <td>115.0</td>\n",
       "      <td>1</td>\n",
       "      <td>0</td>\n",
       "      <td>0</td>\n",
       "      <td>6</td>\n",
       "      <td>46</td>\n",
       "      <td>30</td>\n",
       "      <td>18.0</td>\n",
       "      <td>375</td>\n",
       "      <td>322</td>\n",
       "    </tr>\n",
       "    <tr>\n",
       "      <th>3</th>\n",
       "      <td>Beaver Creek</td>\n",
       "      <td>Vail</td>\n",
       "      <td>Colorado</td>\n",
       "      <td>11440</td>\n",
       "      <td>3340</td>\n",
       "      <td>8100</td>\n",
       "      <td>191.0</td>\n",
       "      <td>275.0</td>\n",
       "      <td>0</td>\n",
       "      <td>1</td>\n",
       "      <td>0</td>\n",
       "      <td>38</td>\n",
       "      <td>30</td>\n",
       "      <td>24</td>\n",
       "      <td>8.0</td>\n",
       "      <td>420</td>\n",
       "      <td>268</td>\n",
       "    </tr>\n",
       "    <tr>\n",
       "      <th>4</th>\n",
       "      <td>Brighton</td>\n",
       "      <td>Brighton</td>\n",
       "      <td>Utah</td>\n",
       "      <td>10500</td>\n",
       "      <td>1745</td>\n",
       "      <td>8755</td>\n",
       "      <td>85.0</td>\n",
       "      <td>85.0</td>\n",
       "      <td>1</td>\n",
       "      <td>0</td>\n",
       "      <td>0</td>\n",
       "      <td>0</td>\n",
       "      <td>0</td>\n",
       "      <td>0</td>\n",
       "      <td>0.0</td>\n",
       "      <td>375</td>\n",
       "      <td>322</td>\n",
       "    </tr>\n",
       "    <tr>\n",
       "      <th>5</th>\n",
       "      <td>Jackson Hole</td>\n",
       "      <td>Teton Village</td>\n",
       "      <td>Wyoming</td>\n",
       "      <td>10450</td>\n",
       "      <td>4139</td>\n",
       "      <td>6311</td>\n",
       "      <td>215.0</td>\n",
       "      <td>215.0</td>\n",
       "      <td>1</td>\n",
       "      <td>0</td>\n",
       "      <td>1</td>\n",
       "      <td>4</td>\n",
       "      <td>41</td>\n",
       "      <td>38</td>\n",
       "      <td>17.0</td>\n",
       "      <td>436</td>\n",
       "      <td>254</td>\n",
       "    </tr>\n",
       "  </tbody>\n",
       "</table>\n",
       "</div>"
      ],
      "text/plain": [
       "          ski_resort           city     state  summit  drop  base  \\\n",
       "1     Aspen Snowmass          Aspen  Colorado   12510  4406  8104   \n",
       "2  Solitude Mountain       Brighton      Utah   10488  2494  7994   \n",
       "3       Beaver Creek           Vail  Colorado   11440  3340  8100   \n",
       "4           Brighton       Brighton      Utah   10500  1745  8755   \n",
       "5       Jackson Hole  Teton Village   Wyoming   10450  4139  6311   \n",
       "\n",
       "   adultWeekdayPrice  adultWeekendPrice  ikon  epic  mountain_collective  \\\n",
       "1              189.0              199.0     1     0                    1   \n",
       "2              115.0              115.0     1     0                    0   \n",
       "3              191.0              275.0     0     1                    0   \n",
       "4               85.0               85.0     1     0                    0   \n",
       "5              215.0              215.0     1     0                    1   \n",
       "\n",
       "   beginner_runs  intermediate_runs  advanced_runs  expert_runs  \\\n",
       "1              0                  0              0          0.0   \n",
       "2              6                 46             30         18.0   \n",
       "3             38                 30             24          8.0   \n",
       "4              0                  0              0          0.0   \n",
       "5              4                 41             38         17.0   \n",
       "\n",
       "   dec_mean_4_guests  dec_mean_2_guests  \n",
       "1                624                316  \n",
       "2                375                322  \n",
       "3                420                268  \n",
       "4                375                322  \n",
       "5                436                254  "
      ]
     },
     "execution_count": 46,
     "metadata": {},
     "output_type": "execute_result"
    }
   ],
   "source": [
    "content_model()"
   ]
  },
  {
   "cell_type": "markdown",
   "metadata": {},
   "source": [
    "## Cascade-Hybrid Model"
   ]
  },
  {
   "cell_type": "markdown",
   "metadata": {},
   "source": [
    "I will be creating a cascade hybrid model for my final recommendation system. \n",
    "\n",
    "Unlike traditional collaborative user-based models commonly used in music and streaming platforms, these models have limitations when applied to the context of ski trip planning, given the higher opportunity cost involved.\n",
    "\n",
    "The hybrid model begins with a collaborative model, and takes the top 30 resorts and then will refine the final recommendations by using the content based system, which will use the user's input as a guide for the final recommendations. \n",
    "\n",
    "In combining the models, there were a few adjustments that neede to be made:\n",
    "- Since it is not guaranteed that the user's input for their mountain preference will be selected by the collaborative model, I added in the user's mountain as the top recommendation for the collaborative model. I did this my adding in the row to the final output dataframe, and then assigning the predicted rating to 5 to ensure that it appeared at the top of all results.\n",
    "- I adjusted the content based model to use the final dataframe from the collaborative model. This included the top 50 results."
   ]
  },
  {
   "cell_type": "code",
   "execution_count": 47,
   "metadata": {},
   "outputs": [],
   "source": [
    "# User inputs\n",
    "user = \"Stephanie Ciaccia\"\n",
    "n_recs = 5\n",
    "mountain_name = \"Stevens Pass\"\n",
    "travel_date = \"December\"\n",
    "mtn_pass = \"Epic\"\n",
    "    \n",
    "# Pulling out an individual resort\n",
    "y = sim_df.loc[[mountain_name]].T\n",
    "    \n",
    "#sorting values by similarity score\n",
    "cos_sim_df = y.reset_index().sort_values(by=mountain_name, ascending=False)\n",
    "    \n",
    "#making list for column names\n",
    "rec_list = []\n",
    "    \n",
    "#grabbing rows from content_matrix for final output\n",
    "for x in cos_sim_df['ski_resort']:\n",
    "    rec_df = content_matrix.loc[[x]]  \n",
    "    rec_list.append(rec_df)  #\n",
    "\n",
    "rec_df = pd.concat(rec_list)\n",
    "\n",
    "#Concatenate all the dataframes in rec_list into a single dataframe\n",
    "concat_df = rec_df[[\"city\", \"state\", \"summit\", \"drop\", \"base\",\"adultWeekdayPrice\", \"adultWeekendPrice\",\n",
    "                           \"beginner_runs\", \"intermediate_runs\", \"advanced_runs\", \"expert_runs\",\n",
    "                        \"ikon\", \"epic\", \"mountain_collective\", 'indy']]\n",
    "    \n",
    "concat_df = concat_df.reset_index()"
   ]
  },
  {
   "cell_type": "code",
   "execution_count": 48,
   "metadata": {},
   "outputs": [],
   "source": [
    "#filtering based on month to return airbnb prices and turning into dataframe\n",
    "travel_date = travel_date.lower()\n",
    "\n",
    "month = [\"december\", \"january\", \"february\", \"march\", \"april\", \"may\"]\n",
    "month_abv = [\"dec\", \"jan\", \"feb\", \"mar\", \"apr\", \"may\"]\n",
    "\n",
    "selected_columns = []\n",
    "for x, y in zip(month_abv, month):\n",
    "    if travel_date == y:\n",
    "        selected_columns = [x + \"_mean_4_guests\", x + \"_mean_2_guests\"]\n",
    "\n",
    "result = rec_df[selected_columns]\n",
    "result = result.reset_index()                        \n",
    "content_recommendations = pd.merge(concat_df, result, on=\"ski_resort\")"
   ]
  },
  {
   "cell_type": "code",
   "execution_count": 49,
   "metadata": {},
   "outputs": [
    {
     "data": {
      "text/html": [
       "<div>\n",
       "<style scoped>\n",
       "    .dataframe tbody tr th:only-of-type {\n",
       "        vertical-align: middle;\n",
       "    }\n",
       "\n",
       "    .dataframe tbody tr th {\n",
       "        vertical-align: top;\n",
       "    }\n",
       "\n",
       "    .dataframe thead th {\n",
       "        text-align: right;\n",
       "    }\n",
       "</style>\n",
       "<table border=\"1\" class=\"dataframe\">\n",
       "  <thead>\n",
       "    <tr style=\"text-align: right;\">\n",
       "      <th></th>\n",
       "      <th>ski_resort</th>\n",
       "      <th>city</th>\n",
       "      <th>state</th>\n",
       "      <th>summit</th>\n",
       "      <th>drop</th>\n",
       "      <th>base</th>\n",
       "      <th>adultWeekdayPrice</th>\n",
       "      <th>adultWeekendPrice</th>\n",
       "      <th>beginner_runs</th>\n",
       "      <th>intermediate_runs</th>\n",
       "      <th>advanced_runs</th>\n",
       "      <th>expert_runs</th>\n",
       "      <th>ikon</th>\n",
       "      <th>epic</th>\n",
       "      <th>mountain_collective</th>\n",
       "      <th>indy</th>\n",
       "      <th>dec_mean_4_guests</th>\n",
       "      <th>dec_mean_2_guests</th>\n",
       "    </tr>\n",
       "  </thead>\n",
       "  <tbody>\n",
       "    <tr>\n",
       "      <th>0</th>\n",
       "      <td>Stevens Pass</td>\n",
       "      <td>Skykomish</td>\n",
       "      <td>Washington</td>\n",
       "      <td>5845</td>\n",
       "      <td>1800</td>\n",
       "      <td>4061</td>\n",
       "      <td>0.0</td>\n",
       "      <td>0.0</td>\n",
       "      <td>8</td>\n",
       "      <td>43</td>\n",
       "      <td>31</td>\n",
       "      <td>18.0</td>\n",
       "      <td>0</td>\n",
       "      <td>1</td>\n",
       "      <td>0</td>\n",
       "      <td>0</td>\n",
       "      <td>276</td>\n",
       "      <td>235</td>\n",
       "    </tr>\n",
       "    <tr>\n",
       "      <th>1</th>\n",
       "      <td>Timberline Lodge</td>\n",
       "      <td>Timberline Lodge</td>\n",
       "      <td>Oregon</td>\n",
       "      <td>8540</td>\n",
       "      <td>3690</td>\n",
       "      <td>6000</td>\n",
       "      <td>0.0</td>\n",
       "      <td>0.0</td>\n",
       "      <td>25</td>\n",
       "      <td>50</td>\n",
       "      <td>13</td>\n",
       "      <td>12.0</td>\n",
       "      <td>0</td>\n",
       "      <td>0</td>\n",
       "      <td>0</td>\n",
       "      <td>0</td>\n",
       "      <td>255</td>\n",
       "      <td>208</td>\n",
       "    </tr>\n",
       "    <tr>\n",
       "      <th>2</th>\n",
       "      <td>Boreal</td>\n",
       "      <td>Truckee</td>\n",
       "      <td>California</td>\n",
       "      <td>7700</td>\n",
       "      <td>500</td>\n",
       "      <td>7200</td>\n",
       "      <td>49.0</td>\n",
       "      <td>0.0</td>\n",
       "      <td>26</td>\n",
       "      <td>29</td>\n",
       "      <td>44</td>\n",
       "      <td>0.0</td>\n",
       "      <td>0</td>\n",
       "      <td>0</td>\n",
       "      <td>0</td>\n",
       "      <td>0</td>\n",
       "      <td>275</td>\n",
       "      <td>231</td>\n",
       "    </tr>\n",
       "    <tr>\n",
       "      <th>3</th>\n",
       "      <td>Bear Valley</td>\n",
       "      <td>Bear Valley</td>\n",
       "      <td>California</td>\n",
       "      <td>8500</td>\n",
       "      <td>1900</td>\n",
       "      <td>6600</td>\n",
       "      <td>0.0</td>\n",
       "      <td>0.0</td>\n",
       "      <td>11</td>\n",
       "      <td>41</td>\n",
       "      <td>45</td>\n",
       "      <td>4.0</td>\n",
       "      <td>0</td>\n",
       "      <td>0</td>\n",
       "      <td>0</td>\n",
       "      <td>0</td>\n",
       "      <td>270</td>\n",
       "      <td>235</td>\n",
       "    </tr>\n",
       "    <tr>\n",
       "      <th>4</th>\n",
       "      <td>Mt. Hood Meadows</td>\n",
       "      <td>Mt. Hood</td>\n",
       "      <td>Oregon</td>\n",
       "      <td>7300</td>\n",
       "      <td>2777</td>\n",
       "      <td>4523</td>\n",
       "      <td>0.0</td>\n",
       "      <td>0.0</td>\n",
       "      <td>0</td>\n",
       "      <td>0</td>\n",
       "      <td>0</td>\n",
       "      <td>0.0</td>\n",
       "      <td>0</td>\n",
       "      <td>0</td>\n",
       "      <td>0</td>\n",
       "      <td>1</td>\n",
       "      <td>267</td>\n",
       "      <td>184</td>\n",
       "    </tr>\n",
       "  </tbody>\n",
       "</table>\n",
       "</div>"
      ],
      "text/plain": [
       "         ski_resort              city       state  summit  drop  base  \\\n",
       "0      Stevens Pass         Skykomish  Washington    5845  1800  4061   \n",
       "1  Timberline Lodge  Timberline Lodge      Oregon    8540  3690  6000   \n",
       "2            Boreal           Truckee  California    7700   500  7200   \n",
       "3       Bear Valley       Bear Valley  California    8500  1900  6600   \n",
       "4  Mt. Hood Meadows          Mt. Hood      Oregon    7300  2777  4523   \n",
       "\n",
       "   adultWeekdayPrice  adultWeekendPrice  beginner_runs  intermediate_runs  \\\n",
       "0                0.0                0.0              8                 43   \n",
       "1                0.0                0.0             25                 50   \n",
       "2               49.0                0.0             26                 29   \n",
       "3                0.0                0.0             11                 41   \n",
       "4                0.0                0.0              0                  0   \n",
       "\n",
       "   advanced_runs  expert_runs  ikon  epic  mountain_collective  indy  \\\n",
       "0             31         18.0     0     1                    0     0   \n",
       "1             13         12.0     0     0                    0     0   \n",
       "2             44          0.0     0     0                    0     0   \n",
       "3             45          4.0     0     0                    0     0   \n",
       "4              0          0.0     0     0                    0     1   \n",
       "\n",
       "   dec_mean_4_guests  dec_mean_2_guests  \n",
       "0                276                235  \n",
       "1                255                208  \n",
       "2                275                231  \n",
       "3                270                235  \n",
       "4                267                184  "
      ]
     },
     "execution_count": 49,
     "metadata": {},
     "output_type": "execute_result"
    }
   ],
   "source": [
    "content_recommendations.head()"
   ]
  },
  {
   "cell_type": "code",
   "execution_count": 50,
   "metadata": {},
   "outputs": [],
   "source": [
    "#adding mountain fil\n",
    "if mtn_pass == \"Ikon\":\n",
    "    content_recommendations = content_recommendations.loc[content_recommendations['ikon'] == 1]\n",
    "elif mtn_pass == \"Epic\":\n",
    "    content_recommendations = content_recommendations.loc[content_recommendations['epic'] == 1]\n",
    "elif mtn_pass == \"Mountain_collective\":\n",
    "    content_recommendations = content_recommendations.loc[content_recommendations['mountain_collective'] == 1]\n",
    "elif mtn_pass == \"Indy\":\n",
    "    content_recommendations = content_recommendations.loc[content_recommendations['indy'] == 1]\n",
    "elif mtn_pass == \"No\":\n",
    "    pass"
   ]
  },
  {
   "cell_type": "code",
   "execution_count": 51,
   "metadata": {},
   "outputs": [],
   "source": [
    "content_recommendations = content_recommendations[content_recommendations.ski_resort != mountain_name].head(20)"
   ]
  },
  {
   "cell_type": "code",
   "execution_count": 52,
   "metadata": {},
   "outputs": [
    {
     "data": {
      "text/html": [
       "<div>\n",
       "<style scoped>\n",
       "    .dataframe tbody tr th:only-of-type {\n",
       "        vertical-align: middle;\n",
       "    }\n",
       "\n",
       "    .dataframe tbody tr th {\n",
       "        vertical-align: top;\n",
       "    }\n",
       "\n",
       "    .dataframe thead th {\n",
       "        text-align: right;\n",
       "    }\n",
       "</style>\n",
       "<table border=\"1\" class=\"dataframe\">\n",
       "  <thead>\n",
       "    <tr style=\"text-align: right;\">\n",
       "      <th></th>\n",
       "      <th>ski_resort</th>\n",
       "      <th>city</th>\n",
       "      <th>state</th>\n",
       "      <th>summit</th>\n",
       "      <th>drop</th>\n",
       "      <th>base</th>\n",
       "      <th>adultWeekdayPrice</th>\n",
       "      <th>adultWeekendPrice</th>\n",
       "      <th>beginner_runs</th>\n",
       "      <th>intermediate_runs</th>\n",
       "      <th>advanced_runs</th>\n",
       "      <th>expert_runs</th>\n",
       "      <th>dec_mean_4_guests</th>\n",
       "      <th>dec_mean_2_guests</th>\n",
       "      <th>predicted_rating</th>\n",
       "    </tr>\n",
       "  </thead>\n",
       "  <tbody>\n",
       "    <tr>\n",
       "      <th>2</th>\n",
       "      <td>Kirkwood</td>\n",
       "      <td>Kirkwood</td>\n",
       "      <td>California</td>\n",
       "      <td>9800</td>\n",
       "      <td>2000</td>\n",
       "      <td>7800</td>\n",
       "      <td>0.0</td>\n",
       "      <td>0.0</td>\n",
       "      <td>0</td>\n",
       "      <td>0</td>\n",
       "      <td>0</td>\n",
       "      <td>0.0</td>\n",
       "      <td>371</td>\n",
       "      <td>304</td>\n",
       "      <td>4.216628</td>\n",
       "    </tr>\n",
       "    <tr>\n",
       "      <th>6</th>\n",
       "      <td>Okemo Mountain</td>\n",
       "      <td>Ludlow</td>\n",
       "      <td>Vermont</td>\n",
       "      <td>3344</td>\n",
       "      <td>2200</td>\n",
       "      <td>1144</td>\n",
       "      <td>0.0</td>\n",
       "      <td>0.0</td>\n",
       "      <td>33</td>\n",
       "      <td>38</td>\n",
       "      <td>21</td>\n",
       "      <td>9.0</td>\n",
       "      <td>290</td>\n",
       "      <td>266</td>\n",
       "      <td>4.154102</td>\n",
       "    </tr>\n",
       "    <tr>\n",
       "      <th>12</th>\n",
       "      <td>Mt. Sunapee</td>\n",
       "      <td>Newbury</td>\n",
       "      <td>New Hampshire</td>\n",
       "      <td>2743</td>\n",
       "      <td>1510</td>\n",
       "      <td>1233</td>\n",
       "      <td>0.0</td>\n",
       "      <td>0.0</td>\n",
       "      <td>29</td>\n",
       "      <td>47</td>\n",
       "      <td>24</td>\n",
       "      <td>0.0</td>\n",
       "      <td>266</td>\n",
       "      <td>197</td>\n",
       "      <td>4.139407</td>\n",
       "    </tr>\n",
       "    <tr>\n",
       "      <th>15</th>\n",
       "      <td>Attitash</td>\n",
       "      <td>Bartlett</td>\n",
       "      <td>New Hampshire</td>\n",
       "      <td>2350</td>\n",
       "      <td>1750</td>\n",
       "      <td>600</td>\n",
       "      <td>79.0</td>\n",
       "      <td>89.0</td>\n",
       "      <td>26</td>\n",
       "      <td>46</td>\n",
       "      <td>28</td>\n",
       "      <td>0.0</td>\n",
       "      <td>211</td>\n",
       "      <td>164</td>\n",
       "      <td>4.112258</td>\n",
       "    </tr>\n",
       "    <tr>\n",
       "      <th>10</th>\n",
       "      <td>Crested Butte Mountain</td>\n",
       "      <td>Mt. Crested Butte Mountain</td>\n",
       "      <td>Colorado</td>\n",
       "      <td>12162</td>\n",
       "      <td>3062</td>\n",
       "      <td>9375</td>\n",
       "      <td>149.0</td>\n",
       "      <td>165.0</td>\n",
       "      <td>14</td>\n",
       "      <td>25</td>\n",
       "      <td>25</td>\n",
       "      <td>36.0</td>\n",
       "      <td>255</td>\n",
       "      <td>150</td>\n",
       "      <td>4.059768</td>\n",
       "    </tr>\n",
       "  </tbody>\n",
       "</table>\n",
       "</div>"
      ],
      "text/plain": [
       "                ski_resort                        city          state  summit  \\\n",
       "2                 Kirkwood                    Kirkwood     California    9800   \n",
       "6           Okemo Mountain                      Ludlow        Vermont    3344   \n",
       "12             Mt. Sunapee                     Newbury  New Hampshire    2743   \n",
       "15                Attitash                    Bartlett  New Hampshire    2350   \n",
       "10  Crested Butte Mountain  Mt. Crested Butte Mountain       Colorado   12162   \n",
       "\n",
       "    drop  base  adultWeekdayPrice  adultWeekendPrice  beginner_runs  \\\n",
       "2   2000  7800                0.0                0.0              0   \n",
       "6   2200  1144                0.0                0.0             33   \n",
       "12  1510  1233                0.0                0.0             29   \n",
       "15  1750   600               79.0               89.0             26   \n",
       "10  3062  9375              149.0              165.0             14   \n",
       "\n",
       "    intermediate_runs  advanced_runs  expert_runs  dec_mean_4_guests  \\\n",
       "2                   0              0          0.0                371   \n",
       "6                  38             21          9.0                290   \n",
       "12                 47             24          0.0                266   \n",
       "15                 46             28          0.0                211   \n",
       "10                 25             25         36.0                255   \n",
       "\n",
       "    dec_mean_2_guests  predicted_rating  \n",
       "2                 304          4.216628  \n",
       "6                 266          4.154102  \n",
       "12                197          4.139407  \n",
       "15                164          4.112258  \n",
       "10                150          4.059768  "
      ]
     },
     "execution_count": 52,
     "metadata": {},
     "output_type": "execute_result"
    }
   ],
   "source": [
    "# Collaborative model\n",
    "have_rated = list(user_df.loc[user, 'ski_resort'])\n",
    "not_rated = final_user_df.copy()\n",
    "not_rated = not_rated.loc[~not_rated['ski_resort'].isin(have_rated)]\n",
    "not_rated = not_rated.drop_duplicates(subset=['ski_resort'])\n",
    "not_rated.reset_index(inplace=True)\n",
    "not_rated['predicted_rating'] = not_rated['ski_resort'].apply(lambda x: algo.predict(user, x).est)\n",
    "not_rated.sort_values(by='predicted_rating', ascending=False, inplace=True)\n",
    "collaborative_recommendations = not_rated[['ski_resort', 'predicted_rating']]\n",
    "\n",
    "# Combine content-based and collaborative recommendations\n",
    "combined_recommendations = pd.merge(content_recommendations, collaborative_recommendations, on='ski_resort', how='left')\n",
    "combined_recommendations = combined_recommendations.drop_duplicates(subset=['ski_resort'])\n",
    "combined_recommendations.sort_values(by='predicted_rating', ascending=False, inplace=True)\n",
    "combined_recommendations.drop(columns=['ikon', 'mountain_collective', 'epic', 'indy'], inplace=True)\n",
    "combined_recommendations.head(n_recs)"
   ]
  },
  {
   "cell_type": "code",
   "execution_count": 53,
   "metadata": {},
   "outputs": [],
   "source": [
    "def hybrid_model_content():\n",
    "    \n",
    "    # User inputs\n",
    "    user = str(input('Name: '))\n",
    "    n_recs = int(input('How many resort recommendations do you want? '))\n",
    "    mountain_name = str(input(\"What's your favorite ski resort? \"))\n",
    "    travel_date = str(input('What month would you like to travel? '))\n",
    "    mtn_pass = str(input('Are you using a multi-resort pass?  '))\n",
    "    \n",
    "    # Pulling out an individual resort\n",
    "    y = sim_df.loc[[mountain_name]].T\n",
    "    \n",
    "    #sorting values by similarity score\n",
    "    cos_sim_df = y.reset_index().sort_values(by=mountain_name, ascending=False)\n",
    "    \n",
    "    #making list for column names\n",
    "    rec_list = []\n",
    "    \n",
    "    #grabbing rows from content_matrix for final output\n",
    "    for x in cos_sim_df['ski_resort']:\n",
    "        rec_df = content_matrix.loc[[x]]  \n",
    "        rec_list.append(rec_df)  #\n",
    "\n",
    "    rec_df = pd.concat(rec_list)\n",
    "\n",
    "    #Concatenate all the dataframes in rec_list into a single dataframe\n",
    "    concat_df = rec_df[[\"city\", \"state\", \"summit\", \"drop\", \"base\",\"adultWeekdayPrice\", \"adultWeekendPrice\",\n",
    "                           \"beginner_runs\", \"intermediate_runs\", \"advanced_runs\", \"expert_runs\",\n",
    "                        \"ikon\", \"epic\", \"mountain_collective\", 'indy','nov_snow', 'dec_snow',\n",
    "                        'jan_snow', 'feb_snow', 'mar_snow','apr_snow']]\n",
    "    \n",
    "    concat_df = concat_df.reset_index()\n",
    "\n",
    "    #filtering based on month to return airbnb prices and turning into dataframe\n",
    "    travel_date = travel_date.lower()\n",
    "\n",
    "    month = [\"december\", \"january\", \"february\", \"march\", \"april\", \"may\"]\n",
    "    month_abv = [\"dec\", \"jan\", \"feb\", \"mar\", \"apr\", \"may\"]\n",
    "\n",
    "    selected_columns = []\n",
    "    for x, y in zip(month_abv, month):\n",
    "        if travel_date == y:\n",
    "            selected_columns = [x + \"_mean_4_guests\", x + \"_mean_2_guests\"]\n",
    "\n",
    "    result = rec_df[selected_columns]\n",
    "    result = result.reset_index()                        \n",
    "    content_recommendations = pd.merge(concat_df, result, on=\"ski_resort\")\n",
    "    \n",
    "    #adding mountain fil\n",
    "    if mtn_pass == \"Ikon\":\n",
    "        content_recommendations = content_recommendations.loc[content_recommendations['ikon'] == 1]\n",
    "    elif mtn_pass == \"Epic\":\n",
    "        content_recommendations = content_recommendations.loc[content_recommendations['epic'] == 1]\n",
    "    elif mtn_pass == \"Mountain_collective\":\n",
    "        content_recommendations = content_recommendations.loc[content_recommendations['mountain_collective'] == 1]\n",
    "    elif mtn_pass == \"Indy\":\n",
    "        content_recommendations = content_recommendations.loc[content_recommendations['indy'] == 1]\n",
    "    elif mtn_pass == \"No\":\n",
    "        pass\n",
    "    \n",
    "    content_recommendations = content_recommendations[content_recommendations.ski_resort != mountain_name].head(30)\n",
    "\n",
    "    # Collaborative model\n",
    "    have_rated = list(user_df.loc[user, 'ski_resort'])\n",
    "    not_rated = final_user_df.copy()\n",
    "    not_rated = not_rated.loc[~not_rated['ski_resort'].isin(have_rated)]\n",
    "    not_rated = not_rated.drop_duplicates(subset=['ski_resort'])\n",
    "    not_rated.reset_index(inplace=True)\n",
    "    not_rated['predicted_rating'] = not_rated['ski_resort'].apply(lambda x: algo.predict(user, x).est)\n",
    "    not_rated.sort_values(by='predicted_rating', ascending=False, inplace=True)\n",
    "    collaborative_recommendations = not_rated[['ski_resort', 'predicted_rating']]\n",
    "\n",
    "    # Combine content-based and collaborative recommendations\n",
    "    combined_recommendations = pd.merge(content_recommendations, collaborative_recommendations, on='ski_resort', how='left')\n",
    "    combined_recommendations = combined_recommendations.drop_duplicates(subset=['ski_resort'])\n",
    "    combined_recommendations.sort_values(by='predicted_rating', ascending=False, inplace=True)\n",
    "    combined_recommendations.drop(columns=['ikon', 'mountain_collective', 'epic', 'indy'], inplace=True)\n",
    "    return combined_recommendations.head(n_recs)"
   ]
  },
  {
   "cell_type": "markdown",
   "metadata": {},
   "source": [
    "## Function Testing - Recommendation Analysis"
   ]
  },
  {
   "cell_type": "markdown",
   "metadata": {},
   "source": [
    "I will be testing the model results with two users who filled out the resort survey, and who I created a user profile based on a set of questions I asked each user. I removed their last names from the survey.\n",
    "\n",
    "**Alexandria K.**\n",
    "- Dislikes \"bougie\" resorts\n",
    "- Travels to shred\n",
    "- Looks for expert runs and accessible transportation\n",
    "- Buys the Epic pass but dislikes Vail and corporate ski vibes\n",
    "- Budget-friendly planning\n",
    "\n",
    "**Raghava K.**\n",
    "- Loves expert terrain and well- marked tails\n",
    "- All about the apres-ski life \n",
    "- Travels to shred but wants to have fun while doing it\n",
    "- Uses both Epic & Ikon passes"
   ]
  },
  {
   "cell_type": "markdown",
   "metadata": {},
   "source": [
    "#### Alexandria's Results"
   ]
  },
  {
   "cell_type": "markdown",
   "metadata": {},
   "source": [
    "Alexandria tested out the model with the [deployed streamlit app](https://stephcia-ski-recommendation-system-ski-model-stephanie-zs77j6.streamlit.app/) and gave me her opion on the recommendations. For some reason the output was slightly different in the depolyed streamlit app, than below.\n",
    "\n",
    "**Inputs**\n",
    "- Name: Alexandria K.\n",
    "- How many resort recommendations do you want? 3\n",
    "- What's your favorite ski resort? Snowbird\n",
    "- What month would you like to travel? February\n",
    "- Are you using a multi-resort pass?  Epic\n",
    "\n",
    "**Outputs**\n",
    "- Kirkwood\n",
    "- Breckenridge\n",
    "- Wildcat\n",
    "\n",
    "Feedback: I would not go to Wildcat, but Kirkwood I would. I have been to Breckenridge, which I did not rate in the survey and I do like the mountain."
   ]
  },
  {
   "cell_type": "code",
   "execution_count": 54,
   "metadata": {},
   "outputs": [
    {
     "name": "stdout",
     "output_type": "stream",
     "text": [
      "How many resort recommendations do you want? 5\n",
      "What's your favorite ski resort? Stevens Pass\n",
      "What month would you like to travel? December\n"
     ]
    },
    {
     "data": {
      "text/html": [
       "<div>\n",
       "<style scoped>\n",
       "    .dataframe tbody tr th:only-of-type {\n",
       "        vertical-align: middle;\n",
       "    }\n",
       "\n",
       "    .dataframe tbody tr th {\n",
       "        vertical-align: top;\n",
       "    }\n",
       "\n",
       "    .dataframe thead th {\n",
       "        text-align: right;\n",
       "    }\n",
       "</style>\n",
       "<table border=\"1\" class=\"dataframe\">\n",
       "  <thead>\n",
       "    <tr style=\"text-align: right;\">\n",
       "      <th></th>\n",
       "      <th>ski_resort</th>\n",
       "      <th>city</th>\n",
       "      <th>state</th>\n",
       "      <th>summit</th>\n",
       "      <th>drop</th>\n",
       "      <th>base</th>\n",
       "      <th>adultWeekdayPrice</th>\n",
       "      <th>adultWeekendPrice</th>\n",
       "      <th>ikon</th>\n",
       "      <th>epic</th>\n",
       "      <th>mountain_collective</th>\n",
       "      <th>beginner_runs</th>\n",
       "      <th>intermediate_runs</th>\n",
       "      <th>advanced_runs</th>\n",
       "      <th>expert_runs</th>\n",
       "      <th>dec_mean_4_guests</th>\n",
       "      <th>dec_mean_2_guests</th>\n",
       "    </tr>\n",
       "  </thead>\n",
       "  <tbody>\n",
       "    <tr>\n",
       "      <th>1</th>\n",
       "      <td>Timberline Lodge</td>\n",
       "      <td>Timberline Lodge</td>\n",
       "      <td>Oregon</td>\n",
       "      <td>8540</td>\n",
       "      <td>3690</td>\n",
       "      <td>6000</td>\n",
       "      <td>0.0</td>\n",
       "      <td>0.0</td>\n",
       "      <td>0</td>\n",
       "      <td>0</td>\n",
       "      <td>0</td>\n",
       "      <td>25</td>\n",
       "      <td>50</td>\n",
       "      <td>13</td>\n",
       "      <td>12.0</td>\n",
       "      <td>255</td>\n",
       "      <td>208</td>\n",
       "    </tr>\n",
       "    <tr>\n",
       "      <th>2</th>\n",
       "      <td>Boreal</td>\n",
       "      <td>Truckee</td>\n",
       "      <td>California</td>\n",
       "      <td>7700</td>\n",
       "      <td>500</td>\n",
       "      <td>7200</td>\n",
       "      <td>49.0</td>\n",
       "      <td>0.0</td>\n",
       "      <td>0</td>\n",
       "      <td>0</td>\n",
       "      <td>0</td>\n",
       "      <td>26</td>\n",
       "      <td>29</td>\n",
       "      <td>44</td>\n",
       "      <td>0.0</td>\n",
       "      <td>275</td>\n",
       "      <td>231</td>\n",
       "    </tr>\n",
       "    <tr>\n",
       "      <th>3</th>\n",
       "      <td>Bear Valley</td>\n",
       "      <td>Bear Valley</td>\n",
       "      <td>California</td>\n",
       "      <td>8500</td>\n",
       "      <td>1900</td>\n",
       "      <td>6600</td>\n",
       "      <td>0.0</td>\n",
       "      <td>0.0</td>\n",
       "      <td>0</td>\n",
       "      <td>0</td>\n",
       "      <td>0</td>\n",
       "      <td>11</td>\n",
       "      <td>41</td>\n",
       "      <td>45</td>\n",
       "      <td>4.0</td>\n",
       "      <td>270</td>\n",
       "      <td>235</td>\n",
       "    </tr>\n",
       "    <tr>\n",
       "      <th>4</th>\n",
       "      <td>Mt. Hood Meadows</td>\n",
       "      <td>Mt. Hood</td>\n",
       "      <td>Oregon</td>\n",
       "      <td>7300</td>\n",
       "      <td>2777</td>\n",
       "      <td>4523</td>\n",
       "      <td>0.0</td>\n",
       "      <td>0.0</td>\n",
       "      <td>0</td>\n",
       "      <td>0</td>\n",
       "      <td>0</td>\n",
       "      <td>0</td>\n",
       "      <td>0</td>\n",
       "      <td>0</td>\n",
       "      <td>0.0</td>\n",
       "      <td>267</td>\n",
       "      <td>184</td>\n",
       "    </tr>\n",
       "    <tr>\n",
       "      <th>5</th>\n",
       "      <td>White Pass</td>\n",
       "      <td>White Pass</td>\n",
       "      <td>Washington</td>\n",
       "      <td>6550</td>\n",
       "      <td>2050</td>\n",
       "      <td>4500</td>\n",
       "      <td>69.0</td>\n",
       "      <td>69.0</td>\n",
       "      <td>0</td>\n",
       "      <td>0</td>\n",
       "      <td>0</td>\n",
       "      <td>0</td>\n",
       "      <td>0</td>\n",
       "      <td>0</td>\n",
       "      <td>0.0</td>\n",
       "      <td>237</td>\n",
       "      <td>212</td>\n",
       "    </tr>\n",
       "  </tbody>\n",
       "</table>\n",
       "</div>"
      ],
      "text/plain": [
       "         ski_resort              city       state  summit  drop  base  \\\n",
       "1  Timberline Lodge  Timberline Lodge      Oregon    8540  3690  6000   \n",
       "2            Boreal           Truckee  California    7700   500  7200   \n",
       "3       Bear Valley       Bear Valley  California    8500  1900  6600   \n",
       "4  Mt. Hood Meadows          Mt. Hood      Oregon    7300  2777  4523   \n",
       "5        White Pass        White Pass  Washington    6550  2050  4500   \n",
       "\n",
       "   adultWeekdayPrice  adultWeekendPrice  ikon  epic  mountain_collective  \\\n",
       "1                0.0                0.0     0     0                    0   \n",
       "2               49.0                0.0     0     0                    0   \n",
       "3                0.0                0.0     0     0                    0   \n",
       "4                0.0                0.0     0     0                    0   \n",
       "5               69.0               69.0     0     0                    0   \n",
       "\n",
       "   beginner_runs  intermediate_runs  advanced_runs  expert_runs  \\\n",
       "1             25                 50             13         12.0   \n",
       "2             26                 29             44          0.0   \n",
       "3             11                 41             45          4.0   \n",
       "4              0                  0              0          0.0   \n",
       "5              0                  0              0          0.0   \n",
       "\n",
       "   dec_mean_4_guests  dec_mean_2_guests  \n",
       "1                255                208  \n",
       "2                275                231  \n",
       "3                270                235  \n",
       "4                267                184  \n",
       "5                237                212  "
      ]
     },
     "execution_count": 54,
     "metadata": {},
     "output_type": "execute_result"
    }
   ],
   "source": [
    "content_model()"
   ]
  },
  {
   "cell_type": "code",
   "execution_count": 61,
   "metadata": {},
   "outputs": [
    {
     "name": "stdout",
     "output_type": "stream",
     "text": [
      "Name: Alexandria K.\n",
      "How many resort recommendations do you want? 5\n"
     ]
    },
    {
     "data": {
      "text/html": [
       "<div>\n",
       "<style scoped>\n",
       "    .dataframe tbody tr th:only-of-type {\n",
       "        vertical-align: middle;\n",
       "    }\n",
       "\n",
       "    .dataframe tbody tr th {\n",
       "        vertical-align: top;\n",
       "    }\n",
       "\n",
       "    .dataframe thead th {\n",
       "        text-align: right;\n",
       "    }\n",
       "</style>\n",
       "<table border=\"1\" class=\"dataframe\">\n",
       "  <thead>\n",
       "    <tr style=\"text-align: right;\">\n",
       "      <th></th>\n",
       "      <th>ski_resort</th>\n",
       "      <th>state</th>\n",
       "      <th>city</th>\n",
       "      <th>adultWeekdayPrice</th>\n",
       "      <th>adultWeekendPrice</th>\n",
       "      <th>summit</th>\n",
       "      <th>drop</th>\n",
       "      <th>base</th>\n",
       "      <th>ikon</th>\n",
       "      <th>epic</th>\n",
       "      <th>mountain_collective</th>\n",
       "      <th>advanced_runs</th>\n",
       "      <th>intermediate_runs</th>\n",
       "      <th>expert_runs</th>\n",
       "      <th>predicted_rating</th>\n",
       "    </tr>\n",
       "  </thead>\n",
       "  <tbody>\n",
       "    <tr>\n",
       "      <th>51</th>\n",
       "      <td>Breckenridge</td>\n",
       "      <td>Colorado</td>\n",
       "      <td>Breckenridge</td>\n",
       "      <td>149.0</td>\n",
       "      <td>179.0</td>\n",
       "      <td>12998</td>\n",
       "      <td>3398</td>\n",
       "      <td>9600</td>\n",
       "      <td>0</td>\n",
       "      <td>1</td>\n",
       "      <td>0</td>\n",
       "      <td>36</td>\n",
       "      <td>23</td>\n",
       "      <td>28.0</td>\n",
       "      <td>4.416056</td>\n",
       "    </tr>\n",
       "    <tr>\n",
       "      <th>192</th>\n",
       "      <td>Big Powderhorn Mountain</td>\n",
       "      <td>Michigan</td>\n",
       "      <td>Bessemer</td>\n",
       "      <td>69.0</td>\n",
       "      <td>69.0</td>\n",
       "      <td>1800</td>\n",
       "      <td>600</td>\n",
       "      <td>1200</td>\n",
       "      <td>0</td>\n",
       "      <td>0</td>\n",
       "      <td>0</td>\n",
       "      <td>31</td>\n",
       "      <td>40</td>\n",
       "      <td>2.0</td>\n",
       "      <td>4.377006</td>\n",
       "    </tr>\n",
       "    <tr>\n",
       "      <th>19</th>\n",
       "      <td>Snowbasin</td>\n",
       "      <td>Utah</td>\n",
       "      <td>Huntsville</td>\n",
       "      <td>149.0</td>\n",
       "      <td>169.0</td>\n",
       "      <td>9350</td>\n",
       "      <td>2900</td>\n",
       "      <td>6450</td>\n",
       "      <td>1</td>\n",
       "      <td>0</td>\n",
       "      <td>1</td>\n",
       "      <td>52</td>\n",
       "      <td>33</td>\n",
       "      <td>6.0</td>\n",
       "      <td>4.375008</td>\n",
       "    </tr>\n",
       "    <tr>\n",
       "      <th>99</th>\n",
       "      <td>Ski Brule</td>\n",
       "      <td>Michigan</td>\n",
       "      <td>Iron River</td>\n",
       "      <td>70.0</td>\n",
       "      <td>70.0</td>\n",
       "      <td>1860</td>\n",
       "      <td>500</td>\n",
       "      <td>1360</td>\n",
       "      <td>0</td>\n",
       "      <td>0</td>\n",
       "      <td>0</td>\n",
       "      <td>24</td>\n",
       "      <td>35</td>\n",
       "      <td>6.0</td>\n",
       "      <td>4.363485</td>\n",
       "    </tr>\n",
       "    <tr>\n",
       "      <th>83</th>\n",
       "      <td>Granite Peak</td>\n",
       "      <td>Wisconsin</td>\n",
       "      <td>Wausau</td>\n",
       "      <td>95.0</td>\n",
       "      <td>105.0</td>\n",
       "      <td>1942</td>\n",
       "      <td>700</td>\n",
       "      <td>1242</td>\n",
       "      <td>0</td>\n",
       "      <td>0</td>\n",
       "      <td>0</td>\n",
       "      <td>0</td>\n",
       "      <td>0</td>\n",
       "      <td>0.0</td>\n",
       "      <td>4.344742</td>\n",
       "    </tr>\n",
       "  </tbody>\n",
       "</table>\n",
       "</div>"
      ],
      "text/plain": [
       "                  ski_resort      state          city  adultWeekdayPrice  \\\n",
       "51              Breckenridge   Colorado  Breckenridge              149.0   \n",
       "192  Big Powderhorn Mountain   Michigan      Bessemer               69.0   \n",
       "19                 Snowbasin       Utah    Huntsville              149.0   \n",
       "99                 Ski Brule   Michigan    Iron River               70.0   \n",
       "83              Granite Peak  Wisconsin        Wausau               95.0   \n",
       "\n",
       "     adultWeekendPrice  summit  drop  base  ikon  epic  mountain_collective  \\\n",
       "51               179.0   12998  3398  9600     0     1                    0   \n",
       "192               69.0    1800   600  1200     0     0                    0   \n",
       "19               169.0    9350  2900  6450     1     0                    1   \n",
       "99                70.0    1860   500  1360     0     0                    0   \n",
       "83               105.0    1942   700  1242     0     0                    0   \n",
       "\n",
       "     advanced_runs  intermediate_runs  expert_runs  predicted_rating  \n",
       "51              36                 23         28.0          4.416056  \n",
       "192             31                 40          2.0          4.377006  \n",
       "19              52                 33          6.0          4.375008  \n",
       "99              24                 35          6.0          4.363485  \n",
       "83               0                  0          0.0          4.344742  "
      ]
     },
     "execution_count": 61,
     "metadata": {},
     "output_type": "execute_result"
    }
   ],
   "source": [
    "collaborative_model()"
   ]
  },
  {
   "cell_type": "code",
   "execution_count": 76,
   "metadata": {},
   "outputs": [
    {
     "name": "stdout",
     "output_type": "stream",
     "text": [
      "Name: Alexandria K.\n",
      "How many resort recommendations do you want? 3\n",
      "What's your favorite ski resort? Snowbird\n",
      "What month would you like to travel? February\n",
      "Are you using a multi-resort pass?  Epic\n"
     ]
    },
    {
     "data": {
      "text/html": [
       "<div>\n",
       "<style scoped>\n",
       "    .dataframe tbody tr th:only-of-type {\n",
       "        vertical-align: middle;\n",
       "    }\n",
       "\n",
       "    .dataframe tbody tr th {\n",
       "        vertical-align: top;\n",
       "    }\n",
       "\n",
       "    .dataframe thead th {\n",
       "        text-align: right;\n",
       "    }\n",
       "</style>\n",
       "<table border=\"1\" class=\"dataframe\">\n",
       "  <thead>\n",
       "    <tr style=\"text-align: right;\">\n",
       "      <th></th>\n",
       "      <th>ski_resort</th>\n",
       "      <th>city</th>\n",
       "      <th>state</th>\n",
       "      <th>summit</th>\n",
       "      <th>drop</th>\n",
       "      <th>base</th>\n",
       "      <th>adultWeekdayPrice</th>\n",
       "      <th>adultWeekendPrice</th>\n",
       "      <th>beginner_runs</th>\n",
       "      <th>intermediate_runs</th>\n",
       "      <th>...</th>\n",
       "      <th>expert_runs</th>\n",
       "      <th>nov_snow</th>\n",
       "      <th>dec_snow</th>\n",
       "      <th>jan_snow</th>\n",
       "      <th>feb_snow</th>\n",
       "      <th>mar_snow</th>\n",
       "      <th>apr_snow</th>\n",
       "      <th>feb_mean_4_guests</th>\n",
       "      <th>feb_mean_2_guests</th>\n",
       "      <th>predicted_rating</th>\n",
       "    </tr>\n",
       "  </thead>\n",
       "  <tbody>\n",
       "    <tr>\n",
       "      <th>3</th>\n",
       "      <td>Breckenridge</td>\n",
       "      <td>Breckenridge</td>\n",
       "      <td>Colorado</td>\n",
       "      <td>12998</td>\n",
       "      <td>3398</td>\n",
       "      <td>9600</td>\n",
       "      <td>149.0</td>\n",
       "      <td>179.0</td>\n",
       "      <td>13</td>\n",
       "      <td>23</td>\n",
       "      <td>...</td>\n",
       "      <td>28.0</td>\n",
       "      <td>30</td>\n",
       "      <td>59</td>\n",
       "      <td>57</td>\n",
       "      <td>54</td>\n",
       "      <td>59</td>\n",
       "      <td>36</td>\n",
       "      <td>382</td>\n",
       "      <td>251</td>\n",
       "      <td>4.416056</td>\n",
       "    </tr>\n",
       "    <tr>\n",
       "      <th>7</th>\n",
       "      <td>Crested Butte Mountain</td>\n",
       "      <td>Mt. Crested Butte Mountain</td>\n",
       "      <td>Colorado</td>\n",
       "      <td>12162</td>\n",
       "      <td>3062</td>\n",
       "      <td>9375</td>\n",
       "      <td>149.0</td>\n",
       "      <td>165.0</td>\n",
       "      <td>14</td>\n",
       "      <td>25</td>\n",
       "      <td>...</td>\n",
       "      <td>36.0</td>\n",
       "      <td>14</td>\n",
       "      <td>55</td>\n",
       "      <td>50</td>\n",
       "      <td>44</td>\n",
       "      <td>41</td>\n",
       "      <td>5</td>\n",
       "      <td>300</td>\n",
       "      <td>207</td>\n",
       "      <td>4.333826</td>\n",
       "    </tr>\n",
       "    <tr>\n",
       "      <th>0</th>\n",
       "      <td>Kirkwood</td>\n",
       "      <td>Kirkwood</td>\n",
       "      <td>California</td>\n",
       "      <td>9800</td>\n",
       "      <td>2000</td>\n",
       "      <td>7800</td>\n",
       "      <td>0.0</td>\n",
       "      <td>0.0</td>\n",
       "      <td>0</td>\n",
       "      <td>0</td>\n",
       "      <td>...</td>\n",
       "      <td>0.0</td>\n",
       "      <td>22</td>\n",
       "      <td>79</td>\n",
       "      <td>85</td>\n",
       "      <td>81</td>\n",
       "      <td>79</td>\n",
       "      <td>25</td>\n",
       "      <td>403</td>\n",
       "      <td>340</td>\n",
       "      <td>4.189166</td>\n",
       "    </tr>\n",
       "  </tbody>\n",
       "</table>\n",
       "<p>3 rows × 21 columns</p>\n",
       "</div>"
      ],
      "text/plain": [
       "               ski_resort                        city       state  summit  \\\n",
       "3            Breckenridge                Breckenridge    Colorado   12998   \n",
       "7  Crested Butte Mountain  Mt. Crested Butte Mountain    Colorado   12162   \n",
       "0                Kirkwood                    Kirkwood  California    9800   \n",
       "\n",
       "   drop  base  adultWeekdayPrice  adultWeekendPrice  beginner_runs  \\\n",
       "3  3398  9600              149.0              179.0             13   \n",
       "7  3062  9375              149.0              165.0             14   \n",
       "0  2000  7800                0.0                0.0              0   \n",
       "\n",
       "   intermediate_runs  ...  expert_runs  nov_snow  dec_snow  jan_snow  \\\n",
       "3                 23  ...         28.0        30        59        57   \n",
       "7                 25  ...         36.0        14        55        50   \n",
       "0                  0  ...          0.0        22        79        85   \n",
       "\n",
       "   feb_snow  mar_snow  apr_snow  feb_mean_4_guests  feb_mean_2_guests  \\\n",
       "3        54        59        36                382                251   \n",
       "7        44        41         5                300                207   \n",
       "0        81        79        25                403                340   \n",
       "\n",
       "   predicted_rating  \n",
       "3          4.416056  \n",
       "7          4.333826  \n",
       "0          4.189166  \n",
       "\n",
       "[3 rows x 21 columns]"
      ]
     },
     "execution_count": 76,
     "metadata": {},
     "output_type": "execute_result"
    }
   ],
   "source": [
    "hybrid_model_content()"
   ]
  },
  {
   "cell_type": "markdown",
   "metadata": {},
   "source": [
    "#### Raghava's Results"
   ]
  },
  {
   "cell_type": "markdown",
   "metadata": {},
   "source": [
    "Raghava tested out the model with the [deployed streamlit app](https://stephcia-ski-recommendation-system-ski-model-stephanie-zs77j6.streamlit.app/). Below are his inputs, recommendations, and feedback. Similar to Alexandria's review, one of the final result are slightly different in the app vs. the code below. This might\n",
    "\n",
    "**Inputs**\n",
    "- Name: Raghava K.\n",
    "- How many resort recommendations do you want? 5\n",
    "- What's your favorite ski resort? Alta\n",
    "- What month would you like to travel? February\n",
    "- Are you using a multi-resort pass?  Ikon\n",
    "\n",
    "**Outputs**\n",
    "- Snowbasin\n",
    "- Snowbird\n",
    "- Big Sky\n",
    "\n",
    "Feedback: I think these recs are great! I have been to all of them and like them a lot, and I think someone who loves Alta and has an Ikon pass would also enjoy these resorts"
   ]
  },
  {
   "cell_type": "code",
   "execution_count": 57,
   "metadata": {},
   "outputs": [
    {
     "name": "stdout",
     "output_type": "stream",
     "text": [
      "How many resort recommendations do you want? 3\n",
      "What's your favorite ski resort? Telluride\n",
      "What month would you like to travel? December\n"
     ]
    },
    {
     "data": {
      "text/html": [
       "<div>\n",
       "<style scoped>\n",
       "    .dataframe tbody tr th:only-of-type {\n",
       "        vertical-align: middle;\n",
       "    }\n",
       "\n",
       "    .dataframe tbody tr th {\n",
       "        vertical-align: top;\n",
       "    }\n",
       "\n",
       "    .dataframe thead th {\n",
       "        text-align: right;\n",
       "    }\n",
       "</style>\n",
       "<table border=\"1\" class=\"dataframe\">\n",
       "  <thead>\n",
       "    <tr style=\"text-align: right;\">\n",
       "      <th></th>\n",
       "      <th>ski_resort</th>\n",
       "      <th>city</th>\n",
       "      <th>state</th>\n",
       "      <th>summit</th>\n",
       "      <th>drop</th>\n",
       "      <th>base</th>\n",
       "      <th>adultWeekdayPrice</th>\n",
       "      <th>adultWeekendPrice</th>\n",
       "      <th>ikon</th>\n",
       "      <th>epic</th>\n",
       "      <th>mountain_collective</th>\n",
       "      <th>beginner_runs</th>\n",
       "      <th>intermediate_runs</th>\n",
       "      <th>advanced_runs</th>\n",
       "      <th>expert_runs</th>\n",
       "      <th>dec_mean_4_guests</th>\n",
       "      <th>dec_mean_2_guests</th>\n",
       "    </tr>\n",
       "  </thead>\n",
       "  <tbody>\n",
       "    <tr>\n",
       "      <th>1</th>\n",
       "      <td>Aspen Snowmass</td>\n",
       "      <td>Aspen</td>\n",
       "      <td>Colorado</td>\n",
       "      <td>12510</td>\n",
       "      <td>4406</td>\n",
       "      <td>8104</td>\n",
       "      <td>189.0</td>\n",
       "      <td>199.0</td>\n",
       "      <td>1</td>\n",
       "      <td>0</td>\n",
       "      <td>1</td>\n",
       "      <td>0</td>\n",
       "      <td>0</td>\n",
       "      <td>0</td>\n",
       "      <td>0.0</td>\n",
       "      <td>624</td>\n",
       "      <td>316</td>\n",
       "    </tr>\n",
       "    <tr>\n",
       "      <th>2</th>\n",
       "      <td>Solitude Mountain</td>\n",
       "      <td>Brighton</td>\n",
       "      <td>Utah</td>\n",
       "      <td>10488</td>\n",
       "      <td>2494</td>\n",
       "      <td>7994</td>\n",
       "      <td>115.0</td>\n",
       "      <td>115.0</td>\n",
       "      <td>1</td>\n",
       "      <td>0</td>\n",
       "      <td>0</td>\n",
       "      <td>6</td>\n",
       "      <td>46</td>\n",
       "      <td>30</td>\n",
       "      <td>18.0</td>\n",
       "      <td>375</td>\n",
       "      <td>322</td>\n",
       "    </tr>\n",
       "    <tr>\n",
       "      <th>3</th>\n",
       "      <td>Beaver Creek</td>\n",
       "      <td>Vail</td>\n",
       "      <td>Colorado</td>\n",
       "      <td>11440</td>\n",
       "      <td>3340</td>\n",
       "      <td>8100</td>\n",
       "      <td>191.0</td>\n",
       "      <td>275.0</td>\n",
       "      <td>0</td>\n",
       "      <td>1</td>\n",
       "      <td>0</td>\n",
       "      <td>38</td>\n",
       "      <td>30</td>\n",
       "      <td>24</td>\n",
       "      <td>8.0</td>\n",
       "      <td>420</td>\n",
       "      <td>268</td>\n",
       "    </tr>\n",
       "  </tbody>\n",
       "</table>\n",
       "</div>"
      ],
      "text/plain": [
       "          ski_resort      city     state  summit  drop  base  \\\n",
       "1     Aspen Snowmass     Aspen  Colorado   12510  4406  8104   \n",
       "2  Solitude Mountain  Brighton      Utah   10488  2494  7994   \n",
       "3       Beaver Creek      Vail  Colorado   11440  3340  8100   \n",
       "\n",
       "   adultWeekdayPrice  adultWeekendPrice  ikon  epic  mountain_collective  \\\n",
       "1              189.0              199.0     1     0                    1   \n",
       "2              115.0              115.0     1     0                    0   \n",
       "3              191.0              275.0     0     1                    0   \n",
       "\n",
       "   beginner_runs  intermediate_runs  advanced_runs  expert_runs  \\\n",
       "1              0                  0              0          0.0   \n",
       "2              6                 46             30         18.0   \n",
       "3             38                 30             24          8.0   \n",
       "\n",
       "   dec_mean_4_guests  dec_mean_2_guests  \n",
       "1                624                316  \n",
       "2                375                322  \n",
       "3                420                268  "
      ]
     },
     "execution_count": 57,
     "metadata": {},
     "output_type": "execute_result"
    }
   ],
   "source": [
    "content_model()"
   ]
  },
  {
   "cell_type": "code",
   "execution_count": 58,
   "metadata": {},
   "outputs": [
    {
     "name": "stdout",
     "output_type": "stream",
     "text": [
      "Name: Raghava K.\n",
      "How many resort recommendations do you want? 3\n"
     ]
    },
    {
     "data": {
      "text/html": [
       "<div>\n",
       "<style scoped>\n",
       "    .dataframe tbody tr th:only-of-type {\n",
       "        vertical-align: middle;\n",
       "    }\n",
       "\n",
       "    .dataframe tbody tr th {\n",
       "        vertical-align: top;\n",
       "    }\n",
       "\n",
       "    .dataframe thead th {\n",
       "        text-align: right;\n",
       "    }\n",
       "</style>\n",
       "<table border=\"1\" class=\"dataframe\">\n",
       "  <thead>\n",
       "    <tr style=\"text-align: right;\">\n",
       "      <th></th>\n",
       "      <th>ski_resort</th>\n",
       "      <th>state</th>\n",
       "      <th>city</th>\n",
       "      <th>adultWeekdayPrice</th>\n",
       "      <th>adultWeekendPrice</th>\n",
       "      <th>summit</th>\n",
       "      <th>drop</th>\n",
       "      <th>base</th>\n",
       "      <th>ikon</th>\n",
       "      <th>epic</th>\n",
       "      <th>mountain_collective</th>\n",
       "      <th>advanced_runs</th>\n",
       "      <th>intermediate_runs</th>\n",
       "      <th>expert_runs</th>\n",
       "      <th>predicted_rating</th>\n",
       "    </tr>\n",
       "  </thead>\n",
       "  <tbody>\n",
       "    <tr>\n",
       "      <th>20</th>\n",
       "      <td>Snowbasin</td>\n",
       "      <td>Utah</td>\n",
       "      <td>Huntsville</td>\n",
       "      <td>149.0</td>\n",
       "      <td>169.0</td>\n",
       "      <td>9350</td>\n",
       "      <td>2900</td>\n",
       "      <td>6450</td>\n",
       "      <td>1</td>\n",
       "      <td>0</td>\n",
       "      <td>1</td>\n",
       "      <td>52</td>\n",
       "      <td>33</td>\n",
       "      <td>6.0</td>\n",
       "      <td>4.835467</td>\n",
       "    </tr>\n",
       "    <tr>\n",
       "      <th>191</th>\n",
       "      <td>Big Powderhorn Mountain</td>\n",
       "      <td>Michigan</td>\n",
       "      <td>Bessemer</td>\n",
       "      <td>69.0</td>\n",
       "      <td>69.0</td>\n",
       "      <td>1800</td>\n",
       "      <td>600</td>\n",
       "      <td>1200</td>\n",
       "      <td>0</td>\n",
       "      <td>0</td>\n",
       "      <td>0</td>\n",
       "      <td>31</td>\n",
       "      <td>40</td>\n",
       "      <td>2.0</td>\n",
       "      <td>4.796809</td>\n",
       "    </tr>\n",
       "    <tr>\n",
       "      <th>119</th>\n",
       "      <td>Nubs Nob</td>\n",
       "      <td>Michigan</td>\n",
       "      <td>Harbor Springs</td>\n",
       "      <td>65.0</td>\n",
       "      <td>85.0</td>\n",
       "      <td>1338</td>\n",
       "      <td>427</td>\n",
       "      <td>911</td>\n",
       "      <td>0</td>\n",
       "      <td>0</td>\n",
       "      <td>0</td>\n",
       "      <td>0</td>\n",
       "      <td>48</td>\n",
       "      <td>21.0</td>\n",
       "      <td>4.792542</td>\n",
       "    </tr>\n",
       "  </tbody>\n",
       "</table>\n",
       "</div>"
      ],
      "text/plain": [
       "                  ski_resort     state            city  adultWeekdayPrice  \\\n",
       "20                 Snowbasin      Utah      Huntsville              149.0   \n",
       "191  Big Powderhorn Mountain  Michigan        Bessemer               69.0   \n",
       "119                 Nubs Nob  Michigan  Harbor Springs               65.0   \n",
       "\n",
       "     adultWeekendPrice  summit  drop  base  ikon  epic  mountain_collective  \\\n",
       "20               169.0    9350  2900  6450     1     0                    1   \n",
       "191               69.0    1800   600  1200     0     0                    0   \n",
       "119               85.0    1338   427   911     0     0                    0   \n",
       "\n",
       "     advanced_runs  intermediate_runs  expert_runs  predicted_rating  \n",
       "20              52                 33          6.0          4.835467  \n",
       "191             31                 40          2.0          4.796809  \n",
       "119              0                 48         21.0          4.792542  "
      ]
     },
     "execution_count": 58,
     "metadata": {},
     "output_type": "execute_result"
    }
   ],
   "source": [
    "collaborative_model()"
   ]
  },
  {
   "cell_type": "code",
   "execution_count": 79,
   "metadata": {},
   "outputs": [
    {
     "data": {
      "text/html": [
       "<div>\n",
       "<style scoped>\n",
       "    .dataframe tbody tr th:only-of-type {\n",
       "        vertical-align: middle;\n",
       "    }\n",
       "\n",
       "    .dataframe tbody tr th {\n",
       "        vertical-align: top;\n",
       "    }\n",
       "\n",
       "    .dataframe thead th {\n",
       "        text-align: right;\n",
       "    }\n",
       "</style>\n",
       "<table border=\"1\" class=\"dataframe\">\n",
       "  <thead>\n",
       "    <tr style=\"text-align: right;\">\n",
       "      <th></th>\n",
       "      <th>ski_resort</th>\n",
       "      <th>city</th>\n",
       "      <th>state</th>\n",
       "      <th>summit</th>\n",
       "      <th>drop</th>\n",
       "      <th>base</th>\n",
       "      <th>adultWeekdayPrice</th>\n",
       "      <th>adultWeekendPrice</th>\n",
       "      <th>beginner_runs</th>\n",
       "      <th>intermediate_runs</th>\n",
       "      <th>...</th>\n",
       "      <th>expert_runs</th>\n",
       "      <th>nov_snow</th>\n",
       "      <th>dec_snow</th>\n",
       "      <th>jan_snow</th>\n",
       "      <th>feb_snow</th>\n",
       "      <th>mar_snow</th>\n",
       "      <th>apr_snow</th>\n",
       "      <th>feb_mean_4_guests</th>\n",
       "      <th>feb_mean_2_guests</th>\n",
       "      <th>predicted_rating</th>\n",
       "    </tr>\n",
       "  </thead>\n",
       "  <tbody>\n",
       "    <tr>\n",
       "      <th>6</th>\n",
       "      <td>Snowbasin</td>\n",
       "      <td>Huntsville</td>\n",
       "      <td>Utah</td>\n",
       "      <td>9350</td>\n",
       "      <td>2900</td>\n",
       "      <td>6450</td>\n",
       "      <td>149.0</td>\n",
       "      <td>169.0</td>\n",
       "      <td>9</td>\n",
       "      <td>33</td>\n",
       "      <td>...</td>\n",
       "      <td>6.0</td>\n",
       "      <td>14</td>\n",
       "      <td>68</td>\n",
       "      <td>67</td>\n",
       "      <td>68</td>\n",
       "      <td>57</td>\n",
       "      <td>16</td>\n",
       "      <td>281</td>\n",
       "      <td>222</td>\n",
       "      <td>4.835467</td>\n",
       "    </tr>\n",
       "    <tr>\n",
       "      <th>16</th>\n",
       "      <td>Stratton Mountain</td>\n",
       "      <td>Stratton Mountain Mountain</td>\n",
       "      <td>Vermont</td>\n",
       "      <td>3875</td>\n",
       "      <td>2003</td>\n",
       "      <td>1872</td>\n",
       "      <td>125.0</td>\n",
       "      <td>125.0</td>\n",
       "      <td>40</td>\n",
       "      <td>35</td>\n",
       "      <td>...</td>\n",
       "      <td>9.0</td>\n",
       "      <td>3</td>\n",
       "      <td>30</td>\n",
       "      <td>25</td>\n",
       "      <td>37</td>\n",
       "      <td>22</td>\n",
       "      <td>1</td>\n",
       "      <td>478</td>\n",
       "      <td>380</td>\n",
       "      <td>4.622277</td>\n",
       "    </tr>\n",
       "    <tr>\n",
       "      <th>12</th>\n",
       "      <td>Jackson Hole</td>\n",
       "      <td>Teton Village</td>\n",
       "      <td>Wyoming</td>\n",
       "      <td>10450</td>\n",
       "      <td>4139</td>\n",
       "      <td>6311</td>\n",
       "      <td>215.0</td>\n",
       "      <td>215.0</td>\n",
       "      <td>4</td>\n",
       "      <td>41</td>\n",
       "      <td>...</td>\n",
       "      <td>17.0</td>\n",
       "      <td>24</td>\n",
       "      <td>108</td>\n",
       "      <td>100</td>\n",
       "      <td>110</td>\n",
       "      <td>71</td>\n",
       "      <td>15</td>\n",
       "      <td>508</td>\n",
       "      <td>365</td>\n",
       "      <td>4.556631</td>\n",
       "    </tr>\n",
       "  </tbody>\n",
       "</table>\n",
       "<p>3 rows × 21 columns</p>\n",
       "</div>"
      ],
      "text/plain": [
       "           ski_resort                        city    state  summit  drop  \\\n",
       "6           Snowbasin                  Huntsville     Utah    9350  2900   \n",
       "16  Stratton Mountain  Stratton Mountain Mountain  Vermont    3875  2003   \n",
       "12       Jackson Hole               Teton Village  Wyoming   10450  4139   \n",
       "\n",
       "    base  adultWeekdayPrice  adultWeekendPrice  beginner_runs  \\\n",
       "6   6450              149.0              169.0              9   \n",
       "16  1872              125.0              125.0             40   \n",
       "12  6311              215.0              215.0              4   \n",
       "\n",
       "    intermediate_runs  ...  expert_runs  nov_snow  dec_snow  jan_snow  \\\n",
       "6                  33  ...          6.0        14        68        67   \n",
       "16                 35  ...          9.0         3        30        25   \n",
       "12                 41  ...         17.0        24       108       100   \n",
       "\n",
       "    feb_snow  mar_snow  apr_snow  feb_mean_4_guests  feb_mean_2_guests  \\\n",
       "6         68        57        16                281                222   \n",
       "16        37        22         1                478                380   \n",
       "12       110        71        15                508                365   \n",
       "\n",
       "    predicted_rating  \n",
       "6           4.835467  \n",
       "16          4.622277  \n",
       "12          4.556631  \n",
       "\n",
       "[3 rows x 21 columns]"
      ]
     },
     "execution_count": 79,
     "metadata": {},
     "output_type": "execute_result"
    }
   ],
   "source": [
    "hybrid_model_content()"
   ]
  },
  {
   "cell_type": "markdown",
   "metadata": {},
   "source": [
    "Below I am creating a dataframe to match Raghava's results from the streamlit app."
   ]
  },
  {
   "cell_type": "code",
   "execution_count": 84,
   "metadata": {},
   "outputs": [],
   "source": [
    "resorts = [\"Snowbasin\", \"Snowbird\", \"Big Sky\"]\n",
    "\n",
    "r_df = content_df.loc[content_df['ski_resort'].isin(resorts)]"
   ]
  },
  {
   "cell_type": "code",
   "execution_count": 85,
   "metadata": {},
   "outputs": [
    {
     "data": {
      "application/vnd.plotly.v1+json": {
       "config": {
        "plotlyServerURL": "https://plot.ly"
       },
       "data": [
        {
         "alignmentgroup": "True",
         "hovertemplate": "variable=Beginner<br>ski_resort=%{x}<br>value=%{y}<extra></extra>",
         "legendgroup": "Beginner",
         "marker": {
          "color": "#636efa"
         },
         "name": "Beginner",
         "offsetgroup": "beginner_runs",
         "orientation": "v",
         "showlegend": true,
         "textposition": "outside",
         "type": "bar",
         "x": [
          "Snowbird",
          "Snowbasin",
          "Big Sky"
         ],
         "xaxis": "x",
         "y": [
          8,
          9,
          15
         ],
         "yaxis": "y"
        },
        {
         "alignmentgroup": "True",
         "hovertemplate": "variable=Intermediate Runs<br>ski_resort=%{x}<br>value=%{y}<extra></extra>",
         "legendgroup": "Intermediate Runs",
         "marker": {
          "color": "#EF553B"
         },
         "name": "Intermediate Runs",
         "offsetgroup": "intermediate_runs",
         "orientation": "v",
         "showlegend": true,
         "textposition": "outside",
         "type": "bar",
         "x": [
          "Snowbird",
          "Snowbasin",
          "Big Sky"
         ],
         "xaxis": "x",
         "y": [
          25,
          33,
          25
         ],
         "yaxis": "y"
        },
        {
         "alignmentgroup": "True",
         "hovertemplate": "variable=Advanced Runs<br>ski_resort=%{x}<br>value=%{y}<extra></extra>",
         "legendgroup": "Advanced Runs",
         "marker": {
          "color": "#00cc96"
         },
         "name": "Advanced Runs",
         "offsetgroup": "advanced_runs",
         "orientation": "v",
         "showlegend": true,
         "textposition": "outside",
         "type": "bar",
         "x": [
          "Snowbird",
          "Snowbasin",
          "Big Sky"
         ],
         "xaxis": "x",
         "y": [
          43,
          52,
          42
         ],
         "yaxis": "y"
        },
        {
         "alignmentgroup": "True",
         "hovertemplate": "variable=Expert Runs<br>ski_resort=%{x}<br>value=%{y}<extra></extra>",
         "legendgroup": "Expert Runs",
         "marker": {
          "color": "#ab63fa"
         },
         "name": "Expert Runs",
         "offsetgroup": "expert_runs",
         "orientation": "v",
         "showlegend": true,
         "textposition": "outside",
         "type": "bar",
         "x": [
          "Snowbird",
          "Snowbasin",
          "Big Sky"
         ],
         "xaxis": "x",
         "y": [
          24,
          6,
          18
         ],
         "yaxis": "y"
        }
       ],
       "layout": {
        "barmode": "group",
        "font": {
         "size": 14
        },
        "height": 500,
        "legend": {
         "title": {
          "text": "variable"
         },
         "tracegroupgap": 0
        },
        "margin": {
         "t": 60
        },
        "plot_bgcolor": "white",
        "template": {
         "data": {
          "bar": [
           {
            "error_x": {
             "color": "#2a3f5f"
            },
            "error_y": {
             "color": "#2a3f5f"
            },
            "marker": {
             "line": {
              "color": "#E5ECF6",
              "width": 0.5
             }
            },
            "type": "bar"
           }
          ],
          "barpolar": [
           {
            "marker": {
             "line": {
              "color": "#E5ECF6",
              "width": 0.5
             }
            },
            "type": "barpolar"
           }
          ],
          "carpet": [
           {
            "aaxis": {
             "endlinecolor": "#2a3f5f",
             "gridcolor": "white",
             "linecolor": "white",
             "minorgridcolor": "white",
             "startlinecolor": "#2a3f5f"
            },
            "baxis": {
             "endlinecolor": "#2a3f5f",
             "gridcolor": "white",
             "linecolor": "white",
             "minorgridcolor": "white",
             "startlinecolor": "#2a3f5f"
            },
            "type": "carpet"
           }
          ],
          "choropleth": [
           {
            "colorbar": {
             "outlinewidth": 0,
             "ticks": ""
            },
            "type": "choropleth"
           }
          ],
          "contour": [
           {
            "colorbar": {
             "outlinewidth": 0,
             "ticks": ""
            },
            "colorscale": [
             [
              0,
              "#0d0887"
             ],
             [
              0.1111111111111111,
              "#46039f"
             ],
             [
              0.2222222222222222,
              "#7201a8"
             ],
             [
              0.3333333333333333,
              "#9c179e"
             ],
             [
              0.4444444444444444,
              "#bd3786"
             ],
             [
              0.5555555555555556,
              "#d8576b"
             ],
             [
              0.6666666666666666,
              "#ed7953"
             ],
             [
              0.7777777777777778,
              "#fb9f3a"
             ],
             [
              0.8888888888888888,
              "#fdca26"
             ],
             [
              1,
              "#f0f921"
             ]
            ],
            "type": "contour"
           }
          ],
          "contourcarpet": [
           {
            "colorbar": {
             "outlinewidth": 0,
             "ticks": ""
            },
            "type": "contourcarpet"
           }
          ],
          "heatmap": [
           {
            "colorbar": {
             "outlinewidth": 0,
             "ticks": ""
            },
            "colorscale": [
             [
              0,
              "#0d0887"
             ],
             [
              0.1111111111111111,
              "#46039f"
             ],
             [
              0.2222222222222222,
              "#7201a8"
             ],
             [
              0.3333333333333333,
              "#9c179e"
             ],
             [
              0.4444444444444444,
              "#bd3786"
             ],
             [
              0.5555555555555556,
              "#d8576b"
             ],
             [
              0.6666666666666666,
              "#ed7953"
             ],
             [
              0.7777777777777778,
              "#fb9f3a"
             ],
             [
              0.8888888888888888,
              "#fdca26"
             ],
             [
              1,
              "#f0f921"
             ]
            ],
            "type": "heatmap"
           }
          ],
          "heatmapgl": [
           {
            "colorbar": {
             "outlinewidth": 0,
             "ticks": ""
            },
            "colorscale": [
             [
              0,
              "#0d0887"
             ],
             [
              0.1111111111111111,
              "#46039f"
             ],
             [
              0.2222222222222222,
              "#7201a8"
             ],
             [
              0.3333333333333333,
              "#9c179e"
             ],
             [
              0.4444444444444444,
              "#bd3786"
             ],
             [
              0.5555555555555556,
              "#d8576b"
             ],
             [
              0.6666666666666666,
              "#ed7953"
             ],
             [
              0.7777777777777778,
              "#fb9f3a"
             ],
             [
              0.8888888888888888,
              "#fdca26"
             ],
             [
              1,
              "#f0f921"
             ]
            ],
            "type": "heatmapgl"
           }
          ],
          "histogram": [
           {
            "marker": {
             "colorbar": {
              "outlinewidth": 0,
              "ticks": ""
             }
            },
            "type": "histogram"
           }
          ],
          "histogram2d": [
           {
            "colorbar": {
             "outlinewidth": 0,
             "ticks": ""
            },
            "colorscale": [
             [
              0,
              "#0d0887"
             ],
             [
              0.1111111111111111,
              "#46039f"
             ],
             [
              0.2222222222222222,
              "#7201a8"
             ],
             [
              0.3333333333333333,
              "#9c179e"
             ],
             [
              0.4444444444444444,
              "#bd3786"
             ],
             [
              0.5555555555555556,
              "#d8576b"
             ],
             [
              0.6666666666666666,
              "#ed7953"
             ],
             [
              0.7777777777777778,
              "#fb9f3a"
             ],
             [
              0.8888888888888888,
              "#fdca26"
             ],
             [
              1,
              "#f0f921"
             ]
            ],
            "type": "histogram2d"
           }
          ],
          "histogram2dcontour": [
           {
            "colorbar": {
             "outlinewidth": 0,
             "ticks": ""
            },
            "colorscale": [
             [
              0,
              "#0d0887"
             ],
             [
              0.1111111111111111,
              "#46039f"
             ],
             [
              0.2222222222222222,
              "#7201a8"
             ],
             [
              0.3333333333333333,
              "#9c179e"
             ],
             [
              0.4444444444444444,
              "#bd3786"
             ],
             [
              0.5555555555555556,
              "#d8576b"
             ],
             [
              0.6666666666666666,
              "#ed7953"
             ],
             [
              0.7777777777777778,
              "#fb9f3a"
             ],
             [
              0.8888888888888888,
              "#fdca26"
             ],
             [
              1,
              "#f0f921"
             ]
            ],
            "type": "histogram2dcontour"
           }
          ],
          "mesh3d": [
           {
            "colorbar": {
             "outlinewidth": 0,
             "ticks": ""
            },
            "type": "mesh3d"
           }
          ],
          "parcoords": [
           {
            "line": {
             "colorbar": {
              "outlinewidth": 0,
              "ticks": ""
             }
            },
            "type": "parcoords"
           }
          ],
          "pie": [
           {
            "automargin": true,
            "type": "pie"
           }
          ],
          "scatter": [
           {
            "marker": {
             "colorbar": {
              "outlinewidth": 0,
              "ticks": ""
             }
            },
            "type": "scatter"
           }
          ],
          "scatter3d": [
           {
            "line": {
             "colorbar": {
              "outlinewidth": 0,
              "ticks": ""
             }
            },
            "marker": {
             "colorbar": {
              "outlinewidth": 0,
              "ticks": ""
             }
            },
            "type": "scatter3d"
           }
          ],
          "scattercarpet": [
           {
            "marker": {
             "colorbar": {
              "outlinewidth": 0,
              "ticks": ""
             }
            },
            "type": "scattercarpet"
           }
          ],
          "scattergeo": [
           {
            "marker": {
             "colorbar": {
              "outlinewidth": 0,
              "ticks": ""
             }
            },
            "type": "scattergeo"
           }
          ],
          "scattergl": [
           {
            "marker": {
             "colorbar": {
              "outlinewidth": 0,
              "ticks": ""
             }
            },
            "type": "scattergl"
           }
          ],
          "scattermapbox": [
           {
            "marker": {
             "colorbar": {
              "outlinewidth": 0,
              "ticks": ""
             }
            },
            "type": "scattermapbox"
           }
          ],
          "scatterpolar": [
           {
            "marker": {
             "colorbar": {
              "outlinewidth": 0,
              "ticks": ""
             }
            },
            "type": "scatterpolar"
           }
          ],
          "scatterpolargl": [
           {
            "marker": {
             "colorbar": {
              "outlinewidth": 0,
              "ticks": ""
             }
            },
            "type": "scatterpolargl"
           }
          ],
          "scatterternary": [
           {
            "marker": {
             "colorbar": {
              "outlinewidth": 0,
              "ticks": ""
             }
            },
            "type": "scatterternary"
           }
          ],
          "surface": [
           {
            "colorbar": {
             "outlinewidth": 0,
             "ticks": ""
            },
            "colorscale": [
             [
              0,
              "#0d0887"
             ],
             [
              0.1111111111111111,
              "#46039f"
             ],
             [
              0.2222222222222222,
              "#7201a8"
             ],
             [
              0.3333333333333333,
              "#9c179e"
             ],
             [
              0.4444444444444444,
              "#bd3786"
             ],
             [
              0.5555555555555556,
              "#d8576b"
             ],
             [
              0.6666666666666666,
              "#ed7953"
             ],
             [
              0.7777777777777778,
              "#fb9f3a"
             ],
             [
              0.8888888888888888,
              "#fdca26"
             ],
             [
              1,
              "#f0f921"
             ]
            ],
            "type": "surface"
           }
          ],
          "table": [
           {
            "cells": {
             "fill": {
              "color": "#EBF0F8"
             },
             "line": {
              "color": "white"
             }
            },
            "header": {
             "fill": {
              "color": "#C8D4E3"
             },
             "line": {
              "color": "white"
             }
            },
            "type": "table"
           }
          ]
         },
         "layout": {
          "annotationdefaults": {
           "arrowcolor": "#2a3f5f",
           "arrowhead": 0,
           "arrowwidth": 1
          },
          "coloraxis": {
           "colorbar": {
            "outlinewidth": 0,
            "ticks": ""
           }
          },
          "colorscale": {
           "diverging": [
            [
             0,
             "#8e0152"
            ],
            [
             0.1,
             "#c51b7d"
            ],
            [
             0.2,
             "#de77ae"
            ],
            [
             0.3,
             "#f1b6da"
            ],
            [
             0.4,
             "#fde0ef"
            ],
            [
             0.5,
             "#f7f7f7"
            ],
            [
             0.6,
             "#e6f5d0"
            ],
            [
             0.7,
             "#b8e186"
            ],
            [
             0.8,
             "#7fbc41"
            ],
            [
             0.9,
             "#4d9221"
            ],
            [
             1,
             "#276419"
            ]
           ],
           "sequential": [
            [
             0,
             "#0d0887"
            ],
            [
             0.1111111111111111,
             "#46039f"
            ],
            [
             0.2222222222222222,
             "#7201a8"
            ],
            [
             0.3333333333333333,
             "#9c179e"
            ],
            [
             0.4444444444444444,
             "#bd3786"
            ],
            [
             0.5555555555555556,
             "#d8576b"
            ],
            [
             0.6666666666666666,
             "#ed7953"
            ],
            [
             0.7777777777777778,
             "#fb9f3a"
            ],
            [
             0.8888888888888888,
             "#fdca26"
            ],
            [
             1,
             "#f0f921"
            ]
           ],
           "sequentialminus": [
            [
             0,
             "#0d0887"
            ],
            [
             0.1111111111111111,
             "#46039f"
            ],
            [
             0.2222222222222222,
             "#7201a8"
            ],
            [
             0.3333333333333333,
             "#9c179e"
            ],
            [
             0.4444444444444444,
             "#bd3786"
            ],
            [
             0.5555555555555556,
             "#d8576b"
            ],
            [
             0.6666666666666666,
             "#ed7953"
            ],
            [
             0.7777777777777778,
             "#fb9f3a"
            ],
            [
             0.8888888888888888,
             "#fdca26"
            ],
            [
             1,
             "#f0f921"
            ]
           ]
          },
          "colorway": [
           "#636efa",
           "#EF553B",
           "#00cc96",
           "#ab63fa",
           "#FFA15A",
           "#19d3f3",
           "#FF6692",
           "#B6E880",
           "#FF97FF",
           "#FECB52"
          ],
          "font": {
           "color": "#2a3f5f"
          },
          "geo": {
           "bgcolor": "white",
           "lakecolor": "white",
           "landcolor": "#E5ECF6",
           "showlakes": true,
           "showland": true,
           "subunitcolor": "white"
          },
          "hoverlabel": {
           "align": "left"
          },
          "hovermode": "closest",
          "mapbox": {
           "style": "light"
          },
          "paper_bgcolor": "white",
          "plot_bgcolor": "#E5ECF6",
          "polar": {
           "angularaxis": {
            "gridcolor": "white",
            "linecolor": "white",
            "ticks": ""
           },
           "bgcolor": "#E5ECF6",
           "radialaxis": {
            "gridcolor": "white",
            "linecolor": "white",
            "ticks": ""
           }
          },
          "scene": {
           "xaxis": {
            "backgroundcolor": "#E5ECF6",
            "gridcolor": "white",
            "gridwidth": 2,
            "linecolor": "white",
            "showbackground": true,
            "ticks": "",
            "zerolinecolor": "white"
           },
           "yaxis": {
            "backgroundcolor": "#E5ECF6",
            "gridcolor": "white",
            "gridwidth": 2,
            "linecolor": "white",
            "showbackground": true,
            "ticks": "",
            "zerolinecolor": "white"
           },
           "zaxis": {
            "backgroundcolor": "#E5ECF6",
            "gridcolor": "white",
            "gridwidth": 2,
            "linecolor": "white",
            "showbackground": true,
            "ticks": "",
            "zerolinecolor": "white"
           }
          },
          "shapedefaults": {
           "line": {
            "color": "#2a3f5f"
           }
          },
          "ternary": {
           "aaxis": {
            "gridcolor": "white",
            "linecolor": "white",
            "ticks": ""
           },
           "baxis": {
            "gridcolor": "white",
            "linecolor": "white",
            "ticks": ""
           },
           "bgcolor": "#E5ECF6",
           "caxis": {
            "gridcolor": "white",
            "linecolor": "white",
            "ticks": ""
           }
          },
          "title": {
           "x": 0.05
          },
          "xaxis": {
           "automargin": true,
           "gridcolor": "white",
           "linecolor": "white",
           "ticks": "",
           "title": {
            "standoff": 15
           },
           "zerolinecolor": "white",
           "zerolinewidth": 2
          },
          "yaxis": {
           "automargin": true,
           "gridcolor": "white",
           "linecolor": "white",
           "ticks": "",
           "title": {
            "standoff": 15
           },
           "zerolinecolor": "white",
           "zerolinewidth": 2
          }
         }
        },
        "title": {
         "text": "Terrain Difficulty",
         "x": 0.5
        },
        "width": 1000,
        "xaxis": {
         "anchor": "y",
         "domain": [
          0,
          1
         ],
         "title": {
          "text": "Ski Resort"
         }
        },
        "yaxis": {
         "anchor": "x",
         "domain": [
          0,
          1
         ],
         "title": {
          "text": "Difficulty Level (%)"
         }
        }
       }
      },
      "text/html": [
       "<div>                            <div id=\"4c07dfbd-8460-4da4-b682-f5fad35bb9a6\" class=\"plotly-graph-div\" style=\"height:500px; width:1000px;\"></div>            <script type=\"text/javascript\">                require([\"plotly\"], function(Plotly) {                    window.PLOTLYENV=window.PLOTLYENV || {};                                    if (document.getElementById(\"4c07dfbd-8460-4da4-b682-f5fad35bb9a6\")) {                    Plotly.newPlot(                        \"4c07dfbd-8460-4da4-b682-f5fad35bb9a6\",                        [{\"alignmentgroup\": \"True\", \"hovertemplate\": \"variable=Beginner<br>ski_resort=%{x}<br>value=%{y}<extra></extra>\", \"legendgroup\": \"Beginner\", \"marker\": {\"color\": \"#636efa\"}, \"name\": \"Beginner\", \"offsetgroup\": \"beginner_runs\", \"orientation\": \"v\", \"showlegend\": true, \"textposition\": \"outside\", \"type\": \"bar\", \"x\": [\"Snowbird\", \"Snowbasin\", \"Big Sky\"], \"xaxis\": \"x\", \"y\": [8.0, 9.0, 15.0], \"yaxis\": \"y\"}, {\"alignmentgroup\": \"True\", \"hovertemplate\": \"variable=Intermediate Runs<br>ski_resort=%{x}<br>value=%{y}<extra></extra>\", \"legendgroup\": \"Intermediate Runs\", \"marker\": {\"color\": \"#EF553B\"}, \"name\": \"Intermediate Runs\", \"offsetgroup\": \"intermediate_runs\", \"orientation\": \"v\", \"showlegend\": true, \"textposition\": \"outside\", \"type\": \"bar\", \"x\": [\"Snowbird\", \"Snowbasin\", \"Big Sky\"], \"xaxis\": \"x\", \"y\": [25.0, 33.0, 25.0], \"yaxis\": \"y\"}, {\"alignmentgroup\": \"True\", \"hovertemplate\": \"variable=Advanced Runs<br>ski_resort=%{x}<br>value=%{y}<extra></extra>\", \"legendgroup\": \"Advanced Runs\", \"marker\": {\"color\": \"#00cc96\"}, \"name\": \"Advanced Runs\", \"offsetgroup\": \"advanced_runs\", \"orientation\": \"v\", \"showlegend\": true, \"textposition\": \"outside\", \"type\": \"bar\", \"x\": [\"Snowbird\", \"Snowbasin\", \"Big Sky\"], \"xaxis\": \"x\", \"y\": [43.0, 52.0, 42.0], \"yaxis\": \"y\"}, {\"alignmentgroup\": \"True\", \"hovertemplate\": \"variable=Expert Runs<br>ski_resort=%{x}<br>value=%{y}<extra></extra>\", \"legendgroup\": \"Expert Runs\", \"marker\": {\"color\": \"#ab63fa\"}, \"name\": \"Expert Runs\", \"offsetgroup\": \"expert_runs\", \"orientation\": \"v\", \"showlegend\": true, \"textposition\": \"outside\", \"type\": \"bar\", \"x\": [\"Snowbird\", \"Snowbasin\", \"Big Sky\"], \"xaxis\": \"x\", \"y\": [24.0, 6.0, 18.0], \"yaxis\": \"y\"}],                        {\"barmode\": \"group\", \"font\": {\"size\": 14}, \"height\": 500, \"legend\": {\"title\": {\"text\": \"variable\"}, \"tracegroupgap\": 0}, \"margin\": {\"t\": 60}, \"plot_bgcolor\": \"white\", \"template\": {\"data\": {\"bar\": [{\"error_x\": {\"color\": \"#2a3f5f\"}, \"error_y\": {\"color\": \"#2a3f5f\"}, \"marker\": {\"line\": {\"color\": \"#E5ECF6\", \"width\": 0.5}}, \"type\": \"bar\"}], \"barpolar\": [{\"marker\": {\"line\": {\"color\": \"#E5ECF6\", \"width\": 0.5}}, \"type\": \"barpolar\"}], \"carpet\": [{\"aaxis\": {\"endlinecolor\": \"#2a3f5f\", \"gridcolor\": \"white\", \"linecolor\": \"white\", \"minorgridcolor\": \"white\", \"startlinecolor\": \"#2a3f5f\"}, \"baxis\": {\"endlinecolor\": \"#2a3f5f\", \"gridcolor\": \"white\", \"linecolor\": \"white\", \"minorgridcolor\": \"white\", \"startlinecolor\": \"#2a3f5f\"}, \"type\": \"carpet\"}], \"choropleth\": [{\"colorbar\": {\"outlinewidth\": 0, \"ticks\": \"\"}, \"type\": \"choropleth\"}], \"contour\": [{\"colorbar\": {\"outlinewidth\": 0, \"ticks\": \"\"}, \"colorscale\": [[0.0, \"#0d0887\"], [0.1111111111111111, \"#46039f\"], [0.2222222222222222, \"#7201a8\"], [0.3333333333333333, \"#9c179e\"], [0.4444444444444444, \"#bd3786\"], [0.5555555555555556, \"#d8576b\"], [0.6666666666666666, \"#ed7953\"], [0.7777777777777778, \"#fb9f3a\"], [0.8888888888888888, \"#fdca26\"], [1.0, \"#f0f921\"]], \"type\": \"contour\"}], \"contourcarpet\": [{\"colorbar\": {\"outlinewidth\": 0, \"ticks\": \"\"}, \"type\": \"contourcarpet\"}], \"heatmap\": [{\"colorbar\": {\"outlinewidth\": 0, \"ticks\": \"\"}, \"colorscale\": [[0.0, \"#0d0887\"], [0.1111111111111111, \"#46039f\"], [0.2222222222222222, \"#7201a8\"], [0.3333333333333333, \"#9c179e\"], [0.4444444444444444, \"#bd3786\"], [0.5555555555555556, \"#d8576b\"], [0.6666666666666666, \"#ed7953\"], [0.7777777777777778, \"#fb9f3a\"], [0.8888888888888888, \"#fdca26\"], [1.0, \"#f0f921\"]], \"type\": \"heatmap\"}], \"heatmapgl\": [{\"colorbar\": {\"outlinewidth\": 0, \"ticks\": \"\"}, \"colorscale\": [[0.0, \"#0d0887\"], [0.1111111111111111, \"#46039f\"], [0.2222222222222222, \"#7201a8\"], [0.3333333333333333, \"#9c179e\"], [0.4444444444444444, \"#bd3786\"], [0.5555555555555556, \"#d8576b\"], [0.6666666666666666, \"#ed7953\"], [0.7777777777777778, \"#fb9f3a\"], [0.8888888888888888, \"#fdca26\"], [1.0, \"#f0f921\"]], \"type\": \"heatmapgl\"}], \"histogram\": [{\"marker\": {\"colorbar\": {\"outlinewidth\": 0, \"ticks\": \"\"}}, \"type\": \"histogram\"}], \"histogram2d\": [{\"colorbar\": {\"outlinewidth\": 0, \"ticks\": \"\"}, \"colorscale\": [[0.0, \"#0d0887\"], [0.1111111111111111, \"#46039f\"], [0.2222222222222222, \"#7201a8\"], [0.3333333333333333, \"#9c179e\"], [0.4444444444444444, \"#bd3786\"], [0.5555555555555556, \"#d8576b\"], [0.6666666666666666, \"#ed7953\"], [0.7777777777777778, \"#fb9f3a\"], [0.8888888888888888, \"#fdca26\"], [1.0, \"#f0f921\"]], \"type\": \"histogram2d\"}], \"histogram2dcontour\": [{\"colorbar\": {\"outlinewidth\": 0, \"ticks\": \"\"}, \"colorscale\": [[0.0, \"#0d0887\"], [0.1111111111111111, \"#46039f\"], [0.2222222222222222, \"#7201a8\"], [0.3333333333333333, \"#9c179e\"], [0.4444444444444444, \"#bd3786\"], [0.5555555555555556, \"#d8576b\"], [0.6666666666666666, \"#ed7953\"], [0.7777777777777778, \"#fb9f3a\"], [0.8888888888888888, \"#fdca26\"], [1.0, \"#f0f921\"]], \"type\": \"histogram2dcontour\"}], \"mesh3d\": [{\"colorbar\": {\"outlinewidth\": 0, \"ticks\": \"\"}, \"type\": \"mesh3d\"}], \"parcoords\": [{\"line\": {\"colorbar\": {\"outlinewidth\": 0, \"ticks\": \"\"}}, \"type\": \"parcoords\"}], \"pie\": [{\"automargin\": true, \"type\": \"pie\"}], \"scatter\": [{\"marker\": {\"colorbar\": {\"outlinewidth\": 0, \"ticks\": \"\"}}, \"type\": \"scatter\"}], \"scatter3d\": [{\"line\": {\"colorbar\": {\"outlinewidth\": 0, \"ticks\": \"\"}}, \"marker\": {\"colorbar\": {\"outlinewidth\": 0, \"ticks\": \"\"}}, \"type\": \"scatter3d\"}], \"scattercarpet\": [{\"marker\": {\"colorbar\": {\"outlinewidth\": 0, \"ticks\": \"\"}}, \"type\": \"scattercarpet\"}], \"scattergeo\": [{\"marker\": {\"colorbar\": {\"outlinewidth\": 0, \"ticks\": \"\"}}, \"type\": \"scattergeo\"}], \"scattergl\": [{\"marker\": {\"colorbar\": {\"outlinewidth\": 0, \"ticks\": \"\"}}, \"type\": \"scattergl\"}], \"scattermapbox\": [{\"marker\": {\"colorbar\": {\"outlinewidth\": 0, \"ticks\": \"\"}}, \"type\": \"scattermapbox\"}], \"scatterpolar\": [{\"marker\": {\"colorbar\": {\"outlinewidth\": 0, \"ticks\": \"\"}}, \"type\": \"scatterpolar\"}], \"scatterpolargl\": [{\"marker\": {\"colorbar\": {\"outlinewidth\": 0, \"ticks\": \"\"}}, \"type\": \"scatterpolargl\"}], \"scatterternary\": [{\"marker\": {\"colorbar\": {\"outlinewidth\": 0, \"ticks\": \"\"}}, \"type\": \"scatterternary\"}], \"surface\": [{\"colorbar\": {\"outlinewidth\": 0, \"ticks\": \"\"}, \"colorscale\": [[0.0, \"#0d0887\"], [0.1111111111111111, \"#46039f\"], [0.2222222222222222, \"#7201a8\"], [0.3333333333333333, \"#9c179e\"], [0.4444444444444444, \"#bd3786\"], [0.5555555555555556, \"#d8576b\"], [0.6666666666666666, \"#ed7953\"], [0.7777777777777778, \"#fb9f3a\"], [0.8888888888888888, \"#fdca26\"], [1.0, \"#f0f921\"]], \"type\": \"surface\"}], \"table\": [{\"cells\": {\"fill\": {\"color\": \"#EBF0F8\"}, \"line\": {\"color\": \"white\"}}, \"header\": {\"fill\": {\"color\": \"#C8D4E3\"}, \"line\": {\"color\": \"white\"}}, \"type\": \"table\"}]}, \"layout\": {\"annotationdefaults\": {\"arrowcolor\": \"#2a3f5f\", \"arrowhead\": 0, \"arrowwidth\": 1}, \"coloraxis\": {\"colorbar\": {\"outlinewidth\": 0, \"ticks\": \"\"}}, \"colorscale\": {\"diverging\": [[0, \"#8e0152\"], [0.1, \"#c51b7d\"], [0.2, \"#de77ae\"], [0.3, \"#f1b6da\"], [0.4, \"#fde0ef\"], [0.5, \"#f7f7f7\"], [0.6, \"#e6f5d0\"], [0.7, \"#b8e186\"], [0.8, \"#7fbc41\"], [0.9, \"#4d9221\"], [1, \"#276419\"]], \"sequential\": [[0.0, \"#0d0887\"], [0.1111111111111111, \"#46039f\"], [0.2222222222222222, \"#7201a8\"], [0.3333333333333333, \"#9c179e\"], [0.4444444444444444, \"#bd3786\"], [0.5555555555555556, \"#d8576b\"], [0.6666666666666666, \"#ed7953\"], [0.7777777777777778, \"#fb9f3a\"], [0.8888888888888888, \"#fdca26\"], [1.0, \"#f0f921\"]], \"sequentialminus\": [[0.0, \"#0d0887\"], [0.1111111111111111, \"#46039f\"], [0.2222222222222222, \"#7201a8\"], [0.3333333333333333, \"#9c179e\"], [0.4444444444444444, \"#bd3786\"], [0.5555555555555556, \"#d8576b\"], [0.6666666666666666, \"#ed7953\"], [0.7777777777777778, \"#fb9f3a\"], [0.8888888888888888, \"#fdca26\"], [1.0, \"#f0f921\"]]}, \"colorway\": [\"#636efa\", \"#EF553B\", \"#00cc96\", \"#ab63fa\", \"#FFA15A\", \"#19d3f3\", \"#FF6692\", \"#B6E880\", \"#FF97FF\", \"#FECB52\"], \"font\": {\"color\": \"#2a3f5f\"}, \"geo\": {\"bgcolor\": \"white\", \"lakecolor\": \"white\", \"landcolor\": \"#E5ECF6\", \"showlakes\": true, \"showland\": true, \"subunitcolor\": \"white\"}, \"hoverlabel\": {\"align\": \"left\"}, \"hovermode\": \"closest\", \"mapbox\": {\"style\": \"light\"}, \"paper_bgcolor\": \"white\", \"plot_bgcolor\": \"#E5ECF6\", \"polar\": {\"angularaxis\": {\"gridcolor\": \"white\", \"linecolor\": \"white\", \"ticks\": \"\"}, \"bgcolor\": \"#E5ECF6\", \"radialaxis\": {\"gridcolor\": \"white\", \"linecolor\": \"white\", \"ticks\": \"\"}}, \"scene\": {\"xaxis\": {\"backgroundcolor\": \"#E5ECF6\", \"gridcolor\": \"white\", \"gridwidth\": 2, \"linecolor\": \"white\", \"showbackground\": true, \"ticks\": \"\", \"zerolinecolor\": \"white\"}, \"yaxis\": {\"backgroundcolor\": \"#E5ECF6\", \"gridcolor\": \"white\", \"gridwidth\": 2, \"linecolor\": \"white\", \"showbackground\": true, \"ticks\": \"\", \"zerolinecolor\": \"white\"}, \"zaxis\": {\"backgroundcolor\": \"#E5ECF6\", \"gridcolor\": \"white\", \"gridwidth\": 2, \"linecolor\": \"white\", \"showbackground\": true, \"ticks\": \"\", \"zerolinecolor\": \"white\"}}, \"shapedefaults\": {\"line\": {\"color\": \"#2a3f5f\"}}, \"ternary\": {\"aaxis\": {\"gridcolor\": \"white\", \"linecolor\": \"white\", \"ticks\": \"\"}, \"baxis\": {\"gridcolor\": \"white\", \"linecolor\": \"white\", \"ticks\": \"\"}, \"bgcolor\": \"#E5ECF6\", \"caxis\": {\"gridcolor\": \"white\", \"linecolor\": \"white\", \"ticks\": \"\"}}, \"title\": {\"x\": 0.05}, \"xaxis\": {\"automargin\": true, \"gridcolor\": \"white\", \"linecolor\": \"white\", \"ticks\": \"\", \"title\": {\"standoff\": 15}, \"zerolinecolor\": \"white\", \"zerolinewidth\": 2}, \"yaxis\": {\"automargin\": true, \"gridcolor\": \"white\", \"linecolor\": \"white\", \"ticks\": \"\", \"title\": {\"standoff\": 15}, \"zerolinecolor\": \"white\", \"zerolinewidth\": 2}}}, \"title\": {\"text\": \"Terrain Difficulty\", \"x\": 0.5}, \"width\": 1000, \"xaxis\": {\"anchor\": \"y\", \"domain\": [0.0, 1.0], \"title\": {\"text\": \"Ski Resort\"}}, \"yaxis\": {\"anchor\": \"x\", \"domain\": [0.0, 1.0], \"title\": {\"text\": \"Difficulty Level (%)\"}}},                        {\"responsive\": true}                    ).then(function(){\n",
       "                            \n",
       "var gd = document.getElementById('4c07dfbd-8460-4da4-b682-f5fad35bb9a6');\n",
       "var x = new MutationObserver(function (mutations, observer) {{\n",
       "        var display = window.getComputedStyle(gd).display;\n",
       "        if (!display || display === 'none') {{\n",
       "            console.log([gd, 'removed!']);\n",
       "            Plotly.purge(gd);\n",
       "            observer.disconnect();\n",
       "        }}\n",
       "}});\n",
       "\n",
       "// Listen for the removal of the full notebook cells\n",
       "var notebookContainer = gd.closest('#notebook-container');\n",
       "if (notebookContainer) {{\n",
       "    x.observe(notebookContainer, {childList: true});\n",
       "}}\n",
       "\n",
       "// Listen for the clearing of the current output cell\n",
       "var outputEl = gd.closest('.output');\n",
       "if (outputEl) {{\n",
       "    x.observe(outputEl, {childList: true});\n",
       "}}\n",
       "\n",
       "                        })                };                });            </script>        </div>"
      ]
     },
     "metadata": {},
     "output_type": "display_data"
    }
   ],
   "source": [
    "#using plotly to plot the top featurescolor=\n",
    "fig = px.bar(r_df, x=\"ski_resort\", y=[\"beginner_runs\", \"intermediate_runs\", \"advanced_runs\", \"expert_runs\"],\n",
    "            width=1000, height=500)\n",
    "fig.update_layout(title_text='Terrain Difficulty',\n",
    "                  title_x=0.5,\n",
    "                  xaxis_title=\"Ski Resort\",\n",
    "                  yaxis_title=\"Difficulty Level (%)\",\n",
    "                 plot_bgcolor='white',\n",
    "                 font=dict(size=14),\n",
    "                 barmode='group')\n",
    "\n",
    "newnames = {\"beginner_runs\":'Beginner', \"intermediate_runs\": 'Intermediate Runs',\n",
    "           \"advanced_runs\":'Advanced Runs', \"expert_runs\": 'Expert Runs',}\n",
    "fig.for_each_trace(lambda t: t.update(name = newnames[t.name],\n",
    "                                      legendgroup = newnames[t.name],\n",
    "                                       hovertemplate = t.hovertemplate.replace(t.name, newnames[t.name])\n",
    "                                      )\n",
    "                   )\n",
    "\n",
    "fig.update_traces(textposition='outside')               \n",
    "              \n",
    "fig.show()"
   ]
  },
  {
   "cell_type": "code",
   "execution_count": 86,
   "metadata": {},
   "outputs": [
    {
     "data": {
      "application/vnd.plotly.v1+json": {
       "config": {
        "plotlyServerURL": "https://plot.ly"
       },
       "data": [
        {
         "alignmentgroup": "True",
         "hovertemplate": "variable=November<br>ski_resort=%{x}<br>value=%{y}<extra></extra>",
         "legendgroup": "November",
         "marker": {
          "color": "#636efa"
         },
         "name": "November",
         "offsetgroup": "nov_snow",
         "orientation": "v",
         "showlegend": true,
         "textposition": "outside",
         "type": "bar",
         "x": [
          "Snowbird",
          "Snowbasin",
          "Big Sky"
         ],
         "xaxis": "x",
         "y": [
          23,
          14,
          17
         ],
         "yaxis": "y"
        },
        {
         "alignmentgroup": "True",
         "hovertemplate": "variable=December<br>ski_resort=%{x}<br>value=%{y}<extra></extra>",
         "legendgroup": "December",
         "marker": {
          "color": "#EF553B"
         },
         "name": "December",
         "offsetgroup": "dec_snow",
         "orientation": "v",
         "showlegend": true,
         "textposition": "outside",
         "type": "bar",
         "x": [
          "Snowbird",
          "Snowbasin",
          "Big Sky"
         ],
         "xaxis": "x",
         "y": [
          88,
          68,
          60
         ],
         "yaxis": "y"
        },
        {
         "alignmentgroup": "True",
         "hovertemplate": "variable=January<br>ski_resort=%{x}<br>value=%{y}<extra></extra>",
         "legendgroup": "January",
         "marker": {
          "color": "#00cc96"
         },
         "name": "January",
         "offsetgroup": "jan_snow",
         "orientation": "v",
         "showlegend": true,
         "textposition": "outside",
         "type": "bar",
         "x": [
          "Snowbird",
          "Snowbasin",
          "Big Sky"
         ],
         "xaxis": "x",
         "y": [
          95,
          67,
          47
         ],
         "yaxis": "y"
        },
        {
         "alignmentgroup": "True",
         "hovertemplate": "variable=February<br>ski_resort=%{x}<br>value=%{y}<extra></extra>",
         "legendgroup": "February",
         "marker": {
          "color": "#ab63fa"
         },
         "name": "February",
         "offsetgroup": "feb_snow",
         "orientation": "v",
         "showlegend": true,
         "textposition": "outside",
         "type": "bar",
         "x": [
          "Snowbird",
          "Snowbasin",
          "Big Sky"
         ],
         "xaxis": "x",
         "y": [
          83,
          68,
          57
         ],
         "yaxis": "y"
        },
        {
         "alignmentgroup": "True",
         "hovertemplate": "variable=March<br>ski_resort=%{x}<br>value=%{y}<extra></extra>",
         "legendgroup": "March",
         "marker": {
          "color": "#FFA15A"
         },
         "name": "March",
         "offsetgroup": "mar_snow",
         "orientation": "v",
         "showlegend": true,
         "textposition": "outside",
         "type": "bar",
         "x": [
          "Snowbird",
          "Snowbasin",
          "Big Sky"
         ],
         "xaxis": "x",
         "y": [
          77,
          57,
          56
         ],
         "yaxis": "y"
        },
        {
         "alignmentgroup": "True",
         "hovertemplate": "variable=April<br>ski_resort=%{x}<br>value=%{y}<extra></extra>",
         "legendgroup": "April",
         "marker": {
          "color": "#19d3f3"
         },
         "name": "April",
         "offsetgroup": "apr_snow",
         "orientation": "v",
         "showlegend": true,
         "textposition": "outside",
         "type": "bar",
         "x": [
          "Snowbird",
          "Snowbasin",
          "Big Sky"
         ],
         "xaxis": "x",
         "y": [
          63,
          16,
          34
         ],
         "yaxis": "y"
        }
       ],
       "layout": {
        "barmode": "group",
        "font": {
         "size": 14
        },
        "height": 500,
        "legend": {
         "title": {
          "text": "variable"
         },
         "tracegroupgap": 0
        },
        "margin": {
         "t": 60
        },
        "plot_bgcolor": "white",
        "template": {
         "data": {
          "bar": [
           {
            "error_x": {
             "color": "#2a3f5f"
            },
            "error_y": {
             "color": "#2a3f5f"
            },
            "marker": {
             "line": {
              "color": "#E5ECF6",
              "width": 0.5
             }
            },
            "type": "bar"
           }
          ],
          "barpolar": [
           {
            "marker": {
             "line": {
              "color": "#E5ECF6",
              "width": 0.5
             }
            },
            "type": "barpolar"
           }
          ],
          "carpet": [
           {
            "aaxis": {
             "endlinecolor": "#2a3f5f",
             "gridcolor": "white",
             "linecolor": "white",
             "minorgridcolor": "white",
             "startlinecolor": "#2a3f5f"
            },
            "baxis": {
             "endlinecolor": "#2a3f5f",
             "gridcolor": "white",
             "linecolor": "white",
             "minorgridcolor": "white",
             "startlinecolor": "#2a3f5f"
            },
            "type": "carpet"
           }
          ],
          "choropleth": [
           {
            "colorbar": {
             "outlinewidth": 0,
             "ticks": ""
            },
            "type": "choropleth"
           }
          ],
          "contour": [
           {
            "colorbar": {
             "outlinewidth": 0,
             "ticks": ""
            },
            "colorscale": [
             [
              0,
              "#0d0887"
             ],
             [
              0.1111111111111111,
              "#46039f"
             ],
             [
              0.2222222222222222,
              "#7201a8"
             ],
             [
              0.3333333333333333,
              "#9c179e"
             ],
             [
              0.4444444444444444,
              "#bd3786"
             ],
             [
              0.5555555555555556,
              "#d8576b"
             ],
             [
              0.6666666666666666,
              "#ed7953"
             ],
             [
              0.7777777777777778,
              "#fb9f3a"
             ],
             [
              0.8888888888888888,
              "#fdca26"
             ],
             [
              1,
              "#f0f921"
             ]
            ],
            "type": "contour"
           }
          ],
          "contourcarpet": [
           {
            "colorbar": {
             "outlinewidth": 0,
             "ticks": ""
            },
            "type": "contourcarpet"
           }
          ],
          "heatmap": [
           {
            "colorbar": {
             "outlinewidth": 0,
             "ticks": ""
            },
            "colorscale": [
             [
              0,
              "#0d0887"
             ],
             [
              0.1111111111111111,
              "#46039f"
             ],
             [
              0.2222222222222222,
              "#7201a8"
             ],
             [
              0.3333333333333333,
              "#9c179e"
             ],
             [
              0.4444444444444444,
              "#bd3786"
             ],
             [
              0.5555555555555556,
              "#d8576b"
             ],
             [
              0.6666666666666666,
              "#ed7953"
             ],
             [
              0.7777777777777778,
              "#fb9f3a"
             ],
             [
              0.8888888888888888,
              "#fdca26"
             ],
             [
              1,
              "#f0f921"
             ]
            ],
            "type": "heatmap"
           }
          ],
          "heatmapgl": [
           {
            "colorbar": {
             "outlinewidth": 0,
             "ticks": ""
            },
            "colorscale": [
             [
              0,
              "#0d0887"
             ],
             [
              0.1111111111111111,
              "#46039f"
             ],
             [
              0.2222222222222222,
              "#7201a8"
             ],
             [
              0.3333333333333333,
              "#9c179e"
             ],
             [
              0.4444444444444444,
              "#bd3786"
             ],
             [
              0.5555555555555556,
              "#d8576b"
             ],
             [
              0.6666666666666666,
              "#ed7953"
             ],
             [
              0.7777777777777778,
              "#fb9f3a"
             ],
             [
              0.8888888888888888,
              "#fdca26"
             ],
             [
              1,
              "#f0f921"
             ]
            ],
            "type": "heatmapgl"
           }
          ],
          "histogram": [
           {
            "marker": {
             "colorbar": {
              "outlinewidth": 0,
              "ticks": ""
             }
            },
            "type": "histogram"
           }
          ],
          "histogram2d": [
           {
            "colorbar": {
             "outlinewidth": 0,
             "ticks": ""
            },
            "colorscale": [
             [
              0,
              "#0d0887"
             ],
             [
              0.1111111111111111,
              "#46039f"
             ],
             [
              0.2222222222222222,
              "#7201a8"
             ],
             [
              0.3333333333333333,
              "#9c179e"
             ],
             [
              0.4444444444444444,
              "#bd3786"
             ],
             [
              0.5555555555555556,
              "#d8576b"
             ],
             [
              0.6666666666666666,
              "#ed7953"
             ],
             [
              0.7777777777777778,
              "#fb9f3a"
             ],
             [
              0.8888888888888888,
              "#fdca26"
             ],
             [
              1,
              "#f0f921"
             ]
            ],
            "type": "histogram2d"
           }
          ],
          "histogram2dcontour": [
           {
            "colorbar": {
             "outlinewidth": 0,
             "ticks": ""
            },
            "colorscale": [
             [
              0,
              "#0d0887"
             ],
             [
              0.1111111111111111,
              "#46039f"
             ],
             [
              0.2222222222222222,
              "#7201a8"
             ],
             [
              0.3333333333333333,
              "#9c179e"
             ],
             [
              0.4444444444444444,
              "#bd3786"
             ],
             [
              0.5555555555555556,
              "#d8576b"
             ],
             [
              0.6666666666666666,
              "#ed7953"
             ],
             [
              0.7777777777777778,
              "#fb9f3a"
             ],
             [
              0.8888888888888888,
              "#fdca26"
             ],
             [
              1,
              "#f0f921"
             ]
            ],
            "type": "histogram2dcontour"
           }
          ],
          "mesh3d": [
           {
            "colorbar": {
             "outlinewidth": 0,
             "ticks": ""
            },
            "type": "mesh3d"
           }
          ],
          "parcoords": [
           {
            "line": {
             "colorbar": {
              "outlinewidth": 0,
              "ticks": ""
             }
            },
            "type": "parcoords"
           }
          ],
          "pie": [
           {
            "automargin": true,
            "type": "pie"
           }
          ],
          "scatter": [
           {
            "marker": {
             "colorbar": {
              "outlinewidth": 0,
              "ticks": ""
             }
            },
            "type": "scatter"
           }
          ],
          "scatter3d": [
           {
            "line": {
             "colorbar": {
              "outlinewidth": 0,
              "ticks": ""
             }
            },
            "marker": {
             "colorbar": {
              "outlinewidth": 0,
              "ticks": ""
             }
            },
            "type": "scatter3d"
           }
          ],
          "scattercarpet": [
           {
            "marker": {
             "colorbar": {
              "outlinewidth": 0,
              "ticks": ""
             }
            },
            "type": "scattercarpet"
           }
          ],
          "scattergeo": [
           {
            "marker": {
             "colorbar": {
              "outlinewidth": 0,
              "ticks": ""
             }
            },
            "type": "scattergeo"
           }
          ],
          "scattergl": [
           {
            "marker": {
             "colorbar": {
              "outlinewidth": 0,
              "ticks": ""
             }
            },
            "type": "scattergl"
           }
          ],
          "scattermapbox": [
           {
            "marker": {
             "colorbar": {
              "outlinewidth": 0,
              "ticks": ""
             }
            },
            "type": "scattermapbox"
           }
          ],
          "scatterpolar": [
           {
            "marker": {
             "colorbar": {
              "outlinewidth": 0,
              "ticks": ""
             }
            },
            "type": "scatterpolar"
           }
          ],
          "scatterpolargl": [
           {
            "marker": {
             "colorbar": {
              "outlinewidth": 0,
              "ticks": ""
             }
            },
            "type": "scatterpolargl"
           }
          ],
          "scatterternary": [
           {
            "marker": {
             "colorbar": {
              "outlinewidth": 0,
              "ticks": ""
             }
            },
            "type": "scatterternary"
           }
          ],
          "surface": [
           {
            "colorbar": {
             "outlinewidth": 0,
             "ticks": ""
            },
            "colorscale": [
             [
              0,
              "#0d0887"
             ],
             [
              0.1111111111111111,
              "#46039f"
             ],
             [
              0.2222222222222222,
              "#7201a8"
             ],
             [
              0.3333333333333333,
              "#9c179e"
             ],
             [
              0.4444444444444444,
              "#bd3786"
             ],
             [
              0.5555555555555556,
              "#d8576b"
             ],
             [
              0.6666666666666666,
              "#ed7953"
             ],
             [
              0.7777777777777778,
              "#fb9f3a"
             ],
             [
              0.8888888888888888,
              "#fdca26"
             ],
             [
              1,
              "#f0f921"
             ]
            ],
            "type": "surface"
           }
          ],
          "table": [
           {
            "cells": {
             "fill": {
              "color": "#EBF0F8"
             },
             "line": {
              "color": "white"
             }
            },
            "header": {
             "fill": {
              "color": "#C8D4E3"
             },
             "line": {
              "color": "white"
             }
            },
            "type": "table"
           }
          ]
         },
         "layout": {
          "annotationdefaults": {
           "arrowcolor": "#2a3f5f",
           "arrowhead": 0,
           "arrowwidth": 1
          },
          "coloraxis": {
           "colorbar": {
            "outlinewidth": 0,
            "ticks": ""
           }
          },
          "colorscale": {
           "diverging": [
            [
             0,
             "#8e0152"
            ],
            [
             0.1,
             "#c51b7d"
            ],
            [
             0.2,
             "#de77ae"
            ],
            [
             0.3,
             "#f1b6da"
            ],
            [
             0.4,
             "#fde0ef"
            ],
            [
             0.5,
             "#f7f7f7"
            ],
            [
             0.6,
             "#e6f5d0"
            ],
            [
             0.7,
             "#b8e186"
            ],
            [
             0.8,
             "#7fbc41"
            ],
            [
             0.9,
             "#4d9221"
            ],
            [
             1,
             "#276419"
            ]
           ],
           "sequential": [
            [
             0,
             "#0d0887"
            ],
            [
             0.1111111111111111,
             "#46039f"
            ],
            [
             0.2222222222222222,
             "#7201a8"
            ],
            [
             0.3333333333333333,
             "#9c179e"
            ],
            [
             0.4444444444444444,
             "#bd3786"
            ],
            [
             0.5555555555555556,
             "#d8576b"
            ],
            [
             0.6666666666666666,
             "#ed7953"
            ],
            [
             0.7777777777777778,
             "#fb9f3a"
            ],
            [
             0.8888888888888888,
             "#fdca26"
            ],
            [
             1,
             "#f0f921"
            ]
           ],
           "sequentialminus": [
            [
             0,
             "#0d0887"
            ],
            [
             0.1111111111111111,
             "#46039f"
            ],
            [
             0.2222222222222222,
             "#7201a8"
            ],
            [
             0.3333333333333333,
             "#9c179e"
            ],
            [
             0.4444444444444444,
             "#bd3786"
            ],
            [
             0.5555555555555556,
             "#d8576b"
            ],
            [
             0.6666666666666666,
             "#ed7953"
            ],
            [
             0.7777777777777778,
             "#fb9f3a"
            ],
            [
             0.8888888888888888,
             "#fdca26"
            ],
            [
             1,
             "#f0f921"
            ]
           ]
          },
          "colorway": [
           "#636efa",
           "#EF553B",
           "#00cc96",
           "#ab63fa",
           "#FFA15A",
           "#19d3f3",
           "#FF6692",
           "#B6E880",
           "#FF97FF",
           "#FECB52"
          ],
          "font": {
           "color": "#2a3f5f"
          },
          "geo": {
           "bgcolor": "white",
           "lakecolor": "white",
           "landcolor": "#E5ECF6",
           "showlakes": true,
           "showland": true,
           "subunitcolor": "white"
          },
          "hoverlabel": {
           "align": "left"
          },
          "hovermode": "closest",
          "mapbox": {
           "style": "light"
          },
          "paper_bgcolor": "white",
          "plot_bgcolor": "#E5ECF6",
          "polar": {
           "angularaxis": {
            "gridcolor": "white",
            "linecolor": "white",
            "ticks": ""
           },
           "bgcolor": "#E5ECF6",
           "radialaxis": {
            "gridcolor": "white",
            "linecolor": "white",
            "ticks": ""
           }
          },
          "scene": {
           "xaxis": {
            "backgroundcolor": "#E5ECF6",
            "gridcolor": "white",
            "gridwidth": 2,
            "linecolor": "white",
            "showbackground": true,
            "ticks": "",
            "zerolinecolor": "white"
           },
           "yaxis": {
            "backgroundcolor": "#E5ECF6",
            "gridcolor": "white",
            "gridwidth": 2,
            "linecolor": "white",
            "showbackground": true,
            "ticks": "",
            "zerolinecolor": "white"
           },
           "zaxis": {
            "backgroundcolor": "#E5ECF6",
            "gridcolor": "white",
            "gridwidth": 2,
            "linecolor": "white",
            "showbackground": true,
            "ticks": "",
            "zerolinecolor": "white"
           }
          },
          "shapedefaults": {
           "line": {
            "color": "#2a3f5f"
           }
          },
          "ternary": {
           "aaxis": {
            "gridcolor": "white",
            "linecolor": "white",
            "ticks": ""
           },
           "baxis": {
            "gridcolor": "white",
            "linecolor": "white",
            "ticks": ""
           },
           "bgcolor": "#E5ECF6",
           "caxis": {
            "gridcolor": "white",
            "linecolor": "white",
            "ticks": ""
           }
          },
          "title": {
           "x": 0.05
          },
          "xaxis": {
           "automargin": true,
           "gridcolor": "white",
           "linecolor": "white",
           "ticks": "",
           "title": {
            "standoff": 15
           },
           "zerolinecolor": "white",
           "zerolinewidth": 2
          },
          "yaxis": {
           "automargin": true,
           "gridcolor": "white",
           "linecolor": "white",
           "ticks": "",
           "title": {
            "standoff": 15
           },
           "zerolinecolor": "white",
           "zerolinewidth": 2
          }
         }
        },
        "title": {
         "text": "Average Monthly Snowfall",
         "x": 0.5
        },
        "width": 1000,
        "xaxis": {
         "anchor": "y",
         "domain": [
          0,
          1
         ],
         "title": {
          "text": "Ski Resort"
         }
        },
        "yaxis": {
         "anchor": "x",
         "domain": [
          0,
          1
         ],
         "title": {
          "text": "Snowfall (in.)"
         }
        }
       }
      },
      "text/html": [
       "<div>                            <div id=\"e0d5a311-b89f-43c3-9d13-b680e9141d6d\" class=\"plotly-graph-div\" style=\"height:500px; width:1000px;\"></div>            <script type=\"text/javascript\">                require([\"plotly\"], function(Plotly) {                    window.PLOTLYENV=window.PLOTLYENV || {};                                    if (document.getElementById(\"e0d5a311-b89f-43c3-9d13-b680e9141d6d\")) {                    Plotly.newPlot(                        \"e0d5a311-b89f-43c3-9d13-b680e9141d6d\",                        [{\"alignmentgroup\": \"True\", \"hovertemplate\": \"variable=November<br>ski_resort=%{x}<br>value=%{y}<extra></extra>\", \"legendgroup\": \"November\", \"marker\": {\"color\": \"#636efa\"}, \"name\": \"November\", \"offsetgroup\": \"nov_snow\", \"orientation\": \"v\", \"showlegend\": true, \"textposition\": \"outside\", \"type\": \"bar\", \"x\": [\"Snowbird\", \"Snowbasin\", \"Big Sky\"], \"xaxis\": \"x\", \"y\": [23, 14, 17], \"yaxis\": \"y\"}, {\"alignmentgroup\": \"True\", \"hovertemplate\": \"variable=December<br>ski_resort=%{x}<br>value=%{y}<extra></extra>\", \"legendgroup\": \"December\", \"marker\": {\"color\": \"#EF553B\"}, \"name\": \"December\", \"offsetgroup\": \"dec_snow\", \"orientation\": \"v\", \"showlegend\": true, \"textposition\": \"outside\", \"type\": \"bar\", \"x\": [\"Snowbird\", \"Snowbasin\", \"Big Sky\"], \"xaxis\": \"x\", \"y\": [88, 68, 60], \"yaxis\": \"y\"}, {\"alignmentgroup\": \"True\", \"hovertemplate\": \"variable=January<br>ski_resort=%{x}<br>value=%{y}<extra></extra>\", \"legendgroup\": \"January\", \"marker\": {\"color\": \"#00cc96\"}, \"name\": \"January\", \"offsetgroup\": \"jan_snow\", \"orientation\": \"v\", \"showlegend\": true, \"textposition\": \"outside\", \"type\": \"bar\", \"x\": [\"Snowbird\", \"Snowbasin\", \"Big Sky\"], \"xaxis\": \"x\", \"y\": [95, 67, 47], \"yaxis\": \"y\"}, {\"alignmentgroup\": \"True\", \"hovertemplate\": \"variable=February<br>ski_resort=%{x}<br>value=%{y}<extra></extra>\", \"legendgroup\": \"February\", \"marker\": {\"color\": \"#ab63fa\"}, \"name\": \"February\", \"offsetgroup\": \"feb_snow\", \"orientation\": \"v\", \"showlegend\": true, \"textposition\": \"outside\", \"type\": \"bar\", \"x\": [\"Snowbird\", \"Snowbasin\", \"Big Sky\"], \"xaxis\": \"x\", \"y\": [83, 68, 57], \"yaxis\": \"y\"}, {\"alignmentgroup\": \"True\", \"hovertemplate\": \"variable=March<br>ski_resort=%{x}<br>value=%{y}<extra></extra>\", \"legendgroup\": \"March\", \"marker\": {\"color\": \"#FFA15A\"}, \"name\": \"March\", \"offsetgroup\": \"mar_snow\", \"orientation\": \"v\", \"showlegend\": true, \"textposition\": \"outside\", \"type\": \"bar\", \"x\": [\"Snowbird\", \"Snowbasin\", \"Big Sky\"], \"xaxis\": \"x\", \"y\": [77, 57, 56], \"yaxis\": \"y\"}, {\"alignmentgroup\": \"True\", \"hovertemplate\": \"variable=April<br>ski_resort=%{x}<br>value=%{y}<extra></extra>\", \"legendgroup\": \"April\", \"marker\": {\"color\": \"#19d3f3\"}, \"name\": \"April\", \"offsetgroup\": \"apr_snow\", \"orientation\": \"v\", \"showlegend\": true, \"textposition\": \"outside\", \"type\": \"bar\", \"x\": [\"Snowbird\", \"Snowbasin\", \"Big Sky\"], \"xaxis\": \"x\", \"y\": [63, 16, 34], \"yaxis\": \"y\"}],                        {\"barmode\": \"group\", \"font\": {\"size\": 14}, \"height\": 500, \"legend\": {\"title\": {\"text\": \"variable\"}, \"tracegroupgap\": 0}, \"margin\": {\"t\": 60}, \"plot_bgcolor\": \"white\", \"template\": {\"data\": {\"bar\": [{\"error_x\": {\"color\": \"#2a3f5f\"}, \"error_y\": {\"color\": \"#2a3f5f\"}, \"marker\": {\"line\": {\"color\": \"#E5ECF6\", \"width\": 0.5}}, \"type\": \"bar\"}], \"barpolar\": [{\"marker\": {\"line\": {\"color\": \"#E5ECF6\", \"width\": 0.5}}, \"type\": \"barpolar\"}], \"carpet\": [{\"aaxis\": {\"endlinecolor\": \"#2a3f5f\", \"gridcolor\": \"white\", \"linecolor\": \"white\", \"minorgridcolor\": \"white\", \"startlinecolor\": \"#2a3f5f\"}, \"baxis\": {\"endlinecolor\": \"#2a3f5f\", \"gridcolor\": \"white\", \"linecolor\": \"white\", \"minorgridcolor\": \"white\", \"startlinecolor\": \"#2a3f5f\"}, \"type\": \"carpet\"}], \"choropleth\": [{\"colorbar\": {\"outlinewidth\": 0, \"ticks\": \"\"}, \"type\": \"choropleth\"}], \"contour\": [{\"colorbar\": {\"outlinewidth\": 0, \"ticks\": \"\"}, \"colorscale\": [[0.0, \"#0d0887\"], [0.1111111111111111, \"#46039f\"], [0.2222222222222222, \"#7201a8\"], [0.3333333333333333, \"#9c179e\"], [0.4444444444444444, \"#bd3786\"], [0.5555555555555556, \"#d8576b\"], [0.6666666666666666, \"#ed7953\"], [0.7777777777777778, \"#fb9f3a\"], [0.8888888888888888, \"#fdca26\"], [1.0, \"#f0f921\"]], \"type\": \"contour\"}], \"contourcarpet\": [{\"colorbar\": {\"outlinewidth\": 0, \"ticks\": \"\"}, \"type\": \"contourcarpet\"}], \"heatmap\": [{\"colorbar\": {\"outlinewidth\": 0, \"ticks\": \"\"}, \"colorscale\": [[0.0, \"#0d0887\"], [0.1111111111111111, \"#46039f\"], [0.2222222222222222, \"#7201a8\"], [0.3333333333333333, \"#9c179e\"], [0.4444444444444444, \"#bd3786\"], [0.5555555555555556, \"#d8576b\"], [0.6666666666666666, \"#ed7953\"], [0.7777777777777778, \"#fb9f3a\"], [0.8888888888888888, \"#fdca26\"], [1.0, \"#f0f921\"]], \"type\": \"heatmap\"}], \"heatmapgl\": [{\"colorbar\": {\"outlinewidth\": 0, \"ticks\": \"\"}, \"colorscale\": [[0.0, \"#0d0887\"], [0.1111111111111111, \"#46039f\"], [0.2222222222222222, \"#7201a8\"], [0.3333333333333333, \"#9c179e\"], [0.4444444444444444, \"#bd3786\"], [0.5555555555555556, \"#d8576b\"], [0.6666666666666666, \"#ed7953\"], [0.7777777777777778, \"#fb9f3a\"], [0.8888888888888888, \"#fdca26\"], [1.0, \"#f0f921\"]], \"type\": \"heatmapgl\"}], \"histogram\": [{\"marker\": {\"colorbar\": {\"outlinewidth\": 0, \"ticks\": \"\"}}, \"type\": \"histogram\"}], \"histogram2d\": [{\"colorbar\": {\"outlinewidth\": 0, \"ticks\": \"\"}, \"colorscale\": [[0.0, \"#0d0887\"], [0.1111111111111111, \"#46039f\"], [0.2222222222222222, \"#7201a8\"], [0.3333333333333333, \"#9c179e\"], [0.4444444444444444, \"#bd3786\"], [0.5555555555555556, \"#d8576b\"], [0.6666666666666666, \"#ed7953\"], [0.7777777777777778, \"#fb9f3a\"], [0.8888888888888888, \"#fdca26\"], [1.0, \"#f0f921\"]], \"type\": \"histogram2d\"}], \"histogram2dcontour\": [{\"colorbar\": {\"outlinewidth\": 0, \"ticks\": \"\"}, \"colorscale\": [[0.0, \"#0d0887\"], [0.1111111111111111, \"#46039f\"], [0.2222222222222222, \"#7201a8\"], [0.3333333333333333, \"#9c179e\"], [0.4444444444444444, \"#bd3786\"], [0.5555555555555556, \"#d8576b\"], [0.6666666666666666, \"#ed7953\"], [0.7777777777777778, \"#fb9f3a\"], [0.8888888888888888, \"#fdca26\"], [1.0, \"#f0f921\"]], \"type\": \"histogram2dcontour\"}], \"mesh3d\": [{\"colorbar\": {\"outlinewidth\": 0, \"ticks\": \"\"}, \"type\": \"mesh3d\"}], \"parcoords\": [{\"line\": {\"colorbar\": {\"outlinewidth\": 0, \"ticks\": \"\"}}, \"type\": \"parcoords\"}], \"pie\": [{\"automargin\": true, \"type\": \"pie\"}], \"scatter\": [{\"marker\": {\"colorbar\": {\"outlinewidth\": 0, \"ticks\": \"\"}}, \"type\": \"scatter\"}], \"scatter3d\": [{\"line\": {\"colorbar\": {\"outlinewidth\": 0, \"ticks\": \"\"}}, \"marker\": {\"colorbar\": {\"outlinewidth\": 0, \"ticks\": \"\"}}, \"type\": \"scatter3d\"}], \"scattercarpet\": [{\"marker\": {\"colorbar\": {\"outlinewidth\": 0, \"ticks\": \"\"}}, \"type\": \"scattercarpet\"}], \"scattergeo\": [{\"marker\": {\"colorbar\": {\"outlinewidth\": 0, \"ticks\": \"\"}}, \"type\": \"scattergeo\"}], \"scattergl\": [{\"marker\": {\"colorbar\": {\"outlinewidth\": 0, \"ticks\": \"\"}}, \"type\": \"scattergl\"}], \"scattermapbox\": [{\"marker\": {\"colorbar\": {\"outlinewidth\": 0, \"ticks\": \"\"}}, \"type\": \"scattermapbox\"}], \"scatterpolar\": [{\"marker\": {\"colorbar\": {\"outlinewidth\": 0, \"ticks\": \"\"}}, \"type\": \"scatterpolar\"}], \"scatterpolargl\": [{\"marker\": {\"colorbar\": {\"outlinewidth\": 0, \"ticks\": \"\"}}, \"type\": \"scatterpolargl\"}], \"scatterternary\": [{\"marker\": {\"colorbar\": {\"outlinewidth\": 0, \"ticks\": \"\"}}, \"type\": \"scatterternary\"}], \"surface\": [{\"colorbar\": {\"outlinewidth\": 0, \"ticks\": \"\"}, \"colorscale\": [[0.0, \"#0d0887\"], [0.1111111111111111, \"#46039f\"], [0.2222222222222222, \"#7201a8\"], [0.3333333333333333, \"#9c179e\"], [0.4444444444444444, \"#bd3786\"], [0.5555555555555556, \"#d8576b\"], [0.6666666666666666, \"#ed7953\"], [0.7777777777777778, \"#fb9f3a\"], [0.8888888888888888, \"#fdca26\"], [1.0, \"#f0f921\"]], \"type\": \"surface\"}], \"table\": [{\"cells\": {\"fill\": {\"color\": \"#EBF0F8\"}, \"line\": {\"color\": \"white\"}}, \"header\": {\"fill\": {\"color\": \"#C8D4E3\"}, \"line\": {\"color\": \"white\"}}, \"type\": \"table\"}]}, \"layout\": {\"annotationdefaults\": {\"arrowcolor\": \"#2a3f5f\", \"arrowhead\": 0, \"arrowwidth\": 1}, \"coloraxis\": {\"colorbar\": {\"outlinewidth\": 0, \"ticks\": \"\"}}, \"colorscale\": {\"diverging\": [[0, \"#8e0152\"], [0.1, \"#c51b7d\"], [0.2, \"#de77ae\"], [0.3, \"#f1b6da\"], [0.4, \"#fde0ef\"], [0.5, \"#f7f7f7\"], [0.6, \"#e6f5d0\"], [0.7, \"#b8e186\"], [0.8, \"#7fbc41\"], [0.9, \"#4d9221\"], [1, \"#276419\"]], \"sequential\": [[0.0, \"#0d0887\"], [0.1111111111111111, \"#46039f\"], [0.2222222222222222, \"#7201a8\"], [0.3333333333333333, \"#9c179e\"], [0.4444444444444444, \"#bd3786\"], [0.5555555555555556, \"#d8576b\"], [0.6666666666666666, \"#ed7953\"], [0.7777777777777778, \"#fb9f3a\"], [0.8888888888888888, \"#fdca26\"], [1.0, \"#f0f921\"]], \"sequentialminus\": [[0.0, \"#0d0887\"], [0.1111111111111111, \"#46039f\"], [0.2222222222222222, \"#7201a8\"], [0.3333333333333333, \"#9c179e\"], [0.4444444444444444, \"#bd3786\"], [0.5555555555555556, \"#d8576b\"], [0.6666666666666666, \"#ed7953\"], [0.7777777777777778, \"#fb9f3a\"], [0.8888888888888888, \"#fdca26\"], [1.0, \"#f0f921\"]]}, \"colorway\": [\"#636efa\", \"#EF553B\", \"#00cc96\", \"#ab63fa\", \"#FFA15A\", \"#19d3f3\", \"#FF6692\", \"#B6E880\", \"#FF97FF\", \"#FECB52\"], \"font\": {\"color\": \"#2a3f5f\"}, \"geo\": {\"bgcolor\": \"white\", \"lakecolor\": \"white\", \"landcolor\": \"#E5ECF6\", \"showlakes\": true, \"showland\": true, \"subunitcolor\": \"white\"}, \"hoverlabel\": {\"align\": \"left\"}, \"hovermode\": \"closest\", \"mapbox\": {\"style\": \"light\"}, \"paper_bgcolor\": \"white\", \"plot_bgcolor\": \"#E5ECF6\", \"polar\": {\"angularaxis\": {\"gridcolor\": \"white\", \"linecolor\": \"white\", \"ticks\": \"\"}, \"bgcolor\": \"#E5ECF6\", \"radialaxis\": {\"gridcolor\": \"white\", \"linecolor\": \"white\", \"ticks\": \"\"}}, \"scene\": {\"xaxis\": {\"backgroundcolor\": \"#E5ECF6\", \"gridcolor\": \"white\", \"gridwidth\": 2, \"linecolor\": \"white\", \"showbackground\": true, \"ticks\": \"\", \"zerolinecolor\": \"white\"}, \"yaxis\": {\"backgroundcolor\": \"#E5ECF6\", \"gridcolor\": \"white\", \"gridwidth\": 2, \"linecolor\": \"white\", \"showbackground\": true, \"ticks\": \"\", \"zerolinecolor\": \"white\"}, \"zaxis\": {\"backgroundcolor\": \"#E5ECF6\", \"gridcolor\": \"white\", \"gridwidth\": 2, \"linecolor\": \"white\", \"showbackground\": true, \"ticks\": \"\", \"zerolinecolor\": \"white\"}}, \"shapedefaults\": {\"line\": {\"color\": \"#2a3f5f\"}}, \"ternary\": {\"aaxis\": {\"gridcolor\": \"white\", \"linecolor\": \"white\", \"ticks\": \"\"}, \"baxis\": {\"gridcolor\": \"white\", \"linecolor\": \"white\", \"ticks\": \"\"}, \"bgcolor\": \"#E5ECF6\", \"caxis\": {\"gridcolor\": \"white\", \"linecolor\": \"white\", \"ticks\": \"\"}}, \"title\": {\"x\": 0.05}, \"xaxis\": {\"automargin\": true, \"gridcolor\": \"white\", \"linecolor\": \"white\", \"ticks\": \"\", \"title\": {\"standoff\": 15}, \"zerolinecolor\": \"white\", \"zerolinewidth\": 2}, \"yaxis\": {\"automargin\": true, \"gridcolor\": \"white\", \"linecolor\": \"white\", \"ticks\": \"\", \"title\": {\"standoff\": 15}, \"zerolinecolor\": \"white\", \"zerolinewidth\": 2}}}, \"title\": {\"text\": \"Average Monthly Snowfall\", \"x\": 0.5}, \"width\": 1000, \"xaxis\": {\"anchor\": \"y\", \"domain\": [0.0, 1.0], \"title\": {\"text\": \"Ski Resort\"}}, \"yaxis\": {\"anchor\": \"x\", \"domain\": [0.0, 1.0], \"title\": {\"text\": \"Snowfall (in.)\"}}},                        {\"responsive\": true}                    ).then(function(){\n",
       "                            \n",
       "var gd = document.getElementById('e0d5a311-b89f-43c3-9d13-b680e9141d6d');\n",
       "var x = new MutationObserver(function (mutations, observer) {{\n",
       "        var display = window.getComputedStyle(gd).display;\n",
       "        if (!display || display === 'none') {{\n",
       "            console.log([gd, 'removed!']);\n",
       "            Plotly.purge(gd);\n",
       "            observer.disconnect();\n",
       "        }}\n",
       "}});\n",
       "\n",
       "// Listen for the removal of the full notebook cells\n",
       "var notebookContainer = gd.closest('#notebook-container');\n",
       "if (notebookContainer) {{\n",
       "    x.observe(notebookContainer, {childList: true});\n",
       "}}\n",
       "\n",
       "// Listen for the clearing of the current output cell\n",
       "var outputEl = gd.closest('.output');\n",
       "if (outputEl) {{\n",
       "    x.observe(outputEl, {childList: true});\n",
       "}}\n",
       "\n",
       "                        })                };                });            </script>        </div>"
      ]
     },
     "metadata": {},
     "output_type": "display_data"
    }
   ],
   "source": [
    "#using plotly to plot the top featurescolor=\n",
    "fig = px.bar(r_df, x=\"ski_resort\", y=['nov_snow', 'dec_snow', 'jan_snow', 'feb_snow', 'mar_snow','apr_snow'],\n",
    "            width=1000, height=500)\n",
    "fig.update_layout(title_text='Average Monthly Snowfall',\n",
    "                  title_x=0.5,\n",
    "                  xaxis_title=\"Ski Resort\",\n",
    "                  yaxis_title=\"Snowfall (in.)\",\n",
    "                 plot_bgcolor='white',\n",
    "                 font=dict(size=14),\n",
    "                 barmode='group')\n",
    "\n",
    "newnames = {\"nov_snow\":'November', \"dec_snow\": 'December',\n",
    "           \"mar_snow\":'March', \"apr_snow\": 'April', \"feb_snow\": 'February', \"jan_snow\": 'January',\n",
    "           \"feb_snow\": 'February'}\n",
    "\n",
    "fig.for_each_trace(lambda t: t.update(name = newnames[t.name],\n",
    "                                      legendgroup = newnames[t.name],\n",
    "                                       hovertemplate = t.hovertemplate.replace(t.name, newnames[t.name])\n",
    "                                     )\n",
    "                  )\n",
    "fig.update_traces(textposition='outside')               \n",
    "              \n",
    "fig.show()"
   ]
  },
  {
   "cell_type": "code",
   "execution_count": 87,
   "metadata": {},
   "outputs": [
    {
     "data": {
      "application/vnd.plotly.v1+json": {
       "config": {
        "plotlyServerURL": "https://plot.ly"
       },
       "data": [
        {
         "alignmentgroup": "True",
         "hovertemplate": "variable=2 Guest<br>ski_resort=%{x}<br>value=%{y}<extra></extra>",
         "legendgroup": "2 Guest",
         "marker": {
          "color": "#636efa"
         },
         "name": "2 Guest",
         "offsetgroup": "dec_mean_2_guests",
         "orientation": "v",
         "showlegend": true,
         "textposition": "outside",
         "type": "bar",
         "x": [
          "Snowbird",
          "Snowbasin",
          "Big Sky"
         ],
         "xaxis": "x",
         "y": [
          240,
          215,
          208
         ],
         "yaxis": "y"
        },
        {
         "alignmentgroup": "True",
         "hovertemplate": "variable=4 Guest<br>ski_resort=%{x}<br>value=%{y}<extra></extra>",
         "legendgroup": "4 Guest",
         "marker": {
          "color": "#EF553B"
         },
         "name": "4 Guest",
         "offsetgroup": "dec_mean_4_guests",
         "orientation": "v",
         "showlegend": true,
         "textposition": "outside",
         "type": "bar",
         "x": [
          "Snowbird",
          "Snowbasin",
          "Big Sky"
         ],
         "xaxis": "x",
         "y": [
          331,
          240,
          314
         ],
         "yaxis": "y"
        }
       ],
       "layout": {
        "barmode": "group",
        "font": {
         "size": 14
        },
        "height": 500,
        "legend": {
         "title": {
          "text": "variable"
         },
         "tracegroupgap": 0
        },
        "margin": {
         "t": 60
        },
        "plot_bgcolor": "white",
        "template": {
         "data": {
          "bar": [
           {
            "error_x": {
             "color": "#2a3f5f"
            },
            "error_y": {
             "color": "#2a3f5f"
            },
            "marker": {
             "line": {
              "color": "#E5ECF6",
              "width": 0.5
             }
            },
            "type": "bar"
           }
          ],
          "barpolar": [
           {
            "marker": {
             "line": {
              "color": "#E5ECF6",
              "width": 0.5
             }
            },
            "type": "barpolar"
           }
          ],
          "carpet": [
           {
            "aaxis": {
             "endlinecolor": "#2a3f5f",
             "gridcolor": "white",
             "linecolor": "white",
             "minorgridcolor": "white",
             "startlinecolor": "#2a3f5f"
            },
            "baxis": {
             "endlinecolor": "#2a3f5f",
             "gridcolor": "white",
             "linecolor": "white",
             "minorgridcolor": "white",
             "startlinecolor": "#2a3f5f"
            },
            "type": "carpet"
           }
          ],
          "choropleth": [
           {
            "colorbar": {
             "outlinewidth": 0,
             "ticks": ""
            },
            "type": "choropleth"
           }
          ],
          "contour": [
           {
            "colorbar": {
             "outlinewidth": 0,
             "ticks": ""
            },
            "colorscale": [
             [
              0,
              "#0d0887"
             ],
             [
              0.1111111111111111,
              "#46039f"
             ],
             [
              0.2222222222222222,
              "#7201a8"
             ],
             [
              0.3333333333333333,
              "#9c179e"
             ],
             [
              0.4444444444444444,
              "#bd3786"
             ],
             [
              0.5555555555555556,
              "#d8576b"
             ],
             [
              0.6666666666666666,
              "#ed7953"
             ],
             [
              0.7777777777777778,
              "#fb9f3a"
             ],
             [
              0.8888888888888888,
              "#fdca26"
             ],
             [
              1,
              "#f0f921"
             ]
            ],
            "type": "contour"
           }
          ],
          "contourcarpet": [
           {
            "colorbar": {
             "outlinewidth": 0,
             "ticks": ""
            },
            "type": "contourcarpet"
           }
          ],
          "heatmap": [
           {
            "colorbar": {
             "outlinewidth": 0,
             "ticks": ""
            },
            "colorscale": [
             [
              0,
              "#0d0887"
             ],
             [
              0.1111111111111111,
              "#46039f"
             ],
             [
              0.2222222222222222,
              "#7201a8"
             ],
             [
              0.3333333333333333,
              "#9c179e"
             ],
             [
              0.4444444444444444,
              "#bd3786"
             ],
             [
              0.5555555555555556,
              "#d8576b"
             ],
             [
              0.6666666666666666,
              "#ed7953"
             ],
             [
              0.7777777777777778,
              "#fb9f3a"
             ],
             [
              0.8888888888888888,
              "#fdca26"
             ],
             [
              1,
              "#f0f921"
             ]
            ],
            "type": "heatmap"
           }
          ],
          "heatmapgl": [
           {
            "colorbar": {
             "outlinewidth": 0,
             "ticks": ""
            },
            "colorscale": [
             [
              0,
              "#0d0887"
             ],
             [
              0.1111111111111111,
              "#46039f"
             ],
             [
              0.2222222222222222,
              "#7201a8"
             ],
             [
              0.3333333333333333,
              "#9c179e"
             ],
             [
              0.4444444444444444,
              "#bd3786"
             ],
             [
              0.5555555555555556,
              "#d8576b"
             ],
             [
              0.6666666666666666,
              "#ed7953"
             ],
             [
              0.7777777777777778,
              "#fb9f3a"
             ],
             [
              0.8888888888888888,
              "#fdca26"
             ],
             [
              1,
              "#f0f921"
             ]
            ],
            "type": "heatmapgl"
           }
          ],
          "histogram": [
           {
            "marker": {
             "colorbar": {
              "outlinewidth": 0,
              "ticks": ""
             }
            },
            "type": "histogram"
           }
          ],
          "histogram2d": [
           {
            "colorbar": {
             "outlinewidth": 0,
             "ticks": ""
            },
            "colorscale": [
             [
              0,
              "#0d0887"
             ],
             [
              0.1111111111111111,
              "#46039f"
             ],
             [
              0.2222222222222222,
              "#7201a8"
             ],
             [
              0.3333333333333333,
              "#9c179e"
             ],
             [
              0.4444444444444444,
              "#bd3786"
             ],
             [
              0.5555555555555556,
              "#d8576b"
             ],
             [
              0.6666666666666666,
              "#ed7953"
             ],
             [
              0.7777777777777778,
              "#fb9f3a"
             ],
             [
              0.8888888888888888,
              "#fdca26"
             ],
             [
              1,
              "#f0f921"
             ]
            ],
            "type": "histogram2d"
           }
          ],
          "histogram2dcontour": [
           {
            "colorbar": {
             "outlinewidth": 0,
             "ticks": ""
            },
            "colorscale": [
             [
              0,
              "#0d0887"
             ],
             [
              0.1111111111111111,
              "#46039f"
             ],
             [
              0.2222222222222222,
              "#7201a8"
             ],
             [
              0.3333333333333333,
              "#9c179e"
             ],
             [
              0.4444444444444444,
              "#bd3786"
             ],
             [
              0.5555555555555556,
              "#d8576b"
             ],
             [
              0.6666666666666666,
              "#ed7953"
             ],
             [
              0.7777777777777778,
              "#fb9f3a"
             ],
             [
              0.8888888888888888,
              "#fdca26"
             ],
             [
              1,
              "#f0f921"
             ]
            ],
            "type": "histogram2dcontour"
           }
          ],
          "mesh3d": [
           {
            "colorbar": {
             "outlinewidth": 0,
             "ticks": ""
            },
            "type": "mesh3d"
           }
          ],
          "parcoords": [
           {
            "line": {
             "colorbar": {
              "outlinewidth": 0,
              "ticks": ""
             }
            },
            "type": "parcoords"
           }
          ],
          "pie": [
           {
            "automargin": true,
            "type": "pie"
           }
          ],
          "scatter": [
           {
            "marker": {
             "colorbar": {
              "outlinewidth": 0,
              "ticks": ""
             }
            },
            "type": "scatter"
           }
          ],
          "scatter3d": [
           {
            "line": {
             "colorbar": {
              "outlinewidth": 0,
              "ticks": ""
             }
            },
            "marker": {
             "colorbar": {
              "outlinewidth": 0,
              "ticks": ""
             }
            },
            "type": "scatter3d"
           }
          ],
          "scattercarpet": [
           {
            "marker": {
             "colorbar": {
              "outlinewidth": 0,
              "ticks": ""
             }
            },
            "type": "scattercarpet"
           }
          ],
          "scattergeo": [
           {
            "marker": {
             "colorbar": {
              "outlinewidth": 0,
              "ticks": ""
             }
            },
            "type": "scattergeo"
           }
          ],
          "scattergl": [
           {
            "marker": {
             "colorbar": {
              "outlinewidth": 0,
              "ticks": ""
             }
            },
            "type": "scattergl"
           }
          ],
          "scattermapbox": [
           {
            "marker": {
             "colorbar": {
              "outlinewidth": 0,
              "ticks": ""
             }
            },
            "type": "scattermapbox"
           }
          ],
          "scatterpolar": [
           {
            "marker": {
             "colorbar": {
              "outlinewidth": 0,
              "ticks": ""
             }
            },
            "type": "scatterpolar"
           }
          ],
          "scatterpolargl": [
           {
            "marker": {
             "colorbar": {
              "outlinewidth": 0,
              "ticks": ""
             }
            },
            "type": "scatterpolargl"
           }
          ],
          "scatterternary": [
           {
            "marker": {
             "colorbar": {
              "outlinewidth": 0,
              "ticks": ""
             }
            },
            "type": "scatterternary"
           }
          ],
          "surface": [
           {
            "colorbar": {
             "outlinewidth": 0,
             "ticks": ""
            },
            "colorscale": [
             [
              0,
              "#0d0887"
             ],
             [
              0.1111111111111111,
              "#46039f"
             ],
             [
              0.2222222222222222,
              "#7201a8"
             ],
             [
              0.3333333333333333,
              "#9c179e"
             ],
             [
              0.4444444444444444,
              "#bd3786"
             ],
             [
              0.5555555555555556,
              "#d8576b"
             ],
             [
              0.6666666666666666,
              "#ed7953"
             ],
             [
              0.7777777777777778,
              "#fb9f3a"
             ],
             [
              0.8888888888888888,
              "#fdca26"
             ],
             [
              1,
              "#f0f921"
             ]
            ],
            "type": "surface"
           }
          ],
          "table": [
           {
            "cells": {
             "fill": {
              "color": "#EBF0F8"
             },
             "line": {
              "color": "white"
             }
            },
            "header": {
             "fill": {
              "color": "#C8D4E3"
             },
             "line": {
              "color": "white"
             }
            },
            "type": "table"
           }
          ]
         },
         "layout": {
          "annotationdefaults": {
           "arrowcolor": "#2a3f5f",
           "arrowhead": 0,
           "arrowwidth": 1
          },
          "coloraxis": {
           "colorbar": {
            "outlinewidth": 0,
            "ticks": ""
           }
          },
          "colorscale": {
           "diverging": [
            [
             0,
             "#8e0152"
            ],
            [
             0.1,
             "#c51b7d"
            ],
            [
             0.2,
             "#de77ae"
            ],
            [
             0.3,
             "#f1b6da"
            ],
            [
             0.4,
             "#fde0ef"
            ],
            [
             0.5,
             "#f7f7f7"
            ],
            [
             0.6,
             "#e6f5d0"
            ],
            [
             0.7,
             "#b8e186"
            ],
            [
             0.8,
             "#7fbc41"
            ],
            [
             0.9,
             "#4d9221"
            ],
            [
             1,
             "#276419"
            ]
           ],
           "sequential": [
            [
             0,
             "#0d0887"
            ],
            [
             0.1111111111111111,
             "#46039f"
            ],
            [
             0.2222222222222222,
             "#7201a8"
            ],
            [
             0.3333333333333333,
             "#9c179e"
            ],
            [
             0.4444444444444444,
             "#bd3786"
            ],
            [
             0.5555555555555556,
             "#d8576b"
            ],
            [
             0.6666666666666666,
             "#ed7953"
            ],
            [
             0.7777777777777778,
             "#fb9f3a"
            ],
            [
             0.8888888888888888,
             "#fdca26"
            ],
            [
             1,
             "#f0f921"
            ]
           ],
           "sequentialminus": [
            [
             0,
             "#0d0887"
            ],
            [
             0.1111111111111111,
             "#46039f"
            ],
            [
             0.2222222222222222,
             "#7201a8"
            ],
            [
             0.3333333333333333,
             "#9c179e"
            ],
            [
             0.4444444444444444,
             "#bd3786"
            ],
            [
             0.5555555555555556,
             "#d8576b"
            ],
            [
             0.6666666666666666,
             "#ed7953"
            ],
            [
             0.7777777777777778,
             "#fb9f3a"
            ],
            [
             0.8888888888888888,
             "#fdca26"
            ],
            [
             1,
             "#f0f921"
            ]
           ]
          },
          "colorway": [
           "#636efa",
           "#EF553B",
           "#00cc96",
           "#ab63fa",
           "#FFA15A",
           "#19d3f3",
           "#FF6692",
           "#B6E880",
           "#FF97FF",
           "#FECB52"
          ],
          "font": {
           "color": "#2a3f5f"
          },
          "geo": {
           "bgcolor": "white",
           "lakecolor": "white",
           "landcolor": "#E5ECF6",
           "showlakes": true,
           "showland": true,
           "subunitcolor": "white"
          },
          "hoverlabel": {
           "align": "left"
          },
          "hovermode": "closest",
          "mapbox": {
           "style": "light"
          },
          "paper_bgcolor": "white",
          "plot_bgcolor": "#E5ECF6",
          "polar": {
           "angularaxis": {
            "gridcolor": "white",
            "linecolor": "white",
            "ticks": ""
           },
           "bgcolor": "#E5ECF6",
           "radialaxis": {
            "gridcolor": "white",
            "linecolor": "white",
            "ticks": ""
           }
          },
          "scene": {
           "xaxis": {
            "backgroundcolor": "#E5ECF6",
            "gridcolor": "white",
            "gridwidth": 2,
            "linecolor": "white",
            "showbackground": true,
            "ticks": "",
            "zerolinecolor": "white"
           },
           "yaxis": {
            "backgroundcolor": "#E5ECF6",
            "gridcolor": "white",
            "gridwidth": 2,
            "linecolor": "white",
            "showbackground": true,
            "ticks": "",
            "zerolinecolor": "white"
           },
           "zaxis": {
            "backgroundcolor": "#E5ECF6",
            "gridcolor": "white",
            "gridwidth": 2,
            "linecolor": "white",
            "showbackground": true,
            "ticks": "",
            "zerolinecolor": "white"
           }
          },
          "shapedefaults": {
           "line": {
            "color": "#2a3f5f"
           }
          },
          "ternary": {
           "aaxis": {
            "gridcolor": "white",
            "linecolor": "white",
            "ticks": ""
           },
           "baxis": {
            "gridcolor": "white",
            "linecolor": "white",
            "ticks": ""
           },
           "bgcolor": "#E5ECF6",
           "caxis": {
            "gridcolor": "white",
            "linecolor": "white",
            "ticks": ""
           }
          },
          "title": {
           "x": 0.05
          },
          "xaxis": {
           "automargin": true,
           "gridcolor": "white",
           "linecolor": "white",
           "ticks": "",
           "title": {
            "standoff": 15
           },
           "zerolinecolor": "white",
           "zerolinewidth": 2
          },
          "yaxis": {
           "automargin": true,
           "gridcolor": "white",
           "linecolor": "white",
           "ticks": "",
           "title": {
            "standoff": 15
           },
           "zerolinecolor": "white",
           "zerolinewidth": 2
          }
         }
        },
        "title": {
         "text": "December Airbnb Costs",
         "x": 0.5
        },
        "width": 1000,
        "xaxis": {
         "anchor": "y",
         "domain": [
          0,
          1
         ],
         "title": {
          "text": "Vertical"
         }
        },
        "yaxis": {
         "anchor": "x",
         "domain": [
          0,
          1
         ],
         "title": {
          "text": "Nightly Price ($)"
         }
        }
       }
      },
      "text/html": [
       "<div>                            <div id=\"7173a0f2-e592-4f0b-b851-a8a716607326\" class=\"plotly-graph-div\" style=\"height:500px; width:1000px;\"></div>            <script type=\"text/javascript\">                require([\"plotly\"], function(Plotly) {                    window.PLOTLYENV=window.PLOTLYENV || {};                                    if (document.getElementById(\"7173a0f2-e592-4f0b-b851-a8a716607326\")) {                    Plotly.newPlot(                        \"7173a0f2-e592-4f0b-b851-a8a716607326\",                        [{\"alignmentgroup\": \"True\", \"hovertemplate\": \"variable=2 Guest<br>ski_resort=%{x}<br>value=%{y}<extra></extra>\", \"legendgroup\": \"2 Guest\", \"marker\": {\"color\": \"#636efa\"}, \"name\": \"2 Guest\", \"offsetgroup\": \"dec_mean_2_guests\", \"orientation\": \"v\", \"showlegend\": true, \"textposition\": \"outside\", \"type\": \"bar\", \"x\": [\"Snowbird\", \"Snowbasin\", \"Big Sky\"], \"xaxis\": \"x\", \"y\": [240, 215, 208], \"yaxis\": \"y\"}, {\"alignmentgroup\": \"True\", \"hovertemplate\": \"variable=4 Guest<br>ski_resort=%{x}<br>value=%{y}<extra></extra>\", \"legendgroup\": \"4 Guest\", \"marker\": {\"color\": \"#EF553B\"}, \"name\": \"4 Guest\", \"offsetgroup\": \"dec_mean_4_guests\", \"orientation\": \"v\", \"showlegend\": true, \"textposition\": \"outside\", \"type\": \"bar\", \"x\": [\"Snowbird\", \"Snowbasin\", \"Big Sky\"], \"xaxis\": \"x\", \"y\": [331, 240, 314], \"yaxis\": \"y\"}],                        {\"barmode\": \"group\", \"font\": {\"size\": 14}, \"height\": 500, \"legend\": {\"title\": {\"text\": \"variable\"}, \"tracegroupgap\": 0}, \"margin\": {\"t\": 60}, \"plot_bgcolor\": \"white\", \"template\": {\"data\": {\"bar\": [{\"error_x\": {\"color\": \"#2a3f5f\"}, \"error_y\": {\"color\": \"#2a3f5f\"}, \"marker\": {\"line\": {\"color\": \"#E5ECF6\", \"width\": 0.5}}, \"type\": \"bar\"}], \"barpolar\": [{\"marker\": {\"line\": {\"color\": \"#E5ECF6\", \"width\": 0.5}}, \"type\": \"barpolar\"}], \"carpet\": [{\"aaxis\": {\"endlinecolor\": \"#2a3f5f\", \"gridcolor\": \"white\", \"linecolor\": \"white\", \"minorgridcolor\": \"white\", \"startlinecolor\": \"#2a3f5f\"}, \"baxis\": {\"endlinecolor\": \"#2a3f5f\", \"gridcolor\": \"white\", \"linecolor\": \"white\", \"minorgridcolor\": \"white\", \"startlinecolor\": \"#2a3f5f\"}, \"type\": \"carpet\"}], \"choropleth\": [{\"colorbar\": {\"outlinewidth\": 0, \"ticks\": \"\"}, \"type\": \"choropleth\"}], \"contour\": [{\"colorbar\": {\"outlinewidth\": 0, \"ticks\": \"\"}, \"colorscale\": [[0.0, \"#0d0887\"], [0.1111111111111111, \"#46039f\"], [0.2222222222222222, \"#7201a8\"], [0.3333333333333333, \"#9c179e\"], [0.4444444444444444, \"#bd3786\"], [0.5555555555555556, \"#d8576b\"], [0.6666666666666666, \"#ed7953\"], [0.7777777777777778, \"#fb9f3a\"], [0.8888888888888888, \"#fdca26\"], [1.0, \"#f0f921\"]], \"type\": \"contour\"}], \"contourcarpet\": [{\"colorbar\": {\"outlinewidth\": 0, \"ticks\": \"\"}, \"type\": \"contourcarpet\"}], \"heatmap\": [{\"colorbar\": {\"outlinewidth\": 0, \"ticks\": \"\"}, \"colorscale\": [[0.0, \"#0d0887\"], [0.1111111111111111, \"#46039f\"], [0.2222222222222222, \"#7201a8\"], [0.3333333333333333, \"#9c179e\"], [0.4444444444444444, \"#bd3786\"], [0.5555555555555556, \"#d8576b\"], [0.6666666666666666, \"#ed7953\"], [0.7777777777777778, \"#fb9f3a\"], [0.8888888888888888, \"#fdca26\"], [1.0, \"#f0f921\"]], \"type\": \"heatmap\"}], \"heatmapgl\": [{\"colorbar\": {\"outlinewidth\": 0, \"ticks\": \"\"}, \"colorscale\": [[0.0, \"#0d0887\"], [0.1111111111111111, \"#46039f\"], [0.2222222222222222, \"#7201a8\"], [0.3333333333333333, \"#9c179e\"], [0.4444444444444444, \"#bd3786\"], [0.5555555555555556, \"#d8576b\"], [0.6666666666666666, \"#ed7953\"], [0.7777777777777778, \"#fb9f3a\"], [0.8888888888888888, \"#fdca26\"], [1.0, \"#f0f921\"]], \"type\": \"heatmapgl\"}], \"histogram\": [{\"marker\": {\"colorbar\": {\"outlinewidth\": 0, \"ticks\": \"\"}}, \"type\": \"histogram\"}], \"histogram2d\": [{\"colorbar\": {\"outlinewidth\": 0, \"ticks\": \"\"}, \"colorscale\": [[0.0, \"#0d0887\"], [0.1111111111111111, \"#46039f\"], [0.2222222222222222, \"#7201a8\"], [0.3333333333333333, \"#9c179e\"], [0.4444444444444444, \"#bd3786\"], [0.5555555555555556, \"#d8576b\"], [0.6666666666666666, \"#ed7953\"], [0.7777777777777778, \"#fb9f3a\"], [0.8888888888888888, \"#fdca26\"], [1.0, \"#f0f921\"]], \"type\": \"histogram2d\"}], \"histogram2dcontour\": [{\"colorbar\": {\"outlinewidth\": 0, \"ticks\": \"\"}, \"colorscale\": [[0.0, \"#0d0887\"], [0.1111111111111111, \"#46039f\"], [0.2222222222222222, \"#7201a8\"], [0.3333333333333333, \"#9c179e\"], [0.4444444444444444, \"#bd3786\"], [0.5555555555555556, \"#d8576b\"], [0.6666666666666666, \"#ed7953\"], [0.7777777777777778, \"#fb9f3a\"], [0.8888888888888888, \"#fdca26\"], [1.0, \"#f0f921\"]], \"type\": \"histogram2dcontour\"}], \"mesh3d\": [{\"colorbar\": {\"outlinewidth\": 0, \"ticks\": \"\"}, \"type\": \"mesh3d\"}], \"parcoords\": [{\"line\": {\"colorbar\": {\"outlinewidth\": 0, \"ticks\": \"\"}}, \"type\": \"parcoords\"}], \"pie\": [{\"automargin\": true, \"type\": \"pie\"}], \"scatter\": [{\"marker\": {\"colorbar\": {\"outlinewidth\": 0, \"ticks\": \"\"}}, \"type\": \"scatter\"}], \"scatter3d\": [{\"line\": {\"colorbar\": {\"outlinewidth\": 0, \"ticks\": \"\"}}, \"marker\": {\"colorbar\": {\"outlinewidth\": 0, \"ticks\": \"\"}}, \"type\": \"scatter3d\"}], \"scattercarpet\": [{\"marker\": {\"colorbar\": {\"outlinewidth\": 0, \"ticks\": \"\"}}, \"type\": \"scattercarpet\"}], \"scattergeo\": [{\"marker\": {\"colorbar\": {\"outlinewidth\": 0, \"ticks\": \"\"}}, \"type\": \"scattergeo\"}], \"scattergl\": [{\"marker\": {\"colorbar\": {\"outlinewidth\": 0, \"ticks\": \"\"}}, \"type\": \"scattergl\"}], \"scattermapbox\": [{\"marker\": {\"colorbar\": {\"outlinewidth\": 0, \"ticks\": \"\"}}, \"type\": \"scattermapbox\"}], \"scatterpolar\": [{\"marker\": {\"colorbar\": {\"outlinewidth\": 0, \"ticks\": \"\"}}, \"type\": \"scatterpolar\"}], \"scatterpolargl\": [{\"marker\": {\"colorbar\": {\"outlinewidth\": 0, \"ticks\": \"\"}}, \"type\": \"scatterpolargl\"}], \"scatterternary\": [{\"marker\": {\"colorbar\": {\"outlinewidth\": 0, \"ticks\": \"\"}}, \"type\": \"scatterternary\"}], \"surface\": [{\"colorbar\": {\"outlinewidth\": 0, \"ticks\": \"\"}, \"colorscale\": [[0.0, \"#0d0887\"], [0.1111111111111111, \"#46039f\"], [0.2222222222222222, \"#7201a8\"], [0.3333333333333333, \"#9c179e\"], [0.4444444444444444, \"#bd3786\"], [0.5555555555555556, \"#d8576b\"], [0.6666666666666666, \"#ed7953\"], [0.7777777777777778, \"#fb9f3a\"], [0.8888888888888888, \"#fdca26\"], [1.0, \"#f0f921\"]], \"type\": \"surface\"}], \"table\": [{\"cells\": {\"fill\": {\"color\": \"#EBF0F8\"}, \"line\": {\"color\": \"white\"}}, \"header\": {\"fill\": {\"color\": \"#C8D4E3\"}, \"line\": {\"color\": \"white\"}}, \"type\": \"table\"}]}, \"layout\": {\"annotationdefaults\": {\"arrowcolor\": \"#2a3f5f\", \"arrowhead\": 0, \"arrowwidth\": 1}, \"coloraxis\": {\"colorbar\": {\"outlinewidth\": 0, \"ticks\": \"\"}}, \"colorscale\": {\"diverging\": [[0, \"#8e0152\"], [0.1, \"#c51b7d\"], [0.2, \"#de77ae\"], [0.3, \"#f1b6da\"], [0.4, \"#fde0ef\"], [0.5, \"#f7f7f7\"], [0.6, \"#e6f5d0\"], [0.7, \"#b8e186\"], [0.8, \"#7fbc41\"], [0.9, \"#4d9221\"], [1, \"#276419\"]], \"sequential\": [[0.0, \"#0d0887\"], [0.1111111111111111, \"#46039f\"], [0.2222222222222222, \"#7201a8\"], [0.3333333333333333, \"#9c179e\"], [0.4444444444444444, \"#bd3786\"], [0.5555555555555556, \"#d8576b\"], [0.6666666666666666, \"#ed7953\"], [0.7777777777777778, \"#fb9f3a\"], [0.8888888888888888, \"#fdca26\"], [1.0, \"#f0f921\"]], \"sequentialminus\": [[0.0, \"#0d0887\"], [0.1111111111111111, \"#46039f\"], [0.2222222222222222, \"#7201a8\"], [0.3333333333333333, \"#9c179e\"], [0.4444444444444444, \"#bd3786\"], [0.5555555555555556, \"#d8576b\"], [0.6666666666666666, \"#ed7953\"], [0.7777777777777778, \"#fb9f3a\"], [0.8888888888888888, \"#fdca26\"], [1.0, \"#f0f921\"]]}, \"colorway\": [\"#636efa\", \"#EF553B\", \"#00cc96\", \"#ab63fa\", \"#FFA15A\", \"#19d3f3\", \"#FF6692\", \"#B6E880\", \"#FF97FF\", \"#FECB52\"], \"font\": {\"color\": \"#2a3f5f\"}, \"geo\": {\"bgcolor\": \"white\", \"lakecolor\": \"white\", \"landcolor\": \"#E5ECF6\", \"showlakes\": true, \"showland\": true, \"subunitcolor\": \"white\"}, \"hoverlabel\": {\"align\": \"left\"}, \"hovermode\": \"closest\", \"mapbox\": {\"style\": \"light\"}, \"paper_bgcolor\": \"white\", \"plot_bgcolor\": \"#E5ECF6\", \"polar\": {\"angularaxis\": {\"gridcolor\": \"white\", \"linecolor\": \"white\", \"ticks\": \"\"}, \"bgcolor\": \"#E5ECF6\", \"radialaxis\": {\"gridcolor\": \"white\", \"linecolor\": \"white\", \"ticks\": \"\"}}, \"scene\": {\"xaxis\": {\"backgroundcolor\": \"#E5ECF6\", \"gridcolor\": \"white\", \"gridwidth\": 2, \"linecolor\": \"white\", \"showbackground\": true, \"ticks\": \"\", \"zerolinecolor\": \"white\"}, \"yaxis\": {\"backgroundcolor\": \"#E5ECF6\", \"gridcolor\": \"white\", \"gridwidth\": 2, \"linecolor\": \"white\", \"showbackground\": true, \"ticks\": \"\", \"zerolinecolor\": \"white\"}, \"zaxis\": {\"backgroundcolor\": \"#E5ECF6\", \"gridcolor\": \"white\", \"gridwidth\": 2, \"linecolor\": \"white\", \"showbackground\": true, \"ticks\": \"\", \"zerolinecolor\": \"white\"}}, \"shapedefaults\": {\"line\": {\"color\": \"#2a3f5f\"}}, \"ternary\": {\"aaxis\": {\"gridcolor\": \"white\", \"linecolor\": \"white\", \"ticks\": \"\"}, \"baxis\": {\"gridcolor\": \"white\", \"linecolor\": \"white\", \"ticks\": \"\"}, \"bgcolor\": \"#E5ECF6\", \"caxis\": {\"gridcolor\": \"white\", \"linecolor\": \"white\", \"ticks\": \"\"}}, \"title\": {\"x\": 0.05}, \"xaxis\": {\"automargin\": true, \"gridcolor\": \"white\", \"linecolor\": \"white\", \"ticks\": \"\", \"title\": {\"standoff\": 15}, \"zerolinecolor\": \"white\", \"zerolinewidth\": 2}, \"yaxis\": {\"automargin\": true, \"gridcolor\": \"white\", \"linecolor\": \"white\", \"ticks\": \"\", \"title\": {\"standoff\": 15}, \"zerolinecolor\": \"white\", \"zerolinewidth\": 2}}}, \"title\": {\"text\": \"December Airbnb Costs\", \"x\": 0.5}, \"width\": 1000, \"xaxis\": {\"anchor\": \"y\", \"domain\": [0.0, 1.0], \"title\": {\"text\": \"Vertical\"}}, \"yaxis\": {\"anchor\": \"x\", \"domain\": [0.0, 1.0], \"title\": {\"text\": \"Nightly Price ($)\"}}},                        {\"responsive\": true}                    ).then(function(){\n",
       "                            \n",
       "var gd = document.getElementById('7173a0f2-e592-4f0b-b851-a8a716607326');\n",
       "var x = new MutationObserver(function (mutations, observer) {{\n",
       "        var display = window.getComputedStyle(gd).display;\n",
       "        if (!display || display === 'none') {{\n",
       "            console.log([gd, 'removed!']);\n",
       "            Plotly.purge(gd);\n",
       "            observer.disconnect();\n",
       "        }}\n",
       "}});\n",
       "\n",
       "// Listen for the removal of the full notebook cells\n",
       "var notebookContainer = gd.closest('#notebook-container');\n",
       "if (notebookContainer) {{\n",
       "    x.observe(notebookContainer, {childList: true});\n",
       "}}\n",
       "\n",
       "// Listen for the clearing of the current output cell\n",
       "var outputEl = gd.closest('.output');\n",
       "if (outputEl) {{\n",
       "    x.observe(outputEl, {childList: true});\n",
       "}}\n",
       "\n",
       "                        })                };                });            </script>        </div>"
      ]
     },
     "metadata": {},
     "output_type": "display_data"
    }
   ],
   "source": [
    "#using plotly to plot the top featurescolor=\n",
    "fig = px.bar(r_df, x=\"ski_resort\", y=[\"dec_mean_2_guests\", \"dec_mean_4_guests\"],\n",
    "            width=1000, height=500)\n",
    "fig.update_layout(title_text='December Airbnb Costs',\n",
    "                  title_x=0.5,\n",
    "                  xaxis_title=\"Vertical\",\n",
    "                  yaxis_title=\"Nightly Price ($)\",\n",
    "                 plot_bgcolor='white',\n",
    "                 font=dict(size=14),\n",
    "                 barmode='group')\n",
    "\n",
    "newnames = {'dec_mean_2_guests':'2 Guest', 'dec_mean_4_guests': '4 Guest'}\n",
    "fig.for_each_trace(lambda t: t.update(name = newnames[t.name],\n",
    "                                      legendgroup = newnames[t.name],\n",
    "                                      hovertemplate = t.hovertemplate.replace(t.name, newnames[t.name])\n",
    "                                     )\n",
    "                  )\n",
    "\n",
    "fig.update_traces(textposition='outside')               \n",
    "              \n",
    "fig.show()"
   ]
  },
  {
   "cell_type": "code",
   "execution_count": 88,
   "metadata": {},
   "outputs": [
    {
     "data": {
      "application/vnd.plotly.v1+json": {
       "config": {
        "plotlyServerURL": "https://plot.ly"
       },
       "data": [
        {
         "alignmentgroup": "True",
         "hovertemplate": "variable=base<br>ski_resort=%{x}<br>value=%{y}<extra></extra>",
         "legendgroup": "base",
         "marker": {
          "color": "#636efa"
         },
         "name": "base",
         "offsetgroup": "base",
         "orientation": "v",
         "showlegend": true,
         "textposition": "outside",
         "type": "bar",
         "x": [
          "Snowbird",
          "Snowbasin",
          "Big Sky"
         ],
         "xaxis": "x",
         "y": [
          7760,
          6450,
          7500
         ],
         "yaxis": "y"
        },
        {
         "alignmentgroup": "True",
         "hovertemplate": "variable=summit<br>ski_resort=%{x}<br>value=%{y}<extra></extra>",
         "legendgroup": "summit",
         "marker": {
          "color": "#EF553B"
         },
         "name": "summit",
         "offsetgroup": "summit",
         "orientation": "v",
         "showlegend": true,
         "textposition": "outside",
         "type": "bar",
         "x": [
          "Snowbird",
          "Snowbasin",
          "Big Sky"
         ],
         "xaxis": "x",
         "y": [
          11000,
          9350,
          11166
         ],
         "yaxis": "y"
        },
        {
         "alignmentgroup": "True",
         "hovertemplate": "variable=drop<br>ski_resort=%{x}<br>value=%{y}<extra></extra>",
         "legendgroup": "drop",
         "marker": {
          "color": "#00cc96"
         },
         "name": "drop",
         "offsetgroup": "drop",
         "orientation": "v",
         "showlegend": true,
         "textposition": "outside",
         "type": "bar",
         "x": [
          "Snowbird",
          "Snowbasin",
          "Big Sky"
         ],
         "xaxis": "x",
         "y": [
          3240,
          2900,
          4350
         ],
         "yaxis": "y"
        }
       ],
       "layout": {
        "barmode": "group",
        "font": {
         "size": 14
        },
        "height": 500,
        "legend": {
         "title": {
          "text": "variable"
         },
         "tracegroupgap": 0
        },
        "margin": {
         "t": 60
        },
        "plot_bgcolor": "white",
        "template": {
         "data": {
          "bar": [
           {
            "error_x": {
             "color": "#2a3f5f"
            },
            "error_y": {
             "color": "#2a3f5f"
            },
            "marker": {
             "line": {
              "color": "#E5ECF6",
              "width": 0.5
             }
            },
            "type": "bar"
           }
          ],
          "barpolar": [
           {
            "marker": {
             "line": {
              "color": "#E5ECF6",
              "width": 0.5
             }
            },
            "type": "barpolar"
           }
          ],
          "carpet": [
           {
            "aaxis": {
             "endlinecolor": "#2a3f5f",
             "gridcolor": "white",
             "linecolor": "white",
             "minorgridcolor": "white",
             "startlinecolor": "#2a3f5f"
            },
            "baxis": {
             "endlinecolor": "#2a3f5f",
             "gridcolor": "white",
             "linecolor": "white",
             "minorgridcolor": "white",
             "startlinecolor": "#2a3f5f"
            },
            "type": "carpet"
           }
          ],
          "choropleth": [
           {
            "colorbar": {
             "outlinewidth": 0,
             "ticks": ""
            },
            "type": "choropleth"
           }
          ],
          "contour": [
           {
            "colorbar": {
             "outlinewidth": 0,
             "ticks": ""
            },
            "colorscale": [
             [
              0,
              "#0d0887"
             ],
             [
              0.1111111111111111,
              "#46039f"
             ],
             [
              0.2222222222222222,
              "#7201a8"
             ],
             [
              0.3333333333333333,
              "#9c179e"
             ],
             [
              0.4444444444444444,
              "#bd3786"
             ],
             [
              0.5555555555555556,
              "#d8576b"
             ],
             [
              0.6666666666666666,
              "#ed7953"
             ],
             [
              0.7777777777777778,
              "#fb9f3a"
             ],
             [
              0.8888888888888888,
              "#fdca26"
             ],
             [
              1,
              "#f0f921"
             ]
            ],
            "type": "contour"
           }
          ],
          "contourcarpet": [
           {
            "colorbar": {
             "outlinewidth": 0,
             "ticks": ""
            },
            "type": "contourcarpet"
           }
          ],
          "heatmap": [
           {
            "colorbar": {
             "outlinewidth": 0,
             "ticks": ""
            },
            "colorscale": [
             [
              0,
              "#0d0887"
             ],
             [
              0.1111111111111111,
              "#46039f"
             ],
             [
              0.2222222222222222,
              "#7201a8"
             ],
             [
              0.3333333333333333,
              "#9c179e"
             ],
             [
              0.4444444444444444,
              "#bd3786"
             ],
             [
              0.5555555555555556,
              "#d8576b"
             ],
             [
              0.6666666666666666,
              "#ed7953"
             ],
             [
              0.7777777777777778,
              "#fb9f3a"
             ],
             [
              0.8888888888888888,
              "#fdca26"
             ],
             [
              1,
              "#f0f921"
             ]
            ],
            "type": "heatmap"
           }
          ],
          "heatmapgl": [
           {
            "colorbar": {
             "outlinewidth": 0,
             "ticks": ""
            },
            "colorscale": [
             [
              0,
              "#0d0887"
             ],
             [
              0.1111111111111111,
              "#46039f"
             ],
             [
              0.2222222222222222,
              "#7201a8"
             ],
             [
              0.3333333333333333,
              "#9c179e"
             ],
             [
              0.4444444444444444,
              "#bd3786"
             ],
             [
              0.5555555555555556,
              "#d8576b"
             ],
             [
              0.6666666666666666,
              "#ed7953"
             ],
             [
              0.7777777777777778,
              "#fb9f3a"
             ],
             [
              0.8888888888888888,
              "#fdca26"
             ],
             [
              1,
              "#f0f921"
             ]
            ],
            "type": "heatmapgl"
           }
          ],
          "histogram": [
           {
            "marker": {
             "colorbar": {
              "outlinewidth": 0,
              "ticks": ""
             }
            },
            "type": "histogram"
           }
          ],
          "histogram2d": [
           {
            "colorbar": {
             "outlinewidth": 0,
             "ticks": ""
            },
            "colorscale": [
             [
              0,
              "#0d0887"
             ],
             [
              0.1111111111111111,
              "#46039f"
             ],
             [
              0.2222222222222222,
              "#7201a8"
             ],
             [
              0.3333333333333333,
              "#9c179e"
             ],
             [
              0.4444444444444444,
              "#bd3786"
             ],
             [
              0.5555555555555556,
              "#d8576b"
             ],
             [
              0.6666666666666666,
              "#ed7953"
             ],
             [
              0.7777777777777778,
              "#fb9f3a"
             ],
             [
              0.8888888888888888,
              "#fdca26"
             ],
             [
              1,
              "#f0f921"
             ]
            ],
            "type": "histogram2d"
           }
          ],
          "histogram2dcontour": [
           {
            "colorbar": {
             "outlinewidth": 0,
             "ticks": ""
            },
            "colorscale": [
             [
              0,
              "#0d0887"
             ],
             [
              0.1111111111111111,
              "#46039f"
             ],
             [
              0.2222222222222222,
              "#7201a8"
             ],
             [
              0.3333333333333333,
              "#9c179e"
             ],
             [
              0.4444444444444444,
              "#bd3786"
             ],
             [
              0.5555555555555556,
              "#d8576b"
             ],
             [
              0.6666666666666666,
              "#ed7953"
             ],
             [
              0.7777777777777778,
              "#fb9f3a"
             ],
             [
              0.8888888888888888,
              "#fdca26"
             ],
             [
              1,
              "#f0f921"
             ]
            ],
            "type": "histogram2dcontour"
           }
          ],
          "mesh3d": [
           {
            "colorbar": {
             "outlinewidth": 0,
             "ticks": ""
            },
            "type": "mesh3d"
           }
          ],
          "parcoords": [
           {
            "line": {
             "colorbar": {
              "outlinewidth": 0,
              "ticks": ""
             }
            },
            "type": "parcoords"
           }
          ],
          "pie": [
           {
            "automargin": true,
            "type": "pie"
           }
          ],
          "scatter": [
           {
            "marker": {
             "colorbar": {
              "outlinewidth": 0,
              "ticks": ""
             }
            },
            "type": "scatter"
           }
          ],
          "scatter3d": [
           {
            "line": {
             "colorbar": {
              "outlinewidth": 0,
              "ticks": ""
             }
            },
            "marker": {
             "colorbar": {
              "outlinewidth": 0,
              "ticks": ""
             }
            },
            "type": "scatter3d"
           }
          ],
          "scattercarpet": [
           {
            "marker": {
             "colorbar": {
              "outlinewidth": 0,
              "ticks": ""
             }
            },
            "type": "scattercarpet"
           }
          ],
          "scattergeo": [
           {
            "marker": {
             "colorbar": {
              "outlinewidth": 0,
              "ticks": ""
             }
            },
            "type": "scattergeo"
           }
          ],
          "scattergl": [
           {
            "marker": {
             "colorbar": {
              "outlinewidth": 0,
              "ticks": ""
             }
            },
            "type": "scattergl"
           }
          ],
          "scattermapbox": [
           {
            "marker": {
             "colorbar": {
              "outlinewidth": 0,
              "ticks": ""
             }
            },
            "type": "scattermapbox"
           }
          ],
          "scatterpolar": [
           {
            "marker": {
             "colorbar": {
              "outlinewidth": 0,
              "ticks": ""
             }
            },
            "type": "scatterpolar"
           }
          ],
          "scatterpolargl": [
           {
            "marker": {
             "colorbar": {
              "outlinewidth": 0,
              "ticks": ""
             }
            },
            "type": "scatterpolargl"
           }
          ],
          "scatterternary": [
           {
            "marker": {
             "colorbar": {
              "outlinewidth": 0,
              "ticks": ""
             }
            },
            "type": "scatterternary"
           }
          ],
          "surface": [
           {
            "colorbar": {
             "outlinewidth": 0,
             "ticks": ""
            },
            "colorscale": [
             [
              0,
              "#0d0887"
             ],
             [
              0.1111111111111111,
              "#46039f"
             ],
             [
              0.2222222222222222,
              "#7201a8"
             ],
             [
              0.3333333333333333,
              "#9c179e"
             ],
             [
              0.4444444444444444,
              "#bd3786"
             ],
             [
              0.5555555555555556,
              "#d8576b"
             ],
             [
              0.6666666666666666,
              "#ed7953"
             ],
             [
              0.7777777777777778,
              "#fb9f3a"
             ],
             [
              0.8888888888888888,
              "#fdca26"
             ],
             [
              1,
              "#f0f921"
             ]
            ],
            "type": "surface"
           }
          ],
          "table": [
           {
            "cells": {
             "fill": {
              "color": "#EBF0F8"
             },
             "line": {
              "color": "white"
             }
            },
            "header": {
             "fill": {
              "color": "#C8D4E3"
             },
             "line": {
              "color": "white"
             }
            },
            "type": "table"
           }
          ]
         },
         "layout": {
          "annotationdefaults": {
           "arrowcolor": "#2a3f5f",
           "arrowhead": 0,
           "arrowwidth": 1
          },
          "coloraxis": {
           "colorbar": {
            "outlinewidth": 0,
            "ticks": ""
           }
          },
          "colorscale": {
           "diverging": [
            [
             0,
             "#8e0152"
            ],
            [
             0.1,
             "#c51b7d"
            ],
            [
             0.2,
             "#de77ae"
            ],
            [
             0.3,
             "#f1b6da"
            ],
            [
             0.4,
             "#fde0ef"
            ],
            [
             0.5,
             "#f7f7f7"
            ],
            [
             0.6,
             "#e6f5d0"
            ],
            [
             0.7,
             "#b8e186"
            ],
            [
             0.8,
             "#7fbc41"
            ],
            [
             0.9,
             "#4d9221"
            ],
            [
             1,
             "#276419"
            ]
           ],
           "sequential": [
            [
             0,
             "#0d0887"
            ],
            [
             0.1111111111111111,
             "#46039f"
            ],
            [
             0.2222222222222222,
             "#7201a8"
            ],
            [
             0.3333333333333333,
             "#9c179e"
            ],
            [
             0.4444444444444444,
             "#bd3786"
            ],
            [
             0.5555555555555556,
             "#d8576b"
            ],
            [
             0.6666666666666666,
             "#ed7953"
            ],
            [
             0.7777777777777778,
             "#fb9f3a"
            ],
            [
             0.8888888888888888,
             "#fdca26"
            ],
            [
             1,
             "#f0f921"
            ]
           ],
           "sequentialminus": [
            [
             0,
             "#0d0887"
            ],
            [
             0.1111111111111111,
             "#46039f"
            ],
            [
             0.2222222222222222,
             "#7201a8"
            ],
            [
             0.3333333333333333,
             "#9c179e"
            ],
            [
             0.4444444444444444,
             "#bd3786"
            ],
            [
             0.5555555555555556,
             "#d8576b"
            ],
            [
             0.6666666666666666,
             "#ed7953"
            ],
            [
             0.7777777777777778,
             "#fb9f3a"
            ],
            [
             0.8888888888888888,
             "#fdca26"
            ],
            [
             1,
             "#f0f921"
            ]
           ]
          },
          "colorway": [
           "#636efa",
           "#EF553B",
           "#00cc96",
           "#ab63fa",
           "#FFA15A",
           "#19d3f3",
           "#FF6692",
           "#B6E880",
           "#FF97FF",
           "#FECB52"
          ],
          "font": {
           "color": "#2a3f5f"
          },
          "geo": {
           "bgcolor": "white",
           "lakecolor": "white",
           "landcolor": "#E5ECF6",
           "showlakes": true,
           "showland": true,
           "subunitcolor": "white"
          },
          "hoverlabel": {
           "align": "left"
          },
          "hovermode": "closest",
          "mapbox": {
           "style": "light"
          },
          "paper_bgcolor": "white",
          "plot_bgcolor": "#E5ECF6",
          "polar": {
           "angularaxis": {
            "gridcolor": "white",
            "linecolor": "white",
            "ticks": ""
           },
           "bgcolor": "#E5ECF6",
           "radialaxis": {
            "gridcolor": "white",
            "linecolor": "white",
            "ticks": ""
           }
          },
          "scene": {
           "xaxis": {
            "backgroundcolor": "#E5ECF6",
            "gridcolor": "white",
            "gridwidth": 2,
            "linecolor": "white",
            "showbackground": true,
            "ticks": "",
            "zerolinecolor": "white"
           },
           "yaxis": {
            "backgroundcolor": "#E5ECF6",
            "gridcolor": "white",
            "gridwidth": 2,
            "linecolor": "white",
            "showbackground": true,
            "ticks": "",
            "zerolinecolor": "white"
           },
           "zaxis": {
            "backgroundcolor": "#E5ECF6",
            "gridcolor": "white",
            "gridwidth": 2,
            "linecolor": "white",
            "showbackground": true,
            "ticks": "",
            "zerolinecolor": "white"
           }
          },
          "shapedefaults": {
           "line": {
            "color": "#2a3f5f"
           }
          },
          "ternary": {
           "aaxis": {
            "gridcolor": "white",
            "linecolor": "white",
            "ticks": ""
           },
           "baxis": {
            "gridcolor": "white",
            "linecolor": "white",
            "ticks": ""
           },
           "bgcolor": "#E5ECF6",
           "caxis": {
            "gridcolor": "white",
            "linecolor": "white",
            "ticks": ""
           }
          },
          "title": {
           "x": 0.05
          },
          "xaxis": {
           "automargin": true,
           "gridcolor": "white",
           "linecolor": "white",
           "ticks": "",
           "title": {
            "standoff": 15
           },
           "zerolinecolor": "white",
           "zerolinewidth": 2
          },
          "yaxis": {
           "automargin": true,
           "gridcolor": "white",
           "linecolor": "white",
           "ticks": "",
           "title": {
            "standoff": 15
           },
           "zerolinecolor": "white",
           "zerolinewidth": 2
          }
         }
        },
        "title": {
         "text": "Mountain Vertical",
         "x": 0.5
        },
        "width": 1000,
        "xaxis": {
         "anchor": "y",
         "domain": [
          0,
          1
         ],
         "title": {
          "text": "Ski Resort"
         }
        },
        "yaxis": {
         "anchor": "x",
         "domain": [
          0,
          1
         ],
         "title": {
          "text": "Ft."
         }
        }
       }
      },
      "text/html": [
       "<div>                            <div id=\"e0825af0-a3df-48c3-bfbd-4cc0fa53d4e9\" class=\"plotly-graph-div\" style=\"height:500px; width:1000px;\"></div>            <script type=\"text/javascript\">                require([\"plotly\"], function(Plotly) {                    window.PLOTLYENV=window.PLOTLYENV || {};                                    if (document.getElementById(\"e0825af0-a3df-48c3-bfbd-4cc0fa53d4e9\")) {                    Plotly.newPlot(                        \"e0825af0-a3df-48c3-bfbd-4cc0fa53d4e9\",                        [{\"alignmentgroup\": \"True\", \"hovertemplate\": \"variable=base<br>ski_resort=%{x}<br>value=%{y}<extra></extra>\", \"legendgroup\": \"base\", \"marker\": {\"color\": \"#636efa\"}, \"name\": \"base\", \"offsetgroup\": \"base\", \"orientation\": \"v\", \"showlegend\": true, \"textposition\": \"outside\", \"type\": \"bar\", \"x\": [\"Snowbird\", \"Snowbasin\", \"Big Sky\"], \"xaxis\": \"x\", \"y\": [7760, 6450, 7500], \"yaxis\": \"y\"}, {\"alignmentgroup\": \"True\", \"hovertemplate\": \"variable=summit<br>ski_resort=%{x}<br>value=%{y}<extra></extra>\", \"legendgroup\": \"summit\", \"marker\": {\"color\": \"#EF553B\"}, \"name\": \"summit\", \"offsetgroup\": \"summit\", \"orientation\": \"v\", \"showlegend\": true, \"textposition\": \"outside\", \"type\": \"bar\", \"x\": [\"Snowbird\", \"Snowbasin\", \"Big Sky\"], \"xaxis\": \"x\", \"y\": [11000, 9350, 11166], \"yaxis\": \"y\"}, {\"alignmentgroup\": \"True\", \"hovertemplate\": \"variable=drop<br>ski_resort=%{x}<br>value=%{y}<extra></extra>\", \"legendgroup\": \"drop\", \"marker\": {\"color\": \"#00cc96\"}, \"name\": \"drop\", \"offsetgroup\": \"drop\", \"orientation\": \"v\", \"showlegend\": true, \"textposition\": \"outside\", \"type\": \"bar\", \"x\": [\"Snowbird\", \"Snowbasin\", \"Big Sky\"], \"xaxis\": \"x\", \"y\": [3240, 2900, 4350], \"yaxis\": \"y\"}],                        {\"barmode\": \"group\", \"font\": {\"size\": 14}, \"height\": 500, \"legend\": {\"title\": {\"text\": \"variable\"}, \"tracegroupgap\": 0}, \"margin\": {\"t\": 60}, \"plot_bgcolor\": \"white\", \"template\": {\"data\": {\"bar\": [{\"error_x\": {\"color\": \"#2a3f5f\"}, \"error_y\": {\"color\": \"#2a3f5f\"}, \"marker\": {\"line\": {\"color\": \"#E5ECF6\", \"width\": 0.5}}, \"type\": \"bar\"}], \"barpolar\": [{\"marker\": {\"line\": {\"color\": \"#E5ECF6\", \"width\": 0.5}}, \"type\": \"barpolar\"}], \"carpet\": [{\"aaxis\": {\"endlinecolor\": \"#2a3f5f\", \"gridcolor\": \"white\", \"linecolor\": \"white\", \"minorgridcolor\": \"white\", \"startlinecolor\": \"#2a3f5f\"}, \"baxis\": {\"endlinecolor\": \"#2a3f5f\", \"gridcolor\": \"white\", \"linecolor\": \"white\", \"minorgridcolor\": \"white\", \"startlinecolor\": \"#2a3f5f\"}, \"type\": \"carpet\"}], \"choropleth\": [{\"colorbar\": {\"outlinewidth\": 0, \"ticks\": \"\"}, \"type\": \"choropleth\"}], \"contour\": [{\"colorbar\": {\"outlinewidth\": 0, \"ticks\": \"\"}, \"colorscale\": [[0.0, \"#0d0887\"], [0.1111111111111111, \"#46039f\"], [0.2222222222222222, \"#7201a8\"], [0.3333333333333333, \"#9c179e\"], [0.4444444444444444, \"#bd3786\"], [0.5555555555555556, \"#d8576b\"], [0.6666666666666666, \"#ed7953\"], [0.7777777777777778, \"#fb9f3a\"], [0.8888888888888888, \"#fdca26\"], [1.0, \"#f0f921\"]], \"type\": \"contour\"}], \"contourcarpet\": [{\"colorbar\": {\"outlinewidth\": 0, \"ticks\": \"\"}, \"type\": \"contourcarpet\"}], \"heatmap\": [{\"colorbar\": {\"outlinewidth\": 0, \"ticks\": \"\"}, \"colorscale\": [[0.0, \"#0d0887\"], [0.1111111111111111, \"#46039f\"], [0.2222222222222222, \"#7201a8\"], [0.3333333333333333, \"#9c179e\"], [0.4444444444444444, \"#bd3786\"], [0.5555555555555556, \"#d8576b\"], [0.6666666666666666, \"#ed7953\"], [0.7777777777777778, \"#fb9f3a\"], [0.8888888888888888, \"#fdca26\"], [1.0, \"#f0f921\"]], \"type\": \"heatmap\"}], \"heatmapgl\": [{\"colorbar\": {\"outlinewidth\": 0, \"ticks\": \"\"}, \"colorscale\": [[0.0, \"#0d0887\"], [0.1111111111111111, \"#46039f\"], [0.2222222222222222, \"#7201a8\"], [0.3333333333333333, \"#9c179e\"], [0.4444444444444444, \"#bd3786\"], [0.5555555555555556, \"#d8576b\"], [0.6666666666666666, \"#ed7953\"], [0.7777777777777778, \"#fb9f3a\"], [0.8888888888888888, \"#fdca26\"], [1.0, \"#f0f921\"]], \"type\": \"heatmapgl\"}], \"histogram\": [{\"marker\": {\"colorbar\": {\"outlinewidth\": 0, \"ticks\": \"\"}}, \"type\": \"histogram\"}], \"histogram2d\": [{\"colorbar\": {\"outlinewidth\": 0, \"ticks\": \"\"}, \"colorscale\": [[0.0, \"#0d0887\"], [0.1111111111111111, \"#46039f\"], [0.2222222222222222, \"#7201a8\"], [0.3333333333333333, \"#9c179e\"], [0.4444444444444444, \"#bd3786\"], [0.5555555555555556, \"#d8576b\"], [0.6666666666666666, \"#ed7953\"], [0.7777777777777778, \"#fb9f3a\"], [0.8888888888888888, \"#fdca26\"], [1.0, \"#f0f921\"]], \"type\": \"histogram2d\"}], \"histogram2dcontour\": [{\"colorbar\": {\"outlinewidth\": 0, \"ticks\": \"\"}, \"colorscale\": [[0.0, \"#0d0887\"], [0.1111111111111111, \"#46039f\"], [0.2222222222222222, \"#7201a8\"], [0.3333333333333333, \"#9c179e\"], [0.4444444444444444, \"#bd3786\"], [0.5555555555555556, \"#d8576b\"], [0.6666666666666666, \"#ed7953\"], [0.7777777777777778, \"#fb9f3a\"], [0.8888888888888888, \"#fdca26\"], [1.0, \"#f0f921\"]], \"type\": \"histogram2dcontour\"}], \"mesh3d\": [{\"colorbar\": {\"outlinewidth\": 0, \"ticks\": \"\"}, \"type\": \"mesh3d\"}], \"parcoords\": [{\"line\": {\"colorbar\": {\"outlinewidth\": 0, \"ticks\": \"\"}}, \"type\": \"parcoords\"}], \"pie\": [{\"automargin\": true, \"type\": \"pie\"}], \"scatter\": [{\"marker\": {\"colorbar\": {\"outlinewidth\": 0, \"ticks\": \"\"}}, \"type\": \"scatter\"}], \"scatter3d\": [{\"line\": {\"colorbar\": {\"outlinewidth\": 0, \"ticks\": \"\"}}, \"marker\": {\"colorbar\": {\"outlinewidth\": 0, \"ticks\": \"\"}}, \"type\": \"scatter3d\"}], \"scattercarpet\": [{\"marker\": {\"colorbar\": {\"outlinewidth\": 0, \"ticks\": \"\"}}, \"type\": \"scattercarpet\"}], \"scattergeo\": [{\"marker\": {\"colorbar\": {\"outlinewidth\": 0, \"ticks\": \"\"}}, \"type\": \"scattergeo\"}], \"scattergl\": [{\"marker\": {\"colorbar\": {\"outlinewidth\": 0, \"ticks\": \"\"}}, \"type\": \"scattergl\"}], \"scattermapbox\": [{\"marker\": {\"colorbar\": {\"outlinewidth\": 0, \"ticks\": \"\"}}, \"type\": \"scattermapbox\"}], \"scatterpolar\": [{\"marker\": {\"colorbar\": {\"outlinewidth\": 0, \"ticks\": \"\"}}, \"type\": \"scatterpolar\"}], \"scatterpolargl\": [{\"marker\": {\"colorbar\": {\"outlinewidth\": 0, \"ticks\": \"\"}}, \"type\": \"scatterpolargl\"}], \"scatterternary\": [{\"marker\": {\"colorbar\": {\"outlinewidth\": 0, \"ticks\": \"\"}}, \"type\": \"scatterternary\"}], \"surface\": [{\"colorbar\": {\"outlinewidth\": 0, \"ticks\": \"\"}, \"colorscale\": [[0.0, \"#0d0887\"], [0.1111111111111111, \"#46039f\"], [0.2222222222222222, \"#7201a8\"], [0.3333333333333333, \"#9c179e\"], [0.4444444444444444, \"#bd3786\"], [0.5555555555555556, \"#d8576b\"], [0.6666666666666666, \"#ed7953\"], [0.7777777777777778, \"#fb9f3a\"], [0.8888888888888888, \"#fdca26\"], [1.0, \"#f0f921\"]], \"type\": \"surface\"}], \"table\": [{\"cells\": {\"fill\": {\"color\": \"#EBF0F8\"}, \"line\": {\"color\": \"white\"}}, \"header\": {\"fill\": {\"color\": \"#C8D4E3\"}, \"line\": {\"color\": \"white\"}}, \"type\": \"table\"}]}, \"layout\": {\"annotationdefaults\": {\"arrowcolor\": \"#2a3f5f\", \"arrowhead\": 0, \"arrowwidth\": 1}, \"coloraxis\": {\"colorbar\": {\"outlinewidth\": 0, \"ticks\": \"\"}}, \"colorscale\": {\"diverging\": [[0, \"#8e0152\"], [0.1, \"#c51b7d\"], [0.2, \"#de77ae\"], [0.3, \"#f1b6da\"], [0.4, \"#fde0ef\"], [0.5, \"#f7f7f7\"], [0.6, \"#e6f5d0\"], [0.7, \"#b8e186\"], [0.8, \"#7fbc41\"], [0.9, \"#4d9221\"], [1, \"#276419\"]], \"sequential\": [[0.0, \"#0d0887\"], [0.1111111111111111, \"#46039f\"], [0.2222222222222222, \"#7201a8\"], [0.3333333333333333, \"#9c179e\"], [0.4444444444444444, \"#bd3786\"], [0.5555555555555556, \"#d8576b\"], [0.6666666666666666, \"#ed7953\"], [0.7777777777777778, \"#fb9f3a\"], [0.8888888888888888, \"#fdca26\"], [1.0, \"#f0f921\"]], \"sequentialminus\": [[0.0, \"#0d0887\"], [0.1111111111111111, \"#46039f\"], [0.2222222222222222, \"#7201a8\"], [0.3333333333333333, \"#9c179e\"], [0.4444444444444444, \"#bd3786\"], [0.5555555555555556, \"#d8576b\"], [0.6666666666666666, \"#ed7953\"], [0.7777777777777778, \"#fb9f3a\"], [0.8888888888888888, \"#fdca26\"], [1.0, \"#f0f921\"]]}, \"colorway\": [\"#636efa\", \"#EF553B\", \"#00cc96\", \"#ab63fa\", \"#FFA15A\", \"#19d3f3\", \"#FF6692\", \"#B6E880\", \"#FF97FF\", \"#FECB52\"], \"font\": {\"color\": \"#2a3f5f\"}, \"geo\": {\"bgcolor\": \"white\", \"lakecolor\": \"white\", \"landcolor\": \"#E5ECF6\", \"showlakes\": true, \"showland\": true, \"subunitcolor\": \"white\"}, \"hoverlabel\": {\"align\": \"left\"}, \"hovermode\": \"closest\", \"mapbox\": {\"style\": \"light\"}, \"paper_bgcolor\": \"white\", \"plot_bgcolor\": \"#E5ECF6\", \"polar\": {\"angularaxis\": {\"gridcolor\": \"white\", \"linecolor\": \"white\", \"ticks\": \"\"}, \"bgcolor\": \"#E5ECF6\", \"radialaxis\": {\"gridcolor\": \"white\", \"linecolor\": \"white\", \"ticks\": \"\"}}, \"scene\": {\"xaxis\": {\"backgroundcolor\": \"#E5ECF6\", \"gridcolor\": \"white\", \"gridwidth\": 2, \"linecolor\": \"white\", \"showbackground\": true, \"ticks\": \"\", \"zerolinecolor\": \"white\"}, \"yaxis\": {\"backgroundcolor\": \"#E5ECF6\", \"gridcolor\": \"white\", \"gridwidth\": 2, \"linecolor\": \"white\", \"showbackground\": true, \"ticks\": \"\", \"zerolinecolor\": \"white\"}, \"zaxis\": {\"backgroundcolor\": \"#E5ECF6\", \"gridcolor\": \"white\", \"gridwidth\": 2, \"linecolor\": \"white\", \"showbackground\": true, \"ticks\": \"\", \"zerolinecolor\": \"white\"}}, \"shapedefaults\": {\"line\": {\"color\": \"#2a3f5f\"}}, \"ternary\": {\"aaxis\": {\"gridcolor\": \"white\", \"linecolor\": \"white\", \"ticks\": \"\"}, \"baxis\": {\"gridcolor\": \"white\", \"linecolor\": \"white\", \"ticks\": \"\"}, \"bgcolor\": \"#E5ECF6\", \"caxis\": {\"gridcolor\": \"white\", \"linecolor\": \"white\", \"ticks\": \"\"}}, \"title\": {\"x\": 0.05}, \"xaxis\": {\"automargin\": true, \"gridcolor\": \"white\", \"linecolor\": \"white\", \"ticks\": \"\", \"title\": {\"standoff\": 15}, \"zerolinecolor\": \"white\", \"zerolinewidth\": 2}, \"yaxis\": {\"automargin\": true, \"gridcolor\": \"white\", \"linecolor\": \"white\", \"ticks\": \"\", \"title\": {\"standoff\": 15}, \"zerolinecolor\": \"white\", \"zerolinewidth\": 2}}}, \"title\": {\"text\": \"Mountain Vertical\", \"x\": 0.5}, \"width\": 1000, \"xaxis\": {\"anchor\": \"y\", \"domain\": [0.0, 1.0], \"title\": {\"text\": \"Ski Resort\"}}, \"yaxis\": {\"anchor\": \"x\", \"domain\": [0.0, 1.0], \"title\": {\"text\": \"Ft.\"}}},                        {\"responsive\": true}                    ).then(function(){\n",
       "                            \n",
       "var gd = document.getElementById('e0825af0-a3df-48c3-bfbd-4cc0fa53d4e9');\n",
       "var x = new MutationObserver(function (mutations, observer) {{\n",
       "        var display = window.getComputedStyle(gd).display;\n",
       "        if (!display || display === 'none') {{\n",
       "            console.log([gd, 'removed!']);\n",
       "            Plotly.purge(gd);\n",
       "            observer.disconnect();\n",
       "        }}\n",
       "}});\n",
       "\n",
       "// Listen for the removal of the full notebook cells\n",
       "var notebookContainer = gd.closest('#notebook-container');\n",
       "if (notebookContainer) {{\n",
       "    x.observe(notebookContainer, {childList: true});\n",
       "}}\n",
       "\n",
       "// Listen for the clearing of the current output cell\n",
       "var outputEl = gd.closest('.output');\n",
       "if (outputEl) {{\n",
       "    x.observe(outputEl, {childList: true});\n",
       "}}\n",
       "\n",
       "                        })                };                });            </script>        </div>"
      ]
     },
     "metadata": {},
     "output_type": "display_data"
    }
   ],
   "source": [
    "#using plotly to plot the top featurescolor=\n",
    "fig = px.bar(r_df, x=\"ski_resort\", y=['base', 'summit', 'drop'],\n",
    "            width=1000, height=500)\n",
    "fig.update_layout(title_text='Mountain Vertical',\n",
    "                  title_x=0.5,\n",
    "                  xaxis_title=\"Ski Resort\",\n",
    "                  yaxis_title=\"Ft.\",\n",
    "                 plot_bgcolor='white',\n",
    "                 font=dict(size=14),\n",
    "                 barmode='group')\n",
    "\n",
    "fig.update_traces(textposition='outside')               \n",
    "              \n",
    "fig.show()"
   ]
  },
  {
   "cell_type": "code",
   "execution_count": 89,
   "metadata": {},
   "outputs": [
    {
     "data": {
      "application/vnd.plotly.v1+json": {
       "config": {
        "plotlyServerURL": "https://plot.ly"
       },
       "data": [
        {
         "alignmentgroup": "True",
         "hovertemplate": "variable=Weekday Price<br>ski_resort=%{x}<br>value=%{y}<extra></extra>",
         "legendgroup": "Weekday Price",
         "marker": {
          "color": "#636efa"
         },
         "name": "Weekday Price",
         "offsetgroup": "adultWeekdayPrice",
         "orientation": "v",
         "showlegend": true,
         "textposition": "outside",
         "type": "bar",
         "x": [
          "Snowbird",
          "Snowbasin",
          "Big Sky"
         ],
         "xaxis": "x",
         "y": [
          184,
          149,
          152
         ],
         "yaxis": "y"
        },
        {
         "alignmentgroup": "True",
         "hovertemplate": "variable=Weekend Price<br>ski_resort=%{x}<br>value=%{y}<extra></extra>",
         "legendgroup": "Weekend Price",
         "marker": {
          "color": "#EF553B"
         },
         "name": "Weekend Price",
         "offsetgroup": "adultWeekendPrice",
         "orientation": "v",
         "showlegend": true,
         "textposition": "outside",
         "type": "bar",
         "x": [
          "Snowbird",
          "Snowbasin",
          "Big Sky"
         ],
         "xaxis": "x",
         "y": [
          0,
          169,
          194
         ],
         "yaxis": "y"
        }
       ],
       "layout": {
        "barmode": "group",
        "font": {
         "size": 14
        },
        "height": 500,
        "legend": {
         "title": {
          "text": "variable"
         },
         "tracegroupgap": 0
        },
        "margin": {
         "t": 60
        },
        "plot_bgcolor": "white",
        "template": {
         "data": {
          "bar": [
           {
            "error_x": {
             "color": "#2a3f5f"
            },
            "error_y": {
             "color": "#2a3f5f"
            },
            "marker": {
             "line": {
              "color": "#E5ECF6",
              "width": 0.5
             }
            },
            "type": "bar"
           }
          ],
          "barpolar": [
           {
            "marker": {
             "line": {
              "color": "#E5ECF6",
              "width": 0.5
             }
            },
            "type": "barpolar"
           }
          ],
          "carpet": [
           {
            "aaxis": {
             "endlinecolor": "#2a3f5f",
             "gridcolor": "white",
             "linecolor": "white",
             "minorgridcolor": "white",
             "startlinecolor": "#2a3f5f"
            },
            "baxis": {
             "endlinecolor": "#2a3f5f",
             "gridcolor": "white",
             "linecolor": "white",
             "minorgridcolor": "white",
             "startlinecolor": "#2a3f5f"
            },
            "type": "carpet"
           }
          ],
          "choropleth": [
           {
            "colorbar": {
             "outlinewidth": 0,
             "ticks": ""
            },
            "type": "choropleth"
           }
          ],
          "contour": [
           {
            "colorbar": {
             "outlinewidth": 0,
             "ticks": ""
            },
            "colorscale": [
             [
              0,
              "#0d0887"
             ],
             [
              0.1111111111111111,
              "#46039f"
             ],
             [
              0.2222222222222222,
              "#7201a8"
             ],
             [
              0.3333333333333333,
              "#9c179e"
             ],
             [
              0.4444444444444444,
              "#bd3786"
             ],
             [
              0.5555555555555556,
              "#d8576b"
             ],
             [
              0.6666666666666666,
              "#ed7953"
             ],
             [
              0.7777777777777778,
              "#fb9f3a"
             ],
             [
              0.8888888888888888,
              "#fdca26"
             ],
             [
              1,
              "#f0f921"
             ]
            ],
            "type": "contour"
           }
          ],
          "contourcarpet": [
           {
            "colorbar": {
             "outlinewidth": 0,
             "ticks": ""
            },
            "type": "contourcarpet"
           }
          ],
          "heatmap": [
           {
            "colorbar": {
             "outlinewidth": 0,
             "ticks": ""
            },
            "colorscale": [
             [
              0,
              "#0d0887"
             ],
             [
              0.1111111111111111,
              "#46039f"
             ],
             [
              0.2222222222222222,
              "#7201a8"
             ],
             [
              0.3333333333333333,
              "#9c179e"
             ],
             [
              0.4444444444444444,
              "#bd3786"
             ],
             [
              0.5555555555555556,
              "#d8576b"
             ],
             [
              0.6666666666666666,
              "#ed7953"
             ],
             [
              0.7777777777777778,
              "#fb9f3a"
             ],
             [
              0.8888888888888888,
              "#fdca26"
             ],
             [
              1,
              "#f0f921"
             ]
            ],
            "type": "heatmap"
           }
          ],
          "heatmapgl": [
           {
            "colorbar": {
             "outlinewidth": 0,
             "ticks": ""
            },
            "colorscale": [
             [
              0,
              "#0d0887"
             ],
             [
              0.1111111111111111,
              "#46039f"
             ],
             [
              0.2222222222222222,
              "#7201a8"
             ],
             [
              0.3333333333333333,
              "#9c179e"
             ],
             [
              0.4444444444444444,
              "#bd3786"
             ],
             [
              0.5555555555555556,
              "#d8576b"
             ],
             [
              0.6666666666666666,
              "#ed7953"
             ],
             [
              0.7777777777777778,
              "#fb9f3a"
             ],
             [
              0.8888888888888888,
              "#fdca26"
             ],
             [
              1,
              "#f0f921"
             ]
            ],
            "type": "heatmapgl"
           }
          ],
          "histogram": [
           {
            "marker": {
             "colorbar": {
              "outlinewidth": 0,
              "ticks": ""
             }
            },
            "type": "histogram"
           }
          ],
          "histogram2d": [
           {
            "colorbar": {
             "outlinewidth": 0,
             "ticks": ""
            },
            "colorscale": [
             [
              0,
              "#0d0887"
             ],
             [
              0.1111111111111111,
              "#46039f"
             ],
             [
              0.2222222222222222,
              "#7201a8"
             ],
             [
              0.3333333333333333,
              "#9c179e"
             ],
             [
              0.4444444444444444,
              "#bd3786"
             ],
             [
              0.5555555555555556,
              "#d8576b"
             ],
             [
              0.6666666666666666,
              "#ed7953"
             ],
             [
              0.7777777777777778,
              "#fb9f3a"
             ],
             [
              0.8888888888888888,
              "#fdca26"
             ],
             [
              1,
              "#f0f921"
             ]
            ],
            "type": "histogram2d"
           }
          ],
          "histogram2dcontour": [
           {
            "colorbar": {
             "outlinewidth": 0,
             "ticks": ""
            },
            "colorscale": [
             [
              0,
              "#0d0887"
             ],
             [
              0.1111111111111111,
              "#46039f"
             ],
             [
              0.2222222222222222,
              "#7201a8"
             ],
             [
              0.3333333333333333,
              "#9c179e"
             ],
             [
              0.4444444444444444,
              "#bd3786"
             ],
             [
              0.5555555555555556,
              "#d8576b"
             ],
             [
              0.6666666666666666,
              "#ed7953"
             ],
             [
              0.7777777777777778,
              "#fb9f3a"
             ],
             [
              0.8888888888888888,
              "#fdca26"
             ],
             [
              1,
              "#f0f921"
             ]
            ],
            "type": "histogram2dcontour"
           }
          ],
          "mesh3d": [
           {
            "colorbar": {
             "outlinewidth": 0,
             "ticks": ""
            },
            "type": "mesh3d"
           }
          ],
          "parcoords": [
           {
            "line": {
             "colorbar": {
              "outlinewidth": 0,
              "ticks": ""
             }
            },
            "type": "parcoords"
           }
          ],
          "pie": [
           {
            "automargin": true,
            "type": "pie"
           }
          ],
          "scatter": [
           {
            "marker": {
             "colorbar": {
              "outlinewidth": 0,
              "ticks": ""
             }
            },
            "type": "scatter"
           }
          ],
          "scatter3d": [
           {
            "line": {
             "colorbar": {
              "outlinewidth": 0,
              "ticks": ""
             }
            },
            "marker": {
             "colorbar": {
              "outlinewidth": 0,
              "ticks": ""
             }
            },
            "type": "scatter3d"
           }
          ],
          "scattercarpet": [
           {
            "marker": {
             "colorbar": {
              "outlinewidth": 0,
              "ticks": ""
             }
            },
            "type": "scattercarpet"
           }
          ],
          "scattergeo": [
           {
            "marker": {
             "colorbar": {
              "outlinewidth": 0,
              "ticks": ""
             }
            },
            "type": "scattergeo"
           }
          ],
          "scattergl": [
           {
            "marker": {
             "colorbar": {
              "outlinewidth": 0,
              "ticks": ""
             }
            },
            "type": "scattergl"
           }
          ],
          "scattermapbox": [
           {
            "marker": {
             "colorbar": {
              "outlinewidth": 0,
              "ticks": ""
             }
            },
            "type": "scattermapbox"
           }
          ],
          "scatterpolar": [
           {
            "marker": {
             "colorbar": {
              "outlinewidth": 0,
              "ticks": ""
             }
            },
            "type": "scatterpolar"
           }
          ],
          "scatterpolargl": [
           {
            "marker": {
             "colorbar": {
              "outlinewidth": 0,
              "ticks": ""
             }
            },
            "type": "scatterpolargl"
           }
          ],
          "scatterternary": [
           {
            "marker": {
             "colorbar": {
              "outlinewidth": 0,
              "ticks": ""
             }
            },
            "type": "scatterternary"
           }
          ],
          "surface": [
           {
            "colorbar": {
             "outlinewidth": 0,
             "ticks": ""
            },
            "colorscale": [
             [
              0,
              "#0d0887"
             ],
             [
              0.1111111111111111,
              "#46039f"
             ],
             [
              0.2222222222222222,
              "#7201a8"
             ],
             [
              0.3333333333333333,
              "#9c179e"
             ],
             [
              0.4444444444444444,
              "#bd3786"
             ],
             [
              0.5555555555555556,
              "#d8576b"
             ],
             [
              0.6666666666666666,
              "#ed7953"
             ],
             [
              0.7777777777777778,
              "#fb9f3a"
             ],
             [
              0.8888888888888888,
              "#fdca26"
             ],
             [
              1,
              "#f0f921"
             ]
            ],
            "type": "surface"
           }
          ],
          "table": [
           {
            "cells": {
             "fill": {
              "color": "#EBF0F8"
             },
             "line": {
              "color": "white"
             }
            },
            "header": {
             "fill": {
              "color": "#C8D4E3"
             },
             "line": {
              "color": "white"
             }
            },
            "type": "table"
           }
          ]
         },
         "layout": {
          "annotationdefaults": {
           "arrowcolor": "#2a3f5f",
           "arrowhead": 0,
           "arrowwidth": 1
          },
          "coloraxis": {
           "colorbar": {
            "outlinewidth": 0,
            "ticks": ""
           }
          },
          "colorscale": {
           "diverging": [
            [
             0,
             "#8e0152"
            ],
            [
             0.1,
             "#c51b7d"
            ],
            [
             0.2,
             "#de77ae"
            ],
            [
             0.3,
             "#f1b6da"
            ],
            [
             0.4,
             "#fde0ef"
            ],
            [
             0.5,
             "#f7f7f7"
            ],
            [
             0.6,
             "#e6f5d0"
            ],
            [
             0.7,
             "#b8e186"
            ],
            [
             0.8,
             "#7fbc41"
            ],
            [
             0.9,
             "#4d9221"
            ],
            [
             1,
             "#276419"
            ]
           ],
           "sequential": [
            [
             0,
             "#0d0887"
            ],
            [
             0.1111111111111111,
             "#46039f"
            ],
            [
             0.2222222222222222,
             "#7201a8"
            ],
            [
             0.3333333333333333,
             "#9c179e"
            ],
            [
             0.4444444444444444,
             "#bd3786"
            ],
            [
             0.5555555555555556,
             "#d8576b"
            ],
            [
             0.6666666666666666,
             "#ed7953"
            ],
            [
             0.7777777777777778,
             "#fb9f3a"
            ],
            [
             0.8888888888888888,
             "#fdca26"
            ],
            [
             1,
             "#f0f921"
            ]
           ],
           "sequentialminus": [
            [
             0,
             "#0d0887"
            ],
            [
             0.1111111111111111,
             "#46039f"
            ],
            [
             0.2222222222222222,
             "#7201a8"
            ],
            [
             0.3333333333333333,
             "#9c179e"
            ],
            [
             0.4444444444444444,
             "#bd3786"
            ],
            [
             0.5555555555555556,
             "#d8576b"
            ],
            [
             0.6666666666666666,
             "#ed7953"
            ],
            [
             0.7777777777777778,
             "#fb9f3a"
            ],
            [
             0.8888888888888888,
             "#fdca26"
            ],
            [
             1,
             "#f0f921"
            ]
           ]
          },
          "colorway": [
           "#636efa",
           "#EF553B",
           "#00cc96",
           "#ab63fa",
           "#FFA15A",
           "#19d3f3",
           "#FF6692",
           "#B6E880",
           "#FF97FF",
           "#FECB52"
          ],
          "font": {
           "color": "#2a3f5f"
          },
          "geo": {
           "bgcolor": "white",
           "lakecolor": "white",
           "landcolor": "#E5ECF6",
           "showlakes": true,
           "showland": true,
           "subunitcolor": "white"
          },
          "hoverlabel": {
           "align": "left"
          },
          "hovermode": "closest",
          "mapbox": {
           "style": "light"
          },
          "paper_bgcolor": "white",
          "plot_bgcolor": "#E5ECF6",
          "polar": {
           "angularaxis": {
            "gridcolor": "white",
            "linecolor": "white",
            "ticks": ""
           },
           "bgcolor": "#E5ECF6",
           "radialaxis": {
            "gridcolor": "white",
            "linecolor": "white",
            "ticks": ""
           }
          },
          "scene": {
           "xaxis": {
            "backgroundcolor": "#E5ECF6",
            "gridcolor": "white",
            "gridwidth": 2,
            "linecolor": "white",
            "showbackground": true,
            "ticks": "",
            "zerolinecolor": "white"
           },
           "yaxis": {
            "backgroundcolor": "#E5ECF6",
            "gridcolor": "white",
            "gridwidth": 2,
            "linecolor": "white",
            "showbackground": true,
            "ticks": "",
            "zerolinecolor": "white"
           },
           "zaxis": {
            "backgroundcolor": "#E5ECF6",
            "gridcolor": "white",
            "gridwidth": 2,
            "linecolor": "white",
            "showbackground": true,
            "ticks": "",
            "zerolinecolor": "white"
           }
          },
          "shapedefaults": {
           "line": {
            "color": "#2a3f5f"
           }
          },
          "ternary": {
           "aaxis": {
            "gridcolor": "white",
            "linecolor": "white",
            "ticks": ""
           },
           "baxis": {
            "gridcolor": "white",
            "linecolor": "white",
            "ticks": ""
           },
           "bgcolor": "#E5ECF6",
           "caxis": {
            "gridcolor": "white",
            "linecolor": "white",
            "ticks": ""
           }
          },
          "title": {
           "x": 0.05
          },
          "xaxis": {
           "automargin": true,
           "gridcolor": "white",
           "linecolor": "white",
           "ticks": "",
           "title": {
            "standoff": 15
           },
           "zerolinecolor": "white",
           "zerolinewidth": 2
          },
          "yaxis": {
           "automargin": true,
           "gridcolor": "white",
           "linecolor": "white",
           "ticks": "",
           "title": {
            "standoff": 15
           },
           "zerolinecolor": "white",
           "zerolinewidth": 2
          }
         }
        },
        "title": {
         "text": "Adult Lift Ticket Prices",
         "x": 0.5
        },
        "width": 1000,
        "xaxis": {
         "anchor": "y",
         "domain": [
          0,
          1
         ],
         "title": {
          "text": "Ski Resort"
         }
        },
        "yaxis": {
         "anchor": "x",
         "domain": [
          0,
          1
         ],
         "title": {
          "text": "Price ($)"
         }
        }
       }
      },
      "text/html": [
       "<div>                            <div id=\"5d4d3617-b8f4-4657-aea6-28426719fb61\" class=\"plotly-graph-div\" style=\"height:500px; width:1000px;\"></div>            <script type=\"text/javascript\">                require([\"plotly\"], function(Plotly) {                    window.PLOTLYENV=window.PLOTLYENV || {};                                    if (document.getElementById(\"5d4d3617-b8f4-4657-aea6-28426719fb61\")) {                    Plotly.newPlot(                        \"5d4d3617-b8f4-4657-aea6-28426719fb61\",                        [{\"alignmentgroup\": \"True\", \"hovertemplate\": \"variable=Weekday Price<br>ski_resort=%{x}<br>value=%{y}<extra></extra>\", \"legendgroup\": \"Weekday Price\", \"marker\": {\"color\": \"#636efa\"}, \"name\": \"Weekday Price\", \"offsetgroup\": \"adultWeekdayPrice\", \"orientation\": \"v\", \"showlegend\": true, \"textposition\": \"outside\", \"type\": \"bar\", \"x\": [\"Snowbird\", \"Snowbasin\", \"Big Sky\"], \"xaxis\": \"x\", \"y\": [184.0, 149.0, 152.0], \"yaxis\": \"y\"}, {\"alignmentgroup\": \"True\", \"hovertemplate\": \"variable=Weekend Price<br>ski_resort=%{x}<br>value=%{y}<extra></extra>\", \"legendgroup\": \"Weekend Price\", \"marker\": {\"color\": \"#EF553B\"}, \"name\": \"Weekend Price\", \"offsetgroup\": \"adultWeekendPrice\", \"orientation\": \"v\", \"showlegend\": true, \"textposition\": \"outside\", \"type\": \"bar\", \"x\": [\"Snowbird\", \"Snowbasin\", \"Big Sky\"], \"xaxis\": \"x\", \"y\": [0.0, 169.0, 194.0], \"yaxis\": \"y\"}],                        {\"barmode\": \"group\", \"font\": {\"size\": 14}, \"height\": 500, \"legend\": {\"title\": {\"text\": \"variable\"}, \"tracegroupgap\": 0}, \"margin\": {\"t\": 60}, \"plot_bgcolor\": \"white\", \"template\": {\"data\": {\"bar\": [{\"error_x\": {\"color\": \"#2a3f5f\"}, \"error_y\": {\"color\": \"#2a3f5f\"}, \"marker\": {\"line\": {\"color\": \"#E5ECF6\", \"width\": 0.5}}, \"type\": \"bar\"}], \"barpolar\": [{\"marker\": {\"line\": {\"color\": \"#E5ECF6\", \"width\": 0.5}}, \"type\": \"barpolar\"}], \"carpet\": [{\"aaxis\": {\"endlinecolor\": \"#2a3f5f\", \"gridcolor\": \"white\", \"linecolor\": \"white\", \"minorgridcolor\": \"white\", \"startlinecolor\": \"#2a3f5f\"}, \"baxis\": {\"endlinecolor\": \"#2a3f5f\", \"gridcolor\": \"white\", \"linecolor\": \"white\", \"minorgridcolor\": \"white\", \"startlinecolor\": \"#2a3f5f\"}, \"type\": \"carpet\"}], \"choropleth\": [{\"colorbar\": {\"outlinewidth\": 0, \"ticks\": \"\"}, \"type\": \"choropleth\"}], \"contour\": [{\"colorbar\": {\"outlinewidth\": 0, \"ticks\": \"\"}, \"colorscale\": [[0.0, \"#0d0887\"], [0.1111111111111111, \"#46039f\"], [0.2222222222222222, \"#7201a8\"], [0.3333333333333333, \"#9c179e\"], [0.4444444444444444, \"#bd3786\"], [0.5555555555555556, \"#d8576b\"], [0.6666666666666666, \"#ed7953\"], [0.7777777777777778, \"#fb9f3a\"], [0.8888888888888888, \"#fdca26\"], [1.0, \"#f0f921\"]], \"type\": \"contour\"}], \"contourcarpet\": [{\"colorbar\": {\"outlinewidth\": 0, \"ticks\": \"\"}, \"type\": \"contourcarpet\"}], \"heatmap\": [{\"colorbar\": {\"outlinewidth\": 0, \"ticks\": \"\"}, \"colorscale\": [[0.0, \"#0d0887\"], [0.1111111111111111, \"#46039f\"], [0.2222222222222222, \"#7201a8\"], [0.3333333333333333, \"#9c179e\"], [0.4444444444444444, \"#bd3786\"], [0.5555555555555556, \"#d8576b\"], [0.6666666666666666, \"#ed7953\"], [0.7777777777777778, \"#fb9f3a\"], [0.8888888888888888, \"#fdca26\"], [1.0, \"#f0f921\"]], \"type\": \"heatmap\"}], \"heatmapgl\": [{\"colorbar\": {\"outlinewidth\": 0, \"ticks\": \"\"}, \"colorscale\": [[0.0, \"#0d0887\"], [0.1111111111111111, \"#46039f\"], [0.2222222222222222, \"#7201a8\"], [0.3333333333333333, \"#9c179e\"], [0.4444444444444444, \"#bd3786\"], [0.5555555555555556, \"#d8576b\"], [0.6666666666666666, \"#ed7953\"], [0.7777777777777778, \"#fb9f3a\"], [0.8888888888888888, \"#fdca26\"], [1.0, \"#f0f921\"]], \"type\": \"heatmapgl\"}], \"histogram\": [{\"marker\": {\"colorbar\": {\"outlinewidth\": 0, \"ticks\": \"\"}}, \"type\": \"histogram\"}], \"histogram2d\": [{\"colorbar\": {\"outlinewidth\": 0, \"ticks\": \"\"}, \"colorscale\": [[0.0, \"#0d0887\"], [0.1111111111111111, \"#46039f\"], [0.2222222222222222, \"#7201a8\"], [0.3333333333333333, \"#9c179e\"], [0.4444444444444444, \"#bd3786\"], [0.5555555555555556, \"#d8576b\"], [0.6666666666666666, \"#ed7953\"], [0.7777777777777778, \"#fb9f3a\"], [0.8888888888888888, \"#fdca26\"], [1.0, \"#f0f921\"]], \"type\": \"histogram2d\"}], \"histogram2dcontour\": [{\"colorbar\": {\"outlinewidth\": 0, \"ticks\": \"\"}, \"colorscale\": [[0.0, \"#0d0887\"], [0.1111111111111111, \"#46039f\"], [0.2222222222222222, \"#7201a8\"], [0.3333333333333333, \"#9c179e\"], [0.4444444444444444, \"#bd3786\"], [0.5555555555555556, \"#d8576b\"], [0.6666666666666666, \"#ed7953\"], [0.7777777777777778, \"#fb9f3a\"], [0.8888888888888888, \"#fdca26\"], [1.0, \"#f0f921\"]], \"type\": \"histogram2dcontour\"}], \"mesh3d\": [{\"colorbar\": {\"outlinewidth\": 0, \"ticks\": \"\"}, \"type\": \"mesh3d\"}], \"parcoords\": [{\"line\": {\"colorbar\": {\"outlinewidth\": 0, \"ticks\": \"\"}}, \"type\": \"parcoords\"}], \"pie\": [{\"automargin\": true, \"type\": \"pie\"}], \"scatter\": [{\"marker\": {\"colorbar\": {\"outlinewidth\": 0, \"ticks\": \"\"}}, \"type\": \"scatter\"}], \"scatter3d\": [{\"line\": {\"colorbar\": {\"outlinewidth\": 0, \"ticks\": \"\"}}, \"marker\": {\"colorbar\": {\"outlinewidth\": 0, \"ticks\": \"\"}}, \"type\": \"scatter3d\"}], \"scattercarpet\": [{\"marker\": {\"colorbar\": {\"outlinewidth\": 0, \"ticks\": \"\"}}, \"type\": \"scattercarpet\"}], \"scattergeo\": [{\"marker\": {\"colorbar\": {\"outlinewidth\": 0, \"ticks\": \"\"}}, \"type\": \"scattergeo\"}], \"scattergl\": [{\"marker\": {\"colorbar\": {\"outlinewidth\": 0, \"ticks\": \"\"}}, \"type\": \"scattergl\"}], \"scattermapbox\": [{\"marker\": {\"colorbar\": {\"outlinewidth\": 0, \"ticks\": \"\"}}, \"type\": \"scattermapbox\"}], \"scatterpolar\": [{\"marker\": {\"colorbar\": {\"outlinewidth\": 0, \"ticks\": \"\"}}, \"type\": \"scatterpolar\"}], \"scatterpolargl\": [{\"marker\": {\"colorbar\": {\"outlinewidth\": 0, \"ticks\": \"\"}}, \"type\": \"scatterpolargl\"}], \"scatterternary\": [{\"marker\": {\"colorbar\": {\"outlinewidth\": 0, \"ticks\": \"\"}}, \"type\": \"scatterternary\"}], \"surface\": [{\"colorbar\": {\"outlinewidth\": 0, \"ticks\": \"\"}, \"colorscale\": [[0.0, \"#0d0887\"], [0.1111111111111111, \"#46039f\"], [0.2222222222222222, \"#7201a8\"], [0.3333333333333333, \"#9c179e\"], [0.4444444444444444, \"#bd3786\"], [0.5555555555555556, \"#d8576b\"], [0.6666666666666666, \"#ed7953\"], [0.7777777777777778, \"#fb9f3a\"], [0.8888888888888888, \"#fdca26\"], [1.0, \"#f0f921\"]], \"type\": \"surface\"}], \"table\": [{\"cells\": {\"fill\": {\"color\": \"#EBF0F8\"}, \"line\": {\"color\": \"white\"}}, \"header\": {\"fill\": {\"color\": \"#C8D4E3\"}, \"line\": {\"color\": \"white\"}}, \"type\": \"table\"}]}, \"layout\": {\"annotationdefaults\": {\"arrowcolor\": \"#2a3f5f\", \"arrowhead\": 0, \"arrowwidth\": 1}, \"coloraxis\": {\"colorbar\": {\"outlinewidth\": 0, \"ticks\": \"\"}}, \"colorscale\": {\"diverging\": [[0, \"#8e0152\"], [0.1, \"#c51b7d\"], [0.2, \"#de77ae\"], [0.3, \"#f1b6da\"], [0.4, \"#fde0ef\"], [0.5, \"#f7f7f7\"], [0.6, \"#e6f5d0\"], [0.7, \"#b8e186\"], [0.8, \"#7fbc41\"], [0.9, \"#4d9221\"], [1, \"#276419\"]], \"sequential\": [[0.0, \"#0d0887\"], [0.1111111111111111, \"#46039f\"], [0.2222222222222222, \"#7201a8\"], [0.3333333333333333, \"#9c179e\"], [0.4444444444444444, \"#bd3786\"], [0.5555555555555556, \"#d8576b\"], [0.6666666666666666, \"#ed7953\"], [0.7777777777777778, \"#fb9f3a\"], [0.8888888888888888, \"#fdca26\"], [1.0, \"#f0f921\"]], \"sequentialminus\": [[0.0, \"#0d0887\"], [0.1111111111111111, \"#46039f\"], [0.2222222222222222, \"#7201a8\"], [0.3333333333333333, \"#9c179e\"], [0.4444444444444444, \"#bd3786\"], [0.5555555555555556, \"#d8576b\"], [0.6666666666666666, \"#ed7953\"], [0.7777777777777778, \"#fb9f3a\"], [0.8888888888888888, \"#fdca26\"], [1.0, \"#f0f921\"]]}, \"colorway\": [\"#636efa\", \"#EF553B\", \"#00cc96\", \"#ab63fa\", \"#FFA15A\", \"#19d3f3\", \"#FF6692\", \"#B6E880\", \"#FF97FF\", \"#FECB52\"], \"font\": {\"color\": \"#2a3f5f\"}, \"geo\": {\"bgcolor\": \"white\", \"lakecolor\": \"white\", \"landcolor\": \"#E5ECF6\", \"showlakes\": true, \"showland\": true, \"subunitcolor\": \"white\"}, \"hoverlabel\": {\"align\": \"left\"}, \"hovermode\": \"closest\", \"mapbox\": {\"style\": \"light\"}, \"paper_bgcolor\": \"white\", \"plot_bgcolor\": \"#E5ECF6\", \"polar\": {\"angularaxis\": {\"gridcolor\": \"white\", \"linecolor\": \"white\", \"ticks\": \"\"}, \"bgcolor\": \"#E5ECF6\", \"radialaxis\": {\"gridcolor\": \"white\", \"linecolor\": \"white\", \"ticks\": \"\"}}, \"scene\": {\"xaxis\": {\"backgroundcolor\": \"#E5ECF6\", \"gridcolor\": \"white\", \"gridwidth\": 2, \"linecolor\": \"white\", \"showbackground\": true, \"ticks\": \"\", \"zerolinecolor\": \"white\"}, \"yaxis\": {\"backgroundcolor\": \"#E5ECF6\", \"gridcolor\": \"white\", \"gridwidth\": 2, \"linecolor\": \"white\", \"showbackground\": true, \"ticks\": \"\", \"zerolinecolor\": \"white\"}, \"zaxis\": {\"backgroundcolor\": \"#E5ECF6\", \"gridcolor\": \"white\", \"gridwidth\": 2, \"linecolor\": \"white\", \"showbackground\": true, \"ticks\": \"\", \"zerolinecolor\": \"white\"}}, \"shapedefaults\": {\"line\": {\"color\": \"#2a3f5f\"}}, \"ternary\": {\"aaxis\": {\"gridcolor\": \"white\", \"linecolor\": \"white\", \"ticks\": \"\"}, \"baxis\": {\"gridcolor\": \"white\", \"linecolor\": \"white\", \"ticks\": \"\"}, \"bgcolor\": \"#E5ECF6\", \"caxis\": {\"gridcolor\": \"white\", \"linecolor\": \"white\", \"ticks\": \"\"}}, \"title\": {\"x\": 0.05}, \"xaxis\": {\"automargin\": true, \"gridcolor\": \"white\", \"linecolor\": \"white\", \"ticks\": \"\", \"title\": {\"standoff\": 15}, \"zerolinecolor\": \"white\", \"zerolinewidth\": 2}, \"yaxis\": {\"automargin\": true, \"gridcolor\": \"white\", \"linecolor\": \"white\", \"ticks\": \"\", \"title\": {\"standoff\": 15}, \"zerolinecolor\": \"white\", \"zerolinewidth\": 2}}}, \"title\": {\"text\": \"Adult Lift Ticket Prices\", \"x\": 0.5}, \"width\": 1000, \"xaxis\": {\"anchor\": \"y\", \"domain\": [0.0, 1.0], \"title\": {\"text\": \"Ski Resort\"}}, \"yaxis\": {\"anchor\": \"x\", \"domain\": [0.0, 1.0], \"title\": {\"text\": \"Price ($)\"}}},                        {\"responsive\": true}                    ).then(function(){\n",
       "                            \n",
       "var gd = document.getElementById('5d4d3617-b8f4-4657-aea6-28426719fb61');\n",
       "var x = new MutationObserver(function (mutations, observer) {{\n",
       "        var display = window.getComputedStyle(gd).display;\n",
       "        if (!display || display === 'none') {{\n",
       "            console.log([gd, 'removed!']);\n",
       "            Plotly.purge(gd);\n",
       "            observer.disconnect();\n",
       "        }}\n",
       "}});\n",
       "\n",
       "// Listen for the removal of the full notebook cells\n",
       "var notebookContainer = gd.closest('#notebook-container');\n",
       "if (notebookContainer) {{\n",
       "    x.observe(notebookContainer, {childList: true});\n",
       "}}\n",
       "\n",
       "// Listen for the clearing of the current output cell\n",
       "var outputEl = gd.closest('.output');\n",
       "if (outputEl) {{\n",
       "    x.observe(outputEl, {childList: true});\n",
       "}}\n",
       "\n",
       "                        })                };                });            </script>        </div>"
      ]
     },
     "metadata": {},
     "output_type": "display_data"
    }
   ],
   "source": [
    "#using plotly to plot the top featurescolor=\n",
    "fig = px.bar(r_df, x=\"ski_resort\", y=[\"adultWeekdayPrice\", \"adultWeekendPrice\"],\n",
    "            width=1000, height=500)\n",
    "fig.update_layout(title_text='Adult Lift Ticket Prices',\n",
    "                  title_x=0.5,\n",
    "                  xaxis_title=\"Ski Resort\",\n",
    "                  yaxis_title=\"Price ($)\",\n",
    "                 plot_bgcolor='white',\n",
    "                 font=dict(size=14),\n",
    "                 barmode='group')\n",
    "\n",
    "newnames = {\"adultWeekdayPrice\":'Weekday Price', \"adultWeekendPrice\": 'Weekend Price'}\n",
    "fig.for_each_trace(lambda t: t.update(name = newnames[t.name],\n",
    "                                      legendgroup = newnames[t.name],\n",
    "                                       hovertemplate = t.hovertemplate.replace(t.name, newnames[t.name])\n",
    "                                      )\n",
    "                 )\n",
    "\n",
    "fig.update_traces(textposition='outside')               \n",
    "              \n",
    "fig.show()"
   ]
  },
  {
   "cell_type": "markdown",
   "metadata": {},
   "source": [
    "# Results"
   ]
  },
  {
   "cell_type": "markdown",
   "metadata": {},
   "source": [
    "### Collaborative Filtering\n",
    "\n",
    "The best collaborative filtering model was a Singular Value Decomposition (SVD) model with a RMSE score of 0.90. While this score is relatively good considering the small size of the final dataset, there were instances where the results did not entirely correspond to previous user reviews. Potential factors contributing to this include user bias, rating distribution, and the limited size of the dataset. \n",
    "\n",
    "![img](images/rating_distribution.png)\n",
    "\n",
    "Considering the high opportunity cost associated with planning a ski trip, relying solely on a user-based system is insufficient to provide users with tailored recommendations that account for factors such as cost and time of year. While identifying similar users is crucial, it is essential to consider additional elements when making recommendations.\n",
    "\n",
    "### Cascade-Hybrid Model\n",
    "\n",
    "The final model was the cascade-hybrid model that has been [deployed](https://stephcia-ski-recommendation-system-ski-model-stephanie-zs77j6.streamlit.app/) on streamlit. The system incorporated both content-based and collaborative filtering approaches in making ski-resort recommendations. To content-based system refined recommendations based on user filters and resort similarities and was crucial in making helpful recommendations. \n",
    "\n",
    "### User Feedback\n",
    "\n",
    "To gain deeper insights into the recommendations, I sought feedback from two users who completed the resort survey and provided a brief overview of their mountain preferences. These users utilized the demo stremlit model to input their filters and review the recommendations.\n",
    "\n",
    "Based on the user feedback, the recommendation system demonstrates strong performance in suggesting ski resorts that align with user past reviews and preferences."
   ]
  },
  {
   "cell_type": "markdown",
   "metadata": {},
   "source": [
    "# Conclusions"
   ]
  },
  {
   "cell_type": "markdown",
   "metadata": {},
   "source": [
    "The recommendation system demonstrates strong performance in suggesting ski resorts that align with user inputs. Though, there are times when the output does not seem entirely alligned with the user preferences or former reviews. I believe this is due to the review datatset, being that not all resorts included in the content model were reviewed by users and due to the fact that users with 3 reviews were included in the dataset.\n",
    "\n",
    "Though the results could use some fine tuning, the recommendation system utilizes collaborative filtering and content-based approaches to provide strong recommendations based on user preferences and resort characteristics. The cascade hybrid model returns resorts that are more in line with past user ratings, compared to the collaborative model alone. This is due to individual filtering and the similarity matrix that the content based system utilizes.\n",
    "\n",
    "It is important to acknowledge that recommendations are inherently subjective, as they rely on individual preferences and the available dataset. To further enhance the system and ensure continuous optimization, user feedback is needed. By incorporating user feedback, the recommendations can be refined and the overall user experience improved, creating a more personalized system that caters to individual preferences."
   ]
  },
  {
   "cell_type": "markdown",
   "metadata": {},
   "source": [
    "\n",
    "# Next Steps"
   ]
  },
  {
   "cell_type": "markdown",
   "metadata": {},
   "source": [
    "Next steps involve, expanding the dataset with additional user ratings and features, collecting first party data through ski resort partnerships, and deploying a web application:\n",
    "\n",
    "- The OnTheSnow ratings dataset did not have unique user IDs for each rating, which reduced the number of reviews used to create the collaborative model. As a result, not all ski resorts in the USA were included. By incorporating more reviews, more mountains will be included in the collaborative filtering process which could result in more accurate recommendations.\n",
    "\n",
    "- Once additional user ratings are collected, the cascade hybrid model will be fine-tuned and the main algorithms re-run.\n",
    "\n",
    "- Finally, additional feature characteristics related to the resort towns and mountains will be incorporated. These features could include ratings and assessments of mountain restaurants, parking information, lodging options, après-ski activities, ski rentals, and other amenities available in the resort towns. By including these metrics in the recommendation system, a more comprehensive and personalized service can be provided, catering to diverse preferences and requirements, for a focus that is greater than skiing."
   ]
  }
 ],
 "metadata": {
  "kernelspec": {
   "display_name": "Python (learn-env)",
   "language": "python",
   "name": "learn-env"
  },
  "language_info": {
   "codemirror_mode": {
    "name": "ipython",
    "version": 3
   },
   "file_extension": ".py",
   "mimetype": "text/x-python",
   "name": "python",
   "nbconvert_exporter": "python",
   "pygments_lexer": "ipython3",
   "version": "3.8.5"
  }
 },
 "nbformat": 4,
 "nbformat_minor": 4
}
