{
 "cells": [
  {
   "cell_type": "markdown",
   "metadata": {},
   "source": [
    "# Avant Ski"
   ]
  },
  {
   "cell_type": "markdown",
   "metadata": {},
   "source": [
    "by: Stephanie Ciaccia"
   ]
  },
  {
   "cell_type": "markdown",
   "metadata": {},
   "source": [
    "# Overview"
   ]
  },
  {
   "cell_type": "markdown",
   "metadata": {},
   "source": [
    "Skiing holds a prominent place for those seeking winter recreational activities in the United States. With its stunning mountain ranges and diverse terrain, the country boasts numerous ski resorts that cater to all skill levels, from beginners to seasoned professionals. \n",
    "\n",
    "Skiing offers a unique blend of adventure, physical activity, and natural beauty, making it a popular choice for winter enthusiasts seeking both relaxation and excitement.\n",
    "\n",
    "The ski market in the United States is thriving, contributing significantly to the economy. According to the [National Ski Areas Association (NSAA)](chrome-extension://efaidnbmnnnibpcajpcglclefindmkaj/https://nsaa.org/webdocs/Media_Public/IndustryStats/Historical_Skier_Days_1979_2022.pdf), approximately 60.7 million skiers and snowboarders visited 473 ski resorts in the 2021-2022 winter season."
   ]
  },
  {
   "cell_type": "markdown",
   "metadata": {},
   "source": [
    "# Business Problem"
   ]
  },
  {
   "cell_type": "markdown",
   "metadata": {},
   "source": [
    "Skiing is an exhilarating winter activity enjoyed by many, but barriers such as high costs and limited accessibility often hinder people from fully experiencing its joys. Choosing the right ski resort can be overwhelming due to the multitude of options available, and existing websites lack dynamic filtering capabilities based on user preferences.\n",
    "\n",
    "To address these challenges, I'm developing Avant Ski, a ski resort recommendation app. Avant Ski simplifies the ski resort selection process by leveraging data and user preferences. With dynamic filtering features, users can personalize their search based on budget, location, amenities, and skill level. By bridging the gap between ski enthusiasts and their dream destinations, Avant Ski makes skiing accessible to a wider audience, empowering them to plan unforgettable ski trips with confidence."
   ]
  },
  {
   "cell_type": "markdown",
   "metadata": {},
   "source": [
    "# Data Understanding"
   ]
  },
  {
   "cell_type": "code",
   "execution_count": 1,
   "metadata": {},
   "outputs": [],
   "source": [
    "import pandas as pd\n",
    "import numpy as np\n",
    "import math\n",
    "from datetime import datetime\n",
    "import datetime\n",
    "from scipy import stats\n",
    "\n",
    "import matplotlib.pyplot as plt\n",
    "import seaborn as sns\n",
    "%matplotlib inline\n",
    "import plotly\n",
    "import plotly.express as px\n",
    "import plotly.io as pio\n",
    "from matplotlib.ticker import StrMethodFormatter\n",
    "import plotly.graph_objects as go\n",
    "\n",
    "from surprise.model_selection import cross_validate\n",
    "from surprise import Dataset, Reader, accuracy\n",
    "from surprise.prediction_algorithms import KNNWithMeans, KNNBasic, KNNBaseline, KNNWithZScore,  SVD, SVDpp, NMF, BaselineOnly, NormalPredictor\n",
    "from surprise.model_selection import GridSearchCV, cross_validate, train_test_split\n",
    "\n",
    "from collections import Counter\n",
    "from nltk.corpus import stopwords\n",
    "\n",
    "from IPython.display import Image, display\n",
    "\n",
    "import glob\n",
    "import os"
   ]
  },
  {
   "cell_type": "markdown",
   "metadata": {},
   "source": [
    "Function to print full rows"
   ]
  },
  {
   "cell_type": "code",
   "execution_count": 2,
   "metadata": {},
   "outputs": [],
   "source": [
    "def print_full(x):\n",
    "    pd.set_option('display.max_rows', len(x))\n",
    "    print(x)\n",
    "    pd.reset_option('display.max_rows')"
   ]
  },
  {
   "cell_type": "markdown",
   "metadata": {},
   "source": [
    "# Importing Data Files"
   ]
  },
  {
   "cell_type": "code",
   "execution_count": 3,
   "metadata": {},
   "outputs": [],
   "source": [
    "snow_df = pd.read_csv(\"data/OnTheSnow_SkiAreaReviews_clean.csv\")\n",
    "survey_df = pd.read_csv(\"data/usa_ski_resort_survey.csv\")\n",
    "scraped_df = pd.read_csv(\"data/onthesnow_scrape_170523_cleaned.csv\")\n",
    "second_scrape = pd.read_csv(\"data/OnTheSnow_Srape_2_200523_cleaned.csv\")"
   ]
  },
  {
   "cell_type": "code",
   "execution_count": 4,
   "metadata": {},
   "outputs": [],
   "source": [
    "#airbnb scrape four guest listings\n",
    "dec_4_airbnb_mean_final = pd.read_csv(\"cleaned_data_exports/scraped_cleaned/dec_4_airbnb_mean_final.csv\")\n",
    "jan_4_airbnb_mean_final = pd.read_csv(\"cleaned_data_exports/scraped_cleaned/jan_4_airbnb_mean_final.csv\")\n",
    "feb_4_airbnb_mean_final = pd.read_csv(\"cleaned_data_exports/scraped_cleaned/feb_4_airbnb_mean_final.csv\")\n",
    "mar_4_airbnb_mean_final = pd.read_csv(\"cleaned_data_exports/scraped_cleaned/mar_4_airbnb_mean_final.csv\")\n",
    "apr_4_airbnb_mean_final = pd.read_csv(\"cleaned_data_exports/scraped_cleaned/apr_4_airbnb_mean_final.csv\")\n",
    "may_4_airbnb_mean_final = pd.read_csv(\"cleaned_data_exports/scraped_cleaned/may_4_airbnb_mean_final.csv\")\n",
    "\n",
    "#airbnb scrape two guest listings\n",
    "dec_2_airbnb_mean_final = pd.read_csv(\"cleaned_data_exports/scraped_cleaned/dec_2_airbnb_mean_final.csv\")\n",
    "jan_2_airbnb_mean_final = pd.read_csv(\"cleaned_data_exports/scraped_cleaned/jan_2_airbnb_mean_final.csv\")\n",
    "feb_2_airbnb_mean_final = pd.read_csv(\"cleaned_data_exports/scraped_cleaned/feb_2_airbnb_mean_final.csv\")\n",
    "mar_2_airbnb_mean_final = pd.read_csv(\"cleaned_data_exports/scraped_cleaned/mar_2_airbnb_mean_final.csv\")\n",
    "apr_2_airbnb_mean_final = pd.read_csv(\"cleaned_data_exports/scraped_cleaned/apr_2_airbnb_mean_final.csv\")\n",
    "may_2_airbnb_mean_final = pd.read_csv(\"cleaned_data_exports/scraped_cleaned/may_2_airbnb_mean_final.csv\")"
   ]
  },
  {
   "cell_type": "code",
   "execution_count": 5,
   "metadata": {},
   "outputs": [],
   "source": [
    "#google geocoding api\n",
    "latitude_df = pd.read_csv(\"data/mountain_lat_long.csv\")"
   ]
  },
  {
   "cell_type": "markdown",
   "metadata": {},
   "source": [
    "### Data Source #1 - OnTheSnow (Kaggle)\n",
    "### User Based Filtering Dataset"
   ]
  },
  {
   "cell_type": "markdown",
   "metadata": {},
   "source": [
    "The main dataset for the user based collaborative model was pulled from [Kaggle]([https://www.kaggle.com/datasets/fredkellner/onthesnow-ski-area-reviews]). The dataset includes reviews scraped from OnTheSnow, a leading website that provides information about ski resorts and snow conditions found on Kaggle. \n",
    "\n",
    "There are 18,128 reviews from 291 ski resorts in the USA. The features include:\n",
    "\n",
    "- Ski Area\n",
    "- Reviewer Name \n",
    "- Review Date\n",
    "- Review Star Rating (out of 5)"
   ]
  },
  {
   "cell_type": "code",
   "execution_count": 6,
   "metadata": {},
   "outputs": [
    {
     "name": "stdout",
     "output_type": "stream",
     "text": [
      "<class 'pandas.core.frame.DataFrame'>\n",
      "RangeIndex: 18238 entries, 0 to 18237\n",
      "Data columns (total 6 columns):\n",
      " #   Column                         Non-Null Count  Dtype \n",
      "---  ------                         --------------  ----- \n",
      " 0   State                          18238 non-null  object\n",
      " 1   Ski Area                       18238 non-null  object\n",
      " 2   Reviewer Name                  18128 non-null  object\n",
      " 3   Review Date                    18238 non-null  object\n",
      " 4   Review Star Rating (out of 5)  18238 non-null  int64 \n",
      " 5   Review Text                    18226 non-null  object\n",
      "dtypes: int64(1), object(5)\n",
      "memory usage: 855.0+ KB\n"
     ]
    }
   ],
   "source": [
    "snow_df.info()"
   ]
  },
  {
   "cell_type": "code",
   "execution_count": 7,
   "metadata": {},
   "outputs": [
    {
     "data": {
      "text/html": [
       "<div>\n",
       "<style scoped>\n",
       "    .dataframe tbody tr th:only-of-type {\n",
       "        vertical-align: middle;\n",
       "    }\n",
       "\n",
       "    .dataframe tbody tr th {\n",
       "        vertical-align: top;\n",
       "    }\n",
       "\n",
       "    .dataframe thead th {\n",
       "        text-align: right;\n",
       "    }\n",
       "</style>\n",
       "<table border=\"1\" class=\"dataframe\">\n",
       "  <thead>\n",
       "    <tr style=\"text-align: right;\">\n",
       "      <th></th>\n",
       "      <th>State</th>\n",
       "      <th>Ski Area</th>\n",
       "      <th>Reviewer Name</th>\n",
       "      <th>Review Date</th>\n",
       "      <th>Review Star Rating (out of 5)</th>\n",
       "      <th>Review Text</th>\n",
       "    </tr>\n",
       "  </thead>\n",
       "  <tbody>\n",
       "    <tr>\n",
       "      <th>0</th>\n",
       "      <td>colorado</td>\n",
       "      <td>copper-mountain-resort</td>\n",
       "      <td>anonymous_user</td>\n",
       "      <td>3-Mar-04</td>\n",
       "      <td>3</td>\n",
       "      <td>I have a pass the includes other mountains but...</td>\n",
       "    </tr>\n",
       "    <tr>\n",
       "      <th>1</th>\n",
       "      <td>utah</td>\n",
       "      <td>brighton-resort</td>\n",
       "      <td>anonymous_user</td>\n",
       "      <td>2-Dec-04</td>\n",
       "      <td>4</td>\n",
       "      <td>I've been coming to Brighton for years. Unlike...</td>\n",
       "    </tr>\n",
       "    <tr>\n",
       "      <th>2</th>\n",
       "      <td>north-carolina</td>\n",
       "      <td>ski-beech-mountain-resort</td>\n",
       "      <td>anonymous_user</td>\n",
       "      <td>1-Jan-05</td>\n",
       "      <td>5</td>\n",
       "      <td>We went last Weekend, and it was the best snow...</td>\n",
       "    </tr>\n",
       "    <tr>\n",
       "      <th>3</th>\n",
       "      <td>new-mexico</td>\n",
       "      <td>red-river</td>\n",
       "      <td>anonymous_user</td>\n",
       "      <td>1-Mar-05</td>\n",
       "      <td>5</td>\n",
       "      <td>Love Red River we go every year!</td>\n",
       "    </tr>\n",
       "    <tr>\n",
       "      <th>4</th>\n",
       "      <td>pennsylvania</td>\n",
       "      <td>sno-mountain</td>\n",
       "      <td>anonymous_user</td>\n",
       "      <td>2-Mar-05</td>\n",
       "      <td>4</td>\n",
       "      <td>Great varied terrain, not crowded, good prices...</td>\n",
       "    </tr>\n",
       "  </tbody>\n",
       "</table>\n",
       "</div>"
      ],
      "text/plain": [
       "            State                   Ski Area   Reviewer Name Review Date  \\\n",
       "0        colorado     copper-mountain-resort  anonymous_user    3-Mar-04   \n",
       "1            utah            brighton-resort  anonymous_user    2-Dec-04   \n",
       "2  north-carolina  ski-beech-mountain-resort  anonymous_user    1-Jan-05   \n",
       "3      new-mexico                  red-river  anonymous_user    1-Mar-05   \n",
       "4    pennsylvania               sno-mountain  anonymous_user    2-Mar-05   \n",
       "\n",
       "   Review Star Rating (out of 5)  \\\n",
       "0                              3   \n",
       "1                              4   \n",
       "2                              5   \n",
       "3                              5   \n",
       "4                              4   \n",
       "\n",
       "                                         Review Text  \n",
       "0  I have a pass the includes other mountains but...  \n",
       "1  I've been coming to Brighton for years. Unlike...  \n",
       "2  We went last Weekend, and it was the best snow...  \n",
       "3                  Love Red River we go every year!   \n",
       "4  Great varied terrain, not crowded, good prices...  "
      ]
     },
     "execution_count": 7,
     "metadata": {},
     "output_type": "execute_result"
    }
   ],
   "source": [
    "snow_df.head()"
   ]
  },
  {
   "cell_type": "code",
   "execution_count": 8,
   "metadata": {},
   "outputs": [],
   "source": [
    "#renaming columns\n",
    "new_name = ['state', 'ski_resort', 'user_name','review_date', 'rating',\n",
    "           'review'] \n",
    "\n",
    "snow_df.columns = new_name"
   ]
  },
  {
   "cell_type": "code",
   "execution_count": 9,
   "metadata": {},
   "outputs": [
    {
     "data": {
      "text/html": [
       "<div>\n",
       "<style scoped>\n",
       "    .dataframe tbody tr th:only-of-type {\n",
       "        vertical-align: middle;\n",
       "    }\n",
       "\n",
       "    .dataframe tbody tr th {\n",
       "        vertical-align: top;\n",
       "    }\n",
       "\n",
       "    .dataframe thead th {\n",
       "        text-align: right;\n",
       "    }\n",
       "</style>\n",
       "<table border=\"1\" class=\"dataframe\">\n",
       "  <thead>\n",
       "    <tr style=\"text-align: right;\">\n",
       "      <th></th>\n",
       "      <th>state</th>\n",
       "      <th>ski_resort</th>\n",
       "      <th>user_name</th>\n",
       "      <th>review_date</th>\n",
       "      <th>rating</th>\n",
       "      <th>review</th>\n",
       "    </tr>\n",
       "  </thead>\n",
       "  <tbody>\n",
       "    <tr>\n",
       "      <th>0</th>\n",
       "      <td>colorado</td>\n",
       "      <td>copper-mountain-resort</td>\n",
       "      <td>anonymous_user</td>\n",
       "      <td>3-Mar-04</td>\n",
       "      <td>3</td>\n",
       "      <td>I have a pass the includes other mountains but...</td>\n",
       "    </tr>\n",
       "    <tr>\n",
       "      <th>1</th>\n",
       "      <td>utah</td>\n",
       "      <td>brighton-resort</td>\n",
       "      <td>anonymous_user</td>\n",
       "      <td>2-Dec-04</td>\n",
       "      <td>4</td>\n",
       "      <td>I've been coming to Brighton for years. Unlike...</td>\n",
       "    </tr>\n",
       "    <tr>\n",
       "      <th>2</th>\n",
       "      <td>north-carolina</td>\n",
       "      <td>ski-beech-mountain-resort</td>\n",
       "      <td>anonymous_user</td>\n",
       "      <td>1-Jan-05</td>\n",
       "      <td>5</td>\n",
       "      <td>We went last Weekend, and it was the best snow...</td>\n",
       "    </tr>\n",
       "    <tr>\n",
       "      <th>3</th>\n",
       "      <td>new-mexico</td>\n",
       "      <td>red-river</td>\n",
       "      <td>anonymous_user</td>\n",
       "      <td>1-Mar-05</td>\n",
       "      <td>5</td>\n",
       "      <td>Love Red River we go every year!</td>\n",
       "    </tr>\n",
       "    <tr>\n",
       "      <th>4</th>\n",
       "      <td>pennsylvania</td>\n",
       "      <td>sno-mountain</td>\n",
       "      <td>anonymous_user</td>\n",
       "      <td>2-Mar-05</td>\n",
       "      <td>4</td>\n",
       "      <td>Great varied terrain, not crowded, good prices...</td>\n",
       "    </tr>\n",
       "    <tr>\n",
       "      <th>...</th>\n",
       "      <td>...</td>\n",
       "      <td>...</td>\n",
       "      <td>...</td>\n",
       "      <td>...</td>\n",
       "      <td>...</td>\n",
       "      <td>...</td>\n",
       "    </tr>\n",
       "    <tr>\n",
       "      <th>18233</th>\n",
       "      <td>minnesota</td>\n",
       "      <td>lutsen-mountains</td>\n",
       "      <td>REBECCA CARTWRIGHT</td>\n",
       "      <td>14-Dec-20</td>\n",
       "      <td>4</td>\n",
       "      <td>Many workers on the lifts did not know how to ...</td>\n",
       "    </tr>\n",
       "    <tr>\n",
       "      <th>18234</th>\n",
       "      <td>new-mexico</td>\n",
       "      <td>sipapu-ski-and-summer-resort</td>\n",
       "      <td>Antonio  Martinez</td>\n",
       "      <td>15-Dec-20</td>\n",
       "      <td>5</td>\n",
       "      <td>staying in the \"hotel\" (\"motel\" on the sign ab...</td>\n",
       "    </tr>\n",
       "    <tr>\n",
       "      <th>18235</th>\n",
       "      <td>new-mexico</td>\n",
       "      <td>sipapu-ski-and-summer-resort</td>\n",
       "      <td>Antonio  Martinez</td>\n",
       "      <td>15-Dec-20</td>\n",
       "      <td>5</td>\n",
       "      <td>staying in the \"hotel\" (\"motel\" on the sign ab...</td>\n",
       "    </tr>\n",
       "    <tr>\n",
       "      <th>18236</th>\n",
       "      <td>new-mexico</td>\n",
       "      <td>taos-ski-valley</td>\n",
       "      <td>David Humphrey</td>\n",
       "      <td>15-Dec-20</td>\n",
       "      <td>5</td>\n",
       "      <td>Good skiing, have lost their way over the year...</td>\n",
       "    </tr>\n",
       "    <tr>\n",
       "      <th>18237</th>\n",
       "      <td>new-mexico</td>\n",
       "      <td>taos-ski-valley</td>\n",
       "      <td>David Humphrey</td>\n",
       "      <td>15-Dec-20</td>\n",
       "      <td>5</td>\n",
       "      <td>Good skiing, have lost their way over the year...</td>\n",
       "    </tr>\n",
       "  </tbody>\n",
       "</table>\n",
       "<p>18238 rows × 6 columns</p>\n",
       "</div>"
      ],
      "text/plain": [
       "                state                    ski_resort           user_name  \\\n",
       "0            colorado        copper-mountain-resort      anonymous_user   \n",
       "1                utah               brighton-resort      anonymous_user   \n",
       "2      north-carolina     ski-beech-mountain-resort      anonymous_user   \n",
       "3          new-mexico                     red-river      anonymous_user   \n",
       "4        pennsylvania                  sno-mountain      anonymous_user   \n",
       "...               ...                           ...                 ...   \n",
       "18233       minnesota              lutsen-mountains  REBECCA CARTWRIGHT   \n",
       "18234      new-mexico  sipapu-ski-and-summer-resort   Antonio  Martinez   \n",
       "18235      new-mexico  sipapu-ski-and-summer-resort   Antonio  Martinez   \n",
       "18236      new-mexico               taos-ski-valley      David Humphrey   \n",
       "18237      new-mexico               taos-ski-valley      David Humphrey   \n",
       "\n",
       "      review_date  rating                                             review  \n",
       "0        3-Mar-04       3  I have a pass the includes other mountains but...  \n",
       "1        2-Dec-04       4  I've been coming to Brighton for years. Unlike...  \n",
       "2        1-Jan-05       5  We went last Weekend, and it was the best snow...  \n",
       "3        1-Mar-05       5                  Love Red River we go every year!   \n",
       "4        2-Mar-05       4  Great varied terrain, not crowded, good prices...  \n",
       "...           ...     ...                                                ...  \n",
       "18233   14-Dec-20       4  Many workers on the lifts did not know how to ...  \n",
       "18234   15-Dec-20       5  staying in the \"hotel\" (\"motel\" on the sign ab...  \n",
       "18235   15-Dec-20       5  staying in the \"hotel\" (\"motel\" on the sign ab...  \n",
       "18236   15-Dec-20       5  Good skiing, have lost their way over the year...  \n",
       "18237   15-Dec-20       5  Good skiing, have lost their way over the year...  \n",
       "\n",
       "[18238 rows x 6 columns]"
      ]
     },
     "execution_count": 9,
     "metadata": {},
     "output_type": "execute_result"
    }
   ],
   "source": [
    "snow_df"
   ]
  },
  {
   "cell_type": "code",
   "execution_count": 10,
   "metadata": {},
   "outputs": [
    {
     "data": {
      "text/plain": [
       "array(['anon_1', 'anon_2', 'anon_3', 'anon_4', 'anon_5', 'anon_6',\n",
       "       'anon_7', 'anon_8', 'anon_9', 'Stephanie Ciaccia', 'Joseph Lewis',\n",
       "       'Alexandria Kelly', 'Deanna Uzarski', 'Raghava Kamalesh'],\n",
       "      dtype=object)"
      ]
     },
     "execution_count": 10,
     "metadata": {},
     "output_type": "execute_result"
    }
   ],
   "source": [
    "survey_df['user_name'].unique()"
   ]
  },
  {
   "cell_type": "code",
   "execution_count": 11,
   "metadata": {},
   "outputs": [
    {
     "name": "stdout",
     "output_type": "stream",
     "text": [
      "<class 'pandas.core.frame.DataFrame'>\n",
      "RangeIndex: 61 entries, 0 to 60\n",
      "Data columns (total 6 columns):\n",
      " #   Column       Non-Null Count  Dtype \n",
      "---  ------       --------------  ----- \n",
      " 0   review_date  61 non-null     object\n",
      " 1   state        61 non-null     object\n",
      " 2   ski_resort   61 non-null     object\n",
      " 3   rating       61 non-null     int64 \n",
      " 4   review       61 non-null     object\n",
      " 5   user_name    61 non-null     object\n",
      "dtypes: int64(1), object(5)\n",
      "memory usage: 3.0+ KB\n"
     ]
    }
   ],
   "source": [
    "survey_df.info()"
   ]
  },
  {
   "cell_type": "code",
   "execution_count": 12,
   "metadata": {},
   "outputs": [],
   "source": [
    "snow_df['review_date'] = pd.to_datetime(snow_df['review_date'])\n",
    "survey_df['review_date'] = pd.to_datetime(survey_df['review_date'])"
   ]
  },
  {
   "cell_type": "code",
   "execution_count": 13,
   "metadata": {},
   "outputs": [
    {
     "data": {
      "text/plain": [
       "ski-brule                        1315\n",
       "killington-resort                 204\n",
       "vail                              203\n",
       "winter-park-resort                191\n",
       "blue-mountain-ski-area            189\n",
       "                                 ... \n",
       "willard-mountain                   13\n",
       "otis-ridge-ski-area                13\n",
       "holiday-mountain                   13\n",
       "big-squaw-mountain-ski-resort      13\n",
       "whaleback-mountain                 12\n",
       "Name: ski_resort, Length: 291, dtype: int64"
      ]
     },
     "execution_count": 13,
     "metadata": {},
     "output_type": "execute_result"
    }
   ],
   "source": [
    "snow_df[\"ski_resort\"].value_counts()"
   ]
  },
  {
   "cell_type": "code",
   "execution_count": 14,
   "metadata": {},
   "outputs": [
    {
     "data": {
      "text/plain": [
       "anonymous_user         3026\n",
       "anonymous               304\n",
       "undefined undefined     130\n",
       "Mike                     49\n",
       "Ben                      49\n",
       "Ryan                     46\n",
       "Richard                  44\n",
       "Dan                      42\n",
       "David                    42\n",
       "Chris                    39\n",
       "Rob                      37\n",
       "Jeff                     36\n",
       "wolfman                  31\n",
       "Derek                    31\n",
       "Brian                    31\n",
       "Matt                     31\n",
       "iPhone                   28\n",
       "Michael                  28\n",
       "Nick                     27\n",
       "gma                      27\n",
       "Kevin                    27\n",
       "Jim                      26\n",
       "J                        25\n",
       "Steve                    25\n",
       "Jason                    23\n",
       "Jun                      23\n",
       "Mark                     23\n",
       "Joe                      23\n",
       "Justin                   22\n",
       "Paul                     22\n",
       "Name: user_name, dtype: int64"
      ]
     },
     "execution_count": 14,
     "metadata": {},
     "output_type": "execute_result"
    }
   ],
   "source": [
    "snow_df['user_name'].value_counts().head(30)"
   ]
  },
  {
   "cell_type": "markdown",
   "metadata": {},
   "source": [
    "To clean the review dataset, I had to drop the names of users that were not unique. I parsed through the dataset and continued to drop columns until only unique usernames or users with first and last names were left."
   ]
  },
  {
   "cell_type": "code",
   "execution_count": 15,
   "metadata": {},
   "outputs": [],
   "source": [
    "drop_list = [\"anonymous_user\", \"anonymous\",\"undefined undefined\",\"Mike\", \n",
    "             \"Ben\", \"Ryan\", \"Richard\", \"Dan\", \"David\", \"Chris\", \"Rob\", \"Jeff\",\n",
    "            \"Derek\", \"Brian\", \"Matt\", \"Michael\", \"iPhone\", \"Kevin\", \"Nick\",\n",
    "            \"Jim\", \"Steve\", \"Jason\", \"Mark\", \"Joe\", \"Paul\", \"Justin\", \"Scott\",\n",
    "            \"Bob\", \"Alex\", \"Carter\", \"Dave\", \"Tim\", \"Bill\", \"Andrew\", \"John\", \"Sam\",\n",
    "            \"James\", \"Kim\", \"Craig\", \"mike\", \"jason\", \"James\", \"Sam\", \"Kim\", \"mike\", \"peter\",\n",
    "            \"Jack\", \"Adam\", \"Tom\", \"Wes\", \"Jun\", \"Steven\", \"Max\", \"Matthew\", \"Laura\", \"Felipe\",\n",
    "            \"Greg\", \"Bryan\", \"Sarah\", \"Sara\", \"Christian\", \"Ray\", \"Connor\", \"Erin\", \"Emily\",\n",
    "            \"Luke\", \"Ed\", \"Patrick\", \"kyle\", \"Ken\", \"Linda\", \"Eric\", \"Aaron\", \"Jake\",\n",
    "            \"Josh\", \"Tony\", \"Abe\", \"Frank\", \"Peter\", \"Fred\", \"Arthur\", \"Lorraine\",\n",
    "            \"Phil\", \"Sean\", \"Will\", \"Julie\", \"Jon\", \"Amy\", \"Becky\", \"Shannon\", \"brendan\",\n",
    "            \"Kathy\", \"wayne\", \"Ethan\", \"Erika\", \"Jill\", \"Zoe\", \"Rick\", \"Wyatt\",\n",
    "            \"Tyler\", \"Andrea\", \"mark\", \"john\", \"Donna\", \"Jen\", \"Braden\", \"D\", \"Bryce\",\n",
    "            \"Rich\", \"Jared\", \"Jay\", \"Ann\", \"Brandon\", \"Nicholas\",\"Martin\",\n",
    "            'Robert', 'angelino','Anonymous',\n",
    "             'ty', 'jase', 'Jesse', 'Jennifer', 'Dustin', 'Natalie',\n",
    "             'Pat', 'anonymous user', 'matt', 'George', 'Kate',\n",
    "             'Daniel','Cindy', 'Barry', 'Todd', 'Melanie', 'Drew',\n",
    "             'Andy', 'Hochard','Wayne', 'dan',\n",
    "             'Charlie', 'Vanessa','Allen', 'Austin', 'Roger',\n",
    "             'Jerry', 'Scotty', 'Anon', 'Lucas', 'Brian', 'Lee', 'Taylor',\n",
    "            'brian', 'Lisa', 'Jade', 'Spencer', 'chris', 'Jenny', 'Amanda', 'Brett',\n",
    "            'Maria', 'Holly', 'iPad', 'Sylvia', 'iPhone (2)', 'Catherine', 'Hannah', 'Wade',\n",
    "            'Larry', 'Lauren','Noah', 'Bobby', 'Don', 'Christine', 'Stephen', 'Howard',\n",
    "             'Tanner', 'Tom', 'Casey', 'Kyle', 'Michelle', 'Shelby',\n",
    "             'Benjamin', 'Erik', 'Molly', 'Johnny', 'Chuck', 'Johnny',\n",
    "             'Nathan', 'Cathy', 'Shelley', 'Mary', 'Danny', 'mitch', 'Brad', 'Tammy', 'erik',\n",
    "            'Tricia', 'Nate', 'Pete']\n",
    "\n",
    "snow_df = snow_df[snow_df['user_name'].isin(drop_list) == False]"
   ]
  },
  {
   "cell_type": "code",
   "execution_count": 16,
   "metadata": {},
   "outputs": [
    {
     "data": {
      "text/plain": [
       "wolfman           31\n",
       "gma               27\n",
       "J                 25\n",
       "Tim Zheng         22\n",
       "Dave O            22\n",
       "                  ..\n",
       "gwiffie            7\n",
       "Nick Franchino     7\n",
       "MCPG               7\n",
       "Bill Deaton        7\n",
       "tc5                7\n",
       "Name: user_name, Length: 70, dtype: int64"
      ]
     },
     "execution_count": 16,
     "metadata": {},
     "output_type": "execute_result"
    }
   ],
   "source": [
    "snow_df['user_name'].value_counts().head(70)"
   ]
  },
  {
   "cell_type": "code",
   "execution_count": 17,
   "metadata": {},
   "outputs": [],
   "source": [
    "#renaming columns\n",
    "new_name = ['state', 'ski_resort', 'user_name','review_date', 'rating',\n",
    "           'review'] \n",
    "\n",
    "snow_df.columns = new_name"
   ]
  },
  {
   "cell_type": "markdown",
   "metadata": {},
   "source": [
    "After cleaning the usernames, I will be further narrowing down the number of users by only including users with more than 3 reviews."
   ]
  },
  {
   "cell_type": "code",
   "execution_count": 18,
   "metadata": {},
   "outputs": [],
   "source": [
    "# counting the number of reviews for each user\n",
    "value_counts = snow_df['user_name'].value_counts()\n",
    "\n",
    "# selecting only users with more than three reviews\n",
    "selected_users = value_counts[value_counts > 2].index\n",
    "\n",
    "# selecting only the rows where the user_name is in the selected_users list\n",
    "cleaned_snow = snow_df[snow_df['user_name'].isin(selected_users)]"
   ]
  },
  {
   "cell_type": "code",
   "execution_count": 19,
   "metadata": {},
   "outputs": [
    {
     "data": {
      "text/plain": [
       "thorne36               3\n",
       "Christopher Horner     3\n",
       "william c              3\n",
       "Dexter                 3\n",
       "rlhinvail              3\n",
       "                      ..\n",
       "Tim Zheng             22\n",
       "Dave O                22\n",
       "J                     25\n",
       "gma                   27\n",
       "wolfman               31\n",
       "Name: user_name, Length: 648, dtype: int64"
      ]
     },
     "execution_count": 19,
     "metadata": {},
     "output_type": "execute_result"
    }
   ],
   "source": [
    "cleaned_snow['user_name'].value_counts(ascending=True)"
   ]
  },
  {
   "cell_type": "markdown",
   "metadata": {},
   "source": [
    "Removing users with more than 3 reviews dropped the number of rows/final reviews to 2200."
   ]
  },
  {
   "cell_type": "code",
   "execution_count": 20,
   "metadata": {},
   "outputs": [
    {
     "name": "stdout",
     "output_type": "stream",
     "text": [
      "<class 'pandas.core.frame.DataFrame'>\n",
      "Int64Index: 2996 entries, 103 to 18199\n",
      "Data columns (total 6 columns):\n",
      " #   Column       Non-Null Count  Dtype         \n",
      "---  ------       --------------  -----         \n",
      " 0   state        2996 non-null   object        \n",
      " 1   ski_resort   2996 non-null   object        \n",
      " 2   user_name    2996 non-null   object        \n",
      " 3   review_date  2996 non-null   datetime64[ns]\n",
      " 4   rating       2996 non-null   int64         \n",
      " 5   review       2994 non-null   object        \n",
      "dtypes: datetime64[ns](1), int64(1), object(4)\n",
      "memory usage: 163.8+ KB\n"
     ]
    }
   ],
   "source": [
    "cleaned_snow.info()"
   ]
  },
  {
   "cell_type": "code",
   "execution_count": 21,
   "metadata": {},
   "outputs": [
    {
     "data": {
      "text/plain": [
       "array(['ericadyer', 'FroDog', 'jackson321', 'SammyG', 'Jill Adler',\n",
       "       'Twenz', 'anhillx', 'emj35', 'Benji Zimmerman', 'Roger Leo',\n",
       "       'filterban', 'JP', 'gkphi5', 'RippinSkiers', 'Jay C',\n",
       "       'Mark Rosasco', 'jay', 'Dan Gibson', 'stevenstclair', 'jwtime',\n",
       "       'Cherokee', 'treesker', 'hranee', 'gwiffie', 'stevenam', 'Gunny J',\n",
       "       'jim8588', 'Bmorabito', 'Richard 1', 'airgarden94', 'joey58242',\n",
       "       'Mike134', 'tom travis', 'bobbert', 'noonito', 'tsfoust',\n",
       "       'Art Zinn', 'steffenwolf', 'seniordude', 'Shartron',\n",
       "       'Mikey Likes It', 'Americansonofa', 'Randy Agness', 'sno_thing',\n",
       "       'sampanning', 'steep-n-deep ', 'jestertatt', 'Dantheman',\n",
       "       'swissnowtiger', 'brandon', 'flyersboy114', 'Ritt', 'Bob Butts',\n",
       "       'sharimcatee', 'iLiveToRide17', 'bodibran', 'yodeledihoo',\n",
       "       'tourist from Texas', 'p_nut', 'highvoltageguy', 'masterdel',\n",
       "       'govey80', 'horse', 'fcherichel', 'mwolske', 'mayham2k', 'Adye 1',\n",
       "       'MgoBlue', 'Randy Rogers', 'Bobby G', 'Hilferty', 'apken',\n",
       "       'Resort Travel', 'bodyflight', 'Bartakamoose', 'kbone77', 'swetsb',\n",
       "       'thorne36', 'CopPsychDoc', 'Frank Castellanos', 'soakandski',\n",
       "       'mtbporru', 'daniwrites', 'Les', 'belindajk', 'echi', 'J Berlo',\n",
       "       'danmclaw', 'markwittlich', 'sewardhorner', 'thereporter',\n",
       "       'hotdotsails', 'nzh0tg', 'Aguilar 1', 'ccampbell', 'AttyWSW',\n",
       "       'herbsmen', 'Philip H. Eckerberg', 'bermjl', 'bigw1313',\n",
       "       'pinkkid_2000', 'DoUcanoe2', 'John Gonzalez', 'Ontheslopes',\n",
       "       'joe castelli', 'skylolow', 'Queensland Skier', 'ski_hike',\n",
       "       'SweetSki', 'Juan', 'bwm30', 'Doodski', 'Shane Wicken',\n",
       "       'psuguy43094', 'joey440', 'volklmom', 'dane Koncan', 'mcc100',\n",
       "       'dave figenshu', 'SFCSkiGirl', 'mtskier', 'wisp', 'Ron', 'rt',\n",
       "       'pdxboarder', 'Eli', 'cmustard', 'Dave Varney', 'leerampolla',\n",
       "       'mjurkiewicz', 'Andrew Balcom', 'frankpa', 'Dave&DJ',\n",
       "       'max caswell', 'molly young', 'skifiend', 'bulldogmom', 'skibum40',\n",
       "       'A. cooper', 'iwill', 'TanMan', 'Ian Yuh', 'Julie79', 'Ronald',\n",
       "       'Robert Turner', 'jay_bone_22', 'Cody March', 'vedhed', 'ENWR',\n",
       "       'George P', 'Likeabat', 'beefcake1313', 'offwallstreet', 'smezhir',\n",
       "       'Terry', 'kooter', 'Alan M', 'Christopher Horner', 'jssctrent',\n",
       "       'Fauster', 'dubisaweapon', 'joegregdon', 'Karl', 'bangsezmax',\n",
       "       'Brian Thayer', 'MCPG', 'zakk', 'Unionhawk', 'Randy Whitson',\n",
       "       'hparks', 'WilleA', 'cpt0bvi0u5', 'ndboarder', 'smk1945',\n",
       "       'winstonwolf', 'Yoonseok Song', 'Barbra Pasker', 'mjnecaise',\n",
       "       'perrmj02', 'skinomad', 'haineroid', 'Catherine D', 'Richard B',\n",
       "       'Evan', 'Theresa 1', 'Scott Dillman', 'SkiBadger', 'tc5',\n",
       "       'safer_66', 'spack', 'Barker', 'Dave Freeman',\n",
       "       'Kyle Harmon Townsend', 'ryan', 'J', 'Reaper', 'alvlee01',\n",
       "       'chris  Bjornmose', 'istink', 'dancinjrl', 'shari ann', 'BSbost',\n",
       "       'crust', 'john mosher', 'pattwins', 'wespac187', 'Karen',\n",
       "       'Richard Min', 'joancoburn', 'Maureen', 'jfoldno7', 'Ian England',\n",
       "       'Ryan Pringnitz', 'skiergirl27 ', 'bostowyo', 'Jim Dana',\n",
       "       'brtn551', 'RICK STEPHENS', 'HelderbergComplainer', 'nastarfan',\n",
       "       'Ian', 'isaac reule', 'tandmkirk', 'H3NDR1X15', 'Jase', 'LDT',\n",
       "       'mrcompgov', 'brianwatts', 'davidlau123', 'Hunter McPherson',\n",
       "       'nmkelley', 'BO$$', 'Hotstick', 'newby24', 'passanto1',\n",
       "       'bluemoon1975', 'newsance', 'alex', 'Diane Saraceni', 'star1201',\n",
       "       'lumaye64', 'Thomas', 'SkiGalveston', 'papi6022', 'Simon', 'gma',\n",
       "       'flatlander13', 'mir0yan222', 'Burtoncustomjon', 'Peter Mende',\n",
       "       'mkt', 'JakeS513', 'Justin Howell', 'Matt Woodruff', 'Dylan',\n",
       "       'popski boy', 'cane700', 'Canadian', 'Heather', 'Chad', 'quinnman',\n",
       "       'Mike Barrett', 'Ski Bum', 'adube 1', 'Vance Boyer', 'Taos Rules',\n",
       "       'thesnowboarder', 'Greg morell', 'snowboarderboi', 'DubbelSac',\n",
       "       'GuyinNM', 'wolfman', 'Jeff Gibson', 'GOOFY RIDER',\n",
       "       'Nathan Dively', 'keneikirk', 'ryan dunlap', 'SGTDBP',\n",
       "       'R Lee Stump', 'Damon', 'ryannw', 'nanaandpapa', 'phisherman16',\n",
       "       'runner/skier', 'otgoal21', 'djgray', 'TheRidersProject', 'Dave O',\n",
       "       'eewdad', 'flyingrabbit', 'Carrie', 'Brian Lewis', 'ryanscottmac',\n",
       "       'Olivia', 'Andy D', 'beachbumltj', 'purplebunyz', 'Debbi',\n",
       "       'Dedmond', 'Bill Deaton', 'drdevon', 'ONTHESHITER', 'brian watts',\n",
       "       'Mark Lang', 'nnypa', 'Kase1', 'cody hamlin', 'Elliot Green',\n",
       "       'humanmap', 'medford_mike', 'Lori Kushar', 'Three2Ski',\n",
       "       'bandanasFTL', 'skijds', 'vadoc', 'Seth Christopher Bjorkman',\n",
       "       'stuck_in_614', 'johnny mack', 'powhound820', 'conboc',\n",
       "       'Jack Frost', 'Bruce', 'mjd2646', 'markiemark', 'JonIngalls',\n",
       "       'stmad12', 'Daniel Morris', 'JC', 'Al Cipparone', 'skiwithkids',\n",
       "       'ParkLife', 'Tim Zheng', 'cheezywhiz', 'Owen', 'Rachel', 'Colin',\n",
       "       'Danny Zhang', 'JJ', 'Shawn', 'rar768', 'Erik Szayna', 'S. Areno',\n",
       "       'christopher griffin', 'Nick Pope', 'johnny alonso', 'Jason Tubbs',\n",
       "       'Nick Park', 'scott', 'Charles Ball', 'loricipheran',\n",
       "       'skigenome57', 'Evan Wright', 'Brian K Palmer', 'Quinn',\n",
       "       'Devon Marques', 'Tahsha LePage', 'thowes', 'we3ski', 'Helenbry',\n",
       "       'Ray Baucum', 'Ktown', 'Jackson', \"Evan O'Connell\",\n",
       "       'Henry Hartley', 'Stan', 'Gary', 'Mark Fortin', 'Garrett Serwatka',\n",
       "       'Tremblay', 'Doug', 'Vicente Pinaula', 'Jeff Graham',\n",
       "       'Ross Bretherton', 'Jonathan', 'Karver', 'Nick Franchino', 'Amber',\n",
       "       'Monica', 'slcrazy00', 'Pierre', 'Charles Hallett', 'jhuntley87',\n",
       "       'shaun', 'Keith', 'Tj 1', 'David Moores', 'jessoe123',\n",
       "       'jessepollock', 'SkiGirlie', 'CTskinerd', 'Theiceskier', 'curbdog',\n",
       "       'jaynjay21', \"The Merry's\", 'Snowboarder2424', 'Drake',\n",
       "       'Brian Campbell', 'Clay King', 'Mark Gerardy', 'Lorenzo A',\n",
       "       'Andrew Harris', 'M', 'SkiForFree', 'Tommy T', 'Jason Buchta',\n",
       "       'Bill  Rymer', 'rocketal', \"Joseph O'Brien\", 'rbericson',\n",
       "       'skier11', 'tom', 'Benjamin Sawyer', 'C', 'sklein',\n",
       "       'AltSchneemann', 'wedge2edge', 'Eis_geist', 'MNSkier97',\n",
       "       'oneesnow', 'DaveO', 'kjack', 'village idiots', 'Verdi DiSesa',\n",
       "       'CompanionCube', 'RatherBeSkiing', 'Anelizk88', 'Brian Sloane',\n",
       "       'josephr93', 'tjkotula', 'sledbred', 'ctdiver', 'docmenach',\n",
       "       'douglas', 'OnTheEdge', 'Dexter', '40yrskibum', 'D.S.', 'Joan',\n",
       "       'Abe Gold', 'Robert Oliver', 'Matt McAuley', 'Scott Larson',\n",
       "       'Miyah and Keira Washington', 'Jacob', 'Nichole', 'Wendy', 'Nancy',\n",
       "       'Randy', 'Michaela', 'Dean', 'Annah Kim', 'Greg Smith', 'Clayton',\n",
       "       'Lou', 'Kris', 'Snow Boarder', 'Linda Smith', 'Sue', 'Carol',\n",
       "       'ann phelan', 'T LAFRANCE', 'Rich R', 'Rod', 'Morgan', 'Charles',\n",
       "       'Powder Fox', 'J R', 'Matt Martens', 'ChoochCharlie',\n",
       "       'falisethebeast', 'shelbymustang323', 'ski bum', 'william c',\n",
       "       'lname', 'skipoint0', 'Dude', 'dillonhudson13', 'Chris Comer',\n",
       "       'Ryan Craig', 'Jane', 'brianpenatzer', 'bigbluecrewtoy', 'tride',\n",
       "       'jccultrona', 'Adam C', 'lubbockroots', 'ostromsean',\n",
       "       'jloloughlin2', 'steve', 'colin', 'lukedborg', 'John Martin',\n",
       "       \"Eric's iPhone\", 'JR', 'Snowboarder', 'grazianotony27', 'Troy',\n",
       "       'Lynn Qu', 'Skibumm', 'rclover106', 'jdayneyesq', 'Dave B',\n",
       "       'joebevdunn', 'Mark Gurda', 'H Muns', 'Mathieu Greenwood',\n",
       "       'Tyler 1', 'iPhone (3)', 'B Ford', 'tatyana drakhlis', 'rmack501',\n",
       "       'Downriver skier', 'J. Cosenza', 'larsagren', 'Blaine Schweizer',\n",
       "       'kenneth morris', 'rozcaruso', 'Bobo Me', 'Megan G',\n",
       "       'Margaret Pfeiffer', 'John Barber', 'Nancy D.',\n",
       "       'Seth The Pow Hound', 'Prawn', 'ianmilesdoyle', 'Michael Beck',\n",
       "       'Tani Lucht', 'DB', 'Isabella  Hankins', 'Chewie W', 'Bo',\n",
       "       'Cole Dumas', 'Safiya', 'Jeremy West', 'Elizabeth', 'Jeff Wisdom',\n",
       "       'Jason S', 'marsharn', 'radtkej08', 'local skier',\n",
       "       'Mara Abrahamson', 'Kayla', 'Mike W', 'David Milford',\n",
       "       'Jean Evans', 'Jeffrey Cohen', 'Riley Mosher', 'Valero',\n",
       "       'Joe Migas', 'Sam Lehrich', 'Marie', 'chernad', 'chiahart95',\n",
       "       'B P', 'cath.haynes', 'David  Holz', 'Greg Matkosky',\n",
       "       'Jaden Rodriguez', 'Jim H', 'crowleylouis', 'Vince', 'ron',\n",
       "       'TODD BOLER', 'Scott Armour', 'L.', 'Nick Sabol', 'Austin Jackson',\n",
       "       'Drew Carlson', 'Jackson Mississippi', 'rlhinvail', 'Dave Ozz',\n",
       "       'Karen Edwards', 'Zohar Hirshfeld', 'Kyle M', 'Andrew Curtin',\n",
       "       'Askier', 'The Sports Exchange Missoula', 'Michael Lee',\n",
       "       'Robert Kalantari', 'Bob Ross', 'jplippens', 'mateonelson',\n",
       "       'Nate Moen', 'kellybrown26', 'pilager', 'Eli Cowperthwaite',\n",
       "       'Chris S', 'j2ronne', 'Peter Anania', 'Wendy Fiel', 'John S',\n",
       "       'Avi Plofsky', 'Christine Magnone', 'Magic Mann', 'mpemail',\n",
       "       'Aaron Halpern', 'brevanyoung', 'jrg123', 'nemo', 'Avery Zucco',\n",
       "       'Jake Manson', 'Ben Schaeffer', 'Jake Kindler', 'Shawn McKissick',\n",
       "       'jeff G', 'falllinemaniac Lobato', 'John Doe', 'tarp swan',\n",
       "       'Steven Freund', 'dude', 'zac', 'Jim undefined',\n",
       "       'Daniel undefined', 'George undefined', 'Steve undefined',\n",
       "       'Josh undefined', 'William undefined', 'Adam undefined',\n",
       "       'James undefined', 'Stuart undefined', 'John undefined',\n",
       "       'Karen undefined', 'Matt undefined', 'Michael undefined',\n",
       "       'Sam undefined', 'Brian undefined', 'Anna Smith', 'Rick Hunter',\n",
       "       'Cliff undefined', 'Victor undefined', 'davo41', 'undefined',\n",
       "       'Anonymous Anonymous', 'Powder  Hound', 'Miranda  McKean',\n",
       "       'David undefined', 'Dan undefined', 'Jay Larmee', 'Wes  Tolleson',\n",
       "       'Rich undefined', 'gary undefined', 'Dave undefined',\n",
       "       'Joseph  Nauber', 'gayendarren', 'Matt  H', 'Dave Morrison',\n",
       "       'Payton Sharum', 'Lori Young'], dtype=object)"
      ]
     },
     "execution_count": 21,
     "metadata": {},
     "output_type": "execute_result"
    }
   ],
   "source": [
    "cleaned_snow['user_name'].unique()"
   ]
  },
  {
   "cell_type": "code",
   "execution_count": 22,
   "metadata": {},
   "outputs": [],
   "source": [
    "#dropping duplicate rows\n",
    "cleaned_snow = cleaned_snow.drop_duplicates()"
   ]
  },
  {
   "cell_type": "markdown",
   "metadata": {},
   "source": [
    "#### Ski resort name - cleaning\n",
    "\n",
    "Since the target variable is the Ski Resort I will need to clean and update the names in all datasets to ensure they are consistent."
   ]
  },
  {
   "cell_type": "code",
   "execution_count": 23,
   "metadata": {},
   "outputs": [
    {
     "data": {
      "text/plain": [
       "array(['squaw-valley-usa', 'sun-valley', 'donner-ski-ranch', 'boreal',\n",
       "       'diamond-peak', 'mt-baker', 'alpental', 'stevens-pass-resort',\n",
       "       'the-summit-at-snoqualmie', 'mt-rose-ski-tahoe', 'mountain-high',\n",
       "       'snowshoe-mountain-resort', 'alyeska-resort', 'steamboat',\n",
       "       'alta-ski-area', 'snowbird', 'snowbasin', 'brighton-resort',\n",
       "       'solitude-mountain-resort', 'deer-valley-resort',\n",
       "       'park-city-mountain-resort', 'jackson-hole', 'sundance',\n",
       "       'brian-head-resort', 'bretton-woods', 'loon-mountain',\n",
       "       'sierra-at-tahoe', 'heavenly-mountain-resort', 'gunstock',\n",
       "       'sno-mountain', 'attitash', 'crystal-mountain-wa', 'vail',\n",
       "       'killington-resort', 'waterville-valley', 'kirkwood',\n",
       "       'copper-mountain-resort', 'breckenridge',\n",
       "       'arapahoe-basin-ski-area', 'keystone', 'boyne-mountain-resort',\n",
       "       'crystal-mountain', 'shanty-creek', 'cannonsburg',\n",
       "       'boyne-highlands', 'aspen-snowmass', 'sunday-river',\n",
       "       'mount-sunapee', 'sugar-bowl-resort', 'soda-springs',\n",
       "       'northstar-california', 'tahoe-donner', 'cannon-mountain',\n",
       "       'wachusett-mountain-ski-area', 'stratton-mountain', 'sugarbush',\n",
       "       'okemo-mountain-resort', 'lutsen-mountains',\n",
       "       'hyland-ski-snowboard-area', 'afton-alps', 'spirit-mountain',\n",
       "       'mt-hood-ski-bowl', 'loveland', 'beaver-creek',\n",
       "       'wild-mountain-ski-snowboard-area', 'winter-park-resort',\n",
       "       'lookout-pass-ski-area', 'taos-ski-valley',\n",
       "       'hidden-valley-ski-area', 'paoli-peaks', 'sugar-mountain-resort',\n",
       "       'monarch-mountain', 'ski-snowstar-winter-sports-park',\n",
       "       'bromley-mountain', 'canaan-valley-resort', 'silver-mountain',\n",
       "       'sunrise-park-resort', 'smugglers-notch-resort', 'big-bear',\n",
       "       'wisp', 'ski-santa-fe', 'mammoth-mountain-ski-area',\n",
       "       'cascade-mountain', 'devils-head', 'big-powderhorn-mountain',\n",
       "       'jay-peak', 'stowe-mountain-resort', 'pico-mountain-at-killington',\n",
       "       'elk-mountain-ski-resort', 'pajarito-mountain-ski-area',\n",
       "       'telluride', 'belleayre', 'angel-fire-resort',\n",
       "       'wolf-creek-ski-area', 'durango-mountain-resort',\n",
       "       'crested-butte-mountain-resort', 'arizona-snowbowl',\n",
       "       'bristol-mountain', 'hunter-mountain', 'snow-ridge',\n",
       "       'caberfae-peaks-ski-golf-resort', 'song-mountain',\n",
       "       'granite-peak-ski-area', 'sunburst', 'alpine-valley-resort',\n",
       "       'grand-geneva', 'wilmot-mountain', 'red-river', 'bear-valley',\n",
       "       'dodge-ridge', 'plattekill-mountain', 'mountain-creek-resort',\n",
       "       'gore-mountain', 'whiteface-mountain-resort',\n",
       "       'woods-valley-ski-area', 'mccauley-mountain-ski-center',\n",
       "       '49-degrees-north', 'timberline-lodge', 'berkshire-east',\n",
       "       'dry-hill-ski-area', 'grand-targhee-resort', 'powder-mountain',\n",
       "       'pebble-creek-ski-area', 'bogus-basin', 'tamarack-resort',\n",
       "       'tyrol-basin', 'blue-mountain-ski-area', 'snow-summit',\n",
       "       'holiday-valley', 'crotched-mountain', 'cataloochee-ski-area',\n",
       "       'nubs-nob-ski-area', 'wintergreen-resort', 'willamette-pass',\n",
       "       'hoodoo-ski-area', 'jack-frost', 'camelback-mountain-resort',\n",
       "       'mount-ashland', 'massanutten', 'wolf-ridge-ski-resort',\n",
       "       'mount-la-crosse', 'june-mountain', 'mt-hood-meadows',\n",
       "       'ski-butternut', 'mount-peter-ski-area',\n",
       "       'shawnee-mountain-ski-area', 'montana-snowbowl',\n",
       "       'windham-mountain', 'winterplace-ski-resort', 'pats-peak',\n",
       "       'spring-mountain-ski-area', 'bittersweet-ski-area',\n",
       "       'ski-china-peak', 'wolf-creek', 'liberty', 'swiss-valley',\n",
       "       'sugarloaf', 'new-hermon-mountain', 'sunlight-mountain-resort',\n",
       "       'snow-valley', 'snowy-range-ski-recreation-area', 'badger-pass',\n",
       "       'las-vegas-ski-and-snowboard-resort', 'ragged-mountain-resort',\n",
       "       'whitetail-resort', 'welch-village', 'buck-hill',\n",
       "       'terry-peak-ski-area', 'ski-apache', 'wildcat-mountain',\n",
       "       'cranmore-mountain-resort', 'bear-creek-mountain-resort',\n",
       "       'big-sky-resort', 'lost-trail-powder-mtn', 'discovery-ski-area',\n",
       "       'eldora-mountain-resort', 'bear-mountain',\n",
       "       'magic-mountain-ski-area', 'pomerelle-mountain-resort',\n",
       "       'sipapu-ski-and-summer-resort', 'indianhead-mountain',\n",
       "       'snow-king-resort', 'roundtop-mountain-resort',\n",
       "       'timberline-four-seasons', 'powderhorn', 'perfect-north-slopes',\n",
       "       'ski-mystic-at-deer-mountain', 'blacktail-mountain-ski-area',\n",
       "       'bridger-bowl', 'blue-hills-ski-area', 'schweitzer',\n",
       "       'whitefish-mountain-resort', 'great-divide', 'burke-mountain',\n",
       "       'mad-river-glen', 'appalachian-ski-mtn',\n",
       "       'ski-beech-mountain-resort', 'ober-gatlinburg-ski-resort',\n",
       "       'snow-creek', 'andes-tower-hills-ski-area',\n",
       "       'anthony-lakes-mountain-resort', 'hogadon', 'big-boulder',\n",
       "       'brundage-mountain-resort', 'mt-baldy', 'whitecap-mountain',\n",
       "       'chestnut-mountain-resort', 'villa-olivia', 'nordic-mountain',\n",
       "       'norway-mountain', 'mount-southington-ski-area', 'bolton-valley',\n",
       "       'ski-cooper', 'magic-mountain', 'mount-snow', 'christie-mountain',\n",
       "       'christmas-mountain', 'pine-mountain', 'jiminy-peak',\n",
       "       'powder-ridge-ski-area', 'silverton-mountain', 'timber-ridge',\n",
       "       'boston-mills', 'brandywine', 'peekn-peak',\n",
       "       'catamount-ski-ride-area', 'beaver-mountain', 'west-mountain',\n",
       "       'suicide-six', 'white-pass', 'giants-ridge-resort', 'ski-brule',\n",
       "       'bousquet-ski-area', 'otis-ridge-ski-area', 'blandford-ski-area',\n",
       "       'blackjack-ski-resort', 'marquette-mountain',\n",
       "       'mount-holiday-ski-area', 'kelly-canyon-ski-area', 'shawnee-peak',\n",
       "       'ski-sundown', 'sundown-mountain', 'bradford-ski-area',\n",
       "       'bryce-resort', 'blue-knob', 'mohawk-mountain', 'tussey-mountain',\n",
       "       'titus-mountain', 'mad-river-mountain', 'king-pine',\n",
       "       'campgaw-mountain', 'greek-peak', 'alpine-valley',\n",
       "       'holimont-ski-area', 'mount-bohemia', 'snow-trails', 'mt-bachelor',\n",
       "       'mt-abram-ski-resort', 'woodbury-ski-area', 'kissing-bridge',\n",
       "       'black-mountain', 'mount-holly', 'mission-ridge',\n",
       "       'toggenburg-mountain', 'ski-sawmill', 'sandia-peak', 'labrador-mt',\n",
       "       'soldier-mountain-ski-area', 'trollhaugen',\n",
       "       'mount-shasta-board-ski-park', 'eagle-point',\n",
       "       'coffee-mill-ski-snowboard-resort', 'bruce-mound',\n",
       "       'mount-brighton', 'brantling-ski-slopes', 'eagle-rock',\n",
       "       'cooper-spur', 'bluewood', 'big-squaw-mountain-ski-resort',\n",
       "       'mt-crescent-ski-area'], dtype=object)"
      ]
     },
     "execution_count": 23,
     "metadata": {},
     "output_type": "execute_result"
    }
   ],
   "source": [
    "cleaned_snow['ski_resort'].unique()"
   ]
  },
  {
   "cell_type": "code",
   "execution_count": 24,
   "metadata": {},
   "outputs": [],
   "source": [
    "#removing words to clean up resort names\n",
    "replace_snow = ['-ski-area', '-', 'resort', 'mt']\n",
    "replace_with = ['', ' ', '', 'mt.']\n",
    "\n",
    "cleaned_snow = cleaned_snow.replace(replace_snow, replace_with, regex=True)"
   ]
  },
  {
   "cell_type": "code",
   "execution_count": 25,
   "metadata": {},
   "outputs": [],
   "source": [
    "#making columns titlecase\n",
    "cleaned_snow['ski_resort'] = cleaned_snow['ski_resort'].str.title()\n",
    "cleaned_snow['state'] = cleaned_snow['state'].str.title()\n",
    "cleaned_snow['ski_resort'] = cleaned_snow['ski_resort'].str.strip()"
   ]
  },
  {
   "cell_type": "code",
   "execution_count": 26,
   "metadata": {},
   "outputs": [],
   "source": [
    "#replacing values to standardize endings/specific resort names\n",
    "replace_snow = ['At', 'Mtn', 'Mt.N', 'Mt. Hood Ski Bowl', 'And', r'\\bMount\\b']\n",
    "replace_with = ['at', 'Mountain', 'Mountain', 'Mt. Hood Skibowl', 'and', 'Mt.']\n",
    "\n",
    "cleaned_snow = cleaned_snow.replace(replace_snow, replace_with, regex=True)"
   ]
  },
  {
   "cell_type": "markdown",
   "metadata": {},
   "source": [
    "After inspecting resort names, there were a few resorts that had the same names or very similar names. I adjusted the names, and included the state in the resort names to differentiate the names."
   ]
  },
  {
   "cell_type": "code",
   "execution_count": 27,
   "metadata": {},
   "outputs": [],
   "source": [
    "#timberline\n",
    "cleaned_snow.loc[(cleaned_snow['ski_resort'] == \"Timberline Four Seasons\") & (cleaned_snow['state'] == \"West Virginia\"), 'ski_resort'] = \"Timberline Mountain\"\n",
    "\n",
    "#crystal mountain\n",
    "cleaned_snow.loc[(cleaned_snow['ski_resort'] == \"Crystal Mountain Wa\") & (cleaned_snow['state'] == \"Washington\"), 'ski_resort'] = \"Crystal Mountain Washington\"\n",
    "cleaned_snow.loc[(cleaned_snow['ski_resort'] == \"Crystal Mountain\") & (cleaned_snow['state'] == \"Michigan\"), 'ski_resort'] = \"Crystal Mountain Michigan\"\n",
    "\n",
    "#magic mountain\n",
    "cleaned_snow.loc[(cleaned_snow['ski_resort'] == \"Magic Mountain\") & (cleaned_snow['state'] == \"Vermont\"), 'ski_resort'] = \"Magic Mountain Vermont\"\n",
    "cleaned_snow.loc[(cleaned_snow['ski_resort'] == \"Magic Mountain\") & (cleaned_snow['state'] == \"Idaho\"), 'ski_resort'] = \"Magic Mountain Idaho\""
   ]
  },
  {
   "cell_type": "code",
   "execution_count": 28,
   "metadata": {},
   "outputs": [],
   "source": [
    "mountain_rep = ['Squaw Valley Usa',\n",
    "                'Mccauley Mountain Ski Center', 'attitash', 'Smugglers Notch',\n",
    "               'Pico Mountain at Killington', 'andes Tower Hills']\n",
    "\n",
    "mountain_new = ['Palisades Tahoe',\n",
    "               'McCauley Mountain Ski Center', 'Attitash', \"Smugglers' Notch\",\n",
    "               'Pico Mountain', 'Andes Tower Hills']\n",
    "\n",
    "cleaned_snow = cleaned_snow.replace(mountain_rep, mountain_new, regex=True)"
   ]
  },
  {
   "cell_type": "markdown",
   "metadata": {},
   "source": [
    "### Data Source #1 - Survey Data"
   ]
  },
  {
   "cell_type": "markdown",
   "metadata": {},
   "source": [
    "A third small dataset was collected through a [google survey]([https://docs.google.com/forms/d/1ROrGEkCh40RjbHidNCqg4SCCbY3_6DFNw0VWIhTEIGs/edit#responses]) I distributed to individuals who ski, including myself.\n",
    "\n",
    "I downloaded the sheets file from google and saved it as a .csv. A few individuals did not include their name, so I gave them unique \"anon\" names.\n",
    "\n",
    "I plan to use the names of three users that I know, to analyze the results from the model to see if they align with the users preferences. For those three users, I also asked that they send me a brief summary of the key characteristics they look for when choosing ski resorts to visit."
   ]
  },
  {
   "cell_type": "code",
   "execution_count": 29,
   "metadata": {},
   "outputs": [],
   "source": [
    "#making columns titlecase\n",
    "survey_df['ski_resort'] = survey_df['ski_resort'].str.title()\n",
    "survey_df['state'] = survey_df['state'].str.title()\n",
    "survey_df['ski_resort'] = survey_df['ski_resort'].str.strip()"
   ]
  },
  {
   "cell_type": "code",
   "execution_count": 30,
   "metadata": {},
   "outputs": [
    {
     "data": {
      "text/plain": [
       "['Alta',\n",
       " 'Arapahoe Basin',\n",
       " 'Aspen Highlands',\n",
       " 'Aspen Mountain',\n",
       " 'Bear Valley',\n",
       " 'Beaver Creek',\n",
       " 'Beaver Mountain',\n",
       " 'Breckenridge',\n",
       " 'Brighton',\n",
       " 'Cherry Peak',\n",
       " 'Copper',\n",
       " 'Copper Mountain',\n",
       " 'Crested Butte',\n",
       " 'Crystal Mountain - Wa',\n",
       " 'Deer Valley',\n",
       " 'Dodge Ridge',\n",
       " 'Gore Mountain',\n",
       " 'Hunter Mountain',\n",
       " 'Jackson Hole',\n",
       " 'Killington',\n",
       " 'Mammoth',\n",
       " 'Mammoth Mountain',\n",
       " 'Mccauley Mountain',\n",
       " 'Mt Baker',\n",
       " 'Mt. Rose',\n",
       " 'Nordic Valley',\n",
       " 'Palisades',\n",
       " 'Palisades Tahoe',\n",
       " 'Park City Mountain',\n",
       " 'Powder Mountain',\n",
       " 'Roundtop Mountain',\n",
       " 'Snow Ridge',\n",
       " 'Snowbird',\n",
       " 'Snowmass',\n",
       " 'Solitude',\n",
       " 'Steamboat',\n",
       " \"Steven'S Pass\",\n",
       " 'Stevens Pass',\n",
       " 'Stratton',\n",
       " 'Sugarbush',\n",
       " 'Taos',\n",
       " 'Telluride',\n",
       " 'Vail',\n",
       " 'Winter Park',\n",
       " 'Woods Valley']"
      ]
     },
     "execution_count": 30,
     "metadata": {},
     "output_type": "execute_result"
    }
   ],
   "source": [
    "list(survey_df['ski_resort'].sort_values().unique())"
   ]
  },
  {
   "cell_type": "markdown",
   "metadata": {},
   "source": [
    "Below, I manually parsed through the resort names and changed the names to match the names in the main dataframe."
   ]
  },
  {
   "cell_type": "code",
   "execution_count": 31,
   "metadata": {},
   "outputs": [],
   "source": [
    "mountain_rep = ['Crystal Mountain - Wa',\"Steven'S Pass\", 'Mammoth Mountain', 'Mammoth', 'Stratton',\n",
    "                'Mccauley Mountain', 'Taos', 'Snowmass', 'Palisades Tahoe', 'Palisades', 'Copper Mountain', 'Copper',\n",
    "                'Crested Butte', 'Mt. Rose', 'Mt Baker', 'Nordic Valley' ,'Solitude']\n",
    "mountain_rep_p = ['Crystal Mountain Washington', 'Stevens Pass', 'Mammoth', 'Mammoth Mountain','Stratton Mountain',\n",
    "                 'McCauley Mountain Ski Center', 'Taos Ski Valley', 'Aspen Snowmass', 'Palisades', 'Palisades Tahoe', 'Copper', 'Copper Mountain',\n",
    "                 'Crested Butte Mountain', 'Mt. Rose Ski Tahoe', 'Mt. Baker', 'Nordic Mountain', 'Solitude Mountain']\n",
    "\n",
    "survey_df = survey_df.replace(mountain_rep, mountain_rep_p, regex=True)"
   ]
  },
  {
   "cell_type": "code",
   "execution_count": 32,
   "metadata": {},
   "outputs": [],
   "source": [
    "# changing aspen resorts since all four mountains are part of snowmass\n",
    "mountain_r = ['Aspen Mountain', 'Aspen Highlands']\n",
    "\n",
    "survey_df = survey_df.replace(mountain_r, 'Aspen Snowmass', regex=True)"
   ]
  },
  {
   "cell_type": "code",
   "execution_count": 33,
   "metadata": {},
   "outputs": [
    {
     "data": {
      "text/plain": [
       "array(['Cherry Peak'], dtype=object)"
      ]
     },
     "execution_count": 33,
     "metadata": {},
     "output_type": "execute_result"
    }
   ],
   "source": [
    "#checking to see which names are different\n",
    "survey_df.loc[~survey_df['ski_resort'].isin(cleaned_snow['ski_resort']),\n",
    "                         'ski_resort'].unique()"
   ]
  },
  {
   "cell_type": "markdown",
   "metadata": {},
   "source": [
    "### Merging survey and OnTheSnow review data"
   ]
  },
  {
   "cell_type": "code",
   "execution_count": 34,
   "metadata": {},
   "outputs": [],
   "source": [
    "#merging survey review results and final onthesnow reviews\n",
    "final_ski_df = pd.concat([survey_df, cleaned_snow])"
   ]
  },
  {
   "cell_type": "code",
   "execution_count": 35,
   "metadata": {},
   "outputs": [],
   "source": [
    "#dropping null values\n",
    "final_ski_df = final_ski_df.dropna()"
   ]
  },
  {
   "cell_type": "code",
   "execution_count": 36,
   "metadata": {},
   "outputs": [],
   "source": [
    "#dropping duplicates\n",
    "final_ski_df = final_ski_df.drop_duplicates()"
   ]
  },
  {
   "cell_type": "code",
   "execution_count": 37,
   "metadata": {},
   "outputs": [
    {
     "name": "stdout",
     "output_type": "stream",
     "text": [
      "<class 'pandas.core.frame.DataFrame'>\n",
      "Int64Index: 2796 entries, 0 to 18198\n",
      "Data columns (total 6 columns):\n",
      " #   Column       Non-Null Count  Dtype         \n",
      "---  ------       --------------  -----         \n",
      " 0   review_date  2796 non-null   datetime64[ns]\n",
      " 1   state        2796 non-null   object        \n",
      " 2   ski_resort   2796 non-null   object        \n",
      " 3   rating       2796 non-null   int64         \n",
      " 4   review       2796 non-null   object        \n",
      " 5   user_name    2796 non-null   object        \n",
      "dtypes: datetime64[ns](1), int64(1), object(4)\n",
      "memory usage: 152.9+ KB\n"
     ]
    }
   ],
   "source": [
    "final_ski_df.info()"
   ]
  },
  {
   "cell_type": "code",
   "execution_count": 38,
   "metadata": {},
   "outputs": [],
   "source": [
    "#Blackjack ski and Indianhead combined to form Snowriver Mountain Resort\n",
    "blackjack = ['Blackjack Ski', 'Indianhead Mountain']\n",
    "\n",
    "final_ski_df = final_ski_df.replace(blackjack, 'Snowriver Mountain Resort', regex=True)"
   ]
  },
  {
   "cell_type": "code",
   "execution_count": 39,
   "metadata": {},
   "outputs": [],
   "source": [
    "#updating names of resort names that have changed\n",
    "old_name = ['Durango Mountain','Las Vegas Ski and Snowboard','Shawnee Peak', 'Suicide Six', 'Snow Summit']\n",
    "new_name = ['Purgatory Mountain','Lee Canyon','Shawnee Mountain', 'Saskadena Six', 'Big Bear']\n",
    "\n",
    "final_ski_df = final_ski_df.replace(old_name, new_name, regex=True)"
   ]
  },
  {
   "cell_type": "code",
   "execution_count": 40,
   "metadata": {},
   "outputs": [],
   "source": [
    "# making dictionary for replacements to avoid doubling the names\n",
    "replacements = {\n",
    "    'Brandywine': 'Boston Mills and Brandywine',\n",
    "    'Boston Mills': 'Boston Mills and Brandywine'\n",
    "}\n",
    "\n",
    "# replacing\n",
    "final_ski_df['ski_resort'] = final_ski_df['ski_resort'].replace(replacements)"
   ]
  },
  {
   "cell_type": "code",
   "execution_count": 41,
   "metadata": {},
   "outputs": [],
   "source": [
    "#updating duplicate ski resort names and saving as new resort names that include the state names\n",
    "final_ski_df.loc[(final_ski_df['ski_resort'] == \"Crystal Mountain\") & (final_ski_df['state'] == \"Washington\"), 'ski_resort'] = \"Crystal Mountain Washington\"\n",
    "final_ski_df.loc[(final_ski_df['ski_resort'] == \"Crystal Mountain\") & (final_ski_df['state'] == \"Michigan\"), 'ski_resort'] = \"Crystal Mountain Michigan\"\n",
    "final_ski_df.loc[(final_ski_df['ski_resort'] == \"Crystal Mountain \") & (final_ski_df['state'] == \"Michigan\"), 'ski_resort'] = \"Crystal Mountain Michigan\"\n",
    "final_ski_df.loc[(final_ski_df['ski_resort'] == \"Powder Ridge\") & (final_ski_df['state'] == \"Minnesota\"), 'ski_resort'] = \"Powder Ridge Minnesota\"\n",
    "final_ski_df.loc[(final_ski_df['ski_resort'] == \"Powder Ridge\") & (final_ski_df['state'] == \"Connecticut\"), 'ski_resort'] = \"Powder Ridge Connecticut\"\n",
    "\n",
    "#alpine valley\n",
    "final_ski_df.loc[(final_ski_df['ski_resort'] == \"Alpine Valley\") & (final_ski_df['state'] == \"Wisconsin\"), 'ski_resort'] = \"Alpine Valley Wisconsin\"\n",
    "final_ski_df.loc[(final_ski_df['ski_resort'] == \"Alpine Valley\") & (final_ski_df['state'] == \"Ohio\"), 'ski_resort'] = \"Alpine Valley Ohio\""
   ]
  },
  {
   "cell_type": "code",
   "execution_count": 42,
   "metadata": {},
   "outputs": [],
   "source": [
    "#dropping Cherry Peak\n",
    "final_ski_df = final_ski_df.loc[(final_ski_df['ski_resort'] != \"Cherry Peak\")]"
   ]
  },
  {
   "cell_type": "code",
   "execution_count": 43,
   "metadata": {},
   "outputs": [],
   "source": [
    "#exporting final cleaned dataframe for OnTheSnow scrape\n",
    "#final_ski_df.to_csv(\"cleaned_data_exports/final_review_df_final.csv\")"
   ]
  },
  {
   "cell_type": "markdown",
   "metadata": {},
   "source": [
    "### Data Source #3 - OnTheSnow Scrape\n"
   ]
  },
  {
   "cell_type": "markdown",
   "metadata": {},
   "source": [
    "I scraped OnTheShow to pull current ski resort features for the resorts in the final merged datset. The code for this scrape was adapted from a [user on github] [(https://github.com/SijiaLai/OnTheSnow/tree/master)] and updated based on html changes and the features I wanted to pull.\n",
    "\n",
    "The code for the scraper can be found in the data folder.\n",
    "\n",
    "\n",
    "The main features I scraped:\n",
    "\n",
    "- mountain elevation\n",
    "- ticket price\n",
    "- mountain location\n",
    "- ski terrain\n",
    "- snowfall averages"
   ]
  },
  {
   "cell_type": "code",
   "execution_count": 44,
   "metadata": {},
   "outputs": [
    {
     "name": "stdout",
     "output_type": "stream",
     "text": [
      "<class 'pandas.core.frame.DataFrame'>\n",
      "RangeIndex: 333 entries, 0 to 332\n",
      "Data columns (total 43 columns):\n",
      " #   Column                    Non-Null Count  Dtype  \n",
      "---  ------                    --------------  -----  \n",
      " 0   Name                      333 non-null    object \n",
      " 1   address                   333 non-null    object \n",
      " 2   city                      333 non-null    object \n",
      " 3   state                     333 non-null    object \n",
      " 4   country                   333 non-null    object \n",
      " 5   sumt                      333 non-null    int64  \n",
      " 6   drop                      333 non-null    int64  \n",
      " 7   base                      333 non-null    int64  \n",
      " 8   gondolas_and_trams        333 non-null    int64  \n",
      " 9   fastEight                 331 non-null    float64\n",
      " 10  highSpeedSixes            327 non-null    float64\n",
      " 11  quadChairs                329 non-null    float64\n",
      " 12  tripleChairs              330 non-null    float64\n",
      " 13  doubleChairs              331 non-null    float64\n",
      " 14  surfeLifts                332 non-null    float64\n",
      " 15  totalRuns (acre)          333 non-null    int64  \n",
      " 16  longestRun (miles)        333 non-null    float64\n",
      " 17  daysOpenLastYear          333 non-null    int64  \n",
      " 18  averageSnowfall (inches)  333 non-null    int64  \n",
      " 19  projectedOpening          333 non-null    object \n",
      " 20  projectedClosing          333 non-null    object \n",
      " 21  NovSnow                   333 non-null    float64\n",
      " 22  DecSnow                   333 non-null    float64\n",
      " 23  JanSnow                   333 non-null    float64\n",
      " 24  FebSnow                   333 non-null    float64\n",
      " 25  MarSnow                   333 non-null    float64\n",
      " 26  AprSnow                   333 non-null    float64\n",
      " 27  MaySnow                   333 non-null    float64\n",
      " 28  child_season              333 non-null    float64\n",
      " 29  junior_season             333 non-null    float64\n",
      " 30  adult_season              333 non-null    int64  \n",
      " 31  child_weekday             333 non-null    float64\n",
      " 32  junior_weekday            333 non-null    float64\n",
      " 33  adult_weekday             333 non-null    float64\n",
      " 34  senior_weekday            333 non-null    float64\n",
      " 35  child_weekend             333 non-null    float64\n",
      " 36  junior_weekend            333 non-null    float64\n",
      " 37  adult_weekend             333 non-null    float64\n",
      " 38  senior_weekend            333 non-null    float64\n",
      " 39  Url                       333 non-null    object \n",
      " 40  gondolas_lifts_note       333 non-null    object \n",
      " 41  terrainNote               333 non-null    object \n",
      " 42  ticketpriceNote           333 non-null    object \n",
      "dtypes: float64(24), int64(8), object(11)\n",
      "memory usage: 112.0+ KB\n"
     ]
    }
   ],
   "source": [
    "scraped_df.info()"
   ]
  },
  {
   "cell_type": "code",
   "execution_count": 45,
   "metadata": {},
   "outputs": [
    {
     "data": {
      "text/plain": [
       "array(['Washington', 'Minnesota', 'Ohio', 'Wisconsin', 'Utah', 'Alaska',\n",
       "       'New Mexico', 'Oregon', 'North Carolina', 'Michigan', 'Colorado',\n",
       "       'Arizona', 'New Hampshire', 'Pennsylvania', 'California',\n",
       "       'New York', 'Masshusetts', 'Montana', 'Maine', 'Idaho', 'Vermont',\n",
       "       'CA 96160', 'Virginia', 'New Jersey', 'West Virginia', 'Illinois',\n",
       "       'WI  54819', 'South Dakota', 'Nevada', 'Wyoming', 'Missouri',\n",
       "       'NV 89131', 'ID 83873', 'Connecticut', 'Pa 16440', 'Iowa', 'NY',\n",
       "       'Tennessee', 'Indiana', 'CO', 'Maryland', 'Rhode Island'],\n",
       "      dtype=object)"
      ]
     },
     "execution_count": 45,
     "metadata": {},
     "output_type": "execute_result"
    }
   ],
   "source": [
    "scraped_df['state'].unique()"
   ]
  },
  {
   "cell_type": "code",
   "execution_count": 46,
   "metadata": {},
   "outputs": [],
   "source": [
    "state_rep = ['WI  54819', 'NV 89131', 'ID 83873', 'Pa 16440', 'NY', 'CO', 'CA 96160']\n",
    "state_with = [\"Wisconsin\", \"Nevada\", \"Idaho\", \"Pennsylvania\", \"New York\", \"Colorado\", \"California\"]\n",
    "\n",
    "scraped_df.replace(state_rep, state_with, regex=True, inplace=True)"
   ]
  },
  {
   "cell_type": "code",
   "execution_count": 47,
   "metadata": {},
   "outputs": [
    {
     "data": {
      "text/plain": [
       "highSpeedSixes              6\n",
       "quadChairs                  4\n",
       "tripleChairs                3\n",
       "fastEight                   2\n",
       "doubleChairs                2\n",
       "surfeLifts                  1\n",
       "averageSnowfall (inches)    0\n",
       "daysOpenLastYear            0\n",
       "longestRun (miles)          0\n",
       "totalRuns (acre)            0\n",
       "ticketpriceNote             0\n",
       "projectedClosing            0\n",
       "gondolas_and_trams          0\n",
       "base                        0\n",
       "drop                        0\n",
       "sumt                        0\n",
       "country                     0\n",
       "state                       0\n",
       "city                        0\n",
       "address                     0\n",
       "projectedOpening            0\n",
       "NovSnow                     0\n",
       "terrainNote                 0\n",
       "junior_weekday              0\n",
       "gondolas_lifts_note         0\n",
       "Url                         0\n",
       "senior_weekend              0\n",
       "adult_weekend               0\n",
       "junior_weekend              0\n",
       "child_weekend               0\n",
       "senior_weekday              0\n",
       "adult_weekday               0\n",
       "child_weekday               0\n",
       "DecSnow                     0\n",
       "adult_season                0\n",
       "junior_season               0\n",
       "child_season                0\n",
       "MaySnow                     0\n",
       "AprSnow                     0\n",
       "MarSnow                     0\n",
       "FebSnow                     0\n",
       "JanSnow                     0\n",
       "Name                        0\n",
       "dtype: int64"
      ]
     },
     "execution_count": 47,
     "metadata": {},
     "output_type": "execute_result"
    }
   ],
   "source": [
    "scraped_df.isna().sum().sort_values(ascending=False)"
   ]
  },
  {
   "cell_type": "code",
   "execution_count": 48,
   "metadata": {},
   "outputs": [],
   "source": [
    "#dropping null values\n",
    "scraped_df = scraped_df.drop(columns=['gondolas_lifts_note', 'terrainNote', 'ticketpriceNote',\n",
    "                                     'senior_weekend', 'MaySnow', 'country'])"
   ]
  },
  {
   "cell_type": "markdown",
   "metadata": {},
   "source": [
    "The below is code to replace empty ticket prices with mean values for the column. If time allowed, I would have preferred to manually parse through the null values and to replace them with information on individual ski resort's websites."
   ]
  },
  {
   "cell_type": "code",
   "execution_count": 49,
   "metadata": {},
   "outputs": [],
   "source": [
    "#filling empty lift ticket prices with mean\n",
    "\n",
    "def mean_ticket(column):\n",
    "    \n",
    "    #changing all column types to int\n",
    "    scraped_df[column] = scraped_df[column].astype(int)\n",
    "    \n",
    "    # finding mean values\n",
    "    mean_value = scraped_df[column].mean()\n",
    "    mean_value = int(mean_value)\n",
    "    \n",
    "    # filling 0 with mean value\n",
    "    scraped_df[column] = scraped_df[column].replace(0, mean_value)\n",
    "    \n",
    "    return scraped_df"
   ]
  },
  {
   "cell_type": "code",
   "execution_count": 50,
   "metadata": {},
   "outputs": [],
   "source": [
    "#making a loop to loop through list of ticket prices that need to be updated\n",
    "\n",
    "ticket_prices = [\"adult_weekend\", \"junior_weekend\", \"child_weekend\", \"senior_weekday\", \"adult_weekday\",\n",
    "\"junior_weekday\", \"child_weekday\", \"adult_season\", \"junior_season\", \"child_season\"]\n",
    "\n",
    "for ticket_val in ticket_prices:\n",
    "    mean_ticket(ticket_val)"
   ]
  },
  {
   "cell_type": "code",
   "execution_count": 51,
   "metadata": {},
   "outputs": [],
   "source": [
    "#splitting the city into zipcode and city column\n",
    "scraped_df[['zipcode', 'city']] = scraped_df['city'].str.split(' ', 1, expand=True)"
   ]
  },
  {
   "cell_type": "code",
   "execution_count": 52,
   "metadata": {},
   "outputs": [],
   "source": [
    "#changing location of zipcode so it is placed next to city\n",
    "column_to_move = scraped_df.pop(\"zipcode\")\n",
    "\n",
    "# moving zipcode after state\n",
    "scraped_df.insert(4, \"zipcode\", column_to_move )"
   ]
  },
  {
   "cell_type": "code",
   "execution_count": 53,
   "metadata": {},
   "outputs": [],
   "source": [
    "#renaming columns\n",
    "scraped_df = scraped_df.rename(columns={\"Name\":\"ski_resort\"})"
   ]
  },
  {
   "cell_type": "markdown",
   "metadata": {},
   "source": [
    "### OnTheSnow - Scrape #2\n",
    "\n",
    "My initial scrape did not include ski run information, so I updated my initial scraping code and pulled ski run difficulty information."
   ]
  },
  {
   "cell_type": "code",
   "execution_count": 54,
   "metadata": {},
   "outputs": [
    {
     "name": "stdout",
     "output_type": "stream",
     "text": [
      "<class 'pandas.core.frame.DataFrame'>\n",
      "RangeIndex: 330 entries, 0 to 329\n",
      "Data columns (total 49 columns):\n",
      " #   Column               Non-Null Count  Dtype  \n",
      "---  ------               --------------  -----  \n",
      " 0   ski_resort           330 non-null    object \n",
      " 1   address              330 non-null    object \n",
      " 2   city                 330 non-null    object \n",
      " 3   state                330 non-null    object \n",
      " 4   country              330 non-null    object \n",
      " 5   summit               330 non-null    int64  \n",
      " 6   drop                 330 non-null    int64  \n",
      " 7   base                 330 non-null    int64  \n",
      " 8   gondolas_and_trams   40 non-null     float64\n",
      " 9   fast_eight           110 non-null    float64\n",
      " 10  high_speed_sixes     41 non-null     float64\n",
      " 11  quad_chairs          163 non-null    float64\n",
      " 12  triple_chairs        223 non-null    float64\n",
      " 13  double_chairs        238 non-null    float64\n",
      " 14  surface_lifts        308 non-null    float64\n",
      " 15  total_runs           330 non-null    int64  \n",
      " 16  longest_run          326 non-null    object \n",
      " 17  skiable_terrain      327 non-null    object \n",
      " 18  snow_making          284 non-null    object \n",
      " 19  terrain_note         191 non-null    object \n",
      " 20  daysOpenLastYear     330 non-null    object \n",
      " 21  averageSnowfall      330 non-null    object \n",
      " 22  projectedOpening     330 non-null    object \n",
      " 23  projectedClosing     330 non-null    object \n",
      " 24  nov_snow             330 non-null    object \n",
      " 25  dec_snow             326 non-null    object \n",
      " 26  jan_snow             329 non-null    object \n",
      " 27  feb_snow             330 non-null    object \n",
      " 28  mar_snow             327 non-null    object \n",
      " 29  apr_snow             253 non-null    object \n",
      " 30  may_snow             164 non-null    object \n",
      " 31  child_season         321 non-null    object \n",
      " 32  junior_season        320 non-null    object \n",
      " 33  adult_season         313 non-null    object \n",
      " 34  child_weekday        303 non-null    object \n",
      " 35  junior_weekday       279 non-null    object \n",
      " 36  adult_weekday        275 non-null    float64\n",
      " 37  senior_weekday       266 non-null    object \n",
      " 38  child_weekend        254 non-null    object \n",
      " 39  junior_weekend       226 non-null    object \n",
      " 40  adult_weekend        202 non-null    object \n",
      " 41  senior_weekend       185 non-null    object \n",
      " 42  Url                  330 non-null    object \n",
      " 43  gondolas_lifts_note  22 non-null     object \n",
      " 44  beginner_runs        216 non-null    object \n",
      " 45  intermediate_runs    217 non-null    object \n",
      " 46  advanced_runs        208 non-null    object \n",
      " 47  expert_runs          139 non-null    object \n",
      " 48  ticket_price_note    9 non-null      object \n",
      "dtypes: float64(8), int64(4), object(37)\n",
      "memory usage: 126.5+ KB\n"
     ]
    }
   ],
   "source": [
    "second_scrape.info()"
   ]
  },
  {
   "cell_type": "code",
   "execution_count": 55,
   "metadata": {},
   "outputs": [],
   "source": [
    "second_scrape = second_scrape[['ski_resort','beginner_runs', 'intermediate_runs','advanced_runs', 'expert_runs']].copy()"
   ]
  },
  {
   "cell_type": "code",
   "execution_count": 56,
   "metadata": {},
   "outputs": [],
   "source": [
    "#merging\n",
    "scraped_df = pd.merge(scraped_df, second_scrape, on=\"ski_resort\", how=\"left\")\n",
    "\n",
    "#replacing characters\n",
    "scraped_df = scraped_df.replace(\"%\", \"\", regex=True)\n",
    "\n",
    "#replacing more characters\n",
    "replace_vals = ['null', '-', \" \"]\n",
    "\n",
    "#replacing strings \n",
    "scraped_df['expert_runs'] = scraped_df['expert_runs'].replace(replace_vals, \"\", regex=True)\n",
    "\n",
    "#replacing empty cells with 0\n",
    "scraped_df['expert_runs'] = scraped_df['expert_runs'].replace(r'^\\s*$', 0, regex=True)"
   ]
  },
  {
   "cell_type": "code",
   "execution_count": 57,
   "metadata": {},
   "outputs": [],
   "source": [
    "#filling null values with 0 as a null value indicates 0 runs\n",
    "\n",
    "int_list = [\"beginner_runs\", \"intermediate_runs\", \"advanced_runs\", \"expert_runs\"]\n",
    "\n",
    "for x in int_list:\n",
    "    scraped_df[x] = scraped_df[x].fillna(0)\n",
    "\n",
    "#converting values to floats\n",
    "for x in int_list:\n",
    "    scraped_df[x].astype(int)"
   ]
  },
  {
   "cell_type": "code",
   "execution_count": 58,
   "metadata": {},
   "outputs": [
    {
     "data": {
      "text/plain": [
       "array(['Anthony Lakes Mountain', 'Big Squaw Mountain Ski',\n",
       "       'Brantling Ski Slopes', 'Coffee Mill Ski Snowboard', 'Mt. Holly',\n",
       "       'Mt. Shasta Board Ski Park', 'Timberline Mountain'], dtype=object)"
      ]
     },
     "execution_count": 58,
     "metadata": {},
     "output_type": "execute_result"
    }
   ],
   "source": [
    "#checking to see if there are any missing resorts in the scraped information to ensure all resorts have feature information\n",
    "final_ski_df.loc[~final_ski_df['ski_resort'].isin(scraped_df['ski_resort']),\n",
    "                         'ski_resort'].sort_values().unique()"
   ]
  },
  {
   "cell_type": "code",
   "execution_count": 59,
   "metadata": {},
   "outputs": [],
   "source": [
    "replace_from = [\"Anthony Lakes\", \"Big Squaw\",\"Brantling Ski\", \"Coffee Mill\", \"Mt. Shasta\", \"Mount Holly\"]\n",
    "replace_to = [\"Anthony Lakes Mountain\", 'Big Squaw Mountain Ski', \"Brantling Ski Slopes\", \"Coffee Mill Ski Snowboard\",\n",
    "               'Mt. Shasta Board Ski Park', \"Mt. Holly\"]\n",
    "\n",
    "scraped_df.replace(replace_from, replace_to, regex=True, inplace=True)"
   ]
  },
  {
   "cell_type": "code",
   "execution_count": 60,
   "metadata": {},
   "outputs": [],
   "source": [
    "scraped_df.loc[(scraped_df['ski_resort'] == \"Timberline\") & (scraped_df['state'] == \"West Virginia\"), 'ski_resort'] = \"Timberline Mountain\""
   ]
  },
  {
   "cell_type": "code",
   "execution_count": 61,
   "metadata": {},
   "outputs": [],
   "source": [
    "#updating scraped df names to match the other dataframes\n",
    "scraped_df.loc[(scraped_df['ski_resort'] == \"Crystal Mountain\") & (scraped_df['state'] == \"Washington\"), 'ski_resort'] = \"Crystal Mountain Washington\"\n",
    "scraped_df.loc[(scraped_df['ski_resort'] == \"Crystal Mountain \") & (scraped_df['state'] == \"Michigan\"), 'ski_resort'] = \"Crystal Mountain Michigan\"\n",
    "\n",
    "#updating\n",
    "scraped_df.loc[(scraped_df['ski_resort'] == \"Timberline\") & (scraped_df['state'] == \"West Virginia\"), 'ski_resort'] = \"Timberline Mountain\"\n",
    "\n",
    "#updating scraped df names to match the other dataframes\n",
    "scraped_df.loc[(scraped_df['ski_resort'] == \"Powder Ridge\") & (scraped_df['state'] == \"Minnesota\"), 'ski_resort'] = \"Powder Ridge Minnesota\"\n",
    "scraped_df.loc[(scraped_df['ski_resort'] == \"Powder Ridge\") & (scraped_df['state'] == \"Connecticut\"), 'ski_resort'] = \"Powder Ridge Connecticut\""
   ]
  },
  {
   "cell_type": "code",
   "execution_count": 62,
   "metadata": {},
   "outputs": [],
   "source": [
    "#dropping duplicates\n",
    "scraped_df = scraped_df.drop_duplicates()"
   ]
  },
  {
   "cell_type": "code",
   "execution_count": 63,
   "metadata": {},
   "outputs": [],
   "source": [
    "#dropping duplicate names in ski_resort\n",
    "scraped_df = scraped_df.drop_duplicates(subset=['ski_resort'])"
   ]
  },
  {
   "cell_type": "code",
   "execution_count": 64,
   "metadata": {},
   "outputs": [
    {
     "data": {
      "text/plain": [
       "Pats Peak                    1\n",
       "Brundage Mountain            1\n",
       "Donner Ski Ranch             1\n",
       "King Pine                    1\n",
       "Mt. Bohemia                  1\n",
       "                            ..\n",
       "Powder Ridge Minnesota       1\n",
       "Whitecap Mountain            1\n",
       "Seven Oaks                   1\n",
       "Mountain Creek               1\n",
       "Snowriver Mountain Resort    1\n",
       "Name: ski_resort, Length: 329, dtype: int64"
      ]
     },
     "execution_count": 64,
     "metadata": {},
     "output_type": "execute_result"
    }
   ],
   "source": [
    "#checking value counts of resorts to make sure there aren't duplicates or duplicate names\n",
    "scraped_df.ski_resort.value_counts()"
   ]
  },
  {
   "cell_type": "code",
   "execution_count": 65,
   "metadata": {},
   "outputs": [
    {
     "data": {
      "text/plain": [
       "array([], dtype=object)"
      ]
     },
     "execution_count": 65,
     "metadata": {},
     "output_type": "execute_result"
    }
   ],
   "source": [
    "#checking to see if there are any missing resorts in the scraped information to ensure all resorts have feature information\n",
    "final_ski_df.loc[~final_ski_df['ski_resort'].isin(scraped_df['ski_resort']),\n",
    "                         'ski_resort'].sort_values().unique()"
   ]
  },
  {
   "cell_type": "markdown",
   "metadata": {},
   "source": [
    "### Additional feature engineering\n",
    "It is common for avid skiiers to purchase ski passes through companies that own a collective of mountains around the United States. I researched a current list of mountains of four of the most common ski passes, manually parsed through the names to update them to match the main dataframe, and then one hot encoded the values for each resort.\n",
    "\n",
    "I did attempt to use the fuzz to update the names, however many resorts have very similar names so it was not an effective way to update the resort names.\n",
    "\n",
    "- Epic Pass\n",
    "- Ikon Pass\n",
    "- Mountain Collective\n",
    "- Indy Pass"
   ]
  },
  {
   "cell_type": "code",
   "execution_count": 66,
   "metadata": {},
   "outputs": [],
   "source": [
    "epic_list = [\"Stowe Mountain\", \"Okemo Mountain\", \"Hunter Mountain\", \"Mt. Snow\", \"Mt. Sunapee\",\"Wildcat Mountain\",\"Seven Springs\",\n",
    "             \"Attitash\", \"Jack Frost\", \"Crotched Mountain\", \"Laurel Mountain\",\n",
    "             \"Roundtop Mountain\", \"Whitetail\", \"Liberty\", \"Big Boulder\", \"Heavenly Mountain\", \"Northstar California\",\n",
    "             \"Kirkwood\", \"Stevens Pass\", \"Keystone\", \"Breckenridge\",\"Vail\", \"Park City Mountain\", \"Beaver Creek\",\n",
    "             \"Crested Butte Mountain\", \"Afton Alps\", \"Alpine Valley Ohio\", \"Boston Mills and Brandywine\",\"Hidden Valley\",\n",
    "             \"Mad River Mountain\", \"Mt. Brighton\", \"Paoli Peaks\", \"Snow Creek\",\"Wilmot Mountain\",\n",
    "            'Mt. Sunapee','Wildcat Mountain', 'Whitetail', 'Mt. Brighton', 'Wilmot Mountain']\n",
    "\n",
    "mtn_col_list = ['Arapahoe Basin', 'Aspen Snowmass', 'Jackson Hole', 'Mammoth Mountain', 'Snowbird',\n",
    "                            'Palisades Tahoe', 'Sugarbush','Taos Ski Valley', 'Alta', 'Big Sky', 'Sugar Bowl',\n",
    "                           'Sugarloaf', 'Sun Valley', 'Grand Targhee', 'Snowbasin']\n",
    "\n",
    "ikon_list = ['Palisades Tahoe', 'Mammoth Mountain', 'June Mountain', 'Bear Mountain', 'Snow Summit','Snow Valley',\n",
    "    'Sun Valley', 'Dollar Mountain', 'Crystal Mountain Washington', 'Alpental', 'The Summit at Snoqualmie',\n",
    "    'Mt. Bachelor', 'Schweitzer', 'Alyeska', 'Aspen Snowmass','Buttermilk', 'Steamboat', 'Winter Park',\n",
    "    'Copper Mountain', 'Arapahoe Basin', 'Eldora Mountain', 'Jackson Hole', 'Big Sky',\n",
    "    'Taos Ski Valley','Deer Valley', 'Solitude Mountain','Brighton','Alta', 'Snowbird',\n",
    "    'Snowbasin','Boyne Highlands', 'Boyne Mountain', 'Stratton Mountain', 'Sugarbush', 'Killington', 'Pico Mountain',\n",
    "    'Windham Mountain', 'Snowshoe Mountain', 'Sunday River','Sugarloaf','Loon Mountain']\n",
    "\n",
    "\n",
    "indy_list = ['Eaglecrest', 'Ski China Peak', 'Mt. Shasta Board Ski Park', 'Mountain High', 'Dodge Ridge',\n",
    "    'Hoodoo Ski Area', 'Mt. Ashland', 'Mt. Hood Meadows', '49 Degrees North',\n",
    "    'Hurricane Ridge Ski & Snowboard Area', 'Mission Ridge', 'Bluewood', 'White Pass',\n",
    "    'Castle Mountain Resort', 'Sunrise Park', 'Echo Mountain', 'Granby Ranch',\n",
    "    'Sunlight', 'Brundage Mountain', 'Kelly Canyon', 'Pomerelle Mountain', 'Silver Mountain', 'Soldier Mountain',\n",
    "    'Tamarack', 'Blacktail Mountain', 'Mountain', 'Red Lodge Mountain', 'Beaver Mountain',\n",
    "    'Powder Mountain', 'Antelope Butte', 'Snow King', 'White Pine Ski Resort',\n",
    "    'Seven Oaks', 'Sundown Mountain', 'Big Powderhorn Mountain', 'Caberfae Peaks Ski Golf',\n",
    "    'Crystal Mountain Michigan', 'Marquette Mountain', 'Nubs Nob', 'Pine Mountain',\n",
    "    'Schuss Mountain at Shanty Creek', 'Swiss Valley', 'Treetops Ski Resort',\n",
    "    'Buck Hill', 'Detroit Mountain Recreation Area', 'Lutsen Mountains', 'Mount Mankato',\n",
    "    'Powder Ridge Minnesota', 'Spirit Mountain', 'Terry Peak', 'Granite Peak',\n",
    "    'Little Switzerland', 'Nordic Mountain', 'The Rock Snowpark', 'Trollhaugen',\n",
    "    'Tyrol Basin', 'Mohawk Mountain', 'BigRockMountain',\n",
    "    'Rangeley Lakes Trail Center', 'Saddleback Mountain', 'Berkshire East',\n",
    "    'Black Mountain', 'Cannon Mountain', 'Pats Peak', 'Waterville Valley',\n",
    "    'Catamount Ski Ride Area', 'Greek Peak', 'Peekn Peak', 'Snow Ridge', 'Swain Resort',\n",
    "    'Titus Mountain', 'West Mountain', 'Catamount Outdoor Family Center', 'Bolton Valley',\n",
    "    'Jay Peak', 'Magic Mountain Vermont', 'Saskadena Six', 'Cataloochee',\n",
    "    'Blue Knob', 'Montage Mountain', 'Shawnee Mountain', 'Ski Sawmill',\n",
    "    'Tussey Mountain', 'Ober Gatlinburg Ski', 'Bryce', 'Massanutten',\n",
    "    'Canaan Valley', 'Winterplace Ski']"
   ]
  },
  {
   "cell_type": "code",
   "execution_count": 67,
   "metadata": {},
   "outputs": [
    {
     "name": "stdout",
     "output_type": "stream",
     "text": [
      "['Dollar Mountain', 'Buttermilk', 'Laurel Mountain']\n"
     ]
    }
   ],
   "source": [
    "#sanity check to see if any of the names are wrong\n",
    "\n",
    "test_list = ikon_list + epic_list + mtn_col_list\n",
    "\n",
    "missing_values = [value for value in test_list if value not in scraped_df['ski_resort'].values]\n",
    "\n",
    "# Print the missing values\n",
    "print(missing_values)"
   ]
  },
  {
   "cell_type": "code",
   "execution_count": 68,
   "metadata": {},
   "outputs": [
    {
     "name": "stdout",
     "output_type": "stream",
     "text": [
      "['Hoodoo Ski Area', 'Hurricane Ridge Ski & Snowboard Area', 'Castle Mountain Resort', 'Echo Mountain', 'Sunlight', 'Mountain', 'Red Lodge Mountain', 'Antelope Butte', 'White Pine Ski Resort', 'Schuss Mountain at Shanty Creek', 'Treetops Ski Resort', 'Detroit Mountain Recreation Area', 'Mount Mankato', 'The Rock Snowpark', 'BigRockMountain', 'Rangeley Lakes Trail Center', 'Saddleback Mountain', 'Swain Resort', 'Catamount Outdoor Family Center', 'Montage Mountain']\n"
     ]
    }
   ],
   "source": [
    "#sanity check to see if any of the names are wrong\n",
    "\n",
    "missing_values = [value for value in indy_list if value not in scraped_df['ski_resort'].values]\n",
    "\n",
    "# Print the missing values\n",
    "print(missing_values)"
   ]
  },
  {
   "cell_type": "code",
   "execution_count": 69,
   "metadata": {},
   "outputs": [],
   "source": [
    "# making new column with 0\n",
    "scraped_df['epic'] = 0\n",
    "scraped_df['mountain_collective'] = 0\n",
    "scraped_df['ikon'] = 0\n",
    "scraped_df['indy'] = 0\n",
    "\n",
    "# adding 1 for each row value based on the ski resort pass lists\n",
    "scraped_df.loc[scraped_df['ski_resort'].isin(epic_list), 'epic'] = 1\n",
    "scraped_df.loc[scraped_df['ski_resort'].isin(mtn_col_list), 'mountain_collective'] = 1\n",
    "scraped_df.loc[scraped_df['ski_resort'].isin(ikon_list), 'ikon'] = 1\n",
    "scraped_df.loc[scraped_df['ski_resort'].isin(indy_list), 'indy'] = 1"
   ]
  },
  {
   "cell_type": "markdown",
   "metadata": {},
   "source": [
    "### Saving Airbnb scraping file\n",
    "For the content based system, I will be scraping airbnb costs from each resort city. In the code below, I am making a new dataframe that I wll use that includes city, state, and ski resort information to pull information from airbnb.\n",
    "\n",
    "The scraping notebook can be found in the data folder."
   ]
  },
  {
   "cell_type": "code",
   "execution_count": 70,
   "metadata": {},
   "outputs": [],
   "source": [
    "#making new dataframe\n",
    "city_df = pd.DataFrame()\n",
    "\n",
    "#saving city\n",
    "city_df['city'] = scraped_df['city']\n",
    "\n",
    "#saving state\n",
    "city_df['state'] = scraped_df['state']\n",
    "\n",
    "#saving ski resort name\n",
    "city_df['ski_resort'] = scraped_df['ski_resort']\n",
    "\n",
    "#saving \n",
    "#city_df.to_csv(\"cleaned_data_exports/location_for_scraping_v2.csv\")"
   ]
  },
  {
   "cell_type": "code",
   "execution_count": 71,
   "metadata": {},
   "outputs": [],
   "source": [
    "#saving city names for scraping\n",
    "city_df['location'] = scraped_df[['city', 'state']].agg(', '.join, axis=1)\n",
    "\n",
    "#saving unique cities\n",
    "city_df['location'] = pd.DataFrame(city_df['location'].unique())\n",
    "\n",
    "#dropping nulls\n",
    "city_df = city_df.dropna()\n",
    "\n",
    "#saving\n",
    "#city_df.to_csv(\"cleaned_data_exports/city_names_for_scraping_v2.csv\")"
   ]
  },
  {
   "cell_type": "code",
   "execution_count": 78,
   "metadata": {},
   "outputs": [],
   "source": [
    "#saving final merged dataframe for content based system\n",
    "#merged_df.to_csv(\"cleaned_data_exports/user_df_model.csv\")"
   ]
  },
  {
   "cell_type": "markdown",
   "metadata": {},
   "source": [
    "## Airbnb Scrape Cleaning"
   ]
  },
  {
   "cell_type": "markdown",
   "metadata": {},
   "source": [
    "Importing .csv that I scraped from Airbnb. This includes prices of airbnb's pulled from the first two pages (32 results) for airbnbs with a max of **2 guests** and max of **4 guests**. I pulled this information to provide cost information to those planning ski trips, as high lodging and ticket costs are a barrier to entry while planning ski trips."
   ]
  },
  {
   "cell_type": "code",
   "execution_count": 97,
   "metadata": {},
   "outputs": [
    {
     "data": {
      "text/html": [
       "<div>\n",
       "<style scoped>\n",
       "    .dataframe tbody tr th:only-of-type {\n",
       "        vertical-align: middle;\n",
       "    }\n",
       "\n",
       "    .dataframe tbody tr th {\n",
       "        vertical-align: top;\n",
       "    }\n",
       "\n",
       "    .dataframe thead th {\n",
       "        text-align: right;\n",
       "    }\n",
       "</style>\n",
       "<table border=\"1\" class=\"dataframe\">\n",
       "  <thead>\n",
       "    <tr style=\"text-align: right;\">\n",
       "      <th></th>\n",
       "      <th>jan_mean_2_guests</th>\n",
       "      <th>jan_min_2_guests</th>\n",
       "      <th>jan_max_2_guests</th>\n",
       "      <th>ski_resort</th>\n",
       "    </tr>\n",
       "  </thead>\n",
       "  <tbody>\n",
       "    <tr>\n",
       "      <th>0</th>\n",
       "      <td>240.742857</td>\n",
       "      <td>100.0</td>\n",
       "      <td>585.0</td>\n",
       "      <td>Magic Mountain</td>\n",
       "    </tr>\n",
       "    <tr>\n",
       "      <th>1</th>\n",
       "      <td>140.800000</td>\n",
       "      <td>73.0</td>\n",
       "      <td>409.0</td>\n",
       "      <td>49 Degrees North</td>\n",
       "    </tr>\n",
       "    <tr>\n",
       "      <th>2</th>\n",
       "      <td>187.156250</td>\n",
       "      <td>61.0</td>\n",
       "      <td>842.0</td>\n",
       "      <td>Afton Alps</td>\n",
       "    </tr>\n",
       "    <tr>\n",
       "      <th>3</th>\n",
       "      <td>264.857143</td>\n",
       "      <td>99.0</td>\n",
       "      <td>833.0</td>\n",
       "      <td>Alpental</td>\n",
       "    </tr>\n",
       "    <tr>\n",
       "      <th>4</th>\n",
       "      <td>158.676471</td>\n",
       "      <td>64.0</td>\n",
       "      <td>296.0</td>\n",
       "      <td>Alpine Valley Ohio</td>\n",
       "    </tr>\n",
       "    <tr>\n",
       "      <th>...</th>\n",
       "      <td>...</td>\n",
       "      <td>...</td>\n",
       "      <td>...</td>\n",
       "      <td>...</td>\n",
       "    </tr>\n",
       "    <tr>\n",
       "      <th>326</th>\n",
       "      <td>189.085714</td>\n",
       "      <td>71.0</td>\n",
       "      <td>510.0</td>\n",
       "      <td>Badger Pass</td>\n",
       "    </tr>\n",
       "    <tr>\n",
       "      <th>327</th>\n",
       "      <td>157.171429</td>\n",
       "      <td>84.0</td>\n",
       "      <td>324.0</td>\n",
       "      <td>Mt. Bachelor</td>\n",
       "    </tr>\n",
       "    <tr>\n",
       "      <th>328</th>\n",
       "      <td>221.285714</td>\n",
       "      <td>80.0</td>\n",
       "      <td>659.0</td>\n",
       "      <td>Mt. Bohemia</td>\n",
       "    </tr>\n",
       "    <tr>\n",
       "      <th>329</th>\n",
       "      <td>165.264706</td>\n",
       "      <td>67.0</td>\n",
       "      <td>357.0</td>\n",
       "      <td>Shawnee Mountain</td>\n",
       "    </tr>\n",
       "    <tr>\n",
       "      <th>330</th>\n",
       "      <td>176.400000</td>\n",
       "      <td>75.0</td>\n",
       "      <td>450.0</td>\n",
       "      <td>Wachusett Mountain</td>\n",
       "    </tr>\n",
       "  </tbody>\n",
       "</table>\n",
       "<p>331 rows × 4 columns</p>\n",
       "</div>"
      ],
      "text/plain": [
       "     jan_mean_2_guests  jan_min_2_guests  jan_max_2_guests          ski_resort\n",
       "0           240.742857             100.0             585.0      Magic Mountain\n",
       "1           140.800000              73.0             409.0    49 Degrees North\n",
       "2           187.156250              61.0             842.0          Afton Alps\n",
       "3           264.857143              99.0             833.0            Alpental\n",
       "4           158.676471              64.0             296.0  Alpine Valley Ohio\n",
       "..                 ...               ...               ...                 ...\n",
       "326         189.085714              71.0             510.0         Badger Pass\n",
       "327         157.171429              84.0             324.0        Mt. Bachelor\n",
       "328         221.285714              80.0             659.0         Mt. Bohemia\n",
       "329         165.264706              67.0             357.0    Shawnee Mountain\n",
       "330         176.400000              75.0             450.0  Wachusett Mountain\n",
       "\n",
       "[331 rows x 4 columns]"
      ]
     },
     "execution_count": 97,
     "metadata": {},
     "output_type": "execute_result"
    }
   ],
   "source": [
    "jan_2_airbnb_mean_final"
   ]
  },
  {
   "cell_type": "code",
   "execution_count": 98,
   "metadata": {},
   "outputs": [
    {
     "name": "stdout",
     "output_type": "stream",
     "text": [
      "<class 'pandas.core.frame.DataFrame'>\n",
      "RangeIndex: 331 entries, 0 to 330\n",
      "Data columns (total 4 columns):\n",
      " #   Column             Non-Null Count  Dtype  \n",
      "---  ------             --------------  -----  \n",
      " 0   jan_mean_2_guests  331 non-null    float64\n",
      " 1   jan_min_2_guests   331 non-null    float64\n",
      " 2   jan_max_2_guests   331 non-null    float64\n",
      " 3   ski_resort         331 non-null    object \n",
      "dtypes: float64(3), object(1)\n",
      "memory usage: 10.5+ KB\n"
     ]
    }
   ],
   "source": [
    "jan_2_airbnb_mean_final.info()"
   ]
  },
  {
   "cell_type": "code",
   "execution_count": 72,
   "metadata": {},
   "outputs": [],
   "source": [
    "#making lists of all dataframes from airbnb scrape\n",
    "two_guest_list = [dec_2_airbnb_mean_final,jan_2_airbnb_mean_final,feb_2_airbnb_mean_final,\n",
    "                  mar_2_airbnb_mean_final, apr_2_airbnb_mean_final,\n",
    "                  may_2_airbnb_mean_final]\n",
    "\n",
    "four_guest_list = [dec_4_airbnb_mean_final,jan_4_airbnb_mean_final,feb_4_airbnb_mean_final,\n",
    "                  mar_4_airbnb_mean_final, apr_4_airbnb_mean_final,\n",
    "                  may_4_airbnb_mean_final]\n",
    "\n",
    "month_list = ['dec', 'jan', 'feb', 'mar', 'apr', 'may']\n",
    "\n",
    "for x, y, z in zip(two_guest_list, four_guest_list, month_list):\n",
    "    \n",
    "    dict_2 = {'mean': z + '_mean_2_guests',\n",
    "              'min': z + '_min_2_guests','max': z + '_max_2_guests'}\n",
    "\n",
    "    dict_4 = {'mean': z +'_mean_4_guests',\n",
    "              'min': z +'_min_4_guests','max': z +'_max_4_guests'}\n",
    "    \n",
    "    #renaming column names based on scrape\n",
    "    x.rename(columns=dict_2, inplace=True)\n",
    "    y.rename(columns=dict_4, inplace=True)\n",
    "    \n",
    "    #saving as new dataframe\n",
    "    x.drop(columns=['count', 'std', '25%', '50%', '75%', 'Unnamed: 0'], inplace=True)\n",
    "    y.drop(columns=['count', 'std', '25%', '50%', '75%', 'Unnamed: 0'], inplace=True)"
   ]
  },
  {
   "cell_type": "code",
   "execution_count": 73,
   "metadata": {},
   "outputs": [],
   "source": [
    "#merging all months from the list of 2 guest airbnbs \n",
    "for df in two_guest_list[1:]:\n",
    "    dec_2_airbnb_mean_final = pd.merge(dec_2_airbnb_mean_final, df, on='ski_resort')\n",
    "\n",
    "#mergins all months from the list of 4 guest airbnbs\n",
    "for df in four_guest_list:\n",
    "    dec_2_airbnb_mean_final = pd.merge(dec_2_airbnb_mean_final, df, on='ski_resort')\n",
    "    \n",
    "#saving off the list as a new dataframe\n",
    "airbnb_df = dec_2_airbnb_mean_final.copy()\n",
    "\n",
    "#dropping duplicates\n",
    "airbnb_df = airbnb_df.drop_duplicates()"
   ]
  },
  {
   "cell_type": "code",
   "execution_count": 76,
   "metadata": {},
   "outputs": [
    {
     "data": {
      "text/plain": [
       "Soldier Mountain             1\n",
       "Howelsen Hill                1\n",
       "Peekn Peak                   1\n",
       "Ober Gatlinburg Ski          1\n",
       "Pajarito Mountain            1\n",
       "                            ..\n",
       "Snowbasin                    1\n",
       "Nashoba Valley               1\n",
       "Roundtop Mountain            1\n",
       "Thunder Ridge                1\n",
       "Snowriver Mountain Resort    1\n",
       "Name: ski_resort, Length: 331, dtype: int64"
      ]
     },
     "execution_count": 76,
     "metadata": {},
     "output_type": "execute_result"
    }
   ],
   "source": [
    "#inspecting value counts\n",
    "airbnb_df['ski_resort'].value_counts()"
   ]
  },
  {
   "cell_type": "code",
   "execution_count": null,
   "metadata": {},
   "outputs": [],
   "source": [
    "#checking to see which ski resort names different between the main feature df and the airbnb df\n",
    "scraped_df.loc[~scraped_df['ski_resort'].isin(airbnb_df['ski_resort']),\n",
    "                         'ski_resort'].unique()"
   ]
  },
  {
   "cell_type": "code",
   "execution_count": 77,
   "metadata": {},
   "outputs": [],
   "source": [
    "#renaming resorts that have the same name\n",
    "airbnb_df.replace(\"Crystal Mountain\", \"Crystal Mountain Washington\", regex=True, inplace=True)\n",
    "\n",
    "#renaming resorts that have the same name\n",
    "airbnb_df.replace(\"Powder Ridge\", \"Powder Ridge Minnesota\", regex=True, inplace=True)\n",
    "\n",
    "airbnb_df.loc[(airbnb_df['ski_resort'] == \"Crystal Mountain Washington \") & (airbnb_df['dec_min_2_guests'] == 40), 'ski_resort'] = \"Crystal Mountain Michigan\"\n",
    "\n",
    "airbnb_df.replace(\"Powder Ridge\", \"Powder Ridge Connecticut\", inplace=True)\n",
    "\n",
    "airbnb_df.replace('Mt. Bhelor', 'Mt. Bachelor', inplace=True)\n",
    "\n",
    "airbnb_df.loc[(airbnb_df['ski_resort'] == 'Timberline') & (airbnb_df['dec_min_2_guests'] == 75.0), 'ski_resort'] = \"Timberline Mountain\"\n",
    "\n",
    "#batch renaming mountains to match the user df\n",
    "rename_list = [\"Anthony Lakes\", \"Mount Holly\", \"Mt. Shasta\", \"Coffee ll\", \"Brantling Ski\", 'Big Squaw']\n",
    "rename_to = ['Anthony Lakes Mountain', 'Mt. Holly','Mt. Shasta Board Ski Park', 'Coffee Mill Ski Snowboard',\n",
    "       'Brantling Ski Slopes', 'Big Squaw Mountain Ski']\n",
    "\n",
    "airbnb_df.replace(rename_list, rename_to, regex=True, inplace=True)"
   ]
  },
  {
   "cell_type": "code",
   "execution_count": 89,
   "metadata": {},
   "outputs": [
    {
     "data": {
      "text/plain": [
       "array(['Powder Ridge Connecticut', 'Snow Summit', 'Whaleback'],\n",
       "      dtype=object)"
      ]
     },
     "execution_count": 89,
     "metadata": {},
     "output_type": "execute_result"
    }
   ],
   "source": [
    "#checking to see which ski resort names different between the main feature df and the airbnb df\n",
    "scraped_df.loc[~scraped_df['ski_resort'].isin(airbnb_df['ski_resort']),\n",
    "                         'ski_resort'].unique()"
   ]
  },
  {
   "cell_type": "markdown",
   "metadata": {},
   "source": [
    "# Merging reviews with features\n",
    "I will be combining the cleaned dataframes from below that will be used for the collaborative model output."
   ]
  },
  {
   "cell_type": "code",
   "execution_count": null,
   "metadata": {},
   "outputs": [],
   "source": [
    "# #merging final review dataframe and scraped data\n",
    "# merged_df = pd.merge(final_ski_df, scraped_df, on=\"ski_resort\", how='left')\n",
    "\n",
    "# #dropping columns\n",
    "# merged_df = merged_df.drop(columns=\"state_y\")\n",
    "\n",
    "# #renaming columns\n",
    "# merged_df = merged_df.rename(columns={\"state_x\":\"state\"})"
   ]
  },
  {
   "cell_type": "markdown",
   "metadata": {},
   "source": [
    "## Merging airbnb with feature dataframe"
   ]
  },
  {
   "cell_type": "code",
   "execution_count": 91,
   "metadata": {},
   "outputs": [],
   "source": [
    "#merging airbnb and feature dataframes\n",
    "content_df = pd.merge(scraped_df, airbnb_df, on=\"ski_resort\", how=\"left\")"
   ]
  },
  {
   "cell_type": "code",
   "execution_count": 92,
   "metadata": {},
   "outputs": [
    {
     "data": {
      "text/html": [
       "<div>\n",
       "<style scoped>\n",
       "    .dataframe tbody tr th:only-of-type {\n",
       "        vertical-align: middle;\n",
       "    }\n",
       "\n",
       "    .dataframe tbody tr th {\n",
       "        vertical-align: top;\n",
       "    }\n",
       "\n",
       "    .dataframe thead th {\n",
       "        text-align: right;\n",
       "    }\n",
       "</style>\n",
       "<table border=\"1\" class=\"dataframe\">\n",
       "  <thead>\n",
       "    <tr style=\"text-align: right;\">\n",
       "      <th></th>\n",
       "      <th>ski_resort</th>\n",
       "      <th>address</th>\n",
       "      <th>city</th>\n",
       "      <th>state</th>\n",
       "      <th>zipcode</th>\n",
       "      <th>sumt</th>\n",
       "      <th>drop</th>\n",
       "      <th>base</th>\n",
       "      <th>gondolas_and_trams</th>\n",
       "      <th>fastEight</th>\n",
       "      <th>...</th>\n",
       "      <th>feb_max_4_guests</th>\n",
       "      <th>mar_mean_4_guests</th>\n",
       "      <th>mar_min_4_guests</th>\n",
       "      <th>mar_max_4_guests</th>\n",
       "      <th>apr_mean_4_guests</th>\n",
       "      <th>apr_min_4_guests</th>\n",
       "      <th>apr_max_4_guests</th>\n",
       "      <th>may_mean_4_guests</th>\n",
       "      <th>may_min_4_guests</th>\n",
       "      <th>may_max_4_guests</th>\n",
       "    </tr>\n",
       "  </thead>\n",
       "  <tbody>\n",
       "    <tr>\n",
       "      <th>0</th>\n",
       "      <td>49 Degrees North</td>\n",
       "      <td>P.O. Box 166</td>\n",
       "      <td>Chewelah</td>\n",
       "      <td>Washington</td>\n",
       "      <td>99109</td>\n",
       "      <td>5774</td>\n",
       "      <td>1851</td>\n",
       "      <td>3932</td>\n",
       "      <td>0</td>\n",
       "      <td>1.0</td>\n",
       "      <td>...</td>\n",
       "      <td>389.0</td>\n",
       "      <td>180.000000</td>\n",
       "      <td>75.0</td>\n",
       "      <td>394.0</td>\n",
       "      <td>216.142857</td>\n",
       "      <td>79.0</td>\n",
       "      <td>435.0</td>\n",
       "      <td>165.625000</td>\n",
       "      <td>79.0</td>\n",
       "      <td>375.0</td>\n",
       "    </tr>\n",
       "    <tr>\n",
       "      <th>1</th>\n",
       "      <td>Afton Alps</td>\n",
       "      <td>6600 Peller Avenue South</td>\n",
       "      <td>Hastings</td>\n",
       "      <td>Minnesota</td>\n",
       "      <td>55033</td>\n",
       "      <td>1530</td>\n",
       "      <td>350</td>\n",
       "      <td>1180</td>\n",
       "      <td>0</td>\n",
       "      <td>0.0</td>\n",
       "      <td>...</td>\n",
       "      <td>700.0</td>\n",
       "      <td>262.968750</td>\n",
       "      <td>107.0</td>\n",
       "      <td>725.0</td>\n",
       "      <td>262.093750</td>\n",
       "      <td>103.0</td>\n",
       "      <td>749.0</td>\n",
       "      <td>194.750000</td>\n",
       "      <td>80.0</td>\n",
       "      <td>388.0</td>\n",
       "    </tr>\n",
       "    <tr>\n",
       "      <th>2</th>\n",
       "      <td>Alpental</td>\n",
       "      <td>POB 1068</td>\n",
       "      <td>Snoquale Pass</td>\n",
       "      <td>Washington</td>\n",
       "      <td>98068</td>\n",
       "      <td>5420</td>\n",
       "      <td>2280</td>\n",
       "      <td>3140</td>\n",
       "      <td>0</td>\n",
       "      <td>1.0</td>\n",
       "      <td>...</td>\n",
       "      <td>993.0</td>\n",
       "      <td>376.090909</td>\n",
       "      <td>132.0</td>\n",
       "      <td>1200.0</td>\n",
       "      <td>347.687500</td>\n",
       "      <td>90.0</td>\n",
       "      <td>1200.0</td>\n",
       "      <td>245.875000</td>\n",
       "      <td>78.0</td>\n",
       "      <td>580.0</td>\n",
       "    </tr>\n",
       "    <tr>\n",
       "      <th>3</th>\n",
       "      <td>Alpine Valley Ohio</td>\n",
       "      <td>10620 Mayfield</td>\n",
       "      <td>Chesterland</td>\n",
       "      <td>Ohio</td>\n",
       "      <td>44026</td>\n",
       "      <td>1500</td>\n",
       "      <td>230</td>\n",
       "      <td>1260</td>\n",
       "      <td>0</td>\n",
       "      <td>0.0</td>\n",
       "      <td>...</td>\n",
       "      <td>519.0</td>\n",
       "      <td>205.914286</td>\n",
       "      <td>98.0</td>\n",
       "      <td>519.0</td>\n",
       "      <td>220.742857</td>\n",
       "      <td>94.0</td>\n",
       "      <td>719.0</td>\n",
       "      <td>167.125000</td>\n",
       "      <td>70.0</td>\n",
       "      <td>339.0</td>\n",
       "    </tr>\n",
       "    <tr>\n",
       "      <th>4</th>\n",
       "      <td>Alpine Valley Wisconsin</td>\n",
       "      <td>P.O. Box 615</td>\n",
       "      <td>East Troy</td>\n",
       "      <td>Wisconsin</td>\n",
       "      <td>53120</td>\n",
       "      <td>1040</td>\n",
       "      <td>388</td>\n",
       "      <td>820</td>\n",
       "      <td>0</td>\n",
       "      <td>3.0</td>\n",
       "      <td>...</td>\n",
       "      <td>750.0</td>\n",
       "      <td>235.147059</td>\n",
       "      <td>65.0</td>\n",
       "      <td>502.0</td>\n",
       "      <td>239.406250</td>\n",
       "      <td>65.0</td>\n",
       "      <td>750.0</td>\n",
       "      <td>227.947368</td>\n",
       "      <td>90.0</td>\n",
       "      <td>406.0</td>\n",
       "    </tr>\n",
       "    <tr>\n",
       "      <th>...</th>\n",
       "      <td>...</td>\n",
       "      <td>...</td>\n",
       "      <td>...</td>\n",
       "      <td>...</td>\n",
       "      <td>...</td>\n",
       "      <td>...</td>\n",
       "      <td>...</td>\n",
       "      <td>...</td>\n",
       "      <td>...</td>\n",
       "      <td>...</td>\n",
       "      <td>...</td>\n",
       "      <td>...</td>\n",
       "      <td>...</td>\n",
       "      <td>...</td>\n",
       "      <td>...</td>\n",
       "      <td>...</td>\n",
       "      <td>...</td>\n",
       "      <td>...</td>\n",
       "      <td>...</td>\n",
       "      <td>...</td>\n",
       "      <td>...</td>\n",
       "    </tr>\n",
       "    <tr>\n",
       "      <th>325</th>\n",
       "      <td>Woods Valley</td>\n",
       "      <td>Box 215</td>\n",
       "      <td>Westernville</td>\n",
       "      <td>New York</td>\n",
       "      <td>13486</td>\n",
       "      <td>1400</td>\n",
       "      <td>500</td>\n",
       "      <td>900</td>\n",
       "      <td>0</td>\n",
       "      <td>0.0</td>\n",
       "      <td>...</td>\n",
       "      <td>666.0</td>\n",
       "      <td>225.171429</td>\n",
       "      <td>85.0</td>\n",
       "      <td>666.0</td>\n",
       "      <td>245.428571</td>\n",
       "      <td>129.0</td>\n",
       "      <td>677.0</td>\n",
       "      <td>175.458333</td>\n",
       "      <td>85.0</td>\n",
       "      <td>350.0</td>\n",
       "    </tr>\n",
       "    <tr>\n",
       "      <th>326</th>\n",
       "      <td>Yawgoo Valley</td>\n",
       "      <td>Box 41</td>\n",
       "      <td>Slocum</td>\n",
       "      <td>Rhode Island</td>\n",
       "      <td>2877</td>\n",
       "      <td>315</td>\n",
       "      <td>245</td>\n",
       "      <td>70</td>\n",
       "      <td>0</td>\n",
       "      <td>0.0</td>\n",
       "      <td>...</td>\n",
       "      <td>650.0</td>\n",
       "      <td>297.057143</td>\n",
       "      <td>132.0</td>\n",
       "      <td>658.0</td>\n",
       "      <td>324.771429</td>\n",
       "      <td>150.0</td>\n",
       "      <td>699.0</td>\n",
       "      <td>266.000000</td>\n",
       "      <td>125.0</td>\n",
       "      <td>950.0</td>\n",
       "    </tr>\n",
       "    <tr>\n",
       "      <th>327</th>\n",
       "      <td>Badger Pass</td>\n",
       "      <td>9001 Village Dr.</td>\n",
       "      <td>Yosete</td>\n",
       "      <td>California</td>\n",
       "      <td>95389</td>\n",
       "      <td>7800</td>\n",
       "      <td>600</td>\n",
       "      <td>7200</td>\n",
       "      <td>0</td>\n",
       "      <td>0.0</td>\n",
       "      <td>...</td>\n",
       "      <td>559.0</td>\n",
       "      <td>249.029412</td>\n",
       "      <td>131.0</td>\n",
       "      <td>559.0</td>\n",
       "      <td>283.685714</td>\n",
       "      <td>130.0</td>\n",
       "      <td>950.0</td>\n",
       "      <td>179.785714</td>\n",
       "      <td>67.0</td>\n",
       "      <td>259.0</td>\n",
       "    </tr>\n",
       "    <tr>\n",
       "      <th>328</th>\n",
       "      <td>Shawnee Mountain</td>\n",
       "      <td>P.O. Box 339</td>\n",
       "      <td>Shawnee on Delaware</td>\n",
       "      <td>Pennsylvania</td>\n",
       "      <td>18356-0339</td>\n",
       "      <td>1350</td>\n",
       "      <td>700</td>\n",
       "      <td>650</td>\n",
       "      <td>0</td>\n",
       "      <td>1.0</td>\n",
       "      <td>...</td>\n",
       "      <td>400.0</td>\n",
       "      <td>197.281250</td>\n",
       "      <td>120.0</td>\n",
       "      <td>411.0</td>\n",
       "      <td>207.029412</td>\n",
       "      <td>71.0</td>\n",
       "      <td>473.0</td>\n",
       "      <td>141.695652</td>\n",
       "      <td>68.0</td>\n",
       "      <td>310.0</td>\n",
       "    </tr>\n",
       "    <tr>\n",
       "      <th>329</th>\n",
       "      <td>Wachusett Mountain</td>\n",
       "      <td>499 Mountain Road</td>\n",
       "      <td>Princeton</td>\n",
       "      <td>Masshusetts</td>\n",
       "      <td>01541-1105</td>\n",
       "      <td>2006</td>\n",
       "      <td>1000</td>\n",
       "      <td>1006</td>\n",
       "      <td>0</td>\n",
       "      <td>3.0</td>\n",
       "      <td>...</td>\n",
       "      <td>520.0</td>\n",
       "      <td>233.558824</td>\n",
       "      <td>101.0</td>\n",
       "      <td>520.0</td>\n",
       "      <td>262.205882</td>\n",
       "      <td>125.0</td>\n",
       "      <td>520.0</td>\n",
       "      <td>209.791667</td>\n",
       "      <td>69.0</td>\n",
       "      <td>387.0</td>\n",
       "    </tr>\n",
       "  </tbody>\n",
       "</table>\n",
       "<p>330 rows × 82 columns</p>\n",
       "</div>"
      ],
      "text/plain": [
       "                  ski_resort                   address                 city  \\\n",
       "0           49 Degrees North              P.O. Box 166             Chewelah   \n",
       "1                 Afton Alps  6600 Peller Avenue South             Hastings   \n",
       "2                   Alpental                  POB 1068        Snoquale Pass   \n",
       "3         Alpine Valley Ohio            10620 Mayfield          Chesterland   \n",
       "4    Alpine Valley Wisconsin              P.O. Box 615            East Troy   \n",
       "..                       ...                       ...                  ...   \n",
       "325             Woods Valley                   Box 215         Westernville   \n",
       "326            Yawgoo Valley                    Box 41               Slocum   \n",
       "327              Badger Pass          9001 Village Dr.               Yosete   \n",
       "328         Shawnee Mountain              P.O. Box 339  Shawnee on Delaware   \n",
       "329       Wachusett Mountain         499 Mountain Road            Princeton   \n",
       "\n",
       "            state     zipcode  sumt  drop  base  gondolas_and_trams  \\\n",
       "0      Washington       99109  5774  1851  3932                   0   \n",
       "1       Minnesota       55033  1530   350  1180                   0   \n",
       "2      Washington       98068  5420  2280  3140                   0   \n",
       "3            Ohio       44026  1500   230  1260                   0   \n",
       "4       Wisconsin       53120  1040   388   820                   0   \n",
       "..            ...         ...   ...   ...   ...                 ...   \n",
       "325      New York       13486  1400   500   900                   0   \n",
       "326  Rhode Island        2877   315   245    70                   0   \n",
       "327    California       95389  7800   600  7200                   0   \n",
       "328  Pennsylvania  18356-0339  1350   700   650                   0   \n",
       "329   Masshusetts  01541-1105  2006  1000  1006                   0   \n",
       "\n",
       "     fastEight  ...  feb_max_4_guests  mar_mean_4_guests  mar_min_4_guests  \\\n",
       "0          1.0  ...             389.0         180.000000              75.0   \n",
       "1          0.0  ...             700.0         262.968750             107.0   \n",
       "2          1.0  ...             993.0         376.090909             132.0   \n",
       "3          0.0  ...             519.0         205.914286              98.0   \n",
       "4          3.0  ...             750.0         235.147059              65.0   \n",
       "..         ...  ...               ...                ...               ...   \n",
       "325        0.0  ...             666.0         225.171429              85.0   \n",
       "326        0.0  ...             650.0         297.057143             132.0   \n",
       "327        0.0  ...             559.0         249.029412             131.0   \n",
       "328        1.0  ...             400.0         197.281250             120.0   \n",
       "329        3.0  ...             520.0         233.558824             101.0   \n",
       "\n",
       "     mar_max_4_guests  apr_mean_4_guests  apr_min_4_guests  apr_max_4_guests  \\\n",
       "0               394.0         216.142857              79.0             435.0   \n",
       "1               725.0         262.093750             103.0             749.0   \n",
       "2              1200.0         347.687500              90.0            1200.0   \n",
       "3               519.0         220.742857              94.0             719.0   \n",
       "4               502.0         239.406250              65.0             750.0   \n",
       "..                ...                ...               ...               ...   \n",
       "325             666.0         245.428571             129.0             677.0   \n",
       "326             658.0         324.771429             150.0             699.0   \n",
       "327             559.0         283.685714             130.0             950.0   \n",
       "328             411.0         207.029412              71.0             473.0   \n",
       "329             520.0         262.205882             125.0             520.0   \n",
       "\n",
       "     may_mean_4_guests  may_min_4_guests may_max_4_guests  \n",
       "0           165.625000              79.0            375.0  \n",
       "1           194.750000              80.0            388.0  \n",
       "2           245.875000              78.0            580.0  \n",
       "3           167.125000              70.0            339.0  \n",
       "4           227.947368              90.0            406.0  \n",
       "..                 ...               ...              ...  \n",
       "325         175.458333              85.0            350.0  \n",
       "326         266.000000             125.0            950.0  \n",
       "327         179.785714              67.0            259.0  \n",
       "328         141.695652              68.0            310.0  \n",
       "329         209.791667              69.0            387.0  \n",
       "\n",
       "[330 rows x 82 columns]"
      ]
     },
     "execution_count": 92,
     "metadata": {},
     "output_type": "execute_result"
    }
   ],
   "source": [
    "content_df"
   ]
  },
  {
   "cell_type": "markdown",
   "metadata": {},
   "source": [
    "### Google Geocoding API"
   ]
  },
  {
   "cell_type": "markdown",
   "metadata": {},
   "source": [
    "Importing the final .csv from the Google Geocoding API pull. The code for this can be found in the **scraping_ipynb** file.\n",
    "\n",
    "Google's Geocoding API is a service that accepts a place as an address, latitude and longitude coordinates, or Place ID. It converts the address into latitude and longitude coordinates and a Place ID, or converts latitude and longitude coordinates or a Place ID into an address."
   ]
  },
  {
   "cell_type": "code",
   "execution_count": 99,
   "metadata": {},
   "outputs": [
    {
     "name": "stdout",
     "output_type": "stream",
     "text": [
      "<class 'pandas.core.frame.DataFrame'>\n",
      "RangeIndex: 332 entries, 0 to 331\n",
      "Data columns (total 5 columns):\n",
      " #   Column        Non-Null Count  Dtype  \n",
      "---  ------        --------------  -----  \n",
      " 0   Unnamed: 0    332 non-null    int64  \n",
      " 1   full_address  332 non-null    object \n",
      " 2   ski_resort    332 non-null    object \n",
      " 3   latitude      332 non-null    float64\n",
      " 4   longitude     332 non-null    float64\n",
      "dtypes: float64(2), int64(1), object(2)\n",
      "memory usage: 13.1+ KB\n"
     ]
    }
   ],
   "source": [
    "latitude_df.info()"
   ]
  },
  {
   "cell_type": "code",
   "execution_count": 101,
   "metadata": {},
   "outputs": [
    {
     "data": {
      "text/html": [
       "<div>\n",
       "<style scoped>\n",
       "    .dataframe tbody tr th:only-of-type {\n",
       "        vertical-align: middle;\n",
       "    }\n",
       "\n",
       "    .dataframe tbody tr th {\n",
       "        vertical-align: top;\n",
       "    }\n",
       "\n",
       "    .dataframe thead th {\n",
       "        text-align: right;\n",
       "    }\n",
       "</style>\n",
       "<table border=\"1\" class=\"dataframe\">\n",
       "  <thead>\n",
       "    <tr style=\"text-align: right;\">\n",
       "      <th></th>\n",
       "      <th>full_address</th>\n",
       "      <th>ski_resort</th>\n",
       "      <th>latitude</th>\n",
       "      <th>longitude</th>\n",
       "    </tr>\n",
       "  </thead>\n",
       "  <tbody>\n",
       "    <tr>\n",
       "      <th>0</th>\n",
       "      <td>P.O. Box 166, Chewelah, Washington</td>\n",
       "      <td>49 Degrees North</td>\n",
       "      <td>48.276287</td>\n",
       "      <td>-117.715521</td>\n",
       "    </tr>\n",
       "    <tr>\n",
       "      <th>1</th>\n",
       "      <td>6600 Peller Avenue South, Hastings, Minnesota</td>\n",
       "      <td>Afton Alps</td>\n",
       "      <td>44.854416</td>\n",
       "      <td>-92.790839</td>\n",
       "    </tr>\n",
       "    <tr>\n",
       "      <th>2</th>\n",
       "      <td>POB 1068, Snoquale Pass, Washington</td>\n",
       "      <td>Alpental</td>\n",
       "      <td>47.392335</td>\n",
       "      <td>-121.400094</td>\n",
       "    </tr>\n",
       "    <tr>\n",
       "      <th>3</th>\n",
       "      <td>10620 Mayfield, Chesterland, Ohio</td>\n",
       "      <td>Alpine Valley Ohio</td>\n",
       "      <td>41.526814</td>\n",
       "      <td>-81.259820</td>\n",
       "    </tr>\n",
       "    <tr>\n",
       "      <th>4</th>\n",
       "      <td>P.O. Box 615, East Troy, Wisconsin</td>\n",
       "      <td>Alpine Valley Wisconsin</td>\n",
       "      <td>42.785292</td>\n",
       "      <td>-88.405096</td>\n",
       "    </tr>\n",
       "  </tbody>\n",
       "</table>\n",
       "</div>"
      ],
      "text/plain": [
       "                                    full_address               ski_resort  \\\n",
       "0             P.O. Box 166, Chewelah, Washington         49 Degrees North   \n",
       "1  6600 Peller Avenue South, Hastings, Minnesota               Afton Alps   \n",
       "2            POB 1068, Snoquale Pass, Washington                 Alpental   \n",
       "3              10620 Mayfield, Chesterland, Ohio       Alpine Valley Ohio   \n",
       "4             P.O. Box 615, East Troy, Wisconsin  Alpine Valley Wisconsin   \n",
       "\n",
       "    latitude   longitude  \n",
       "0  48.276287 -117.715521  \n",
       "1  44.854416  -92.790839  \n",
       "2  47.392335 -121.400094  \n",
       "3  41.526814  -81.259820  \n",
       "4  42.785292  -88.405096  "
      ]
     },
     "execution_count": 101,
     "metadata": {},
     "output_type": "execute_result"
    }
   ],
   "source": [
    "latitude_df.head()"
   ]
  },
  {
   "cell_type": "code",
   "execution_count": 100,
   "metadata": {},
   "outputs": [],
   "source": [
    "latitude_df.drop(columns=\"Unnamed: 0\", inplace=True)"
   ]
  },
  {
   "cell_type": "code",
   "execution_count": 102,
   "metadata": {},
   "outputs": [
    {
     "data": {
      "text/plain": [
       "array(['Anthony Lakes Mountain', 'Big Squaw Mountain Ski',\n",
       "       'Brantling Ski Slopes', 'Coffee Mill Ski Snowboard', 'Mt. Holly',\n",
       "       'Mt. Shasta Board Ski Park', 'Snow Summit', 'Timberline Mountain',\n",
       "       'Whaleback'], dtype=object)"
      ]
     },
     "execution_count": 102,
     "metadata": {},
     "output_type": "execute_result"
    }
   ],
   "source": [
    "content_df.loc[~content_df['ski_resort'].isin(latitude_df['ski_resort']),\n",
    "                         'ski_resort'].unique()"
   ]
  },
  {
   "cell_type": "code",
   "execution_count": 103,
   "metadata": {},
   "outputs": [],
   "source": [
    "#updating Timberline because there are multiple similar resorts\n",
    "latitude_df.loc[(latitude_df['ski_resort'] == 'Timberline') & (latitude_df['full_address'] == \"HC 70 Box 488, Davis, West Virginia\"), 'ski_resort'] = \"Timberline Mountain\"\n",
    "\n",
    "#batch renaming\n",
    "lat_list = [\"Anthony Lakes\", \"Mount Holly\", \"Mt. Shasta\", \"Coffee ll\", \"Brantling Ski\", \"Big Squaw\"]\n",
    "lat_replace = ['Anthony Lakes Mountain', 'Mt. Holly','Mt. Shasta Board Ski Park',\n",
    "               'Coffee Mill Ski Snowboard','Brantling Ski Slopes', 'Big Squaw Mountain Ski']\n",
    "\n",
    "latitude_df.replace(lat_list, lat_replace, regex=True, inplace=True)"
   ]
  },
  {
   "cell_type": "code",
   "execution_count": 104,
   "metadata": {},
   "outputs": [
    {
     "data": {
      "text/plain": [
       "array(['Snow Summit', 'Whaleback'], dtype=object)"
      ]
     },
     "execution_count": 104,
     "metadata": {},
     "output_type": "execute_result"
    }
   ],
   "source": [
    "#confiring all names are consistent besides two remaining values that don't exist in the other dataframe\n",
    "content_df.loc[~content_df['ski_resort'].isin(latitude_df['ski_resort']),\n",
    "                         'ski_resort'].unique()"
   ]
  },
  {
   "cell_type": "markdown",
   "metadata": {},
   "source": [
    "### Merging with feature dataframe"
   ]
  },
  {
   "cell_type": "code",
   "execution_count": 105,
   "metadata": {},
   "outputs": [],
   "source": [
    "#merging latitude df with final content_df\n",
    "content_df = pd.merge(content_df, latitude_df, on=\"ski_resort\", how=\"left\")"
   ]
  },
  {
   "cell_type": "code",
   "execution_count": 107,
   "metadata": {},
   "outputs": [
    {
     "name": "stdout",
     "output_type": "stream",
     "text": [
      "<class 'pandas.core.frame.DataFrame'>\n",
      "Int64Index: 330 entries, 0 to 329\n",
      "Data columns (total 85 columns):\n",
      " #   Column                    Non-Null Count  Dtype  \n",
      "---  ------                    --------------  -----  \n",
      " 0   ski_resort                330 non-null    object \n",
      " 1   address                   330 non-null    object \n",
      " 2   city                      330 non-null    object \n",
      " 3   state                     330 non-null    object \n",
      " 4   zipcode                   330 non-null    object \n",
      " 5   sumt                      330 non-null    int64  \n",
      " 6   drop                      330 non-null    int64  \n",
      " 7   base                      330 non-null    int64  \n",
      " 8   gondolas_and_trams        330 non-null    int64  \n",
      " 9   fastEight                 330 non-null    float64\n",
      " 10  highSpeedSixes            328 non-null    float64\n",
      " 11  quadChairs                329 non-null    float64\n",
      " 12  tripleChairs              329 non-null    float64\n",
      " 13  doubleChairs              329 non-null    float64\n",
      " 14  surfeLifts                330 non-null    float64\n",
      " 15  totalRuns (acre)          330 non-null    int64  \n",
      " 16  longestRun (miles)        330 non-null    float64\n",
      " 17  daysOpenLastYear          330 non-null    int64  \n",
      " 18  averageSnowfall (inches)  330 non-null    int64  \n",
      " 19  projectedOpening          330 non-null    object \n",
      " 20  projectedClosing          330 non-null    object \n",
      " 21  NovSnow                   330 non-null    float64\n",
      " 22  DecSnow                   330 non-null    float64\n",
      " 23  JanSnow                   330 non-null    float64\n",
      " 24  FebSnow                   330 non-null    float64\n",
      " 25  MarSnow                   330 non-null    float64\n",
      " 26  AprSnow                   330 non-null    float64\n",
      " 27  child_season              330 non-null    int64  \n",
      " 28  junior_season             330 non-null    int64  \n",
      " 29  adult_season              330 non-null    int64  \n",
      " 30  child_weekday             330 non-null    int64  \n",
      " 31  junior_weekday            330 non-null    int64  \n",
      " 32  adult_weekday             330 non-null    int64  \n",
      " 33  senior_weekday            330 non-null    int64  \n",
      " 34  child_weekend             330 non-null    int64  \n",
      " 35  junior_weekend            330 non-null    int64  \n",
      " 36  adult_weekend             330 non-null    int64  \n",
      " 37  Url                       330 non-null    object \n",
      " 38  beginner_runs             330 non-null    object \n",
      " 39  intermediate_runs         330 non-null    object \n",
      " 40  advanced_runs             330 non-null    object \n",
      " 41  expert_runs               330 non-null    object \n",
      " 42  epic                      330 non-null    int64  \n",
      " 43  mountain_collective       330 non-null    int64  \n",
      " 44  ikon                      330 non-null    int64  \n",
      " 45  indy                      330 non-null    int64  \n",
      " 46  dec_mean_2_guests         327 non-null    float64\n",
      " 47  dec_min_2_guests          327 non-null    float64\n",
      " 48  dec_max_2_guests          327 non-null    float64\n",
      " 49  jan_mean_2_guests         327 non-null    float64\n",
      " 50  jan_min_2_guests          327 non-null    float64\n",
      " 51  jan_max_2_guests          327 non-null    float64\n",
      " 52  feb_mean_2_guests         327 non-null    float64\n",
      " 53  feb_min_2_guests          327 non-null    float64\n",
      " 54  feb_max_2_guests          327 non-null    float64\n",
      " 55  mar_mean_2_guests         327 non-null    float64\n",
      " 56  mar_min_2_guests          327 non-null    float64\n",
      " 57  mar_max_2_guests          327 non-null    float64\n",
      " 58  apr_mean_2_guests         327 non-null    float64\n",
      " 59  apr_min_2_guests          327 non-null    float64\n",
      " 60  apr_max_2_guests          327 non-null    float64\n",
      " 61  may_mean_2_guests         327 non-null    float64\n",
      " 62  may_min_2_guests          327 non-null    float64\n",
      " 63  may_max_2_guests          327 non-null    float64\n",
      " 64  dec_mean_4_guests         327 non-null    float64\n",
      " 65  dec_min_4_guests          327 non-null    float64\n",
      " 66  dec_max_4_guests          327 non-null    float64\n",
      " 67  jan_mean_4_guests         327 non-null    float64\n",
      " 68  jan_min_4_guests          327 non-null    float64\n",
      " 69  jan_max_4_guests          327 non-null    float64\n",
      " 70  feb_mean_4_guests         327 non-null    float64\n",
      " 71  feb_min_4_guests          327 non-null    float64\n",
      " 72  feb_max_4_guests          327 non-null    float64\n",
      " 73  mar_mean_4_guests         327 non-null    float64\n",
      " 74  mar_min_4_guests          327 non-null    float64\n",
      " 75  mar_max_4_guests          327 non-null    float64\n",
      " 76  apr_mean_4_guests         327 non-null    float64\n",
      " 77  apr_min_4_guests          327 non-null    float64\n",
      " 78  apr_max_4_guests          327 non-null    float64\n",
      " 79  may_mean_4_guests         327 non-null    float64\n",
      " 80  may_min_4_guests          327 non-null    float64\n",
      " 81  may_max_4_guests          327 non-null    float64\n",
      " 82  full_address              328 non-null    object \n",
      " 83  latitude                  328 non-null    float64\n",
      " 84  longitude                 328 non-null    float64\n",
      "dtypes: float64(51), int64(21), object(13)\n",
      "memory usage: 221.7+ KB\n"
     ]
    }
   ],
   "source": [
    "content_df.info()"
   ]
  },
  {
   "cell_type": "code",
   "execution_count": 106,
   "metadata": {},
   "outputs": [
    {
     "data": {
      "text/html": [
       "<div>\n",
       "<style scoped>\n",
       "    .dataframe tbody tr th:only-of-type {\n",
       "        vertical-align: middle;\n",
       "    }\n",
       "\n",
       "    .dataframe tbody tr th {\n",
       "        vertical-align: top;\n",
       "    }\n",
       "\n",
       "    .dataframe thead th {\n",
       "        text-align: right;\n",
       "    }\n",
       "</style>\n",
       "<table border=\"1\" class=\"dataframe\">\n",
       "  <thead>\n",
       "    <tr style=\"text-align: right;\">\n",
       "      <th></th>\n",
       "      <th>ski_resort</th>\n",
       "      <th>address</th>\n",
       "      <th>city</th>\n",
       "      <th>state</th>\n",
       "      <th>zipcode</th>\n",
       "      <th>sumt</th>\n",
       "      <th>drop</th>\n",
       "      <th>base</th>\n",
       "      <th>gondolas_and_trams</th>\n",
       "      <th>fastEight</th>\n",
       "      <th>...</th>\n",
       "      <th>mar_max_4_guests</th>\n",
       "      <th>apr_mean_4_guests</th>\n",
       "      <th>apr_min_4_guests</th>\n",
       "      <th>apr_max_4_guests</th>\n",
       "      <th>may_mean_4_guests</th>\n",
       "      <th>may_min_4_guests</th>\n",
       "      <th>may_max_4_guests</th>\n",
       "      <th>full_address</th>\n",
       "      <th>latitude</th>\n",
       "      <th>longitude</th>\n",
       "    </tr>\n",
       "  </thead>\n",
       "  <tbody>\n",
       "    <tr>\n",
       "      <th>0</th>\n",
       "      <td>49 Degrees North</td>\n",
       "      <td>P.O. Box 166</td>\n",
       "      <td>Chewelah</td>\n",
       "      <td>Washington</td>\n",
       "      <td>99109</td>\n",
       "      <td>5774</td>\n",
       "      <td>1851</td>\n",
       "      <td>3932</td>\n",
       "      <td>0</td>\n",
       "      <td>1.0</td>\n",
       "      <td>...</td>\n",
       "      <td>394.0</td>\n",
       "      <td>216.142857</td>\n",
       "      <td>79.0</td>\n",
       "      <td>435.0</td>\n",
       "      <td>165.625000</td>\n",
       "      <td>79.0</td>\n",
       "      <td>375.0</td>\n",
       "      <td>P.O. Box 166, Chewelah, Washington</td>\n",
       "      <td>48.276287</td>\n",
       "      <td>-117.715521</td>\n",
       "    </tr>\n",
       "    <tr>\n",
       "      <th>1</th>\n",
       "      <td>Afton Alps</td>\n",
       "      <td>6600 Peller Avenue South</td>\n",
       "      <td>Hastings</td>\n",
       "      <td>Minnesota</td>\n",
       "      <td>55033</td>\n",
       "      <td>1530</td>\n",
       "      <td>350</td>\n",
       "      <td>1180</td>\n",
       "      <td>0</td>\n",
       "      <td>0.0</td>\n",
       "      <td>...</td>\n",
       "      <td>725.0</td>\n",
       "      <td>262.093750</td>\n",
       "      <td>103.0</td>\n",
       "      <td>749.0</td>\n",
       "      <td>194.750000</td>\n",
       "      <td>80.0</td>\n",
       "      <td>388.0</td>\n",
       "      <td>6600 Peller Avenue South, Hastings, Minnesota</td>\n",
       "      <td>44.854416</td>\n",
       "      <td>-92.790839</td>\n",
       "    </tr>\n",
       "    <tr>\n",
       "      <th>2</th>\n",
       "      <td>Alpental</td>\n",
       "      <td>POB 1068</td>\n",
       "      <td>Snoquale Pass</td>\n",
       "      <td>Washington</td>\n",
       "      <td>98068</td>\n",
       "      <td>5420</td>\n",
       "      <td>2280</td>\n",
       "      <td>3140</td>\n",
       "      <td>0</td>\n",
       "      <td>1.0</td>\n",
       "      <td>...</td>\n",
       "      <td>1200.0</td>\n",
       "      <td>347.687500</td>\n",
       "      <td>90.0</td>\n",
       "      <td>1200.0</td>\n",
       "      <td>245.875000</td>\n",
       "      <td>78.0</td>\n",
       "      <td>580.0</td>\n",
       "      <td>POB 1068, Snoquale Pass, Washington</td>\n",
       "      <td>47.392335</td>\n",
       "      <td>-121.400094</td>\n",
       "    </tr>\n",
       "    <tr>\n",
       "      <th>3</th>\n",
       "      <td>Alpine Valley Ohio</td>\n",
       "      <td>10620 Mayfield</td>\n",
       "      <td>Chesterland</td>\n",
       "      <td>Ohio</td>\n",
       "      <td>44026</td>\n",
       "      <td>1500</td>\n",
       "      <td>230</td>\n",
       "      <td>1260</td>\n",
       "      <td>0</td>\n",
       "      <td>0.0</td>\n",
       "      <td>...</td>\n",
       "      <td>519.0</td>\n",
       "      <td>220.742857</td>\n",
       "      <td>94.0</td>\n",
       "      <td>719.0</td>\n",
       "      <td>167.125000</td>\n",
       "      <td>70.0</td>\n",
       "      <td>339.0</td>\n",
       "      <td>10620 Mayfield, Chesterland, Ohio</td>\n",
       "      <td>41.526814</td>\n",
       "      <td>-81.259820</td>\n",
       "    </tr>\n",
       "    <tr>\n",
       "      <th>4</th>\n",
       "      <td>Alpine Valley Wisconsin</td>\n",
       "      <td>P.O. Box 615</td>\n",
       "      <td>East Troy</td>\n",
       "      <td>Wisconsin</td>\n",
       "      <td>53120</td>\n",
       "      <td>1040</td>\n",
       "      <td>388</td>\n",
       "      <td>820</td>\n",
       "      <td>0</td>\n",
       "      <td>3.0</td>\n",
       "      <td>...</td>\n",
       "      <td>502.0</td>\n",
       "      <td>239.406250</td>\n",
       "      <td>65.0</td>\n",
       "      <td>750.0</td>\n",
       "      <td>227.947368</td>\n",
       "      <td>90.0</td>\n",
       "      <td>406.0</td>\n",
       "      <td>P.O. Box 615, East Troy, Wisconsin</td>\n",
       "      <td>42.785292</td>\n",
       "      <td>-88.405096</td>\n",
       "    </tr>\n",
       "  </tbody>\n",
       "</table>\n",
       "<p>5 rows × 85 columns</p>\n",
       "</div>"
      ],
      "text/plain": [
       "                ski_resort                   address           city  \\\n",
       "0         49 Degrees North              P.O. Box 166       Chewelah   \n",
       "1               Afton Alps  6600 Peller Avenue South       Hastings   \n",
       "2                 Alpental                  POB 1068  Snoquale Pass   \n",
       "3       Alpine Valley Ohio            10620 Mayfield    Chesterland   \n",
       "4  Alpine Valley Wisconsin              P.O. Box 615      East Troy   \n",
       "\n",
       "        state zipcode  sumt  drop  base  gondolas_and_trams  fastEight  ...  \\\n",
       "0  Washington   99109  5774  1851  3932                   0        1.0  ...   \n",
       "1   Minnesota   55033  1530   350  1180                   0        0.0  ...   \n",
       "2  Washington   98068  5420  2280  3140                   0        1.0  ...   \n",
       "3        Ohio   44026  1500   230  1260                   0        0.0  ...   \n",
       "4   Wisconsin   53120  1040   388   820                   0        3.0  ...   \n",
       "\n",
       "   mar_max_4_guests  apr_mean_4_guests  apr_min_4_guests  apr_max_4_guests  \\\n",
       "0             394.0         216.142857              79.0             435.0   \n",
       "1             725.0         262.093750             103.0             749.0   \n",
       "2            1200.0         347.687500              90.0            1200.0   \n",
       "3             519.0         220.742857              94.0             719.0   \n",
       "4             502.0         239.406250              65.0             750.0   \n",
       "\n",
       "   may_mean_4_guests  may_min_4_guests  may_max_4_guests  \\\n",
       "0         165.625000              79.0             375.0   \n",
       "1         194.750000              80.0             388.0   \n",
       "2         245.875000              78.0             580.0   \n",
       "3         167.125000              70.0             339.0   \n",
       "4         227.947368              90.0             406.0   \n",
       "\n",
       "                                    full_address   latitude   longitude  \n",
       "0             P.O. Box 166, Chewelah, Washington  48.276287 -117.715521  \n",
       "1  6600 Peller Avenue South, Hastings, Minnesota  44.854416  -92.790839  \n",
       "2            POB 1068, Snoquale Pass, Washington  47.392335 -121.400094  \n",
       "3              10620 Mayfield, Chesterland, Ohio  41.526814  -81.259820  \n",
       "4             P.O. Box 615, East Troy, Wisconsin  42.785292  -88.405096  \n",
       "\n",
       "[5 rows x 85 columns]"
      ]
     },
     "execution_count": 106,
     "metadata": {},
     "output_type": "execute_result"
    }
   ],
   "source": [
    "content_df.head()"
   ]
  },
  {
   "cell_type": "markdown",
   "metadata": {},
   "source": [
    "### Adding Additional Column"
   ]
  },
  {
   "cell_type": "code",
   "execution_count": 108,
   "metadata": {},
   "outputs": [],
   "source": [
    "lift_list = ['gondolas_and_trams','fastEight','highSpeedSixes','quadChairs','tripleChairs','doubleChairs',\n",
    "             'surfeLifts']\n",
    "\n",
    "for x in lift_list:\n",
    "    content_df[x] = content_df[x].fillna(0)"
   ]
  },
  {
   "cell_type": "code",
   "execution_count": 109,
   "metadata": {},
   "outputs": [],
   "source": [
    "content_df['gondolas_and_trams'] = content_df['gondolas_and_trams'].astype(float)"
   ]
  },
  {
   "cell_type": "code",
   "execution_count": 110,
   "metadata": {},
   "outputs": [],
   "source": [
    "#making new column that totals the lift sum\n",
    "content_df['total_lifts'] = 0 \n",
    "\n",
    "#adding columns\n",
    "content_df['total_lifts'] = content_df['gondolas_and_trams'] + content_df['fastEight'] + content_df['highSpeedSixes'] + content_df['quadChairs'] + content_df['tripleChairs'] + content_df['doubleChairs'] + content_df['surfeLifts']"
   ]
  },
  {
   "cell_type": "code",
   "execution_count": 113,
   "metadata": {},
   "outputs": [
    {
     "data": {
      "text/html": [
       "<div>\n",
       "<style scoped>\n",
       "    .dataframe tbody tr th:only-of-type {\n",
       "        vertical-align: middle;\n",
       "    }\n",
       "\n",
       "    .dataframe tbody tr th {\n",
       "        vertical-align: top;\n",
       "    }\n",
       "\n",
       "    .dataframe thead th {\n",
       "        text-align: right;\n",
       "    }\n",
       "</style>\n",
       "<table border=\"1\" class=\"dataframe\">\n",
       "  <thead>\n",
       "    <tr style=\"text-align: right;\">\n",
       "      <th></th>\n",
       "      <th>ski_resort</th>\n",
       "      <th>address</th>\n",
       "      <th>city</th>\n",
       "      <th>state</th>\n",
       "      <th>zipcode</th>\n",
       "      <th>sumt</th>\n",
       "      <th>drop</th>\n",
       "      <th>base</th>\n",
       "      <th>gondolas_and_trams</th>\n",
       "      <th>fastEight</th>\n",
       "      <th>...</th>\n",
       "      <th>apr_mean_4_guests</th>\n",
       "      <th>apr_min_4_guests</th>\n",
       "      <th>apr_max_4_guests</th>\n",
       "      <th>may_mean_4_guests</th>\n",
       "      <th>may_min_4_guests</th>\n",
       "      <th>may_max_4_guests</th>\n",
       "      <th>full_address</th>\n",
       "      <th>latitude</th>\n",
       "      <th>longitude</th>\n",
       "      <th>total_lifts</th>\n",
       "    </tr>\n",
       "  </thead>\n",
       "  <tbody>\n",
       "    <tr>\n",
       "      <th>0</th>\n",
       "      <td>49 Degrees North</td>\n",
       "      <td>P.O. Box 166</td>\n",
       "      <td>Chewelah</td>\n",
       "      <td>Washington</td>\n",
       "      <td>99109</td>\n",
       "      <td>5774</td>\n",
       "      <td>1851</td>\n",
       "      <td>3932</td>\n",
       "      <td>0.0</td>\n",
       "      <td>1.0</td>\n",
       "      <td>...</td>\n",
       "      <td>216.142857</td>\n",
       "      <td>79.0</td>\n",
       "      <td>435.0</td>\n",
       "      <td>165.625000</td>\n",
       "      <td>79.0</td>\n",
       "      <td>375.0</td>\n",
       "      <td>P.O. Box 166, Chewelah, Washington</td>\n",
       "      <td>48.276287</td>\n",
       "      <td>-117.715521</td>\n",
       "      <td>7.0</td>\n",
       "    </tr>\n",
       "    <tr>\n",
       "      <th>1</th>\n",
       "      <td>Afton Alps</td>\n",
       "      <td>6600 Peller Avenue South</td>\n",
       "      <td>Hastings</td>\n",
       "      <td>Minnesota</td>\n",
       "      <td>55033</td>\n",
       "      <td>1530</td>\n",
       "      <td>350</td>\n",
       "      <td>1180</td>\n",
       "      <td>0.0</td>\n",
       "      <td>0.0</td>\n",
       "      <td>...</td>\n",
       "      <td>262.093750</td>\n",
       "      <td>103.0</td>\n",
       "      <td>749.0</td>\n",
       "      <td>194.750000</td>\n",
       "      <td>80.0</td>\n",
       "      <td>388.0</td>\n",
       "      <td>6600 Peller Avenue South, Hastings, Minnesota</td>\n",
       "      <td>44.854416</td>\n",
       "      <td>-92.790839</td>\n",
       "      <td>21.0</td>\n",
       "    </tr>\n",
       "    <tr>\n",
       "      <th>2</th>\n",
       "      <td>Alpental</td>\n",
       "      <td>POB 1068</td>\n",
       "      <td>Snoquale Pass</td>\n",
       "      <td>Washington</td>\n",
       "      <td>98068</td>\n",
       "      <td>5420</td>\n",
       "      <td>2280</td>\n",
       "      <td>3140</td>\n",
       "      <td>0.0</td>\n",
       "      <td>1.0</td>\n",
       "      <td>...</td>\n",
       "      <td>347.687500</td>\n",
       "      <td>90.0</td>\n",
       "      <td>1200.0</td>\n",
       "      <td>245.875000</td>\n",
       "      <td>78.0</td>\n",
       "      <td>580.0</td>\n",
       "      <td>POB 1068, Snoquale Pass, Washington</td>\n",
       "      <td>47.392335</td>\n",
       "      <td>-121.400094</td>\n",
       "      <td>5.0</td>\n",
       "    </tr>\n",
       "    <tr>\n",
       "      <th>3</th>\n",
       "      <td>Alpine Valley Ohio</td>\n",
       "      <td>10620 Mayfield</td>\n",
       "      <td>Chesterland</td>\n",
       "      <td>Ohio</td>\n",
       "      <td>44026</td>\n",
       "      <td>1500</td>\n",
       "      <td>230</td>\n",
       "      <td>1260</td>\n",
       "      <td>0.0</td>\n",
       "      <td>0.0</td>\n",
       "      <td>...</td>\n",
       "      <td>220.742857</td>\n",
       "      <td>94.0</td>\n",
       "      <td>719.0</td>\n",
       "      <td>167.125000</td>\n",
       "      <td>70.0</td>\n",
       "      <td>339.0</td>\n",
       "      <td>10620 Mayfield, Chesterland, Ohio</td>\n",
       "      <td>41.526814</td>\n",
       "      <td>-81.259820</td>\n",
       "      <td>5.0</td>\n",
       "    </tr>\n",
       "    <tr>\n",
       "      <th>4</th>\n",
       "      <td>Alpine Valley Wisconsin</td>\n",
       "      <td>P.O. Box 615</td>\n",
       "      <td>East Troy</td>\n",
       "      <td>Wisconsin</td>\n",
       "      <td>53120</td>\n",
       "      <td>1040</td>\n",
       "      <td>388</td>\n",
       "      <td>820</td>\n",
       "      <td>0.0</td>\n",
       "      <td>3.0</td>\n",
       "      <td>...</td>\n",
       "      <td>239.406250</td>\n",
       "      <td>65.0</td>\n",
       "      <td>750.0</td>\n",
       "      <td>227.947368</td>\n",
       "      <td>90.0</td>\n",
       "      <td>406.0</td>\n",
       "      <td>P.O. Box 615, East Troy, Wisconsin</td>\n",
       "      <td>42.785292</td>\n",
       "      <td>-88.405096</td>\n",
       "      <td>13.0</td>\n",
       "    </tr>\n",
       "    <tr>\n",
       "      <th>...</th>\n",
       "      <td>...</td>\n",
       "      <td>...</td>\n",
       "      <td>...</td>\n",
       "      <td>...</td>\n",
       "      <td>...</td>\n",
       "      <td>...</td>\n",
       "      <td>...</td>\n",
       "      <td>...</td>\n",
       "      <td>...</td>\n",
       "      <td>...</td>\n",
       "      <td>...</td>\n",
       "      <td>...</td>\n",
       "      <td>...</td>\n",
       "      <td>...</td>\n",
       "      <td>...</td>\n",
       "      <td>...</td>\n",
       "      <td>...</td>\n",
       "      <td>...</td>\n",
       "      <td>...</td>\n",
       "      <td>...</td>\n",
       "      <td>...</td>\n",
       "    </tr>\n",
       "    <tr>\n",
       "      <th>325</th>\n",
       "      <td>Woods Valley</td>\n",
       "      <td>Box 215</td>\n",
       "      <td>Westernville</td>\n",
       "      <td>New York</td>\n",
       "      <td>13486</td>\n",
       "      <td>1400</td>\n",
       "      <td>500</td>\n",
       "      <td>900</td>\n",
       "      <td>0.0</td>\n",
       "      <td>0.0</td>\n",
       "      <td>...</td>\n",
       "      <td>245.428571</td>\n",
       "      <td>129.0</td>\n",
       "      <td>677.0</td>\n",
       "      <td>175.458333</td>\n",
       "      <td>85.0</td>\n",
       "      <td>350.0</td>\n",
       "      <td>Box 215, Westernville, New York</td>\n",
       "      <td>43.305625</td>\n",
       "      <td>-75.382950</td>\n",
       "      <td>6.0</td>\n",
       "    </tr>\n",
       "    <tr>\n",
       "      <th>326</th>\n",
       "      <td>Yawgoo Valley</td>\n",
       "      <td>Box 41</td>\n",
       "      <td>Slocum</td>\n",
       "      <td>Rhode Island</td>\n",
       "      <td>2877</td>\n",
       "      <td>315</td>\n",
       "      <td>245</td>\n",
       "      <td>70</td>\n",
       "      <td>0.0</td>\n",
       "      <td>0.0</td>\n",
       "      <td>...</td>\n",
       "      <td>324.771429</td>\n",
       "      <td>150.0</td>\n",
       "      <td>699.0</td>\n",
       "      <td>266.000000</td>\n",
       "      <td>125.0</td>\n",
       "      <td>950.0</td>\n",
       "      <td>Box 41, Slocum, Rhode Island</td>\n",
       "      <td>41.532874</td>\n",
       "      <td>-71.514729</td>\n",
       "      <td>4.0</td>\n",
       "    </tr>\n",
       "    <tr>\n",
       "      <th>327</th>\n",
       "      <td>Badger Pass</td>\n",
       "      <td>9001 Village Dr.</td>\n",
       "      <td>Yosete</td>\n",
       "      <td>California</td>\n",
       "      <td>95389</td>\n",
       "      <td>7800</td>\n",
       "      <td>600</td>\n",
       "      <td>7200</td>\n",
       "      <td>0.0</td>\n",
       "      <td>0.0</td>\n",
       "      <td>...</td>\n",
       "      <td>283.685714</td>\n",
       "      <td>130.0</td>\n",
       "      <td>950.0</td>\n",
       "      <td>179.785714</td>\n",
       "      <td>67.0</td>\n",
       "      <td>259.0</td>\n",
       "      <td>9001 Village Dr., Yosete, California</td>\n",
       "      <td>37.747595</td>\n",
       "      <td>-119.584136</td>\n",
       "      <td>5.0</td>\n",
       "    </tr>\n",
       "    <tr>\n",
       "      <th>328</th>\n",
       "      <td>Shawnee Mountain</td>\n",
       "      <td>P.O. Box 339</td>\n",
       "      <td>Shawnee on Delaware</td>\n",
       "      <td>Pennsylvania</td>\n",
       "      <td>18356-0339</td>\n",
       "      <td>1350</td>\n",
       "      <td>700</td>\n",
       "      <td>650</td>\n",
       "      <td>0.0</td>\n",
       "      <td>1.0</td>\n",
       "      <td>...</td>\n",
       "      <td>207.029412</td>\n",
       "      <td>71.0</td>\n",
       "      <td>473.0</td>\n",
       "      <td>141.695652</td>\n",
       "      <td>68.0</td>\n",
       "      <td>310.0</td>\n",
       "      <td>P.O. Box 339, Shawnee on Delaware, Pennsylvania</td>\n",
       "      <td>41.012317</td>\n",
       "      <td>-75.110733</td>\n",
       "      <td>9.0</td>\n",
       "    </tr>\n",
       "    <tr>\n",
       "      <th>329</th>\n",
       "      <td>Wachusett Mountain</td>\n",
       "      <td>499 Mountain Road</td>\n",
       "      <td>Princeton</td>\n",
       "      <td>Masshusetts</td>\n",
       "      <td>01541-1105</td>\n",
       "      <td>2006</td>\n",
       "      <td>1000</td>\n",
       "      <td>1006</td>\n",
       "      <td>0.0</td>\n",
       "      <td>3.0</td>\n",
       "      <td>...</td>\n",
       "      <td>262.205882</td>\n",
       "      <td>125.0</td>\n",
       "      <td>520.0</td>\n",
       "      <td>209.791667</td>\n",
       "      <td>69.0</td>\n",
       "      <td>387.0</td>\n",
       "      <td>499 Mountain Road, Princeton, Masshusetts</td>\n",
       "      <td>42.502946</td>\n",
       "      <td>-71.886260</td>\n",
       "      <td>8.0</td>\n",
       "    </tr>\n",
       "  </tbody>\n",
       "</table>\n",
       "<p>330 rows × 86 columns</p>\n",
       "</div>"
      ],
      "text/plain": [
       "                  ski_resort                   address                 city  \\\n",
       "0           49 Degrees North              P.O. Box 166             Chewelah   \n",
       "1                 Afton Alps  6600 Peller Avenue South             Hastings   \n",
       "2                   Alpental                  POB 1068        Snoquale Pass   \n",
       "3         Alpine Valley Ohio            10620 Mayfield          Chesterland   \n",
       "4    Alpine Valley Wisconsin              P.O. Box 615            East Troy   \n",
       "..                       ...                       ...                  ...   \n",
       "325             Woods Valley                   Box 215         Westernville   \n",
       "326            Yawgoo Valley                    Box 41               Slocum   \n",
       "327              Badger Pass          9001 Village Dr.               Yosete   \n",
       "328         Shawnee Mountain              P.O. Box 339  Shawnee on Delaware   \n",
       "329       Wachusett Mountain         499 Mountain Road            Princeton   \n",
       "\n",
       "            state     zipcode  sumt  drop  base  gondolas_and_trams  \\\n",
       "0      Washington       99109  5774  1851  3932                 0.0   \n",
       "1       Minnesota       55033  1530   350  1180                 0.0   \n",
       "2      Washington       98068  5420  2280  3140                 0.0   \n",
       "3            Ohio       44026  1500   230  1260                 0.0   \n",
       "4       Wisconsin       53120  1040   388   820                 0.0   \n",
       "..            ...         ...   ...   ...   ...                 ...   \n",
       "325      New York       13486  1400   500   900                 0.0   \n",
       "326  Rhode Island        2877   315   245    70                 0.0   \n",
       "327    California       95389  7800   600  7200                 0.0   \n",
       "328  Pennsylvania  18356-0339  1350   700   650                 0.0   \n",
       "329   Masshusetts  01541-1105  2006  1000  1006                 0.0   \n",
       "\n",
       "     fastEight  ...  apr_mean_4_guests  apr_min_4_guests  apr_max_4_guests  \\\n",
       "0          1.0  ...         216.142857              79.0             435.0   \n",
       "1          0.0  ...         262.093750             103.0             749.0   \n",
       "2          1.0  ...         347.687500              90.0            1200.0   \n",
       "3          0.0  ...         220.742857              94.0             719.0   \n",
       "4          3.0  ...         239.406250              65.0             750.0   \n",
       "..         ...  ...                ...               ...               ...   \n",
       "325        0.0  ...         245.428571             129.0             677.0   \n",
       "326        0.0  ...         324.771429             150.0             699.0   \n",
       "327        0.0  ...         283.685714             130.0             950.0   \n",
       "328        1.0  ...         207.029412              71.0             473.0   \n",
       "329        3.0  ...         262.205882             125.0             520.0   \n",
       "\n",
       "     may_mean_4_guests  may_min_4_guests  may_max_4_guests  \\\n",
       "0           165.625000              79.0             375.0   \n",
       "1           194.750000              80.0             388.0   \n",
       "2           245.875000              78.0             580.0   \n",
       "3           167.125000              70.0             339.0   \n",
       "4           227.947368              90.0             406.0   \n",
       "..                 ...               ...               ...   \n",
       "325         175.458333              85.0             350.0   \n",
       "326         266.000000             125.0             950.0   \n",
       "327         179.785714              67.0             259.0   \n",
       "328         141.695652              68.0             310.0   \n",
       "329         209.791667              69.0             387.0   \n",
       "\n",
       "                                        full_address   latitude   longitude  \\\n",
       "0                 P.O. Box 166, Chewelah, Washington  48.276287 -117.715521   \n",
       "1      6600 Peller Avenue South, Hastings, Minnesota  44.854416  -92.790839   \n",
       "2                POB 1068, Snoquale Pass, Washington  47.392335 -121.400094   \n",
       "3                  10620 Mayfield, Chesterland, Ohio  41.526814  -81.259820   \n",
       "4                 P.O. Box 615, East Troy, Wisconsin  42.785292  -88.405096   \n",
       "..                                               ...        ...         ...   \n",
       "325                  Box 215, Westernville, New York  43.305625  -75.382950   \n",
       "326                     Box 41, Slocum, Rhode Island  41.532874  -71.514729   \n",
       "327             9001 Village Dr., Yosete, California  37.747595 -119.584136   \n",
       "328  P.O. Box 339, Shawnee on Delaware, Pennsylvania  41.012317  -75.110733   \n",
       "329        499 Mountain Road, Princeton, Masshusetts  42.502946  -71.886260   \n",
       "\n",
       "    total_lifts  \n",
       "0           7.0  \n",
       "1          21.0  \n",
       "2           5.0  \n",
       "3           5.0  \n",
       "4          13.0  \n",
       "..          ...  \n",
       "325         6.0  \n",
       "326         4.0  \n",
       "327         5.0  \n",
       "328         9.0  \n",
       "329         8.0  \n",
       "\n",
       "[330 rows x 86 columns]"
      ]
     },
     "execution_count": 113,
     "metadata": {},
     "output_type": "execute_result"
    }
   ],
   "source": [
    "content_df"
   ]
  },
  {
   "cell_type": "code",
   "execution_count": 118,
   "metadata": {},
   "outputs": [],
   "source": [
    "content_df.drop_duplicates(subset=\"ski_resort\", inplace=True)"
   ]
  },
  {
   "cell_type": "code",
   "execution_count": 122,
   "metadata": {},
   "outputs": [],
   "source": [
    "#saving final cleaned scraped df\n",
    "content_df.to_csv(\"cleaned_data_exports/scraped_feature_df.csv\")"
   ]
  },
  {
   "cell_type": "markdown",
   "metadata": {},
   "source": [
    "## Feature Analysis"
   ]
  },
  {
   "cell_type": "markdown",
   "metadata": {},
   "source": [
    "### Ratings by resort distribution"
   ]
  },
  {
   "cell_type": "code",
   "execution_count": 120,
   "metadata": {},
   "outputs": [
    {
     "data": {
      "text/html": [
       "<div>\n",
       "<style scoped>\n",
       "    .dataframe tbody tr th:only-of-type {\n",
       "        vertical-align: middle;\n",
       "    }\n",
       "\n",
       "    .dataframe tbody tr th {\n",
       "        vertical-align: top;\n",
       "    }\n",
       "\n",
       "    .dataframe thead th {\n",
       "        text-align: right;\n",
       "    }\n",
       "</style>\n",
       "<table border=\"1\" class=\"dataframe\">\n",
       "  <thead>\n",
       "    <tr style=\"text-align: right;\">\n",
       "      <th></th>\n",
       "      <th>index</th>\n",
       "      <th>ski_resort</th>\n",
       "    </tr>\n",
       "  </thead>\n",
       "  <tbody>\n",
       "    <tr>\n",
       "      <th>0</th>\n",
       "      <td>Ski Brule</td>\n",
       "      <td>74</td>\n",
       "    </tr>\n",
       "    <tr>\n",
       "      <th>1</th>\n",
       "      <td>Killington</td>\n",
       "      <td>53</td>\n",
       "    </tr>\n",
       "    <tr>\n",
       "      <th>2</th>\n",
       "      <td>Vail</td>\n",
       "      <td>51</td>\n",
       "    </tr>\n",
       "    <tr>\n",
       "      <th>3</th>\n",
       "      <td>Breckenridge</td>\n",
       "      <td>49</td>\n",
       "    </tr>\n",
       "    <tr>\n",
       "      <th>4</th>\n",
       "      <td>Snowbird</td>\n",
       "      <td>36</td>\n",
       "    </tr>\n",
       "  </tbody>\n",
       "</table>\n",
       "</div>"
      ],
      "text/plain": [
       "          index  ski_resort\n",
       "0     Ski Brule          74\n",
       "1    Killington          53\n",
       "2          Vail          51\n",
       "3  Breckenridge          49\n",
       "4      Snowbird          36"
      ]
     },
     "execution_count": 120,
     "metadata": {},
     "output_type": "execute_result"
    }
   ],
   "source": [
    "#looking at the most reviewed mountains\n",
    "top_5_reviewed_resorts = pd.DataFrame(final_ski_df['ski_resort'].value_counts().reset_index()).head(5)\n",
    "top_5_reviewed_resorts"
   ]
  },
  {
   "cell_type": "code",
   "execution_count": 121,
   "metadata": {},
   "outputs": [
    {
     "data": {
      "application/vnd.plotly.v1+json": {
       "config": {
        "plotlyServerURL": "https://plot.ly"
       },
       "data": [
        {
         "alignmentgroup": "True",
         "hovertemplate": "index=%{x}<br>ski_resort=%{y}<extra></extra>",
         "legendgroup": "",
         "marker": {
          "color": "#00b5ff"
         },
         "name": "",
         "offsetgroup": "",
         "orientation": "v",
         "showlegend": false,
         "textposition": "auto",
         "type": "bar",
         "x": [
          "Ski Brule",
          "Killington",
          "Vail",
          "Breckenridge",
          "Snowbird"
         ],
         "xaxis": "x",
         "y": [
          74,
          53,
          51,
          49,
          36
         ],
         "yaxis": "y"
        }
       ],
       "layout": {
        "barmode": "relative",
        "legend": {
         "tracegroupgap": 0
        },
        "margin": {
         "t": 60
        },
        "plot_bgcolor": "white",
        "template": {
         "data": {
          "bar": [
           {
            "error_x": {
             "color": "#2a3f5f"
            },
            "error_y": {
             "color": "#2a3f5f"
            },
            "marker": {
             "line": {
              "color": "#E5ECF6",
              "width": 0.5
             }
            },
            "type": "bar"
           }
          ],
          "barpolar": [
           {
            "marker": {
             "line": {
              "color": "#E5ECF6",
              "width": 0.5
             }
            },
            "type": "barpolar"
           }
          ],
          "carpet": [
           {
            "aaxis": {
             "endlinecolor": "#2a3f5f",
             "gridcolor": "white",
             "linecolor": "white",
             "minorgridcolor": "white",
             "startlinecolor": "#2a3f5f"
            },
            "baxis": {
             "endlinecolor": "#2a3f5f",
             "gridcolor": "white",
             "linecolor": "white",
             "minorgridcolor": "white",
             "startlinecolor": "#2a3f5f"
            },
            "type": "carpet"
           }
          ],
          "choropleth": [
           {
            "colorbar": {
             "outlinewidth": 0,
             "ticks": ""
            },
            "type": "choropleth"
           }
          ],
          "contour": [
           {
            "colorbar": {
             "outlinewidth": 0,
             "ticks": ""
            },
            "colorscale": [
             [
              0,
              "#0d0887"
             ],
             [
              0.1111111111111111,
              "#46039f"
             ],
             [
              0.2222222222222222,
              "#7201a8"
             ],
             [
              0.3333333333333333,
              "#9c179e"
             ],
             [
              0.4444444444444444,
              "#bd3786"
             ],
             [
              0.5555555555555556,
              "#d8576b"
             ],
             [
              0.6666666666666666,
              "#ed7953"
             ],
             [
              0.7777777777777778,
              "#fb9f3a"
             ],
             [
              0.8888888888888888,
              "#fdca26"
             ],
             [
              1,
              "#f0f921"
             ]
            ],
            "type": "contour"
           }
          ],
          "contourcarpet": [
           {
            "colorbar": {
             "outlinewidth": 0,
             "ticks": ""
            },
            "type": "contourcarpet"
           }
          ],
          "heatmap": [
           {
            "colorbar": {
             "outlinewidth": 0,
             "ticks": ""
            },
            "colorscale": [
             [
              0,
              "#0d0887"
             ],
             [
              0.1111111111111111,
              "#46039f"
             ],
             [
              0.2222222222222222,
              "#7201a8"
             ],
             [
              0.3333333333333333,
              "#9c179e"
             ],
             [
              0.4444444444444444,
              "#bd3786"
             ],
             [
              0.5555555555555556,
              "#d8576b"
             ],
             [
              0.6666666666666666,
              "#ed7953"
             ],
             [
              0.7777777777777778,
              "#fb9f3a"
             ],
             [
              0.8888888888888888,
              "#fdca26"
             ],
             [
              1,
              "#f0f921"
             ]
            ],
            "type": "heatmap"
           }
          ],
          "heatmapgl": [
           {
            "colorbar": {
             "outlinewidth": 0,
             "ticks": ""
            },
            "colorscale": [
             [
              0,
              "#0d0887"
             ],
             [
              0.1111111111111111,
              "#46039f"
             ],
             [
              0.2222222222222222,
              "#7201a8"
             ],
             [
              0.3333333333333333,
              "#9c179e"
             ],
             [
              0.4444444444444444,
              "#bd3786"
             ],
             [
              0.5555555555555556,
              "#d8576b"
             ],
             [
              0.6666666666666666,
              "#ed7953"
             ],
             [
              0.7777777777777778,
              "#fb9f3a"
             ],
             [
              0.8888888888888888,
              "#fdca26"
             ],
             [
              1,
              "#f0f921"
             ]
            ],
            "type": "heatmapgl"
           }
          ],
          "histogram": [
           {
            "marker": {
             "colorbar": {
              "outlinewidth": 0,
              "ticks": ""
             }
            },
            "type": "histogram"
           }
          ],
          "histogram2d": [
           {
            "colorbar": {
             "outlinewidth": 0,
             "ticks": ""
            },
            "colorscale": [
             [
              0,
              "#0d0887"
             ],
             [
              0.1111111111111111,
              "#46039f"
             ],
             [
              0.2222222222222222,
              "#7201a8"
             ],
             [
              0.3333333333333333,
              "#9c179e"
             ],
             [
              0.4444444444444444,
              "#bd3786"
             ],
             [
              0.5555555555555556,
              "#d8576b"
             ],
             [
              0.6666666666666666,
              "#ed7953"
             ],
             [
              0.7777777777777778,
              "#fb9f3a"
             ],
             [
              0.8888888888888888,
              "#fdca26"
             ],
             [
              1,
              "#f0f921"
             ]
            ],
            "type": "histogram2d"
           }
          ],
          "histogram2dcontour": [
           {
            "colorbar": {
             "outlinewidth": 0,
             "ticks": ""
            },
            "colorscale": [
             [
              0,
              "#0d0887"
             ],
             [
              0.1111111111111111,
              "#46039f"
             ],
             [
              0.2222222222222222,
              "#7201a8"
             ],
             [
              0.3333333333333333,
              "#9c179e"
             ],
             [
              0.4444444444444444,
              "#bd3786"
             ],
             [
              0.5555555555555556,
              "#d8576b"
             ],
             [
              0.6666666666666666,
              "#ed7953"
             ],
             [
              0.7777777777777778,
              "#fb9f3a"
             ],
             [
              0.8888888888888888,
              "#fdca26"
             ],
             [
              1,
              "#f0f921"
             ]
            ],
            "type": "histogram2dcontour"
           }
          ],
          "mesh3d": [
           {
            "colorbar": {
             "outlinewidth": 0,
             "ticks": ""
            },
            "type": "mesh3d"
           }
          ],
          "parcoords": [
           {
            "line": {
             "colorbar": {
              "outlinewidth": 0,
              "ticks": ""
             }
            },
            "type": "parcoords"
           }
          ],
          "pie": [
           {
            "automargin": true,
            "type": "pie"
           }
          ],
          "scatter": [
           {
            "marker": {
             "colorbar": {
              "outlinewidth": 0,
              "ticks": ""
             }
            },
            "type": "scatter"
           }
          ],
          "scatter3d": [
           {
            "line": {
             "colorbar": {
              "outlinewidth": 0,
              "ticks": ""
             }
            },
            "marker": {
             "colorbar": {
              "outlinewidth": 0,
              "ticks": ""
             }
            },
            "type": "scatter3d"
           }
          ],
          "scattercarpet": [
           {
            "marker": {
             "colorbar": {
              "outlinewidth": 0,
              "ticks": ""
             }
            },
            "type": "scattercarpet"
           }
          ],
          "scattergeo": [
           {
            "marker": {
             "colorbar": {
              "outlinewidth": 0,
              "ticks": ""
             }
            },
            "type": "scattergeo"
           }
          ],
          "scattergl": [
           {
            "marker": {
             "colorbar": {
              "outlinewidth": 0,
              "ticks": ""
             }
            },
            "type": "scattergl"
           }
          ],
          "scattermapbox": [
           {
            "marker": {
             "colorbar": {
              "outlinewidth": 0,
              "ticks": ""
             }
            },
            "type": "scattermapbox"
           }
          ],
          "scatterpolar": [
           {
            "marker": {
             "colorbar": {
              "outlinewidth": 0,
              "ticks": ""
             }
            },
            "type": "scatterpolar"
           }
          ],
          "scatterpolargl": [
           {
            "marker": {
             "colorbar": {
              "outlinewidth": 0,
              "ticks": ""
             }
            },
            "type": "scatterpolargl"
           }
          ],
          "scatterternary": [
           {
            "marker": {
             "colorbar": {
              "outlinewidth": 0,
              "ticks": ""
             }
            },
            "type": "scatterternary"
           }
          ],
          "surface": [
           {
            "colorbar": {
             "outlinewidth": 0,
             "ticks": ""
            },
            "colorscale": [
             [
              0,
              "#0d0887"
             ],
             [
              0.1111111111111111,
              "#46039f"
             ],
             [
              0.2222222222222222,
              "#7201a8"
             ],
             [
              0.3333333333333333,
              "#9c179e"
             ],
             [
              0.4444444444444444,
              "#bd3786"
             ],
             [
              0.5555555555555556,
              "#d8576b"
             ],
             [
              0.6666666666666666,
              "#ed7953"
             ],
             [
              0.7777777777777778,
              "#fb9f3a"
             ],
             [
              0.8888888888888888,
              "#fdca26"
             ],
             [
              1,
              "#f0f921"
             ]
            ],
            "type": "surface"
           }
          ],
          "table": [
           {
            "cells": {
             "fill": {
              "color": "#EBF0F8"
             },
             "line": {
              "color": "white"
             }
            },
            "header": {
             "fill": {
              "color": "#C8D4E3"
             },
             "line": {
              "color": "white"
             }
            },
            "type": "table"
           }
          ]
         },
         "layout": {
          "annotationdefaults": {
           "arrowcolor": "#2a3f5f",
           "arrowhead": 0,
           "arrowwidth": 1
          },
          "coloraxis": {
           "colorbar": {
            "outlinewidth": 0,
            "ticks": ""
           }
          },
          "colorscale": {
           "diverging": [
            [
             0,
             "#8e0152"
            ],
            [
             0.1,
             "#c51b7d"
            ],
            [
             0.2,
             "#de77ae"
            ],
            [
             0.3,
             "#f1b6da"
            ],
            [
             0.4,
             "#fde0ef"
            ],
            [
             0.5,
             "#f7f7f7"
            ],
            [
             0.6,
             "#e6f5d0"
            ],
            [
             0.7,
             "#b8e186"
            ],
            [
             0.8,
             "#7fbc41"
            ],
            [
             0.9,
             "#4d9221"
            ],
            [
             1,
             "#276419"
            ]
           ],
           "sequential": [
            [
             0,
             "#0d0887"
            ],
            [
             0.1111111111111111,
             "#46039f"
            ],
            [
             0.2222222222222222,
             "#7201a8"
            ],
            [
             0.3333333333333333,
             "#9c179e"
            ],
            [
             0.4444444444444444,
             "#bd3786"
            ],
            [
             0.5555555555555556,
             "#d8576b"
            ],
            [
             0.6666666666666666,
             "#ed7953"
            ],
            [
             0.7777777777777778,
             "#fb9f3a"
            ],
            [
             0.8888888888888888,
             "#fdca26"
            ],
            [
             1,
             "#f0f921"
            ]
           ],
           "sequentialminus": [
            [
             0,
             "#0d0887"
            ],
            [
             0.1111111111111111,
             "#46039f"
            ],
            [
             0.2222222222222222,
             "#7201a8"
            ],
            [
             0.3333333333333333,
             "#9c179e"
            ],
            [
             0.4444444444444444,
             "#bd3786"
            ],
            [
             0.5555555555555556,
             "#d8576b"
            ],
            [
             0.6666666666666666,
             "#ed7953"
            ],
            [
             0.7777777777777778,
             "#fb9f3a"
            ],
            [
             0.8888888888888888,
             "#fdca26"
            ],
            [
             1,
             "#f0f921"
            ]
           ]
          },
          "colorway": [
           "#636efa",
           "#EF553B",
           "#00cc96",
           "#ab63fa",
           "#FFA15A",
           "#19d3f3",
           "#FF6692",
           "#B6E880",
           "#FF97FF",
           "#FECB52"
          ],
          "font": {
           "color": "#2a3f5f"
          },
          "geo": {
           "bgcolor": "white",
           "lakecolor": "white",
           "landcolor": "#E5ECF6",
           "showlakes": true,
           "showland": true,
           "subunitcolor": "white"
          },
          "hoverlabel": {
           "align": "left"
          },
          "hovermode": "closest",
          "mapbox": {
           "style": "light"
          },
          "paper_bgcolor": "white",
          "plot_bgcolor": "#E5ECF6",
          "polar": {
           "angularaxis": {
            "gridcolor": "white",
            "linecolor": "white",
            "ticks": ""
           },
           "bgcolor": "#E5ECF6",
           "radialaxis": {
            "gridcolor": "white",
            "linecolor": "white",
            "ticks": ""
           }
          },
          "scene": {
           "xaxis": {
            "backgroundcolor": "#E5ECF6",
            "gridcolor": "white",
            "gridwidth": 2,
            "linecolor": "white",
            "showbackground": true,
            "ticks": "",
            "zerolinecolor": "white"
           },
           "yaxis": {
            "backgroundcolor": "#E5ECF6",
            "gridcolor": "white",
            "gridwidth": 2,
            "linecolor": "white",
            "showbackground": true,
            "ticks": "",
            "zerolinecolor": "white"
           },
           "zaxis": {
            "backgroundcolor": "#E5ECF6",
            "gridcolor": "white",
            "gridwidth": 2,
            "linecolor": "white",
            "showbackground": true,
            "ticks": "",
            "zerolinecolor": "white"
           }
          },
          "shapedefaults": {
           "line": {
            "color": "#2a3f5f"
           }
          },
          "ternary": {
           "aaxis": {
            "gridcolor": "white",
            "linecolor": "white",
            "ticks": ""
           },
           "baxis": {
            "gridcolor": "white",
            "linecolor": "white",
            "ticks": ""
           },
           "bgcolor": "#E5ECF6",
           "caxis": {
            "gridcolor": "white",
            "linecolor": "white",
            "ticks": ""
           }
          },
          "title": {
           "x": 0.05
          },
          "xaxis": {
           "automargin": true,
           "gridcolor": "white",
           "linecolor": "white",
           "ticks": "",
           "title": {
            "standoff": 15
           },
           "zerolinecolor": "white",
           "zerolinewidth": 2
          },
          "yaxis": {
           "automargin": true,
           "gridcolor": "white",
           "linecolor": "white",
           "ticks": "",
           "title": {
            "standoff": 15
           },
           "zerolinecolor": "white",
           "zerolinewidth": 2
          }
         }
        },
        "title": {
         "text": "Most Reviewed Mountains",
         "x": 0.5
        },
        "xaxis": {
         "anchor": "y",
         "domain": [
          0,
          1
         ],
         "title": {
          "text": "Resort"
         }
        },
        "yaxis": {
         "anchor": "x",
         "domain": [
          0,
          1
         ],
         "title": {
          "text": "Review Count"
         }
        }
       }
      },
      "text/html": [
       "<div>                            <div id=\"59e23cf9-613c-4f02-83dc-3ed817b45597\" class=\"plotly-graph-div\" style=\"height:525px; width:100%;\"></div>            <script type=\"text/javascript\">                require([\"plotly\"], function(Plotly) {                    window.PLOTLYENV=window.PLOTLYENV || {};                                    if (document.getElementById(\"59e23cf9-613c-4f02-83dc-3ed817b45597\")) {                    Plotly.newPlot(                        \"59e23cf9-613c-4f02-83dc-3ed817b45597\",                        [{\"alignmentgroup\": \"True\", \"hovertemplate\": \"index=%{x}<br>ski_resort=%{y}<extra></extra>\", \"legendgroup\": \"\", \"marker\": {\"color\": \"#00b5ff\"}, \"name\": \"\", \"offsetgroup\": \"\", \"orientation\": \"v\", \"showlegend\": false, \"textposition\": \"auto\", \"type\": \"bar\", \"x\": [\"Ski Brule\", \"Killington\", \"Vail\", \"Breckenridge\", \"Snowbird\"], \"xaxis\": \"x\", \"y\": [74, 53, 51, 49, 36], \"yaxis\": \"y\"}],                        {\"barmode\": \"relative\", \"legend\": {\"tracegroupgap\": 0}, \"margin\": {\"t\": 60}, \"plot_bgcolor\": \"white\", \"template\": {\"data\": {\"bar\": [{\"error_x\": {\"color\": \"#2a3f5f\"}, \"error_y\": {\"color\": \"#2a3f5f\"}, \"marker\": {\"line\": {\"color\": \"#E5ECF6\", \"width\": 0.5}}, \"type\": \"bar\"}], \"barpolar\": [{\"marker\": {\"line\": {\"color\": \"#E5ECF6\", \"width\": 0.5}}, \"type\": \"barpolar\"}], \"carpet\": [{\"aaxis\": {\"endlinecolor\": \"#2a3f5f\", \"gridcolor\": \"white\", \"linecolor\": \"white\", \"minorgridcolor\": \"white\", \"startlinecolor\": \"#2a3f5f\"}, \"baxis\": {\"endlinecolor\": \"#2a3f5f\", \"gridcolor\": \"white\", \"linecolor\": \"white\", \"minorgridcolor\": \"white\", \"startlinecolor\": \"#2a3f5f\"}, \"type\": \"carpet\"}], \"choropleth\": [{\"colorbar\": {\"outlinewidth\": 0, \"ticks\": \"\"}, \"type\": \"choropleth\"}], \"contour\": [{\"colorbar\": {\"outlinewidth\": 0, \"ticks\": \"\"}, \"colorscale\": [[0.0, \"#0d0887\"], [0.1111111111111111, \"#46039f\"], [0.2222222222222222, \"#7201a8\"], [0.3333333333333333, \"#9c179e\"], [0.4444444444444444, \"#bd3786\"], [0.5555555555555556, \"#d8576b\"], [0.6666666666666666, \"#ed7953\"], [0.7777777777777778, \"#fb9f3a\"], [0.8888888888888888, \"#fdca26\"], [1.0, \"#f0f921\"]], \"type\": \"contour\"}], \"contourcarpet\": [{\"colorbar\": {\"outlinewidth\": 0, \"ticks\": \"\"}, \"type\": \"contourcarpet\"}], \"heatmap\": [{\"colorbar\": {\"outlinewidth\": 0, \"ticks\": \"\"}, \"colorscale\": [[0.0, \"#0d0887\"], [0.1111111111111111, \"#46039f\"], [0.2222222222222222, \"#7201a8\"], [0.3333333333333333, \"#9c179e\"], [0.4444444444444444, \"#bd3786\"], [0.5555555555555556, \"#d8576b\"], [0.6666666666666666, \"#ed7953\"], [0.7777777777777778, \"#fb9f3a\"], [0.8888888888888888, \"#fdca26\"], [1.0, \"#f0f921\"]], \"type\": \"heatmap\"}], \"heatmapgl\": [{\"colorbar\": {\"outlinewidth\": 0, \"ticks\": \"\"}, \"colorscale\": [[0.0, \"#0d0887\"], [0.1111111111111111, \"#46039f\"], [0.2222222222222222, \"#7201a8\"], [0.3333333333333333, \"#9c179e\"], [0.4444444444444444, \"#bd3786\"], [0.5555555555555556, \"#d8576b\"], [0.6666666666666666, \"#ed7953\"], [0.7777777777777778, \"#fb9f3a\"], [0.8888888888888888, \"#fdca26\"], [1.0, \"#f0f921\"]], \"type\": \"heatmapgl\"}], \"histogram\": [{\"marker\": {\"colorbar\": {\"outlinewidth\": 0, \"ticks\": \"\"}}, \"type\": \"histogram\"}], \"histogram2d\": [{\"colorbar\": {\"outlinewidth\": 0, \"ticks\": \"\"}, \"colorscale\": [[0.0, \"#0d0887\"], [0.1111111111111111, \"#46039f\"], [0.2222222222222222, \"#7201a8\"], [0.3333333333333333, \"#9c179e\"], [0.4444444444444444, \"#bd3786\"], [0.5555555555555556, \"#d8576b\"], [0.6666666666666666, \"#ed7953\"], [0.7777777777777778, \"#fb9f3a\"], [0.8888888888888888, \"#fdca26\"], [1.0, \"#f0f921\"]], \"type\": \"histogram2d\"}], \"histogram2dcontour\": [{\"colorbar\": {\"outlinewidth\": 0, \"ticks\": \"\"}, \"colorscale\": [[0.0, \"#0d0887\"], [0.1111111111111111, \"#46039f\"], [0.2222222222222222, \"#7201a8\"], [0.3333333333333333, \"#9c179e\"], [0.4444444444444444, \"#bd3786\"], [0.5555555555555556, \"#d8576b\"], [0.6666666666666666, \"#ed7953\"], [0.7777777777777778, \"#fb9f3a\"], [0.8888888888888888, \"#fdca26\"], [1.0, \"#f0f921\"]], \"type\": \"histogram2dcontour\"}], \"mesh3d\": [{\"colorbar\": {\"outlinewidth\": 0, \"ticks\": \"\"}, \"type\": \"mesh3d\"}], \"parcoords\": [{\"line\": {\"colorbar\": {\"outlinewidth\": 0, \"ticks\": \"\"}}, \"type\": \"parcoords\"}], \"pie\": [{\"automargin\": true, \"type\": \"pie\"}], \"scatter\": [{\"marker\": {\"colorbar\": {\"outlinewidth\": 0, \"ticks\": \"\"}}, \"type\": \"scatter\"}], \"scatter3d\": [{\"line\": {\"colorbar\": {\"outlinewidth\": 0, \"ticks\": \"\"}}, \"marker\": {\"colorbar\": {\"outlinewidth\": 0, \"ticks\": \"\"}}, \"type\": \"scatter3d\"}], \"scattercarpet\": [{\"marker\": {\"colorbar\": {\"outlinewidth\": 0, \"ticks\": \"\"}}, \"type\": \"scattercarpet\"}], \"scattergeo\": [{\"marker\": {\"colorbar\": {\"outlinewidth\": 0, \"ticks\": \"\"}}, \"type\": \"scattergeo\"}], \"scattergl\": [{\"marker\": {\"colorbar\": {\"outlinewidth\": 0, \"ticks\": \"\"}}, \"type\": \"scattergl\"}], \"scattermapbox\": [{\"marker\": {\"colorbar\": {\"outlinewidth\": 0, \"ticks\": \"\"}}, \"type\": \"scattermapbox\"}], \"scatterpolar\": [{\"marker\": {\"colorbar\": {\"outlinewidth\": 0, \"ticks\": \"\"}}, \"type\": \"scatterpolar\"}], \"scatterpolargl\": [{\"marker\": {\"colorbar\": {\"outlinewidth\": 0, \"ticks\": \"\"}}, \"type\": \"scatterpolargl\"}], \"scatterternary\": [{\"marker\": {\"colorbar\": {\"outlinewidth\": 0, \"ticks\": \"\"}}, \"type\": \"scatterternary\"}], \"surface\": [{\"colorbar\": {\"outlinewidth\": 0, \"ticks\": \"\"}, \"colorscale\": [[0.0, \"#0d0887\"], [0.1111111111111111, \"#46039f\"], [0.2222222222222222, \"#7201a8\"], [0.3333333333333333, \"#9c179e\"], [0.4444444444444444, \"#bd3786\"], [0.5555555555555556, \"#d8576b\"], [0.6666666666666666, \"#ed7953\"], [0.7777777777777778, \"#fb9f3a\"], [0.8888888888888888, \"#fdca26\"], [1.0, \"#f0f921\"]], \"type\": \"surface\"}], \"table\": [{\"cells\": {\"fill\": {\"color\": \"#EBF0F8\"}, \"line\": {\"color\": \"white\"}}, \"header\": {\"fill\": {\"color\": \"#C8D4E3\"}, \"line\": {\"color\": \"white\"}}, \"type\": \"table\"}]}, \"layout\": {\"annotationdefaults\": {\"arrowcolor\": \"#2a3f5f\", \"arrowhead\": 0, \"arrowwidth\": 1}, \"coloraxis\": {\"colorbar\": {\"outlinewidth\": 0, \"ticks\": \"\"}}, \"colorscale\": {\"diverging\": [[0, \"#8e0152\"], [0.1, \"#c51b7d\"], [0.2, \"#de77ae\"], [0.3, \"#f1b6da\"], [0.4, \"#fde0ef\"], [0.5, \"#f7f7f7\"], [0.6, \"#e6f5d0\"], [0.7, \"#b8e186\"], [0.8, \"#7fbc41\"], [0.9, \"#4d9221\"], [1, \"#276419\"]], \"sequential\": [[0.0, \"#0d0887\"], [0.1111111111111111, \"#46039f\"], [0.2222222222222222, \"#7201a8\"], [0.3333333333333333, \"#9c179e\"], [0.4444444444444444, \"#bd3786\"], [0.5555555555555556, \"#d8576b\"], [0.6666666666666666, \"#ed7953\"], [0.7777777777777778, \"#fb9f3a\"], [0.8888888888888888, \"#fdca26\"], [1.0, \"#f0f921\"]], \"sequentialminus\": [[0.0, \"#0d0887\"], [0.1111111111111111, \"#46039f\"], [0.2222222222222222, \"#7201a8\"], [0.3333333333333333, \"#9c179e\"], [0.4444444444444444, \"#bd3786\"], [0.5555555555555556, \"#d8576b\"], [0.6666666666666666, \"#ed7953\"], [0.7777777777777778, \"#fb9f3a\"], [0.8888888888888888, \"#fdca26\"], [1.0, \"#f0f921\"]]}, \"colorway\": [\"#636efa\", \"#EF553B\", \"#00cc96\", \"#ab63fa\", \"#FFA15A\", \"#19d3f3\", \"#FF6692\", \"#B6E880\", \"#FF97FF\", \"#FECB52\"], \"font\": {\"color\": \"#2a3f5f\"}, \"geo\": {\"bgcolor\": \"white\", \"lakecolor\": \"white\", \"landcolor\": \"#E5ECF6\", \"showlakes\": true, \"showland\": true, \"subunitcolor\": \"white\"}, \"hoverlabel\": {\"align\": \"left\"}, \"hovermode\": \"closest\", \"mapbox\": {\"style\": \"light\"}, \"paper_bgcolor\": \"white\", \"plot_bgcolor\": \"#E5ECF6\", \"polar\": {\"angularaxis\": {\"gridcolor\": \"white\", \"linecolor\": \"white\", \"ticks\": \"\"}, \"bgcolor\": \"#E5ECF6\", \"radialaxis\": {\"gridcolor\": \"white\", \"linecolor\": \"white\", \"ticks\": \"\"}}, \"scene\": {\"xaxis\": {\"backgroundcolor\": \"#E5ECF6\", \"gridcolor\": \"white\", \"gridwidth\": 2, \"linecolor\": \"white\", \"showbackground\": true, \"ticks\": \"\", \"zerolinecolor\": \"white\"}, \"yaxis\": {\"backgroundcolor\": \"#E5ECF6\", \"gridcolor\": \"white\", \"gridwidth\": 2, \"linecolor\": \"white\", \"showbackground\": true, \"ticks\": \"\", \"zerolinecolor\": \"white\"}, \"zaxis\": {\"backgroundcolor\": \"#E5ECF6\", \"gridcolor\": \"white\", \"gridwidth\": 2, \"linecolor\": \"white\", \"showbackground\": true, \"ticks\": \"\", \"zerolinecolor\": \"white\"}}, \"shapedefaults\": {\"line\": {\"color\": \"#2a3f5f\"}}, \"ternary\": {\"aaxis\": {\"gridcolor\": \"white\", \"linecolor\": \"white\", \"ticks\": \"\"}, \"baxis\": {\"gridcolor\": \"white\", \"linecolor\": \"white\", \"ticks\": \"\"}, \"bgcolor\": \"#E5ECF6\", \"caxis\": {\"gridcolor\": \"white\", \"linecolor\": \"white\", \"ticks\": \"\"}}, \"title\": {\"x\": 0.05}, \"xaxis\": {\"automargin\": true, \"gridcolor\": \"white\", \"linecolor\": \"white\", \"ticks\": \"\", \"title\": {\"standoff\": 15}, \"zerolinecolor\": \"white\", \"zerolinewidth\": 2}, \"yaxis\": {\"automargin\": true, \"gridcolor\": \"white\", \"linecolor\": \"white\", \"ticks\": \"\", \"title\": {\"standoff\": 15}, \"zerolinecolor\": \"white\", \"zerolinewidth\": 2}}}, \"title\": {\"text\": \"Most Reviewed Mountains\", \"x\": 0.5}, \"xaxis\": {\"anchor\": \"y\", \"domain\": [0.0, 1.0], \"title\": {\"text\": \"Resort\"}}, \"yaxis\": {\"anchor\": \"x\", \"domain\": [0.0, 1.0], \"title\": {\"text\": \"Review Count\"}}},                        {\"responsive\": true}                    ).then(function(){\n",
       "                            \n",
       "var gd = document.getElementById('59e23cf9-613c-4f02-83dc-3ed817b45597');\n",
       "var x = new MutationObserver(function (mutations, observer) {{\n",
       "        var display = window.getComputedStyle(gd).display;\n",
       "        if (!display || display === 'none') {{\n",
       "            console.log([gd, 'removed!']);\n",
       "            Plotly.purge(gd);\n",
       "            observer.disconnect();\n",
       "        }}\n",
       "}});\n",
       "\n",
       "// Listen for the removal of the full notebook cells\n",
       "var notebookContainer = gd.closest('#notebook-container');\n",
       "if (notebookContainer) {{\n",
       "    x.observe(notebookContainer, {childList: true});\n",
       "}}\n",
       "\n",
       "// Listen for the clearing of the current output cell\n",
       "var outputEl = gd.closest('.output');\n",
       "if (outputEl) {{\n",
       "    x.observe(outputEl, {childList: true});\n",
       "}}\n",
       "\n",
       "                        })                };                });            </script>        </div>"
      ]
     },
     "metadata": {},
     "output_type": "display_data"
    }
   ],
   "source": [
    "#using plotly to plot the top reviewers\n",
    "fig = px.bar(top_5_reviewed_resorts, x=\"index\", y=\"ski_resort\")\n",
    "fig.update_layout(title_text='Most Reviewed Mountains',\n",
    "                  title_x=0.5,\n",
    "                  xaxis_title=\"Resort\",\n",
    "                  yaxis_title=\"Review Count\",\n",
    "                 plot_bgcolor='white')\n",
    "fig.update_traces(marker_color = \"#00b5ff\")\n",
    "fig.show()"
   ]
  },
  {
   "cell_type": "markdown",
   "metadata": {},
   "source": [
    "### Rating distribution"
   ]
  },
  {
   "cell_type": "markdown",
   "metadata": {},
   "source": [
    "There is an imbalance in rating distrubutions, however the breakdown of ratings is not in line with typical user bias where ratings are either on the high or low scale. This imbalance will most likely end up affecting the performance of our modeling, but we can choose an algorithm that works best for the type of data we have."
   ]
  },
  {
   "cell_type": "code",
   "execution_count": 123,
   "metadata": {},
   "outputs": [],
   "source": [
    "#making dataframe of rating counts to compare distribution of ratings\n",
    "top_ratings = pd.DataFrame(final_ski_df[\"rating\"].value_counts(ascending=False).head(15))\n",
    "top_ratings = top_ratings.reset_index()\n",
    "top_ratings = top_ratings.rename(columns={\"rating\":\"rating_count\"})\n",
    "top_ratings = top_ratings.rename(columns={\"index\":\"rating\"})\n",
    "\n",
    "#making user_id a string for plotting\n",
    "top_ratings['rating'] = top_ratings['rating'].astype(str)\n",
    "\n",
    "# Calculate the percentage of each rating count\n",
    "top_ratings['rating_percentage'] = (top_ratings['rating_count'] / top_ratings['rating_count'].sum()) * 100"
   ]
  },
  {
   "cell_type": "code",
   "execution_count": 124,
   "metadata": {},
   "outputs": [
    {
     "data": {
      "application/vnd.plotly.v1+json": {
       "config": {
        "plotlyServerURL": "https://plot.ly"
       },
       "data": [
        {
         "alignmentgroup": "True",
         "hovertemplate": "rating=%{x}<br>rating_percentage=%{text}<extra></extra>",
         "legendgroup": "",
         "marker": {
          "color": "#00b5ff"
         },
         "name": "",
         "offsetgroup": "",
         "orientation": "v",
         "showlegend": false,
         "text": [
          40.32200357781753,
          33.48837209302326,
          15.026833631484795,
          7.04830053667263,
          4.114490161001789
         ],
         "textposition": "outside",
         "texttemplate": "%{text:.1s}%",
         "type": "bar",
         "x": [
          "5",
          "4",
          "3",
          "2",
          "1"
         ],
         "xaxis": "x",
         "y": [
          40.32200357781753,
          33.48837209302326,
          15.026833631484795,
          7.04830053667263,
          4.114490161001789
         ],
         "yaxis": "y"
        }
       ],
       "layout": {
        "barmode": "relative",
        "font": {
         "size": 14
        },
        "legend": {
         "tracegroupgap": 0
        },
        "margin": {
         "t": 60
        },
        "plot_bgcolor": "white",
        "template": {
         "data": {
          "bar": [
           {
            "error_x": {
             "color": "#2a3f5f"
            },
            "error_y": {
             "color": "#2a3f5f"
            },
            "marker": {
             "line": {
              "color": "#E5ECF6",
              "width": 0.5
             }
            },
            "type": "bar"
           }
          ],
          "barpolar": [
           {
            "marker": {
             "line": {
              "color": "#E5ECF6",
              "width": 0.5
             }
            },
            "type": "barpolar"
           }
          ],
          "carpet": [
           {
            "aaxis": {
             "endlinecolor": "#2a3f5f",
             "gridcolor": "white",
             "linecolor": "white",
             "minorgridcolor": "white",
             "startlinecolor": "#2a3f5f"
            },
            "baxis": {
             "endlinecolor": "#2a3f5f",
             "gridcolor": "white",
             "linecolor": "white",
             "minorgridcolor": "white",
             "startlinecolor": "#2a3f5f"
            },
            "type": "carpet"
           }
          ],
          "choropleth": [
           {
            "colorbar": {
             "outlinewidth": 0,
             "ticks": ""
            },
            "type": "choropleth"
           }
          ],
          "contour": [
           {
            "colorbar": {
             "outlinewidth": 0,
             "ticks": ""
            },
            "colorscale": [
             [
              0,
              "#0d0887"
             ],
             [
              0.1111111111111111,
              "#46039f"
             ],
             [
              0.2222222222222222,
              "#7201a8"
             ],
             [
              0.3333333333333333,
              "#9c179e"
             ],
             [
              0.4444444444444444,
              "#bd3786"
             ],
             [
              0.5555555555555556,
              "#d8576b"
             ],
             [
              0.6666666666666666,
              "#ed7953"
             ],
             [
              0.7777777777777778,
              "#fb9f3a"
             ],
             [
              0.8888888888888888,
              "#fdca26"
             ],
             [
              1,
              "#f0f921"
             ]
            ],
            "type": "contour"
           }
          ],
          "contourcarpet": [
           {
            "colorbar": {
             "outlinewidth": 0,
             "ticks": ""
            },
            "type": "contourcarpet"
           }
          ],
          "heatmap": [
           {
            "colorbar": {
             "outlinewidth": 0,
             "ticks": ""
            },
            "colorscale": [
             [
              0,
              "#0d0887"
             ],
             [
              0.1111111111111111,
              "#46039f"
             ],
             [
              0.2222222222222222,
              "#7201a8"
             ],
             [
              0.3333333333333333,
              "#9c179e"
             ],
             [
              0.4444444444444444,
              "#bd3786"
             ],
             [
              0.5555555555555556,
              "#d8576b"
             ],
             [
              0.6666666666666666,
              "#ed7953"
             ],
             [
              0.7777777777777778,
              "#fb9f3a"
             ],
             [
              0.8888888888888888,
              "#fdca26"
             ],
             [
              1,
              "#f0f921"
             ]
            ],
            "type": "heatmap"
           }
          ],
          "heatmapgl": [
           {
            "colorbar": {
             "outlinewidth": 0,
             "ticks": ""
            },
            "colorscale": [
             [
              0,
              "#0d0887"
             ],
             [
              0.1111111111111111,
              "#46039f"
             ],
             [
              0.2222222222222222,
              "#7201a8"
             ],
             [
              0.3333333333333333,
              "#9c179e"
             ],
             [
              0.4444444444444444,
              "#bd3786"
             ],
             [
              0.5555555555555556,
              "#d8576b"
             ],
             [
              0.6666666666666666,
              "#ed7953"
             ],
             [
              0.7777777777777778,
              "#fb9f3a"
             ],
             [
              0.8888888888888888,
              "#fdca26"
             ],
             [
              1,
              "#f0f921"
             ]
            ],
            "type": "heatmapgl"
           }
          ],
          "histogram": [
           {
            "marker": {
             "colorbar": {
              "outlinewidth": 0,
              "ticks": ""
             }
            },
            "type": "histogram"
           }
          ],
          "histogram2d": [
           {
            "colorbar": {
             "outlinewidth": 0,
             "ticks": ""
            },
            "colorscale": [
             [
              0,
              "#0d0887"
             ],
             [
              0.1111111111111111,
              "#46039f"
             ],
             [
              0.2222222222222222,
              "#7201a8"
             ],
             [
              0.3333333333333333,
              "#9c179e"
             ],
             [
              0.4444444444444444,
              "#bd3786"
             ],
             [
              0.5555555555555556,
              "#d8576b"
             ],
             [
              0.6666666666666666,
              "#ed7953"
             ],
             [
              0.7777777777777778,
              "#fb9f3a"
             ],
             [
              0.8888888888888888,
              "#fdca26"
             ],
             [
              1,
              "#f0f921"
             ]
            ],
            "type": "histogram2d"
           }
          ],
          "histogram2dcontour": [
           {
            "colorbar": {
             "outlinewidth": 0,
             "ticks": ""
            },
            "colorscale": [
             [
              0,
              "#0d0887"
             ],
             [
              0.1111111111111111,
              "#46039f"
             ],
             [
              0.2222222222222222,
              "#7201a8"
             ],
             [
              0.3333333333333333,
              "#9c179e"
             ],
             [
              0.4444444444444444,
              "#bd3786"
             ],
             [
              0.5555555555555556,
              "#d8576b"
             ],
             [
              0.6666666666666666,
              "#ed7953"
             ],
             [
              0.7777777777777778,
              "#fb9f3a"
             ],
             [
              0.8888888888888888,
              "#fdca26"
             ],
             [
              1,
              "#f0f921"
             ]
            ],
            "type": "histogram2dcontour"
           }
          ],
          "mesh3d": [
           {
            "colorbar": {
             "outlinewidth": 0,
             "ticks": ""
            },
            "type": "mesh3d"
           }
          ],
          "parcoords": [
           {
            "line": {
             "colorbar": {
              "outlinewidth": 0,
              "ticks": ""
             }
            },
            "type": "parcoords"
           }
          ],
          "pie": [
           {
            "automargin": true,
            "type": "pie"
           }
          ],
          "scatter": [
           {
            "marker": {
             "colorbar": {
              "outlinewidth": 0,
              "ticks": ""
             }
            },
            "type": "scatter"
           }
          ],
          "scatter3d": [
           {
            "line": {
             "colorbar": {
              "outlinewidth": 0,
              "ticks": ""
             }
            },
            "marker": {
             "colorbar": {
              "outlinewidth": 0,
              "ticks": ""
             }
            },
            "type": "scatter3d"
           }
          ],
          "scattercarpet": [
           {
            "marker": {
             "colorbar": {
              "outlinewidth": 0,
              "ticks": ""
             }
            },
            "type": "scattercarpet"
           }
          ],
          "scattergeo": [
           {
            "marker": {
             "colorbar": {
              "outlinewidth": 0,
              "ticks": ""
             }
            },
            "type": "scattergeo"
           }
          ],
          "scattergl": [
           {
            "marker": {
             "colorbar": {
              "outlinewidth": 0,
              "ticks": ""
             }
            },
            "type": "scattergl"
           }
          ],
          "scattermapbox": [
           {
            "marker": {
             "colorbar": {
              "outlinewidth": 0,
              "ticks": ""
             }
            },
            "type": "scattermapbox"
           }
          ],
          "scatterpolar": [
           {
            "marker": {
             "colorbar": {
              "outlinewidth": 0,
              "ticks": ""
             }
            },
            "type": "scatterpolar"
           }
          ],
          "scatterpolargl": [
           {
            "marker": {
             "colorbar": {
              "outlinewidth": 0,
              "ticks": ""
             }
            },
            "type": "scatterpolargl"
           }
          ],
          "scatterternary": [
           {
            "marker": {
             "colorbar": {
              "outlinewidth": 0,
              "ticks": ""
             }
            },
            "type": "scatterternary"
           }
          ],
          "surface": [
           {
            "colorbar": {
             "outlinewidth": 0,
             "ticks": ""
            },
            "colorscale": [
             [
              0,
              "#0d0887"
             ],
             [
              0.1111111111111111,
              "#46039f"
             ],
             [
              0.2222222222222222,
              "#7201a8"
             ],
             [
              0.3333333333333333,
              "#9c179e"
             ],
             [
              0.4444444444444444,
              "#bd3786"
             ],
             [
              0.5555555555555556,
              "#d8576b"
             ],
             [
              0.6666666666666666,
              "#ed7953"
             ],
             [
              0.7777777777777778,
              "#fb9f3a"
             ],
             [
              0.8888888888888888,
              "#fdca26"
             ],
             [
              1,
              "#f0f921"
             ]
            ],
            "type": "surface"
           }
          ],
          "table": [
           {
            "cells": {
             "fill": {
              "color": "#EBF0F8"
             },
             "line": {
              "color": "white"
             }
            },
            "header": {
             "fill": {
              "color": "#C8D4E3"
             },
             "line": {
              "color": "white"
             }
            },
            "type": "table"
           }
          ]
         },
         "layout": {
          "annotationdefaults": {
           "arrowcolor": "#2a3f5f",
           "arrowhead": 0,
           "arrowwidth": 1
          },
          "coloraxis": {
           "colorbar": {
            "outlinewidth": 0,
            "ticks": ""
           }
          },
          "colorscale": {
           "diverging": [
            [
             0,
             "#8e0152"
            ],
            [
             0.1,
             "#c51b7d"
            ],
            [
             0.2,
             "#de77ae"
            ],
            [
             0.3,
             "#f1b6da"
            ],
            [
             0.4,
             "#fde0ef"
            ],
            [
             0.5,
             "#f7f7f7"
            ],
            [
             0.6,
             "#e6f5d0"
            ],
            [
             0.7,
             "#b8e186"
            ],
            [
             0.8,
             "#7fbc41"
            ],
            [
             0.9,
             "#4d9221"
            ],
            [
             1,
             "#276419"
            ]
           ],
           "sequential": [
            [
             0,
             "#0d0887"
            ],
            [
             0.1111111111111111,
             "#46039f"
            ],
            [
             0.2222222222222222,
             "#7201a8"
            ],
            [
             0.3333333333333333,
             "#9c179e"
            ],
            [
             0.4444444444444444,
             "#bd3786"
            ],
            [
             0.5555555555555556,
             "#d8576b"
            ],
            [
             0.6666666666666666,
             "#ed7953"
            ],
            [
             0.7777777777777778,
             "#fb9f3a"
            ],
            [
             0.8888888888888888,
             "#fdca26"
            ],
            [
             1,
             "#f0f921"
            ]
           ],
           "sequentialminus": [
            [
             0,
             "#0d0887"
            ],
            [
             0.1111111111111111,
             "#46039f"
            ],
            [
             0.2222222222222222,
             "#7201a8"
            ],
            [
             0.3333333333333333,
             "#9c179e"
            ],
            [
             0.4444444444444444,
             "#bd3786"
            ],
            [
             0.5555555555555556,
             "#d8576b"
            ],
            [
             0.6666666666666666,
             "#ed7953"
            ],
            [
             0.7777777777777778,
             "#fb9f3a"
            ],
            [
             0.8888888888888888,
             "#fdca26"
            ],
            [
             1,
             "#f0f921"
            ]
           ]
          },
          "colorway": [
           "#636efa",
           "#EF553B",
           "#00cc96",
           "#ab63fa",
           "#FFA15A",
           "#19d3f3",
           "#FF6692",
           "#B6E880",
           "#FF97FF",
           "#FECB52"
          ],
          "font": {
           "color": "#2a3f5f"
          },
          "geo": {
           "bgcolor": "white",
           "lakecolor": "white",
           "landcolor": "#E5ECF6",
           "showlakes": true,
           "showland": true,
           "subunitcolor": "white"
          },
          "hoverlabel": {
           "align": "left"
          },
          "hovermode": "closest",
          "mapbox": {
           "style": "light"
          },
          "paper_bgcolor": "white",
          "plot_bgcolor": "#E5ECF6",
          "polar": {
           "angularaxis": {
            "gridcolor": "white",
            "linecolor": "white",
            "ticks": ""
           },
           "bgcolor": "#E5ECF6",
           "radialaxis": {
            "gridcolor": "white",
            "linecolor": "white",
            "ticks": ""
           }
          },
          "scene": {
           "xaxis": {
            "backgroundcolor": "#E5ECF6",
            "gridcolor": "white",
            "gridwidth": 2,
            "linecolor": "white",
            "showbackground": true,
            "ticks": "",
            "zerolinecolor": "white"
           },
           "yaxis": {
            "backgroundcolor": "#E5ECF6",
            "gridcolor": "white",
            "gridwidth": 2,
            "linecolor": "white",
            "showbackground": true,
            "ticks": "",
            "zerolinecolor": "white"
           },
           "zaxis": {
            "backgroundcolor": "#E5ECF6",
            "gridcolor": "white",
            "gridwidth": 2,
            "linecolor": "white",
            "showbackground": true,
            "ticks": "",
            "zerolinecolor": "white"
           }
          },
          "shapedefaults": {
           "line": {
            "color": "#2a3f5f"
           }
          },
          "ternary": {
           "aaxis": {
            "gridcolor": "white",
            "linecolor": "white",
            "ticks": ""
           },
           "baxis": {
            "gridcolor": "white",
            "linecolor": "white",
            "ticks": ""
           },
           "bgcolor": "#E5ECF6",
           "caxis": {
            "gridcolor": "white",
            "linecolor": "white",
            "ticks": ""
           }
          },
          "title": {
           "x": 0.05
          },
          "xaxis": {
           "automargin": true,
           "gridcolor": "white",
           "linecolor": "white",
           "ticks": "",
           "title": {
            "standoff": 15
           },
           "zerolinecolor": "white",
           "zerolinewidth": 2
          },
          "yaxis": {
           "automargin": true,
           "gridcolor": "white",
           "linecolor": "white",
           "ticks": "",
           "title": {
            "standoff": 15
           },
           "zerolinecolor": "white",
           "zerolinewidth": 2
          }
         }
        },
        "title": {
         "text": "Rating Distribution",
         "x": 0.5
        },
        "xaxis": {
         "anchor": "y",
         "domain": [
          0,
          1
         ],
         "title": {
          "text": "Rating"
         }
        },
        "yaxis": {
         "anchor": "x",
         "domain": [
          0,
          1
         ],
         "title": {
          "text": "Rating %"
         }
        }
       }
      },
      "text/html": [
       "<div>                            <div id=\"b22bcd03-5ec7-4566-ad14-2e90cf70ef1a\" class=\"plotly-graph-div\" style=\"height:525px; width:100%;\"></div>            <script type=\"text/javascript\">                require([\"plotly\"], function(Plotly) {                    window.PLOTLYENV=window.PLOTLYENV || {};                                    if (document.getElementById(\"b22bcd03-5ec7-4566-ad14-2e90cf70ef1a\")) {                    Plotly.newPlot(                        \"b22bcd03-5ec7-4566-ad14-2e90cf70ef1a\",                        [{\"alignmentgroup\": \"True\", \"hovertemplate\": \"rating=%{x}<br>rating_percentage=%{text}<extra></extra>\", \"legendgroup\": \"\", \"marker\": {\"color\": \"#00b5ff\"}, \"name\": \"\", \"offsetgroup\": \"\", \"orientation\": \"v\", \"showlegend\": false, \"text\": [40.32200357781753, 33.48837209302326, 15.026833631484795, 7.04830053667263, 4.114490161001789], \"textposition\": \"outside\", \"texttemplate\": \"%{text:.1s}%\", \"type\": \"bar\", \"x\": [\"5\", \"4\", \"3\", \"2\", \"1\"], \"xaxis\": \"x\", \"y\": [40.32200357781753, 33.48837209302326, 15.026833631484795, 7.04830053667263, 4.114490161001789], \"yaxis\": \"y\"}],                        {\"barmode\": \"relative\", \"font\": {\"size\": 14}, \"legend\": {\"tracegroupgap\": 0}, \"margin\": {\"t\": 60}, \"plot_bgcolor\": \"white\", \"template\": {\"data\": {\"bar\": [{\"error_x\": {\"color\": \"#2a3f5f\"}, \"error_y\": {\"color\": \"#2a3f5f\"}, \"marker\": {\"line\": {\"color\": \"#E5ECF6\", \"width\": 0.5}}, \"type\": \"bar\"}], \"barpolar\": [{\"marker\": {\"line\": {\"color\": \"#E5ECF6\", \"width\": 0.5}}, \"type\": \"barpolar\"}], \"carpet\": [{\"aaxis\": {\"endlinecolor\": \"#2a3f5f\", \"gridcolor\": \"white\", \"linecolor\": \"white\", \"minorgridcolor\": \"white\", \"startlinecolor\": \"#2a3f5f\"}, \"baxis\": {\"endlinecolor\": \"#2a3f5f\", \"gridcolor\": \"white\", \"linecolor\": \"white\", \"minorgridcolor\": \"white\", \"startlinecolor\": \"#2a3f5f\"}, \"type\": \"carpet\"}], \"choropleth\": [{\"colorbar\": {\"outlinewidth\": 0, \"ticks\": \"\"}, \"type\": \"choropleth\"}], \"contour\": [{\"colorbar\": {\"outlinewidth\": 0, \"ticks\": \"\"}, \"colorscale\": [[0.0, \"#0d0887\"], [0.1111111111111111, \"#46039f\"], [0.2222222222222222, \"#7201a8\"], [0.3333333333333333, \"#9c179e\"], [0.4444444444444444, \"#bd3786\"], [0.5555555555555556, \"#d8576b\"], [0.6666666666666666, \"#ed7953\"], [0.7777777777777778, \"#fb9f3a\"], [0.8888888888888888, \"#fdca26\"], [1.0, \"#f0f921\"]], \"type\": \"contour\"}], \"contourcarpet\": [{\"colorbar\": {\"outlinewidth\": 0, \"ticks\": \"\"}, \"type\": \"contourcarpet\"}], \"heatmap\": [{\"colorbar\": {\"outlinewidth\": 0, \"ticks\": \"\"}, \"colorscale\": [[0.0, \"#0d0887\"], [0.1111111111111111, \"#46039f\"], [0.2222222222222222, \"#7201a8\"], [0.3333333333333333, \"#9c179e\"], [0.4444444444444444, \"#bd3786\"], [0.5555555555555556, \"#d8576b\"], [0.6666666666666666, \"#ed7953\"], [0.7777777777777778, \"#fb9f3a\"], [0.8888888888888888, \"#fdca26\"], [1.0, \"#f0f921\"]], \"type\": \"heatmap\"}], \"heatmapgl\": [{\"colorbar\": {\"outlinewidth\": 0, \"ticks\": \"\"}, \"colorscale\": [[0.0, \"#0d0887\"], [0.1111111111111111, \"#46039f\"], [0.2222222222222222, \"#7201a8\"], [0.3333333333333333, \"#9c179e\"], [0.4444444444444444, \"#bd3786\"], [0.5555555555555556, \"#d8576b\"], [0.6666666666666666, \"#ed7953\"], [0.7777777777777778, \"#fb9f3a\"], [0.8888888888888888, \"#fdca26\"], [1.0, \"#f0f921\"]], \"type\": \"heatmapgl\"}], \"histogram\": [{\"marker\": {\"colorbar\": {\"outlinewidth\": 0, \"ticks\": \"\"}}, \"type\": \"histogram\"}], \"histogram2d\": [{\"colorbar\": {\"outlinewidth\": 0, \"ticks\": \"\"}, \"colorscale\": [[0.0, \"#0d0887\"], [0.1111111111111111, \"#46039f\"], [0.2222222222222222, \"#7201a8\"], [0.3333333333333333, \"#9c179e\"], [0.4444444444444444, \"#bd3786\"], [0.5555555555555556, \"#d8576b\"], [0.6666666666666666, \"#ed7953\"], [0.7777777777777778, \"#fb9f3a\"], [0.8888888888888888, \"#fdca26\"], [1.0, \"#f0f921\"]], \"type\": \"histogram2d\"}], \"histogram2dcontour\": [{\"colorbar\": {\"outlinewidth\": 0, \"ticks\": \"\"}, \"colorscale\": [[0.0, \"#0d0887\"], [0.1111111111111111, \"#46039f\"], [0.2222222222222222, \"#7201a8\"], [0.3333333333333333, \"#9c179e\"], [0.4444444444444444, \"#bd3786\"], [0.5555555555555556, \"#d8576b\"], [0.6666666666666666, \"#ed7953\"], [0.7777777777777778, \"#fb9f3a\"], [0.8888888888888888, \"#fdca26\"], [1.0, \"#f0f921\"]], \"type\": \"histogram2dcontour\"}], \"mesh3d\": [{\"colorbar\": {\"outlinewidth\": 0, \"ticks\": \"\"}, \"type\": \"mesh3d\"}], \"parcoords\": [{\"line\": {\"colorbar\": {\"outlinewidth\": 0, \"ticks\": \"\"}}, \"type\": \"parcoords\"}], \"pie\": [{\"automargin\": true, \"type\": \"pie\"}], \"scatter\": [{\"marker\": {\"colorbar\": {\"outlinewidth\": 0, \"ticks\": \"\"}}, \"type\": \"scatter\"}], \"scatter3d\": [{\"line\": {\"colorbar\": {\"outlinewidth\": 0, \"ticks\": \"\"}}, \"marker\": {\"colorbar\": {\"outlinewidth\": 0, \"ticks\": \"\"}}, \"type\": \"scatter3d\"}], \"scattercarpet\": [{\"marker\": {\"colorbar\": {\"outlinewidth\": 0, \"ticks\": \"\"}}, \"type\": \"scattercarpet\"}], \"scattergeo\": [{\"marker\": {\"colorbar\": {\"outlinewidth\": 0, \"ticks\": \"\"}}, \"type\": \"scattergeo\"}], \"scattergl\": [{\"marker\": {\"colorbar\": {\"outlinewidth\": 0, \"ticks\": \"\"}}, \"type\": \"scattergl\"}], \"scattermapbox\": [{\"marker\": {\"colorbar\": {\"outlinewidth\": 0, \"ticks\": \"\"}}, \"type\": \"scattermapbox\"}], \"scatterpolar\": [{\"marker\": {\"colorbar\": {\"outlinewidth\": 0, \"ticks\": \"\"}}, \"type\": \"scatterpolar\"}], \"scatterpolargl\": [{\"marker\": {\"colorbar\": {\"outlinewidth\": 0, \"ticks\": \"\"}}, \"type\": \"scatterpolargl\"}], \"scatterternary\": [{\"marker\": {\"colorbar\": {\"outlinewidth\": 0, \"ticks\": \"\"}}, \"type\": \"scatterternary\"}], \"surface\": [{\"colorbar\": {\"outlinewidth\": 0, \"ticks\": \"\"}, \"colorscale\": [[0.0, \"#0d0887\"], [0.1111111111111111, \"#46039f\"], [0.2222222222222222, \"#7201a8\"], [0.3333333333333333, \"#9c179e\"], [0.4444444444444444, \"#bd3786\"], [0.5555555555555556, \"#d8576b\"], [0.6666666666666666, \"#ed7953\"], [0.7777777777777778, \"#fb9f3a\"], [0.8888888888888888, \"#fdca26\"], [1.0, \"#f0f921\"]], \"type\": \"surface\"}], \"table\": [{\"cells\": {\"fill\": {\"color\": \"#EBF0F8\"}, \"line\": {\"color\": \"white\"}}, \"header\": {\"fill\": {\"color\": \"#C8D4E3\"}, \"line\": {\"color\": \"white\"}}, \"type\": \"table\"}]}, \"layout\": {\"annotationdefaults\": {\"arrowcolor\": \"#2a3f5f\", \"arrowhead\": 0, \"arrowwidth\": 1}, \"coloraxis\": {\"colorbar\": {\"outlinewidth\": 0, \"ticks\": \"\"}}, \"colorscale\": {\"diverging\": [[0, \"#8e0152\"], [0.1, \"#c51b7d\"], [0.2, \"#de77ae\"], [0.3, \"#f1b6da\"], [0.4, \"#fde0ef\"], [0.5, \"#f7f7f7\"], [0.6, \"#e6f5d0\"], [0.7, \"#b8e186\"], [0.8, \"#7fbc41\"], [0.9, \"#4d9221\"], [1, \"#276419\"]], \"sequential\": [[0.0, \"#0d0887\"], [0.1111111111111111, \"#46039f\"], [0.2222222222222222, \"#7201a8\"], [0.3333333333333333, \"#9c179e\"], [0.4444444444444444, \"#bd3786\"], [0.5555555555555556, \"#d8576b\"], [0.6666666666666666, \"#ed7953\"], [0.7777777777777778, \"#fb9f3a\"], [0.8888888888888888, \"#fdca26\"], [1.0, \"#f0f921\"]], \"sequentialminus\": [[0.0, \"#0d0887\"], [0.1111111111111111, \"#46039f\"], [0.2222222222222222, \"#7201a8\"], [0.3333333333333333, \"#9c179e\"], [0.4444444444444444, \"#bd3786\"], [0.5555555555555556, \"#d8576b\"], [0.6666666666666666, \"#ed7953\"], [0.7777777777777778, \"#fb9f3a\"], [0.8888888888888888, \"#fdca26\"], [1.0, \"#f0f921\"]]}, \"colorway\": [\"#636efa\", \"#EF553B\", \"#00cc96\", \"#ab63fa\", \"#FFA15A\", \"#19d3f3\", \"#FF6692\", \"#B6E880\", \"#FF97FF\", \"#FECB52\"], \"font\": {\"color\": \"#2a3f5f\"}, \"geo\": {\"bgcolor\": \"white\", \"lakecolor\": \"white\", \"landcolor\": \"#E5ECF6\", \"showlakes\": true, \"showland\": true, \"subunitcolor\": \"white\"}, \"hoverlabel\": {\"align\": \"left\"}, \"hovermode\": \"closest\", \"mapbox\": {\"style\": \"light\"}, \"paper_bgcolor\": \"white\", \"plot_bgcolor\": \"#E5ECF6\", \"polar\": {\"angularaxis\": {\"gridcolor\": \"white\", \"linecolor\": \"white\", \"ticks\": \"\"}, \"bgcolor\": \"#E5ECF6\", \"radialaxis\": {\"gridcolor\": \"white\", \"linecolor\": \"white\", \"ticks\": \"\"}}, \"scene\": {\"xaxis\": {\"backgroundcolor\": \"#E5ECF6\", \"gridcolor\": \"white\", \"gridwidth\": 2, \"linecolor\": \"white\", \"showbackground\": true, \"ticks\": \"\", \"zerolinecolor\": \"white\"}, \"yaxis\": {\"backgroundcolor\": \"#E5ECF6\", \"gridcolor\": \"white\", \"gridwidth\": 2, \"linecolor\": \"white\", \"showbackground\": true, \"ticks\": \"\", \"zerolinecolor\": \"white\"}, \"zaxis\": {\"backgroundcolor\": \"#E5ECF6\", \"gridcolor\": \"white\", \"gridwidth\": 2, \"linecolor\": \"white\", \"showbackground\": true, \"ticks\": \"\", \"zerolinecolor\": \"white\"}}, \"shapedefaults\": {\"line\": {\"color\": \"#2a3f5f\"}}, \"ternary\": {\"aaxis\": {\"gridcolor\": \"white\", \"linecolor\": \"white\", \"ticks\": \"\"}, \"baxis\": {\"gridcolor\": \"white\", \"linecolor\": \"white\", \"ticks\": \"\"}, \"bgcolor\": \"#E5ECF6\", \"caxis\": {\"gridcolor\": \"white\", \"linecolor\": \"white\", \"ticks\": \"\"}}, \"title\": {\"x\": 0.05}, \"xaxis\": {\"automargin\": true, \"gridcolor\": \"white\", \"linecolor\": \"white\", \"ticks\": \"\", \"title\": {\"standoff\": 15}, \"zerolinecolor\": \"white\", \"zerolinewidth\": 2}, \"yaxis\": {\"automargin\": true, \"gridcolor\": \"white\", \"linecolor\": \"white\", \"ticks\": \"\", \"title\": {\"standoff\": 15}, \"zerolinecolor\": \"white\", \"zerolinewidth\": 2}}}, \"title\": {\"text\": \"Rating Distribution\", \"x\": 0.5}, \"xaxis\": {\"anchor\": \"y\", \"domain\": [0.0, 1.0], \"title\": {\"text\": \"Rating\"}}, \"yaxis\": {\"anchor\": \"x\", \"domain\": [0.0, 1.0], \"title\": {\"text\": \"Rating %\"}}},                        {\"responsive\": true}                    ).then(function(){\n",
       "                            \n",
       "var gd = document.getElementById('b22bcd03-5ec7-4566-ad14-2e90cf70ef1a');\n",
       "var x = new MutationObserver(function (mutations, observer) {{\n",
       "        var display = window.getComputedStyle(gd).display;\n",
       "        if (!display || display === 'none') {{\n",
       "            console.log([gd, 'removed!']);\n",
       "            Plotly.purge(gd);\n",
       "            observer.disconnect();\n",
       "        }}\n",
       "}});\n",
       "\n",
       "// Listen for the removal of the full notebook cells\n",
       "var notebookContainer = gd.closest('#notebook-container');\n",
       "if (notebookContainer) {{\n",
       "    x.observe(notebookContainer, {childList: true});\n",
       "}}\n",
       "\n",
       "// Listen for the clearing of the current output cell\n",
       "var outputEl = gd.closest('.output');\n",
       "if (outputEl) {{\n",
       "    x.observe(outputEl, {childList: true});\n",
       "}}\n",
       "\n",
       "                        })                };                });            </script>        </div>"
      ]
     },
     "metadata": {},
     "output_type": "display_data"
    }
   ],
   "source": [
    "#using plotly to plot the top featurescolor=\n",
    "fig = px.bar(top_ratings, x=\"rating\", y=\"rating_percentage\",\n",
    "             text=\"rating_percentage\")\n",
    "fig.update_layout(title_text='Rating Distribution',\n",
    "                  title_x=0.5,\n",
    "                  xaxis_title=\"Rating\",\n",
    "                  yaxis_title=\"Rating %\",\n",
    "                 plot_bgcolor='white',\n",
    "                 font=dict(size=14))\n",
    "fig.update_traces(marker_color = \"#00b5ff\", texttemplate='%{text:.1s}%', textposition='outside')\n",
    "\n",
    "fig.show()"
   ]
  },
  {
   "cell_type": "markdown",
   "metadata": {},
   "source": [
    "### Monthly Snowfall"
   ]
  },
  {
   "cell_type": "code",
   "execution_count": 152,
   "metadata": {},
   "outputs": [],
   "source": [
    "snow_list = [\"NovSnow\", \"DecSnow\", \"JanSnow\", \"FebSnow\", \"MarSnow\", \"AprSnow\"]\n",
    "snow_names = ['November', 'December', 'January', 'February', 'March', 'April']\n",
    "\n",
    "monthly_mean = content_df[snow_list].mean(skipna=True)\n",
    "\n",
    "monthly_snowfall = pd.DataFrame({'month': snow_names, 'mean_snowfall': monthly_mean.values})"
   ]
  },
  {
   "cell_type": "code",
   "execution_count": 153,
   "metadata": {},
   "outputs": [
    {
     "data": {
      "text/html": [
       "<div>\n",
       "<style scoped>\n",
       "    .dataframe tbody tr th:only-of-type {\n",
       "        vertical-align: middle;\n",
       "    }\n",
       "\n",
       "    .dataframe tbody tr th {\n",
       "        vertical-align: top;\n",
       "    }\n",
       "\n",
       "    .dataframe thead th {\n",
       "        text-align: right;\n",
       "    }\n",
       "</style>\n",
       "<table border=\"1\" class=\"dataframe\">\n",
       "  <thead>\n",
       "    <tr style=\"text-align: right;\">\n",
       "      <th></th>\n",
       "      <th>month</th>\n",
       "      <th>mean_snowfall</th>\n",
       "    </tr>\n",
       "  </thead>\n",
       "  <tbody>\n",
       "    <tr>\n",
       "      <th>0</th>\n",
       "      <td>November</td>\n",
       "      <td>5.118541</td>\n",
       "    </tr>\n",
       "    <tr>\n",
       "      <th>1</th>\n",
       "      <td>December</td>\n",
       "      <td>25.088754</td>\n",
       "    </tr>\n",
       "    <tr>\n",
       "      <th>2</th>\n",
       "      <td>January</td>\n",
       "      <td>28.780243</td>\n",
       "    </tr>\n",
       "    <tr>\n",
       "      <th>3</th>\n",
       "      <td>February</td>\n",
       "      <td>29.501216</td>\n",
       "    </tr>\n",
       "    <tr>\n",
       "      <th>4</th>\n",
       "      <td>March</td>\n",
       "      <td>21.741337</td>\n",
       "    </tr>\n",
       "    <tr>\n",
       "      <th>5</th>\n",
       "      <td>April</td>\n",
       "      <td>5.274164</td>\n",
       "    </tr>\n",
       "  </tbody>\n",
       "</table>\n",
       "</div>"
      ],
      "text/plain": [
       "      month  mean_snowfall\n",
       "0  November       5.118541\n",
       "1  December      25.088754\n",
       "2   January      28.780243\n",
       "3  February      29.501216\n",
       "4     March      21.741337\n",
       "5     April       5.274164"
      ]
     },
     "execution_count": 153,
     "metadata": {},
     "output_type": "execute_result"
    }
   ],
   "source": [
    "monthly_snowfall"
   ]
  },
  {
   "cell_type": "code",
   "execution_count": 154,
   "metadata": {},
   "outputs": [
    {
     "data": {
      "application/vnd.plotly.v1+json": {
       "config": {
        "plotlyServerURL": "https://plot.ly"
       },
       "data": [
        {
         "alignmentgroup": "True",
         "hovertemplate": "month=%{x}<br>mean_snowfall=%{y}<extra></extra>",
         "legendgroup": "",
         "marker": {
          "color": "#00b5ff"
         },
         "name": "",
         "offsetgroup": "",
         "orientation": "v",
         "showlegend": false,
         "textposition": "outside",
         "type": "bar",
         "x": [
          "November",
          "December",
          "January",
          "February",
          "March",
          "April"
         ],
         "xaxis": "x",
         "y": [
          5.11854103343465,
          25.088753799392098,
          28.780243161094226,
          29.501215805471123,
          21.741337386018238,
          5.274164133738602
         ],
         "yaxis": "y"
        }
       ],
       "layout": {
        "barmode": "relative",
        "font": {
         "size": 14
        },
        "legend": {
         "tracegroupgap": 0
        },
        "margin": {
         "t": 60
        },
        "plot_bgcolor": "white",
        "template": {
         "data": {
          "bar": [
           {
            "error_x": {
             "color": "#2a3f5f"
            },
            "error_y": {
             "color": "#2a3f5f"
            },
            "marker": {
             "line": {
              "color": "#E5ECF6",
              "width": 0.5
             }
            },
            "type": "bar"
           }
          ],
          "barpolar": [
           {
            "marker": {
             "line": {
              "color": "#E5ECF6",
              "width": 0.5
             }
            },
            "type": "barpolar"
           }
          ],
          "carpet": [
           {
            "aaxis": {
             "endlinecolor": "#2a3f5f",
             "gridcolor": "white",
             "linecolor": "white",
             "minorgridcolor": "white",
             "startlinecolor": "#2a3f5f"
            },
            "baxis": {
             "endlinecolor": "#2a3f5f",
             "gridcolor": "white",
             "linecolor": "white",
             "minorgridcolor": "white",
             "startlinecolor": "#2a3f5f"
            },
            "type": "carpet"
           }
          ],
          "choropleth": [
           {
            "colorbar": {
             "outlinewidth": 0,
             "ticks": ""
            },
            "type": "choropleth"
           }
          ],
          "contour": [
           {
            "colorbar": {
             "outlinewidth": 0,
             "ticks": ""
            },
            "colorscale": [
             [
              0,
              "#0d0887"
             ],
             [
              0.1111111111111111,
              "#46039f"
             ],
             [
              0.2222222222222222,
              "#7201a8"
             ],
             [
              0.3333333333333333,
              "#9c179e"
             ],
             [
              0.4444444444444444,
              "#bd3786"
             ],
             [
              0.5555555555555556,
              "#d8576b"
             ],
             [
              0.6666666666666666,
              "#ed7953"
             ],
             [
              0.7777777777777778,
              "#fb9f3a"
             ],
             [
              0.8888888888888888,
              "#fdca26"
             ],
             [
              1,
              "#f0f921"
             ]
            ],
            "type": "contour"
           }
          ],
          "contourcarpet": [
           {
            "colorbar": {
             "outlinewidth": 0,
             "ticks": ""
            },
            "type": "contourcarpet"
           }
          ],
          "heatmap": [
           {
            "colorbar": {
             "outlinewidth": 0,
             "ticks": ""
            },
            "colorscale": [
             [
              0,
              "#0d0887"
             ],
             [
              0.1111111111111111,
              "#46039f"
             ],
             [
              0.2222222222222222,
              "#7201a8"
             ],
             [
              0.3333333333333333,
              "#9c179e"
             ],
             [
              0.4444444444444444,
              "#bd3786"
             ],
             [
              0.5555555555555556,
              "#d8576b"
             ],
             [
              0.6666666666666666,
              "#ed7953"
             ],
             [
              0.7777777777777778,
              "#fb9f3a"
             ],
             [
              0.8888888888888888,
              "#fdca26"
             ],
             [
              1,
              "#f0f921"
             ]
            ],
            "type": "heatmap"
           }
          ],
          "heatmapgl": [
           {
            "colorbar": {
             "outlinewidth": 0,
             "ticks": ""
            },
            "colorscale": [
             [
              0,
              "#0d0887"
             ],
             [
              0.1111111111111111,
              "#46039f"
             ],
             [
              0.2222222222222222,
              "#7201a8"
             ],
             [
              0.3333333333333333,
              "#9c179e"
             ],
             [
              0.4444444444444444,
              "#bd3786"
             ],
             [
              0.5555555555555556,
              "#d8576b"
             ],
             [
              0.6666666666666666,
              "#ed7953"
             ],
             [
              0.7777777777777778,
              "#fb9f3a"
             ],
             [
              0.8888888888888888,
              "#fdca26"
             ],
             [
              1,
              "#f0f921"
             ]
            ],
            "type": "heatmapgl"
           }
          ],
          "histogram": [
           {
            "marker": {
             "colorbar": {
              "outlinewidth": 0,
              "ticks": ""
             }
            },
            "type": "histogram"
           }
          ],
          "histogram2d": [
           {
            "colorbar": {
             "outlinewidth": 0,
             "ticks": ""
            },
            "colorscale": [
             [
              0,
              "#0d0887"
             ],
             [
              0.1111111111111111,
              "#46039f"
             ],
             [
              0.2222222222222222,
              "#7201a8"
             ],
             [
              0.3333333333333333,
              "#9c179e"
             ],
             [
              0.4444444444444444,
              "#bd3786"
             ],
             [
              0.5555555555555556,
              "#d8576b"
             ],
             [
              0.6666666666666666,
              "#ed7953"
             ],
             [
              0.7777777777777778,
              "#fb9f3a"
             ],
             [
              0.8888888888888888,
              "#fdca26"
             ],
             [
              1,
              "#f0f921"
             ]
            ],
            "type": "histogram2d"
           }
          ],
          "histogram2dcontour": [
           {
            "colorbar": {
             "outlinewidth": 0,
             "ticks": ""
            },
            "colorscale": [
             [
              0,
              "#0d0887"
             ],
             [
              0.1111111111111111,
              "#46039f"
             ],
             [
              0.2222222222222222,
              "#7201a8"
             ],
             [
              0.3333333333333333,
              "#9c179e"
             ],
             [
              0.4444444444444444,
              "#bd3786"
             ],
             [
              0.5555555555555556,
              "#d8576b"
             ],
             [
              0.6666666666666666,
              "#ed7953"
             ],
             [
              0.7777777777777778,
              "#fb9f3a"
             ],
             [
              0.8888888888888888,
              "#fdca26"
             ],
             [
              1,
              "#f0f921"
             ]
            ],
            "type": "histogram2dcontour"
           }
          ],
          "mesh3d": [
           {
            "colorbar": {
             "outlinewidth": 0,
             "ticks": ""
            },
            "type": "mesh3d"
           }
          ],
          "parcoords": [
           {
            "line": {
             "colorbar": {
              "outlinewidth": 0,
              "ticks": ""
             }
            },
            "type": "parcoords"
           }
          ],
          "pie": [
           {
            "automargin": true,
            "type": "pie"
           }
          ],
          "scatter": [
           {
            "marker": {
             "colorbar": {
              "outlinewidth": 0,
              "ticks": ""
             }
            },
            "type": "scatter"
           }
          ],
          "scatter3d": [
           {
            "line": {
             "colorbar": {
              "outlinewidth": 0,
              "ticks": ""
             }
            },
            "marker": {
             "colorbar": {
              "outlinewidth": 0,
              "ticks": ""
             }
            },
            "type": "scatter3d"
           }
          ],
          "scattercarpet": [
           {
            "marker": {
             "colorbar": {
              "outlinewidth": 0,
              "ticks": ""
             }
            },
            "type": "scattercarpet"
           }
          ],
          "scattergeo": [
           {
            "marker": {
             "colorbar": {
              "outlinewidth": 0,
              "ticks": ""
             }
            },
            "type": "scattergeo"
           }
          ],
          "scattergl": [
           {
            "marker": {
             "colorbar": {
              "outlinewidth": 0,
              "ticks": ""
             }
            },
            "type": "scattergl"
           }
          ],
          "scattermapbox": [
           {
            "marker": {
             "colorbar": {
              "outlinewidth": 0,
              "ticks": ""
             }
            },
            "type": "scattermapbox"
           }
          ],
          "scatterpolar": [
           {
            "marker": {
             "colorbar": {
              "outlinewidth": 0,
              "ticks": ""
             }
            },
            "type": "scatterpolar"
           }
          ],
          "scatterpolargl": [
           {
            "marker": {
             "colorbar": {
              "outlinewidth": 0,
              "ticks": ""
             }
            },
            "type": "scatterpolargl"
           }
          ],
          "scatterternary": [
           {
            "marker": {
             "colorbar": {
              "outlinewidth": 0,
              "ticks": ""
             }
            },
            "type": "scatterternary"
           }
          ],
          "surface": [
           {
            "colorbar": {
             "outlinewidth": 0,
             "ticks": ""
            },
            "colorscale": [
             [
              0,
              "#0d0887"
             ],
             [
              0.1111111111111111,
              "#46039f"
             ],
             [
              0.2222222222222222,
              "#7201a8"
             ],
             [
              0.3333333333333333,
              "#9c179e"
             ],
             [
              0.4444444444444444,
              "#bd3786"
             ],
             [
              0.5555555555555556,
              "#d8576b"
             ],
             [
              0.6666666666666666,
              "#ed7953"
             ],
             [
              0.7777777777777778,
              "#fb9f3a"
             ],
             [
              0.8888888888888888,
              "#fdca26"
             ],
             [
              1,
              "#f0f921"
             ]
            ],
            "type": "surface"
           }
          ],
          "table": [
           {
            "cells": {
             "fill": {
              "color": "#EBF0F8"
             },
             "line": {
              "color": "white"
             }
            },
            "header": {
             "fill": {
              "color": "#C8D4E3"
             },
             "line": {
              "color": "white"
             }
            },
            "type": "table"
           }
          ]
         },
         "layout": {
          "annotationdefaults": {
           "arrowcolor": "#2a3f5f",
           "arrowhead": 0,
           "arrowwidth": 1
          },
          "coloraxis": {
           "colorbar": {
            "outlinewidth": 0,
            "ticks": ""
           }
          },
          "colorscale": {
           "diverging": [
            [
             0,
             "#8e0152"
            ],
            [
             0.1,
             "#c51b7d"
            ],
            [
             0.2,
             "#de77ae"
            ],
            [
             0.3,
             "#f1b6da"
            ],
            [
             0.4,
             "#fde0ef"
            ],
            [
             0.5,
             "#f7f7f7"
            ],
            [
             0.6,
             "#e6f5d0"
            ],
            [
             0.7,
             "#b8e186"
            ],
            [
             0.8,
             "#7fbc41"
            ],
            [
             0.9,
             "#4d9221"
            ],
            [
             1,
             "#276419"
            ]
           ],
           "sequential": [
            [
             0,
             "#0d0887"
            ],
            [
             0.1111111111111111,
             "#46039f"
            ],
            [
             0.2222222222222222,
             "#7201a8"
            ],
            [
             0.3333333333333333,
             "#9c179e"
            ],
            [
             0.4444444444444444,
             "#bd3786"
            ],
            [
             0.5555555555555556,
             "#d8576b"
            ],
            [
             0.6666666666666666,
             "#ed7953"
            ],
            [
             0.7777777777777778,
             "#fb9f3a"
            ],
            [
             0.8888888888888888,
             "#fdca26"
            ],
            [
             1,
             "#f0f921"
            ]
           ],
           "sequentialminus": [
            [
             0,
             "#0d0887"
            ],
            [
             0.1111111111111111,
             "#46039f"
            ],
            [
             0.2222222222222222,
             "#7201a8"
            ],
            [
             0.3333333333333333,
             "#9c179e"
            ],
            [
             0.4444444444444444,
             "#bd3786"
            ],
            [
             0.5555555555555556,
             "#d8576b"
            ],
            [
             0.6666666666666666,
             "#ed7953"
            ],
            [
             0.7777777777777778,
             "#fb9f3a"
            ],
            [
             0.8888888888888888,
             "#fdca26"
            ],
            [
             1,
             "#f0f921"
            ]
           ]
          },
          "colorway": [
           "#636efa",
           "#EF553B",
           "#00cc96",
           "#ab63fa",
           "#FFA15A",
           "#19d3f3",
           "#FF6692",
           "#B6E880",
           "#FF97FF",
           "#FECB52"
          ],
          "font": {
           "color": "#2a3f5f"
          },
          "geo": {
           "bgcolor": "white",
           "lakecolor": "white",
           "landcolor": "#E5ECF6",
           "showlakes": true,
           "showland": true,
           "subunitcolor": "white"
          },
          "hoverlabel": {
           "align": "left"
          },
          "hovermode": "closest",
          "mapbox": {
           "style": "light"
          },
          "paper_bgcolor": "white",
          "plot_bgcolor": "#E5ECF6",
          "polar": {
           "angularaxis": {
            "gridcolor": "white",
            "linecolor": "white",
            "ticks": ""
           },
           "bgcolor": "#E5ECF6",
           "radialaxis": {
            "gridcolor": "white",
            "linecolor": "white",
            "ticks": ""
           }
          },
          "scene": {
           "xaxis": {
            "backgroundcolor": "#E5ECF6",
            "gridcolor": "white",
            "gridwidth": 2,
            "linecolor": "white",
            "showbackground": true,
            "ticks": "",
            "zerolinecolor": "white"
           },
           "yaxis": {
            "backgroundcolor": "#E5ECF6",
            "gridcolor": "white",
            "gridwidth": 2,
            "linecolor": "white",
            "showbackground": true,
            "ticks": "",
            "zerolinecolor": "white"
           },
           "zaxis": {
            "backgroundcolor": "#E5ECF6",
            "gridcolor": "white",
            "gridwidth": 2,
            "linecolor": "white",
            "showbackground": true,
            "ticks": "",
            "zerolinecolor": "white"
           }
          },
          "shapedefaults": {
           "line": {
            "color": "#2a3f5f"
           }
          },
          "ternary": {
           "aaxis": {
            "gridcolor": "white",
            "linecolor": "white",
            "ticks": ""
           },
           "baxis": {
            "gridcolor": "white",
            "linecolor": "white",
            "ticks": ""
           },
           "bgcolor": "#E5ECF6",
           "caxis": {
            "gridcolor": "white",
            "linecolor": "white",
            "ticks": ""
           }
          },
          "title": {
           "x": 0.05
          },
          "xaxis": {
           "automargin": true,
           "gridcolor": "white",
           "linecolor": "white",
           "ticks": "",
           "title": {
            "standoff": 15
           },
           "zerolinecolor": "white",
           "zerolinewidth": 2
          },
          "yaxis": {
           "automargin": true,
           "gridcolor": "white",
           "linecolor": "white",
           "ticks": "",
           "title": {
            "standoff": 15
           },
           "zerolinecolor": "white",
           "zerolinewidth": 2
          }
         }
        },
        "title": {
         "text": "2022 US Average Snowfall",
         "x": 0.5
        },
        "xaxis": {
         "anchor": "y",
         "domain": [
          0,
          1
         ],
         "title": {
          "text": "Month"
         }
        },
        "yaxis": {
         "anchor": "x",
         "domain": [
          0,
          1
         ],
         "title": {
          "text": "Snow (in)"
         }
        }
       }
      },
      "text/html": [
       "<div>                            <div id=\"4c70fe05-46bb-4b92-8f33-6e98ef3c4200\" class=\"plotly-graph-div\" style=\"height:525px; width:100%;\"></div>            <script type=\"text/javascript\">                require([\"plotly\"], function(Plotly) {                    window.PLOTLYENV=window.PLOTLYENV || {};                                    if (document.getElementById(\"4c70fe05-46bb-4b92-8f33-6e98ef3c4200\")) {                    Plotly.newPlot(                        \"4c70fe05-46bb-4b92-8f33-6e98ef3c4200\",                        [{\"alignmentgroup\": \"True\", \"hovertemplate\": \"month=%{x}<br>mean_snowfall=%{y}<extra></extra>\", \"legendgroup\": \"\", \"marker\": {\"color\": \"#00b5ff\"}, \"name\": \"\", \"offsetgroup\": \"\", \"orientation\": \"v\", \"showlegend\": false, \"textposition\": \"outside\", \"type\": \"bar\", \"x\": [\"November\", \"December\", \"January\", \"February\", \"March\", \"April\"], \"xaxis\": \"x\", \"y\": [5.11854103343465, 25.088753799392098, 28.780243161094226, 29.501215805471123, 21.741337386018238, 5.274164133738602], \"yaxis\": \"y\"}],                        {\"barmode\": \"relative\", \"font\": {\"size\": 14}, \"legend\": {\"tracegroupgap\": 0}, \"margin\": {\"t\": 60}, \"plot_bgcolor\": \"white\", \"template\": {\"data\": {\"bar\": [{\"error_x\": {\"color\": \"#2a3f5f\"}, \"error_y\": {\"color\": \"#2a3f5f\"}, \"marker\": {\"line\": {\"color\": \"#E5ECF6\", \"width\": 0.5}}, \"type\": \"bar\"}], \"barpolar\": [{\"marker\": {\"line\": {\"color\": \"#E5ECF6\", \"width\": 0.5}}, \"type\": \"barpolar\"}], \"carpet\": [{\"aaxis\": {\"endlinecolor\": \"#2a3f5f\", \"gridcolor\": \"white\", \"linecolor\": \"white\", \"minorgridcolor\": \"white\", \"startlinecolor\": \"#2a3f5f\"}, \"baxis\": {\"endlinecolor\": \"#2a3f5f\", \"gridcolor\": \"white\", \"linecolor\": \"white\", \"minorgridcolor\": \"white\", \"startlinecolor\": \"#2a3f5f\"}, \"type\": \"carpet\"}], \"choropleth\": [{\"colorbar\": {\"outlinewidth\": 0, \"ticks\": \"\"}, \"type\": \"choropleth\"}], \"contour\": [{\"colorbar\": {\"outlinewidth\": 0, \"ticks\": \"\"}, \"colorscale\": [[0.0, \"#0d0887\"], [0.1111111111111111, \"#46039f\"], [0.2222222222222222, \"#7201a8\"], [0.3333333333333333, \"#9c179e\"], [0.4444444444444444, \"#bd3786\"], [0.5555555555555556, \"#d8576b\"], [0.6666666666666666, \"#ed7953\"], [0.7777777777777778, \"#fb9f3a\"], [0.8888888888888888, \"#fdca26\"], [1.0, \"#f0f921\"]], \"type\": \"contour\"}], \"contourcarpet\": [{\"colorbar\": {\"outlinewidth\": 0, \"ticks\": \"\"}, \"type\": \"contourcarpet\"}], \"heatmap\": [{\"colorbar\": {\"outlinewidth\": 0, \"ticks\": \"\"}, \"colorscale\": [[0.0, \"#0d0887\"], [0.1111111111111111, \"#46039f\"], [0.2222222222222222, \"#7201a8\"], [0.3333333333333333, \"#9c179e\"], [0.4444444444444444, \"#bd3786\"], [0.5555555555555556, \"#d8576b\"], [0.6666666666666666, \"#ed7953\"], [0.7777777777777778, \"#fb9f3a\"], [0.8888888888888888, \"#fdca26\"], [1.0, \"#f0f921\"]], \"type\": \"heatmap\"}], \"heatmapgl\": [{\"colorbar\": {\"outlinewidth\": 0, \"ticks\": \"\"}, \"colorscale\": [[0.0, \"#0d0887\"], [0.1111111111111111, \"#46039f\"], [0.2222222222222222, \"#7201a8\"], [0.3333333333333333, \"#9c179e\"], [0.4444444444444444, \"#bd3786\"], [0.5555555555555556, \"#d8576b\"], [0.6666666666666666, \"#ed7953\"], [0.7777777777777778, \"#fb9f3a\"], [0.8888888888888888, \"#fdca26\"], [1.0, \"#f0f921\"]], \"type\": \"heatmapgl\"}], \"histogram\": [{\"marker\": {\"colorbar\": {\"outlinewidth\": 0, \"ticks\": \"\"}}, \"type\": \"histogram\"}], \"histogram2d\": [{\"colorbar\": {\"outlinewidth\": 0, \"ticks\": \"\"}, \"colorscale\": [[0.0, \"#0d0887\"], [0.1111111111111111, \"#46039f\"], [0.2222222222222222, \"#7201a8\"], [0.3333333333333333, \"#9c179e\"], [0.4444444444444444, \"#bd3786\"], [0.5555555555555556, \"#d8576b\"], [0.6666666666666666, \"#ed7953\"], [0.7777777777777778, \"#fb9f3a\"], [0.8888888888888888, \"#fdca26\"], [1.0, \"#f0f921\"]], \"type\": \"histogram2d\"}], \"histogram2dcontour\": [{\"colorbar\": {\"outlinewidth\": 0, \"ticks\": \"\"}, \"colorscale\": [[0.0, \"#0d0887\"], [0.1111111111111111, \"#46039f\"], [0.2222222222222222, \"#7201a8\"], [0.3333333333333333, \"#9c179e\"], [0.4444444444444444, \"#bd3786\"], [0.5555555555555556, \"#d8576b\"], [0.6666666666666666, \"#ed7953\"], [0.7777777777777778, \"#fb9f3a\"], [0.8888888888888888, \"#fdca26\"], [1.0, \"#f0f921\"]], \"type\": \"histogram2dcontour\"}], \"mesh3d\": [{\"colorbar\": {\"outlinewidth\": 0, \"ticks\": \"\"}, \"type\": \"mesh3d\"}], \"parcoords\": [{\"line\": {\"colorbar\": {\"outlinewidth\": 0, \"ticks\": \"\"}}, \"type\": \"parcoords\"}], \"pie\": [{\"automargin\": true, \"type\": \"pie\"}], \"scatter\": [{\"marker\": {\"colorbar\": {\"outlinewidth\": 0, \"ticks\": \"\"}}, \"type\": \"scatter\"}], \"scatter3d\": [{\"line\": {\"colorbar\": {\"outlinewidth\": 0, \"ticks\": \"\"}}, \"marker\": {\"colorbar\": {\"outlinewidth\": 0, \"ticks\": \"\"}}, \"type\": \"scatter3d\"}], \"scattercarpet\": [{\"marker\": {\"colorbar\": {\"outlinewidth\": 0, \"ticks\": \"\"}}, \"type\": \"scattercarpet\"}], \"scattergeo\": [{\"marker\": {\"colorbar\": {\"outlinewidth\": 0, \"ticks\": \"\"}}, \"type\": \"scattergeo\"}], \"scattergl\": [{\"marker\": {\"colorbar\": {\"outlinewidth\": 0, \"ticks\": \"\"}}, \"type\": \"scattergl\"}], \"scattermapbox\": [{\"marker\": {\"colorbar\": {\"outlinewidth\": 0, \"ticks\": \"\"}}, \"type\": \"scattermapbox\"}], \"scatterpolar\": [{\"marker\": {\"colorbar\": {\"outlinewidth\": 0, \"ticks\": \"\"}}, \"type\": \"scatterpolar\"}], \"scatterpolargl\": [{\"marker\": {\"colorbar\": {\"outlinewidth\": 0, \"ticks\": \"\"}}, \"type\": \"scatterpolargl\"}], \"scatterternary\": [{\"marker\": {\"colorbar\": {\"outlinewidth\": 0, \"ticks\": \"\"}}, \"type\": \"scatterternary\"}], \"surface\": [{\"colorbar\": {\"outlinewidth\": 0, \"ticks\": \"\"}, \"colorscale\": [[0.0, \"#0d0887\"], [0.1111111111111111, \"#46039f\"], [0.2222222222222222, \"#7201a8\"], [0.3333333333333333, \"#9c179e\"], [0.4444444444444444, \"#bd3786\"], [0.5555555555555556, \"#d8576b\"], [0.6666666666666666, \"#ed7953\"], [0.7777777777777778, \"#fb9f3a\"], [0.8888888888888888, \"#fdca26\"], [1.0, \"#f0f921\"]], \"type\": \"surface\"}], \"table\": [{\"cells\": {\"fill\": {\"color\": \"#EBF0F8\"}, \"line\": {\"color\": \"white\"}}, \"header\": {\"fill\": {\"color\": \"#C8D4E3\"}, \"line\": {\"color\": \"white\"}}, \"type\": \"table\"}]}, \"layout\": {\"annotationdefaults\": {\"arrowcolor\": \"#2a3f5f\", \"arrowhead\": 0, \"arrowwidth\": 1}, \"coloraxis\": {\"colorbar\": {\"outlinewidth\": 0, \"ticks\": \"\"}}, \"colorscale\": {\"diverging\": [[0, \"#8e0152\"], [0.1, \"#c51b7d\"], [0.2, \"#de77ae\"], [0.3, \"#f1b6da\"], [0.4, \"#fde0ef\"], [0.5, \"#f7f7f7\"], [0.6, \"#e6f5d0\"], [0.7, \"#b8e186\"], [0.8, \"#7fbc41\"], [0.9, \"#4d9221\"], [1, \"#276419\"]], \"sequential\": [[0.0, \"#0d0887\"], [0.1111111111111111, \"#46039f\"], [0.2222222222222222, \"#7201a8\"], [0.3333333333333333, \"#9c179e\"], [0.4444444444444444, \"#bd3786\"], [0.5555555555555556, \"#d8576b\"], [0.6666666666666666, \"#ed7953\"], [0.7777777777777778, \"#fb9f3a\"], [0.8888888888888888, \"#fdca26\"], [1.0, \"#f0f921\"]], \"sequentialminus\": [[0.0, \"#0d0887\"], [0.1111111111111111, \"#46039f\"], [0.2222222222222222, \"#7201a8\"], [0.3333333333333333, \"#9c179e\"], [0.4444444444444444, \"#bd3786\"], [0.5555555555555556, \"#d8576b\"], [0.6666666666666666, \"#ed7953\"], [0.7777777777777778, \"#fb9f3a\"], [0.8888888888888888, \"#fdca26\"], [1.0, \"#f0f921\"]]}, \"colorway\": [\"#636efa\", \"#EF553B\", \"#00cc96\", \"#ab63fa\", \"#FFA15A\", \"#19d3f3\", \"#FF6692\", \"#B6E880\", \"#FF97FF\", \"#FECB52\"], \"font\": {\"color\": \"#2a3f5f\"}, \"geo\": {\"bgcolor\": \"white\", \"lakecolor\": \"white\", \"landcolor\": \"#E5ECF6\", \"showlakes\": true, \"showland\": true, \"subunitcolor\": \"white\"}, \"hoverlabel\": {\"align\": \"left\"}, \"hovermode\": \"closest\", \"mapbox\": {\"style\": \"light\"}, \"paper_bgcolor\": \"white\", \"plot_bgcolor\": \"#E5ECF6\", \"polar\": {\"angularaxis\": {\"gridcolor\": \"white\", \"linecolor\": \"white\", \"ticks\": \"\"}, \"bgcolor\": \"#E5ECF6\", \"radialaxis\": {\"gridcolor\": \"white\", \"linecolor\": \"white\", \"ticks\": \"\"}}, \"scene\": {\"xaxis\": {\"backgroundcolor\": \"#E5ECF6\", \"gridcolor\": \"white\", \"gridwidth\": 2, \"linecolor\": \"white\", \"showbackground\": true, \"ticks\": \"\", \"zerolinecolor\": \"white\"}, \"yaxis\": {\"backgroundcolor\": \"#E5ECF6\", \"gridcolor\": \"white\", \"gridwidth\": 2, \"linecolor\": \"white\", \"showbackground\": true, \"ticks\": \"\", \"zerolinecolor\": \"white\"}, \"zaxis\": {\"backgroundcolor\": \"#E5ECF6\", \"gridcolor\": \"white\", \"gridwidth\": 2, \"linecolor\": \"white\", \"showbackground\": true, \"ticks\": \"\", \"zerolinecolor\": \"white\"}}, \"shapedefaults\": {\"line\": {\"color\": \"#2a3f5f\"}}, \"ternary\": {\"aaxis\": {\"gridcolor\": \"white\", \"linecolor\": \"white\", \"ticks\": \"\"}, \"baxis\": {\"gridcolor\": \"white\", \"linecolor\": \"white\", \"ticks\": \"\"}, \"bgcolor\": \"#E5ECF6\", \"caxis\": {\"gridcolor\": \"white\", \"linecolor\": \"white\", \"ticks\": \"\"}}, \"title\": {\"x\": 0.05}, \"xaxis\": {\"automargin\": true, \"gridcolor\": \"white\", \"linecolor\": \"white\", \"ticks\": \"\", \"title\": {\"standoff\": 15}, \"zerolinecolor\": \"white\", \"zerolinewidth\": 2}, \"yaxis\": {\"automargin\": true, \"gridcolor\": \"white\", \"linecolor\": \"white\", \"ticks\": \"\", \"title\": {\"standoff\": 15}, \"zerolinecolor\": \"white\", \"zerolinewidth\": 2}}}, \"title\": {\"text\": \"2022 US Average Snowfall\", \"x\": 0.5}, \"xaxis\": {\"anchor\": \"y\", \"domain\": [0.0, 1.0], \"title\": {\"text\": \"Month\"}}, \"yaxis\": {\"anchor\": \"x\", \"domain\": [0.0, 1.0], \"title\": {\"text\": \"Snow (in)\"}}},                        {\"responsive\": true}                    ).then(function(){\n",
       "                            \n",
       "var gd = document.getElementById('4c70fe05-46bb-4b92-8f33-6e98ef3c4200');\n",
       "var x = new MutationObserver(function (mutations, observer) {{\n",
       "        var display = window.getComputedStyle(gd).display;\n",
       "        if (!display || display === 'none') {{\n",
       "            console.log([gd, 'removed!']);\n",
       "            Plotly.purge(gd);\n",
       "            observer.disconnect();\n",
       "        }}\n",
       "}});\n",
       "\n",
       "// Listen for the removal of the full notebook cells\n",
       "var notebookContainer = gd.closest('#notebook-container');\n",
       "if (notebookContainer) {{\n",
       "    x.observe(notebookContainer, {childList: true});\n",
       "}}\n",
       "\n",
       "// Listen for the clearing of the current output cell\n",
       "var outputEl = gd.closest('.output');\n",
       "if (outputEl) {{\n",
       "    x.observe(outputEl, {childList: true});\n",
       "}}\n",
       "\n",
       "                        })                };                });            </script>        </div>"
      ]
     },
     "metadata": {},
     "output_type": "display_data"
    }
   ],
   "source": [
    "#using plotly to plot the top featurescolor=\n",
    "fig = px.bar(monthly_snowfall, x=\"month\", y=\"mean_snowfall\")\n",
    "fig.update_layout(title_text='2022 US Average Snowfall',\n",
    "                  title_x=0.5,\n",
    "                  xaxis_title=\"Month\",\n",
    "                  yaxis_title=\"Snow (in)\",\n",
    "                 plot_bgcolor='white',\n",
    "                 font=dict(size=14))\n",
    "fig.update_traces(marker_color = \"#00b5ff\",textposition='outside')\n",
    "\n",
    "fig.show()"
   ]
  },
  {
   "cell_type": "markdown",
   "metadata": {},
   "source": [
    "### Airbnb Prices"
   ]
  },
  {
   "cell_type": "code",
   "execution_count": 183,
   "metadata": {},
   "outputs": [
    {
     "data": {
      "application/vnd.plotly.v1+json": {
       "config": {
        "plotlyServerURL": "https://plot.ly"
       },
       "data": [
        {
         "alignmentgroup": "True",
         "hovertemplate": "variable=2 Guest Max<br>ski_resort=%{x}<br>value=%{y}<extra></extra>",
         "legendgroup": "2 Guest Max",
         "marker": {
          "color": "#636efa"
         },
         "name": "2 Guest Max",
         "offsetgroup": "dec_min_2_guests",
         "orientation": "v",
         "showlegend": true,
         "textposition": "outside",
         "type": "bar",
         "x": [
          "49 Degrees North",
          "Afton Alps",
          "Alpental",
          "Alpine Valley Ohio",
          "Alpine Valley Wisconsin"
         ],
         "xaxis": "x",
         "y": [
          68,
          65,
          99,
          64,
          80
         ],
         "yaxis": "y"
        },
        {
         "alignmentgroup": "True",
         "hovertemplate": "variable=4 Guest Max<br>ski_resort=%{x}<br>value=%{y}<extra></extra>",
         "legendgroup": "4 Guest Max",
         "marker": {
          "color": "#EF553B"
         },
         "name": "4 Guest Max",
         "offsetgroup": "dec_min_4_guests",
         "orientation": "v",
         "showlegend": true,
         "textposition": "outside",
         "type": "bar",
         "x": [
          "49 Degrees North",
          "Afton Alps",
          "Alpental",
          "Alpine Valley Ohio",
          "Alpine Valley Wisconsin"
         ],
         "xaxis": "x",
         "y": [
          79,
          107,
          134,
          95,
          92
         ],
         "yaxis": "y"
        }
       ],
       "layout": {
        "barmode": "group",
        "font": {
         "size": 14
        },
        "height": 500,
        "legend": {
         "title": {
          "text": "variable"
         },
         "tracegroupgap": 0
        },
        "margin": {
         "t": 60
        },
        "plot_bgcolor": "white",
        "template": {
         "data": {
          "bar": [
           {
            "error_x": {
             "color": "#2a3f5f"
            },
            "error_y": {
             "color": "#2a3f5f"
            },
            "marker": {
             "line": {
              "color": "#E5ECF6",
              "width": 0.5
             }
            },
            "type": "bar"
           }
          ],
          "barpolar": [
           {
            "marker": {
             "line": {
              "color": "#E5ECF6",
              "width": 0.5
             }
            },
            "type": "barpolar"
           }
          ],
          "carpet": [
           {
            "aaxis": {
             "endlinecolor": "#2a3f5f",
             "gridcolor": "white",
             "linecolor": "white",
             "minorgridcolor": "white",
             "startlinecolor": "#2a3f5f"
            },
            "baxis": {
             "endlinecolor": "#2a3f5f",
             "gridcolor": "white",
             "linecolor": "white",
             "minorgridcolor": "white",
             "startlinecolor": "#2a3f5f"
            },
            "type": "carpet"
           }
          ],
          "choropleth": [
           {
            "colorbar": {
             "outlinewidth": 0,
             "ticks": ""
            },
            "type": "choropleth"
           }
          ],
          "contour": [
           {
            "colorbar": {
             "outlinewidth": 0,
             "ticks": ""
            },
            "colorscale": [
             [
              0,
              "#0d0887"
             ],
             [
              0.1111111111111111,
              "#46039f"
             ],
             [
              0.2222222222222222,
              "#7201a8"
             ],
             [
              0.3333333333333333,
              "#9c179e"
             ],
             [
              0.4444444444444444,
              "#bd3786"
             ],
             [
              0.5555555555555556,
              "#d8576b"
             ],
             [
              0.6666666666666666,
              "#ed7953"
             ],
             [
              0.7777777777777778,
              "#fb9f3a"
             ],
             [
              0.8888888888888888,
              "#fdca26"
             ],
             [
              1,
              "#f0f921"
             ]
            ],
            "type": "contour"
           }
          ],
          "contourcarpet": [
           {
            "colorbar": {
             "outlinewidth": 0,
             "ticks": ""
            },
            "type": "contourcarpet"
           }
          ],
          "heatmap": [
           {
            "colorbar": {
             "outlinewidth": 0,
             "ticks": ""
            },
            "colorscale": [
             [
              0,
              "#0d0887"
             ],
             [
              0.1111111111111111,
              "#46039f"
             ],
             [
              0.2222222222222222,
              "#7201a8"
             ],
             [
              0.3333333333333333,
              "#9c179e"
             ],
             [
              0.4444444444444444,
              "#bd3786"
             ],
             [
              0.5555555555555556,
              "#d8576b"
             ],
             [
              0.6666666666666666,
              "#ed7953"
             ],
             [
              0.7777777777777778,
              "#fb9f3a"
             ],
             [
              0.8888888888888888,
              "#fdca26"
             ],
             [
              1,
              "#f0f921"
             ]
            ],
            "type": "heatmap"
           }
          ],
          "heatmapgl": [
           {
            "colorbar": {
             "outlinewidth": 0,
             "ticks": ""
            },
            "colorscale": [
             [
              0,
              "#0d0887"
             ],
             [
              0.1111111111111111,
              "#46039f"
             ],
             [
              0.2222222222222222,
              "#7201a8"
             ],
             [
              0.3333333333333333,
              "#9c179e"
             ],
             [
              0.4444444444444444,
              "#bd3786"
             ],
             [
              0.5555555555555556,
              "#d8576b"
             ],
             [
              0.6666666666666666,
              "#ed7953"
             ],
             [
              0.7777777777777778,
              "#fb9f3a"
             ],
             [
              0.8888888888888888,
              "#fdca26"
             ],
             [
              1,
              "#f0f921"
             ]
            ],
            "type": "heatmapgl"
           }
          ],
          "histogram": [
           {
            "marker": {
             "colorbar": {
              "outlinewidth": 0,
              "ticks": ""
             }
            },
            "type": "histogram"
           }
          ],
          "histogram2d": [
           {
            "colorbar": {
             "outlinewidth": 0,
             "ticks": ""
            },
            "colorscale": [
             [
              0,
              "#0d0887"
             ],
             [
              0.1111111111111111,
              "#46039f"
             ],
             [
              0.2222222222222222,
              "#7201a8"
             ],
             [
              0.3333333333333333,
              "#9c179e"
             ],
             [
              0.4444444444444444,
              "#bd3786"
             ],
             [
              0.5555555555555556,
              "#d8576b"
             ],
             [
              0.6666666666666666,
              "#ed7953"
             ],
             [
              0.7777777777777778,
              "#fb9f3a"
             ],
             [
              0.8888888888888888,
              "#fdca26"
             ],
             [
              1,
              "#f0f921"
             ]
            ],
            "type": "histogram2d"
           }
          ],
          "histogram2dcontour": [
           {
            "colorbar": {
             "outlinewidth": 0,
             "ticks": ""
            },
            "colorscale": [
             [
              0,
              "#0d0887"
             ],
             [
              0.1111111111111111,
              "#46039f"
             ],
             [
              0.2222222222222222,
              "#7201a8"
             ],
             [
              0.3333333333333333,
              "#9c179e"
             ],
             [
              0.4444444444444444,
              "#bd3786"
             ],
             [
              0.5555555555555556,
              "#d8576b"
             ],
             [
              0.6666666666666666,
              "#ed7953"
             ],
             [
              0.7777777777777778,
              "#fb9f3a"
             ],
             [
              0.8888888888888888,
              "#fdca26"
             ],
             [
              1,
              "#f0f921"
             ]
            ],
            "type": "histogram2dcontour"
           }
          ],
          "mesh3d": [
           {
            "colorbar": {
             "outlinewidth": 0,
             "ticks": ""
            },
            "type": "mesh3d"
           }
          ],
          "parcoords": [
           {
            "line": {
             "colorbar": {
              "outlinewidth": 0,
              "ticks": ""
             }
            },
            "type": "parcoords"
           }
          ],
          "pie": [
           {
            "automargin": true,
            "type": "pie"
           }
          ],
          "scatter": [
           {
            "marker": {
             "colorbar": {
              "outlinewidth": 0,
              "ticks": ""
             }
            },
            "type": "scatter"
           }
          ],
          "scatter3d": [
           {
            "line": {
             "colorbar": {
              "outlinewidth": 0,
              "ticks": ""
             }
            },
            "marker": {
             "colorbar": {
              "outlinewidth": 0,
              "ticks": ""
             }
            },
            "type": "scatter3d"
           }
          ],
          "scattercarpet": [
           {
            "marker": {
             "colorbar": {
              "outlinewidth": 0,
              "ticks": ""
             }
            },
            "type": "scattercarpet"
           }
          ],
          "scattergeo": [
           {
            "marker": {
             "colorbar": {
              "outlinewidth": 0,
              "ticks": ""
             }
            },
            "type": "scattergeo"
           }
          ],
          "scattergl": [
           {
            "marker": {
             "colorbar": {
              "outlinewidth": 0,
              "ticks": ""
             }
            },
            "type": "scattergl"
           }
          ],
          "scattermapbox": [
           {
            "marker": {
             "colorbar": {
              "outlinewidth": 0,
              "ticks": ""
             }
            },
            "type": "scattermapbox"
           }
          ],
          "scatterpolar": [
           {
            "marker": {
             "colorbar": {
              "outlinewidth": 0,
              "ticks": ""
             }
            },
            "type": "scatterpolar"
           }
          ],
          "scatterpolargl": [
           {
            "marker": {
             "colorbar": {
              "outlinewidth": 0,
              "ticks": ""
             }
            },
            "type": "scatterpolargl"
           }
          ],
          "scatterternary": [
           {
            "marker": {
             "colorbar": {
              "outlinewidth": 0,
              "ticks": ""
             }
            },
            "type": "scatterternary"
           }
          ],
          "surface": [
           {
            "colorbar": {
             "outlinewidth": 0,
             "ticks": ""
            },
            "colorscale": [
             [
              0,
              "#0d0887"
             ],
             [
              0.1111111111111111,
              "#46039f"
             ],
             [
              0.2222222222222222,
              "#7201a8"
             ],
             [
              0.3333333333333333,
              "#9c179e"
             ],
             [
              0.4444444444444444,
              "#bd3786"
             ],
             [
              0.5555555555555556,
              "#d8576b"
             ],
             [
              0.6666666666666666,
              "#ed7953"
             ],
             [
              0.7777777777777778,
              "#fb9f3a"
             ],
             [
              0.8888888888888888,
              "#fdca26"
             ],
             [
              1,
              "#f0f921"
             ]
            ],
            "type": "surface"
           }
          ],
          "table": [
           {
            "cells": {
             "fill": {
              "color": "#EBF0F8"
             },
             "line": {
              "color": "white"
             }
            },
            "header": {
             "fill": {
              "color": "#C8D4E3"
             },
             "line": {
              "color": "white"
             }
            },
            "type": "table"
           }
          ]
         },
         "layout": {
          "annotationdefaults": {
           "arrowcolor": "#2a3f5f",
           "arrowhead": 0,
           "arrowwidth": 1
          },
          "coloraxis": {
           "colorbar": {
            "outlinewidth": 0,
            "ticks": ""
           }
          },
          "colorscale": {
           "diverging": [
            [
             0,
             "#8e0152"
            ],
            [
             0.1,
             "#c51b7d"
            ],
            [
             0.2,
             "#de77ae"
            ],
            [
             0.3,
             "#f1b6da"
            ],
            [
             0.4,
             "#fde0ef"
            ],
            [
             0.5,
             "#f7f7f7"
            ],
            [
             0.6,
             "#e6f5d0"
            ],
            [
             0.7,
             "#b8e186"
            ],
            [
             0.8,
             "#7fbc41"
            ],
            [
             0.9,
             "#4d9221"
            ],
            [
             1,
             "#276419"
            ]
           ],
           "sequential": [
            [
             0,
             "#0d0887"
            ],
            [
             0.1111111111111111,
             "#46039f"
            ],
            [
             0.2222222222222222,
             "#7201a8"
            ],
            [
             0.3333333333333333,
             "#9c179e"
            ],
            [
             0.4444444444444444,
             "#bd3786"
            ],
            [
             0.5555555555555556,
             "#d8576b"
            ],
            [
             0.6666666666666666,
             "#ed7953"
            ],
            [
             0.7777777777777778,
             "#fb9f3a"
            ],
            [
             0.8888888888888888,
             "#fdca26"
            ],
            [
             1,
             "#f0f921"
            ]
           ],
           "sequentialminus": [
            [
             0,
             "#0d0887"
            ],
            [
             0.1111111111111111,
             "#46039f"
            ],
            [
             0.2222222222222222,
             "#7201a8"
            ],
            [
             0.3333333333333333,
             "#9c179e"
            ],
            [
             0.4444444444444444,
             "#bd3786"
            ],
            [
             0.5555555555555556,
             "#d8576b"
            ],
            [
             0.6666666666666666,
             "#ed7953"
            ],
            [
             0.7777777777777778,
             "#fb9f3a"
            ],
            [
             0.8888888888888888,
             "#fdca26"
            ],
            [
             1,
             "#f0f921"
            ]
           ]
          },
          "colorway": [
           "#636efa",
           "#EF553B",
           "#00cc96",
           "#ab63fa",
           "#FFA15A",
           "#19d3f3",
           "#FF6692",
           "#B6E880",
           "#FF97FF",
           "#FECB52"
          ],
          "font": {
           "color": "#2a3f5f"
          },
          "geo": {
           "bgcolor": "white",
           "lakecolor": "white",
           "landcolor": "#E5ECF6",
           "showlakes": true,
           "showland": true,
           "subunitcolor": "white"
          },
          "hoverlabel": {
           "align": "left"
          },
          "hovermode": "closest",
          "mapbox": {
           "style": "light"
          },
          "paper_bgcolor": "white",
          "plot_bgcolor": "#E5ECF6",
          "polar": {
           "angularaxis": {
            "gridcolor": "white",
            "linecolor": "white",
            "ticks": ""
           },
           "bgcolor": "#E5ECF6",
           "radialaxis": {
            "gridcolor": "white",
            "linecolor": "white",
            "ticks": ""
           }
          },
          "scene": {
           "xaxis": {
            "backgroundcolor": "#E5ECF6",
            "gridcolor": "white",
            "gridwidth": 2,
            "linecolor": "white",
            "showbackground": true,
            "ticks": "",
            "zerolinecolor": "white"
           },
           "yaxis": {
            "backgroundcolor": "#E5ECF6",
            "gridcolor": "white",
            "gridwidth": 2,
            "linecolor": "white",
            "showbackground": true,
            "ticks": "",
            "zerolinecolor": "white"
           },
           "zaxis": {
            "backgroundcolor": "#E5ECF6",
            "gridcolor": "white",
            "gridwidth": 2,
            "linecolor": "white",
            "showbackground": true,
            "ticks": "",
            "zerolinecolor": "white"
           }
          },
          "shapedefaults": {
           "line": {
            "color": "#2a3f5f"
           }
          },
          "ternary": {
           "aaxis": {
            "gridcolor": "white",
            "linecolor": "white",
            "ticks": ""
           },
           "baxis": {
            "gridcolor": "white",
            "linecolor": "white",
            "ticks": ""
           },
           "bgcolor": "#E5ECF6",
           "caxis": {
            "gridcolor": "white",
            "linecolor": "white",
            "ticks": ""
           }
          },
          "title": {
           "x": 0.05
          },
          "xaxis": {
           "automargin": true,
           "gridcolor": "white",
           "linecolor": "white",
           "ticks": "",
           "title": {
            "standoff": 15
           },
           "zerolinecolor": "white",
           "zerolinewidth": 2
          },
          "yaxis": {
           "automargin": true,
           "gridcolor": "white",
           "linecolor": "white",
           "ticks": "",
           "title": {
            "standoff": 15
           },
           "zerolinecolor": "white",
           "zerolinewidth": 2
          }
         }
        },
        "title": {
         "text": "December Airbnb Costs",
         "x": 0.5
        },
        "width": 1000,
        "xaxis": {
         "anchor": "y",
         "domain": [
          0,
          1
         ],
         "title": {
          "text": "Ski Resort"
         }
        },
        "yaxis": {
         "anchor": "x",
         "domain": [
          0,
          1
         ],
         "title": {
          "text": "Nightly Price ($)"
         }
        }
       }
      },
      "text/html": [
       "<div>                            <div id=\"a789892a-92b6-4d40-b624-e131e1c6d47e\" class=\"plotly-graph-div\" style=\"height:500px; width:1000px;\"></div>            <script type=\"text/javascript\">                require([\"plotly\"], function(Plotly) {                    window.PLOTLYENV=window.PLOTLYENV || {};                                    if (document.getElementById(\"a789892a-92b6-4d40-b624-e131e1c6d47e\")) {                    Plotly.newPlot(                        \"a789892a-92b6-4d40-b624-e131e1c6d47e\",                        [{\"alignmentgroup\": \"True\", \"hovertemplate\": \"variable=2 Guest Max<br>ski_resort=%{x}<br>value=%{y}<extra></extra>\", \"legendgroup\": \"2 Guest Max\", \"marker\": {\"color\": \"#636efa\"}, \"name\": \"2 Guest Max\", \"offsetgroup\": \"dec_min_2_guests\", \"orientation\": \"v\", \"showlegend\": true, \"textposition\": \"outside\", \"type\": \"bar\", \"x\": [\"49 Degrees North\", \"Afton Alps\", \"Alpental\", \"Alpine Valley Ohio\", \"Alpine Valley Wisconsin\"], \"xaxis\": \"x\", \"y\": [68.0, 65.0, 99.0, 64.0, 80.0], \"yaxis\": \"y\"}, {\"alignmentgroup\": \"True\", \"hovertemplate\": \"variable=4 Guest Max<br>ski_resort=%{x}<br>value=%{y}<extra></extra>\", \"legendgroup\": \"4 Guest Max\", \"marker\": {\"color\": \"#EF553B\"}, \"name\": \"4 Guest Max\", \"offsetgroup\": \"dec_min_4_guests\", \"orientation\": \"v\", \"showlegend\": true, \"textposition\": \"outside\", \"type\": \"bar\", \"x\": [\"49 Degrees North\", \"Afton Alps\", \"Alpental\", \"Alpine Valley Ohio\", \"Alpine Valley Wisconsin\"], \"xaxis\": \"x\", \"y\": [79.0, 107.0, 134.0, 95.0, 92.0], \"yaxis\": \"y\"}],                        {\"barmode\": \"group\", \"font\": {\"size\": 14}, \"height\": 500, \"legend\": {\"title\": {\"text\": \"variable\"}, \"tracegroupgap\": 0}, \"margin\": {\"t\": 60}, \"plot_bgcolor\": \"white\", \"template\": {\"data\": {\"bar\": [{\"error_x\": {\"color\": \"#2a3f5f\"}, \"error_y\": {\"color\": \"#2a3f5f\"}, \"marker\": {\"line\": {\"color\": \"#E5ECF6\", \"width\": 0.5}}, \"type\": \"bar\"}], \"barpolar\": [{\"marker\": {\"line\": {\"color\": \"#E5ECF6\", \"width\": 0.5}}, \"type\": \"barpolar\"}], \"carpet\": [{\"aaxis\": {\"endlinecolor\": \"#2a3f5f\", \"gridcolor\": \"white\", \"linecolor\": \"white\", \"minorgridcolor\": \"white\", \"startlinecolor\": \"#2a3f5f\"}, \"baxis\": {\"endlinecolor\": \"#2a3f5f\", \"gridcolor\": \"white\", \"linecolor\": \"white\", \"minorgridcolor\": \"white\", \"startlinecolor\": \"#2a3f5f\"}, \"type\": \"carpet\"}], \"choropleth\": [{\"colorbar\": {\"outlinewidth\": 0, \"ticks\": \"\"}, \"type\": \"choropleth\"}], \"contour\": [{\"colorbar\": {\"outlinewidth\": 0, \"ticks\": \"\"}, \"colorscale\": [[0.0, \"#0d0887\"], [0.1111111111111111, \"#46039f\"], [0.2222222222222222, \"#7201a8\"], [0.3333333333333333, \"#9c179e\"], [0.4444444444444444, \"#bd3786\"], [0.5555555555555556, \"#d8576b\"], [0.6666666666666666, \"#ed7953\"], [0.7777777777777778, \"#fb9f3a\"], [0.8888888888888888, \"#fdca26\"], [1.0, \"#f0f921\"]], \"type\": \"contour\"}], \"contourcarpet\": [{\"colorbar\": {\"outlinewidth\": 0, \"ticks\": \"\"}, \"type\": \"contourcarpet\"}], \"heatmap\": [{\"colorbar\": {\"outlinewidth\": 0, \"ticks\": \"\"}, \"colorscale\": [[0.0, \"#0d0887\"], [0.1111111111111111, \"#46039f\"], [0.2222222222222222, \"#7201a8\"], [0.3333333333333333, \"#9c179e\"], [0.4444444444444444, \"#bd3786\"], [0.5555555555555556, \"#d8576b\"], [0.6666666666666666, \"#ed7953\"], [0.7777777777777778, \"#fb9f3a\"], [0.8888888888888888, \"#fdca26\"], [1.0, \"#f0f921\"]], \"type\": \"heatmap\"}], \"heatmapgl\": [{\"colorbar\": {\"outlinewidth\": 0, \"ticks\": \"\"}, \"colorscale\": [[0.0, \"#0d0887\"], [0.1111111111111111, \"#46039f\"], [0.2222222222222222, \"#7201a8\"], [0.3333333333333333, \"#9c179e\"], [0.4444444444444444, \"#bd3786\"], [0.5555555555555556, \"#d8576b\"], [0.6666666666666666, \"#ed7953\"], [0.7777777777777778, \"#fb9f3a\"], [0.8888888888888888, \"#fdca26\"], [1.0, \"#f0f921\"]], \"type\": \"heatmapgl\"}], \"histogram\": [{\"marker\": {\"colorbar\": {\"outlinewidth\": 0, \"ticks\": \"\"}}, \"type\": \"histogram\"}], \"histogram2d\": [{\"colorbar\": {\"outlinewidth\": 0, \"ticks\": \"\"}, \"colorscale\": [[0.0, \"#0d0887\"], [0.1111111111111111, \"#46039f\"], [0.2222222222222222, \"#7201a8\"], [0.3333333333333333, \"#9c179e\"], [0.4444444444444444, \"#bd3786\"], [0.5555555555555556, \"#d8576b\"], [0.6666666666666666, \"#ed7953\"], [0.7777777777777778, \"#fb9f3a\"], [0.8888888888888888, \"#fdca26\"], [1.0, \"#f0f921\"]], \"type\": \"histogram2d\"}], \"histogram2dcontour\": [{\"colorbar\": {\"outlinewidth\": 0, \"ticks\": \"\"}, \"colorscale\": [[0.0, \"#0d0887\"], [0.1111111111111111, \"#46039f\"], [0.2222222222222222, \"#7201a8\"], [0.3333333333333333, \"#9c179e\"], [0.4444444444444444, \"#bd3786\"], [0.5555555555555556, \"#d8576b\"], [0.6666666666666666, \"#ed7953\"], [0.7777777777777778, \"#fb9f3a\"], [0.8888888888888888, \"#fdca26\"], [1.0, \"#f0f921\"]], \"type\": \"histogram2dcontour\"}], \"mesh3d\": [{\"colorbar\": {\"outlinewidth\": 0, \"ticks\": \"\"}, \"type\": \"mesh3d\"}], \"parcoords\": [{\"line\": {\"colorbar\": {\"outlinewidth\": 0, \"ticks\": \"\"}}, \"type\": \"parcoords\"}], \"pie\": [{\"automargin\": true, \"type\": \"pie\"}], \"scatter\": [{\"marker\": {\"colorbar\": {\"outlinewidth\": 0, \"ticks\": \"\"}}, \"type\": \"scatter\"}], \"scatter3d\": [{\"line\": {\"colorbar\": {\"outlinewidth\": 0, \"ticks\": \"\"}}, \"marker\": {\"colorbar\": {\"outlinewidth\": 0, \"ticks\": \"\"}}, \"type\": \"scatter3d\"}], \"scattercarpet\": [{\"marker\": {\"colorbar\": {\"outlinewidth\": 0, \"ticks\": \"\"}}, \"type\": \"scattercarpet\"}], \"scattergeo\": [{\"marker\": {\"colorbar\": {\"outlinewidth\": 0, \"ticks\": \"\"}}, \"type\": \"scattergeo\"}], \"scattergl\": [{\"marker\": {\"colorbar\": {\"outlinewidth\": 0, \"ticks\": \"\"}}, \"type\": \"scattergl\"}], \"scattermapbox\": [{\"marker\": {\"colorbar\": {\"outlinewidth\": 0, \"ticks\": \"\"}}, \"type\": \"scattermapbox\"}], \"scatterpolar\": [{\"marker\": {\"colorbar\": {\"outlinewidth\": 0, \"ticks\": \"\"}}, \"type\": \"scatterpolar\"}], \"scatterpolargl\": [{\"marker\": {\"colorbar\": {\"outlinewidth\": 0, \"ticks\": \"\"}}, \"type\": \"scatterpolargl\"}], \"scatterternary\": [{\"marker\": {\"colorbar\": {\"outlinewidth\": 0, \"ticks\": \"\"}}, \"type\": \"scatterternary\"}], \"surface\": [{\"colorbar\": {\"outlinewidth\": 0, \"ticks\": \"\"}, \"colorscale\": [[0.0, \"#0d0887\"], [0.1111111111111111, \"#46039f\"], [0.2222222222222222, \"#7201a8\"], [0.3333333333333333, \"#9c179e\"], [0.4444444444444444, \"#bd3786\"], [0.5555555555555556, \"#d8576b\"], [0.6666666666666666, \"#ed7953\"], [0.7777777777777778, \"#fb9f3a\"], [0.8888888888888888, \"#fdca26\"], [1.0, \"#f0f921\"]], \"type\": \"surface\"}], \"table\": [{\"cells\": {\"fill\": {\"color\": \"#EBF0F8\"}, \"line\": {\"color\": \"white\"}}, \"header\": {\"fill\": {\"color\": \"#C8D4E3\"}, \"line\": {\"color\": \"white\"}}, \"type\": \"table\"}]}, \"layout\": {\"annotationdefaults\": {\"arrowcolor\": \"#2a3f5f\", \"arrowhead\": 0, \"arrowwidth\": 1}, \"coloraxis\": {\"colorbar\": {\"outlinewidth\": 0, \"ticks\": \"\"}}, \"colorscale\": {\"diverging\": [[0, \"#8e0152\"], [0.1, \"#c51b7d\"], [0.2, \"#de77ae\"], [0.3, \"#f1b6da\"], [0.4, \"#fde0ef\"], [0.5, \"#f7f7f7\"], [0.6, \"#e6f5d0\"], [0.7, \"#b8e186\"], [0.8, \"#7fbc41\"], [0.9, \"#4d9221\"], [1, \"#276419\"]], \"sequential\": [[0.0, \"#0d0887\"], [0.1111111111111111, \"#46039f\"], [0.2222222222222222, \"#7201a8\"], [0.3333333333333333, \"#9c179e\"], [0.4444444444444444, \"#bd3786\"], [0.5555555555555556, \"#d8576b\"], [0.6666666666666666, \"#ed7953\"], [0.7777777777777778, \"#fb9f3a\"], [0.8888888888888888, \"#fdca26\"], [1.0, \"#f0f921\"]], \"sequentialminus\": [[0.0, \"#0d0887\"], [0.1111111111111111, \"#46039f\"], [0.2222222222222222, \"#7201a8\"], [0.3333333333333333, \"#9c179e\"], [0.4444444444444444, \"#bd3786\"], [0.5555555555555556, \"#d8576b\"], [0.6666666666666666, \"#ed7953\"], [0.7777777777777778, \"#fb9f3a\"], [0.8888888888888888, \"#fdca26\"], [1.0, \"#f0f921\"]]}, \"colorway\": [\"#636efa\", \"#EF553B\", \"#00cc96\", \"#ab63fa\", \"#FFA15A\", \"#19d3f3\", \"#FF6692\", \"#B6E880\", \"#FF97FF\", \"#FECB52\"], \"font\": {\"color\": \"#2a3f5f\"}, \"geo\": {\"bgcolor\": \"white\", \"lakecolor\": \"white\", \"landcolor\": \"#E5ECF6\", \"showlakes\": true, \"showland\": true, \"subunitcolor\": \"white\"}, \"hoverlabel\": {\"align\": \"left\"}, \"hovermode\": \"closest\", \"mapbox\": {\"style\": \"light\"}, \"paper_bgcolor\": \"white\", \"plot_bgcolor\": \"#E5ECF6\", \"polar\": {\"angularaxis\": {\"gridcolor\": \"white\", \"linecolor\": \"white\", \"ticks\": \"\"}, \"bgcolor\": \"#E5ECF6\", \"radialaxis\": {\"gridcolor\": \"white\", \"linecolor\": \"white\", \"ticks\": \"\"}}, \"scene\": {\"xaxis\": {\"backgroundcolor\": \"#E5ECF6\", \"gridcolor\": \"white\", \"gridwidth\": 2, \"linecolor\": \"white\", \"showbackground\": true, \"ticks\": \"\", \"zerolinecolor\": \"white\"}, \"yaxis\": {\"backgroundcolor\": \"#E5ECF6\", \"gridcolor\": \"white\", \"gridwidth\": 2, \"linecolor\": \"white\", \"showbackground\": true, \"ticks\": \"\", \"zerolinecolor\": \"white\"}, \"zaxis\": {\"backgroundcolor\": \"#E5ECF6\", \"gridcolor\": \"white\", \"gridwidth\": 2, \"linecolor\": \"white\", \"showbackground\": true, \"ticks\": \"\", \"zerolinecolor\": \"white\"}}, \"shapedefaults\": {\"line\": {\"color\": \"#2a3f5f\"}}, \"ternary\": {\"aaxis\": {\"gridcolor\": \"white\", \"linecolor\": \"white\", \"ticks\": \"\"}, \"baxis\": {\"gridcolor\": \"white\", \"linecolor\": \"white\", \"ticks\": \"\"}, \"bgcolor\": \"#E5ECF6\", \"caxis\": {\"gridcolor\": \"white\", \"linecolor\": \"white\", \"ticks\": \"\"}}, \"title\": {\"x\": 0.05}, \"xaxis\": {\"automargin\": true, \"gridcolor\": \"white\", \"linecolor\": \"white\", \"ticks\": \"\", \"title\": {\"standoff\": 15}, \"zerolinecolor\": \"white\", \"zerolinewidth\": 2}, \"yaxis\": {\"automargin\": true, \"gridcolor\": \"white\", \"linecolor\": \"white\", \"ticks\": \"\", \"title\": {\"standoff\": 15}, \"zerolinecolor\": \"white\", \"zerolinewidth\": 2}}}, \"title\": {\"text\": \"December Airbnb Costs\", \"x\": 0.5}, \"width\": 1000, \"xaxis\": {\"anchor\": \"y\", \"domain\": [0.0, 1.0], \"title\": {\"text\": \"Ski Resort\"}}, \"yaxis\": {\"anchor\": \"x\", \"domain\": [0.0, 1.0], \"title\": {\"text\": \"Nightly Price ($)\"}}},                        {\"responsive\": true}                    ).then(function(){\n",
       "                            \n",
       "var gd = document.getElementById('a789892a-92b6-4d40-b624-e131e1c6d47e');\n",
       "var x = new MutationObserver(function (mutations, observer) {{\n",
       "        var display = window.getComputedStyle(gd).display;\n",
       "        if (!display || display === 'none') {{\n",
       "            console.log([gd, 'removed!']);\n",
       "            Plotly.purge(gd);\n",
       "            observer.disconnect();\n",
       "        }}\n",
       "}});\n",
       "\n",
       "// Listen for the removal of the full notebook cells\n",
       "var notebookContainer = gd.closest('#notebook-container');\n",
       "if (notebookContainer) {{\n",
       "    x.observe(notebookContainer, {childList: true});\n",
       "}}\n",
       "\n",
       "// Listen for the clearing of the current output cell\n",
       "var outputEl = gd.closest('.output');\n",
       "if (outputEl) {{\n",
       "    x.observe(outputEl, {childList: true});\n",
       "}}\n",
       "\n",
       "                        })                };                });            </script>        </div>"
      ]
     },
     "metadata": {},
     "output_type": "display_data"
    }
   ],
   "source": [
    "#using plotly to plot the top featurescolor=\n",
    "fig = px.bar(content_df.head(), x=\"ski_resort\", y=[\"dec_min_2_guests\", \"dec_min_4_guests\"],\n",
    "            width=1000, height=500)\n",
    "fig.update_layout(title_text='December Airbnb Costs',\n",
    "                  title_x=0.5,\n",
    "                  xaxis_title=\"Ski Resort\",\n",
    "                  yaxis_title=\"Nightly Price ($)\",\n",
    "                 plot_bgcolor='white',\n",
    "                 font=dict(size=14),\n",
    "                 barmode='group')\n",
    "\n",
    "newnames = {'dec_min_2_guests':'2 Guest Max', 'dec_min_4_guests': '4 Guest Max'}\n",
    "fig.for_each_trace(lambda t: t.update(name = newnames[t.name],\n",
    "                                      legendgroup = newnames[t.name],\n",
    "                                      hovertemplate = t.hovertemplate.replace(t.name, newnames[t.name])\n",
    "                                     )\n",
    "                  )\n",
    "\n",
    "fig.update_traces(textposition='outside')               \n",
    "              \n",
    "fig.show()"
   ]
  },
  {
   "cell_type": "markdown",
   "metadata": {},
   "source": [
    "## Elevation graph"
   ]
  },
  {
   "cell_type": "code",
   "execution_count": 184,
   "metadata": {},
   "outputs": [],
   "source": [
    "def mountain_elevation(resort_name):\n",
    "\n",
    "    resort_df = content_df.loc[content_df['ski_resort'] == resort_name]\n",
    "    \n",
    "    # elevation\n",
    "    base_elevation = resort_df['base'].values[0]\n",
    "    summit_elevation = resort_df['sumt'].values[0]\n",
    "\n",
    "    # traving elevation\n",
    "    elev_trace = go.Scatter(x=[\"base\", \"summit\", \"drop\"], y=[base_elevation, summit_elevation, base_elevation], mode='lines', line=dict(color='blue'))\n",
    "\n",
    "    # displaying plot\n",
    "    layout = go.Layout(\n",
    "        title='Elevation Change',\n",
    "        yaxis=dict(title='Elevation'),\n",
    "        plot_bgcolor='white',\n",
    "        showlegend=False\n",
    "    )\n",
    "    \n",
    "    # making figure\n",
    "    fig = go.Figure(data=[elev_trace], layout=layout)\n",
    "\n",
    "    # Showing the line plot\n",
    "    fig.show()"
   ]
  },
  {
   "cell_type": "code",
   "execution_count": 185,
   "metadata": {},
   "outputs": [
    {
     "data": {
      "application/vnd.plotly.v1+json": {
       "config": {
        "plotlyServerURL": "https://plot.ly"
       },
       "data": [
        {
         "line": {
          "color": "blue"
         },
         "mode": "lines",
         "type": "scatter",
         "x": [
          "base",
          "summit",
          "drop"
         ],
         "y": [
          10780,
          13050,
          10780
         ]
        }
       ],
       "layout": {
        "plot_bgcolor": "white",
        "showlegend": false,
        "template": {
         "data": {
          "bar": [
           {
            "error_x": {
             "color": "#2a3f5f"
            },
            "error_y": {
             "color": "#2a3f5f"
            },
            "marker": {
             "line": {
              "color": "#E5ECF6",
              "width": 0.5
             }
            },
            "type": "bar"
           }
          ],
          "barpolar": [
           {
            "marker": {
             "line": {
              "color": "#E5ECF6",
              "width": 0.5
             }
            },
            "type": "barpolar"
           }
          ],
          "carpet": [
           {
            "aaxis": {
             "endlinecolor": "#2a3f5f",
             "gridcolor": "white",
             "linecolor": "white",
             "minorgridcolor": "white",
             "startlinecolor": "#2a3f5f"
            },
            "baxis": {
             "endlinecolor": "#2a3f5f",
             "gridcolor": "white",
             "linecolor": "white",
             "minorgridcolor": "white",
             "startlinecolor": "#2a3f5f"
            },
            "type": "carpet"
           }
          ],
          "choropleth": [
           {
            "colorbar": {
             "outlinewidth": 0,
             "ticks": ""
            },
            "type": "choropleth"
           }
          ],
          "contour": [
           {
            "colorbar": {
             "outlinewidth": 0,
             "ticks": ""
            },
            "colorscale": [
             [
              0,
              "#0d0887"
             ],
             [
              0.1111111111111111,
              "#46039f"
             ],
             [
              0.2222222222222222,
              "#7201a8"
             ],
             [
              0.3333333333333333,
              "#9c179e"
             ],
             [
              0.4444444444444444,
              "#bd3786"
             ],
             [
              0.5555555555555556,
              "#d8576b"
             ],
             [
              0.6666666666666666,
              "#ed7953"
             ],
             [
              0.7777777777777778,
              "#fb9f3a"
             ],
             [
              0.8888888888888888,
              "#fdca26"
             ],
             [
              1,
              "#f0f921"
             ]
            ],
            "type": "contour"
           }
          ],
          "contourcarpet": [
           {
            "colorbar": {
             "outlinewidth": 0,
             "ticks": ""
            },
            "type": "contourcarpet"
           }
          ],
          "heatmap": [
           {
            "colorbar": {
             "outlinewidth": 0,
             "ticks": ""
            },
            "colorscale": [
             [
              0,
              "#0d0887"
             ],
             [
              0.1111111111111111,
              "#46039f"
             ],
             [
              0.2222222222222222,
              "#7201a8"
             ],
             [
              0.3333333333333333,
              "#9c179e"
             ],
             [
              0.4444444444444444,
              "#bd3786"
             ],
             [
              0.5555555555555556,
              "#d8576b"
             ],
             [
              0.6666666666666666,
              "#ed7953"
             ],
             [
              0.7777777777777778,
              "#fb9f3a"
             ],
             [
              0.8888888888888888,
              "#fdca26"
             ],
             [
              1,
              "#f0f921"
             ]
            ],
            "type": "heatmap"
           }
          ],
          "heatmapgl": [
           {
            "colorbar": {
             "outlinewidth": 0,
             "ticks": ""
            },
            "colorscale": [
             [
              0,
              "#0d0887"
             ],
             [
              0.1111111111111111,
              "#46039f"
             ],
             [
              0.2222222222222222,
              "#7201a8"
             ],
             [
              0.3333333333333333,
              "#9c179e"
             ],
             [
              0.4444444444444444,
              "#bd3786"
             ],
             [
              0.5555555555555556,
              "#d8576b"
             ],
             [
              0.6666666666666666,
              "#ed7953"
             ],
             [
              0.7777777777777778,
              "#fb9f3a"
             ],
             [
              0.8888888888888888,
              "#fdca26"
             ],
             [
              1,
              "#f0f921"
             ]
            ],
            "type": "heatmapgl"
           }
          ],
          "histogram": [
           {
            "marker": {
             "colorbar": {
              "outlinewidth": 0,
              "ticks": ""
             }
            },
            "type": "histogram"
           }
          ],
          "histogram2d": [
           {
            "colorbar": {
             "outlinewidth": 0,
             "ticks": ""
            },
            "colorscale": [
             [
              0,
              "#0d0887"
             ],
             [
              0.1111111111111111,
              "#46039f"
             ],
             [
              0.2222222222222222,
              "#7201a8"
             ],
             [
              0.3333333333333333,
              "#9c179e"
             ],
             [
              0.4444444444444444,
              "#bd3786"
             ],
             [
              0.5555555555555556,
              "#d8576b"
             ],
             [
              0.6666666666666666,
              "#ed7953"
             ],
             [
              0.7777777777777778,
              "#fb9f3a"
             ],
             [
              0.8888888888888888,
              "#fdca26"
             ],
             [
              1,
              "#f0f921"
             ]
            ],
            "type": "histogram2d"
           }
          ],
          "histogram2dcontour": [
           {
            "colorbar": {
             "outlinewidth": 0,
             "ticks": ""
            },
            "colorscale": [
             [
              0,
              "#0d0887"
             ],
             [
              0.1111111111111111,
              "#46039f"
             ],
             [
              0.2222222222222222,
              "#7201a8"
             ],
             [
              0.3333333333333333,
              "#9c179e"
             ],
             [
              0.4444444444444444,
              "#bd3786"
             ],
             [
              0.5555555555555556,
              "#d8576b"
             ],
             [
              0.6666666666666666,
              "#ed7953"
             ],
             [
              0.7777777777777778,
              "#fb9f3a"
             ],
             [
              0.8888888888888888,
              "#fdca26"
             ],
             [
              1,
              "#f0f921"
             ]
            ],
            "type": "histogram2dcontour"
           }
          ],
          "mesh3d": [
           {
            "colorbar": {
             "outlinewidth": 0,
             "ticks": ""
            },
            "type": "mesh3d"
           }
          ],
          "parcoords": [
           {
            "line": {
             "colorbar": {
              "outlinewidth": 0,
              "ticks": ""
             }
            },
            "type": "parcoords"
           }
          ],
          "pie": [
           {
            "automargin": true,
            "type": "pie"
           }
          ],
          "scatter": [
           {
            "marker": {
             "colorbar": {
              "outlinewidth": 0,
              "ticks": ""
             }
            },
            "type": "scatter"
           }
          ],
          "scatter3d": [
           {
            "line": {
             "colorbar": {
              "outlinewidth": 0,
              "ticks": ""
             }
            },
            "marker": {
             "colorbar": {
              "outlinewidth": 0,
              "ticks": ""
             }
            },
            "type": "scatter3d"
           }
          ],
          "scattercarpet": [
           {
            "marker": {
             "colorbar": {
              "outlinewidth": 0,
              "ticks": ""
             }
            },
            "type": "scattercarpet"
           }
          ],
          "scattergeo": [
           {
            "marker": {
             "colorbar": {
              "outlinewidth": 0,
              "ticks": ""
             }
            },
            "type": "scattergeo"
           }
          ],
          "scattergl": [
           {
            "marker": {
             "colorbar": {
              "outlinewidth": 0,
              "ticks": ""
             }
            },
            "type": "scattergl"
           }
          ],
          "scattermapbox": [
           {
            "marker": {
             "colorbar": {
              "outlinewidth": 0,
              "ticks": ""
             }
            },
            "type": "scattermapbox"
           }
          ],
          "scatterpolar": [
           {
            "marker": {
             "colorbar": {
              "outlinewidth": 0,
              "ticks": ""
             }
            },
            "type": "scatterpolar"
           }
          ],
          "scatterpolargl": [
           {
            "marker": {
             "colorbar": {
              "outlinewidth": 0,
              "ticks": ""
             }
            },
            "type": "scatterpolargl"
           }
          ],
          "scatterternary": [
           {
            "marker": {
             "colorbar": {
              "outlinewidth": 0,
              "ticks": ""
             }
            },
            "type": "scatterternary"
           }
          ],
          "surface": [
           {
            "colorbar": {
             "outlinewidth": 0,
             "ticks": ""
            },
            "colorscale": [
             [
              0,
              "#0d0887"
             ],
             [
              0.1111111111111111,
              "#46039f"
             ],
             [
              0.2222222222222222,
              "#7201a8"
             ],
             [
              0.3333333333333333,
              "#9c179e"
             ],
             [
              0.4444444444444444,
              "#bd3786"
             ],
             [
              0.5555555555555556,
              "#d8576b"
             ],
             [
              0.6666666666666666,
              "#ed7953"
             ],
             [
              0.7777777777777778,
              "#fb9f3a"
             ],
             [
              0.8888888888888888,
              "#fdca26"
             ],
             [
              1,
              "#f0f921"
             ]
            ],
            "type": "surface"
           }
          ],
          "table": [
           {
            "cells": {
             "fill": {
              "color": "#EBF0F8"
             },
             "line": {
              "color": "white"
             }
            },
            "header": {
             "fill": {
              "color": "#C8D4E3"
             },
             "line": {
              "color": "white"
             }
            },
            "type": "table"
           }
          ]
         },
         "layout": {
          "annotationdefaults": {
           "arrowcolor": "#2a3f5f",
           "arrowhead": 0,
           "arrowwidth": 1
          },
          "coloraxis": {
           "colorbar": {
            "outlinewidth": 0,
            "ticks": ""
           }
          },
          "colorscale": {
           "diverging": [
            [
             0,
             "#8e0152"
            ],
            [
             0.1,
             "#c51b7d"
            ],
            [
             0.2,
             "#de77ae"
            ],
            [
             0.3,
             "#f1b6da"
            ],
            [
             0.4,
             "#fde0ef"
            ],
            [
             0.5,
             "#f7f7f7"
            ],
            [
             0.6,
             "#e6f5d0"
            ],
            [
             0.7,
             "#b8e186"
            ],
            [
             0.8,
             "#7fbc41"
            ],
            [
             0.9,
             "#4d9221"
            ],
            [
             1,
             "#276419"
            ]
           ],
           "sequential": [
            [
             0,
             "#0d0887"
            ],
            [
             0.1111111111111111,
             "#46039f"
            ],
            [
             0.2222222222222222,
             "#7201a8"
            ],
            [
             0.3333333333333333,
             "#9c179e"
            ],
            [
             0.4444444444444444,
             "#bd3786"
            ],
            [
             0.5555555555555556,
             "#d8576b"
            ],
            [
             0.6666666666666666,
             "#ed7953"
            ],
            [
             0.7777777777777778,
             "#fb9f3a"
            ],
            [
             0.8888888888888888,
             "#fdca26"
            ],
            [
             1,
             "#f0f921"
            ]
           ],
           "sequentialminus": [
            [
             0,
             "#0d0887"
            ],
            [
             0.1111111111111111,
             "#46039f"
            ],
            [
             0.2222222222222222,
             "#7201a8"
            ],
            [
             0.3333333333333333,
             "#9c179e"
            ],
            [
             0.4444444444444444,
             "#bd3786"
            ],
            [
             0.5555555555555556,
             "#d8576b"
            ],
            [
             0.6666666666666666,
             "#ed7953"
            ],
            [
             0.7777777777777778,
             "#fb9f3a"
            ],
            [
             0.8888888888888888,
             "#fdca26"
            ],
            [
             1,
             "#f0f921"
            ]
           ]
          },
          "colorway": [
           "#636efa",
           "#EF553B",
           "#00cc96",
           "#ab63fa",
           "#FFA15A",
           "#19d3f3",
           "#FF6692",
           "#B6E880",
           "#FF97FF",
           "#FECB52"
          ],
          "font": {
           "color": "#2a3f5f"
          },
          "geo": {
           "bgcolor": "white",
           "lakecolor": "white",
           "landcolor": "#E5ECF6",
           "showlakes": true,
           "showland": true,
           "subunitcolor": "white"
          },
          "hoverlabel": {
           "align": "left"
          },
          "hovermode": "closest",
          "mapbox": {
           "style": "light"
          },
          "paper_bgcolor": "white",
          "plot_bgcolor": "#E5ECF6",
          "polar": {
           "angularaxis": {
            "gridcolor": "white",
            "linecolor": "white",
            "ticks": ""
           },
           "bgcolor": "#E5ECF6",
           "radialaxis": {
            "gridcolor": "white",
            "linecolor": "white",
            "ticks": ""
           }
          },
          "scene": {
           "xaxis": {
            "backgroundcolor": "#E5ECF6",
            "gridcolor": "white",
            "gridwidth": 2,
            "linecolor": "white",
            "showbackground": true,
            "ticks": "",
            "zerolinecolor": "white"
           },
           "yaxis": {
            "backgroundcolor": "#E5ECF6",
            "gridcolor": "white",
            "gridwidth": 2,
            "linecolor": "white",
            "showbackground": true,
            "ticks": "",
            "zerolinecolor": "white"
           },
           "zaxis": {
            "backgroundcolor": "#E5ECF6",
            "gridcolor": "white",
            "gridwidth": 2,
            "linecolor": "white",
            "showbackground": true,
            "ticks": "",
            "zerolinecolor": "white"
           }
          },
          "shapedefaults": {
           "line": {
            "color": "#2a3f5f"
           }
          },
          "ternary": {
           "aaxis": {
            "gridcolor": "white",
            "linecolor": "white",
            "ticks": ""
           },
           "baxis": {
            "gridcolor": "white",
            "linecolor": "white",
            "ticks": ""
           },
           "bgcolor": "#E5ECF6",
           "caxis": {
            "gridcolor": "white",
            "linecolor": "white",
            "ticks": ""
           }
          },
          "title": {
           "x": 0.05
          },
          "xaxis": {
           "automargin": true,
           "gridcolor": "white",
           "linecolor": "white",
           "ticks": "",
           "title": {
            "standoff": 15
           },
           "zerolinecolor": "white",
           "zerolinewidth": 2
          },
          "yaxis": {
           "automargin": true,
           "gridcolor": "white",
           "linecolor": "white",
           "ticks": "",
           "title": {
            "standoff": 15
           },
           "zerolinecolor": "white",
           "zerolinewidth": 2
          }
         }
        },
        "title": {
         "text": "Elevation Change"
        },
        "yaxis": {
         "title": {
          "text": "Elevation"
         }
        }
       }
      },
      "text/html": [
       "<div>                            <div id=\"0f1fcddc-a344-4eb7-8074-5cb3b7277215\" class=\"plotly-graph-div\" style=\"height:525px; width:100%;\"></div>            <script type=\"text/javascript\">                require([\"plotly\"], function(Plotly) {                    window.PLOTLYENV=window.PLOTLYENV || {};                                    if (document.getElementById(\"0f1fcddc-a344-4eb7-8074-5cb3b7277215\")) {                    Plotly.newPlot(                        \"0f1fcddc-a344-4eb7-8074-5cb3b7277215\",                        [{\"line\": {\"color\": \"blue\"}, \"mode\": \"lines\", \"type\": \"scatter\", \"x\": [\"base\", \"summit\", \"drop\"], \"y\": [10780, 13050, 10780]}],                        {\"plot_bgcolor\": \"white\", \"showlegend\": false, \"template\": {\"data\": {\"bar\": [{\"error_x\": {\"color\": \"#2a3f5f\"}, \"error_y\": {\"color\": \"#2a3f5f\"}, \"marker\": {\"line\": {\"color\": \"#E5ECF6\", \"width\": 0.5}}, \"type\": \"bar\"}], \"barpolar\": [{\"marker\": {\"line\": {\"color\": \"#E5ECF6\", \"width\": 0.5}}, \"type\": \"barpolar\"}], \"carpet\": [{\"aaxis\": {\"endlinecolor\": \"#2a3f5f\", \"gridcolor\": \"white\", \"linecolor\": \"white\", \"minorgridcolor\": \"white\", \"startlinecolor\": \"#2a3f5f\"}, \"baxis\": {\"endlinecolor\": \"#2a3f5f\", \"gridcolor\": \"white\", \"linecolor\": \"white\", \"minorgridcolor\": \"white\", \"startlinecolor\": \"#2a3f5f\"}, \"type\": \"carpet\"}], \"choropleth\": [{\"colorbar\": {\"outlinewidth\": 0, \"ticks\": \"\"}, \"type\": \"choropleth\"}], \"contour\": [{\"colorbar\": {\"outlinewidth\": 0, \"ticks\": \"\"}, \"colorscale\": [[0.0, \"#0d0887\"], [0.1111111111111111, \"#46039f\"], [0.2222222222222222, \"#7201a8\"], [0.3333333333333333, \"#9c179e\"], [0.4444444444444444, \"#bd3786\"], [0.5555555555555556, \"#d8576b\"], [0.6666666666666666, \"#ed7953\"], [0.7777777777777778, \"#fb9f3a\"], [0.8888888888888888, \"#fdca26\"], [1.0, \"#f0f921\"]], \"type\": \"contour\"}], \"contourcarpet\": [{\"colorbar\": {\"outlinewidth\": 0, \"ticks\": \"\"}, \"type\": \"contourcarpet\"}], \"heatmap\": [{\"colorbar\": {\"outlinewidth\": 0, \"ticks\": \"\"}, \"colorscale\": [[0.0, \"#0d0887\"], [0.1111111111111111, \"#46039f\"], [0.2222222222222222, \"#7201a8\"], [0.3333333333333333, \"#9c179e\"], [0.4444444444444444, \"#bd3786\"], [0.5555555555555556, \"#d8576b\"], [0.6666666666666666, \"#ed7953\"], [0.7777777777777778, \"#fb9f3a\"], [0.8888888888888888, \"#fdca26\"], [1.0, \"#f0f921\"]], \"type\": \"heatmap\"}], \"heatmapgl\": [{\"colorbar\": {\"outlinewidth\": 0, \"ticks\": \"\"}, \"colorscale\": [[0.0, \"#0d0887\"], [0.1111111111111111, \"#46039f\"], [0.2222222222222222, \"#7201a8\"], [0.3333333333333333, \"#9c179e\"], [0.4444444444444444, \"#bd3786\"], [0.5555555555555556, \"#d8576b\"], [0.6666666666666666, \"#ed7953\"], [0.7777777777777778, \"#fb9f3a\"], [0.8888888888888888, \"#fdca26\"], [1.0, \"#f0f921\"]], \"type\": \"heatmapgl\"}], \"histogram\": [{\"marker\": {\"colorbar\": {\"outlinewidth\": 0, \"ticks\": \"\"}}, \"type\": \"histogram\"}], \"histogram2d\": [{\"colorbar\": {\"outlinewidth\": 0, \"ticks\": \"\"}, \"colorscale\": [[0.0, \"#0d0887\"], [0.1111111111111111, \"#46039f\"], [0.2222222222222222, \"#7201a8\"], [0.3333333333333333, \"#9c179e\"], [0.4444444444444444, \"#bd3786\"], [0.5555555555555556, \"#d8576b\"], [0.6666666666666666, \"#ed7953\"], [0.7777777777777778, \"#fb9f3a\"], [0.8888888888888888, \"#fdca26\"], [1.0, \"#f0f921\"]], \"type\": \"histogram2d\"}], \"histogram2dcontour\": [{\"colorbar\": {\"outlinewidth\": 0, \"ticks\": \"\"}, \"colorscale\": [[0.0, \"#0d0887\"], [0.1111111111111111, \"#46039f\"], [0.2222222222222222, \"#7201a8\"], [0.3333333333333333, \"#9c179e\"], [0.4444444444444444, \"#bd3786\"], [0.5555555555555556, \"#d8576b\"], [0.6666666666666666, \"#ed7953\"], [0.7777777777777778, \"#fb9f3a\"], [0.8888888888888888, \"#fdca26\"], [1.0, \"#f0f921\"]], \"type\": \"histogram2dcontour\"}], \"mesh3d\": [{\"colorbar\": {\"outlinewidth\": 0, \"ticks\": \"\"}, \"type\": \"mesh3d\"}], \"parcoords\": [{\"line\": {\"colorbar\": {\"outlinewidth\": 0, \"ticks\": \"\"}}, \"type\": \"parcoords\"}], \"pie\": [{\"automargin\": true, \"type\": \"pie\"}], \"scatter\": [{\"marker\": {\"colorbar\": {\"outlinewidth\": 0, \"ticks\": \"\"}}, \"type\": \"scatter\"}], \"scatter3d\": [{\"line\": {\"colorbar\": {\"outlinewidth\": 0, \"ticks\": \"\"}}, \"marker\": {\"colorbar\": {\"outlinewidth\": 0, \"ticks\": \"\"}}, \"type\": \"scatter3d\"}], \"scattercarpet\": [{\"marker\": {\"colorbar\": {\"outlinewidth\": 0, \"ticks\": \"\"}}, \"type\": \"scattercarpet\"}], \"scattergeo\": [{\"marker\": {\"colorbar\": {\"outlinewidth\": 0, \"ticks\": \"\"}}, \"type\": \"scattergeo\"}], \"scattergl\": [{\"marker\": {\"colorbar\": {\"outlinewidth\": 0, \"ticks\": \"\"}}, \"type\": \"scattergl\"}], \"scattermapbox\": [{\"marker\": {\"colorbar\": {\"outlinewidth\": 0, \"ticks\": \"\"}}, \"type\": \"scattermapbox\"}], \"scatterpolar\": [{\"marker\": {\"colorbar\": {\"outlinewidth\": 0, \"ticks\": \"\"}}, \"type\": \"scatterpolar\"}], \"scatterpolargl\": [{\"marker\": {\"colorbar\": {\"outlinewidth\": 0, \"ticks\": \"\"}}, \"type\": \"scatterpolargl\"}], \"scatterternary\": [{\"marker\": {\"colorbar\": {\"outlinewidth\": 0, \"ticks\": \"\"}}, \"type\": \"scatterternary\"}], \"surface\": [{\"colorbar\": {\"outlinewidth\": 0, \"ticks\": \"\"}, \"colorscale\": [[0.0, \"#0d0887\"], [0.1111111111111111, \"#46039f\"], [0.2222222222222222, \"#7201a8\"], [0.3333333333333333, \"#9c179e\"], [0.4444444444444444, \"#bd3786\"], [0.5555555555555556, \"#d8576b\"], [0.6666666666666666, \"#ed7953\"], [0.7777777777777778, \"#fb9f3a\"], [0.8888888888888888, \"#fdca26\"], [1.0, \"#f0f921\"]], \"type\": \"surface\"}], \"table\": [{\"cells\": {\"fill\": {\"color\": \"#EBF0F8\"}, \"line\": {\"color\": \"white\"}}, \"header\": {\"fill\": {\"color\": \"#C8D4E3\"}, \"line\": {\"color\": \"white\"}}, \"type\": \"table\"}]}, \"layout\": {\"annotationdefaults\": {\"arrowcolor\": \"#2a3f5f\", \"arrowhead\": 0, \"arrowwidth\": 1}, \"coloraxis\": {\"colorbar\": {\"outlinewidth\": 0, \"ticks\": \"\"}}, \"colorscale\": {\"diverging\": [[0, \"#8e0152\"], [0.1, \"#c51b7d\"], [0.2, \"#de77ae\"], [0.3, \"#f1b6da\"], [0.4, \"#fde0ef\"], [0.5, \"#f7f7f7\"], [0.6, \"#e6f5d0\"], [0.7, \"#b8e186\"], [0.8, \"#7fbc41\"], [0.9, \"#4d9221\"], [1, \"#276419\"]], \"sequential\": [[0.0, \"#0d0887\"], [0.1111111111111111, \"#46039f\"], [0.2222222222222222, \"#7201a8\"], [0.3333333333333333, \"#9c179e\"], [0.4444444444444444, \"#bd3786\"], [0.5555555555555556, \"#d8576b\"], [0.6666666666666666, \"#ed7953\"], [0.7777777777777778, \"#fb9f3a\"], [0.8888888888888888, \"#fdca26\"], [1.0, \"#f0f921\"]], \"sequentialminus\": [[0.0, \"#0d0887\"], [0.1111111111111111, \"#46039f\"], [0.2222222222222222, \"#7201a8\"], [0.3333333333333333, \"#9c179e\"], [0.4444444444444444, \"#bd3786\"], [0.5555555555555556, \"#d8576b\"], [0.6666666666666666, \"#ed7953\"], [0.7777777777777778, \"#fb9f3a\"], [0.8888888888888888, \"#fdca26\"], [1.0, \"#f0f921\"]]}, \"colorway\": [\"#636efa\", \"#EF553B\", \"#00cc96\", \"#ab63fa\", \"#FFA15A\", \"#19d3f3\", \"#FF6692\", \"#B6E880\", \"#FF97FF\", \"#FECB52\"], \"font\": {\"color\": \"#2a3f5f\"}, \"geo\": {\"bgcolor\": \"white\", \"lakecolor\": \"white\", \"landcolor\": \"#E5ECF6\", \"showlakes\": true, \"showland\": true, \"subunitcolor\": \"white\"}, \"hoverlabel\": {\"align\": \"left\"}, \"hovermode\": \"closest\", \"mapbox\": {\"style\": \"light\"}, \"paper_bgcolor\": \"white\", \"plot_bgcolor\": \"#E5ECF6\", \"polar\": {\"angularaxis\": {\"gridcolor\": \"white\", \"linecolor\": \"white\", \"ticks\": \"\"}, \"bgcolor\": \"#E5ECF6\", \"radialaxis\": {\"gridcolor\": \"white\", \"linecolor\": \"white\", \"ticks\": \"\"}}, \"scene\": {\"xaxis\": {\"backgroundcolor\": \"#E5ECF6\", \"gridcolor\": \"white\", \"gridwidth\": 2, \"linecolor\": \"white\", \"showbackground\": true, \"ticks\": \"\", \"zerolinecolor\": \"white\"}, \"yaxis\": {\"backgroundcolor\": \"#E5ECF6\", \"gridcolor\": \"white\", \"gridwidth\": 2, \"linecolor\": \"white\", \"showbackground\": true, \"ticks\": \"\", \"zerolinecolor\": \"white\"}, \"zaxis\": {\"backgroundcolor\": \"#E5ECF6\", \"gridcolor\": \"white\", \"gridwidth\": 2, \"linecolor\": \"white\", \"showbackground\": true, \"ticks\": \"\", \"zerolinecolor\": \"white\"}}, \"shapedefaults\": {\"line\": {\"color\": \"#2a3f5f\"}}, \"ternary\": {\"aaxis\": {\"gridcolor\": \"white\", \"linecolor\": \"white\", \"ticks\": \"\"}, \"baxis\": {\"gridcolor\": \"white\", \"linecolor\": \"white\", \"ticks\": \"\"}, \"bgcolor\": \"#E5ECF6\", \"caxis\": {\"gridcolor\": \"white\", \"linecolor\": \"white\", \"ticks\": \"\"}}, \"title\": {\"x\": 0.05}, \"xaxis\": {\"automargin\": true, \"gridcolor\": \"white\", \"linecolor\": \"white\", \"ticks\": \"\", \"title\": {\"standoff\": 15}, \"zerolinecolor\": \"white\", \"zerolinewidth\": 2}, \"yaxis\": {\"automargin\": true, \"gridcolor\": \"white\", \"linecolor\": \"white\", \"ticks\": \"\", \"title\": {\"standoff\": 15}, \"zerolinecolor\": \"white\", \"zerolinewidth\": 2}}}, \"title\": {\"text\": \"Elevation Change\"}, \"yaxis\": {\"title\": {\"text\": \"Elevation\"}}},                        {\"responsive\": true}                    ).then(function(){\n",
       "                            \n",
       "var gd = document.getElementById('0f1fcddc-a344-4eb7-8074-5cb3b7277215');\n",
       "var x = new MutationObserver(function (mutations, observer) {{\n",
       "        var display = window.getComputedStyle(gd).display;\n",
       "        if (!display || display === 'none') {{\n",
       "            console.log([gd, 'removed!']);\n",
       "            Plotly.purge(gd);\n",
       "            observer.disconnect();\n",
       "        }}\n",
       "}});\n",
       "\n",
       "// Listen for the removal of the full notebook cells\n",
       "var notebookContainer = gd.closest('#notebook-container');\n",
       "if (notebookContainer) {{\n",
       "    x.observe(notebookContainer, {childList: true});\n",
       "}}\n",
       "\n",
       "// Listen for the clearing of the current output cell\n",
       "var outputEl = gd.closest('.output');\n",
       "if (outputEl) {{\n",
       "    x.observe(outputEl, {childList: true});\n",
       "}}\n",
       "\n",
       "                        })                };                });            </script>        </div>"
      ]
     },
     "metadata": {},
     "output_type": "display_data"
    }
   ],
   "source": [
    "mountain_elevation(\"Arapahoe Basin\")"
   ]
  },
  {
   "cell_type": "markdown",
   "metadata": {},
   "source": [
    "# Conclusion"
   ]
  },
  {
   "cell_type": "markdown",
   "metadata": {},
   "source": [
    "#### Review Dataset\n",
    "After cleaning and analyzing the data, there are **662 users, 275 resorts, and 2795 total reviews**. There is an imbalance in the reviews, however our final recommendation system will be a hybrid-cascade model, so this will help balance out the results."
   ]
  },
  {
   "cell_type": "code",
   "execution_count": 187,
   "metadata": {},
   "outputs": [
    {
     "name": "stdout",
     "output_type": "stream",
     "text": [
      "Number of unique users: 662\n",
      "Number of unique resorts: 275\n",
      "Number of reviews: 2795\n"
     ]
    }
   ],
   "source": [
    "unique_users = len(final_ski_df['user_name'].unique())\n",
    "unique_resorts = len(final_ski_df['ski_resort'].unique())\n",
    "total_reviews = len(final_ski_df)\n",
    "\n",
    "print(\"Number of unique users:\", unique_users)\n",
    "print(\"Number of unique resorts:\", unique_resorts)\n",
    "print(\"Number of reviews:\", total_reviews)"
   ]
  },
  {
   "cell_type": "markdown",
   "metadata": {},
   "source": [
    "#### Review Dataset\n",
    "After cleaning the scraped data from OnTheSnow, Google Geocoding API, and Airbnb, there are **329 resorts** and **86 columns** in the final dataframe."
   ]
  },
  {
   "cell_type": "code",
   "execution_count": 190,
   "metadata": {},
   "outputs": [
    {
     "name": "stdout",
     "output_type": "stream",
     "text": [
      "Number of resorts: 329\n",
      "Number of features: 86\n"
     ]
    }
   ],
   "source": [
    "unique_resorts = len(content_df['ski_resort'].unique())\n",
    "unique_features = len(content_df.columns)\n",
    "\n",
    "print(\"Number of resorts:\", unique_resorts)\n",
    "print(\"Number of features:\", unique_features)"
   ]
  },
  {
   "cell_type": "markdown",
   "metadata": {},
   "source": [
    "# Next Steps"
   ]
  },
  {
   "cell_type": "markdown",
   "metadata": {},
   "source": [
    "The next step will be to begin modeling to create the recommendation system. The two main dataframes from this notebook will be used are listed below:\n",
    "\n",
    "- **Collaborative Modeling** - cleaned_data_exports/user_df_model.csv\n",
    "- **Content/Cascade Hybrid Modeling** - cleaned_data_exports/scraped_feature_df.csv\n",
    "\n",
    "The collaborative model will be saved in a separate notebook than the final content and hybrid based models."
   ]
  }
 ],
 "metadata": {
  "kernelspec": {
   "display_name": "Python (learn-env)",
   "language": "python",
   "name": "learn-env"
  },
  "language_info": {
   "codemirror_mode": {
    "name": "ipython",
    "version": 3
   },
   "file_extension": ".py",
   "mimetype": "text/x-python",
   "name": "python",
   "nbconvert_exporter": "python",
   "pygments_lexer": "ipython3",
   "version": "3.8.5"
  }
 },
 "nbformat": 4,
 "nbformat_minor": 5
}
