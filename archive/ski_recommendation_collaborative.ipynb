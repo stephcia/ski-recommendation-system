{
 "cells": [
  {
   "cell_type": "markdown",
   "metadata": {},
   "source": [
    "# Avant Ski/ Send It"
   ]
  },
  {
   "cell_type": "markdown",
   "metadata": {},
   "source": [
    "by: Stephanie Ciaccia"
   ]
  },
  {
   "cell_type": "markdown",
   "metadata": {},
   "source": [
    "# Overview"
   ]
  },
  {
   "cell_type": "markdown",
   "metadata": {},
   "source": [
    "# Business Problem"
   ]
  },
  {
   "cell_type": "markdown",
   "metadata": {},
   "source": [
    "The project I am working on aims to address the common challenges faced by skiing and snowboarding enthusiasts when planning their ski vacations in the United States. With a multitude of ski resorts available, each differing in terms of price, size, location, cost, and mountain features, making an informed decision can be quite challenging. As an avid skier, I have personally encountered the difficulties associated with researching and organizing ski trips. \n",
    "\n",
    "In order to address this problem, my strategy involves creating a ski recommendation system called Avant Ski (a wordplay on \"Apres-Ski\"). This system aims to simplify the entire planning process for users. By using this system, users will be able to narrow down ski resorts to receive personalized recommendations and guidance, ultimately simplifying the decision-making process and enhancing their overall ski trip experience.\n"
   ]
  },
  {
   "cell_type": "markdown",
   "metadata": {},
   "source": [
    "# Data Understanding"
   ]
  },
  {
   "cell_type": "code",
   "execution_count": 323,
   "metadata": {},
   "outputs": [],
   "source": [
    "import pandas as pd\n",
    "import numpy as np\n",
    "import math\n",
    "from datetime import datetime\n",
    "import datetime\n",
    "from scipy import stats\n",
    "\n",
    "import matplotlib.pyplot as plt\n",
    "import seaborn as sns\n",
    "%matplotlib inline\n",
    "import plotly\n",
    "import plotly.express as px\n",
    "import plotly.io as pio\n",
    "from matplotlib.ticker import StrMethodFormatter\n",
    "\n",
    "from surprise.model_selection import cross_validate\n",
    "from surprise import Dataset, Reader, accuracy\n",
    "from surprise.prediction_algorithms import KNNWithMeans, KNNBasic, KNNBaseline,  SVD, SVDpp, NMF, BaselineOnly, NormalPredictor\n",
    "from surprise.model_selection import GridSearchCV, cross_validate, train_test_split\n",
    "\n",
    "from collections import Counter\n",
    "from nltk.corpus import stopwords\n",
    "\n",
    "from IPython.display import display"
   ]
  },
  {
   "cell_type": "markdown",
   "metadata": {},
   "source": [
    "Function to print full rows"
   ]
  },
  {
   "cell_type": "code",
   "execution_count": 324,
   "metadata": {},
   "outputs": [],
   "source": [
    "def print_full(x):\n",
    "    pd.set_option('display.max_rows', len(x))\n",
    "    print(x)\n",
    "    pd.reset_option('display.max_rows')"
   ]
  },
  {
   "cell_type": "markdown",
   "metadata": {},
   "source": [
    "# Data Source #1"
   ]
  },
  {
   "cell_type": "code",
   "execution_count": 862,
   "metadata": {},
   "outputs": [],
   "source": [
    "snow_df = pd.read_csv(\"data/OnTheSnow_SkiAreaReviews_clean.csv\")\n",
    "survey_df = pd.read_csv(\"data/usa_ski_resort_survey.csv\")\n",
    "scraped_df = pd.read_csv(\"data/onthesnow_scrape_170523_cleaned.csv\")"
   ]
  },
  {
   "cell_type": "code",
   "execution_count": 863,
   "metadata": {},
   "outputs": [
    {
     "name": "stdout",
     "output_type": "stream",
     "text": [
      "<class 'pandas.core.frame.DataFrame'>\n",
      "RangeIndex: 18238 entries, 0 to 18237\n",
      "Data columns (total 6 columns):\n",
      " #   Column                         Non-Null Count  Dtype \n",
      "---  ------                         --------------  ----- \n",
      " 0   State                          18238 non-null  object\n",
      " 1   Ski Area                       18238 non-null  object\n",
      " 2   Reviewer Name                  18128 non-null  object\n",
      " 3   Review Date                    18238 non-null  object\n",
      " 4   Review Star Rating (out of 5)  18238 non-null  int64 \n",
      " 5   Review Text                    18226 non-null  object\n",
      "dtypes: int64(1), object(5)\n",
      "memory usage: 855.0+ KB\n"
     ]
    }
   ],
   "source": [
    "snow_df.info()"
   ]
  },
  {
   "cell_type": "code",
   "execution_count": 864,
   "metadata": {},
   "outputs": [
    {
     "data": {
      "text/html": [
       "<div>\n",
       "<style scoped>\n",
       "    .dataframe tbody tr th:only-of-type {\n",
       "        vertical-align: middle;\n",
       "    }\n",
       "\n",
       "    .dataframe tbody tr th {\n",
       "        vertical-align: top;\n",
       "    }\n",
       "\n",
       "    .dataframe thead th {\n",
       "        text-align: right;\n",
       "    }\n",
       "</style>\n",
       "<table border=\"1\" class=\"dataframe\">\n",
       "  <thead>\n",
       "    <tr style=\"text-align: right;\">\n",
       "      <th></th>\n",
       "      <th>State</th>\n",
       "      <th>Ski Area</th>\n",
       "      <th>Reviewer Name</th>\n",
       "      <th>Review Date</th>\n",
       "      <th>Review Star Rating (out of 5)</th>\n",
       "      <th>Review Text</th>\n",
       "    </tr>\n",
       "  </thead>\n",
       "  <tbody>\n",
       "    <tr>\n",
       "      <th>0</th>\n",
       "      <td>colorado</td>\n",
       "      <td>copper-mountain-resort</td>\n",
       "      <td>anonymous_user</td>\n",
       "      <td>3-Mar-04</td>\n",
       "      <td>3</td>\n",
       "      <td>I have a pass the includes other mountains but...</td>\n",
       "    </tr>\n",
       "    <tr>\n",
       "      <th>1</th>\n",
       "      <td>utah</td>\n",
       "      <td>brighton-resort</td>\n",
       "      <td>anonymous_user</td>\n",
       "      <td>2-Dec-04</td>\n",
       "      <td>4</td>\n",
       "      <td>I've been coming to Brighton for years. Unlike...</td>\n",
       "    </tr>\n",
       "    <tr>\n",
       "      <th>2</th>\n",
       "      <td>north-carolina</td>\n",
       "      <td>ski-beech-mountain-resort</td>\n",
       "      <td>anonymous_user</td>\n",
       "      <td>1-Jan-05</td>\n",
       "      <td>5</td>\n",
       "      <td>We went last Weekend, and it was the best snow...</td>\n",
       "    </tr>\n",
       "    <tr>\n",
       "      <th>3</th>\n",
       "      <td>new-mexico</td>\n",
       "      <td>red-river</td>\n",
       "      <td>anonymous_user</td>\n",
       "      <td>1-Mar-05</td>\n",
       "      <td>5</td>\n",
       "      <td>Love Red River we go every year!</td>\n",
       "    </tr>\n",
       "    <tr>\n",
       "      <th>4</th>\n",
       "      <td>pennsylvania</td>\n",
       "      <td>sno-mountain</td>\n",
       "      <td>anonymous_user</td>\n",
       "      <td>2-Mar-05</td>\n",
       "      <td>4</td>\n",
       "      <td>Great varied terrain, not crowded, good prices...</td>\n",
       "    </tr>\n",
       "  </tbody>\n",
       "</table>\n",
       "</div>"
      ],
      "text/plain": [
       "            State                   Ski Area   Reviewer Name Review Date  \\\n",
       "0        colorado     copper-mountain-resort  anonymous_user    3-Mar-04   \n",
       "1            utah            brighton-resort  anonymous_user    2-Dec-04   \n",
       "2  north-carolina  ski-beech-mountain-resort  anonymous_user    1-Jan-05   \n",
       "3      new-mexico                  red-river  anonymous_user    1-Mar-05   \n",
       "4    pennsylvania               sno-mountain  anonymous_user    2-Mar-05   \n",
       "\n",
       "   Review Star Rating (out of 5)  \\\n",
       "0                              3   \n",
       "1                              4   \n",
       "2                              5   \n",
       "3                              5   \n",
       "4                              4   \n",
       "\n",
       "                                         Review Text  \n",
       "0  I have a pass the includes other mountains but...  \n",
       "1  I've been coming to Brighton for years. Unlike...  \n",
       "2  We went last Weekend, and it was the best snow...  \n",
       "3                  Love Red River we go every year!   \n",
       "4  Great varied terrain, not crowded, good prices...  "
      ]
     },
     "execution_count": 864,
     "metadata": {},
     "output_type": "execute_result"
    }
   ],
   "source": [
    "snow_df.head()"
   ]
  },
  {
   "cell_type": "code",
   "execution_count": 865,
   "metadata": {},
   "outputs": [],
   "source": [
    "#renaming columns\n",
    "new_name = ['state', 'ski_resort', 'user_name','review_date', 'rating',\n",
    "           'review'] \n",
    "\n",
    "snow_df.columns = new_name"
   ]
  },
  {
   "cell_type": "code",
   "execution_count": 866,
   "metadata": {},
   "outputs": [
    {
     "data": {
      "text/html": [
       "<div>\n",
       "<style scoped>\n",
       "    .dataframe tbody tr th:only-of-type {\n",
       "        vertical-align: middle;\n",
       "    }\n",
       "\n",
       "    .dataframe tbody tr th {\n",
       "        vertical-align: top;\n",
       "    }\n",
       "\n",
       "    .dataframe thead th {\n",
       "        text-align: right;\n",
       "    }\n",
       "</style>\n",
       "<table border=\"1\" class=\"dataframe\">\n",
       "  <thead>\n",
       "    <tr style=\"text-align: right;\">\n",
       "      <th></th>\n",
       "      <th>state</th>\n",
       "      <th>ski_resort</th>\n",
       "      <th>user_name</th>\n",
       "      <th>review_date</th>\n",
       "      <th>rating</th>\n",
       "      <th>review</th>\n",
       "    </tr>\n",
       "  </thead>\n",
       "  <tbody>\n",
       "    <tr>\n",
       "      <th>0</th>\n",
       "      <td>colorado</td>\n",
       "      <td>copper-mountain-resort</td>\n",
       "      <td>anonymous_user</td>\n",
       "      <td>3-Mar-04</td>\n",
       "      <td>3</td>\n",
       "      <td>I have a pass the includes other mountains but...</td>\n",
       "    </tr>\n",
       "    <tr>\n",
       "      <th>1</th>\n",
       "      <td>utah</td>\n",
       "      <td>brighton-resort</td>\n",
       "      <td>anonymous_user</td>\n",
       "      <td>2-Dec-04</td>\n",
       "      <td>4</td>\n",
       "      <td>I've been coming to Brighton for years. Unlike...</td>\n",
       "    </tr>\n",
       "    <tr>\n",
       "      <th>2</th>\n",
       "      <td>north-carolina</td>\n",
       "      <td>ski-beech-mountain-resort</td>\n",
       "      <td>anonymous_user</td>\n",
       "      <td>1-Jan-05</td>\n",
       "      <td>5</td>\n",
       "      <td>We went last Weekend, and it was the best snow...</td>\n",
       "    </tr>\n",
       "    <tr>\n",
       "      <th>3</th>\n",
       "      <td>new-mexico</td>\n",
       "      <td>red-river</td>\n",
       "      <td>anonymous_user</td>\n",
       "      <td>1-Mar-05</td>\n",
       "      <td>5</td>\n",
       "      <td>Love Red River we go every year!</td>\n",
       "    </tr>\n",
       "    <tr>\n",
       "      <th>4</th>\n",
       "      <td>pennsylvania</td>\n",
       "      <td>sno-mountain</td>\n",
       "      <td>anonymous_user</td>\n",
       "      <td>2-Mar-05</td>\n",
       "      <td>4</td>\n",
       "      <td>Great varied terrain, not crowded, good prices...</td>\n",
       "    </tr>\n",
       "    <tr>\n",
       "      <th>...</th>\n",
       "      <td>...</td>\n",
       "      <td>...</td>\n",
       "      <td>...</td>\n",
       "      <td>...</td>\n",
       "      <td>...</td>\n",
       "      <td>...</td>\n",
       "    </tr>\n",
       "    <tr>\n",
       "      <th>18233</th>\n",
       "      <td>minnesota</td>\n",
       "      <td>lutsen-mountains</td>\n",
       "      <td>REBECCA CARTWRIGHT</td>\n",
       "      <td>14-Dec-20</td>\n",
       "      <td>4</td>\n",
       "      <td>Many workers on the lifts did not know how to ...</td>\n",
       "    </tr>\n",
       "    <tr>\n",
       "      <th>18234</th>\n",
       "      <td>new-mexico</td>\n",
       "      <td>sipapu-ski-and-summer-resort</td>\n",
       "      <td>Antonio  Martinez</td>\n",
       "      <td>15-Dec-20</td>\n",
       "      <td>5</td>\n",
       "      <td>staying in the \"hotel\" (\"motel\" on the sign ab...</td>\n",
       "    </tr>\n",
       "    <tr>\n",
       "      <th>18235</th>\n",
       "      <td>new-mexico</td>\n",
       "      <td>sipapu-ski-and-summer-resort</td>\n",
       "      <td>Antonio  Martinez</td>\n",
       "      <td>15-Dec-20</td>\n",
       "      <td>5</td>\n",
       "      <td>staying in the \"hotel\" (\"motel\" on the sign ab...</td>\n",
       "    </tr>\n",
       "    <tr>\n",
       "      <th>18236</th>\n",
       "      <td>new-mexico</td>\n",
       "      <td>taos-ski-valley</td>\n",
       "      <td>David Humphrey</td>\n",
       "      <td>15-Dec-20</td>\n",
       "      <td>5</td>\n",
       "      <td>Good skiing, have lost their way over the year...</td>\n",
       "    </tr>\n",
       "    <tr>\n",
       "      <th>18237</th>\n",
       "      <td>new-mexico</td>\n",
       "      <td>taos-ski-valley</td>\n",
       "      <td>David Humphrey</td>\n",
       "      <td>15-Dec-20</td>\n",
       "      <td>5</td>\n",
       "      <td>Good skiing, have lost their way over the year...</td>\n",
       "    </tr>\n",
       "  </tbody>\n",
       "</table>\n",
       "<p>18238 rows × 6 columns</p>\n",
       "</div>"
      ],
      "text/plain": [
       "                state                    ski_resort           user_name  \\\n",
       "0            colorado        copper-mountain-resort      anonymous_user   \n",
       "1                utah               brighton-resort      anonymous_user   \n",
       "2      north-carolina     ski-beech-mountain-resort      anonymous_user   \n",
       "3          new-mexico                     red-river      anonymous_user   \n",
       "4        pennsylvania                  sno-mountain      anonymous_user   \n",
       "...               ...                           ...                 ...   \n",
       "18233       minnesota              lutsen-mountains  REBECCA CARTWRIGHT   \n",
       "18234      new-mexico  sipapu-ski-and-summer-resort   Antonio  Martinez   \n",
       "18235      new-mexico  sipapu-ski-and-summer-resort   Antonio  Martinez   \n",
       "18236      new-mexico               taos-ski-valley      David Humphrey   \n",
       "18237      new-mexico               taos-ski-valley      David Humphrey   \n",
       "\n",
       "      review_date  rating                                             review  \n",
       "0        3-Mar-04       3  I have a pass the includes other mountains but...  \n",
       "1        2-Dec-04       4  I've been coming to Brighton for years. Unlike...  \n",
       "2        1-Jan-05       5  We went last Weekend, and it was the best snow...  \n",
       "3        1-Mar-05       5                  Love Red River we go every year!   \n",
       "4        2-Mar-05       4  Great varied terrain, not crowded, good prices...  \n",
       "...           ...     ...                                                ...  \n",
       "18233   14-Dec-20       4  Many workers on the lifts did not know how to ...  \n",
       "18234   15-Dec-20       5  staying in the \"hotel\" (\"motel\" on the sign ab...  \n",
       "18235   15-Dec-20       5  staying in the \"hotel\" (\"motel\" on the sign ab...  \n",
       "18236   15-Dec-20       5  Good skiing, have lost their way over the year...  \n",
       "18237   15-Dec-20       5  Good skiing, have lost their way over the year...  \n",
       "\n",
       "[18238 rows x 6 columns]"
      ]
     },
     "execution_count": 866,
     "metadata": {},
     "output_type": "execute_result"
    }
   ],
   "source": [
    "snow_df"
   ]
  },
  {
   "cell_type": "code",
   "execution_count": 867,
   "metadata": {},
   "outputs": [
    {
     "data": {
      "text/plain": [
       "array(['anon_1', 'anon_2', 'anon_3', 'anon_4', 'anon_5', 'anon_6',\n",
       "       'anon_7', 'anon_8', 'anon_9', 'Stephanie Ciaccia', 'Joseph Lewis',\n",
       "       'Alexandria Kelly', 'Deanna Uzarski', 'Raghava Kamalesh'],\n",
       "      dtype=object)"
      ]
     },
     "execution_count": 867,
     "metadata": {},
     "output_type": "execute_result"
    }
   ],
   "source": [
    "survey_df['user_name'].unique()"
   ]
  },
  {
   "cell_type": "code",
   "execution_count": 868,
   "metadata": {},
   "outputs": [
    {
     "name": "stdout",
     "output_type": "stream",
     "text": [
      "<class 'pandas.core.frame.DataFrame'>\n",
      "RangeIndex: 62 entries, 0 to 61\n",
      "Data columns (total 6 columns):\n",
      " #   Column       Non-Null Count  Dtype \n",
      "---  ------       --------------  ----- \n",
      " 0   review_date  62 non-null     object\n",
      " 1   state        62 non-null     object\n",
      " 2   ski_resort   62 non-null     object\n",
      " 3   rating       62 non-null     int64 \n",
      " 4   review       62 non-null     object\n",
      " 5   user_name    62 non-null     object\n",
      "dtypes: int64(1), object(5)\n",
      "memory usage: 3.0+ KB\n"
     ]
    }
   ],
   "source": [
    "survey_df.info()"
   ]
  },
  {
   "cell_type": "code",
   "execution_count": 869,
   "metadata": {},
   "outputs": [],
   "source": [
    "snow_df['review_date'] = pd.to_datetime(snow_df['review_date'])\n",
    "survey_df['review_date'] = pd.to_datetime(survey_df['review_date'])"
   ]
  },
  {
   "cell_type": "code",
   "execution_count": 870,
   "metadata": {},
   "outputs": [
    {
     "data": {
      "text/plain": [
       "ski-brule                        1315\n",
       "killington-resort                 204\n",
       "vail                              203\n",
       "winter-park-resort                191\n",
       "blue-mountain-ski-area            189\n",
       "                                 ... \n",
       "big-squaw-mountain-ski-resort      13\n",
       "holiday-mountain                   13\n",
       "powder-ridge-ski-area              13\n",
       "willard-mountain                   13\n",
       "whaleback-mountain                 12\n",
       "Name: ski_resort, Length: 291, dtype: int64"
      ]
     },
     "execution_count": 870,
     "metadata": {},
     "output_type": "execute_result"
    }
   ],
   "source": [
    "snow_df[\"ski_resort\"].value_counts()"
   ]
  },
  {
   "cell_type": "code",
   "execution_count": 871,
   "metadata": {},
   "outputs": [
    {
     "data": {
      "text/plain": [
       "anonymous_user         3026\n",
       "anonymous               304\n",
       "undefined undefined     130\n",
       "Ben                      49\n",
       "Mike                     49\n",
       "Ryan                     46\n",
       "Richard                  44\n",
       "Dan                      42\n",
       "David                    42\n",
       "Chris                    39\n",
       "Rob                      37\n",
       "Jeff                     36\n",
       "Derek                    31\n",
       "Brian                    31\n",
       "Matt                     31\n",
       "wolfman                  31\n",
       "iPhone                   28\n",
       "Michael                  28\n",
       "Nick                     27\n",
       "gma                      27\n",
       "Kevin                    27\n",
       "Jim                      26\n",
       "Steve                    25\n",
       "J                        25\n",
       "Jun                      23\n",
       "Mark                     23\n",
       "Joe                      23\n",
       "Jason                    23\n",
       "Justin                   22\n",
       "Paul                     22\n",
       "Name: user_name, dtype: int64"
      ]
     },
     "execution_count": 871,
     "metadata": {},
     "output_type": "execute_result"
    }
   ],
   "source": [
    "snow_df['user_name'].value_counts().head(30)"
   ]
  },
  {
   "cell_type": "markdown",
   "metadata": {},
   "source": [
    "Dropping common names and usernames"
   ]
  },
  {
   "cell_type": "code",
   "execution_count": 872,
   "metadata": {},
   "outputs": [],
   "source": [
    "drop_list = [\"anonymous_user\", \"anonymous\",\"undefined undefined\",\"Mike\", \n",
    "             \"Ben\", \"Ryan\", \"Richard\", \"Dan\", \"David\", \"Chris\", \"Rob\", \"Jeff\",\n",
    "            \"Derek\", \"Brian\", \"Matt\", \"Michael\", \"iPhone\", \"Kevin\", \"Nick\",\n",
    "            \"Jim\", \"Steve\", \"Jason\", \"Mark\", \"Joe\", \"Paul\", \"Justin\", \"Scott\",\n",
    "            \"Bob\", \"Alex\", \"Carter\", \"Dave\", \"Tim\", \"Bill\", \"Andrew\", \"John\", \"Sam\",\n",
    "            \"James\", \"Kim\", \"Craig\", \"mike\", \"jason\", \"James\", \"Sam\", \"Kim\", \"mike\", \"peter\",\n",
    "            \"Jack\", \"Adam\", \"Tom\", \"Wes\", \"Jun\", \"Steven\", \"Max\", \"Matthew\", \"Laura\", \"Felipe\",\n",
    "            \"Greg\", \"Bryan\", \"Sarah\", \"Sara\", \"Christian\", \"Ray\", \"Connor\", \"Erin\", \"Emily\",\n",
    "            \"Luke\", \"Ed\", \"Patrick\", \"kyle\", \"Ken\", \"Linda\", \"Eric\", \"Aaron\", \"Jake\",\n",
    "            \"Josh\", \"Tony\", \"Abe\", \"Frank\", \"Peter\", \"Fred\", \"Arthur\", \"Lorraine\",\n",
    "            \"Phil\", \"Sean\", \"Will\", \"Julie\", \"Jon\", \"Amy\", \"Becky\", \"Shannon\", \"brendan\",\n",
    "            \"Kathy\", \"wayne\", \"Ethan\", \"Erika\", \"Jill\", \"Zoe\", \"Rick\", \"Wyatt\",\n",
    "            \"Tyler\", \"Andrea\", \"mark\", \"john\", \"Donna\", \"Jen\", \"Braden\", \"D\", \"Bryce\",\n",
    "            \"Rich\", \"Jared\", \"Jay\", \"Ann\", \"Brandon\", \"Nicholas\",\"Martin\",\n",
    "            'Robert', 'angelino','Anonymous',\n",
    "             'ty', 'jase', 'Jesse', 'Jennifer', 'Dustin', 'Natalie',\n",
    "             'Pat', 'anonymous user', 'matt', 'George', 'Kate',\n",
    "             'Daniel','Cindy', 'Barry', 'Todd', 'Melanie', 'Drew',\n",
    "             'Andy', 'Hochard','Wayne', 'dan',\n",
    "             'Charlie', 'Vanessa','Allen', 'Austin', 'Roger',\n",
    "             'Jerry', 'Scotty', 'Anon', 'Lucas', 'Brian', 'Lee', 'Taylor',\n",
    "            'brian', 'Lisa', 'Jade', 'Spencer', 'chris', 'Jenny', 'Amanda', 'Brett',\n",
    "            'Maria', 'Holly', 'iPad', 'Sylvia', 'iPhone (2)', 'Catherine', 'Hannah', 'Wade',\n",
    "            'Larry', 'Lauren']\n",
    "\n",
    "snow_df = snow_df[snow_df['user_name'].isin(drop_list) == False]"
   ]
  },
  {
   "cell_type": "code",
   "execution_count": 873,
   "metadata": {},
   "outputs": [
    {
     "data": {
      "text/html": [
       "<div>\n",
       "<style scoped>\n",
       "    .dataframe tbody tr th:only-of-type {\n",
       "        vertical-align: middle;\n",
       "    }\n",
       "\n",
       "    .dataframe tbody tr th {\n",
       "        vertical-align: top;\n",
       "    }\n",
       "\n",
       "    .dataframe thead th {\n",
       "        text-align: right;\n",
       "    }\n",
       "</style>\n",
       "<table border=\"1\" class=\"dataframe\">\n",
       "  <thead>\n",
       "    <tr style=\"text-align: right;\">\n",
       "      <th></th>\n",
       "      <th>state</th>\n",
       "      <th>ski_resort</th>\n",
       "      <th>user_name</th>\n",
       "      <th>review_date</th>\n",
       "      <th>rating</th>\n",
       "      <th>review</th>\n",
       "    </tr>\n",
       "  </thead>\n",
       "  <tbody>\n",
       "    <tr>\n",
       "      <th>103</th>\n",
       "      <td>california</td>\n",
       "      <td>squaw-valley-usa</td>\n",
       "      <td>ericadyer</td>\n",
       "      <td>2006-10-23</td>\n",
       "      <td>5</td>\n",
       "      <td>This is one of my favorite resorts in Tahoe. E...</td>\n",
       "    </tr>\n",
       "    <tr>\n",
       "      <th>104</th>\n",
       "      <td>idaho</td>\n",
       "      <td>sun-valley</td>\n",
       "      <td>ericadyer</td>\n",
       "      <td>2006-10-23</td>\n",
       "      <td>5</td>\n",
       "      <td>I’ve skied all over the world and everything a...</td>\n",
       "    </tr>\n",
       "    <tr>\n",
       "      <th>107</th>\n",
       "      <td>california</td>\n",
       "      <td>donner-ski-ranch</td>\n",
       "      <td>FroDog</td>\n",
       "      <td>2006-10-24</td>\n",
       "      <td>3</td>\n",
       "      <td>&lt;font size=\"2\"&gt;&lt;p&gt;The mountain is less a place...</td>\n",
       "    </tr>\n",
       "    <tr>\n",
       "      <th>108</th>\n",
       "      <td>california</td>\n",
       "      <td>boreal</td>\n",
       "      <td>FroDog</td>\n",
       "      <td>2006-10-24</td>\n",
       "      <td>4</td>\n",
       "      <td>&lt;font size=\"2\"&gt;&lt;p&gt;They&amp;#39;ve really nailed th...</td>\n",
       "    </tr>\n",
       "    <tr>\n",
       "      <th>109</th>\n",
       "      <td>nevada</td>\n",
       "      <td>diamond-peak</td>\n",
       "      <td>FroDog</td>\n",
       "      <td>2006-10-24</td>\n",
       "      <td>4</td>\n",
       "      <td>Observation Deck - Great views. They were out ...</td>\n",
       "    </tr>\n",
       "    <tr>\n",
       "      <th>...</th>\n",
       "      <td>...</td>\n",
       "      <td>...</td>\n",
       "      <td>...</td>\n",
       "      <td>...</td>\n",
       "      <td>...</td>\n",
       "      <td>...</td>\n",
       "    </tr>\n",
       "    <tr>\n",
       "      <th>18233</th>\n",
       "      <td>minnesota</td>\n",
       "      <td>lutsen-mountains</td>\n",
       "      <td>REBECCA CARTWRIGHT</td>\n",
       "      <td>2020-12-14</td>\n",
       "      <td>4</td>\n",
       "      <td>Many workers on the lifts did not know how to ...</td>\n",
       "    </tr>\n",
       "    <tr>\n",
       "      <th>18234</th>\n",
       "      <td>new-mexico</td>\n",
       "      <td>sipapu-ski-and-summer-resort</td>\n",
       "      <td>Antonio  Martinez</td>\n",
       "      <td>2020-12-15</td>\n",
       "      <td>5</td>\n",
       "      <td>staying in the \"hotel\" (\"motel\" on the sign ab...</td>\n",
       "    </tr>\n",
       "    <tr>\n",
       "      <th>18235</th>\n",
       "      <td>new-mexico</td>\n",
       "      <td>sipapu-ski-and-summer-resort</td>\n",
       "      <td>Antonio  Martinez</td>\n",
       "      <td>2020-12-15</td>\n",
       "      <td>5</td>\n",
       "      <td>staying in the \"hotel\" (\"motel\" on the sign ab...</td>\n",
       "    </tr>\n",
       "    <tr>\n",
       "      <th>18236</th>\n",
       "      <td>new-mexico</td>\n",
       "      <td>taos-ski-valley</td>\n",
       "      <td>David Humphrey</td>\n",
       "      <td>2020-12-15</td>\n",
       "      <td>5</td>\n",
       "      <td>Good skiing, have lost their way over the year...</td>\n",
       "    </tr>\n",
       "    <tr>\n",
       "      <th>18237</th>\n",
       "      <td>new-mexico</td>\n",
       "      <td>taos-ski-valley</td>\n",
       "      <td>David Humphrey</td>\n",
       "      <td>2020-12-15</td>\n",
       "      <td>5</td>\n",
       "      <td>Good skiing, have lost their way over the year...</td>\n",
       "    </tr>\n",
       "  </tbody>\n",
       "</table>\n",
       "<p>12809 rows × 6 columns</p>\n",
       "</div>"
      ],
      "text/plain": [
       "            state                    ski_resort           user_name  \\\n",
       "103    california              squaw-valley-usa           ericadyer   \n",
       "104         idaho                    sun-valley           ericadyer   \n",
       "107    california              donner-ski-ranch              FroDog   \n",
       "108    california                        boreal              FroDog   \n",
       "109        nevada                  diamond-peak              FroDog   \n",
       "...           ...                           ...                 ...   \n",
       "18233   minnesota              lutsen-mountains  REBECCA CARTWRIGHT   \n",
       "18234  new-mexico  sipapu-ski-and-summer-resort   Antonio  Martinez   \n",
       "18235  new-mexico  sipapu-ski-and-summer-resort   Antonio  Martinez   \n",
       "18236  new-mexico               taos-ski-valley      David Humphrey   \n",
       "18237  new-mexico               taos-ski-valley      David Humphrey   \n",
       "\n",
       "      review_date  rating                                             review  \n",
       "103    2006-10-23       5  This is one of my favorite resorts in Tahoe. E...  \n",
       "104    2006-10-23       5  I’ve skied all over the world and everything a...  \n",
       "107    2006-10-24       3  <font size=\"2\"><p>The mountain is less a place...  \n",
       "108    2006-10-24       4  <font size=\"2\"><p>They&#39;ve really nailed th...  \n",
       "109    2006-10-24       4  Observation Deck - Great views. They were out ...  \n",
       "...           ...     ...                                                ...  \n",
       "18233  2020-12-14       4  Many workers on the lifts did not know how to ...  \n",
       "18234  2020-12-15       5  staying in the \"hotel\" (\"motel\" on the sign ab...  \n",
       "18235  2020-12-15       5  staying in the \"hotel\" (\"motel\" on the sign ab...  \n",
       "18236  2020-12-15       5  Good skiing, have lost their way over the year...  \n",
       "18237  2020-12-15       5  Good skiing, have lost their way over the year...  \n",
       "\n",
       "[12809 rows x 6 columns]"
      ]
     },
     "execution_count": 873,
     "metadata": {},
     "output_type": "execute_result"
    }
   ],
   "source": [
    "snow_df"
   ]
  },
  {
   "cell_type": "code",
   "execution_count": 874,
   "metadata": {},
   "outputs": [
    {
     "data": {
      "text/plain": [
       "wolfman            31\n",
       "gma                27\n",
       "J                  25\n",
       "Tim Zheng          22\n",
       "Dave O             22\n",
       "                   ..\n",
       "tc5                 7\n",
       "Nick Franchino      7\n",
       "fcherichel          7\n",
       "James undefined     7\n",
       "tjkotula            7\n",
       "Name: user_name, Length: 70, dtype: int64"
      ]
     },
     "execution_count": 874,
     "metadata": {},
     "output_type": "execute_result"
    }
   ],
   "source": [
    "snow_df['user_name'].value_counts().head(70)"
   ]
  },
  {
   "cell_type": "code",
   "execution_count": 875,
   "metadata": {},
   "outputs": [],
   "source": [
    "#renaming columns\n",
    "new_name = ['state', 'ski_resort', 'user_name','review_date', 'rating',\n",
    "           'review'] \n",
    "\n",
    "snow_df.columns = new_name"
   ]
  },
  {
   "cell_type": "code",
   "execution_count": 876,
   "metadata": {},
   "outputs": [],
   "source": [
    "# counting the number of reviews of each person\n",
    "value_counts = snow_df['user_name'].value_counts()\n",
    "\n",
    "# selecting only reviewers with more than three reviews\n",
    "selected_values = value_counts.loc[value_counts > 3]\n",
    "\n",
    "# selecting only the reviewers with more than three reviews\n",
    "cleaned_snow = snow_df.loc[snow_df['user_name'].isin(selected_values.index)]"
   ]
  },
  {
   "cell_type": "code",
   "execution_count": 877,
   "metadata": {},
   "outputs": [
    {
     "name": "stdout",
     "output_type": "stream",
     "text": [
      "<class 'pandas.core.frame.DataFrame'>\n",
      "Int64Index: 2213 entries, 103 to 18199\n",
      "Data columns (total 6 columns):\n",
      " #   Column       Non-Null Count  Dtype         \n",
      "---  ------       --------------  -----         \n",
      " 0   state        2213 non-null   object        \n",
      " 1   ski_resort   2213 non-null   object        \n",
      " 2   user_name    2213 non-null   object        \n",
      " 3   review_date  2213 non-null   datetime64[ns]\n",
      " 4   rating       2213 non-null   int64         \n",
      " 5   review       2212 non-null   object        \n",
      "dtypes: datetime64[ns](1), int64(1), object(4)\n",
      "memory usage: 121.0+ KB\n"
     ]
    }
   ],
   "source": [
    "cleaned_snow.info()"
   ]
  },
  {
   "cell_type": "code",
   "execution_count": 878,
   "metadata": {},
   "outputs": [
    {
     "data": {
      "text/plain": [
       "array(['ericadyer', 'FroDog', 'jackson321', 'SammyG', 'Jill Adler',\n",
       "       'Twenz', 'anhillx', 'emj35', 'Benji Zimmerman', 'Roger Leo',\n",
       "       'filterban', 'JP', 'gkphi5', 'RippinSkiers', 'Jay C',\n",
       "       'Mark Rosasco', 'Dan Gibson', 'Cherokee', 'treesker', 'gwiffie',\n",
       "       'stevenam', 'Gunny J', 'jim8588', 'Bmorabito', 'Richard 1',\n",
       "       'joey58242', 'Mike134', 'tom travis', 'noonito', 'tsfoust',\n",
       "       'steffenwolf', 'seniordude', 'Americansonofa', 'Randy Agness',\n",
       "       'sno_thing', 'sampanning', 'steep-n-deep ', 'swissnowtiger',\n",
       "       'flyersboy114', 'Bob Butts', 'sharimcatee', 'bodibran',\n",
       "       'tourist from Texas', 'p_nut', 'highvoltageguy', 'govey80',\n",
       "       'fcherichel', 'Adye 1', 'MgoBlue', 'Randy Rogers', 'Bobby G',\n",
       "       'apken', 'Resort Travel', 'kbone77', 'swetsb', 'CopPsychDoc',\n",
       "       'mtbporru', 'Les', 'J Berlo', 'sewardhorner', 'thereporter',\n",
       "       'nzh0tg', 'Aguilar 1', 'herbsmen', 'Philip H. Eckerberg',\n",
       "       'pinkkid_2000', 'John Gonzalez', 'Ontheslopes', 'joe castelli',\n",
       "       'Queensland Skier', 'ski_hike', 'Juan', 'Bobby', 'Shane Wicken',\n",
       "       'psuguy43094', 'volklmom', 'dane Koncan', 'mcc100', 'mtskier',\n",
       "       'wisp', 'Ron', 'Dave Varney', 'leerampolla', 'mjurkiewicz',\n",
       "       'Dave&DJ', 'max caswell', 'molly young', 'skibum40', 'A. cooper',\n",
       "       'iwill', 'Ian Yuh', 'Tricia', 'Robert Turner', 'George P',\n",
       "       'offwallstreet', 'Terry', 'Alan M', 'MCPG', 'zakk', 'Unionhawk',\n",
       "       'hparks', 'ndboarder', 'smk1945', 'winstonwolf', 'Yoonseok Song',\n",
       "       'Barbra Pasker', 'mjnecaise', 'perrmj02', 'skinomad', 'Theresa 1',\n",
       "       'Scott Dillman', 'tc5', 'spack', 'Danny', 'J', 'alvlee01', 'Brad',\n",
       "       'chris  Bjornmose', 'istink', 'dancinjrl', 'shari ann',\n",
       "       'john mosher', 'Richard Min', 'jfoldno7', 'Ryan Pringnitz',\n",
       "       'skiergirl27 ', 'bostowyo', 'brtn551', 'RICK STEPHENS',\n",
       "       'nastarfan', 'Ian', 'isaac reule', 'tandmkirk', 'H3NDR1X15', 'LDT',\n",
       "       'mrcompgov', 'davidlau123', 'Don', 'BO$$', 'passanto1',\n",
       "       'bluemoon1975', 'papi6022', 'gma', 'flatlander13', 'Peter Mende',\n",
       "       'mkt', 'JakeS513', 'Justin Howell', 'Matt Woodruff', 'Dylan',\n",
       "       'popski boy', 'Casey', 'quinnman', 'Mike Barrett', 'Vance Boyer',\n",
       "       'thesnowboarder', 'Greg morell', 'snowboarderboi', 'DubbelSac',\n",
       "       'wolfman', 'GOOFY RIDER', 'Nathan Dively', 'keneikirk',\n",
       "       'ryan dunlap', 'SGTDBP', 'R Lee Stump', 'ryannw', 'nanaandpapa',\n",
       "       'runner/skier', 'otgoal21', 'djgray', 'Dave O', 'eewdad', 'Carrie',\n",
       "       'Brian Lewis', 'ryanscottmac', 'Andy D', 'beachbumltj', 'Dedmond',\n",
       "       'Bill Deaton', 'drdevon', 'ONTHESHITER', 'nnypa', 'cody hamlin',\n",
       "       'Elliot Green', 'humanmap', 'Noah', 'Three2Ski', 'skijds',\n",
       "       'Seth Christopher Bjorkman', 'johnny mack', 'powhound820',\n",
       "       'conboc', 'Jack Frost', 'Daniel Morris', 'Al Cipparone',\n",
       "       'ParkLife', 'Christine', 'Tim Zheng', 'cheezywhiz', 'JJ', 'Howard',\n",
       "       'Stephen', 'Tanner', 'rar768', 'Erik Szayna', 'S. Areno', 'mitch',\n",
       "       'Nick Pope', 'johnny alonso', 'Jason Tubbs', 'Nick Park',\n",
       "       'Charles Ball', 'loricipheran', 'skigenome57', 'Evan Wright',\n",
       "       'Brian K Palmer', 'Devon Marques', 'Tahsha LePage', 'Ray Baucum',\n",
       "       'Ktown', 'Jackson', 'Mark Fortin', 'Nathan', 'Tremblay',\n",
       "       'Vicente Pinaula', 'Jeff Graham', 'Ross Bretherton', 'Jonathan',\n",
       "       'Nick Franchino', 'Charles Hallett', 'shaun', 'Tj 1',\n",
       "       'David Moores', 'jessepollock', 'CTskinerd', 'Theiceskier',\n",
       "       'jaynjay21', 'Snowboarder2424', 'Brian Campbell', 'Clay King',\n",
       "       'Mark Gerardy', 'Lorenzo A', 'SkiForFree', 'Tommy T',\n",
       "       'Jason Buchta', 'Johnny', 'Bill  Rymer', 'rocketal',\n",
       "       \"Joseph O'Brien\", 'Molly', 'tom', 'Benjamin Sawyer',\n",
       "       'AltSchneemann', 'MNSkier97', 'Benjamin', 'kjack',\n",
       "       'village idiots', 'Verdi DiSesa', 'RatherBeSkiing', 'Anelizk88',\n",
       "       'Brian Sloane', 'tjkotula', 'sledbred', 'douglas', 'OnTheEdge',\n",
       "       'Abe Gold', 'Robert Oliver', 'Matt McAuley', 'Cathy', 'Randy',\n",
       "       'Greg Smith', 'Michelle', 'Kyle', 'ann phelan', 'Mary', 'Shelley',\n",
       "       'T LAFRANCE', 'Shelby', 'Chuck', 'ChoochCharlie', 'falisethebeast',\n",
       "       'lname', 'skipoint0', 'dillonhudson13', 'Ryan Craig', 'tride',\n",
       "       'ostromsean', 'lukedborg', 'Snowboarder', 'rclover106', 'H Muns',\n",
       "       'Mathieu Greenwood', 'Tyler 1', 'B Ford', 'J. Cosenza',\n",
       "       'Blaine Schweizer', 'Tammy', 'Bobo Me', 'John Barber', 'Nancy D.',\n",
       "       'Prawn', 'ianmilesdoyle', 'Tani Lucht', 'Cole Dumas', 'Elizabeth',\n",
       "       'Jeff Wisdom', 'David Milford', 'Joe Migas', 'chernad', 'B P',\n",
       "       'cath.haynes', 'David  Holz', 'Jaden Rodriguez', 'TODD BOLER',\n",
       "       'L.', 'Nick Sabol', 'Austin Jackson', 'Jackson Mississippi',\n",
       "       'Zohar Hirshfeld', 'Kyle M', 'Andrew Curtin',\n",
       "       'The Sports Exchange Missoula', 'Michael Lee', 'Robert Kalantari',\n",
       "       'Bob Ross', 'jplippens', 'Nate Moen', 'kellybrown26',\n",
       "       'Eli Cowperthwaite', 'erik', 'Peter Anania', 'Wendy Fiel',\n",
       "       'Christine Magnone', 'mpemail', 'Aaron Halpern', 'brevanyoung',\n",
       "       'jrg123', 'nemo', 'Avery Zucco', 'Ben Schaeffer', 'Jake Kindler',\n",
       "       'jeff G', 'John Doe', 'dude', 'Daniel undefined',\n",
       "       'George undefined', 'Steve undefined', 'Josh undefined',\n",
       "       'William undefined', 'Adam undefined', 'James undefined',\n",
       "       'Stuart undefined', 'John undefined', 'Karen undefined',\n",
       "       'Matt undefined', 'Brian undefined', 'Anna Smith', 'Rick Hunter',\n",
       "       'Cliff undefined', 'davo41', 'Anonymous Anonymous',\n",
       "       'Powder  Hound', 'David undefined', 'Dan undefined', 'Jay Larmee',\n",
       "       'Wes  Tolleson', 'Rich undefined', 'gary undefined',\n",
       "       'Dave undefined', 'Joseph  Nauber', 'gayendarren', 'Matt  H',\n",
       "       'Dave Morrison', 'Payton Sharum', 'Lori Young'], dtype=object)"
      ]
     },
     "execution_count": 878,
     "metadata": {},
     "output_type": "execute_result"
    }
   ],
   "source": [
    "cleaned_snow['user_name'].unique()"
   ]
  },
  {
   "cell_type": "code",
   "execution_count": 879,
   "metadata": {},
   "outputs": [
    {
     "data": {
      "text/html": [
       "<div>\n",
       "<style scoped>\n",
       "    .dataframe tbody tr th:only-of-type {\n",
       "        vertical-align: middle;\n",
       "    }\n",
       "\n",
       "    .dataframe tbody tr th {\n",
       "        vertical-align: top;\n",
       "    }\n",
       "\n",
       "    .dataframe thead th {\n",
       "        text-align: right;\n",
       "    }\n",
       "</style>\n",
       "<table border=\"1\" class=\"dataframe\">\n",
       "  <thead>\n",
       "    <tr style=\"text-align: right;\">\n",
       "      <th></th>\n",
       "      <th>state</th>\n",
       "      <th>ski_resort</th>\n",
       "      <th>user_name</th>\n",
       "      <th>review_date</th>\n",
       "      <th>rating</th>\n",
       "      <th>review</th>\n",
       "    </tr>\n",
       "  </thead>\n",
       "  <tbody>\n",
       "  </tbody>\n",
       "</table>\n",
       "</div>"
      ],
      "text/plain": [
       "Empty DataFrame\n",
       "Columns: [state, ski_resort, user_name, review_date, rating, review]\n",
       "Index: []"
      ]
     },
     "execution_count": 879,
     "metadata": {},
     "output_type": "execute_result"
    }
   ],
   "source": [
    "cleaned_snow[cleaned_snow['user_name'] == 'Larry']"
   ]
  },
  {
   "cell_type": "code",
   "execution_count": 880,
   "metadata": {},
   "outputs": [
    {
     "name": "stdout",
     "output_type": "stream",
     "text": [
      "<class 'pandas.core.frame.DataFrame'>\n",
      "Int64Index: 2213 entries, 103 to 18199\n",
      "Data columns (total 6 columns):\n",
      " #   Column       Non-Null Count  Dtype         \n",
      "---  ------       --------------  -----         \n",
      " 0   state        2213 non-null   object        \n",
      " 1   ski_resort   2213 non-null   object        \n",
      " 2   user_name    2213 non-null   object        \n",
      " 3   review_date  2213 non-null   datetime64[ns]\n",
      " 4   rating       2213 non-null   int64         \n",
      " 5   review       2212 non-null   object        \n",
      "dtypes: datetime64[ns](1), int64(1), object(4)\n",
      "memory usage: 121.0+ KB\n"
     ]
    }
   ],
   "source": [
    "cleaned_snow.info()"
   ]
  },
  {
   "cell_type": "code",
   "execution_count": 881,
   "metadata": {},
   "outputs": [
    {
     "data": {
      "text/plain": [
       "ski-brule                    41\n",
       "killington-resort            40\n",
       "breckenridge                 39\n",
       "vail                         36\n",
       "heavenly-mountain-resort     31\n",
       "                             ..\n",
       "new-hermon-mountain           1\n",
       "christmas-mountain            1\n",
       "pomerelle-mountain-resort     1\n",
       "wolf-creek                    1\n",
       "great-divide                  1\n",
       "Name: ski_resort, Length: 268, dtype: int64"
      ]
     },
     "execution_count": 881,
     "metadata": {},
     "output_type": "execute_result"
    }
   ],
   "source": [
    "cleaned_snow['ski_resort'].value_counts()"
   ]
  },
  {
   "cell_type": "code",
   "execution_count": 882,
   "metadata": {},
   "outputs": [
    {
     "data": {
      "text/plain": [
       "ski-brule                    41\n",
       "killington-resort            40\n",
       "breckenridge                 39\n",
       "vail                         36\n",
       "heavenly-mountain-resort     31\n",
       "                             ..\n",
       "new-hermon-mountain           1\n",
       "christmas-mountain            1\n",
       "pomerelle-mountain-resort     1\n",
       "wolf-creek                    1\n",
       "great-divide                  1\n",
       "Name: ski_resort, Length: 268, dtype: int64"
      ]
     },
     "execution_count": 882,
     "metadata": {},
     "output_type": "execute_result"
    }
   ],
   "source": [
    "cleaned_snow['ski_resort'].value_counts()"
   ]
  },
  {
   "cell_type": "code",
   "execution_count": 883,
   "metadata": {},
   "outputs": [
    {
     "data": {
      "text/plain": [
       "array(['squaw-valley-usa', 'sun-valley', 'donner-ski-ranch', 'boreal',\n",
       "       'diamond-peak', 'mt-baker', 'alpental', 'stevens-pass-resort',\n",
       "       'the-summit-at-snoqualmie', 'mt-rose-ski-tahoe', 'mountain-high',\n",
       "       'snowshoe-mountain-resort', 'alyeska-resort', 'steamboat',\n",
       "       'alta-ski-area', 'snowbird', 'snowbasin', 'brighton-resort',\n",
       "       'solitude-mountain-resort', 'deer-valley-resort',\n",
       "       'park-city-mountain-resort', 'jackson-hole', 'sundance',\n",
       "       'brian-head-resort', 'bretton-woods', 'loon-mountain',\n",
       "       'sierra-at-tahoe', 'heavenly-mountain-resort', 'gunstock',\n",
       "       'sno-mountain', 'attitash', 'crystal-mountain-wa', 'vail',\n",
       "       'killington-resort', 'waterville-valley', 'kirkwood',\n",
       "       'copper-mountain-resort', 'breckenridge',\n",
       "       'arapahoe-basin-ski-area', 'keystone', 'boyne-mountain-resort',\n",
       "       'crystal-mountain', 'shanty-creek', 'cannonsburg',\n",
       "       'boyne-highlands', 'aspen-snowmass', 'sunday-river',\n",
       "       'mount-sunapee', 'sugar-bowl-resort', 'soda-springs',\n",
       "       'northstar-california', 'tahoe-donner', 'cannon-mountain',\n",
       "       'wachusett-mountain-ski-area', 'stratton-mountain', 'sugarbush',\n",
       "       'okemo-mountain-resort', 'lutsen-mountains',\n",
       "       'hyland-ski-snowboard-area', 'afton-alps', 'spirit-mountain',\n",
       "       'mt-hood-ski-bowl', 'loveland', 'beaver-creek',\n",
       "       'wild-mountain-ski-snowboard-area', 'winter-park-resort',\n",
       "       'taos-ski-valley', 'monarch-mountain', 'bromley-mountain',\n",
       "       'paoli-peaks', 'canaan-valley-resort', 'silver-mountain',\n",
       "       'smugglers-notch-resort', 'big-bear', 'wisp', 'ski-santa-fe',\n",
       "       'mammoth-mountain-ski-area', 'devils-head',\n",
       "       'big-powderhorn-mountain', 'jay-peak', 'stowe-mountain-resort',\n",
       "       'pico-mountain-at-killington', 'elk-mountain-ski-resort',\n",
       "       'pajarito-mountain-ski-area', 'telluride', 'angel-fire-resort',\n",
       "       'wolf-creek-ski-area', 'durango-mountain-resort',\n",
       "       'crested-butte-mountain-resort', 'caberfae-peaks-ski-golf-resort',\n",
       "       'song-mountain', 'granite-peak-ski-area', 'sunburst',\n",
       "       'alpine-valley-resort', 'grand-geneva', 'wilmot-mountain',\n",
       "       'red-river', 'bear-valley', 'dodge-ridge', 'plattekill-mountain',\n",
       "       'mountain-creek-resort', 'gore-mountain',\n",
       "       'whiteface-mountain-resort', 'woods-valley-ski-area',\n",
       "       'mccauley-mountain-ski-center', 'snow-ridge', 'belleayre',\n",
       "       'timberline-lodge', 'dry-hill-ski-area', 'grand-targhee-resort',\n",
       "       'powder-mountain', 'pebble-creek-ski-area', 'bogus-basin',\n",
       "       'tamarack-resort', 'blue-mountain-ski-area', 'snow-summit',\n",
       "       'holiday-valley', 'crotched-mountain', 'nubs-nob-ski-area',\n",
       "       'sugar-mountain-resort', 'wintergreen-resort', 'willamette-pass',\n",
       "       'hoodoo-ski-area', 'jack-frost', 'mount-ashland', 'massanutten',\n",
       "       'sunrise-park-resort', 'june-mountain', 'mt-hood-meadows',\n",
       "       'ski-butternut', 'mount-peter-ski-area', 'windham-mountain',\n",
       "       'winterplace-ski-resort', 'bittersweet-ski-area', 'ski-china-peak',\n",
       "       'wolf-creek', 'swiss-valley', 'sugarloaf', 'new-hermon-mountain',\n",
       "       'snow-valley', 'snowy-range-ski-recreation-area',\n",
       "       'hunter-mountain', 'badger-pass',\n",
       "       'las-vegas-ski-and-snowboard-resort', 'ragged-mountain-resort',\n",
       "       'pats-peak', 'liberty', 'whitetail-resort',\n",
       "       'camelback-mountain-resort', 'terry-peak-ski-area',\n",
       "       'spring-mountain-ski-area', 'wildcat-mountain',\n",
       "       'cranmore-mountain-resort', 'bear-creek-mountain-resort',\n",
       "       'big-sky-resort', 'lost-trail-powder-mtn', 'montana-snowbowl',\n",
       "       'discovery-ski-area', 'eldora-mountain-resort', 'bear-mountain',\n",
       "       'sipapu-ski-and-summer-resort', 'ski-apache',\n",
       "       'indianhead-mountain', 'snow-king-resort',\n",
       "       'ski-mystic-at-deer-mountain', 'blacktail-mountain-ski-area',\n",
       "       'bridger-bowl', 'blue-hills-ski-area', 'schweitzer',\n",
       "       'whitefish-mountain-resort', 'great-divide', 'burke-mountain',\n",
       "       'sunlight-mountain-resort', 'snow-creek', 'perfect-north-slopes',\n",
       "       'buck-hill', 'andes-tower-hills-ski-area', 'cascade-mountain',\n",
       "       'ober-gatlinburg-ski-resort', 'hogadon', 'big-boulder',\n",
       "       'brundage-mountain-resort', 'timberline-four-seasons',\n",
       "       'roundtop-mountain-resort', 'wolf-ridge-ski-resort',\n",
       "       'whitecap-mountain', 'mt-baldy', 'chestnut-mountain-resort',\n",
       "       'villa-olivia', 'nordic-mountain',\n",
       "       'ski-snowstar-winter-sports-park', 'appalachian-ski-mtn',\n",
       "       'ski-beech-mountain-resort', 'norway-mountain',\n",
       "       'hidden-valley-ski-area', 'welch-village', 'ski-cooper',\n",
       "       'magic-mountain', 'mount-snow', 'shawnee-mountain-ski-area',\n",
       "       'christie-mountain', 'christmas-mountain', 'tyrol-basin',\n",
       "       'jiminy-peak', 'pine-mountain', 'powder-ridge-ski-area',\n",
       "       'mount-southington-ski-area', 'silverton-mountain', 'timber-ridge',\n",
       "       'arizona-snowbowl', 'cataloochee-ski-area', 'beaver-mountain',\n",
       "       'west-mountain', 'suicide-six', 'white-pass', 'berkshire-east',\n",
       "       'bousquet-ski-area', 'otis-ridge-ski-area',\n",
       "       'catamount-ski-ride-area', 'blandford-ski-area', 'ski-brule',\n",
       "       'blackjack-ski-resort', 'marquette-mountain',\n",
       "       'mount-holiday-ski-area', 'kelly-canyon-ski-area', 'shawnee-peak',\n",
       "       'ski-sundown', 'sundown-mountain', 'bradford-ski-area',\n",
       "       'bryce-resort', 'mohawk-mountain', 'titus-mountain',\n",
       "       'bolton-valley', 'bristol-mountain', 'king-pine',\n",
       "       'campgaw-mountain', 'mad-river-mountain', 'blue-knob',\n",
       "       'alpine-valley', 'peekn-peak', 'holimont-ski-area',\n",
       "       'mount-bohemia', 'snow-trails', 'boston-mills', 'brandywine',\n",
       "       'mt-bachelor', '49-degrees-north', 'lookout-pass-ski-area',\n",
       "       'greek-peak', 'mt-abram-ski-resort', 'pomerelle-mountain-resort',\n",
       "       'woodbury-ski-area', 'kissing-bridge', 'black-mountain',\n",
       "       'mission-ridge', 'toggenburg-mountain', 'ski-sawmill',\n",
       "       'sandia-peak', 'labrador-mt', 'mad-river-glen', 'trollhaugen',\n",
       "       'giants-ridge-resort', 'powderhorn', 'bruce-mound', 'cooper-spur',\n",
       "       'bluewood', 'mount-la-crosse', 'mt-crescent-ski-area'],\n",
       "      dtype=object)"
      ]
     },
     "execution_count": 883,
     "metadata": {},
     "output_type": "execute_result"
    }
   ],
   "source": [
    "cleaned_snow['ski_resort'].unique()"
   ]
  },
  {
   "cell_type": "code",
   "execution_count": 884,
   "metadata": {},
   "outputs": [],
   "source": [
    "replace_snow = ['-ski-area', '-', 'resort', 'mt']\n",
    "replace_with = ['', ' ', '', 'mt.']\n",
    "\n",
    "cleaned_snow = cleaned_snow.replace(replace_snow, replace_with, regex=True)"
   ]
  },
  {
   "cell_type": "code",
   "execution_count": 885,
   "metadata": {},
   "outputs": [],
   "source": [
    "#making columns titlecase\n",
    "cleaned_snow['ski_resort'] = cleaned_snow['ski_resort'].str.title()\n",
    "cleaned_snow['state'] = cleaned_snow['state'].str.title()\n",
    "cleaned_snow['ski_resort'] = cleaned_snow['ski_resort'].str.strip()"
   ]
  },
  {
   "cell_type": "code",
   "execution_count": 886,
   "metadata": {},
   "outputs": [],
   "source": [
    "replace_snow = ['At', 'Mtn', 'Mt.N', 'Mt. Hood Ski Bowl', 'And', r'\\bMount\\b']\n",
    "replace_with = ['at', 'Mountain', 'Mountain', 'Mt. Hood Skibowl', 'and', 'Mt.']\n",
    "\n",
    "cleaned_snow = cleaned_snow.replace(replace_snow, replace_with, regex=True)"
   ]
  },
  {
   "cell_type": "code",
   "execution_count": 887,
   "metadata": {},
   "outputs": [],
   "source": [
    "mountain_rep = ['Crystal Mountain - WA', 'Crystal Mountain Wa','Squaw Valley Usa',\n",
    "                'Mccauley Mountain Ski Center', 'attitash', 'Smugglers Notch',\n",
    "               'Pico Mountain at Killington', 'andes Tower Hills']\n",
    "mountain_new = [\"Crystal Mountain\", \"Crystal Mountain\", 'Palisades Tahoe',\n",
    "               'McCauley Mountain Ski Center', 'Attitash', \"Smugglers' Notch\",\n",
    "               'Pico Mountain', 'Andes Tower Hills']\n",
    "\n",
    "cleaned_snow = cleaned_snow.replace(mountain_rep, mountain_new, regex=True)"
   ]
  },
  {
   "cell_type": "code",
   "execution_count": 888,
   "metadata": {
    "scrolled": true
   },
   "outputs": [
    {
     "data": {
      "text/plain": [
       "['49 Degrees North',\n",
       " 'Afton Alps',\n",
       " 'Alpental',\n",
       " 'Alpine Valley',\n",
       " 'Alta',\n",
       " 'Alyeska',\n",
       " 'Andes Tower Hills',\n",
       " 'Angel Fire',\n",
       " 'Appalachian Ski Mountain',\n",
       " 'Arapahoe Basin',\n",
       " 'Arizona Snowbowl',\n",
       " 'Aspen Snowmass',\n",
       " 'Attitash',\n",
       " 'Badger Pass',\n",
       " 'Bear Creek Mountain',\n",
       " 'Bear Mountain',\n",
       " 'Bear Valley',\n",
       " 'Beaver Creek',\n",
       " 'Beaver Mountain',\n",
       " 'Belleayre',\n",
       " 'Berkshire East',\n",
       " 'Big Bear',\n",
       " 'Big Boulder',\n",
       " 'Big Powderhorn Mountain',\n",
       " 'Big Sky',\n",
       " 'Bittersweet',\n",
       " 'Black Mountain',\n",
       " 'Blackjack Ski',\n",
       " 'Blacktail Mountain',\n",
       " 'Blandford',\n",
       " 'Blue Hills',\n",
       " 'Blue Knob',\n",
       " 'Blue Mountain',\n",
       " 'Bluewood',\n",
       " 'Bogus Basin',\n",
       " 'Bolton Valley',\n",
       " 'Boreal',\n",
       " 'Boston Mills',\n",
       " 'Bousquet',\n",
       " 'Boyne Highlands',\n",
       " 'Boyne Mountain',\n",
       " 'Bradford',\n",
       " 'Brandywine',\n",
       " 'Breckenridge',\n",
       " 'Bretton Woods',\n",
       " 'Brian Head',\n",
       " 'Bridger Bowl',\n",
       " 'Brighton',\n",
       " 'Bristol Mountain',\n",
       " 'Bromley Mountain',\n",
       " 'Bruce Mound',\n",
       " 'Brundage Mountain',\n",
       " 'Bryce',\n",
       " 'Buck Hill',\n",
       " 'Burke Mountain',\n",
       " 'Caberfae Peaks Ski Golf',\n",
       " 'Camelback Mountain',\n",
       " 'Campgaw Mountain',\n",
       " 'Canaan Valley',\n",
       " 'Cannon Mountain',\n",
       " 'Cannonsburg',\n",
       " 'Cascade Mountain',\n",
       " 'Cataloochee',\n",
       " 'Catamount Ski Ride Area',\n",
       " 'Chestnut Mountain',\n",
       " 'Christie Mountain',\n",
       " 'Christmas Mountain',\n",
       " 'Cooper Spur',\n",
       " 'Copper Mountain',\n",
       " 'Cranmore Mountain',\n",
       " 'Crested Butte Mountain',\n",
       " 'Crotched Mountain',\n",
       " 'Crystal Mountain',\n",
       " 'Deer Valley',\n",
       " 'Devils Head',\n",
       " 'Diamond Peak',\n",
       " 'Discovery',\n",
       " 'Dodge Ridge',\n",
       " 'Donner Ski Ranch',\n",
       " 'Dry Hill',\n",
       " 'Durango Mountain',\n",
       " 'Eldora Mountain',\n",
       " 'Elk Mountain Ski',\n",
       " 'Giants Ridge',\n",
       " 'Gore Mountain',\n",
       " 'Grand Geneva',\n",
       " 'Grand Targhee',\n",
       " 'Granite Peak',\n",
       " 'Great Divide',\n",
       " 'Greek Peak',\n",
       " 'Gunstock',\n",
       " 'Heavenly Mountain',\n",
       " 'Hidden Valley',\n",
       " 'Hogadon',\n",
       " 'Holiday Valley',\n",
       " 'Holimont',\n",
       " 'Hoodoo',\n",
       " 'Hunter Mountain',\n",
       " 'Hyland Ski Snowboard Area',\n",
       " 'Indianhead Mountain',\n",
       " 'Jack Frost',\n",
       " 'Jackson Hole',\n",
       " 'Jay Peak',\n",
       " 'Jiminy Peak',\n",
       " 'June Mountain',\n",
       " 'Kelly Canyon',\n",
       " 'Keystone',\n",
       " 'Killington',\n",
       " 'King Pine',\n",
       " 'Kirkwood',\n",
       " 'Kissing Bridge',\n",
       " 'Labrador Mt.',\n",
       " 'Las Vegas Ski and Snowboard',\n",
       " 'Liberty',\n",
       " 'Lookout Pass',\n",
       " 'Loon Mountain',\n",
       " 'Lost Trail Powder Mountain',\n",
       " 'Loveland',\n",
       " 'Lutsen Mountains',\n",
       " 'Mad River Glen',\n",
       " 'Mad River Mountain',\n",
       " 'Magic Mountain',\n",
       " 'Mammoth Mountain',\n",
       " 'Marquette Mountain',\n",
       " 'Massanutten',\n",
       " 'McCauley Mountain Ski Center',\n",
       " 'Mission Ridge',\n",
       " 'Mohawk Mountain',\n",
       " 'Monarch Mountain',\n",
       " 'Montana Snowbowl',\n",
       " 'Mountain Creek',\n",
       " 'Mountain High',\n",
       " 'Mt. Abram Ski',\n",
       " 'Mt. Ashland',\n",
       " 'Mt. Bachelor',\n",
       " 'Mt. Baker',\n",
       " 'Mt. Baldy',\n",
       " 'Mt. Bohemia',\n",
       " 'Mt. Crescent',\n",
       " 'Mt. Holiday',\n",
       " 'Mt. Hood Meadows',\n",
       " 'Mt. Hood Skibowl',\n",
       " 'Mt. La Crosse',\n",
       " 'Mt. Peter',\n",
       " 'Mt. Rose Ski Tahoe',\n",
       " 'Mt. Snow',\n",
       " 'Mt. Southington',\n",
       " 'Mt. Sunapee',\n",
       " 'New Hermon Mountain',\n",
       " 'Nordic Mountain',\n",
       " 'Northstar California',\n",
       " 'Norway Mountain',\n",
       " 'Nubs Nob',\n",
       " 'Ober Gatlinburg Ski',\n",
       " 'Okemo Mountain',\n",
       " 'Otis Ridge',\n",
       " 'Pajarito Mountain',\n",
       " 'Palisades Tahoe',\n",
       " 'Paoli Peaks',\n",
       " 'Park City Mountain',\n",
       " 'Pats Peak',\n",
       " 'Pebble Creek',\n",
       " 'Peekn Peak',\n",
       " 'Perfect North Slopes',\n",
       " 'Pico Mountain',\n",
       " 'Pine Mountain',\n",
       " 'Plattekill Mountain',\n",
       " 'Pomerelle Mountain',\n",
       " 'Powder Mountain',\n",
       " 'Powder Ridge',\n",
       " 'Powderhorn',\n",
       " 'Ragged Mountain',\n",
       " 'Red River',\n",
       " 'Roundtop Mountain',\n",
       " 'Sandia Peak',\n",
       " 'Schweitzer',\n",
       " 'Shanty Creek',\n",
       " 'Shawnee Mountain',\n",
       " 'Shawnee Peak',\n",
       " 'Sierra at Tahoe',\n",
       " 'Silver Mountain',\n",
       " 'Silverton Mountain',\n",
       " 'Sipapu Ski and Summer',\n",
       " 'Ski Apache',\n",
       " 'Ski Beech Mountain',\n",
       " 'Ski Brule',\n",
       " 'Ski Butternut',\n",
       " 'Ski China Peak',\n",
       " 'Ski Cooper',\n",
       " 'Ski Mystic at Deer Mountain',\n",
       " 'Ski Santa Fe',\n",
       " 'Ski Sawmill',\n",
       " 'Ski Snowstar Winter Sports Park',\n",
       " 'Ski Sundown',\n",
       " \"Smugglers' Notch\",\n",
       " 'Sno Mountain',\n",
       " 'Snow Creek',\n",
       " 'Snow King',\n",
       " 'Snow Ridge',\n",
       " 'Snow Summit',\n",
       " 'Snow Trails',\n",
       " 'Snow Valley',\n",
       " 'Snowbasin',\n",
       " 'Snowbird',\n",
       " 'Snowshoe Mountain',\n",
       " 'Snowy Range Ski Recreation Area',\n",
       " 'Soda Springs',\n",
       " 'Solitude Mountain',\n",
       " 'Song Mountain',\n",
       " 'Spirit Mountain',\n",
       " 'Spring Mountain',\n",
       " 'Steamboat',\n",
       " 'Stevens Pass',\n",
       " 'Stowe Mountain',\n",
       " 'Stratton Mountain',\n",
       " 'Sugar Bowl',\n",
       " 'Sugar Mountain',\n",
       " 'Sugarbush',\n",
       " 'Sugarloaf',\n",
       " 'Suicide Six',\n",
       " 'Sun Valley',\n",
       " 'Sunburst',\n",
       " 'Sundance',\n",
       " 'Sunday River',\n",
       " 'Sundown Mountain',\n",
       " 'Sunlight Mountain',\n",
       " 'Sunrise Park',\n",
       " 'Swiss Valley',\n",
       " 'Tahoe Donner',\n",
       " 'Tamarack',\n",
       " 'Taos Ski Valley',\n",
       " 'Telluride',\n",
       " 'Terry Peak',\n",
       " 'The Summit at Snoqualmie',\n",
       " 'Timber Ridge',\n",
       " 'Timberline Four Seasons',\n",
       " 'Timberline Lodge',\n",
       " 'Titus Mountain',\n",
       " 'Toggenburg Mountain',\n",
       " 'Trollhaugen',\n",
       " 'Tyrol Basin',\n",
       " 'Vail',\n",
       " 'Villa Olivia',\n",
       " 'Wachusett Mountain',\n",
       " 'Waterville Valley',\n",
       " 'Welch Village',\n",
       " 'West Mountain',\n",
       " 'White Pass',\n",
       " 'Whitecap Mountain',\n",
       " 'Whiteface Mountain',\n",
       " 'Whitefish Mountain',\n",
       " 'Whitetail',\n",
       " 'Wild Mountain Ski Snowboard Area',\n",
       " 'Wildcat Mountain',\n",
       " 'Willamette Pass',\n",
       " 'Wilmot Mountain',\n",
       " 'Windham Mountain',\n",
       " 'Winter Park',\n",
       " 'Wintergreen',\n",
       " 'Winterplace Ski',\n",
       " 'Wisp',\n",
       " 'Wolf Creek',\n",
       " 'Wolf Ridge Ski',\n",
       " 'Woodbury',\n",
       " 'Woods Valley']"
      ]
     },
     "execution_count": 888,
     "metadata": {},
     "output_type": "execute_result"
    }
   ],
   "source": [
    "list(cleaned_snow['ski_resort'].sort_values().unique())"
   ]
  },
  {
   "cell_type": "markdown",
   "metadata": {},
   "source": [
    "## Cleaning Survey Data"
   ]
  },
  {
   "cell_type": "code",
   "execution_count": 889,
   "metadata": {},
   "outputs": [],
   "source": [
    "#making columns titlecase\n",
    "survey_df['ski_resort'] =survey_df['ski_resort'].str.title()\n",
    "survey_df['state'] = survey_df['state'].str.title()\n",
    "survey_df['ski_resort'] = survey_df['ski_resort'].str.strip()"
   ]
  },
  {
   "cell_type": "code",
   "execution_count": 890,
   "metadata": {},
   "outputs": [
    {
     "data": {
      "text/plain": [
       "['Alta',\n",
       " 'Arapahoe Basin',\n",
       " 'Aspen Highlands',\n",
       " 'Aspen Mountain',\n",
       " 'Bear Valley',\n",
       " 'Beaver Creek',\n",
       " 'Beaver Mountain',\n",
       " 'Breckenridge',\n",
       " 'Brighton',\n",
       " 'Cherry Peak',\n",
       " 'Copper',\n",
       " 'Copper Mountain',\n",
       " 'Crested Butte',\n",
       " 'Crystal Mountain - Wa',\n",
       " 'Deer Valley',\n",
       " 'Dodge Ridge',\n",
       " 'Gore Mountain',\n",
       " 'Hunter Mountain',\n",
       " 'Jackson Hole',\n",
       " 'Killington',\n",
       " 'Mammoth',\n",
       " 'Mammoth Mountain',\n",
       " 'Mccauley Mountain',\n",
       " 'Mt Baker',\n",
       " 'Mt. Rose',\n",
       " 'Nordic Valley',\n",
       " 'Palisades',\n",
       " 'Palisades Tahoe',\n",
       " 'Park City Mountain',\n",
       " 'Powder Mountain',\n",
       " 'Roundtop Mountain',\n",
       " 'Snow Ridge',\n",
       " 'Snowbird',\n",
       " 'Snowmass',\n",
       " 'Solitude',\n",
       " 'Steamboat',\n",
       " \"Steven'S Pass\",\n",
       " 'Stevens Pass',\n",
       " 'Stratton',\n",
       " 'Sugarbush',\n",
       " 'Taos',\n",
       " 'Telluride',\n",
       " 'Vail',\n",
       " 'Winter Park',\n",
       " 'Woods Valley']"
      ]
     },
     "execution_count": 890,
     "metadata": {},
     "output_type": "execute_result"
    }
   ],
   "source": [
    "list(survey_df['ski_resort'].sort_values().unique())"
   ]
  },
  {
   "cell_type": "code",
   "execution_count": 891,
   "metadata": {},
   "outputs": [],
   "source": [
    "mountain_rep = ['Crystal Mountain - Wa', 'Crystal Mountain Wa', \"Steven'S Pass\", 'Mammoth Mountain', 'Mammoth', 'Stratton',\n",
    "                'Mccauley Mountain', 'Taos', 'Snowmass', 'Palisades Tahoe', 'Palisades', 'Copper Mountain', 'Copper',\n",
    "                'Crested Butte', 'Mt. Rose', 'Mt Baker', 'Nordic Valley' ,'Solitude']\n",
    "mountain_rep_p = ['Crystal Mountain', 'Crystal Mountain','Stevens Pass', 'Mammoth', 'Mammoth Mountain','Stratton Mountain',\n",
    "                 'McCauley Mountain Ski Center', 'Taos Ski Valley', 'Aspen Snowmass', 'Palisades', 'Palisades Tahoe', 'Copper', 'Copper Mountain',\n",
    "                 'Crested Butte Mountain', 'Mt. Rose Ski Tahoe', 'Mt. Baker', 'Nordic Mountain', 'Solitude Mountain']\n",
    "\n",
    "survey_df = survey_df.replace(mountain_rep, mountain_rep_p, regex=True)"
   ]
  },
  {
   "cell_type": "code",
   "execution_count": 892,
   "metadata": {},
   "outputs": [],
   "source": [
    "# changing aspen resorts since all four mountains are part of snowmass\n",
    "mountain_r = ['Aspen Mountain', 'Aspen Highlands']\n",
    "\n",
    "survey_df = survey_df.replace(mountain_r, 'Aspen Snowmass', regex=True)"
   ]
  },
  {
   "cell_type": "code",
   "execution_count": 893,
   "metadata": {},
   "outputs": [
    {
     "data": {
      "text/plain": [
       "array(['Cherry Peak'], dtype=object)"
      ]
     },
     "execution_count": 893,
     "metadata": {},
     "output_type": "execute_result"
    }
   ],
   "source": [
    "#checking to see which names aren't the same\n",
    "survey_df.loc[~survey_df['ski_resort'].isin(cleaned_snow['ski_resort']),\n",
    "                         'ski_resort'].unique()"
   ]
  },
  {
   "cell_type": "code",
   "execution_count": 894,
   "metadata": {},
   "outputs": [
    {
     "data": {
      "text/plain": [
       "['49 Degrees North',\n",
       " 'Afton Alps',\n",
       " 'Alpental',\n",
       " 'Alpine Valley',\n",
       " 'Alta',\n",
       " 'Alyeska',\n",
       " 'Andes Tower Hills',\n",
       " 'Angel Fire',\n",
       " 'Appalachian Ski Mountain',\n",
       " 'Arapahoe Basin',\n",
       " 'Arizona Snowbowl',\n",
       " 'Aspen Snowmass',\n",
       " 'Attitash',\n",
       " 'Badger Pass',\n",
       " 'Bear Creek Mountain',\n",
       " 'Bear Mountain',\n",
       " 'Bear Valley',\n",
       " 'Beaver Creek',\n",
       " 'Beaver Mountain',\n",
       " 'Belleayre',\n",
       " 'Berkshire East',\n",
       " 'Big Bear',\n",
       " 'Big Boulder',\n",
       " 'Big Powderhorn Mountain',\n",
       " 'Big Sky',\n",
       " 'Bittersweet',\n",
       " 'Black Mountain',\n",
       " 'Blackjack Ski',\n",
       " 'Blacktail Mountain',\n",
       " 'Blandford',\n",
       " 'Blue Hills',\n",
       " 'Blue Knob',\n",
       " 'Blue Mountain',\n",
       " 'Bluewood',\n",
       " 'Bogus Basin',\n",
       " 'Bolton Valley',\n",
       " 'Boreal',\n",
       " 'Boston Mills',\n",
       " 'Bousquet',\n",
       " 'Boyne Highlands',\n",
       " 'Boyne Mountain',\n",
       " 'Bradford',\n",
       " 'Brandywine',\n",
       " 'Breckenridge',\n",
       " 'Bretton Woods',\n",
       " 'Brian Head',\n",
       " 'Bridger Bowl',\n",
       " 'Brighton',\n",
       " 'Bristol Mountain',\n",
       " 'Bromley Mountain',\n",
       " 'Bruce Mound',\n",
       " 'Brundage Mountain',\n",
       " 'Bryce',\n",
       " 'Buck Hill',\n",
       " 'Burke Mountain',\n",
       " 'Caberfae Peaks Ski Golf',\n",
       " 'Camelback Mountain',\n",
       " 'Campgaw Mountain',\n",
       " 'Canaan Valley',\n",
       " 'Cannon Mountain',\n",
       " 'Cannonsburg',\n",
       " 'Cascade Mountain',\n",
       " 'Cataloochee',\n",
       " 'Catamount Ski Ride Area',\n",
       " 'Chestnut Mountain',\n",
       " 'Christie Mountain',\n",
       " 'Christmas Mountain',\n",
       " 'Cooper Spur',\n",
       " 'Copper Mountain',\n",
       " 'Cranmore Mountain',\n",
       " 'Crested Butte Mountain',\n",
       " 'Crotched Mountain',\n",
       " 'Crystal Mountain',\n",
       " 'Deer Valley',\n",
       " 'Devils Head',\n",
       " 'Diamond Peak',\n",
       " 'Discovery',\n",
       " 'Dodge Ridge',\n",
       " 'Donner Ski Ranch',\n",
       " 'Dry Hill',\n",
       " 'Durango Mountain',\n",
       " 'Eldora Mountain',\n",
       " 'Elk Mountain Ski',\n",
       " 'Giants Ridge',\n",
       " 'Gore Mountain',\n",
       " 'Grand Geneva',\n",
       " 'Grand Targhee',\n",
       " 'Granite Peak',\n",
       " 'Great Divide',\n",
       " 'Greek Peak',\n",
       " 'Gunstock',\n",
       " 'Heavenly Mountain',\n",
       " 'Hidden Valley',\n",
       " 'Hogadon',\n",
       " 'Holiday Valley',\n",
       " 'Holimont',\n",
       " 'Hoodoo',\n",
       " 'Hunter Mountain',\n",
       " 'Hyland Ski Snowboard Area',\n",
       " 'Indianhead Mountain',\n",
       " 'Jack Frost',\n",
       " 'Jackson Hole',\n",
       " 'Jay Peak',\n",
       " 'Jiminy Peak',\n",
       " 'June Mountain',\n",
       " 'Kelly Canyon',\n",
       " 'Keystone',\n",
       " 'Killington',\n",
       " 'King Pine',\n",
       " 'Kirkwood',\n",
       " 'Kissing Bridge',\n",
       " 'Labrador Mt.',\n",
       " 'Las Vegas Ski and Snowboard',\n",
       " 'Liberty',\n",
       " 'Lookout Pass',\n",
       " 'Loon Mountain',\n",
       " 'Lost Trail Powder Mountain',\n",
       " 'Loveland',\n",
       " 'Lutsen Mountains',\n",
       " 'Mad River Glen',\n",
       " 'Mad River Mountain',\n",
       " 'Magic Mountain',\n",
       " 'Mammoth Mountain',\n",
       " 'Marquette Mountain',\n",
       " 'Massanutten',\n",
       " 'McCauley Mountain Ski Center',\n",
       " 'Mission Ridge',\n",
       " 'Mohawk Mountain',\n",
       " 'Monarch Mountain',\n",
       " 'Montana Snowbowl',\n",
       " 'Mountain Creek',\n",
       " 'Mountain High',\n",
       " 'Mt. Abram Ski',\n",
       " 'Mt. Ashland',\n",
       " 'Mt. Bachelor',\n",
       " 'Mt. Baker',\n",
       " 'Mt. Baldy',\n",
       " 'Mt. Bohemia',\n",
       " 'Mt. Crescent',\n",
       " 'Mt. Holiday',\n",
       " 'Mt. Hood Meadows',\n",
       " 'Mt. Hood Skibowl',\n",
       " 'Mt. La Crosse',\n",
       " 'Mt. Peter',\n",
       " 'Mt. Rose Ski Tahoe',\n",
       " 'Mt. Snow',\n",
       " 'Mt. Southington',\n",
       " 'Mt. Sunapee',\n",
       " 'New Hermon Mountain',\n",
       " 'Nordic Mountain',\n",
       " 'Northstar California',\n",
       " 'Norway Mountain',\n",
       " 'Nubs Nob',\n",
       " 'Ober Gatlinburg Ski',\n",
       " 'Okemo Mountain',\n",
       " 'Otis Ridge',\n",
       " 'Pajarito Mountain',\n",
       " 'Palisades Tahoe',\n",
       " 'Paoli Peaks',\n",
       " 'Park City Mountain',\n",
       " 'Pats Peak',\n",
       " 'Pebble Creek',\n",
       " 'Peekn Peak',\n",
       " 'Perfect North Slopes',\n",
       " 'Pico Mountain',\n",
       " 'Pine Mountain',\n",
       " 'Plattekill Mountain',\n",
       " 'Pomerelle Mountain',\n",
       " 'Powder Mountain',\n",
       " 'Powder Ridge',\n",
       " 'Powderhorn',\n",
       " 'Ragged Mountain',\n",
       " 'Red River',\n",
       " 'Roundtop Mountain',\n",
       " 'Sandia Peak',\n",
       " 'Schweitzer',\n",
       " 'Shanty Creek',\n",
       " 'Shawnee Mountain',\n",
       " 'Shawnee Peak',\n",
       " 'Sierra at Tahoe',\n",
       " 'Silver Mountain',\n",
       " 'Silverton Mountain',\n",
       " 'Sipapu Ski and Summer',\n",
       " 'Ski Apache',\n",
       " 'Ski Beech Mountain',\n",
       " 'Ski Brule',\n",
       " 'Ski Butternut',\n",
       " 'Ski China Peak',\n",
       " 'Ski Cooper',\n",
       " 'Ski Mystic at Deer Mountain',\n",
       " 'Ski Santa Fe',\n",
       " 'Ski Sawmill',\n",
       " 'Ski Snowstar Winter Sports Park',\n",
       " 'Ski Sundown',\n",
       " \"Smugglers' Notch\",\n",
       " 'Sno Mountain',\n",
       " 'Snow Creek',\n",
       " 'Snow King',\n",
       " 'Snow Ridge',\n",
       " 'Snow Summit',\n",
       " 'Snow Trails',\n",
       " 'Snow Valley',\n",
       " 'Snowbasin',\n",
       " 'Snowbird',\n",
       " 'Snowshoe Mountain',\n",
       " 'Snowy Range Ski Recreation Area',\n",
       " 'Soda Springs',\n",
       " 'Solitude Mountain',\n",
       " 'Song Mountain',\n",
       " 'Spirit Mountain',\n",
       " 'Spring Mountain',\n",
       " 'Steamboat',\n",
       " 'Stevens Pass',\n",
       " 'Stowe Mountain',\n",
       " 'Stratton Mountain',\n",
       " 'Sugar Bowl',\n",
       " 'Sugar Mountain',\n",
       " 'Sugarbush',\n",
       " 'Sugarloaf',\n",
       " 'Suicide Six',\n",
       " 'Sun Valley',\n",
       " 'Sunburst',\n",
       " 'Sundance',\n",
       " 'Sunday River',\n",
       " 'Sundown Mountain',\n",
       " 'Sunlight Mountain',\n",
       " 'Sunrise Park',\n",
       " 'Swiss Valley',\n",
       " 'Tahoe Donner',\n",
       " 'Tamarack',\n",
       " 'Taos Ski Valley',\n",
       " 'Telluride',\n",
       " 'Terry Peak',\n",
       " 'The Summit at Snoqualmie',\n",
       " 'Timber Ridge',\n",
       " 'Timberline Four Seasons',\n",
       " 'Timberline Lodge',\n",
       " 'Titus Mountain',\n",
       " 'Toggenburg Mountain',\n",
       " 'Trollhaugen',\n",
       " 'Tyrol Basin',\n",
       " 'Vail',\n",
       " 'Villa Olivia',\n",
       " 'Wachusett Mountain',\n",
       " 'Waterville Valley',\n",
       " 'Welch Village',\n",
       " 'West Mountain',\n",
       " 'White Pass',\n",
       " 'Whitecap Mountain',\n",
       " 'Whiteface Mountain',\n",
       " 'Whitefish Mountain',\n",
       " 'Whitetail',\n",
       " 'Wild Mountain Ski Snowboard Area',\n",
       " 'Wildcat Mountain',\n",
       " 'Willamette Pass',\n",
       " 'Wilmot Mountain',\n",
       " 'Windham Mountain',\n",
       " 'Winter Park',\n",
       " 'Wintergreen',\n",
       " 'Winterplace Ski',\n",
       " 'Wisp',\n",
       " 'Wolf Creek',\n",
       " 'Wolf Ridge Ski',\n",
       " 'Woodbury',\n",
       " 'Woods Valley']"
      ]
     },
     "execution_count": 894,
     "metadata": {},
     "output_type": "execute_result"
    }
   ],
   "source": [
    "list(cleaned_snow['ski_resort'].sort_values().unique())"
   ]
  },
  {
   "cell_type": "code",
   "execution_count": 895,
   "metadata": {},
   "outputs": [
    {
     "data": {
      "text/plain": [
       "['Alta',\n",
       " 'Arapahoe Basin',\n",
       " 'Aspen Snowmass',\n",
       " 'Bear Valley',\n",
       " 'Beaver Creek',\n",
       " 'Beaver Mountain',\n",
       " 'Breckenridge',\n",
       " 'Brighton',\n",
       " 'Cherry Peak',\n",
       " 'Copper Mountain',\n",
       " 'Crested Butte Mountain',\n",
       " 'Crystal Mountain',\n",
       " 'Deer Valley',\n",
       " 'Dodge Ridge',\n",
       " 'Gore Mountain',\n",
       " 'Hunter Mountain',\n",
       " 'Jackson Hole',\n",
       " 'Killington',\n",
       " 'Mammoth Mountain',\n",
       " 'McCauley Mountain Ski Center',\n",
       " 'Mt. Baker',\n",
       " 'Mt. Rose Ski Tahoe',\n",
       " 'Nordic Mountain',\n",
       " 'Palisades Tahoe',\n",
       " 'Park City Mountain',\n",
       " 'Powder Mountain',\n",
       " 'Roundtop Mountain',\n",
       " 'Snow Ridge',\n",
       " 'Snowbird',\n",
       " 'Solitude Mountain',\n",
       " 'Steamboat',\n",
       " 'Stevens Pass',\n",
       " 'Stratton Mountain',\n",
       " 'Sugarbush',\n",
       " 'Taos Ski Valley',\n",
       " 'Telluride',\n",
       " 'Vail',\n",
       " 'Winter Park',\n",
       " 'Woods Valley']"
      ]
     },
     "execution_count": 895,
     "metadata": {},
     "output_type": "execute_result"
    }
   ],
   "source": [
    "list(survey_df['ski_resort'].sort_values().unique())"
   ]
  },
  {
   "cell_type": "markdown",
   "metadata": {},
   "source": [
    "### Merging survey and OnTheSnow review dataframes"
   ]
  },
  {
   "cell_type": "code",
   "execution_count": 896,
   "metadata": {},
   "outputs": [],
   "source": [
    "#merging survey review results and final onthesnow reviews\n",
    "final_ski_df = pd.concat([survey_df, cleaned_snow])"
   ]
  },
  {
   "cell_type": "code",
   "execution_count": 897,
   "metadata": {},
   "outputs": [],
   "source": [
    "final_ski_df = final_ski_df.dropna()"
   ]
  },
  {
   "cell_type": "code",
   "execution_count": 899,
   "metadata": {},
   "outputs": [
    {
     "data": {
      "text/html": [
       "<div>\n",
       "<style scoped>\n",
       "    .dataframe tbody tr th:only-of-type {\n",
       "        vertical-align: middle;\n",
       "    }\n",
       "\n",
       "    .dataframe tbody tr th {\n",
       "        vertical-align: top;\n",
       "    }\n",
       "\n",
       "    .dataframe thead th {\n",
       "        text-align: right;\n",
       "    }\n",
       "</style>\n",
       "<table border=\"1\" class=\"dataframe\">\n",
       "  <thead>\n",
       "    <tr style=\"text-align: right;\">\n",
       "      <th></th>\n",
       "      <th>review_date</th>\n",
       "      <th>state</th>\n",
       "      <th>ski_resort</th>\n",
       "      <th>rating</th>\n",
       "      <th>review</th>\n",
       "      <th>user_name</th>\n",
       "    </tr>\n",
       "  </thead>\n",
       "  <tbody>\n",
       "    <tr>\n",
       "      <th>0</th>\n",
       "      <td>2023-05-04</td>\n",
       "      <td>Colorado</td>\n",
       "      <td>Winter Park</td>\n",
       "      <td>4</td>\n",
       "      <td>Very family friendly</td>\n",
       "      <td>anon_1</td>\n",
       "    </tr>\n",
       "    <tr>\n",
       "      <th>1</th>\n",
       "      <td>2023-05-04</td>\n",
       "      <td>Colorado</td>\n",
       "      <td>Arapahoe Basin</td>\n",
       "      <td>5</td>\n",
       "      <td>Challenging terrain, no frills</td>\n",
       "      <td>anon_1</td>\n",
       "    </tr>\n",
       "    <tr>\n",
       "      <th>2</th>\n",
       "      <td>2023-05-04</td>\n",
       "      <td>Colorado</td>\n",
       "      <td>Steamboat</td>\n",
       "      <td>5</td>\n",
       "      <td>Great public transport to and from lodging</td>\n",
       "      <td>anon_1</td>\n",
       "    </tr>\n",
       "    <tr>\n",
       "      <th>3</th>\n",
       "      <td>2023-05-04</td>\n",
       "      <td>Colorado</td>\n",
       "      <td>Copper Mountain</td>\n",
       "      <td>5</td>\n",
       "      <td>Extremely diverse terrain and fantastic terrai...</td>\n",
       "      <td>anon_1</td>\n",
       "    </tr>\n",
       "    <tr>\n",
       "      <th>4</th>\n",
       "      <td>2023-05-04</td>\n",
       "      <td>Utah</td>\n",
       "      <td>Solitude Mountain</td>\n",
       "      <td>5</td>\n",
       "      <td>They had so much terrain, especially for the s...</td>\n",
       "      <td>anon_2</td>\n",
       "    </tr>\n",
       "    <tr>\n",
       "      <th>...</th>\n",
       "      <td>...</td>\n",
       "      <td>...</td>\n",
       "      <td>...</td>\n",
       "      <td>...</td>\n",
       "      <td>...</td>\n",
       "      <td>...</td>\n",
       "    </tr>\n",
       "    <tr>\n",
       "      <th>18155</th>\n",
       "      <td>2020-10-28</td>\n",
       "      <td>Montana</td>\n",
       "      <td>Discovery</td>\n",
       "      <td>5</td>\n",
       "      <td>Easy to get to nice large for family dining\\nG...</td>\n",
       "      <td>Lori Young</td>\n",
       "    </tr>\n",
       "    <tr>\n",
       "      <th>18156</th>\n",
       "      <td>2020-10-28</td>\n",
       "      <td>Montana</td>\n",
       "      <td>Discovery</td>\n",
       "      <td>5</td>\n",
       "      <td>This little  is top notch and not full of peop...</td>\n",
       "      <td>Lori Young</td>\n",
       "    </tr>\n",
       "    <tr>\n",
       "      <th>18157</th>\n",
       "      <td>2020-10-28</td>\n",
       "      <td>Montana</td>\n",
       "      <td>Discovery</td>\n",
       "      <td>5</td>\n",
       "      <td>Easy to get to nice large for family dining\\nG...</td>\n",
       "      <td>Lori Young</td>\n",
       "    </tr>\n",
       "    <tr>\n",
       "      <th>18198</th>\n",
       "      <td>2020-12-03</td>\n",
       "      <td>Washington</td>\n",
       "      <td>Mt. Baker</td>\n",
       "      <td>5</td>\n",
       "      <td>First time to Baker after a snowy Nov.  Parkin...</td>\n",
       "      <td>Matt  H</td>\n",
       "    </tr>\n",
       "    <tr>\n",
       "      <th>18199</th>\n",
       "      <td>2020-12-03</td>\n",
       "      <td>Washington</td>\n",
       "      <td>Mt. Baker</td>\n",
       "      <td>5</td>\n",
       "      <td>First time to Baker after a snowy Nov.  Parkin...</td>\n",
       "      <td>Matt  H</td>\n",
       "    </tr>\n",
       "  </tbody>\n",
       "</table>\n",
       "<p>2274 rows × 6 columns</p>\n",
       "</div>"
      ],
      "text/plain": [
       "      review_date       state         ski_resort  rating  \\\n",
       "0      2023-05-04    Colorado        Winter Park       4   \n",
       "1      2023-05-04    Colorado     Arapahoe Basin       5   \n",
       "2      2023-05-04    Colorado          Steamboat       5   \n",
       "3      2023-05-04    Colorado    Copper Mountain       5   \n",
       "4      2023-05-04        Utah  Solitude Mountain       5   \n",
       "...           ...         ...                ...     ...   \n",
       "18155  2020-10-28     Montana          Discovery       5   \n",
       "18156  2020-10-28     Montana          Discovery       5   \n",
       "18157  2020-10-28     Montana          Discovery       5   \n",
       "18198  2020-12-03  Washington          Mt. Baker       5   \n",
       "18199  2020-12-03  Washington          Mt. Baker       5   \n",
       "\n",
       "                                                  review   user_name  \n",
       "0                                   Very family friendly      anon_1  \n",
       "1                         Challenging terrain, no frills      anon_1  \n",
       "2             Great public transport to and from lodging      anon_1  \n",
       "3      Extremely diverse terrain and fantastic terrai...      anon_1  \n",
       "4      They had so much terrain, especially for the s...      anon_2  \n",
       "...                                                  ...         ...  \n",
       "18155  Easy to get to nice large for family dining\\nG...  Lori Young  \n",
       "18156  This little  is top notch and not full of peop...  Lori Young  \n",
       "18157  Easy to get to nice large for family dining\\nG...  Lori Young  \n",
       "18198  First time to Baker after a snowy Nov.  Parkin...     Matt  H  \n",
       "18199  First time to Baker after a snowy Nov.  Parkin...     Matt  H  \n",
       "\n",
       "[2274 rows x 6 columns]"
      ]
     },
     "execution_count": 899,
     "metadata": {},
     "output_type": "execute_result"
    }
   ],
   "source": [
    "final_ski_df"
   ]
  },
  {
   "cell_type": "code",
   "execution_count": 900,
   "metadata": {},
   "outputs": [],
   "source": [
    "final_ski_df = final_ski_df.drop_duplicates()"
   ]
  },
  {
   "cell_type": "code",
   "execution_count": 901,
   "metadata": {},
   "outputs": [
    {
     "name": "stdout",
     "output_type": "stream",
     "text": [
      "<class 'pandas.core.frame.DataFrame'>\n",
      "Int64Index: 2079 entries, 0 to 18198\n",
      "Data columns (total 6 columns):\n",
      " #   Column       Non-Null Count  Dtype         \n",
      "---  ------       --------------  -----         \n",
      " 0   review_date  2079 non-null   datetime64[ns]\n",
      " 1   state        2079 non-null   object        \n",
      " 2   ski_resort   2079 non-null   object        \n",
      " 3   rating       2079 non-null   int64         \n",
      " 4   review       2079 non-null   object        \n",
      " 5   user_name    2079 non-null   object        \n",
      "dtypes: datetime64[ns](1), int64(1), object(4)\n",
      "memory usage: 113.7+ KB\n"
     ]
    }
   ],
   "source": [
    "final_ski_df.info()"
   ]
  },
  {
   "cell_type": "code",
   "execution_count": 902,
   "metadata": {},
   "outputs": [],
   "source": [
    "#Blackjack ski and Indianhead combined to form Snowriver Mountain Resort\n",
    "blackjack = ['Blackjack Ski', 'Indianhead Mountain']\n",
    "\n",
    "final_ski_df = final_ski_df.replace(blackjack, 'Snowriver Mountain Resort', regex=True)"
   ]
  },
  {
   "cell_type": "code",
   "execution_count": 903,
   "metadata": {},
   "outputs": [],
   "source": [
    "old_name = ['Durango']\n",
    "\n",
    "final_ski_df = final_ski_df.replace(old_name, 'Purgatory', regex=True)"
   ]
  },
  {
   "cell_type": "code",
   "execution_count": 904,
   "metadata": {},
   "outputs": [],
   "source": [
    "old_name = ['Las Vegas Ski and Snowboard']\n",
    "\n",
    "final_ski_df = final_ski_df.replace(old_name, 'Lee Canyon', regex=True)"
   ]
  },
  {
   "cell_type": "code",
   "execution_count": 905,
   "metadata": {},
   "outputs": [],
   "source": [
    "old_name = ['Shawnee Peak']\n",
    "\n",
    "final_ski_df = final_ski_df.replace(old_name, 'Shawnee Mountain', regex=True)"
   ]
  },
  {
   "cell_type": "code",
   "execution_count": 906,
   "metadata": {},
   "outputs": [],
   "source": [
    "old_name = ['Suicide Six']\n",
    "\n",
    "final_ski_df = final_ski_df.replace(old_name, 'Saskadena Six', regex=True)"
   ]
  },
  {
   "cell_type": "code",
   "execution_count": 907,
   "metadata": {},
   "outputs": [],
   "source": [
    "old_name = ['Timberline Four Seasons']\n",
    "\n",
    "final_ski_df = final_ski_df.replace(old_name, 'Timberline', regex=True)"
   ]
  },
  {
   "cell_type": "code",
   "execution_count": 908,
   "metadata": {},
   "outputs": [],
   "source": [
    "old_name = ['Snow Summit']\n",
    "\n",
    "final_ski_df = final_ski_df.replace(old_name, 'Big Bear', regex=True)"
   ]
  },
  {
   "cell_type": "code",
   "execution_count": 913,
   "metadata": {},
   "outputs": [],
   "source": [
    "# making dictionary for replacements to avoid doubling values\n",
    "replacements = {\n",
    "    'Brandywine': 'Boston Mills and Brandywine',\n",
    "    'Boston Mills': 'Boston Mills and Brandywine'\n",
    "}\n",
    "\n",
    "# replacing\n",
    "final_ski_df['ski_resort'] = final_ski_df['ski_resort'].replace(replacements)"
   ]
  },
  {
   "cell_type": "code",
   "execution_count": null,
   "metadata": {},
   "outputs": [],
   "source": [
    "final_ski_df.loc[(final_ski_df['ski_resort'] == \"Alpine Valley\") & (final_ski_df['state'] == \"Wisconsin\"), 'ski_resort'] = \"Alpine Valley Wisconsin\"\n",
    "final_ski_df.loc[(final_ski_df['ski_resort'] == \"Alpine Valley\") & (final_ski_df['state'] == \"Ohio\"), 'ski_resort'] = \"Alpine Valley Ohio\""
   ]
  },
  {
   "cell_type": "code",
   "execution_count": 917,
   "metadata": {},
   "outputs": [],
   "source": [
    "final_ski_df = final_ski_df.loc[(final_ski_df['ski_resort'] != \"Cherry Peak\")]"
   ]
  },
  {
   "cell_type": "code",
   "execution_count": 918,
   "metadata": {},
   "outputs": [
    {
     "data": {
      "text/html": [
       "<div>\n",
       "<style scoped>\n",
       "    .dataframe tbody tr th:only-of-type {\n",
       "        vertical-align: middle;\n",
       "    }\n",
       "\n",
       "    .dataframe tbody tr th {\n",
       "        vertical-align: top;\n",
       "    }\n",
       "\n",
       "    .dataframe thead th {\n",
       "        text-align: right;\n",
       "    }\n",
       "</style>\n",
       "<table border=\"1\" class=\"dataframe\">\n",
       "  <thead>\n",
       "    <tr style=\"text-align: right;\">\n",
       "      <th></th>\n",
       "      <th>review_date</th>\n",
       "      <th>state</th>\n",
       "      <th>ski_resort</th>\n",
       "      <th>rating</th>\n",
       "      <th>review</th>\n",
       "      <th>user_name</th>\n",
       "    </tr>\n",
       "  </thead>\n",
       "  <tbody>\n",
       "    <tr>\n",
       "      <th>0</th>\n",
       "      <td>2023-05-04</td>\n",
       "      <td>Colorado</td>\n",
       "      <td>Winter Park</td>\n",
       "      <td>4</td>\n",
       "      <td>Very family friendly</td>\n",
       "      <td>anon_1</td>\n",
       "    </tr>\n",
       "    <tr>\n",
       "      <th>1</th>\n",
       "      <td>2023-05-04</td>\n",
       "      <td>Colorado</td>\n",
       "      <td>Arapahoe Basin</td>\n",
       "      <td>5</td>\n",
       "      <td>Challenging terrain, no frills</td>\n",
       "      <td>anon_1</td>\n",
       "    </tr>\n",
       "    <tr>\n",
       "      <th>2</th>\n",
       "      <td>2023-05-04</td>\n",
       "      <td>Colorado</td>\n",
       "      <td>Steamboat</td>\n",
       "      <td>5</td>\n",
       "      <td>Great public transport to and from lodging</td>\n",
       "      <td>anon_1</td>\n",
       "    </tr>\n",
       "    <tr>\n",
       "      <th>3</th>\n",
       "      <td>2023-05-04</td>\n",
       "      <td>Colorado</td>\n",
       "      <td>Copper Mountain</td>\n",
       "      <td>5</td>\n",
       "      <td>Extremely diverse terrain and fantastic terrai...</td>\n",
       "      <td>anon_1</td>\n",
       "    </tr>\n",
       "    <tr>\n",
       "      <th>4</th>\n",
       "      <td>2023-05-04</td>\n",
       "      <td>Utah</td>\n",
       "      <td>Solitude Mountain</td>\n",
       "      <td>5</td>\n",
       "      <td>They had so much terrain, especially for the s...</td>\n",
       "      <td>anon_2</td>\n",
       "    </tr>\n",
       "    <tr>\n",
       "      <th>...</th>\n",
       "      <td>...</td>\n",
       "      <td>...</td>\n",
       "      <td>...</td>\n",
       "      <td>...</td>\n",
       "      <td>...</td>\n",
       "      <td>...</td>\n",
       "    </tr>\n",
       "    <tr>\n",
       "      <th>18142</th>\n",
       "      <td>2020-10-22</td>\n",
       "      <td>Utah</td>\n",
       "      <td>Beaver Mountain</td>\n",
       "      <td>5</td>\n",
       "      <td>Beaver Mountain is an awesome family run ski  ...</td>\n",
       "      <td>Payton Sharum</td>\n",
       "    </tr>\n",
       "    <tr>\n",
       "      <th>18144</th>\n",
       "      <td>2020-10-22</td>\n",
       "      <td>Wyoming</td>\n",
       "      <td>Snowy Range Ski Recreation Area</td>\n",
       "      <td>5</td>\n",
       "      <td>I love how cozy this ski area is. Sure, it doe...</td>\n",
       "      <td>Payton Sharum</td>\n",
       "    </tr>\n",
       "    <tr>\n",
       "      <th>18154</th>\n",
       "      <td>2020-10-28</td>\n",
       "      <td>Montana</td>\n",
       "      <td>Discovery</td>\n",
       "      <td>5</td>\n",
       "      <td>This little  is top notch and not full of peop...</td>\n",
       "      <td>Lori Young</td>\n",
       "    </tr>\n",
       "    <tr>\n",
       "      <th>18155</th>\n",
       "      <td>2020-10-28</td>\n",
       "      <td>Montana</td>\n",
       "      <td>Discovery</td>\n",
       "      <td>5</td>\n",
       "      <td>Easy to get to nice large for family dining\\nG...</td>\n",
       "      <td>Lori Young</td>\n",
       "    </tr>\n",
       "    <tr>\n",
       "      <th>18198</th>\n",
       "      <td>2020-12-03</td>\n",
       "      <td>Washington</td>\n",
       "      <td>Mt. Baker</td>\n",
       "      <td>5</td>\n",
       "      <td>First time to Baker after a snowy Nov.  Parkin...</td>\n",
       "      <td>Matt  H</td>\n",
       "    </tr>\n",
       "  </tbody>\n",
       "</table>\n",
       "<p>2078 rows × 6 columns</p>\n",
       "</div>"
      ],
      "text/plain": [
       "      review_date       state                       ski_resort  rating  \\\n",
       "0      2023-05-04    Colorado                      Winter Park       4   \n",
       "1      2023-05-04    Colorado                   Arapahoe Basin       5   \n",
       "2      2023-05-04    Colorado                        Steamboat       5   \n",
       "3      2023-05-04    Colorado                  Copper Mountain       5   \n",
       "4      2023-05-04        Utah                Solitude Mountain       5   \n",
       "...           ...         ...                              ...     ...   \n",
       "18142  2020-10-22        Utah                  Beaver Mountain       5   \n",
       "18144  2020-10-22     Wyoming  Snowy Range Ski Recreation Area       5   \n",
       "18154  2020-10-28     Montana                        Discovery       5   \n",
       "18155  2020-10-28     Montana                        Discovery       5   \n",
       "18198  2020-12-03  Washington                        Mt. Baker       5   \n",
       "\n",
       "                                                  review      user_name  \n",
       "0                                   Very family friendly         anon_1  \n",
       "1                         Challenging terrain, no frills         anon_1  \n",
       "2             Great public transport to and from lodging         anon_1  \n",
       "3      Extremely diverse terrain and fantastic terrai...         anon_1  \n",
       "4      They had so much terrain, especially for the s...         anon_2  \n",
       "...                                                  ...            ...  \n",
       "18142  Beaver Mountain is an awesome family run ski  ...  Payton Sharum  \n",
       "18144  I love how cozy this ski area is. Sure, it doe...  Payton Sharum  \n",
       "18154  This little  is top notch and not full of peop...     Lori Young  \n",
       "18155  Easy to get to nice large for family dining\\nG...     Lori Young  \n",
       "18198  First time to Baker after a snowy Nov.  Parkin...        Matt  H  \n",
       "\n",
       "[2078 rows x 6 columns]"
      ]
     },
     "execution_count": 918,
     "metadata": {},
     "output_type": "execute_result"
    }
   ],
   "source": [
    "final_ski_df"
   ]
  },
  {
   "cell_type": "code",
   "execution_count": 936,
   "metadata": {},
   "outputs": [],
   "source": [
    "#exporting final cleaned dataframe\n",
    "final_ski_df.to_csv(\"cleaned_data_exports/final_review_df.csv\")"
   ]
  },
  {
   "cell_type": "markdown",
   "metadata": {},
   "source": [
    "### Data Source #3 - OnTheSnow Scrape\n"
   ]
  },
  {
   "cell_type": "code",
   "execution_count": 939,
   "metadata": {},
   "outputs": [
    {
     "name": "stdout",
     "output_type": "stream",
     "text": [
      "<class 'pandas.core.frame.DataFrame'>\n",
      "RangeIndex: 333 entries, 0 to 332\n",
      "Data columns (total 43 columns):\n",
      " #   Column                    Non-Null Count  Dtype  \n",
      "---  ------                    --------------  -----  \n",
      " 0   Name                      333 non-null    object \n",
      " 1   address                   333 non-null    object \n",
      " 2   city                      333 non-null    object \n",
      " 3   state                     333 non-null    object \n",
      " 4   country                   333 non-null    object \n",
      " 5   sumt                      333 non-null    int64  \n",
      " 6   drop                      333 non-null    int64  \n",
      " 7   base                      333 non-null    int64  \n",
      " 8   gondolas_and_trams        333 non-null    int64  \n",
      " 9   fastEight                 331 non-null    float64\n",
      " 10  highSpeedSixes            327 non-null    float64\n",
      " 11  quadChairs                329 non-null    float64\n",
      " 12  tripleChairs              330 non-null    float64\n",
      " 13  doubleChairs              331 non-null    float64\n",
      " 14  surfeLifts                332 non-null    float64\n",
      " 15  totalRuns (acre)          333 non-null    int64  \n",
      " 16  longestRun (miles)        333 non-null    float64\n",
      " 17  daysOpenLastYear          333 non-null    int64  \n",
      " 18  averageSnowfall (inches)  333 non-null    int64  \n",
      " 19  projectedOpening          333 non-null    object \n",
      " 20  projectedClosing          333 non-null    object \n",
      " 21  NovSnow                   333 non-null    float64\n",
      " 22  DecSnow                   333 non-null    float64\n",
      " 23  JanSnow                   333 non-null    float64\n",
      " 24  FebSnow                   333 non-null    float64\n",
      " 25  MarSnow                   333 non-null    float64\n",
      " 26  AprSnow                   333 non-null    float64\n",
      " 27  MaySnow                   333 non-null    float64\n",
      " 28  child_season              333 non-null    float64\n",
      " 29  junior_season             333 non-null    float64\n",
      " 30  adult_season              333 non-null    int64  \n",
      " 31  child_weekday             333 non-null    float64\n",
      " 32  junior_weekday            333 non-null    float64\n",
      " 33  adult_weekday             333 non-null    float64\n",
      " 34  senior_weekday            333 non-null    float64\n",
      " 35  child_weekend             333 non-null    float64\n",
      " 36  junior_weekend            333 non-null    float64\n",
      " 37  adult_weekend             333 non-null    float64\n",
      " 38  senior_weekend            333 non-null    float64\n",
      " 39  Url                       333 non-null    object \n",
      " 40  gondolas_lifts_note       333 non-null    object \n",
      " 41  terrainNote               333 non-null    object \n",
      " 42  ticketpriceNote           333 non-null    object \n",
      "dtypes: float64(24), int64(8), object(11)\n",
      "memory usage: 112.0+ KB\n"
     ]
    }
   ],
   "source": [
    "scraped_df.info()"
   ]
  },
  {
   "cell_type": "code",
   "execution_count": 940,
   "metadata": {},
   "outputs": [
    {
     "data": {
      "text/plain": [
       "highSpeedSixes              6\n",
       "quadChairs                  4\n",
       "tripleChairs                3\n",
       "fastEight                   2\n",
       "doubleChairs                2\n",
       "surfeLifts                  1\n",
       "averageSnowfall (inches)    0\n",
       "daysOpenLastYear            0\n",
       "longestRun (miles)          0\n",
       "totalRuns (acre)            0\n",
       "ticketpriceNote             0\n",
       "projectedClosing            0\n",
       "gondolas_and_trams          0\n",
       "base                        0\n",
       "drop                        0\n",
       "sumt                        0\n",
       "country                     0\n",
       "state                       0\n",
       "city                        0\n",
       "address                     0\n",
       "projectedOpening            0\n",
       "NovSnow                     0\n",
       "terrainNote                 0\n",
       "junior_weekday              0\n",
       "gondolas_lifts_note         0\n",
       "Url                         0\n",
       "senior_weekend              0\n",
       "adult_weekend               0\n",
       "junior_weekend              0\n",
       "child_weekend               0\n",
       "senior_weekday              0\n",
       "adult_weekday               0\n",
       "child_weekday               0\n",
       "DecSnow                     0\n",
       "adult_season                0\n",
       "junior_season               0\n",
       "child_season                0\n",
       "MaySnow                     0\n",
       "AprSnow                     0\n",
       "MarSnow                     0\n",
       "FebSnow                     0\n",
       "JanSnow                     0\n",
       "Name                        0\n",
       "dtype: int64"
      ]
     },
     "execution_count": 940,
     "metadata": {},
     "output_type": "execute_result"
    }
   ],
   "source": [
    "scraped_df.isna().sum().sort_values(ascending=False)"
   ]
  },
  {
   "cell_type": "code",
   "execution_count": 941,
   "metadata": {},
   "outputs": [],
   "source": [
    "scraped_df = scraped_df.drop(columns=['gondolas_lifts_note', 'terrainNote', 'ticketpriceNote',\n",
    "                                     'senior_weekend', 'MaySnow', 'country'])"
   ]
  },
  {
   "cell_type": "code",
   "execution_count": 942,
   "metadata": {},
   "outputs": [
    {
     "data": {
      "text/html": [
       "<div>\n",
       "<style scoped>\n",
       "    .dataframe tbody tr th:only-of-type {\n",
       "        vertical-align: middle;\n",
       "    }\n",
       "\n",
       "    .dataframe tbody tr th {\n",
       "        vertical-align: top;\n",
       "    }\n",
       "\n",
       "    .dataframe thead th {\n",
       "        text-align: right;\n",
       "    }\n",
       "</style>\n",
       "<table border=\"1\" class=\"dataframe\">\n",
       "  <thead>\n",
       "    <tr style=\"text-align: right;\">\n",
       "      <th></th>\n",
       "      <th>Name</th>\n",
       "      <th>address</th>\n",
       "      <th>city</th>\n",
       "      <th>state</th>\n",
       "      <th>sumt</th>\n",
       "      <th>drop</th>\n",
       "      <th>base</th>\n",
       "      <th>gondolas_and_trams</th>\n",
       "      <th>fastEight</th>\n",
       "      <th>highSpeedSixes</th>\n",
       "      <th>...</th>\n",
       "      <th>junior_season</th>\n",
       "      <th>adult_season</th>\n",
       "      <th>child_weekday</th>\n",
       "      <th>junior_weekday</th>\n",
       "      <th>adult_weekday</th>\n",
       "      <th>senior_weekday</th>\n",
       "      <th>child_weekend</th>\n",
       "      <th>junior_weekend</th>\n",
       "      <th>adult_weekend</th>\n",
       "      <th>Url</th>\n",
       "    </tr>\n",
       "  </thead>\n",
       "  <tbody>\n",
       "    <tr>\n",
       "      <th>1</th>\n",
       "      <td>Afton Alps</td>\n",
       "      <td>6600 Peller Avenue South</td>\n",
       "      <td>55033 Hastings</td>\n",
       "      <td>Minnesota</td>\n",
       "      <td>1530</td>\n",
       "      <td>350</td>\n",
       "      <td>1180</td>\n",
       "      <td>0</td>\n",
       "      <td>0.0</td>\n",
       "      <td>0.0</td>\n",
       "      <td>...</td>\n",
       "      <td>859.0</td>\n",
       "      <td>50</td>\n",
       "      <td>55.0</td>\n",
       "      <td>50.0</td>\n",
       "      <td>55.0</td>\n",
       "      <td>60.0</td>\n",
       "      <td>55.0</td>\n",
       "      <td>0.0</td>\n",
       "      <td>0.0</td>\n",
       "      <td>https://www.onthesnow.com/Minnesota/afton-alps...</td>\n",
       "    </tr>\n",
       "    <tr>\n",
       "      <th>2</th>\n",
       "      <td>Alpental</td>\n",
       "      <td>POB 1068</td>\n",
       "      <td>98068 Snoquale Pass</td>\n",
       "      <td>Washington</td>\n",
       "      <td>5420</td>\n",
       "      <td>2280</td>\n",
       "      <td>3140</td>\n",
       "      <td>0</td>\n",
       "      <td>1.0</td>\n",
       "      <td>0.0</td>\n",
       "      <td>...</td>\n",
       "      <td>399.0</td>\n",
       "      <td>0</td>\n",
       "      <td>0.0</td>\n",
       "      <td>0.0</td>\n",
       "      <td>0.0</td>\n",
       "      <td>0.0</td>\n",
       "      <td>0.0</td>\n",
       "      <td>0.0</td>\n",
       "      <td>0.0</td>\n",
       "      <td>https://www.onthesnow.com/washington/alpental/...</td>\n",
       "    </tr>\n",
       "    <tr>\n",
       "      <th>5</th>\n",
       "      <td>Alta</td>\n",
       "      <td>P.O. Box 8007</td>\n",
       "      <td>84092 Alta</td>\n",
       "      <td>Utah</td>\n",
       "      <td>11068</td>\n",
       "      <td>2538</td>\n",
       "      <td>8530</td>\n",
       "      <td>0</td>\n",
       "      <td>3.0</td>\n",
       "      <td>0.0</td>\n",
       "      <td>...</td>\n",
       "      <td>599.0</td>\n",
       "      <td>1349</td>\n",
       "      <td>1049.0</td>\n",
       "      <td>80.0</td>\n",
       "      <td>159.0</td>\n",
       "      <td>0.0</td>\n",
       "      <td>125.0</td>\n",
       "      <td>0.0</td>\n",
       "      <td>0.0</td>\n",
       "      <td>https://www.onthesnow.com/utah/alta-ski-area/s...</td>\n",
       "    </tr>\n",
       "    <tr>\n",
       "      <th>13</th>\n",
       "      <td>Arizona Snowbowl</td>\n",
       "      <td>P.O. Box 40</td>\n",
       "      <td>86002 Flagstaff</td>\n",
       "      <td>Arizona</td>\n",
       "      <td>11500</td>\n",
       "      <td>2300</td>\n",
       "      <td>9200</td>\n",
       "      <td>0</td>\n",
       "      <td>0.0</td>\n",
       "      <td>1.0</td>\n",
       "      <td>...</td>\n",
       "      <td>699.0</td>\n",
       "      <td>999</td>\n",
       "      <td>749.0</td>\n",
       "      <td>0.0</td>\n",
       "      <td>0.0</td>\n",
       "      <td>0.0</td>\n",
       "      <td>0.0</td>\n",
       "      <td>0.0</td>\n",
       "      <td>0.0</td>\n",
       "      <td>https://www.onthesnow.com/arizona/arizona-snow...</td>\n",
       "    </tr>\n",
       "    <tr>\n",
       "      <th>15</th>\n",
       "      <td>Attitash</td>\n",
       "      <td>PO Box 308</td>\n",
       "      <td>03812 Bartlett</td>\n",
       "      <td>New Hampshire</td>\n",
       "      <td>2350</td>\n",
       "      <td>1750</td>\n",
       "      <td>600</td>\n",
       "      <td>0</td>\n",
       "      <td>2.0</td>\n",
       "      <td>0.0</td>\n",
       "      <td>...</td>\n",
       "      <td>519.0</td>\n",
       "      <td>639</td>\n",
       "      <td>59.0</td>\n",
       "      <td>79.0</td>\n",
       "      <td>59.0</td>\n",
       "      <td>67.0</td>\n",
       "      <td>89.0</td>\n",
       "      <td>67.0</td>\n",
       "      <td>0.0</td>\n",
       "      <td>https://www.onthesnow.com/new-hampshire/attita...</td>\n",
       "    </tr>\n",
       "    <tr>\n",
       "      <th>...</th>\n",
       "      <td>...</td>\n",
       "      <td>...</td>\n",
       "      <td>...</td>\n",
       "      <td>...</td>\n",
       "      <td>...</td>\n",
       "      <td>...</td>\n",
       "      <td>...</td>\n",
       "      <td>...</td>\n",
       "      <td>...</td>\n",
       "      <td>...</td>\n",
       "      <td>...</td>\n",
       "      <td>...</td>\n",
       "      <td>...</td>\n",
       "      <td>...</td>\n",
       "      <td>...</td>\n",
       "      <td>...</td>\n",
       "      <td>...</td>\n",
       "      <td>...</td>\n",
       "      <td>...</td>\n",
       "      <td>...</td>\n",
       "      <td>...</td>\n",
       "    </tr>\n",
       "    <tr>\n",
       "      <th>320</th>\n",
       "      <td>Wisp</td>\n",
       "      <td>296 Marsh Hill Road</td>\n",
       "      <td>21541 McHenry</td>\n",
       "      <td>Maryland</td>\n",
       "      <td>3115</td>\n",
       "      <td>700</td>\n",
       "      <td>2415</td>\n",
       "      <td>0</td>\n",
       "      <td>0.0</td>\n",
       "      <td>0.0</td>\n",
       "      <td>...</td>\n",
       "      <td>699.0</td>\n",
       "      <td>529</td>\n",
       "      <td>59.0</td>\n",
       "      <td>84.0</td>\n",
       "      <td>69.0</td>\n",
       "      <td>89.0</td>\n",
       "      <td>0.0</td>\n",
       "      <td>0.0</td>\n",
       "      <td>0.0</td>\n",
       "      <td>https://www.onthesnow.com/maryland/wisp/ski-re...</td>\n",
       "    </tr>\n",
       "    <tr>\n",
       "      <th>323</th>\n",
       "      <td>Woodbury</td>\n",
       "      <td>785 Washington Road</td>\n",
       "      <td>06798 Woodbury</td>\n",
       "      <td>Connecticut</td>\n",
       "      <td>730</td>\n",
       "      <td>300</td>\n",
       "      <td>430</td>\n",
       "      <td>0</td>\n",
       "      <td>0.0</td>\n",
       "      <td>0.0</td>\n",
       "      <td>...</td>\n",
       "      <td>35.0</td>\n",
       "      <td>42</td>\n",
       "      <td>15.0</td>\n",
       "      <td>35.0</td>\n",
       "      <td>42.0</td>\n",
       "      <td>0.0</td>\n",
       "      <td>0.0</td>\n",
       "      <td>0.0</td>\n",
       "      <td>0.0</td>\n",
       "      <td>https://www.onthesnow.com/connecticut/woodbury...</td>\n",
       "    </tr>\n",
       "    <tr>\n",
       "      <th>324</th>\n",
       "      <td>Woods Valley</td>\n",
       "      <td>Box 215</td>\n",
       "      <td>13486 Westernville</td>\n",
       "      <td>New York</td>\n",
       "      <td>1400</td>\n",
       "      <td>500</td>\n",
       "      <td>900</td>\n",
       "      <td>0</td>\n",
       "      <td>0.0</td>\n",
       "      <td>0.0</td>\n",
       "      <td>...</td>\n",
       "      <td>475.0</td>\n",
       "      <td>460</td>\n",
       "      <td>368.0</td>\n",
       "      <td>28.0</td>\n",
       "      <td>31.0</td>\n",
       "      <td>33.0</td>\n",
       "      <td>39.0</td>\n",
       "      <td>0.0</td>\n",
       "      <td>0.0</td>\n",
       "      <td>https://www.onthesnow.com/new-york/woods-valle...</td>\n",
       "    </tr>\n",
       "    <tr>\n",
       "      <th>327</th>\n",
       "      <td>Mission Ridge</td>\n",
       "      <td>P.O. Box 1668</td>\n",
       "      <td>98807-1668 Wenatchee</td>\n",
       "      <td>Washington</td>\n",
       "      <td>6820</td>\n",
       "      <td>2250</td>\n",
       "      <td>4570</td>\n",
       "      <td>0</td>\n",
       "      <td>1.0</td>\n",
       "      <td>NaN</td>\n",
       "      <td>...</td>\n",
       "      <td>499.0</td>\n",
       "      <td>849</td>\n",
       "      <td>429.0</td>\n",
       "      <td>0.0</td>\n",
       "      <td>0.0</td>\n",
       "      <td>0.0</td>\n",
       "      <td>0.0</td>\n",
       "      <td>0.0</td>\n",
       "      <td>0.0</td>\n",
       "      <td>https://www.onthesnow.com/washington/mission-r...</td>\n",
       "    </tr>\n",
       "    <tr>\n",
       "      <th>329</th>\n",
       "      <td>Mt. Bohemia</td>\n",
       "      <td>L La Belle</td>\n",
       "      <td>53066 Michigan</td>\n",
       "      <td>Michigan</td>\n",
       "      <td>1500</td>\n",
       "      <td>900</td>\n",
       "      <td>600</td>\n",
       "      <td>0</td>\n",
       "      <td>NaN</td>\n",
       "      <td>NaN</td>\n",
       "      <td>...</td>\n",
       "      <td>68.0</td>\n",
       "      <td>68</td>\n",
       "      <td>68.0</td>\n",
       "      <td>68.0</td>\n",
       "      <td>68.0</td>\n",
       "      <td>68.0</td>\n",
       "      <td>68.0</td>\n",
       "      <td>68.0</td>\n",
       "      <td>0.0</td>\n",
       "      <td>https://www.onthesnow.com/michigan/mount-bohem...</td>\n",
       "    </tr>\n",
       "  </tbody>\n",
       "</table>\n",
       "<p>130 rows × 37 columns</p>\n",
       "</div>"
      ],
      "text/plain": [
       "                 Name                   address                  city  \\\n",
       "1          Afton Alps  6600 Peller Avenue South        55033 Hastings   \n",
       "2            Alpental                  POB 1068   98068 Snoquale Pass   \n",
       "5                Alta             P.O. Box 8007            84092 Alta   \n",
       "13   Arizona Snowbowl               P.O. Box 40       86002 Flagstaff   \n",
       "15           Attitash                PO Box 308        03812 Bartlett   \n",
       "..                ...                       ...                   ...   \n",
       "320              Wisp       296 Marsh Hill Road         21541 McHenry   \n",
       "323          Woodbury       785 Washington Road        06798 Woodbury   \n",
       "324      Woods Valley                   Box 215    13486 Westernville   \n",
       "327     Mission Ridge             P.O. Box 1668  98807-1668 Wenatchee   \n",
       "329       Mt. Bohemia                L La Belle        53066 Michigan   \n",
       "\n",
       "             state   sumt  drop  base  gondolas_and_trams  fastEight  \\\n",
       "1        Minnesota   1530   350  1180                   0        0.0   \n",
       "2       Washington   5420  2280  3140                   0        1.0   \n",
       "5             Utah  11068  2538  8530                   0        3.0   \n",
       "13         Arizona  11500  2300  9200                   0        0.0   \n",
       "15   New Hampshire   2350  1750   600                   0        2.0   \n",
       "..             ...    ...   ...   ...                 ...        ...   \n",
       "320       Maryland   3115   700  2415                   0        0.0   \n",
       "323    Connecticut    730   300   430                   0        0.0   \n",
       "324       New York   1400   500   900                   0        0.0   \n",
       "327     Washington   6820  2250  4570                   0        1.0   \n",
       "329       Michigan   1500   900   600                   0        NaN   \n",
       "\n",
       "     highSpeedSixes  ...  junior_season  adult_season  child_weekday  \\\n",
       "1               0.0  ...          859.0            50           55.0   \n",
       "2               0.0  ...          399.0             0            0.0   \n",
       "5               0.0  ...          599.0          1349         1049.0   \n",
       "13              1.0  ...          699.0           999          749.0   \n",
       "15              0.0  ...          519.0           639           59.0   \n",
       "..              ...  ...            ...           ...            ...   \n",
       "320             0.0  ...          699.0           529           59.0   \n",
       "323             0.0  ...           35.0            42           15.0   \n",
       "324             0.0  ...          475.0           460          368.0   \n",
       "327             NaN  ...          499.0           849          429.0   \n",
       "329             NaN  ...           68.0            68           68.0   \n",
       "\n",
       "     junior_weekday  adult_weekday  senior_weekday  child_weekend  \\\n",
       "1              50.0           55.0            60.0           55.0   \n",
       "2               0.0            0.0             0.0            0.0   \n",
       "5              80.0          159.0             0.0          125.0   \n",
       "13              0.0            0.0             0.0            0.0   \n",
       "15             79.0           59.0            67.0           89.0   \n",
       "..              ...            ...             ...            ...   \n",
       "320            84.0           69.0            89.0            0.0   \n",
       "323            35.0           42.0             0.0            0.0   \n",
       "324            28.0           31.0            33.0           39.0   \n",
       "327             0.0            0.0             0.0            0.0   \n",
       "329            68.0           68.0            68.0           68.0   \n",
       "\n",
       "     junior_weekend adult_weekend  \\\n",
       "1               0.0           0.0   \n",
       "2               0.0           0.0   \n",
       "5               0.0           0.0   \n",
       "13              0.0           0.0   \n",
       "15             67.0           0.0   \n",
       "..              ...           ...   \n",
       "320             0.0           0.0   \n",
       "323             0.0           0.0   \n",
       "324             0.0           0.0   \n",
       "327             0.0           0.0   \n",
       "329            68.0           0.0   \n",
       "\n",
       "                                                   Url  \n",
       "1    https://www.onthesnow.com/Minnesota/afton-alps...  \n",
       "2    https://www.onthesnow.com/washington/alpental/...  \n",
       "5    https://www.onthesnow.com/utah/alta-ski-area/s...  \n",
       "13   https://www.onthesnow.com/arizona/arizona-snow...  \n",
       "15   https://www.onthesnow.com/new-hampshire/attita...  \n",
       "..                                                 ...  \n",
       "320  https://www.onthesnow.com/maryland/wisp/ski-re...  \n",
       "323  https://www.onthesnow.com/connecticut/woodbury...  \n",
       "324  https://www.onthesnow.com/new-york/woods-valle...  \n",
       "327  https://www.onthesnow.com/washington/mission-r...  \n",
       "329  https://www.onthesnow.com/michigan/mount-bohem...  \n",
       "\n",
       "[130 rows x 37 columns]"
      ]
     },
     "execution_count": 942,
     "metadata": {},
     "output_type": "execute_result"
    }
   ],
   "source": [
    "scraped_df.loc[scraped_df['adult_weekend'] == 0]"
   ]
  },
  {
   "cell_type": "code",
   "execution_count": 943,
   "metadata": {},
   "outputs": [],
   "source": [
    "#filling empty lift ticket prices with mean\n",
    "\n",
    "def mean_ticket(scraped_df, column):\n",
    "    \n",
    "    #changing all column types to int\n",
    "    scraped_df[column] = scraped_df[column].astype(int)\n",
    "    \n",
    "    # finding mean values\n",
    "    mean_value = scraped_df[column].mean()\n",
    "    mean_value = int(mean_value)\n",
    "    \n",
    "    # filling 0 with mean value\n",
    "    scraped_df[column] = scraped_df[column].replace(0, mean_value)\n",
    "    \n",
    "    return scraped_df"
   ]
  },
  {
   "cell_type": "code",
   "execution_count": 944,
   "metadata": {},
   "outputs": [],
   "source": [
    "#making a loop to loop through list of ticket prices that need to be updated\n",
    "\n",
    "ticket_prices = [\"adult_weekend\", \"junior_weekend\", \"AprSnow\", \"child_weekend\", \"senior_weekday\", \"adult_weekday\",\n",
    "\"junior_weekday\", \"child_weekday\", \"adult_season\", \"junior_season\", \"child_season\"]\n",
    "\n",
    "for ticket_val in ticket_prices:\n",
    "    mean_ticket(scraped_df, ticket_val)"
   ]
  },
  {
   "cell_type": "code",
   "execution_count": 945,
   "metadata": {},
   "outputs": [],
   "source": [
    "scraped_df[['zipcode', 'city']] = scraped_df['city'].str.split(' ', 1, expand=True)"
   ]
  },
  {
   "cell_type": "code",
   "execution_count": 946,
   "metadata": {},
   "outputs": [],
   "source": [
    "column_to_move = scraped_df.pop(\"zipcode\")\n",
    "\n",
    "# moving zipcode after state\n",
    "scraped_df.insert(4, \"zipcode\", column_to_move )"
   ]
  },
  {
   "cell_type": "code",
   "execution_count": 947,
   "metadata": {},
   "outputs": [],
   "source": [
    "scraped_df = scraped_df.rename(columns={\"Name\":\"ski_resort\"})"
   ]
  },
  {
   "cell_type": "code",
   "execution_count": 948,
   "metadata": {},
   "outputs": [],
   "source": [
    "epic_list = [\"Stowe Mountain\", \"Okemo Mountain\", \"Hunter Mountain\", \"Mt. Snow\", \"Mt. Sunapee\",\"Wildcat Monuntain\",\"Seven Springs\",\n",
    "             \"Attitash\", \"Jack Frost\", \"Crotched Mountain\", \"Laurel Mountain\",\n",
    "             \"Roundtop Mountain\", \"Whitetail\", \"Liberty\", \"Big Boulder\", \"Heavenly Mountain\", \"Northstar California\",\n",
    "             \"Kirkwood\", \"Stevens Pass\", \"Keystone\", \"Breckenridge\",\"Vail\", \"Park City Mountain\", \"Beaver Creek\",\n",
    "             \"Crested Butte Mountain\", \"Afton Alps\", \"Alpine Valley Ohio\", \"Boston Mills and Brandywine\",\"Hidden Valley\",\n",
    "             \"Mad River Mountain\", \"Mt. Brighton\", \"Paoli Peaks\", \"Snow Creek\",\"Wilmot Mountain\"]\n",
    "\n",
    "mtn_col_list = ['Arapahoe Basin', 'Aspen Snowmass', 'Crystal Mountain',\n",
    "                            'Jackson Hole', 'Mammoth Mountain', 'Snowbird',\n",
    "                            'Palisades Tahoe', 'Sugarbush',\n",
    "                            'Taos Ski Valley', 'Alta', 'Big Sky', 'Sugar Bowl',\n",
    "                           'Sugarloaf', 'Sun Valley']\n",
    "\n",
    "ikon_list = ['Winter Park', 'Copper Mountain', 'Steamboat', 'Eldora Mountain',\n",
    "             'Palisades Tahoe', 'Mammoth Mountain', 'June Mountain', 'Big Bear',\n",
    "             'Snow Valley', 'Stratton Mountain', 'Snowshoe Mountain', 'Sugarbush', 'Solitude Mountain', 'Alta', 'Snowbird',\n",
    "             'Aspen Snowmass', 'Buttermilk', 'Arapahoe Basin', 'Big Sky',\n",
    "             'Brighton', 'Deer Valley', 'Snowbasin', 'Jackson Hole', 'Mt. Bachelor',\n",
    "             'Windham Mountain', 'Boyne Highlands','Crystal Mountain',\n",
    "             'The Summit at Snoqualmie', 'Schweitzer', 'Sun Valley', 'Sunday River',\n",
    "             'Sugarloaf', 'Loon Mountain', 'Taos Ski Valley', 'Killington', 'Pico Mountain']\n"
   ]
  },
  {
   "cell_type": "code",
   "execution_count": 950,
   "metadata": {},
   "outputs": [],
   "source": [
    "# making new column with 0\n",
    "scraped_df['epic'] = 0\n",
    "scraped_df['mountain_collective'] = 0\n",
    "scraped_df['ikon'] = 0\n",
    "\n",
    "# adding 1 if the values match\n",
    "scraped_df.loc[scraped_df['ski_resort'].isin(epic_list), 'epic'] = 1\n",
    "scraped_df.loc[scraped_df['ski_resort'].isin(mtn_col_list), 'mountain_collective'] = 1\n",
    "scraped_df.loc[scraped_df['ski_resort'].isin(ikon_list), 'ikon'] = 1"
   ]
  },
  {
   "cell_type": "code",
   "execution_count": 953,
   "metadata": {},
   "outputs": [
    {
     "data": {
      "text/plain": [
       "array([], dtype=object)"
      ]
     },
     "execution_count": 953,
     "metadata": {},
     "output_type": "execute_result"
    }
   ],
   "source": [
    "#checking to see if there are any missing resorts in the scraped information to ensure all resorts have feature information\n",
    "final_ski_df.loc[~final_ski_df['ski_resort'].isin(scraped_df['ski_resort']),\n",
    "                         'ski_resort'].sort_values().unique()"
   ]
  },
  {
   "cell_type": "code",
   "execution_count": 960,
   "metadata": {},
   "outputs": [],
   "source": [
    "#saving final cleaned scraped df\n",
    "scraped_df.to_csv(\"cleaned_data_exports/scraped_feature_df.csv\")"
   ]
  },
  {
   "cell_type": "code",
   "execution_count": 1002,
   "metadata": {},
   "outputs": [],
   "source": [
    "city_df = pd.DataFrame()\n",
    "city_df['city'] = scraped_df['city']\n",
    "city_df['state'] = scraped_df['state']\n",
    "city_df.to_csv(\"cleaned_data_exports/location_for_scraping.csv\")"
   ]
  },
  {
   "cell_type": "code",
   "execution_count": 990,
   "metadata": {},
   "outputs": [],
   "source": [
    "#saving city names for scraping\n",
    "city_df['location'] = scraped_df[['city', 'state']].agg(', '.join, axis=1)\n",
    "\n",
    "city_df['location'] = pd.DataFrame(city_df['location'].unique())\n",
    "\n",
    "city_df = city_df.dropna()\n",
    "\n",
    "city_df.to_csv(\"cleaned_data_exports/city_names_for_scraping.csv\")"
   ]
  },
  {
   "cell_type": "markdown",
   "metadata": {},
   "source": [
    "## Merging dataframes on Name Columns for features"
   ]
  },
  {
   "cell_type": "code",
   "execution_count": 954,
   "metadata": {},
   "outputs": [
    {
     "name": "stdout",
     "output_type": "stream",
     "text": [
      "<class 'pandas.core.frame.DataFrame'>\n",
      "Int64Index: 2078 entries, 0 to 18198\n",
      "Data columns (total 6 columns):\n",
      " #   Column       Non-Null Count  Dtype         \n",
      "---  ------       --------------  -----         \n",
      " 0   review_date  2078 non-null   datetime64[ns]\n",
      " 1   state        2078 non-null   object        \n",
      " 2   ski_resort   2078 non-null   object        \n",
      " 3   rating       2078 non-null   int64         \n",
      " 4   review       2078 non-null   object        \n",
      " 5   user_name    2078 non-null   object        \n",
      "dtypes: datetime64[ns](1), int64(1), object(4)\n",
      "memory usage: 113.6+ KB\n"
     ]
    }
   ],
   "source": [
    "final_ski_df.info()"
   ]
  },
  {
   "cell_type": "code",
   "execution_count": 955,
   "metadata": {},
   "outputs": [],
   "source": [
    "merged_df = pd.merge(final_ski_df, scraped_df, on=\"ski_resort\", how='left')"
   ]
  },
  {
   "cell_type": "code",
   "execution_count": 956,
   "metadata": {},
   "outputs": [],
   "source": [
    "merged_df = merged_df.drop(columns=\"state_y\")\n",
    "merged_df = merged_df.rename(columns={\"state_x\":\"state\"})"
   ]
  },
  {
   "cell_type": "code",
   "execution_count": 957,
   "metadata": {},
   "outputs": [
    {
     "data": {
      "text/html": [
       "<div>\n",
       "<style scoped>\n",
       "    .dataframe tbody tr th:only-of-type {\n",
       "        vertical-align: middle;\n",
       "    }\n",
       "\n",
       "    .dataframe tbody tr th {\n",
       "        vertical-align: top;\n",
       "    }\n",
       "\n",
       "    .dataframe thead th {\n",
       "        text-align: right;\n",
       "    }\n",
       "</style>\n",
       "<table border=\"1\" class=\"dataframe\">\n",
       "  <thead>\n",
       "    <tr style=\"text-align: right;\">\n",
       "      <th></th>\n",
       "      <th>review_date</th>\n",
       "      <th>state</th>\n",
       "      <th>ski_resort</th>\n",
       "      <th>rating</th>\n",
       "      <th>review</th>\n",
       "      <th>user_name</th>\n",
       "      <th>address</th>\n",
       "      <th>city</th>\n",
       "      <th>zipcode</th>\n",
       "      <th>sumt</th>\n",
       "      <th>...</th>\n",
       "      <th>junior_weekday</th>\n",
       "      <th>adult_weekday</th>\n",
       "      <th>senior_weekday</th>\n",
       "      <th>child_weekend</th>\n",
       "      <th>junior_weekend</th>\n",
       "      <th>adult_weekend</th>\n",
       "      <th>Url</th>\n",
       "      <th>epic</th>\n",
       "      <th>mountain_collective</th>\n",
       "      <th>ikon</th>\n",
       "    </tr>\n",
       "  </thead>\n",
       "  <tbody>\n",
       "    <tr>\n",
       "      <th>0</th>\n",
       "      <td>2023-05-04</td>\n",
       "      <td>Colorado</td>\n",
       "      <td>Winter Park</td>\n",
       "      <td>4</td>\n",
       "      <td>Very family friendly</td>\n",
       "      <td>anon_1</td>\n",
       "      <td>P.O. Box 36</td>\n",
       "      <td>Winter Park</td>\n",
       "      <td>80482</td>\n",
       "      <td>12060</td>\n",
       "      <td>...</td>\n",
       "      <td>179</td>\n",
       "      <td>157</td>\n",
       "      <td>49</td>\n",
       "      <td>39</td>\n",
       "      <td>29</td>\n",
       "      <td>55</td>\n",
       "      <td>https://www.onthesnow.com/colorado/winter-park...</td>\n",
       "      <td>0</td>\n",
       "      <td>0</td>\n",
       "      <td>1</td>\n",
       "    </tr>\n",
       "    <tr>\n",
       "      <th>1</th>\n",
       "      <td>2023-05-04</td>\n",
       "      <td>Colorado</td>\n",
       "      <td>Arapahoe Basin</td>\n",
       "      <td>5</td>\n",
       "      <td>Challenging terrain, no frills</td>\n",
       "      <td>anon_1</td>\n",
       "      <td>PO Box 5808</td>\n",
       "      <td>Dillon</td>\n",
       "      <td>80435</td>\n",
       "      <td>13050</td>\n",
       "      <td>...</td>\n",
       "      <td>59</td>\n",
       "      <td>79</td>\n",
       "      <td>89</td>\n",
       "      <td>99</td>\n",
       "      <td>69</td>\n",
       "      <td>99</td>\n",
       "      <td>https://www.onthesnow.com/colorado/arapahoe-ba...</td>\n",
       "      <td>0</td>\n",
       "      <td>1</td>\n",
       "      <td>1</td>\n",
       "    </tr>\n",
       "    <tr>\n",
       "      <th>2</th>\n",
       "      <td>2023-05-04</td>\n",
       "      <td>Colorado</td>\n",
       "      <td>Steamboat</td>\n",
       "      <td>5</td>\n",
       "      <td>Great public transport to and from lodging</td>\n",
       "      <td>anon_1</td>\n",
       "      <td>2305 Mt. Werner Circle</td>\n",
       "      <td>Steamboat Springs</td>\n",
       "      <td>80487</td>\n",
       "      <td>10568</td>\n",
       "      <td>...</td>\n",
       "      <td>177</td>\n",
       "      <td>167</td>\n",
       "      <td>144</td>\n",
       "      <td>192</td>\n",
       "      <td>182</td>\n",
       "      <td>106</td>\n",
       "      <td>https://www.onthesnow.com/colorado/steamboat/s...</td>\n",
       "      <td>0</td>\n",
       "      <td>0</td>\n",
       "      <td>1</td>\n",
       "    </tr>\n",
       "    <tr>\n",
       "      <th>3</th>\n",
       "      <td>2023-05-04</td>\n",
       "      <td>Colorado</td>\n",
       "      <td>Copper Mountain</td>\n",
       "      <td>5</td>\n",
       "      <td>Extremely diverse terrain and fantastic terrai...</td>\n",
       "      <td>anon_1</td>\n",
       "      <td>P.O. Box 3001</td>\n",
       "      <td>Copper Mountain</td>\n",
       "      <td>80443</td>\n",
       "      <td>12313</td>\n",
       "      <td>...</td>\n",
       "      <td>129</td>\n",
       "      <td>124</td>\n",
       "      <td>179</td>\n",
       "      <td>39</td>\n",
       "      <td>29</td>\n",
       "      <td>55</td>\n",
       "      <td>https://www.onthesnow.com/colorado/copper-moun...</td>\n",
       "      <td>0</td>\n",
       "      <td>0</td>\n",
       "      <td>1</td>\n",
       "    </tr>\n",
       "    <tr>\n",
       "      <th>4</th>\n",
       "      <td>2023-05-04</td>\n",
       "      <td>Utah</td>\n",
       "      <td>Solitude Mountain</td>\n",
       "      <td>5</td>\n",
       "      <td>They had so much terrain, especially for the s...</td>\n",
       "      <td>anon_2</td>\n",
       "      <td>12000 Big Cottonwood Canyon</td>\n",
       "      <td>Brighton</td>\n",
       "      <td>84121</td>\n",
       "      <td>10488</td>\n",
       "      <td>...</td>\n",
       "      <td>69</td>\n",
       "      <td>115</td>\n",
       "      <td>85</td>\n",
       "      <td>45</td>\n",
       "      <td>69</td>\n",
       "      <td>115</td>\n",
       "      <td>https://www.onthesnow.com/utah/solitude-mounta...</td>\n",
       "      <td>0</td>\n",
       "      <td>0</td>\n",
       "      <td>1</td>\n",
       "    </tr>\n",
       "    <tr>\n",
       "      <th>...</th>\n",
       "      <td>...</td>\n",
       "      <td>...</td>\n",
       "      <td>...</td>\n",
       "      <td>...</td>\n",
       "      <td>...</td>\n",
       "      <td>...</td>\n",
       "      <td>...</td>\n",
       "      <td>...</td>\n",
       "      <td>...</td>\n",
       "      <td>...</td>\n",
       "      <td>...</td>\n",
       "      <td>...</td>\n",
       "      <td>...</td>\n",
       "      <td>...</td>\n",
       "      <td>...</td>\n",
       "      <td>...</td>\n",
       "      <td>...</td>\n",
       "      <td>...</td>\n",
       "      <td>...</td>\n",
       "      <td>...</td>\n",
       "      <td>...</td>\n",
       "    </tr>\n",
       "    <tr>\n",
       "      <th>2077</th>\n",
       "      <td>2020-10-22</td>\n",
       "      <td>Utah</td>\n",
       "      <td>Beaver Mountain</td>\n",
       "      <td>5</td>\n",
       "      <td>Beaver Mountain is an awesome family run ski  ...</td>\n",
       "      <td>Payton Sharum</td>\n",
       "      <td>P.O. Box 3455</td>\n",
       "      <td>Logan</td>\n",
       "      <td>84323-3455</td>\n",
       "      <td>8860</td>\n",
       "      <td>...</td>\n",
       "      <td>50</td>\n",
       "      <td>40</td>\n",
       "      <td>40</td>\n",
       "      <td>50</td>\n",
       "      <td>40</td>\n",
       "      <td>35</td>\n",
       "      <td>https://www.onthesnow.com/utah/beaver-mountain...</td>\n",
       "      <td>0</td>\n",
       "      <td>0</td>\n",
       "      <td>0</td>\n",
       "    </tr>\n",
       "    <tr>\n",
       "      <th>2078</th>\n",
       "      <td>2020-10-22</td>\n",
       "      <td>Wyoming</td>\n",
       "      <td>Snowy Range Ski Recreation Area</td>\n",
       "      <td>5</td>\n",
       "      <td>I love how cozy this ski area is. Sure, it doe...</td>\n",
       "      <td>Payton Sharum</td>\n",
       "      <td>Po Box 247</td>\n",
       "      <td>Centennial</td>\n",
       "      <td>82055</td>\n",
       "      <td>9663</td>\n",
       "      <td>...</td>\n",
       "      <td>30</td>\n",
       "      <td>42</td>\n",
       "      <td>49</td>\n",
       "      <td>39</td>\n",
       "      <td>30</td>\n",
       "      <td>42</td>\n",
       "      <td>https://www.onthesnow.com/wyong/snowy-range-sk...</td>\n",
       "      <td>0</td>\n",
       "      <td>0</td>\n",
       "      <td>0</td>\n",
       "    </tr>\n",
       "    <tr>\n",
       "      <th>2079</th>\n",
       "      <td>2020-10-28</td>\n",
       "      <td>Montana</td>\n",
       "      <td>Discovery</td>\n",
       "      <td>5</td>\n",
       "      <td>This little  is top notch and not full of peop...</td>\n",
       "      <td>Lori Young</td>\n",
       "      <td>PO Box 221</td>\n",
       "      <td>Anonda</td>\n",
       "      <td>59711</td>\n",
       "      <td>8150</td>\n",
       "      <td>...</td>\n",
       "      <td>26</td>\n",
       "      <td>49</td>\n",
       "      <td>38</td>\n",
       "      <td>39</td>\n",
       "      <td>26</td>\n",
       "      <td>49</td>\n",
       "      <td>https://www.onthesnow.com/montana/discovery-sk...</td>\n",
       "      <td>0</td>\n",
       "      <td>0</td>\n",
       "      <td>0</td>\n",
       "    </tr>\n",
       "    <tr>\n",
       "      <th>2080</th>\n",
       "      <td>2020-10-28</td>\n",
       "      <td>Montana</td>\n",
       "      <td>Discovery</td>\n",
       "      <td>5</td>\n",
       "      <td>Easy to get to nice large for family dining\\nG...</td>\n",
       "      <td>Lori Young</td>\n",
       "      <td>PO Box 221</td>\n",
       "      <td>Anonda</td>\n",
       "      <td>59711</td>\n",
       "      <td>8150</td>\n",
       "      <td>...</td>\n",
       "      <td>26</td>\n",
       "      <td>49</td>\n",
       "      <td>38</td>\n",
       "      <td>39</td>\n",
       "      <td>26</td>\n",
       "      <td>49</td>\n",
       "      <td>https://www.onthesnow.com/montana/discovery-sk...</td>\n",
       "      <td>0</td>\n",
       "      <td>0</td>\n",
       "      <td>0</td>\n",
       "    </tr>\n",
       "    <tr>\n",
       "      <th>2081</th>\n",
       "      <td>2020-12-03</td>\n",
       "      <td>Washington</td>\n",
       "      <td>Mt. Baker</td>\n",
       "      <td>5</td>\n",
       "      <td>First time to Baker after a snowy Nov.  Parkin...</td>\n",
       "      <td>Matt  H</td>\n",
       "      <td>1420 Iowa St.</td>\n",
       "      <td>Bellingham</td>\n",
       "      <td>98229</td>\n",
       "      <td>5000</td>\n",
       "      <td>...</td>\n",
       "      <td>37</td>\n",
       "      <td>54</td>\n",
       "      <td>87</td>\n",
       "      <td>73</td>\n",
       "      <td>37</td>\n",
       "      <td>54</td>\n",
       "      <td>https://www.onthesnow.com/washington/mt-baker/...</td>\n",
       "      <td>0</td>\n",
       "      <td>0</td>\n",
       "      <td>0</td>\n",
       "    </tr>\n",
       "  </tbody>\n",
       "</table>\n",
       "<p>2082 rows × 45 columns</p>\n",
       "</div>"
      ],
      "text/plain": [
       "     review_date       state                       ski_resort  rating  \\\n",
       "0     2023-05-04    Colorado                      Winter Park       4   \n",
       "1     2023-05-04    Colorado                   Arapahoe Basin       5   \n",
       "2     2023-05-04    Colorado                        Steamboat       5   \n",
       "3     2023-05-04    Colorado                  Copper Mountain       5   \n",
       "4     2023-05-04        Utah                Solitude Mountain       5   \n",
       "...          ...         ...                              ...     ...   \n",
       "2077  2020-10-22        Utah                  Beaver Mountain       5   \n",
       "2078  2020-10-22     Wyoming  Snowy Range Ski Recreation Area       5   \n",
       "2079  2020-10-28     Montana                        Discovery       5   \n",
       "2080  2020-10-28     Montana                        Discovery       5   \n",
       "2081  2020-12-03  Washington                        Mt. Baker       5   \n",
       "\n",
       "                                                 review      user_name  \\\n",
       "0                                  Very family friendly         anon_1   \n",
       "1                        Challenging terrain, no frills         anon_1   \n",
       "2            Great public transport to and from lodging         anon_1   \n",
       "3     Extremely diverse terrain and fantastic terrai...         anon_1   \n",
       "4     They had so much terrain, especially for the s...         anon_2   \n",
       "...                                                 ...            ...   \n",
       "2077  Beaver Mountain is an awesome family run ski  ...  Payton Sharum   \n",
       "2078  I love how cozy this ski area is. Sure, it doe...  Payton Sharum   \n",
       "2079  This little  is top notch and not full of peop...     Lori Young   \n",
       "2080  Easy to get to nice large for family dining\\nG...     Lori Young   \n",
       "2081  First time to Baker after a snowy Nov.  Parkin...        Matt  H   \n",
       "\n",
       "                          address               city     zipcode   sumt  ...  \\\n",
       "0                     P.O. Box 36        Winter Park       80482  12060  ...   \n",
       "1                     PO Box 5808             Dillon       80435  13050  ...   \n",
       "2          2305 Mt. Werner Circle  Steamboat Springs       80487  10568  ...   \n",
       "3                   P.O. Box 3001    Copper Mountain       80443  12313  ...   \n",
       "4     12000 Big Cottonwood Canyon           Brighton       84121  10488  ...   \n",
       "...                           ...                ...         ...    ...  ...   \n",
       "2077                P.O. Box 3455              Logan  84323-3455   8860  ...   \n",
       "2078                   Po Box 247         Centennial       82055   9663  ...   \n",
       "2079                   PO Box 221             Anonda       59711   8150  ...   \n",
       "2080                   PO Box 221             Anonda       59711   8150  ...   \n",
       "2081                1420 Iowa St.         Bellingham       98229   5000  ...   \n",
       "\n",
       "      junior_weekday  adult_weekday  senior_weekday  child_weekend  \\\n",
       "0                179            157              49             39   \n",
       "1                 59             79              89             99   \n",
       "2                177            167             144            192   \n",
       "3                129            124             179             39   \n",
       "4                 69            115              85             45   \n",
       "...              ...            ...             ...            ...   \n",
       "2077              50             40              40             50   \n",
       "2078              30             42              49             39   \n",
       "2079              26             49              38             39   \n",
       "2080              26             49              38             39   \n",
       "2081              37             54              87             73   \n",
       "\n",
       "      junior_weekend  adult_weekend  \\\n",
       "0                 29             55   \n",
       "1                 69             99   \n",
       "2                182            106   \n",
       "3                 29             55   \n",
       "4                 69            115   \n",
       "...              ...            ...   \n",
       "2077              40             35   \n",
       "2078              30             42   \n",
       "2079              26             49   \n",
       "2080              26             49   \n",
       "2081              37             54   \n",
       "\n",
       "                                                    Url  epic  \\\n",
       "0     https://www.onthesnow.com/colorado/winter-park...     0   \n",
       "1     https://www.onthesnow.com/colorado/arapahoe-ba...     0   \n",
       "2     https://www.onthesnow.com/colorado/steamboat/s...     0   \n",
       "3     https://www.onthesnow.com/colorado/copper-moun...     0   \n",
       "4     https://www.onthesnow.com/utah/solitude-mounta...     0   \n",
       "...                                                 ...   ...   \n",
       "2077  https://www.onthesnow.com/utah/beaver-mountain...     0   \n",
       "2078  https://www.onthesnow.com/wyong/snowy-range-sk...     0   \n",
       "2079  https://www.onthesnow.com/montana/discovery-sk...     0   \n",
       "2080  https://www.onthesnow.com/montana/discovery-sk...     0   \n",
       "2081  https://www.onthesnow.com/washington/mt-baker/...     0   \n",
       "\n",
       "      mountain_collective  ikon  \n",
       "0                       0     1  \n",
       "1                       1     1  \n",
       "2                       0     1  \n",
       "3                       0     1  \n",
       "4                       0     1  \n",
       "...                   ...   ...  \n",
       "2077                    0     0  \n",
       "2078                    0     0  \n",
       "2079                    0     0  \n",
       "2080                    0     0  \n",
       "2081                    0     0  \n",
       "\n",
       "[2082 rows x 45 columns]"
      ]
     },
     "execution_count": 957,
     "metadata": {},
     "output_type": "execute_result"
    }
   ],
   "source": [
    "merged_df"
   ]
  },
  {
   "cell_type": "code",
   "execution_count": 959,
   "metadata": {},
   "outputs": [],
   "source": [
    "#saving final merged dataframe for content based system\n",
    "merged_df.to_csv(\"cleaned_data_exports/final_merged_df.csv\")"
   ]
  },
  {
   "cell_type": "markdown",
   "metadata": {},
   "source": [
    "## Review Analysis"
   ]
  },
  {
   "cell_type": "markdown",
   "metadata": {},
   "source": [
    "Looking at the most reviewed mountains"
   ]
  },
  {
   "cell_type": "code",
   "execution_count": 961,
   "metadata": {},
   "outputs": [],
   "source": [
    "top_5_reviewed_resorts = pd.DataFrame(merged_df['ski_resort'].value_counts().reset_index()).head(5)"
   ]
  },
  {
   "cell_type": "code",
   "execution_count": 962,
   "metadata": {},
   "outputs": [
    {
     "data": {
      "text/html": [
       "<div>\n",
       "<style scoped>\n",
       "    .dataframe tbody tr th:only-of-type {\n",
       "        vertical-align: middle;\n",
       "    }\n",
       "\n",
       "    .dataframe tbody tr th {\n",
       "        vertical-align: top;\n",
       "    }\n",
       "\n",
       "    .dataframe thead th {\n",
       "        text-align: right;\n",
       "    }\n",
       "</style>\n",
       "<table border=\"1\" class=\"dataframe\">\n",
       "  <thead>\n",
       "    <tr style=\"text-align: right;\">\n",
       "      <th></th>\n",
       "      <th>index</th>\n",
       "      <th>ski_resort</th>\n",
       "    </tr>\n",
       "  </thead>\n",
       "  <tbody>\n",
       "    <tr>\n",
       "      <th>0</th>\n",
       "      <td>Breckenridge</td>\n",
       "      <td>42</td>\n",
       "    </tr>\n",
       "    <tr>\n",
       "      <th>1</th>\n",
       "      <td>Vail</td>\n",
       "      <td>40</td>\n",
       "    </tr>\n",
       "    <tr>\n",
       "      <th>2</th>\n",
       "      <td>Ski Brule</td>\n",
       "      <td>39</td>\n",
       "    </tr>\n",
       "    <tr>\n",
       "      <th>3</th>\n",
       "      <td>Killington</td>\n",
       "      <td>37</td>\n",
       "    </tr>\n",
       "    <tr>\n",
       "      <th>4</th>\n",
       "      <td>Snowbird</td>\n",
       "      <td>30</td>\n",
       "    </tr>\n",
       "  </tbody>\n",
       "</table>\n",
       "</div>"
      ],
      "text/plain": [
       "          index  ski_resort\n",
       "0  Breckenridge          42\n",
       "1          Vail          40\n",
       "2     Ski Brule          39\n",
       "3    Killington          37\n",
       "4      Snowbird          30"
      ]
     },
     "execution_count": 962,
     "metadata": {},
     "output_type": "execute_result"
    }
   ],
   "source": [
    "top_5_reviewed_resorts"
   ]
  },
  {
   "cell_type": "code",
   "execution_count": 963,
   "metadata": {},
   "outputs": [
    {
     "data": {
      "application/vnd.plotly.v1+json": {
       "config": {
        "plotlyServerURL": "https://plot.ly"
       },
       "data": [
        {
         "alignmentgroup": "True",
         "hovertemplate": "index=%{x}<br>ski_resort=%{y}<extra></extra>",
         "legendgroup": "",
         "marker": {
          "color": "#f86424"
         },
         "name": "",
         "offsetgroup": "",
         "orientation": "v",
         "showlegend": false,
         "textposition": "auto",
         "type": "bar",
         "x": [
          "Breckenridge",
          "Vail",
          "Ski Brule",
          "Killington",
          "Snowbird"
         ],
         "xaxis": "x",
         "y": [
          42,
          40,
          39,
          37,
          30
         ],
         "yaxis": "y"
        }
       ],
       "layout": {
        "barmode": "relative",
        "legend": {
         "tracegroupgap": 0
        },
        "margin": {
         "t": 60
        },
        "plot_bgcolor": "white",
        "template": {
         "data": {
          "bar": [
           {
            "error_x": {
             "color": "#2a3f5f"
            },
            "error_y": {
             "color": "#2a3f5f"
            },
            "marker": {
             "line": {
              "color": "#E5ECF6",
              "width": 0.5
             }
            },
            "type": "bar"
           }
          ],
          "barpolar": [
           {
            "marker": {
             "line": {
              "color": "#E5ECF6",
              "width": 0.5
             }
            },
            "type": "barpolar"
           }
          ],
          "carpet": [
           {
            "aaxis": {
             "endlinecolor": "#2a3f5f",
             "gridcolor": "white",
             "linecolor": "white",
             "minorgridcolor": "white",
             "startlinecolor": "#2a3f5f"
            },
            "baxis": {
             "endlinecolor": "#2a3f5f",
             "gridcolor": "white",
             "linecolor": "white",
             "minorgridcolor": "white",
             "startlinecolor": "#2a3f5f"
            },
            "type": "carpet"
           }
          ],
          "choropleth": [
           {
            "colorbar": {
             "outlinewidth": 0,
             "ticks": ""
            },
            "type": "choropleth"
           }
          ],
          "contour": [
           {
            "colorbar": {
             "outlinewidth": 0,
             "ticks": ""
            },
            "colorscale": [
             [
              0,
              "#0d0887"
             ],
             [
              0.1111111111111111,
              "#46039f"
             ],
             [
              0.2222222222222222,
              "#7201a8"
             ],
             [
              0.3333333333333333,
              "#9c179e"
             ],
             [
              0.4444444444444444,
              "#bd3786"
             ],
             [
              0.5555555555555556,
              "#d8576b"
             ],
             [
              0.6666666666666666,
              "#ed7953"
             ],
             [
              0.7777777777777778,
              "#fb9f3a"
             ],
             [
              0.8888888888888888,
              "#fdca26"
             ],
             [
              1,
              "#f0f921"
             ]
            ],
            "type": "contour"
           }
          ],
          "contourcarpet": [
           {
            "colorbar": {
             "outlinewidth": 0,
             "ticks": ""
            },
            "type": "contourcarpet"
           }
          ],
          "heatmap": [
           {
            "colorbar": {
             "outlinewidth": 0,
             "ticks": ""
            },
            "colorscale": [
             [
              0,
              "#0d0887"
             ],
             [
              0.1111111111111111,
              "#46039f"
             ],
             [
              0.2222222222222222,
              "#7201a8"
             ],
             [
              0.3333333333333333,
              "#9c179e"
             ],
             [
              0.4444444444444444,
              "#bd3786"
             ],
             [
              0.5555555555555556,
              "#d8576b"
             ],
             [
              0.6666666666666666,
              "#ed7953"
             ],
             [
              0.7777777777777778,
              "#fb9f3a"
             ],
             [
              0.8888888888888888,
              "#fdca26"
             ],
             [
              1,
              "#f0f921"
             ]
            ],
            "type": "heatmap"
           }
          ],
          "heatmapgl": [
           {
            "colorbar": {
             "outlinewidth": 0,
             "ticks": ""
            },
            "colorscale": [
             [
              0,
              "#0d0887"
             ],
             [
              0.1111111111111111,
              "#46039f"
             ],
             [
              0.2222222222222222,
              "#7201a8"
             ],
             [
              0.3333333333333333,
              "#9c179e"
             ],
             [
              0.4444444444444444,
              "#bd3786"
             ],
             [
              0.5555555555555556,
              "#d8576b"
             ],
             [
              0.6666666666666666,
              "#ed7953"
             ],
             [
              0.7777777777777778,
              "#fb9f3a"
             ],
             [
              0.8888888888888888,
              "#fdca26"
             ],
             [
              1,
              "#f0f921"
             ]
            ],
            "type": "heatmapgl"
           }
          ],
          "histogram": [
           {
            "marker": {
             "colorbar": {
              "outlinewidth": 0,
              "ticks": ""
             }
            },
            "type": "histogram"
           }
          ],
          "histogram2d": [
           {
            "colorbar": {
             "outlinewidth": 0,
             "ticks": ""
            },
            "colorscale": [
             [
              0,
              "#0d0887"
             ],
             [
              0.1111111111111111,
              "#46039f"
             ],
             [
              0.2222222222222222,
              "#7201a8"
             ],
             [
              0.3333333333333333,
              "#9c179e"
             ],
             [
              0.4444444444444444,
              "#bd3786"
             ],
             [
              0.5555555555555556,
              "#d8576b"
             ],
             [
              0.6666666666666666,
              "#ed7953"
             ],
             [
              0.7777777777777778,
              "#fb9f3a"
             ],
             [
              0.8888888888888888,
              "#fdca26"
             ],
             [
              1,
              "#f0f921"
             ]
            ],
            "type": "histogram2d"
           }
          ],
          "histogram2dcontour": [
           {
            "colorbar": {
             "outlinewidth": 0,
             "ticks": ""
            },
            "colorscale": [
             [
              0,
              "#0d0887"
             ],
             [
              0.1111111111111111,
              "#46039f"
             ],
             [
              0.2222222222222222,
              "#7201a8"
             ],
             [
              0.3333333333333333,
              "#9c179e"
             ],
             [
              0.4444444444444444,
              "#bd3786"
             ],
             [
              0.5555555555555556,
              "#d8576b"
             ],
             [
              0.6666666666666666,
              "#ed7953"
             ],
             [
              0.7777777777777778,
              "#fb9f3a"
             ],
             [
              0.8888888888888888,
              "#fdca26"
             ],
             [
              1,
              "#f0f921"
             ]
            ],
            "type": "histogram2dcontour"
           }
          ],
          "mesh3d": [
           {
            "colorbar": {
             "outlinewidth": 0,
             "ticks": ""
            },
            "type": "mesh3d"
           }
          ],
          "parcoords": [
           {
            "line": {
             "colorbar": {
              "outlinewidth": 0,
              "ticks": ""
             }
            },
            "type": "parcoords"
           }
          ],
          "pie": [
           {
            "automargin": true,
            "type": "pie"
           }
          ],
          "scatter": [
           {
            "marker": {
             "colorbar": {
              "outlinewidth": 0,
              "ticks": ""
             }
            },
            "type": "scatter"
           }
          ],
          "scatter3d": [
           {
            "line": {
             "colorbar": {
              "outlinewidth": 0,
              "ticks": ""
             }
            },
            "marker": {
             "colorbar": {
              "outlinewidth": 0,
              "ticks": ""
             }
            },
            "type": "scatter3d"
           }
          ],
          "scattercarpet": [
           {
            "marker": {
             "colorbar": {
              "outlinewidth": 0,
              "ticks": ""
             }
            },
            "type": "scattercarpet"
           }
          ],
          "scattergeo": [
           {
            "marker": {
             "colorbar": {
              "outlinewidth": 0,
              "ticks": ""
             }
            },
            "type": "scattergeo"
           }
          ],
          "scattergl": [
           {
            "marker": {
             "colorbar": {
              "outlinewidth": 0,
              "ticks": ""
             }
            },
            "type": "scattergl"
           }
          ],
          "scattermapbox": [
           {
            "marker": {
             "colorbar": {
              "outlinewidth": 0,
              "ticks": ""
             }
            },
            "type": "scattermapbox"
           }
          ],
          "scatterpolar": [
           {
            "marker": {
             "colorbar": {
              "outlinewidth": 0,
              "ticks": ""
             }
            },
            "type": "scatterpolar"
           }
          ],
          "scatterpolargl": [
           {
            "marker": {
             "colorbar": {
              "outlinewidth": 0,
              "ticks": ""
             }
            },
            "type": "scatterpolargl"
           }
          ],
          "scatterternary": [
           {
            "marker": {
             "colorbar": {
              "outlinewidth": 0,
              "ticks": ""
             }
            },
            "type": "scatterternary"
           }
          ],
          "surface": [
           {
            "colorbar": {
             "outlinewidth": 0,
             "ticks": ""
            },
            "colorscale": [
             [
              0,
              "#0d0887"
             ],
             [
              0.1111111111111111,
              "#46039f"
             ],
             [
              0.2222222222222222,
              "#7201a8"
             ],
             [
              0.3333333333333333,
              "#9c179e"
             ],
             [
              0.4444444444444444,
              "#bd3786"
             ],
             [
              0.5555555555555556,
              "#d8576b"
             ],
             [
              0.6666666666666666,
              "#ed7953"
             ],
             [
              0.7777777777777778,
              "#fb9f3a"
             ],
             [
              0.8888888888888888,
              "#fdca26"
             ],
             [
              1,
              "#f0f921"
             ]
            ],
            "type": "surface"
           }
          ],
          "table": [
           {
            "cells": {
             "fill": {
              "color": "#EBF0F8"
             },
             "line": {
              "color": "white"
             }
            },
            "header": {
             "fill": {
              "color": "#C8D4E3"
             },
             "line": {
              "color": "white"
             }
            },
            "type": "table"
           }
          ]
         },
         "layout": {
          "annotationdefaults": {
           "arrowcolor": "#2a3f5f",
           "arrowhead": 0,
           "arrowwidth": 1
          },
          "coloraxis": {
           "colorbar": {
            "outlinewidth": 0,
            "ticks": ""
           }
          },
          "colorscale": {
           "diverging": [
            [
             0,
             "#8e0152"
            ],
            [
             0.1,
             "#c51b7d"
            ],
            [
             0.2,
             "#de77ae"
            ],
            [
             0.3,
             "#f1b6da"
            ],
            [
             0.4,
             "#fde0ef"
            ],
            [
             0.5,
             "#f7f7f7"
            ],
            [
             0.6,
             "#e6f5d0"
            ],
            [
             0.7,
             "#b8e186"
            ],
            [
             0.8,
             "#7fbc41"
            ],
            [
             0.9,
             "#4d9221"
            ],
            [
             1,
             "#276419"
            ]
           ],
           "sequential": [
            [
             0,
             "#0d0887"
            ],
            [
             0.1111111111111111,
             "#46039f"
            ],
            [
             0.2222222222222222,
             "#7201a8"
            ],
            [
             0.3333333333333333,
             "#9c179e"
            ],
            [
             0.4444444444444444,
             "#bd3786"
            ],
            [
             0.5555555555555556,
             "#d8576b"
            ],
            [
             0.6666666666666666,
             "#ed7953"
            ],
            [
             0.7777777777777778,
             "#fb9f3a"
            ],
            [
             0.8888888888888888,
             "#fdca26"
            ],
            [
             1,
             "#f0f921"
            ]
           ],
           "sequentialminus": [
            [
             0,
             "#0d0887"
            ],
            [
             0.1111111111111111,
             "#46039f"
            ],
            [
             0.2222222222222222,
             "#7201a8"
            ],
            [
             0.3333333333333333,
             "#9c179e"
            ],
            [
             0.4444444444444444,
             "#bd3786"
            ],
            [
             0.5555555555555556,
             "#d8576b"
            ],
            [
             0.6666666666666666,
             "#ed7953"
            ],
            [
             0.7777777777777778,
             "#fb9f3a"
            ],
            [
             0.8888888888888888,
             "#fdca26"
            ],
            [
             1,
             "#f0f921"
            ]
           ]
          },
          "colorway": [
           "#636efa",
           "#EF553B",
           "#00cc96",
           "#ab63fa",
           "#FFA15A",
           "#19d3f3",
           "#FF6692",
           "#B6E880",
           "#FF97FF",
           "#FECB52"
          ],
          "font": {
           "color": "#2a3f5f"
          },
          "geo": {
           "bgcolor": "white",
           "lakecolor": "white",
           "landcolor": "#E5ECF6",
           "showlakes": true,
           "showland": true,
           "subunitcolor": "white"
          },
          "hoverlabel": {
           "align": "left"
          },
          "hovermode": "closest",
          "mapbox": {
           "style": "light"
          },
          "paper_bgcolor": "white",
          "plot_bgcolor": "#E5ECF6",
          "polar": {
           "angularaxis": {
            "gridcolor": "white",
            "linecolor": "white",
            "ticks": ""
           },
           "bgcolor": "#E5ECF6",
           "radialaxis": {
            "gridcolor": "white",
            "linecolor": "white",
            "ticks": ""
           }
          },
          "scene": {
           "xaxis": {
            "backgroundcolor": "#E5ECF6",
            "gridcolor": "white",
            "gridwidth": 2,
            "linecolor": "white",
            "showbackground": true,
            "ticks": "",
            "zerolinecolor": "white"
           },
           "yaxis": {
            "backgroundcolor": "#E5ECF6",
            "gridcolor": "white",
            "gridwidth": 2,
            "linecolor": "white",
            "showbackground": true,
            "ticks": "",
            "zerolinecolor": "white"
           },
           "zaxis": {
            "backgroundcolor": "#E5ECF6",
            "gridcolor": "white",
            "gridwidth": 2,
            "linecolor": "white",
            "showbackground": true,
            "ticks": "",
            "zerolinecolor": "white"
           }
          },
          "shapedefaults": {
           "line": {
            "color": "#2a3f5f"
           }
          },
          "ternary": {
           "aaxis": {
            "gridcolor": "white",
            "linecolor": "white",
            "ticks": ""
           },
           "baxis": {
            "gridcolor": "white",
            "linecolor": "white",
            "ticks": ""
           },
           "bgcolor": "#E5ECF6",
           "caxis": {
            "gridcolor": "white",
            "linecolor": "white",
            "ticks": ""
           }
          },
          "title": {
           "x": 0.05
          },
          "xaxis": {
           "automargin": true,
           "gridcolor": "white",
           "linecolor": "white",
           "ticks": "",
           "title": {
            "standoff": 15
           },
           "zerolinecolor": "white",
           "zerolinewidth": 2
          },
          "yaxis": {
           "automargin": true,
           "gridcolor": "white",
           "linecolor": "white",
           "ticks": "",
           "title": {
            "standoff": 15
           },
           "zerolinecolor": "white",
           "zerolinewidth": 2
          }
         }
        },
        "title": {
         "text": "Most Reviewed Mountains",
         "x": 0.5
        },
        "xaxis": {
         "anchor": "y",
         "domain": [
          0,
          1
         ],
         "title": {
          "text": "Resort"
         }
        },
        "yaxis": {
         "anchor": "x",
         "domain": [
          0,
          1
         ],
         "title": {
          "text": "Review Count"
         }
        }
       }
      },
      "text/html": [
       "<div>                            <div id=\"0b5525b3-e321-438d-9310-67d7a775e169\" class=\"plotly-graph-div\" style=\"height:525px; width:100%;\"></div>            <script type=\"text/javascript\">                require([\"plotly\"], function(Plotly) {                    window.PLOTLYENV=window.PLOTLYENV || {};                                    if (document.getElementById(\"0b5525b3-e321-438d-9310-67d7a775e169\")) {                    Plotly.newPlot(                        \"0b5525b3-e321-438d-9310-67d7a775e169\",                        [{\"alignmentgroup\": \"True\", \"hovertemplate\": \"index=%{x}<br>ski_resort=%{y}<extra></extra>\", \"legendgroup\": \"\", \"marker\": {\"color\": \"#f86424\"}, \"name\": \"\", \"offsetgroup\": \"\", \"orientation\": \"v\", \"showlegend\": false, \"textposition\": \"auto\", \"type\": \"bar\", \"x\": [\"Breckenridge\", \"Vail\", \"Ski Brule\", \"Killington\", \"Snowbird\"], \"xaxis\": \"x\", \"y\": [42, 40, 39, 37, 30], \"yaxis\": \"y\"}],                        {\"barmode\": \"relative\", \"legend\": {\"tracegroupgap\": 0}, \"margin\": {\"t\": 60}, \"plot_bgcolor\": \"white\", \"template\": {\"data\": {\"bar\": [{\"error_x\": {\"color\": \"#2a3f5f\"}, \"error_y\": {\"color\": \"#2a3f5f\"}, \"marker\": {\"line\": {\"color\": \"#E5ECF6\", \"width\": 0.5}}, \"type\": \"bar\"}], \"barpolar\": [{\"marker\": {\"line\": {\"color\": \"#E5ECF6\", \"width\": 0.5}}, \"type\": \"barpolar\"}], \"carpet\": [{\"aaxis\": {\"endlinecolor\": \"#2a3f5f\", \"gridcolor\": \"white\", \"linecolor\": \"white\", \"minorgridcolor\": \"white\", \"startlinecolor\": \"#2a3f5f\"}, \"baxis\": {\"endlinecolor\": \"#2a3f5f\", \"gridcolor\": \"white\", \"linecolor\": \"white\", \"minorgridcolor\": \"white\", \"startlinecolor\": \"#2a3f5f\"}, \"type\": \"carpet\"}], \"choropleth\": [{\"colorbar\": {\"outlinewidth\": 0, \"ticks\": \"\"}, \"type\": \"choropleth\"}], \"contour\": [{\"colorbar\": {\"outlinewidth\": 0, \"ticks\": \"\"}, \"colorscale\": [[0.0, \"#0d0887\"], [0.1111111111111111, \"#46039f\"], [0.2222222222222222, \"#7201a8\"], [0.3333333333333333, \"#9c179e\"], [0.4444444444444444, \"#bd3786\"], [0.5555555555555556, \"#d8576b\"], [0.6666666666666666, \"#ed7953\"], [0.7777777777777778, \"#fb9f3a\"], [0.8888888888888888, \"#fdca26\"], [1.0, \"#f0f921\"]], \"type\": \"contour\"}], \"contourcarpet\": [{\"colorbar\": {\"outlinewidth\": 0, \"ticks\": \"\"}, \"type\": \"contourcarpet\"}], \"heatmap\": [{\"colorbar\": {\"outlinewidth\": 0, \"ticks\": \"\"}, \"colorscale\": [[0.0, \"#0d0887\"], [0.1111111111111111, \"#46039f\"], [0.2222222222222222, \"#7201a8\"], [0.3333333333333333, \"#9c179e\"], [0.4444444444444444, \"#bd3786\"], [0.5555555555555556, \"#d8576b\"], [0.6666666666666666, \"#ed7953\"], [0.7777777777777778, \"#fb9f3a\"], [0.8888888888888888, \"#fdca26\"], [1.0, \"#f0f921\"]], \"type\": \"heatmap\"}], \"heatmapgl\": [{\"colorbar\": {\"outlinewidth\": 0, \"ticks\": \"\"}, \"colorscale\": [[0.0, \"#0d0887\"], [0.1111111111111111, \"#46039f\"], [0.2222222222222222, \"#7201a8\"], [0.3333333333333333, \"#9c179e\"], [0.4444444444444444, \"#bd3786\"], [0.5555555555555556, \"#d8576b\"], [0.6666666666666666, \"#ed7953\"], [0.7777777777777778, \"#fb9f3a\"], [0.8888888888888888, \"#fdca26\"], [1.0, \"#f0f921\"]], \"type\": \"heatmapgl\"}], \"histogram\": [{\"marker\": {\"colorbar\": {\"outlinewidth\": 0, \"ticks\": \"\"}}, \"type\": \"histogram\"}], \"histogram2d\": [{\"colorbar\": {\"outlinewidth\": 0, \"ticks\": \"\"}, \"colorscale\": [[0.0, \"#0d0887\"], [0.1111111111111111, \"#46039f\"], [0.2222222222222222, \"#7201a8\"], [0.3333333333333333, \"#9c179e\"], [0.4444444444444444, \"#bd3786\"], [0.5555555555555556, \"#d8576b\"], [0.6666666666666666, \"#ed7953\"], [0.7777777777777778, \"#fb9f3a\"], [0.8888888888888888, \"#fdca26\"], [1.0, \"#f0f921\"]], \"type\": \"histogram2d\"}], \"histogram2dcontour\": [{\"colorbar\": {\"outlinewidth\": 0, \"ticks\": \"\"}, \"colorscale\": [[0.0, \"#0d0887\"], [0.1111111111111111, \"#46039f\"], [0.2222222222222222, \"#7201a8\"], [0.3333333333333333, \"#9c179e\"], [0.4444444444444444, \"#bd3786\"], [0.5555555555555556, \"#d8576b\"], [0.6666666666666666, \"#ed7953\"], [0.7777777777777778, \"#fb9f3a\"], [0.8888888888888888, \"#fdca26\"], [1.0, \"#f0f921\"]], \"type\": \"histogram2dcontour\"}], \"mesh3d\": [{\"colorbar\": {\"outlinewidth\": 0, \"ticks\": \"\"}, \"type\": \"mesh3d\"}], \"parcoords\": [{\"line\": {\"colorbar\": {\"outlinewidth\": 0, \"ticks\": \"\"}}, \"type\": \"parcoords\"}], \"pie\": [{\"automargin\": true, \"type\": \"pie\"}], \"scatter\": [{\"marker\": {\"colorbar\": {\"outlinewidth\": 0, \"ticks\": \"\"}}, \"type\": \"scatter\"}], \"scatter3d\": [{\"line\": {\"colorbar\": {\"outlinewidth\": 0, \"ticks\": \"\"}}, \"marker\": {\"colorbar\": {\"outlinewidth\": 0, \"ticks\": \"\"}}, \"type\": \"scatter3d\"}], \"scattercarpet\": [{\"marker\": {\"colorbar\": {\"outlinewidth\": 0, \"ticks\": \"\"}}, \"type\": \"scattercarpet\"}], \"scattergeo\": [{\"marker\": {\"colorbar\": {\"outlinewidth\": 0, \"ticks\": \"\"}}, \"type\": \"scattergeo\"}], \"scattergl\": [{\"marker\": {\"colorbar\": {\"outlinewidth\": 0, \"ticks\": \"\"}}, \"type\": \"scattergl\"}], \"scattermapbox\": [{\"marker\": {\"colorbar\": {\"outlinewidth\": 0, \"ticks\": \"\"}}, \"type\": \"scattermapbox\"}], \"scatterpolar\": [{\"marker\": {\"colorbar\": {\"outlinewidth\": 0, \"ticks\": \"\"}}, \"type\": \"scatterpolar\"}], \"scatterpolargl\": [{\"marker\": {\"colorbar\": {\"outlinewidth\": 0, \"ticks\": \"\"}}, \"type\": \"scatterpolargl\"}], \"scatterternary\": [{\"marker\": {\"colorbar\": {\"outlinewidth\": 0, \"ticks\": \"\"}}, \"type\": \"scatterternary\"}], \"surface\": [{\"colorbar\": {\"outlinewidth\": 0, \"ticks\": \"\"}, \"colorscale\": [[0.0, \"#0d0887\"], [0.1111111111111111, \"#46039f\"], [0.2222222222222222, \"#7201a8\"], [0.3333333333333333, \"#9c179e\"], [0.4444444444444444, \"#bd3786\"], [0.5555555555555556, \"#d8576b\"], [0.6666666666666666, \"#ed7953\"], [0.7777777777777778, \"#fb9f3a\"], [0.8888888888888888, \"#fdca26\"], [1.0, \"#f0f921\"]], \"type\": \"surface\"}], \"table\": [{\"cells\": {\"fill\": {\"color\": \"#EBF0F8\"}, \"line\": {\"color\": \"white\"}}, \"header\": {\"fill\": {\"color\": \"#C8D4E3\"}, \"line\": {\"color\": \"white\"}}, \"type\": \"table\"}]}, \"layout\": {\"annotationdefaults\": {\"arrowcolor\": \"#2a3f5f\", \"arrowhead\": 0, \"arrowwidth\": 1}, \"coloraxis\": {\"colorbar\": {\"outlinewidth\": 0, \"ticks\": \"\"}}, \"colorscale\": {\"diverging\": [[0, \"#8e0152\"], [0.1, \"#c51b7d\"], [0.2, \"#de77ae\"], [0.3, \"#f1b6da\"], [0.4, \"#fde0ef\"], [0.5, \"#f7f7f7\"], [0.6, \"#e6f5d0\"], [0.7, \"#b8e186\"], [0.8, \"#7fbc41\"], [0.9, \"#4d9221\"], [1, \"#276419\"]], \"sequential\": [[0.0, \"#0d0887\"], [0.1111111111111111, \"#46039f\"], [0.2222222222222222, \"#7201a8\"], [0.3333333333333333, \"#9c179e\"], [0.4444444444444444, \"#bd3786\"], [0.5555555555555556, \"#d8576b\"], [0.6666666666666666, \"#ed7953\"], [0.7777777777777778, \"#fb9f3a\"], [0.8888888888888888, \"#fdca26\"], [1.0, \"#f0f921\"]], \"sequentialminus\": [[0.0, \"#0d0887\"], [0.1111111111111111, \"#46039f\"], [0.2222222222222222, \"#7201a8\"], [0.3333333333333333, \"#9c179e\"], [0.4444444444444444, \"#bd3786\"], [0.5555555555555556, \"#d8576b\"], [0.6666666666666666, \"#ed7953\"], [0.7777777777777778, \"#fb9f3a\"], [0.8888888888888888, \"#fdca26\"], [1.0, \"#f0f921\"]]}, \"colorway\": [\"#636efa\", \"#EF553B\", \"#00cc96\", \"#ab63fa\", \"#FFA15A\", \"#19d3f3\", \"#FF6692\", \"#B6E880\", \"#FF97FF\", \"#FECB52\"], \"font\": {\"color\": \"#2a3f5f\"}, \"geo\": {\"bgcolor\": \"white\", \"lakecolor\": \"white\", \"landcolor\": \"#E5ECF6\", \"showlakes\": true, \"showland\": true, \"subunitcolor\": \"white\"}, \"hoverlabel\": {\"align\": \"left\"}, \"hovermode\": \"closest\", \"mapbox\": {\"style\": \"light\"}, \"paper_bgcolor\": \"white\", \"plot_bgcolor\": \"#E5ECF6\", \"polar\": {\"angularaxis\": {\"gridcolor\": \"white\", \"linecolor\": \"white\", \"ticks\": \"\"}, \"bgcolor\": \"#E5ECF6\", \"radialaxis\": {\"gridcolor\": \"white\", \"linecolor\": \"white\", \"ticks\": \"\"}}, \"scene\": {\"xaxis\": {\"backgroundcolor\": \"#E5ECF6\", \"gridcolor\": \"white\", \"gridwidth\": 2, \"linecolor\": \"white\", \"showbackground\": true, \"ticks\": \"\", \"zerolinecolor\": \"white\"}, \"yaxis\": {\"backgroundcolor\": \"#E5ECF6\", \"gridcolor\": \"white\", \"gridwidth\": 2, \"linecolor\": \"white\", \"showbackground\": true, \"ticks\": \"\", \"zerolinecolor\": \"white\"}, \"zaxis\": {\"backgroundcolor\": \"#E5ECF6\", \"gridcolor\": \"white\", \"gridwidth\": 2, \"linecolor\": \"white\", \"showbackground\": true, \"ticks\": \"\", \"zerolinecolor\": \"white\"}}, \"shapedefaults\": {\"line\": {\"color\": \"#2a3f5f\"}}, \"ternary\": {\"aaxis\": {\"gridcolor\": \"white\", \"linecolor\": \"white\", \"ticks\": \"\"}, \"baxis\": {\"gridcolor\": \"white\", \"linecolor\": \"white\", \"ticks\": \"\"}, \"bgcolor\": \"#E5ECF6\", \"caxis\": {\"gridcolor\": \"white\", \"linecolor\": \"white\", \"ticks\": \"\"}}, \"title\": {\"x\": 0.05}, \"xaxis\": {\"automargin\": true, \"gridcolor\": \"white\", \"linecolor\": \"white\", \"ticks\": \"\", \"title\": {\"standoff\": 15}, \"zerolinecolor\": \"white\", \"zerolinewidth\": 2}, \"yaxis\": {\"automargin\": true, \"gridcolor\": \"white\", \"linecolor\": \"white\", \"ticks\": \"\", \"title\": {\"standoff\": 15}, \"zerolinecolor\": \"white\", \"zerolinewidth\": 2}}}, \"title\": {\"text\": \"Most Reviewed Mountains\", \"x\": 0.5}, \"xaxis\": {\"anchor\": \"y\", \"domain\": [0.0, 1.0], \"title\": {\"text\": \"Resort\"}}, \"yaxis\": {\"anchor\": \"x\", \"domain\": [0.0, 1.0], \"title\": {\"text\": \"Review Count\"}}},                        {\"responsive\": true}                    ).then(function(){\n",
       "                            \n",
       "var gd = document.getElementById('0b5525b3-e321-438d-9310-67d7a775e169');\n",
       "var x = new MutationObserver(function (mutations, observer) {{\n",
       "        var display = window.getComputedStyle(gd).display;\n",
       "        if (!display || display === 'none') {{\n",
       "            console.log([gd, 'removed!']);\n",
       "            Plotly.purge(gd);\n",
       "            observer.disconnect();\n",
       "        }}\n",
       "}});\n",
       "\n",
       "// Listen for the removal of the full notebook cells\n",
       "var notebookContainer = gd.closest('#notebook-container');\n",
       "if (notebookContainer) {{\n",
       "    x.observe(notebookContainer, {childList: true});\n",
       "}}\n",
       "\n",
       "// Listen for the clearing of the current output cell\n",
       "var outputEl = gd.closest('.output');\n",
       "if (outputEl) {{\n",
       "    x.observe(outputEl, {childList: true});\n",
       "}}\n",
       "\n",
       "                        })                };                });            </script>        </div>"
      ]
     },
     "metadata": {},
     "output_type": "display_data"
    }
   ],
   "source": [
    "#using plotly to plot the top reviewers\n",
    "fig = px.bar(top_5_reviewed_resorts, x=\"index\", y=\"ski_resort\")\n",
    "fig.update_layout(title_text='Most Reviewed Mountains',\n",
    "                  title_x=0.5,\n",
    "                  xaxis_title=\"Resort\",\n",
    "                  yaxis_title=\"Review Count\",\n",
    "                 plot_bgcolor='white')\n",
    "fig.update_traces(marker_color = \"#f86424\")\n",
    "fig.show()"
   ]
  },
  {
   "cell_type": "markdown",
   "metadata": {},
   "source": [
    "Analayzing the distribution of reviews"
   ]
  },
  {
   "cell_type": "code",
   "execution_count": 964,
   "metadata": {},
   "outputs": [],
   "source": [
    "#making dataframe of rating counts to compare distribution of ratings\n",
    "top_ratings = pd.DataFrame(merged_df[\"rating\"].value_counts(ascending=False).head(15))\n",
    "top_ratings = top_ratings.reset_index()\n",
    "top_ratings = top_ratings.rename(columns={\"rating\":\"rating_count\"})\n",
    "top_ratings = top_ratings.rename(columns={\"index\":\"rating\"})\n",
    "\n",
    "#making user_id a string for plotting\n",
    "top_ratings['rating'] = top_ratings['rating'].astype(str)\n",
    "\n",
    "# Calculate the percentage of each rating count\n",
    "top_ratings['rating_percentage'] = (top_ratings['rating_count'] / top_ratings['rating_count'].sum()) * 100"
   ]
  },
  {
   "cell_type": "markdown",
   "metadata": {},
   "source": [
    "There is an uneven distribtion of ratings, favoring ratings on the higher end. This user biased will impact results."
   ]
  },
  {
   "cell_type": "code",
   "execution_count": 965,
   "metadata": {},
   "outputs": [
    {
     "data": {
      "application/vnd.plotly.v1+json": {
       "config": {
        "plotlyServerURL": "https://plot.ly"
       },
       "data": [
        {
         "alignmentgroup": "True",
         "hovertemplate": "rating=%{x}<br>rating_percentage=%{text}<extra></extra>",
         "legendgroup": "",
         "marker": {
          "color": "#f86424"
         },
         "name": "",
         "offsetgroup": "",
         "orientation": "v",
         "showlegend": false,
         "text": [
          38.13640730067243,
          34.67819404418828,
          16.234390009606148,
          7.012487992315082,
          3.9385206532180597
         ],
         "textposition": "outside",
         "texttemplate": "%{text:.1s}%",
         "type": "bar",
         "x": [
          "5",
          "4",
          "3",
          "2",
          "1"
         ],
         "xaxis": "x",
         "y": [
          38.13640730067243,
          34.67819404418828,
          16.234390009606148,
          7.012487992315082,
          3.9385206532180597
         ],
         "yaxis": "y"
        }
       ],
       "layout": {
        "barmode": "relative",
        "font": {
         "size": 14
        },
        "legend": {
         "tracegroupgap": 0
        },
        "margin": {
         "t": 60
        },
        "plot_bgcolor": "white",
        "template": {
         "data": {
          "bar": [
           {
            "error_x": {
             "color": "#2a3f5f"
            },
            "error_y": {
             "color": "#2a3f5f"
            },
            "marker": {
             "line": {
              "color": "#E5ECF6",
              "width": 0.5
             }
            },
            "type": "bar"
           }
          ],
          "barpolar": [
           {
            "marker": {
             "line": {
              "color": "#E5ECF6",
              "width": 0.5
             }
            },
            "type": "barpolar"
           }
          ],
          "carpet": [
           {
            "aaxis": {
             "endlinecolor": "#2a3f5f",
             "gridcolor": "white",
             "linecolor": "white",
             "minorgridcolor": "white",
             "startlinecolor": "#2a3f5f"
            },
            "baxis": {
             "endlinecolor": "#2a3f5f",
             "gridcolor": "white",
             "linecolor": "white",
             "minorgridcolor": "white",
             "startlinecolor": "#2a3f5f"
            },
            "type": "carpet"
           }
          ],
          "choropleth": [
           {
            "colorbar": {
             "outlinewidth": 0,
             "ticks": ""
            },
            "type": "choropleth"
           }
          ],
          "contour": [
           {
            "colorbar": {
             "outlinewidth": 0,
             "ticks": ""
            },
            "colorscale": [
             [
              0,
              "#0d0887"
             ],
             [
              0.1111111111111111,
              "#46039f"
             ],
             [
              0.2222222222222222,
              "#7201a8"
             ],
             [
              0.3333333333333333,
              "#9c179e"
             ],
             [
              0.4444444444444444,
              "#bd3786"
             ],
             [
              0.5555555555555556,
              "#d8576b"
             ],
             [
              0.6666666666666666,
              "#ed7953"
             ],
             [
              0.7777777777777778,
              "#fb9f3a"
             ],
             [
              0.8888888888888888,
              "#fdca26"
             ],
             [
              1,
              "#f0f921"
             ]
            ],
            "type": "contour"
           }
          ],
          "contourcarpet": [
           {
            "colorbar": {
             "outlinewidth": 0,
             "ticks": ""
            },
            "type": "contourcarpet"
           }
          ],
          "heatmap": [
           {
            "colorbar": {
             "outlinewidth": 0,
             "ticks": ""
            },
            "colorscale": [
             [
              0,
              "#0d0887"
             ],
             [
              0.1111111111111111,
              "#46039f"
             ],
             [
              0.2222222222222222,
              "#7201a8"
             ],
             [
              0.3333333333333333,
              "#9c179e"
             ],
             [
              0.4444444444444444,
              "#bd3786"
             ],
             [
              0.5555555555555556,
              "#d8576b"
             ],
             [
              0.6666666666666666,
              "#ed7953"
             ],
             [
              0.7777777777777778,
              "#fb9f3a"
             ],
             [
              0.8888888888888888,
              "#fdca26"
             ],
             [
              1,
              "#f0f921"
             ]
            ],
            "type": "heatmap"
           }
          ],
          "heatmapgl": [
           {
            "colorbar": {
             "outlinewidth": 0,
             "ticks": ""
            },
            "colorscale": [
             [
              0,
              "#0d0887"
             ],
             [
              0.1111111111111111,
              "#46039f"
             ],
             [
              0.2222222222222222,
              "#7201a8"
             ],
             [
              0.3333333333333333,
              "#9c179e"
             ],
             [
              0.4444444444444444,
              "#bd3786"
             ],
             [
              0.5555555555555556,
              "#d8576b"
             ],
             [
              0.6666666666666666,
              "#ed7953"
             ],
             [
              0.7777777777777778,
              "#fb9f3a"
             ],
             [
              0.8888888888888888,
              "#fdca26"
             ],
             [
              1,
              "#f0f921"
             ]
            ],
            "type": "heatmapgl"
           }
          ],
          "histogram": [
           {
            "marker": {
             "colorbar": {
              "outlinewidth": 0,
              "ticks": ""
             }
            },
            "type": "histogram"
           }
          ],
          "histogram2d": [
           {
            "colorbar": {
             "outlinewidth": 0,
             "ticks": ""
            },
            "colorscale": [
             [
              0,
              "#0d0887"
             ],
             [
              0.1111111111111111,
              "#46039f"
             ],
             [
              0.2222222222222222,
              "#7201a8"
             ],
             [
              0.3333333333333333,
              "#9c179e"
             ],
             [
              0.4444444444444444,
              "#bd3786"
             ],
             [
              0.5555555555555556,
              "#d8576b"
             ],
             [
              0.6666666666666666,
              "#ed7953"
             ],
             [
              0.7777777777777778,
              "#fb9f3a"
             ],
             [
              0.8888888888888888,
              "#fdca26"
             ],
             [
              1,
              "#f0f921"
             ]
            ],
            "type": "histogram2d"
           }
          ],
          "histogram2dcontour": [
           {
            "colorbar": {
             "outlinewidth": 0,
             "ticks": ""
            },
            "colorscale": [
             [
              0,
              "#0d0887"
             ],
             [
              0.1111111111111111,
              "#46039f"
             ],
             [
              0.2222222222222222,
              "#7201a8"
             ],
             [
              0.3333333333333333,
              "#9c179e"
             ],
             [
              0.4444444444444444,
              "#bd3786"
             ],
             [
              0.5555555555555556,
              "#d8576b"
             ],
             [
              0.6666666666666666,
              "#ed7953"
             ],
             [
              0.7777777777777778,
              "#fb9f3a"
             ],
             [
              0.8888888888888888,
              "#fdca26"
             ],
             [
              1,
              "#f0f921"
             ]
            ],
            "type": "histogram2dcontour"
           }
          ],
          "mesh3d": [
           {
            "colorbar": {
             "outlinewidth": 0,
             "ticks": ""
            },
            "type": "mesh3d"
           }
          ],
          "parcoords": [
           {
            "line": {
             "colorbar": {
              "outlinewidth": 0,
              "ticks": ""
             }
            },
            "type": "parcoords"
           }
          ],
          "pie": [
           {
            "automargin": true,
            "type": "pie"
           }
          ],
          "scatter": [
           {
            "marker": {
             "colorbar": {
              "outlinewidth": 0,
              "ticks": ""
             }
            },
            "type": "scatter"
           }
          ],
          "scatter3d": [
           {
            "line": {
             "colorbar": {
              "outlinewidth": 0,
              "ticks": ""
             }
            },
            "marker": {
             "colorbar": {
              "outlinewidth": 0,
              "ticks": ""
             }
            },
            "type": "scatter3d"
           }
          ],
          "scattercarpet": [
           {
            "marker": {
             "colorbar": {
              "outlinewidth": 0,
              "ticks": ""
             }
            },
            "type": "scattercarpet"
           }
          ],
          "scattergeo": [
           {
            "marker": {
             "colorbar": {
              "outlinewidth": 0,
              "ticks": ""
             }
            },
            "type": "scattergeo"
           }
          ],
          "scattergl": [
           {
            "marker": {
             "colorbar": {
              "outlinewidth": 0,
              "ticks": ""
             }
            },
            "type": "scattergl"
           }
          ],
          "scattermapbox": [
           {
            "marker": {
             "colorbar": {
              "outlinewidth": 0,
              "ticks": ""
             }
            },
            "type": "scattermapbox"
           }
          ],
          "scatterpolar": [
           {
            "marker": {
             "colorbar": {
              "outlinewidth": 0,
              "ticks": ""
             }
            },
            "type": "scatterpolar"
           }
          ],
          "scatterpolargl": [
           {
            "marker": {
             "colorbar": {
              "outlinewidth": 0,
              "ticks": ""
             }
            },
            "type": "scatterpolargl"
           }
          ],
          "scatterternary": [
           {
            "marker": {
             "colorbar": {
              "outlinewidth": 0,
              "ticks": ""
             }
            },
            "type": "scatterternary"
           }
          ],
          "surface": [
           {
            "colorbar": {
             "outlinewidth": 0,
             "ticks": ""
            },
            "colorscale": [
             [
              0,
              "#0d0887"
             ],
             [
              0.1111111111111111,
              "#46039f"
             ],
             [
              0.2222222222222222,
              "#7201a8"
             ],
             [
              0.3333333333333333,
              "#9c179e"
             ],
             [
              0.4444444444444444,
              "#bd3786"
             ],
             [
              0.5555555555555556,
              "#d8576b"
             ],
             [
              0.6666666666666666,
              "#ed7953"
             ],
             [
              0.7777777777777778,
              "#fb9f3a"
             ],
             [
              0.8888888888888888,
              "#fdca26"
             ],
             [
              1,
              "#f0f921"
             ]
            ],
            "type": "surface"
           }
          ],
          "table": [
           {
            "cells": {
             "fill": {
              "color": "#EBF0F8"
             },
             "line": {
              "color": "white"
             }
            },
            "header": {
             "fill": {
              "color": "#C8D4E3"
             },
             "line": {
              "color": "white"
             }
            },
            "type": "table"
           }
          ]
         },
         "layout": {
          "annotationdefaults": {
           "arrowcolor": "#2a3f5f",
           "arrowhead": 0,
           "arrowwidth": 1
          },
          "coloraxis": {
           "colorbar": {
            "outlinewidth": 0,
            "ticks": ""
           }
          },
          "colorscale": {
           "diverging": [
            [
             0,
             "#8e0152"
            ],
            [
             0.1,
             "#c51b7d"
            ],
            [
             0.2,
             "#de77ae"
            ],
            [
             0.3,
             "#f1b6da"
            ],
            [
             0.4,
             "#fde0ef"
            ],
            [
             0.5,
             "#f7f7f7"
            ],
            [
             0.6,
             "#e6f5d0"
            ],
            [
             0.7,
             "#b8e186"
            ],
            [
             0.8,
             "#7fbc41"
            ],
            [
             0.9,
             "#4d9221"
            ],
            [
             1,
             "#276419"
            ]
           ],
           "sequential": [
            [
             0,
             "#0d0887"
            ],
            [
             0.1111111111111111,
             "#46039f"
            ],
            [
             0.2222222222222222,
             "#7201a8"
            ],
            [
             0.3333333333333333,
             "#9c179e"
            ],
            [
             0.4444444444444444,
             "#bd3786"
            ],
            [
             0.5555555555555556,
             "#d8576b"
            ],
            [
             0.6666666666666666,
             "#ed7953"
            ],
            [
             0.7777777777777778,
             "#fb9f3a"
            ],
            [
             0.8888888888888888,
             "#fdca26"
            ],
            [
             1,
             "#f0f921"
            ]
           ],
           "sequentialminus": [
            [
             0,
             "#0d0887"
            ],
            [
             0.1111111111111111,
             "#46039f"
            ],
            [
             0.2222222222222222,
             "#7201a8"
            ],
            [
             0.3333333333333333,
             "#9c179e"
            ],
            [
             0.4444444444444444,
             "#bd3786"
            ],
            [
             0.5555555555555556,
             "#d8576b"
            ],
            [
             0.6666666666666666,
             "#ed7953"
            ],
            [
             0.7777777777777778,
             "#fb9f3a"
            ],
            [
             0.8888888888888888,
             "#fdca26"
            ],
            [
             1,
             "#f0f921"
            ]
           ]
          },
          "colorway": [
           "#636efa",
           "#EF553B",
           "#00cc96",
           "#ab63fa",
           "#FFA15A",
           "#19d3f3",
           "#FF6692",
           "#B6E880",
           "#FF97FF",
           "#FECB52"
          ],
          "font": {
           "color": "#2a3f5f"
          },
          "geo": {
           "bgcolor": "white",
           "lakecolor": "white",
           "landcolor": "#E5ECF6",
           "showlakes": true,
           "showland": true,
           "subunitcolor": "white"
          },
          "hoverlabel": {
           "align": "left"
          },
          "hovermode": "closest",
          "mapbox": {
           "style": "light"
          },
          "paper_bgcolor": "white",
          "plot_bgcolor": "#E5ECF6",
          "polar": {
           "angularaxis": {
            "gridcolor": "white",
            "linecolor": "white",
            "ticks": ""
           },
           "bgcolor": "#E5ECF6",
           "radialaxis": {
            "gridcolor": "white",
            "linecolor": "white",
            "ticks": ""
           }
          },
          "scene": {
           "xaxis": {
            "backgroundcolor": "#E5ECF6",
            "gridcolor": "white",
            "gridwidth": 2,
            "linecolor": "white",
            "showbackground": true,
            "ticks": "",
            "zerolinecolor": "white"
           },
           "yaxis": {
            "backgroundcolor": "#E5ECF6",
            "gridcolor": "white",
            "gridwidth": 2,
            "linecolor": "white",
            "showbackground": true,
            "ticks": "",
            "zerolinecolor": "white"
           },
           "zaxis": {
            "backgroundcolor": "#E5ECF6",
            "gridcolor": "white",
            "gridwidth": 2,
            "linecolor": "white",
            "showbackground": true,
            "ticks": "",
            "zerolinecolor": "white"
           }
          },
          "shapedefaults": {
           "line": {
            "color": "#2a3f5f"
           }
          },
          "ternary": {
           "aaxis": {
            "gridcolor": "white",
            "linecolor": "white",
            "ticks": ""
           },
           "baxis": {
            "gridcolor": "white",
            "linecolor": "white",
            "ticks": ""
           },
           "bgcolor": "#E5ECF6",
           "caxis": {
            "gridcolor": "white",
            "linecolor": "white",
            "ticks": ""
           }
          },
          "title": {
           "x": 0.05
          },
          "xaxis": {
           "automargin": true,
           "gridcolor": "white",
           "linecolor": "white",
           "ticks": "",
           "title": {
            "standoff": 15
           },
           "zerolinecolor": "white",
           "zerolinewidth": 2
          },
          "yaxis": {
           "automargin": true,
           "gridcolor": "white",
           "linecolor": "white",
           "ticks": "",
           "title": {
            "standoff": 15
           },
           "zerolinecolor": "white",
           "zerolinewidth": 2
          }
         }
        },
        "title": {
         "text": "Rating Distribution",
         "x": 0.5
        },
        "xaxis": {
         "anchor": "y",
         "domain": [
          0,
          1
         ],
         "title": {
          "text": "Rating"
         }
        },
        "yaxis": {
         "anchor": "x",
         "domain": [
          0,
          1
         ],
         "title": {
          "text": "Rating %"
         }
        }
       }
      },
      "text/html": [
       "<div>                            <div id=\"02f067b2-b19e-485f-8324-8d24f45101cf\" class=\"plotly-graph-div\" style=\"height:525px; width:100%;\"></div>            <script type=\"text/javascript\">                require([\"plotly\"], function(Plotly) {                    window.PLOTLYENV=window.PLOTLYENV || {};                                    if (document.getElementById(\"02f067b2-b19e-485f-8324-8d24f45101cf\")) {                    Plotly.newPlot(                        \"02f067b2-b19e-485f-8324-8d24f45101cf\",                        [{\"alignmentgroup\": \"True\", \"hovertemplate\": \"rating=%{x}<br>rating_percentage=%{text}<extra></extra>\", \"legendgroup\": \"\", \"marker\": {\"color\": \"#f86424\"}, \"name\": \"\", \"offsetgroup\": \"\", \"orientation\": \"v\", \"showlegend\": false, \"text\": [38.13640730067243, 34.67819404418828, 16.234390009606148, 7.012487992315082, 3.9385206532180597], \"textposition\": \"outside\", \"texttemplate\": \"%{text:.1s}%\", \"type\": \"bar\", \"x\": [\"5\", \"4\", \"3\", \"2\", \"1\"], \"xaxis\": \"x\", \"y\": [38.13640730067243, 34.67819404418828, 16.234390009606148, 7.012487992315082, 3.9385206532180597], \"yaxis\": \"y\"}],                        {\"barmode\": \"relative\", \"font\": {\"size\": 14}, \"legend\": {\"tracegroupgap\": 0}, \"margin\": {\"t\": 60}, \"plot_bgcolor\": \"white\", \"template\": {\"data\": {\"bar\": [{\"error_x\": {\"color\": \"#2a3f5f\"}, \"error_y\": {\"color\": \"#2a3f5f\"}, \"marker\": {\"line\": {\"color\": \"#E5ECF6\", \"width\": 0.5}}, \"type\": \"bar\"}], \"barpolar\": [{\"marker\": {\"line\": {\"color\": \"#E5ECF6\", \"width\": 0.5}}, \"type\": \"barpolar\"}], \"carpet\": [{\"aaxis\": {\"endlinecolor\": \"#2a3f5f\", \"gridcolor\": \"white\", \"linecolor\": \"white\", \"minorgridcolor\": \"white\", \"startlinecolor\": \"#2a3f5f\"}, \"baxis\": {\"endlinecolor\": \"#2a3f5f\", \"gridcolor\": \"white\", \"linecolor\": \"white\", \"minorgridcolor\": \"white\", \"startlinecolor\": \"#2a3f5f\"}, \"type\": \"carpet\"}], \"choropleth\": [{\"colorbar\": {\"outlinewidth\": 0, \"ticks\": \"\"}, \"type\": \"choropleth\"}], \"contour\": [{\"colorbar\": {\"outlinewidth\": 0, \"ticks\": \"\"}, \"colorscale\": [[0.0, \"#0d0887\"], [0.1111111111111111, \"#46039f\"], [0.2222222222222222, \"#7201a8\"], [0.3333333333333333, \"#9c179e\"], [0.4444444444444444, \"#bd3786\"], [0.5555555555555556, \"#d8576b\"], [0.6666666666666666, \"#ed7953\"], [0.7777777777777778, \"#fb9f3a\"], [0.8888888888888888, \"#fdca26\"], [1.0, \"#f0f921\"]], \"type\": \"contour\"}], \"contourcarpet\": [{\"colorbar\": {\"outlinewidth\": 0, \"ticks\": \"\"}, \"type\": \"contourcarpet\"}], \"heatmap\": [{\"colorbar\": {\"outlinewidth\": 0, \"ticks\": \"\"}, \"colorscale\": [[0.0, \"#0d0887\"], [0.1111111111111111, \"#46039f\"], [0.2222222222222222, \"#7201a8\"], [0.3333333333333333, \"#9c179e\"], [0.4444444444444444, \"#bd3786\"], [0.5555555555555556, \"#d8576b\"], [0.6666666666666666, \"#ed7953\"], [0.7777777777777778, \"#fb9f3a\"], [0.8888888888888888, \"#fdca26\"], [1.0, \"#f0f921\"]], \"type\": \"heatmap\"}], \"heatmapgl\": [{\"colorbar\": {\"outlinewidth\": 0, \"ticks\": \"\"}, \"colorscale\": [[0.0, \"#0d0887\"], [0.1111111111111111, \"#46039f\"], [0.2222222222222222, \"#7201a8\"], [0.3333333333333333, \"#9c179e\"], [0.4444444444444444, \"#bd3786\"], [0.5555555555555556, \"#d8576b\"], [0.6666666666666666, \"#ed7953\"], [0.7777777777777778, \"#fb9f3a\"], [0.8888888888888888, \"#fdca26\"], [1.0, \"#f0f921\"]], \"type\": \"heatmapgl\"}], \"histogram\": [{\"marker\": {\"colorbar\": {\"outlinewidth\": 0, \"ticks\": \"\"}}, \"type\": \"histogram\"}], \"histogram2d\": [{\"colorbar\": {\"outlinewidth\": 0, \"ticks\": \"\"}, \"colorscale\": [[0.0, \"#0d0887\"], [0.1111111111111111, \"#46039f\"], [0.2222222222222222, \"#7201a8\"], [0.3333333333333333, \"#9c179e\"], [0.4444444444444444, \"#bd3786\"], [0.5555555555555556, \"#d8576b\"], [0.6666666666666666, \"#ed7953\"], [0.7777777777777778, \"#fb9f3a\"], [0.8888888888888888, \"#fdca26\"], [1.0, \"#f0f921\"]], \"type\": \"histogram2d\"}], \"histogram2dcontour\": [{\"colorbar\": {\"outlinewidth\": 0, \"ticks\": \"\"}, \"colorscale\": [[0.0, \"#0d0887\"], [0.1111111111111111, \"#46039f\"], [0.2222222222222222, \"#7201a8\"], [0.3333333333333333, \"#9c179e\"], [0.4444444444444444, \"#bd3786\"], [0.5555555555555556, \"#d8576b\"], [0.6666666666666666, \"#ed7953\"], [0.7777777777777778, \"#fb9f3a\"], [0.8888888888888888, \"#fdca26\"], [1.0, \"#f0f921\"]], \"type\": \"histogram2dcontour\"}], \"mesh3d\": [{\"colorbar\": {\"outlinewidth\": 0, \"ticks\": \"\"}, \"type\": \"mesh3d\"}], \"parcoords\": [{\"line\": {\"colorbar\": {\"outlinewidth\": 0, \"ticks\": \"\"}}, \"type\": \"parcoords\"}], \"pie\": [{\"automargin\": true, \"type\": \"pie\"}], \"scatter\": [{\"marker\": {\"colorbar\": {\"outlinewidth\": 0, \"ticks\": \"\"}}, \"type\": \"scatter\"}], \"scatter3d\": [{\"line\": {\"colorbar\": {\"outlinewidth\": 0, \"ticks\": \"\"}}, \"marker\": {\"colorbar\": {\"outlinewidth\": 0, \"ticks\": \"\"}}, \"type\": \"scatter3d\"}], \"scattercarpet\": [{\"marker\": {\"colorbar\": {\"outlinewidth\": 0, \"ticks\": \"\"}}, \"type\": \"scattercarpet\"}], \"scattergeo\": [{\"marker\": {\"colorbar\": {\"outlinewidth\": 0, \"ticks\": \"\"}}, \"type\": \"scattergeo\"}], \"scattergl\": [{\"marker\": {\"colorbar\": {\"outlinewidth\": 0, \"ticks\": \"\"}}, \"type\": \"scattergl\"}], \"scattermapbox\": [{\"marker\": {\"colorbar\": {\"outlinewidth\": 0, \"ticks\": \"\"}}, \"type\": \"scattermapbox\"}], \"scatterpolar\": [{\"marker\": {\"colorbar\": {\"outlinewidth\": 0, \"ticks\": \"\"}}, \"type\": \"scatterpolar\"}], \"scatterpolargl\": [{\"marker\": {\"colorbar\": {\"outlinewidth\": 0, \"ticks\": \"\"}}, \"type\": \"scatterpolargl\"}], \"scatterternary\": [{\"marker\": {\"colorbar\": {\"outlinewidth\": 0, \"ticks\": \"\"}}, \"type\": \"scatterternary\"}], \"surface\": [{\"colorbar\": {\"outlinewidth\": 0, \"ticks\": \"\"}, \"colorscale\": [[0.0, \"#0d0887\"], [0.1111111111111111, \"#46039f\"], [0.2222222222222222, \"#7201a8\"], [0.3333333333333333, \"#9c179e\"], [0.4444444444444444, \"#bd3786\"], [0.5555555555555556, \"#d8576b\"], [0.6666666666666666, \"#ed7953\"], [0.7777777777777778, \"#fb9f3a\"], [0.8888888888888888, \"#fdca26\"], [1.0, \"#f0f921\"]], \"type\": \"surface\"}], \"table\": [{\"cells\": {\"fill\": {\"color\": \"#EBF0F8\"}, \"line\": {\"color\": \"white\"}}, \"header\": {\"fill\": {\"color\": \"#C8D4E3\"}, \"line\": {\"color\": \"white\"}}, \"type\": \"table\"}]}, \"layout\": {\"annotationdefaults\": {\"arrowcolor\": \"#2a3f5f\", \"arrowhead\": 0, \"arrowwidth\": 1}, \"coloraxis\": {\"colorbar\": {\"outlinewidth\": 0, \"ticks\": \"\"}}, \"colorscale\": {\"diverging\": [[0, \"#8e0152\"], [0.1, \"#c51b7d\"], [0.2, \"#de77ae\"], [0.3, \"#f1b6da\"], [0.4, \"#fde0ef\"], [0.5, \"#f7f7f7\"], [0.6, \"#e6f5d0\"], [0.7, \"#b8e186\"], [0.8, \"#7fbc41\"], [0.9, \"#4d9221\"], [1, \"#276419\"]], \"sequential\": [[0.0, \"#0d0887\"], [0.1111111111111111, \"#46039f\"], [0.2222222222222222, \"#7201a8\"], [0.3333333333333333, \"#9c179e\"], [0.4444444444444444, \"#bd3786\"], [0.5555555555555556, \"#d8576b\"], [0.6666666666666666, \"#ed7953\"], [0.7777777777777778, \"#fb9f3a\"], [0.8888888888888888, \"#fdca26\"], [1.0, \"#f0f921\"]], \"sequentialminus\": [[0.0, \"#0d0887\"], [0.1111111111111111, \"#46039f\"], [0.2222222222222222, \"#7201a8\"], [0.3333333333333333, \"#9c179e\"], [0.4444444444444444, \"#bd3786\"], [0.5555555555555556, \"#d8576b\"], [0.6666666666666666, \"#ed7953\"], [0.7777777777777778, \"#fb9f3a\"], [0.8888888888888888, \"#fdca26\"], [1.0, \"#f0f921\"]]}, \"colorway\": [\"#636efa\", \"#EF553B\", \"#00cc96\", \"#ab63fa\", \"#FFA15A\", \"#19d3f3\", \"#FF6692\", \"#B6E880\", \"#FF97FF\", \"#FECB52\"], \"font\": {\"color\": \"#2a3f5f\"}, \"geo\": {\"bgcolor\": \"white\", \"lakecolor\": \"white\", \"landcolor\": \"#E5ECF6\", \"showlakes\": true, \"showland\": true, \"subunitcolor\": \"white\"}, \"hoverlabel\": {\"align\": \"left\"}, \"hovermode\": \"closest\", \"mapbox\": {\"style\": \"light\"}, \"paper_bgcolor\": \"white\", \"plot_bgcolor\": \"#E5ECF6\", \"polar\": {\"angularaxis\": {\"gridcolor\": \"white\", \"linecolor\": \"white\", \"ticks\": \"\"}, \"bgcolor\": \"#E5ECF6\", \"radialaxis\": {\"gridcolor\": \"white\", \"linecolor\": \"white\", \"ticks\": \"\"}}, \"scene\": {\"xaxis\": {\"backgroundcolor\": \"#E5ECF6\", \"gridcolor\": \"white\", \"gridwidth\": 2, \"linecolor\": \"white\", \"showbackground\": true, \"ticks\": \"\", \"zerolinecolor\": \"white\"}, \"yaxis\": {\"backgroundcolor\": \"#E5ECF6\", \"gridcolor\": \"white\", \"gridwidth\": 2, \"linecolor\": \"white\", \"showbackground\": true, \"ticks\": \"\", \"zerolinecolor\": \"white\"}, \"zaxis\": {\"backgroundcolor\": \"#E5ECF6\", \"gridcolor\": \"white\", \"gridwidth\": 2, \"linecolor\": \"white\", \"showbackground\": true, \"ticks\": \"\", \"zerolinecolor\": \"white\"}}, \"shapedefaults\": {\"line\": {\"color\": \"#2a3f5f\"}}, \"ternary\": {\"aaxis\": {\"gridcolor\": \"white\", \"linecolor\": \"white\", \"ticks\": \"\"}, \"baxis\": {\"gridcolor\": \"white\", \"linecolor\": \"white\", \"ticks\": \"\"}, \"bgcolor\": \"#E5ECF6\", \"caxis\": {\"gridcolor\": \"white\", \"linecolor\": \"white\", \"ticks\": \"\"}}, \"title\": {\"x\": 0.05}, \"xaxis\": {\"automargin\": true, \"gridcolor\": \"white\", \"linecolor\": \"white\", \"ticks\": \"\", \"title\": {\"standoff\": 15}, \"zerolinecolor\": \"white\", \"zerolinewidth\": 2}, \"yaxis\": {\"automargin\": true, \"gridcolor\": \"white\", \"linecolor\": \"white\", \"ticks\": \"\", \"title\": {\"standoff\": 15}, \"zerolinecolor\": \"white\", \"zerolinewidth\": 2}}}, \"title\": {\"text\": \"Rating Distribution\", \"x\": 0.5}, \"xaxis\": {\"anchor\": \"y\", \"domain\": [0.0, 1.0], \"title\": {\"text\": \"Rating\"}}, \"yaxis\": {\"anchor\": \"x\", \"domain\": [0.0, 1.0], \"title\": {\"text\": \"Rating %\"}}},                        {\"responsive\": true}                    ).then(function(){\n",
       "                            \n",
       "var gd = document.getElementById('02f067b2-b19e-485f-8324-8d24f45101cf');\n",
       "var x = new MutationObserver(function (mutations, observer) {{\n",
       "        var display = window.getComputedStyle(gd).display;\n",
       "        if (!display || display === 'none') {{\n",
       "            console.log([gd, 'removed!']);\n",
       "            Plotly.purge(gd);\n",
       "            observer.disconnect();\n",
       "        }}\n",
       "}});\n",
       "\n",
       "// Listen for the removal of the full notebook cells\n",
       "var notebookContainer = gd.closest('#notebook-container');\n",
       "if (notebookContainer) {{\n",
       "    x.observe(notebookContainer, {childList: true});\n",
       "}}\n",
       "\n",
       "// Listen for the clearing of the current output cell\n",
       "var outputEl = gd.closest('.output');\n",
       "if (outputEl) {{\n",
       "    x.observe(outputEl, {childList: true});\n",
       "}}\n",
       "\n",
       "                        })                };                });            </script>        </div>"
      ]
     },
     "metadata": {},
     "output_type": "display_data"
    }
   ],
   "source": [
    "#using plotly to plot the top featurescolor=\n",
    "fig = px.bar(top_ratings, x=\"rating\", y=\"rating_percentage\",\n",
    "             text=\"rating_percentage\")\n",
    "fig.update_layout(title_text='Rating Distribution',\n",
    "                  title_x=0.5,\n",
    "                  xaxis_title=\"Rating\",\n",
    "                  yaxis_title=\"Rating %\",\n",
    "                 plot_bgcolor='white',\n",
    "                 font=dict(size=14))\n",
    "fig.update_traces(marker_color = \"#f86424\", texttemplate='%{text:.1s}%', textposition='outside')\n",
    "\n",
    "fig.show()"
   ]
  },
  {
   "cell_type": "code",
   "execution_count": 966,
   "metadata": {},
   "outputs": [],
   "source": [
    "resort_list = merged_df['ski_resort'].unique().tolist()"
   ]
  },
  {
   "cell_type": "markdown",
   "metadata": {},
   "source": [
    "# Making a surprise dataset for modeling"
   ]
  },
  {
   "cell_type": "code",
   "execution_count": 967,
   "metadata": {},
   "outputs": [],
   "source": [
    "surprise_df = final_ski_df.copy()"
   ]
  },
  {
   "cell_type": "code",
   "execution_count": 968,
   "metadata": {},
   "outputs": [],
   "source": [
    "surprise_df = surprise_df.drop(columns=[\"state\",\"review_date\",\"review\"])"
   ]
  },
  {
   "cell_type": "code",
   "execution_count": 969,
   "metadata": {},
   "outputs": [],
   "source": [
    "#reordering columns\n",
    "surprise_df = surprise_df[['user_name', 'ski_resort', 'rating']]"
   ]
  },
  {
   "cell_type": "code",
   "execution_count": 970,
   "metadata": {},
   "outputs": [
    {
     "data": {
      "text/html": [
       "<div>\n",
       "<style scoped>\n",
       "    .dataframe tbody tr th:only-of-type {\n",
       "        vertical-align: middle;\n",
       "    }\n",
       "\n",
       "    .dataframe tbody tr th {\n",
       "        vertical-align: top;\n",
       "    }\n",
       "\n",
       "    .dataframe thead th {\n",
       "        text-align: right;\n",
       "    }\n",
       "</style>\n",
       "<table border=\"1\" class=\"dataframe\">\n",
       "  <thead>\n",
       "    <tr style=\"text-align: right;\">\n",
       "      <th></th>\n",
       "      <th>user_name</th>\n",
       "      <th>ski_resort</th>\n",
       "      <th>rating</th>\n",
       "    </tr>\n",
       "  </thead>\n",
       "  <tbody>\n",
       "    <tr>\n",
       "      <th>0</th>\n",
       "      <td>anon_1</td>\n",
       "      <td>Winter Park</td>\n",
       "      <td>4</td>\n",
       "    </tr>\n",
       "    <tr>\n",
       "      <th>1</th>\n",
       "      <td>anon_1</td>\n",
       "      <td>Arapahoe Basin</td>\n",
       "      <td>5</td>\n",
       "    </tr>\n",
       "    <tr>\n",
       "      <th>2</th>\n",
       "      <td>anon_1</td>\n",
       "      <td>Steamboat</td>\n",
       "      <td>5</td>\n",
       "    </tr>\n",
       "    <tr>\n",
       "      <th>3</th>\n",
       "      <td>anon_1</td>\n",
       "      <td>Copper Mountain</td>\n",
       "      <td>5</td>\n",
       "    </tr>\n",
       "    <tr>\n",
       "      <th>4</th>\n",
       "      <td>anon_2</td>\n",
       "      <td>Solitude Mountain</td>\n",
       "      <td>5</td>\n",
       "    </tr>\n",
       "    <tr>\n",
       "      <th>...</th>\n",
       "      <td>...</td>\n",
       "      <td>...</td>\n",
       "      <td>...</td>\n",
       "    </tr>\n",
       "    <tr>\n",
       "      <th>18142</th>\n",
       "      <td>Payton Sharum</td>\n",
       "      <td>Beaver Mountain</td>\n",
       "      <td>5</td>\n",
       "    </tr>\n",
       "    <tr>\n",
       "      <th>18144</th>\n",
       "      <td>Payton Sharum</td>\n",
       "      <td>Snowy Range Ski Recreation Area</td>\n",
       "      <td>5</td>\n",
       "    </tr>\n",
       "    <tr>\n",
       "      <th>18154</th>\n",
       "      <td>Lori Young</td>\n",
       "      <td>Discovery</td>\n",
       "      <td>5</td>\n",
       "    </tr>\n",
       "    <tr>\n",
       "      <th>18155</th>\n",
       "      <td>Lori Young</td>\n",
       "      <td>Discovery</td>\n",
       "      <td>5</td>\n",
       "    </tr>\n",
       "    <tr>\n",
       "      <th>18198</th>\n",
       "      <td>Matt  H</td>\n",
       "      <td>Mt. Baker</td>\n",
       "      <td>5</td>\n",
       "    </tr>\n",
       "  </tbody>\n",
       "</table>\n",
       "<p>2078 rows × 3 columns</p>\n",
       "</div>"
      ],
      "text/plain": [
       "           user_name                       ski_resort  rating\n",
       "0             anon_1                      Winter Park       4\n",
       "1             anon_1                   Arapahoe Basin       5\n",
       "2             anon_1                        Steamboat       5\n",
       "3             anon_1                  Copper Mountain       5\n",
       "4             anon_2                Solitude Mountain       5\n",
       "...              ...                              ...     ...\n",
       "18142  Payton Sharum                  Beaver Mountain       5\n",
       "18144  Payton Sharum  Snowy Range Ski Recreation Area       5\n",
       "18154     Lori Young                        Discovery       5\n",
       "18155     Lori Young                        Discovery       5\n",
       "18198        Matt  H                        Mt. Baker       5\n",
       "\n",
       "[2078 rows x 3 columns]"
      ]
     },
     "execution_count": 970,
     "metadata": {},
     "output_type": "execute_result"
    }
   ],
   "source": [
    "surprise_df"
   ]
  },
  {
   "cell_type": "code",
   "execution_count": 602,
   "metadata": {},
   "outputs": [],
   "source": [
    "from surprise import Reader, Dataset\n",
    "\n",
    "reader = Reader(rating_scale=(1, 5))\n",
    "\n",
    "#loading final dataset\n",
    "data = Dataset.load_from_df(surprise_df[['user_name', 'ski_resort', 'rating']], reader)\n",
    "\n",
    "#spltting into train and test\n",
    "trainset, testset = train_test_split(data, test_size=0.2, random_state=42)"
   ]
  },
  {
   "cell_type": "code",
   "execution_count": 603,
   "metadata": {},
   "outputs": [
    {
     "name": "stdout",
     "output_type": "stream",
     "text": [
      "Number of users:  387 \n",
      "\n",
      "Number of items:  256\n"
     ]
    }
   ],
   "source": [
    "#looking at number of users\n",
    "print('Number of users: ', trainset.n_users, '\\n')\n",
    "print('Number of items: ', trainset.n_items)"
   ]
  },
  {
   "cell_type": "markdown",
   "metadata": {},
   "source": [
    "### Normal Predictor Model"
   ]
  },
  {
   "cell_type": "code",
   "execution_count": 420,
   "metadata": {},
   "outputs": [
    {
     "name": "stdout",
     "output_type": "stream",
     "text": [
      "RMSE: 1.4467\n"
     ]
    }
   ],
   "source": [
    "# Instantiate the model\n",
    "baseline = NormalPredictor()\n",
    "\n",
    "#fitting model\n",
    "baseline.fit(trainset)\n",
    "\n",
    "# making prediction on testset\n",
    "predictions = baseline.test(testset)\n",
    "\n",
    "# Save RMSE score\n",
    "baseline_normal = accuracy.rmse(predictions)"
   ]
  },
  {
   "cell_type": "code",
   "execution_count": 100,
   "metadata": {},
   "outputs": [],
   "source": [
    "#saving normal rmse\n",
    "test_baseline_normal_rmse = 1.446"
   ]
  },
  {
   "cell_type": "code",
   "execution_count": 437,
   "metadata": {},
   "outputs": [],
   "source": [
    "data_rmse = [['normal predictor', 1.45]]\n",
    "\n",
    "model_df = pd.DataFrame(data_rmse, columns=['model', 'rmse'])"
   ]
  },
  {
   "cell_type": "code",
   "execution_count": 438,
   "metadata": {},
   "outputs": [
    {
     "data": {
      "text/html": [
       "<div>\n",
       "<style scoped>\n",
       "    .dataframe tbody tr th:only-of-type {\n",
       "        vertical-align: middle;\n",
       "    }\n",
       "\n",
       "    .dataframe tbody tr th {\n",
       "        vertical-align: top;\n",
       "    }\n",
       "\n",
       "    .dataframe thead th {\n",
       "        text-align: right;\n",
       "    }\n",
       "</style>\n",
       "<table border=\"1\" class=\"dataframe\">\n",
       "  <thead>\n",
       "    <tr style=\"text-align: right;\">\n",
       "      <th></th>\n",
       "      <th>model</th>\n",
       "      <th>rmse</th>\n",
       "    </tr>\n",
       "  </thead>\n",
       "  <tbody>\n",
       "    <tr>\n",
       "      <th>0</th>\n",
       "      <td>normal predictor</td>\n",
       "      <td>1.45</td>\n",
       "    </tr>\n",
       "  </tbody>\n",
       "</table>\n",
       "</div>"
      ],
      "text/plain": [
       "              model  rmse\n",
       "0  normal predictor  1.45"
      ]
     },
     "execution_count": 438,
     "metadata": {},
     "output_type": "execute_result"
    }
   ],
   "source": [
    "model_df"
   ]
  },
  {
   "cell_type": "code",
   "execution_count": 439,
   "metadata": {},
   "outputs": [],
   "source": [
    "def model_comp(model_name, rmse):\n",
    "    model_df.loc[len(model_df.index)] = [model_name, rmse] "
   ]
  },
  {
   "cell_type": "markdown",
   "metadata": {},
   "source": [
    "### Baseline Model"
   ]
  },
  {
   "cell_type": "code",
   "execution_count": 424,
   "metadata": {},
   "outputs": [
    {
     "name": "stdout",
     "output_type": "stream",
     "text": [
      "Estimating biases using als...\n",
      "RMSE: 0.9968\n"
     ]
    }
   ],
   "source": [
    "# Instantiate and fit model\n",
    "baseline2 = BaselineOnly()\n",
    "\n",
    "#fitting model\n",
    "baseline2.fit(trainset)\n",
    "\n",
    "# making prediction on testset\n",
    "predictions = baseline2.test(testset)\n",
    "\n",
    "# Save RMSE score\n",
    "baseline_only = accuracy.rmse(predictions)"
   ]
  },
  {
   "cell_type": "code",
   "execution_count": 425,
   "metadata": {},
   "outputs": [],
   "source": [
    "baseline_only_rmse = 0.9968"
   ]
  },
  {
   "cell_type": "code",
   "execution_count": 440,
   "metadata": {},
   "outputs": [],
   "source": [
    "model_comp('baseline', .996)"
   ]
  },
  {
   "cell_type": "code",
   "execution_count": 441,
   "metadata": {},
   "outputs": [
    {
     "data": {
      "text/html": [
       "<div>\n",
       "<style scoped>\n",
       "    .dataframe tbody tr th:only-of-type {\n",
       "        vertical-align: middle;\n",
       "    }\n",
       "\n",
       "    .dataframe tbody tr th {\n",
       "        vertical-align: top;\n",
       "    }\n",
       "\n",
       "    .dataframe thead th {\n",
       "        text-align: right;\n",
       "    }\n",
       "</style>\n",
       "<table border=\"1\" class=\"dataframe\">\n",
       "  <thead>\n",
       "    <tr style=\"text-align: right;\">\n",
       "      <th></th>\n",
       "      <th>model</th>\n",
       "      <th>rmse</th>\n",
       "    </tr>\n",
       "  </thead>\n",
       "  <tbody>\n",
       "    <tr>\n",
       "      <th>0</th>\n",
       "      <td>normal predictor</td>\n",
       "      <td>1.450</td>\n",
       "    </tr>\n",
       "    <tr>\n",
       "      <th>1</th>\n",
       "      <td>baseline</td>\n",
       "      <td>0.996</td>\n",
       "    </tr>\n",
       "  </tbody>\n",
       "</table>\n",
       "</div>"
      ],
      "text/plain": [
       "              model   rmse\n",
       "0  normal predictor  1.450\n",
       "1          baseline  0.996"
      ]
     },
     "execution_count": 441,
     "metadata": {},
     "output_type": "execute_result"
    }
   ],
   "source": [
    "model_df"
   ]
  },
  {
   "cell_type": "markdown",
   "metadata": {},
   "source": [
    "### SVD Model #1"
   ]
  },
  {
   "cell_type": "code",
   "execution_count": 428,
   "metadata": {},
   "outputs": [
    {
     "name": "stdout",
     "output_type": "stream",
     "text": [
      "Evaluating RMSE of algorithm SVD on 3 split(s).\n",
      "\n",
      "                  Fold 1  Fold 2  Fold 3  Mean    Std     \n",
      "RMSE (testset)    0.9681  0.9880  0.9676  0.9746  0.0095  \n",
      "Fit time          0.07    0.07    0.07    0.07    0.00    \n",
      "Test time         0.00    0.00    0.00    0.00    0.00    \n"
     ]
    }
   ],
   "source": [
    "# Cross validate a basic SVD with no hyperparameter tuning expecting sub-par results\n",
    "svd_basic = SVD(random_state=42)\n",
    "\n",
    "results = cross_validate(svd_basic, data, measures=['RMSE'], cv=3, n_jobs = -1, verbose=True)"
   ]
  },
  {
   "cell_type": "code",
   "execution_count": 429,
   "metadata": {},
   "outputs": [
    {
     "name": "stdout",
     "output_type": "stream",
     "text": [
      "RMSE: 0.9600\n"
     ]
    }
   ],
   "source": [
    "# Fit to trainset and predict on the testset for evaluation\n",
    "svd_basic.fit(trainset)\n",
    "\n",
    "predictions = svd_basic.test(testset)\n",
    "\n",
    "svd_simple = accuracy.rmse(predictions)"
   ]
  },
  {
   "cell_type": "code",
   "execution_count": 430,
   "metadata": {},
   "outputs": [],
   "source": [
    "#saving simmple rmse for final graph\n",
    "test_svd_simple_rmse = 0.96"
   ]
  },
  {
   "cell_type": "code",
   "execution_count": 442,
   "metadata": {},
   "outputs": [],
   "source": [
    "model_comp('svd', .96)"
   ]
  },
  {
   "cell_type": "markdown",
   "metadata": {},
   "source": [
    "## SVD Grid Search"
   ]
  },
  {
   "cell_type": "code",
   "execution_count": 433,
   "metadata": {},
   "outputs": [
    {
     "data": {
      "text/plain": [
       "{'n_factors': 100, 'n_epochs': 20, 'init_mean': 0, 'biased': True}"
      ]
     },
     "execution_count": 433,
     "metadata": {},
     "output_type": "execute_result"
    }
   ],
   "source": [
    "#test grid search\n",
    "params = {'n_factors': [10, 20, 50, 100],\n",
    "          'n_epochs': [5, 10, 20],\n",
    "          'init_mean': [-0.5, 0, 0.5],\n",
    "         'biased': [True, False]}\n",
    "\n",
    "g_s_svd = GridSearchCV(SVD, param_grid=params, cv=5, refit=True)\n",
    "\n",
    "g_s_svd.fit(data)\n",
    "g_s_svd.best_params['rmse']"
   ]
  },
  {
   "cell_type": "code",
   "execution_count": 434,
   "metadata": {},
   "outputs": [
    {
     "name": "stdout",
     "output_type": "stream",
     "text": [
      "{'rmse': 0.9656477812960531, 'mae': 0.7454564796864988}\n",
      "{'rmse': {'n_factors': 100, 'n_epochs': 20, 'init_mean': 0, 'biased': True}, 'mae': {'n_factors': 100, 'n_epochs': 20, 'init_mean': 0, 'biased': True}}\n"
     ]
    }
   ],
   "source": [
    "print(g_s_svd.best_score)\n",
    "print(g_s_svd.best_params)"
   ]
  },
  {
   "cell_type": "code",
   "execution_count": 435,
   "metadata": {},
   "outputs": [
    {
     "name": "stdout",
     "output_type": "stream",
     "text": [
      "RMSE: 0.9572\n"
     ]
    }
   ],
   "source": [
    "# instantiating SVD with best hyperparameters from gridsearch\n",
    "g_s_svd = SVD(n_factors=100 ,n_epochs=20, init_mean=0, biased=True)\n",
    "\n",
    "# fit on trainset and make predictions using testset\n",
    "g_s_svd.fit(trainset)\n",
    "predictions = g_s_svd.test(testset)\n",
    "g_s_svd_1 = accuracy.rmse(predictions)"
   ]
  },
  {
   "cell_type": "code",
   "execution_count": 443,
   "metadata": {},
   "outputs": [],
   "source": [
    "#saving simmple rmse for final graph\n",
    "test_svd_grid_1 = 0.957"
   ]
  },
  {
   "cell_type": "code",
   "execution_count": 444,
   "metadata": {},
   "outputs": [],
   "source": [
    "model_comp('svd_grid_1', .957)"
   ]
  },
  {
   "cell_type": "markdown",
   "metadata": {},
   "source": [
    "## SVD Grid Search # 2"
   ]
  },
  {
   "cell_type": "code",
   "execution_count": 445,
   "metadata": {},
   "outputs": [
    {
     "data": {
      "text/plain": [
       "{'n_factors': 200, 'n_epochs': 50, 'init_mean': 0, 'biased': True}"
      ]
     },
     "execution_count": 445,
     "metadata": {},
     "output_type": "execute_result"
    }
   ],
   "source": [
    "#test grid search\n",
    "params = {'n_factors': [200, 300, 500],\n",
    "          'n_epochs': [20, 30, 40, 50],\n",
    "          'init_mean': [-0.5, 0, 0.5],\n",
    "         'biased': [True, False]}\n",
    "\n",
    "g_s_svd_2 = GridSearchCV(SVD, param_grid=params, cv=5, refit=True)\n",
    "\n",
    "g_s_svd_2.fit(data)\n",
    "g_s_svd_2.best_params['rmse']"
   ]
  },
  {
   "cell_type": "code",
   "execution_count": 446,
   "metadata": {},
   "outputs": [
    {
     "name": "stdout",
     "output_type": "stream",
     "text": [
      "RMSE: 0.9111\n"
     ]
    }
   ],
   "source": [
    "# instantiating SVD with best hyperparameters from gridsearch\n",
    "g_s_svd_2 = SVD(n_factors=200 ,n_epochs=50, init_mean=0, biased=True)\n",
    "\n",
    "# fit on trainset and make predictions using testset\n",
    "g_s_svd_2.fit(trainset)\n",
    "predictions_2 = g_s_svd_2.test(testset)\n",
    "g_s_svd_2 = accuracy.rmse(predictions_2)"
   ]
  },
  {
   "cell_type": "code",
   "execution_count": 447,
   "metadata": {},
   "outputs": [],
   "source": [
    "#saving simmple rmse for final graph\n",
    "test_svd_grid_2 = 0.911"
   ]
  },
  {
   "cell_type": "code",
   "execution_count": 448,
   "metadata": {},
   "outputs": [],
   "source": [
    "model_comp('svd_grid_2', .911)"
   ]
  },
  {
   "cell_type": "markdown",
   "metadata": {},
   "source": [
    "## NFM Grid Search"
   ]
  },
  {
   "cell_type": "code",
   "execution_count": 449,
   "metadata": {},
   "outputs": [
    {
     "name": "stderr",
     "output_type": "stream",
     "text": [
      "[Parallel(n_jobs=1)]: Using backend SequentialBackend with 1 concurrent workers.\n",
      "[Parallel(n_jobs=1)]: Done   1 out of   1 | elapsed:    0.1s remaining:    0.0s\n",
      "[Parallel(n_jobs=1)]: Done   2 out of   2 | elapsed:    0.2s remaining:    0.0s\n",
      "[Parallel(n_jobs=1)]: Done   3 out of   3 | elapsed:    0.2s remaining:    0.0s\n",
      "[Parallel(n_jobs=1)]: Done   4 out of   4 | elapsed:    0.3s remaining:    0.0s\n",
      "[Parallel(n_jobs=1)]: Done   5 out of   5 | elapsed:    0.3s remaining:    0.0s\n",
      "[Parallel(n_jobs=1)]: Done   6 out of   6 | elapsed:    0.4s remaining:    0.0s\n",
      "[Parallel(n_jobs=1)]: Done   7 out of   7 | elapsed:    0.5s remaining:    0.0s\n",
      "[Parallel(n_jobs=1)]: Done   8 out of   8 | elapsed:    0.6s remaining:    0.0s\n",
      "[Parallel(n_jobs=1)]: Done   9 out of   9 | elapsed:    0.6s remaining:    0.0s\n",
      "[Parallel(n_jobs=1)]: Done  54 out of  54 | elapsed:    5.4s finished\n"
     ]
    },
    {
     "data": {
      "text/plain": [
       "{'biased': True, 'n_factors': 20, 'n_epochs': 40}"
      ]
     },
     "execution_count": 449,
     "metadata": {},
     "output_type": "execute_result"
    }
   ],
   "source": [
    "# New hyperparameter dictionary for nmf model\n",
    "nmf_param_grid = {'biased':[True, False],\n",
    "                  'n_factors':[10, 20, 50],\n",
    "                  'n_epochs': [20, 40, 50]}\n",
    "nmf_gs_model = GridSearchCV(NMF, param_grid=nmf_param_grid, cv=3, joblib_verbose=10, return_train_measures=True)\n",
    "\n",
    "# Fit and return the best hyperparameters\n",
    "nmf_gs_model.fit(data)\n",
    "nmf_gs_model.best_params['rmse']"
   ]
  },
  {
   "cell_type": "code",
   "execution_count": 450,
   "metadata": {},
   "outputs": [
    {
     "data": {
      "text/plain": [
       "0.9962696646207182"
      ]
     },
     "execution_count": 450,
     "metadata": {},
     "output_type": "execute_result"
    }
   ],
   "source": [
    "nmf_gs_model.best_score['rmse']"
   ]
  },
  {
   "cell_type": "code",
   "execution_count": 451,
   "metadata": {},
   "outputs": [
    {
     "name": "stdout",
     "output_type": "stream",
     "text": [
      "RMSE: 0.9374\n"
     ]
    }
   ],
   "source": [
    "# instantiating NFM\n",
    "nfm_model = NMF(biased=True, n_factors=20, n_epochs=40)\n",
    "\n",
    "# Fit on trainset and make predictions using testset to return RMSE metric\n",
    "nfm_model.fit(trainset)\n",
    "predictions = nfm_model.test(testset)\n",
    "nfm_model_1 = accuracy.rmse(predictions)"
   ]
  },
  {
   "cell_type": "code",
   "execution_count": 452,
   "metadata": {},
   "outputs": [],
   "source": [
    "nmf_grid_rmse_1 = 0.9374"
   ]
  },
  {
   "cell_type": "code",
   "execution_count": 453,
   "metadata": {},
   "outputs": [],
   "source": [
    "model_comp('nmf_grid_1', .937)"
   ]
  },
  {
   "cell_type": "markdown",
   "metadata": {},
   "source": [
    "### NFM GRID SEARCH #2"
   ]
  },
  {
   "cell_type": "code",
   "execution_count": 454,
   "metadata": {},
   "outputs": [
    {
     "name": "stderr",
     "output_type": "stream",
     "text": [
      "[Parallel(n_jobs=1)]: Using backend SequentialBackend with 1 concurrent workers.\n",
      "[Parallel(n_jobs=1)]: Done   1 out of   1 | elapsed:    0.0s remaining:    0.0s\n",
      "[Parallel(n_jobs=1)]: Done   2 out of   2 | elapsed:    0.1s remaining:    0.0s\n",
      "[Parallel(n_jobs=1)]: Done   3 out of   3 | elapsed:    0.1s remaining:    0.0s\n",
      "[Parallel(n_jobs=1)]: Done   4 out of   4 | elapsed:    0.1s remaining:    0.0s\n",
      "[Parallel(n_jobs=1)]: Done   5 out of   5 | elapsed:    0.2s remaining:    0.0s\n",
      "[Parallel(n_jobs=1)]: Done   6 out of   6 | elapsed:    0.2s remaining:    0.0s\n",
      "[Parallel(n_jobs=1)]: Done   7 out of   7 | elapsed:    0.3s remaining:    0.0s\n",
      "[Parallel(n_jobs=1)]: Done   8 out of   8 | elapsed:    0.3s remaining:    0.0s\n",
      "[Parallel(n_jobs=1)]: Done   9 out of   9 | elapsed:    0.4s remaining:    0.0s\n",
      "[Parallel(n_jobs=1)]: Done 150 out of 150 | elapsed:   11.3s finished\n"
     ]
    },
    {
     "data": {
      "text/plain": [
       "{'biased': True, 'n_factors': 15, 'n_epochs': 50}"
      ]
     },
     "execution_count": 454,
     "metadata": {},
     "output_type": "execute_result"
    }
   ],
   "source": [
    "# New hyperparameter dictionary for nmf model\n",
    "nmf_param_grid_2 = {'biased':[True, False],\n",
    "                  'n_factors':[5, 10, 15, 20, 30],\n",
    "                  'n_epochs': [20, 20, 40, 50, 60]}\n",
    "nmf_gs_model_2 = GridSearchCV(NMF, param_grid=nmf_param_grid_2, cv=3, joblib_verbose=10, return_train_measures=True)\n",
    "\n",
    "# Fit and return the best hyperparameters\n",
    "nmf_gs_model_2.fit(data)\n",
    "nmf_gs_model_2.best_params['rmse']"
   ]
  },
  {
   "cell_type": "code",
   "execution_count": 455,
   "metadata": {},
   "outputs": [
    {
     "data": {
      "text/plain": [
       "0.9789281059684821"
      ]
     },
     "execution_count": 455,
     "metadata": {},
     "output_type": "execute_result"
    }
   ],
   "source": [
    "nmf_gs_model_2.best_score['rmse']"
   ]
  },
  {
   "cell_type": "code",
   "execution_count": 456,
   "metadata": {},
   "outputs": [
    {
     "name": "stdout",
     "output_type": "stream",
     "text": [
      "RMSE: 0.9387\n"
     ]
    }
   ],
   "source": [
    "# instantiating NFM\n",
    "nfm_model_2 = NMF(biased=True, n_factors=15, n_epochs=50)\n",
    "\n",
    "# Fit on trainset and make predictions using testset to return RMSE metric\n",
    "nfm_model_2.fit(trainset)\n",
    "predictions_2 = nfm_model_2.test(testset)\n",
    "nfm_model_2 = accuracy.rmse(predictions_2)"
   ]
  },
  {
   "cell_type": "code",
   "execution_count": 457,
   "metadata": {},
   "outputs": [],
   "source": [
    "nmf_grid_rmse_2 = 0.9387"
   ]
  },
  {
   "cell_type": "code",
   "execution_count": 458,
   "metadata": {},
   "outputs": [],
   "source": [
    "model_comp('nmf_grid_2', .939)"
   ]
  },
  {
   "cell_type": "markdown",
   "metadata": {},
   "source": [
    "### SVD ++"
   ]
  },
  {
   "cell_type": "code",
   "execution_count": 464,
   "metadata": {},
   "outputs": [
    {
     "name": "stderr",
     "output_type": "stream",
     "text": [
      "[Parallel(n_jobs=1)]: Using backend SequentialBackend with 1 concurrent workers.\n",
      "[Parallel(n_jobs=1)]: Done   1 out of   1 | elapsed:    0.2s remaining:    0.0s\n",
      "[Parallel(n_jobs=1)]: Done   2 out of   2 | elapsed:    0.4s remaining:    0.0s\n",
      "[Parallel(n_jobs=1)]: Done   3 out of   3 | elapsed:    0.6s remaining:    0.0s\n",
      "[Parallel(n_jobs=1)]: Done   4 out of   4 | elapsed:    0.8s remaining:    0.0s\n",
      "[Parallel(n_jobs=1)]: Done   5 out of   5 | elapsed:    0.9s remaining:    0.0s\n",
      "[Parallel(n_jobs=1)]: Done   6 out of   6 | elapsed:    1.1s remaining:    0.0s\n",
      "[Parallel(n_jobs=1)]: Done   7 out of   7 | elapsed:    1.3s remaining:    0.0s\n",
      "[Parallel(n_jobs=1)]: Done   8 out of   8 | elapsed:    1.5s remaining:    0.0s\n",
      "[Parallel(n_jobs=1)]: Done   9 out of   9 | elapsed:    1.7s remaining:    0.0s\n",
      "[Parallel(n_jobs=1)]: Done 225 out of 225 | elapsed:  3.1min finished\n"
     ]
    },
    {
     "data": {
      "text/plain": [
       "{'n_factors': 100, 'n_epochs': 60, 'init_mean': 0.01}"
      ]
     },
     "execution_count": 464,
     "metadata": {},
     "output_type": "execute_result"
    }
   ],
   "source": [
    "# New hyperparameter dictionary for nmf model\n",
    "svd_pp_param_grid = {'n_factors':[20, 30, 50, 100, 200],\n",
    "                  'n_epochs': [20, 40, 50, 60, 70],\n",
    "                    'init_mean':[0, .01, .5]}\n",
    "svd_pp_model = GridSearchCV(SVDpp, param_grid=svd_pp_param_grid, cv=3, joblib_verbose=10, return_train_measures=True)\n",
    "\n",
    "# Fit and return the best hyperparameters\n",
    "svd_pp_model.fit(data)\n",
    "svd_pp_model.best_params['rmse']"
   ]
  },
  {
   "cell_type": "code",
   "execution_count": 614,
   "metadata": {},
   "outputs": [
    {
     "name": "stdout",
     "output_type": "stream",
     "text": [
      "RMSE: 0.9021\n"
     ]
    }
   ],
   "source": [
    "# instantiating NFM\n",
    "svd_pp_model = SVDpp(n_factors=100, n_epochs=60, init_mean=.01)\n",
    "\n",
    "# Fit on trainset and make predictions using testset to return RMSE metric\n",
    "svd_pp_model.fit(trainset)\n",
    "predictions = svd_pp_model.test(testset)\n",
    "svd_pp_model_1 = accuracy.rmse(predictions)"
   ]
  },
  {
   "cell_type": "code",
   "execution_count": 466,
   "metadata": {},
   "outputs": [],
   "source": [
    "svd_pp_rmse_1 = 0.90"
   ]
  },
  {
   "cell_type": "code",
   "execution_count": 467,
   "metadata": {},
   "outputs": [],
   "source": [
    "model_comp('svd_pp_1', .90)"
   ]
  },
  {
   "cell_type": "markdown",
   "metadata": {},
   "source": [
    "### SVD ++ Grid Search #2"
   ]
  },
  {
   "cell_type": "code",
   "execution_count": 468,
   "metadata": {},
   "outputs": [
    {
     "name": "stderr",
     "output_type": "stream",
     "text": [
      "[Parallel(n_jobs=1)]: Using backend SequentialBackend with 1 concurrent workers.\n",
      "[Parallel(n_jobs=1)]: Done   1 out of   1 | elapsed:    1.0s remaining:    0.0s\n",
      "[Parallel(n_jobs=1)]: Done   2 out of   2 | elapsed:    1.9s remaining:    0.0s\n",
      "[Parallel(n_jobs=1)]: Done   3 out of   3 | elapsed:    2.9s remaining:    0.0s\n",
      "[Parallel(n_jobs=1)]: Done   4 out of   4 | elapsed:    3.8s remaining:    0.0s\n",
      "[Parallel(n_jobs=1)]: Done   5 out of   5 | elapsed:    4.8s remaining:    0.0s\n",
      "[Parallel(n_jobs=1)]: Done   6 out of   6 | elapsed:    5.7s remaining:    0.0s\n",
      "[Parallel(n_jobs=1)]: Done   7 out of   7 | elapsed:    6.7s remaining:    0.0s\n",
      "[Parallel(n_jobs=1)]: Done   8 out of   8 | elapsed:    7.7s remaining:    0.0s\n",
      "[Parallel(n_jobs=1)]: Done   9 out of   9 | elapsed:    8.6s remaining:    0.0s\n",
      "[Parallel(n_jobs=1)]: Done 108 out of 108 | elapsed:  4.1min finished\n"
     ]
    },
    {
     "data": {
      "text/plain": [
       "{'n_factors': 200, 'n_epochs': 60, 'init_mean': 0}"
      ]
     },
     "execution_count": 468,
     "metadata": {},
     "output_type": "execute_result"
    }
   ],
   "source": [
    "# New hyperparameter dictionary for nmf model\n",
    "svd_pp_param_grid = {'n_factors':[100, 200, 300],\n",
    "                  'n_epochs': [50, 60, 70, 80],\n",
    "                    'init_mean':[0, .01, .5]}\n",
    "svd_pp_model_2 = GridSearchCV(SVDpp, param_grid=svd_pp_param_grid, cv=3, joblib_verbose=10, return_train_measures=True)\n",
    "\n",
    "# Fit and return the best hyperparameters\n",
    "svd_pp_model_2.fit(data)\n",
    "svd_pp_model_2.best_params['rmse']"
   ]
  },
  {
   "cell_type": "code",
   "execution_count": 469,
   "metadata": {},
   "outputs": [
    {
     "data": {
      "text/plain": [
       "0.9600214226128932"
      ]
     },
     "execution_count": 469,
     "metadata": {},
     "output_type": "execute_result"
    }
   ],
   "source": [
    "svd_pp_model_2.best_score['rmse']"
   ]
  },
  {
   "cell_type": "code",
   "execution_count": 613,
   "metadata": {},
   "outputs": [
    {
     "name": "stdout",
     "output_type": "stream",
     "text": [
      "RMSE: 0.9233\n"
     ]
    }
   ],
   "source": [
    "# instantiating SVD\n",
    "svd_pp_model_2 = SVDpp(n_factors=200, n_epochs=60, init_mean=0)\n",
    "\n",
    "# Fit on trainset and make predictions using testset to return RMSE metric\n",
    "svd_pp_model_2.fit(trainset)\n",
    "predictions = svd_pp_model_2.test(testset)\n",
    "svd_pp_model_2 = accuracy.rmse(predictions)"
   ]
  },
  {
   "cell_type": "code",
   "execution_count": 471,
   "metadata": {},
   "outputs": [],
   "source": [
    "svd_pp_rmse_2 = 0.914"
   ]
  },
  {
   "cell_type": "code",
   "execution_count": 472,
   "metadata": {},
   "outputs": [],
   "source": [
    "model_comp('svd_pp_2', .914)"
   ]
  },
  {
   "cell_type": "markdown",
   "metadata": {},
   "source": [
    "## SVD++ Grid Search #3"
   ]
  },
  {
   "cell_type": "code",
   "execution_count": 473,
   "metadata": {},
   "outputs": [
    {
     "name": "stderr",
     "output_type": "stream",
     "text": [
      "[Parallel(n_jobs=1)]: Using backend SequentialBackend with 1 concurrent workers.\n",
      "[Parallel(n_jobs=1)]: Done   1 out of   1 | elapsed:    0.7s remaining:    0.0s\n",
      "[Parallel(n_jobs=1)]: Done   2 out of   2 | elapsed:    1.4s remaining:    0.0s\n",
      "[Parallel(n_jobs=1)]: Done   3 out of   3 | elapsed:    2.1s remaining:    0.0s\n",
      "[Parallel(n_jobs=1)]: Done   4 out of   4 | elapsed:    2.8s remaining:    0.0s\n",
      "[Parallel(n_jobs=1)]: Done   5 out of   5 | elapsed:    3.5s remaining:    0.0s\n",
      "[Parallel(n_jobs=1)]: Done   6 out of   6 | elapsed:    4.2s remaining:    0.0s\n",
      "[Parallel(n_jobs=1)]: Done   7 out of   7 | elapsed:    5.0s remaining:    0.0s\n",
      "[Parallel(n_jobs=1)]: Done   8 out of   8 | elapsed:    5.7s remaining:    0.0s\n",
      "[Parallel(n_jobs=1)]: Done   9 out of   9 | elapsed:    6.4s remaining:    0.0s\n",
      "[Parallel(n_jobs=1)]: Done 192 out of 192 | elapsed: 13.9min finished\n"
     ]
    },
    {
     "data": {
      "text/plain": [
       "{'n_factors': 200, 'n_epochs': 80, 'init_mean': 0}"
      ]
     },
     "execution_count": 473,
     "metadata": {},
     "output_type": "execute_result"
    }
   ],
   "source": [
    "# New hyperparameter dictionary for nmf model\n",
    "svd_pp_param_grid = {'n_factors':[200, 300, 400, 500],\n",
    "                  'n_epochs': [20, 70, 80, 90],\n",
    "                    'init_mean':[0, .01, .02, .03]}\n",
    "svd_pp_model_3 = GridSearchCV(SVDpp, param_grid=svd_pp_param_grid, cv=3, joblib_verbose=10, return_train_measures=True)\n",
    "\n",
    "# Fit and return the best hyperparameters\n",
    "svd_pp_model_3.fit(data)\n",
    "svd_pp_model_3.best_params['rmse']"
   ]
  },
  {
   "cell_type": "code",
   "execution_count": 474,
   "metadata": {},
   "outputs": [
    {
     "data": {
      "text/plain": [
       "0.9652578371679076"
      ]
     },
     "execution_count": 474,
     "metadata": {},
     "output_type": "execute_result"
    }
   ],
   "source": [
    "svd_pp_model_3.best_score['rmse']"
   ]
  },
  {
   "cell_type": "code",
   "execution_count": 612,
   "metadata": {},
   "outputs": [
    {
     "name": "stdout",
     "output_type": "stream",
     "text": [
      "RMSE: 0.9092\n"
     ]
    }
   ],
   "source": [
    "# instantiating NFM\n",
    "svd_pp_model_3 = SVDpp(n_factors=200, n_epochs=80)\n",
    "\n",
    "# Fit on trainset and make predictions using testset to return RMSE metric\n",
    "svd_pp_model_3.fit(trainset)\n",
    "predictions = svd_pp_model_3.test(testset)\n",
    "svd_pp_model_3 = accuracy.rmse(predictions)"
   ]
  },
  {
   "cell_type": "code",
   "execution_count": 476,
   "metadata": {},
   "outputs": [],
   "source": [
    "svd_pp_rmse_3 = 0.929"
   ]
  },
  {
   "cell_type": "code",
   "execution_count": 477,
   "metadata": {},
   "outputs": [],
   "source": [
    "model_comp('svd_pp_3', .929)"
   ]
  },
  {
   "cell_type": "markdown",
   "metadata": {},
   "source": [
    "## SVD PP - Grid Search #4"
   ]
  },
  {
   "cell_type": "code",
   "execution_count": 478,
   "metadata": {},
   "outputs": [
    {
     "name": "stderr",
     "output_type": "stream",
     "text": [
      "[Parallel(n_jobs=1)]: Using backend SequentialBackend with 1 concurrent workers.\n",
      "[Parallel(n_jobs=1)]: Done   1 out of   1 | elapsed:    0.8s remaining:    0.0s\n",
      "[Parallel(n_jobs=1)]: Done   2 out of   2 | elapsed:    1.5s remaining:    0.0s\n",
      "[Parallel(n_jobs=1)]: Done   3 out of   3 | elapsed:    2.3s remaining:    0.0s\n",
      "[Parallel(n_jobs=1)]: Done   4 out of   4 | elapsed:    3.0s remaining:    0.0s\n",
      "[Parallel(n_jobs=1)]: Done   5 out of   5 | elapsed:    3.8s remaining:    0.0s\n",
      "[Parallel(n_jobs=1)]: Done   6 out of   6 | elapsed:    4.5s remaining:    0.0s\n",
      "[Parallel(n_jobs=1)]: Done   7 out of   7 | elapsed:    5.2s remaining:    0.0s\n",
      "[Parallel(n_jobs=1)]: Done   8 out of   8 | elapsed:    6.0s remaining:    0.0s\n",
      "[Parallel(n_jobs=1)]: Done   9 out of   9 | elapsed:    6.7s remaining:    0.0s\n",
      "[Parallel(n_jobs=1)]: Done 240 out of 240 | elapsed:  7.2min finished\n"
     ]
    },
    {
     "data": {
      "text/plain": [
       "{'n_factors': 150, 'n_epochs': 80, 'init_mean': 0}"
      ]
     },
     "execution_count": 478,
     "metadata": {},
     "output_type": "execute_result"
    }
   ],
   "source": [
    "# New hyperparameter dictionary for nmf model\n",
    "svd_pp_param_grid = {'n_factors':[50, 100, 150, 170],\n",
    "                  'n_epochs': [60, 70, 80, 90, 100],\n",
    "                    'init_mean':[0, .01, .03, .05]}\n",
    "svd_pp_model_4 = GridSearchCV(SVDpp, param_grid=svd_pp_param_grid, cv=3, joblib_verbose=10, return_train_measures=True)\n",
    "\n",
    "# Fit and return the best hyperparameters\n",
    "svd_pp_model_4.fit(data)\n",
    "svd_pp_model_4.best_params['rmse']"
   ]
  },
  {
   "cell_type": "code",
   "execution_count": 479,
   "metadata": {},
   "outputs": [
    {
     "data": {
      "text/plain": [
       "0.9553117554893132"
      ]
     },
     "execution_count": 479,
     "metadata": {},
     "output_type": "execute_result"
    }
   ],
   "source": [
    "svd_pp_model_4.best_score['rmse']"
   ]
  },
  {
   "cell_type": "code",
   "execution_count": 491,
   "metadata": {},
   "outputs": [
    {
     "name": "stdout",
     "output_type": "stream",
     "text": [
      "RMSE: 0.9264\n"
     ]
    }
   ],
   "source": [
    "# instantiating NFM\n",
    "svd_pp_model_4 = SVDpp(n_factors=150, n_epochs=80)\n",
    "\n",
    "# Fit on trainset and make predictions using testset to return RMSE metric\n",
    "svd_pp_model_4.fit(trainset)\n",
    "predictions = svd_pp_model_4.test(testset)\n",
    "svd_pp_model_4 = accuracy.rmse(predictions)"
   ]
  },
  {
   "cell_type": "code",
   "execution_count": 611,
   "metadata": {},
   "outputs": [
    {
     "name": "stdout",
     "output_type": "stream",
     "text": [
      "RMSE: 0.9184\n"
     ]
    }
   ],
   "source": [
    "# instantiating NFM\n",
    "svd_pp_model_4 = SVDpp(n_factors=180, n_epochs=80)\n",
    "\n",
    "# Fit on trainset and make predictions using testset to return RMSE metric\n",
    "svd_pp_model_4.fit(trainset)\n",
    "predictions = svd_pp_model_4.test(testset)\n",
    "svd_pp_model_4 = accuracy.rmse(predictions)"
   ]
  },
  {
   "cell_type": "code",
   "execution_count": 494,
   "metadata": {},
   "outputs": [],
   "source": [
    "model_comp('svd_pp_4', 0.926)"
   ]
  },
  {
   "cell_type": "markdown",
   "metadata": {},
   "source": [
    "## SVD PP - Grid Search #5"
   ]
  },
  {
   "cell_type": "code",
   "execution_count": 495,
   "metadata": {},
   "outputs": [
    {
     "name": "stderr",
     "output_type": "stream",
     "text": [
      "[Parallel(n_jobs=1)]: Using backend SequentialBackend with 1 concurrent workers.\n",
      "[Parallel(n_jobs=1)]: Done   1 out of   1 | elapsed:    0.5s remaining:    0.0s\n",
      "[Parallel(n_jobs=1)]: Done   2 out of   2 | elapsed:    0.9s remaining:    0.0s\n",
      "[Parallel(n_jobs=1)]: Done   3 out of   3 | elapsed:    1.4s remaining:    0.0s\n",
      "[Parallel(n_jobs=1)]: Done   4 out of   4 | elapsed:    1.8s remaining:    0.0s\n",
      "[Parallel(n_jobs=1)]: Done   5 out of   5 | elapsed:    2.3s remaining:    0.0s\n",
      "[Parallel(n_jobs=1)]: Done   6 out of   6 | elapsed:    2.7s remaining:    0.0s\n",
      "[Parallel(n_jobs=1)]: Done   7 out of   7 | elapsed:    3.2s remaining:    0.0s\n",
      "[Parallel(n_jobs=1)]: Done   8 out of   8 | elapsed:    3.6s remaining:    0.0s\n",
      "[Parallel(n_jobs=1)]: Done   9 out of   9 | elapsed:    4.1s remaining:    0.0s\n",
      "[Parallel(n_jobs=1)]: Done 180 out of 180 | elapsed:  2.4min finished\n"
     ]
    },
    {
     "data": {
      "text/plain": [
       "{'n_factors': 60, 'n_epochs': 40, 'init_mean': 0.01}"
      ]
     },
     "execution_count": 495,
     "metadata": {},
     "output_type": "execute_result"
    }
   ],
   "source": [
    "# New hyperparameter dictionary for nmf model\n",
    "svd_pp_param_grid = {'n_factors':[40, 50, 60, 70],\n",
    "                  'n_epochs': [40, 50, 60, 70, 80],\n",
    "                    'init_mean':[0, .01, .05]}\n",
    "svd_pp_model_5 = GridSearchCV(SVDpp, param_grid=svd_pp_param_grid, cv=3, joblib_verbose=10, return_train_measures=True)\n",
    "\n",
    "# Fit and return the best hyperparameters\n",
    "svd_pp_model_5.fit(data)\n",
    "svd_pp_model_5.best_params['rmse']"
   ]
  },
  {
   "cell_type": "code",
   "execution_count": 610,
   "metadata": {},
   "outputs": [
    {
     "name": "stdout",
     "output_type": "stream",
     "text": [
      "RMSE: 0.9210\n"
     ]
    }
   ],
   "source": [
    "# instantiating NFM\n",
    "svd_pp_model_5 = SVDpp(n_factors=60, n_epochs=40, init_mean=.01)\n",
    "\n",
    "# Fit on trainset and make predictions using testset to return RMSE metric\n",
    "svd_pp_model_5.fit(trainset)\n",
    "predictions = svd_pp_model_5.test(testset)\n",
    "svd_pp_model_5_rmse = accuracy.rmse(predictions)"
   ]
  },
  {
   "cell_type": "code",
   "execution_count": 498,
   "metadata": {},
   "outputs": [],
   "source": [
    "svd_pp_rmse_5 = 0.915"
   ]
  },
  {
   "cell_type": "code",
   "execution_count": 499,
   "metadata": {},
   "outputs": [],
   "source": [
    "model_comp('svd_pp_5', .915)"
   ]
  },
  {
   "cell_type": "markdown",
   "metadata": {},
   "source": [
    "## SVD PP - Grid Search #6"
   ]
  },
  {
   "cell_type": "code",
   "execution_count": 500,
   "metadata": {},
   "outputs": [
    {
     "name": "stderr",
     "output_type": "stream",
     "text": [
      "[Parallel(n_jobs=1)]: Using backend SequentialBackend with 1 concurrent workers.\n",
      "[Parallel(n_jobs=1)]: Done   1 out of   1 | elapsed:    0.1s remaining:    0.0s\n",
      "[Parallel(n_jobs=1)]: Done   2 out of   2 | elapsed:    0.3s remaining:    0.0s\n",
      "[Parallel(n_jobs=1)]: Done   3 out of   3 | elapsed:    0.4s remaining:    0.0s\n",
      "[Parallel(n_jobs=1)]: Done   4 out of   4 | elapsed:    0.5s remaining:    0.0s\n",
      "[Parallel(n_jobs=1)]: Done   5 out of   5 | elapsed:    0.6s remaining:    0.0s\n",
      "[Parallel(n_jobs=1)]: Done   6 out of   6 | elapsed:    0.7s remaining:    0.0s\n",
      "[Parallel(n_jobs=1)]: Done   7 out of   7 | elapsed:    0.9s remaining:    0.0s\n",
      "[Parallel(n_jobs=1)]: Done   8 out of   8 | elapsed:    1.0s remaining:    0.0s\n",
      "[Parallel(n_jobs=1)]: Done   9 out of   9 | elapsed:    1.1s remaining:    0.0s\n",
      "[Parallel(n_jobs=1)]: Done 270 out of 270 | elapsed:  1.9min finished\n"
     ]
    },
    {
     "data": {
      "text/plain": [
       "{'n_factors': 70, 'n_epochs': 40, 'init_mean': 0.01}"
      ]
     },
     "execution_count": 500,
     "metadata": {},
     "output_type": "execute_result"
    }
   ],
   "source": [
    "svd_pp_param_grid = {'n_factors':[30, 40, 50, 60, 70, 80],\n",
    "                  'n_epochs': [10, 20, 30, 40, 50],\n",
    "                    'init_mean':[0, .01, .05]}\n",
    "svd_pp_model_6 = GridSearchCV(SVDpp, param_grid=svd_pp_param_grid, cv=3, joblib_verbose=10, return_train_measures=True)\n",
    "\n",
    "# Fit and return the best hyperparameters\n",
    "svd_pp_model_6.fit(data)\n",
    "svd_pp_model_6.best_params['rmse']"
   ]
  },
  {
   "cell_type": "code",
   "execution_count": 615,
   "metadata": {},
   "outputs": [
    {
     "name": "stdout",
     "output_type": "stream",
     "text": [
      "RMSE: 0.9263\n"
     ]
    }
   ],
   "source": [
    "# instantiating NFM\n",
    "svd_pp_model_6 = SVDpp(n_factors=70, n_epochs=40, init_mean=.01)\n",
    "\n",
    "# Fit on trainset and make predictions using testset to return RMSE metric\n",
    "svd_pp_model_6.fit(trainset)\n",
    "predictions = svd_pp_model_6.test(testset)\n",
    "svd_pp_model_6_rmse = accuracy.rmse(predictions)"
   ]
  },
  {
   "cell_type": "code",
   "execution_count": 616,
   "metadata": {},
   "outputs": [],
   "source": [
    "svd_pp_rmse_6 = 0.917"
   ]
  },
  {
   "cell_type": "code",
   "execution_count": 503,
   "metadata": {},
   "outputs": [],
   "source": [
    "model_comp('svd_pp_6', .917)"
   ]
  },
  {
   "cell_type": "markdown",
   "metadata": {},
   "source": [
    "### Model Comparison"
   ]
  },
  {
   "cell_type": "code",
   "execution_count": 504,
   "metadata": {},
   "outputs": [
    {
     "data": {
      "text/html": [
       "<div>\n",
       "<style scoped>\n",
       "    .dataframe tbody tr th:only-of-type {\n",
       "        vertical-align: middle;\n",
       "    }\n",
       "\n",
       "    .dataframe tbody tr th {\n",
       "        vertical-align: top;\n",
       "    }\n",
       "\n",
       "    .dataframe thead th {\n",
       "        text-align: right;\n",
       "    }\n",
       "</style>\n",
       "<table border=\"1\" class=\"dataframe\">\n",
       "  <thead>\n",
       "    <tr style=\"text-align: right;\">\n",
       "      <th></th>\n",
       "      <th>model</th>\n",
       "      <th>rmse</th>\n",
       "    </tr>\n",
       "  </thead>\n",
       "  <tbody>\n",
       "    <tr>\n",
       "      <th>7</th>\n",
       "      <td>svd_pp_1</td>\n",
       "      <td>0.900</td>\n",
       "    </tr>\n",
       "    <tr>\n",
       "      <th>4</th>\n",
       "      <td>svd_grid_2</td>\n",
       "      <td>0.911</td>\n",
       "    </tr>\n",
       "    <tr>\n",
       "      <th>8</th>\n",
       "      <td>svd_pp_2</td>\n",
       "      <td>0.914</td>\n",
       "    </tr>\n",
       "    <tr>\n",
       "      <th>11</th>\n",
       "      <td>svd_pp_5</td>\n",
       "      <td>0.915</td>\n",
       "    </tr>\n",
       "    <tr>\n",
       "      <th>12</th>\n",
       "      <td>svd_pp_6</td>\n",
       "      <td>0.917</td>\n",
       "    </tr>\n",
       "  </tbody>\n",
       "</table>\n",
       "</div>"
      ],
      "text/plain": [
       "         model   rmse\n",
       "7     svd_pp_1  0.900\n",
       "4   svd_grid_2  0.911\n",
       "8     svd_pp_2  0.914\n",
       "11    svd_pp_5  0.915\n",
       "12    svd_pp_6  0.917"
      ]
     },
     "execution_count": 504,
     "metadata": {},
     "output_type": "execute_result"
    }
   ],
   "source": [
    "model_df.sort_values(by='rmse', ascending=True).head()"
   ]
  },
  {
   "cell_type": "code",
   "execution_count": 617,
   "metadata": {},
   "outputs": [
    {
     "name": "stdout",
     "output_type": "stream",
     "text": [
      "RMSE: 0.9082\n"
     ]
    }
   ],
   "source": [
    "# instantiating NFM\n",
    "best_model = SVDpp(n_factors=100, n_epochs=60, init_mean=.01)\n",
    "\n",
    "# Fit on trainset and make predictions using testset to return RMSE metric\n",
    "best_model.fit(trainset)\n",
    "predictions = best_model.test(testset)\n",
    "best_model_rmse = accuracy.rmse(predictions)"
   ]
  },
  {
   "cell_type": "markdown",
   "metadata": {},
   "source": [
    "## Function"
   ]
  },
  {
   "cell_type": "code",
   "execution_count": 508,
   "metadata": {},
   "outputs": [
    {
     "data": {
      "text/html": [
       "<div>\n",
       "<style scoped>\n",
       "    .dataframe tbody tr th:only-of-type {\n",
       "        vertical-align: middle;\n",
       "    }\n",
       "\n",
       "    .dataframe tbody tr th {\n",
       "        vertical-align: top;\n",
       "    }\n",
       "\n",
       "    .dataframe thead th {\n",
       "        text-align: right;\n",
       "    }\n",
       "</style>\n",
       "<table border=\"1\" class=\"dataframe\">\n",
       "  <thead>\n",
       "    <tr style=\"text-align: right;\">\n",
       "      <th></th>\n",
       "      <th>user_name</th>\n",
       "      <th>ski_resort</th>\n",
       "      <th>rating</th>\n",
       "    </tr>\n",
       "  </thead>\n",
       "  <tbody>\n",
       "    <tr>\n",
       "      <th>0</th>\n",
       "      <td>anon_1</td>\n",
       "      <td>Winter Park</td>\n",
       "      <td>4</td>\n",
       "    </tr>\n",
       "    <tr>\n",
       "      <th>1</th>\n",
       "      <td>anon_1</td>\n",
       "      <td>Arapahoe Basin</td>\n",
       "      <td>5</td>\n",
       "    </tr>\n",
       "    <tr>\n",
       "      <th>2</th>\n",
       "      <td>anon_1</td>\n",
       "      <td>Steamboat</td>\n",
       "      <td>5</td>\n",
       "    </tr>\n",
       "    <tr>\n",
       "      <th>3</th>\n",
       "      <td>anon_1</td>\n",
       "      <td>Copper Mountain</td>\n",
       "      <td>5</td>\n",
       "    </tr>\n",
       "    <tr>\n",
       "      <th>4</th>\n",
       "      <td>anon_2</td>\n",
       "      <td>Solitude Mountain</td>\n",
       "      <td>5</td>\n",
       "    </tr>\n",
       "  </tbody>\n",
       "</table>\n",
       "</div>"
      ],
      "text/plain": [
       "  user_name         ski_resort  rating\n",
       "0    anon_1        Winter Park       4\n",
       "1    anon_1     Arapahoe Basin       5\n",
       "2    anon_1          Steamboat       5\n",
       "3    anon_1    Copper Mountain       5\n",
       "4    anon_2  Solitude Mountain       5"
      ]
     },
     "execution_count": 508,
     "metadata": {},
     "output_type": "execute_result"
    }
   ],
   "source": [
    "surprise_df.head()"
   ]
  },
  {
   "cell_type": "code",
   "execution_count": 509,
   "metadata": {},
   "outputs": [
    {
     "data": {
      "text/html": [
       "<div>\n",
       "<style scoped>\n",
       "    .dataframe tbody tr th:only-of-type {\n",
       "        vertical-align: middle;\n",
       "    }\n",
       "\n",
       "    .dataframe tbody tr th {\n",
       "        vertical-align: top;\n",
       "    }\n",
       "\n",
       "    .dataframe thead th {\n",
       "        text-align: right;\n",
       "    }\n",
       "</style>\n",
       "<table border=\"1\" class=\"dataframe\">\n",
       "  <thead>\n",
       "    <tr style=\"text-align: right;\">\n",
       "      <th></th>\n",
       "      <th>ski_resort</th>\n",
       "    </tr>\n",
       "    <tr>\n",
       "      <th>user_name</th>\n",
       "      <th></th>\n",
       "    </tr>\n",
       "  </thead>\n",
       "  <tbody>\n",
       "    <tr>\n",
       "      <th>anon_1</th>\n",
       "      <td>Winter Park</td>\n",
       "    </tr>\n",
       "    <tr>\n",
       "      <th>anon_1</th>\n",
       "      <td>Arapahoe Basin</td>\n",
       "    </tr>\n",
       "    <tr>\n",
       "      <th>anon_1</th>\n",
       "      <td>Steamboat</td>\n",
       "    </tr>\n",
       "    <tr>\n",
       "      <th>anon_1</th>\n",
       "      <td>Copper Mountain</td>\n",
       "    </tr>\n",
       "    <tr>\n",
       "      <th>anon_2</th>\n",
       "      <td>Solitude Mountain</td>\n",
       "    </tr>\n",
       "  </tbody>\n",
       "</table>\n",
       "</div>"
      ],
      "text/plain": [
       "                  ski_resort\n",
       "user_name                   \n",
       "anon_1           Winter Park\n",
       "anon_1        Arapahoe Basin\n",
       "anon_1             Steamboat\n",
       "anon_1       Copper Mountain\n",
       "anon_2     Solitude Mountain"
      ]
     },
     "execution_count": 509,
     "metadata": {},
     "output_type": "execute_result"
    }
   ],
   "source": [
    "#saving new dataframe with only user information\n",
    "user_df = surprise_df.reset_index()\n",
    "user_df.set_index('user_name', inplace = True)\n",
    "user_df.drop(columns = ['rating', 'index'], inplace =True)\n",
    "user_df.head()"
   ]
  },
  {
   "cell_type": "code",
   "execution_count": 652,
   "metadata": {},
   "outputs": [],
   "source": [
    "def shred_recommender():\n",
    "    user = str(input('Name: '))\n",
    "    n_recs = int(input('How many resort recommendations do you want? '))\n",
    "    \n",
    "    have_rated = list(user_df.loc[user, 'ski_resort'])\n",
    "    not_rated = merged_df.copy()\n",
    "    not_rated = not_rated.loc[~not_rated['ski_resort'].isin(have_rated)]  # & (not_rated['state'] == state)]\n",
    "    not_rated = not_rated.drop_duplicates(subset=['ski_resort'])\n",
    "    not_rated.reset_index(inplace=True)\n",
    "    not_rated['predicted_rating'] = not_rated['ski_resort'].apply(lambda x: best_model.predict(user, x).est)\n",
    "    not_rated.sort_values(by='predicted_rating', ascending=False, inplace=True)\n",
    "    not_rated = not_rated.drop(columns=['user_name', 'review_date', 'index', 'rating', 'review'])\n",
    "    return not_rated.head(n_recs)"
   ]
  },
  {
   "cell_type": "code",
   "execution_count": 654,
   "metadata": {},
   "outputs": [
    {
     "name": "stdout",
     "output_type": "stream",
     "text": [
      "Name: Stephanie Ciaccia\n",
      "How many resort recommendations do you want? 3\n"
     ]
    },
    {
     "data": {
      "text/html": [
       "<div>\n",
       "<style scoped>\n",
       "    .dataframe tbody tr th:only-of-type {\n",
       "        vertical-align: middle;\n",
       "    }\n",
       "\n",
       "    .dataframe tbody tr th {\n",
       "        vertical-align: top;\n",
       "    }\n",
       "\n",
       "    .dataframe thead th {\n",
       "        text-align: right;\n",
       "    }\n",
       "</style>\n",
       "<table border=\"1\" class=\"dataframe\">\n",
       "  <thead>\n",
       "    <tr style=\"text-align: right;\">\n",
       "      <th></th>\n",
       "      <th>state</th>\n",
       "      <th>ski_resort</th>\n",
       "      <th>address</th>\n",
       "      <th>city</th>\n",
       "      <th>zipcode</th>\n",
       "      <th>sumt</th>\n",
       "      <th>drop</th>\n",
       "      <th>base</th>\n",
       "      <th>gondolas_and_trams</th>\n",
       "      <th>fastEight</th>\n",
       "      <th>...</th>\n",
       "      <th>adult_weekday</th>\n",
       "      <th>senior_weekday</th>\n",
       "      <th>child_weekend</th>\n",
       "      <th>junior_weekend</th>\n",
       "      <th>adult_weekend</th>\n",
       "      <th>Url</th>\n",
       "      <th>epic</th>\n",
       "      <th>mountain_collective</th>\n",
       "      <th>ikon</th>\n",
       "      <th>predicted_rating</th>\n",
       "    </tr>\n",
       "  </thead>\n",
       "  <tbody>\n",
       "    <tr>\n",
       "      <th>161</th>\n",
       "      <td>Montana</td>\n",
       "      <td>Bridger Bowl</td>\n",
       "      <td>15795 Bridger Canyon Rd.</td>\n",
       "      <td>Bozeman</td>\n",
       "      <td>59715</td>\n",
       "      <td>8700</td>\n",
       "      <td>2600</td>\n",
       "      <td>6100</td>\n",
       "      <td>0</td>\n",
       "      <td>0.0</td>\n",
       "      <td>...</td>\n",
       "      <td>85</td>\n",
       "      <td>40</td>\n",
       "      <td>60</td>\n",
       "      <td>85</td>\n",
       "      <td>40</td>\n",
       "      <td>https://www.onthesnow.com/montana/bridger-bowl...</td>\n",
       "      <td>0</td>\n",
       "      <td>0</td>\n",
       "      <td>0</td>\n",
       "      <td>4.524584</td>\n",
       "    </tr>\n",
       "    <tr>\n",
       "      <th>12</th>\n",
       "      <td>Wyoming</td>\n",
       "      <td>Jackson Hole</td>\n",
       "      <td>P.O. Box 290</td>\n",
       "      <td>Teton Village</td>\n",
       "      <td>83025</td>\n",
       "      <td>10450</td>\n",
       "      <td>4139</td>\n",
       "      <td>6311</td>\n",
       "      <td>3</td>\n",
       "      <td>4.0</td>\n",
       "      <td>...</td>\n",
       "      <td>194</td>\n",
       "      <td>215</td>\n",
       "      <td>172</td>\n",
       "      <td>94</td>\n",
       "      <td>140</td>\n",
       "      <td>https://www.onthesnow.com/wyong/Jackson-hole/s...</td>\n",
       "      <td>0</td>\n",
       "      <td>1</td>\n",
       "      <td>1</td>\n",
       "      <td>4.412020</td>\n",
       "    </tr>\n",
       "    <tr>\n",
       "      <th>3</th>\n",
       "      <td>Colorado</td>\n",
       "      <td>Copper Mountain</td>\n",
       "      <td>P.O. Box 3001</td>\n",
       "      <td>Copper Mountain</td>\n",
       "      <td>80443</td>\n",
       "      <td>12313</td>\n",
       "      <td>2738</td>\n",
       "      <td>9712</td>\n",
       "      <td>1</td>\n",
       "      <td>4.0</td>\n",
       "      <td>...</td>\n",
       "      <td>124</td>\n",
       "      <td>179</td>\n",
       "      <td>39</td>\n",
       "      <td>29</td>\n",
       "      <td>55</td>\n",
       "      <td>https://www.onthesnow.com/colorado/copper-moun...</td>\n",
       "      <td>0</td>\n",
       "      <td>0</td>\n",
       "      <td>1</td>\n",
       "      <td>4.397625</td>\n",
       "    </tr>\n",
       "  </tbody>\n",
       "</table>\n",
       "<p>3 rows × 42 columns</p>\n",
       "</div>"
      ],
      "text/plain": [
       "        state       ski_resort                   address             city  \\\n",
       "161   Montana     Bridger Bowl  15795 Bridger Canyon Rd.          Bozeman   \n",
       "12    Wyoming     Jackson Hole              P.O. Box 290    Teton Village   \n",
       "3    Colorado  Copper Mountain             P.O. Box 3001  Copper Mountain   \n",
       "\n",
       "    zipcode   sumt  drop  base  gondolas_and_trams  fastEight  ...  \\\n",
       "161   59715   8700  2600  6100                   0        0.0  ...   \n",
       "12    83025  10450  4139  6311                   3        4.0  ...   \n",
       "3     80443  12313  2738  9712                   1        4.0  ...   \n",
       "\n",
       "     adult_weekday  senior_weekday  child_weekend  junior_weekend  \\\n",
       "161             85              40             60              85   \n",
       "12             194             215            172              94   \n",
       "3              124             179             39              29   \n",
       "\n",
       "     adult_weekend                                                Url  epic  \\\n",
       "161             40  https://www.onthesnow.com/montana/bridger-bowl...     0   \n",
       "12             140  https://www.onthesnow.com/wyong/Jackson-hole/s...     0   \n",
       "3               55  https://www.onthesnow.com/colorado/copper-moun...     0   \n",
       "\n",
       "     mountain_collective  ikon predicted_rating  \n",
       "161                    0     0         4.524584  \n",
       "12                     1     1         4.412020  \n",
       "3                      0     1         4.397625  \n",
       "\n",
       "[3 rows x 42 columns]"
      ]
     },
     "execution_count": 654,
     "metadata": {},
     "output_type": "execute_result"
    }
   ],
   "source": [
    "shred_recommender()"
   ]
  },
  {
   "cell_type": "code",
   "execution_count": 154,
   "metadata": {},
   "outputs": [
    {
     "data": {
      "text/plain": [
       "['Hunter Mountain', 'Vail', 'Snowbird', 'Breckenridge', 'Park City Mountain']"
      ]
     },
     "execution_count": 154,
     "metadata": {},
     "output_type": "execute_result"
    }
   ],
   "source": [
    "list(user_df.loc['Stephanie Ciaccia', 'ski_resort'])"
   ]
  },
  {
   "cell_type": "code",
   "execution_count": 655,
   "metadata": {},
   "outputs": [
    {
     "name": "stdout",
     "output_type": "stream",
     "text": [
      "Name: Deanna Uzarski\n",
      "How many resort recommendations do you want? 3\n"
     ]
    },
    {
     "data": {
      "text/html": [
       "<div>\n",
       "<style scoped>\n",
       "    .dataframe tbody tr th:only-of-type {\n",
       "        vertical-align: middle;\n",
       "    }\n",
       "\n",
       "    .dataframe tbody tr th {\n",
       "        vertical-align: top;\n",
       "    }\n",
       "\n",
       "    .dataframe thead th {\n",
       "        text-align: right;\n",
       "    }\n",
       "</style>\n",
       "<table border=\"1\" class=\"dataframe\">\n",
       "  <thead>\n",
       "    <tr style=\"text-align: right;\">\n",
       "      <th></th>\n",
       "      <th>state</th>\n",
       "      <th>ski_resort</th>\n",
       "      <th>address</th>\n",
       "      <th>city</th>\n",
       "      <th>zipcode</th>\n",
       "      <th>sumt</th>\n",
       "      <th>drop</th>\n",
       "      <th>base</th>\n",
       "      <th>gondolas_and_trams</th>\n",
       "      <th>fastEight</th>\n",
       "      <th>...</th>\n",
       "      <th>adult_weekday</th>\n",
       "      <th>senior_weekday</th>\n",
       "      <th>child_weekend</th>\n",
       "      <th>junior_weekend</th>\n",
       "      <th>adult_weekend</th>\n",
       "      <th>Url</th>\n",
       "      <th>epic</th>\n",
       "      <th>mountain_collective</th>\n",
       "      <th>ikon</th>\n",
       "      <th>predicted_rating</th>\n",
       "    </tr>\n",
       "  </thead>\n",
       "  <tbody>\n",
       "    <tr>\n",
       "      <th>53</th>\n",
       "      <td>California</td>\n",
       "      <td>Kirkwood</td>\n",
       "      <td>PO Box 1</td>\n",
       "      <td>Kirkwood</td>\n",
       "      <td>95646</td>\n",
       "      <td>9800</td>\n",
       "      <td>2000</td>\n",
       "      <td>7800</td>\n",
       "      <td>0</td>\n",
       "      <td>2.0</td>\n",
       "      <td>...</td>\n",
       "      <td>46</td>\n",
       "      <td>49</td>\n",
       "      <td>39</td>\n",
       "      <td>29</td>\n",
       "      <td>55</td>\n",
       "      <td>https://www.onthesnow.com/california/kirkwood/...</td>\n",
       "      <td>1</td>\n",
       "      <td>0</td>\n",
       "      <td>0</td>\n",
       "      <td>4.535256</td>\n",
       "    </tr>\n",
       "    <tr>\n",
       "      <th>26</th>\n",
       "      <td>Utah</td>\n",
       "      <td>Snowbird</td>\n",
       "      <td>P.O. Box 929000</td>\n",
       "      <td>Snowbird</td>\n",
       "      <td>84092-9000</td>\n",
       "      <td>11000</td>\n",
       "      <td>3240</td>\n",
       "      <td>7760</td>\n",
       "      <td>1</td>\n",
       "      <td>7.0</td>\n",
       "      <td>...</td>\n",
       "      <td>110</td>\n",
       "      <td>184</td>\n",
       "      <td>156</td>\n",
       "      <td>29</td>\n",
       "      <td>94</td>\n",
       "      <td>https://www.onthesnow.com/utah/snowbird/ski-re...</td>\n",
       "      <td>0</td>\n",
       "      <td>1</td>\n",
       "      <td>1</td>\n",
       "      <td>4.516392</td>\n",
       "    </tr>\n",
       "    <tr>\n",
       "      <th>11</th>\n",
       "      <td>Wyoming</td>\n",
       "      <td>Jackson Hole</td>\n",
       "      <td>P.O. Box 290</td>\n",
       "      <td>Teton Village</td>\n",
       "      <td>83025</td>\n",
       "      <td>10450</td>\n",
       "      <td>4139</td>\n",
       "      <td>6311</td>\n",
       "      <td>3</td>\n",
       "      <td>4.0</td>\n",
       "      <td>...</td>\n",
       "      <td>194</td>\n",
       "      <td>215</td>\n",
       "      <td>172</td>\n",
       "      <td>94</td>\n",
       "      <td>140</td>\n",
       "      <td>https://www.onthesnow.com/wyong/Jackson-hole/s...</td>\n",
       "      <td>0</td>\n",
       "      <td>1</td>\n",
       "      <td>1</td>\n",
       "      <td>4.502303</td>\n",
       "    </tr>\n",
       "  </tbody>\n",
       "</table>\n",
       "<p>3 rows × 42 columns</p>\n",
       "</div>"
      ],
      "text/plain": [
       "         state    ski_resort          address           city     zipcode  \\\n",
       "53  California      Kirkwood         PO Box 1       Kirkwood       95646   \n",
       "26        Utah      Snowbird  P.O. Box 929000       Snowbird  84092-9000   \n",
       "11     Wyoming  Jackson Hole     P.O. Box 290  Teton Village       83025   \n",
       "\n",
       "     sumt  drop  base  gondolas_and_trams  fastEight  ...  adult_weekday  \\\n",
       "53   9800  2000  7800                   0        2.0  ...             46   \n",
       "26  11000  3240  7760                   1        7.0  ...            110   \n",
       "11  10450  4139  6311                   3        4.0  ...            194   \n",
       "\n",
       "    senior_weekday  child_weekend  junior_weekend  adult_weekend  \\\n",
       "53              49             39              29             55   \n",
       "26             184            156              29             94   \n",
       "11             215            172              94            140   \n",
       "\n",
       "                                                  Url  epic  \\\n",
       "53  https://www.onthesnow.com/california/kirkwood/...     1   \n",
       "26  https://www.onthesnow.com/utah/snowbird/ski-re...     0   \n",
       "11  https://www.onthesnow.com/wyong/Jackson-hole/s...     0   \n",
       "\n",
       "    mountain_collective  ikon predicted_rating  \n",
       "53                    0     0         4.535256  \n",
       "26                    1     1         4.516392  \n",
       "11                    1     1         4.502303  \n",
       "\n",
       "[3 rows x 42 columns]"
      ]
     },
     "execution_count": 655,
     "metadata": {},
     "output_type": "execute_result"
    }
   ],
   "source": [
    "shred_recommender()"
   ]
  },
  {
   "cell_type": "code",
   "execution_count": 153,
   "metadata": {},
   "outputs": [
    {
     "data": {
      "text/plain": [
       "['Telluride', 'Breckenridge', 'Crested Butte Mountain', 'Alta', 'Vail']"
      ]
     },
     "execution_count": 153,
     "metadata": {},
     "output_type": "execute_result"
    }
   ],
   "source": [
    "list(user_df.loc['Deanna Uzarski', 'ski_resort'])"
   ]
  },
  {
   "cell_type": "code",
   "execution_count": 656,
   "metadata": {},
   "outputs": [
    {
     "name": "stdout",
     "output_type": "stream",
     "text": [
      "Name: Raghava Kamalesh\n",
      "How many resort recommendations do you want? 3\n"
     ]
    },
    {
     "data": {
      "text/html": [
       "<div>\n",
       "<style scoped>\n",
       "    .dataframe tbody tr th:only-of-type {\n",
       "        vertical-align: middle;\n",
       "    }\n",
       "\n",
       "    .dataframe tbody tr th {\n",
       "        vertical-align: top;\n",
       "    }\n",
       "\n",
       "    .dataframe thead th {\n",
       "        text-align: right;\n",
       "    }\n",
       "</style>\n",
       "<table border=\"1\" class=\"dataframe\">\n",
       "  <thead>\n",
       "    <tr style=\"text-align: right;\">\n",
       "      <th></th>\n",
       "      <th>state</th>\n",
       "      <th>ski_resort</th>\n",
       "      <th>address</th>\n",
       "      <th>city</th>\n",
       "      <th>zipcode</th>\n",
       "      <th>sumt</th>\n",
       "      <th>drop</th>\n",
       "      <th>base</th>\n",
       "      <th>gondolas_and_trams</th>\n",
       "      <th>fastEight</th>\n",
       "      <th>...</th>\n",
       "      <th>adult_weekday</th>\n",
       "      <th>senior_weekday</th>\n",
       "      <th>child_weekend</th>\n",
       "      <th>junior_weekend</th>\n",
       "      <th>adult_weekend</th>\n",
       "      <th>Url</th>\n",
       "      <th>epic</th>\n",
       "      <th>mountain_collective</th>\n",
       "      <th>ikon</th>\n",
       "      <th>predicted_rating</th>\n",
       "    </tr>\n",
       "  </thead>\n",
       "  <tbody>\n",
       "    <tr>\n",
       "      <th>27</th>\n",
       "      <td>Utah</td>\n",
       "      <td>Snowbird</td>\n",
       "      <td>P.O. Box 929000</td>\n",
       "      <td>Snowbird</td>\n",
       "      <td>84092-9000</td>\n",
       "      <td>11000</td>\n",
       "      <td>3240</td>\n",
       "      <td>7760</td>\n",
       "      <td>1</td>\n",
       "      <td>7.0</td>\n",
       "      <td>...</td>\n",
       "      <td>110</td>\n",
       "      <td>184</td>\n",
       "      <td>156</td>\n",
       "      <td>29</td>\n",
       "      <td>94</td>\n",
       "      <td>https://www.onthesnow.com/utah/snowbird/ski-re...</td>\n",
       "      <td>0</td>\n",
       "      <td>1</td>\n",
       "      <td>1</td>\n",
       "      <td>4.828966</td>\n",
       "    </tr>\n",
       "    <tr>\n",
       "      <th>11</th>\n",
       "      <td>Wyoming</td>\n",
       "      <td>Jackson Hole</td>\n",
       "      <td>P.O. Box 290</td>\n",
       "      <td>Teton Village</td>\n",
       "      <td>83025</td>\n",
       "      <td>10450</td>\n",
       "      <td>4139</td>\n",
       "      <td>6311</td>\n",
       "      <td>3</td>\n",
       "      <td>4.0</td>\n",
       "      <td>...</td>\n",
       "      <td>194</td>\n",
       "      <td>215</td>\n",
       "      <td>172</td>\n",
       "      <td>94</td>\n",
       "      <td>140</td>\n",
       "      <td>https://www.onthesnow.com/wyong/Jackson-hole/s...</td>\n",
       "      <td>0</td>\n",
       "      <td>1</td>\n",
       "      <td>1</td>\n",
       "      <td>4.807636</td>\n",
       "    </tr>\n",
       "    <tr>\n",
       "      <th>104</th>\n",
       "      <td>New York</td>\n",
       "      <td>Whiteface Mountain</td>\n",
       "      <td>Whiteface Mountain Route 86</td>\n",
       "      <td>Wilngton</td>\n",
       "      <td>12997</td>\n",
       "      <td>4650</td>\n",
       "      <td>3430</td>\n",
       "      <td>1220</td>\n",
       "      <td>1</td>\n",
       "      <td>1.0</td>\n",
       "      <td>...</td>\n",
       "      <td>90</td>\n",
       "      <td>115</td>\n",
       "      <td>90</td>\n",
       "      <td>70</td>\n",
       "      <td>90</td>\n",
       "      <td>https://www.onthesnow.com/new-york/whitefe-mou...</td>\n",
       "      <td>0</td>\n",
       "      <td>0</td>\n",
       "      <td>0</td>\n",
       "      <td>4.774799</td>\n",
       "    </tr>\n",
       "  </tbody>\n",
       "</table>\n",
       "<p>3 rows × 42 columns</p>\n",
       "</div>"
      ],
      "text/plain": [
       "        state          ski_resort                      address           city  \\\n",
       "27       Utah            Snowbird              P.O. Box 929000       Snowbird   \n",
       "11    Wyoming        Jackson Hole                 P.O. Box 290  Teton Village   \n",
       "104  New York  Whiteface Mountain  Whiteface Mountain Route 86       Wilngton   \n",
       "\n",
       "        zipcode   sumt  drop  base  gondolas_and_trams  fastEight  ...  \\\n",
       "27   84092-9000  11000  3240  7760                   1        7.0  ...   \n",
       "11        83025  10450  4139  6311                   3        4.0  ...   \n",
       "104       12997   4650  3430  1220                   1        1.0  ...   \n",
       "\n",
       "     adult_weekday  senior_weekday  child_weekend  junior_weekend  \\\n",
       "27             110             184            156              29   \n",
       "11             194             215            172              94   \n",
       "104             90             115             90              70   \n",
       "\n",
       "     adult_weekend                                                Url  epic  \\\n",
       "27              94  https://www.onthesnow.com/utah/snowbird/ski-re...     0   \n",
       "11             140  https://www.onthesnow.com/wyong/Jackson-hole/s...     0   \n",
       "104             90  https://www.onthesnow.com/new-york/whitefe-mou...     0   \n",
       "\n",
       "     mountain_collective  ikon predicted_rating  \n",
       "27                     1     1         4.828966  \n",
       "11                     1     1         4.807636  \n",
       "104                    0     0         4.774799  \n",
       "\n",
       "[3 rows x 42 columns]"
      ]
     },
     "execution_count": 656,
     "metadata": {},
     "output_type": "execute_result"
    }
   ],
   "source": [
    "shred_recommender()"
   ]
  },
  {
   "cell_type": "code",
   "execution_count": 155,
   "metadata": {},
   "outputs": [
    {
     "data": {
      "text/plain": [
       "['Breckenridge', 'Crested Butte Mountain', 'Vail', 'Beaver Creek', 'Telluride']"
      ]
     },
     "execution_count": 155,
     "metadata": {},
     "output_type": "execute_result"
    }
   ],
   "source": [
    "list(user_df.loc['Raghava Kamalesh', 'ski_resort'])"
   ]
  },
  {
   "cell_type": "code",
   "execution_count": 622,
   "metadata": {},
   "outputs": [
    {
     "name": "stdout",
     "output_type": "stream",
     "text": [
      "Name: Alexandria Kelly\n",
      "How many resort recommendations do you want? 3\n"
     ]
    },
    {
     "data": {
      "text/html": [
       "<div>\n",
       "<style scoped>\n",
       "    .dataframe tbody tr th:only-of-type {\n",
       "        vertical-align: middle;\n",
       "    }\n",
       "\n",
       "    .dataframe tbody tr th {\n",
       "        vertical-align: top;\n",
       "    }\n",
       "\n",
       "    .dataframe thead th {\n",
       "        text-align: right;\n",
       "    }\n",
       "</style>\n",
       "<table border=\"1\" class=\"dataframe\">\n",
       "  <thead>\n",
       "    <tr style=\"text-align: right;\">\n",
       "      <th></th>\n",
       "      <th>state</th>\n",
       "      <th>ski_resort</th>\n",
       "      <th>predicted_rating</th>\n",
       "    </tr>\n",
       "  </thead>\n",
       "  <tbody>\n",
       "    <tr>\n",
       "      <th>18</th>\n",
       "      <td>Wyoming</td>\n",
       "      <td>Jackson Hole</td>\n",
       "      <td>4.375903</td>\n",
       "    </tr>\n",
       "    <tr>\n",
       "      <th>113</th>\n",
       "      <td>Michigan</td>\n",
       "      <td>Nubs Nob</td>\n",
       "      <td>4.247320</td>\n",
       "    </tr>\n",
       "    <tr>\n",
       "      <th>46</th>\n",
       "      <td>California</td>\n",
       "      <td>Tahoe Donner</td>\n",
       "      <td>4.220013</td>\n",
       "    </tr>\n",
       "  </tbody>\n",
       "</table>\n",
       "</div>"
      ],
      "text/plain": [
       "          state    ski_resort  predicted_rating\n",
       "18      Wyoming  Jackson Hole          4.375903\n",
       "113    Michigan      Nubs Nob          4.247320\n",
       "46   California  Tahoe Donner          4.220013"
      ]
     },
     "execution_count": 622,
     "metadata": {},
     "output_type": "execute_result"
    }
   ],
   "source": [
    "shred_recommender()"
   ]
  },
  {
   "cell_type": "code",
   "execution_count": 565,
   "metadata": {},
   "outputs": [
    {
     "data": {
      "text/plain": [
       "['Breckenridge', 'Crested Butte', 'Vail', 'Beaver Creek', 'Telluride']"
      ]
     },
     "execution_count": 565,
     "metadata": {},
     "output_type": "execute_result"
    }
   ],
   "source": [
    "list(user_df.loc['Raghava Kamalesh', 'ski_resort'])"
   ]
  },
  {
   "cell_type": "code",
   "execution_count": 634,
   "metadata": {},
   "outputs": [],
   "source": [
    "def shred_recommender_state():\n",
    "    user = str(input('Name: '))\n",
    "    n_recs = int(input('How many resort recommendations do you want? '))\n",
    "    state = str(input('What state would you like to shred in? '))\n",
    "    \n",
    "    have_rated = list(user_df.loc[user, 'ski_resort'])\n",
    "    not_rated = merged_df.copy()\n",
    "    not_rated = not_rated.loc[~not_rated['ski_resort'].isin(have_rated) & (not_rated['state'] == state)]\n",
    "    not_rated = not_rated.drop_duplicates(subset=['ski_resort'])\n",
    "    not_rated.reset_index(inplace=True)\n",
    "    not_rated['predicted_rating'] = not_rated['ski_resort'].apply(lambda x: best_model.predict(user, x).est)\n",
    "    not_rated.sort_values(by='predicted_rating', ascending=False, inplace=True)\n",
    "    not_rated = not_rated.drop(columns=['user_name', 'review_date', 'index', 'rating', 'review',\n",
    "                                       'address', 'zipcode', 'Url'])\n",
    "    return not_rated.head(n_recs)"
   ]
  },
  {
   "cell_type": "code",
   "execution_count": 635,
   "metadata": {},
   "outputs": [
    {
     "name": "stdout",
     "output_type": "stream",
     "text": [
      "Name: Stephanie Ciaccia\n",
      "How many resort recommendations do you want? 3\n",
      "What state would you like to shred in? Utah\n"
     ]
    },
    {
     "data": {
      "text/html": [
       "<div>\n",
       "<style scoped>\n",
       "    .dataframe tbody tr th:only-of-type {\n",
       "        vertical-align: middle;\n",
       "    }\n",
       "\n",
       "    .dataframe tbody tr th {\n",
       "        vertical-align: top;\n",
       "    }\n",
       "\n",
       "    .dataframe thead th {\n",
       "        text-align: right;\n",
       "    }\n",
       "</style>\n",
       "<table border=\"1\" class=\"dataframe\">\n",
       "  <thead>\n",
       "    <tr style=\"text-align: right;\">\n",
       "      <th></th>\n",
       "      <th>state</th>\n",
       "      <th>ski_resort</th>\n",
       "      <th>city</th>\n",
       "      <th>sumt</th>\n",
       "      <th>drop</th>\n",
       "      <th>base</th>\n",
       "      <th>gondolas_and_trams</th>\n",
       "      <th>fastEight</th>\n",
       "      <th>highSpeedSixes</th>\n",
       "      <th>quadChairs</th>\n",
       "      <th>...</th>\n",
       "      <th>junior_season</th>\n",
       "      <th>adult_season</th>\n",
       "      <th>child_weekday</th>\n",
       "      <th>junior_weekday</th>\n",
       "      <th>adult_weekday</th>\n",
       "      <th>senior_weekday</th>\n",
       "      <th>child_weekend</th>\n",
       "      <th>junior_weekend</th>\n",
       "      <th>adult_weekend</th>\n",
       "      <th>predicted_rating</th>\n",
       "    </tr>\n",
       "  </thead>\n",
       "  <tbody>\n",
       "    <tr>\n",
       "      <th>2</th>\n",
       "      <td>Utah</td>\n",
       "      <td>Alta</td>\n",
       "      <td>Alta</td>\n",
       "      <td>11068</td>\n",
       "      <td>2538</td>\n",
       "      <td>8530</td>\n",
       "      <td>0</td>\n",
       "      <td>3.0</td>\n",
       "      <td>0.0</td>\n",
       "      <td>0.0</td>\n",
       "      <td>...</td>\n",
       "      <td>599</td>\n",
       "      <td>1349</td>\n",
       "      <td>1049</td>\n",
       "      <td>80</td>\n",
       "      <td>159</td>\n",
       "      <td>49</td>\n",
       "      <td>125</td>\n",
       "      <td>29</td>\n",
       "      <td>55</td>\n",
       "      <td>4.051192</td>\n",
       "    </tr>\n",
       "    <tr>\n",
       "      <th>3</th>\n",
       "      <td>Utah</td>\n",
       "      <td>Brighton</td>\n",
       "      <td>Brighton</td>\n",
       "      <td>10500</td>\n",
       "      <td>1745</td>\n",
       "      <td>8755</td>\n",
       "      <td>0</td>\n",
       "      <td>4.0</td>\n",
       "      <td>0.0</td>\n",
       "      <td>1.0</td>\n",
       "      <td>...</td>\n",
       "      <td>419</td>\n",
       "      <td>899</td>\n",
       "      <td>629</td>\n",
       "      <td>33</td>\n",
       "      <td>53</td>\n",
       "      <td>85</td>\n",
       "      <td>57</td>\n",
       "      <td>29</td>\n",
       "      <td>53</td>\n",
       "      <td>3.986185</td>\n",
       "    </tr>\n",
       "    <tr>\n",
       "      <th>6</th>\n",
       "      <td>Utah</td>\n",
       "      <td>Snowbasin</td>\n",
       "      <td>Huntsville</td>\n",
       "      <td>9350</td>\n",
       "      <td>2900</td>\n",
       "      <td>6450</td>\n",
       "      <td>3</td>\n",
       "      <td>2.0</td>\n",
       "      <td>1.0</td>\n",
       "      <td>0.0</td>\n",
       "      <td>...</td>\n",
       "      <td>699</td>\n",
       "      <td>1149</td>\n",
       "      <td>799</td>\n",
       "      <td>33</td>\n",
       "      <td>89</td>\n",
       "      <td>149</td>\n",
       "      <td>99</td>\n",
       "      <td>29</td>\n",
       "      <td>109</td>\n",
       "      <td>3.934579</td>\n",
       "    </tr>\n",
       "  </tbody>\n",
       "</table>\n",
       "<p>3 rows × 36 columns</p>\n",
       "</div>"
      ],
      "text/plain": [
       "  state ski_resort        city   sumt  drop  base  gondolas_and_trams  \\\n",
       "2  Utah       Alta        Alta  11068  2538  8530                   0   \n",
       "3  Utah   Brighton    Brighton  10500  1745  8755                   0   \n",
       "6  Utah  Snowbasin  Huntsville   9350  2900  6450                   3   \n",
       "\n",
       "   fastEight  highSpeedSixes  quadChairs  ...  junior_season  adult_season  \\\n",
       "2        3.0             0.0         0.0  ...            599          1349   \n",
       "3        4.0             0.0         1.0  ...            419           899   \n",
       "6        2.0             1.0         0.0  ...            699          1149   \n",
       "\n",
       "   child_weekday  junior_weekday  adult_weekday  senior_weekday  \\\n",
       "2           1049              80            159              49   \n",
       "3            629              33             53              85   \n",
       "6            799              33             89             149   \n",
       "\n",
       "   child_weekend junior_weekend adult_weekend  predicted_rating  \n",
       "2            125             29            55          4.051192  \n",
       "3             57             29            53          3.986185  \n",
       "6             99             29           109          3.934579  \n",
       "\n",
       "[3 rows x 36 columns]"
      ]
     },
     "execution_count": 635,
     "metadata": {},
     "output_type": "execute_result"
    }
   ],
   "source": [
    "shred_recommender_state()"
   ]
  }
 ],
 "metadata": {
  "kernelspec": {
   "display_name": "Python (learn-env)",
   "language": "python",
   "name": "learn-env"
  },
  "language_info": {
   "codemirror_mode": {
    "name": "ipython",
    "version": 3
   },
   "file_extension": ".py",
   "mimetype": "text/x-python",
   "name": "python",
   "nbconvert_exporter": "python",
   "pygments_lexer": "ipython3",
   "version": "3.8.5"
  }
 },
 "nbformat": 4,
 "nbformat_minor": 5
}
