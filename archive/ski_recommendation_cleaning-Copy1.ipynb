{
 "cells": [
  {
   "cell_type": "markdown",
   "metadata": {},
   "source": [
    "# Avant Ski"
   ]
  },
  {
   "cell_type": "markdown",
   "metadata": {},
   "source": [
    "by: Stephanie Ciaccia"
   ]
  },
  {
   "cell_type": "markdown",
   "metadata": {},
   "source": [
    "# Overview"
   ]
  },
  {
   "cell_type": "markdown",
   "metadata": {},
   "source": [
    "Skiing holds a prominent place for those seeking winter recreational activities in the United States. With its stunning mountain ranges and diverse terrain, the country boasts numerous ski resorts that cater to all skill levels, from beginners to seasoned professionals. \n",
    "\n",
    "Skiing offers a unique blend of adventure, physical activity, and natural beauty, making it a popular choice for winter enthusiasts seeking both relaxation and excitement.\n",
    "\n",
    "The ski market in the United States is thriving, contributing significantly to the economy. According to the [National Ski Areas Association (NSAA)](chrome-extension://efaidnbmnnnibpcajpcglclefindmkaj/https://nsaa.org/webdocs/Media_Public/IndustryStats/Historical_Skier_Days_1979_2022.pdf), approximately 60.7 million skiers and snowboarders visited 473 ski resorts in the 2021-2022 winter season."
   ]
  },
  {
   "cell_type": "markdown",
   "metadata": {},
   "source": [
    "# Business Problem"
   ]
  },
  {
   "cell_type": "markdown",
   "metadata": {},
   "source": [
    "Skiing is an exhilarating winter activity enjoyed by many, but barriers such as high costs and limited accessibility often hinder people from fully experiencing its joys. Choosing the right ski resort can be overwhelming due to the multitude of options available, and existing websites lack dynamic filtering capabilities based on user preferences.\n",
    "\n",
    "To address these challenges, I'm developing Avant Ski, a ski resort recommendation app. Avant Ski simplifies the ski resort selection process by leveraging data and user preferences. With dynamic filtering features, users can personalize their search based on budget, location, amenities, and skill level. By bridging the gap between ski enthusiasts and their dream destinations, Avant Ski makes skiing accessible to a wider audience, empowering them to plan unforgettable ski trips with confidence."
   ]
  },
  {
   "cell_type": "markdown",
   "metadata": {},
   "source": [
    "# Data Understanding"
   ]
  },
  {
   "cell_type": "code",
   "execution_count": 1,
   "metadata": {},
   "outputs": [],
   "source": [
    "import pandas as pd\n",
    "import numpy as np\n",
    "import math\n",
    "from datetime import datetime\n",
    "import datetime\n",
    "from scipy import stats\n",
    "\n",
    "import matplotlib.pyplot as plt\n",
    "import seaborn as sns\n",
    "%matplotlib inline\n",
    "import plotly\n",
    "import plotly.express as px\n",
    "import plotly.io as pio\n",
    "from matplotlib.ticker import StrMethodFormatter\n",
    "import plotly.graph_objects as go\n",
    "\n",
    "from surprise.model_selection import cross_validate\n",
    "from surprise import Dataset, Reader, accuracy\n",
    "from surprise.prediction_algorithms import KNNWithMeans, KNNBasic, KNNBaseline, KNNWithZScore,  SVD, SVDpp, NMF, BaselineOnly, NormalPredictor\n",
    "from surprise.model_selection import GridSearchCV, cross_validate, train_test_split\n",
    "\n",
    "from collections import Counter\n",
    "from nltk.corpus import stopwords\n",
    "\n",
    "from IPython.display import Image, display\n",
    "\n",
    "import glob\n",
    "import os"
   ]
  },
  {
   "cell_type": "markdown",
   "metadata": {},
   "source": [
    "Function to print full rows"
   ]
  },
  {
   "cell_type": "code",
   "execution_count": 2,
   "metadata": {},
   "outputs": [],
   "source": [
    "def print_full(x):\n",
    "    pd.set_option('display.max_rows', len(x))\n",
    "    print(x)\n",
    "    pd.reset_option('display.max_rows')"
   ]
  },
  {
   "cell_type": "markdown",
   "metadata": {},
   "source": [
    "# Importing Data Files"
   ]
  },
  {
   "cell_type": "code",
   "execution_count": 3,
   "metadata": {},
   "outputs": [],
   "source": [
    "snow_df = pd.read_csv(\"data/OnTheSnow_SkiAreaReviews_clean.csv\")\n",
    "survey_df = pd.read_csv(\"data/usa_ski_resort_survey.csv\")\n",
    "scraped_df = pd.read_csv(\"data/OnTheSnow_Scrape_2_820523.csv\")"
   ]
  },
  {
   "cell_type": "code",
   "execution_count": 4,
   "metadata": {},
   "outputs": [],
   "source": [
    "#airbnb scrape four guest listings\n",
    "dec_4_airbnb_mean_final = pd.read_csv(\"data/airbnb_scraped_cleaned/dec_4_airbnb_mean_final.csv\")\n",
    "jan_4_airbnb_mean_final = pd.read_csv(\"data/airbnb_scraped_cleaned/jan_4_airbnb_mean_final.csv\")\n",
    "feb_4_airbnb_mean_final = pd.read_csv(\"data/airbnb_scraped_cleaned/feb_4_airbnb_mean_final.csv\")\n",
    "mar_4_airbnb_mean_final = pd.read_csv(\"data/airbnb_scraped_cleaned/mar_4_airbnb_mean_final.csv\")\n",
    "apr_4_airbnb_mean_final = pd.read_csv(\"data/airbnb_scraped_cleaned/apr_4_airbnb_mean_final.csv\")\n",
    "may_4_airbnb_mean_final = pd.read_csv(\"data/airbnb_scraped_cleaned/may_4_airbnb_mean_final.csv\")\n",
    "\n",
    "#airbnb scrape two guest listings\n",
    "dec_2_airbnb_mean_final = pd.read_csv(\"data/airbnb_scraped_cleaned/dec_2_airbnb_mean_final.csv\")\n",
    "jan_2_airbnb_mean_final = pd.read_csv(\"data/airbnb_scraped_cleaned/jan_2_airbnb_mean_final.csv\")\n",
    "feb_2_airbnb_mean_final = pd.read_csv(\"data/airbnb_scraped_cleaned/feb_2_airbnb_mean_final.csv\")\n",
    "mar_2_airbnb_mean_final = pd.read_csv(\"data/airbnb_scraped_cleaned/mar_2_airbnb_mean_final.csv\")\n",
    "apr_2_airbnb_mean_final = pd.read_csv(\"data/airbnb_scraped_cleaned/apr_2_airbnb_mean_final.csv\")\n",
    "may_2_airbnb_mean_final = pd.read_csv(\"data/airbnb_scraped_cleaned/may_2_airbnb_mean_final.csv\")"
   ]
  },
  {
   "cell_type": "code",
   "execution_count": 5,
   "metadata": {},
   "outputs": [],
   "source": [
    "#google geocoding api\n",
    "latitude_df = pd.read_csv(\"data/cleaned_data_exports/mountain_lat_long.csv\")"
   ]
  },
  {
   "cell_type": "code",
   "execution_count": 6,
   "metadata": {},
   "outputs": [],
   "source": [
    "#closest airport information\n",
    "airport_df = pd.read_csv(\"data/cleaned_data_exports/closest_airports.csv\")"
   ]
  },
  {
   "cell_type": "markdown",
   "metadata": {},
   "source": [
    "### Data Source #1 - OnTheSnow (Kaggle)\n",
    "### User Based Filtering Dataset"
   ]
  },
  {
   "cell_type": "markdown",
   "metadata": {},
   "source": [
    "The main dataset for the user based collaborative model was pulled from [Kaggle]([https://www.kaggle.com/datasets/fredkellner/onthesnow-ski-area-reviews]). The dataset includes reviews scraped from OnTheSnow, a leading website that provides information about ski resorts and snow conditions found on Kaggle. \n",
    "\n",
    "There are 18,128 reviews from 291 ski resorts in the USA. The features include:\n",
    "\n",
    "- Ski Area\n",
    "- Reviewer Name \n",
    "- Review Date\n",
    "- Review Star Rating (out of 5)"
   ]
  },
  {
   "cell_type": "code",
   "execution_count": 7,
   "metadata": {},
   "outputs": [
    {
     "name": "stdout",
     "output_type": "stream",
     "text": [
      "<class 'pandas.core.frame.DataFrame'>\n",
      "RangeIndex: 18238 entries, 0 to 18237\n",
      "Data columns (total 6 columns):\n",
      " #   Column                         Non-Null Count  Dtype \n",
      "---  ------                         --------------  ----- \n",
      " 0   State                          18238 non-null  object\n",
      " 1   Ski Area                       18238 non-null  object\n",
      " 2   Reviewer Name                  18128 non-null  object\n",
      " 3   Review Date                    18238 non-null  object\n",
      " 4   Review Star Rating (out of 5)  18238 non-null  int64 \n",
      " 5   Review Text                    18226 non-null  object\n",
      "dtypes: int64(1), object(5)\n",
      "memory usage: 855.0+ KB\n"
     ]
    }
   ],
   "source": [
    "snow_df.info()"
   ]
  },
  {
   "cell_type": "code",
   "execution_count": 8,
   "metadata": {},
   "outputs": [
    {
     "data": {
      "text/html": [
       "<div>\n",
       "<style scoped>\n",
       "    .dataframe tbody tr th:only-of-type {\n",
       "        vertical-align: middle;\n",
       "    }\n",
       "\n",
       "    .dataframe tbody tr th {\n",
       "        vertical-align: top;\n",
       "    }\n",
       "\n",
       "    .dataframe thead th {\n",
       "        text-align: right;\n",
       "    }\n",
       "</style>\n",
       "<table border=\"1\" class=\"dataframe\">\n",
       "  <thead>\n",
       "    <tr style=\"text-align: right;\">\n",
       "      <th></th>\n",
       "      <th>State</th>\n",
       "      <th>Ski Area</th>\n",
       "      <th>Reviewer Name</th>\n",
       "      <th>Review Date</th>\n",
       "      <th>Review Star Rating (out of 5)</th>\n",
       "      <th>Review Text</th>\n",
       "    </tr>\n",
       "  </thead>\n",
       "  <tbody>\n",
       "    <tr>\n",
       "      <th>0</th>\n",
       "      <td>colorado</td>\n",
       "      <td>copper-mountain-resort</td>\n",
       "      <td>anonymous_user</td>\n",
       "      <td>3-Mar-04</td>\n",
       "      <td>3</td>\n",
       "      <td>I have a pass the includes other mountains but...</td>\n",
       "    </tr>\n",
       "    <tr>\n",
       "      <th>1</th>\n",
       "      <td>utah</td>\n",
       "      <td>brighton-resort</td>\n",
       "      <td>anonymous_user</td>\n",
       "      <td>2-Dec-04</td>\n",
       "      <td>4</td>\n",
       "      <td>I've been coming to Brighton for years. Unlike...</td>\n",
       "    </tr>\n",
       "    <tr>\n",
       "      <th>2</th>\n",
       "      <td>north-carolina</td>\n",
       "      <td>ski-beech-mountain-resort</td>\n",
       "      <td>anonymous_user</td>\n",
       "      <td>1-Jan-05</td>\n",
       "      <td>5</td>\n",
       "      <td>We went last Weekend, and it was the best snow...</td>\n",
       "    </tr>\n",
       "    <tr>\n",
       "      <th>3</th>\n",
       "      <td>new-mexico</td>\n",
       "      <td>red-river</td>\n",
       "      <td>anonymous_user</td>\n",
       "      <td>1-Mar-05</td>\n",
       "      <td>5</td>\n",
       "      <td>Love Red River we go every year!</td>\n",
       "    </tr>\n",
       "    <tr>\n",
       "      <th>4</th>\n",
       "      <td>pennsylvania</td>\n",
       "      <td>sno-mountain</td>\n",
       "      <td>anonymous_user</td>\n",
       "      <td>2-Mar-05</td>\n",
       "      <td>4</td>\n",
       "      <td>Great varied terrain, not crowded, good prices...</td>\n",
       "    </tr>\n",
       "  </tbody>\n",
       "</table>\n",
       "</div>"
      ],
      "text/plain": [
       "            State                   Ski Area   Reviewer Name Review Date  \\\n",
       "0        colorado     copper-mountain-resort  anonymous_user    3-Mar-04   \n",
       "1            utah            brighton-resort  anonymous_user    2-Dec-04   \n",
       "2  north-carolina  ski-beech-mountain-resort  anonymous_user    1-Jan-05   \n",
       "3      new-mexico                  red-river  anonymous_user    1-Mar-05   \n",
       "4    pennsylvania               sno-mountain  anonymous_user    2-Mar-05   \n",
       "\n",
       "   Review Star Rating (out of 5)  \\\n",
       "0                              3   \n",
       "1                              4   \n",
       "2                              5   \n",
       "3                              5   \n",
       "4                              4   \n",
       "\n",
       "                                         Review Text  \n",
       "0  I have a pass the includes other mountains but...  \n",
       "1  I've been coming to Brighton for years. Unlike...  \n",
       "2  We went last Weekend, and it was the best snow...  \n",
       "3                  Love Red River we go every year!   \n",
       "4  Great varied terrain, not crowded, good prices...  "
      ]
     },
     "execution_count": 8,
     "metadata": {},
     "output_type": "execute_result"
    }
   ],
   "source": [
    "snow_df.head()"
   ]
  },
  {
   "cell_type": "code",
   "execution_count": 9,
   "metadata": {},
   "outputs": [],
   "source": [
    "#renaming columns\n",
    "new_name = ['state', 'ski_resort', 'user_name','review_date', 'rating',\n",
    "           'review'] \n",
    "\n",
    "snow_df.columns = new_name"
   ]
  },
  {
   "cell_type": "code",
   "execution_count": 10,
   "metadata": {},
   "outputs": [
    {
     "data": {
      "text/html": [
       "<div>\n",
       "<style scoped>\n",
       "    .dataframe tbody tr th:only-of-type {\n",
       "        vertical-align: middle;\n",
       "    }\n",
       "\n",
       "    .dataframe tbody tr th {\n",
       "        vertical-align: top;\n",
       "    }\n",
       "\n",
       "    .dataframe thead th {\n",
       "        text-align: right;\n",
       "    }\n",
       "</style>\n",
       "<table border=\"1\" class=\"dataframe\">\n",
       "  <thead>\n",
       "    <tr style=\"text-align: right;\">\n",
       "      <th></th>\n",
       "      <th>state</th>\n",
       "      <th>ski_resort</th>\n",
       "      <th>user_name</th>\n",
       "      <th>review_date</th>\n",
       "      <th>rating</th>\n",
       "      <th>review</th>\n",
       "    </tr>\n",
       "  </thead>\n",
       "  <tbody>\n",
       "    <tr>\n",
       "      <th>0</th>\n",
       "      <td>colorado</td>\n",
       "      <td>copper-mountain-resort</td>\n",
       "      <td>anonymous_user</td>\n",
       "      <td>3-Mar-04</td>\n",
       "      <td>3</td>\n",
       "      <td>I have a pass the includes other mountains but...</td>\n",
       "    </tr>\n",
       "    <tr>\n",
       "      <th>1</th>\n",
       "      <td>utah</td>\n",
       "      <td>brighton-resort</td>\n",
       "      <td>anonymous_user</td>\n",
       "      <td>2-Dec-04</td>\n",
       "      <td>4</td>\n",
       "      <td>I've been coming to Brighton for years. Unlike...</td>\n",
       "    </tr>\n",
       "    <tr>\n",
       "      <th>2</th>\n",
       "      <td>north-carolina</td>\n",
       "      <td>ski-beech-mountain-resort</td>\n",
       "      <td>anonymous_user</td>\n",
       "      <td>1-Jan-05</td>\n",
       "      <td>5</td>\n",
       "      <td>We went last Weekend, and it was the best snow...</td>\n",
       "    </tr>\n",
       "    <tr>\n",
       "      <th>3</th>\n",
       "      <td>new-mexico</td>\n",
       "      <td>red-river</td>\n",
       "      <td>anonymous_user</td>\n",
       "      <td>1-Mar-05</td>\n",
       "      <td>5</td>\n",
       "      <td>Love Red River we go every year!</td>\n",
       "    </tr>\n",
       "    <tr>\n",
       "      <th>4</th>\n",
       "      <td>pennsylvania</td>\n",
       "      <td>sno-mountain</td>\n",
       "      <td>anonymous_user</td>\n",
       "      <td>2-Mar-05</td>\n",
       "      <td>4</td>\n",
       "      <td>Great varied terrain, not crowded, good prices...</td>\n",
       "    </tr>\n",
       "    <tr>\n",
       "      <th>...</th>\n",
       "      <td>...</td>\n",
       "      <td>...</td>\n",
       "      <td>...</td>\n",
       "      <td>...</td>\n",
       "      <td>...</td>\n",
       "      <td>...</td>\n",
       "    </tr>\n",
       "    <tr>\n",
       "      <th>18233</th>\n",
       "      <td>minnesota</td>\n",
       "      <td>lutsen-mountains</td>\n",
       "      <td>REBECCA CARTWRIGHT</td>\n",
       "      <td>14-Dec-20</td>\n",
       "      <td>4</td>\n",
       "      <td>Many workers on the lifts did not know how to ...</td>\n",
       "    </tr>\n",
       "    <tr>\n",
       "      <th>18234</th>\n",
       "      <td>new-mexico</td>\n",
       "      <td>sipapu-ski-and-summer-resort</td>\n",
       "      <td>Antonio  Martinez</td>\n",
       "      <td>15-Dec-20</td>\n",
       "      <td>5</td>\n",
       "      <td>staying in the \"hotel\" (\"motel\" on the sign ab...</td>\n",
       "    </tr>\n",
       "    <tr>\n",
       "      <th>18235</th>\n",
       "      <td>new-mexico</td>\n",
       "      <td>sipapu-ski-and-summer-resort</td>\n",
       "      <td>Antonio  Martinez</td>\n",
       "      <td>15-Dec-20</td>\n",
       "      <td>5</td>\n",
       "      <td>staying in the \"hotel\" (\"motel\" on the sign ab...</td>\n",
       "    </tr>\n",
       "    <tr>\n",
       "      <th>18236</th>\n",
       "      <td>new-mexico</td>\n",
       "      <td>taos-ski-valley</td>\n",
       "      <td>David Humphrey</td>\n",
       "      <td>15-Dec-20</td>\n",
       "      <td>5</td>\n",
       "      <td>Good skiing, have lost their way over the year...</td>\n",
       "    </tr>\n",
       "    <tr>\n",
       "      <th>18237</th>\n",
       "      <td>new-mexico</td>\n",
       "      <td>taos-ski-valley</td>\n",
       "      <td>David Humphrey</td>\n",
       "      <td>15-Dec-20</td>\n",
       "      <td>5</td>\n",
       "      <td>Good skiing, have lost their way over the year...</td>\n",
       "    </tr>\n",
       "  </tbody>\n",
       "</table>\n",
       "<p>18238 rows × 6 columns</p>\n",
       "</div>"
      ],
      "text/plain": [
       "                state                    ski_resort           user_name  \\\n",
       "0            colorado        copper-mountain-resort      anonymous_user   \n",
       "1                utah               brighton-resort      anonymous_user   \n",
       "2      north-carolina     ski-beech-mountain-resort      anonymous_user   \n",
       "3          new-mexico                     red-river      anonymous_user   \n",
       "4        pennsylvania                  sno-mountain      anonymous_user   \n",
       "...               ...                           ...                 ...   \n",
       "18233       minnesota              lutsen-mountains  REBECCA CARTWRIGHT   \n",
       "18234      new-mexico  sipapu-ski-and-summer-resort   Antonio  Martinez   \n",
       "18235      new-mexico  sipapu-ski-and-summer-resort   Antonio  Martinez   \n",
       "18236      new-mexico               taos-ski-valley      David Humphrey   \n",
       "18237      new-mexico               taos-ski-valley      David Humphrey   \n",
       "\n",
       "      review_date  rating                                             review  \n",
       "0        3-Mar-04       3  I have a pass the includes other mountains but...  \n",
       "1        2-Dec-04       4  I've been coming to Brighton for years. Unlike...  \n",
       "2        1-Jan-05       5  We went last Weekend, and it was the best snow...  \n",
       "3        1-Mar-05       5                  Love Red River we go every year!   \n",
       "4        2-Mar-05       4  Great varied terrain, not crowded, good prices...  \n",
       "...           ...     ...                                                ...  \n",
       "18233   14-Dec-20       4  Many workers on the lifts did not know how to ...  \n",
       "18234   15-Dec-20       5  staying in the \"hotel\" (\"motel\" on the sign ab...  \n",
       "18235   15-Dec-20       5  staying in the \"hotel\" (\"motel\" on the sign ab...  \n",
       "18236   15-Dec-20       5  Good skiing, have lost their way over the year...  \n",
       "18237   15-Dec-20       5  Good skiing, have lost their way over the year...  \n",
       "\n",
       "[18238 rows x 6 columns]"
      ]
     },
     "execution_count": 10,
     "metadata": {},
     "output_type": "execute_result"
    }
   ],
   "source": [
    "snow_df"
   ]
  },
  {
   "cell_type": "code",
   "execution_count": 11,
   "metadata": {},
   "outputs": [
    {
     "data": {
      "text/plain": [
       "array(['anon_1', 'anon_2', 'anon_3', 'anon_4', 'anon_5', 'anon_6',\n",
       "       'anon_7', 'anon_8', 'anon_9', 'Stephanie Ciaccia', 'Joseph Lewis',\n",
       "       'Alexandria Kelly', 'Deanna Uzarski', 'Raghava Kamalesh'],\n",
       "      dtype=object)"
      ]
     },
     "execution_count": 11,
     "metadata": {},
     "output_type": "execute_result"
    }
   ],
   "source": [
    "survey_df['user_name'].unique()"
   ]
  },
  {
   "cell_type": "code",
   "execution_count": 12,
   "metadata": {},
   "outputs": [
    {
     "name": "stdout",
     "output_type": "stream",
     "text": [
      "<class 'pandas.core.frame.DataFrame'>\n",
      "RangeIndex: 61 entries, 0 to 60\n",
      "Data columns (total 6 columns):\n",
      " #   Column       Non-Null Count  Dtype \n",
      "---  ------       --------------  ----- \n",
      " 0   review_date  61 non-null     object\n",
      " 1   state        61 non-null     object\n",
      " 2   ski_resort   61 non-null     object\n",
      " 3   rating       61 non-null     int64 \n",
      " 4   review       61 non-null     object\n",
      " 5   user_name    61 non-null     object\n",
      "dtypes: int64(1), object(5)\n",
      "memory usage: 3.0+ KB\n"
     ]
    }
   ],
   "source": [
    "survey_df.info()"
   ]
  },
  {
   "cell_type": "code",
   "execution_count": 13,
   "metadata": {},
   "outputs": [],
   "source": [
    "snow_df['review_date'] = pd.to_datetime(snow_df['review_date'])\n",
    "survey_df['review_date'] = pd.to_datetime(survey_df['review_date'])"
   ]
  },
  {
   "cell_type": "code",
   "execution_count": 14,
   "metadata": {},
   "outputs": [
    {
     "data": {
      "text/plain": [
       "ski-brule                           1315\n",
       "killington-resort                    204\n",
       "vail                                 203\n",
       "winter-park-resort                   191\n",
       "blue-mountain-ski-area               189\n",
       "                                    ... \n",
       "holiday-mountain                      13\n",
       "new-hermon-mountain                   13\n",
       "coffee-mill-ski-snowboard-resort      13\n",
       "otis-ridge-ski-area                   13\n",
       "whaleback-mountain                    12\n",
       "Name: ski_resort, Length: 291, dtype: int64"
      ]
     },
     "execution_count": 14,
     "metadata": {},
     "output_type": "execute_result"
    }
   ],
   "source": [
    "snow_df[\"ski_resort\"].value_counts()"
   ]
  },
  {
   "cell_type": "code",
   "execution_count": 15,
   "metadata": {},
   "outputs": [
    {
     "data": {
      "text/plain": [
       "anonymous_user         3026\n",
       "anonymous               304\n",
       "undefined undefined     130\n",
       "Ben                      49\n",
       "Mike                     49\n",
       "Ryan                     46\n",
       "Richard                  44\n",
       "Dan                      42\n",
       "David                    42\n",
       "Chris                    39\n",
       "Rob                      37\n",
       "Jeff                     36\n",
       "Matt                     31\n",
       "wolfman                  31\n",
       "Brian                    31\n",
       "Derek                    31\n",
       "Michael                  28\n",
       "iPhone                   28\n",
       "Nick                     27\n",
       "gma                      27\n",
       "Kevin                    27\n",
       "Jim                      26\n",
       "J                        25\n",
       "Steve                    25\n",
       "Mark                     23\n",
       "Jun                      23\n",
       "Jason                    23\n",
       "Joe                      23\n",
       "Paul                     22\n",
       "Dave O                   22\n",
       "Name: user_name, dtype: int64"
      ]
     },
     "execution_count": 15,
     "metadata": {},
     "output_type": "execute_result"
    }
   ],
   "source": [
    "snow_df['user_name'].value_counts().head(30)"
   ]
  },
  {
   "cell_type": "markdown",
   "metadata": {},
   "source": [
    "To clean the review dataset, I had to drop the names of users that were not unique. I parsed through the dataset and continued to drop columns until only unique usernames or users with first and last names were left."
   ]
  },
  {
   "cell_type": "code",
   "execution_count": 16,
   "metadata": {},
   "outputs": [],
   "source": [
    "drop_list = [\"anonymous_user\", \"anonymous\",\"undefined undefined\",\"Mike\", \n",
    "             \"Ben\", \"Ryan\", \"Richard\", \"Dan\", \"David\", \"Chris\", \"Rob\", \"Jeff\",\n",
    "            \"Derek\", \"Brian\", \"Matt\", \"Michael\", \"iPhone\", \"Kevin\", \"Nick\",\n",
    "            \"Jim\", \"Steve\", \"Jason\", \"Mark\", \"Joe\", \"Paul\", \"Justin\", \"Scott\",\n",
    "            \"Bob\", \"Alex\", \"Carter\", \"Dave\", \"Tim\", \"Bill\", \"Andrew\", \"John\", \"Sam\",\n",
    "            \"James\", \"Kim\", \"Craig\", \"mike\", \"jason\", \"James\", \"Sam\", \"Kim\", \"mike\", \"peter\",\n",
    "            \"Jack\", \"Adam\", \"Tom\", \"Wes\", \"Jun\", \"Steven\", \"Max\", \"Matthew\", \"Laura\", \"Felipe\",\n",
    "            \"Greg\", \"Bryan\", \"Sarah\", \"Sara\", \"Christian\", \"Ray\", \"Connor\", \"Erin\", \"Emily\",\n",
    "            \"Luke\", \"Ed\", \"Patrick\", \"kyle\", \"Ken\", \"Linda\", \"Eric\", \"Aaron\", \"Jake\",\n",
    "            \"Josh\", \"Tony\", \"Abe\", \"Frank\", \"Peter\", \"Fred\", \"Arthur\", \"Lorraine\",\n",
    "            \"Phil\", \"Sean\", \"Will\", \"Julie\", \"Jon\", \"Amy\", \"Becky\", \"Shannon\", \"brendan\",\n",
    "            \"Kathy\", \"wayne\", \"Ethan\", \"Erika\", \"Jill\", \"Zoe\", \"Rick\", \"Wyatt\",\n",
    "            \"Tyler\", \"Andrea\", \"mark\", \"john\", \"Donna\", \"Jen\", \"Braden\", \"D\", \"Bryce\",\n",
    "            \"Rich\", \"Jared\", \"Jay\", \"Ann\", \"Brandon\", \"Nicholas\",\"Martin\",\n",
    "            'Robert', 'angelino','Anonymous',\n",
    "             'ty', 'jase', 'Jesse', 'Jennifer', 'Dustin', 'Natalie',\n",
    "             'Pat', 'anonymous user', 'matt', 'George', 'Kate',\n",
    "             'Daniel','Cindy', 'Barry', 'Todd', 'Melanie', 'Drew',\n",
    "             'Andy', 'Hochard','Wayne', 'dan',\n",
    "             'Charlie', 'Vanessa','Allen', 'Austin', 'Roger',\n",
    "             'Jerry', 'Scotty', 'Anon', 'Lucas', 'Brian', 'Lee', 'Taylor',\n",
    "            'brian', 'Lisa', 'Jade', 'Spencer', 'chris', 'Jenny', 'Amanda', 'Brett',\n",
    "            'Maria', 'Holly', 'iPad', 'Sylvia', 'iPhone (2)', 'Catherine', 'Hannah', 'Wade',\n",
    "            'Larry', 'Lauren','Noah', 'Bobby', 'Don', 'Christine', 'Stephen', 'Howard',\n",
    "             'Tanner', 'Tom', 'Casey', 'Kyle', 'Michelle', 'Shelby',\n",
    "             'Benjamin', 'Erik', 'Molly', 'Johnny', 'Chuck', 'Johnny',\n",
    "             'Nathan', 'Cathy', 'Shelley', 'Mary', 'Danny', 'mitch', 'Brad', 'Tammy', 'erik',\n",
    "            'Tricia', 'Nate', 'Pete']\n",
    "\n",
    "snow_df = snow_df[snow_df['user_name'].isin(drop_list) == False]"
   ]
  },
  {
   "cell_type": "code",
   "execution_count": 17,
   "metadata": {},
   "outputs": [
    {
     "data": {
      "text/plain": [
       "wolfman            31\n",
       "gma                27\n",
       "J                  25\n",
       "Dave O             22\n",
       "Tim Zheng          22\n",
       "                   ..\n",
       "Steve undefined     7\n",
       "Jay C               7\n",
       "tjkotula            7\n",
       "nanaandpapa         7\n",
       "smk1945             7\n",
       "Name: user_name, Length: 70, dtype: int64"
      ]
     },
     "execution_count": 17,
     "metadata": {},
     "output_type": "execute_result"
    }
   ],
   "source": [
    "snow_df['user_name'].value_counts().head(70)"
   ]
  },
  {
   "cell_type": "code",
   "execution_count": 18,
   "metadata": {},
   "outputs": [],
   "source": [
    "#renaming columns\n",
    "new_name = ['state', 'ski_resort', 'user_name','review_date', 'rating',\n",
    "           'review'] \n",
    "\n",
    "snow_df.columns = new_name"
   ]
  },
  {
   "cell_type": "markdown",
   "metadata": {},
   "source": [
    "After cleaning the usernames, I will be further narrowing down the number of users by only including users with more than 3 reviews."
   ]
  },
  {
   "cell_type": "code",
   "execution_count": 19,
   "metadata": {},
   "outputs": [],
   "source": [
    "# counting the number of reviews for each user\n",
    "value_counts = snow_df['user_name'].value_counts()\n",
    "\n",
    "# selecting only users with more than three reviews\n",
    "selected_users = value_counts[value_counts > 2].index\n",
    "\n",
    "# selecting only the rows where the user_name is in the selected_users list\n",
    "cleaned_snow = snow_df[snow_df['user_name'].isin(selected_users)]"
   ]
  },
  {
   "cell_type": "code",
   "execution_count": 20,
   "metadata": {},
   "outputs": [
    {
     "data": {
      "text/plain": [
       "brandon           3\n",
       "Eric's iPhone     3\n",
       "Kase1             3\n",
       "bwm30             3\n",
       "echi              3\n",
       "                 ..\n",
       "Dave O           22\n",
       "Tim Zheng        22\n",
       "J                25\n",
       "gma              27\n",
       "wolfman          31\n",
       "Name: user_name, Length: 648, dtype: int64"
      ]
     },
     "execution_count": 20,
     "metadata": {},
     "output_type": "execute_result"
    }
   ],
   "source": [
    "cleaned_snow['user_name'].value_counts(ascending=True)"
   ]
  },
  {
   "cell_type": "markdown",
   "metadata": {},
   "source": [
    "Removing users with more than 3 reviews dropped the number of rows/final reviews to 2200."
   ]
  },
  {
   "cell_type": "code",
   "execution_count": 21,
   "metadata": {},
   "outputs": [
    {
     "name": "stdout",
     "output_type": "stream",
     "text": [
      "<class 'pandas.core.frame.DataFrame'>\n",
      "Int64Index: 2996 entries, 103 to 18199\n",
      "Data columns (total 6 columns):\n",
      " #   Column       Non-Null Count  Dtype         \n",
      "---  ------       --------------  -----         \n",
      " 0   state        2996 non-null   object        \n",
      " 1   ski_resort   2996 non-null   object        \n",
      " 2   user_name    2996 non-null   object        \n",
      " 3   review_date  2996 non-null   datetime64[ns]\n",
      " 4   rating       2996 non-null   int64         \n",
      " 5   review       2994 non-null   object        \n",
      "dtypes: datetime64[ns](1), int64(1), object(4)\n",
      "memory usage: 163.8+ KB\n"
     ]
    }
   ],
   "source": [
    "cleaned_snow.info()"
   ]
  },
  {
   "cell_type": "code",
   "execution_count": 22,
   "metadata": {},
   "outputs": [
    {
     "data": {
      "text/plain": [
       "array(['ericadyer', 'FroDog', 'jackson321', 'SammyG', 'Jill Adler',\n",
       "       'Twenz', 'anhillx', 'emj35', 'Benji Zimmerman', 'Roger Leo',\n",
       "       'filterban', 'JP', 'gkphi5', 'RippinSkiers', 'Jay C',\n",
       "       'Mark Rosasco', 'jay', 'Dan Gibson', 'stevenstclair', 'jwtime',\n",
       "       'Cherokee', 'treesker', 'hranee', 'gwiffie', 'stevenam', 'Gunny J',\n",
       "       'jim8588', 'Bmorabito', 'Richard 1', 'airgarden94', 'joey58242',\n",
       "       'Mike134', 'tom travis', 'bobbert', 'noonito', 'tsfoust',\n",
       "       'Art Zinn', 'steffenwolf', 'seniordude', 'Shartron',\n",
       "       'Mikey Likes It', 'Americansonofa', 'Randy Agness', 'sno_thing',\n",
       "       'sampanning', 'steep-n-deep ', 'jestertatt', 'Dantheman',\n",
       "       'swissnowtiger', 'brandon', 'flyersboy114', 'Ritt', 'Bob Butts',\n",
       "       'sharimcatee', 'iLiveToRide17', 'bodibran', 'yodeledihoo',\n",
       "       'tourist from Texas', 'p_nut', 'highvoltageguy', 'masterdel',\n",
       "       'govey80', 'horse', 'fcherichel', 'mwolske', 'mayham2k', 'Adye 1',\n",
       "       'MgoBlue', 'Randy Rogers', 'Bobby G', 'Hilferty', 'apken',\n",
       "       'Resort Travel', 'bodyflight', 'Bartakamoose', 'kbone77', 'swetsb',\n",
       "       'thorne36', 'CopPsychDoc', 'Frank Castellanos', 'soakandski',\n",
       "       'mtbporru', 'daniwrites', 'Les', 'belindajk', 'echi', 'J Berlo',\n",
       "       'danmclaw', 'markwittlich', 'sewardhorner', 'thereporter',\n",
       "       'hotdotsails', 'nzh0tg', 'Aguilar 1', 'ccampbell', 'AttyWSW',\n",
       "       'herbsmen', 'Philip H. Eckerberg', 'bermjl', 'bigw1313',\n",
       "       'pinkkid_2000', 'DoUcanoe2', 'John Gonzalez', 'Ontheslopes',\n",
       "       'joe castelli', 'skylolow', 'Queensland Skier', 'ski_hike',\n",
       "       'SweetSki', 'Juan', 'bwm30', 'Doodski', 'Shane Wicken',\n",
       "       'psuguy43094', 'joey440', 'volklmom', 'dane Koncan', 'mcc100',\n",
       "       'dave figenshu', 'SFCSkiGirl', 'mtskier', 'wisp', 'Ron', 'rt',\n",
       "       'pdxboarder', 'Eli', 'cmustard', 'Dave Varney', 'leerampolla',\n",
       "       'mjurkiewicz', 'Andrew Balcom', 'frankpa', 'Dave&DJ',\n",
       "       'max caswell', 'molly young', 'skifiend', 'bulldogmom', 'skibum40',\n",
       "       'A. cooper', 'iwill', 'TanMan', 'Ian Yuh', 'Julie79', 'Ronald',\n",
       "       'Robert Turner', 'jay_bone_22', 'Cody March', 'vedhed', 'ENWR',\n",
       "       'George P', 'Likeabat', 'beefcake1313', 'offwallstreet', 'smezhir',\n",
       "       'Terry', 'kooter', 'Alan M', 'Christopher Horner', 'jssctrent',\n",
       "       'Fauster', 'dubisaweapon', 'joegregdon', 'Karl', 'bangsezmax',\n",
       "       'Brian Thayer', 'MCPG', 'zakk', 'Unionhawk', 'Randy Whitson',\n",
       "       'hparks', 'WilleA', 'cpt0bvi0u5', 'ndboarder', 'smk1945',\n",
       "       'winstonwolf', 'Yoonseok Song', 'Barbra Pasker', 'mjnecaise',\n",
       "       'perrmj02', 'skinomad', 'haineroid', 'Catherine D', 'Richard B',\n",
       "       'Evan', 'Theresa 1', 'Scott Dillman', 'SkiBadger', 'tc5',\n",
       "       'safer_66', 'spack', 'Barker', 'Dave Freeman',\n",
       "       'Kyle Harmon Townsend', 'ryan', 'J', 'Reaper', 'alvlee01',\n",
       "       'chris  Bjornmose', 'istink', 'dancinjrl', 'shari ann', 'BSbost',\n",
       "       'crust', 'john mosher', 'pattwins', 'wespac187', 'Karen',\n",
       "       'Richard Min', 'joancoburn', 'Maureen', 'jfoldno7', 'Ian England',\n",
       "       'Ryan Pringnitz', 'skiergirl27 ', 'bostowyo', 'Jim Dana',\n",
       "       'brtn551', 'RICK STEPHENS', 'HelderbergComplainer', 'nastarfan',\n",
       "       'Ian', 'isaac reule', 'tandmkirk', 'H3NDR1X15', 'Jase', 'LDT',\n",
       "       'mrcompgov', 'brianwatts', 'davidlau123', 'Hunter McPherson',\n",
       "       'nmkelley', 'BO$$', 'Hotstick', 'newby24', 'passanto1',\n",
       "       'bluemoon1975', 'newsance', 'alex', 'Diane Saraceni', 'star1201',\n",
       "       'lumaye64', 'Thomas', 'SkiGalveston', 'papi6022', 'Simon', 'gma',\n",
       "       'flatlander13', 'mir0yan222', 'Burtoncustomjon', 'Peter Mende',\n",
       "       'mkt', 'JakeS513', 'Justin Howell', 'Matt Woodruff', 'Dylan',\n",
       "       'popski boy', 'cane700', 'Canadian', 'Heather', 'Chad', 'quinnman',\n",
       "       'Mike Barrett', 'Ski Bum', 'adube 1', 'Vance Boyer', 'Taos Rules',\n",
       "       'thesnowboarder', 'Greg morell', 'snowboarderboi', 'DubbelSac',\n",
       "       'GuyinNM', 'wolfman', 'Jeff Gibson', 'GOOFY RIDER',\n",
       "       'Nathan Dively', 'keneikirk', 'ryan dunlap', 'SGTDBP',\n",
       "       'R Lee Stump', 'Damon', 'ryannw', 'nanaandpapa', 'phisherman16',\n",
       "       'runner/skier', 'otgoal21', 'djgray', 'TheRidersProject', 'Dave O',\n",
       "       'eewdad', 'flyingrabbit', 'Carrie', 'Brian Lewis', 'ryanscottmac',\n",
       "       'Olivia', 'Andy D', 'beachbumltj', 'purplebunyz', 'Debbi',\n",
       "       'Dedmond', 'Bill Deaton', 'drdevon', 'ONTHESHITER', 'brian watts',\n",
       "       'Mark Lang', 'nnypa', 'Kase1', 'cody hamlin', 'Elliot Green',\n",
       "       'humanmap', 'medford_mike', 'Lori Kushar', 'Three2Ski',\n",
       "       'bandanasFTL', 'skijds', 'vadoc', 'Seth Christopher Bjorkman',\n",
       "       'stuck_in_614', 'johnny mack', 'powhound820', 'conboc',\n",
       "       'Jack Frost', 'Bruce', 'mjd2646', 'markiemark', 'JonIngalls',\n",
       "       'stmad12', 'Daniel Morris', 'JC', 'Al Cipparone', 'skiwithkids',\n",
       "       'ParkLife', 'Tim Zheng', 'cheezywhiz', 'Owen', 'Rachel', 'Colin',\n",
       "       'Danny Zhang', 'JJ', 'Shawn', 'rar768', 'Erik Szayna', 'S. Areno',\n",
       "       'christopher griffin', 'Nick Pope', 'johnny alonso', 'Jason Tubbs',\n",
       "       'Nick Park', 'scott', 'Charles Ball', 'loricipheran',\n",
       "       'skigenome57', 'Evan Wright', 'Brian K Palmer', 'Quinn',\n",
       "       'Devon Marques', 'Tahsha LePage', 'thowes', 'we3ski', 'Helenbry',\n",
       "       'Ray Baucum', 'Ktown', 'Jackson', \"Evan O'Connell\",\n",
       "       'Henry Hartley', 'Stan', 'Gary', 'Mark Fortin', 'Garrett Serwatka',\n",
       "       'Tremblay', 'Doug', 'Vicente Pinaula', 'Jeff Graham',\n",
       "       'Ross Bretherton', 'Jonathan', 'Karver', 'Nick Franchino', 'Amber',\n",
       "       'Monica', 'slcrazy00', 'Pierre', 'Charles Hallett', 'jhuntley87',\n",
       "       'shaun', 'Keith', 'Tj 1', 'David Moores', 'jessoe123',\n",
       "       'jessepollock', 'SkiGirlie', 'CTskinerd', 'Theiceskier', 'curbdog',\n",
       "       'jaynjay21', \"The Merry's\", 'Snowboarder2424', 'Drake',\n",
       "       'Brian Campbell', 'Clay King', 'Mark Gerardy', 'Lorenzo A',\n",
       "       'Andrew Harris', 'M', 'SkiForFree', 'Tommy T', 'Jason Buchta',\n",
       "       'Bill  Rymer', 'rocketal', \"Joseph O'Brien\", 'rbericson',\n",
       "       'skier11', 'tom', 'Benjamin Sawyer', 'C', 'sklein',\n",
       "       'AltSchneemann', 'wedge2edge', 'Eis_geist', 'MNSkier97',\n",
       "       'oneesnow', 'DaveO', 'kjack', 'village idiots', 'Verdi DiSesa',\n",
       "       'CompanionCube', 'RatherBeSkiing', 'Anelizk88', 'Brian Sloane',\n",
       "       'josephr93', 'tjkotula', 'sledbred', 'ctdiver', 'docmenach',\n",
       "       'douglas', 'OnTheEdge', 'Dexter', '40yrskibum', 'D.S.', 'Joan',\n",
       "       'Abe Gold', 'Robert Oliver', 'Matt McAuley', 'Scott Larson',\n",
       "       'Miyah and Keira Washington', 'Jacob', 'Nichole', 'Wendy', 'Nancy',\n",
       "       'Randy', 'Michaela', 'Dean', 'Annah Kim', 'Greg Smith', 'Clayton',\n",
       "       'Lou', 'Kris', 'Snow Boarder', 'Linda Smith', 'Sue', 'Carol',\n",
       "       'ann phelan', 'T LAFRANCE', 'Rich R', 'Rod', 'Morgan', 'Charles',\n",
       "       'Powder Fox', 'J R', 'Matt Martens', 'ChoochCharlie',\n",
       "       'falisethebeast', 'shelbymustang323', 'ski bum', 'william c',\n",
       "       'lname', 'skipoint0', 'Dude', 'dillonhudson13', 'Chris Comer',\n",
       "       'Ryan Craig', 'Jane', 'brianpenatzer', 'bigbluecrewtoy', 'tride',\n",
       "       'jccultrona', 'Adam C', 'lubbockroots', 'ostromsean',\n",
       "       'jloloughlin2', 'steve', 'colin', 'lukedborg', 'John Martin',\n",
       "       \"Eric's iPhone\", 'JR', 'Snowboarder', 'grazianotony27', 'Troy',\n",
       "       'Lynn Qu', 'Skibumm', 'rclover106', 'jdayneyesq', 'Dave B',\n",
       "       'joebevdunn', 'Mark Gurda', 'H Muns', 'Mathieu Greenwood',\n",
       "       'Tyler 1', 'iPhone (3)', 'B Ford', 'tatyana drakhlis', 'rmack501',\n",
       "       'Downriver skier', 'J. Cosenza', 'larsagren', 'Blaine Schweizer',\n",
       "       'kenneth morris', 'rozcaruso', 'Bobo Me', 'Megan G',\n",
       "       'Margaret Pfeiffer', 'John Barber', 'Nancy D.',\n",
       "       'Seth The Pow Hound', 'Prawn', 'ianmilesdoyle', 'Michael Beck',\n",
       "       'Tani Lucht', 'DB', 'Isabella  Hankins', 'Chewie W', 'Bo',\n",
       "       'Cole Dumas', 'Safiya', 'Jeremy West', 'Elizabeth', 'Jeff Wisdom',\n",
       "       'Jason S', 'marsharn', 'radtkej08', 'local skier',\n",
       "       'Mara Abrahamson', 'Kayla', 'Mike W', 'David Milford',\n",
       "       'Jean Evans', 'Jeffrey Cohen', 'Riley Mosher', 'Valero',\n",
       "       'Joe Migas', 'Sam Lehrich', 'Marie', 'chernad', 'chiahart95',\n",
       "       'B P', 'cath.haynes', 'David  Holz', 'Greg Matkosky',\n",
       "       'Jaden Rodriguez', 'Jim H', 'crowleylouis', 'Vince', 'ron',\n",
       "       'TODD BOLER', 'Scott Armour', 'L.', 'Nick Sabol', 'Austin Jackson',\n",
       "       'Drew Carlson', 'Jackson Mississippi', 'rlhinvail', 'Dave Ozz',\n",
       "       'Karen Edwards', 'Zohar Hirshfeld', 'Kyle M', 'Andrew Curtin',\n",
       "       'Askier', 'The Sports Exchange Missoula', 'Michael Lee',\n",
       "       'Robert Kalantari', 'Bob Ross', 'jplippens', 'mateonelson',\n",
       "       'Nate Moen', 'kellybrown26', 'pilager', 'Eli Cowperthwaite',\n",
       "       'Chris S', 'j2ronne', 'Peter Anania', 'Wendy Fiel', 'John S',\n",
       "       'Avi Plofsky', 'Christine Magnone', 'Magic Mann', 'mpemail',\n",
       "       'Aaron Halpern', 'brevanyoung', 'jrg123', 'nemo', 'Avery Zucco',\n",
       "       'Jake Manson', 'Ben Schaeffer', 'Jake Kindler', 'Shawn McKissick',\n",
       "       'jeff G', 'falllinemaniac Lobato', 'John Doe', 'tarp swan',\n",
       "       'Steven Freund', 'dude', 'zac', 'Jim undefined',\n",
       "       'Daniel undefined', 'George undefined', 'Steve undefined',\n",
       "       'Josh undefined', 'William undefined', 'Adam undefined',\n",
       "       'James undefined', 'Stuart undefined', 'John undefined',\n",
       "       'Karen undefined', 'Matt undefined', 'Michael undefined',\n",
       "       'Sam undefined', 'Brian undefined', 'Anna Smith', 'Rick Hunter',\n",
       "       'Cliff undefined', 'Victor undefined', 'davo41', 'undefined',\n",
       "       'Anonymous Anonymous', 'Powder  Hound', 'Miranda  McKean',\n",
       "       'David undefined', 'Dan undefined', 'Jay Larmee', 'Wes  Tolleson',\n",
       "       'Rich undefined', 'gary undefined', 'Dave undefined',\n",
       "       'Joseph  Nauber', 'gayendarren', 'Matt  H', 'Dave Morrison',\n",
       "       'Payton Sharum', 'Lori Young'], dtype=object)"
      ]
     },
     "execution_count": 22,
     "metadata": {},
     "output_type": "execute_result"
    }
   ],
   "source": [
    "cleaned_snow['user_name'].unique()"
   ]
  },
  {
   "cell_type": "code",
   "execution_count": 23,
   "metadata": {},
   "outputs": [],
   "source": [
    "#dropping duplicate rows\n",
    "cleaned_snow = cleaned_snow.drop_duplicates()"
   ]
  },
  {
   "cell_type": "markdown",
   "metadata": {},
   "source": [
    "#### Ski resort name - cleaning\n",
    "\n",
    "Since the target variable is the Ski Resort I will need to clean and update the names in all datasets to ensure they are consistent."
   ]
  },
  {
   "cell_type": "code",
   "execution_count": 24,
   "metadata": {},
   "outputs": [
    {
     "data": {
      "text/plain": [
       "array(['squaw-valley-usa', 'sun-valley', 'donner-ski-ranch', 'boreal',\n",
       "       'diamond-peak', 'mt-baker', 'alpental', 'stevens-pass-resort',\n",
       "       'the-summit-at-snoqualmie', 'mt-rose-ski-tahoe', 'mountain-high',\n",
       "       'snowshoe-mountain-resort', 'alyeska-resort', 'steamboat',\n",
       "       'alta-ski-area', 'snowbird', 'snowbasin', 'brighton-resort',\n",
       "       'solitude-mountain-resort', 'deer-valley-resort',\n",
       "       'park-city-mountain-resort', 'jackson-hole', 'sundance',\n",
       "       'brian-head-resort', 'bretton-woods', 'loon-mountain',\n",
       "       'sierra-at-tahoe', 'heavenly-mountain-resort', 'gunstock',\n",
       "       'sno-mountain', 'attitash', 'crystal-mountain-wa', 'vail',\n",
       "       'killington-resort', 'waterville-valley', 'kirkwood',\n",
       "       'copper-mountain-resort', 'breckenridge',\n",
       "       'arapahoe-basin-ski-area', 'keystone', 'boyne-mountain-resort',\n",
       "       'crystal-mountain', 'shanty-creek', 'cannonsburg',\n",
       "       'boyne-highlands', 'aspen-snowmass', 'sunday-river',\n",
       "       'mount-sunapee', 'sugar-bowl-resort', 'soda-springs',\n",
       "       'northstar-california', 'tahoe-donner', 'cannon-mountain',\n",
       "       'wachusett-mountain-ski-area', 'stratton-mountain', 'sugarbush',\n",
       "       'okemo-mountain-resort', 'lutsen-mountains',\n",
       "       'hyland-ski-snowboard-area', 'afton-alps', 'spirit-mountain',\n",
       "       'mt-hood-ski-bowl', 'loveland', 'beaver-creek',\n",
       "       'wild-mountain-ski-snowboard-area', 'winter-park-resort',\n",
       "       'lookout-pass-ski-area', 'taos-ski-valley',\n",
       "       'hidden-valley-ski-area', 'paoli-peaks', 'sugar-mountain-resort',\n",
       "       'monarch-mountain', 'ski-snowstar-winter-sports-park',\n",
       "       'bromley-mountain', 'canaan-valley-resort', 'silver-mountain',\n",
       "       'sunrise-park-resort', 'smugglers-notch-resort', 'big-bear',\n",
       "       'wisp', 'ski-santa-fe', 'mammoth-mountain-ski-area',\n",
       "       'cascade-mountain', 'devils-head', 'big-powderhorn-mountain',\n",
       "       'jay-peak', 'stowe-mountain-resort', 'pico-mountain-at-killington',\n",
       "       'elk-mountain-ski-resort', 'pajarito-mountain-ski-area',\n",
       "       'telluride', 'belleayre', 'angel-fire-resort',\n",
       "       'wolf-creek-ski-area', 'durango-mountain-resort',\n",
       "       'crested-butte-mountain-resort', 'arizona-snowbowl',\n",
       "       'bristol-mountain', 'hunter-mountain', 'snow-ridge',\n",
       "       'caberfae-peaks-ski-golf-resort', 'song-mountain',\n",
       "       'granite-peak-ski-area', 'sunburst', 'alpine-valley-resort',\n",
       "       'grand-geneva', 'wilmot-mountain', 'red-river', 'bear-valley',\n",
       "       'dodge-ridge', 'plattekill-mountain', 'mountain-creek-resort',\n",
       "       'gore-mountain', 'whiteface-mountain-resort',\n",
       "       'woods-valley-ski-area', 'mccauley-mountain-ski-center',\n",
       "       '49-degrees-north', 'timberline-lodge', 'berkshire-east',\n",
       "       'dry-hill-ski-area', 'grand-targhee-resort', 'powder-mountain',\n",
       "       'pebble-creek-ski-area', 'bogus-basin', 'tamarack-resort',\n",
       "       'tyrol-basin', 'blue-mountain-ski-area', 'snow-summit',\n",
       "       'holiday-valley', 'crotched-mountain', 'cataloochee-ski-area',\n",
       "       'nubs-nob-ski-area', 'wintergreen-resort', 'willamette-pass',\n",
       "       'hoodoo-ski-area', 'jack-frost', 'camelback-mountain-resort',\n",
       "       'mount-ashland', 'massanutten', 'wolf-ridge-ski-resort',\n",
       "       'mount-la-crosse', 'june-mountain', 'mt-hood-meadows',\n",
       "       'ski-butternut', 'mount-peter-ski-area',\n",
       "       'shawnee-mountain-ski-area', 'montana-snowbowl',\n",
       "       'windham-mountain', 'winterplace-ski-resort', 'pats-peak',\n",
       "       'spring-mountain-ski-area', 'bittersweet-ski-area',\n",
       "       'ski-china-peak', 'wolf-creek', 'liberty', 'swiss-valley',\n",
       "       'sugarloaf', 'new-hermon-mountain', 'sunlight-mountain-resort',\n",
       "       'snow-valley', 'snowy-range-ski-recreation-area', 'badger-pass',\n",
       "       'las-vegas-ski-and-snowboard-resort', 'ragged-mountain-resort',\n",
       "       'whitetail-resort', 'welch-village', 'buck-hill',\n",
       "       'terry-peak-ski-area', 'ski-apache', 'wildcat-mountain',\n",
       "       'cranmore-mountain-resort', 'bear-creek-mountain-resort',\n",
       "       'big-sky-resort', 'lost-trail-powder-mtn', 'discovery-ski-area',\n",
       "       'eldora-mountain-resort', 'bear-mountain',\n",
       "       'magic-mountain-ski-area', 'pomerelle-mountain-resort',\n",
       "       'sipapu-ski-and-summer-resort', 'indianhead-mountain',\n",
       "       'snow-king-resort', 'roundtop-mountain-resort',\n",
       "       'timberline-four-seasons', 'powderhorn', 'perfect-north-slopes',\n",
       "       'ski-mystic-at-deer-mountain', 'blacktail-mountain-ski-area',\n",
       "       'bridger-bowl', 'blue-hills-ski-area', 'schweitzer',\n",
       "       'whitefish-mountain-resort', 'great-divide', 'burke-mountain',\n",
       "       'mad-river-glen', 'appalachian-ski-mtn',\n",
       "       'ski-beech-mountain-resort', 'ober-gatlinburg-ski-resort',\n",
       "       'snow-creek', 'andes-tower-hills-ski-area',\n",
       "       'anthony-lakes-mountain-resort', 'hogadon', 'big-boulder',\n",
       "       'brundage-mountain-resort', 'mt-baldy', 'whitecap-mountain',\n",
       "       'chestnut-mountain-resort', 'villa-olivia', 'nordic-mountain',\n",
       "       'norway-mountain', 'mount-southington-ski-area', 'bolton-valley',\n",
       "       'ski-cooper', 'magic-mountain', 'mount-snow', 'christie-mountain',\n",
       "       'christmas-mountain', 'pine-mountain', 'jiminy-peak',\n",
       "       'powder-ridge-ski-area', 'silverton-mountain', 'timber-ridge',\n",
       "       'boston-mills', 'brandywine', 'peekn-peak',\n",
       "       'catamount-ski-ride-area', 'beaver-mountain', 'west-mountain',\n",
       "       'suicide-six', 'white-pass', 'giants-ridge-resort', 'ski-brule',\n",
       "       'bousquet-ski-area', 'otis-ridge-ski-area', 'blandford-ski-area',\n",
       "       'blackjack-ski-resort', 'marquette-mountain',\n",
       "       'mount-holiday-ski-area', 'kelly-canyon-ski-area', 'shawnee-peak',\n",
       "       'ski-sundown', 'sundown-mountain', 'bradford-ski-area',\n",
       "       'bryce-resort', 'blue-knob', 'mohawk-mountain', 'tussey-mountain',\n",
       "       'titus-mountain', 'mad-river-mountain', 'king-pine',\n",
       "       'campgaw-mountain', 'greek-peak', 'alpine-valley',\n",
       "       'holimont-ski-area', 'mount-bohemia', 'snow-trails', 'mt-bachelor',\n",
       "       'mt-abram-ski-resort', 'woodbury-ski-area', 'kissing-bridge',\n",
       "       'black-mountain', 'mount-holly', 'mission-ridge',\n",
       "       'toggenburg-mountain', 'ski-sawmill', 'sandia-peak', 'labrador-mt',\n",
       "       'soldier-mountain-ski-area', 'trollhaugen',\n",
       "       'mount-shasta-board-ski-park', 'eagle-point',\n",
       "       'coffee-mill-ski-snowboard-resort', 'bruce-mound',\n",
       "       'mount-brighton', 'brantling-ski-slopes', 'eagle-rock',\n",
       "       'cooper-spur', 'bluewood', 'big-squaw-mountain-ski-resort',\n",
       "       'mt-crescent-ski-area'], dtype=object)"
      ]
     },
     "execution_count": 24,
     "metadata": {},
     "output_type": "execute_result"
    }
   ],
   "source": [
    "cleaned_snow['ski_resort'].unique()"
   ]
  },
  {
   "cell_type": "code",
   "execution_count": 25,
   "metadata": {},
   "outputs": [],
   "source": [
    "#removing words to clean up resort names\n",
    "replace_snow = ['-ski-area', '-', 'resort', 'mt']\n",
    "replace_with = ['', ' ', '', 'mt.']\n",
    "\n",
    "cleaned_snow = cleaned_snow.replace(replace_snow, replace_with, regex=True)"
   ]
  },
  {
   "cell_type": "code",
   "execution_count": 26,
   "metadata": {},
   "outputs": [],
   "source": [
    "#making columns titlecase\n",
    "cleaned_snow['ski_resort'] = cleaned_snow['ski_resort'].str.title()\n",
    "cleaned_snow['state'] = cleaned_snow['state'].str.title()\n",
    "cleaned_snow['ski_resort'] = cleaned_snow['ski_resort'].str.strip()"
   ]
  },
  {
   "cell_type": "code",
   "execution_count": 27,
   "metadata": {},
   "outputs": [],
   "source": [
    "#replacing values to standardize endings/specific resort names\n",
    "replace_snow = ['At', 'Mtn', 'Mt.N', 'Mt. Hood Ski Bowl', 'And', r'\\bMount\\b', 'Mtn.']\n",
    "replace_with = ['at', 'Mountain', 'Mountain', 'Mt. Hood Skibowl', 'and', 'Mt.', 'Mountain']\n",
    "\n",
    "cleaned_snow = cleaned_snow.replace(replace_snow, replace_with, regex=True)"
   ]
  },
  {
   "cell_type": "code",
   "execution_count": 28,
   "metadata": {},
   "outputs": [],
   "source": [
    "cleaned_snow = cleaned_snow.replace(\"Shanty Creek\", \"Schuss Mountain\", regex=True)"
   ]
  },
  {
   "cell_type": "markdown",
   "metadata": {},
   "source": [
    "After inspecting resort names, there were a few resorts that had the same names or very similar names. I adjusted the names, and included the state in the resort names to differentiate the names."
   ]
  },
  {
   "cell_type": "code",
   "execution_count": 29,
   "metadata": {},
   "outputs": [],
   "source": [
    "#timberline\n",
    "cleaned_snow.loc[(cleaned_snow['ski_resort'] == \"Timberline Four Seasons\") & (cleaned_snow['state'] == \"West Virginia\"), 'ski_resort'] = \"Timberline Mountain\"\n",
    "\n",
    "#crystal mountain\n",
    "cleaned_snow.loc[(cleaned_snow['ski_resort'] == \"Crystal Mountain Wa\") & (cleaned_snow['state'] == \"Washington\"), 'ski_resort'] = \"Crystal Mountain Washington\"\n",
    "cleaned_snow.loc[(cleaned_snow['ski_resort'] == \"Crystal Mountain\") & (cleaned_snow['state'] == \"Michigan\"), 'ski_resort'] = \"Crystal Mountain Michigan\"\n",
    "\n",
    "#magic mountain\n",
    "cleaned_snow.loc[(cleaned_snow['ski_resort'] == \"Magic Mountain\") & (cleaned_snow['state'] == \"Vermont\"), 'ski_resort'] = \"Magic Mountain Vermont\"\n",
    "cleaned_snow.loc[(cleaned_snow['ski_resort'] == \"Magic Mountain\") & (cleaned_snow['state'] == \"Idaho\"), 'ski_resort'] = \"Magic Mountain Idaho\""
   ]
  },
  {
   "cell_type": "code",
   "execution_count": 30,
   "metadata": {},
   "outputs": [],
   "source": [
    "mountain_rep = ['Squaw Valley Usa',\n",
    "                'Mccauley Mountain Ski Center', 'attitash', 'Smugglers Notch',\n",
    "               'Pico Mountain at Killington', 'andes Tower Hills']\n",
    "\n",
    "mountain_new = ['Palisades Tahoe',\n",
    "               'McCauley Mountain', 'Attitash', \"Smugglers' Notch\",\n",
    "               'Pico Mountain', 'Andes Tower Hills']\n",
    "\n",
    "cleaned_snow = cleaned_snow.replace(mountain_rep, mountain_new, regex=True)"
   ]
  },
  {
   "cell_type": "markdown",
   "metadata": {},
   "source": [
    "### Data Source #1 - Survey Data"
   ]
  },
  {
   "cell_type": "markdown",
   "metadata": {},
   "source": [
    "A third small dataset was collected through a [google survey]([https://docs.google.com/forms/d/1ROrGEkCh40RjbHidNCqg4SCCbY3_6DFNw0VWIhTEIGs/edit#responses]) I distributed to individuals who ski, including myself.\n",
    "\n",
    "I downloaded the sheets file from google and saved it as a .csv. A few individuals did not include their name, so I gave them unique \"anon\" names.\n",
    "\n",
    "I plan to use the names of three users that I know, to analyze the results from the model to see if they align with the users preferences. For those three users, I also asked that they send me a brief summary of the key characteristics they look for when choosing ski resorts to visit."
   ]
  },
  {
   "cell_type": "code",
   "execution_count": 31,
   "metadata": {},
   "outputs": [],
   "source": [
    "#making columns titlecase\n",
    "survey_df['ski_resort'] = survey_df['ski_resort'].str.title()\n",
    "survey_df['state'] = survey_df['state'].str.title()\n",
    "survey_df['ski_resort'] = survey_df['ski_resort'].str.strip()"
   ]
  },
  {
   "cell_type": "code",
   "execution_count": 32,
   "metadata": {},
   "outputs": [
    {
     "data": {
      "text/plain": [
       "['Alta',\n",
       " 'Arapahoe Basin',\n",
       " 'Aspen Highlands',\n",
       " 'Aspen Snowmass',\n",
       " 'Bear Valley',\n",
       " 'Beaver Creek',\n",
       " 'Beaver Mountain',\n",
       " 'Breckenridge',\n",
       " 'Brighton',\n",
       " 'Cherry Peak',\n",
       " 'Copper Mountain',\n",
       " 'Crested Butte',\n",
       " 'Crystal Mountain - Wa',\n",
       " 'Deer Valley',\n",
       " 'Dodge Ridge',\n",
       " 'Gore Mountain',\n",
       " 'Hunter Mountain',\n",
       " 'Jackson Hole',\n",
       " 'Killington',\n",
       " 'Mammoth Mountain',\n",
       " 'Mccauley Mountain',\n",
       " 'Mt Baker',\n",
       " 'Mt. Rose',\n",
       " 'Nordic Valley',\n",
       " 'Palisades Tahoe',\n",
       " 'Park City Mountain',\n",
       " 'Powder Mountain',\n",
       " 'Roundtop Mountain',\n",
       " 'Snow Ridge',\n",
       " 'Snowbird',\n",
       " 'Solitude',\n",
       " 'Steamboat',\n",
       " \"Steven'S Pass\",\n",
       " 'Stevens Pass',\n",
       " 'Stratton',\n",
       " 'Sugarbush',\n",
       " 'Taos',\n",
       " 'Telluride',\n",
       " 'Vail',\n",
       " 'Winter Park',\n",
       " 'Woods Valley']"
      ]
     },
     "execution_count": 32,
     "metadata": {},
     "output_type": "execute_result"
    }
   ],
   "source": [
    "list(survey_df['ski_resort'].sort_values().unique())"
   ]
  },
  {
   "cell_type": "markdown",
   "metadata": {},
   "source": [
    "Below, I manually parsed through the resort names and changed the names to match the names in the main dataframe."
   ]
  },
  {
   "cell_type": "code",
   "execution_count": 33,
   "metadata": {},
   "outputs": [],
   "source": [
    "mountain_rep = ['Crystal Mountain - Wa',\"Steven'S Pass\",'Stratton',\n",
    "                'Mccauley Mountain', 'Taos',\n",
    "                'Crested Butte', 'Mt. Rose', 'Mt Baker', 'Nordic Valley' ,'Solitude']\n",
    "\n",
    "mountain_rep_p = ['Crystal Mountain Washington', 'Stevens Pass','Stratton Mountain',\n",
    "                 'McCauley Mountain', 'Taos Ski Valley',\n",
    "                 'Crested Butte Mountain', 'Mt. Rose Ski Tahoe', 'Mt. Baker', 'Nordic Mountain', 'Solitude Mountain']\n",
    "\n",
    "survey_df = survey_df.replace(mountain_rep, mountain_rep_p, regex=True)"
   ]
  },
  {
   "cell_type": "code",
   "execution_count": 34,
   "metadata": {},
   "outputs": [],
   "source": [
    "# changing aspen resorts since all four mountains are part of snowmass\n",
    "mountain_r = ['Aspen Mountain', 'Aspen Highlands']\n",
    "\n",
    "survey_df = survey_df.replace(mountain_r, 'Aspen Snowmass', regex=True)"
   ]
  },
  {
   "cell_type": "code",
   "execution_count": 35,
   "metadata": {},
   "outputs": [
    {
     "data": {
      "text/plain": [
       "array(['Cherry Peak'], dtype=object)"
      ]
     },
     "execution_count": 35,
     "metadata": {},
     "output_type": "execute_result"
    }
   ],
   "source": [
    "#checking to see which names are different\n",
    "survey_df.loc[~survey_df['ski_resort'].isin(cleaned_snow['ski_resort']),\n",
    "                         'ski_resort'].unique()"
   ]
  },
  {
   "cell_type": "markdown",
   "metadata": {},
   "source": [
    "### Merging survey and OnTheSnow review data"
   ]
  },
  {
   "cell_type": "code",
   "execution_count": 36,
   "metadata": {},
   "outputs": [],
   "source": [
    "#merging survey review results and final onthesnow reviews\n",
    "final_ski_df = pd.concat([survey_df, cleaned_snow])"
   ]
  },
  {
   "cell_type": "code",
   "execution_count": 37,
   "metadata": {},
   "outputs": [],
   "source": [
    "#dropping null values\n",
    "final_ski_df = final_ski_df.dropna()"
   ]
  },
  {
   "cell_type": "code",
   "execution_count": 38,
   "metadata": {},
   "outputs": [],
   "source": [
    "#dropping duplicates\n",
    "final_ski_df = final_ski_df.drop_duplicates()"
   ]
  },
  {
   "cell_type": "code",
   "execution_count": 39,
   "metadata": {},
   "outputs": [
    {
     "name": "stdout",
     "output_type": "stream",
     "text": [
      "<class 'pandas.core.frame.DataFrame'>\n",
      "Int64Index: 2796 entries, 0 to 18198\n",
      "Data columns (total 6 columns):\n",
      " #   Column       Non-Null Count  Dtype         \n",
      "---  ------       --------------  -----         \n",
      " 0   review_date  2796 non-null   datetime64[ns]\n",
      " 1   state        2796 non-null   object        \n",
      " 2   ski_resort   2796 non-null   object        \n",
      " 3   rating       2796 non-null   int64         \n",
      " 4   review       2796 non-null   object        \n",
      " 5   user_name    2796 non-null   object        \n",
      "dtypes: datetime64[ns](1), int64(1), object(4)\n",
      "memory usage: 152.9+ KB\n"
     ]
    }
   ],
   "source": [
    "final_ski_df.info()"
   ]
  },
  {
   "cell_type": "code",
   "execution_count": 40,
   "metadata": {},
   "outputs": [],
   "source": [
    "#Blackjack ski and Indianhead combined to form Snowriver Mountain Resort\n",
    "blackjack = ['Blackjack Ski', 'Indianhead Mountain']\n",
    "\n",
    "final_ski_df = final_ski_df.replace(blackjack, 'Snowriver Mountain Resort', regex=True)"
   ]
  },
  {
   "cell_type": "code",
   "execution_count": 41,
   "metadata": {},
   "outputs": [],
   "source": [
    "#updating names of resort names that have changed\n",
    "old_name = ['Durango Mountain','Las Vegas Ski and Snowboard','Shawnee Peak', 'Suicide Six', 'Snow Summit']\n",
    "new_name = ['Purgatory Mountain','Lee Canyon','Shawnee Mountain', 'Saskadena Six', 'Big Bear']\n",
    "\n",
    "final_ski_df = final_ski_df.replace(old_name, new_name, regex=True)"
   ]
  },
  {
   "cell_type": "code",
   "execution_count": 42,
   "metadata": {},
   "outputs": [],
   "source": [
    "# making dictionary for replacements to avoid doubling the names\n",
    "replacements = {\n",
    "    'Brandywine': 'Boston Mills and Brandywine',\n",
    "    'Boston Mills': 'Boston Mills and Brandywine'\n",
    "}\n",
    "\n",
    "# replacing\n",
    "final_ski_df['ski_resort'] = final_ski_df['ski_resort'].replace(replacements)"
   ]
  },
  {
   "cell_type": "code",
   "execution_count": 43,
   "metadata": {},
   "outputs": [],
   "source": [
    "#updating duplicate ski resort names and saving as new resort names that include the state names\n",
    "final_ski_df.loc[(final_ski_df['ski_resort'] == \"Crystal Mountain\") & (final_ski_df['state'] == \"Washington\"), 'ski_resort'] = \"Crystal Mountain Washington\"\n",
    "final_ski_df.loc[(final_ski_df['ski_resort'] == \"Crystal Mountain\") & (final_ski_df['state'] == \"Michigan\"), 'ski_resort'] = \"Crystal Mountain Michigan\"\n",
    "final_ski_df.loc[(final_ski_df['ski_resort'] == \"Crystal Mountain \") & (final_ski_df['state'] == \"Michigan\"), 'ski_resort'] = \"Crystal Mountain Michigan\"\n",
    "final_ski_df.loc[(final_ski_df['ski_resort'] == \"Powder Ridge\") & (final_ski_df['state'] == \"Minnesota\"), 'ski_resort'] = \"Powder Ridge Minnesota\"\n",
    "final_ski_df.loc[(final_ski_df['ski_resort'] == \"Powder Ridge\") & (final_ski_df['state'] == \"Connecticut\"), 'ski_resort'] = \"Powder Ridge Connecticut\"\n",
    "\n",
    "#alpine valley\n",
    "final_ski_df.loc[(final_ski_df['ski_resort'] == \"Alpine Valley\") & (final_ski_df['state'] == \"Wisconsin\"), 'ski_resort'] = \"Alpine Valley Wisconsin\"\n",
    "final_ski_df.loc[(final_ski_df['ski_resort'] == \"Alpine Valley\") & (final_ski_df['state'] == \"Ohio\"), 'ski_resort'] = \"Alpine Valley Ohio\""
   ]
  },
  {
   "cell_type": "code",
   "execution_count": 44,
   "metadata": {},
   "outputs": [],
   "source": [
    "final_ski_df.replace(\"Ski Mystic at Deer Mountain\", \"Deer Mountain\", regex=True, inplace=True)"
   ]
  },
  {
   "cell_type": "code",
   "execution_count": 45,
   "metadata": {},
   "outputs": [],
   "source": [
    "final_ski_df.replace(\"Sno Mountain\", \"Montage Mountain\", regex=True, inplace=True)"
   ]
  },
  {
   "cell_type": "code",
   "execution_count": 46,
   "metadata": {},
   "outputs": [],
   "source": [
    "final_ski_df.replace(\" Ski Recreation Area\", \"\", regex=True, inplace=True)"
   ]
  },
  {
   "cell_type": "code",
   "execution_count": 47,
   "metadata": {},
   "outputs": [],
   "source": [
    "final_ski_df.replace(\"Winter Sports Park\", \"\", regex=True, inplace=True)"
   ]
  },
  {
   "cell_type": "code",
   "execution_count": 48,
   "metadata": {},
   "outputs": [],
   "source": [
    "final_ski_df.replace(\"The\", \"\", regex=True, inplace=True)"
   ]
  },
  {
   "cell_type": "code",
   "execution_count": 49,
   "metadata": {},
   "outputs": [],
   "source": [
    "final_ski_df.replace(\"Snowboard Area\", \"\", regex=True, inplace=True)"
   ]
  },
  {
   "cell_type": "code",
   "execution_count": 50,
   "metadata": {},
   "outputs": [],
   "source": [
    "final_ski_df['ski_resort'] = final_ski_df['ski_resort'].str.strip()"
   ]
  },
  {
   "cell_type": "code",
   "execution_count": 51,
   "metadata": {},
   "outputs": [],
   "source": [
    "#dropping Cherry Peak\n",
    "final_ski_df = final_ski_df.loc[(final_ski_df['ski_resort'] != \"Cherry Peak\")]"
   ]
  },
  {
   "cell_type": "code",
   "execution_count": 52,
   "metadata": {},
   "outputs": [],
   "source": [
    "#exporting final cleaned dataframe for OnTheSnow scrape\n",
    "#final_ski_df.to_csv(\"cleaned_data_exports/final_review_df_final.csv\")"
   ]
  },
  {
   "cell_type": "markdown",
   "metadata": {},
   "source": [
    "### Data Source #3 - OnTheSnow Scrape\n"
   ]
  },
  {
   "cell_type": "markdown",
   "metadata": {},
   "source": [
    "I scraped OnTheShow to pull current ski resort features for the resorts in the final merged datset. The code for this scrape was adapted from a [user on github] [(https://github.com/SijiaLai/OnTheSnow/tree/master)] and updated based on html changes and the features I wanted to pull.\n",
    "\n",
    "The code for the scraper can be found in the data folder.\n",
    "\n",
    "\n",
    "The main features I scraped:\n",
    "\n",
    "- mountain elevation\n",
    "- ticket price\n",
    "- mountain location\n",
    "- ski terrain\n",
    "- snowfall averages"
   ]
  },
  {
   "cell_type": "code",
   "execution_count": 124,
   "metadata": {},
   "outputs": [],
   "source": [
    "scraped_df_2_2 = pd.read_csv(\"data/OnTheSnow_Scrape_2_820523.csv\")\n"
   ]
  },
  {
   "cell_type": "code",
   "execution_count": 125,
   "metadata": {},
   "outputs": [
    {
     "data": {
      "text/html": [
       "<div>\n",
       "<style scoped>\n",
       "    .dataframe tbody tr th:only-of-type {\n",
       "        vertical-align: middle;\n",
       "    }\n",
       "\n",
       "    .dataframe tbody tr th {\n",
       "        vertical-align: top;\n",
       "    }\n",
       "\n",
       "    .dataframe thead th {\n",
       "        text-align: right;\n",
       "    }\n",
       "</style>\n",
       "<table border=\"1\" class=\"dataframe\">\n",
       "  <thead>\n",
       "    <tr style=\"text-align: right;\">\n",
       "      <th></th>\n",
       "      <th>ski_resort</th>\n",
       "      <th>address</th>\n",
       "      <th>city</th>\n",
       "      <th>state</th>\n",
       "      <th>country</th>\n",
       "      <th>summit</th>\n",
       "      <th>drop</th>\n",
       "      <th>base</th>\n",
       "      <th>gondolas_and_trams</th>\n",
       "      <th>fast_eight</th>\n",
       "      <th>...</th>\n",
       "      <th>teenagerPrice_season</th>\n",
       "      <th>adultPrice_season</th>\n",
       "      <th>seniorPrice_season</th>\n",
       "      <th>Url</th>\n",
       "      <th>gondolas_lifts_note</th>\n",
       "      <th>beginner_runs</th>\n",
       "      <th>intermediate_runs</th>\n",
       "      <th>advanced_runs</th>\n",
       "      <th>expert_runs</th>\n",
       "      <th>night_skiing</th>\n",
       "    </tr>\n",
       "  </thead>\n",
       "  <tbody>\n",
       "    <tr>\n",
       "      <th>0</th>\n",
       "      <td>Palisades Tahoe</td>\n",
       "      <td>PO Box 2007</td>\n",
       "      <td>96146 Olympic Valley</td>\n",
       "      <td>California</td>\n",
       "      <td>United States</td>\n",
       "      <td>9050</td>\n",
       "      <td>2850</td>\n",
       "      <td>6200</td>\n",
       "      <td>3.0</td>\n",
       "      <td>6.0</td>\n",
       "      <td>...</td>\n",
       "      <td>879.00</td>\n",
       "      <td>1,179.00</td>\n",
       "      <td>NaN</td>\n",
       "      <td>https://www.onthesnow.com/california/squaw-val...</td>\n",
       "      <td>NaN</td>\n",
       "      <td>NaN</td>\n",
       "      <td>NaN</td>\n",
       "      <td>NaN</td>\n",
       "      <td>NaN</td>\n",
       "      <td>NaN</td>\n",
       "    </tr>\n",
       "    <tr>\n",
       "      <th>1</th>\n",
       "      <td>Mammoth</td>\n",
       "      <td>P.O. Box 24</td>\n",
       "      <td>93546 Mammoth Lakes</td>\n",
       "      <td>California</td>\n",
       "      <td>United States</td>\n",
       "      <td>11053</td>\n",
       "      <td>3100</td>\n",
       "      <td>7953</td>\n",
       "      <td>3.0</td>\n",
       "      <td>9.0</td>\n",
       "      <td>...</td>\n",
       "      <td>879.00</td>\n",
       "      <td>1,179.00</td>\n",
       "      <td>NaN</td>\n",
       "      <td>https://www.onthesnow.com/california/mammoth-m...</td>\n",
       "      <td>Check gondola information.</td>\n",
       "      <td>15%</td>\n",
       "      <td>48%</td>\n",
       "      <td>24%</td>\n",
       "      <td>13%</td>\n",
       "      <td>NaN</td>\n",
       "    </tr>\n",
       "    <tr>\n",
       "      <th>2</th>\n",
       "      <td>Donner Ski Ranch</td>\n",
       "      <td>P.O. Box 66</td>\n",
       "      <td>95724 Norden</td>\n",
       "      <td>California</td>\n",
       "      <td>United States</td>\n",
       "      <td>8012</td>\n",
       "      <td>750</td>\n",
       "      <td>7031</td>\n",
       "      <td>NaN</td>\n",
       "      <td>NaN</td>\n",
       "      <td>...</td>\n",
       "      <td>449.00</td>\n",
       "      <td>499.00</td>\n",
       "      <td>449.00</td>\n",
       "      <td>https://www.onthesnow.com/california/donner-sk...</td>\n",
       "      <td>NaN</td>\n",
       "      <td>31%</td>\n",
       "      <td>38%</td>\n",
       "      <td>21%</td>\n",
       "      <td>10%</td>\n",
       "      <td>NaN</td>\n",
       "    </tr>\n",
       "    <tr>\n",
       "      <th>3</th>\n",
       "      <td>Sugar Bowl</td>\n",
       "      <td>P.O. Box 5</td>\n",
       "      <td>95724 Norden</td>\n",
       "      <td>California</td>\n",
       "      <td>United States</td>\n",
       "      <td>8383</td>\n",
       "      <td>1500</td>\n",
       "      <td>6883</td>\n",
       "      <td>1.0</td>\n",
       "      <td>5.0</td>\n",
       "      <td>...</td>\n",
       "      <td>889.00</td>\n",
       "      <td>1,119.00</td>\n",
       "      <td>889.00</td>\n",
       "      <td>https://www.onthesnow.com/california/sugar-bow...</td>\n",
       "      <td>NaN</td>\n",
       "      <td>15%</td>\n",
       "      <td>45%</td>\n",
       "      <td>28%</td>\n",
       "      <td>12%</td>\n",
       "      <td>NaN</td>\n",
       "    </tr>\n",
       "    <tr>\n",
       "      <th>4</th>\n",
       "      <td>Kirkwood</td>\n",
       "      <td>PO Box 1</td>\n",
       "      <td>95646 Kirkwood</td>\n",
       "      <td>California</td>\n",
       "      <td>United States</td>\n",
       "      <td>9800</td>\n",
       "      <td>2000</td>\n",
       "      <td>7800</td>\n",
       "      <td>NaN</td>\n",
       "      <td>2.0</td>\n",
       "      <td>...</td>\n",
       "      <td>429.00</td>\n",
       "      <td>545.00</td>\n",
       "      <td>437.00</td>\n",
       "      <td>https://www.onthesnow.com/california/kirkwood/...</td>\n",
       "      <td>NaN</td>\n",
       "      <td>NaN</td>\n",
       "      <td>NaN</td>\n",
       "      <td>NaN</td>\n",
       "      <td>NaN</td>\n",
       "      <td>NaN</td>\n",
       "    </tr>\n",
       "    <tr>\n",
       "      <th>...</th>\n",
       "      <td>...</td>\n",
       "      <td>...</td>\n",
       "      <td>...</td>\n",
       "      <td>...</td>\n",
       "      <td>...</td>\n",
       "      <td>...</td>\n",
       "      <td>...</td>\n",
       "      <td>...</td>\n",
       "      <td>...</td>\n",
       "      <td>...</td>\n",
       "      <td>...</td>\n",
       "      <td>...</td>\n",
       "      <td>...</td>\n",
       "      <td>...</td>\n",
       "      <td>...</td>\n",
       "      <td>...</td>\n",
       "      <td>...</td>\n",
       "      <td>...</td>\n",
       "      <td>...</td>\n",
       "      <td>...</td>\n",
       "      <td>...</td>\n",
       "    </tr>\n",
       "    <tr>\n",
       "      <th>326</th>\n",
       "      <td>Oak Mountain</td>\n",
       "      <td>141 Novosel Way</td>\n",
       "      <td>12164 Speculator</td>\n",
       "      <td>NY</td>\n",
       "      <td>United States</td>\n",
       "      <td>2400</td>\n",
       "      <td>650</td>\n",
       "      <td>1750</td>\n",
       "      <td>NaN</td>\n",
       "      <td>NaN</td>\n",
       "      <td>...</td>\n",
       "      <td>315.00</td>\n",
       "      <td>415.00</td>\n",
       "      <td>315.00</td>\n",
       "      <td>https://www.onthesnow.com/new-york/oak-mountai...</td>\n",
       "      <td>NaN</td>\n",
       "      <td>45%</td>\n",
       "      <td>27%</td>\n",
       "      <td>18%</td>\n",
       "      <td>9%</td>\n",
       "      <td>12 ac</td>\n",
       "    </tr>\n",
       "    <tr>\n",
       "      <th>327</th>\n",
       "      <td>Mount Pleasant</td>\n",
       "      <td>23301 Plank Rd</td>\n",
       "      <td>16403  Venango</td>\n",
       "      <td>Pa 16440</td>\n",
       "      <td>United States</td>\n",
       "      <td>1540</td>\n",
       "      <td>340</td>\n",
       "      <td>1200</td>\n",
       "      <td>NaN</td>\n",
       "      <td>NaN</td>\n",
       "      <td>...</td>\n",
       "      <td>NaN</td>\n",
       "      <td>350.00</td>\n",
       "      <td>NaN</td>\n",
       "      <td>https://www.onthesnow.com/pennsylvania/mount-p...</td>\n",
       "      <td>NaN</td>\n",
       "      <td>22%</td>\n",
       "      <td>56%</td>\n",
       "      <td>22%</td>\n",
       "      <td>NaN</td>\n",
       "      <td>35 ac</td>\n",
       "    </tr>\n",
       "    <tr>\n",
       "      <th>328</th>\n",
       "      <td>Hunt Hollow</td>\n",
       "      <td>7532 County Road 36</td>\n",
       "      <td>14512 Naples</td>\n",
       "      <td>New York</td>\n",
       "      <td>United States</td>\n",
       "      <td>2030</td>\n",
       "      <td>825</td>\n",
       "      <td>1000</td>\n",
       "      <td>NaN</td>\n",
       "      <td>NaN</td>\n",
       "      <td>...</td>\n",
       "      <td>NaN</td>\n",
       "      <td>NaN</td>\n",
       "      <td>NaN</td>\n",
       "      <td>https://www.onthesnow.com/new-york/hunt-hollow...</td>\n",
       "      <td>NaN</td>\n",
       "      <td>32%</td>\n",
       "      <td>21%</td>\n",
       "      <td>37%</td>\n",
       "      <td>11%</td>\n",
       "      <td>400 ac</td>\n",
       "    </tr>\n",
       "    <tr>\n",
       "      <th>329</th>\n",
       "      <td>Powder Ridge</td>\n",
       "      <td>99 Powder Hill Road</td>\n",
       "      <td>06455 Middlefield</td>\n",
       "      <td>Connecticut</td>\n",
       "      <td>United States</td>\n",
       "      <td>720</td>\n",
       "      <td>550</td>\n",
       "      <td>170</td>\n",
       "      <td>NaN</td>\n",
       "      <td>NaN</td>\n",
       "      <td>...</td>\n",
       "      <td>520.00</td>\n",
       "      <td>570.00</td>\n",
       "      <td>520.00</td>\n",
       "      <td>https://www.onthesnow.com/connecticut/powder-r...</td>\n",
       "      <td>NaN</td>\n",
       "      <td>45%</td>\n",
       "      <td>40%</td>\n",
       "      <td>15%</td>\n",
       "      <td>NaN</td>\n",
       "      <td>40 ac</td>\n",
       "    </tr>\n",
       "    <tr>\n",
       "      <th>330</th>\n",
       "      <td>Shawnee Mountain</td>\n",
       "      <td>P.O. Box 339</td>\n",
       "      <td>18356-0339 Shawnee on Delaware</td>\n",
       "      <td>Pennsylvania</td>\n",
       "      <td>United States</td>\n",
       "      <td>1350</td>\n",
       "      <td>700</td>\n",
       "      <td>650</td>\n",
       "      <td>NaN</td>\n",
       "      <td>1.0</td>\n",
       "      <td>...</td>\n",
       "      <td>NaN</td>\n",
       "      <td>NaN</td>\n",
       "      <td>NaN</td>\n",
       "      <td>https://www.onthesnow.com/pennsylvania/shawnee...</td>\n",
       "      <td>NaN</td>\n",
       "      <td>43%</td>\n",
       "      <td>30%</td>\n",
       "      <td>26%</td>\n",
       "      <td>NaN</td>\n",
       "      <td>120 ac</td>\n",
       "    </tr>\n",
       "  </tbody>\n",
       "</table>\n",
       "<p>331 rows × 61 columns</p>\n",
       "</div>"
      ],
      "text/plain": [
       "           ski_resort              address                            city  \\\n",
       "0     Palisades Tahoe          PO Box 2007            96146 Olympic Valley   \n",
       "1             Mammoth          P.O. Box 24             93546 Mammoth Lakes   \n",
       "2    Donner Ski Ranch          P.O. Box 66                    95724 Norden   \n",
       "3          Sugar Bowl           P.O. Box 5                    95724 Norden   \n",
       "4            Kirkwood             PO Box 1                  95646 Kirkwood   \n",
       "..                ...                  ...                             ...   \n",
       "326      Oak Mountain      141 Novosel Way                12164 Speculator   \n",
       "327    Mount Pleasant      23301 Plank Rd                   16403  Venango   \n",
       "328       Hunt Hollow  7532 County Road 36                    14512 Naples   \n",
       "329      Powder Ridge  99 Powder Hill Road               06455 Middlefield   \n",
       "330  Shawnee Mountain         P.O. Box 339  18356-0339 Shawnee on Delaware   \n",
       "\n",
       "            state        country  summit  drop  base  gondolas_and_trams  \\\n",
       "0      California  United States    9050  2850  6200                 3.0   \n",
       "1      California  United States   11053  3100  7953                 3.0   \n",
       "2      California  United States    8012   750  7031                 NaN   \n",
       "3      California  United States    8383  1500  6883                 1.0   \n",
       "4      California  United States    9800  2000  7800                 NaN   \n",
       "..            ...            ...     ...   ...   ...                 ...   \n",
       "326            NY  United States    2400   650  1750                 NaN   \n",
       "327      Pa 16440  United States    1540   340  1200                 NaN   \n",
       "328      New York  United States    2030   825  1000                 NaN   \n",
       "329   Connecticut  United States     720   550   170                 NaN   \n",
       "330  Pennsylvania  United States    1350   700   650                 NaN   \n",
       "\n",
       "     fast_eight  ...  teenagerPrice_season  adultPrice_season  \\\n",
       "0           6.0  ...                879.00           1,179.00   \n",
       "1           9.0  ...                879.00           1,179.00   \n",
       "2           NaN  ...                449.00             499.00   \n",
       "3           5.0  ...                889.00           1,119.00   \n",
       "4           2.0  ...                429.00             545.00   \n",
       "..          ...  ...                   ...                ...   \n",
       "326         NaN  ...                315.00             415.00   \n",
       "327         NaN  ...                   NaN             350.00   \n",
       "328         NaN  ...                   NaN                NaN   \n",
       "329         NaN  ...                520.00             570.00   \n",
       "330         1.0  ...                   NaN                NaN   \n",
       "\n",
       "     seniorPrice_season                                                Url  \\\n",
       "0                   NaN  https://www.onthesnow.com/california/squaw-val...   \n",
       "1                   NaN  https://www.onthesnow.com/california/mammoth-m...   \n",
       "2                449.00  https://www.onthesnow.com/california/donner-sk...   \n",
       "3                889.00  https://www.onthesnow.com/california/sugar-bow...   \n",
       "4                437.00  https://www.onthesnow.com/california/kirkwood/...   \n",
       "..                  ...                                                ...   \n",
       "326              315.00  https://www.onthesnow.com/new-york/oak-mountai...   \n",
       "327                 NaN  https://www.onthesnow.com/pennsylvania/mount-p...   \n",
       "328                 NaN  https://www.onthesnow.com/new-york/hunt-hollow...   \n",
       "329              520.00  https://www.onthesnow.com/connecticut/powder-r...   \n",
       "330                 NaN  https://www.onthesnow.com/pennsylvania/shawnee...   \n",
       "\n",
       "            gondolas_lifts_note  beginner_runs intermediate_runs  \\\n",
       "0                           NaN            NaN               NaN   \n",
       "1    Check gondola information.            15%               48%   \n",
       "2                           NaN            31%               38%   \n",
       "3                           NaN            15%               45%   \n",
       "4                           NaN            NaN               NaN   \n",
       "..                          ...            ...               ...   \n",
       "326                         NaN            45%               27%   \n",
       "327                         NaN            22%               56%   \n",
       "328                         NaN            32%               21%   \n",
       "329                         NaN            45%               40%   \n",
       "330                         NaN            43%               30%   \n",
       "\n",
       "    advanced_runs expert_runs night_skiing  \n",
       "0             NaN         NaN          NaN  \n",
       "1             24%         13%          NaN  \n",
       "2             21%         10%          NaN  \n",
       "3             28%         12%          NaN  \n",
       "4             NaN         NaN          NaN  \n",
       "..            ...         ...          ...  \n",
       "326           18%          9%        12 ac  \n",
       "327           22%         NaN        35 ac  \n",
       "328           37%         11%       400 ac  \n",
       "329           15%         NaN        40 ac  \n",
       "330           26%         NaN       120 ac  \n",
       "\n",
       "[331 rows x 61 columns]"
      ]
     },
     "execution_count": 125,
     "metadata": {},
     "output_type": "execute_result"
    }
   ],
   "source": [
    "scraped_df_2_2"
   ]
  },
  {
   "cell_type": "code",
   "execution_count": 53,
   "metadata": {},
   "outputs": [
    {
     "name": "stdout",
     "output_type": "stream",
     "text": [
      "<class 'pandas.core.frame.DataFrame'>\n",
      "RangeIndex: 331 entries, 0 to 330\n",
      "Data columns (total 61 columns):\n",
      " #   Column                Non-Null Count  Dtype  \n",
      "---  ------                --------------  -----  \n",
      " 0   ski_resort            331 non-null    object \n",
      " 1   address               331 non-null    object \n",
      " 2   city                  331 non-null    object \n",
      " 3   state                 331 non-null    object \n",
      " 4   country               331 non-null    object \n",
      " 5   summit                331 non-null    int64  \n",
      " 6   drop                  331 non-null    int64  \n",
      " 7   base                  331 non-null    int64  \n",
      " 8   gondolas_and_trams    40 non-null     float64\n",
      " 9   fast_eight            110 non-null    float64\n",
      " 10  high_speed_sixes      41 non-null     float64\n",
      " 11  quad_chairs           163 non-null    float64\n",
      " 12  triple_chairs         224 non-null    float64\n",
      " 13  double_chairs         239 non-null    float64\n",
      " 14  surface_lifts         309 non-null    float64\n",
      " 15  total_runs            331 non-null    float64\n",
      " 16  longest_run           327 non-null    object \n",
      " 17  skiable_terrain       328 non-null    object \n",
      " 18  snow_making           285 non-null    object \n",
      " 19  terrain_note          192 non-null    object \n",
      " 20  daysOpenLastYear      331 non-null    object \n",
      " 21  averageSnowfall       331 non-null    object \n",
      " 22  projectedOpening      331 non-null    object \n",
      " 23  projectedClosing      331 non-null    object \n",
      " 24  nov_snow              331 non-null    object \n",
      " 25  dec_snow              327 non-null    object \n",
      " 26  jan_snow              330 non-null    object \n",
      " 27  feb_snow              331 non-null    object \n",
      " 28  mar_snow              328 non-null    object \n",
      " 29  apr_snow              254 non-null    object \n",
      " 30  may_snow              164 non-null    object \n",
      " 31  childrenWeekdayPrice  219 non-null    float64\n",
      " 32  childrenWeekendPrice  220 non-null    float64\n",
      " 33  children2DayPrice     44 non-null     float64\n",
      " 34  children6DayPrice     18 non-null     float64\n",
      " 35  teenagerWeekdayPrice  243 non-null    float64\n",
      " 36  teenagerWeekendPrice  246 non-null    object \n",
      " 37  teenagerHalfDayPrice  98 non-null     float64\n",
      " 38  teenager2DayPrice     44 non-null     float64\n",
      " 39  teenager6DayPrice     12 non-null     object \n",
      " 40  adultWeekdayPrice     277 non-null    float64\n",
      " 41  adultWeekendPrice     280 non-null    float64\n",
      " 42  adultHalfDayPrice     114 non-null    float64\n",
      " 43  adult2DayPrice        51 non-null     float64\n",
      " 44  adult6DayPrice        19 non-null     object \n",
      " 45  seniorWeekdayPrice    236 non-null    float64\n",
      " 46  seniorWeekendPrice    237 non-null    float64\n",
      " 47  seniorHalfDayPrice    96 non-null     float64\n",
      " 48  senior2DayPrice       45 non-null     float64\n",
      " 49  senior6DayPrice       18 non-null     object \n",
      " 50  childrenPrice_season  233 non-null    object \n",
      " 51  teenagerPrice_season  233 non-null    object \n",
      " 52  adultPrice_season     303 non-null    object \n",
      " 53  seniorPrice_season    211 non-null    object \n",
      " 54  Url                   331 non-null    object \n",
      " 55  gondolas_lifts_note   22 non-null     object \n",
      " 56  beginner_runs         216 non-null    object \n",
      " 57  intermediate_runs     217 non-null    object \n",
      " 58  advanced_runs         208 non-null    object \n",
      " 59  expert_runs           139 non-null    object \n",
      " 60  night_skiing          182 non-null    object \n",
      "dtypes: float64(23), int64(3), object(35)\n",
      "memory usage: 157.9+ KB\n"
     ]
    }
   ],
   "source": [
    "scraped_df = pd.read_csv(\"data/OnTheSnow_Scrape_2_820523.csv\")\n",
    "scraped_df.info()"
   ]
  },
  {
   "cell_type": "code",
   "execution_count": 57,
   "metadata": {},
   "outputs": [
    {
     "data": {
      "text/plain": [
       "array(['California', 'Nevada', 'Colorado', 'Washington', 'Utah', 'Oregon',\n",
       "       'Alaska', 'Idaho', 'North Carolina', 'Wyoming', 'Arizona',\n",
       "       'Minnesota', 'New Mexico', 'Montana', 'Michigan', 'Vermont',\n",
       "       'Wisconsin', 'New Hampshire', 'New Jersey', 'Massachusetts',\n",
       "       'Pennsylvania', 'New York', 'Iowa', 'Maine', 'West Virginia',\n",
       "       'Illinois', 'Ohio', 'Virginia', 'Missouri', 'Connecticut',\n",
       "       'Tennessee', 'Indiana', 'South Dakota', 'Maryland', 'Rhode Island'],\n",
       "      dtype=object)"
      ]
     },
     "execution_count": 57,
     "metadata": {},
     "output_type": "execute_result"
    }
   ],
   "source": [
    "scraped_df['state'].unique()"
   ]
  },
  {
   "cell_type": "code",
   "execution_count": 55,
   "metadata": {},
   "outputs": [],
   "source": [
    "state_rep = ['WI  54819', 'NV 89131', 'ID 83873', 'Pa 16440', 'NY', 'CO', 'CA 96160', 'PA 16625', 'Az']\n",
    "state_with = [\"Wisconsin\", \"Nevada\", \"Idaho\", \"Pennsylvania\", \"New York\", \"Colorado\", \"California\", \"Pennsylvania\",\n",
    "             \"Arizona\"]\n",
    "\n",
    "scraped_df.replace(state_rep, state_with, regex=True, inplace=True)"
   ]
  },
  {
   "cell_type": "code",
   "execution_count": 56,
   "metadata": {},
   "outputs": [
    {
     "data": {
      "text/plain": [
       "teenager6DayPrice       319\n",
       "children6DayPrice       313\n",
       "senior6DayPrice         313\n",
       "adult6DayPrice          312\n",
       "gondolas_lifts_note     309\n",
       "gondolas_and_trams      291\n",
       "high_speed_sixes        290\n",
       "teenager2DayPrice       287\n",
       "children2DayPrice       287\n",
       "senior2DayPrice         286\n",
       "adult2DayPrice          280\n",
       "seniorHalfDayPrice      235\n",
       "teenagerHalfDayPrice    233\n",
       "fast_eight              221\n",
       "adultHalfDayPrice       217\n",
       "expert_runs             192\n",
       "quad_chairs             168\n",
       "may_snow                167\n",
       "night_skiing            149\n",
       "terrain_note            139\n",
       "advanced_runs           123\n",
       "seniorPrice_season      120\n",
       "beginner_runs           115\n",
       "intermediate_runs       114\n",
       "childrenWeekdayPrice    112\n",
       "childrenWeekendPrice    111\n",
       "triple_chairs           107\n",
       "childrenPrice_season     98\n",
       "teenagerPrice_season     98\n",
       "seniorWeekdayPrice       95\n",
       "seniorWeekendPrice       94\n",
       "double_chairs            92\n",
       "teenagerWeekdayPrice     88\n",
       "teenagerWeekendPrice     85\n",
       "apr_snow                 77\n",
       "dtype: int64"
      ]
     },
     "execution_count": 56,
     "metadata": {},
     "output_type": "execute_result"
    }
   ],
   "source": [
    "scraped_df.isna().sum().sort_values(ascending=False).head(35)"
   ]
  },
  {
   "cell_type": "code",
   "execution_count": 165,
   "metadata": {},
   "outputs": [
    {
     "data": {
      "text/plain": [
       "teenager6DayPrice       319\n",
       "children6DayPrice       313\n",
       "senior6DayPrice         313\n",
       "adult6DayPrice          312\n",
       "gondolas_lifts_note     309\n",
       "gondolas_and_trams      291\n",
       "high_speed_sixes        290\n",
       "teenager2DayPrice       287\n",
       "children2DayPrice       287\n",
       "senior2DayPrice         286\n",
       "adult2DayPrice          280\n",
       "seniorHalfDayPrice      235\n",
       "teenagerHalfDayPrice    233\n",
       "fast_eight              221\n",
       "adultHalfDayPrice       217\n",
       "expert_runs             192\n",
       "quad_chairs             168\n",
       "may_snow                167\n",
       "night_skiing            149\n",
       "terrain_note            139\n",
       "advanced_runs           123\n",
       "seniorPrice_season      120\n",
       "beginner_runs           115\n",
       "intermediate_runs       114\n",
       "childrenWeekdayPrice    112\n",
       "childrenWeekendPrice    111\n",
       "triple_chairs           107\n",
       "childrenPrice_season     98\n",
       "teenagerPrice_season     98\n",
       "seniorWeekdayPrice       95\n",
       "seniorWeekendPrice       94\n",
       "double_chairs            92\n",
       "teenagerWeekdayPrice     88\n",
       "teenagerWeekendPrice     85\n",
       "apr_snow                 77\n",
       "dtype: int64"
      ]
     },
     "execution_count": 165,
     "metadata": {},
     "output_type": "execute_result"
    }
   ],
   "source": [
    "scraped_df.isna().sum().sort_values(ascending=False).head(35)"
   ]
  },
  {
   "cell_type": "code",
   "execution_count": 58,
   "metadata": {},
   "outputs": [],
   "source": [
    "#dropping null values\n",
    "scraped_df.drop(columns=['gondolas_lifts_note', 'terrain_note','country','teenager6DayPrice',\n",
    "                                     'children6DayPrice', 'senior6DayPrice', 'adult6DayPrice',\n",
    "                                     'gondolas_lifts_note', 'teenager2DayPrice', 'children2DayPrice',\n",
    "                                     'senior2DayPrice', 'adult2DayPrice', 'seniorHalfDayPrice',\n",
    "                                     'teenagerHalfDayPrice', 'adultHalfDayPrice',\n",
    "                                     'adultHalfDayPrice', 'terrain_note', 'may_snow',\n",
    "                         'seniorPrice_season'], inplace=True)"
   ]
  },
  {
   "cell_type": "code",
   "execution_count": 59,
   "metadata": {},
   "outputs": [],
   "source": [
    "#filling null with 0\n",
    "fill_list = [\"gondolas_and_trams\", \"high_speed_sixes\", \"expert_runs\", \"quad_chairs\", \"night_skiing\",\n",
    "            \"beginner_runs\", \"advanced_runs\", \"intermediate_runs\", \"triple_chairs\", \"double_chairs\", \"apr_snow\",\n",
    "            \"snow_making\", \"surface_lifts\", \"dec_snow\", \"longest_run\", \"skiable_terrain\", \"mar_snow\", \"apr_snow\", \"jan_snow\",\n",
    "            \"fast_eight\"]\n",
    "\n",
    "for x in fill_list:\n",
    "\n",
    "    scraped_df[x] = scraped_df[x].fillna(0)"
   ]
  },
  {
   "cell_type": "code",
   "execution_count": 60,
   "metadata": {},
   "outputs": [],
   "source": [
    "fill_list = [\"childrenWeekdayPrice\", \"childrenWeekendPrice\", \"teenagerPrice_season\", \"childrenPrice_season\",\n",
    "            \"seniorWeekdayPrice\", \"seniorWeekendPrice\", \"teenagerWeekdayPrice\", \"teenagerWeekendPrice\",\n",
    "            \"adultWeekdayPrice\", \"adultWeekendPrice\", \"adultPrice_season\"]\n",
    "\n",
    "for x in fill_list:\n",
    "    scraped_df[x] = scraped_df[x].fillna(\"See ski resort website\")"
   ]
  },
  {
   "cell_type": "code",
   "execution_count": 61,
   "metadata": {},
   "outputs": [],
   "source": [
    "#splitting the city into zipcode and city column\n",
    "scraped_df[['zipcode', 'city']] = scraped_df['city'].str.split(' ', 1, expand=True)"
   ]
  },
  {
   "cell_type": "code",
   "execution_count": 62,
   "metadata": {},
   "outputs": [],
   "source": [
    "#changing location of zipcode so it is placed next to city\n",
    "column_to_move = scraped_df.pop(\"zipcode\")\n",
    "\n",
    "# moving zipcode after state\n",
    "scraped_df.insert(4, \"zipcode\", column_to_move )"
   ]
  },
  {
   "cell_type": "code",
   "execution_count": 63,
   "metadata": {},
   "outputs": [],
   "source": [
    "replace_list = [\"beginner_runs\", \"intermediate_runs\", \"advanced_runs\", \"expert_runs\", \"night_skiing\",\n",
    "               \"seniorWeekendPrice\", \"childrenPrice_season\", \"teenagerPrice_season\", \"adultPrice_season\",\n",
    "               \"longest_run\", \"skiable_terrain\", \"snow_making\", \"averageSnowfall\", \"nov_snow\", \"dec_snow\",\n",
    "               \"jan_snow\", \"feb_snow\", \"mar_snow\", \"apr_snow\",\"adultPrice_season\",\n",
    "               \"childrenWeekdayPrice\", \"childrenWeekendPrice\", \"teenagerWeekdayPrice\",\"teenagerWeekendPrice\",\n",
    "                \"adultWeekdayPrice\",\"adultWeekendPrice\",\"seniorWeekdayPrice\", \"seniorWeekendPrice\",\n",
    "                \"childrenPrice_season\", \"teenagerPrice_season\",\"adultPrice_season\"]\n",
    "                \n",
    "for x in replace_list:\n",
    "\n",
    "    scraped_df[x] = scraped_df[x].replace(r'[^0-9]', '', regex=True)"
   ]
  },
  {
   "cell_type": "code",
   "execution_count": 64,
   "metadata": {},
   "outputs": [
    {
     "data": {
      "text/plain": [
       "array(['49 Degrees North', 'Alpine Valley Ohio',\n",
       "       'Alpine Valley Wisconsin', 'Anthony Lakes Mountain',\n",
       "       'Appalachian Ski Mountain', 'Badger Pass', 'Bear Creek Mountain',\n",
       "       'Big Powderhorn Mountain', 'Big Squaw Mountain Ski', 'Boreal',\n",
       "       'Boston Mills and Brandywine', 'Boyne Highlands',\n",
       "       'Brantling Ski Slopes', 'Bromley Mountain', 'Bryce',\n",
       "       'Caberfae Peaks Ski Golf', 'Camelback Mountain',\n",
       "       'Catamount Ski Ride Area', 'Coffee Mill Ski Snowboard',\n",
       "       'Crested Butte Mountain', 'Crystal Mountain Michigan',\n",
       "       'Crystal Mountain Washington', 'Discovery', 'Eldora Mountain',\n",
       "       'Elk Mountain Ski', 'Heavenly Mountain', 'Hogadon', 'Holimont',\n",
       "       'Lost Trail Powder Mountain', 'Lutsen Mountains',\n",
       "       'Mad River Mountain', 'Magic Mountain Idaho',\n",
       "       'Magic Mountain Vermont', 'Mammoth Mountain', 'Marquette Mountain',\n",
       "       'Monarch Mountain', 'Mt. Abram Ski', 'Mt. Holly', 'Mt. Peter',\n",
       "       'Mt. Rose Ski Tahoe', 'Mt. Shasta Board Ski Park', 'Mt. Snow',\n",
       "       'Mt. Southington', 'Mt. Sunapee', 'New Hermon Mountain',\n",
       "       'Ober Gatlinburg Ski', 'Okemo Mountain', 'Pajarito Mountain',\n",
       "       'Park City Mountain', 'Peekn Peak', 'Plattekill Mountain',\n",
       "       'Pomerelle Mountain', 'Powder Ridge Minnesota',\n",
       "       'Purgatory Mountain', 'Roundtop Mountain', 'Sierra at Tahoe',\n",
       "       'Silverton Mountain', 'Sipapu Ski and Summer',\n",
       "       'Ski Beech Mountain', 'Ski China Peak', 'Ski Cooper',\n",
       "       'Snowriver Mountain Resort', 'Snowshoe Mountain',\n",
       "       'Solitude Mountain', 'Stowe Mountain', 'Stratton Mountain',\n",
       "       'Tamarack', 'Taos Ski Valley', 'Timberline Mountain',\n",
       "       'Toggenburg Mountain', 'Wachusett Mountain', 'Whitecap Mountain',\n",
       "       'Whiteface Mountain', 'Whitefish Mountain', 'Wild Mountain Ski',\n",
       "       'Wildcat Mountain', 'Winterplace Ski', 'Wolf Ridge Ski'],\n",
       "      dtype=object)"
      ]
     },
     "execution_count": 64,
     "metadata": {},
     "output_type": "execute_result"
    }
   ],
   "source": [
    "#checking to see if there are any missing resorts in the scraped information to ensure all resorts have feature information\n",
    "final_ski_df.loc[~final_ski_df['ski_resort'].isin(scraped_df['ski_resort']),\n",
    "                         'ski_resort'].sort_values().unique()"
   ]
  },
  {
   "cell_type": "code",
   "execution_count": 65,
   "metadata": {},
   "outputs": [],
   "source": [
    "rep_list = [\"49° North\", \"Mammoth\",\"Bear Creek\", \"Boreal Mountain\", \"Boston Mills\",\n",
    "           r'\\bBrandywine\\b',\"Bromley\", \"Bryce Resort\", \"Caberfae Peaks\",\"Camelback\",\n",
    "            \"Catamount\", \"Crested Butte\", \"Discovery Ski\", \"Eldora\", \"Elk Mountain\", \"Heavenly\", \"Hogadon Basin\",\n",
    "           \"HoliMont\", \"Lost Trail\", \"Crystal Mountain, MI\", \"Lutsen\", \"Marquette\",\n",
    "            \"Monarch\",\"Mt. Abram\", \"Mt. Rose\", \"Ober Mountain\", \"Okemo\", \"Pajarito\",\n",
    "           \"Park City\", \"Peek'n Peak\",  \"Plattekill\", \"Pomerelle\", \"Purgatory\", \"Roundtop\", \"Sierra\",\n",
    "            \"Silverton\", 'Sipapu Ski', \"Beech Mountain\", 'China Peak', \"Snowshoe\", \"Solitude\", \"Stowe\", \"Stratton\",\n",
    "           \"Tamarack Resort\", \"Taos\", \"Toggenburg\", \"Wachusett\", \"Whitecap\", \"Whiteface\", \"Whitefish\",\n",
    "           \"Wild Mountain\", \"Wildcat\", \"Winterplace\", \"Wolf Ridge\",\"Yosemite Badger Pass\", \"The Highlands\",\n",
    "           r'\\bNew Hermon Mtn.\\b']\n",
    "\n",
    "rep_with = [\"49 Degrees North\", \"Mammoth Mountain\", \"Bear Creek Mountain\", \"Boreal\",\n",
    "            \"Boston Mills and Brandywine\", \"Boston Mills and Brandywine\", \"Bromley Mountain\",\n",
    "           \"Bryce\", \"Caberfae Peaks Ski Golf\", \"Camelback Mountain\", \"Catamount Ski Ride Area\", \"Crested Butte Mountain\",\n",
    "           \"Discovery\", \"Eldora Mountain\", \"Elk Mountain Ski\", \"Heavenly Mountain\", \"Hogadon\", \"Holimont\",\n",
    "            \"Lost Trail Powder Mountain\",\"Crystal Mountain Michigan\", \"Lutsen Mountains\", \"Marquette Mountain\",\n",
    "           \"Monarch Mountain\", \"Mt. Abram Ski\", \"Mt. Rose Ski Tahoe\",\n",
    "           \"Ober Gatlinburg Ski\", \"Okemo Mountain\", \"Pajarito Mountain\", \"Park City Mountain\", \"Peekn Peak\", \"Plattekill Mountain\", \"Pomerelle Mountain\", \"Purgatory Mountain\",\n",
    "           \"Roundtop Mountain\", \"Sierra at Tahoe\", \"Silverton Mountain\", \"Sipapu Ski and Summer\", \"Ski Beech Mountain\", 'Ski China Peak',\n",
    "            \"Snowshoe Mountain\", \"Solitude Mountain\", \"Stowe Mountain\", \"Stratton Mountain\", \"Tamarack\", \"Taos Ski Valley\",\n",
    "           \"Toggenburg Mountain\", \"Wachusett Mountain\", \"Whitecap Mountain\", \"Whiteface Mountain\", \"Whitefish Mountain\",\n",
    "           \"Wild Mountain Ski\", \"Wildcat Mountain\", \"Winterplace Ski\", \"Wolf Ridge Ski\",\"Badger Pass\",\n",
    "            \"Boyne Highlands\",\"New Hermon Mountain\"]\n",
    "\n",
    "scraped_df.replace(rep_list, rep_with, regex=True, inplace=True)"
   ]
  },
  {
   "cell_type": "code",
   "execution_count": 66,
   "metadata": {},
   "outputs": [],
   "source": [
    "# Define the replacements\n",
    "replace_from = [r'\\bMount\\b', r'\\bMtn\\b']\n",
    "replace_to = ['Mt.', 'Mountain']\n",
    "\n",
    "# Replace the exact strin\"g\n",
    "scraped_df = scraped_df.replace(replace_from, replace_to, regex=True)"
   ]
  },
  {
   "cell_type": "code",
   "execution_count": 67,
   "metadata": {},
   "outputs": [],
   "source": [
    "scraped_df = scraped_df.replace(\"New Hermon Mountain.\", \"New Hermon Mountain\", regex=True)"
   ]
  },
  {
   "cell_type": "code",
   "execution_count": 68,
   "metadata": {},
   "outputs": [],
   "source": [
    "replace_from = [\"Anthony Lakes\", \"Big Squaw\",\"Brantling Ski\", \"Coffee Mill\", \"Mt. Shasta\", \"Mount Holly\"]\n",
    "replace_to = [\"Anthony Lakes Mountain\", 'Big Squaw Mountain Ski', \"Brantling Ski Slopes\", \"Coffee Mill Ski Snowboard\",\n",
    "               'Mt. Shasta Board Ski Park', \"Mt. Holly\"]\n",
    "\n",
    "scraped_df.replace(replace_from, replace_to, regex=True, inplace=True)"
   ]
  },
  {
   "cell_type": "code",
   "execution_count": 69,
   "metadata": {},
   "outputs": [],
   "source": [
    "scraped_df.loc[(scraped_df['ski_resort'] == \"Cooper\") & (scraped_df['state'] == \"Colorado\"), 'ski_resort'] = \"Ski Cooper\""
   ]
  },
  {
   "cell_type": "code",
   "execution_count": 70,
   "metadata": {},
   "outputs": [],
   "source": [
    "scraped_df.loc[(scraped_df['ski_resort'] == \"Timberline\") & (scraped_df['state'] == \"West Virginia\"), 'ski_resort'] = \"Timberline Mountain\""
   ]
  },
  {
   "cell_type": "code",
   "execution_count": 71,
   "metadata": {},
   "outputs": [],
   "source": [
    "#updating scraped df names to match the other dataframes\n",
    "scraped_df.loc[(scraped_df['ski_resort'] == \"Alpine Valley\") & (scraped_df['state'] == \"Ohio\"), 'ski_resort'] = \"Alpine Valley Ohio\"\n",
    "scraped_df.loc[(scraped_df['ski_resort'] == \"Alpine Valley\") & (scraped_df['state'] == \"Wisconsin\"), 'ski_resort'] = \"Alpine Valley Wisconsin\"\n",
    "scraped_df.loc[(scraped_df['ski_resort'] == \"Alpine Valley\") & (scraped_df['state'] == \"Michigan\"), 'ski_resort'] = \"Alpine Valley Michigan\"\n",
    "\n",
    "#updating scraped df names to match the other dataframes\n",
    "scraped_df.loc[(scraped_df['ski_resort'] == \"Crystal Mountain\") & (scraped_df['state'] == \"Washington\"), 'ski_resort'] = \"Crystal Mountain Washington\"\n",
    "scraped_df.loc[(scraped_df['ski_resort'] == \"Crystal Mountain \") & (scraped_df['state'] == \"Michigan\"), 'ski_resort'] = \"Crystal Mountain Michigan\"\n",
    "\n",
    "#updating\n",
    "scraped_df.loc[(scraped_df['ski_resort'] == \"Timberline\") & (scraped_df['state'] == \"West Virginia\"), 'ski_resort'] = \"Timberline Mountain\"\n",
    "\n",
    "#updating scraped df names to match the other dataframes\n",
    "scraped_df.loc[(scraped_df['ski_resort'] == \"Powder Ridge\") & (scraped_df['state'] == \"Minnesota\"), 'ski_resort'] = \"Powder Ridge Minnesota\"\n",
    "scraped_df.loc[(scraped_df['ski_resort'] == \"Powder Ridge\") & (scraped_df['state'] == \"Connecticut\"), 'ski_resort'] = \"Powder Ridge Connecticut\"\n",
    "\n",
    "#updating scraped df names to match the other dataframes\n",
    "scraped_df.loc[(scraped_df['ski_resort'] == \"Magic Mountain\") & (scraped_df['state'] == \"Idaho\"), 'ski_resort'] = \"Magic Mountain Idaho\"\n",
    "scraped_df.loc[(scraped_df['ski_resort'] == \"Magic Mountain\") & (scraped_df['state'] == \"Vermont\"), 'ski_resort'] = \"Magic Mountain Vermont\"\n",
    "\n",
    "#updating scraped df names to match the other dataframes\n",
    "scraped_df.loc[(scraped_df['ski_resort'] == \"Mad River\") & (scraped_df['state'] == \"Ohio\"), 'ski_resort'] = \"Mad River Mountain\""
   ]
  },
  {
   "cell_type": "code",
   "execution_count": 72,
   "metadata": {},
   "outputs": [],
   "source": [
    "#dropping duplicates\n",
    "scraped_df = scraped_df.drop_duplicates()"
   ]
  },
  {
   "cell_type": "code",
   "execution_count": 73,
   "metadata": {},
   "outputs": [],
   "source": [
    "#dropping duplicate names in ski_resort\n",
    "scraped_df = scraped_df.drop_duplicates(subset=['ski_resort'])"
   ]
  },
  {
   "cell_type": "code",
   "execution_count": 74,
   "metadata": {},
   "outputs": [
    {
     "data": {
      "text/plain": [
       "Powder Ridge Minnesota    1\n",
       "Bristol Mountain          1\n",
       "Sugarbush                 1\n",
       "Grand Targhee             1\n",
       "Mont Ripley               1\n",
       "                         ..\n",
       "Pomerelle Mountain        1\n",
       "Omni Homestead            1\n",
       "Buena Vista               1\n",
       "Alpine Valley Ohio        1\n",
       "Powder Mountain           1\n",
       "Name: ski_resort, Length: 330, dtype: int64"
      ]
     },
     "execution_count": 74,
     "metadata": {},
     "output_type": "execute_result"
    }
   ],
   "source": [
    "#checking value counts of resorts to make sure there aren't duplicates or duplicate names\n",
    "scraped_df.ski_resort.value_counts()"
   ]
  },
  {
   "cell_type": "code",
   "execution_count": 75,
   "metadata": {},
   "outputs": [
    {
     "data": {
      "text/plain": [
       "array(['Snowriver Mountain Resort'], dtype=object)"
      ]
     },
     "execution_count": 75,
     "metadata": {},
     "output_type": "execute_result"
    }
   ],
   "source": [
    "#checking to see if there are any missing resorts in the scraped information to ensure all resorts have feature information\n",
    "final_ski_df.loc[~final_ski_df['ski_resort'].isin(scraped_df['ski_resort']),\n",
    "                         'ski_resort'].sort_values().unique()"
   ]
  },
  {
   "cell_type": "markdown",
   "metadata": {},
   "source": [
    "### Additional feature engineering\n",
    "It is common for avid skiiers to purchase ski passes through companies that own a collective of mountains around the United States. I researched a current list of mountains of four of the most common ski passes, manually parsed through the names to update them to match the main dataframe, and then one hot encoded the values for each resort.\n",
    "\n",
    "I did attempt to use the fuzz to update the names, however many resorts have very similar names so it was not an effective way to update the resort names.\n",
    "\n",
    "- Epic Pass\n",
    "- Ikon Pass\n",
    "- Mountain Collective\n",
    "- Indy Pass"
   ]
  },
  {
   "cell_type": "code",
   "execution_count": 76,
   "metadata": {},
   "outputs": [],
   "source": [
    "epic_list = [\"Stowe Mountain\", \"Okemo Mountain\", \"Hunter Mountain\", \"Mt. Snow\", \"Mt. Sunapee\",\"Wildcat Mountain\",\"Seven Springs\",\n",
    "             \"Attitash\", \"Jack Frost\", \"Crotched Mountain\", \"Laurel Mountain\",\n",
    "             \"Roundtop Mountain\", \"Whitetail\", \"Liberty\", \"Big Boulder\", \"Heavenly Mountain\", \"Northstar California\",\n",
    "             \"Kirkwood\", \"Stevens Pass\", \"Keystone\", \"Breckenridge\",\"Vail\", \"Park City Mountain\", \"Beaver Creek\",\n",
    "             \"Crested Butte Mountain\", \"Afton Alps\", \"Alpine Valley Ohio\", \"Boston Mills and Brandywine\",\"Hidden Valley\",\n",
    "             \"Mad River Mountain\", \"Mt. Brighton\", \"Paoli Peaks\", \"Snow Creek\",\"Wilmot Mountain\",\n",
    "            'Mt. Sunapee','Wildcat Mountain', 'Whitetail', 'Mt. Brighton', 'Wilmot Mountain']\n",
    "\n",
    "mtn_col_list = ['Arapahoe Basin', 'Aspen Snowmass', 'Jackson Hole', 'Mammoth Mountain', 'Snowbird',\n",
    "                            'Palisades Tahoe', 'Sugarbush','Taos Ski Valley', 'Alta', 'Big Sky', 'Sugar Bowl',\n",
    "                           'Sugarloaf', 'Sun Valley', 'Grand Targhee', 'Snowbasin']\n",
    "\n",
    "ikon_list = ['Palisades Tahoe', 'Mammoth Mountain', 'June Mountain', 'Bear Mountain', 'Snow Summit','Snow Valley',\n",
    "    'Sun Valley', 'Dollar Mountain', 'Crystal Mountain Washington', 'Alpental', 'Summit at Snoqualmie',\n",
    "    'Mt. Bachelor', 'Schweitzer', 'Alyeska', 'Aspen Snowmass','Buttermilk', 'Steamboat', 'Winter Park',\n",
    "    'Copper Mountain', 'Arapahoe Basin', 'Eldora Mountain', 'Jackson Hole', 'Big Sky',\n",
    "    'Taos Ski Valley','Deer Valley', 'Solitude Mountain','Brighton','Alta', 'Snowbird',\n",
    "    'Snowbasin','Boyne Highlands', 'Boyne Mountain', 'Stratton Mountain', 'Sugarbush', 'Killington', 'Pico Mountain',\n",
    "    'Windham Mountain', 'Snowshoe Mountain', 'Sunday River','Sugarloaf','Loon Mountain']\n",
    "\n",
    "\n",
    "indy_list = ['Eaglecrest', 'Ski China Peak', 'Mt. Shasta Board Ski Park', 'Mountain High', 'Dodge Ridge',\n",
    "    'Hoodoo Ski Area', 'Mt. Ashland', 'Mt. Hood Meadows', '49 Degrees North',\n",
    "    'Hurricane Ridge Ski & Snowboard Area', 'Mission Ridge', 'Bluewood', 'White Pass',\n",
    "    'Castle Mountain Resort', 'Sunrise Park', 'Echo Mountain', 'Granby Ranch',\n",
    "    'Sunlight', 'Brundage Mountain', 'Kelly Canyon', 'Pomerelle Mountain', 'Silver Mountain', 'Soldier Mountain',\n",
    "    'Tamarack', 'Blacktail Mountain', 'Mountain', 'Red Lodge Mountain', 'Beaver Mountain',\n",
    "    'Powder Mountain', 'Antelope Butte', 'Snow King', 'White Pine Ski Resort',\n",
    "    'Seven Oaks', 'Sundown Mountain', 'Big Powderhorn Mountain', 'Caberfae Peaks Ski Golf',\n",
    "    'Crystal Mountain Michigan', 'Marquette Mountain', 'Nubs Nob', 'Pine Mountain',\n",
    "    'Schuss Mountain', 'Swiss Valley', 'Treetops Ski Resort',\n",
    "    'Buck Hill', 'Detroit Mountain Recreation Area', 'Lutsen Mountains', 'Mount Mankato',\n",
    "    'Powder Ridge Minnesota', 'Spirit Mountain', 'Terry Peak', 'Granite Peak',\n",
    "    'Little Switzerland', 'Nordic Mountain', 'The Rock Snowpark', 'Trollhaugen',\n",
    "    'Tyrol Basin', 'Mohawk Mountain', 'BigRockMountain',\n",
    "    'Rangeley Lakes Trail Center', 'Saddleback Mountain', 'Berkshire East',\n",
    "    'Black Mountain', 'Cannon Mountain', 'Pats Peak', 'Waterville Valley',\n",
    "    'Catamount Ski Ride Area', 'Greek Peak', 'Peekn Peak', 'Snow Ridge', 'Swain Resort',\n",
    "    'Titus Mountain', 'West Mountain', 'Catamount Outdoor Family Center', 'Bolton Valley',\n",
    "    'Jay Peak', 'Magic Mountain Vermont', 'Saskadena Six', 'Cataloochee',\n",
    "    'Blue Knob', 'Montage Mountain', 'Shawnee Mountain', 'Ski Sawmill',\n",
    "    'Tussey Mountain', 'Ober Gatlinburg Ski', 'Bryce', 'Massanutten',\n",
    "    'Canaan Valley', 'Winterplace Ski']"
   ]
  },
  {
   "cell_type": "code",
   "execution_count": 77,
   "metadata": {},
   "outputs": [
    {
     "name": "stdout",
     "output_type": "stream",
     "text": [
      "['Dollar Mountain', 'Buttermilk', 'Laurel Mountain']\n"
     ]
    }
   ],
   "source": [
    "#sanity check to see if any of the names are wrong\n",
    "\n",
    "test_list = ikon_list + epic_list + mtn_col_list\n",
    "\n",
    "missing_values = [value for value in test_list if value not in scraped_df['ski_resort'].values]\n",
    "\n",
    "# Print the missing values\n",
    "print(missing_values)"
   ]
  },
  {
   "cell_type": "code",
   "execution_count": 78,
   "metadata": {},
   "outputs": [
    {
     "name": "stdout",
     "output_type": "stream",
     "text": [
      "['Hoodoo Ski Area', 'Hurricane Ridge Ski & Snowboard Area', 'Castle Mountain Resort', 'Echo Mountain', 'Sunlight', 'Mountain', 'Red Lodge Mountain', 'Antelope Butte', 'White Pine Ski Resort', 'Treetops Ski Resort', 'Detroit Mountain Recreation Area', 'Mount Mankato', 'The Rock Snowpark', 'BigRockMountain', 'Rangeley Lakes Trail Center', 'Saddleback Mountain', 'Swain Resort', 'Catamount Outdoor Family Center']\n"
     ]
    }
   ],
   "source": [
    "#sanity check to see if any of the names are wrong\n",
    "\n",
    "missing_values = [value for value in indy_list if value not in scraped_df['ski_resort'].values]\n",
    "\n",
    "# Print the missing values\n",
    "print(missing_values)"
   ]
  },
  {
   "cell_type": "code",
   "execution_count": 79,
   "metadata": {},
   "outputs": [],
   "source": [
    "# making new column with 0\n",
    "scraped_df['epic'] = 0\n",
    "scraped_df['mountain_collective'] = 0\n",
    "scraped_df['ikon'] = 0\n",
    "scraped_df['indy'] = 0\n",
    "\n",
    "# adding 1 for each row value based on the ski resort pass lists\n",
    "scraped_df.loc[scraped_df['ski_resort'].isin(epic_list), 'epic'] = 1\n",
    "scraped_df.loc[scraped_df['ski_resort'].isin(mtn_col_list), 'mountain_collective'] = 1\n",
    "scraped_df.loc[scraped_df['ski_resort'].isin(ikon_list), 'ikon'] = 1\n",
    "scraped_df.loc[scraped_df['ski_resort'].isin(indy_list), 'indy'] = 1"
   ]
  },
  {
   "cell_type": "markdown",
   "metadata": {},
   "source": [
    "### Saving Airbnb scraping file\n",
    "For the content based system, I will be scraping airbnb costs from each resort city. In the code below, I am making a new dataframe that I wll use that includes city, state, and ski resort information to pull information from airbnb.\n",
    "\n",
    "The scraping notebook can be found in the data folder."
   ]
  },
  {
   "cell_type": "code",
   "execution_count": 80,
   "metadata": {},
   "outputs": [],
   "source": [
    "#making new dataframe\n",
    "city_df = pd.DataFrame()\n",
    "\n",
    "#saving city\n",
    "city_df['city'] = scraped_df['city']\n",
    "\n",
    "#saving state\n",
    "city_df['state'] = scraped_df['state']\n",
    "\n",
    "#saving ski resort name\n",
    "city_df['ski_resort'] = scraped_df['ski_resort']\n",
    "\n",
    "#saving \n",
    "#city_df.to_csv(\"data/cleaned_data_exports/location_for_scraping_v3.csv\")"
   ]
  },
  {
   "cell_type": "code",
   "execution_count": 81,
   "metadata": {},
   "outputs": [],
   "source": [
    "#saving city names for scraping\n",
    "city_df['location'] = scraped_df[['city', 'state']].agg(', '.join, axis=1)\n",
    "\n",
    "#saving unique cities\n",
    "city_df['location'] = pd.DataFrame(city_df['location'].unique())\n",
    "\n",
    "#dropping nulls\n",
    "city_df = city_df.dropna()\n",
    "\n",
    "#saving\n",
    "#city_df.to_csv(\"data/cleaned_data_exports/city_names_for_scraping_v3.csv\")"
   ]
  },
  {
   "cell_type": "code",
   "execution_count": 82,
   "metadata": {},
   "outputs": [],
   "source": [
    "#saving final merged dataframe for content based system\n",
    "final_ski_df.to_csv(\"data/cleaned_data_exports/user_df_model.csv\")"
   ]
  },
  {
   "cell_type": "markdown",
   "metadata": {},
   "source": [
    "## Airbnb Scrape Cleaning"
   ]
  },
  {
   "cell_type": "markdown",
   "metadata": {},
   "source": [
    "Importing .csv that I scraped from Airbnb. This includes prices of airbnb's pulled from the first two pages (32 results) for airbnbs with a max of **2 guests** and max of **4 guests**. I pulled this information to provide cost information to those planning ski trips, as high lodging and ticket costs are a barrier to entry while planning ski trips."
   ]
  },
  {
   "cell_type": "code",
   "execution_count": 83,
   "metadata": {},
   "outputs": [
    {
     "data": {
      "text/html": [
       "<div>\n",
       "<style scoped>\n",
       "    .dataframe tbody tr th:only-of-type {\n",
       "        vertical-align: middle;\n",
       "    }\n",
       "\n",
       "    .dataframe tbody tr th {\n",
       "        vertical-align: top;\n",
       "    }\n",
       "\n",
       "    .dataframe thead th {\n",
       "        text-align: right;\n",
       "    }\n",
       "</style>\n",
       "<table border=\"1\" class=\"dataframe\">\n",
       "  <thead>\n",
       "    <tr style=\"text-align: right;\">\n",
       "      <th></th>\n",
       "      <th>Unnamed: 0</th>\n",
       "      <th>count</th>\n",
       "      <th>mean</th>\n",
       "      <th>std</th>\n",
       "      <th>min</th>\n",
       "      <th>25%</th>\n",
       "      <th>50%</th>\n",
       "      <th>75%</th>\n",
       "      <th>max</th>\n",
       "      <th>ski_resort</th>\n",
       "    </tr>\n",
       "  </thead>\n",
       "  <tbody>\n",
       "    <tr>\n",
       "      <th>0</th>\n",
       "      <td>0</td>\n",
       "      <td>35.0</td>\n",
       "      <td>240.742857</td>\n",
       "      <td>108.573191</td>\n",
       "      <td>100.0</td>\n",
       "      <td>168.50</td>\n",
       "      <td>215.0</td>\n",
       "      <td>297.00</td>\n",
       "      <td>585.0</td>\n",
       "      <td>Magic Mountain</td>\n",
       "    </tr>\n",
       "    <tr>\n",
       "      <th>1</th>\n",
       "      <td>1</td>\n",
       "      <td>35.0</td>\n",
       "      <td>140.800000</td>\n",
       "      <td>66.825409</td>\n",
       "      <td>73.0</td>\n",
       "      <td>100.00</td>\n",
       "      <td>120.0</td>\n",
       "      <td>168.00</td>\n",
       "      <td>409.0</td>\n",
       "      <td>49 Degrees North</td>\n",
       "    </tr>\n",
       "    <tr>\n",
       "      <th>2</th>\n",
       "      <td>2</td>\n",
       "      <td>32.0</td>\n",
       "      <td>187.156250</td>\n",
       "      <td>138.082049</td>\n",
       "      <td>61.0</td>\n",
       "      <td>121.00</td>\n",
       "      <td>157.5</td>\n",
       "      <td>205.50</td>\n",
       "      <td>842.0</td>\n",
       "      <td>Afton Alps</td>\n",
       "    </tr>\n",
       "    <tr>\n",
       "      <th>3</th>\n",
       "      <td>3</td>\n",
       "      <td>35.0</td>\n",
       "      <td>264.857143</td>\n",
       "      <td>143.587879</td>\n",
       "      <td>99.0</td>\n",
       "      <td>173.50</td>\n",
       "      <td>228.0</td>\n",
       "      <td>338.00</td>\n",
       "      <td>833.0</td>\n",
       "      <td>Alpental</td>\n",
       "    </tr>\n",
       "    <tr>\n",
       "      <th>4</th>\n",
       "      <td>4</td>\n",
       "      <td>34.0</td>\n",
       "      <td>158.676471</td>\n",
       "      <td>61.121201</td>\n",
       "      <td>64.0</td>\n",
       "      <td>108.75</td>\n",
       "      <td>144.0</td>\n",
       "      <td>193.75</td>\n",
       "      <td>296.0</td>\n",
       "      <td>Alpine Valley Ohio</td>\n",
       "    </tr>\n",
       "    <tr>\n",
       "      <th>...</th>\n",
       "      <td>...</td>\n",
       "      <td>...</td>\n",
       "      <td>...</td>\n",
       "      <td>...</td>\n",
       "      <td>...</td>\n",
       "      <td>...</td>\n",
       "      <td>...</td>\n",
       "      <td>...</td>\n",
       "      <td>...</td>\n",
       "      <td>...</td>\n",
       "    </tr>\n",
       "    <tr>\n",
       "      <th>326</th>\n",
       "      <td>326</td>\n",
       "      <td>35.0</td>\n",
       "      <td>189.085714</td>\n",
       "      <td>90.782342</td>\n",
       "      <td>71.0</td>\n",
       "      <td>140.00</td>\n",
       "      <td>177.0</td>\n",
       "      <td>222.50</td>\n",
       "      <td>510.0</td>\n",
       "      <td>Badger Pass</td>\n",
       "    </tr>\n",
       "    <tr>\n",
       "      <th>327</th>\n",
       "      <td>327</td>\n",
       "      <td>35.0</td>\n",
       "      <td>157.171429</td>\n",
       "      <td>49.416290</td>\n",
       "      <td>84.0</td>\n",
       "      <td>123.50</td>\n",
       "      <td>151.0</td>\n",
       "      <td>183.00</td>\n",
       "      <td>324.0</td>\n",
       "      <td>Mt. Bachelor</td>\n",
       "    </tr>\n",
       "    <tr>\n",
       "      <th>328</th>\n",
       "      <td>328</td>\n",
       "      <td>35.0</td>\n",
       "      <td>221.285714</td>\n",
       "      <td>136.107996</td>\n",
       "      <td>80.0</td>\n",
       "      <td>142.00</td>\n",
       "      <td>190.0</td>\n",
       "      <td>250.00</td>\n",
       "      <td>659.0</td>\n",
       "      <td>Mt. Bohemia</td>\n",
       "    </tr>\n",
       "    <tr>\n",
       "      <th>329</th>\n",
       "      <td>329</td>\n",
       "      <td>34.0</td>\n",
       "      <td>165.264706</td>\n",
       "      <td>60.058209</td>\n",
       "      <td>67.0</td>\n",
       "      <td>132.00</td>\n",
       "      <td>147.5</td>\n",
       "      <td>188.25</td>\n",
       "      <td>357.0</td>\n",
       "      <td>Shawnee Mountain</td>\n",
       "    </tr>\n",
       "    <tr>\n",
       "      <th>330</th>\n",
       "      <td>330</td>\n",
       "      <td>35.0</td>\n",
       "      <td>176.400000</td>\n",
       "      <td>83.445015</td>\n",
       "      <td>75.0</td>\n",
       "      <td>122.00</td>\n",
       "      <td>150.0</td>\n",
       "      <td>218.50</td>\n",
       "      <td>450.0</td>\n",
       "      <td>Wachusett Mountain</td>\n",
       "    </tr>\n",
       "  </tbody>\n",
       "</table>\n",
       "<p>331 rows × 10 columns</p>\n",
       "</div>"
      ],
      "text/plain": [
       "     Unnamed: 0  count        mean         std    min     25%    50%     75%  \\\n",
       "0             0   35.0  240.742857  108.573191  100.0  168.50  215.0  297.00   \n",
       "1             1   35.0  140.800000   66.825409   73.0  100.00  120.0  168.00   \n",
       "2             2   32.0  187.156250  138.082049   61.0  121.00  157.5  205.50   \n",
       "3             3   35.0  264.857143  143.587879   99.0  173.50  228.0  338.00   \n",
       "4             4   34.0  158.676471   61.121201   64.0  108.75  144.0  193.75   \n",
       "..          ...    ...         ...         ...    ...     ...    ...     ...   \n",
       "326         326   35.0  189.085714   90.782342   71.0  140.00  177.0  222.50   \n",
       "327         327   35.0  157.171429   49.416290   84.0  123.50  151.0  183.00   \n",
       "328         328   35.0  221.285714  136.107996   80.0  142.00  190.0  250.00   \n",
       "329         329   34.0  165.264706   60.058209   67.0  132.00  147.5  188.25   \n",
       "330         330   35.0  176.400000   83.445015   75.0  122.00  150.0  218.50   \n",
       "\n",
       "       max          ski_resort  \n",
       "0    585.0      Magic Mountain  \n",
       "1    409.0    49 Degrees North  \n",
       "2    842.0          Afton Alps  \n",
       "3    833.0            Alpental  \n",
       "4    296.0  Alpine Valley Ohio  \n",
       "..     ...                 ...  \n",
       "326  510.0         Badger Pass  \n",
       "327  324.0        Mt. Bachelor  \n",
       "328  659.0         Mt. Bohemia  \n",
       "329  357.0    Shawnee Mountain  \n",
       "330  450.0  Wachusett Mountain  \n",
       "\n",
       "[331 rows x 10 columns]"
      ]
     },
     "execution_count": 83,
     "metadata": {},
     "output_type": "execute_result"
    }
   ],
   "source": [
    "jan_2_airbnb_mean_final"
   ]
  },
  {
   "cell_type": "code",
   "execution_count": 84,
   "metadata": {},
   "outputs": [
    {
     "name": "stdout",
     "output_type": "stream",
     "text": [
      "<class 'pandas.core.frame.DataFrame'>\n",
      "RangeIndex: 331 entries, 0 to 330\n",
      "Data columns (total 10 columns):\n",
      " #   Column      Non-Null Count  Dtype  \n",
      "---  ------      --------------  -----  \n",
      " 0   Unnamed: 0  331 non-null    int64  \n",
      " 1   count       331 non-null    float64\n",
      " 2   mean        331 non-null    float64\n",
      " 3   std         331 non-null    float64\n",
      " 4   min         331 non-null    float64\n",
      " 5   25%         331 non-null    float64\n",
      " 6   50%         331 non-null    float64\n",
      " 7   75%         331 non-null    float64\n",
      " 8   max         331 non-null    float64\n",
      " 9   ski_resort  331 non-null    object \n",
      "dtypes: float64(8), int64(1), object(1)\n",
      "memory usage: 26.0+ KB\n"
     ]
    }
   ],
   "source": [
    "jan_2_airbnb_mean_final.info()"
   ]
  },
  {
   "cell_type": "code",
   "execution_count": 85,
   "metadata": {},
   "outputs": [],
   "source": [
    "#making lists of all dataframes from airbnb scrape\n",
    "two_guest_list = [dec_2_airbnb_mean_final,jan_2_airbnb_mean_final,feb_2_airbnb_mean_final,\n",
    "                  mar_2_airbnb_mean_final, apr_2_airbnb_mean_final,\n",
    "                  may_2_airbnb_mean_final]\n",
    "\n",
    "four_guest_list = [dec_4_airbnb_mean_final,jan_4_airbnb_mean_final,feb_4_airbnb_mean_final,\n",
    "                  mar_4_airbnb_mean_final, apr_4_airbnb_mean_final,\n",
    "                  may_4_airbnb_mean_final]\n",
    "\n",
    "month_list = ['dec', 'jan', 'feb', 'mar', 'apr', 'may']\n",
    "\n",
    "for x, y, z in zip(two_guest_list, four_guest_list, month_list):\n",
    "    \n",
    "    dict_2 = {'mean': z + '_mean_2_guests',\n",
    "              'min': z + '_min_2_guests','max': z + '_max_2_guests'}\n",
    "\n",
    "    dict_4 = {'mean': z +'_mean_4_guests',\n",
    "              'min': z +'_min_4_guests','max': z +'_max_4_guests'}\n",
    "    \n",
    "    #renaming column names based on scrape\n",
    "    x.rename(columns=dict_2, inplace=True)\n",
    "    y.rename(columns=dict_4, inplace=True)\n",
    "    \n",
    "    #saving as new dataframe\n",
    "    x.drop(columns=['count', 'std', '25%', '50%', '75%', 'Unnamed: 0'], inplace=True)\n",
    "    y.drop(columns=['count', 'std', '25%', '50%', '75%', 'Unnamed: 0'], inplace=True)"
   ]
  },
  {
   "cell_type": "code",
   "execution_count": 86,
   "metadata": {},
   "outputs": [],
   "source": [
    "#merging all months from the list of 2 guest airbnbs \n",
    "for df in two_guest_list[1:]:\n",
    "    dec_2_airbnb_mean_final = pd.merge(dec_2_airbnb_mean_final, df, on='ski_resort')\n",
    "\n",
    "#mergins all months from the list of 4 guest airbnbs\n",
    "for df in four_guest_list:\n",
    "    dec_2_airbnb_mean_final = pd.merge(dec_2_airbnb_mean_final, df, on='ski_resort')\n",
    "    \n",
    "#saving off the list as a new dataframe\n",
    "airbnb_df = dec_2_airbnb_mean_final.copy()\n",
    "\n",
    "#dropping duplicates\n",
    "airbnb_df = airbnb_df.drop_duplicates()"
   ]
  },
  {
   "cell_type": "code",
   "execution_count": 87,
   "metadata": {},
   "outputs": [
    {
     "data": {
      "text/plain": [
       "Kelly Canyon       1\n",
       "Blue Hills         1\n",
       "Mt. Abram Ski      1\n",
       "Sugar Bowl         1\n",
       "Palisades Tahoe    1\n",
       "                  ..\n",
       "Treetops           1\n",
       "Swiss Valley       1\n",
       "Giants Ridge       1\n",
       "Discovery          1\n",
       "Powder Mountain    1\n",
       "Name: ski_resort, Length: 331, dtype: int64"
      ]
     },
     "execution_count": 87,
     "metadata": {},
     "output_type": "execute_result"
    }
   ],
   "source": [
    "#inspecting value counts\n",
    "airbnb_df['ski_resort'].value_counts()"
   ]
  },
  {
   "cell_type": "code",
   "execution_count": 88,
   "metadata": {},
   "outputs": [
    {
     "data": {
      "text/plain": [
       "array(['Mt. Shasta Board Ski Park', 'Crystal Mountain Washington',\n",
       "       'Summit at Snoqualmie', 'Black River', 'Jackson Creek',\n",
       "       'Wild Mountain Ski', 'Anthony Lakes Mountain',\n",
       "       'Red Lodge Mountain.', 'Snowy Range', 'Crystal Mountain Michigan',\n",
       "       'Schuss Mountain', 'Snow Summit', 'Timberline Mountain',\n",
       "       'Montage Mountain', 'Big Squaw Mountain Ski', 'Hyland Ski',\n",
       "       'Coffee Mill Ski Snowboard', 'Alpine Valley Michigan',\n",
       "       'Brantling Ski Slopes', 'McCauley Mountain', 'Mt. Kato',\n",
       "       'Mt. Holly', 'Powder Ridge Minnesota', 'Ski Snowstar',\n",
       "       'Deer Mountain', 'Whaleback', 'Mt. Pleasant',\n",
       "       'Powder Ridge Connecticut'], dtype=object)"
      ]
     },
     "execution_count": 88,
     "metadata": {},
     "output_type": "execute_result"
    }
   ],
   "source": [
    "#checking to see which ski resort names different between the main feature df and the airbnb df\n",
    "scraped_df.loc[~scraped_df['ski_resort'].isin(airbnb_df['ski_resort']),\n",
    "                         'ski_resort'].unique()"
   ]
  },
  {
   "cell_type": "code",
   "execution_count": 89,
   "metadata": {},
   "outputs": [
    {
     "data": {
      "text/html": [
       "<div>\n",
       "<style scoped>\n",
       "    .dataframe tbody tr th:only-of-type {\n",
       "        vertical-align: middle;\n",
       "    }\n",
       "\n",
       "    .dataframe tbody tr th {\n",
       "        vertical-align: top;\n",
       "    }\n",
       "\n",
       "    .dataframe thead th {\n",
       "        text-align: right;\n",
       "    }\n",
       "</style>\n",
       "<table border=\"1\" class=\"dataframe\">\n",
       "  <thead>\n",
       "    <tr style=\"text-align: right;\">\n",
       "      <th></th>\n",
       "      <th>dec_mean_2_guests</th>\n",
       "      <th>dec_min_2_guests</th>\n",
       "      <th>dec_max_2_guests</th>\n",
       "      <th>ski_resort</th>\n",
       "      <th>jan_mean_2_guests</th>\n",
       "      <th>jan_min_2_guests</th>\n",
       "      <th>jan_max_2_guests</th>\n",
       "      <th>feb_mean_2_guests</th>\n",
       "      <th>feb_min_2_guests</th>\n",
       "      <th>feb_max_2_guests</th>\n",
       "      <th>...</th>\n",
       "      <th>feb_max_4_guests</th>\n",
       "      <th>mar_mean_4_guests</th>\n",
       "      <th>mar_min_4_guests</th>\n",
       "      <th>mar_max_4_guests</th>\n",
       "      <th>apr_mean_4_guests</th>\n",
       "      <th>apr_min_4_guests</th>\n",
       "      <th>apr_max_4_guests</th>\n",
       "      <th>may_mean_4_guests</th>\n",
       "      <th>may_min_4_guests</th>\n",
       "      <th>may_max_4_guests</th>\n",
       "    </tr>\n",
       "  </thead>\n",
       "  <tbody>\n",
       "    <tr>\n",
       "      <th>213</th>\n",
       "      <td>186.314286</td>\n",
       "      <td>60.0</td>\n",
       "      <td>630.0</td>\n",
       "      <td>Powder Mountain</td>\n",
       "      <td>203.764706</td>\n",
       "      <td>65.0</td>\n",
       "      <td>750.0</td>\n",
       "      <td>224.117647</td>\n",
       "      <td>66.0</td>\n",
       "      <td>767.0</td>\n",
       "      <td>...</td>\n",
       "      <td>699.0</td>\n",
       "      <td>249.647059</td>\n",
       "      <td>66.0</td>\n",
       "      <td>699.0</td>\n",
       "      <td>264.764706</td>\n",
       "      <td>109.0</td>\n",
       "      <td>540.0</td>\n",
       "      <td>137.458333</td>\n",
       "      <td>75</td>\n",
       "      <td>325</td>\n",
       "    </tr>\n",
       "  </tbody>\n",
       "</table>\n",
       "<p>1 rows × 37 columns</p>\n",
       "</div>"
      ],
      "text/plain": [
       "     dec_mean_2_guests  dec_min_2_guests  dec_max_2_guests       ski_resort  \\\n",
       "213         186.314286              60.0             630.0  Powder Mountain   \n",
       "\n",
       "     jan_mean_2_guests  jan_min_2_guests  jan_max_2_guests  feb_mean_2_guests  \\\n",
       "213         203.764706              65.0             750.0         224.117647   \n",
       "\n",
       "     feb_min_2_guests  feb_max_2_guests  ...  feb_max_4_guests  \\\n",
       "213              66.0             767.0  ...             699.0   \n",
       "\n",
       "     mar_mean_4_guests  mar_min_4_guests  mar_max_4_guests  apr_mean_4_guests  \\\n",
       "213         249.647059              66.0             699.0         264.764706   \n",
       "\n",
       "     apr_min_4_guests  apr_max_4_guests  may_mean_4_guests  may_min_4_guests  \\\n",
       "213             109.0             540.0         137.458333                75   \n",
       "\n",
       "     may_max_4_guests  \n",
       "213               325  \n",
       "\n",
       "[1 rows x 37 columns]"
      ]
     },
     "execution_count": 89,
     "metadata": {},
     "output_type": "execute_result"
    }
   ],
   "source": [
    "airbnb_df.loc[airbnb_df[\"ski_resort\"] == \"Powder Mountain\"]"
   ]
  },
  {
   "cell_type": "code",
   "execution_count": 90,
   "metadata": {},
   "outputs": [],
   "source": [
    "#renaming resorts that have the same name\n",
    "airbnb_df.replace(\"Crystal Mountain\", \"Crystal Mountain Washington\", regex=True, inplace=True)\n",
    "\n",
    "airbnb_df.loc[(airbnb_df['ski_resort'] == \"Crystal Mountain Washington \") & (airbnb_df['dec_min_2_guests'] == 40), 'ski_resort'] = \"Crystal Mountain Michigan\""
   ]
  },
  {
   "cell_type": "code",
   "execution_count": 91,
   "metadata": {},
   "outputs": [],
   "source": [
    "airbnb_df.loc[(airbnb_df['ski_resort'] == 'Timberline') & (airbnb_df['dec_min_2_guests'] == 75.0), 'ski_resort'] = \"Timberline Mountain\"\n",
    "\n",
    "#batch renaming mountains to match the user df\n",
    "rename_list = [\"Anthony Lakes\", \"Mount Holly\", \"Coffee ll\", \"Brantling Ski\", 'Big Squaw',\n",
    "               \"McCauley Mountain Ski Center\",'Hyland Ski Snowboard Area', \"Mount Kato\"]\n",
    "\n",
    "rename_to = ['Anthony Lakes Mountain', 'Mt. Holly', 'Coffee Mill Ski Snowboard',\n",
    "       'Brantling Ski Slopes', 'Big Squaw Mountain Ski', \"McCauley Mountain\", \"Hyland Ski\", \"Mt. Kato\"]\n",
    "\n",
    "airbnb_df.replace(rename_list, rename_to, regex=True, inplace=True)"
   ]
  },
  {
   "cell_type": "code",
   "execution_count": 92,
   "metadata": {},
   "outputs": [],
   "source": [
    "#renaming resorts that have the same name\n",
    "airbnb_df.replace(\"Powder Ridge\", \"Powder Ridge Connecticut\", regex=True, inplace=True)"
   ]
  },
  {
   "cell_type": "code",
   "execution_count": 93,
   "metadata": {},
   "outputs": [],
   "source": [
    "rename_list = [\"Mt. Shasta\", \"The Summit at Snoqualmie\", 'Wild Mountain Ski Snowboard Area', 'Red Lodge Mtn.',\n",
    "              'Sno Mountain', 'Ski Snowstar Winter Sports Park','Ski Mystic at Deer Mountain', \"Mount Pleasant\",\n",
    "              'Shanty Creek', 'Red Lodge Mountain', 'Snowy Range Ski Recreation Area', \"Whalebk\"]\n",
    "\n",
    "rename_to = [\"Mt. Shasta Board Ski Park\", \"Summit at Snoqualmie\", \"Wild Mountain Ski\", 'Red Lodge Mountain.',\n",
    "            'Montage Mountain', 'Ski Snowstar', 'Deer Mountain', \"Mt. Pleasant\", \"Schuss Mountain\",\n",
    "             \"Red Lodge Mountain.\", \"Snowy Range\", \"Whaleback\"]\n",
    "\n",
    "airbnb_df.replace(rename_list, rename_to, regex=True, inplace=True)"
   ]
  },
  {
   "cell_type": "code",
   "execution_count": 94,
   "metadata": {},
   "outputs": [
    {
     "data": {
      "text/plain": [
       "array(['Black River', 'Jackson Creek', 'Snow Summit',\n",
       "       'Alpine Valley Michigan', 'Powder Ridge Minnesota'], dtype=object)"
      ]
     },
     "execution_count": 94,
     "metadata": {},
     "output_type": "execute_result"
    }
   ],
   "source": [
    "#checking to see which ski resort names different between the main feature df and the airbnb df\n",
    "scraped_df.loc[~scraped_df['ski_resort'].isin(airbnb_df['ski_resort']),\n",
    "                         'ski_resort'].unique()"
   ]
  },
  {
   "cell_type": "markdown",
   "metadata": {},
   "source": [
    "# Merging reviews with features\n",
    "I will be combining the cleaned dataframes from below that will be used for the collaborative model output."
   ]
  },
  {
   "cell_type": "code",
   "execution_count": 203,
   "metadata": {},
   "outputs": [],
   "source": [
    "# #merging final review dataframe and scraped data\n",
    "# merged_df = pd.merge(final_ski_df, scraped_df, on=\"ski_resort\", how='left')\n",
    "\n",
    "# #dropping columns\n",
    "# merged_df = merged_df.drop(columns=\"state_y\")\n",
    "\n",
    "# #renaming columns\n",
    "# merged_df = merged_df.rename(columns={\"state_x\":\"state\"})"
   ]
  },
  {
   "cell_type": "markdown",
   "metadata": {},
   "source": [
    "## Merging airbnb with feature dataframe"
   ]
  },
  {
   "cell_type": "code",
   "execution_count": 95,
   "metadata": {},
   "outputs": [],
   "source": [
    "#merging airbnb and feature dataframes\n",
    "content_df = pd.merge(scraped_df, airbnb_df, on=\"ski_resort\", how=\"left\")"
   ]
  },
  {
   "cell_type": "code",
   "execution_count": 96,
   "metadata": {},
   "outputs": [
    {
     "data": {
      "text/html": [
       "<div>\n",
       "<style scoped>\n",
       "    .dataframe tbody tr th:only-of-type {\n",
       "        vertical-align: middle;\n",
       "    }\n",
       "\n",
       "    .dataframe tbody tr th {\n",
       "        vertical-align: top;\n",
       "    }\n",
       "\n",
       "    .dataframe thead th {\n",
       "        text-align: right;\n",
       "    }\n",
       "</style>\n",
       "<table border=\"1\" class=\"dataframe\">\n",
       "  <thead>\n",
       "    <tr style=\"text-align: right;\">\n",
       "      <th></th>\n",
       "      <th>ski_resort</th>\n",
       "      <th>address</th>\n",
       "      <th>city</th>\n",
       "      <th>state</th>\n",
       "      <th>zipcode</th>\n",
       "      <th>summit</th>\n",
       "      <th>drop</th>\n",
       "      <th>base</th>\n",
       "      <th>gondolas_and_trams</th>\n",
       "      <th>fast_eight</th>\n",
       "      <th>...</th>\n",
       "      <th>feb_max_4_guests</th>\n",
       "      <th>mar_mean_4_guests</th>\n",
       "      <th>mar_min_4_guests</th>\n",
       "      <th>mar_max_4_guests</th>\n",
       "      <th>apr_mean_4_guests</th>\n",
       "      <th>apr_min_4_guests</th>\n",
       "      <th>apr_max_4_guests</th>\n",
       "      <th>may_mean_4_guests</th>\n",
       "      <th>may_min_4_guests</th>\n",
       "      <th>may_max_4_guests</th>\n",
       "    </tr>\n",
       "  </thead>\n",
       "  <tbody>\n",
       "    <tr>\n",
       "      <th>0</th>\n",
       "      <td>Palisades Tahoe</td>\n",
       "      <td>PO Box 2007</td>\n",
       "      <td>Olympic Valley</td>\n",
       "      <td>California</td>\n",
       "      <td>96146</td>\n",
       "      <td>9050</td>\n",
       "      <td>2850</td>\n",
       "      <td>6200</td>\n",
       "      <td>3.0</td>\n",
       "      <td>6.0</td>\n",
       "      <td>...</td>\n",
       "      <td>1128.0</td>\n",
       "      <td>497.857143</td>\n",
       "      <td>210.0</td>\n",
       "      <td>1320.0</td>\n",
       "      <td>463.542857</td>\n",
       "      <td>178.0</td>\n",
       "      <td>1260.0</td>\n",
       "      <td>331.956522</td>\n",
       "      <td>122.0</td>\n",
       "      <td>825.0</td>\n",
       "    </tr>\n",
       "    <tr>\n",
       "      <th>1</th>\n",
       "      <td>Mammoth Mountain</td>\n",
       "      <td>P.O. Box 24</td>\n",
       "      <td>Mammoth Mountain Lakes</td>\n",
       "      <td>California</td>\n",
       "      <td>93546</td>\n",
       "      <td>11053</td>\n",
       "      <td>3100</td>\n",
       "      <td>7953</td>\n",
       "      <td>3.0</td>\n",
       "      <td>9.0</td>\n",
       "      <td>...</td>\n",
       "      <td>589.0</td>\n",
       "      <td>339.200000</td>\n",
       "      <td>156.0</td>\n",
       "      <td>589.0</td>\n",
       "      <td>325.411765</td>\n",
       "      <td>126.0</td>\n",
       "      <td>699.0</td>\n",
       "      <td>144.571429</td>\n",
       "      <td>64.0</td>\n",
       "      <td>246.0</td>\n",
       "    </tr>\n",
       "    <tr>\n",
       "      <th>2</th>\n",
       "      <td>Donner Ski Ranch</td>\n",
       "      <td>P.O. Box 66</td>\n",
       "      <td>Norden</td>\n",
       "      <td>California</td>\n",
       "      <td>95724</td>\n",
       "      <td>8012</td>\n",
       "      <td>750</td>\n",
       "      <td>7031</td>\n",
       "      <td>0.0</td>\n",
       "      <td>0.0</td>\n",
       "      <td>...</td>\n",
       "      <td>650.0</td>\n",
       "      <td>326.657143</td>\n",
       "      <td>190.0</td>\n",
       "      <td>739.0</td>\n",
       "      <td>349.257143</td>\n",
       "      <td>165.0</td>\n",
       "      <td>996.0</td>\n",
       "      <td>231.272727</td>\n",
       "      <td>83.0</td>\n",
       "      <td>643.0</td>\n",
       "    </tr>\n",
       "    <tr>\n",
       "      <th>3</th>\n",
       "      <td>Sugar Bowl</td>\n",
       "      <td>P.O. Box 5</td>\n",
       "      <td>Norden</td>\n",
       "      <td>California</td>\n",
       "      <td>95724</td>\n",
       "      <td>8383</td>\n",
       "      <td>1500</td>\n",
       "      <td>6883</td>\n",
       "      <td>1.0</td>\n",
       "      <td>5.0</td>\n",
       "      <td>...</td>\n",
       "      <td>590.0</td>\n",
       "      <td>349.457143</td>\n",
       "      <td>190.0</td>\n",
       "      <td>739.0</td>\n",
       "      <td>349.257143</td>\n",
       "      <td>165.0</td>\n",
       "      <td>996.0</td>\n",
       "      <td>245.590909</td>\n",
       "      <td>120.0</td>\n",
       "      <td>643.0</td>\n",
       "    </tr>\n",
       "    <tr>\n",
       "      <th>4</th>\n",
       "      <td>Kirkwood</td>\n",
       "      <td>PO Box 1</td>\n",
       "      <td>Kirkwood</td>\n",
       "      <td>California</td>\n",
       "      <td>95646</td>\n",
       "      <td>9800</td>\n",
       "      <td>2000</td>\n",
       "      <td>7800</td>\n",
       "      <td>0.0</td>\n",
       "      <td>2.0</td>\n",
       "      <td>...</td>\n",
       "      <td>1179.0</td>\n",
       "      <td>424.250000</td>\n",
       "      <td>146.0</td>\n",
       "      <td>1179.0</td>\n",
       "      <td>420.290323</td>\n",
       "      <td>150.0</td>\n",
       "      <td>950.0</td>\n",
       "      <td>309.200000</td>\n",
       "      <td>114.0</td>\n",
       "      <td>590.0</td>\n",
       "    </tr>\n",
       "    <tr>\n",
       "      <th>...</th>\n",
       "      <td>...</td>\n",
       "      <td>...</td>\n",
       "      <td>...</td>\n",
       "      <td>...</td>\n",
       "      <td>...</td>\n",
       "      <td>...</td>\n",
       "      <td>...</td>\n",
       "      <td>...</td>\n",
       "      <td>...</td>\n",
       "      <td>...</td>\n",
       "      <td>...</td>\n",
       "      <td>...</td>\n",
       "      <td>...</td>\n",
       "      <td>...</td>\n",
       "      <td>...</td>\n",
       "      <td>...</td>\n",
       "      <td>...</td>\n",
       "      <td>...</td>\n",
       "      <td>...</td>\n",
       "      <td>...</td>\n",
       "      <td>...</td>\n",
       "    </tr>\n",
       "    <tr>\n",
       "      <th>325</th>\n",
       "      <td>Oak Mountain</td>\n",
       "      <td>141 Novosel Way</td>\n",
       "      <td>Speculator</td>\n",
       "      <td>New York</td>\n",
       "      <td>12164</td>\n",
       "      <td>2400</td>\n",
       "      <td>650</td>\n",
       "      <td>1750</td>\n",
       "      <td>0.0</td>\n",
       "      <td>0.0</td>\n",
       "      <td>...</td>\n",
       "      <td>499.0</td>\n",
       "      <td>270.914286</td>\n",
       "      <td>100.0</td>\n",
       "      <td>769.0</td>\n",
       "      <td>285.028571</td>\n",
       "      <td>125.0</td>\n",
       "      <td>769.0</td>\n",
       "      <td>219.541667</td>\n",
       "      <td>95.0</td>\n",
       "      <td>460.0</td>\n",
       "    </tr>\n",
       "    <tr>\n",
       "      <th>326</th>\n",
       "      <td>Mt. Pleasant</td>\n",
       "      <td>23301 Plank Rd</td>\n",
       "      <td>Venango</td>\n",
       "      <td>Pennsylvania</td>\n",
       "      <td>16403</td>\n",
       "      <td>1540</td>\n",
       "      <td>340</td>\n",
       "      <td>1200</td>\n",
       "      <td>0.0</td>\n",
       "      <td>0.0</td>\n",
       "      <td>...</td>\n",
       "      <td>350.0</td>\n",
       "      <td>176.885714</td>\n",
       "      <td>55.0</td>\n",
       "      <td>350.0</td>\n",
       "      <td>184.942857</td>\n",
       "      <td>55.0</td>\n",
       "      <td>350.0</td>\n",
       "      <td>189.666667</td>\n",
       "      <td>76.0</td>\n",
       "      <td>400.0</td>\n",
       "    </tr>\n",
       "    <tr>\n",
       "      <th>327</th>\n",
       "      <td>Hunt Hollow</td>\n",
       "      <td>7532 County Road 36</td>\n",
       "      <td>Naples</td>\n",
       "      <td>New York</td>\n",
       "      <td>14512</td>\n",
       "      <td>2030</td>\n",
       "      <td>825</td>\n",
       "      <td>1000</td>\n",
       "      <td>0.0</td>\n",
       "      <td>0.0</td>\n",
       "      <td>...</td>\n",
       "      <td>800.0</td>\n",
       "      <td>314.742857</td>\n",
       "      <td>125.0</td>\n",
       "      <td>800.0</td>\n",
       "      <td>307.342857</td>\n",
       "      <td>124.0</td>\n",
       "      <td>800.0</td>\n",
       "      <td>242.541667</td>\n",
       "      <td>99.0</td>\n",
       "      <td>444.0</td>\n",
       "    </tr>\n",
       "    <tr>\n",
       "      <th>328</th>\n",
       "      <td>Powder Ridge Connecticut</td>\n",
       "      <td>99 Powder Hill Road</td>\n",
       "      <td>Middlefield</td>\n",
       "      <td>Connecticut</td>\n",
       "      <td>06455</td>\n",
       "      <td>720</td>\n",
       "      <td>550</td>\n",
       "      <td>170</td>\n",
       "      <td>0.0</td>\n",
       "      <td>0.0</td>\n",
       "      <td>...</td>\n",
       "      <td>898.0</td>\n",
       "      <td>225.457143</td>\n",
       "      <td>67.0</td>\n",
       "      <td>977.0</td>\n",
       "      <td>237.628571</td>\n",
       "      <td>68.0</td>\n",
       "      <td>1199.0</td>\n",
       "      <td>148.208333</td>\n",
       "      <td>73.0</td>\n",
       "      <td>250.0</td>\n",
       "    </tr>\n",
       "    <tr>\n",
       "      <th>329</th>\n",
       "      <td>Shawnee Mountain</td>\n",
       "      <td>P.O. Box 339</td>\n",
       "      <td>Shawnee on Delaware</td>\n",
       "      <td>Pennsylvania</td>\n",
       "      <td>18356-0339</td>\n",
       "      <td>1350</td>\n",
       "      <td>700</td>\n",
       "      <td>650</td>\n",
       "      <td>0.0</td>\n",
       "      <td>1.0</td>\n",
       "      <td>...</td>\n",
       "      <td>400.0</td>\n",
       "      <td>197.281250</td>\n",
       "      <td>120.0</td>\n",
       "      <td>411.0</td>\n",
       "      <td>207.029412</td>\n",
       "      <td>71.0</td>\n",
       "      <td>473.0</td>\n",
       "      <td>141.695652</td>\n",
       "      <td>68.0</td>\n",
       "      <td>310.0</td>\n",
       "    </tr>\n",
       "  </tbody>\n",
       "</table>\n",
       "<p>330 rows × 86 columns</p>\n",
       "</div>"
      ],
      "text/plain": [
       "                   ski_resort              address                    city  \\\n",
       "0             Palisades Tahoe          PO Box 2007          Olympic Valley   \n",
       "1            Mammoth Mountain          P.O. Box 24  Mammoth Mountain Lakes   \n",
       "2            Donner Ski Ranch          P.O. Box 66                  Norden   \n",
       "3                  Sugar Bowl           P.O. Box 5                  Norden   \n",
       "4                    Kirkwood             PO Box 1                Kirkwood   \n",
       "..                        ...                  ...                     ...   \n",
       "325              Oak Mountain      141 Novosel Way              Speculator   \n",
       "326              Mt. Pleasant      23301 Plank Rd                  Venango   \n",
       "327               Hunt Hollow  7532 County Road 36                  Naples   \n",
       "328  Powder Ridge Connecticut  99 Powder Hill Road             Middlefield   \n",
       "329          Shawnee Mountain         P.O. Box 339     Shawnee on Delaware   \n",
       "\n",
       "            state     zipcode  summit  drop  base  gondolas_and_trams  \\\n",
       "0      California       96146    9050  2850  6200                 3.0   \n",
       "1      California       93546   11053  3100  7953                 3.0   \n",
       "2      California       95724    8012   750  7031                 0.0   \n",
       "3      California       95724    8383  1500  6883                 1.0   \n",
       "4      California       95646    9800  2000  7800                 0.0   \n",
       "..            ...         ...     ...   ...   ...                 ...   \n",
       "325      New York       12164    2400   650  1750                 0.0   \n",
       "326  Pennsylvania       16403    1540   340  1200                 0.0   \n",
       "327      New York       14512    2030   825  1000                 0.0   \n",
       "328   Connecticut       06455     720   550   170                 0.0   \n",
       "329  Pennsylvania  18356-0339    1350   700   650                 0.0   \n",
       "\n",
       "     fast_eight  ...  feb_max_4_guests  mar_mean_4_guests  mar_min_4_guests  \\\n",
       "0           6.0  ...            1128.0         497.857143             210.0   \n",
       "1           9.0  ...             589.0         339.200000             156.0   \n",
       "2           0.0  ...             650.0         326.657143             190.0   \n",
       "3           5.0  ...             590.0         349.457143             190.0   \n",
       "4           2.0  ...            1179.0         424.250000             146.0   \n",
       "..          ...  ...               ...                ...               ...   \n",
       "325         0.0  ...             499.0         270.914286             100.0   \n",
       "326         0.0  ...             350.0         176.885714              55.0   \n",
       "327         0.0  ...             800.0         314.742857             125.0   \n",
       "328         0.0  ...             898.0         225.457143              67.0   \n",
       "329         1.0  ...             400.0         197.281250             120.0   \n",
       "\n",
       "     mar_max_4_guests  apr_mean_4_guests  apr_min_4_guests apr_max_4_guests  \\\n",
       "0              1320.0         463.542857             178.0           1260.0   \n",
       "1               589.0         325.411765             126.0            699.0   \n",
       "2               739.0         349.257143             165.0            996.0   \n",
       "3               739.0         349.257143             165.0            996.0   \n",
       "4              1179.0         420.290323             150.0            950.0   \n",
       "..                ...                ...               ...              ...   \n",
       "325             769.0         285.028571             125.0            769.0   \n",
       "326             350.0         184.942857              55.0            350.0   \n",
       "327             800.0         307.342857             124.0            800.0   \n",
       "328             977.0         237.628571              68.0           1199.0   \n",
       "329             411.0         207.029412              71.0            473.0   \n",
       "\n",
       "    may_mean_4_guests may_min_4_guests may_max_4_guests  \n",
       "0          331.956522            122.0            825.0  \n",
       "1          144.571429             64.0            246.0  \n",
       "2          231.272727             83.0            643.0  \n",
       "3          245.590909            120.0            643.0  \n",
       "4          309.200000            114.0            590.0  \n",
       "..                ...              ...              ...  \n",
       "325        219.541667             95.0            460.0  \n",
       "326        189.666667             76.0            400.0  \n",
       "327        242.541667             99.0            444.0  \n",
       "328        148.208333             73.0            250.0  \n",
       "329        141.695652             68.0            310.0  \n",
       "\n",
       "[330 rows x 86 columns]"
      ]
     },
     "execution_count": 96,
     "metadata": {},
     "output_type": "execute_result"
    }
   ],
   "source": [
    "content_df"
   ]
  },
  {
   "cell_type": "markdown",
   "metadata": {},
   "source": [
    "### Google Geocoding API + Closest Airports"
   ]
  },
  {
   "cell_type": "markdown",
   "metadata": {},
   "source": [
    "Importing the final .csv from the Google Geocoding API pull. The code for this can be found in the **scraping_ipynb** file.\n",
    "\n",
    "Google's Geocoding API is a service that accepts a place as an address, latitude and longitude coordinates, or Place ID. It converts the address into latitude and longitude coordinates and a Place ID, or converts latitude and longitude coordinates or a Place ID into an address."
   ]
  },
  {
   "cell_type": "code",
   "execution_count": 97,
   "metadata": {},
   "outputs": [
    {
     "name": "stdout",
     "output_type": "stream",
     "text": [
      "<class 'pandas.core.frame.DataFrame'>\n",
      "RangeIndex: 332 entries, 0 to 331\n",
      "Data columns (total 5 columns):\n",
      " #   Column        Non-Null Count  Dtype  \n",
      "---  ------        --------------  -----  \n",
      " 0   Unnamed: 0    332 non-null    int64  \n",
      " 1   full_address  332 non-null    object \n",
      " 2   ski_resort    332 non-null    object \n",
      " 3   latitude      332 non-null    float64\n",
      " 4   longitude     332 non-null    float64\n",
      "dtypes: float64(2), int64(1), object(2)\n",
      "memory usage: 13.1+ KB\n"
     ]
    }
   ],
   "source": [
    "latitude_df.info()"
   ]
  },
  {
   "cell_type": "code",
   "execution_count": 98,
   "metadata": {},
   "outputs": [
    {
     "data": {
      "text/html": [
       "<div>\n",
       "<style scoped>\n",
       "    .dataframe tbody tr th:only-of-type {\n",
       "        vertical-align: middle;\n",
       "    }\n",
       "\n",
       "    .dataframe tbody tr th {\n",
       "        vertical-align: top;\n",
       "    }\n",
       "\n",
       "    .dataframe thead th {\n",
       "        text-align: right;\n",
       "    }\n",
       "</style>\n",
       "<table border=\"1\" class=\"dataframe\">\n",
       "  <thead>\n",
       "    <tr style=\"text-align: right;\">\n",
       "      <th></th>\n",
       "      <th>Unnamed: 0</th>\n",
       "      <th>full_address</th>\n",
       "      <th>ski_resort</th>\n",
       "      <th>latitude</th>\n",
       "      <th>longitude</th>\n",
       "    </tr>\n",
       "  </thead>\n",
       "  <tbody>\n",
       "    <tr>\n",
       "      <th>0</th>\n",
       "      <td>0</td>\n",
       "      <td>P.O. Box 166, Chewelah, Washington</td>\n",
       "      <td>49 Degrees North</td>\n",
       "      <td>48.276287</td>\n",
       "      <td>-117.715521</td>\n",
       "    </tr>\n",
       "    <tr>\n",
       "      <th>1</th>\n",
       "      <td>1</td>\n",
       "      <td>6600 Peller Avenue South, Hastings, Minnesota</td>\n",
       "      <td>Afton Alps</td>\n",
       "      <td>44.854416</td>\n",
       "      <td>-92.790839</td>\n",
       "    </tr>\n",
       "    <tr>\n",
       "      <th>2</th>\n",
       "      <td>2</td>\n",
       "      <td>POB 1068, Snoquale Pass, Washington</td>\n",
       "      <td>Alpental</td>\n",
       "      <td>47.392335</td>\n",
       "      <td>-121.400094</td>\n",
       "    </tr>\n",
       "    <tr>\n",
       "      <th>3</th>\n",
       "      <td>3</td>\n",
       "      <td>10620 Mayfield, Chesterland, Ohio</td>\n",
       "      <td>Alpine Valley Ohio</td>\n",
       "      <td>41.526814</td>\n",
       "      <td>-81.259820</td>\n",
       "    </tr>\n",
       "    <tr>\n",
       "      <th>4</th>\n",
       "      <td>4</td>\n",
       "      <td>P.O. Box 615, East Troy, Wisconsin</td>\n",
       "      <td>Alpine Valley Wisconsin</td>\n",
       "      <td>42.785292</td>\n",
       "      <td>-88.405096</td>\n",
       "    </tr>\n",
       "  </tbody>\n",
       "</table>\n",
       "</div>"
      ],
      "text/plain": [
       "   Unnamed: 0                                   full_address  \\\n",
       "0           0             P.O. Box 166, Chewelah, Washington   \n",
       "1           1  6600 Peller Avenue South, Hastings, Minnesota   \n",
       "2           2            POB 1068, Snoquale Pass, Washington   \n",
       "3           3              10620 Mayfield, Chesterland, Ohio   \n",
       "4           4             P.O. Box 615, East Troy, Wisconsin   \n",
       "\n",
       "                ski_resort   latitude   longitude  \n",
       "0         49 Degrees North  48.276287 -117.715521  \n",
       "1               Afton Alps  44.854416  -92.790839  \n",
       "2                 Alpental  47.392335 -121.400094  \n",
       "3       Alpine Valley Ohio  41.526814  -81.259820  \n",
       "4  Alpine Valley Wisconsin  42.785292  -88.405096  "
      ]
     },
     "execution_count": 98,
     "metadata": {},
     "output_type": "execute_result"
    }
   ],
   "source": [
    "latitude_df.head()"
   ]
  },
  {
   "cell_type": "code",
   "execution_count": 99,
   "metadata": {},
   "outputs": [
    {
     "name": "stdout",
     "output_type": "stream",
     "text": [
      "<class 'pandas.core.frame.DataFrame'>\n",
      "RangeIndex: 332 entries, 0 to 331\n",
      "Data columns (total 8 columns):\n",
      " #   Column      Non-Null Count  Dtype  \n",
      "---  ------      --------------  -----  \n",
      " 0   Unnamed: 0  332 non-null    int64  \n",
      " 1   ski_resort  332 non-null    object \n",
      " 2   airport_1   332 non-null    object \n",
      " 3   distance_1  332 non-null    float64\n",
      " 4   airport_2   332 non-null    object \n",
      " 5   distance_2  332 non-null    float64\n",
      " 6   airport_3   332 non-null    object \n",
      " 7   distance_3  332 non-null    float64\n",
      "dtypes: float64(3), int64(1), object(4)\n",
      "memory usage: 20.9+ KB\n"
     ]
    }
   ],
   "source": [
    "airport_df.info()"
   ]
  },
  {
   "cell_type": "code",
   "execution_count": 100,
   "metadata": {},
   "outputs": [
    {
     "data": {
      "text/html": [
       "<div>\n",
       "<style scoped>\n",
       "    .dataframe tbody tr th:only-of-type {\n",
       "        vertical-align: middle;\n",
       "    }\n",
       "\n",
       "    .dataframe tbody tr th {\n",
       "        vertical-align: top;\n",
       "    }\n",
       "\n",
       "    .dataframe thead th {\n",
       "        text-align: right;\n",
       "    }\n",
       "</style>\n",
       "<table border=\"1\" class=\"dataframe\">\n",
       "  <thead>\n",
       "    <tr style=\"text-align: right;\">\n",
       "      <th></th>\n",
       "      <th>Unnamed: 0</th>\n",
       "      <th>ski_resort</th>\n",
       "      <th>airport_1</th>\n",
       "      <th>distance_1</th>\n",
       "      <th>airport_2</th>\n",
       "      <th>distance_2</th>\n",
       "      <th>airport_3</th>\n",
       "      <th>distance_3</th>\n",
       "    </tr>\n",
       "  </thead>\n",
       "  <tbody>\n",
       "    <tr>\n",
       "      <th>0</th>\n",
       "      <td>0</td>\n",
       "      <td>49 Degrees North</td>\n",
       "      <td>Colville Municipal</td>\n",
       "      <td>32.024441</td>\n",
       "      <td>Ione Municipal</td>\n",
       "      <td>52.867442</td>\n",
       "      <td>Wiley Post</td>\n",
       "      <td>2171.173215</td>\n",
       "    </tr>\n",
       "    <tr>\n",
       "      <th>1</th>\n",
       "      <td>1</td>\n",
       "      <td>Afton Alps</td>\n",
       "      <td>Lake Elmo</td>\n",
       "      <td>16.707929</td>\n",
       "      <td>South St.Paul Municipal</td>\n",
       "      <td>19.079077</td>\n",
       "      <td>Babelthoup/Koror</td>\n",
       "      <td>12532.478178</td>\n",
       "    </tr>\n",
       "    <tr>\n",
       "      <th>2</th>\n",
       "      <td>2</td>\n",
       "      <td>Alpental</td>\n",
       "      <td>Cle Elum Municipal</td>\n",
       "      <td>45.311060</td>\n",
       "      <td>Renton Municipal</td>\n",
       "      <td>62.356057</td>\n",
       "      <td>Palmdale Production Flight</td>\n",
       "      <td>1445.818249</td>\n",
       "    </tr>\n",
       "    <tr>\n",
       "      <th>3</th>\n",
       "      <td>3</td>\n",
       "      <td>Alpine Valley Ohio</td>\n",
       "      <td>Geauga County</td>\n",
       "      <td>18.511068</td>\n",
       "      <td>Cuyahoga County</td>\n",
       "      <td>19.327603</td>\n",
       "      <td>Rock County</td>\n",
       "      <td>653.338468</td>\n",
       "    </tr>\n",
       "    <tr>\n",
       "      <th>4</th>\n",
       "      <td>4</td>\n",
       "      <td>Alpine Valley Wisconsin</td>\n",
       "      <td>East Troy Municipal</td>\n",
       "      <td>2.966750</td>\n",
       "      <td>Palmyra Municipal</td>\n",
       "      <td>19.114149</td>\n",
       "      <td>Sac City Municipal</td>\n",
       "      <td>540.030304</td>\n",
       "    </tr>\n",
       "  </tbody>\n",
       "</table>\n",
       "</div>"
      ],
      "text/plain": [
       "   Unnamed: 0               ski_resort            airport_1  distance_1  \\\n",
       "0           0         49 Degrees North   Colville Municipal   32.024441   \n",
       "1           1               Afton Alps            Lake Elmo   16.707929   \n",
       "2           2                 Alpental   Cle Elum Municipal   45.311060   \n",
       "3           3       Alpine Valley Ohio        Geauga County   18.511068   \n",
       "4           4  Alpine Valley Wisconsin  East Troy Municipal    2.966750   \n",
       "\n",
       "                 airport_2  distance_2                   airport_3  \\\n",
       "0           Ione Municipal   52.867442                  Wiley Post   \n",
       "1  South St.Paul Municipal   19.079077            Babelthoup/Koror   \n",
       "2         Renton Municipal   62.356057  Palmdale Production Flight   \n",
       "3          Cuyahoga County   19.327603                 Rock County   \n",
       "4        Palmyra Municipal   19.114149          Sac City Municipal   \n",
       "\n",
       "     distance_3  \n",
       "0   2171.173215  \n",
       "1  12532.478178  \n",
       "2   1445.818249  \n",
       "3    653.338468  \n",
       "4    540.030304  "
      ]
     },
     "execution_count": 100,
     "metadata": {},
     "output_type": "execute_result"
    }
   ],
   "source": [
    "airport_df.head()"
   ]
  },
  {
   "cell_type": "code",
   "execution_count": 101,
   "metadata": {},
   "outputs": [],
   "source": [
    "#dropping unnamed\n",
    "latitude_df.drop(columns=\"Unnamed: 0\", inplace=True)\n",
    "airport_df.drop(columns=\"Unnamed: 0\", inplace=True)"
   ]
  },
  {
   "cell_type": "code",
   "execution_count": 102,
   "metadata": {},
   "outputs": [],
   "source": [
    "#merging latitude df and airport df to combine with final dataframe\n",
    "latitude_df = pd.merge(latitude_df, airport_df, on=\"ski_resort\")"
   ]
  },
  {
   "cell_type": "code",
   "execution_count": 103,
   "metadata": {},
   "outputs": [
    {
     "data": {
      "text/plain": [
       "array(['Mt. Shasta Board Ski Park', 'Summit at Snoqualmie', 'Black River',\n",
       "       'Jackson Creek', 'Wild Mountain Ski', 'Anthony Lakes Mountain',\n",
       "       'Red Lodge Mountain.', 'Snowy Range', 'Schuss Mountain',\n",
       "       'Snow Summit', 'Timberline Mountain', 'Montage Mountain',\n",
       "       'Big Squaw Mountain Ski', 'Hyland Ski',\n",
       "       'Coffee Mill Ski Snowboard', 'Alpine Valley Michigan',\n",
       "       'Brantling Ski Slopes', 'McCauley Mountain', 'Mt. Kato',\n",
       "       'Mt. Holly', 'Ski Snowstar', 'Deer Mountain', 'Whaleback',\n",
       "       'Mt. Pleasant'], dtype=object)"
      ]
     },
     "execution_count": 103,
     "metadata": {},
     "output_type": "execute_result"
    }
   ],
   "source": [
    "content_df.loc[~content_df['ski_resort'].isin(latitude_df['ski_resort']),\n",
    "                         'ski_resort'].unique()"
   ]
  },
  {
   "cell_type": "code",
   "execution_count": 104,
   "metadata": {},
   "outputs": [],
   "source": [
    "#updating Timberline because there are multiple similar resorts\n",
    "latitude_df.loc[(latitude_df['ski_resort'] == 'Timberline') & (latitude_df['full_address'] == \"HC 70 Box 488, Davis, West Virginia\"), 'ski_resort'] = \"Timberline Mountain\"\n",
    "\n",
    "#batch renaming\n",
    "lat_list = [\"Anthony Lakes\", \"Mount Holly\", \"Mt. Shasta\", \"Coffee ll\", \"Brantling Ski\", \"Big Squaw\",'McCauley Mountain Ski Center',\n",
    "           'Mount Kato', 'Hyland Ski Snowboard Area']\n",
    "\n",
    "lat_replace = ['Anthony Lakes Mountain', 'Mt. Holly','Mt. Shasta Board Ski Park',\n",
    "               'Coffee Mill Ski Snowboard','Brantling Ski Slopes', 'Big Squaw Mountain Ski',\n",
    "              'McCauley Mountain', 'Mt. Kato', 'Hyland Ski']\n",
    "\n",
    "latitude_df.replace(lat_list, lat_replace, regex=True, inplace=True)"
   ]
  },
  {
   "cell_type": "code",
   "execution_count": 105,
   "metadata": {},
   "outputs": [],
   "source": [
    "rename_list = [\"The Summit at Snoqualmie\", 'Wild Mountain Ski Snowboard Area', 'Red Lodge Mtn.',\n",
    "              'Sno Mountain', 'Ski Snowstar Winter Sports Park','Ski Mystic at Deer Mountain', \"Mount Pleasant\",\n",
    "              'Shanty Creek', 'Red Lodge Mountain', 'Snowy Range Ski Recreation Area', \"Whalebk\", \"New Hermon Mountain\"]\n",
    "\n",
    "rename_to = [\"Summit at Snoqualmie\", \"Wild Mountain Ski\", 'Red Lodge Mountain',\n",
    "            'Montage Mountain', 'Ski Snowstar', 'Deer Mountain', \"Mt. Pleasant\", \"Schuss Mountain\",\n",
    "             \"Red Lodge Mountain.\", \"Snowy Range\", \"Whaleback\", \"New Hermon Mountain\"]\n",
    "\n",
    "latitude_df.replace(rename_list, rename_to, regex=True, inplace=True)"
   ]
  },
  {
   "cell_type": "code",
   "execution_count": 106,
   "metadata": {},
   "outputs": [
    {
     "data": {
      "text/plain": [
       "array(['Black River', 'Jackson Creek', 'Red Lodge Mountain.',\n",
       "       'Snow Summit', 'Alpine Valley Michigan'], dtype=object)"
      ]
     },
     "execution_count": 106,
     "metadata": {},
     "output_type": "execute_result"
    }
   ],
   "source": [
    "#confiring all names are consistent besides two remaining values that don't exist in the other dataframe\n",
    "content_df.loc[~content_df['ski_resort'].isin(latitude_df['ski_resort']),\n",
    "                         'ski_resort'].unique()"
   ]
  },
  {
   "cell_type": "markdown",
   "metadata": {},
   "source": [
    "### Merging with feature dataframe"
   ]
  },
  {
   "cell_type": "code",
   "execution_count": 107,
   "metadata": {},
   "outputs": [],
   "source": [
    "#merging latitude df with final content_df\n",
    "content_df = pd.merge(content_df, latitude_df, on=\"ski_resort\", how=\"left\")"
   ]
  },
  {
   "cell_type": "code",
   "execution_count": 112,
   "metadata": {},
   "outputs": [
    {
     "name": "stdout",
     "output_type": "stream",
     "text": [
      "<class 'pandas.core.frame.DataFrame'>\n",
      "Int64Index: 329 entries, 0 to 329\n",
      "Data columns (total 86 columns):\n",
      " #   Column                    Non-Null Count  Dtype  \n",
      "---  ------                    --------------  -----  \n",
      " 0   ski_resort                329 non-null    object \n",
      " 1   address                   329 non-null    object \n",
      " 2   city                      329 non-null    object \n",
      " 3   state                     329 non-null    object \n",
      " 4   zipcode                   329 non-null    object \n",
      " 5   sumt                      329 non-null    int64  \n",
      " 6   drop                      329 non-null    int64  \n",
      " 7   base                      329 non-null    int64  \n",
      " 8   gondolas_and_trams        329 non-null    float64\n",
      " 9   fastEight                 329 non-null    float64\n",
      " 10  highSpeedSixes            329 non-null    float64\n",
      " 11  quadChairs                329 non-null    float64\n",
      " 12  tripleChairs              329 non-null    float64\n",
      " 13  doubleChairs              329 non-null    float64\n",
      " 14  surfeLifts                329 non-null    float64\n",
      " 15  totalRuns (acre)          329 non-null    int64  \n",
      " 16  longestRun (miles)        329 non-null    float64\n",
      " 17  daysOpenLastYear          329 non-null    int64  \n",
      " 18  averageSnowfall (inches)  329 non-null    int64  \n",
      " 19  projectedOpening          329 non-null    object \n",
      " 20  projectedClosing          329 non-null    object \n",
      " 21  NovSnow                   329 non-null    float64\n",
      " 22  DecSnow                   329 non-null    float64\n",
      " 23  JanSnow                   329 non-null    float64\n",
      " 24  FebSnow                   329 non-null    float64\n",
      " 25  MarSnow                   329 non-null    float64\n",
      " 26  AprSnow                   329 non-null    float64\n",
      " 27  child_season              329 non-null    int64  \n",
      " 28  junior_season             329 non-null    int64  \n",
      " 29  adult_season              329 non-null    int64  \n",
      " 30  child_weekday             329 non-null    int64  \n",
      " 31  junior_weekday            329 non-null    int64  \n",
      " 32  adult_weekday             329 non-null    int64  \n",
      " 33  senior_weekday            329 non-null    int64  \n",
      " 34  child_weekend             329 non-null    int64  \n",
      " 35  junior_weekend            329 non-null    int64  \n",
      " 36  adult_weekend             329 non-null    int64  \n",
      " 37  Url                       329 non-null    object \n",
      " 38  beginner_runs             329 non-null    object \n",
      " 39  intermediate_runs         329 non-null    object \n",
      " 40  advanced_runs             329 non-null    object \n",
      " 41  expert_runs               329 non-null    object \n",
      " 42  epic                      329 non-null    int64  \n",
      " 43  mountain_collective       329 non-null    int64  \n",
      " 44  ikon                      329 non-null    int64  \n",
      " 45  indy                      329 non-null    int64  \n",
      " 46  dec_mean_2_guests         326 non-null    float64\n",
      " 47  dec_min_2_guests          326 non-null    float64\n",
      " 48  dec_max_2_guests          326 non-null    float64\n",
      " 49  jan_mean_2_guests         326 non-null    float64\n",
      " 50  jan_min_2_guests          326 non-null    float64\n",
      " 51  jan_max_2_guests          326 non-null    float64\n",
      " 52  feb_mean_2_guests         326 non-null    float64\n",
      " 53  feb_min_2_guests          326 non-null    float64\n",
      " 54  feb_max_2_guests          326 non-null    float64\n",
      " 55  mar_mean_2_guests         326 non-null    float64\n",
      " 56  mar_min_2_guests          326 non-null    float64\n",
      " 57  mar_max_2_guests          326 non-null    float64\n",
      " 58  apr_mean_2_guests         326 non-null    float64\n",
      " 59  apr_min_2_guests          326 non-null    float64\n",
      " 60  apr_max_2_guests          326 non-null    float64\n",
      " 61  may_mean_2_guests         326 non-null    float64\n",
      " 62  may_min_2_guests          326 non-null    float64\n",
      " 63  may_max_2_guests          326 non-null    float64\n",
      " 64  dec_mean_4_guests         326 non-null    float64\n",
      " 65  dec_min_4_guests          326 non-null    float64\n",
      " 66  dec_max_4_guests          326 non-null    float64\n",
      " 67  jan_mean_4_guests         326 non-null    float64\n",
      " 68  jan_min_4_guests          326 non-null    float64\n",
      " 69  jan_max_4_guests          326 non-null    float64\n",
      " 70  feb_mean_4_guests         326 non-null    float64\n",
      " 71  feb_min_4_guests          326 non-null    float64\n",
      " 72  feb_max_4_guests          326 non-null    float64\n",
      " 73  mar_mean_4_guests         326 non-null    float64\n",
      " 74  mar_min_4_guests          326 non-null    float64\n",
      " 75  mar_max_4_guests          326 non-null    float64\n",
      " 76  apr_mean_4_guests         326 non-null    float64\n",
      " 77  apr_min_4_guests          326 non-null    float64\n",
      " 78  apr_max_4_guests          326 non-null    float64\n",
      " 79  may_mean_4_guests         326 non-null    float64\n",
      " 80  may_min_4_guests          326 non-null    float64\n",
      " 81  may_max_4_guests          326 non-null    float64\n",
      " 82  full_address              327 non-null    object \n",
      " 83  latitude                  327 non-null    float64\n",
      " 84  longitude                 327 non-null    float64\n",
      " 85  total_lifts               329 non-null    float64\n",
      "dtypes: float64(53), int64(20), object(13)\n",
      "memory usage: 223.6+ KB\n"
     ]
    }
   ],
   "source": [
    "content_df.info()"
   ]
  },
  {
   "cell_type": "code",
   "execution_count": 109,
   "metadata": {},
   "outputs": [
    {
     "data": {
      "text/html": [
       "<div>\n",
       "<style scoped>\n",
       "    .dataframe tbody tr th:only-of-type {\n",
       "        vertical-align: middle;\n",
       "    }\n",
       "\n",
       "    .dataframe tbody tr th {\n",
       "        vertical-align: top;\n",
       "    }\n",
       "\n",
       "    .dataframe thead th {\n",
       "        text-align: right;\n",
       "    }\n",
       "</style>\n",
       "<table border=\"1\" class=\"dataframe\">\n",
       "  <thead>\n",
       "    <tr style=\"text-align: right;\">\n",
       "      <th></th>\n",
       "      <th>ski_resort</th>\n",
       "      <th>address</th>\n",
       "      <th>city</th>\n",
       "      <th>state</th>\n",
       "      <th>zipcode</th>\n",
       "      <th>summit</th>\n",
       "      <th>drop</th>\n",
       "      <th>base</th>\n",
       "      <th>gondolas_and_trams</th>\n",
       "      <th>fast_eight</th>\n",
       "      <th>...</th>\n",
       "      <th>may_max_4_guests</th>\n",
       "      <th>full_address</th>\n",
       "      <th>latitude</th>\n",
       "      <th>longitude</th>\n",
       "      <th>airport_1</th>\n",
       "      <th>distance_1</th>\n",
       "      <th>airport_2</th>\n",
       "      <th>distance_2</th>\n",
       "      <th>airport_3</th>\n",
       "      <th>distance_3</th>\n",
       "    </tr>\n",
       "  </thead>\n",
       "  <tbody>\n",
       "    <tr>\n",
       "      <th>0</th>\n",
       "      <td>Palisades Tahoe</td>\n",
       "      <td>PO Box 2007</td>\n",
       "      <td>Olympic Valley</td>\n",
       "      <td>California</td>\n",
       "      <td>96146</td>\n",
       "      <td>9050</td>\n",
       "      <td>2850</td>\n",
       "      <td>6200</td>\n",
       "      <td>3.0</td>\n",
       "      <td>6.0</td>\n",
       "      <td>...</td>\n",
       "      <td>825.0</td>\n",
       "      <td>PO Box 2007, Olympic Valley, California</td>\n",
       "      <td>39.196980</td>\n",
       "      <td>-120.235705</td>\n",
       "      <td>Truckee-Tahoe</td>\n",
       "      <td>15.992749</td>\n",
       "      <td>Minden-Tahoe</td>\n",
       "      <td>47.213899</td>\n",
       "      <td>Greenville Muni</td>\n",
       "      <td>3357.306610</td>\n",
       "    </tr>\n",
       "    <tr>\n",
       "      <th>1</th>\n",
       "      <td>Mammoth Mountain</td>\n",
       "      <td>P.O. Box 24</td>\n",
       "      <td>Mammoth Mountain Lakes</td>\n",
       "      <td>California</td>\n",
       "      <td>93546</td>\n",
       "      <td>11053</td>\n",
       "      <td>3100</td>\n",
       "      <td>7953</td>\n",
       "      <td>3.0</td>\n",
       "      <td>9.0</td>\n",
       "      <td>...</td>\n",
       "      <td>246.0</td>\n",
       "      <td>P.O. Box 24, Mammoth Lakes, California</td>\n",
       "      <td>37.648546</td>\n",
       "      <td>-118.972079</td>\n",
       "      <td>Mammoth Yosemite</td>\n",
       "      <td>12.136117</td>\n",
       "      <td>Bryant</td>\n",
       "      <td>71.790347</td>\n",
       "      <td>Grand Rapids-Itasca County</td>\n",
       "      <td>2330.068385</td>\n",
       "    </tr>\n",
       "    <tr>\n",
       "      <th>2</th>\n",
       "      <td>Donner Ski Ranch</td>\n",
       "      <td>P.O. Box 66</td>\n",
       "      <td>Norden</td>\n",
       "      <td>California</td>\n",
       "      <td>95724</td>\n",
       "      <td>8012</td>\n",
       "      <td>750</td>\n",
       "      <td>7031</td>\n",
       "      <td>0.0</td>\n",
       "      <td>0.0</td>\n",
       "      <td>...</td>\n",
       "      <td>643.0</td>\n",
       "      <td>P.O. Box 66, Norden, California</td>\n",
       "      <td>39.317356</td>\n",
       "      <td>-120.354182</td>\n",
       "      <td>Truckee-Tahoe</td>\n",
       "      <td>18.464839</td>\n",
       "      <td>Reno/Tahoe International</td>\n",
       "      <td>54.237886</td>\n",
       "      <td>Mapleton Municipal</td>\n",
       "      <td>2085.874328</td>\n",
       "    </tr>\n",
       "    <tr>\n",
       "      <th>3</th>\n",
       "      <td>Sugar Bowl</td>\n",
       "      <td>P.O. Box 5</td>\n",
       "      <td>Norden</td>\n",
       "      <td>California</td>\n",
       "      <td>95724</td>\n",
       "      <td>8383</td>\n",
       "      <td>1500</td>\n",
       "      <td>6883</td>\n",
       "      <td>1.0</td>\n",
       "      <td>5.0</td>\n",
       "      <td>...</td>\n",
       "      <td>643.0</td>\n",
       "      <td>P.O. Box 5, Norden, California</td>\n",
       "      <td>39.317356</td>\n",
       "      <td>-120.354182</td>\n",
       "      <td>Truckee-Tahoe</td>\n",
       "      <td>18.464839</td>\n",
       "      <td>Reno/Tahoe International</td>\n",
       "      <td>54.237886</td>\n",
       "      <td>Mapleton Municipal</td>\n",
       "      <td>2085.874328</td>\n",
       "    </tr>\n",
       "    <tr>\n",
       "      <th>4</th>\n",
       "      <td>Kirkwood</td>\n",
       "      <td>PO Box 1</td>\n",
       "      <td>Kirkwood</td>\n",
       "      <td>California</td>\n",
       "      <td>95646</td>\n",
       "      <td>9800</td>\n",
       "      <td>2000</td>\n",
       "      <td>7800</td>\n",
       "      <td>0.0</td>\n",
       "      <td>2.0</td>\n",
       "      <td>...</td>\n",
       "      <td>590.0</td>\n",
       "      <td>PO Box 1, Kirkwood, California</td>\n",
       "      <td>38.702308</td>\n",
       "      <td>-120.072244</td>\n",
       "      <td>Lake Tahoe</td>\n",
       "      <td>22.320342</td>\n",
       "      <td>Minden-Tahoe</td>\n",
       "      <td>43.275852</td>\n",
       "      <td>Nogales International</td>\n",
       "      <td>1165.403603</td>\n",
       "    </tr>\n",
       "  </tbody>\n",
       "</table>\n",
       "<p>5 rows × 95 columns</p>\n",
       "</div>"
      ],
      "text/plain": [
       "         ski_resort      address                    city       state zipcode  \\\n",
       "0   Palisades Tahoe  PO Box 2007          Olympic Valley  California   96146   \n",
       "1  Mammoth Mountain  P.O. Box 24  Mammoth Mountain Lakes  California   93546   \n",
       "2  Donner Ski Ranch  P.O. Box 66                  Norden  California   95724   \n",
       "3        Sugar Bowl   P.O. Box 5                  Norden  California   95724   \n",
       "4          Kirkwood     PO Box 1                Kirkwood  California   95646   \n",
       "\n",
       "   summit  drop  base  gondolas_and_trams  fast_eight  ...  may_max_4_guests  \\\n",
       "0    9050  2850  6200                 3.0         6.0  ...             825.0   \n",
       "1   11053  3100  7953                 3.0         9.0  ...             246.0   \n",
       "2    8012   750  7031                 0.0         0.0  ...             643.0   \n",
       "3    8383  1500  6883                 1.0         5.0  ...             643.0   \n",
       "4    9800  2000  7800                 0.0         2.0  ...             590.0   \n",
       "\n",
       "                              full_address   latitude   longitude  \\\n",
       "0  PO Box 2007, Olympic Valley, California  39.196980 -120.235705   \n",
       "1   P.O. Box 24, Mammoth Lakes, California  37.648546 -118.972079   \n",
       "2          P.O. Box 66, Norden, California  39.317356 -120.354182   \n",
       "3           P.O. Box 5, Norden, California  39.317356 -120.354182   \n",
       "4           PO Box 1, Kirkwood, California  38.702308 -120.072244   \n",
       "\n",
       "          airport_1  distance_1                 airport_2 distance_2  \\\n",
       "0     Truckee-Tahoe   15.992749              Minden-Tahoe  47.213899   \n",
       "1  Mammoth Yosemite   12.136117                   Bryant   71.790347   \n",
       "2     Truckee-Tahoe   18.464839  Reno/Tahoe International  54.237886   \n",
       "3     Truckee-Tahoe   18.464839  Reno/Tahoe International  54.237886   \n",
       "4        Lake Tahoe   22.320342              Minden-Tahoe  43.275852   \n",
       "\n",
       "                    airport_3   distance_3  \n",
       "0             Greenville Muni  3357.306610  \n",
       "1  Grand Rapids-Itasca County  2330.068385  \n",
       "2          Mapleton Municipal  2085.874328  \n",
       "3          Mapleton Municipal  2085.874328  \n",
       "4       Nogales International  1165.403603  \n",
       "\n",
       "[5 rows x 95 columns]"
      ]
     },
     "execution_count": 109,
     "metadata": {},
     "output_type": "execute_result"
    }
   ],
   "source": [
    "content_df.head()"
   ]
  },
  {
   "cell_type": "code",
   "execution_count": 110,
   "metadata": {},
   "outputs": [],
   "source": [
    "#changing\n",
    "col_list = [\"nov_snow\", \"dec_snow\", \"jan_snow\", \"feb_snow\", \"mar_snow\", \"apr_snow\"]\n",
    "\n",
    "for x in col_list:\n",
    "    content_df[x] = content_df[x].astype(int)"
   ]
  },
  {
   "cell_type": "markdown",
   "metadata": {},
   "source": [
    "### Adding Additional Column"
   ]
  },
  {
   "cell_type": "code",
   "execution_count": 111,
   "metadata": {},
   "outputs": [],
   "source": [
    "lift_list = ['gondolas_and_trams','fast_eight','high_speed_sixes','quad_chairs','triple_chairs','double_chairs',\n",
    "             'surface_lifts']\n",
    "\n",
    "for x in lift_list:\n",
    "    content_df[x] = content_df[x].fillna(0)"
   ]
  },
  {
   "cell_type": "code",
   "execution_count": 112,
   "metadata": {},
   "outputs": [],
   "source": [
    "content_df['gondolas_and_trams'] = content_df['gondolas_and_trams'].astype(float)"
   ]
  },
  {
   "cell_type": "code",
   "execution_count": 113,
   "metadata": {},
   "outputs": [],
   "source": [
    "#making new column that totals the lift sum\n",
    "content_df['total_lifts'] = 0 \n",
    "\n",
    "#adding columns\n",
    "content_df['total_lifts'] = content_df['gondolas_and_trams'] + content_df['fast_eight'] + content_df['high_speed_sixes'] + content_df['quad_chairs'] + content_df['triple_chairs'] + content_df['double_chairs'] + content_df['surface_lifts']"
   ]
  },
  {
   "cell_type": "code",
   "execution_count": 114,
   "metadata": {},
   "outputs": [
    {
     "data": {
      "text/html": [
       "<div>\n",
       "<style scoped>\n",
       "    .dataframe tbody tr th:only-of-type {\n",
       "        vertical-align: middle;\n",
       "    }\n",
       "\n",
       "    .dataframe tbody tr th {\n",
       "        vertical-align: top;\n",
       "    }\n",
       "\n",
       "    .dataframe thead th {\n",
       "        text-align: right;\n",
       "    }\n",
       "</style>\n",
       "<table border=\"1\" class=\"dataframe\">\n",
       "  <thead>\n",
       "    <tr style=\"text-align: right;\">\n",
       "      <th></th>\n",
       "      <th>ski_resort</th>\n",
       "      <th>address</th>\n",
       "      <th>city</th>\n",
       "      <th>state</th>\n",
       "      <th>zipcode</th>\n",
       "      <th>summit</th>\n",
       "      <th>drop</th>\n",
       "      <th>base</th>\n",
       "      <th>gondolas_and_trams</th>\n",
       "      <th>fast_eight</th>\n",
       "      <th>...</th>\n",
       "      <th>full_address</th>\n",
       "      <th>latitude</th>\n",
       "      <th>longitude</th>\n",
       "      <th>airport_1</th>\n",
       "      <th>distance_1</th>\n",
       "      <th>airport_2</th>\n",
       "      <th>distance_2</th>\n",
       "      <th>airport_3</th>\n",
       "      <th>distance_3</th>\n",
       "      <th>total_lifts</th>\n",
       "    </tr>\n",
       "  </thead>\n",
       "  <tbody>\n",
       "    <tr>\n",
       "      <th>0</th>\n",
       "      <td>Palisades Tahoe</td>\n",
       "      <td>PO Box 2007</td>\n",
       "      <td>Olympic Valley</td>\n",
       "      <td>California</td>\n",
       "      <td>96146</td>\n",
       "      <td>9050</td>\n",
       "      <td>2850</td>\n",
       "      <td>6200</td>\n",
       "      <td>3.0</td>\n",
       "      <td>6.0</td>\n",
       "      <td>...</td>\n",
       "      <td>PO Box 2007, Olympic Valley, California</td>\n",
       "      <td>39.196980</td>\n",
       "      <td>-120.235705</td>\n",
       "      <td>Truckee-Tahoe</td>\n",
       "      <td>15.992749</td>\n",
       "      <td>Minden-Tahoe</td>\n",
       "      <td>47.213899</td>\n",
       "      <td>Greenville Muni</td>\n",
       "      <td>3357.306610</td>\n",
       "      <td>36.0</td>\n",
       "    </tr>\n",
       "    <tr>\n",
       "      <th>1</th>\n",
       "      <td>Mammoth Mountain</td>\n",
       "      <td>P.O. Box 24</td>\n",
       "      <td>Mammoth Mountain Lakes</td>\n",
       "      <td>California</td>\n",
       "      <td>93546</td>\n",
       "      <td>11053</td>\n",
       "      <td>3100</td>\n",
       "      <td>7953</td>\n",
       "      <td>3.0</td>\n",
       "      <td>9.0</td>\n",
       "      <td>...</td>\n",
       "      <td>P.O. Box 24, Mammoth Lakes, California</td>\n",
       "      <td>37.648546</td>\n",
       "      <td>-118.972079</td>\n",
       "      <td>Mammoth Yosemite</td>\n",
       "      <td>12.136117</td>\n",
       "      <td>Bryant</td>\n",
       "      <td>71.790347</td>\n",
       "      <td>Grand Rapids-Itasca County</td>\n",
       "      <td>2330.068385</td>\n",
       "      <td>25.0</td>\n",
       "    </tr>\n",
       "    <tr>\n",
       "      <th>2</th>\n",
       "      <td>Donner Ski Ranch</td>\n",
       "      <td>P.O. Box 66</td>\n",
       "      <td>Norden</td>\n",
       "      <td>California</td>\n",
       "      <td>95724</td>\n",
       "      <td>8012</td>\n",
       "      <td>750</td>\n",
       "      <td>7031</td>\n",
       "      <td>0.0</td>\n",
       "      <td>0.0</td>\n",
       "      <td>...</td>\n",
       "      <td>P.O. Box 66, Norden, California</td>\n",
       "      <td>39.317356</td>\n",
       "      <td>-120.354182</td>\n",
       "      <td>Truckee-Tahoe</td>\n",
       "      <td>18.464839</td>\n",
       "      <td>Reno/Tahoe International</td>\n",
       "      <td>54.237886</td>\n",
       "      <td>Mapleton Municipal</td>\n",
       "      <td>2085.874328</td>\n",
       "      <td>8.0</td>\n",
       "    </tr>\n",
       "    <tr>\n",
       "      <th>3</th>\n",
       "      <td>Sugar Bowl</td>\n",
       "      <td>P.O. Box 5</td>\n",
       "      <td>Norden</td>\n",
       "      <td>California</td>\n",
       "      <td>95724</td>\n",
       "      <td>8383</td>\n",
       "      <td>1500</td>\n",
       "      <td>6883</td>\n",
       "      <td>1.0</td>\n",
       "      <td>5.0</td>\n",
       "      <td>...</td>\n",
       "      <td>P.O. Box 5, Norden, California</td>\n",
       "      <td>39.317356</td>\n",
       "      <td>-120.354182</td>\n",
       "      <td>Truckee-Tahoe</td>\n",
       "      <td>18.464839</td>\n",
       "      <td>Reno/Tahoe International</td>\n",
       "      <td>54.237886</td>\n",
       "      <td>Mapleton Municipal</td>\n",
       "      <td>2085.874328</td>\n",
       "      <td>12.0</td>\n",
       "    </tr>\n",
       "    <tr>\n",
       "      <th>4</th>\n",
       "      <td>Kirkwood</td>\n",
       "      <td>PO Box 1</td>\n",
       "      <td>Kirkwood</td>\n",
       "      <td>California</td>\n",
       "      <td>95646</td>\n",
       "      <td>9800</td>\n",
       "      <td>2000</td>\n",
       "      <td>7800</td>\n",
       "      <td>0.0</td>\n",
       "      <td>2.0</td>\n",
       "      <td>...</td>\n",
       "      <td>PO Box 1, Kirkwood, California</td>\n",
       "      <td>38.702308</td>\n",
       "      <td>-120.072244</td>\n",
       "      <td>Lake Tahoe</td>\n",
       "      <td>22.320342</td>\n",
       "      <td>Minden-Tahoe</td>\n",
       "      <td>43.275852</td>\n",
       "      <td>Nogales International</td>\n",
       "      <td>1165.403603</td>\n",
       "      <td>13.0</td>\n",
       "    </tr>\n",
       "    <tr>\n",
       "      <th>...</th>\n",
       "      <td>...</td>\n",
       "      <td>...</td>\n",
       "      <td>...</td>\n",
       "      <td>...</td>\n",
       "      <td>...</td>\n",
       "      <td>...</td>\n",
       "      <td>...</td>\n",
       "      <td>...</td>\n",
       "      <td>...</td>\n",
       "      <td>...</td>\n",
       "      <td>...</td>\n",
       "      <td>...</td>\n",
       "      <td>...</td>\n",
       "      <td>...</td>\n",
       "      <td>...</td>\n",
       "      <td>...</td>\n",
       "      <td>...</td>\n",
       "      <td>...</td>\n",
       "      <td>...</td>\n",
       "      <td>...</td>\n",
       "      <td>...</td>\n",
       "    </tr>\n",
       "    <tr>\n",
       "      <th>325</th>\n",
       "      <td>Oak Mountain</td>\n",
       "      <td>141 Novosel Way</td>\n",
       "      <td>Speculator</td>\n",
       "      <td>New York</td>\n",
       "      <td>12164</td>\n",
       "      <td>2400</td>\n",
       "      <td>650</td>\n",
       "      <td>1750</td>\n",
       "      <td>0.0</td>\n",
       "      <td>0.0</td>\n",
       "      <td>...</td>\n",
       "      <td>141 Novosel Way, Speculator, NY</td>\n",
       "      <td>43.517884</td>\n",
       "      <td>-74.361618</td>\n",
       "      <td>Piseco Muni</td>\n",
       "      <td>14.487038</td>\n",
       "      <td>Saratoga Cty</td>\n",
       "      <td>65.825037</td>\n",
       "      <td>Hillsboro Municipal</td>\n",
       "      <td>1814.724642</td>\n",
       "      <td>4.0</td>\n",
       "    </tr>\n",
       "    <tr>\n",
       "      <th>326</th>\n",
       "      <td>Mt. Pleasant</td>\n",
       "      <td>23301 Plank Rd</td>\n",
       "      <td>Venango</td>\n",
       "      <td>Pennsylvania</td>\n",
       "      <td>16403</td>\n",
       "      <td>1540</td>\n",
       "      <td>340</td>\n",
       "      <td>1200</td>\n",
       "      <td>0.0</td>\n",
       "      <td>0.0</td>\n",
       "      <td>...</td>\n",
       "      <td>23301 Plank Rd ,  Venango, Pa 16440</td>\n",
       "      <td>41.795526</td>\n",
       "      <td>-80.097363</td>\n",
       "      <td>Port Meadville</td>\n",
       "      <td>21.167046</td>\n",
       "      <td>Erie Intl</td>\n",
       "      <td>32.517680</td>\n",
       "      <td>Nondalton</td>\n",
       "      <td>5284.952567</td>\n",
       "      <td>2.0</td>\n",
       "    </tr>\n",
       "    <tr>\n",
       "      <th>327</th>\n",
       "      <td>Hunt Hollow</td>\n",
       "      <td>7532 County Road 36</td>\n",
       "      <td>Naples</td>\n",
       "      <td>New York</td>\n",
       "      <td>14512</td>\n",
       "      <td>2030</td>\n",
       "      <td>825</td>\n",
       "      <td>1000</td>\n",
       "      <td>0.0</td>\n",
       "      <td>0.0</td>\n",
       "      <td>...</td>\n",
       "      <td>7532 County Road 36, Naples, New York</td>\n",
       "      <td>42.643014</td>\n",
       "      <td>-77.469117</td>\n",
       "      <td>Dansville Muni</td>\n",
       "      <td>21.514044</td>\n",
       "      <td>Hornell Muni</td>\n",
       "      <td>33.855765</td>\n",
       "      <td>Perry-Warsaw</td>\n",
       "      <td>48.883513</td>\n",
       "      <td>3.0</td>\n",
       "    </tr>\n",
       "    <tr>\n",
       "      <th>328</th>\n",
       "      <td>Powder Ridge Connecticut</td>\n",
       "      <td>99 Powder Hill Road</td>\n",
       "      <td>Middlefield</td>\n",
       "      <td>Connecticut</td>\n",
       "      <td>06455</td>\n",
       "      <td>720</td>\n",
       "      <td>550</td>\n",
       "      <td>170</td>\n",
       "      <td>0.0</td>\n",
       "      <td>0.0</td>\n",
       "      <td>...</td>\n",
       "      <td>99 Powder Hill Road, ddlefield, Connecticut</td>\n",
       "      <td>41.501600</td>\n",
       "      <td>-72.736408</td>\n",
       "      <td>Meriden-Markham Municipal</td>\n",
       "      <td>7.790552</td>\n",
       "      <td>Chester</td>\n",
       "      <td>23.247699</td>\n",
       "      <td>Piedmont Triad International</td>\n",
       "      <td>865.684349</td>\n",
       "      <td>6.0</td>\n",
       "    </tr>\n",
       "    <tr>\n",
       "      <th>329</th>\n",
       "      <td>Shawnee Mountain</td>\n",
       "      <td>P.O. Box 339</td>\n",
       "      <td>Shawnee on Delaware</td>\n",
       "      <td>Pennsylvania</td>\n",
       "      <td>18356-0339</td>\n",
       "      <td>1350</td>\n",
       "      <td>700</td>\n",
       "      <td>650</td>\n",
       "      <td>0.0</td>\n",
       "      <td>1.0</td>\n",
       "      <td>...</td>\n",
       "      <td>P.O. Box 339, Shawnee on Delaware, Pennsylvania</td>\n",
       "      <td>41.012317</td>\n",
       "      <td>-75.110733</td>\n",
       "      <td>Stroudsburg-Pocono</td>\n",
       "      <td>4.941159</td>\n",
       "      <td>Blairstown</td>\n",
       "      <td>10.550755</td>\n",
       "      <td>Brenham Municipal</td>\n",
       "      <td>2256.679143</td>\n",
       "      <td>9.0</td>\n",
       "    </tr>\n",
       "  </tbody>\n",
       "</table>\n",
       "<p>330 rows × 96 columns</p>\n",
       "</div>"
      ],
      "text/plain": [
       "                   ski_resort              address                    city  \\\n",
       "0             Palisades Tahoe          PO Box 2007          Olympic Valley   \n",
       "1            Mammoth Mountain          P.O. Box 24  Mammoth Mountain Lakes   \n",
       "2            Donner Ski Ranch          P.O. Box 66                  Norden   \n",
       "3                  Sugar Bowl           P.O. Box 5                  Norden   \n",
       "4                    Kirkwood             PO Box 1                Kirkwood   \n",
       "..                        ...                  ...                     ...   \n",
       "325              Oak Mountain      141 Novosel Way              Speculator   \n",
       "326              Mt. Pleasant      23301 Plank Rd                  Venango   \n",
       "327               Hunt Hollow  7532 County Road 36                  Naples   \n",
       "328  Powder Ridge Connecticut  99 Powder Hill Road             Middlefield   \n",
       "329          Shawnee Mountain         P.O. Box 339     Shawnee on Delaware   \n",
       "\n",
       "            state     zipcode  summit  drop  base  gondolas_and_trams  \\\n",
       "0      California       96146    9050  2850  6200                 3.0   \n",
       "1      California       93546   11053  3100  7953                 3.0   \n",
       "2      California       95724    8012   750  7031                 0.0   \n",
       "3      California       95724    8383  1500  6883                 1.0   \n",
       "4      California       95646    9800  2000  7800                 0.0   \n",
       "..            ...         ...     ...   ...   ...                 ...   \n",
       "325      New York       12164    2400   650  1750                 0.0   \n",
       "326  Pennsylvania       16403    1540   340  1200                 0.0   \n",
       "327      New York       14512    2030   825  1000                 0.0   \n",
       "328   Connecticut       06455     720   550   170                 0.0   \n",
       "329  Pennsylvania  18356-0339    1350   700   650                 0.0   \n",
       "\n",
       "     fast_eight  ...                                     full_address  \\\n",
       "0           6.0  ...          PO Box 2007, Olympic Valley, California   \n",
       "1           9.0  ...           P.O. Box 24, Mammoth Lakes, California   \n",
       "2           0.0  ...                  P.O. Box 66, Norden, California   \n",
       "3           5.0  ...                   P.O. Box 5, Norden, California   \n",
       "4           2.0  ...                   PO Box 1, Kirkwood, California   \n",
       "..          ...  ...                                              ...   \n",
       "325         0.0  ...                  141 Novosel Way, Speculator, NY   \n",
       "326         0.0  ...              23301 Plank Rd ,  Venango, Pa 16440   \n",
       "327         0.0  ...            7532 County Road 36, Naples, New York   \n",
       "328         0.0  ...      99 Powder Hill Road, ddlefield, Connecticut   \n",
       "329         1.0  ...  P.O. Box 339, Shawnee on Delaware, Pennsylvania   \n",
       "\n",
       "      latitude   longitude                  airport_1  distance_1  \\\n",
       "0    39.196980 -120.235705              Truckee-Tahoe   15.992749   \n",
       "1    37.648546 -118.972079           Mammoth Yosemite   12.136117   \n",
       "2    39.317356 -120.354182              Truckee-Tahoe   18.464839   \n",
       "3    39.317356 -120.354182              Truckee-Tahoe   18.464839   \n",
       "4    38.702308 -120.072244                 Lake Tahoe   22.320342   \n",
       "..         ...         ...                        ...         ...   \n",
       "325  43.517884  -74.361618                Piseco Muni   14.487038   \n",
       "326  41.795526  -80.097363             Port Meadville   21.167046   \n",
       "327  42.643014  -77.469117             Dansville Muni   21.514044   \n",
       "328  41.501600  -72.736408  Meriden-Markham Municipal    7.790552   \n",
       "329  41.012317  -75.110733         Stroudsburg-Pocono    4.941159   \n",
       "\n",
       "                    airport_2 distance_2                     airport_3  \\\n",
       "0                Minden-Tahoe  47.213899               Greenville Muni   \n",
       "1                     Bryant   71.790347    Grand Rapids-Itasca County   \n",
       "2    Reno/Tahoe International  54.237886            Mapleton Municipal   \n",
       "3    Reno/Tahoe International  54.237886            Mapleton Municipal   \n",
       "4                Minden-Tahoe  43.275852         Nogales International   \n",
       "..                        ...        ...                           ...   \n",
       "325              Saratoga Cty  65.825037           Hillsboro Municipal   \n",
       "326                 Erie Intl  32.517680                     Nondalton   \n",
       "327              Hornell Muni  33.855765                  Perry-Warsaw   \n",
       "328                   Chester  23.247699  Piedmont Triad International   \n",
       "329                Blairstown  10.550755             Brenham Municipal   \n",
       "\n",
       "      distance_3 total_lifts  \n",
       "0    3357.306610        36.0  \n",
       "1    2330.068385        25.0  \n",
       "2    2085.874328         8.0  \n",
       "3    2085.874328        12.0  \n",
       "4    1165.403603        13.0  \n",
       "..           ...         ...  \n",
       "325  1814.724642         4.0  \n",
       "326  5284.952567         2.0  \n",
       "327    48.883513         3.0  \n",
       "328   865.684349         6.0  \n",
       "329  2256.679143         9.0  \n",
       "\n",
       "[330 rows x 96 columns]"
      ]
     },
     "execution_count": 114,
     "metadata": {},
     "output_type": "execute_result"
    }
   ],
   "source": [
    "content_df"
   ]
  },
  {
   "cell_type": "code",
   "execution_count": 115,
   "metadata": {},
   "outputs": [],
   "source": [
    "content_df.drop_duplicates(subset=\"ski_resort\", inplace=True)"
   ]
  },
  {
   "cell_type": "code",
   "execution_count": 116,
   "metadata": {},
   "outputs": [
    {
     "data": {
      "text/plain": [
       "array(['California', 'Nevada', 'Colorado', 'Washington', 'Utah', 'Oregon',\n",
       "       'Alaska', 'Idaho', 'North Carolina', 'Wyoming', 'Arizona',\n",
       "       'Minnesota', 'New Mexico', 'Montana', 'Michigan', 'Vermont',\n",
       "       'Wisconsin', 'New Hampshire', 'New Jersey', 'Massachusetts',\n",
       "       'Pennsylvania', 'New York', 'Iowa', 'Maine', 'West Virginia',\n",
       "       'Illinois', 'Ohio', 'Virginia', 'Missouri', 'Connecticut',\n",
       "       'Tennessee', 'Indiana', 'South Dakota', 'Maryland', 'Rhode Island'],\n",
       "      dtype=object)"
      ]
     },
     "execution_count": 116,
     "metadata": {},
     "output_type": "execute_result"
    }
   ],
   "source": [
    "content_df['state'].unique()"
   ]
  },
  {
   "cell_type": "code",
   "execution_count": 119,
   "metadata": {},
   "outputs": [],
   "source": [
    "float_list = ['gondolas_and_trams',\n",
    " 'fastEight',\n",
    " 'highSpeedSixes',\n",
    " 'quadChairs',\n",
    " 'tripleChairs',\n",
    " 'doubleChairs',\n",
    " 'surfeLifts',\n",
    " 'longestRun (miles)',\n",
    " 'NovSnow',\n",
    " 'DecSnow',\n",
    " 'JanSnow',\n",
    " 'FebSnow',\n",
    " 'MarSnow',\n",
    " 'AprSnow',\n",
    " 'dec_mean_2_guests',\n",
    " 'dec_min_2_guests',\n",
    " 'dec_max_2_guests',\n",
    " 'jan_mean_2_guests',\n",
    " 'jan_min_2_guests',\n",
    " 'jan_max_2_guests',\n",
    " 'feb_mean_2_guests',\n",
    " 'feb_min_2_guests',\n",
    " 'feb_max_2_guests',\n",
    " 'mar_mean_2_guests',\n",
    " 'mar_min_2_guests',\n",
    " 'mar_max_2_guests',\n",
    " 'apr_mean_2_guests',\n",
    " 'apr_min_2_guests',\n",
    " 'apr_max_2_guests',\n",
    " 'may_mean_2_guests',\n",
    " 'may_min_2_guests',\n",
    " 'may_max_2_guests',\n",
    " 'dec_mean_4_guests',\n",
    " 'dec_min_4_guests',\n",
    " 'dec_max_4_guests',\n",
    " 'jan_mean_4_guests',\n",
    " 'jan_min_4_guests',\n",
    " 'jan_max_4_guests',\n",
    " 'feb_mean_4_guests',\n",
    " 'feb_min_4_guests',\n",
    " 'feb_max_4_guests',\n",
    " 'mar_mean_4_guests',\n",
    " 'mar_min_4_guests',\n",
    " 'mar_max_4_guests',\n",
    " 'apr_mean_4_guests',\n",
    " 'apr_min_4_guests',\n",
    " 'apr_max_4_guests',\n",
    " 'may_mean_4_guests',\n",
    " 'may_min_4_guests',\n",
    " 'may_max_4_guests',\n",
    " 'total_lifts']"
   ]
  },
  {
   "cell_type": "code",
   "execution_count": 120,
   "metadata": {},
   "outputs": [],
   "source": [
    "for x in float_list:\n",
    "    content_df[x] = content_df[x].fillna(0).astype(int)"
   ]
  },
  {
   "cell_type": "code",
   "execution_count": 122,
   "metadata": {},
   "outputs": [
    {
     "name": "stdout",
     "output_type": "stream",
     "text": [
      "<class 'pandas.core.frame.DataFrame'>\n",
      "Int64Index: 329 entries, 0 to 329\n",
      "Data columns (total 86 columns):\n",
      " #   Column                    Non-Null Count  Dtype  \n",
      "---  ------                    --------------  -----  \n",
      " 0   ski_resort                329 non-null    object \n",
      " 1   address                   329 non-null    object \n",
      " 2   city                      329 non-null    object \n",
      " 3   state                     329 non-null    object \n",
      " 4   zipcode                   329 non-null    object \n",
      " 5   sumt                      329 non-null    int64  \n",
      " 6   drop                      329 non-null    int64  \n",
      " 7   base                      329 non-null    int64  \n",
      " 8   gondolas_and_trams        329 non-null    int64  \n",
      " 9   fastEight                 329 non-null    int64  \n",
      " 10  highSpeedSixes            329 non-null    int64  \n",
      " 11  quadChairs                329 non-null    int64  \n",
      " 12  tripleChairs              329 non-null    int64  \n",
      " 13  doubleChairs              329 non-null    int64  \n",
      " 14  surfeLifts                329 non-null    int64  \n",
      " 15  totalRuns (acre)          329 non-null    int64  \n",
      " 16  longestRun (miles)        329 non-null    int64  \n",
      " 17  daysOpenLastYear          329 non-null    int64  \n",
      " 18  averageSnowfall (inches)  329 non-null    int64  \n",
      " 19  projectedOpening          329 non-null    object \n",
      " 20  projectedClosing          329 non-null    object \n",
      " 21  NovSnow                   329 non-null    int64  \n",
      " 22  DecSnow                   329 non-null    int64  \n",
      " 23  JanSnow                   329 non-null    int64  \n",
      " 24  FebSnow                   329 non-null    int64  \n",
      " 25  MarSnow                   329 non-null    int64  \n",
      " 26  AprSnow                   329 non-null    int64  \n",
      " 27  child_season              329 non-null    int64  \n",
      " 28  junior_season             329 non-null    int64  \n",
      " 29  adult_season              329 non-null    int64  \n",
      " 30  child_weekday             329 non-null    int64  \n",
      " 31  junior_weekday            329 non-null    int64  \n",
      " 32  adult_weekday             329 non-null    int64  \n",
      " 33  senior_weekday            329 non-null    int64  \n",
      " 34  child_weekend             329 non-null    int64  \n",
      " 35  junior_weekend            329 non-null    int64  \n",
      " 36  adult_weekend             329 non-null    int64  \n",
      " 37  Url                       329 non-null    object \n",
      " 38  beginner_runs             329 non-null    object \n",
      " 39  intermediate_runs         329 non-null    object \n",
      " 40  advanced_runs             329 non-null    object \n",
      " 41  expert_runs               329 non-null    object \n",
      " 42  epic                      329 non-null    int64  \n",
      " 43  mountain_collective       329 non-null    int64  \n",
      " 44  ikon                      329 non-null    int64  \n",
      " 45  indy                      329 non-null    int64  \n",
      " 46  dec_mean_2_guests         329 non-null    int64  \n",
      " 47  dec_min_2_guests          329 non-null    int64  \n",
      " 48  dec_max_2_guests          329 non-null    int64  \n",
      " 49  jan_mean_2_guests         329 non-null    int64  \n",
      " 50  jan_min_2_guests          329 non-null    int64  \n",
      " 51  jan_max_2_guests          329 non-null    int64  \n",
      " 52  feb_mean_2_guests         329 non-null    int64  \n",
      " 53  feb_min_2_guests          329 non-null    int64  \n",
      " 54  feb_max_2_guests          329 non-null    int64  \n",
      " 55  mar_mean_2_guests         329 non-null    int64  \n",
      " 56  mar_min_2_guests          329 non-null    int64  \n",
      " 57  mar_max_2_guests          329 non-null    int64  \n",
      " 58  apr_mean_2_guests         329 non-null    int64  \n",
      " 59  apr_min_2_guests          329 non-null    int64  \n",
      " 60  apr_max_2_guests          329 non-null    int64  \n",
      " 61  may_mean_2_guests         329 non-null    int64  \n",
      " 62  may_min_2_guests          329 non-null    int64  \n",
      " 63  may_max_2_guests          329 non-null    int64  \n",
      " 64  dec_mean_4_guests         329 non-null    int64  \n",
      " 65  dec_min_4_guests          329 non-null    int64  \n",
      " 66  dec_max_4_guests          329 non-null    int64  \n",
      " 67  jan_mean_4_guests         329 non-null    int64  \n",
      " 68  jan_min_4_guests          329 non-null    int64  \n",
      " 69  jan_max_4_guests          329 non-null    int64  \n",
      " 70  feb_mean_4_guests         329 non-null    int64  \n",
      " 71  feb_min_4_guests          329 non-null    int64  \n",
      " 72  feb_max_4_guests          329 non-null    int64  \n",
      " 73  mar_mean_4_guests         329 non-null    int64  \n",
      " 74  mar_min_4_guests          329 non-null    int64  \n",
      " 75  mar_max_4_guests          329 non-null    int64  \n",
      " 76  apr_mean_4_guests         329 non-null    int64  \n",
      " 77  apr_min_4_guests          329 non-null    int64  \n",
      " 78  apr_max_4_guests          329 non-null    int64  \n",
      " 79  may_mean_4_guests         329 non-null    int64  \n",
      " 80  may_min_4_guests          329 non-null    int64  \n",
      " 81  may_max_4_guests          329 non-null    int64  \n",
      " 82  full_address              327 non-null    object \n",
      " 83  latitude                  327 non-null    float64\n",
      " 84  longitude                 327 non-null    float64\n",
      " 85  total_lifts               329 non-null    int64  \n",
      "dtypes: float64(2), int64(71), object(13)\n",
      "memory usage: 223.6+ KB\n"
     ]
    }
   ],
   "source": [
    "content_df.info()"
   ]
  },
  {
   "cell_type": "code",
   "execution_count": 123,
   "metadata": {},
   "outputs": [],
   "source": [
    "#saving final cleaned scraped df\n",
    "content_df.to_csv(\"data/cleaned_data_exports/scraped_feature_df_3.csv\")"
   ]
  },
  {
   "cell_type": "markdown",
   "metadata": {},
   "source": [
    "## Feature Analysis"
   ]
  },
  {
   "cell_type": "markdown",
   "metadata": {},
   "source": [
    "### Ratings by resort distribution"
   ]
  },
  {
   "cell_type": "code",
   "execution_count": 281,
   "metadata": {},
   "outputs": [
    {
     "data": {
      "text/html": [
       "<div>\n",
       "<style scoped>\n",
       "    .dataframe tbody tr th:only-of-type {\n",
       "        vertical-align: middle;\n",
       "    }\n",
       "\n",
       "    .dataframe tbody tr th {\n",
       "        vertical-align: top;\n",
       "    }\n",
       "\n",
       "    .dataframe thead th {\n",
       "        text-align: right;\n",
       "    }\n",
       "</style>\n",
       "<table border=\"1\" class=\"dataframe\">\n",
       "  <thead>\n",
       "    <tr style=\"text-align: right;\">\n",
       "      <th></th>\n",
       "      <th>index</th>\n",
       "      <th>ski_resort</th>\n",
       "    </tr>\n",
       "  </thead>\n",
       "  <tbody>\n",
       "    <tr>\n",
       "      <th>0</th>\n",
       "      <td>Ski Brule</td>\n",
       "      <td>74</td>\n",
       "    </tr>\n",
       "    <tr>\n",
       "      <th>1</th>\n",
       "      <td>Killington</td>\n",
       "      <td>53</td>\n",
       "    </tr>\n",
       "    <tr>\n",
       "      <th>2</th>\n",
       "      <td>Vail</td>\n",
       "      <td>51</td>\n",
       "    </tr>\n",
       "    <tr>\n",
       "      <th>3</th>\n",
       "      <td>Breckenridge</td>\n",
       "      <td>49</td>\n",
       "    </tr>\n",
       "    <tr>\n",
       "      <th>4</th>\n",
       "      <td>Snowbird</td>\n",
       "      <td>36</td>\n",
       "    </tr>\n",
       "  </tbody>\n",
       "</table>\n",
       "</div>"
      ],
      "text/plain": [
       "          index  ski_resort\n",
       "0     Ski Brule          74\n",
       "1    Killington          53\n",
       "2          Vail          51\n",
       "3  Breckenridge          49\n",
       "4      Snowbird          36"
      ]
     },
     "execution_count": 281,
     "metadata": {},
     "output_type": "execute_result"
    }
   ],
   "source": [
    "#looking at the most reviewed mountains\n",
    "top_5_reviewed_resorts = pd.DataFrame(final_ski_df['ski_resort'].value_counts().reset_index()).head(5)\n",
    "top_5_reviewed_resorts"
   ]
  },
  {
   "cell_type": "code",
   "execution_count": 282,
   "metadata": {},
   "outputs": [
    {
     "data": {
      "application/vnd.plotly.v1+json": {
       "config": {
        "plotlyServerURL": "https://plot.ly"
       },
       "data": [
        {
         "alignmentgroup": "True",
         "hovertemplate": "index=%{x}<br>ski_resort=%{y}<extra></extra>",
         "legendgroup": "",
         "marker": {
          "color": "#00b5ff"
         },
         "name": "",
         "offsetgroup": "",
         "orientation": "v",
         "showlegend": false,
         "textposition": "auto",
         "type": "bar",
         "x": [
          "Ski Brule",
          "Killington",
          "Vail",
          "Breckenridge",
          "Snowbird"
         ],
         "xaxis": "x",
         "y": [
          74,
          53,
          51,
          49,
          36
         ],
         "yaxis": "y"
        }
       ],
       "layout": {
        "barmode": "relative",
        "legend": {
         "tracegroupgap": 0
        },
        "margin": {
         "t": 60
        },
        "plot_bgcolor": "white",
        "template": {
         "data": {
          "bar": [
           {
            "error_x": {
             "color": "#2a3f5f"
            },
            "error_y": {
             "color": "#2a3f5f"
            },
            "marker": {
             "line": {
              "color": "#E5ECF6",
              "width": 0.5
             }
            },
            "type": "bar"
           }
          ],
          "barpolar": [
           {
            "marker": {
             "line": {
              "color": "#E5ECF6",
              "width": 0.5
             }
            },
            "type": "barpolar"
           }
          ],
          "carpet": [
           {
            "aaxis": {
             "endlinecolor": "#2a3f5f",
             "gridcolor": "white",
             "linecolor": "white",
             "minorgridcolor": "white",
             "startlinecolor": "#2a3f5f"
            },
            "baxis": {
             "endlinecolor": "#2a3f5f",
             "gridcolor": "white",
             "linecolor": "white",
             "minorgridcolor": "white",
             "startlinecolor": "#2a3f5f"
            },
            "type": "carpet"
           }
          ],
          "choropleth": [
           {
            "colorbar": {
             "outlinewidth": 0,
             "ticks": ""
            },
            "type": "choropleth"
           }
          ],
          "contour": [
           {
            "colorbar": {
             "outlinewidth": 0,
             "ticks": ""
            },
            "colorscale": [
             [
              0,
              "#0d0887"
             ],
             [
              0.1111111111111111,
              "#46039f"
             ],
             [
              0.2222222222222222,
              "#7201a8"
             ],
             [
              0.3333333333333333,
              "#9c179e"
             ],
             [
              0.4444444444444444,
              "#bd3786"
             ],
             [
              0.5555555555555556,
              "#d8576b"
             ],
             [
              0.6666666666666666,
              "#ed7953"
             ],
             [
              0.7777777777777778,
              "#fb9f3a"
             ],
             [
              0.8888888888888888,
              "#fdca26"
             ],
             [
              1,
              "#f0f921"
             ]
            ],
            "type": "contour"
           }
          ],
          "contourcarpet": [
           {
            "colorbar": {
             "outlinewidth": 0,
             "ticks": ""
            },
            "type": "contourcarpet"
           }
          ],
          "heatmap": [
           {
            "colorbar": {
             "outlinewidth": 0,
             "ticks": ""
            },
            "colorscale": [
             [
              0,
              "#0d0887"
             ],
             [
              0.1111111111111111,
              "#46039f"
             ],
             [
              0.2222222222222222,
              "#7201a8"
             ],
             [
              0.3333333333333333,
              "#9c179e"
             ],
             [
              0.4444444444444444,
              "#bd3786"
             ],
             [
              0.5555555555555556,
              "#d8576b"
             ],
             [
              0.6666666666666666,
              "#ed7953"
             ],
             [
              0.7777777777777778,
              "#fb9f3a"
             ],
             [
              0.8888888888888888,
              "#fdca26"
             ],
             [
              1,
              "#f0f921"
             ]
            ],
            "type": "heatmap"
           }
          ],
          "heatmapgl": [
           {
            "colorbar": {
             "outlinewidth": 0,
             "ticks": ""
            },
            "colorscale": [
             [
              0,
              "#0d0887"
             ],
             [
              0.1111111111111111,
              "#46039f"
             ],
             [
              0.2222222222222222,
              "#7201a8"
             ],
             [
              0.3333333333333333,
              "#9c179e"
             ],
             [
              0.4444444444444444,
              "#bd3786"
             ],
             [
              0.5555555555555556,
              "#d8576b"
             ],
             [
              0.6666666666666666,
              "#ed7953"
             ],
             [
              0.7777777777777778,
              "#fb9f3a"
             ],
             [
              0.8888888888888888,
              "#fdca26"
             ],
             [
              1,
              "#f0f921"
             ]
            ],
            "type": "heatmapgl"
           }
          ],
          "histogram": [
           {
            "marker": {
             "colorbar": {
              "outlinewidth": 0,
              "ticks": ""
             }
            },
            "type": "histogram"
           }
          ],
          "histogram2d": [
           {
            "colorbar": {
             "outlinewidth": 0,
             "ticks": ""
            },
            "colorscale": [
             [
              0,
              "#0d0887"
             ],
             [
              0.1111111111111111,
              "#46039f"
             ],
             [
              0.2222222222222222,
              "#7201a8"
             ],
             [
              0.3333333333333333,
              "#9c179e"
             ],
             [
              0.4444444444444444,
              "#bd3786"
             ],
             [
              0.5555555555555556,
              "#d8576b"
             ],
             [
              0.6666666666666666,
              "#ed7953"
             ],
             [
              0.7777777777777778,
              "#fb9f3a"
             ],
             [
              0.8888888888888888,
              "#fdca26"
             ],
             [
              1,
              "#f0f921"
             ]
            ],
            "type": "histogram2d"
           }
          ],
          "histogram2dcontour": [
           {
            "colorbar": {
             "outlinewidth": 0,
             "ticks": ""
            },
            "colorscale": [
             [
              0,
              "#0d0887"
             ],
             [
              0.1111111111111111,
              "#46039f"
             ],
             [
              0.2222222222222222,
              "#7201a8"
             ],
             [
              0.3333333333333333,
              "#9c179e"
             ],
             [
              0.4444444444444444,
              "#bd3786"
             ],
             [
              0.5555555555555556,
              "#d8576b"
             ],
             [
              0.6666666666666666,
              "#ed7953"
             ],
             [
              0.7777777777777778,
              "#fb9f3a"
             ],
             [
              0.8888888888888888,
              "#fdca26"
             ],
             [
              1,
              "#f0f921"
             ]
            ],
            "type": "histogram2dcontour"
           }
          ],
          "mesh3d": [
           {
            "colorbar": {
             "outlinewidth": 0,
             "ticks": ""
            },
            "type": "mesh3d"
           }
          ],
          "parcoords": [
           {
            "line": {
             "colorbar": {
              "outlinewidth": 0,
              "ticks": ""
             }
            },
            "type": "parcoords"
           }
          ],
          "pie": [
           {
            "automargin": true,
            "type": "pie"
           }
          ],
          "scatter": [
           {
            "marker": {
             "colorbar": {
              "outlinewidth": 0,
              "ticks": ""
             }
            },
            "type": "scatter"
           }
          ],
          "scatter3d": [
           {
            "line": {
             "colorbar": {
              "outlinewidth": 0,
              "ticks": ""
             }
            },
            "marker": {
             "colorbar": {
              "outlinewidth": 0,
              "ticks": ""
             }
            },
            "type": "scatter3d"
           }
          ],
          "scattercarpet": [
           {
            "marker": {
             "colorbar": {
              "outlinewidth": 0,
              "ticks": ""
             }
            },
            "type": "scattercarpet"
           }
          ],
          "scattergeo": [
           {
            "marker": {
             "colorbar": {
              "outlinewidth": 0,
              "ticks": ""
             }
            },
            "type": "scattergeo"
           }
          ],
          "scattergl": [
           {
            "marker": {
             "colorbar": {
              "outlinewidth": 0,
              "ticks": ""
             }
            },
            "type": "scattergl"
           }
          ],
          "scattermapbox": [
           {
            "marker": {
             "colorbar": {
              "outlinewidth": 0,
              "ticks": ""
             }
            },
            "type": "scattermapbox"
           }
          ],
          "scatterpolar": [
           {
            "marker": {
             "colorbar": {
              "outlinewidth": 0,
              "ticks": ""
             }
            },
            "type": "scatterpolar"
           }
          ],
          "scatterpolargl": [
           {
            "marker": {
             "colorbar": {
              "outlinewidth": 0,
              "ticks": ""
             }
            },
            "type": "scatterpolargl"
           }
          ],
          "scatterternary": [
           {
            "marker": {
             "colorbar": {
              "outlinewidth": 0,
              "ticks": ""
             }
            },
            "type": "scatterternary"
           }
          ],
          "surface": [
           {
            "colorbar": {
             "outlinewidth": 0,
             "ticks": ""
            },
            "colorscale": [
             [
              0,
              "#0d0887"
             ],
             [
              0.1111111111111111,
              "#46039f"
             ],
             [
              0.2222222222222222,
              "#7201a8"
             ],
             [
              0.3333333333333333,
              "#9c179e"
             ],
             [
              0.4444444444444444,
              "#bd3786"
             ],
             [
              0.5555555555555556,
              "#d8576b"
             ],
             [
              0.6666666666666666,
              "#ed7953"
             ],
             [
              0.7777777777777778,
              "#fb9f3a"
             ],
             [
              0.8888888888888888,
              "#fdca26"
             ],
             [
              1,
              "#f0f921"
             ]
            ],
            "type": "surface"
           }
          ],
          "table": [
           {
            "cells": {
             "fill": {
              "color": "#EBF0F8"
             },
             "line": {
              "color": "white"
             }
            },
            "header": {
             "fill": {
              "color": "#C8D4E3"
             },
             "line": {
              "color": "white"
             }
            },
            "type": "table"
           }
          ]
         },
         "layout": {
          "annotationdefaults": {
           "arrowcolor": "#2a3f5f",
           "arrowhead": 0,
           "arrowwidth": 1
          },
          "coloraxis": {
           "colorbar": {
            "outlinewidth": 0,
            "ticks": ""
           }
          },
          "colorscale": {
           "diverging": [
            [
             0,
             "#8e0152"
            ],
            [
             0.1,
             "#c51b7d"
            ],
            [
             0.2,
             "#de77ae"
            ],
            [
             0.3,
             "#f1b6da"
            ],
            [
             0.4,
             "#fde0ef"
            ],
            [
             0.5,
             "#f7f7f7"
            ],
            [
             0.6,
             "#e6f5d0"
            ],
            [
             0.7,
             "#b8e186"
            ],
            [
             0.8,
             "#7fbc41"
            ],
            [
             0.9,
             "#4d9221"
            ],
            [
             1,
             "#276419"
            ]
           ],
           "sequential": [
            [
             0,
             "#0d0887"
            ],
            [
             0.1111111111111111,
             "#46039f"
            ],
            [
             0.2222222222222222,
             "#7201a8"
            ],
            [
             0.3333333333333333,
             "#9c179e"
            ],
            [
             0.4444444444444444,
             "#bd3786"
            ],
            [
             0.5555555555555556,
             "#d8576b"
            ],
            [
             0.6666666666666666,
             "#ed7953"
            ],
            [
             0.7777777777777778,
             "#fb9f3a"
            ],
            [
             0.8888888888888888,
             "#fdca26"
            ],
            [
             1,
             "#f0f921"
            ]
           ],
           "sequentialminus": [
            [
             0,
             "#0d0887"
            ],
            [
             0.1111111111111111,
             "#46039f"
            ],
            [
             0.2222222222222222,
             "#7201a8"
            ],
            [
             0.3333333333333333,
             "#9c179e"
            ],
            [
             0.4444444444444444,
             "#bd3786"
            ],
            [
             0.5555555555555556,
             "#d8576b"
            ],
            [
             0.6666666666666666,
             "#ed7953"
            ],
            [
             0.7777777777777778,
             "#fb9f3a"
            ],
            [
             0.8888888888888888,
             "#fdca26"
            ],
            [
             1,
             "#f0f921"
            ]
           ]
          },
          "colorway": [
           "#636efa",
           "#EF553B",
           "#00cc96",
           "#ab63fa",
           "#FFA15A",
           "#19d3f3",
           "#FF6692",
           "#B6E880",
           "#FF97FF",
           "#FECB52"
          ],
          "font": {
           "color": "#2a3f5f"
          },
          "geo": {
           "bgcolor": "white",
           "lakecolor": "white",
           "landcolor": "#E5ECF6",
           "showlakes": true,
           "showland": true,
           "subunitcolor": "white"
          },
          "hoverlabel": {
           "align": "left"
          },
          "hovermode": "closest",
          "mapbox": {
           "style": "light"
          },
          "paper_bgcolor": "white",
          "plot_bgcolor": "#E5ECF6",
          "polar": {
           "angularaxis": {
            "gridcolor": "white",
            "linecolor": "white",
            "ticks": ""
           },
           "bgcolor": "#E5ECF6",
           "radialaxis": {
            "gridcolor": "white",
            "linecolor": "white",
            "ticks": ""
           }
          },
          "scene": {
           "xaxis": {
            "backgroundcolor": "#E5ECF6",
            "gridcolor": "white",
            "gridwidth": 2,
            "linecolor": "white",
            "showbackground": true,
            "ticks": "",
            "zerolinecolor": "white"
           },
           "yaxis": {
            "backgroundcolor": "#E5ECF6",
            "gridcolor": "white",
            "gridwidth": 2,
            "linecolor": "white",
            "showbackground": true,
            "ticks": "",
            "zerolinecolor": "white"
           },
           "zaxis": {
            "backgroundcolor": "#E5ECF6",
            "gridcolor": "white",
            "gridwidth": 2,
            "linecolor": "white",
            "showbackground": true,
            "ticks": "",
            "zerolinecolor": "white"
           }
          },
          "shapedefaults": {
           "line": {
            "color": "#2a3f5f"
           }
          },
          "ternary": {
           "aaxis": {
            "gridcolor": "white",
            "linecolor": "white",
            "ticks": ""
           },
           "baxis": {
            "gridcolor": "white",
            "linecolor": "white",
            "ticks": ""
           },
           "bgcolor": "#E5ECF6",
           "caxis": {
            "gridcolor": "white",
            "linecolor": "white",
            "ticks": ""
           }
          },
          "title": {
           "x": 0.05
          },
          "xaxis": {
           "automargin": true,
           "gridcolor": "white",
           "linecolor": "white",
           "ticks": "",
           "title": {
            "standoff": 15
           },
           "zerolinecolor": "white",
           "zerolinewidth": 2
          },
          "yaxis": {
           "automargin": true,
           "gridcolor": "white",
           "linecolor": "white",
           "ticks": "",
           "title": {
            "standoff": 15
           },
           "zerolinecolor": "white",
           "zerolinewidth": 2
          }
         }
        },
        "title": {
         "text": "Most Reviewed Mountains",
         "x": 0.5
        },
        "xaxis": {
         "anchor": "y",
         "domain": [
          0,
          1
         ],
         "title": {
          "text": "Resort"
         }
        },
        "yaxis": {
         "anchor": "x",
         "domain": [
          0,
          1
         ],
         "title": {
          "text": "Review Count"
         }
        }
       }
      },
      "text/html": [
       "<div>                            <div id=\"7522791a-d3de-4ecb-a12c-a0aef4fe640a\" class=\"plotly-graph-div\" style=\"height:525px; width:100%;\"></div>            <script type=\"text/javascript\">                require([\"plotly\"], function(Plotly) {                    window.PLOTLYENV=window.PLOTLYENV || {};                                    if (document.getElementById(\"7522791a-d3de-4ecb-a12c-a0aef4fe640a\")) {                    Plotly.newPlot(                        \"7522791a-d3de-4ecb-a12c-a0aef4fe640a\",                        [{\"alignmentgroup\": \"True\", \"hovertemplate\": \"index=%{x}<br>ski_resort=%{y}<extra></extra>\", \"legendgroup\": \"\", \"marker\": {\"color\": \"#00b5ff\"}, \"name\": \"\", \"offsetgroup\": \"\", \"orientation\": \"v\", \"showlegend\": false, \"textposition\": \"auto\", \"type\": \"bar\", \"x\": [\"Ski Brule\", \"Killington\", \"Vail\", \"Breckenridge\", \"Snowbird\"], \"xaxis\": \"x\", \"y\": [74, 53, 51, 49, 36], \"yaxis\": \"y\"}],                        {\"barmode\": \"relative\", \"legend\": {\"tracegroupgap\": 0}, \"margin\": {\"t\": 60}, \"plot_bgcolor\": \"white\", \"template\": {\"data\": {\"bar\": [{\"error_x\": {\"color\": \"#2a3f5f\"}, \"error_y\": {\"color\": \"#2a3f5f\"}, \"marker\": {\"line\": {\"color\": \"#E5ECF6\", \"width\": 0.5}}, \"type\": \"bar\"}], \"barpolar\": [{\"marker\": {\"line\": {\"color\": \"#E5ECF6\", \"width\": 0.5}}, \"type\": \"barpolar\"}], \"carpet\": [{\"aaxis\": {\"endlinecolor\": \"#2a3f5f\", \"gridcolor\": \"white\", \"linecolor\": \"white\", \"minorgridcolor\": \"white\", \"startlinecolor\": \"#2a3f5f\"}, \"baxis\": {\"endlinecolor\": \"#2a3f5f\", \"gridcolor\": \"white\", \"linecolor\": \"white\", \"minorgridcolor\": \"white\", \"startlinecolor\": \"#2a3f5f\"}, \"type\": \"carpet\"}], \"choropleth\": [{\"colorbar\": {\"outlinewidth\": 0, \"ticks\": \"\"}, \"type\": \"choropleth\"}], \"contour\": [{\"colorbar\": {\"outlinewidth\": 0, \"ticks\": \"\"}, \"colorscale\": [[0.0, \"#0d0887\"], [0.1111111111111111, \"#46039f\"], [0.2222222222222222, \"#7201a8\"], [0.3333333333333333, \"#9c179e\"], [0.4444444444444444, \"#bd3786\"], [0.5555555555555556, \"#d8576b\"], [0.6666666666666666, \"#ed7953\"], [0.7777777777777778, \"#fb9f3a\"], [0.8888888888888888, \"#fdca26\"], [1.0, \"#f0f921\"]], \"type\": \"contour\"}], \"contourcarpet\": [{\"colorbar\": {\"outlinewidth\": 0, \"ticks\": \"\"}, \"type\": \"contourcarpet\"}], \"heatmap\": [{\"colorbar\": {\"outlinewidth\": 0, \"ticks\": \"\"}, \"colorscale\": [[0.0, \"#0d0887\"], [0.1111111111111111, \"#46039f\"], [0.2222222222222222, \"#7201a8\"], [0.3333333333333333, \"#9c179e\"], [0.4444444444444444, \"#bd3786\"], [0.5555555555555556, \"#d8576b\"], [0.6666666666666666, \"#ed7953\"], [0.7777777777777778, \"#fb9f3a\"], [0.8888888888888888, \"#fdca26\"], [1.0, \"#f0f921\"]], \"type\": \"heatmap\"}], \"heatmapgl\": [{\"colorbar\": {\"outlinewidth\": 0, \"ticks\": \"\"}, \"colorscale\": [[0.0, \"#0d0887\"], [0.1111111111111111, \"#46039f\"], [0.2222222222222222, \"#7201a8\"], [0.3333333333333333, \"#9c179e\"], [0.4444444444444444, \"#bd3786\"], [0.5555555555555556, \"#d8576b\"], [0.6666666666666666, \"#ed7953\"], [0.7777777777777778, \"#fb9f3a\"], [0.8888888888888888, \"#fdca26\"], [1.0, \"#f0f921\"]], \"type\": \"heatmapgl\"}], \"histogram\": [{\"marker\": {\"colorbar\": {\"outlinewidth\": 0, \"ticks\": \"\"}}, \"type\": \"histogram\"}], \"histogram2d\": [{\"colorbar\": {\"outlinewidth\": 0, \"ticks\": \"\"}, \"colorscale\": [[0.0, \"#0d0887\"], [0.1111111111111111, \"#46039f\"], [0.2222222222222222, \"#7201a8\"], [0.3333333333333333, \"#9c179e\"], [0.4444444444444444, \"#bd3786\"], [0.5555555555555556, \"#d8576b\"], [0.6666666666666666, \"#ed7953\"], [0.7777777777777778, \"#fb9f3a\"], [0.8888888888888888, \"#fdca26\"], [1.0, \"#f0f921\"]], \"type\": \"histogram2d\"}], \"histogram2dcontour\": [{\"colorbar\": {\"outlinewidth\": 0, \"ticks\": \"\"}, \"colorscale\": [[0.0, \"#0d0887\"], [0.1111111111111111, \"#46039f\"], [0.2222222222222222, \"#7201a8\"], [0.3333333333333333, \"#9c179e\"], [0.4444444444444444, \"#bd3786\"], [0.5555555555555556, \"#d8576b\"], [0.6666666666666666, \"#ed7953\"], [0.7777777777777778, \"#fb9f3a\"], [0.8888888888888888, \"#fdca26\"], [1.0, \"#f0f921\"]], \"type\": \"histogram2dcontour\"}], \"mesh3d\": [{\"colorbar\": {\"outlinewidth\": 0, \"ticks\": \"\"}, \"type\": \"mesh3d\"}], \"parcoords\": [{\"line\": {\"colorbar\": {\"outlinewidth\": 0, \"ticks\": \"\"}}, \"type\": \"parcoords\"}], \"pie\": [{\"automargin\": true, \"type\": \"pie\"}], \"scatter\": [{\"marker\": {\"colorbar\": {\"outlinewidth\": 0, \"ticks\": \"\"}}, \"type\": \"scatter\"}], \"scatter3d\": [{\"line\": {\"colorbar\": {\"outlinewidth\": 0, \"ticks\": \"\"}}, \"marker\": {\"colorbar\": {\"outlinewidth\": 0, \"ticks\": \"\"}}, \"type\": \"scatter3d\"}], \"scattercarpet\": [{\"marker\": {\"colorbar\": {\"outlinewidth\": 0, \"ticks\": \"\"}}, \"type\": \"scattercarpet\"}], \"scattergeo\": [{\"marker\": {\"colorbar\": {\"outlinewidth\": 0, \"ticks\": \"\"}}, \"type\": \"scattergeo\"}], \"scattergl\": [{\"marker\": {\"colorbar\": {\"outlinewidth\": 0, \"ticks\": \"\"}}, \"type\": \"scattergl\"}], \"scattermapbox\": [{\"marker\": {\"colorbar\": {\"outlinewidth\": 0, \"ticks\": \"\"}}, \"type\": \"scattermapbox\"}], \"scatterpolar\": [{\"marker\": {\"colorbar\": {\"outlinewidth\": 0, \"ticks\": \"\"}}, \"type\": \"scatterpolar\"}], \"scatterpolargl\": [{\"marker\": {\"colorbar\": {\"outlinewidth\": 0, \"ticks\": \"\"}}, \"type\": \"scatterpolargl\"}], \"scatterternary\": [{\"marker\": {\"colorbar\": {\"outlinewidth\": 0, \"ticks\": \"\"}}, \"type\": \"scatterternary\"}], \"surface\": [{\"colorbar\": {\"outlinewidth\": 0, \"ticks\": \"\"}, \"colorscale\": [[0.0, \"#0d0887\"], [0.1111111111111111, \"#46039f\"], [0.2222222222222222, \"#7201a8\"], [0.3333333333333333, \"#9c179e\"], [0.4444444444444444, \"#bd3786\"], [0.5555555555555556, \"#d8576b\"], [0.6666666666666666, \"#ed7953\"], [0.7777777777777778, \"#fb9f3a\"], [0.8888888888888888, \"#fdca26\"], [1.0, \"#f0f921\"]], \"type\": \"surface\"}], \"table\": [{\"cells\": {\"fill\": {\"color\": \"#EBF0F8\"}, \"line\": {\"color\": \"white\"}}, \"header\": {\"fill\": {\"color\": \"#C8D4E3\"}, \"line\": {\"color\": \"white\"}}, \"type\": \"table\"}]}, \"layout\": {\"annotationdefaults\": {\"arrowcolor\": \"#2a3f5f\", \"arrowhead\": 0, \"arrowwidth\": 1}, \"coloraxis\": {\"colorbar\": {\"outlinewidth\": 0, \"ticks\": \"\"}}, \"colorscale\": {\"diverging\": [[0, \"#8e0152\"], [0.1, \"#c51b7d\"], [0.2, \"#de77ae\"], [0.3, \"#f1b6da\"], [0.4, \"#fde0ef\"], [0.5, \"#f7f7f7\"], [0.6, \"#e6f5d0\"], [0.7, \"#b8e186\"], [0.8, \"#7fbc41\"], [0.9, \"#4d9221\"], [1, \"#276419\"]], \"sequential\": [[0.0, \"#0d0887\"], [0.1111111111111111, \"#46039f\"], [0.2222222222222222, \"#7201a8\"], [0.3333333333333333, \"#9c179e\"], [0.4444444444444444, \"#bd3786\"], [0.5555555555555556, \"#d8576b\"], [0.6666666666666666, \"#ed7953\"], [0.7777777777777778, \"#fb9f3a\"], [0.8888888888888888, \"#fdca26\"], [1.0, \"#f0f921\"]], \"sequentialminus\": [[0.0, \"#0d0887\"], [0.1111111111111111, \"#46039f\"], [0.2222222222222222, \"#7201a8\"], [0.3333333333333333, \"#9c179e\"], [0.4444444444444444, \"#bd3786\"], [0.5555555555555556, \"#d8576b\"], [0.6666666666666666, \"#ed7953\"], [0.7777777777777778, \"#fb9f3a\"], [0.8888888888888888, \"#fdca26\"], [1.0, \"#f0f921\"]]}, \"colorway\": [\"#636efa\", \"#EF553B\", \"#00cc96\", \"#ab63fa\", \"#FFA15A\", \"#19d3f3\", \"#FF6692\", \"#B6E880\", \"#FF97FF\", \"#FECB52\"], \"font\": {\"color\": \"#2a3f5f\"}, \"geo\": {\"bgcolor\": \"white\", \"lakecolor\": \"white\", \"landcolor\": \"#E5ECF6\", \"showlakes\": true, \"showland\": true, \"subunitcolor\": \"white\"}, \"hoverlabel\": {\"align\": \"left\"}, \"hovermode\": \"closest\", \"mapbox\": {\"style\": \"light\"}, \"paper_bgcolor\": \"white\", \"plot_bgcolor\": \"#E5ECF6\", \"polar\": {\"angularaxis\": {\"gridcolor\": \"white\", \"linecolor\": \"white\", \"ticks\": \"\"}, \"bgcolor\": \"#E5ECF6\", \"radialaxis\": {\"gridcolor\": \"white\", \"linecolor\": \"white\", \"ticks\": \"\"}}, \"scene\": {\"xaxis\": {\"backgroundcolor\": \"#E5ECF6\", \"gridcolor\": \"white\", \"gridwidth\": 2, \"linecolor\": \"white\", \"showbackground\": true, \"ticks\": \"\", \"zerolinecolor\": \"white\"}, \"yaxis\": {\"backgroundcolor\": \"#E5ECF6\", \"gridcolor\": \"white\", \"gridwidth\": 2, \"linecolor\": \"white\", \"showbackground\": true, \"ticks\": \"\", \"zerolinecolor\": \"white\"}, \"zaxis\": {\"backgroundcolor\": \"#E5ECF6\", \"gridcolor\": \"white\", \"gridwidth\": 2, \"linecolor\": \"white\", \"showbackground\": true, \"ticks\": \"\", \"zerolinecolor\": \"white\"}}, \"shapedefaults\": {\"line\": {\"color\": \"#2a3f5f\"}}, \"ternary\": {\"aaxis\": {\"gridcolor\": \"white\", \"linecolor\": \"white\", \"ticks\": \"\"}, \"baxis\": {\"gridcolor\": \"white\", \"linecolor\": \"white\", \"ticks\": \"\"}, \"bgcolor\": \"#E5ECF6\", \"caxis\": {\"gridcolor\": \"white\", \"linecolor\": \"white\", \"ticks\": \"\"}}, \"title\": {\"x\": 0.05}, \"xaxis\": {\"automargin\": true, \"gridcolor\": \"white\", \"linecolor\": \"white\", \"ticks\": \"\", \"title\": {\"standoff\": 15}, \"zerolinecolor\": \"white\", \"zerolinewidth\": 2}, \"yaxis\": {\"automargin\": true, \"gridcolor\": \"white\", \"linecolor\": \"white\", \"ticks\": \"\", \"title\": {\"standoff\": 15}, \"zerolinecolor\": \"white\", \"zerolinewidth\": 2}}}, \"title\": {\"text\": \"Most Reviewed Mountains\", \"x\": 0.5}, \"xaxis\": {\"anchor\": \"y\", \"domain\": [0.0, 1.0], \"title\": {\"text\": \"Resort\"}}, \"yaxis\": {\"anchor\": \"x\", \"domain\": [0.0, 1.0], \"title\": {\"text\": \"Review Count\"}}},                        {\"responsive\": true}                    ).then(function(){\n",
       "                            \n",
       "var gd = document.getElementById('7522791a-d3de-4ecb-a12c-a0aef4fe640a');\n",
       "var x = new MutationObserver(function (mutations, observer) {{\n",
       "        var display = window.getComputedStyle(gd).display;\n",
       "        if (!display || display === 'none') {{\n",
       "            console.log([gd, 'removed!']);\n",
       "            Plotly.purge(gd);\n",
       "            observer.disconnect();\n",
       "        }}\n",
       "}});\n",
       "\n",
       "// Listen for the removal of the full notebook cells\n",
       "var notebookContainer = gd.closest('#notebook-container');\n",
       "if (notebookContainer) {{\n",
       "    x.observe(notebookContainer, {childList: true});\n",
       "}}\n",
       "\n",
       "// Listen for the clearing of the current output cell\n",
       "var outputEl = gd.closest('.output');\n",
       "if (outputEl) {{\n",
       "    x.observe(outputEl, {childList: true});\n",
       "}}\n",
       "\n",
       "                        })                };                });            </script>        </div>"
      ]
     },
     "metadata": {},
     "output_type": "display_data"
    }
   ],
   "source": [
    "#using plotly to plot the top reviewers\n",
    "fig = px.bar(top_5_reviewed_resorts, x=\"index\", y=\"ski_resort\")\n",
    "fig.update_layout(title_text='Most Reviewed Mountains',\n",
    "                  title_x=0.5,\n",
    "                  xaxis_title=\"Resort\",\n",
    "                  yaxis_title=\"Review Count\",\n",
    "                 plot_bgcolor='white')\n",
    "fig.update_traces(marker_color = \"#00b5ff\")\n",
    "fig.show()"
   ]
  },
  {
   "cell_type": "markdown",
   "metadata": {},
   "source": [
    "### Rating distribution"
   ]
  },
  {
   "cell_type": "markdown",
   "metadata": {},
   "source": [
    "There is an imbalance in rating distrubutions, however the breakdown of ratings is not in line with typical user bias where ratings are either on the high or low scale. This imbalance will most likely end up affecting the performance of our modeling, but we can choose an algorithm that works best for the type of data we have."
   ]
  },
  {
   "cell_type": "code",
   "execution_count": 283,
   "metadata": {},
   "outputs": [],
   "source": [
    "#making dataframe of rating counts to compare distribution of ratings\n",
    "top_ratings = pd.DataFrame(final_ski_df[\"rating\"].value_counts(ascending=False).head(15))\n",
    "top_ratings = top_ratings.reset_index()\n",
    "top_ratings = top_ratings.rename(columns={\"rating\":\"rating_count\"})\n",
    "top_ratings = top_ratings.rename(columns={\"index\":\"rating\"})\n",
    "\n",
    "#making user_id a string for plotting\n",
    "top_ratings['rating'] = top_ratings['rating'].astype(str)\n",
    "\n",
    "# Calculate the percentage of each rating count\n",
    "top_ratings['rating_percentage'] = (top_ratings['rating_count'] / top_ratings['rating_count'].sum()) * 100"
   ]
  },
  {
   "cell_type": "code",
   "execution_count": 284,
   "metadata": {},
   "outputs": [
    {
     "data": {
      "application/vnd.plotly.v1+json": {
       "config": {
        "plotlyServerURL": "https://plot.ly"
       },
       "data": [
        {
         "alignmentgroup": "True",
         "hovertemplate": "rating=%{x}<br>rating_percentage=%{text}<extra></extra>",
         "legendgroup": "",
         "marker": {
          "color": "#00b5ff"
         },
         "name": "",
         "offsetgroup": "",
         "orientation": "v",
         "showlegend": false,
         "text": [
          40.32200357781753,
          33.48837209302326,
          15.026833631484795,
          7.04830053667263,
          4.114490161001789
         ],
         "textposition": "outside",
         "texttemplate": "%{text:.1s}%",
         "type": "bar",
         "x": [
          "5",
          "4",
          "3",
          "2",
          "1"
         ],
         "xaxis": "x",
         "y": [
          40.32200357781753,
          33.48837209302326,
          15.026833631484795,
          7.04830053667263,
          4.114490161001789
         ],
         "yaxis": "y"
        }
       ],
       "layout": {
        "barmode": "relative",
        "font": {
         "size": 14
        },
        "legend": {
         "tracegroupgap": 0
        },
        "margin": {
         "t": 60
        },
        "plot_bgcolor": "white",
        "template": {
         "data": {
          "bar": [
           {
            "error_x": {
             "color": "#2a3f5f"
            },
            "error_y": {
             "color": "#2a3f5f"
            },
            "marker": {
             "line": {
              "color": "#E5ECF6",
              "width": 0.5
             }
            },
            "type": "bar"
           }
          ],
          "barpolar": [
           {
            "marker": {
             "line": {
              "color": "#E5ECF6",
              "width": 0.5
             }
            },
            "type": "barpolar"
           }
          ],
          "carpet": [
           {
            "aaxis": {
             "endlinecolor": "#2a3f5f",
             "gridcolor": "white",
             "linecolor": "white",
             "minorgridcolor": "white",
             "startlinecolor": "#2a3f5f"
            },
            "baxis": {
             "endlinecolor": "#2a3f5f",
             "gridcolor": "white",
             "linecolor": "white",
             "minorgridcolor": "white",
             "startlinecolor": "#2a3f5f"
            },
            "type": "carpet"
           }
          ],
          "choropleth": [
           {
            "colorbar": {
             "outlinewidth": 0,
             "ticks": ""
            },
            "type": "choropleth"
           }
          ],
          "contour": [
           {
            "colorbar": {
             "outlinewidth": 0,
             "ticks": ""
            },
            "colorscale": [
             [
              0,
              "#0d0887"
             ],
             [
              0.1111111111111111,
              "#46039f"
             ],
             [
              0.2222222222222222,
              "#7201a8"
             ],
             [
              0.3333333333333333,
              "#9c179e"
             ],
             [
              0.4444444444444444,
              "#bd3786"
             ],
             [
              0.5555555555555556,
              "#d8576b"
             ],
             [
              0.6666666666666666,
              "#ed7953"
             ],
             [
              0.7777777777777778,
              "#fb9f3a"
             ],
             [
              0.8888888888888888,
              "#fdca26"
             ],
             [
              1,
              "#f0f921"
             ]
            ],
            "type": "contour"
           }
          ],
          "contourcarpet": [
           {
            "colorbar": {
             "outlinewidth": 0,
             "ticks": ""
            },
            "type": "contourcarpet"
           }
          ],
          "heatmap": [
           {
            "colorbar": {
             "outlinewidth": 0,
             "ticks": ""
            },
            "colorscale": [
             [
              0,
              "#0d0887"
             ],
             [
              0.1111111111111111,
              "#46039f"
             ],
             [
              0.2222222222222222,
              "#7201a8"
             ],
             [
              0.3333333333333333,
              "#9c179e"
             ],
             [
              0.4444444444444444,
              "#bd3786"
             ],
             [
              0.5555555555555556,
              "#d8576b"
             ],
             [
              0.6666666666666666,
              "#ed7953"
             ],
             [
              0.7777777777777778,
              "#fb9f3a"
             ],
             [
              0.8888888888888888,
              "#fdca26"
             ],
             [
              1,
              "#f0f921"
             ]
            ],
            "type": "heatmap"
           }
          ],
          "heatmapgl": [
           {
            "colorbar": {
             "outlinewidth": 0,
             "ticks": ""
            },
            "colorscale": [
             [
              0,
              "#0d0887"
             ],
             [
              0.1111111111111111,
              "#46039f"
             ],
             [
              0.2222222222222222,
              "#7201a8"
             ],
             [
              0.3333333333333333,
              "#9c179e"
             ],
             [
              0.4444444444444444,
              "#bd3786"
             ],
             [
              0.5555555555555556,
              "#d8576b"
             ],
             [
              0.6666666666666666,
              "#ed7953"
             ],
             [
              0.7777777777777778,
              "#fb9f3a"
             ],
             [
              0.8888888888888888,
              "#fdca26"
             ],
             [
              1,
              "#f0f921"
             ]
            ],
            "type": "heatmapgl"
           }
          ],
          "histogram": [
           {
            "marker": {
             "colorbar": {
              "outlinewidth": 0,
              "ticks": ""
             }
            },
            "type": "histogram"
           }
          ],
          "histogram2d": [
           {
            "colorbar": {
             "outlinewidth": 0,
             "ticks": ""
            },
            "colorscale": [
             [
              0,
              "#0d0887"
             ],
             [
              0.1111111111111111,
              "#46039f"
             ],
             [
              0.2222222222222222,
              "#7201a8"
             ],
             [
              0.3333333333333333,
              "#9c179e"
             ],
             [
              0.4444444444444444,
              "#bd3786"
             ],
             [
              0.5555555555555556,
              "#d8576b"
             ],
             [
              0.6666666666666666,
              "#ed7953"
             ],
             [
              0.7777777777777778,
              "#fb9f3a"
             ],
             [
              0.8888888888888888,
              "#fdca26"
             ],
             [
              1,
              "#f0f921"
             ]
            ],
            "type": "histogram2d"
           }
          ],
          "histogram2dcontour": [
           {
            "colorbar": {
             "outlinewidth": 0,
             "ticks": ""
            },
            "colorscale": [
             [
              0,
              "#0d0887"
             ],
             [
              0.1111111111111111,
              "#46039f"
             ],
             [
              0.2222222222222222,
              "#7201a8"
             ],
             [
              0.3333333333333333,
              "#9c179e"
             ],
             [
              0.4444444444444444,
              "#bd3786"
             ],
             [
              0.5555555555555556,
              "#d8576b"
             ],
             [
              0.6666666666666666,
              "#ed7953"
             ],
             [
              0.7777777777777778,
              "#fb9f3a"
             ],
             [
              0.8888888888888888,
              "#fdca26"
             ],
             [
              1,
              "#f0f921"
             ]
            ],
            "type": "histogram2dcontour"
           }
          ],
          "mesh3d": [
           {
            "colorbar": {
             "outlinewidth": 0,
             "ticks": ""
            },
            "type": "mesh3d"
           }
          ],
          "parcoords": [
           {
            "line": {
             "colorbar": {
              "outlinewidth": 0,
              "ticks": ""
             }
            },
            "type": "parcoords"
           }
          ],
          "pie": [
           {
            "automargin": true,
            "type": "pie"
           }
          ],
          "scatter": [
           {
            "marker": {
             "colorbar": {
              "outlinewidth": 0,
              "ticks": ""
             }
            },
            "type": "scatter"
           }
          ],
          "scatter3d": [
           {
            "line": {
             "colorbar": {
              "outlinewidth": 0,
              "ticks": ""
             }
            },
            "marker": {
             "colorbar": {
              "outlinewidth": 0,
              "ticks": ""
             }
            },
            "type": "scatter3d"
           }
          ],
          "scattercarpet": [
           {
            "marker": {
             "colorbar": {
              "outlinewidth": 0,
              "ticks": ""
             }
            },
            "type": "scattercarpet"
           }
          ],
          "scattergeo": [
           {
            "marker": {
             "colorbar": {
              "outlinewidth": 0,
              "ticks": ""
             }
            },
            "type": "scattergeo"
           }
          ],
          "scattergl": [
           {
            "marker": {
             "colorbar": {
              "outlinewidth": 0,
              "ticks": ""
             }
            },
            "type": "scattergl"
           }
          ],
          "scattermapbox": [
           {
            "marker": {
             "colorbar": {
              "outlinewidth": 0,
              "ticks": ""
             }
            },
            "type": "scattermapbox"
           }
          ],
          "scatterpolar": [
           {
            "marker": {
             "colorbar": {
              "outlinewidth": 0,
              "ticks": ""
             }
            },
            "type": "scatterpolar"
           }
          ],
          "scatterpolargl": [
           {
            "marker": {
             "colorbar": {
              "outlinewidth": 0,
              "ticks": ""
             }
            },
            "type": "scatterpolargl"
           }
          ],
          "scatterternary": [
           {
            "marker": {
             "colorbar": {
              "outlinewidth": 0,
              "ticks": ""
             }
            },
            "type": "scatterternary"
           }
          ],
          "surface": [
           {
            "colorbar": {
             "outlinewidth": 0,
             "ticks": ""
            },
            "colorscale": [
             [
              0,
              "#0d0887"
             ],
             [
              0.1111111111111111,
              "#46039f"
             ],
             [
              0.2222222222222222,
              "#7201a8"
             ],
             [
              0.3333333333333333,
              "#9c179e"
             ],
             [
              0.4444444444444444,
              "#bd3786"
             ],
             [
              0.5555555555555556,
              "#d8576b"
             ],
             [
              0.6666666666666666,
              "#ed7953"
             ],
             [
              0.7777777777777778,
              "#fb9f3a"
             ],
             [
              0.8888888888888888,
              "#fdca26"
             ],
             [
              1,
              "#f0f921"
             ]
            ],
            "type": "surface"
           }
          ],
          "table": [
           {
            "cells": {
             "fill": {
              "color": "#EBF0F8"
             },
             "line": {
              "color": "white"
             }
            },
            "header": {
             "fill": {
              "color": "#C8D4E3"
             },
             "line": {
              "color": "white"
             }
            },
            "type": "table"
           }
          ]
         },
         "layout": {
          "annotationdefaults": {
           "arrowcolor": "#2a3f5f",
           "arrowhead": 0,
           "arrowwidth": 1
          },
          "coloraxis": {
           "colorbar": {
            "outlinewidth": 0,
            "ticks": ""
           }
          },
          "colorscale": {
           "diverging": [
            [
             0,
             "#8e0152"
            ],
            [
             0.1,
             "#c51b7d"
            ],
            [
             0.2,
             "#de77ae"
            ],
            [
             0.3,
             "#f1b6da"
            ],
            [
             0.4,
             "#fde0ef"
            ],
            [
             0.5,
             "#f7f7f7"
            ],
            [
             0.6,
             "#e6f5d0"
            ],
            [
             0.7,
             "#b8e186"
            ],
            [
             0.8,
             "#7fbc41"
            ],
            [
             0.9,
             "#4d9221"
            ],
            [
             1,
             "#276419"
            ]
           ],
           "sequential": [
            [
             0,
             "#0d0887"
            ],
            [
             0.1111111111111111,
             "#46039f"
            ],
            [
             0.2222222222222222,
             "#7201a8"
            ],
            [
             0.3333333333333333,
             "#9c179e"
            ],
            [
             0.4444444444444444,
             "#bd3786"
            ],
            [
             0.5555555555555556,
             "#d8576b"
            ],
            [
             0.6666666666666666,
             "#ed7953"
            ],
            [
             0.7777777777777778,
             "#fb9f3a"
            ],
            [
             0.8888888888888888,
             "#fdca26"
            ],
            [
             1,
             "#f0f921"
            ]
           ],
           "sequentialminus": [
            [
             0,
             "#0d0887"
            ],
            [
             0.1111111111111111,
             "#46039f"
            ],
            [
             0.2222222222222222,
             "#7201a8"
            ],
            [
             0.3333333333333333,
             "#9c179e"
            ],
            [
             0.4444444444444444,
             "#bd3786"
            ],
            [
             0.5555555555555556,
             "#d8576b"
            ],
            [
             0.6666666666666666,
             "#ed7953"
            ],
            [
             0.7777777777777778,
             "#fb9f3a"
            ],
            [
             0.8888888888888888,
             "#fdca26"
            ],
            [
             1,
             "#f0f921"
            ]
           ]
          },
          "colorway": [
           "#636efa",
           "#EF553B",
           "#00cc96",
           "#ab63fa",
           "#FFA15A",
           "#19d3f3",
           "#FF6692",
           "#B6E880",
           "#FF97FF",
           "#FECB52"
          ],
          "font": {
           "color": "#2a3f5f"
          },
          "geo": {
           "bgcolor": "white",
           "lakecolor": "white",
           "landcolor": "#E5ECF6",
           "showlakes": true,
           "showland": true,
           "subunitcolor": "white"
          },
          "hoverlabel": {
           "align": "left"
          },
          "hovermode": "closest",
          "mapbox": {
           "style": "light"
          },
          "paper_bgcolor": "white",
          "plot_bgcolor": "#E5ECF6",
          "polar": {
           "angularaxis": {
            "gridcolor": "white",
            "linecolor": "white",
            "ticks": ""
           },
           "bgcolor": "#E5ECF6",
           "radialaxis": {
            "gridcolor": "white",
            "linecolor": "white",
            "ticks": ""
           }
          },
          "scene": {
           "xaxis": {
            "backgroundcolor": "#E5ECF6",
            "gridcolor": "white",
            "gridwidth": 2,
            "linecolor": "white",
            "showbackground": true,
            "ticks": "",
            "zerolinecolor": "white"
           },
           "yaxis": {
            "backgroundcolor": "#E5ECF6",
            "gridcolor": "white",
            "gridwidth": 2,
            "linecolor": "white",
            "showbackground": true,
            "ticks": "",
            "zerolinecolor": "white"
           },
           "zaxis": {
            "backgroundcolor": "#E5ECF6",
            "gridcolor": "white",
            "gridwidth": 2,
            "linecolor": "white",
            "showbackground": true,
            "ticks": "",
            "zerolinecolor": "white"
           }
          },
          "shapedefaults": {
           "line": {
            "color": "#2a3f5f"
           }
          },
          "ternary": {
           "aaxis": {
            "gridcolor": "white",
            "linecolor": "white",
            "ticks": ""
           },
           "baxis": {
            "gridcolor": "white",
            "linecolor": "white",
            "ticks": ""
           },
           "bgcolor": "#E5ECF6",
           "caxis": {
            "gridcolor": "white",
            "linecolor": "white",
            "ticks": ""
           }
          },
          "title": {
           "x": 0.05
          },
          "xaxis": {
           "automargin": true,
           "gridcolor": "white",
           "linecolor": "white",
           "ticks": "",
           "title": {
            "standoff": 15
           },
           "zerolinecolor": "white",
           "zerolinewidth": 2
          },
          "yaxis": {
           "automargin": true,
           "gridcolor": "white",
           "linecolor": "white",
           "ticks": "",
           "title": {
            "standoff": 15
           },
           "zerolinecolor": "white",
           "zerolinewidth": 2
          }
         }
        },
        "title": {
         "text": "Rating Distribution",
         "x": 0.5
        },
        "xaxis": {
         "anchor": "y",
         "domain": [
          0,
          1
         ],
         "title": {
          "text": "Rating"
         }
        },
        "yaxis": {
         "anchor": "x",
         "domain": [
          0,
          1
         ],
         "title": {
          "text": "Rating %"
         }
        }
       }
      },
      "text/html": [
       "<div>                            <div id=\"696e4657-60c2-4399-a6cc-bb23bc27cb2a\" class=\"plotly-graph-div\" style=\"height:525px; width:100%;\"></div>            <script type=\"text/javascript\">                require([\"plotly\"], function(Plotly) {                    window.PLOTLYENV=window.PLOTLYENV || {};                                    if (document.getElementById(\"696e4657-60c2-4399-a6cc-bb23bc27cb2a\")) {                    Plotly.newPlot(                        \"696e4657-60c2-4399-a6cc-bb23bc27cb2a\",                        [{\"alignmentgroup\": \"True\", \"hovertemplate\": \"rating=%{x}<br>rating_percentage=%{text}<extra></extra>\", \"legendgroup\": \"\", \"marker\": {\"color\": \"#00b5ff\"}, \"name\": \"\", \"offsetgroup\": \"\", \"orientation\": \"v\", \"showlegend\": false, \"text\": [40.32200357781753, 33.48837209302326, 15.026833631484795, 7.04830053667263, 4.114490161001789], \"textposition\": \"outside\", \"texttemplate\": \"%{text:.1s}%\", \"type\": \"bar\", \"x\": [\"5\", \"4\", \"3\", \"2\", \"1\"], \"xaxis\": \"x\", \"y\": [40.32200357781753, 33.48837209302326, 15.026833631484795, 7.04830053667263, 4.114490161001789], \"yaxis\": \"y\"}],                        {\"barmode\": \"relative\", \"font\": {\"size\": 14}, \"legend\": {\"tracegroupgap\": 0}, \"margin\": {\"t\": 60}, \"plot_bgcolor\": \"white\", \"template\": {\"data\": {\"bar\": [{\"error_x\": {\"color\": \"#2a3f5f\"}, \"error_y\": {\"color\": \"#2a3f5f\"}, \"marker\": {\"line\": {\"color\": \"#E5ECF6\", \"width\": 0.5}}, \"type\": \"bar\"}], \"barpolar\": [{\"marker\": {\"line\": {\"color\": \"#E5ECF6\", \"width\": 0.5}}, \"type\": \"barpolar\"}], \"carpet\": [{\"aaxis\": {\"endlinecolor\": \"#2a3f5f\", \"gridcolor\": \"white\", \"linecolor\": \"white\", \"minorgridcolor\": \"white\", \"startlinecolor\": \"#2a3f5f\"}, \"baxis\": {\"endlinecolor\": \"#2a3f5f\", \"gridcolor\": \"white\", \"linecolor\": \"white\", \"minorgridcolor\": \"white\", \"startlinecolor\": \"#2a3f5f\"}, \"type\": \"carpet\"}], \"choropleth\": [{\"colorbar\": {\"outlinewidth\": 0, \"ticks\": \"\"}, \"type\": \"choropleth\"}], \"contour\": [{\"colorbar\": {\"outlinewidth\": 0, \"ticks\": \"\"}, \"colorscale\": [[0.0, \"#0d0887\"], [0.1111111111111111, \"#46039f\"], [0.2222222222222222, \"#7201a8\"], [0.3333333333333333, \"#9c179e\"], [0.4444444444444444, \"#bd3786\"], [0.5555555555555556, \"#d8576b\"], [0.6666666666666666, \"#ed7953\"], [0.7777777777777778, \"#fb9f3a\"], [0.8888888888888888, \"#fdca26\"], [1.0, \"#f0f921\"]], \"type\": \"contour\"}], \"contourcarpet\": [{\"colorbar\": {\"outlinewidth\": 0, \"ticks\": \"\"}, \"type\": \"contourcarpet\"}], \"heatmap\": [{\"colorbar\": {\"outlinewidth\": 0, \"ticks\": \"\"}, \"colorscale\": [[0.0, \"#0d0887\"], [0.1111111111111111, \"#46039f\"], [0.2222222222222222, \"#7201a8\"], [0.3333333333333333, \"#9c179e\"], [0.4444444444444444, \"#bd3786\"], [0.5555555555555556, \"#d8576b\"], [0.6666666666666666, \"#ed7953\"], [0.7777777777777778, \"#fb9f3a\"], [0.8888888888888888, \"#fdca26\"], [1.0, \"#f0f921\"]], \"type\": \"heatmap\"}], \"heatmapgl\": [{\"colorbar\": {\"outlinewidth\": 0, \"ticks\": \"\"}, \"colorscale\": [[0.0, \"#0d0887\"], [0.1111111111111111, \"#46039f\"], [0.2222222222222222, \"#7201a8\"], [0.3333333333333333, \"#9c179e\"], [0.4444444444444444, \"#bd3786\"], [0.5555555555555556, \"#d8576b\"], [0.6666666666666666, \"#ed7953\"], [0.7777777777777778, \"#fb9f3a\"], [0.8888888888888888, \"#fdca26\"], [1.0, \"#f0f921\"]], \"type\": \"heatmapgl\"}], \"histogram\": [{\"marker\": {\"colorbar\": {\"outlinewidth\": 0, \"ticks\": \"\"}}, \"type\": \"histogram\"}], \"histogram2d\": [{\"colorbar\": {\"outlinewidth\": 0, \"ticks\": \"\"}, \"colorscale\": [[0.0, \"#0d0887\"], [0.1111111111111111, \"#46039f\"], [0.2222222222222222, \"#7201a8\"], [0.3333333333333333, \"#9c179e\"], [0.4444444444444444, \"#bd3786\"], [0.5555555555555556, \"#d8576b\"], [0.6666666666666666, \"#ed7953\"], [0.7777777777777778, \"#fb9f3a\"], [0.8888888888888888, \"#fdca26\"], [1.0, \"#f0f921\"]], \"type\": \"histogram2d\"}], \"histogram2dcontour\": [{\"colorbar\": {\"outlinewidth\": 0, \"ticks\": \"\"}, \"colorscale\": [[0.0, \"#0d0887\"], [0.1111111111111111, \"#46039f\"], [0.2222222222222222, \"#7201a8\"], [0.3333333333333333, \"#9c179e\"], [0.4444444444444444, \"#bd3786\"], [0.5555555555555556, \"#d8576b\"], [0.6666666666666666, \"#ed7953\"], [0.7777777777777778, \"#fb9f3a\"], [0.8888888888888888, \"#fdca26\"], [1.0, \"#f0f921\"]], \"type\": \"histogram2dcontour\"}], \"mesh3d\": [{\"colorbar\": {\"outlinewidth\": 0, \"ticks\": \"\"}, \"type\": \"mesh3d\"}], \"parcoords\": [{\"line\": {\"colorbar\": {\"outlinewidth\": 0, \"ticks\": \"\"}}, \"type\": \"parcoords\"}], \"pie\": [{\"automargin\": true, \"type\": \"pie\"}], \"scatter\": [{\"marker\": {\"colorbar\": {\"outlinewidth\": 0, \"ticks\": \"\"}}, \"type\": \"scatter\"}], \"scatter3d\": [{\"line\": {\"colorbar\": {\"outlinewidth\": 0, \"ticks\": \"\"}}, \"marker\": {\"colorbar\": {\"outlinewidth\": 0, \"ticks\": \"\"}}, \"type\": \"scatter3d\"}], \"scattercarpet\": [{\"marker\": {\"colorbar\": {\"outlinewidth\": 0, \"ticks\": \"\"}}, \"type\": \"scattercarpet\"}], \"scattergeo\": [{\"marker\": {\"colorbar\": {\"outlinewidth\": 0, \"ticks\": \"\"}}, \"type\": \"scattergeo\"}], \"scattergl\": [{\"marker\": {\"colorbar\": {\"outlinewidth\": 0, \"ticks\": \"\"}}, \"type\": \"scattergl\"}], \"scattermapbox\": [{\"marker\": {\"colorbar\": {\"outlinewidth\": 0, \"ticks\": \"\"}}, \"type\": \"scattermapbox\"}], \"scatterpolar\": [{\"marker\": {\"colorbar\": {\"outlinewidth\": 0, \"ticks\": \"\"}}, \"type\": \"scatterpolar\"}], \"scatterpolargl\": [{\"marker\": {\"colorbar\": {\"outlinewidth\": 0, \"ticks\": \"\"}}, \"type\": \"scatterpolargl\"}], \"scatterternary\": [{\"marker\": {\"colorbar\": {\"outlinewidth\": 0, \"ticks\": \"\"}}, \"type\": \"scatterternary\"}], \"surface\": [{\"colorbar\": {\"outlinewidth\": 0, \"ticks\": \"\"}, \"colorscale\": [[0.0, \"#0d0887\"], [0.1111111111111111, \"#46039f\"], [0.2222222222222222, \"#7201a8\"], [0.3333333333333333, \"#9c179e\"], [0.4444444444444444, \"#bd3786\"], [0.5555555555555556, \"#d8576b\"], [0.6666666666666666, \"#ed7953\"], [0.7777777777777778, \"#fb9f3a\"], [0.8888888888888888, \"#fdca26\"], [1.0, \"#f0f921\"]], \"type\": \"surface\"}], \"table\": [{\"cells\": {\"fill\": {\"color\": \"#EBF0F8\"}, \"line\": {\"color\": \"white\"}}, \"header\": {\"fill\": {\"color\": \"#C8D4E3\"}, \"line\": {\"color\": \"white\"}}, \"type\": \"table\"}]}, \"layout\": {\"annotationdefaults\": {\"arrowcolor\": \"#2a3f5f\", \"arrowhead\": 0, \"arrowwidth\": 1}, \"coloraxis\": {\"colorbar\": {\"outlinewidth\": 0, \"ticks\": \"\"}}, \"colorscale\": {\"diverging\": [[0, \"#8e0152\"], [0.1, \"#c51b7d\"], [0.2, \"#de77ae\"], [0.3, \"#f1b6da\"], [0.4, \"#fde0ef\"], [0.5, \"#f7f7f7\"], [0.6, \"#e6f5d0\"], [0.7, \"#b8e186\"], [0.8, \"#7fbc41\"], [0.9, \"#4d9221\"], [1, \"#276419\"]], \"sequential\": [[0.0, \"#0d0887\"], [0.1111111111111111, \"#46039f\"], [0.2222222222222222, \"#7201a8\"], [0.3333333333333333, \"#9c179e\"], [0.4444444444444444, \"#bd3786\"], [0.5555555555555556, \"#d8576b\"], [0.6666666666666666, \"#ed7953\"], [0.7777777777777778, \"#fb9f3a\"], [0.8888888888888888, \"#fdca26\"], [1.0, \"#f0f921\"]], \"sequentialminus\": [[0.0, \"#0d0887\"], [0.1111111111111111, \"#46039f\"], [0.2222222222222222, \"#7201a8\"], [0.3333333333333333, \"#9c179e\"], [0.4444444444444444, \"#bd3786\"], [0.5555555555555556, \"#d8576b\"], [0.6666666666666666, \"#ed7953\"], [0.7777777777777778, \"#fb9f3a\"], [0.8888888888888888, \"#fdca26\"], [1.0, \"#f0f921\"]]}, \"colorway\": [\"#636efa\", \"#EF553B\", \"#00cc96\", \"#ab63fa\", \"#FFA15A\", \"#19d3f3\", \"#FF6692\", \"#B6E880\", \"#FF97FF\", \"#FECB52\"], \"font\": {\"color\": \"#2a3f5f\"}, \"geo\": {\"bgcolor\": \"white\", \"lakecolor\": \"white\", \"landcolor\": \"#E5ECF6\", \"showlakes\": true, \"showland\": true, \"subunitcolor\": \"white\"}, \"hoverlabel\": {\"align\": \"left\"}, \"hovermode\": \"closest\", \"mapbox\": {\"style\": \"light\"}, \"paper_bgcolor\": \"white\", \"plot_bgcolor\": \"#E5ECF6\", \"polar\": {\"angularaxis\": {\"gridcolor\": \"white\", \"linecolor\": \"white\", \"ticks\": \"\"}, \"bgcolor\": \"#E5ECF6\", \"radialaxis\": {\"gridcolor\": \"white\", \"linecolor\": \"white\", \"ticks\": \"\"}}, \"scene\": {\"xaxis\": {\"backgroundcolor\": \"#E5ECF6\", \"gridcolor\": \"white\", \"gridwidth\": 2, \"linecolor\": \"white\", \"showbackground\": true, \"ticks\": \"\", \"zerolinecolor\": \"white\"}, \"yaxis\": {\"backgroundcolor\": \"#E5ECF6\", \"gridcolor\": \"white\", \"gridwidth\": 2, \"linecolor\": \"white\", \"showbackground\": true, \"ticks\": \"\", \"zerolinecolor\": \"white\"}, \"zaxis\": {\"backgroundcolor\": \"#E5ECF6\", \"gridcolor\": \"white\", \"gridwidth\": 2, \"linecolor\": \"white\", \"showbackground\": true, \"ticks\": \"\", \"zerolinecolor\": \"white\"}}, \"shapedefaults\": {\"line\": {\"color\": \"#2a3f5f\"}}, \"ternary\": {\"aaxis\": {\"gridcolor\": \"white\", \"linecolor\": \"white\", \"ticks\": \"\"}, \"baxis\": {\"gridcolor\": \"white\", \"linecolor\": \"white\", \"ticks\": \"\"}, \"bgcolor\": \"#E5ECF6\", \"caxis\": {\"gridcolor\": \"white\", \"linecolor\": \"white\", \"ticks\": \"\"}}, \"title\": {\"x\": 0.05}, \"xaxis\": {\"automargin\": true, \"gridcolor\": \"white\", \"linecolor\": \"white\", \"ticks\": \"\", \"title\": {\"standoff\": 15}, \"zerolinecolor\": \"white\", \"zerolinewidth\": 2}, \"yaxis\": {\"automargin\": true, \"gridcolor\": \"white\", \"linecolor\": \"white\", \"ticks\": \"\", \"title\": {\"standoff\": 15}, \"zerolinecolor\": \"white\", \"zerolinewidth\": 2}}}, \"title\": {\"text\": \"Rating Distribution\", \"x\": 0.5}, \"xaxis\": {\"anchor\": \"y\", \"domain\": [0.0, 1.0], \"title\": {\"text\": \"Rating\"}}, \"yaxis\": {\"anchor\": \"x\", \"domain\": [0.0, 1.0], \"title\": {\"text\": \"Rating %\"}}},                        {\"responsive\": true}                    ).then(function(){\n",
       "                            \n",
       "var gd = document.getElementById('696e4657-60c2-4399-a6cc-bb23bc27cb2a');\n",
       "var x = new MutationObserver(function (mutations, observer) {{\n",
       "        var display = window.getComputedStyle(gd).display;\n",
       "        if (!display || display === 'none') {{\n",
       "            console.log([gd, 'removed!']);\n",
       "            Plotly.purge(gd);\n",
       "            observer.disconnect();\n",
       "        }}\n",
       "}});\n",
       "\n",
       "// Listen for the removal of the full notebook cells\n",
       "var notebookContainer = gd.closest('#notebook-container');\n",
       "if (notebookContainer) {{\n",
       "    x.observe(notebookContainer, {childList: true});\n",
       "}}\n",
       "\n",
       "// Listen for the clearing of the current output cell\n",
       "var outputEl = gd.closest('.output');\n",
       "if (outputEl) {{\n",
       "    x.observe(outputEl, {childList: true});\n",
       "}}\n",
       "\n",
       "                        })                };                });            </script>        </div>"
      ]
     },
     "metadata": {},
     "output_type": "display_data"
    }
   ],
   "source": [
    "#using plotly to plot the top featurescolor=\n",
    "fig = px.bar(top_ratings, x=\"rating\", y=\"rating_percentage\",\n",
    "             text=\"rating_percentage\")\n",
    "fig.update_layout(title_text='Rating Distribution',\n",
    "                  title_x=0.5,\n",
    "                  xaxis_title=\"Rating\",\n",
    "                  yaxis_title=\"Rating %\",\n",
    "                 plot_bgcolor='white',\n",
    "                 font=dict(size=14))\n",
    "fig.update_traces(marker_color = \"#00b5ff\", texttemplate='%{text:.1s}%', textposition='outside')\n",
    "\n",
    "fig.show()"
   ]
  },
  {
   "cell_type": "markdown",
   "metadata": {},
   "source": [
    "### Monthly Snowfall"
   ]
  },
  {
   "cell_type": "code",
   "execution_count": 285,
   "metadata": {},
   "outputs": [],
   "source": [
    "snow_list = [\"nov_snow\", \"dec_snow\", \"jan_snow\", \"feb_snow\", \"mar_snow\", \"apr_snow\"]\n",
    "snow_names = ['November', 'December', 'January', 'February', 'March', 'April']\n",
    "\n",
    "monthly_mean = content_df[snow_list].mean(skipna=True)\n",
    "\n",
    "monthly_snowfall = pd.DataFrame({'month': snow_names, 'mean_snowfall': monthly_mean.values})"
   ]
  },
  {
   "cell_type": "code",
   "execution_count": 286,
   "metadata": {},
   "outputs": [
    {
     "data": {
      "text/html": [
       "<div>\n",
       "<style scoped>\n",
       "    .dataframe tbody tr th:only-of-type {\n",
       "        vertical-align: middle;\n",
       "    }\n",
       "\n",
       "    .dataframe tbody tr th {\n",
       "        vertical-align: top;\n",
       "    }\n",
       "\n",
       "    .dataframe thead th {\n",
       "        text-align: right;\n",
       "    }\n",
       "</style>\n",
       "<table border=\"1\" class=\"dataframe\">\n",
       "  <thead>\n",
       "    <tr style=\"text-align: right;\">\n",
       "      <th></th>\n",
       "      <th>month</th>\n",
       "      <th>mean_snowfall</th>\n",
       "    </tr>\n",
       "  </thead>\n",
       "  <tbody>\n",
       "    <tr>\n",
       "      <th>0</th>\n",
       "      <td>November</td>\n",
       "      <td>5.918182</td>\n",
       "    </tr>\n",
       "    <tr>\n",
       "      <th>1</th>\n",
       "      <td>December</td>\n",
       "      <td>25.290909</td>\n",
       "    </tr>\n",
       "    <tr>\n",
       "      <th>2</th>\n",
       "      <td>January</td>\n",
       "      <td>28.787879</td>\n",
       "    </tr>\n",
       "    <tr>\n",
       "      <th>3</th>\n",
       "      <td>February</td>\n",
       "      <td>29.463636</td>\n",
       "    </tr>\n",
       "    <tr>\n",
       "      <th>4</th>\n",
       "      <td>March</td>\n",
       "      <td>21.948485</td>\n",
       "    </tr>\n",
       "    <tr>\n",
       "      <th>5</th>\n",
       "      <td>April</td>\n",
       "      <td>5.775758</td>\n",
       "    </tr>\n",
       "  </tbody>\n",
       "</table>\n",
       "</div>"
      ],
      "text/plain": [
       "      month  mean_snowfall\n",
       "0  November       5.918182\n",
       "1  December      25.290909\n",
       "2   January      28.787879\n",
       "3  February      29.463636\n",
       "4     March      21.948485\n",
       "5     April       5.775758"
      ]
     },
     "execution_count": 286,
     "metadata": {},
     "output_type": "execute_result"
    }
   ],
   "source": [
    "monthly_snowfall"
   ]
  },
  {
   "cell_type": "code",
   "execution_count": 287,
   "metadata": {},
   "outputs": [
    {
     "data": {
      "application/vnd.plotly.v1+json": {
       "config": {
        "plotlyServerURL": "https://plot.ly"
       },
       "data": [
        {
         "alignmentgroup": "True",
         "hovertemplate": "month=%{x}<br>mean_snowfall=%{y}<extra></extra>",
         "legendgroup": "",
         "marker": {
          "color": "#00b5ff"
         },
         "name": "",
         "offsetgroup": "",
         "orientation": "v",
         "showlegend": false,
         "textposition": "outside",
         "type": "bar",
         "x": [
          "November",
          "December",
          "January",
          "February",
          "March",
          "April"
         ],
         "xaxis": "x",
         "y": [
          5.918181818181818,
          25.29090909090909,
          28.78787878787879,
          29.463636363636365,
          21.94848484848485,
          5.775757575757575
         ],
         "yaxis": "y"
        }
       ],
       "layout": {
        "barmode": "relative",
        "font": {
         "size": 14
        },
        "legend": {
         "tracegroupgap": 0
        },
        "margin": {
         "t": 60
        },
        "plot_bgcolor": "white",
        "template": {
         "data": {
          "bar": [
           {
            "error_x": {
             "color": "#2a3f5f"
            },
            "error_y": {
             "color": "#2a3f5f"
            },
            "marker": {
             "line": {
              "color": "#E5ECF6",
              "width": 0.5
             }
            },
            "type": "bar"
           }
          ],
          "barpolar": [
           {
            "marker": {
             "line": {
              "color": "#E5ECF6",
              "width": 0.5
             }
            },
            "type": "barpolar"
           }
          ],
          "carpet": [
           {
            "aaxis": {
             "endlinecolor": "#2a3f5f",
             "gridcolor": "white",
             "linecolor": "white",
             "minorgridcolor": "white",
             "startlinecolor": "#2a3f5f"
            },
            "baxis": {
             "endlinecolor": "#2a3f5f",
             "gridcolor": "white",
             "linecolor": "white",
             "minorgridcolor": "white",
             "startlinecolor": "#2a3f5f"
            },
            "type": "carpet"
           }
          ],
          "choropleth": [
           {
            "colorbar": {
             "outlinewidth": 0,
             "ticks": ""
            },
            "type": "choropleth"
           }
          ],
          "contour": [
           {
            "colorbar": {
             "outlinewidth": 0,
             "ticks": ""
            },
            "colorscale": [
             [
              0,
              "#0d0887"
             ],
             [
              0.1111111111111111,
              "#46039f"
             ],
             [
              0.2222222222222222,
              "#7201a8"
             ],
             [
              0.3333333333333333,
              "#9c179e"
             ],
             [
              0.4444444444444444,
              "#bd3786"
             ],
             [
              0.5555555555555556,
              "#d8576b"
             ],
             [
              0.6666666666666666,
              "#ed7953"
             ],
             [
              0.7777777777777778,
              "#fb9f3a"
             ],
             [
              0.8888888888888888,
              "#fdca26"
             ],
             [
              1,
              "#f0f921"
             ]
            ],
            "type": "contour"
           }
          ],
          "contourcarpet": [
           {
            "colorbar": {
             "outlinewidth": 0,
             "ticks": ""
            },
            "type": "contourcarpet"
           }
          ],
          "heatmap": [
           {
            "colorbar": {
             "outlinewidth": 0,
             "ticks": ""
            },
            "colorscale": [
             [
              0,
              "#0d0887"
             ],
             [
              0.1111111111111111,
              "#46039f"
             ],
             [
              0.2222222222222222,
              "#7201a8"
             ],
             [
              0.3333333333333333,
              "#9c179e"
             ],
             [
              0.4444444444444444,
              "#bd3786"
             ],
             [
              0.5555555555555556,
              "#d8576b"
             ],
             [
              0.6666666666666666,
              "#ed7953"
             ],
             [
              0.7777777777777778,
              "#fb9f3a"
             ],
             [
              0.8888888888888888,
              "#fdca26"
             ],
             [
              1,
              "#f0f921"
             ]
            ],
            "type": "heatmap"
           }
          ],
          "heatmapgl": [
           {
            "colorbar": {
             "outlinewidth": 0,
             "ticks": ""
            },
            "colorscale": [
             [
              0,
              "#0d0887"
             ],
             [
              0.1111111111111111,
              "#46039f"
             ],
             [
              0.2222222222222222,
              "#7201a8"
             ],
             [
              0.3333333333333333,
              "#9c179e"
             ],
             [
              0.4444444444444444,
              "#bd3786"
             ],
             [
              0.5555555555555556,
              "#d8576b"
             ],
             [
              0.6666666666666666,
              "#ed7953"
             ],
             [
              0.7777777777777778,
              "#fb9f3a"
             ],
             [
              0.8888888888888888,
              "#fdca26"
             ],
             [
              1,
              "#f0f921"
             ]
            ],
            "type": "heatmapgl"
           }
          ],
          "histogram": [
           {
            "marker": {
             "colorbar": {
              "outlinewidth": 0,
              "ticks": ""
             }
            },
            "type": "histogram"
           }
          ],
          "histogram2d": [
           {
            "colorbar": {
             "outlinewidth": 0,
             "ticks": ""
            },
            "colorscale": [
             [
              0,
              "#0d0887"
             ],
             [
              0.1111111111111111,
              "#46039f"
             ],
             [
              0.2222222222222222,
              "#7201a8"
             ],
             [
              0.3333333333333333,
              "#9c179e"
             ],
             [
              0.4444444444444444,
              "#bd3786"
             ],
             [
              0.5555555555555556,
              "#d8576b"
             ],
             [
              0.6666666666666666,
              "#ed7953"
             ],
             [
              0.7777777777777778,
              "#fb9f3a"
             ],
             [
              0.8888888888888888,
              "#fdca26"
             ],
             [
              1,
              "#f0f921"
             ]
            ],
            "type": "histogram2d"
           }
          ],
          "histogram2dcontour": [
           {
            "colorbar": {
             "outlinewidth": 0,
             "ticks": ""
            },
            "colorscale": [
             [
              0,
              "#0d0887"
             ],
             [
              0.1111111111111111,
              "#46039f"
             ],
             [
              0.2222222222222222,
              "#7201a8"
             ],
             [
              0.3333333333333333,
              "#9c179e"
             ],
             [
              0.4444444444444444,
              "#bd3786"
             ],
             [
              0.5555555555555556,
              "#d8576b"
             ],
             [
              0.6666666666666666,
              "#ed7953"
             ],
             [
              0.7777777777777778,
              "#fb9f3a"
             ],
             [
              0.8888888888888888,
              "#fdca26"
             ],
             [
              1,
              "#f0f921"
             ]
            ],
            "type": "histogram2dcontour"
           }
          ],
          "mesh3d": [
           {
            "colorbar": {
             "outlinewidth": 0,
             "ticks": ""
            },
            "type": "mesh3d"
           }
          ],
          "parcoords": [
           {
            "line": {
             "colorbar": {
              "outlinewidth": 0,
              "ticks": ""
             }
            },
            "type": "parcoords"
           }
          ],
          "pie": [
           {
            "automargin": true,
            "type": "pie"
           }
          ],
          "scatter": [
           {
            "marker": {
             "colorbar": {
              "outlinewidth": 0,
              "ticks": ""
             }
            },
            "type": "scatter"
           }
          ],
          "scatter3d": [
           {
            "line": {
             "colorbar": {
              "outlinewidth": 0,
              "ticks": ""
             }
            },
            "marker": {
             "colorbar": {
              "outlinewidth": 0,
              "ticks": ""
             }
            },
            "type": "scatter3d"
           }
          ],
          "scattercarpet": [
           {
            "marker": {
             "colorbar": {
              "outlinewidth": 0,
              "ticks": ""
             }
            },
            "type": "scattercarpet"
           }
          ],
          "scattergeo": [
           {
            "marker": {
             "colorbar": {
              "outlinewidth": 0,
              "ticks": ""
             }
            },
            "type": "scattergeo"
           }
          ],
          "scattergl": [
           {
            "marker": {
             "colorbar": {
              "outlinewidth": 0,
              "ticks": ""
             }
            },
            "type": "scattergl"
           }
          ],
          "scattermapbox": [
           {
            "marker": {
             "colorbar": {
              "outlinewidth": 0,
              "ticks": ""
             }
            },
            "type": "scattermapbox"
           }
          ],
          "scatterpolar": [
           {
            "marker": {
             "colorbar": {
              "outlinewidth": 0,
              "ticks": ""
             }
            },
            "type": "scatterpolar"
           }
          ],
          "scatterpolargl": [
           {
            "marker": {
             "colorbar": {
              "outlinewidth": 0,
              "ticks": ""
             }
            },
            "type": "scatterpolargl"
           }
          ],
          "scatterternary": [
           {
            "marker": {
             "colorbar": {
              "outlinewidth": 0,
              "ticks": ""
             }
            },
            "type": "scatterternary"
           }
          ],
          "surface": [
           {
            "colorbar": {
             "outlinewidth": 0,
             "ticks": ""
            },
            "colorscale": [
             [
              0,
              "#0d0887"
             ],
             [
              0.1111111111111111,
              "#46039f"
             ],
             [
              0.2222222222222222,
              "#7201a8"
             ],
             [
              0.3333333333333333,
              "#9c179e"
             ],
             [
              0.4444444444444444,
              "#bd3786"
             ],
             [
              0.5555555555555556,
              "#d8576b"
             ],
             [
              0.6666666666666666,
              "#ed7953"
             ],
             [
              0.7777777777777778,
              "#fb9f3a"
             ],
             [
              0.8888888888888888,
              "#fdca26"
             ],
             [
              1,
              "#f0f921"
             ]
            ],
            "type": "surface"
           }
          ],
          "table": [
           {
            "cells": {
             "fill": {
              "color": "#EBF0F8"
             },
             "line": {
              "color": "white"
             }
            },
            "header": {
             "fill": {
              "color": "#C8D4E3"
             },
             "line": {
              "color": "white"
             }
            },
            "type": "table"
           }
          ]
         },
         "layout": {
          "annotationdefaults": {
           "arrowcolor": "#2a3f5f",
           "arrowhead": 0,
           "arrowwidth": 1
          },
          "coloraxis": {
           "colorbar": {
            "outlinewidth": 0,
            "ticks": ""
           }
          },
          "colorscale": {
           "diverging": [
            [
             0,
             "#8e0152"
            ],
            [
             0.1,
             "#c51b7d"
            ],
            [
             0.2,
             "#de77ae"
            ],
            [
             0.3,
             "#f1b6da"
            ],
            [
             0.4,
             "#fde0ef"
            ],
            [
             0.5,
             "#f7f7f7"
            ],
            [
             0.6,
             "#e6f5d0"
            ],
            [
             0.7,
             "#b8e186"
            ],
            [
             0.8,
             "#7fbc41"
            ],
            [
             0.9,
             "#4d9221"
            ],
            [
             1,
             "#276419"
            ]
           ],
           "sequential": [
            [
             0,
             "#0d0887"
            ],
            [
             0.1111111111111111,
             "#46039f"
            ],
            [
             0.2222222222222222,
             "#7201a8"
            ],
            [
             0.3333333333333333,
             "#9c179e"
            ],
            [
             0.4444444444444444,
             "#bd3786"
            ],
            [
             0.5555555555555556,
             "#d8576b"
            ],
            [
             0.6666666666666666,
             "#ed7953"
            ],
            [
             0.7777777777777778,
             "#fb9f3a"
            ],
            [
             0.8888888888888888,
             "#fdca26"
            ],
            [
             1,
             "#f0f921"
            ]
           ],
           "sequentialminus": [
            [
             0,
             "#0d0887"
            ],
            [
             0.1111111111111111,
             "#46039f"
            ],
            [
             0.2222222222222222,
             "#7201a8"
            ],
            [
             0.3333333333333333,
             "#9c179e"
            ],
            [
             0.4444444444444444,
             "#bd3786"
            ],
            [
             0.5555555555555556,
             "#d8576b"
            ],
            [
             0.6666666666666666,
             "#ed7953"
            ],
            [
             0.7777777777777778,
             "#fb9f3a"
            ],
            [
             0.8888888888888888,
             "#fdca26"
            ],
            [
             1,
             "#f0f921"
            ]
           ]
          },
          "colorway": [
           "#636efa",
           "#EF553B",
           "#00cc96",
           "#ab63fa",
           "#FFA15A",
           "#19d3f3",
           "#FF6692",
           "#B6E880",
           "#FF97FF",
           "#FECB52"
          ],
          "font": {
           "color": "#2a3f5f"
          },
          "geo": {
           "bgcolor": "white",
           "lakecolor": "white",
           "landcolor": "#E5ECF6",
           "showlakes": true,
           "showland": true,
           "subunitcolor": "white"
          },
          "hoverlabel": {
           "align": "left"
          },
          "hovermode": "closest",
          "mapbox": {
           "style": "light"
          },
          "paper_bgcolor": "white",
          "plot_bgcolor": "#E5ECF6",
          "polar": {
           "angularaxis": {
            "gridcolor": "white",
            "linecolor": "white",
            "ticks": ""
           },
           "bgcolor": "#E5ECF6",
           "radialaxis": {
            "gridcolor": "white",
            "linecolor": "white",
            "ticks": ""
           }
          },
          "scene": {
           "xaxis": {
            "backgroundcolor": "#E5ECF6",
            "gridcolor": "white",
            "gridwidth": 2,
            "linecolor": "white",
            "showbackground": true,
            "ticks": "",
            "zerolinecolor": "white"
           },
           "yaxis": {
            "backgroundcolor": "#E5ECF6",
            "gridcolor": "white",
            "gridwidth": 2,
            "linecolor": "white",
            "showbackground": true,
            "ticks": "",
            "zerolinecolor": "white"
           },
           "zaxis": {
            "backgroundcolor": "#E5ECF6",
            "gridcolor": "white",
            "gridwidth": 2,
            "linecolor": "white",
            "showbackground": true,
            "ticks": "",
            "zerolinecolor": "white"
           }
          },
          "shapedefaults": {
           "line": {
            "color": "#2a3f5f"
           }
          },
          "ternary": {
           "aaxis": {
            "gridcolor": "white",
            "linecolor": "white",
            "ticks": ""
           },
           "baxis": {
            "gridcolor": "white",
            "linecolor": "white",
            "ticks": ""
           },
           "bgcolor": "#E5ECF6",
           "caxis": {
            "gridcolor": "white",
            "linecolor": "white",
            "ticks": ""
           }
          },
          "title": {
           "x": 0.05
          },
          "xaxis": {
           "automargin": true,
           "gridcolor": "white",
           "linecolor": "white",
           "ticks": "",
           "title": {
            "standoff": 15
           },
           "zerolinecolor": "white",
           "zerolinewidth": 2
          },
          "yaxis": {
           "automargin": true,
           "gridcolor": "white",
           "linecolor": "white",
           "ticks": "",
           "title": {
            "standoff": 15
           },
           "zerolinecolor": "white",
           "zerolinewidth": 2
          }
         }
        },
        "title": {
         "text": "2022 US Average Snowfall",
         "x": 0.5
        },
        "xaxis": {
         "anchor": "y",
         "domain": [
          0,
          1
         ],
         "title": {
          "text": "Month"
         }
        },
        "yaxis": {
         "anchor": "x",
         "domain": [
          0,
          1
         ],
         "title": {
          "text": "Snow (in)"
         }
        }
       }
      },
      "text/html": [
       "<div>                            <div id=\"5a96ee28-9170-4768-a052-298f478347cf\" class=\"plotly-graph-div\" style=\"height:525px; width:100%;\"></div>            <script type=\"text/javascript\">                require([\"plotly\"], function(Plotly) {                    window.PLOTLYENV=window.PLOTLYENV || {};                                    if (document.getElementById(\"5a96ee28-9170-4768-a052-298f478347cf\")) {                    Plotly.newPlot(                        \"5a96ee28-9170-4768-a052-298f478347cf\",                        [{\"alignmentgroup\": \"True\", \"hovertemplate\": \"month=%{x}<br>mean_snowfall=%{y}<extra></extra>\", \"legendgroup\": \"\", \"marker\": {\"color\": \"#00b5ff\"}, \"name\": \"\", \"offsetgroup\": \"\", \"orientation\": \"v\", \"showlegend\": false, \"textposition\": \"outside\", \"type\": \"bar\", \"x\": [\"November\", \"December\", \"January\", \"February\", \"March\", \"April\"], \"xaxis\": \"x\", \"y\": [5.918181818181818, 25.29090909090909, 28.78787878787879, 29.463636363636365, 21.94848484848485, 5.775757575757575], \"yaxis\": \"y\"}],                        {\"barmode\": \"relative\", \"font\": {\"size\": 14}, \"legend\": {\"tracegroupgap\": 0}, \"margin\": {\"t\": 60}, \"plot_bgcolor\": \"white\", \"template\": {\"data\": {\"bar\": [{\"error_x\": {\"color\": \"#2a3f5f\"}, \"error_y\": {\"color\": \"#2a3f5f\"}, \"marker\": {\"line\": {\"color\": \"#E5ECF6\", \"width\": 0.5}}, \"type\": \"bar\"}], \"barpolar\": [{\"marker\": {\"line\": {\"color\": \"#E5ECF6\", \"width\": 0.5}}, \"type\": \"barpolar\"}], \"carpet\": [{\"aaxis\": {\"endlinecolor\": \"#2a3f5f\", \"gridcolor\": \"white\", \"linecolor\": \"white\", \"minorgridcolor\": \"white\", \"startlinecolor\": \"#2a3f5f\"}, \"baxis\": {\"endlinecolor\": \"#2a3f5f\", \"gridcolor\": \"white\", \"linecolor\": \"white\", \"minorgridcolor\": \"white\", \"startlinecolor\": \"#2a3f5f\"}, \"type\": \"carpet\"}], \"choropleth\": [{\"colorbar\": {\"outlinewidth\": 0, \"ticks\": \"\"}, \"type\": \"choropleth\"}], \"contour\": [{\"colorbar\": {\"outlinewidth\": 0, \"ticks\": \"\"}, \"colorscale\": [[0.0, \"#0d0887\"], [0.1111111111111111, \"#46039f\"], [0.2222222222222222, \"#7201a8\"], [0.3333333333333333, \"#9c179e\"], [0.4444444444444444, \"#bd3786\"], [0.5555555555555556, \"#d8576b\"], [0.6666666666666666, \"#ed7953\"], [0.7777777777777778, \"#fb9f3a\"], [0.8888888888888888, \"#fdca26\"], [1.0, \"#f0f921\"]], \"type\": \"contour\"}], \"contourcarpet\": [{\"colorbar\": {\"outlinewidth\": 0, \"ticks\": \"\"}, \"type\": \"contourcarpet\"}], \"heatmap\": [{\"colorbar\": {\"outlinewidth\": 0, \"ticks\": \"\"}, \"colorscale\": [[0.0, \"#0d0887\"], [0.1111111111111111, \"#46039f\"], [0.2222222222222222, \"#7201a8\"], [0.3333333333333333, \"#9c179e\"], [0.4444444444444444, \"#bd3786\"], [0.5555555555555556, \"#d8576b\"], [0.6666666666666666, \"#ed7953\"], [0.7777777777777778, \"#fb9f3a\"], [0.8888888888888888, \"#fdca26\"], [1.0, \"#f0f921\"]], \"type\": \"heatmap\"}], \"heatmapgl\": [{\"colorbar\": {\"outlinewidth\": 0, \"ticks\": \"\"}, \"colorscale\": [[0.0, \"#0d0887\"], [0.1111111111111111, \"#46039f\"], [0.2222222222222222, \"#7201a8\"], [0.3333333333333333, \"#9c179e\"], [0.4444444444444444, \"#bd3786\"], [0.5555555555555556, \"#d8576b\"], [0.6666666666666666, \"#ed7953\"], [0.7777777777777778, \"#fb9f3a\"], [0.8888888888888888, \"#fdca26\"], [1.0, \"#f0f921\"]], \"type\": \"heatmapgl\"}], \"histogram\": [{\"marker\": {\"colorbar\": {\"outlinewidth\": 0, \"ticks\": \"\"}}, \"type\": \"histogram\"}], \"histogram2d\": [{\"colorbar\": {\"outlinewidth\": 0, \"ticks\": \"\"}, \"colorscale\": [[0.0, \"#0d0887\"], [0.1111111111111111, \"#46039f\"], [0.2222222222222222, \"#7201a8\"], [0.3333333333333333, \"#9c179e\"], [0.4444444444444444, \"#bd3786\"], [0.5555555555555556, \"#d8576b\"], [0.6666666666666666, \"#ed7953\"], [0.7777777777777778, \"#fb9f3a\"], [0.8888888888888888, \"#fdca26\"], [1.0, \"#f0f921\"]], \"type\": \"histogram2d\"}], \"histogram2dcontour\": [{\"colorbar\": {\"outlinewidth\": 0, \"ticks\": \"\"}, \"colorscale\": [[0.0, \"#0d0887\"], [0.1111111111111111, \"#46039f\"], [0.2222222222222222, \"#7201a8\"], [0.3333333333333333, \"#9c179e\"], [0.4444444444444444, \"#bd3786\"], [0.5555555555555556, \"#d8576b\"], [0.6666666666666666, \"#ed7953\"], [0.7777777777777778, \"#fb9f3a\"], [0.8888888888888888, \"#fdca26\"], [1.0, \"#f0f921\"]], \"type\": \"histogram2dcontour\"}], \"mesh3d\": [{\"colorbar\": {\"outlinewidth\": 0, \"ticks\": \"\"}, \"type\": \"mesh3d\"}], \"parcoords\": [{\"line\": {\"colorbar\": {\"outlinewidth\": 0, \"ticks\": \"\"}}, \"type\": \"parcoords\"}], \"pie\": [{\"automargin\": true, \"type\": \"pie\"}], \"scatter\": [{\"marker\": {\"colorbar\": {\"outlinewidth\": 0, \"ticks\": \"\"}}, \"type\": \"scatter\"}], \"scatter3d\": [{\"line\": {\"colorbar\": {\"outlinewidth\": 0, \"ticks\": \"\"}}, \"marker\": {\"colorbar\": {\"outlinewidth\": 0, \"ticks\": \"\"}}, \"type\": \"scatter3d\"}], \"scattercarpet\": [{\"marker\": {\"colorbar\": {\"outlinewidth\": 0, \"ticks\": \"\"}}, \"type\": \"scattercarpet\"}], \"scattergeo\": [{\"marker\": {\"colorbar\": {\"outlinewidth\": 0, \"ticks\": \"\"}}, \"type\": \"scattergeo\"}], \"scattergl\": [{\"marker\": {\"colorbar\": {\"outlinewidth\": 0, \"ticks\": \"\"}}, \"type\": \"scattergl\"}], \"scattermapbox\": [{\"marker\": {\"colorbar\": {\"outlinewidth\": 0, \"ticks\": \"\"}}, \"type\": \"scattermapbox\"}], \"scatterpolar\": [{\"marker\": {\"colorbar\": {\"outlinewidth\": 0, \"ticks\": \"\"}}, \"type\": \"scatterpolar\"}], \"scatterpolargl\": [{\"marker\": {\"colorbar\": {\"outlinewidth\": 0, \"ticks\": \"\"}}, \"type\": \"scatterpolargl\"}], \"scatterternary\": [{\"marker\": {\"colorbar\": {\"outlinewidth\": 0, \"ticks\": \"\"}}, \"type\": \"scatterternary\"}], \"surface\": [{\"colorbar\": {\"outlinewidth\": 0, \"ticks\": \"\"}, \"colorscale\": [[0.0, \"#0d0887\"], [0.1111111111111111, \"#46039f\"], [0.2222222222222222, \"#7201a8\"], [0.3333333333333333, \"#9c179e\"], [0.4444444444444444, \"#bd3786\"], [0.5555555555555556, \"#d8576b\"], [0.6666666666666666, \"#ed7953\"], [0.7777777777777778, \"#fb9f3a\"], [0.8888888888888888, \"#fdca26\"], [1.0, \"#f0f921\"]], \"type\": \"surface\"}], \"table\": [{\"cells\": {\"fill\": {\"color\": \"#EBF0F8\"}, \"line\": {\"color\": \"white\"}}, \"header\": {\"fill\": {\"color\": \"#C8D4E3\"}, \"line\": {\"color\": \"white\"}}, \"type\": \"table\"}]}, \"layout\": {\"annotationdefaults\": {\"arrowcolor\": \"#2a3f5f\", \"arrowhead\": 0, \"arrowwidth\": 1}, \"coloraxis\": {\"colorbar\": {\"outlinewidth\": 0, \"ticks\": \"\"}}, \"colorscale\": {\"diverging\": [[0, \"#8e0152\"], [0.1, \"#c51b7d\"], [0.2, \"#de77ae\"], [0.3, \"#f1b6da\"], [0.4, \"#fde0ef\"], [0.5, \"#f7f7f7\"], [0.6, \"#e6f5d0\"], [0.7, \"#b8e186\"], [0.8, \"#7fbc41\"], [0.9, \"#4d9221\"], [1, \"#276419\"]], \"sequential\": [[0.0, \"#0d0887\"], [0.1111111111111111, \"#46039f\"], [0.2222222222222222, \"#7201a8\"], [0.3333333333333333, \"#9c179e\"], [0.4444444444444444, \"#bd3786\"], [0.5555555555555556, \"#d8576b\"], [0.6666666666666666, \"#ed7953\"], [0.7777777777777778, \"#fb9f3a\"], [0.8888888888888888, \"#fdca26\"], [1.0, \"#f0f921\"]], \"sequentialminus\": [[0.0, \"#0d0887\"], [0.1111111111111111, \"#46039f\"], [0.2222222222222222, \"#7201a8\"], [0.3333333333333333, \"#9c179e\"], [0.4444444444444444, \"#bd3786\"], [0.5555555555555556, \"#d8576b\"], [0.6666666666666666, \"#ed7953\"], [0.7777777777777778, \"#fb9f3a\"], [0.8888888888888888, \"#fdca26\"], [1.0, \"#f0f921\"]]}, \"colorway\": [\"#636efa\", \"#EF553B\", \"#00cc96\", \"#ab63fa\", \"#FFA15A\", \"#19d3f3\", \"#FF6692\", \"#B6E880\", \"#FF97FF\", \"#FECB52\"], \"font\": {\"color\": \"#2a3f5f\"}, \"geo\": {\"bgcolor\": \"white\", \"lakecolor\": \"white\", \"landcolor\": \"#E5ECF6\", \"showlakes\": true, \"showland\": true, \"subunitcolor\": \"white\"}, \"hoverlabel\": {\"align\": \"left\"}, \"hovermode\": \"closest\", \"mapbox\": {\"style\": \"light\"}, \"paper_bgcolor\": \"white\", \"plot_bgcolor\": \"#E5ECF6\", \"polar\": {\"angularaxis\": {\"gridcolor\": \"white\", \"linecolor\": \"white\", \"ticks\": \"\"}, \"bgcolor\": \"#E5ECF6\", \"radialaxis\": {\"gridcolor\": \"white\", \"linecolor\": \"white\", \"ticks\": \"\"}}, \"scene\": {\"xaxis\": {\"backgroundcolor\": \"#E5ECF6\", \"gridcolor\": \"white\", \"gridwidth\": 2, \"linecolor\": \"white\", \"showbackground\": true, \"ticks\": \"\", \"zerolinecolor\": \"white\"}, \"yaxis\": {\"backgroundcolor\": \"#E5ECF6\", \"gridcolor\": \"white\", \"gridwidth\": 2, \"linecolor\": \"white\", \"showbackground\": true, \"ticks\": \"\", \"zerolinecolor\": \"white\"}, \"zaxis\": {\"backgroundcolor\": \"#E5ECF6\", \"gridcolor\": \"white\", \"gridwidth\": 2, \"linecolor\": \"white\", \"showbackground\": true, \"ticks\": \"\", \"zerolinecolor\": \"white\"}}, \"shapedefaults\": {\"line\": {\"color\": \"#2a3f5f\"}}, \"ternary\": {\"aaxis\": {\"gridcolor\": \"white\", \"linecolor\": \"white\", \"ticks\": \"\"}, \"baxis\": {\"gridcolor\": \"white\", \"linecolor\": \"white\", \"ticks\": \"\"}, \"bgcolor\": \"#E5ECF6\", \"caxis\": {\"gridcolor\": \"white\", \"linecolor\": \"white\", \"ticks\": \"\"}}, \"title\": {\"x\": 0.05}, \"xaxis\": {\"automargin\": true, \"gridcolor\": \"white\", \"linecolor\": \"white\", \"ticks\": \"\", \"title\": {\"standoff\": 15}, \"zerolinecolor\": \"white\", \"zerolinewidth\": 2}, \"yaxis\": {\"automargin\": true, \"gridcolor\": \"white\", \"linecolor\": \"white\", \"ticks\": \"\", \"title\": {\"standoff\": 15}, \"zerolinecolor\": \"white\", \"zerolinewidth\": 2}}}, \"title\": {\"text\": \"2022 US Average Snowfall\", \"x\": 0.5}, \"xaxis\": {\"anchor\": \"y\", \"domain\": [0.0, 1.0], \"title\": {\"text\": \"Month\"}}, \"yaxis\": {\"anchor\": \"x\", \"domain\": [0.0, 1.0], \"title\": {\"text\": \"Snow (in)\"}}},                        {\"responsive\": true}                    ).then(function(){\n",
       "                            \n",
       "var gd = document.getElementById('5a96ee28-9170-4768-a052-298f478347cf');\n",
       "var x = new MutationObserver(function (mutations, observer) {{\n",
       "        var display = window.getComputedStyle(gd).display;\n",
       "        if (!display || display === 'none') {{\n",
       "            console.log([gd, 'removed!']);\n",
       "            Plotly.purge(gd);\n",
       "            observer.disconnect();\n",
       "        }}\n",
       "}});\n",
       "\n",
       "// Listen for the removal of the full notebook cells\n",
       "var notebookContainer = gd.closest('#notebook-container');\n",
       "if (notebookContainer) {{\n",
       "    x.observe(notebookContainer, {childList: true});\n",
       "}}\n",
       "\n",
       "// Listen for the clearing of the current output cell\n",
       "var outputEl = gd.closest('.output');\n",
       "if (outputEl) {{\n",
       "    x.observe(outputEl, {childList: true});\n",
       "}}\n",
       "\n",
       "                        })                };                });            </script>        </div>"
      ]
     },
     "metadata": {},
     "output_type": "display_data"
    }
   ],
   "source": [
    "#using plotly to plot the top featurescolor=\n",
    "fig = px.bar(monthly_snowfall, x=\"month\", y=\"mean_snowfall\")\n",
    "fig.update_layout(title_text='2022 US Average Snowfall',\n",
    "                  title_x=0.5,\n",
    "                  xaxis_title=\"Month\",\n",
    "                  yaxis_title=\"Snow (in)\",\n",
    "                 plot_bgcolor='white',\n",
    "                 font=dict(size=14))\n",
    "fig.update_traces(marker_color = \"#00b5ff\",textposition='outside')\n",
    "\n",
    "fig.show()"
   ]
  },
  {
   "cell_type": "markdown",
   "metadata": {},
   "source": [
    "### Airbnb Prices"
   ]
  },
  {
   "cell_type": "code",
   "execution_count": 288,
   "metadata": {},
   "outputs": [
    {
     "data": {
      "application/vnd.plotly.v1+json": {
       "config": {
        "plotlyServerURL": "https://plot.ly"
       },
       "data": [
        {
         "alignmentgroup": "True",
         "hovertemplate": "variable=2 Guest Max<br>ski_resort=%{x}<br>value=%{y}<extra></extra>",
         "legendgroup": "2 Guest Max",
         "marker": {
          "color": "#636efa"
         },
         "name": "2 Guest Max",
         "offsetgroup": "dec_min_2_guests",
         "orientation": "v",
         "showlegend": true,
         "textposition": "outside",
         "type": "bar",
         "x": [
          "Palisades Tahoe",
          "Mammoth Mountain",
          "Donner Ski Ranch",
          "Sugar Bowl",
          "Kirkwood"
         ],
         "xaxis": "x",
         "y": [
          128,
          112,
          139,
          139,
          65
         ],
         "yaxis": "y"
        },
        {
         "alignmentgroup": "True",
         "hovertemplate": "variable=4 Guest Max<br>ski_resort=%{x}<br>value=%{y}<extra></extra>",
         "legendgroup": "4 Guest Max",
         "marker": {
          "color": "#EF553B"
         },
         "name": "4 Guest Max",
         "offsetgroup": "dec_min_4_guests",
         "orientation": "v",
         "showlegend": true,
         "textposition": "outside",
         "type": "bar",
         "x": [
          "Palisades Tahoe",
          "Mammoth Mountain",
          "Donner Ski Ranch",
          "Sugar Bowl",
          "Kirkwood"
         ],
         "xaxis": "x",
         "y": [
          175,
          112,
          144,
          144,
          159
         ],
         "yaxis": "y"
        }
       ],
       "layout": {
        "barmode": "group",
        "font": {
         "size": 14
        },
        "height": 500,
        "legend": {
         "title": {
          "text": "variable"
         },
         "tracegroupgap": 0
        },
        "margin": {
         "t": 60
        },
        "plot_bgcolor": "white",
        "template": {
         "data": {
          "bar": [
           {
            "error_x": {
             "color": "#2a3f5f"
            },
            "error_y": {
             "color": "#2a3f5f"
            },
            "marker": {
             "line": {
              "color": "#E5ECF6",
              "width": 0.5
             }
            },
            "type": "bar"
           }
          ],
          "barpolar": [
           {
            "marker": {
             "line": {
              "color": "#E5ECF6",
              "width": 0.5
             }
            },
            "type": "barpolar"
           }
          ],
          "carpet": [
           {
            "aaxis": {
             "endlinecolor": "#2a3f5f",
             "gridcolor": "white",
             "linecolor": "white",
             "minorgridcolor": "white",
             "startlinecolor": "#2a3f5f"
            },
            "baxis": {
             "endlinecolor": "#2a3f5f",
             "gridcolor": "white",
             "linecolor": "white",
             "minorgridcolor": "white",
             "startlinecolor": "#2a3f5f"
            },
            "type": "carpet"
           }
          ],
          "choropleth": [
           {
            "colorbar": {
             "outlinewidth": 0,
             "ticks": ""
            },
            "type": "choropleth"
           }
          ],
          "contour": [
           {
            "colorbar": {
             "outlinewidth": 0,
             "ticks": ""
            },
            "colorscale": [
             [
              0,
              "#0d0887"
             ],
             [
              0.1111111111111111,
              "#46039f"
             ],
             [
              0.2222222222222222,
              "#7201a8"
             ],
             [
              0.3333333333333333,
              "#9c179e"
             ],
             [
              0.4444444444444444,
              "#bd3786"
             ],
             [
              0.5555555555555556,
              "#d8576b"
             ],
             [
              0.6666666666666666,
              "#ed7953"
             ],
             [
              0.7777777777777778,
              "#fb9f3a"
             ],
             [
              0.8888888888888888,
              "#fdca26"
             ],
             [
              1,
              "#f0f921"
             ]
            ],
            "type": "contour"
           }
          ],
          "contourcarpet": [
           {
            "colorbar": {
             "outlinewidth": 0,
             "ticks": ""
            },
            "type": "contourcarpet"
           }
          ],
          "heatmap": [
           {
            "colorbar": {
             "outlinewidth": 0,
             "ticks": ""
            },
            "colorscale": [
             [
              0,
              "#0d0887"
             ],
             [
              0.1111111111111111,
              "#46039f"
             ],
             [
              0.2222222222222222,
              "#7201a8"
             ],
             [
              0.3333333333333333,
              "#9c179e"
             ],
             [
              0.4444444444444444,
              "#bd3786"
             ],
             [
              0.5555555555555556,
              "#d8576b"
             ],
             [
              0.6666666666666666,
              "#ed7953"
             ],
             [
              0.7777777777777778,
              "#fb9f3a"
             ],
             [
              0.8888888888888888,
              "#fdca26"
             ],
             [
              1,
              "#f0f921"
             ]
            ],
            "type": "heatmap"
           }
          ],
          "heatmapgl": [
           {
            "colorbar": {
             "outlinewidth": 0,
             "ticks": ""
            },
            "colorscale": [
             [
              0,
              "#0d0887"
             ],
             [
              0.1111111111111111,
              "#46039f"
             ],
             [
              0.2222222222222222,
              "#7201a8"
             ],
             [
              0.3333333333333333,
              "#9c179e"
             ],
             [
              0.4444444444444444,
              "#bd3786"
             ],
             [
              0.5555555555555556,
              "#d8576b"
             ],
             [
              0.6666666666666666,
              "#ed7953"
             ],
             [
              0.7777777777777778,
              "#fb9f3a"
             ],
             [
              0.8888888888888888,
              "#fdca26"
             ],
             [
              1,
              "#f0f921"
             ]
            ],
            "type": "heatmapgl"
           }
          ],
          "histogram": [
           {
            "marker": {
             "colorbar": {
              "outlinewidth": 0,
              "ticks": ""
             }
            },
            "type": "histogram"
           }
          ],
          "histogram2d": [
           {
            "colorbar": {
             "outlinewidth": 0,
             "ticks": ""
            },
            "colorscale": [
             [
              0,
              "#0d0887"
             ],
             [
              0.1111111111111111,
              "#46039f"
             ],
             [
              0.2222222222222222,
              "#7201a8"
             ],
             [
              0.3333333333333333,
              "#9c179e"
             ],
             [
              0.4444444444444444,
              "#bd3786"
             ],
             [
              0.5555555555555556,
              "#d8576b"
             ],
             [
              0.6666666666666666,
              "#ed7953"
             ],
             [
              0.7777777777777778,
              "#fb9f3a"
             ],
             [
              0.8888888888888888,
              "#fdca26"
             ],
             [
              1,
              "#f0f921"
             ]
            ],
            "type": "histogram2d"
           }
          ],
          "histogram2dcontour": [
           {
            "colorbar": {
             "outlinewidth": 0,
             "ticks": ""
            },
            "colorscale": [
             [
              0,
              "#0d0887"
             ],
             [
              0.1111111111111111,
              "#46039f"
             ],
             [
              0.2222222222222222,
              "#7201a8"
             ],
             [
              0.3333333333333333,
              "#9c179e"
             ],
             [
              0.4444444444444444,
              "#bd3786"
             ],
             [
              0.5555555555555556,
              "#d8576b"
             ],
             [
              0.6666666666666666,
              "#ed7953"
             ],
             [
              0.7777777777777778,
              "#fb9f3a"
             ],
             [
              0.8888888888888888,
              "#fdca26"
             ],
             [
              1,
              "#f0f921"
             ]
            ],
            "type": "histogram2dcontour"
           }
          ],
          "mesh3d": [
           {
            "colorbar": {
             "outlinewidth": 0,
             "ticks": ""
            },
            "type": "mesh3d"
           }
          ],
          "parcoords": [
           {
            "line": {
             "colorbar": {
              "outlinewidth": 0,
              "ticks": ""
             }
            },
            "type": "parcoords"
           }
          ],
          "pie": [
           {
            "automargin": true,
            "type": "pie"
           }
          ],
          "scatter": [
           {
            "marker": {
             "colorbar": {
              "outlinewidth": 0,
              "ticks": ""
             }
            },
            "type": "scatter"
           }
          ],
          "scatter3d": [
           {
            "line": {
             "colorbar": {
              "outlinewidth": 0,
              "ticks": ""
             }
            },
            "marker": {
             "colorbar": {
              "outlinewidth": 0,
              "ticks": ""
             }
            },
            "type": "scatter3d"
           }
          ],
          "scattercarpet": [
           {
            "marker": {
             "colorbar": {
              "outlinewidth": 0,
              "ticks": ""
             }
            },
            "type": "scattercarpet"
           }
          ],
          "scattergeo": [
           {
            "marker": {
             "colorbar": {
              "outlinewidth": 0,
              "ticks": ""
             }
            },
            "type": "scattergeo"
           }
          ],
          "scattergl": [
           {
            "marker": {
             "colorbar": {
              "outlinewidth": 0,
              "ticks": ""
             }
            },
            "type": "scattergl"
           }
          ],
          "scattermapbox": [
           {
            "marker": {
             "colorbar": {
              "outlinewidth": 0,
              "ticks": ""
             }
            },
            "type": "scattermapbox"
           }
          ],
          "scatterpolar": [
           {
            "marker": {
             "colorbar": {
              "outlinewidth": 0,
              "ticks": ""
             }
            },
            "type": "scatterpolar"
           }
          ],
          "scatterpolargl": [
           {
            "marker": {
             "colorbar": {
              "outlinewidth": 0,
              "ticks": ""
             }
            },
            "type": "scatterpolargl"
           }
          ],
          "scatterternary": [
           {
            "marker": {
             "colorbar": {
              "outlinewidth": 0,
              "ticks": ""
             }
            },
            "type": "scatterternary"
           }
          ],
          "surface": [
           {
            "colorbar": {
             "outlinewidth": 0,
             "ticks": ""
            },
            "colorscale": [
             [
              0,
              "#0d0887"
             ],
             [
              0.1111111111111111,
              "#46039f"
             ],
             [
              0.2222222222222222,
              "#7201a8"
             ],
             [
              0.3333333333333333,
              "#9c179e"
             ],
             [
              0.4444444444444444,
              "#bd3786"
             ],
             [
              0.5555555555555556,
              "#d8576b"
             ],
             [
              0.6666666666666666,
              "#ed7953"
             ],
             [
              0.7777777777777778,
              "#fb9f3a"
             ],
             [
              0.8888888888888888,
              "#fdca26"
             ],
             [
              1,
              "#f0f921"
             ]
            ],
            "type": "surface"
           }
          ],
          "table": [
           {
            "cells": {
             "fill": {
              "color": "#EBF0F8"
             },
             "line": {
              "color": "white"
             }
            },
            "header": {
             "fill": {
              "color": "#C8D4E3"
             },
             "line": {
              "color": "white"
             }
            },
            "type": "table"
           }
          ]
         },
         "layout": {
          "annotationdefaults": {
           "arrowcolor": "#2a3f5f",
           "arrowhead": 0,
           "arrowwidth": 1
          },
          "coloraxis": {
           "colorbar": {
            "outlinewidth": 0,
            "ticks": ""
           }
          },
          "colorscale": {
           "diverging": [
            [
             0,
             "#8e0152"
            ],
            [
             0.1,
             "#c51b7d"
            ],
            [
             0.2,
             "#de77ae"
            ],
            [
             0.3,
             "#f1b6da"
            ],
            [
             0.4,
             "#fde0ef"
            ],
            [
             0.5,
             "#f7f7f7"
            ],
            [
             0.6,
             "#e6f5d0"
            ],
            [
             0.7,
             "#b8e186"
            ],
            [
             0.8,
             "#7fbc41"
            ],
            [
             0.9,
             "#4d9221"
            ],
            [
             1,
             "#276419"
            ]
           ],
           "sequential": [
            [
             0,
             "#0d0887"
            ],
            [
             0.1111111111111111,
             "#46039f"
            ],
            [
             0.2222222222222222,
             "#7201a8"
            ],
            [
             0.3333333333333333,
             "#9c179e"
            ],
            [
             0.4444444444444444,
             "#bd3786"
            ],
            [
             0.5555555555555556,
             "#d8576b"
            ],
            [
             0.6666666666666666,
             "#ed7953"
            ],
            [
             0.7777777777777778,
             "#fb9f3a"
            ],
            [
             0.8888888888888888,
             "#fdca26"
            ],
            [
             1,
             "#f0f921"
            ]
           ],
           "sequentialminus": [
            [
             0,
             "#0d0887"
            ],
            [
             0.1111111111111111,
             "#46039f"
            ],
            [
             0.2222222222222222,
             "#7201a8"
            ],
            [
             0.3333333333333333,
             "#9c179e"
            ],
            [
             0.4444444444444444,
             "#bd3786"
            ],
            [
             0.5555555555555556,
             "#d8576b"
            ],
            [
             0.6666666666666666,
             "#ed7953"
            ],
            [
             0.7777777777777778,
             "#fb9f3a"
            ],
            [
             0.8888888888888888,
             "#fdca26"
            ],
            [
             1,
             "#f0f921"
            ]
           ]
          },
          "colorway": [
           "#636efa",
           "#EF553B",
           "#00cc96",
           "#ab63fa",
           "#FFA15A",
           "#19d3f3",
           "#FF6692",
           "#B6E880",
           "#FF97FF",
           "#FECB52"
          ],
          "font": {
           "color": "#2a3f5f"
          },
          "geo": {
           "bgcolor": "white",
           "lakecolor": "white",
           "landcolor": "#E5ECF6",
           "showlakes": true,
           "showland": true,
           "subunitcolor": "white"
          },
          "hoverlabel": {
           "align": "left"
          },
          "hovermode": "closest",
          "mapbox": {
           "style": "light"
          },
          "paper_bgcolor": "white",
          "plot_bgcolor": "#E5ECF6",
          "polar": {
           "angularaxis": {
            "gridcolor": "white",
            "linecolor": "white",
            "ticks": ""
           },
           "bgcolor": "#E5ECF6",
           "radialaxis": {
            "gridcolor": "white",
            "linecolor": "white",
            "ticks": ""
           }
          },
          "scene": {
           "xaxis": {
            "backgroundcolor": "#E5ECF6",
            "gridcolor": "white",
            "gridwidth": 2,
            "linecolor": "white",
            "showbackground": true,
            "ticks": "",
            "zerolinecolor": "white"
           },
           "yaxis": {
            "backgroundcolor": "#E5ECF6",
            "gridcolor": "white",
            "gridwidth": 2,
            "linecolor": "white",
            "showbackground": true,
            "ticks": "",
            "zerolinecolor": "white"
           },
           "zaxis": {
            "backgroundcolor": "#E5ECF6",
            "gridcolor": "white",
            "gridwidth": 2,
            "linecolor": "white",
            "showbackground": true,
            "ticks": "",
            "zerolinecolor": "white"
           }
          },
          "shapedefaults": {
           "line": {
            "color": "#2a3f5f"
           }
          },
          "ternary": {
           "aaxis": {
            "gridcolor": "white",
            "linecolor": "white",
            "ticks": ""
           },
           "baxis": {
            "gridcolor": "white",
            "linecolor": "white",
            "ticks": ""
           },
           "bgcolor": "#E5ECF6",
           "caxis": {
            "gridcolor": "white",
            "linecolor": "white",
            "ticks": ""
           }
          },
          "title": {
           "x": 0.05
          },
          "xaxis": {
           "automargin": true,
           "gridcolor": "white",
           "linecolor": "white",
           "ticks": "",
           "title": {
            "standoff": 15
           },
           "zerolinecolor": "white",
           "zerolinewidth": 2
          },
          "yaxis": {
           "automargin": true,
           "gridcolor": "white",
           "linecolor": "white",
           "ticks": "",
           "title": {
            "standoff": 15
           },
           "zerolinecolor": "white",
           "zerolinewidth": 2
          }
         }
        },
        "title": {
         "text": "December Airbnb Costs",
         "x": 0.5
        },
        "width": 1000,
        "xaxis": {
         "anchor": "y",
         "domain": [
          0,
          1
         ],
         "title": {
          "text": "Ski Resort"
         }
        },
        "yaxis": {
         "anchor": "x",
         "domain": [
          0,
          1
         ],
         "title": {
          "text": "Nightly Price ($)"
         }
        }
       }
      },
      "text/html": [
       "<div>                            <div id=\"81217e47-33c6-432c-b1fa-1574898178fa\" class=\"plotly-graph-div\" style=\"height:500px; width:1000px;\"></div>            <script type=\"text/javascript\">                require([\"plotly\"], function(Plotly) {                    window.PLOTLYENV=window.PLOTLYENV || {};                                    if (document.getElementById(\"81217e47-33c6-432c-b1fa-1574898178fa\")) {                    Plotly.newPlot(                        \"81217e47-33c6-432c-b1fa-1574898178fa\",                        [{\"alignmentgroup\": \"True\", \"hovertemplate\": \"variable=2 Guest Max<br>ski_resort=%{x}<br>value=%{y}<extra></extra>\", \"legendgroup\": \"2 Guest Max\", \"marker\": {\"color\": \"#636efa\"}, \"name\": \"2 Guest Max\", \"offsetgroup\": \"dec_min_2_guests\", \"orientation\": \"v\", \"showlegend\": true, \"textposition\": \"outside\", \"type\": \"bar\", \"x\": [\"Palisades Tahoe\", \"Mammoth Mountain\", \"Donner Ski Ranch\", \"Sugar Bowl\", \"Kirkwood\"], \"xaxis\": \"x\", \"y\": [128.0, 112.0, 139.0, 139.0, 65.0], \"yaxis\": \"y\"}, {\"alignmentgroup\": \"True\", \"hovertemplate\": \"variable=4 Guest Max<br>ski_resort=%{x}<br>value=%{y}<extra></extra>\", \"legendgroup\": \"4 Guest Max\", \"marker\": {\"color\": \"#EF553B\"}, \"name\": \"4 Guest Max\", \"offsetgroup\": \"dec_min_4_guests\", \"orientation\": \"v\", \"showlegend\": true, \"textposition\": \"outside\", \"type\": \"bar\", \"x\": [\"Palisades Tahoe\", \"Mammoth Mountain\", \"Donner Ski Ranch\", \"Sugar Bowl\", \"Kirkwood\"], \"xaxis\": \"x\", \"y\": [175.0, 112.0, 144.0, 144.0, 159.0], \"yaxis\": \"y\"}],                        {\"barmode\": \"group\", \"font\": {\"size\": 14}, \"height\": 500, \"legend\": {\"title\": {\"text\": \"variable\"}, \"tracegroupgap\": 0}, \"margin\": {\"t\": 60}, \"plot_bgcolor\": \"white\", \"template\": {\"data\": {\"bar\": [{\"error_x\": {\"color\": \"#2a3f5f\"}, \"error_y\": {\"color\": \"#2a3f5f\"}, \"marker\": {\"line\": {\"color\": \"#E5ECF6\", \"width\": 0.5}}, \"type\": \"bar\"}], \"barpolar\": [{\"marker\": {\"line\": {\"color\": \"#E5ECF6\", \"width\": 0.5}}, \"type\": \"barpolar\"}], \"carpet\": [{\"aaxis\": {\"endlinecolor\": \"#2a3f5f\", \"gridcolor\": \"white\", \"linecolor\": \"white\", \"minorgridcolor\": \"white\", \"startlinecolor\": \"#2a3f5f\"}, \"baxis\": {\"endlinecolor\": \"#2a3f5f\", \"gridcolor\": \"white\", \"linecolor\": \"white\", \"minorgridcolor\": \"white\", \"startlinecolor\": \"#2a3f5f\"}, \"type\": \"carpet\"}], \"choropleth\": [{\"colorbar\": {\"outlinewidth\": 0, \"ticks\": \"\"}, \"type\": \"choropleth\"}], \"contour\": [{\"colorbar\": {\"outlinewidth\": 0, \"ticks\": \"\"}, \"colorscale\": [[0.0, \"#0d0887\"], [0.1111111111111111, \"#46039f\"], [0.2222222222222222, \"#7201a8\"], [0.3333333333333333, \"#9c179e\"], [0.4444444444444444, \"#bd3786\"], [0.5555555555555556, \"#d8576b\"], [0.6666666666666666, \"#ed7953\"], [0.7777777777777778, \"#fb9f3a\"], [0.8888888888888888, \"#fdca26\"], [1.0, \"#f0f921\"]], \"type\": \"contour\"}], \"contourcarpet\": [{\"colorbar\": {\"outlinewidth\": 0, \"ticks\": \"\"}, \"type\": \"contourcarpet\"}], \"heatmap\": [{\"colorbar\": {\"outlinewidth\": 0, \"ticks\": \"\"}, \"colorscale\": [[0.0, \"#0d0887\"], [0.1111111111111111, \"#46039f\"], [0.2222222222222222, \"#7201a8\"], [0.3333333333333333, \"#9c179e\"], [0.4444444444444444, \"#bd3786\"], [0.5555555555555556, \"#d8576b\"], [0.6666666666666666, \"#ed7953\"], [0.7777777777777778, \"#fb9f3a\"], [0.8888888888888888, \"#fdca26\"], [1.0, \"#f0f921\"]], \"type\": \"heatmap\"}], \"heatmapgl\": [{\"colorbar\": {\"outlinewidth\": 0, \"ticks\": \"\"}, \"colorscale\": [[0.0, \"#0d0887\"], [0.1111111111111111, \"#46039f\"], [0.2222222222222222, \"#7201a8\"], [0.3333333333333333, \"#9c179e\"], [0.4444444444444444, \"#bd3786\"], [0.5555555555555556, \"#d8576b\"], [0.6666666666666666, \"#ed7953\"], [0.7777777777777778, \"#fb9f3a\"], [0.8888888888888888, \"#fdca26\"], [1.0, \"#f0f921\"]], \"type\": \"heatmapgl\"}], \"histogram\": [{\"marker\": {\"colorbar\": {\"outlinewidth\": 0, \"ticks\": \"\"}}, \"type\": \"histogram\"}], \"histogram2d\": [{\"colorbar\": {\"outlinewidth\": 0, \"ticks\": \"\"}, \"colorscale\": [[0.0, \"#0d0887\"], [0.1111111111111111, \"#46039f\"], [0.2222222222222222, \"#7201a8\"], [0.3333333333333333, \"#9c179e\"], [0.4444444444444444, \"#bd3786\"], [0.5555555555555556, \"#d8576b\"], [0.6666666666666666, \"#ed7953\"], [0.7777777777777778, \"#fb9f3a\"], [0.8888888888888888, \"#fdca26\"], [1.0, \"#f0f921\"]], \"type\": \"histogram2d\"}], \"histogram2dcontour\": [{\"colorbar\": {\"outlinewidth\": 0, \"ticks\": \"\"}, \"colorscale\": [[0.0, \"#0d0887\"], [0.1111111111111111, \"#46039f\"], [0.2222222222222222, \"#7201a8\"], [0.3333333333333333, \"#9c179e\"], [0.4444444444444444, \"#bd3786\"], [0.5555555555555556, \"#d8576b\"], [0.6666666666666666, \"#ed7953\"], [0.7777777777777778, \"#fb9f3a\"], [0.8888888888888888, \"#fdca26\"], [1.0, \"#f0f921\"]], \"type\": \"histogram2dcontour\"}], \"mesh3d\": [{\"colorbar\": {\"outlinewidth\": 0, \"ticks\": \"\"}, \"type\": \"mesh3d\"}], \"parcoords\": [{\"line\": {\"colorbar\": {\"outlinewidth\": 0, \"ticks\": \"\"}}, \"type\": \"parcoords\"}], \"pie\": [{\"automargin\": true, \"type\": \"pie\"}], \"scatter\": [{\"marker\": {\"colorbar\": {\"outlinewidth\": 0, \"ticks\": \"\"}}, \"type\": \"scatter\"}], \"scatter3d\": [{\"line\": {\"colorbar\": {\"outlinewidth\": 0, \"ticks\": \"\"}}, \"marker\": {\"colorbar\": {\"outlinewidth\": 0, \"ticks\": \"\"}}, \"type\": \"scatter3d\"}], \"scattercarpet\": [{\"marker\": {\"colorbar\": {\"outlinewidth\": 0, \"ticks\": \"\"}}, \"type\": \"scattercarpet\"}], \"scattergeo\": [{\"marker\": {\"colorbar\": {\"outlinewidth\": 0, \"ticks\": \"\"}}, \"type\": \"scattergeo\"}], \"scattergl\": [{\"marker\": {\"colorbar\": {\"outlinewidth\": 0, \"ticks\": \"\"}}, \"type\": \"scattergl\"}], \"scattermapbox\": [{\"marker\": {\"colorbar\": {\"outlinewidth\": 0, \"ticks\": \"\"}}, \"type\": \"scattermapbox\"}], \"scatterpolar\": [{\"marker\": {\"colorbar\": {\"outlinewidth\": 0, \"ticks\": \"\"}}, \"type\": \"scatterpolar\"}], \"scatterpolargl\": [{\"marker\": {\"colorbar\": {\"outlinewidth\": 0, \"ticks\": \"\"}}, \"type\": \"scatterpolargl\"}], \"scatterternary\": [{\"marker\": {\"colorbar\": {\"outlinewidth\": 0, \"ticks\": \"\"}}, \"type\": \"scatterternary\"}], \"surface\": [{\"colorbar\": {\"outlinewidth\": 0, \"ticks\": \"\"}, \"colorscale\": [[0.0, \"#0d0887\"], [0.1111111111111111, \"#46039f\"], [0.2222222222222222, \"#7201a8\"], [0.3333333333333333, \"#9c179e\"], [0.4444444444444444, \"#bd3786\"], [0.5555555555555556, \"#d8576b\"], [0.6666666666666666, \"#ed7953\"], [0.7777777777777778, \"#fb9f3a\"], [0.8888888888888888, \"#fdca26\"], [1.0, \"#f0f921\"]], \"type\": \"surface\"}], \"table\": [{\"cells\": {\"fill\": {\"color\": \"#EBF0F8\"}, \"line\": {\"color\": \"white\"}}, \"header\": {\"fill\": {\"color\": \"#C8D4E3\"}, \"line\": {\"color\": \"white\"}}, \"type\": \"table\"}]}, \"layout\": {\"annotationdefaults\": {\"arrowcolor\": \"#2a3f5f\", \"arrowhead\": 0, \"arrowwidth\": 1}, \"coloraxis\": {\"colorbar\": {\"outlinewidth\": 0, \"ticks\": \"\"}}, \"colorscale\": {\"diverging\": [[0, \"#8e0152\"], [0.1, \"#c51b7d\"], [0.2, \"#de77ae\"], [0.3, \"#f1b6da\"], [0.4, \"#fde0ef\"], [0.5, \"#f7f7f7\"], [0.6, \"#e6f5d0\"], [0.7, \"#b8e186\"], [0.8, \"#7fbc41\"], [0.9, \"#4d9221\"], [1, \"#276419\"]], \"sequential\": [[0.0, \"#0d0887\"], [0.1111111111111111, \"#46039f\"], [0.2222222222222222, \"#7201a8\"], [0.3333333333333333, \"#9c179e\"], [0.4444444444444444, \"#bd3786\"], [0.5555555555555556, \"#d8576b\"], [0.6666666666666666, \"#ed7953\"], [0.7777777777777778, \"#fb9f3a\"], [0.8888888888888888, \"#fdca26\"], [1.0, \"#f0f921\"]], \"sequentialminus\": [[0.0, \"#0d0887\"], [0.1111111111111111, \"#46039f\"], [0.2222222222222222, \"#7201a8\"], [0.3333333333333333, \"#9c179e\"], [0.4444444444444444, \"#bd3786\"], [0.5555555555555556, \"#d8576b\"], [0.6666666666666666, \"#ed7953\"], [0.7777777777777778, \"#fb9f3a\"], [0.8888888888888888, \"#fdca26\"], [1.0, \"#f0f921\"]]}, \"colorway\": [\"#636efa\", \"#EF553B\", \"#00cc96\", \"#ab63fa\", \"#FFA15A\", \"#19d3f3\", \"#FF6692\", \"#B6E880\", \"#FF97FF\", \"#FECB52\"], \"font\": {\"color\": \"#2a3f5f\"}, \"geo\": {\"bgcolor\": \"white\", \"lakecolor\": \"white\", \"landcolor\": \"#E5ECF6\", \"showlakes\": true, \"showland\": true, \"subunitcolor\": \"white\"}, \"hoverlabel\": {\"align\": \"left\"}, \"hovermode\": \"closest\", \"mapbox\": {\"style\": \"light\"}, \"paper_bgcolor\": \"white\", \"plot_bgcolor\": \"#E5ECF6\", \"polar\": {\"angularaxis\": {\"gridcolor\": \"white\", \"linecolor\": \"white\", \"ticks\": \"\"}, \"bgcolor\": \"#E5ECF6\", \"radialaxis\": {\"gridcolor\": \"white\", \"linecolor\": \"white\", \"ticks\": \"\"}}, \"scene\": {\"xaxis\": {\"backgroundcolor\": \"#E5ECF6\", \"gridcolor\": \"white\", \"gridwidth\": 2, \"linecolor\": \"white\", \"showbackground\": true, \"ticks\": \"\", \"zerolinecolor\": \"white\"}, \"yaxis\": {\"backgroundcolor\": \"#E5ECF6\", \"gridcolor\": \"white\", \"gridwidth\": 2, \"linecolor\": \"white\", \"showbackground\": true, \"ticks\": \"\", \"zerolinecolor\": \"white\"}, \"zaxis\": {\"backgroundcolor\": \"#E5ECF6\", \"gridcolor\": \"white\", \"gridwidth\": 2, \"linecolor\": \"white\", \"showbackground\": true, \"ticks\": \"\", \"zerolinecolor\": \"white\"}}, \"shapedefaults\": {\"line\": {\"color\": \"#2a3f5f\"}}, \"ternary\": {\"aaxis\": {\"gridcolor\": \"white\", \"linecolor\": \"white\", \"ticks\": \"\"}, \"baxis\": {\"gridcolor\": \"white\", \"linecolor\": \"white\", \"ticks\": \"\"}, \"bgcolor\": \"#E5ECF6\", \"caxis\": {\"gridcolor\": \"white\", \"linecolor\": \"white\", \"ticks\": \"\"}}, \"title\": {\"x\": 0.05}, \"xaxis\": {\"automargin\": true, \"gridcolor\": \"white\", \"linecolor\": \"white\", \"ticks\": \"\", \"title\": {\"standoff\": 15}, \"zerolinecolor\": \"white\", \"zerolinewidth\": 2}, \"yaxis\": {\"automargin\": true, \"gridcolor\": \"white\", \"linecolor\": \"white\", \"ticks\": \"\", \"title\": {\"standoff\": 15}, \"zerolinecolor\": \"white\", \"zerolinewidth\": 2}}}, \"title\": {\"text\": \"December Airbnb Costs\", \"x\": 0.5}, \"width\": 1000, \"xaxis\": {\"anchor\": \"y\", \"domain\": [0.0, 1.0], \"title\": {\"text\": \"Ski Resort\"}}, \"yaxis\": {\"anchor\": \"x\", \"domain\": [0.0, 1.0], \"title\": {\"text\": \"Nightly Price ($)\"}}},                        {\"responsive\": true}                    ).then(function(){\n",
       "                            \n",
       "var gd = document.getElementById('81217e47-33c6-432c-b1fa-1574898178fa');\n",
       "var x = new MutationObserver(function (mutations, observer) {{\n",
       "        var display = window.getComputedStyle(gd).display;\n",
       "        if (!display || display === 'none') {{\n",
       "            console.log([gd, 'removed!']);\n",
       "            Plotly.purge(gd);\n",
       "            observer.disconnect();\n",
       "        }}\n",
       "}});\n",
       "\n",
       "// Listen for the removal of the full notebook cells\n",
       "var notebookContainer = gd.closest('#notebook-container');\n",
       "if (notebookContainer) {{\n",
       "    x.observe(notebookContainer, {childList: true});\n",
       "}}\n",
       "\n",
       "// Listen for the clearing of the current output cell\n",
       "var outputEl = gd.closest('.output');\n",
       "if (outputEl) {{\n",
       "    x.observe(outputEl, {childList: true});\n",
       "}}\n",
       "\n",
       "                        })                };                });            </script>        </div>"
      ]
     },
     "metadata": {},
     "output_type": "display_data"
    }
   ],
   "source": [
    "#using plotly to plot the top featurescolor=\n",
    "fig = px.bar(content_df.head(), x=\"ski_resort\", y=[\"dec_min_2_guests\", \"dec_min_4_guests\"],\n",
    "            width=1000, height=500)\n",
    "fig.update_layout(title_text='December Airbnb Costs',\n",
    "                  title_x=0.5,\n",
    "                  xaxis_title=\"Ski Resort\",\n",
    "                  yaxis_title=\"Nightly Price ($)\",\n",
    "                 plot_bgcolor='white',\n",
    "                 font=dict(size=14),\n",
    "                 barmode='group')\n",
    "\n",
    "newnames = {'dec_min_2_guests':'2 Guest Max', 'dec_min_4_guests': '4 Guest Max'}\n",
    "fig.for_each_trace(lambda t: t.update(name = newnames[t.name],\n",
    "                                      legendgroup = newnames[t.name],\n",
    "                                      hovertemplate = t.hovertemplate.replace(t.name, newnames[t.name])\n",
    "                                     )\n",
    "                  )\n",
    "\n",
    "fig.update_traces(textposition='outside')               \n",
    "              \n",
    "fig.show()"
   ]
  },
  {
   "cell_type": "markdown",
   "metadata": {},
   "source": [
    "## Elevation graph"
   ]
  },
  {
   "cell_type": "code",
   "execution_count": 289,
   "metadata": {},
   "outputs": [],
   "source": [
    "def mountain_elevation(resort_name):\n",
    "\n",
    "    resort_df = content_df.loc[content_df['ski_resort'] == resort_name]\n",
    "    \n",
    "    # elevation\n",
    "    base_elevation = resort_df['base'].values[0]\n",
    "    summit_elevation = resort_df['summit'].values[0]\n",
    "\n",
    "    # traving elevation\n",
    "    elev_trace = go.Scatter(x=[\"base\", \"summit\", \"drop\"], y=[base_elevation, summit_elevation, base_elevation], mode='lines', line=dict(color='blue'))\n",
    "\n",
    "    # displaying plot\n",
    "    layout = go.Layout(\n",
    "        title='Elevation Change',\n",
    "        yaxis=dict(title='Elevation'),\n",
    "        plot_bgcolor='white',\n",
    "        showlegend=False\n",
    "    )\n",
    "    \n",
    "    # making figure\n",
    "    fig = go.Figure(data=[elev_trace], layout=layout)\n",
    "\n",
    "    # Showing the line plot\n",
    "    fig.show()"
   ]
  },
  {
   "cell_type": "code",
   "execution_count": 290,
   "metadata": {},
   "outputs": [
    {
     "data": {
      "application/vnd.plotly.v1+json": {
       "config": {
        "plotlyServerURL": "https://plot.ly"
       },
       "data": [
        {
         "line": {
          "color": "blue"
         },
         "mode": "lines",
         "type": "scatter",
         "x": [
          "base",
          "summit",
          "drop"
         ],
         "y": [
          10780,
          13050,
          10780
         ]
        }
       ],
       "layout": {
        "plot_bgcolor": "white",
        "showlegend": false,
        "template": {
         "data": {
          "bar": [
           {
            "error_x": {
             "color": "#2a3f5f"
            },
            "error_y": {
             "color": "#2a3f5f"
            },
            "marker": {
             "line": {
              "color": "#E5ECF6",
              "width": 0.5
             }
            },
            "type": "bar"
           }
          ],
          "barpolar": [
           {
            "marker": {
             "line": {
              "color": "#E5ECF6",
              "width": 0.5
             }
            },
            "type": "barpolar"
           }
          ],
          "carpet": [
           {
            "aaxis": {
             "endlinecolor": "#2a3f5f",
             "gridcolor": "white",
             "linecolor": "white",
             "minorgridcolor": "white",
             "startlinecolor": "#2a3f5f"
            },
            "baxis": {
             "endlinecolor": "#2a3f5f",
             "gridcolor": "white",
             "linecolor": "white",
             "minorgridcolor": "white",
             "startlinecolor": "#2a3f5f"
            },
            "type": "carpet"
           }
          ],
          "choropleth": [
           {
            "colorbar": {
             "outlinewidth": 0,
             "ticks": ""
            },
            "type": "choropleth"
           }
          ],
          "contour": [
           {
            "colorbar": {
             "outlinewidth": 0,
             "ticks": ""
            },
            "colorscale": [
             [
              0,
              "#0d0887"
             ],
             [
              0.1111111111111111,
              "#46039f"
             ],
             [
              0.2222222222222222,
              "#7201a8"
             ],
             [
              0.3333333333333333,
              "#9c179e"
             ],
             [
              0.4444444444444444,
              "#bd3786"
             ],
             [
              0.5555555555555556,
              "#d8576b"
             ],
             [
              0.6666666666666666,
              "#ed7953"
             ],
             [
              0.7777777777777778,
              "#fb9f3a"
             ],
             [
              0.8888888888888888,
              "#fdca26"
             ],
             [
              1,
              "#f0f921"
             ]
            ],
            "type": "contour"
           }
          ],
          "contourcarpet": [
           {
            "colorbar": {
             "outlinewidth": 0,
             "ticks": ""
            },
            "type": "contourcarpet"
           }
          ],
          "heatmap": [
           {
            "colorbar": {
             "outlinewidth": 0,
             "ticks": ""
            },
            "colorscale": [
             [
              0,
              "#0d0887"
             ],
             [
              0.1111111111111111,
              "#46039f"
             ],
             [
              0.2222222222222222,
              "#7201a8"
             ],
             [
              0.3333333333333333,
              "#9c179e"
             ],
             [
              0.4444444444444444,
              "#bd3786"
             ],
             [
              0.5555555555555556,
              "#d8576b"
             ],
             [
              0.6666666666666666,
              "#ed7953"
             ],
             [
              0.7777777777777778,
              "#fb9f3a"
             ],
             [
              0.8888888888888888,
              "#fdca26"
             ],
             [
              1,
              "#f0f921"
             ]
            ],
            "type": "heatmap"
           }
          ],
          "heatmapgl": [
           {
            "colorbar": {
             "outlinewidth": 0,
             "ticks": ""
            },
            "colorscale": [
             [
              0,
              "#0d0887"
             ],
             [
              0.1111111111111111,
              "#46039f"
             ],
             [
              0.2222222222222222,
              "#7201a8"
             ],
             [
              0.3333333333333333,
              "#9c179e"
             ],
             [
              0.4444444444444444,
              "#bd3786"
             ],
             [
              0.5555555555555556,
              "#d8576b"
             ],
             [
              0.6666666666666666,
              "#ed7953"
             ],
             [
              0.7777777777777778,
              "#fb9f3a"
             ],
             [
              0.8888888888888888,
              "#fdca26"
             ],
             [
              1,
              "#f0f921"
             ]
            ],
            "type": "heatmapgl"
           }
          ],
          "histogram": [
           {
            "marker": {
             "colorbar": {
              "outlinewidth": 0,
              "ticks": ""
             }
            },
            "type": "histogram"
           }
          ],
          "histogram2d": [
           {
            "colorbar": {
             "outlinewidth": 0,
             "ticks": ""
            },
            "colorscale": [
             [
              0,
              "#0d0887"
             ],
             [
              0.1111111111111111,
              "#46039f"
             ],
             [
              0.2222222222222222,
              "#7201a8"
             ],
             [
              0.3333333333333333,
              "#9c179e"
             ],
             [
              0.4444444444444444,
              "#bd3786"
             ],
             [
              0.5555555555555556,
              "#d8576b"
             ],
             [
              0.6666666666666666,
              "#ed7953"
             ],
             [
              0.7777777777777778,
              "#fb9f3a"
             ],
             [
              0.8888888888888888,
              "#fdca26"
             ],
             [
              1,
              "#f0f921"
             ]
            ],
            "type": "histogram2d"
           }
          ],
          "histogram2dcontour": [
           {
            "colorbar": {
             "outlinewidth": 0,
             "ticks": ""
            },
            "colorscale": [
             [
              0,
              "#0d0887"
             ],
             [
              0.1111111111111111,
              "#46039f"
             ],
             [
              0.2222222222222222,
              "#7201a8"
             ],
             [
              0.3333333333333333,
              "#9c179e"
             ],
             [
              0.4444444444444444,
              "#bd3786"
             ],
             [
              0.5555555555555556,
              "#d8576b"
             ],
             [
              0.6666666666666666,
              "#ed7953"
             ],
             [
              0.7777777777777778,
              "#fb9f3a"
             ],
             [
              0.8888888888888888,
              "#fdca26"
             ],
             [
              1,
              "#f0f921"
             ]
            ],
            "type": "histogram2dcontour"
           }
          ],
          "mesh3d": [
           {
            "colorbar": {
             "outlinewidth": 0,
             "ticks": ""
            },
            "type": "mesh3d"
           }
          ],
          "parcoords": [
           {
            "line": {
             "colorbar": {
              "outlinewidth": 0,
              "ticks": ""
             }
            },
            "type": "parcoords"
           }
          ],
          "pie": [
           {
            "automargin": true,
            "type": "pie"
           }
          ],
          "scatter": [
           {
            "marker": {
             "colorbar": {
              "outlinewidth": 0,
              "ticks": ""
             }
            },
            "type": "scatter"
           }
          ],
          "scatter3d": [
           {
            "line": {
             "colorbar": {
              "outlinewidth": 0,
              "ticks": ""
             }
            },
            "marker": {
             "colorbar": {
              "outlinewidth": 0,
              "ticks": ""
             }
            },
            "type": "scatter3d"
           }
          ],
          "scattercarpet": [
           {
            "marker": {
             "colorbar": {
              "outlinewidth": 0,
              "ticks": ""
             }
            },
            "type": "scattercarpet"
           }
          ],
          "scattergeo": [
           {
            "marker": {
             "colorbar": {
              "outlinewidth": 0,
              "ticks": ""
             }
            },
            "type": "scattergeo"
           }
          ],
          "scattergl": [
           {
            "marker": {
             "colorbar": {
              "outlinewidth": 0,
              "ticks": ""
             }
            },
            "type": "scattergl"
           }
          ],
          "scattermapbox": [
           {
            "marker": {
             "colorbar": {
              "outlinewidth": 0,
              "ticks": ""
             }
            },
            "type": "scattermapbox"
           }
          ],
          "scatterpolar": [
           {
            "marker": {
             "colorbar": {
              "outlinewidth": 0,
              "ticks": ""
             }
            },
            "type": "scatterpolar"
           }
          ],
          "scatterpolargl": [
           {
            "marker": {
             "colorbar": {
              "outlinewidth": 0,
              "ticks": ""
             }
            },
            "type": "scatterpolargl"
           }
          ],
          "scatterternary": [
           {
            "marker": {
             "colorbar": {
              "outlinewidth": 0,
              "ticks": ""
             }
            },
            "type": "scatterternary"
           }
          ],
          "surface": [
           {
            "colorbar": {
             "outlinewidth": 0,
             "ticks": ""
            },
            "colorscale": [
             [
              0,
              "#0d0887"
             ],
             [
              0.1111111111111111,
              "#46039f"
             ],
             [
              0.2222222222222222,
              "#7201a8"
             ],
             [
              0.3333333333333333,
              "#9c179e"
             ],
             [
              0.4444444444444444,
              "#bd3786"
             ],
             [
              0.5555555555555556,
              "#d8576b"
             ],
             [
              0.6666666666666666,
              "#ed7953"
             ],
             [
              0.7777777777777778,
              "#fb9f3a"
             ],
             [
              0.8888888888888888,
              "#fdca26"
             ],
             [
              1,
              "#f0f921"
             ]
            ],
            "type": "surface"
           }
          ],
          "table": [
           {
            "cells": {
             "fill": {
              "color": "#EBF0F8"
             },
             "line": {
              "color": "white"
             }
            },
            "header": {
             "fill": {
              "color": "#C8D4E3"
             },
             "line": {
              "color": "white"
             }
            },
            "type": "table"
           }
          ]
         },
         "layout": {
          "annotationdefaults": {
           "arrowcolor": "#2a3f5f",
           "arrowhead": 0,
           "arrowwidth": 1
          },
          "coloraxis": {
           "colorbar": {
            "outlinewidth": 0,
            "ticks": ""
           }
          },
          "colorscale": {
           "diverging": [
            [
             0,
             "#8e0152"
            ],
            [
             0.1,
             "#c51b7d"
            ],
            [
             0.2,
             "#de77ae"
            ],
            [
             0.3,
             "#f1b6da"
            ],
            [
             0.4,
             "#fde0ef"
            ],
            [
             0.5,
             "#f7f7f7"
            ],
            [
             0.6,
             "#e6f5d0"
            ],
            [
             0.7,
             "#b8e186"
            ],
            [
             0.8,
             "#7fbc41"
            ],
            [
             0.9,
             "#4d9221"
            ],
            [
             1,
             "#276419"
            ]
           ],
           "sequential": [
            [
             0,
             "#0d0887"
            ],
            [
             0.1111111111111111,
             "#46039f"
            ],
            [
             0.2222222222222222,
             "#7201a8"
            ],
            [
             0.3333333333333333,
             "#9c179e"
            ],
            [
             0.4444444444444444,
             "#bd3786"
            ],
            [
             0.5555555555555556,
             "#d8576b"
            ],
            [
             0.6666666666666666,
             "#ed7953"
            ],
            [
             0.7777777777777778,
             "#fb9f3a"
            ],
            [
             0.8888888888888888,
             "#fdca26"
            ],
            [
             1,
             "#f0f921"
            ]
           ],
           "sequentialminus": [
            [
             0,
             "#0d0887"
            ],
            [
             0.1111111111111111,
             "#46039f"
            ],
            [
             0.2222222222222222,
             "#7201a8"
            ],
            [
             0.3333333333333333,
             "#9c179e"
            ],
            [
             0.4444444444444444,
             "#bd3786"
            ],
            [
             0.5555555555555556,
             "#d8576b"
            ],
            [
             0.6666666666666666,
             "#ed7953"
            ],
            [
             0.7777777777777778,
             "#fb9f3a"
            ],
            [
             0.8888888888888888,
             "#fdca26"
            ],
            [
             1,
             "#f0f921"
            ]
           ]
          },
          "colorway": [
           "#636efa",
           "#EF553B",
           "#00cc96",
           "#ab63fa",
           "#FFA15A",
           "#19d3f3",
           "#FF6692",
           "#B6E880",
           "#FF97FF",
           "#FECB52"
          ],
          "font": {
           "color": "#2a3f5f"
          },
          "geo": {
           "bgcolor": "white",
           "lakecolor": "white",
           "landcolor": "#E5ECF6",
           "showlakes": true,
           "showland": true,
           "subunitcolor": "white"
          },
          "hoverlabel": {
           "align": "left"
          },
          "hovermode": "closest",
          "mapbox": {
           "style": "light"
          },
          "paper_bgcolor": "white",
          "plot_bgcolor": "#E5ECF6",
          "polar": {
           "angularaxis": {
            "gridcolor": "white",
            "linecolor": "white",
            "ticks": ""
           },
           "bgcolor": "#E5ECF6",
           "radialaxis": {
            "gridcolor": "white",
            "linecolor": "white",
            "ticks": ""
           }
          },
          "scene": {
           "xaxis": {
            "backgroundcolor": "#E5ECF6",
            "gridcolor": "white",
            "gridwidth": 2,
            "linecolor": "white",
            "showbackground": true,
            "ticks": "",
            "zerolinecolor": "white"
           },
           "yaxis": {
            "backgroundcolor": "#E5ECF6",
            "gridcolor": "white",
            "gridwidth": 2,
            "linecolor": "white",
            "showbackground": true,
            "ticks": "",
            "zerolinecolor": "white"
           },
           "zaxis": {
            "backgroundcolor": "#E5ECF6",
            "gridcolor": "white",
            "gridwidth": 2,
            "linecolor": "white",
            "showbackground": true,
            "ticks": "",
            "zerolinecolor": "white"
           }
          },
          "shapedefaults": {
           "line": {
            "color": "#2a3f5f"
           }
          },
          "ternary": {
           "aaxis": {
            "gridcolor": "white",
            "linecolor": "white",
            "ticks": ""
           },
           "baxis": {
            "gridcolor": "white",
            "linecolor": "white",
            "ticks": ""
           },
           "bgcolor": "#E5ECF6",
           "caxis": {
            "gridcolor": "white",
            "linecolor": "white",
            "ticks": ""
           }
          },
          "title": {
           "x": 0.05
          },
          "xaxis": {
           "automargin": true,
           "gridcolor": "white",
           "linecolor": "white",
           "ticks": "",
           "title": {
            "standoff": 15
           },
           "zerolinecolor": "white",
           "zerolinewidth": 2
          },
          "yaxis": {
           "automargin": true,
           "gridcolor": "white",
           "linecolor": "white",
           "ticks": "",
           "title": {
            "standoff": 15
           },
           "zerolinecolor": "white",
           "zerolinewidth": 2
          }
         }
        },
        "title": {
         "text": "Elevation Change"
        },
        "yaxis": {
         "title": {
          "text": "Elevation"
         }
        }
       }
      },
      "text/html": [
       "<div>                            <div id=\"d9f67baa-063a-4fde-b5d1-add7c79ed84a\" class=\"plotly-graph-div\" style=\"height:525px; width:100%;\"></div>            <script type=\"text/javascript\">                require([\"plotly\"], function(Plotly) {                    window.PLOTLYENV=window.PLOTLYENV || {};                                    if (document.getElementById(\"d9f67baa-063a-4fde-b5d1-add7c79ed84a\")) {                    Plotly.newPlot(                        \"d9f67baa-063a-4fde-b5d1-add7c79ed84a\",                        [{\"line\": {\"color\": \"blue\"}, \"mode\": \"lines\", \"type\": \"scatter\", \"x\": [\"base\", \"summit\", \"drop\"], \"y\": [10780, 13050, 10780]}],                        {\"plot_bgcolor\": \"white\", \"showlegend\": false, \"template\": {\"data\": {\"bar\": [{\"error_x\": {\"color\": \"#2a3f5f\"}, \"error_y\": {\"color\": \"#2a3f5f\"}, \"marker\": {\"line\": {\"color\": \"#E5ECF6\", \"width\": 0.5}}, \"type\": \"bar\"}], \"barpolar\": [{\"marker\": {\"line\": {\"color\": \"#E5ECF6\", \"width\": 0.5}}, \"type\": \"barpolar\"}], \"carpet\": [{\"aaxis\": {\"endlinecolor\": \"#2a3f5f\", \"gridcolor\": \"white\", \"linecolor\": \"white\", \"minorgridcolor\": \"white\", \"startlinecolor\": \"#2a3f5f\"}, \"baxis\": {\"endlinecolor\": \"#2a3f5f\", \"gridcolor\": \"white\", \"linecolor\": \"white\", \"minorgridcolor\": \"white\", \"startlinecolor\": \"#2a3f5f\"}, \"type\": \"carpet\"}], \"choropleth\": [{\"colorbar\": {\"outlinewidth\": 0, \"ticks\": \"\"}, \"type\": \"choropleth\"}], \"contour\": [{\"colorbar\": {\"outlinewidth\": 0, \"ticks\": \"\"}, \"colorscale\": [[0.0, \"#0d0887\"], [0.1111111111111111, \"#46039f\"], [0.2222222222222222, \"#7201a8\"], [0.3333333333333333, \"#9c179e\"], [0.4444444444444444, \"#bd3786\"], [0.5555555555555556, \"#d8576b\"], [0.6666666666666666, \"#ed7953\"], [0.7777777777777778, \"#fb9f3a\"], [0.8888888888888888, \"#fdca26\"], [1.0, \"#f0f921\"]], \"type\": \"contour\"}], \"contourcarpet\": [{\"colorbar\": {\"outlinewidth\": 0, \"ticks\": \"\"}, \"type\": \"contourcarpet\"}], \"heatmap\": [{\"colorbar\": {\"outlinewidth\": 0, \"ticks\": \"\"}, \"colorscale\": [[0.0, \"#0d0887\"], [0.1111111111111111, \"#46039f\"], [0.2222222222222222, \"#7201a8\"], [0.3333333333333333, \"#9c179e\"], [0.4444444444444444, \"#bd3786\"], [0.5555555555555556, \"#d8576b\"], [0.6666666666666666, \"#ed7953\"], [0.7777777777777778, \"#fb9f3a\"], [0.8888888888888888, \"#fdca26\"], [1.0, \"#f0f921\"]], \"type\": \"heatmap\"}], \"heatmapgl\": [{\"colorbar\": {\"outlinewidth\": 0, \"ticks\": \"\"}, \"colorscale\": [[0.0, \"#0d0887\"], [0.1111111111111111, \"#46039f\"], [0.2222222222222222, \"#7201a8\"], [0.3333333333333333, \"#9c179e\"], [0.4444444444444444, \"#bd3786\"], [0.5555555555555556, \"#d8576b\"], [0.6666666666666666, \"#ed7953\"], [0.7777777777777778, \"#fb9f3a\"], [0.8888888888888888, \"#fdca26\"], [1.0, \"#f0f921\"]], \"type\": \"heatmapgl\"}], \"histogram\": [{\"marker\": {\"colorbar\": {\"outlinewidth\": 0, \"ticks\": \"\"}}, \"type\": \"histogram\"}], \"histogram2d\": [{\"colorbar\": {\"outlinewidth\": 0, \"ticks\": \"\"}, \"colorscale\": [[0.0, \"#0d0887\"], [0.1111111111111111, \"#46039f\"], [0.2222222222222222, \"#7201a8\"], [0.3333333333333333, \"#9c179e\"], [0.4444444444444444, \"#bd3786\"], [0.5555555555555556, \"#d8576b\"], [0.6666666666666666, \"#ed7953\"], [0.7777777777777778, \"#fb9f3a\"], [0.8888888888888888, \"#fdca26\"], [1.0, \"#f0f921\"]], \"type\": \"histogram2d\"}], \"histogram2dcontour\": [{\"colorbar\": {\"outlinewidth\": 0, \"ticks\": \"\"}, \"colorscale\": [[0.0, \"#0d0887\"], [0.1111111111111111, \"#46039f\"], [0.2222222222222222, \"#7201a8\"], [0.3333333333333333, \"#9c179e\"], [0.4444444444444444, \"#bd3786\"], [0.5555555555555556, \"#d8576b\"], [0.6666666666666666, \"#ed7953\"], [0.7777777777777778, \"#fb9f3a\"], [0.8888888888888888, \"#fdca26\"], [1.0, \"#f0f921\"]], \"type\": \"histogram2dcontour\"}], \"mesh3d\": [{\"colorbar\": {\"outlinewidth\": 0, \"ticks\": \"\"}, \"type\": \"mesh3d\"}], \"parcoords\": [{\"line\": {\"colorbar\": {\"outlinewidth\": 0, \"ticks\": \"\"}}, \"type\": \"parcoords\"}], \"pie\": [{\"automargin\": true, \"type\": \"pie\"}], \"scatter\": [{\"marker\": {\"colorbar\": {\"outlinewidth\": 0, \"ticks\": \"\"}}, \"type\": \"scatter\"}], \"scatter3d\": [{\"line\": {\"colorbar\": {\"outlinewidth\": 0, \"ticks\": \"\"}}, \"marker\": {\"colorbar\": {\"outlinewidth\": 0, \"ticks\": \"\"}}, \"type\": \"scatter3d\"}], \"scattercarpet\": [{\"marker\": {\"colorbar\": {\"outlinewidth\": 0, \"ticks\": \"\"}}, \"type\": \"scattercarpet\"}], \"scattergeo\": [{\"marker\": {\"colorbar\": {\"outlinewidth\": 0, \"ticks\": \"\"}}, \"type\": \"scattergeo\"}], \"scattergl\": [{\"marker\": {\"colorbar\": {\"outlinewidth\": 0, \"ticks\": \"\"}}, \"type\": \"scattergl\"}], \"scattermapbox\": [{\"marker\": {\"colorbar\": {\"outlinewidth\": 0, \"ticks\": \"\"}}, \"type\": \"scattermapbox\"}], \"scatterpolar\": [{\"marker\": {\"colorbar\": {\"outlinewidth\": 0, \"ticks\": \"\"}}, \"type\": \"scatterpolar\"}], \"scatterpolargl\": [{\"marker\": {\"colorbar\": {\"outlinewidth\": 0, \"ticks\": \"\"}}, \"type\": \"scatterpolargl\"}], \"scatterternary\": [{\"marker\": {\"colorbar\": {\"outlinewidth\": 0, \"ticks\": \"\"}}, \"type\": \"scatterternary\"}], \"surface\": [{\"colorbar\": {\"outlinewidth\": 0, \"ticks\": \"\"}, \"colorscale\": [[0.0, \"#0d0887\"], [0.1111111111111111, \"#46039f\"], [0.2222222222222222, \"#7201a8\"], [0.3333333333333333, \"#9c179e\"], [0.4444444444444444, \"#bd3786\"], [0.5555555555555556, \"#d8576b\"], [0.6666666666666666, \"#ed7953\"], [0.7777777777777778, \"#fb9f3a\"], [0.8888888888888888, \"#fdca26\"], [1.0, \"#f0f921\"]], \"type\": \"surface\"}], \"table\": [{\"cells\": {\"fill\": {\"color\": \"#EBF0F8\"}, \"line\": {\"color\": \"white\"}}, \"header\": {\"fill\": {\"color\": \"#C8D4E3\"}, \"line\": {\"color\": \"white\"}}, \"type\": \"table\"}]}, \"layout\": {\"annotationdefaults\": {\"arrowcolor\": \"#2a3f5f\", \"arrowhead\": 0, \"arrowwidth\": 1}, \"coloraxis\": {\"colorbar\": {\"outlinewidth\": 0, \"ticks\": \"\"}}, \"colorscale\": {\"diverging\": [[0, \"#8e0152\"], [0.1, \"#c51b7d\"], [0.2, \"#de77ae\"], [0.3, \"#f1b6da\"], [0.4, \"#fde0ef\"], [0.5, \"#f7f7f7\"], [0.6, \"#e6f5d0\"], [0.7, \"#b8e186\"], [0.8, \"#7fbc41\"], [0.9, \"#4d9221\"], [1, \"#276419\"]], \"sequential\": [[0.0, \"#0d0887\"], [0.1111111111111111, \"#46039f\"], [0.2222222222222222, \"#7201a8\"], [0.3333333333333333, \"#9c179e\"], [0.4444444444444444, \"#bd3786\"], [0.5555555555555556, \"#d8576b\"], [0.6666666666666666, \"#ed7953\"], [0.7777777777777778, \"#fb9f3a\"], [0.8888888888888888, \"#fdca26\"], [1.0, \"#f0f921\"]], \"sequentialminus\": [[0.0, \"#0d0887\"], [0.1111111111111111, \"#46039f\"], [0.2222222222222222, \"#7201a8\"], [0.3333333333333333, \"#9c179e\"], [0.4444444444444444, \"#bd3786\"], [0.5555555555555556, \"#d8576b\"], [0.6666666666666666, \"#ed7953\"], [0.7777777777777778, \"#fb9f3a\"], [0.8888888888888888, \"#fdca26\"], [1.0, \"#f0f921\"]]}, \"colorway\": [\"#636efa\", \"#EF553B\", \"#00cc96\", \"#ab63fa\", \"#FFA15A\", \"#19d3f3\", \"#FF6692\", \"#B6E880\", \"#FF97FF\", \"#FECB52\"], \"font\": {\"color\": \"#2a3f5f\"}, \"geo\": {\"bgcolor\": \"white\", \"lakecolor\": \"white\", \"landcolor\": \"#E5ECF6\", \"showlakes\": true, \"showland\": true, \"subunitcolor\": \"white\"}, \"hoverlabel\": {\"align\": \"left\"}, \"hovermode\": \"closest\", \"mapbox\": {\"style\": \"light\"}, \"paper_bgcolor\": \"white\", \"plot_bgcolor\": \"#E5ECF6\", \"polar\": {\"angularaxis\": {\"gridcolor\": \"white\", \"linecolor\": \"white\", \"ticks\": \"\"}, \"bgcolor\": \"#E5ECF6\", \"radialaxis\": {\"gridcolor\": \"white\", \"linecolor\": \"white\", \"ticks\": \"\"}}, \"scene\": {\"xaxis\": {\"backgroundcolor\": \"#E5ECF6\", \"gridcolor\": \"white\", \"gridwidth\": 2, \"linecolor\": \"white\", \"showbackground\": true, \"ticks\": \"\", \"zerolinecolor\": \"white\"}, \"yaxis\": {\"backgroundcolor\": \"#E5ECF6\", \"gridcolor\": \"white\", \"gridwidth\": 2, \"linecolor\": \"white\", \"showbackground\": true, \"ticks\": \"\", \"zerolinecolor\": \"white\"}, \"zaxis\": {\"backgroundcolor\": \"#E5ECF6\", \"gridcolor\": \"white\", \"gridwidth\": 2, \"linecolor\": \"white\", \"showbackground\": true, \"ticks\": \"\", \"zerolinecolor\": \"white\"}}, \"shapedefaults\": {\"line\": {\"color\": \"#2a3f5f\"}}, \"ternary\": {\"aaxis\": {\"gridcolor\": \"white\", \"linecolor\": \"white\", \"ticks\": \"\"}, \"baxis\": {\"gridcolor\": \"white\", \"linecolor\": \"white\", \"ticks\": \"\"}, \"bgcolor\": \"#E5ECF6\", \"caxis\": {\"gridcolor\": \"white\", \"linecolor\": \"white\", \"ticks\": \"\"}}, \"title\": {\"x\": 0.05}, \"xaxis\": {\"automargin\": true, \"gridcolor\": \"white\", \"linecolor\": \"white\", \"ticks\": \"\", \"title\": {\"standoff\": 15}, \"zerolinecolor\": \"white\", \"zerolinewidth\": 2}, \"yaxis\": {\"automargin\": true, \"gridcolor\": \"white\", \"linecolor\": \"white\", \"ticks\": \"\", \"title\": {\"standoff\": 15}, \"zerolinecolor\": \"white\", \"zerolinewidth\": 2}}}, \"title\": {\"text\": \"Elevation Change\"}, \"yaxis\": {\"title\": {\"text\": \"Elevation\"}}},                        {\"responsive\": true}                    ).then(function(){\n",
       "                            \n",
       "var gd = document.getElementById('d9f67baa-063a-4fde-b5d1-add7c79ed84a');\n",
       "var x = new MutationObserver(function (mutations, observer) {{\n",
       "        var display = window.getComputedStyle(gd).display;\n",
       "        if (!display || display === 'none') {{\n",
       "            console.log([gd, 'removed!']);\n",
       "            Plotly.purge(gd);\n",
       "            observer.disconnect();\n",
       "        }}\n",
       "}});\n",
       "\n",
       "// Listen for the removal of the full notebook cells\n",
       "var notebookContainer = gd.closest('#notebook-container');\n",
       "if (notebookContainer) {{\n",
       "    x.observe(notebookContainer, {childList: true});\n",
       "}}\n",
       "\n",
       "// Listen for the clearing of the current output cell\n",
       "var outputEl = gd.closest('.output');\n",
       "if (outputEl) {{\n",
       "    x.observe(outputEl, {childList: true});\n",
       "}}\n",
       "\n",
       "                        })                };                });            </script>        </div>"
      ]
     },
     "metadata": {},
     "output_type": "display_data"
    }
   ],
   "source": [
    "mountain_elevation(\"Arapahoe Basin\")"
   ]
  },
  {
   "cell_type": "markdown",
   "metadata": {},
   "source": [
    "# Conclusion"
   ]
  },
  {
   "cell_type": "markdown",
   "metadata": {},
   "source": [
    "#### Review Dataset\n",
    "After cleaning and analyzing the data, there are **662 users, 275 resorts, and 2795 total reviews**. There is an imbalance in the reviews, however our final recommendation system will be a hybrid-cascade model, so this will help balance out the results."
   ]
  },
  {
   "cell_type": "code",
   "execution_count": 291,
   "metadata": {},
   "outputs": [
    {
     "name": "stdout",
     "output_type": "stream",
     "text": [
      "Number of unique users: 662\n",
      "Number of unique resorts: 275\n",
      "Number of reviews: 2795\n"
     ]
    }
   ],
   "source": [
    "unique_users = len(final_ski_df['user_name'].unique())\n",
    "unique_resorts = len(final_ski_df['ski_resort'].unique())\n",
    "total_reviews = len(final_ski_df)\n",
    "\n",
    "print(\"Number of unique users:\", unique_users)\n",
    "print(\"Number of unique resorts:\", unique_resorts)\n",
    "print(\"Number of reviews:\", total_reviews)"
   ]
  },
  {
   "cell_type": "markdown",
   "metadata": {},
   "source": [
    "#### Review Dataset\n",
    "After cleaning the scraped data from OnTheSnow, Google Geocoding API, and Airbnb, there are **329 resorts** and **86 columns** in the final dataframe."
   ]
  },
  {
   "cell_type": "code",
   "execution_count": 292,
   "metadata": {},
   "outputs": [
    {
     "name": "stdout",
     "output_type": "stream",
     "text": [
      "Number of resorts: 330\n",
      "Number of features: 99\n"
     ]
    }
   ],
   "source": [
    "unique_resorts = len(content_df['ski_resort'].unique())\n",
    "unique_features = len(content_df.columns)\n",
    "\n",
    "print(\"Number of resorts:\", unique_resorts)\n",
    "print(\"Number of features:\", unique_features)"
   ]
  },
  {
   "cell_type": "markdown",
   "metadata": {},
   "source": [
    "# Next Steps"
   ]
  },
  {
   "cell_type": "markdown",
   "metadata": {},
   "source": [
    "The next step will be to begin modeling to create the recommendation system. The two main dataframes from this notebook will be used are listed below:\n",
    "\n",
    "- **Collaborative Modeling** - cleaned_data_exports/user_df_model.csv\n",
    "- **Content/Cascade Hybrid Modeling** - cleaned_data_exports/scraped_feature_df.csv\n",
    "\n",
    "The collaborative model will be saved in a separate notebook than the final content and hybrid based models."
   ]
  }
 ],
 "metadata": {
  "kernelspec": {
   "display_name": "Python (learn-env)",
   "language": "python",
   "name": "learn-env"
  },
  "language_info": {
   "codemirror_mode": {
    "name": "ipython",
    "version": 3
   },
   "file_extension": ".py",
   "mimetype": "text/x-python",
   "name": "python",
   "nbconvert_exporter": "python",
   "pygments_lexer": "ipython3",
   "version": "3.8.5"
  }
 },
 "nbformat": 4,
 "nbformat_minor": 5
}
