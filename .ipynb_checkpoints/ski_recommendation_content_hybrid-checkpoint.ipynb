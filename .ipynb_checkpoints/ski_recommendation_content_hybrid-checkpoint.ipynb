{
 "cells": [
  {
   "cell_type": "markdown",
   "metadata": {},
   "source": [
    "# Avant Ski - Content Based System"
   ]
  },
  {
   "cell_type": "markdown",
   "metadata": {},
   "source": [
    "by: Stephanie Ciaccia"
   ]
  },
  {
   "cell_type": "markdown",
   "metadata": {},
   "source": [
    "# Overview\n",
    "\n",
    "Skiing holds a prominent place for those seeking winter recreational activities in the United States. With its stunning mountain ranges and diverse terrain, the country boasts numerous ski resorts that cater to all skill levels, from beginners to seasoned professionals. Skiing offers a unique blend of adventure, physical activity, and natural beauty, making it a popular choice for winter enthusiasts seeking both relaxation and excitement.\n",
    "\n",
    "The ski market in the United States is thriving, contributing significantly to the economy. According to the [National Ski Areas Association (NSAA)](chrome-extension://efaidnbmnnnibpcajpcglclefindmkaj/https://nsaa.org/webdocs/Media_Public/IndustryStats/Historical_Skier_Days_1979_2022.pdf), approximately 60.7 million skiers and snowboarders visited 473 ski resorts in the 2021-2022 winter season."
   ]
  },
  {
   "cell_type": "markdown",
   "metadata": {},
   "source": [
    "# Business Problem \n",
    "Skiing is an exhilarating winter activity enjoyed by many, but barriers such as high costs and limited accessibility often hinder people from fully experiencing its joys. Choosing the right ski resort can be overwhelming due to the multitude of options available, and existing websites lack dynamic filtering capabilities based on user preferences.\n",
    "\n",
    "To address these challenges, I'm developing Avant Ski, a ski resort recommendation app. Avant Ski simplifies the ski resort selection process by leveraging data and user preferences. With dynamic filtering features, users can personalize their search based on budget, location, amenities, and skill level. By bridging the gap between ski enthusiasts and their dream destinations, Avant Ski makes skiing accessible to a wider audience, empowering them to plan unforgettable ski trips with confidence."
   ]
  },
  {
   "cell_type": "markdown",
   "metadata": {},
   "source": [
    "# Data Understading"
   ]
  },
  {
   "cell_type": "code",
   "execution_count": 1,
   "metadata": {},
   "outputs": [],
   "source": [
    "import pandas as pd\n",
    "import numpy as np\n",
    "import math\n",
    "from datetime import datetime\n",
    "import datetime\n",
    "from scipy import stats\n",
    "\n",
    "import matplotlib.pyplot as plt\n",
    "import seaborn as sns\n",
    "import plotly.graph_objects as go\n",
    "%matplotlib inline\n",
    "import plotly\n",
    "import plotly.express as px\n",
    "import plotly.io as pio\n",
    "from matplotlib.ticker import StrMethodFormatter\n",
    "\n",
    "from collections import Counter\n",
    "from nltk.corpus import stopwords\n",
    "\n",
    "from IPython.display import display\n",
    "\n",
    "from sklearn.metrics.pairwise import cosine_similarity\n",
    "from sklearn.preprocessing import MinMaxScaler\n",
    "from sklearn.preprocessing import StandardScaler\n",
    "from sklearn.preprocessing import OneHotEncoder\n",
    "from sklearn.neighbors import NearestNeighbors\n",
    "\n",
    "from surprise import SVDpp, SVD\n",
    "from surprise import accuracy\n",
    "from surprise import Dataset\n",
    "from surprise import Reader\n",
    "from surprise.model_selection import GridSearchCV, cross_validate, train_test_split\n",
    "\n",
    "import glob\n",
    "import os"
   ]
  },
  {
   "cell_type": "code",
   "execution_count": 2,
   "metadata": {},
   "outputs": [],
   "source": [
    "def print_full(x):\n",
    "    pd.set_option('display.max_rows', len(x))\n",
    "    print(x)\n",
    "    pd.reset_option('display.max_rows')"
   ]
  },
  {
   "cell_type": "markdown",
   "metadata": {},
   "source": [
    "## Importing Data\n",
    "### Data Source #1 - Final Feature Data\n",
    "Importing main ski resort and features dataframe that I scraped and cleaned from OnTheSnow in cleaning notebook."
   ]
  },
  {
   "cell_type": "code",
   "execution_count": 77,
   "metadata": {},
   "outputs": [],
   "source": [
    "content_df = pd.read_csv(\"data/cleaned_data_exports/scraped_feature_df_3.csv\")"
   ]
  },
  {
   "cell_type": "code",
   "execution_count": 78,
   "metadata": {},
   "outputs": [
    {
     "name": "stdout",
     "output_type": "stream",
     "text": [
      "<class 'pandas.core.frame.DataFrame'>\n",
      "RangeIndex: 330 entries, 0 to 329\n",
      "Columns: 103 entries, Unnamed: 0 to total_lifts\n",
      "dtypes: float64(20), int64(70), object(13)\n",
      "memory usage: 265.7+ KB\n"
     ]
    }
   ],
   "source": [
    "content_df.info()"
   ]
  },
  {
   "cell_type": "markdown",
   "metadata": {},
   "source": [
    "### Data Source #2 - Final User/Review Data"
   ]
  },
  {
   "cell_type": "markdown",
   "metadata": {},
   "source": [
    "Importing final cleaned user review data from the cleaning notebook."
   ]
  },
  {
   "cell_type": "code",
   "execution_count": 71,
   "metadata": {},
   "outputs": [],
   "source": [
    "final_user_df = pd.read_csv(\"data/cleaned_data_exports/user_df_model_2.csv\")"
   ]
  },
  {
   "cell_type": "markdown",
   "metadata": {},
   "source": [
    "### Content Modeling"
   ]
  },
  {
   "cell_type": "markdown",
   "metadata": {},
   "source": [
    "To begin our content modeling, we will need to create a feature matrix that will store all of the feature information. This matrix will allow us to calculate the similarties between item vectors, so we can determine which ski resorts are similar."
   ]
  },
  {
   "cell_type": "code",
   "execution_count": 81,
   "metadata": {},
   "outputs": [
    {
     "data": {
      "text/plain": [
       "['Unnamed: 0',\n",
       " 'ski_resort',\n",
       " 'address',\n",
       " 'city',\n",
       " 'state',\n",
       " 'zipcode',\n",
       " 'summit',\n",
       " 'drop',\n",
       " 'base',\n",
       " 'gondolas_and_trams',\n",
       " 'fast_eight',\n",
       " 'high_speed_sixes',\n",
       " 'quad_chairs',\n",
       " 'triple_chairs',\n",
       " 'double_chairs',\n",
       " 'surface_lifts',\n",
       " 'total_runs',\n",
       " 'longest_run',\n",
       " 'skiable_terrain',\n",
       " 'snow_making',\n",
       " 'daysOpenLastYear',\n",
       " 'averageSnowfall',\n",
       " 'projectedOpening',\n",
       " 'projectedClosing',\n",
       " 'nov_snow',\n",
       " 'dec_snow',\n",
       " 'jan_snow',\n",
       " 'feb_snow',\n",
       " 'mar_snow',\n",
       " 'apr_snow',\n",
       " 'childrenWeekdayPrice',\n",
       " 'childrenWeekendPrice',\n",
       " 'teenagerWeekdayPrice',\n",
       " 'teenagerWeekendPrice',\n",
       " 'adultWeekdayPrice',\n",
       " 'adultWeekendPrice',\n",
       " 'seniorWeekdayPrice',\n",
       " 'seniorWeekendPrice',\n",
       " 'childrenPrice_season',\n",
       " 'teenagerPrice_season',\n",
       " 'adultPrice_season',\n",
       " 'Url',\n",
       " 'beginner_runs',\n",
       " 'intermediate_runs',\n",
       " 'advanced_runs',\n",
       " 'expert_runs',\n",
       " 'night_skiing',\n",
       " 'epic',\n",
       " 'mountain_collective',\n",
       " 'ikon',\n",
       " 'indy',\n",
       " 'dec_mean_2_guests',\n",
       " 'dec_min_2_guests',\n",
       " 'dec_max_2_guests',\n",
       " 'jan_mean_2_guests',\n",
       " 'jan_min_2_guests',\n",
       " 'jan_max_2_guests',\n",
       " 'feb_mean_2_guests',\n",
       " 'feb_min_2_guests',\n",
       " 'feb_max_2_guests',\n",
       " 'mar_mean_2_guests',\n",
       " 'mar_min_2_guests',\n",
       " 'mar_max_2_guests',\n",
       " 'apr_mean_2_guests',\n",
       " 'apr_min_2_guests',\n",
       " 'apr_max_2_guests',\n",
       " 'may_mean_2_guests',\n",
       " 'may_min_2_guests',\n",
       " 'may_max_2_guests',\n",
       " 'dec_mean_4_guests',\n",
       " 'dec_min_4_guests',\n",
       " 'dec_max_4_guests',\n",
       " 'jan_mean_4_guests',\n",
       " 'jan_min_4_guests',\n",
       " 'jan_max_4_guests',\n",
       " 'feb_mean_4_guests',\n",
       " 'feb_min_4_guests',\n",
       " 'feb_max_4_guests',\n",
       " 'mar_mean_4_guests',\n",
       " 'mar_min_4_guests',\n",
       " 'mar_max_4_guests',\n",
       " 'apr_mean_4_guests',\n",
       " 'apr_min_4_guests',\n",
       " 'apr_max_4_guests',\n",
       " 'may_mean_4_guests',\n",
       " 'may_min_4_guests',\n",
       " 'may_max_4_guests',\n",
       " 'full_address',\n",
       " 'latitude',\n",
       " 'longitude',\n",
       " 'airport_1',\n",
       " 'distance_1',\n",
       " 'lat',\n",
       " 'long',\n",
       " 'airport_2',\n",
       " 'distance_2',\n",
       " 'lat_2',\n",
       " 'long_2',\n",
       " 'airport_3',\n",
       " 'distance_3',\n",
       " 'lat_3',\n",
       " 'long_3',\n",
       " 'total_lifts']"
      ]
     },
     "execution_count": 81,
     "metadata": {},
     "output_type": "execute_result"
    }
   ],
   "source": [
    "content_df.columns.to_list()"
   ]
  },
  {
   "cell_type": "code",
   "execution_count": 95,
   "metadata": {},
   "outputs": [],
   "source": [
    "#making a copy of the finaldataframe\n",
    "content_matrix = content_df.copy()"
   ]
  },
  {
   "cell_type": "code",
   "execution_count": 96,
   "metadata": {},
   "outputs": [],
   "source": [
    "drop_list = ['address', 'zipcode', 'Url', 'projectedOpening', 'projectedClosing', 'Unnamed: 0',\n",
    "             \"daysOpenLastYear\", 'projectedOpening', 'projectedClosing',\n",
    "             'full_address','airport_1','distance_1','lat', 'long',\n",
    "             'airport_2','distance_2','lat_2','long_2','airport_3','distance_3','lat_3','long_3']\n",
    "\n",
    "content_matrix.drop(columns=drop_list, inplace=True)"
   ]
  },
  {
   "cell_type": "code",
   "execution_count": 97,
   "metadata": {},
   "outputs": [
    {
     "data": {
      "text/html": [
       "<div>\n",
       "<style scoped>\n",
       "    .dataframe tbody tr th:only-of-type {\n",
       "        vertical-align: middle;\n",
       "    }\n",
       "\n",
       "    .dataframe tbody tr th {\n",
       "        vertical-align: top;\n",
       "    }\n",
       "\n",
       "    .dataframe thead th {\n",
       "        text-align: right;\n",
       "    }\n",
       "</style>\n",
       "<table border=\"1\" class=\"dataframe\">\n",
       "  <thead>\n",
       "    <tr style=\"text-align: right;\">\n",
       "      <th></th>\n",
       "      <th>ski_resort</th>\n",
       "      <th>city</th>\n",
       "      <th>state</th>\n",
       "      <th>summit</th>\n",
       "      <th>drop</th>\n",
       "      <th>base</th>\n",
       "      <th>gondolas_and_trams</th>\n",
       "      <th>fast_eight</th>\n",
       "      <th>high_speed_sixes</th>\n",
       "      <th>quad_chairs</th>\n",
       "      <th>...</th>\n",
       "      <th>mar_max_4_guests</th>\n",
       "      <th>apr_mean_4_guests</th>\n",
       "      <th>apr_min_4_guests</th>\n",
       "      <th>apr_max_4_guests</th>\n",
       "      <th>may_mean_4_guests</th>\n",
       "      <th>may_min_4_guests</th>\n",
       "      <th>may_max_4_guests</th>\n",
       "      <th>latitude</th>\n",
       "      <th>longitude</th>\n",
       "      <th>total_lifts</th>\n",
       "    </tr>\n",
       "  </thead>\n",
       "  <tbody>\n",
       "    <tr>\n",
       "      <th>0</th>\n",
       "      <td>Palisades Tahoe</td>\n",
       "      <td>Olympic Valley</td>\n",
       "      <td>California</td>\n",
       "      <td>9050</td>\n",
       "      <td>2850</td>\n",
       "      <td>6200</td>\n",
       "      <td>3</td>\n",
       "      <td>6</td>\n",
       "      <td>4</td>\n",
       "      <td>1</td>\n",
       "      <td>...</td>\n",
       "      <td>1320</td>\n",
       "      <td>463</td>\n",
       "      <td>178</td>\n",
       "      <td>1260</td>\n",
       "      <td>331</td>\n",
       "      <td>122</td>\n",
       "      <td>825</td>\n",
       "      <td>39.196980</td>\n",
       "      <td>-120.235705</td>\n",
       "      <td>36</td>\n",
       "    </tr>\n",
       "    <tr>\n",
       "      <th>1</th>\n",
       "      <td>Mammoth Mountain</td>\n",
       "      <td>Mammoth Mountain Lakes</td>\n",
       "      <td>California</td>\n",
       "      <td>11053</td>\n",
       "      <td>3100</td>\n",
       "      <td>7953</td>\n",
       "      <td>3</td>\n",
       "      <td>9</td>\n",
       "      <td>2</td>\n",
       "      <td>1</td>\n",
       "      <td>...</td>\n",
       "      <td>589</td>\n",
       "      <td>325</td>\n",
       "      <td>126</td>\n",
       "      <td>699</td>\n",
       "      <td>144</td>\n",
       "      <td>64</td>\n",
       "      <td>246</td>\n",
       "      <td>37.648546</td>\n",
       "      <td>-118.972079</td>\n",
       "      <td>25</td>\n",
       "    </tr>\n",
       "    <tr>\n",
       "      <th>2</th>\n",
       "      <td>Donner Ski Ranch</td>\n",
       "      <td>Norden</td>\n",
       "      <td>California</td>\n",
       "      <td>8012</td>\n",
       "      <td>750</td>\n",
       "      <td>7031</td>\n",
       "      <td>0</td>\n",
       "      <td>0</td>\n",
       "      <td>0</td>\n",
       "      <td>0</td>\n",
       "      <td>...</td>\n",
       "      <td>739</td>\n",
       "      <td>349</td>\n",
       "      <td>165</td>\n",
       "      <td>996</td>\n",
       "      <td>231</td>\n",
       "      <td>83</td>\n",
       "      <td>643</td>\n",
       "      <td>39.317356</td>\n",
       "      <td>-120.354182</td>\n",
       "      <td>8</td>\n",
       "    </tr>\n",
       "    <tr>\n",
       "      <th>3</th>\n",
       "      <td>Sugar Bowl</td>\n",
       "      <td>Norden</td>\n",
       "      <td>California</td>\n",
       "      <td>8383</td>\n",
       "      <td>1500</td>\n",
       "      <td>6883</td>\n",
       "      <td>1</td>\n",
       "      <td>5</td>\n",
       "      <td>0</td>\n",
       "      <td>3</td>\n",
       "      <td>...</td>\n",
       "      <td>739</td>\n",
       "      <td>349</td>\n",
       "      <td>165</td>\n",
       "      <td>996</td>\n",
       "      <td>245</td>\n",
       "      <td>120</td>\n",
       "      <td>643</td>\n",
       "      <td>39.317356</td>\n",
       "      <td>-120.354182</td>\n",
       "      <td>12</td>\n",
       "    </tr>\n",
       "    <tr>\n",
       "      <th>4</th>\n",
       "      <td>Kirkwood</td>\n",
       "      <td>Kirkwood</td>\n",
       "      <td>California</td>\n",
       "      <td>9800</td>\n",
       "      <td>2000</td>\n",
       "      <td>7800</td>\n",
       "      <td>0</td>\n",
       "      <td>2</td>\n",
       "      <td>0</td>\n",
       "      <td>2</td>\n",
       "      <td>...</td>\n",
       "      <td>1179</td>\n",
       "      <td>420</td>\n",
       "      <td>150</td>\n",
       "      <td>950</td>\n",
       "      <td>309</td>\n",
       "      <td>114</td>\n",
       "      <td>590</td>\n",
       "      <td>38.702308</td>\n",
       "      <td>-120.072244</td>\n",
       "      <td>13</td>\n",
       "    </tr>\n",
       "  </tbody>\n",
       "</table>\n",
       "<p>5 rows × 83 columns</p>\n",
       "</div>"
      ],
      "text/plain": [
       "         ski_resort                    city       state  summit  drop  base  \\\n",
       "0   Palisades Tahoe          Olympic Valley  California    9050  2850  6200   \n",
       "1  Mammoth Mountain  Mammoth Mountain Lakes  California   11053  3100  7953   \n",
       "2  Donner Ski Ranch                  Norden  California    8012   750  7031   \n",
       "3        Sugar Bowl                  Norden  California    8383  1500  6883   \n",
       "4          Kirkwood                Kirkwood  California    9800  2000  7800   \n",
       "\n",
       "   gondolas_and_trams  fast_eight  high_speed_sixes  quad_chairs  ...  \\\n",
       "0                   3           6                 4            1  ...   \n",
       "1                   3           9                 2            1  ...   \n",
       "2                   0           0                 0            0  ...   \n",
       "3                   1           5                 0            3  ...   \n",
       "4                   0           2                 0            2  ...   \n",
       "\n",
       "   mar_max_4_guests  apr_mean_4_guests  apr_min_4_guests  apr_max_4_guests  \\\n",
       "0              1320                463               178              1260   \n",
       "1               589                325               126               699   \n",
       "2               739                349               165               996   \n",
       "3               739                349               165               996   \n",
       "4              1179                420               150               950   \n",
       "\n",
       "   may_mean_4_guests  may_min_4_guests  may_max_4_guests   latitude  \\\n",
       "0                331               122               825  39.196980   \n",
       "1                144                64               246  37.648546   \n",
       "2                231                83               643  39.317356   \n",
       "3                245               120               643  39.317356   \n",
       "4                309               114               590  38.702308   \n",
       "\n",
       "    longitude  total_lifts  \n",
       "0 -120.235705           36  \n",
       "1 -118.972079           25  \n",
       "2 -120.354182            8  \n",
       "3 -120.354182           12  \n",
       "4 -120.072244           13  \n",
       "\n",
       "[5 rows x 83 columns]"
      ]
     },
     "execution_count": 97,
     "metadata": {},
     "output_type": "execute_result"
    }
   ],
   "source": [
    "content_matrix.head()"
   ]
  },
  {
   "cell_type": "markdown",
   "metadata": {},
   "source": [
    "### One Hot Encoding Categorical Variables\n",
    "\n",
    "I will be one hot encoding the state column, as this is the only column in the dataframe that is a caterogial values. I would like to keep this in the final model, as the location of a resort often plays an important role in deciding where to ski."
   ]
  },
  {
   "cell_type": "code",
   "execution_count": 98,
   "metadata": {},
   "outputs": [],
   "source": [
    "# Instantiating OHE\n",
    "ohe = OneHotEncoder()\n",
    "\n",
    "# fit and transforming\n",
    "ohe_state = pd.DataFrame(ohe.fit_transform(content_matrix[['state']]).toarray())\n",
    "\n",
    "# renaming based on original names\n",
    "ohe_state.columns = ohe.get_feature_names(['state'])"
   ]
  },
  {
   "cell_type": "code",
   "execution_count": 99,
   "metadata": {},
   "outputs": [
    {
     "data": {
      "text/html": [
       "<div>\n",
       "<style scoped>\n",
       "    .dataframe tbody tr th:only-of-type {\n",
       "        vertical-align: middle;\n",
       "    }\n",
       "\n",
       "    .dataframe tbody tr th {\n",
       "        vertical-align: top;\n",
       "    }\n",
       "\n",
       "    .dataframe thead th {\n",
       "        text-align: right;\n",
       "    }\n",
       "</style>\n",
       "<table border=\"1\" class=\"dataframe\">\n",
       "  <thead>\n",
       "    <tr style=\"text-align: right;\">\n",
       "      <th></th>\n",
       "      <th>state_Alaska</th>\n",
       "      <th>state_Arizona</th>\n",
       "      <th>state_California</th>\n",
       "      <th>state_Colorado</th>\n",
       "      <th>state_Connecticut</th>\n",
       "      <th>state_Idaho</th>\n",
       "      <th>state_Illinois</th>\n",
       "      <th>state_Indiana</th>\n",
       "      <th>state_Iowa</th>\n",
       "      <th>state_Maine</th>\n",
       "      <th>...</th>\n",
       "      <th>state_Rhode Island</th>\n",
       "      <th>state_South Dakota</th>\n",
       "      <th>state_Tennessee</th>\n",
       "      <th>state_Utah</th>\n",
       "      <th>state_Vermont</th>\n",
       "      <th>state_Virginia</th>\n",
       "      <th>state_Washington</th>\n",
       "      <th>state_West Virginia</th>\n",
       "      <th>state_Wisconsin</th>\n",
       "      <th>state_Wyoming</th>\n",
       "    </tr>\n",
       "  </thead>\n",
       "  <tbody>\n",
       "    <tr>\n",
       "      <th>0</th>\n",
       "      <td>0.0</td>\n",
       "      <td>0.0</td>\n",
       "      <td>1.0</td>\n",
       "      <td>0.0</td>\n",
       "      <td>0.0</td>\n",
       "      <td>0.0</td>\n",
       "      <td>0.0</td>\n",
       "      <td>0.0</td>\n",
       "      <td>0.0</td>\n",
       "      <td>0.0</td>\n",
       "      <td>...</td>\n",
       "      <td>0.0</td>\n",
       "      <td>0.0</td>\n",
       "      <td>0.0</td>\n",
       "      <td>0.0</td>\n",
       "      <td>0.0</td>\n",
       "      <td>0.0</td>\n",
       "      <td>0.0</td>\n",
       "      <td>0.0</td>\n",
       "      <td>0.0</td>\n",
       "      <td>0.0</td>\n",
       "    </tr>\n",
       "    <tr>\n",
       "      <th>1</th>\n",
       "      <td>0.0</td>\n",
       "      <td>0.0</td>\n",
       "      <td>1.0</td>\n",
       "      <td>0.0</td>\n",
       "      <td>0.0</td>\n",
       "      <td>0.0</td>\n",
       "      <td>0.0</td>\n",
       "      <td>0.0</td>\n",
       "      <td>0.0</td>\n",
       "      <td>0.0</td>\n",
       "      <td>...</td>\n",
       "      <td>0.0</td>\n",
       "      <td>0.0</td>\n",
       "      <td>0.0</td>\n",
       "      <td>0.0</td>\n",
       "      <td>0.0</td>\n",
       "      <td>0.0</td>\n",
       "      <td>0.0</td>\n",
       "      <td>0.0</td>\n",
       "      <td>0.0</td>\n",
       "      <td>0.0</td>\n",
       "    </tr>\n",
       "    <tr>\n",
       "      <th>2</th>\n",
       "      <td>0.0</td>\n",
       "      <td>0.0</td>\n",
       "      <td>1.0</td>\n",
       "      <td>0.0</td>\n",
       "      <td>0.0</td>\n",
       "      <td>0.0</td>\n",
       "      <td>0.0</td>\n",
       "      <td>0.0</td>\n",
       "      <td>0.0</td>\n",
       "      <td>0.0</td>\n",
       "      <td>...</td>\n",
       "      <td>0.0</td>\n",
       "      <td>0.0</td>\n",
       "      <td>0.0</td>\n",
       "      <td>0.0</td>\n",
       "      <td>0.0</td>\n",
       "      <td>0.0</td>\n",
       "      <td>0.0</td>\n",
       "      <td>0.0</td>\n",
       "      <td>0.0</td>\n",
       "      <td>0.0</td>\n",
       "    </tr>\n",
       "    <tr>\n",
       "      <th>3</th>\n",
       "      <td>0.0</td>\n",
       "      <td>0.0</td>\n",
       "      <td>1.0</td>\n",
       "      <td>0.0</td>\n",
       "      <td>0.0</td>\n",
       "      <td>0.0</td>\n",
       "      <td>0.0</td>\n",
       "      <td>0.0</td>\n",
       "      <td>0.0</td>\n",
       "      <td>0.0</td>\n",
       "      <td>...</td>\n",
       "      <td>0.0</td>\n",
       "      <td>0.0</td>\n",
       "      <td>0.0</td>\n",
       "      <td>0.0</td>\n",
       "      <td>0.0</td>\n",
       "      <td>0.0</td>\n",
       "      <td>0.0</td>\n",
       "      <td>0.0</td>\n",
       "      <td>0.0</td>\n",
       "      <td>0.0</td>\n",
       "    </tr>\n",
       "    <tr>\n",
       "      <th>4</th>\n",
       "      <td>0.0</td>\n",
       "      <td>0.0</td>\n",
       "      <td>1.0</td>\n",
       "      <td>0.0</td>\n",
       "      <td>0.0</td>\n",
       "      <td>0.0</td>\n",
       "      <td>0.0</td>\n",
       "      <td>0.0</td>\n",
       "      <td>0.0</td>\n",
       "      <td>0.0</td>\n",
       "      <td>...</td>\n",
       "      <td>0.0</td>\n",
       "      <td>0.0</td>\n",
       "      <td>0.0</td>\n",
       "      <td>0.0</td>\n",
       "      <td>0.0</td>\n",
       "      <td>0.0</td>\n",
       "      <td>0.0</td>\n",
       "      <td>0.0</td>\n",
       "      <td>0.0</td>\n",
       "      <td>0.0</td>\n",
       "    </tr>\n",
       "    <tr>\n",
       "      <th>...</th>\n",
       "      <td>...</td>\n",
       "      <td>...</td>\n",
       "      <td>...</td>\n",
       "      <td>...</td>\n",
       "      <td>...</td>\n",
       "      <td>...</td>\n",
       "      <td>...</td>\n",
       "      <td>...</td>\n",
       "      <td>...</td>\n",
       "      <td>...</td>\n",
       "      <td>...</td>\n",
       "      <td>...</td>\n",
       "      <td>...</td>\n",
       "      <td>...</td>\n",
       "      <td>...</td>\n",
       "      <td>...</td>\n",
       "      <td>...</td>\n",
       "      <td>...</td>\n",
       "      <td>...</td>\n",
       "      <td>...</td>\n",
       "      <td>...</td>\n",
       "    </tr>\n",
       "    <tr>\n",
       "      <th>325</th>\n",
       "      <td>0.0</td>\n",
       "      <td>0.0</td>\n",
       "      <td>0.0</td>\n",
       "      <td>0.0</td>\n",
       "      <td>0.0</td>\n",
       "      <td>0.0</td>\n",
       "      <td>0.0</td>\n",
       "      <td>0.0</td>\n",
       "      <td>0.0</td>\n",
       "      <td>0.0</td>\n",
       "      <td>...</td>\n",
       "      <td>0.0</td>\n",
       "      <td>0.0</td>\n",
       "      <td>0.0</td>\n",
       "      <td>0.0</td>\n",
       "      <td>0.0</td>\n",
       "      <td>0.0</td>\n",
       "      <td>0.0</td>\n",
       "      <td>0.0</td>\n",
       "      <td>0.0</td>\n",
       "      <td>0.0</td>\n",
       "    </tr>\n",
       "    <tr>\n",
       "      <th>326</th>\n",
       "      <td>0.0</td>\n",
       "      <td>0.0</td>\n",
       "      <td>0.0</td>\n",
       "      <td>0.0</td>\n",
       "      <td>0.0</td>\n",
       "      <td>0.0</td>\n",
       "      <td>0.0</td>\n",
       "      <td>0.0</td>\n",
       "      <td>0.0</td>\n",
       "      <td>0.0</td>\n",
       "      <td>...</td>\n",
       "      <td>0.0</td>\n",
       "      <td>0.0</td>\n",
       "      <td>0.0</td>\n",
       "      <td>0.0</td>\n",
       "      <td>0.0</td>\n",
       "      <td>0.0</td>\n",
       "      <td>0.0</td>\n",
       "      <td>0.0</td>\n",
       "      <td>0.0</td>\n",
       "      <td>0.0</td>\n",
       "    </tr>\n",
       "    <tr>\n",
       "      <th>327</th>\n",
       "      <td>0.0</td>\n",
       "      <td>0.0</td>\n",
       "      <td>0.0</td>\n",
       "      <td>0.0</td>\n",
       "      <td>0.0</td>\n",
       "      <td>0.0</td>\n",
       "      <td>0.0</td>\n",
       "      <td>0.0</td>\n",
       "      <td>0.0</td>\n",
       "      <td>0.0</td>\n",
       "      <td>...</td>\n",
       "      <td>0.0</td>\n",
       "      <td>0.0</td>\n",
       "      <td>0.0</td>\n",
       "      <td>0.0</td>\n",
       "      <td>0.0</td>\n",
       "      <td>0.0</td>\n",
       "      <td>0.0</td>\n",
       "      <td>0.0</td>\n",
       "      <td>0.0</td>\n",
       "      <td>0.0</td>\n",
       "    </tr>\n",
       "    <tr>\n",
       "      <th>328</th>\n",
       "      <td>0.0</td>\n",
       "      <td>0.0</td>\n",
       "      <td>0.0</td>\n",
       "      <td>0.0</td>\n",
       "      <td>1.0</td>\n",
       "      <td>0.0</td>\n",
       "      <td>0.0</td>\n",
       "      <td>0.0</td>\n",
       "      <td>0.0</td>\n",
       "      <td>0.0</td>\n",
       "      <td>...</td>\n",
       "      <td>0.0</td>\n",
       "      <td>0.0</td>\n",
       "      <td>0.0</td>\n",
       "      <td>0.0</td>\n",
       "      <td>0.0</td>\n",
       "      <td>0.0</td>\n",
       "      <td>0.0</td>\n",
       "      <td>0.0</td>\n",
       "      <td>0.0</td>\n",
       "      <td>0.0</td>\n",
       "    </tr>\n",
       "    <tr>\n",
       "      <th>329</th>\n",
       "      <td>0.0</td>\n",
       "      <td>0.0</td>\n",
       "      <td>0.0</td>\n",
       "      <td>0.0</td>\n",
       "      <td>0.0</td>\n",
       "      <td>0.0</td>\n",
       "      <td>0.0</td>\n",
       "      <td>0.0</td>\n",
       "      <td>0.0</td>\n",
       "      <td>0.0</td>\n",
       "      <td>...</td>\n",
       "      <td>0.0</td>\n",
       "      <td>0.0</td>\n",
       "      <td>0.0</td>\n",
       "      <td>0.0</td>\n",
       "      <td>0.0</td>\n",
       "      <td>0.0</td>\n",
       "      <td>0.0</td>\n",
       "      <td>0.0</td>\n",
       "      <td>0.0</td>\n",
       "      <td>0.0</td>\n",
       "    </tr>\n",
       "  </tbody>\n",
       "</table>\n",
       "<p>330 rows × 35 columns</p>\n",
       "</div>"
      ],
      "text/plain": [
       "     state_Alaska  state_Arizona  state_California  state_Colorado  \\\n",
       "0             0.0            0.0               1.0             0.0   \n",
       "1             0.0            0.0               1.0             0.0   \n",
       "2             0.0            0.0               1.0             0.0   \n",
       "3             0.0            0.0               1.0             0.0   \n",
       "4             0.0            0.0               1.0             0.0   \n",
       "..            ...            ...               ...             ...   \n",
       "325           0.0            0.0               0.0             0.0   \n",
       "326           0.0            0.0               0.0             0.0   \n",
       "327           0.0            0.0               0.0             0.0   \n",
       "328           0.0            0.0               0.0             0.0   \n",
       "329           0.0            0.0               0.0             0.0   \n",
       "\n",
       "     state_Connecticut  state_Idaho  state_Illinois  state_Indiana  \\\n",
       "0                  0.0          0.0             0.0            0.0   \n",
       "1                  0.0          0.0             0.0            0.0   \n",
       "2                  0.0          0.0             0.0            0.0   \n",
       "3                  0.0          0.0             0.0            0.0   \n",
       "4                  0.0          0.0             0.0            0.0   \n",
       "..                 ...          ...             ...            ...   \n",
       "325                0.0          0.0             0.0            0.0   \n",
       "326                0.0          0.0             0.0            0.0   \n",
       "327                0.0          0.0             0.0            0.0   \n",
       "328                1.0          0.0             0.0            0.0   \n",
       "329                0.0          0.0             0.0            0.0   \n",
       "\n",
       "     state_Iowa  state_Maine  ...  state_Rhode Island  state_South Dakota  \\\n",
       "0           0.0          0.0  ...                 0.0                 0.0   \n",
       "1           0.0          0.0  ...                 0.0                 0.0   \n",
       "2           0.0          0.0  ...                 0.0                 0.0   \n",
       "3           0.0          0.0  ...                 0.0                 0.0   \n",
       "4           0.0          0.0  ...                 0.0                 0.0   \n",
       "..          ...          ...  ...                 ...                 ...   \n",
       "325         0.0          0.0  ...                 0.0                 0.0   \n",
       "326         0.0          0.0  ...                 0.0                 0.0   \n",
       "327         0.0          0.0  ...                 0.0                 0.0   \n",
       "328         0.0          0.0  ...                 0.0                 0.0   \n",
       "329         0.0          0.0  ...                 0.0                 0.0   \n",
       "\n",
       "     state_Tennessee  state_Utah  state_Vermont  state_Virginia  \\\n",
       "0                0.0         0.0            0.0             0.0   \n",
       "1                0.0         0.0            0.0             0.0   \n",
       "2                0.0         0.0            0.0             0.0   \n",
       "3                0.0         0.0            0.0             0.0   \n",
       "4                0.0         0.0            0.0             0.0   \n",
       "..               ...         ...            ...             ...   \n",
       "325              0.0         0.0            0.0             0.0   \n",
       "326              0.0         0.0            0.0             0.0   \n",
       "327              0.0         0.0            0.0             0.0   \n",
       "328              0.0         0.0            0.0             0.0   \n",
       "329              0.0         0.0            0.0             0.0   \n",
       "\n",
       "     state_Washington  state_West Virginia  state_Wisconsin  state_Wyoming  \n",
       "0                 0.0                  0.0              0.0            0.0  \n",
       "1                 0.0                  0.0              0.0            0.0  \n",
       "2                 0.0                  0.0              0.0            0.0  \n",
       "3                 0.0                  0.0              0.0            0.0  \n",
       "4                 0.0                  0.0              0.0            0.0  \n",
       "..                ...                  ...              ...            ...  \n",
       "325               0.0                  0.0              0.0            0.0  \n",
       "326               0.0                  0.0              0.0            0.0  \n",
       "327               0.0                  0.0              0.0            0.0  \n",
       "328               0.0                  0.0              0.0            0.0  \n",
       "329               0.0                  0.0              0.0            0.0  \n",
       "\n",
       "[330 rows x 35 columns]"
      ]
     },
     "execution_count": 99,
     "metadata": {},
     "output_type": "execute_result"
    }
   ],
   "source": [
    "ohe_state"
   ]
  },
  {
   "cell_type": "code",
   "execution_count": 100,
   "metadata": {},
   "outputs": [],
   "source": [
    "#setting index\n",
    "ohe_state = ohe_state.set_index(content_matrix['ski_resort'])"
   ]
  },
  {
   "cell_type": "code",
   "execution_count": 101,
   "metadata": {},
   "outputs": [
    {
     "data": {
      "text/html": [
       "<div>\n",
       "<style scoped>\n",
       "    .dataframe tbody tr th:only-of-type {\n",
       "        vertical-align: middle;\n",
       "    }\n",
       "\n",
       "    .dataframe tbody tr th {\n",
       "        vertical-align: top;\n",
       "    }\n",
       "\n",
       "    .dataframe thead th {\n",
       "        text-align: right;\n",
       "    }\n",
       "</style>\n",
       "<table border=\"1\" class=\"dataframe\">\n",
       "  <thead>\n",
       "    <tr style=\"text-align: right;\">\n",
       "      <th></th>\n",
       "      <th>state_Alaska</th>\n",
       "      <th>state_Arizona</th>\n",
       "      <th>state_California</th>\n",
       "      <th>state_Colorado</th>\n",
       "      <th>state_Connecticut</th>\n",
       "      <th>state_Idaho</th>\n",
       "      <th>state_Illinois</th>\n",
       "      <th>state_Indiana</th>\n",
       "      <th>state_Iowa</th>\n",
       "      <th>state_Maine</th>\n",
       "      <th>...</th>\n",
       "      <th>state_Rhode Island</th>\n",
       "      <th>state_South Dakota</th>\n",
       "      <th>state_Tennessee</th>\n",
       "      <th>state_Utah</th>\n",
       "      <th>state_Vermont</th>\n",
       "      <th>state_Virginia</th>\n",
       "      <th>state_Washington</th>\n",
       "      <th>state_West Virginia</th>\n",
       "      <th>state_Wisconsin</th>\n",
       "      <th>state_Wyoming</th>\n",
       "    </tr>\n",
       "    <tr>\n",
       "      <th>ski_resort</th>\n",
       "      <th></th>\n",
       "      <th></th>\n",
       "      <th></th>\n",
       "      <th></th>\n",
       "      <th></th>\n",
       "      <th></th>\n",
       "      <th></th>\n",
       "      <th></th>\n",
       "      <th></th>\n",
       "      <th></th>\n",
       "      <th></th>\n",
       "      <th></th>\n",
       "      <th></th>\n",
       "      <th></th>\n",
       "      <th></th>\n",
       "      <th></th>\n",
       "      <th></th>\n",
       "      <th></th>\n",
       "      <th></th>\n",
       "      <th></th>\n",
       "      <th></th>\n",
       "    </tr>\n",
       "  </thead>\n",
       "  <tbody>\n",
       "    <tr>\n",
       "      <th>Palisades Tahoe</th>\n",
       "      <td>0.0</td>\n",
       "      <td>0.0</td>\n",
       "      <td>1.0</td>\n",
       "      <td>0.0</td>\n",
       "      <td>0.0</td>\n",
       "      <td>0.0</td>\n",
       "      <td>0.0</td>\n",
       "      <td>0.0</td>\n",
       "      <td>0.0</td>\n",
       "      <td>0.0</td>\n",
       "      <td>...</td>\n",
       "      <td>0.0</td>\n",
       "      <td>0.0</td>\n",
       "      <td>0.0</td>\n",
       "      <td>0.0</td>\n",
       "      <td>0.0</td>\n",
       "      <td>0.0</td>\n",
       "      <td>0.0</td>\n",
       "      <td>0.0</td>\n",
       "      <td>0.0</td>\n",
       "      <td>0.0</td>\n",
       "    </tr>\n",
       "    <tr>\n",
       "      <th>Mammoth Mountain</th>\n",
       "      <td>0.0</td>\n",
       "      <td>0.0</td>\n",
       "      <td>1.0</td>\n",
       "      <td>0.0</td>\n",
       "      <td>0.0</td>\n",
       "      <td>0.0</td>\n",
       "      <td>0.0</td>\n",
       "      <td>0.0</td>\n",
       "      <td>0.0</td>\n",
       "      <td>0.0</td>\n",
       "      <td>...</td>\n",
       "      <td>0.0</td>\n",
       "      <td>0.0</td>\n",
       "      <td>0.0</td>\n",
       "      <td>0.0</td>\n",
       "      <td>0.0</td>\n",
       "      <td>0.0</td>\n",
       "      <td>0.0</td>\n",
       "      <td>0.0</td>\n",
       "      <td>0.0</td>\n",
       "      <td>0.0</td>\n",
       "    </tr>\n",
       "    <tr>\n",
       "      <th>Donner Ski Ranch</th>\n",
       "      <td>0.0</td>\n",
       "      <td>0.0</td>\n",
       "      <td>1.0</td>\n",
       "      <td>0.0</td>\n",
       "      <td>0.0</td>\n",
       "      <td>0.0</td>\n",
       "      <td>0.0</td>\n",
       "      <td>0.0</td>\n",
       "      <td>0.0</td>\n",
       "      <td>0.0</td>\n",
       "      <td>...</td>\n",
       "      <td>0.0</td>\n",
       "      <td>0.0</td>\n",
       "      <td>0.0</td>\n",
       "      <td>0.0</td>\n",
       "      <td>0.0</td>\n",
       "      <td>0.0</td>\n",
       "      <td>0.0</td>\n",
       "      <td>0.0</td>\n",
       "      <td>0.0</td>\n",
       "      <td>0.0</td>\n",
       "    </tr>\n",
       "    <tr>\n",
       "      <th>Sugar Bowl</th>\n",
       "      <td>0.0</td>\n",
       "      <td>0.0</td>\n",
       "      <td>1.0</td>\n",
       "      <td>0.0</td>\n",
       "      <td>0.0</td>\n",
       "      <td>0.0</td>\n",
       "      <td>0.0</td>\n",
       "      <td>0.0</td>\n",
       "      <td>0.0</td>\n",
       "      <td>0.0</td>\n",
       "      <td>...</td>\n",
       "      <td>0.0</td>\n",
       "      <td>0.0</td>\n",
       "      <td>0.0</td>\n",
       "      <td>0.0</td>\n",
       "      <td>0.0</td>\n",
       "      <td>0.0</td>\n",
       "      <td>0.0</td>\n",
       "      <td>0.0</td>\n",
       "      <td>0.0</td>\n",
       "      <td>0.0</td>\n",
       "    </tr>\n",
       "    <tr>\n",
       "      <th>Kirkwood</th>\n",
       "      <td>0.0</td>\n",
       "      <td>0.0</td>\n",
       "      <td>1.0</td>\n",
       "      <td>0.0</td>\n",
       "      <td>0.0</td>\n",
       "      <td>0.0</td>\n",
       "      <td>0.0</td>\n",
       "      <td>0.0</td>\n",
       "      <td>0.0</td>\n",
       "      <td>0.0</td>\n",
       "      <td>...</td>\n",
       "      <td>0.0</td>\n",
       "      <td>0.0</td>\n",
       "      <td>0.0</td>\n",
       "      <td>0.0</td>\n",
       "      <td>0.0</td>\n",
       "      <td>0.0</td>\n",
       "      <td>0.0</td>\n",
       "      <td>0.0</td>\n",
       "      <td>0.0</td>\n",
       "      <td>0.0</td>\n",
       "    </tr>\n",
       "    <tr>\n",
       "      <th>...</th>\n",
       "      <td>...</td>\n",
       "      <td>...</td>\n",
       "      <td>...</td>\n",
       "      <td>...</td>\n",
       "      <td>...</td>\n",
       "      <td>...</td>\n",
       "      <td>...</td>\n",
       "      <td>...</td>\n",
       "      <td>...</td>\n",
       "      <td>...</td>\n",
       "      <td>...</td>\n",
       "      <td>...</td>\n",
       "      <td>...</td>\n",
       "      <td>...</td>\n",
       "      <td>...</td>\n",
       "      <td>...</td>\n",
       "      <td>...</td>\n",
       "      <td>...</td>\n",
       "      <td>...</td>\n",
       "      <td>...</td>\n",
       "      <td>...</td>\n",
       "    </tr>\n",
       "    <tr>\n",
       "      <th>Oak Mountain</th>\n",
       "      <td>0.0</td>\n",
       "      <td>0.0</td>\n",
       "      <td>0.0</td>\n",
       "      <td>0.0</td>\n",
       "      <td>0.0</td>\n",
       "      <td>0.0</td>\n",
       "      <td>0.0</td>\n",
       "      <td>0.0</td>\n",
       "      <td>0.0</td>\n",
       "      <td>0.0</td>\n",
       "      <td>...</td>\n",
       "      <td>0.0</td>\n",
       "      <td>0.0</td>\n",
       "      <td>0.0</td>\n",
       "      <td>0.0</td>\n",
       "      <td>0.0</td>\n",
       "      <td>0.0</td>\n",
       "      <td>0.0</td>\n",
       "      <td>0.0</td>\n",
       "      <td>0.0</td>\n",
       "      <td>0.0</td>\n",
       "    </tr>\n",
       "    <tr>\n",
       "      <th>Mt. Pleasant</th>\n",
       "      <td>0.0</td>\n",
       "      <td>0.0</td>\n",
       "      <td>0.0</td>\n",
       "      <td>0.0</td>\n",
       "      <td>0.0</td>\n",
       "      <td>0.0</td>\n",
       "      <td>0.0</td>\n",
       "      <td>0.0</td>\n",
       "      <td>0.0</td>\n",
       "      <td>0.0</td>\n",
       "      <td>...</td>\n",
       "      <td>0.0</td>\n",
       "      <td>0.0</td>\n",
       "      <td>0.0</td>\n",
       "      <td>0.0</td>\n",
       "      <td>0.0</td>\n",
       "      <td>0.0</td>\n",
       "      <td>0.0</td>\n",
       "      <td>0.0</td>\n",
       "      <td>0.0</td>\n",
       "      <td>0.0</td>\n",
       "    </tr>\n",
       "    <tr>\n",
       "      <th>Hunt Hollow</th>\n",
       "      <td>0.0</td>\n",
       "      <td>0.0</td>\n",
       "      <td>0.0</td>\n",
       "      <td>0.0</td>\n",
       "      <td>0.0</td>\n",
       "      <td>0.0</td>\n",
       "      <td>0.0</td>\n",
       "      <td>0.0</td>\n",
       "      <td>0.0</td>\n",
       "      <td>0.0</td>\n",
       "      <td>...</td>\n",
       "      <td>0.0</td>\n",
       "      <td>0.0</td>\n",
       "      <td>0.0</td>\n",
       "      <td>0.0</td>\n",
       "      <td>0.0</td>\n",
       "      <td>0.0</td>\n",
       "      <td>0.0</td>\n",
       "      <td>0.0</td>\n",
       "      <td>0.0</td>\n",
       "      <td>0.0</td>\n",
       "    </tr>\n",
       "    <tr>\n",
       "      <th>Powder Ridge Connecticut</th>\n",
       "      <td>0.0</td>\n",
       "      <td>0.0</td>\n",
       "      <td>0.0</td>\n",
       "      <td>0.0</td>\n",
       "      <td>1.0</td>\n",
       "      <td>0.0</td>\n",
       "      <td>0.0</td>\n",
       "      <td>0.0</td>\n",
       "      <td>0.0</td>\n",
       "      <td>0.0</td>\n",
       "      <td>...</td>\n",
       "      <td>0.0</td>\n",
       "      <td>0.0</td>\n",
       "      <td>0.0</td>\n",
       "      <td>0.0</td>\n",
       "      <td>0.0</td>\n",
       "      <td>0.0</td>\n",
       "      <td>0.0</td>\n",
       "      <td>0.0</td>\n",
       "      <td>0.0</td>\n",
       "      <td>0.0</td>\n",
       "    </tr>\n",
       "    <tr>\n",
       "      <th>Shawnee Mountain</th>\n",
       "      <td>0.0</td>\n",
       "      <td>0.0</td>\n",
       "      <td>0.0</td>\n",
       "      <td>0.0</td>\n",
       "      <td>0.0</td>\n",
       "      <td>0.0</td>\n",
       "      <td>0.0</td>\n",
       "      <td>0.0</td>\n",
       "      <td>0.0</td>\n",
       "      <td>0.0</td>\n",
       "      <td>...</td>\n",
       "      <td>0.0</td>\n",
       "      <td>0.0</td>\n",
       "      <td>0.0</td>\n",
       "      <td>0.0</td>\n",
       "      <td>0.0</td>\n",
       "      <td>0.0</td>\n",
       "      <td>0.0</td>\n",
       "      <td>0.0</td>\n",
       "      <td>0.0</td>\n",
       "      <td>0.0</td>\n",
       "    </tr>\n",
       "  </tbody>\n",
       "</table>\n",
       "<p>330 rows × 35 columns</p>\n",
       "</div>"
      ],
      "text/plain": [
       "                          state_Alaska  state_Arizona  state_California  \\\n",
       "ski_resort                                                                \n",
       "Palisades Tahoe                    0.0            0.0               1.0   \n",
       "Mammoth Mountain                   0.0            0.0               1.0   \n",
       "Donner Ski Ranch                   0.0            0.0               1.0   \n",
       "Sugar Bowl                         0.0            0.0               1.0   \n",
       "Kirkwood                           0.0            0.0               1.0   \n",
       "...                                ...            ...               ...   \n",
       "Oak Mountain                       0.0            0.0               0.0   \n",
       "Mt. Pleasant                       0.0            0.0               0.0   \n",
       "Hunt Hollow                        0.0            0.0               0.0   \n",
       "Powder Ridge Connecticut           0.0            0.0               0.0   \n",
       "Shawnee Mountain                   0.0            0.0               0.0   \n",
       "\n",
       "                          state_Colorado  state_Connecticut  state_Idaho  \\\n",
       "ski_resort                                                                 \n",
       "Palisades Tahoe                      0.0                0.0          0.0   \n",
       "Mammoth Mountain                     0.0                0.0          0.0   \n",
       "Donner Ski Ranch                     0.0                0.0          0.0   \n",
       "Sugar Bowl                           0.0                0.0          0.0   \n",
       "Kirkwood                             0.0                0.0          0.0   \n",
       "...                                  ...                ...          ...   \n",
       "Oak Mountain                         0.0                0.0          0.0   \n",
       "Mt. Pleasant                         0.0                0.0          0.0   \n",
       "Hunt Hollow                          0.0                0.0          0.0   \n",
       "Powder Ridge Connecticut             0.0                1.0          0.0   \n",
       "Shawnee Mountain                     0.0                0.0          0.0   \n",
       "\n",
       "                          state_Illinois  state_Indiana  state_Iowa  \\\n",
       "ski_resort                                                            \n",
       "Palisades Tahoe                      0.0            0.0         0.0   \n",
       "Mammoth Mountain                     0.0            0.0         0.0   \n",
       "Donner Ski Ranch                     0.0            0.0         0.0   \n",
       "Sugar Bowl                           0.0            0.0         0.0   \n",
       "Kirkwood                             0.0            0.0         0.0   \n",
       "...                                  ...            ...         ...   \n",
       "Oak Mountain                         0.0            0.0         0.0   \n",
       "Mt. Pleasant                         0.0            0.0         0.0   \n",
       "Hunt Hollow                          0.0            0.0         0.0   \n",
       "Powder Ridge Connecticut             0.0            0.0         0.0   \n",
       "Shawnee Mountain                     0.0            0.0         0.0   \n",
       "\n",
       "                          state_Maine  ...  state_Rhode Island  \\\n",
       "ski_resort                             ...                       \n",
       "Palisades Tahoe                   0.0  ...                 0.0   \n",
       "Mammoth Mountain                  0.0  ...                 0.0   \n",
       "Donner Ski Ranch                  0.0  ...                 0.0   \n",
       "Sugar Bowl                        0.0  ...                 0.0   \n",
       "Kirkwood                          0.0  ...                 0.0   \n",
       "...                               ...  ...                 ...   \n",
       "Oak Mountain                      0.0  ...                 0.0   \n",
       "Mt. Pleasant                      0.0  ...                 0.0   \n",
       "Hunt Hollow                       0.0  ...                 0.0   \n",
       "Powder Ridge Connecticut          0.0  ...                 0.0   \n",
       "Shawnee Mountain                  0.0  ...                 0.0   \n",
       "\n",
       "                          state_South Dakota  state_Tennessee  state_Utah  \\\n",
       "ski_resort                                                                  \n",
       "Palisades Tahoe                          0.0              0.0         0.0   \n",
       "Mammoth Mountain                         0.0              0.0         0.0   \n",
       "Donner Ski Ranch                         0.0              0.0         0.0   \n",
       "Sugar Bowl                               0.0              0.0         0.0   \n",
       "Kirkwood                                 0.0              0.0         0.0   \n",
       "...                                      ...              ...         ...   \n",
       "Oak Mountain                             0.0              0.0         0.0   \n",
       "Mt. Pleasant                             0.0              0.0         0.0   \n",
       "Hunt Hollow                              0.0              0.0         0.0   \n",
       "Powder Ridge Connecticut                 0.0              0.0         0.0   \n",
       "Shawnee Mountain                         0.0              0.0         0.0   \n",
       "\n",
       "                          state_Vermont  state_Virginia  state_Washington  \\\n",
       "ski_resort                                                                  \n",
       "Palisades Tahoe                     0.0             0.0               0.0   \n",
       "Mammoth Mountain                    0.0             0.0               0.0   \n",
       "Donner Ski Ranch                    0.0             0.0               0.0   \n",
       "Sugar Bowl                          0.0             0.0               0.0   \n",
       "Kirkwood                            0.0             0.0               0.0   \n",
       "...                                 ...             ...               ...   \n",
       "Oak Mountain                        0.0             0.0               0.0   \n",
       "Mt. Pleasant                        0.0             0.0               0.0   \n",
       "Hunt Hollow                         0.0             0.0               0.0   \n",
       "Powder Ridge Connecticut            0.0             0.0               0.0   \n",
       "Shawnee Mountain                    0.0             0.0               0.0   \n",
       "\n",
       "                          state_West Virginia  state_Wisconsin  state_Wyoming  \n",
       "ski_resort                                                                     \n",
       "Palisades Tahoe                           0.0              0.0            0.0  \n",
       "Mammoth Mountain                          0.0              0.0            0.0  \n",
       "Donner Ski Ranch                          0.0              0.0            0.0  \n",
       "Sugar Bowl                                0.0              0.0            0.0  \n",
       "Kirkwood                                  0.0              0.0            0.0  \n",
       "...                                       ...              ...            ...  \n",
       "Oak Mountain                              0.0              0.0            0.0  \n",
       "Mt. Pleasant                              0.0              0.0            0.0  \n",
       "Hunt Hollow                               0.0              0.0            0.0  \n",
       "Powder Ridge Connecticut                  0.0              0.0            0.0  \n",
       "Shawnee Mountain                          0.0              0.0            0.0  \n",
       "\n",
       "[330 rows x 35 columns]"
      ]
     },
     "execution_count": 101,
     "metadata": {},
     "output_type": "execute_result"
    }
   ],
   "source": [
    "ohe_state"
   ]
  },
  {
   "cell_type": "code",
   "execution_count": 102,
   "metadata": {
    "scrolled": false
   },
   "outputs": [],
   "source": [
    "#resetting index as ski_resort\n",
    "content_matrix = content_matrix.set_index(\"ski_resort\")"
   ]
  },
  {
   "cell_type": "code",
   "execution_count": 103,
   "metadata": {},
   "outputs": [],
   "source": [
    "#dropping state column\n",
    "final_content_matrix = content_matrix.drop(columns=[\"state\", \"city\", 'latitude','longitude'])"
   ]
  },
  {
   "cell_type": "code",
   "execution_count": 104,
   "metadata": {},
   "outputs": [],
   "source": [
    "#filling null matrix values with 0\n",
    "final_content_matrix = final_content_matrix.fillna(0)"
   ]
  },
  {
   "cell_type": "code",
   "execution_count": 105,
   "metadata": {},
   "outputs": [
    {
     "name": "stdout",
     "output_type": "stream",
     "text": [
      "<class 'pandas.core.frame.DataFrame'>\n",
      "Index: 330 entries, Palisades Tahoe to Shawnee Mountain\n",
      "Data columns (total 78 columns):\n",
      " #   Column                Non-Null Count  Dtype  \n",
      "---  ------                --------------  -----  \n",
      " 0   summit                330 non-null    int64  \n",
      " 1   drop                  330 non-null    int64  \n",
      " 2   base                  330 non-null    int64  \n",
      " 3   gondolas_and_trams    330 non-null    int64  \n",
      " 4   fast_eight            330 non-null    int64  \n",
      " 5   high_speed_sixes      330 non-null    int64  \n",
      " 6   quad_chairs           330 non-null    int64  \n",
      " 7   triple_chairs         330 non-null    int64  \n",
      " 8   double_chairs         330 non-null    int64  \n",
      " 9   surface_lifts         330 non-null    int64  \n",
      " 10  total_runs            330 non-null    int64  \n",
      " 11  longest_run           330 non-null    int64  \n",
      " 12  skiable_terrain       330 non-null    int64  \n",
      " 13  snow_making           330 non-null    int64  \n",
      " 14  averageSnowfall       330 non-null    int64  \n",
      " 15  nov_snow              330 non-null    int64  \n",
      " 16  dec_snow              330 non-null    int64  \n",
      " 17  jan_snow              330 non-null    int64  \n",
      " 18  feb_snow              330 non-null    int64  \n",
      " 19  mar_snow              330 non-null    int64  \n",
      " 20  apr_snow              330 non-null    int64  \n",
      " 21  childrenWeekdayPrice  330 non-null    float64\n",
      " 22  childrenWeekendPrice  330 non-null    float64\n",
      " 23  teenagerWeekdayPrice  330 non-null    float64\n",
      " 24  teenagerWeekendPrice  330 non-null    float64\n",
      " 25  adultWeekdayPrice     330 non-null    float64\n",
      " 26  adultWeekendPrice     330 non-null    float64\n",
      " 27  seniorWeekdayPrice    330 non-null    float64\n",
      " 28  seniorWeekendPrice    330 non-null    float64\n",
      " 29  childrenPrice_season  330 non-null    float64\n",
      " 30  teenagerPrice_season  330 non-null    float64\n",
      " 31  adultPrice_season     330 non-null    float64\n",
      " 32  beginner_runs         330 non-null    int64  \n",
      " 33  intermediate_runs     330 non-null    int64  \n",
      " 34  advanced_runs         330 non-null    int64  \n",
      " 35  expert_runs           330 non-null    float64\n",
      " 36  night_skiing          330 non-null    int64  \n",
      " 37  epic                  330 non-null    int64  \n",
      " 38  mountain_collective   330 non-null    int64  \n",
      " 39  ikon                  330 non-null    int64  \n",
      " 40  indy                  330 non-null    int64  \n",
      " 41  dec_mean_2_guests     330 non-null    int64  \n",
      " 42  dec_min_2_guests      330 non-null    int64  \n",
      " 43  dec_max_2_guests      330 non-null    int64  \n",
      " 44  jan_mean_2_guests     330 non-null    int64  \n",
      " 45  jan_min_2_guests      330 non-null    int64  \n",
      " 46  jan_max_2_guests      330 non-null    int64  \n",
      " 47  feb_mean_2_guests     330 non-null    int64  \n",
      " 48  feb_min_2_guests      330 non-null    int64  \n",
      " 49  feb_max_2_guests      330 non-null    int64  \n",
      " 50  mar_mean_2_guests     330 non-null    int64  \n",
      " 51  mar_min_2_guests      330 non-null    int64  \n",
      " 52  mar_max_2_guests      330 non-null    int64  \n",
      " 53  apr_mean_2_guests     330 non-null    int64  \n",
      " 54  apr_min_2_guests      330 non-null    int64  \n",
      " 55  apr_max_2_guests      330 non-null    int64  \n",
      " 56  may_mean_2_guests     330 non-null    int64  \n",
      " 57  may_min_2_guests      330 non-null    int64  \n",
      " 58  may_max_2_guests      330 non-null    int64  \n",
      " 59  dec_mean_4_guests     330 non-null    int64  \n",
      " 60  dec_min_4_guests      330 non-null    int64  \n",
      " 61  dec_max_4_guests      330 non-null    int64  \n",
      " 62  jan_mean_4_guests     330 non-null    int64  \n",
      " 63  jan_min_4_guests      330 non-null    int64  \n",
      " 64  jan_max_4_guests      330 non-null    int64  \n",
      " 65  feb_mean_4_guests     330 non-null    int64  \n",
      " 66  feb_min_4_guests      330 non-null    int64  \n",
      " 67  feb_max_4_guests      330 non-null    int64  \n",
      " 68  mar_mean_4_guests     330 non-null    int64  \n",
      " 69  mar_min_4_guests      330 non-null    int64  \n",
      " 70  mar_max_4_guests      330 non-null    int64  \n",
      " 71  apr_mean_4_guests     330 non-null    int64  \n",
      " 72  apr_min_4_guests      330 non-null    int64  \n",
      " 73  apr_max_4_guests      330 non-null    int64  \n",
      " 74  may_mean_4_guests     330 non-null    int64  \n",
      " 75  may_min_4_guests      330 non-null    int64  \n",
      " 76  may_max_4_guests      330 non-null    int64  \n",
      " 77  total_lifts           330 non-null    int64  \n",
      "dtypes: float64(12), int64(66)\n",
      "memory usage: 203.7+ KB\n"
     ]
    }
   ],
   "source": [
    "final_content_matrix.info()"
   ]
  },
  {
   "cell_type": "markdown",
   "metadata": {},
   "source": [
    "### Scaling Data"
   ]
  },
  {
   "cell_type": "markdown",
   "metadata": {},
   "source": [
    "I will be using StandardScaler to scale the values in the matrix to ensure they are on the same scale. This is necessary to continue modeling."
   ]
  },
  {
   "cell_type": "code",
   "execution_count": 106,
   "metadata": {},
   "outputs": [],
   "source": [
    "#instantiating minmaxscaler\n",
    "scaler = StandardScaler()\n",
    "\n",
    "#scaling array\n",
    "scaled = scaler.fit_transform(final_content_matrix)\n",
    "\n",
    "#saving as dataframe\n",
    "scaled_ski_df = pd.DataFrame(scaled, index=final_content_matrix.index, columns=final_content_matrix.columns)"
   ]
  },
  {
   "cell_type": "code",
   "execution_count": 107,
   "metadata": {},
   "outputs": [
    {
     "data": {
      "text/html": [
       "<div>\n",
       "<style scoped>\n",
       "    .dataframe tbody tr th:only-of-type {\n",
       "        vertical-align: middle;\n",
       "    }\n",
       "\n",
       "    .dataframe tbody tr th {\n",
       "        vertical-align: top;\n",
       "    }\n",
       "\n",
       "    .dataframe thead th {\n",
       "        text-align: right;\n",
       "    }\n",
       "</style>\n",
       "<table border=\"1\" class=\"dataframe\">\n",
       "  <thead>\n",
       "    <tr style=\"text-align: right;\">\n",
       "      <th></th>\n",
       "      <th>summit</th>\n",
       "      <th>drop</th>\n",
       "      <th>base</th>\n",
       "      <th>gondolas_and_trams</th>\n",
       "      <th>fast_eight</th>\n",
       "      <th>high_speed_sixes</th>\n",
       "      <th>quad_chairs</th>\n",
       "      <th>triple_chairs</th>\n",
       "      <th>double_chairs</th>\n",
       "      <th>surface_lifts</th>\n",
       "      <th>...</th>\n",
       "      <th>mar_mean_4_guests</th>\n",
       "      <th>mar_min_4_guests</th>\n",
       "      <th>mar_max_4_guests</th>\n",
       "      <th>apr_mean_4_guests</th>\n",
       "      <th>apr_min_4_guests</th>\n",
       "      <th>apr_max_4_guests</th>\n",
       "      <th>may_mean_4_guests</th>\n",
       "      <th>may_min_4_guests</th>\n",
       "      <th>may_max_4_guests</th>\n",
       "      <th>total_lifts</th>\n",
       "    </tr>\n",
       "    <tr>\n",
       "      <th>ski_resort</th>\n",
       "      <th></th>\n",
       "      <th></th>\n",
       "      <th></th>\n",
       "      <th></th>\n",
       "      <th></th>\n",
       "      <th></th>\n",
       "      <th></th>\n",
       "      <th></th>\n",
       "      <th></th>\n",
       "      <th></th>\n",
       "      <th></th>\n",
       "      <th></th>\n",
       "      <th></th>\n",
       "      <th></th>\n",
       "      <th></th>\n",
       "      <th></th>\n",
       "      <th></th>\n",
       "      <th></th>\n",
       "      <th></th>\n",
       "      <th></th>\n",
       "      <th></th>\n",
       "    </tr>\n",
       "  </thead>\n",
       "  <tbody>\n",
       "    <tr>\n",
       "      <th>Palisades Tahoe</th>\n",
       "      <td>1.186487</td>\n",
       "      <td>1.710642</td>\n",
       "      <td>0.902438</td>\n",
       "      <td>4.759106</td>\n",
       "      <td>2.238096</td>\n",
       "      <td>5.503542</td>\n",
       "      <td>0.006503</td>\n",
       "      <td>6.302092</td>\n",
       "      <td>1.902088</td>\n",
       "      <td>1.080304</td>\n",
       "      <td>...</td>\n",
       "      <td>2.541470</td>\n",
       "      <td>2.537409</td>\n",
       "      <td>2.180666</td>\n",
       "      <td>2.334115</td>\n",
       "      <td>1.841660</td>\n",
       "      <td>1.669874</td>\n",
       "      <td>2.000277</td>\n",
       "      <td>1.059825</td>\n",
       "      <td>1.368909</td>\n",
       "      <td>4.654503</td>\n",
       "    </tr>\n",
       "    <tr>\n",
       "      <th>Mammoth Mountain</th>\n",
       "      <td>1.722887</td>\n",
       "      <td>1.973881</td>\n",
       "      <td>1.465619</td>\n",
       "      <td>4.759106</td>\n",
       "      <td>3.594102</td>\n",
       "      <td>2.599995</td>\n",
       "      <td>0.006503</td>\n",
       "      <td>2.697776</td>\n",
       "      <td>1.325698</td>\n",
       "      <td>-1.290043</td>\n",
       "      <td>...</td>\n",
       "      <td>0.792226</td>\n",
       "      <td>1.139202</td>\n",
       "      <td>-0.155575</td>\n",
       "      <td>0.684433</td>\n",
       "      <td>0.415601</td>\n",
       "      <td>0.110550</td>\n",
       "      <td>-1.049510</td>\n",
       "      <td>-1.007546</td>\n",
       "      <td>-0.928538</td>\n",
       "      <td>2.801482</td>\n",
       "    </tr>\n",
       "    <tr>\n",
       "      <th>Donner Ski Ranch</th>\n",
       "      <td>0.908512</td>\n",
       "      <td>-0.500562</td>\n",
       "      <td>1.169411</td>\n",
       "      <td>-0.323434</td>\n",
       "      <td>-0.473917</td>\n",
       "      <td>-0.303553</td>\n",
       "      <td>-0.708794</td>\n",
       "      <td>-0.305821</td>\n",
       "      <td>1.902088</td>\n",
       "      <td>-0.341905</td>\n",
       "      <td>...</td>\n",
       "      <td>0.648301</td>\n",
       "      <td>2.019554</td>\n",
       "      <td>0.323818</td>\n",
       "      <td>0.971334</td>\n",
       "      <td>1.485145</td>\n",
       "      <td>0.936075</td>\n",
       "      <td>0.369375</td>\n",
       "      <td>-0.330304</td>\n",
       "      <td>0.646741</td>\n",
       "      <td>-0.062278</td>\n",
       "    </tr>\n",
       "    <tr>\n",
       "      <th>Sugar Bowl</th>\n",
       "      <td>1.007865</td>\n",
       "      <td>0.289154</td>\n",
       "      <td>1.121864</td>\n",
       "      <td>1.370746</td>\n",
       "      <td>1.786094</td>\n",
       "      <td>-0.303553</td>\n",
       "      <td>1.437096</td>\n",
       "      <td>-0.305821</td>\n",
       "      <td>-0.979864</td>\n",
       "      <td>-0.341905</td>\n",
       "      <td>...</td>\n",
       "      <td>0.902937</td>\n",
       "      <td>2.019554</td>\n",
       "      <td>0.323818</td>\n",
       "      <td>0.971334</td>\n",
       "      <td>1.485145</td>\n",
       "      <td>0.936075</td>\n",
       "      <td>0.597701</td>\n",
       "      <td>0.988536</td>\n",
       "      <td>0.646741</td>\n",
       "      <td>0.611548</td>\n",
       "    </tr>\n",
       "    <tr>\n",
       "      <th>Kirkwood</th>\n",
       "      <td>1.387336</td>\n",
       "      <td>0.815631</td>\n",
       "      <td>1.416465</td>\n",
       "      <td>-0.323434</td>\n",
       "      <td>0.430087</td>\n",
       "      <td>-0.303553</td>\n",
       "      <td>0.721800</td>\n",
       "      <td>2.097056</td>\n",
       "      <td>-0.403473</td>\n",
       "      <td>0.132165</td>\n",
       "      <td>...</td>\n",
       "      <td>1.733275</td>\n",
       "      <td>0.880274</td>\n",
       "      <td>1.730037</td>\n",
       "      <td>1.820084</td>\n",
       "      <td>1.073782</td>\n",
       "      <td>0.808216</td>\n",
       "      <td>1.641478</td>\n",
       "      <td>0.774670</td>\n",
       "      <td>0.436439</td>\n",
       "      <td>0.780005</td>\n",
       "    </tr>\n",
       "    <tr>\n",
       "      <th>...</th>\n",
       "      <td>...</td>\n",
       "      <td>...</td>\n",
       "      <td>...</td>\n",
       "      <td>...</td>\n",
       "      <td>...</td>\n",
       "      <td>...</td>\n",
       "      <td>...</td>\n",
       "      <td>...</td>\n",
       "      <td>...</td>\n",
       "      <td>...</td>\n",
       "      <td>...</td>\n",
       "      <td>...</td>\n",
       "      <td>...</td>\n",
       "      <td>...</td>\n",
       "      <td>...</td>\n",
       "      <td>...</td>\n",
       "      <td>...</td>\n",
       "      <td>...</td>\n",
       "      <td>...</td>\n",
       "      <td>...</td>\n",
       "      <td>...</td>\n",
       "    </tr>\n",
       "    <tr>\n",
       "      <th>Oak Mountain</th>\n",
       "      <td>-0.594373</td>\n",
       "      <td>-0.605857</td>\n",
       "      <td>-0.527200</td>\n",
       "      <td>-0.323434</td>\n",
       "      <td>-0.473917</td>\n",
       "      <td>-0.303553</td>\n",
       "      <td>0.006503</td>\n",
       "      <td>-0.906540</td>\n",
       "      <td>-0.979864</td>\n",
       "      <td>0.132165</td>\n",
       "      <td>...</td>\n",
       "      <td>0.028315</td>\n",
       "      <td>-0.310791</td>\n",
       "      <td>0.419696</td>\n",
       "      <td>0.206265</td>\n",
       "      <td>0.388177</td>\n",
       "      <td>0.305118</td>\n",
       "      <td>0.173666</td>\n",
       "      <td>0.097428</td>\n",
       "      <td>-0.079395</td>\n",
       "      <td>-0.736104</td>\n",
       "    </tr>\n",
       "    <tr>\n",
       "      <th>Mt. Pleasant</th>\n",
       "      <td>-0.824680</td>\n",
       "      <td>-0.932273</td>\n",
       "      <td>-0.703897</td>\n",
       "      <td>-0.323434</td>\n",
       "      <td>-0.473917</td>\n",
       "      <td>-0.303553</td>\n",
       "      <td>-0.708794</td>\n",
       "      <td>-0.305821</td>\n",
       "      <td>-0.979864</td>\n",
       "      <td>-0.815974</td>\n",
       "      <td>...</td>\n",
       "      <td>-1.012374</td>\n",
       "      <td>-1.475964</td>\n",
       "      <td>-0.919408</td>\n",
       "      <td>-1.001111</td>\n",
       "      <td>-1.531517</td>\n",
       "      <td>-0.859511</td>\n",
       "      <td>-0.315604</td>\n",
       "      <td>-0.579814</td>\n",
       "      <td>-0.317473</td>\n",
       "      <td>-1.073017</td>\n",
       "    </tr>\n",
       "    <tr>\n",
       "      <th>Hunt Hollow</th>\n",
       "      <td>-0.693458</td>\n",
       "      <td>-0.421590</td>\n",
       "      <td>-0.768150</td>\n",
       "      <td>-0.323434</td>\n",
       "      <td>-0.473917</td>\n",
       "      <td>-0.303553</td>\n",
       "      <td>-0.708794</td>\n",
       "      <td>-0.305821</td>\n",
       "      <td>-0.403473</td>\n",
       "      <td>-0.815974</td>\n",
       "      <td>...</td>\n",
       "      <td>0.515447</td>\n",
       "      <td>0.336527</td>\n",
       "      <td>0.518771</td>\n",
       "      <td>0.469257</td>\n",
       "      <td>0.360753</td>\n",
       "      <td>0.391284</td>\n",
       "      <td>0.548774</td>\n",
       "      <td>0.240005</td>\n",
       "      <td>-0.142883</td>\n",
       "      <td>-0.904560</td>\n",
       "    </tr>\n",
       "    <tr>\n",
       "      <th>Powder Ridge Connecticut</th>\n",
       "      <td>-1.044275</td>\n",
       "      <td>-0.711153</td>\n",
       "      <td>-1.034802</td>\n",
       "      <td>-0.323434</td>\n",
       "      <td>-0.473917</td>\n",
       "      <td>-0.303553</td>\n",
       "      <td>-0.708794</td>\n",
       "      <td>-0.305821</td>\n",
       "      <td>0.172917</td>\n",
       "      <td>0.132165</td>\n",
       "      <td>...</td>\n",
       "      <td>-0.469887</td>\n",
       "      <td>-1.165251</td>\n",
       "      <td>1.084454</td>\n",
       "      <td>-0.367538</td>\n",
       "      <td>-1.175002</td>\n",
       "      <td>1.500322</td>\n",
       "      <td>-0.984274</td>\n",
       "      <td>-0.686747</td>\n",
       "      <td>-0.912666</td>\n",
       "      <td>-0.399191</td>\n",
       "    </tr>\n",
       "    <tr>\n",
       "      <th>Shawnee Mountain</th>\n",
       "      <td>-0.875561</td>\n",
       "      <td>-0.553209</td>\n",
       "      <td>-0.880594</td>\n",
       "      <td>-0.323434</td>\n",
       "      <td>-0.021915</td>\n",
       "      <td>-0.303553</td>\n",
       "      <td>0.006503</td>\n",
       "      <td>-0.906540</td>\n",
       "      <td>0.749308</td>\n",
       "      <td>0.606234</td>\n",
       "      <td>...</td>\n",
       "      <td>-0.779880</td>\n",
       "      <td>0.207063</td>\n",
       "      <td>-0.724455</td>\n",
       "      <td>-0.726164</td>\n",
       "      <td>-1.092730</td>\n",
       "      <td>-0.517627</td>\n",
       "      <td>-1.098437</td>\n",
       "      <td>-0.864969</td>\n",
       "      <td>-0.674589</td>\n",
       "      <td>0.106179</td>\n",
       "    </tr>\n",
       "  </tbody>\n",
       "</table>\n",
       "<p>330 rows × 78 columns</p>\n",
       "</div>"
      ],
      "text/plain": [
       "                            summit      drop      base  gondolas_and_trams  \\\n",
       "ski_resort                                                                   \n",
       "Palisades Tahoe           1.186487  1.710642  0.902438            4.759106   \n",
       "Mammoth Mountain          1.722887  1.973881  1.465619            4.759106   \n",
       "Donner Ski Ranch          0.908512 -0.500562  1.169411           -0.323434   \n",
       "Sugar Bowl                1.007865  0.289154  1.121864            1.370746   \n",
       "Kirkwood                  1.387336  0.815631  1.416465           -0.323434   \n",
       "...                            ...       ...       ...                 ...   \n",
       "Oak Mountain             -0.594373 -0.605857 -0.527200           -0.323434   \n",
       "Mt. Pleasant             -0.824680 -0.932273 -0.703897           -0.323434   \n",
       "Hunt Hollow              -0.693458 -0.421590 -0.768150           -0.323434   \n",
       "Powder Ridge Connecticut -1.044275 -0.711153 -1.034802           -0.323434   \n",
       "Shawnee Mountain         -0.875561 -0.553209 -0.880594           -0.323434   \n",
       "\n",
       "                          fast_eight  high_speed_sixes  quad_chairs  \\\n",
       "ski_resort                                                            \n",
       "Palisades Tahoe             2.238096          5.503542     0.006503   \n",
       "Mammoth Mountain            3.594102          2.599995     0.006503   \n",
       "Donner Ski Ranch           -0.473917         -0.303553    -0.708794   \n",
       "Sugar Bowl                  1.786094         -0.303553     1.437096   \n",
       "Kirkwood                    0.430087         -0.303553     0.721800   \n",
       "...                              ...               ...          ...   \n",
       "Oak Mountain               -0.473917         -0.303553     0.006503   \n",
       "Mt. Pleasant               -0.473917         -0.303553    -0.708794   \n",
       "Hunt Hollow                -0.473917         -0.303553    -0.708794   \n",
       "Powder Ridge Connecticut   -0.473917         -0.303553    -0.708794   \n",
       "Shawnee Mountain           -0.021915         -0.303553     0.006503   \n",
       "\n",
       "                          triple_chairs  double_chairs  surface_lifts  ...  \\\n",
       "ski_resort                                                             ...   \n",
       "Palisades Tahoe                6.302092       1.902088       1.080304  ...   \n",
       "Mammoth Mountain               2.697776       1.325698      -1.290043  ...   \n",
       "Donner Ski Ranch              -0.305821       1.902088      -0.341905  ...   \n",
       "Sugar Bowl                    -0.305821      -0.979864      -0.341905  ...   \n",
       "Kirkwood                       2.097056      -0.403473       0.132165  ...   \n",
       "...                                 ...            ...            ...  ...   \n",
       "Oak Mountain                  -0.906540      -0.979864       0.132165  ...   \n",
       "Mt. Pleasant                  -0.305821      -0.979864      -0.815974  ...   \n",
       "Hunt Hollow                   -0.305821      -0.403473      -0.815974  ...   \n",
       "Powder Ridge Connecticut      -0.305821       0.172917       0.132165  ...   \n",
       "Shawnee Mountain              -0.906540       0.749308       0.606234  ...   \n",
       "\n",
       "                          mar_mean_4_guests  mar_min_4_guests  \\\n",
       "ski_resort                                                      \n",
       "Palisades Tahoe                    2.541470          2.537409   \n",
       "Mammoth Mountain                   0.792226          1.139202   \n",
       "Donner Ski Ranch                   0.648301          2.019554   \n",
       "Sugar Bowl                         0.902937          2.019554   \n",
       "Kirkwood                           1.733275          0.880274   \n",
       "...                                     ...               ...   \n",
       "Oak Mountain                       0.028315         -0.310791   \n",
       "Mt. Pleasant                      -1.012374         -1.475964   \n",
       "Hunt Hollow                        0.515447          0.336527   \n",
       "Powder Ridge Connecticut          -0.469887         -1.165251   \n",
       "Shawnee Mountain                  -0.779880          0.207063   \n",
       "\n",
       "                          mar_max_4_guests  apr_mean_4_guests  \\\n",
       "ski_resort                                                      \n",
       "Palisades Tahoe                   2.180666           2.334115   \n",
       "Mammoth Mountain                 -0.155575           0.684433   \n",
       "Donner Ski Ranch                  0.323818           0.971334   \n",
       "Sugar Bowl                        0.323818           0.971334   \n",
       "Kirkwood                          1.730037           1.820084   \n",
       "...                                    ...                ...   \n",
       "Oak Mountain                      0.419696           0.206265   \n",
       "Mt. Pleasant                     -0.919408          -1.001111   \n",
       "Hunt Hollow                       0.518771           0.469257   \n",
       "Powder Ridge Connecticut          1.084454          -0.367538   \n",
       "Shawnee Mountain                 -0.724455          -0.726164   \n",
       "\n",
       "                          apr_min_4_guests  apr_max_4_guests  \\\n",
       "ski_resort                                                     \n",
       "Palisades Tahoe                   1.841660          1.669874   \n",
       "Mammoth Mountain                  0.415601          0.110550   \n",
       "Donner Ski Ranch                  1.485145          0.936075   \n",
       "Sugar Bowl                        1.485145          0.936075   \n",
       "Kirkwood                          1.073782          0.808216   \n",
       "...                                    ...               ...   \n",
       "Oak Mountain                      0.388177          0.305118   \n",
       "Mt. Pleasant                     -1.531517         -0.859511   \n",
       "Hunt Hollow                       0.360753          0.391284   \n",
       "Powder Ridge Connecticut         -1.175002          1.500322   \n",
       "Shawnee Mountain                 -1.092730         -0.517627   \n",
       "\n",
       "                          may_mean_4_guests  may_min_4_guests  \\\n",
       "ski_resort                                                      \n",
       "Palisades Tahoe                    2.000277          1.059825   \n",
       "Mammoth Mountain                  -1.049510         -1.007546   \n",
       "Donner Ski Ranch                   0.369375         -0.330304   \n",
       "Sugar Bowl                         0.597701          0.988536   \n",
       "Kirkwood                           1.641478          0.774670   \n",
       "...                                     ...               ...   \n",
       "Oak Mountain                       0.173666          0.097428   \n",
       "Mt. Pleasant                      -0.315604         -0.579814   \n",
       "Hunt Hollow                        0.548774          0.240005   \n",
       "Powder Ridge Connecticut          -0.984274         -0.686747   \n",
       "Shawnee Mountain                  -1.098437         -0.864969   \n",
       "\n",
       "                          may_max_4_guests  total_lifts  \n",
       "ski_resort                                               \n",
       "Palisades Tahoe                   1.368909     4.654503  \n",
       "Mammoth Mountain                 -0.928538     2.801482  \n",
       "Donner Ski Ranch                  0.646741    -0.062278  \n",
       "Sugar Bowl                        0.646741     0.611548  \n",
       "Kirkwood                          0.436439     0.780005  \n",
       "...                                    ...          ...  \n",
       "Oak Mountain                     -0.079395    -0.736104  \n",
       "Mt. Pleasant                     -0.317473    -1.073017  \n",
       "Hunt Hollow                      -0.142883    -0.904560  \n",
       "Powder Ridge Connecticut         -0.912666    -0.399191  \n",
       "Shawnee Mountain                 -0.674589     0.106179  \n",
       "\n",
       "[330 rows x 78 columns]"
      ]
     },
     "execution_count": 107,
     "metadata": {},
     "output_type": "execute_result"
    }
   ],
   "source": [
    "scaled_ski_df"
   ]
  },
  {
   "cell_type": "code",
   "execution_count": 108,
   "metadata": {},
   "outputs": [],
   "source": [
    "#merging scaled_ski_df and one hot encoded dataframes\n",
    "final_content_df = scaled_ski_df.join(ohe_state)"
   ]
  },
  {
   "cell_type": "code",
   "execution_count": 149,
   "metadata": {},
   "outputs": [
    {
     "name": "stdout",
     "output_type": "stream",
     "text": [
      "<class 'pandas.core.frame.DataFrame'>\n",
      "Index: 330 entries, Palisades Tahoe to Shawnee Mountain\n",
      "Columns: 113 entries, summit to state_Wyoming\n",
      "dtypes: float64(113)\n",
      "memory usage: 303.9+ KB\n"
     ]
    }
   ],
   "source": [
    "final_content_df.colu"
   ]
  },
  {
   "cell_type": "markdown",
   "metadata": {},
   "source": [
    "### Cosine Similarity"
   ]
  },
  {
   "cell_type": "markdown",
   "metadata": {},
   "source": [
    "I will start the content based modeling using cosine similarty to determine the distance between related ski resorts. "
   ]
  },
  {
   "cell_type": "code",
   "execution_count": 109,
   "metadata": {},
   "outputs": [],
   "source": [
    "sim_df = pd.DataFrame(cosine_similarity(final_content_df), index=final_content_df.index, columns=final_content_df.index)"
   ]
  },
  {
   "cell_type": "code",
   "execution_count": 110,
   "metadata": {},
   "outputs": [],
   "source": [
    "sim_df.to_csv(\"data/sim_matrix_2.csv\")"
   ]
  },
  {
   "cell_type": "code",
   "execution_count": 125,
   "metadata": {},
   "outputs": [
    {
     "data": {
      "text/html": [
       "<div>\n",
       "<style scoped>\n",
       "    .dataframe tbody tr th:only-of-type {\n",
       "        vertical-align: middle;\n",
       "    }\n",
       "\n",
       "    .dataframe tbody tr th {\n",
       "        vertical-align: top;\n",
       "    }\n",
       "\n",
       "    .dataframe thead th {\n",
       "        text-align: right;\n",
       "    }\n",
       "</style>\n",
       "<table border=\"1\" class=\"dataframe\">\n",
       "  <thead>\n",
       "    <tr style=\"text-align: right;\">\n",
       "      <th>ski_resort</th>\n",
       "      <th>Palisades Tahoe</th>\n",
       "      <th>Mammoth Mountain</th>\n",
       "      <th>Donner Ski Ranch</th>\n",
       "      <th>Sugar Bowl</th>\n",
       "      <th>Kirkwood</th>\n",
       "      <th>Boreal</th>\n",
       "      <th>Sierra at Tahoe</th>\n",
       "      <th>Mt. Rose Ski Tahoe</th>\n",
       "      <th>Soda Springs</th>\n",
       "      <th>Wolf Creek</th>\n",
       "      <th>...</th>\n",
       "      <th>Elko SnoBowl</th>\n",
       "      <th>Eagle Point</th>\n",
       "      <th>Pine Knob</th>\n",
       "      <th>Whaleback</th>\n",
       "      <th>Little Switzerland</th>\n",
       "      <th>Oak Mountain</th>\n",
       "      <th>Mt. Pleasant</th>\n",
       "      <th>Hunt Hollow</th>\n",
       "      <th>Powder Ridge Connecticut</th>\n",
       "      <th>Shawnee Mountain</th>\n",
       "    </tr>\n",
       "    <tr>\n",
       "      <th>ski_resort</th>\n",
       "      <th></th>\n",
       "      <th></th>\n",
       "      <th></th>\n",
       "      <th></th>\n",
       "      <th></th>\n",
       "      <th></th>\n",
       "      <th></th>\n",
       "      <th></th>\n",
       "      <th></th>\n",
       "      <th></th>\n",
       "      <th></th>\n",
       "      <th></th>\n",
       "      <th></th>\n",
       "      <th></th>\n",
       "      <th></th>\n",
       "      <th></th>\n",
       "      <th></th>\n",
       "      <th></th>\n",
       "      <th></th>\n",
       "      <th></th>\n",
       "      <th></th>\n",
       "    </tr>\n",
       "  </thead>\n",
       "  <tbody>\n",
       "    <tr>\n",
       "      <th>Palisades Tahoe</th>\n",
       "      <td>1.000000</td>\n",
       "      <td>0.812026</td>\n",
       "      <td>0.521999</td>\n",
       "      <td>0.722072</td>\n",
       "      <td>0.488924</td>\n",
       "      <td>0.347305</td>\n",
       "      <td>0.576504</td>\n",
       "      <td>-0.045906</td>\n",
       "      <td>0.238735</td>\n",
       "      <td>0.107452</td>\n",
       "      <td>...</td>\n",
       "      <td>-0.585955</td>\n",
       "      <td>-0.092606</td>\n",
       "      <td>-0.308238</td>\n",
       "      <td>-0.630418</td>\n",
       "      <td>-0.257438</td>\n",
       "      <td>-0.277569</td>\n",
       "      <td>-0.750170</td>\n",
       "      <td>-0.276447</td>\n",
       "      <td>-0.306440</td>\n",
       "      <td>-0.518049</td>\n",
       "    </tr>\n",
       "    <tr>\n",
       "      <th>Mammoth Mountain</th>\n",
       "      <td>0.812026</td>\n",
       "      <td>1.000000</td>\n",
       "      <td>0.432824</td>\n",
       "      <td>0.749503</td>\n",
       "      <td>0.189126</td>\n",
       "      <td>0.408623</td>\n",
       "      <td>0.353622</td>\n",
       "      <td>0.134790</td>\n",
       "      <td>0.243831</td>\n",
       "      <td>0.277572</td>\n",
       "      <td>...</td>\n",
       "      <td>-0.504907</td>\n",
       "      <td>-0.056583</td>\n",
       "      <td>-0.413794</td>\n",
       "      <td>-0.611706</td>\n",
       "      <td>-0.413050</td>\n",
       "      <td>-0.275003</td>\n",
       "      <td>-0.538788</td>\n",
       "      <td>-0.351374</td>\n",
       "      <td>-0.385144</td>\n",
       "      <td>-0.362633</td>\n",
       "    </tr>\n",
       "    <tr>\n",
       "      <th>Donner Ski Ranch</th>\n",
       "      <td>0.521999</td>\n",
       "      <td>0.432824</td>\n",
       "      <td>1.000000</td>\n",
       "      <td>0.698997</td>\n",
       "      <td>0.279095</td>\n",
       "      <td>0.566718</td>\n",
       "      <td>0.503167</td>\n",
       "      <td>-0.336018</td>\n",
       "      <td>0.674215</td>\n",
       "      <td>-0.153057</td>\n",
       "      <td>...</td>\n",
       "      <td>-0.708967</td>\n",
       "      <td>-0.096141</td>\n",
       "      <td>-0.365107</td>\n",
       "      <td>-0.644028</td>\n",
       "      <td>-0.058645</td>\n",
       "      <td>0.294224</td>\n",
       "      <td>-0.713626</td>\n",
       "      <td>-0.066520</td>\n",
       "      <td>-0.228173</td>\n",
       "      <td>-0.408549</td>\n",
       "    </tr>\n",
       "    <tr>\n",
       "      <th>Sugar Bowl</th>\n",
       "      <td>0.722072</td>\n",
       "      <td>0.749503</td>\n",
       "      <td>0.698997</td>\n",
       "      <td>1.000000</td>\n",
       "      <td>0.387612</td>\n",
       "      <td>0.596920</td>\n",
       "      <td>0.508803</td>\n",
       "      <td>-0.079504</td>\n",
       "      <td>0.491566</td>\n",
       "      <td>0.172657</td>\n",
       "      <td>...</td>\n",
       "      <td>-0.697247</td>\n",
       "      <td>-0.028167</td>\n",
       "      <td>-0.357809</td>\n",
       "      <td>-0.671171</td>\n",
       "      <td>-0.284763</td>\n",
       "      <td>-0.012591</td>\n",
       "      <td>-0.717228</td>\n",
       "      <td>-0.273639</td>\n",
       "      <td>-0.372150</td>\n",
       "      <td>-0.565831</td>\n",
       "    </tr>\n",
       "    <tr>\n",
       "      <th>Kirkwood</th>\n",
       "      <td>0.488924</td>\n",
       "      <td>0.189126</td>\n",
       "      <td>0.279095</td>\n",
       "      <td>0.387612</td>\n",
       "      <td>1.000000</td>\n",
       "      <td>0.383553</td>\n",
       "      <td>0.617336</td>\n",
       "      <td>-0.103820</td>\n",
       "      <td>0.236078</td>\n",
       "      <td>0.205230</td>\n",
       "      <td>...</td>\n",
       "      <td>-0.309930</td>\n",
       "      <td>0.231380</td>\n",
       "      <td>-0.233022</td>\n",
       "      <td>-0.467370</td>\n",
       "      <td>-0.003632</td>\n",
       "      <td>-0.114437</td>\n",
       "      <td>-0.575676</td>\n",
       "      <td>-0.145585</td>\n",
       "      <td>-0.130862</td>\n",
       "      <td>-0.567742</td>\n",
       "    </tr>\n",
       "  </tbody>\n",
       "</table>\n",
       "<p>5 rows × 330 columns</p>\n",
       "</div>"
      ],
      "text/plain": [
       "ski_resort        Palisades Tahoe  Mammoth Mountain  Donner Ski Ranch  \\\n",
       "ski_resort                                                              \n",
       "Palisades Tahoe          1.000000          0.812026          0.521999   \n",
       "Mammoth Mountain         0.812026          1.000000          0.432824   \n",
       "Donner Ski Ranch         0.521999          0.432824          1.000000   \n",
       "Sugar Bowl               0.722072          0.749503          0.698997   \n",
       "Kirkwood                 0.488924          0.189126          0.279095   \n",
       "\n",
       "ski_resort        Sugar Bowl  Kirkwood    Boreal  Sierra at Tahoe  \\\n",
       "ski_resort                                                          \n",
       "Palisades Tahoe     0.722072  0.488924  0.347305         0.576504   \n",
       "Mammoth Mountain    0.749503  0.189126  0.408623         0.353622   \n",
       "Donner Ski Ranch    0.698997  0.279095  0.566718         0.503167   \n",
       "Sugar Bowl          1.000000  0.387612  0.596920         0.508803   \n",
       "Kirkwood            0.387612  1.000000  0.383553         0.617336   \n",
       "\n",
       "ski_resort        Mt. Rose Ski Tahoe  Soda Springs  Wolf Creek  ...  \\\n",
       "ski_resort                                                      ...   \n",
       "Palisades Tahoe            -0.045906      0.238735    0.107452  ...   \n",
       "Mammoth Mountain            0.134790      0.243831    0.277572  ...   \n",
       "Donner Ski Ranch           -0.336018      0.674215   -0.153057  ...   \n",
       "Sugar Bowl                 -0.079504      0.491566    0.172657  ...   \n",
       "Kirkwood                   -0.103820      0.236078    0.205230  ...   \n",
       "\n",
       "ski_resort        Elko SnoBowl  Eagle Point  Pine Knob  Whaleback  \\\n",
       "ski_resort                                                          \n",
       "Palisades Tahoe      -0.585955    -0.092606  -0.308238  -0.630418   \n",
       "Mammoth Mountain     -0.504907    -0.056583  -0.413794  -0.611706   \n",
       "Donner Ski Ranch     -0.708967    -0.096141  -0.365107  -0.644028   \n",
       "Sugar Bowl           -0.697247    -0.028167  -0.357809  -0.671171   \n",
       "Kirkwood             -0.309930     0.231380  -0.233022  -0.467370   \n",
       "\n",
       "ski_resort        Little Switzerland  Oak Mountain  Mt. Pleasant  Hunt Hollow  \\\n",
       "ski_resort                                                                      \n",
       "Palisades Tahoe            -0.257438     -0.277569     -0.750170    -0.276447   \n",
       "Mammoth Mountain           -0.413050     -0.275003     -0.538788    -0.351374   \n",
       "Donner Ski Ranch           -0.058645      0.294224     -0.713626    -0.066520   \n",
       "Sugar Bowl                 -0.284763     -0.012591     -0.717228    -0.273639   \n",
       "Kirkwood                   -0.003632     -0.114437     -0.575676    -0.145585   \n",
       "\n",
       "ski_resort        Powder Ridge Connecticut  Shawnee Mountain  \n",
       "ski_resort                                                    \n",
       "Palisades Tahoe                  -0.306440         -0.518049  \n",
       "Mammoth Mountain                 -0.385144         -0.362633  \n",
       "Donner Ski Ranch                 -0.228173         -0.408549  \n",
       "Sugar Bowl                       -0.372150         -0.565831  \n",
       "Kirkwood                         -0.130862         -0.567742  \n",
       "\n",
       "[5 rows x 330 columns]"
      ]
     },
     "execution_count": 125,
     "metadata": {},
     "output_type": "execute_result"
    }
   ],
   "source": [
    "sim_df.head()"
   ]
  },
  {
   "cell_type": "code",
   "execution_count": 112,
   "metadata": {},
   "outputs": [],
   "source": [
    "final_content_df.to_csv(\"data/cleaned_data_exports/final_content_df.csv\")"
   ]
  },
  {
   "cell_type": "code",
   "execution_count": 113,
   "metadata": {},
   "outputs": [],
   "source": [
    "sim_df.to_csv(\"data/cleaned_data_exports/similarity_matrix.csv\")"
   ]
  },
  {
   "cell_type": "markdown",
   "metadata": {},
   "source": [
    "### Function Building"
   ]
  },
  {
   "cell_type": "code",
   "execution_count": 28,
   "metadata": {},
   "outputs": [
    {
     "name": "stdout",
     "output_type": "stream",
     "text": [
      "What is your favorite ski resort? Park City Mountain\n",
      "How many recommendations would you like? 3\n",
      "What month would you like to travel? December\n"
     ]
    }
   ],
   "source": [
    "# Input for mountain name\n",
    "mountain_name = str(input(\"What is your favorite ski resort? \"))\n",
    "\n",
    "# input to ask user how many recommendations they would like\n",
    "n_recs = int(input('How many recommendations would you like? '))\n",
    "    \n",
    "#what month would you like to travel\n",
    "travel_date = str(input('What month would you like to travel? '))"
   ]
  },
  {
   "cell_type": "code",
   "execution_count": 144,
   "metadata": {},
   "outputs": [],
   "source": [
    "# Pulling out an individual mountain\n",
    "\n",
    "y = sim_df.loc[[mountain_name]].T\n",
    "cos_sim_df = y.reset_index().sort_values(by=mountain_name, ascending=False).head(n_recs + 1)"
   ]
  },
  {
   "cell_type": "code",
   "execution_count": 145,
   "metadata": {},
   "outputs": [
    {
     "data": {
      "text/html": [
       "<div>\n",
       "<style scoped>\n",
       "    .dataframe tbody tr th:only-of-type {\n",
       "        vertical-align: middle;\n",
       "    }\n",
       "\n",
       "    .dataframe tbody tr th {\n",
       "        vertical-align: top;\n",
       "    }\n",
       "\n",
       "    .dataframe thead th {\n",
       "        text-align: right;\n",
       "    }\n",
       "</style>\n",
       "<table border=\"1\" class=\"dataframe\">\n",
       "  <thead>\n",
       "    <tr style=\"text-align: right;\">\n",
       "      <th>ski_resort</th>\n",
       "      <th>ski_resort</th>\n",
       "      <th>Park City Mountain</th>\n",
       "    </tr>\n",
       "  </thead>\n",
       "  <tbody>\n",
       "    <tr>\n",
       "      <th>35</th>\n",
       "      <td>Park City Mountain</td>\n",
       "      <td>1.000000</td>\n",
       "    </tr>\n",
       "    <tr>\n",
       "      <th>53</th>\n",
       "      <td>Breckenridge</td>\n",
       "      <td>0.749671</td>\n",
       "    </tr>\n",
       "    <tr>\n",
       "      <th>86</th>\n",
       "      <td>Keystone</td>\n",
       "      <td>0.730817</td>\n",
       "    </tr>\n",
       "    <tr>\n",
       "      <th>77</th>\n",
       "      <td>Vail</td>\n",
       "      <td>0.721524</td>\n",
       "    </tr>\n",
       "  </tbody>\n",
       "</table>\n",
       "</div>"
      ],
      "text/plain": [
       "ski_resort          ski_resort  Park City Mountain\n",
       "35          Park City Mountain            1.000000\n",
       "53                Breckenridge            0.749671\n",
       "86                    Keystone            0.730817\n",
       "77                        Vail            0.721524"
      ]
     },
     "execution_count": 145,
     "metadata": {},
     "output_type": "execute_result"
    }
   ],
   "source": [
    "cos_sim_df"
   ]
  },
  {
   "cell_type": "code",
   "execution_count": 151,
   "metadata": {},
   "outputs": [
    {
     "data": {
      "text/html": [
       "<div>\n",
       "<style scoped>\n",
       "    .dataframe tbody tr th:only-of-type {\n",
       "        vertical-align: middle;\n",
       "    }\n",
       "\n",
       "    .dataframe tbody tr th {\n",
       "        vertical-align: top;\n",
       "    }\n",
       "\n",
       "    .dataframe thead th {\n",
       "        text-align: right;\n",
       "    }\n",
       "</style>\n",
       "<table border=\"1\" class=\"dataframe\">\n",
       "  <thead>\n",
       "    <tr style=\"text-align: right;\">\n",
       "      <th></th>\n",
       "      <th>ski_resort</th>\n",
       "      <th>city</th>\n",
       "      <th>state</th>\n",
       "      <th>summit</th>\n",
       "      <th>drop</th>\n",
       "      <th>base</th>\n",
       "      <th>adultWeekdayPrice</th>\n",
       "      <th>beginner_runs</th>\n",
       "      <th>intermediate_runs</th>\n",
       "      <th>adultWeekendPrice</th>\n",
       "      <th>expert_runs</th>\n",
       "    </tr>\n",
       "  </thead>\n",
       "  <tbody>\n",
       "    <tr>\n",
       "      <th>0</th>\n",
       "      <td>Park City Mountain</td>\n",
       "      <td>Park City Mountain</td>\n",
       "      <td>Utah</td>\n",
       "      <td>10026</td>\n",
       "      <td>3226</td>\n",
       "      <td>6800</td>\n",
       "      <td>215.0</td>\n",
       "      <td>8</td>\n",
       "      <td>41</td>\n",
       "      <td>239.0</td>\n",
       "      <td>23.0</td>\n",
       "    </tr>\n",
       "    <tr>\n",
       "      <th>1</th>\n",
       "      <td>Breckenridge</td>\n",
       "      <td>Breckenridge</td>\n",
       "      <td>Colorado</td>\n",
       "      <td>12998</td>\n",
       "      <td>3398</td>\n",
       "      <td>9600</td>\n",
       "      <td>149.0</td>\n",
       "      <td>13</td>\n",
       "      <td>23</td>\n",
       "      <td>179.0</td>\n",
       "      <td>28.0</td>\n",
       "    </tr>\n",
       "    <tr>\n",
       "      <th>2</th>\n",
       "      <td>Keystone</td>\n",
       "      <td>Keystone</td>\n",
       "      <td>Colorado</td>\n",
       "      <td>12408</td>\n",
       "      <td>3128</td>\n",
       "      <td>9280</td>\n",
       "      <td>195.0</td>\n",
       "      <td>16</td>\n",
       "      <td>43</td>\n",
       "      <td>225.0</td>\n",
       "      <td>0.0</td>\n",
       "    </tr>\n",
       "    <tr>\n",
       "      <th>3</th>\n",
       "      <td>Vail</td>\n",
       "      <td>Vail</td>\n",
       "      <td>Colorado</td>\n",
       "      <td>11570</td>\n",
       "      <td>3450</td>\n",
       "      <td>8120</td>\n",
       "      <td>225.0</td>\n",
       "      <td>23</td>\n",
       "      <td>35</td>\n",
       "      <td>245.0</td>\n",
       "      <td>2.0</td>\n",
       "    </tr>\n",
       "  </tbody>\n",
       "</table>\n",
       "</div>"
      ],
      "text/plain": [
       "           ski_resort                city     state  summit  drop  base  \\\n",
       "0  Park City Mountain  Park City Mountain      Utah   10026  3226  6800   \n",
       "1        Breckenridge        Breckenridge  Colorado   12998  3398  9600   \n",
       "2            Keystone            Keystone  Colorado   12408  3128  9280   \n",
       "3                Vail                Vail  Colorado   11570  3450  8120   \n",
       "\n",
       "   adultWeekdayPrice  beginner_runs  intermediate_runs  adultWeekendPrice  \\\n",
       "0              215.0              8                 41              239.0   \n",
       "1              149.0             13                 23              179.0   \n",
       "2              195.0             16                 43              225.0   \n",
       "3              225.0             23                 35              245.0   \n",
       "\n",
       "   expert_runs  \n",
       "0         23.0  \n",
       "1         28.0  \n",
       "2          0.0  \n",
       "3          2.0  "
      ]
     },
     "execution_count": 151,
     "metadata": {},
     "output_type": "execute_result"
    }
   ],
   "source": [
    "#making list for column names\n",
    "rec_list = []\n",
    "    \n",
    "#grabbing rows from content_matrix \n",
    "for x in cos_sim_df['ski_resort']:\n",
    "    rec_df = content_matrix.loc[[x]]  \n",
    "    rec_list.append(rec_df)  #\n",
    "\n",
    "rec_df = pd.concat(rec_list)\n",
    "\n",
    "#Concatenate all the dataframes in rec_list into a single dataframe\n",
    "concat_df = rec_df[[\"city\", \"state\", \"summit\", \"drop\", \"base\", \"adultWeekdayPrice\",\n",
    "                           \"beginner_runs\", \"intermediate_runs\", \"adultWeekendPrice\", \"expert_runs\"]]\n",
    "\n",
    "concat_df = concat_df.reset_index()\n",
    "\n",
    "concat_df"
   ]
  },
  {
   "cell_type": "code",
   "execution_count": 152,
   "metadata": {},
   "outputs": [
    {
     "data": {
      "text/html": [
       "<div>\n",
       "<style scoped>\n",
       "    .dataframe tbody tr th:only-of-type {\n",
       "        vertical-align: middle;\n",
       "    }\n",
       "\n",
       "    .dataframe tbody tr th {\n",
       "        vertical-align: top;\n",
       "    }\n",
       "\n",
       "    .dataframe thead th {\n",
       "        text-align: right;\n",
       "    }\n",
       "</style>\n",
       "<table border=\"1\" class=\"dataframe\">\n",
       "  <thead>\n",
       "    <tr style=\"text-align: right;\">\n",
       "      <th></th>\n",
       "      <th>ski_resort</th>\n",
       "      <th>mar_mean_4_guests</th>\n",
       "      <th>mar_mean_2_guests</th>\n",
       "    </tr>\n",
       "  </thead>\n",
       "  <tbody>\n",
       "    <tr>\n",
       "      <th>0</th>\n",
       "      <td>Park City Mountain</td>\n",
       "      <td>395</td>\n",
       "      <td>229</td>\n",
       "    </tr>\n",
       "    <tr>\n",
       "      <th>1</th>\n",
       "      <td>Breckenridge</td>\n",
       "      <td>436</td>\n",
       "      <td>258</td>\n",
       "    </tr>\n",
       "    <tr>\n",
       "      <th>2</th>\n",
       "      <td>Keystone</td>\n",
       "      <td>335</td>\n",
       "      <td>255</td>\n",
       "    </tr>\n",
       "    <tr>\n",
       "      <th>3</th>\n",
       "      <td>Vail</td>\n",
       "      <td>462</td>\n",
       "      <td>338</td>\n",
       "    </tr>\n",
       "  </tbody>\n",
       "</table>\n",
       "</div>"
      ],
      "text/plain": [
       "           ski_resort  mar_mean_4_guests  mar_mean_2_guests\n",
       "0  Park City Mountain                395                229\n",
       "1        Breckenridge                436                258\n",
       "2            Keystone                335                255\n",
       "3                Vail                462                338"
      ]
     },
     "execution_count": 152,
     "metadata": {},
     "output_type": "execute_result"
    }
   ],
   "source": [
    "#filtering based on month to return airbnb prices and turning into dataframe\n",
    "travel_date = travel_date.lower()\n",
    "\n",
    "month = [\"december\", \"january\", \"february\", \"march\", \"april\", \"may\"]\n",
    "month_abv = [\"dec\", \"jan\", \"feb\", \"mar\", \"apr\", \"may\"]\n",
    "\n",
    "#for loop that changes the user input to the month appreviation that's in the column names\n",
    "selected_columns = []\n",
    "for x, y in zip(month_abv, month):\n",
    "    if travel_date == y:\n",
    "        selected_columns = [x + \"_mean_4_guests\", x + \"_mean_2_guests\"]\n",
    "\n",
    "result = rec_df[selected_columns]\n",
    "\n",
    "#resetting index\n",
    "result = result.reset_index()\n",
    "\n",
    "result"
   ]
  },
  {
   "cell_type": "markdown",
   "metadata": {},
   "source": [
    "Testing first part of function by hard coding example user inputs"
   ]
  },
  {
   "cell_type": "code",
   "execution_count": 156,
   "metadata": {},
   "outputs": [
    {
     "data": {
      "text/html": [
       "<div>\n",
       "<style scoped>\n",
       "    .dataframe tbody tr th:only-of-type {\n",
       "        vertical-align: middle;\n",
       "    }\n",
       "\n",
       "    .dataframe tbody tr th {\n",
       "        vertical-align: top;\n",
       "    }\n",
       "\n",
       "    .dataframe thead th {\n",
       "        text-align: right;\n",
       "    }\n",
       "</style>\n",
       "<table border=\"1\" class=\"dataframe\">\n",
       "  <thead>\n",
       "    <tr style=\"text-align: right;\">\n",
       "      <th></th>\n",
       "      <th>ski_resort</th>\n",
       "      <th>city</th>\n",
       "      <th>state</th>\n",
       "      <th>summit</th>\n",
       "      <th>drop</th>\n",
       "      <th>base</th>\n",
       "      <th>adultWeekdayPrice</th>\n",
       "      <th>beginner_runs</th>\n",
       "      <th>intermediate_runs</th>\n",
       "      <th>adultWeekendPrice</th>\n",
       "      <th>expert_runs</th>\n",
       "      <th>mar_mean_4_guests</th>\n",
       "      <th>mar_mean_2_guests</th>\n",
       "    </tr>\n",
       "  </thead>\n",
       "  <tbody>\n",
       "    <tr>\n",
       "      <th>1</th>\n",
       "      <td>Breckenridge</td>\n",
       "      <td>Breckenridge</td>\n",
       "      <td>Colorado</td>\n",
       "      <td>12998</td>\n",
       "      <td>3398</td>\n",
       "      <td>9600</td>\n",
       "      <td>149.0</td>\n",
       "      <td>13</td>\n",
       "      <td>23</td>\n",
       "      <td>179.0</td>\n",
       "      <td>28.0</td>\n",
       "      <td>436</td>\n",
       "      <td>258</td>\n",
       "    </tr>\n",
       "    <tr>\n",
       "      <th>2</th>\n",
       "      <td>Keystone</td>\n",
       "      <td>Keystone</td>\n",
       "      <td>Colorado</td>\n",
       "      <td>12408</td>\n",
       "      <td>3128</td>\n",
       "      <td>9280</td>\n",
       "      <td>195.0</td>\n",
       "      <td>16</td>\n",
       "      <td>43</td>\n",
       "      <td>225.0</td>\n",
       "      <td>0.0</td>\n",
       "      <td>335</td>\n",
       "      <td>255</td>\n",
       "    </tr>\n",
       "    <tr>\n",
       "      <th>3</th>\n",
       "      <td>Vail</td>\n",
       "      <td>Vail</td>\n",
       "      <td>Colorado</td>\n",
       "      <td>11570</td>\n",
       "      <td>3450</td>\n",
       "      <td>8120</td>\n",
       "      <td>225.0</td>\n",
       "      <td>23</td>\n",
       "      <td>35</td>\n",
       "      <td>245.0</td>\n",
       "      <td>2.0</td>\n",
       "      <td>462</td>\n",
       "      <td>338</td>\n",
       "    </tr>\n",
       "  </tbody>\n",
       "</table>\n",
       "</div>"
      ],
      "text/plain": [
       "     ski_resort          city     state  summit  drop  base  \\\n",
       "1  Breckenridge  Breckenridge  Colorado   12998  3398  9600   \n",
       "2      Keystone      Keystone  Colorado   12408  3128  9280   \n",
       "3          Vail          Vail  Colorado   11570  3450  8120   \n",
       "\n",
       "   adultWeekdayPrice  beginner_runs  intermediate_runs  adultWeekendPrice  \\\n",
       "1              149.0             13                 23              179.0   \n",
       "2              195.0             16                 43              225.0   \n",
       "3              225.0             23                 35              245.0   \n",
       "\n",
       "   expert_runs  mar_mean_4_guests  mar_mean_2_guests  \n",
       "1         28.0                436                258  \n",
       "2          0.0                335                255  \n",
       "3          2.0                462                338  "
      ]
     },
     "execution_count": 156,
     "metadata": {},
     "output_type": "execute_result"
    }
   ],
   "source": [
    "#Input for book title that returns the 'asin' index number for the book to be used to call dataframe\n",
    "mountain_name = \"Park City Mountain\"\n",
    "    \n",
    "# input to ask user how many recommendations they would like\n",
    "n_recs = 3\n",
    "    \n",
    "#what month would you like to travel\n",
    "travel_date = \"March\"\n",
    "    \n",
    "# Pulling out an individual resort\n",
    "y = sim_df.loc[[mountain_name]].T\n",
    "\n",
    "#sorting values by similarity score\n",
    "cos_sim_df = y.reset_index().sort_values(by=mountain_name, ascending=False).head(n_recs + 1)\n",
    "\n",
    "#making list for column names\n",
    "rec_list = []\n",
    "    \n",
    "#grabbing rows from content_matrix \n",
    "for x in cos_sim_df['ski_resort']:\n",
    "    rec_df = content_matrix.loc[[x]]  \n",
    "    rec_list.append(rec_df)  #\n",
    "\n",
    "rec_df = pd.concat(rec_list)\n",
    "\n",
    "#Concatenate all the dataframes in rec_list into a single dataframe\n",
    "concat_df = rec_df[[\"city\", \"state\", \"summit\", \"drop\", \"base\", \"adultWeekdayPrice\",\n",
    "                           \"beginner_runs\", \"intermediate_runs\", \"adultWeekendPrice\", \"expert_runs\"]]\n",
    "\n",
    "concat_df = concat_df.reset_index()\n",
    "\n",
    "#filtering based on month to return airbnb prices and turning into dataframe\n",
    "travel_date = travel_date.lower()\n",
    "\n",
    "month = [\"december\", \"january\", \"february\", \"march\", \"april\", \"may\"]\n",
    "month_abv = [\"dec\", \"jan\", \"feb\", \"mar\", \"apr\", \"may\"]\n",
    "\n",
    "#for loop that changes the user input to the month appreviation that's in the column names\n",
    "selected_columns = []\n",
    "\n",
    "for x, y in zip(month_abv, month):\n",
    "    if travel_date == y:\n",
    "        selected_columns = [x + \"_mean_4_guests\", x + \"_mean_2_guests\"]\n",
    "\n",
    "result = rec_df[selected_columns]\n",
    "\n",
    "#resetting index\n",
    "result = result.reset_index()\n",
    "\n",
    "#merging dataframes \n",
    "final_concat_df = pd.merge(concat_df, result, on=\"ski_resort\")\n",
    "    \n",
    "#dropping mountain name from the results\n",
    "final_concat_df = final_concat_df[final_concat_df.ski_resort != mountain_name]\n",
    "\n",
    "#showing final dataframe\n",
    "final_concat_df.head(n_recs)"
   ]
  },
  {
   "cell_type": "markdown",
   "metadata": {},
   "source": [
    "Making final function. I will need to add a line of code to drop the row where ski_resort matches the user's input to ensure this is not part of their recommendations."
   ]
  },
  {
   "cell_type": "code",
   "execution_count": 180,
   "metadata": {},
   "outputs": [],
   "source": [
    "# Content-based model\n",
    "def content_model():\n",
    "    \n",
    "    #user inputs\n",
    "    n_recs = int(input('How many resort recommendations do you want? '))\n",
    "    mountain_name = str(input(\"What's your favorite ski resort? \"))\n",
    "    travel_date = str(input('What month would you like to travel? '))\n",
    "    \n",
    "    # Pulling out an individual resort\n",
    "    y = sim_df.loc[[mountain_name]].T\n",
    "\n",
    "    #sorting values by similarity score\n",
    "    cos_sim_df = y.reset_index().sort_values(by=mountain_name, ascending=False).head(n_recs + 1)\n",
    "\n",
    "    #making list for column names\n",
    "    rec_list = []\n",
    "    \n",
    "    #grabbing rows from content_matrix \n",
    "    for x in cos_sim_df['ski_resort']:\n",
    "        rec_df = content_matrix.loc[[x]]  \n",
    "        rec_list.append(rec_df)  #\n",
    "\n",
    "    rec_df = pd.concat(rec_list)\n",
    "\n",
    "    #Concatenate all the dataframes in rec_list into a single dataframe\n",
    "    concat_df = rec_df[[\"city\", \"state\", \"summit\", \"drop\", \"base\", \"adultWeekdayPrice\", \"adultWeekendPrice\",\n",
    "                           \"beginner_runs\", \"intermediate_runs\", \"advanced_runs\", \"expert_runs\"]]\n",
    "    concat_df = concat_df.reset_index()\n",
    "\n",
    "    #filtering based on month to return airbnb prices and turning into dataframe\n",
    "    travel_date = travel_date.lower()\n",
    "\n",
    "    month = [\"december\", \"january\", \"february\", \"march\", \"april\", \"may\"]\n",
    "    month_abv = [\"dec\", \"jan\", \"feb\", \"mar\", \"apr\", \"may\"]\n",
    "\n",
    "    selected_columns = []\n",
    "    for x, y in zip(month_abv, month):\n",
    "        if travel_date == y:\n",
    "            selected_columns = [x + \"_mean_4_guests\", x + \"_mean_2_guests\"]\n",
    "\n",
    "    result = rec_df[selected_columns]\n",
    "    result = result.reset_index()\n",
    "\n",
    "    #merging dataframes \n",
    "    final_concat_df = pd.merge(concat_df, result, on=\"ski_resort\")\n",
    "    \n",
    "    #dropping mountain name from the results\n",
    "    final_concat_df = final_concat_df[final_concat_df.ski_resort != mountain_name]\n",
    "\n",
    "    #showing final dataframe\n",
    "    return(final_concat_df.head(n_recs))"
   ]
  },
  {
   "cell_type": "code",
   "execution_count": 181,
   "metadata": {},
   "outputs": [
    {
     "name": "stdout",
     "output_type": "stream",
     "text": [
      "How many resort recommendations do you want? 3\n",
      "What's your favorite ski resort? Park City Mountain\n",
      "What month would you like to travel? December\n"
     ]
    },
    {
     "data": {
      "text/html": [
       "<div>\n",
       "<style scoped>\n",
       "    .dataframe tbody tr th:only-of-type {\n",
       "        vertical-align: middle;\n",
       "    }\n",
       "\n",
       "    .dataframe tbody tr th {\n",
       "        vertical-align: top;\n",
       "    }\n",
       "\n",
       "    .dataframe thead th {\n",
       "        text-align: right;\n",
       "    }\n",
       "</style>\n",
       "<table border=\"1\" class=\"dataframe\">\n",
       "  <thead>\n",
       "    <tr style=\"text-align: right;\">\n",
       "      <th></th>\n",
       "      <th>ski_resort</th>\n",
       "      <th>city</th>\n",
       "      <th>state</th>\n",
       "      <th>summit</th>\n",
       "      <th>drop</th>\n",
       "      <th>base</th>\n",
       "      <th>adultWeekdayPrice</th>\n",
       "      <th>adultWeekendPrice</th>\n",
       "      <th>beginner_runs</th>\n",
       "      <th>intermediate_runs</th>\n",
       "      <th>advanced_runs</th>\n",
       "      <th>expert_runs</th>\n",
       "      <th>dec_mean_4_guests</th>\n",
       "      <th>dec_mean_2_guests</th>\n",
       "    </tr>\n",
       "  </thead>\n",
       "  <tbody>\n",
       "    <tr>\n",
       "      <th>1</th>\n",
       "      <td>Breckenridge</td>\n",
       "      <td>Breckenridge</td>\n",
       "      <td>Colorado</td>\n",
       "      <td>12998</td>\n",
       "      <td>3398</td>\n",
       "      <td>9600</td>\n",
       "      <td>149.0</td>\n",
       "      <td>179.0</td>\n",
       "      <td>13</td>\n",
       "      <td>23</td>\n",
       "      <td>36</td>\n",
       "      <td>28.0</td>\n",
       "      <td>266</td>\n",
       "      <td>192</td>\n",
       "    </tr>\n",
       "    <tr>\n",
       "      <th>2</th>\n",
       "      <td>Keystone</td>\n",
       "      <td>Keystone</td>\n",
       "      <td>Colorado</td>\n",
       "      <td>12408</td>\n",
       "      <td>3128</td>\n",
       "      <td>9280</td>\n",
       "      <td>195.0</td>\n",
       "      <td>225.0</td>\n",
       "      <td>16</td>\n",
       "      <td>43</td>\n",
       "      <td>41</td>\n",
       "      <td>0.0</td>\n",
       "      <td>229</td>\n",
       "      <td>172</td>\n",
       "    </tr>\n",
       "    <tr>\n",
       "      <th>3</th>\n",
       "      <td>Vail</td>\n",
       "      <td>Vail</td>\n",
       "      <td>Colorado</td>\n",
       "      <td>11570</td>\n",
       "      <td>3450</td>\n",
       "      <td>8120</td>\n",
       "      <td>225.0</td>\n",
       "      <td>245.0</td>\n",
       "      <td>23</td>\n",
       "      <td>35</td>\n",
       "      <td>40</td>\n",
       "      <td>2.0</td>\n",
       "      <td>421</td>\n",
       "      <td>260</td>\n",
       "    </tr>\n",
       "  </tbody>\n",
       "</table>\n",
       "</div>"
      ],
      "text/plain": [
       "     ski_resort          city     state  summit  drop  base  \\\n",
       "1  Breckenridge  Breckenridge  Colorado   12998  3398  9600   \n",
       "2      Keystone      Keystone  Colorado   12408  3128  9280   \n",
       "3          Vail          Vail  Colorado   11570  3450  8120   \n",
       "\n",
       "   adultWeekdayPrice  adultWeekendPrice  beginner_runs  intermediate_runs  \\\n",
       "1              149.0              179.0             13                 23   \n",
       "2              195.0              225.0             16                 43   \n",
       "3              225.0              245.0             23                 35   \n",
       "\n",
       "   advanced_runs  expert_runs  dec_mean_4_guests  dec_mean_2_guests  \n",
       "1             36         28.0                266                192  \n",
       "2             41          0.0                229                172  \n",
       "3             40          2.0                421                260  "
      ]
     },
     "execution_count": 181,
     "metadata": {},
     "output_type": "execute_result"
    }
   ],
   "source": [
    "content_model()"
   ]
  },
  {
   "cell_type": "markdown",
   "metadata": {},
   "source": [
    "### Collaborative Model"
   ]
  },
  {
   "cell_type": "markdown",
   "metadata": {},
   "source": [
    "Importing the final cleaned user/review surprise dataframe from the collaborative model notebook. "
   ]
  },
  {
   "cell_type": "code",
   "execution_count": 160,
   "metadata": {},
   "outputs": [
    {
     "name": "stdout",
     "output_type": "stream",
     "text": [
      "<class 'pandas.core.frame.DataFrame'>\n",
      "RangeIndex: 2807 entries, 0 to 2806\n",
      "Data columns (total 6 columns):\n",
      " #   Column       Non-Null Count  Dtype  \n",
      "---  ------       --------------  -----  \n",
      " 0   review_date  2807 non-null   object \n",
      " 1   state        2795 non-null   object \n",
      " 2   ski_resort   2795 non-null   object \n",
      " 3   rating       2795 non-null   float64\n",
      " 4   review       2795 non-null   object \n",
      " 5   user_name    2783 non-null   object \n",
      "dtypes: float64(1), object(5)\n",
      "memory usage: 131.7+ KB\n"
     ]
    }
   ],
   "source": [
    "final_user_df.info()"
   ]
  },
  {
   "cell_type": "code",
   "execution_count": 162,
   "metadata": {},
   "outputs": [],
   "source": [
    "final_user_df.drop(columns=\"Unnamed: 0\", inplace=True)"
   ]
  },
  {
   "cell_type": "code",
   "execution_count": 98,
   "metadata": {},
   "outputs": [],
   "source": [
    "from surprise import Reader, Dataset\n",
    "from surprise.model_selection import GridSearchCV, cross_validate, train_test_split\n",
    "\n",
    "#copying final rewview dataframe\n",
    "surprise_df = final_user_df.copy()\n",
    "\n",
    "#dropping unneeded columns\n",
    "surprise_df = surprise_df[['user_name', 'ski_resort', 'rating']]\n",
    "\n",
    "# counting the number of reviews for each user\n",
    "value_counts = surprise_df['user_name'].value_counts()\n",
    "\n",
    "# selecting only users with more than three reviews\n",
    "selected_users = value_counts[value_counts > 2].index\n",
    "\n",
    "# selecting only the rows where the user_name is in the selected_users list\n",
    "surprise_df = surprise_df[surprise_df['user_name'].isin(selected_users)]\n",
    "\n",
    "#saving for streamlit app\n",
    "surprise_df.to_csv(\"data/cleaned_data_exports/surprise_df.csv\")"
   ]
  },
  {
   "cell_type": "code",
   "execution_count": 163,
   "metadata": {},
   "outputs": [
    {
     "data": {
      "text/html": [
       "<div>\n",
       "<style scoped>\n",
       "    .dataframe tbody tr th:only-of-type {\n",
       "        vertical-align: middle;\n",
       "    }\n",
       "\n",
       "    .dataframe tbody tr th {\n",
       "        vertical-align: top;\n",
       "    }\n",
       "\n",
       "    .dataframe thead th {\n",
       "        text-align: right;\n",
       "    }\n",
       "</style>\n",
       "<table border=\"1\" class=\"dataframe\">\n",
       "  <thead>\n",
       "    <tr style=\"text-align: right;\">\n",
       "      <th></th>\n",
       "      <th>user_name</th>\n",
       "      <th>ski_resort</th>\n",
       "      <th>rating</th>\n",
       "    </tr>\n",
       "  </thead>\n",
       "  <tbody>\n",
       "    <tr>\n",
       "      <th>0</th>\n",
       "      <td>anon_1</td>\n",
       "      <td>Winter Park</td>\n",
       "      <td>4.0</td>\n",
       "    </tr>\n",
       "    <tr>\n",
       "      <th>1</th>\n",
       "      <td>anon_1</td>\n",
       "      <td>Arapahoe Basin</td>\n",
       "      <td>5.0</td>\n",
       "    </tr>\n",
       "    <tr>\n",
       "      <th>2</th>\n",
       "      <td>anon_1</td>\n",
       "      <td>Steamboat</td>\n",
       "      <td>5.0</td>\n",
       "    </tr>\n",
       "    <tr>\n",
       "      <th>3</th>\n",
       "      <td>anon_1</td>\n",
       "      <td>Copper Mountain</td>\n",
       "      <td>5.0</td>\n",
       "    </tr>\n",
       "    <tr>\n",
       "      <th>4</th>\n",
       "      <td>anon_2</td>\n",
       "      <td>Solitude Mountain</td>\n",
       "      <td>5.0</td>\n",
       "    </tr>\n",
       "  </tbody>\n",
       "</table>\n",
       "</div>"
      ],
      "text/plain": [
       "  user_name         ski_resort  rating\n",
       "0    anon_1        Winter Park     4.0\n",
       "1    anon_1     Arapahoe Basin     5.0\n",
       "2    anon_1          Steamboat     5.0\n",
       "3    anon_1    Copper Mountain     5.0\n",
       "4    anon_2  Solitude Mountain     5.0"
      ]
     },
     "execution_count": 163,
     "metadata": {},
     "output_type": "execute_result"
    }
   ],
   "source": [
    "surprise_df.head()"
   ]
  },
  {
   "cell_type": "code",
   "execution_count": 322,
   "metadata": {},
   "outputs": [
    {
     "data": {
      "text/plain": [
       "<surprise.prediction_algorithms.matrix_factorization.SVD at 0x7ff07058a730>"
      ]
     },
     "execution_count": 322,
     "metadata": {},
     "output_type": "execute_result"
    }
   ],
   "source": [
    "#saving Reader information\n",
    "reader = Reader(rating_scale=(1, 5))\n",
    "\n",
    "#loading final dataset\n",
    "data = Dataset.load_from_df(surprise_df[['user_name', 'ski_resort', 'rating']], reader)\n",
    "\n",
    "#making trainset\n",
    "trainset = data.build_full_trainset()\n",
    "\n",
    "#instantiating model and training\n",
    "algo = SVD(n_factors=140, n_epochs=40, biased=True)\n",
    "#algo = SVDpp(n_factors=125, n_epochs=35, init_mean=.02, reg_all=.03)\n",
    "algo.fit(trainset) "
   ]
  },
  {
   "cell_type": "code",
   "execution_count": 117,
   "metadata": {},
   "outputs": [
    {
     "data": {
      "text/html": [
       "<div>\n",
       "<style scoped>\n",
       "    .dataframe tbody tr th:only-of-type {\n",
       "        vertical-align: middle;\n",
       "    }\n",
       "\n",
       "    .dataframe tbody tr th {\n",
       "        vertical-align: top;\n",
       "    }\n",
       "\n",
       "    .dataframe thead th {\n",
       "        text-align: right;\n",
       "    }\n",
       "</style>\n",
       "<table border=\"1\" class=\"dataframe\">\n",
       "  <thead>\n",
       "    <tr style=\"text-align: right;\">\n",
       "      <th></th>\n",
       "      <th>ski_resort</th>\n",
       "    </tr>\n",
       "    <tr>\n",
       "      <th>user_name</th>\n",
       "      <th></th>\n",
       "    </tr>\n",
       "  </thead>\n",
       "  <tbody>\n",
       "    <tr>\n",
       "      <th>anon_1</th>\n",
       "      <td>Winter Park</td>\n",
       "    </tr>\n",
       "    <tr>\n",
       "      <th>anon_1</th>\n",
       "      <td>Arapahoe Basin</td>\n",
       "    </tr>\n",
       "    <tr>\n",
       "      <th>anon_1</th>\n",
       "      <td>Steamboat</td>\n",
       "    </tr>\n",
       "    <tr>\n",
       "      <th>anon_1</th>\n",
       "      <td>Copper Mountain</td>\n",
       "    </tr>\n",
       "    <tr>\n",
       "      <th>anon_2</th>\n",
       "      <td>Solitude Mountain</td>\n",
       "    </tr>\n",
       "  </tbody>\n",
       "</table>\n",
       "</div>"
      ],
      "text/plain": [
       "                  ski_resort\n",
       "user_name                   \n",
       "anon_1           Winter Park\n",
       "anon_1        Arapahoe Basin\n",
       "anon_1             Steamboat\n",
       "anon_1       Copper Mountain\n",
       "anon_2     Solitude Mountain"
      ]
     },
     "execution_count": 117,
     "metadata": {},
     "output_type": "execute_result"
    }
   ],
   "source": [
    "#saving new dataframe with only user information\n",
    "user_df = surprise_df.reset_index()\n",
    "user_df.set_index('user_name', inplace = True)\n",
    "user_df.drop(columns = ['rating', 'index'], inplace =True)\n",
    "user_df.head()"
   ]
  },
  {
   "cell_type": "code",
   "execution_count": 118,
   "metadata": {},
   "outputs": [
    {
     "name": "stdout",
     "output_type": "stream",
     "text": [
      "Number of users:  537 \n",
      "\n",
      "Number of items:  269\n"
     ]
    }
   ],
   "source": [
    "#looking at number of users\n",
    "print('Number of users: ', trainset.n_users, '\\n')\n",
    "print('Number of items: ', trainset.n_items)"
   ]
  },
  {
   "cell_type": "markdown",
   "metadata": {},
   "source": [
    "# Collaborative and Content Based Models"
   ]
  },
  {
   "cell_type": "markdown",
   "metadata": {},
   "source": [
    "### Final Collaborative Model"
   ]
  },
  {
   "cell_type": "code",
   "execution_count": 184,
   "metadata": {},
   "outputs": [
    {
     "data": {
      "text/plain": [
       "['Unnamed: 0',\n",
       " 'ski_resort',\n",
       " 'address',\n",
       " 'city',\n",
       " 'state',\n",
       " 'zipcode',\n",
       " 'summit',\n",
       " 'drop',\n",
       " 'base',\n",
       " 'gondolas_and_trams',\n",
       " 'fast_eight',\n",
       " 'high_speed_sixes',\n",
       " 'quad_chairs',\n",
       " 'triple_chairs',\n",
       " 'double_chairs',\n",
       " 'surface_lifts',\n",
       " 'total_runs',\n",
       " 'longest_run',\n",
       " 'skiable_terrain',\n",
       " 'snow_making',\n",
       " 'daysOpenLastYear',\n",
       " 'averageSnowfall',\n",
       " 'projectedOpening',\n",
       " 'projectedClosing',\n",
       " 'nov_snow',\n",
       " 'dec_snow',\n",
       " 'jan_snow',\n",
       " 'feb_snow',\n",
       " 'mar_snow',\n",
       " 'apr_snow',\n",
       " 'childrenWeekdayPrice',\n",
       " 'childrenWeekendPrice',\n",
       " 'teenagerWeekdayPrice',\n",
       " 'teenagerWeekendPrice',\n",
       " 'adultWeekdayPrice',\n",
       " 'adultWeekendPrice',\n",
       " 'seniorWeekdayPrice',\n",
       " 'seniorWeekendPrice',\n",
       " 'childrenPrice_season',\n",
       " 'teenagerPrice_season',\n",
       " 'adultPrice_season',\n",
       " 'Url',\n",
       " 'beginner_runs',\n",
       " 'intermediate_runs',\n",
       " 'advanced_runs',\n",
       " 'expert_runs',\n",
       " 'night_skiing',\n",
       " 'epic',\n",
       " 'mountain_collective',\n",
       " 'ikon',\n",
       " 'indy',\n",
       " 'dec_mean_2_guests',\n",
       " 'dec_min_2_guests',\n",
       " 'dec_max_2_guests',\n",
       " 'jan_mean_2_guests',\n",
       " 'jan_min_2_guests',\n",
       " 'jan_max_2_guests',\n",
       " 'feb_mean_2_guests',\n",
       " 'feb_min_2_guests',\n",
       " 'feb_max_2_guests',\n",
       " 'mar_mean_2_guests',\n",
       " 'mar_min_2_guests',\n",
       " 'mar_max_2_guests',\n",
       " 'apr_mean_2_guests',\n",
       " 'apr_min_2_guests',\n",
       " 'apr_max_2_guests',\n",
       " 'may_mean_2_guests',\n",
       " 'may_min_2_guests',\n",
       " 'may_max_2_guests',\n",
       " 'dec_mean_4_guests',\n",
       " 'dec_min_4_guests',\n",
       " 'dec_max_4_guests',\n",
       " 'jan_mean_4_guests',\n",
       " 'jan_min_4_guests',\n",
       " 'jan_max_4_guests',\n",
       " 'feb_mean_4_guests',\n",
       " 'feb_min_4_guests',\n",
       " 'feb_max_4_guests',\n",
       " 'mar_mean_4_guests',\n",
       " 'mar_min_4_guests',\n",
       " 'mar_max_4_guests',\n",
       " 'apr_mean_4_guests',\n",
       " 'apr_min_4_guests',\n",
       " 'apr_max_4_guests',\n",
       " 'may_mean_4_guests',\n",
       " 'may_min_4_guests',\n",
       " 'may_max_4_guests',\n",
       " 'full_address',\n",
       " 'latitude',\n",
       " 'longitude',\n",
       " 'airport_1',\n",
       " 'distance_1',\n",
       " 'lat',\n",
       " 'long',\n",
       " 'airport_2',\n",
       " 'distance_2',\n",
       " 'lat_2',\n",
       " 'long_2',\n",
       " 'airport_3',\n",
       " 'distance_3',\n",
       " 'lat_3',\n",
       " 'long_3',\n",
       " 'total_lifts']"
      ]
     },
     "execution_count": 184,
     "metadata": {},
     "output_type": "execute_result"
    }
   ],
   "source": [
    "content_df.columns.to_list()"
   ]
  },
  {
   "cell_type": "code",
   "execution_count": 165,
   "metadata": {},
   "outputs": [],
   "source": [
    "#Collaborative model\n",
    "def collaborative_model():\n",
    "    \n",
    "    user = str(input('Name: '))\n",
    "    n_recs = int(input('How many resort recommendations do you want? '))\n",
    "    \n",
    "    have_rated = list(user_df.loc[user, 'ski_resort'])\n",
    "    not_rated = content_df.copy()\n",
    "    not_rated = not_rated.loc[~not_rated['ski_resort'].isin(have_rated)]  # & (not_rated['state'] == state)]\n",
    "    not_rated = not_rated.drop_duplicates(subset=['ski_resort'])\n",
    "    not_rated.reset_index(inplace=True)\n",
    "    not_rated['predicted_rating'] = not_rated['ski_resort'].apply(lambda x: algo.predict(user, x).est)\n",
    "    not_rated.sort_values(by='predicted_rating', ascending=False, inplace=True)\n",
    "    not_rated = not_rated[['ski_resort', 'state', 'city', \"adultWeekdayPrice\", \"adultWeekendPrice\", 'summit', 'drop',\n",
    "                           'base','ikon', 'epic','mountain_collective',\n",
    "                          'advanced_runs',  'intermediate_runs', 'expert_runs', 'predicted_rating']].copy()\n",
    "\n",
    "    return not_rated.head(n_recs)"
   ]
  },
  {
   "cell_type": "code",
   "execution_count": 323,
   "metadata": {},
   "outputs": [
    {
     "name": "stdout",
     "output_type": "stream",
     "text": [
      "Name: Stephanie Ciaccia\n",
      "How many resort recommendations do you want? 3\n"
     ]
    },
    {
     "data": {
      "text/html": [
       "<div>\n",
       "<style scoped>\n",
       "    .dataframe tbody tr th:only-of-type {\n",
       "        vertical-align: middle;\n",
       "    }\n",
       "\n",
       "    .dataframe tbody tr th {\n",
       "        vertical-align: top;\n",
       "    }\n",
       "\n",
       "    .dataframe thead th {\n",
       "        text-align: right;\n",
       "    }\n",
       "</style>\n",
       "<table border=\"1\" class=\"dataframe\">\n",
       "  <thead>\n",
       "    <tr style=\"text-align: right;\">\n",
       "      <th></th>\n",
       "      <th>ski_resort</th>\n",
       "      <th>state</th>\n",
       "      <th>city</th>\n",
       "      <th>adultWeekdayPrice</th>\n",
       "      <th>adultWeekendPrice</th>\n",
       "      <th>summit</th>\n",
       "      <th>drop</th>\n",
       "      <th>base</th>\n",
       "      <th>ikon</th>\n",
       "      <th>epic</th>\n",
       "      <th>mountain_collective</th>\n",
       "      <th>advanced_runs</th>\n",
       "      <th>intermediate_runs</th>\n",
       "      <th>expert_runs</th>\n",
       "      <th>predicted_rating</th>\n",
       "    </tr>\n",
       "  </thead>\n",
       "  <tbody>\n",
       "    <tr>\n",
       "      <th>45</th>\n",
       "      <td>Telluride</td>\n",
       "      <td>Colorado</td>\n",
       "      <td>Telluride</td>\n",
       "      <td>209.0</td>\n",
       "      <td>219.0</td>\n",
       "      <td>13150</td>\n",
       "      <td>4425</td>\n",
       "      <td>8725</td>\n",
       "      <td>0</td>\n",
       "      <td>0</td>\n",
       "      <td>0</td>\n",
       "      <td>21</td>\n",
       "      <td>30</td>\n",
       "      <td>34.0</td>\n",
       "      <td>4.633803</td>\n",
       "    </tr>\n",
       "    <tr>\n",
       "      <th>47</th>\n",
       "      <td>Taos Ski Valley</td>\n",
       "      <td>New Mexico</td>\n",
       "      <td>Taos Ski Valley Ski Valley</td>\n",
       "      <td>195.0</td>\n",
       "      <td>195.0</td>\n",
       "      <td>12481</td>\n",
       "      <td>3281</td>\n",
       "      <td>9200</td>\n",
       "      <td>1</td>\n",
       "      <td>0</td>\n",
       "      <td>1</td>\n",
       "      <td>30</td>\n",
       "      <td>16</td>\n",
       "      <td>40.0</td>\n",
       "      <td>4.503358</td>\n",
       "    </tr>\n",
       "    <tr>\n",
       "      <th>12</th>\n",
       "      <td>Alta</td>\n",
       "      <td>Utah</td>\n",
       "      <td>Alta</td>\n",
       "      <td>159.0</td>\n",
       "      <td>NaN</td>\n",
       "      <td>11068</td>\n",
       "      <td>2538</td>\n",
       "      <td>8530</td>\n",
       "      <td>1</td>\n",
       "      <td>0</td>\n",
       "      <td>1</td>\n",
       "      <td>0</td>\n",
       "      <td>0</td>\n",
       "      <td>0.0</td>\n",
       "      <td>4.472603</td>\n",
       "    </tr>\n",
       "  </tbody>\n",
       "</table>\n",
       "</div>"
      ],
      "text/plain": [
       "         ski_resort       state                        city  \\\n",
       "45        Telluride    Colorado                   Telluride   \n",
       "47  Taos Ski Valley  New Mexico  Taos Ski Valley Ski Valley   \n",
       "12             Alta        Utah                        Alta   \n",
       "\n",
       "    adultWeekdayPrice  adultWeekendPrice  summit  drop  base  ikon  epic  \\\n",
       "45              209.0              219.0   13150  4425  8725     0     0   \n",
       "47              195.0              195.0   12481  3281  9200     1     0   \n",
       "12              159.0                NaN   11068  2538  8530     1     0   \n",
       "\n",
       "    mountain_collective  advanced_runs  intermediate_runs  expert_runs  \\\n",
       "45                    0             21                 30         34.0   \n",
       "47                    1             30                 16         40.0   \n",
       "12                    1              0                  0          0.0   \n",
       "\n",
       "    predicted_rating  \n",
       "45          4.633803  \n",
       "47          4.503358  \n",
       "12          4.472603  "
      ]
     },
     "execution_count": 323,
     "metadata": {},
     "output_type": "execute_result"
    }
   ],
   "source": [
    "collaborative_model()"
   ]
  },
  {
   "cell_type": "markdown",
   "metadata": {},
   "source": [
    "### Final Content Model"
   ]
  },
  {
   "cell_type": "code",
   "execution_count": 167,
   "metadata": {},
   "outputs": [],
   "source": [
    "# Content-based model\n",
    "def content_model():\n",
    "    \n",
    "    #user inputs\n",
    "    n_recs = int(input('How many resort recommendations do you want? '))\n",
    "    mountain_name = str(input(\"What's your favorite ski resort? \"))\n",
    "    travel_date = str(input('What month would you like to travel? '))\n",
    "    \n",
    "    # Pulling out an individual resort\n",
    "    y = sim_df.loc[[mountain_name]].T\n",
    "\n",
    "    #sorting values by similarity score\n",
    "    cos_sim_df = y.reset_index().sort_values(by=mountain_name, ascending=False).head(n_recs + 1)\n",
    "    \n",
    "    #making list for column names\n",
    "    rec_list = []\n",
    "    \n",
    "    #grabbing rows from content_matrix \n",
    "    for x in cos_sim_df['ski_resort']:\n",
    "        rec_df = content_matrix.loc[[x]]  \n",
    "        rec_list.append(rec_df)  #\n",
    "\n",
    "    rec_df = pd.concat(rec_list)\n",
    "\n",
    "    #Concatenate all the dataframes in rec_list into a single dataframe\n",
    "    concat_df = rec_df[[\"city\", \"state\", \"summit\", \"drop\", \"base\", \"adultWeekdayPrice\", \"adultWeekendPrice\", \n",
    "                           'ikon', 'epic','mountain_collective',\n",
    "                        \"beginner_runs\", \"intermediate_runs\", \"advanced_runs\", \"expert_runs\"]]\n",
    "    concat_df = concat_df.reset_index()\n",
    "\n",
    "    #filtering based on month to return airbnb prices and turning into dataframe\n",
    "    travel_date = travel_date.lower()\n",
    "\n",
    "    month = [\"december\", \"january\", \"february\", \"march\", \"april\", \"may\"]\n",
    "    month_abv = [\"dec\", \"jan\", \"feb\", \"mar\", \"apr\", \"may\"]\n",
    "\n",
    "    selected_columns = []\n",
    "    for x, y in zip(month_abv, month):\n",
    "        if travel_date == y:\n",
    "            selected_columns = [x + \"_mean_4_guests\", x + \"_mean_2_guests\"]\n",
    "\n",
    "    result = rec_df[selected_columns]\n",
    "    result = result.reset_index()\n",
    "\n",
    "    #merging dataframes \n",
    "    final_concat_df = pd.merge(concat_df, result, on=\"ski_resort\")\n",
    "    \n",
    "    #dropping mountain name from the results\n",
    "    final_concat_df = final_concat_df[final_concat_df.ski_resort != mountain_name]\n",
    "\n",
    "    #showing final dataframe\n",
    "    return(final_concat_df.head(n_recs))"
   ]
  },
  {
   "cell_type": "code",
   "execution_count": 171,
   "metadata": {},
   "outputs": [
    {
     "name": "stdout",
     "output_type": "stream",
     "text": [
      "How many resort recommendations do you want? 3\n",
      "What's your favorite ski resort? Snowbird\n",
      "What month would you like to travel? December\n"
     ]
    },
    {
     "data": {
      "text/html": [
       "<div>\n",
       "<style scoped>\n",
       "    .dataframe tbody tr th:only-of-type {\n",
       "        vertical-align: middle;\n",
       "    }\n",
       "\n",
       "    .dataframe tbody tr th {\n",
       "        vertical-align: top;\n",
       "    }\n",
       "\n",
       "    .dataframe thead th {\n",
       "        text-align: right;\n",
       "    }\n",
       "</style>\n",
       "<table border=\"1\" class=\"dataframe\">\n",
       "  <thead>\n",
       "    <tr style=\"text-align: right;\">\n",
       "      <th></th>\n",
       "      <th>ski_resort</th>\n",
       "      <th>city</th>\n",
       "      <th>state</th>\n",
       "      <th>summit</th>\n",
       "      <th>drop</th>\n",
       "      <th>base</th>\n",
       "      <th>adultWeekdayPrice</th>\n",
       "      <th>adultWeekendPrice</th>\n",
       "      <th>ikon</th>\n",
       "      <th>epic</th>\n",
       "      <th>mountain_collective</th>\n",
       "      <th>beginner_runs</th>\n",
       "      <th>intermediate_runs</th>\n",
       "      <th>advanced_runs</th>\n",
       "      <th>expert_runs</th>\n",
       "      <th>dec_mean_4_guests</th>\n",
       "      <th>dec_mean_2_guests</th>\n",
       "    </tr>\n",
       "  </thead>\n",
       "  <tbody>\n",
       "    <tr>\n",
       "      <th>1</th>\n",
       "      <td>Alta</td>\n",
       "      <td>Alta</td>\n",
       "      <td>Utah</td>\n",
       "      <td>11068</td>\n",
       "      <td>2538</td>\n",
       "      <td>8530</td>\n",
       "      <td>159.0</td>\n",
       "      <td>NaN</td>\n",
       "      <td>1</td>\n",
       "      <td>0</td>\n",
       "      <td>1</td>\n",
       "      <td>0</td>\n",
       "      <td>0</td>\n",
       "      <td>0</td>\n",
       "      <td>0.0</td>\n",
       "      <td>352</td>\n",
       "      <td>277</td>\n",
       "    </tr>\n",
       "    <tr>\n",
       "      <th>2</th>\n",
       "      <td>Snowbasin</td>\n",
       "      <td>Huntsville</td>\n",
       "      <td>Utah</td>\n",
       "      <td>9350</td>\n",
       "      <td>2900</td>\n",
       "      <td>6450</td>\n",
       "      <td>149.0</td>\n",
       "      <td>169.0</td>\n",
       "      <td>1</td>\n",
       "      <td>0</td>\n",
       "      <td>1</td>\n",
       "      <td>9</td>\n",
       "      <td>33</td>\n",
       "      <td>52</td>\n",
       "      <td>6.0</td>\n",
       "      <td>240</td>\n",
       "      <td>215</td>\n",
       "    </tr>\n",
       "    <tr>\n",
       "      <th>3</th>\n",
       "      <td>Crystal Mountain Washington</td>\n",
       "      <td>Crystal Mountain</td>\n",
       "      <td>Washington</td>\n",
       "      <td>7012</td>\n",
       "      <td>3100</td>\n",
       "      <td>4400</td>\n",
       "      <td>99.0</td>\n",
       "      <td>99.0</td>\n",
       "      <td>1</td>\n",
       "      <td>0</td>\n",
       "      <td>0</td>\n",
       "      <td>8</td>\n",
       "      <td>31</td>\n",
       "      <td>32</td>\n",
       "      <td>29.0</td>\n",
       "      <td>293</td>\n",
       "      <td>210</td>\n",
       "    </tr>\n",
       "  </tbody>\n",
       "</table>\n",
       "</div>"
      ],
      "text/plain": [
       "                    ski_resort              city       state  summit  drop  \\\n",
       "1                         Alta              Alta        Utah   11068  2538   \n",
       "2                    Snowbasin        Huntsville        Utah    9350  2900   \n",
       "3  Crystal Mountain Washington  Crystal Mountain  Washington    7012  3100   \n",
       "\n",
       "   base  adultWeekdayPrice  adultWeekendPrice  ikon  epic  \\\n",
       "1  8530              159.0                NaN     1     0   \n",
       "2  6450              149.0              169.0     1     0   \n",
       "3  4400               99.0               99.0     1     0   \n",
       "\n",
       "   mountain_collective  beginner_runs  intermediate_runs  advanced_runs  \\\n",
       "1                    1              0                  0              0   \n",
       "2                    1              9                 33             52   \n",
       "3                    0              8                 31             32   \n",
       "\n",
       "   expert_runs  dec_mean_4_guests  dec_mean_2_guests  \n",
       "1          0.0                352                277  \n",
       "2          6.0                240                215  \n",
       "3         29.0                293                210  "
      ]
     },
     "execution_count": 171,
     "metadata": {},
     "output_type": "execute_result"
    }
   ],
   "source": [
    "content_model()"
   ]
  },
  {
   "cell_type": "markdown",
   "metadata": {},
   "source": [
    "## Cascade-Hybrid Model"
   ]
  },
  {
   "cell_type": "markdown",
   "metadata": {},
   "source": [
    "I will be creating a cascade hybrid model for my final recommendation system. \n",
    "\n",
    "Unlike traditional collaborative user-based models commonly used in music and streaming platforms, these models have limitations when applied to the context of ski trip planning, given the higher opportunity cost involved.\n",
    "\n",
    "The hybrid model begins with a collaborative model, and takes the top 50 resorts and then will refine the final recommendations by using the content based system, which will use the user's input as a guide for the final recommendations. \n",
    "\n",
    "In combining the models, there were a few adjustments that neede to be made:\n",
    "- Since it is not guaranteed that the user's input for their mountain preference will be selected by the collaborative model, I added in the user's mountain as the top recommendation for the collaborative model. I did this my adding in the row to the final output dataframe, and then assigning the predicted rating to 5 to ensure that it appeared at the top of all results.\n",
    "- I adjusted the content based model to use the final dataframe from the collaborative model. This included the top 50 results."
   ]
  },
  {
   "cell_type": "code",
   "execution_count": 295,
   "metadata": {},
   "outputs": [],
   "source": [
    "# User inputs\n",
    "user = \"Stephanie Ciaccia\"\n",
    "n_recs = 5\n",
    "mountain_name = \"Stevens Pass\"\n",
    "travel_date = \"December\"\n",
    "mtn_pass = \"Epic\"\n",
    "    \n",
    "# Pulling out an individual resort\n",
    "y = sim_df.loc[[mountain_name]].T\n",
    "    \n",
    "#sorting values by similarity score\n",
    "cos_sim_df = y.reset_index().sort_values(by=mountain_name, ascending=False)\n",
    "    \n",
    "#making list for column names\n",
    "rec_list = []\n",
    "    \n",
    "#grabbing rows from content_matrix for final output\n",
    "for x in cos_sim_df['ski_resort']:\n",
    "    rec_df = content_matrix.loc[[x]]  \n",
    "    rec_list.append(rec_df)  #\n",
    "\n",
    "rec_df = pd.concat(rec_list)\n",
    "\n",
    "#Concatenate all the dataframes in rec_list into a single dataframe\n",
    "concat_df = rec_df[[\"city\", \"state\", \"summit\", \"drop\", \"base\",\"adultWeekdayPrice\", \"adultWeekendPrice\",\n",
    "                           \"beginner_runs\", \"intermediate_runs\", \"advanced_runs\", \"expert_runs\",\n",
    "                        \"ikon\", \"epic\", \"mountain_collective\", 'indy']]\n",
    "    \n",
    "concat_df = concat_df.reset_index()"
   ]
  },
  {
   "cell_type": "code",
   "execution_count": 296,
   "metadata": {},
   "outputs": [],
   "source": [
    "#filtering based on month to return airbnb prices and turning into dataframe\n",
    "travel_date = travel_date.lower()\n",
    "\n",
    "month = [\"december\", \"january\", \"february\", \"march\", \"april\", \"may\"]\n",
    "month_abv = [\"dec\", \"jan\", \"feb\", \"mar\", \"apr\", \"may\"]\n",
    "\n",
    "selected_columns = []\n",
    "for x, y in zip(month_abv, month):\n",
    "    if travel_date == y:\n",
    "        selected_columns = [x + \"_mean_4_guests\", x + \"_mean_2_guests\"]\n",
    "\n",
    "result = rec_df[selected_columns]\n",
    "result = result.reset_index()                        \n",
    "content_recommendations = pd.merge(concat_df, result, on=\"ski_resort\")"
   ]
  },
  {
   "cell_type": "code",
   "execution_count": 297,
   "metadata": {},
   "outputs": [
    {
     "data": {
      "text/html": [
       "<div>\n",
       "<style scoped>\n",
       "    .dataframe tbody tr th:only-of-type {\n",
       "        vertical-align: middle;\n",
       "    }\n",
       "\n",
       "    .dataframe tbody tr th {\n",
       "        vertical-align: top;\n",
       "    }\n",
       "\n",
       "    .dataframe thead th {\n",
       "        text-align: right;\n",
       "    }\n",
       "</style>\n",
       "<table border=\"1\" class=\"dataframe\">\n",
       "  <thead>\n",
       "    <tr style=\"text-align: right;\">\n",
       "      <th></th>\n",
       "      <th>ski_resort</th>\n",
       "      <th>city</th>\n",
       "      <th>state</th>\n",
       "      <th>summit</th>\n",
       "      <th>drop</th>\n",
       "      <th>base</th>\n",
       "      <th>adultWeekdayPrice</th>\n",
       "      <th>adultWeekendPrice</th>\n",
       "      <th>beginner_runs</th>\n",
       "      <th>intermediate_runs</th>\n",
       "      <th>advanced_runs</th>\n",
       "      <th>expert_runs</th>\n",
       "      <th>ikon</th>\n",
       "      <th>epic</th>\n",
       "      <th>mountain_collective</th>\n",
       "      <th>indy</th>\n",
       "      <th>dec_mean_4_guests</th>\n",
       "      <th>dec_mean_2_guests</th>\n",
       "    </tr>\n",
       "  </thead>\n",
       "  <tbody>\n",
       "    <tr>\n",
       "      <th>0</th>\n",
       "      <td>Stevens Pass</td>\n",
       "      <td>Skykomish</td>\n",
       "      <td>Washington</td>\n",
       "      <td>5845</td>\n",
       "      <td>1800</td>\n",
       "      <td>4061</td>\n",
       "      <td>NaN</td>\n",
       "      <td>NaN</td>\n",
       "      <td>8</td>\n",
       "      <td>43</td>\n",
       "      <td>31</td>\n",
       "      <td>18.0</td>\n",
       "      <td>0</td>\n",
       "      <td>1</td>\n",
       "      <td>0</td>\n",
       "      <td>0</td>\n",
       "      <td>276</td>\n",
       "      <td>235</td>\n",
       "    </tr>\n",
       "    <tr>\n",
       "      <th>1</th>\n",
       "      <td>Boreal</td>\n",
       "      <td>Truckee</td>\n",
       "      <td>California</td>\n",
       "      <td>7700</td>\n",
       "      <td>500</td>\n",
       "      <td>7200</td>\n",
       "      <td>49.0</td>\n",
       "      <td>NaN</td>\n",
       "      <td>26</td>\n",
       "      <td>29</td>\n",
       "      <td>44</td>\n",
       "      <td>0.0</td>\n",
       "      <td>0</td>\n",
       "      <td>0</td>\n",
       "      <td>0</td>\n",
       "      <td>0</td>\n",
       "      <td>275</td>\n",
       "      <td>231</td>\n",
       "    </tr>\n",
       "    <tr>\n",
       "      <th>2</th>\n",
       "      <td>Timberline Lodge</td>\n",
       "      <td>Timberline Lodge</td>\n",
       "      <td>Oregon</td>\n",
       "      <td>8540</td>\n",
       "      <td>3690</td>\n",
       "      <td>6000</td>\n",
       "      <td>NaN</td>\n",
       "      <td>NaN</td>\n",
       "      <td>0</td>\n",
       "      <td>0</td>\n",
       "      <td>0</td>\n",
       "      <td>0.0</td>\n",
       "      <td>0</td>\n",
       "      <td>0</td>\n",
       "      <td>0</td>\n",
       "      <td>0</td>\n",
       "      <td>255</td>\n",
       "      <td>208</td>\n",
       "    </tr>\n",
       "    <tr>\n",
       "      <th>3</th>\n",
       "      <td>Bear Valley</td>\n",
       "      <td>Bear Valley</td>\n",
       "      <td>California</td>\n",
       "      <td>8500</td>\n",
       "      <td>1900</td>\n",
       "      <td>6600</td>\n",
       "      <td>NaN</td>\n",
       "      <td>NaN</td>\n",
       "      <td>11</td>\n",
       "      <td>41</td>\n",
       "      <td>45</td>\n",
       "      <td>4.0</td>\n",
       "      <td>0</td>\n",
       "      <td>0</td>\n",
       "      <td>0</td>\n",
       "      <td>0</td>\n",
       "      <td>270</td>\n",
       "      <td>235</td>\n",
       "    </tr>\n",
       "    <tr>\n",
       "      <th>4</th>\n",
       "      <td>Mt. Hood Meadows</td>\n",
       "      <td>Mt. Hood</td>\n",
       "      <td>Oregon</td>\n",
       "      <td>7300</td>\n",
       "      <td>2777</td>\n",
       "      <td>4523</td>\n",
       "      <td>NaN</td>\n",
       "      <td>NaN</td>\n",
       "      <td>0</td>\n",
       "      <td>0</td>\n",
       "      <td>0</td>\n",
       "      <td>0.0</td>\n",
       "      <td>0</td>\n",
       "      <td>0</td>\n",
       "      <td>0</td>\n",
       "      <td>1</td>\n",
       "      <td>267</td>\n",
       "      <td>184</td>\n",
       "    </tr>\n",
       "    <tr>\n",
       "      <th>...</th>\n",
       "      <td>...</td>\n",
       "      <td>...</td>\n",
       "      <td>...</td>\n",
       "      <td>...</td>\n",
       "      <td>...</td>\n",
       "      <td>...</td>\n",
       "      <td>...</td>\n",
       "      <td>...</td>\n",
       "      <td>...</td>\n",
       "      <td>...</td>\n",
       "      <td>...</td>\n",
       "      <td>...</td>\n",
       "      <td>...</td>\n",
       "      <td>...</td>\n",
       "      <td>...</td>\n",
       "      <td>...</td>\n",
       "      <td>...</td>\n",
       "      <td>...</td>\n",
       "    </tr>\n",
       "    <tr>\n",
       "      <th>325</th>\n",
       "      <td>Elko SnoBowl</td>\n",
       "      <td>Elko</td>\n",
       "      <td>Nevada</td>\n",
       "      <td>7000</td>\n",
       "      <td>700</td>\n",
       "      <td>6300</td>\n",
       "      <td>20.0</td>\n",
       "      <td>20.0</td>\n",
       "      <td>0</td>\n",
       "      <td>0</td>\n",
       "      <td>0</td>\n",
       "      <td>0.0</td>\n",
       "      <td>0</td>\n",
       "      <td>0</td>\n",
       "      <td>0</td>\n",
       "      <td>0</td>\n",
       "      <td>195</td>\n",
       "      <td>164</td>\n",
       "    </tr>\n",
       "    <tr>\n",
       "      <th>326</th>\n",
       "      <td>Mt. Southington</td>\n",
       "      <td>Southington</td>\n",
       "      <td>Connecticut</td>\n",
       "      <td>525</td>\n",
       "      <td>425</td>\n",
       "      <td>100</td>\n",
       "      <td>60.0</td>\n",
       "      <td>60.0</td>\n",
       "      <td>43</td>\n",
       "      <td>43</td>\n",
       "      <td>14</td>\n",
       "      <td>0.0</td>\n",
       "      <td>0</td>\n",
       "      <td>0</td>\n",
       "      <td>0</td>\n",
       "      <td>0</td>\n",
       "      <td>231</td>\n",
       "      <td>150</td>\n",
       "    </tr>\n",
       "    <tr>\n",
       "      <th>327</th>\n",
       "      <td>Powder Ridge Connecticut</td>\n",
       "      <td>Middlefield</td>\n",
       "      <td>Connecticut</td>\n",
       "      <td>720</td>\n",
       "      <td>550</td>\n",
       "      <td>170</td>\n",
       "      <td>45.0</td>\n",
       "      <td>55.0</td>\n",
       "      <td>45</td>\n",
       "      <td>40</td>\n",
       "      <td>15</td>\n",
       "      <td>0.0</td>\n",
       "      <td>0</td>\n",
       "      <td>0</td>\n",
       "      <td>0</td>\n",
       "      <td>0</td>\n",
       "      <td>233</td>\n",
       "      <td>180</td>\n",
       "    </tr>\n",
       "    <tr>\n",
       "      <th>328</th>\n",
       "      <td>Villa Olivia</td>\n",
       "      <td>Bartlett</td>\n",
       "      <td>Illinois</td>\n",
       "      <td>500</td>\n",
       "      <td>180</td>\n",
       "      <td>320</td>\n",
       "      <td>40.0</td>\n",
       "      <td>40.0</td>\n",
       "      <td>0</td>\n",
       "      <td>0</td>\n",
       "      <td>0</td>\n",
       "      <td>0.0</td>\n",
       "      <td>0</td>\n",
       "      <td>0</td>\n",
       "      <td>0</td>\n",
       "      <td>0</td>\n",
       "      <td>238</td>\n",
       "      <td>169</td>\n",
       "    </tr>\n",
       "    <tr>\n",
       "      <th>329</th>\n",
       "      <td>Massanutten</td>\n",
       "      <td>Harrisonburg</td>\n",
       "      <td>Virginia</td>\n",
       "      <td>2925</td>\n",
       "      <td>1110</td>\n",
       "      <td>1750</td>\n",
       "      <td>55.0</td>\n",
       "      <td>79.0</td>\n",
       "      <td>30</td>\n",
       "      <td>43</td>\n",
       "      <td>26</td>\n",
       "      <td>0.0</td>\n",
       "      <td>0</td>\n",
       "      <td>0</td>\n",
       "      <td>0</td>\n",
       "      <td>1</td>\n",
       "      <td>223</td>\n",
       "      <td>143</td>\n",
       "    </tr>\n",
       "  </tbody>\n",
       "</table>\n",
       "<p>330 rows × 18 columns</p>\n",
       "</div>"
      ],
      "text/plain": [
       "                   ski_resort              city        state  summit  drop  \\\n",
       "0                Stevens Pass         Skykomish   Washington    5845  1800   \n",
       "1                      Boreal           Truckee   California    7700   500   \n",
       "2            Timberline Lodge  Timberline Lodge       Oregon    8540  3690   \n",
       "3                 Bear Valley       Bear Valley   California    8500  1900   \n",
       "4            Mt. Hood Meadows          Mt. Hood       Oregon    7300  2777   \n",
       "..                        ...               ...          ...     ...   ...   \n",
       "325              Elko SnoBowl              Elko       Nevada    7000   700   \n",
       "326           Mt. Southington       Southington  Connecticut     525   425   \n",
       "327  Powder Ridge Connecticut       Middlefield  Connecticut     720   550   \n",
       "328              Villa Olivia          Bartlett     Illinois     500   180   \n",
       "329               Massanutten      Harrisonburg     Virginia    2925  1110   \n",
       "\n",
       "     base  adultWeekdayPrice  adultWeekendPrice  beginner_runs  \\\n",
       "0    4061                NaN                NaN              8   \n",
       "1    7200               49.0                NaN             26   \n",
       "2    6000                NaN                NaN              0   \n",
       "3    6600                NaN                NaN             11   \n",
       "4    4523                NaN                NaN              0   \n",
       "..    ...                ...                ...            ...   \n",
       "325  6300               20.0               20.0              0   \n",
       "326   100               60.0               60.0             43   \n",
       "327   170               45.0               55.0             45   \n",
       "328   320               40.0               40.0              0   \n",
       "329  1750               55.0               79.0             30   \n",
       "\n",
       "     intermediate_runs  advanced_runs  expert_runs  ikon  epic  \\\n",
       "0                   43             31         18.0     0     1   \n",
       "1                   29             44          0.0     0     0   \n",
       "2                    0              0          0.0     0     0   \n",
       "3                   41             45          4.0     0     0   \n",
       "4                    0              0          0.0     0     0   \n",
       "..                 ...            ...          ...   ...   ...   \n",
       "325                  0              0          0.0     0     0   \n",
       "326                 43             14          0.0     0     0   \n",
       "327                 40             15          0.0     0     0   \n",
       "328                  0              0          0.0     0     0   \n",
       "329                 43             26          0.0     0     0   \n",
       "\n",
       "     mountain_collective  indy  dec_mean_4_guests  dec_mean_2_guests  \n",
       "0                      0     0                276                235  \n",
       "1                      0     0                275                231  \n",
       "2                      0     0                255                208  \n",
       "3                      0     0                270                235  \n",
       "4                      0     1                267                184  \n",
       "..                   ...   ...                ...                ...  \n",
       "325                    0     0                195                164  \n",
       "326                    0     0                231                150  \n",
       "327                    0     0                233                180  \n",
       "328                    0     0                238                169  \n",
       "329                    0     1                223                143  \n",
       "\n",
       "[330 rows x 18 columns]"
      ]
     },
     "execution_count": 297,
     "metadata": {},
     "output_type": "execute_result"
    }
   ],
   "source": [
    "content_recommendations"
   ]
  },
  {
   "cell_type": "code",
   "execution_count": 298,
   "metadata": {},
   "outputs": [],
   "source": [
    "#adding mountain fil\n",
    "if mtn_pass == \"Ikon\":\n",
    "    content_recommendations = content_recommendations.loc[content_recommendations['ikon'] == 1]\n",
    "elif mtn_pass == \"Epic\":\n",
    "    content_recommendations = content_recommendations.loc[content_recommendations['epic'] == 1]\n",
    "elif mtn_pass == \"Mountain_collective\":\n",
    "    content_recommendations = content_recommendations.loc[content_recommendations['mountain_collective'] == 1]\n",
    "elif mtn_pass == \"Indy\":\n",
    "    content_recommendations = content_recommendations.loc[content_recommendations['indy'] == 1]\n",
    "elif mtn_pass == \"No\":\n",
    "    pass"
   ]
  },
  {
   "cell_type": "code",
   "execution_count": 299,
   "metadata": {},
   "outputs": [],
   "source": [
    "content_recommendations = content_recommendations[content_recommendations.ski_resort != mountain_name].head(20)"
   ]
  },
  {
   "cell_type": "code",
   "execution_count": 301,
   "metadata": {},
   "outputs": [
    {
     "data": {
      "text/html": [
       "<div>\n",
       "<style scoped>\n",
       "    .dataframe tbody tr th:only-of-type {\n",
       "        vertical-align: middle;\n",
       "    }\n",
       "\n",
       "    .dataframe tbody tr th {\n",
       "        vertical-align: top;\n",
       "    }\n",
       "\n",
       "    .dataframe thead th {\n",
       "        text-align: right;\n",
       "    }\n",
       "</style>\n",
       "<table border=\"1\" class=\"dataframe\">\n",
       "  <thead>\n",
       "    <tr style=\"text-align: right;\">\n",
       "      <th></th>\n",
       "      <th>ski_resort</th>\n",
       "      <th>city</th>\n",
       "      <th>state</th>\n",
       "      <th>summit</th>\n",
       "      <th>drop</th>\n",
       "      <th>base</th>\n",
       "      <th>adultWeekdayPrice</th>\n",
       "      <th>adultWeekendPrice</th>\n",
       "      <th>beginner_runs</th>\n",
       "      <th>intermediate_runs</th>\n",
       "      <th>advanced_runs</th>\n",
       "      <th>expert_runs</th>\n",
       "      <th>dec_mean_4_guests</th>\n",
       "      <th>dec_mean_2_guests</th>\n",
       "      <th>predicted_rating</th>\n",
       "    </tr>\n",
       "  </thead>\n",
       "  <tbody>\n",
       "    <tr>\n",
       "      <th>12</th>\n",
       "      <td>Mt. Sunapee</td>\n",
       "      <td>Newbury</td>\n",
       "      <td>New Hampshire</td>\n",
       "      <td>2743</td>\n",
       "      <td>1510</td>\n",
       "      <td>1233</td>\n",
       "      <td>NaN</td>\n",
       "      <td>NaN</td>\n",
       "      <td>29</td>\n",
       "      <td>47</td>\n",
       "      <td>24</td>\n",
       "      <td>0.0</td>\n",
       "      <td>266</td>\n",
       "      <td>197</td>\n",
       "      <td>4.262017</td>\n",
       "    </tr>\n",
       "    <tr>\n",
       "      <th>15</th>\n",
       "      <td>Attitash</td>\n",
       "      <td>Bartlett</td>\n",
       "      <td>New Hampshire</td>\n",
       "      <td>2350</td>\n",
       "      <td>1750</td>\n",
       "      <td>600</td>\n",
       "      <td>79.0</td>\n",
       "      <td>89.0</td>\n",
       "      <td>26</td>\n",
       "      <td>46</td>\n",
       "      <td>28</td>\n",
       "      <td>0.0</td>\n",
       "      <td>211</td>\n",
       "      <td>164</td>\n",
       "      <td>4.192880</td>\n",
       "    </tr>\n",
       "    <tr>\n",
       "      <th>17</th>\n",
       "      <td>Heavenly Mountain</td>\n",
       "      <td>Stateline</td>\n",
       "      <td>California</td>\n",
       "      <td>10067</td>\n",
       "      <td>3500</td>\n",
       "      <td>7170</td>\n",
       "      <td>189.0</td>\n",
       "      <td>225.0</td>\n",
       "      <td>7</td>\n",
       "      <td>60</td>\n",
       "      <td>27</td>\n",
       "      <td>5.0</td>\n",
       "      <td>318</td>\n",
       "      <td>219</td>\n",
       "      <td>4.161810</td>\n",
       "    </tr>\n",
       "    <tr>\n",
       "      <th>6</th>\n",
       "      <td>Okemo Mountain</td>\n",
       "      <td>Ludlow</td>\n",
       "      <td>Vermont</td>\n",
       "      <td>3344</td>\n",
       "      <td>2200</td>\n",
       "      <td>1144</td>\n",
       "      <td>NaN</td>\n",
       "      <td>NaN</td>\n",
       "      <td>33</td>\n",
       "      <td>38</td>\n",
       "      <td>21</td>\n",
       "      <td>9.0</td>\n",
       "      <td>290</td>\n",
       "      <td>266</td>\n",
       "      <td>4.069245</td>\n",
       "    </tr>\n",
       "    <tr>\n",
       "      <th>1</th>\n",
       "      <td>Stowe Mountain</td>\n",
       "      <td>Stowe Mountain</td>\n",
       "      <td>Vermont</td>\n",
       "      <td>4395</td>\n",
       "      <td>2360</td>\n",
       "      <td>2035</td>\n",
       "      <td>NaN</td>\n",
       "      <td>NaN</td>\n",
       "      <td>16</td>\n",
       "      <td>55</td>\n",
       "      <td>15</td>\n",
       "      <td>15.0</td>\n",
       "      <td>354</td>\n",
       "      <td>231</td>\n",
       "      <td>3.980972</td>\n",
       "    </tr>\n",
       "  </tbody>\n",
       "</table>\n",
       "</div>"
      ],
      "text/plain": [
       "           ski_resort            city          state  summit  drop  base  \\\n",
       "12        Mt. Sunapee         Newbury  New Hampshire    2743  1510  1233   \n",
       "15           Attitash        Bartlett  New Hampshire    2350  1750   600   \n",
       "17  Heavenly Mountain       Stateline     California   10067  3500  7170   \n",
       "6      Okemo Mountain          Ludlow        Vermont    3344  2200  1144   \n",
       "1      Stowe Mountain  Stowe Mountain        Vermont    4395  2360  2035   \n",
       "\n",
       "    adultWeekdayPrice  adultWeekendPrice  beginner_runs  intermediate_runs  \\\n",
       "12                NaN                NaN             29                 47   \n",
       "15               79.0               89.0             26                 46   \n",
       "17              189.0              225.0              7                 60   \n",
       "6                 NaN                NaN             33                 38   \n",
       "1                 NaN                NaN             16                 55   \n",
       "\n",
       "    advanced_runs  expert_runs  dec_mean_4_guests  dec_mean_2_guests  \\\n",
       "12             24          0.0                266                197   \n",
       "15             28          0.0                211                164   \n",
       "17             27          5.0                318                219   \n",
       "6              21          9.0                290                266   \n",
       "1              15         15.0                354                231   \n",
       "\n",
       "    predicted_rating  \n",
       "12          4.262017  \n",
       "15          4.192880  \n",
       "17          4.161810  \n",
       "6           4.069245  \n",
       "1           3.980972  "
      ]
     },
     "execution_count": 301,
     "metadata": {},
     "output_type": "execute_result"
    }
   ],
   "source": [
    "# Collaborative model\n",
    "have_rated = list(user_df.loc[user, 'ski_resort'])\n",
    "not_rated = final_user_df.copy()\n",
    "not_rated = not_rated.loc[~not_rated['ski_resort'].isin(have_rated)]\n",
    "not_rated = not_rated.drop_duplicates(subset=['ski_resort'])\n",
    "not_rated.reset_index(inplace=True)\n",
    "not_rated['predicted_rating'] = not_rated['ski_resort'].apply(lambda x: algo.predict(user, x).est)\n",
    "not_rated.sort_values(by='predicted_rating', ascending=False, inplace=True)\n",
    "collaborative_recommendations = not_rated[['ski_resort', 'predicted_rating']]\n",
    "\n",
    "# Combine content-based and collaborative recommendations\n",
    "combined_recommendations = pd.merge(content_recommendations, collaborative_recommendations, on='ski_resort', how='left')\n",
    "combined_recommendations = combined_recommendations.drop_duplicates(subset=['ski_resort'])\n",
    "combined_recommendations.sort_values(by='predicted_rating', ascending=False, inplace=True)\n",
    "combined_recommendations.drop(columns=['ikon', 'mountain_collective', 'epic', 'indy'], inplace=True)\n",
    "combined_recommendations.head(n_recs)"
   ]
  },
  {
   "cell_type": "code",
   "execution_count": 340,
   "metadata": {},
   "outputs": [],
   "source": [
    "def hybrid_model_content():\n",
    "    \n",
    "    # User inputs\n",
    "    user = str(input('Name: '))\n",
    "    n_recs = int(input('How many resort recommendations do you want? '))\n",
    "    mountain_name = str(input(\"What's your favorite ski resort? \"))\n",
    "    travel_date = str(input('What month would you like to travel? '))\n",
    "    #mtn_pass = str(input('Are you using a multi-resort pass?  '))\n",
    "    \n",
    "    # Pulling out an individual resort\n",
    "    y = sim_df.loc[[mountain_name]].T\n",
    "    \n",
    "    #sorting values by similarity score\n",
    "    cos_sim_df = y.reset_index().sort_values(by=mountain_name, ascending=False)\n",
    "    \n",
    "    #making list for column names\n",
    "    rec_list = []\n",
    "    \n",
    "    #grabbing rows from content_matrix for final output\n",
    "    for x in cos_sim_df['ski_resort']:\n",
    "        rec_df = content_matrix.loc[[x]]  \n",
    "        rec_list.append(rec_df)  #\n",
    "\n",
    "    rec_df = pd.concat(rec_list)\n",
    "\n",
    "    #Concatenate all the dataframes in rec_list into a single dataframe\n",
    "    concat_df = rec_df[[\"city\", \"state\", \"summit\", \"drop\", \"base\",\"adultWeekdayPrice\", \"adultWeekendPrice\",\n",
    "                           \"beginner_runs\", \"intermediate_runs\", \"advanced_runs\", \"expert_runs\",\n",
    "                        \"ikon\", \"epic\", \"mountain_collective\", 'indy','nov_snow', 'dec_snow',\n",
    "                        'jan_snow', 'feb_snow', 'mar_snow','apr_snow']]\n",
    "    \n",
    "    concat_df = concat_df.reset_index()\n",
    "\n",
    "    #filtering based on month to return airbnb prices and turning into dataframe\n",
    "    travel_date = travel_date.lower()\n",
    "\n",
    "    month = [\"december\", \"january\", \"february\", \"march\", \"april\", \"may\"]\n",
    "    month_abv = [\"dec\", \"jan\", \"feb\", \"mar\", \"apr\", \"may\"]\n",
    "\n",
    "    selected_columns = []\n",
    "    for x, y in zip(month_abv, month):\n",
    "        if travel_date == y:\n",
    "            selected_columns = [x + \"_mean_4_guests\", x + \"_mean_2_guests\"]\n",
    "\n",
    "    result = rec_df[selected_columns]\n",
    "    result = result.reset_index()                        \n",
    "    content_recommendations = pd.merge(concat_df, result, on=\"ski_resort\")\n",
    "    \n",
    "    #adding mountain fil\n",
    "    if mtn_pass == \"Ikon\":\n",
    "        content_recommendations = content_recommendations.loc[content_recommendations['ikon'] == 1]\n",
    "    elif mtn_pass == \"Epic\":\n",
    "        content_recommendations = content_recommendations.loc[content_recommendations['epic'] == 1]\n",
    "    elif mtn_pass == \"Mountain_collective\":\n",
    "        content_recommendations = content_recommendations.loc[content_recommendations['mountain_collective'] == 1]\n",
    "    elif mtn_pass == \"Indy\":\n",
    "        content_recommendations = content_recommendations.loc[content_recommendations['indy'] == 1]\n",
    "    elif mtn_pass == \"No\":\n",
    "        pass\n",
    "    \n",
    "    content_recommendations = content_recommendations[content_recommendations.ski_resort != mountain_name].head(30)\n",
    "\n",
    "    # Collaborative model\n",
    "    have_rated = list(user_df.loc[user, 'ski_resort'])\n",
    "    not_rated = final_user_df.copy()\n",
    "    not_rated = not_rated.loc[~not_rated['ski_resort'].isin(have_rated)]\n",
    "    not_rated = not_rated.drop_duplicates(subset=['ski_resort'])\n",
    "    not_rated.reset_index(inplace=True)\n",
    "    not_rated['predicted_rating'] = not_rated['ski_resort'].apply(lambda x: algo.predict(user, x).est)\n",
    "    not_rated.sort_values(by='predicted_rating', ascending=False, inplace=True)\n",
    "    collaborative_recommendations = not_rated[['ski_resort', 'predicted_rating']]\n",
    "\n",
    "    # Combine content-based and collaborative recommendations\n",
    "    combined_recommendations = pd.merge(content_recommendations, collaborative_recommendations, on='ski_resort', how='left')\n",
    "    combined_recommendations = combined_recommendations.drop_duplicates(subset=['ski_resort'])\n",
    "    combined_recommendations.sort_values(by='predicted_rating', ascending=False, inplace=True)\n",
    "    combined_recommendations.drop(columns=['ikon', 'mountain_collective', 'epic', 'indy'], inplace=True)\n",
    "    return combined_recommendations.head(n_recs)"
   ]
  },
  {
   "cell_type": "markdown",
   "metadata": {},
   "source": [
    "# Results - Testing"
   ]
  },
  {
   "cell_type": "markdown",
   "metadata": {},
   "source": [
    "I will be testing the model results with users whose mountain preferences have been definied:\n",
    "\n",
    "- Stephanie C. - Enjoys mountains with advanced and expert terrain. Enjoys mountains that have good ammenities and that are close to public transportation.\n",
    "- Alexandria K. - Mountains where the majority of skiiers are there for the sport, and that do not feel overly \"bougey\". Skies in expert terrain.\n",
    "- Raghava K. - Enjoys large mountains, back bowls, expert terrain. Parking and mountain ammenities are also important."
   ]
  },
  {
   "cell_type": "markdown",
   "metadata": {},
   "source": [
    "#### Alexandria's Results"
   ]
  },
  {
   "cell_type": "code",
   "execution_count": 175,
   "metadata": {},
   "outputs": [
    {
     "name": "stdout",
     "output_type": "stream",
     "text": [
      "How many resort recommendations do you want? 3\n",
      "What's your favorite ski resort? Stevens Pass\n",
      "What month would you like to travel? December\n"
     ]
    },
    {
     "data": {
      "text/html": [
       "<div>\n",
       "<style scoped>\n",
       "    .dataframe tbody tr th:only-of-type {\n",
       "        vertical-align: middle;\n",
       "    }\n",
       "\n",
       "    .dataframe tbody tr th {\n",
       "        vertical-align: top;\n",
       "    }\n",
       "\n",
       "    .dataframe thead th {\n",
       "        text-align: right;\n",
       "    }\n",
       "</style>\n",
       "<table border=\"1\" class=\"dataframe\">\n",
       "  <thead>\n",
       "    <tr style=\"text-align: right;\">\n",
       "      <th></th>\n",
       "      <th>ski_resort</th>\n",
       "      <th>city</th>\n",
       "      <th>state</th>\n",
       "      <th>summit</th>\n",
       "      <th>drop</th>\n",
       "      <th>base</th>\n",
       "      <th>adultWeekdayPrice</th>\n",
       "      <th>adultWeekendPrice</th>\n",
       "      <th>ikon</th>\n",
       "      <th>epic</th>\n",
       "      <th>mountain_collective</th>\n",
       "      <th>beginner_runs</th>\n",
       "      <th>intermediate_runs</th>\n",
       "      <th>advanced_runs</th>\n",
       "      <th>expert_runs</th>\n",
       "      <th>dec_mean_4_guests</th>\n",
       "      <th>dec_mean_2_guests</th>\n",
       "    </tr>\n",
       "  </thead>\n",
       "  <tbody>\n",
       "    <tr>\n",
       "      <th>1</th>\n",
       "      <td>Boreal</td>\n",
       "      <td>Truckee</td>\n",
       "      <td>California</td>\n",
       "      <td>7700</td>\n",
       "      <td>500</td>\n",
       "      <td>7200</td>\n",
       "      <td>49.0</td>\n",
       "      <td>NaN</td>\n",
       "      <td>0</td>\n",
       "      <td>0</td>\n",
       "      <td>0</td>\n",
       "      <td>26</td>\n",
       "      <td>29</td>\n",
       "      <td>44</td>\n",
       "      <td>0.0</td>\n",
       "      <td>275</td>\n",
       "      <td>231</td>\n",
       "    </tr>\n",
       "    <tr>\n",
       "      <th>2</th>\n",
       "      <td>Timberline Lodge</td>\n",
       "      <td>Timberline Lodge</td>\n",
       "      <td>Oregon</td>\n",
       "      <td>8540</td>\n",
       "      <td>3690</td>\n",
       "      <td>6000</td>\n",
       "      <td>NaN</td>\n",
       "      <td>NaN</td>\n",
       "      <td>0</td>\n",
       "      <td>0</td>\n",
       "      <td>0</td>\n",
       "      <td>0</td>\n",
       "      <td>0</td>\n",
       "      <td>0</td>\n",
       "      <td>0.0</td>\n",
       "      <td>255</td>\n",
       "      <td>208</td>\n",
       "    </tr>\n",
       "    <tr>\n",
       "      <th>3</th>\n",
       "      <td>Bear Valley</td>\n",
       "      <td>Bear Valley</td>\n",
       "      <td>California</td>\n",
       "      <td>8500</td>\n",
       "      <td>1900</td>\n",
       "      <td>6600</td>\n",
       "      <td>NaN</td>\n",
       "      <td>NaN</td>\n",
       "      <td>0</td>\n",
       "      <td>0</td>\n",
       "      <td>0</td>\n",
       "      <td>11</td>\n",
       "      <td>41</td>\n",
       "      <td>45</td>\n",
       "      <td>4.0</td>\n",
       "      <td>270</td>\n",
       "      <td>235</td>\n",
       "    </tr>\n",
       "  </tbody>\n",
       "</table>\n",
       "</div>"
      ],
      "text/plain": [
       "         ski_resort              city       state  summit  drop  base  \\\n",
       "1            Boreal           Truckee  California    7700   500  7200   \n",
       "2  Timberline Lodge  Timberline Lodge      Oregon    8540  3690  6000   \n",
       "3       Bear Valley       Bear Valley  California    8500  1900  6600   \n",
       "\n",
       "   adultWeekdayPrice  adultWeekendPrice  ikon  epic  mountain_collective  \\\n",
       "1               49.0                NaN     0     0                    0   \n",
       "2                NaN                NaN     0     0                    0   \n",
       "3                NaN                NaN     0     0                    0   \n",
       "\n",
       "   beginner_runs  intermediate_runs  advanced_runs  expert_runs  \\\n",
       "1             26                 29             44          0.0   \n",
       "2              0                  0              0          0.0   \n",
       "3             11                 41             45          4.0   \n",
       "\n",
       "   dec_mean_4_guests  dec_mean_2_guests  \n",
       "1                275                231  \n",
       "2                255                208  \n",
       "3                270                235  "
      ]
     },
     "execution_count": 175,
     "metadata": {},
     "output_type": "execute_result"
    }
   ],
   "source": [
    "content_model()"
   ]
  },
  {
   "cell_type": "code",
   "execution_count": 324,
   "metadata": {},
   "outputs": [
    {
     "name": "stdout",
     "output_type": "stream",
     "text": [
      "Name: Alexandria Kelly\n",
      "How many resort recommendations do you want? 3\n"
     ]
    },
    {
     "data": {
      "text/html": [
       "<div>\n",
       "<style scoped>\n",
       "    .dataframe tbody tr th:only-of-type {\n",
       "        vertical-align: middle;\n",
       "    }\n",
       "\n",
       "    .dataframe tbody tr th {\n",
       "        vertical-align: top;\n",
       "    }\n",
       "\n",
       "    .dataframe thead th {\n",
       "        text-align: right;\n",
       "    }\n",
       "</style>\n",
       "<table border=\"1\" class=\"dataframe\">\n",
       "  <thead>\n",
       "    <tr style=\"text-align: right;\">\n",
       "      <th></th>\n",
       "      <th>ski_resort</th>\n",
       "      <th>state</th>\n",
       "      <th>city</th>\n",
       "      <th>adultWeekdayPrice</th>\n",
       "      <th>adultWeekendPrice</th>\n",
       "      <th>summit</th>\n",
       "      <th>drop</th>\n",
       "      <th>base</th>\n",
       "      <th>ikon</th>\n",
       "      <th>epic</th>\n",
       "      <th>mountain_collective</th>\n",
       "      <th>advanced_runs</th>\n",
       "      <th>intermediate_runs</th>\n",
       "      <th>expert_runs</th>\n",
       "      <th>predicted_rating</th>\n",
       "    </tr>\n",
       "  </thead>\n",
       "  <tbody>\n",
       "    <tr>\n",
       "      <th>51</th>\n",
       "      <td>Breckenridge</td>\n",
       "      <td>Colorado</td>\n",
       "      <td>Breckenridge</td>\n",
       "      <td>149.0</td>\n",
       "      <td>179.0</td>\n",
       "      <td>12998</td>\n",
       "      <td>3398</td>\n",
       "      <td>9600</td>\n",
       "      <td>0</td>\n",
       "      <td>1</td>\n",
       "      <td>0</td>\n",
       "      <td>36</td>\n",
       "      <td>23</td>\n",
       "      <td>28.0</td>\n",
       "      <td>4.500829</td>\n",
       "    </tr>\n",
       "    <tr>\n",
       "      <th>19</th>\n",
       "      <td>Snowbasin</td>\n",
       "      <td>Utah</td>\n",
       "      <td>Huntsville</td>\n",
       "      <td>149.0</td>\n",
       "      <td>169.0</td>\n",
       "      <td>9350</td>\n",
       "      <td>2900</td>\n",
       "      <td>6450</td>\n",
       "      <td>1</td>\n",
       "      <td>0</td>\n",
       "      <td>1</td>\n",
       "      <td>52</td>\n",
       "      <td>33</td>\n",
       "      <td>6.0</td>\n",
       "      <td>4.495850</td>\n",
       "    </tr>\n",
       "    <tr>\n",
       "      <th>45</th>\n",
       "      <td>Telluride</td>\n",
       "      <td>Colorado</td>\n",
       "      <td>Telluride</td>\n",
       "      <td>209.0</td>\n",
       "      <td>219.0</td>\n",
       "      <td>13150</td>\n",
       "      <td>4425</td>\n",
       "      <td>8725</td>\n",
       "      <td>0</td>\n",
       "      <td>0</td>\n",
       "      <td>0</td>\n",
       "      <td>21</td>\n",
       "      <td>30</td>\n",
       "      <td>34.0</td>\n",
       "      <td>4.484695</td>\n",
       "    </tr>\n",
       "  </tbody>\n",
       "</table>\n",
       "</div>"
      ],
      "text/plain": [
       "      ski_resort     state          city  adultWeekdayPrice  \\\n",
       "51  Breckenridge  Colorado  Breckenridge              149.0   \n",
       "19     Snowbasin      Utah    Huntsville              149.0   \n",
       "45     Telluride  Colorado     Telluride              209.0   \n",
       "\n",
       "    adultWeekendPrice  summit  drop  base  ikon  epic  mountain_collective  \\\n",
       "51              179.0   12998  3398  9600     0     1                    0   \n",
       "19              169.0    9350  2900  6450     1     0                    1   \n",
       "45              219.0   13150  4425  8725     0     0                    0   \n",
       "\n",
       "    advanced_runs  intermediate_runs  expert_runs  predicted_rating  \n",
       "51             36                 23         28.0          4.500829  \n",
       "19             52                 33          6.0          4.495850  \n",
       "45             21                 30         34.0          4.484695  "
      ]
     },
     "execution_count": 324,
     "metadata": {},
     "output_type": "execute_result"
    }
   ],
   "source": [
    "collaborative_model()"
   ]
  },
  {
   "cell_type": "code",
   "execution_count": 327,
   "metadata": {},
   "outputs": [
    {
     "name": "stdout",
     "output_type": "stream",
     "text": [
      "Name: Alexandria Kelly\n",
      "How many resort recommendations do you want? 3\n",
      "What's your favorite ski resort? Stevens Pass\n",
      "What month would you like to travel? December\n"
     ]
    },
    {
     "data": {
      "text/html": [
       "<div>\n",
       "<style scoped>\n",
       "    .dataframe tbody tr th:only-of-type {\n",
       "        vertical-align: middle;\n",
       "    }\n",
       "\n",
       "    .dataframe tbody tr th {\n",
       "        vertical-align: top;\n",
       "    }\n",
       "\n",
       "    .dataframe thead th {\n",
       "        text-align: right;\n",
       "    }\n",
       "</style>\n",
       "<table border=\"1\" class=\"dataframe\">\n",
       "  <thead>\n",
       "    <tr style=\"text-align: right;\">\n",
       "      <th></th>\n",
       "      <th>ski_resort</th>\n",
       "      <th>city</th>\n",
       "      <th>state</th>\n",
       "      <th>summit</th>\n",
       "      <th>drop</th>\n",
       "      <th>base</th>\n",
       "      <th>adultWeekdayPrice</th>\n",
       "      <th>adultWeekendPrice</th>\n",
       "      <th>beginner_runs</th>\n",
       "      <th>intermediate_runs</th>\n",
       "      <th>advanced_runs</th>\n",
       "      <th>expert_runs</th>\n",
       "      <th>dec_mean_4_guests</th>\n",
       "      <th>dec_mean_2_guests</th>\n",
       "      <th>predicted_rating</th>\n",
       "    </tr>\n",
       "  </thead>\n",
       "  <tbody>\n",
       "    <tr>\n",
       "      <th>13</th>\n",
       "      <td>Brighton</td>\n",
       "      <td>Brighton</td>\n",
       "      <td>Utah</td>\n",
       "      <td>10500</td>\n",
       "      <td>1745</td>\n",
       "      <td>8755</td>\n",
       "      <td>85.00</td>\n",
       "      <td>85.00</td>\n",
       "      <td>0</td>\n",
       "      <td>0</td>\n",
       "      <td>0</td>\n",
       "      <td>0.0</td>\n",
       "      <td>375</td>\n",
       "      <td>322</td>\n",
       "      <td>4.325022</td>\n",
       "    </tr>\n",
       "    <tr>\n",
       "      <th>14</th>\n",
       "      <td>Kirkwood</td>\n",
       "      <td>Kirkwood</td>\n",
       "      <td>California</td>\n",
       "      <td>9800</td>\n",
       "      <td>2000</td>\n",
       "      <td>7800</td>\n",
       "      <td>NaN</td>\n",
       "      <td>NaN</td>\n",
       "      <td>0</td>\n",
       "      <td>0</td>\n",
       "      <td>0</td>\n",
       "      <td>0.0</td>\n",
       "      <td>371</td>\n",
       "      <td>304</td>\n",
       "      <td>4.168588</td>\n",
       "    </tr>\n",
       "    <tr>\n",
       "      <th>29</th>\n",
       "      <td>Mt. Baker</td>\n",
       "      <td>Bellingham</td>\n",
       "      <td>Washington</td>\n",
       "      <td>5000</td>\n",
       "      <td>1500</td>\n",
       "      <td>3500</td>\n",
       "      <td>87.04</td>\n",
       "      <td>87.04</td>\n",
       "      <td>0</td>\n",
       "      <td>0</td>\n",
       "      <td>0</td>\n",
       "      <td>0.0</td>\n",
       "      <td>265</td>\n",
       "      <td>151</td>\n",
       "      <td>4.090883</td>\n",
       "    </tr>\n",
       "  </tbody>\n",
       "</table>\n",
       "</div>"
      ],
      "text/plain": [
       "   ski_resort        city       state  summit  drop  base  adultWeekdayPrice  \\\n",
       "13   Brighton    Brighton        Utah   10500  1745  8755              85.00   \n",
       "14   Kirkwood    Kirkwood  California    9800  2000  7800                NaN   \n",
       "29  Mt. Baker  Bellingham  Washington    5000  1500  3500              87.04   \n",
       "\n",
       "    adultWeekendPrice  beginner_runs  intermediate_runs  advanced_runs  \\\n",
       "13              85.00              0                  0              0   \n",
       "14                NaN              0                  0              0   \n",
       "29              87.04              0                  0              0   \n",
       "\n",
       "    expert_runs  dec_mean_4_guests  dec_mean_2_guests  predicted_rating  \n",
       "13          0.0                375                322          4.325022  \n",
       "14          0.0                371                304          4.168588  \n",
       "29          0.0                265                151          4.090883  "
      ]
     },
     "execution_count": 327,
     "metadata": {},
     "output_type": "execute_result"
    }
   ],
   "source": [
    "hybrid_model_content()"
   ]
  },
  {
   "cell_type": "code",
   "execution_count": 317,
   "metadata": {},
   "outputs": [
    {
     "name": "stdout",
     "output_type": "stream",
     "text": [
      "Name: Alexandria Kelly\n",
      "How many resort recommendations do you want? 5\n",
      "What's your favorite ski resort? Stevens Pass\n",
      "What month would you like to travel? December\n"
     ]
    },
    {
     "data": {
      "text/html": [
       "<div>\n",
       "<style scoped>\n",
       "    .dataframe tbody tr th:only-of-type {\n",
       "        vertical-align: middle;\n",
       "    }\n",
       "\n",
       "    .dataframe tbody tr th {\n",
       "        vertical-align: top;\n",
       "    }\n",
       "\n",
       "    .dataframe thead th {\n",
       "        text-align: right;\n",
       "    }\n",
       "</style>\n",
       "<table border=\"1\" class=\"dataframe\">\n",
       "  <thead>\n",
       "    <tr style=\"text-align: right;\">\n",
       "      <th></th>\n",
       "      <th>ski_resort</th>\n",
       "      <th>city</th>\n",
       "      <th>state</th>\n",
       "      <th>summit</th>\n",
       "      <th>drop</th>\n",
       "      <th>base</th>\n",
       "      <th>adultWeekdayPrice</th>\n",
       "      <th>adultWeekendPrice</th>\n",
       "      <th>beginner_runs</th>\n",
       "      <th>intermediate_runs</th>\n",
       "      <th>advanced_runs</th>\n",
       "      <th>expert_runs</th>\n",
       "      <th>dec_mean_4_guests</th>\n",
       "      <th>dec_mean_2_guests</th>\n",
       "      <th>predicted_rating</th>\n",
       "    </tr>\n",
       "  </thead>\n",
       "  <tbody>\n",
       "    <tr>\n",
       "      <th>10</th>\n",
       "      <td>June Mountain</td>\n",
       "      <td>June Lake</td>\n",
       "      <td>California</td>\n",
       "      <td>10090</td>\n",
       "      <td>2590</td>\n",
       "      <td>7545</td>\n",
       "      <td>NaN</td>\n",
       "      <td>NaN</td>\n",
       "      <td>16</td>\n",
       "      <td>40</td>\n",
       "      <td>28</td>\n",
       "      <td>16.0</td>\n",
       "      <td>313</td>\n",
       "      <td>289</td>\n",
       "      <td>3.991108</td>\n",
       "    </tr>\n",
       "    <tr>\n",
       "      <th>19</th>\n",
       "      <td>Mt. Bachelor</td>\n",
       "      <td>Bend</td>\n",
       "      <td>Oregon</td>\n",
       "      <td>9065</td>\n",
       "      <td>3365</td>\n",
       "      <td>5700</td>\n",
       "      <td>109.0</td>\n",
       "      <td>109.0</td>\n",
       "      <td>19</td>\n",
       "      <td>55</td>\n",
       "      <td>22</td>\n",
       "      <td>3.0</td>\n",
       "      <td>231</td>\n",
       "      <td>157</td>\n",
       "      <td>3.978858</td>\n",
       "    </tr>\n",
       "    <tr>\n",
       "      <th>14</th>\n",
       "      <td>Kirkwood</td>\n",
       "      <td>Kirkwood</td>\n",
       "      <td>California</td>\n",
       "      <td>9800</td>\n",
       "      <td>2000</td>\n",
       "      <td>7800</td>\n",
       "      <td>NaN</td>\n",
       "      <td>NaN</td>\n",
       "      <td>0</td>\n",
       "      <td>0</td>\n",
       "      <td>0</td>\n",
       "      <td>0.0</td>\n",
       "      <td>371</td>\n",
       "      <td>304</td>\n",
       "      <td>3.899944</td>\n",
       "    </tr>\n",
       "    <tr>\n",
       "      <th>9</th>\n",
       "      <td>Stowe Mountain</td>\n",
       "      <td>Stowe Mountain</td>\n",
       "      <td>Vermont</td>\n",
       "      <td>4395</td>\n",
       "      <td>2360</td>\n",
       "      <td>2035</td>\n",
       "      <td>NaN</td>\n",
       "      <td>NaN</td>\n",
       "      <td>16</td>\n",
       "      <td>55</td>\n",
       "      <td>15</td>\n",
       "      <td>15.0</td>\n",
       "      <td>354</td>\n",
       "      <td>231</td>\n",
       "      <td>3.867025</td>\n",
       "    </tr>\n",
       "    <tr>\n",
       "      <th>16</th>\n",
       "      <td>Crystal Mountain Washington</td>\n",
       "      <td>Crystal Mountain</td>\n",
       "      <td>Washington</td>\n",
       "      <td>7012</td>\n",
       "      <td>3100</td>\n",
       "      <td>4400</td>\n",
       "      <td>99.0</td>\n",
       "      <td>99.0</td>\n",
       "      <td>8</td>\n",
       "      <td>31</td>\n",
       "      <td>32</td>\n",
       "      <td>29.0</td>\n",
       "      <td>293</td>\n",
       "      <td>210</td>\n",
       "      <td>3.851127</td>\n",
       "    </tr>\n",
       "  </tbody>\n",
       "</table>\n",
       "</div>"
      ],
      "text/plain": [
       "                     ski_resort              city       state  summit  drop  \\\n",
       "10                June Mountain         June Lake  California   10090  2590   \n",
       "19                 Mt. Bachelor              Bend      Oregon    9065  3365   \n",
       "14                     Kirkwood          Kirkwood  California    9800  2000   \n",
       "9                Stowe Mountain    Stowe Mountain     Vermont    4395  2360   \n",
       "16  Crystal Mountain Washington  Crystal Mountain  Washington    7012  3100   \n",
       "\n",
       "    base  adultWeekdayPrice  adultWeekendPrice  beginner_runs  \\\n",
       "10  7545                NaN                NaN             16   \n",
       "19  5700              109.0              109.0             19   \n",
       "14  7800                NaN                NaN              0   \n",
       "9   2035                NaN                NaN             16   \n",
       "16  4400               99.0               99.0              8   \n",
       "\n",
       "    intermediate_runs  advanced_runs  expert_runs  dec_mean_4_guests  \\\n",
       "10                 40             28         16.0                313   \n",
       "19                 55             22          3.0                231   \n",
       "14                  0              0          0.0                371   \n",
       "9                  55             15         15.0                354   \n",
       "16                 31             32         29.0                293   \n",
       "\n",
       "    dec_mean_2_guests  predicted_rating  \n",
       "10                289          3.991108  \n",
       "19                157          3.978858  \n",
       "14                304          3.899944  \n",
       "9                 231          3.867025  \n",
       "16                210          3.851127  "
      ]
     },
     "execution_count": 317,
     "metadata": {},
     "output_type": "execute_result"
    }
   ],
   "source": [
    "hybrid_model_content()"
   ]
  },
  {
   "cell_type": "markdown",
   "metadata": {},
   "source": [
    "#### Raghava's Results"
   ]
  },
  {
   "cell_type": "code",
   "execution_count": 242,
   "metadata": {},
   "outputs": [
    {
     "name": "stdout",
     "output_type": "stream",
     "text": [
      "How many resort recommendations do you want? 3\n",
      "What's your favorite ski resort? Telluride\n",
      "What month would you like to travel? December\n"
     ]
    },
    {
     "data": {
      "text/html": [
       "<div>\n",
       "<style scoped>\n",
       "    .dataframe tbody tr th:only-of-type {\n",
       "        vertical-align: middle;\n",
       "    }\n",
       "\n",
       "    .dataframe tbody tr th {\n",
       "        vertical-align: top;\n",
       "    }\n",
       "\n",
       "    .dataframe thead th {\n",
       "        text-align: right;\n",
       "    }\n",
       "</style>\n",
       "<table border=\"1\" class=\"dataframe\">\n",
       "  <thead>\n",
       "    <tr style=\"text-align: right;\">\n",
       "      <th></th>\n",
       "      <th>ski_resort</th>\n",
       "      <th>city</th>\n",
       "      <th>state</th>\n",
       "      <th>summit</th>\n",
       "      <th>drop</th>\n",
       "      <th>base</th>\n",
       "      <th>adultWeekdayPrice</th>\n",
       "      <th>adultWeekendPrice</th>\n",
       "      <th>beginner_runs</th>\n",
       "      <th>intermediate_runs</th>\n",
       "      <th>advanced_runs</th>\n",
       "      <th>expert_runs</th>\n",
       "      <th>dec_mean_4_guests</th>\n",
       "      <th>dec_mean_2_guests</th>\n",
       "    </tr>\n",
       "  </thead>\n",
       "  <tbody>\n",
       "    <tr>\n",
       "      <th>1</th>\n",
       "      <td>Aspen Snowmass</td>\n",
       "      <td>Aspen</td>\n",
       "      <td>Colorado</td>\n",
       "      <td>12510</td>\n",
       "      <td>4406</td>\n",
       "      <td>8104</td>\n",
       "      <td>189.0</td>\n",
       "      <td>199.0</td>\n",
       "      <td>0</td>\n",
       "      <td>0</td>\n",
       "      <td>0</td>\n",
       "      <td>0.0</td>\n",
       "      <td>624</td>\n",
       "      <td>316</td>\n",
       "    </tr>\n",
       "    <tr>\n",
       "      <th>2</th>\n",
       "      <td>Solitude Mountain</td>\n",
       "      <td>Brighton</td>\n",
       "      <td>Utah</td>\n",
       "      <td>10488</td>\n",
       "      <td>2494</td>\n",
       "      <td>7994</td>\n",
       "      <td>115.0</td>\n",
       "      <td>115.0</td>\n",
       "      <td>6</td>\n",
       "      <td>46</td>\n",
       "      <td>30</td>\n",
       "      <td>18.0</td>\n",
       "      <td>375</td>\n",
       "      <td>322</td>\n",
       "    </tr>\n",
       "    <tr>\n",
       "      <th>3</th>\n",
       "      <td>Beaver Creek</td>\n",
       "      <td>Vail</td>\n",
       "      <td>Colorado</td>\n",
       "      <td>11440</td>\n",
       "      <td>3340</td>\n",
       "      <td>8100</td>\n",
       "      <td>191.0</td>\n",
       "      <td>275.0</td>\n",
       "      <td>38</td>\n",
       "      <td>30</td>\n",
       "      <td>24</td>\n",
       "      <td>8.0</td>\n",
       "      <td>420</td>\n",
       "      <td>268</td>\n",
       "    </tr>\n",
       "  </tbody>\n",
       "</table>\n",
       "</div>"
      ],
      "text/plain": [
       "          ski_resort      city     state  summit  drop  base  \\\n",
       "1     Aspen Snowmass     Aspen  Colorado   12510  4406  8104   \n",
       "2  Solitude Mountain  Brighton      Utah   10488  2494  7994   \n",
       "3       Beaver Creek      Vail  Colorado   11440  3340  8100   \n",
       "\n",
       "   adultWeekdayPrice  adultWeekendPrice  beginner_runs  intermediate_runs  \\\n",
       "1              189.0              199.0              0                  0   \n",
       "2              115.0              115.0              6                 46   \n",
       "3              191.0              275.0             38                 30   \n",
       "\n",
       "   advanced_runs  expert_runs  dec_mean_4_guests  dec_mean_2_guests  \n",
       "1              0          0.0                624                316  \n",
       "2             30         18.0                375                322  \n",
       "3             24          8.0                420                268  "
      ]
     },
     "execution_count": 242,
     "metadata": {},
     "output_type": "execute_result"
    }
   ],
   "source": [
    "content_model()"
   ]
  },
  {
   "cell_type": "code",
   "execution_count": 356,
   "metadata": {},
   "outputs": [
    {
     "name": "stdout",
     "output_type": "stream",
     "text": [
      "Name: Raghava Kamalesh\n",
      "How many resort recommendations do you want? 3\n"
     ]
    },
    {
     "data": {
      "text/html": [
       "<div>\n",
       "<style scoped>\n",
       "    .dataframe tbody tr th:only-of-type {\n",
       "        vertical-align: middle;\n",
       "    }\n",
       "\n",
       "    .dataframe tbody tr th {\n",
       "        vertical-align: top;\n",
       "    }\n",
       "\n",
       "    .dataframe thead th {\n",
       "        text-align: right;\n",
       "    }\n",
       "</style>\n",
       "<table border=\"1\" class=\"dataframe\">\n",
       "  <thead>\n",
       "    <tr style=\"text-align: right;\">\n",
       "      <th></th>\n",
       "      <th>ski_resort</th>\n",
       "      <th>state</th>\n",
       "      <th>city</th>\n",
       "      <th>adultWeekdayPrice</th>\n",
       "      <th>adultWeekendPrice</th>\n",
       "      <th>summit</th>\n",
       "      <th>drop</th>\n",
       "      <th>base</th>\n",
       "      <th>ikon</th>\n",
       "      <th>epic</th>\n",
       "      <th>mountain_collective</th>\n",
       "      <th>advanced_runs</th>\n",
       "      <th>intermediate_runs</th>\n",
       "      <th>expert_runs</th>\n",
       "      <th>predicted_rating</th>\n",
       "    </tr>\n",
       "  </thead>\n",
       "  <tbody>\n",
       "    <tr>\n",
       "      <th>20</th>\n",
       "      <td>Snowbasin</td>\n",
       "      <td>Utah</td>\n",
       "      <td>Huntsville</td>\n",
       "      <td>149.0</td>\n",
       "      <td>169.0</td>\n",
       "      <td>9350</td>\n",
       "      <td>2900</td>\n",
       "      <td>6450</td>\n",
       "      <td>1</td>\n",
       "      <td>0</td>\n",
       "      <td>1</td>\n",
       "      <td>52</td>\n",
       "      <td>33</td>\n",
       "      <td>6.0</td>\n",
       "      <td>4.875112</td>\n",
       "    </tr>\n",
       "    <tr>\n",
       "      <th>14</th>\n",
       "      <td>Snowbird</td>\n",
       "      <td>Utah</td>\n",
       "      <td>Snowbird</td>\n",
       "      <td>184.0</td>\n",
       "      <td>NaN</td>\n",
       "      <td>11000</td>\n",
       "      <td>3240</td>\n",
       "      <td>7760</td>\n",
       "      <td>1</td>\n",
       "      <td>0</td>\n",
       "      <td>1</td>\n",
       "      <td>43</td>\n",
       "      <td>25</td>\n",
       "      <td>24.0</td>\n",
       "      <td>4.801601</td>\n",
       "    </tr>\n",
       "    <tr>\n",
       "      <th>93</th>\n",
       "      <td>Lutsen Mountains</td>\n",
       "      <td>Minnesota</td>\n",
       "      <td>Lutsen Mountains</td>\n",
       "      <td>95.0</td>\n",
       "      <td>105.0</td>\n",
       "      <td>1688</td>\n",
       "      <td>825</td>\n",
       "      <td>800</td>\n",
       "      <td>0</td>\n",
       "      <td>0</td>\n",
       "      <td>0</td>\n",
       "      <td>24</td>\n",
       "      <td>58</td>\n",
       "      <td>8.0</td>\n",
       "      <td>4.742234</td>\n",
       "    </tr>\n",
       "  </tbody>\n",
       "</table>\n",
       "</div>"
      ],
      "text/plain": [
       "          ski_resort      state              city  adultWeekdayPrice  \\\n",
       "20         Snowbasin       Utah        Huntsville              149.0   \n",
       "14          Snowbird       Utah          Snowbird              184.0   \n",
       "93  Lutsen Mountains  Minnesota  Lutsen Mountains               95.0   \n",
       "\n",
       "    adultWeekendPrice  summit  drop  base  ikon  epic  mountain_collective  \\\n",
       "20              169.0    9350  2900  6450     1     0                    1   \n",
       "14                NaN   11000  3240  7760     1     0                    1   \n",
       "93              105.0    1688   825   800     0     0                    0   \n",
       "\n",
       "    advanced_runs  intermediate_runs  expert_runs  predicted_rating  \n",
       "20             52                 33          6.0          4.875112  \n",
       "14             43                 25         24.0          4.801601  \n",
       "93             24                 58          8.0          4.742234  "
      ]
     },
     "execution_count": 356,
     "metadata": {},
     "output_type": "execute_result"
    }
   ],
   "source": [
    "collaborative_model()"
   ]
  },
  {
   "cell_type": "code",
   "execution_count": 357,
   "metadata": {},
   "outputs": [
    {
     "name": "stdout",
     "output_type": "stream",
     "text": [
      "Name: Raghava Kamalesh\n",
      "How many resort recommendations do you want? 3\n",
      "What's your favorite ski resort? Snowbird\n",
      "What month would you like to travel? December\n"
     ]
    },
    {
     "data": {
      "text/html": [
       "<div>\n",
       "<style scoped>\n",
       "    .dataframe tbody tr th:only-of-type {\n",
       "        vertical-align: middle;\n",
       "    }\n",
       "\n",
       "    .dataframe tbody tr th {\n",
       "        vertical-align: top;\n",
       "    }\n",
       "\n",
       "    .dataframe thead th {\n",
       "        text-align: right;\n",
       "    }\n",
       "</style>\n",
       "<table border=\"1\" class=\"dataframe\">\n",
       "  <thead>\n",
       "    <tr style=\"text-align: right;\">\n",
       "      <th></th>\n",
       "      <th>ski_resort</th>\n",
       "      <th>city</th>\n",
       "      <th>state</th>\n",
       "      <th>summit</th>\n",
       "      <th>drop</th>\n",
       "      <th>base</th>\n",
       "      <th>adultWeekdayPrice</th>\n",
       "      <th>adultWeekendPrice</th>\n",
       "      <th>beginner_runs</th>\n",
       "      <th>intermediate_runs</th>\n",
       "      <th>...</th>\n",
       "      <th>expert_runs</th>\n",
       "      <th>nov_snow</th>\n",
       "      <th>dec_snow</th>\n",
       "      <th>jan_snow</th>\n",
       "      <th>feb_snow</th>\n",
       "      <th>mar_snow</th>\n",
       "      <th>apr_snow</th>\n",
       "      <th>dec_mean_4_guests</th>\n",
       "      <th>dec_mean_2_guests</th>\n",
       "      <th>predicted_rating</th>\n",
       "    </tr>\n",
       "  </thead>\n",
       "  <tbody>\n",
       "    <tr>\n",
       "      <th>1</th>\n",
       "      <td>Snowbasin</td>\n",
       "      <td>Huntsville</td>\n",
       "      <td>Utah</td>\n",
       "      <td>9350</td>\n",
       "      <td>2900</td>\n",
       "      <td>6450</td>\n",
       "      <td>149.0</td>\n",
       "      <td>169.0</td>\n",
       "      <td>9</td>\n",
       "      <td>33</td>\n",
       "      <td>...</td>\n",
       "      <td>6.0</td>\n",
       "      <td>14</td>\n",
       "      <td>68</td>\n",
       "      <td>67</td>\n",
       "      <td>68</td>\n",
       "      <td>57</td>\n",
       "      <td>16</td>\n",
       "      <td>240</td>\n",
       "      <td>215</td>\n",
       "      <td>4.875112</td>\n",
       "    </tr>\n",
       "    <tr>\n",
       "      <th>0</th>\n",
       "      <td>Alta</td>\n",
       "      <td>Alta</td>\n",
       "      <td>Utah</td>\n",
       "      <td>11068</td>\n",
       "      <td>2538</td>\n",
       "      <td>8530</td>\n",
       "      <td>159.0</td>\n",
       "      <td>NaN</td>\n",
       "      <td>0</td>\n",
       "      <td>0</td>\n",
       "      <td>...</td>\n",
       "      <td>0.0</td>\n",
       "      <td>16</td>\n",
       "      <td>88</td>\n",
       "      <td>84</td>\n",
       "      <td>74</td>\n",
       "      <td>74</td>\n",
       "      <td>40</td>\n",
       "      <td>352</td>\n",
       "      <td>277</td>\n",
       "      <td>4.683351</td>\n",
       "    </tr>\n",
       "    <tr>\n",
       "      <th>8</th>\n",
       "      <td>Big Sky</td>\n",
       "      <td>Big Sky</td>\n",
       "      <td>Montana</td>\n",
       "      <td>11166</td>\n",
       "      <td>4350</td>\n",
       "      <td>7500</td>\n",
       "      <td>152.0</td>\n",
       "      <td>194.0</td>\n",
       "      <td>15</td>\n",
       "      <td>25</td>\n",
       "      <td>...</td>\n",
       "      <td>18.0</td>\n",
       "      <td>17</td>\n",
       "      <td>60</td>\n",
       "      <td>47</td>\n",
       "      <td>57</td>\n",
       "      <td>56</td>\n",
       "      <td>34</td>\n",
       "      <td>314</td>\n",
       "      <td>208</td>\n",
       "      <td>4.560840</td>\n",
       "    </tr>\n",
       "  </tbody>\n",
       "</table>\n",
       "<p>3 rows × 21 columns</p>\n",
       "</div>"
      ],
      "text/plain": [
       "  ski_resort        city    state  summit  drop  base  adultWeekdayPrice  \\\n",
       "1  Snowbasin  Huntsville     Utah    9350  2900  6450              149.0   \n",
       "0       Alta        Alta     Utah   11068  2538  8530              159.0   \n",
       "8    Big Sky     Big Sky  Montana   11166  4350  7500              152.0   \n",
       "\n",
       "   adultWeekendPrice  beginner_runs  intermediate_runs  ...  expert_runs  \\\n",
       "1              169.0              9                 33  ...          6.0   \n",
       "0                NaN              0                  0  ...          0.0   \n",
       "8              194.0             15                 25  ...         18.0   \n",
       "\n",
       "   nov_snow  dec_snow  jan_snow  feb_snow  mar_snow  apr_snow  \\\n",
       "1        14        68        67        68        57        16   \n",
       "0        16        88        84        74        74        40   \n",
       "8        17        60        47        57        56        34   \n",
       "\n",
       "   dec_mean_4_guests  dec_mean_2_guests  predicted_rating  \n",
       "1                240                215          4.875112  \n",
       "0                352                277          4.683351  \n",
       "8                314                208          4.560840  \n",
       "\n",
       "[3 rows x 21 columns]"
      ]
     },
     "execution_count": 357,
     "metadata": {},
     "output_type": "execute_result"
    }
   ],
   "source": [
    "hybrid_model_content()"
   ]
  },
  {
   "cell_type": "markdown",
   "metadata": {},
   "source": [
    "### Stephanie's Results"
   ]
  },
  {
   "cell_type": "code",
   "execution_count": 321,
   "metadata": {},
   "outputs": [
    {
     "name": "stdout",
     "output_type": "stream",
     "text": [
      "Name: Stephanie Ciaccia\n",
      "How many resort recommendations do you want? 5\n"
     ]
    },
    {
     "data": {
      "text/html": [
       "<div>\n",
       "<style scoped>\n",
       "    .dataframe tbody tr th:only-of-type {\n",
       "        vertical-align: middle;\n",
       "    }\n",
       "\n",
       "    .dataframe tbody tr th {\n",
       "        vertical-align: top;\n",
       "    }\n",
       "\n",
       "    .dataframe thead th {\n",
       "        text-align: right;\n",
       "    }\n",
       "</style>\n",
       "<table border=\"1\" class=\"dataframe\">\n",
       "  <thead>\n",
       "    <tr style=\"text-align: right;\">\n",
       "      <th></th>\n",
       "      <th>ski_resort</th>\n",
       "      <th>state</th>\n",
       "      <th>city</th>\n",
       "      <th>adultWeekdayPrice</th>\n",
       "      <th>adultWeekendPrice</th>\n",
       "      <th>summit</th>\n",
       "      <th>drop</th>\n",
       "      <th>base</th>\n",
       "      <th>ikon</th>\n",
       "      <th>epic</th>\n",
       "      <th>mountain_collective</th>\n",
       "      <th>advanced_runs</th>\n",
       "      <th>intermediate_runs</th>\n",
       "      <th>expert_runs</th>\n",
       "      <th>predicted_rating</th>\n",
       "    </tr>\n",
       "  </thead>\n",
       "  <tbody>\n",
       "    <tr>\n",
       "      <th>19</th>\n",
       "      <td>Snowbasin</td>\n",
       "      <td>Utah</td>\n",
       "      <td>Huntsville</td>\n",
       "      <td>149.0</td>\n",
       "      <td>169.0</td>\n",
       "      <td>9350</td>\n",
       "      <td>2900</td>\n",
       "      <td>6450</td>\n",
       "      <td>1</td>\n",
       "      <td>0</td>\n",
       "      <td>1</td>\n",
       "      <td>52</td>\n",
       "      <td>33</td>\n",
       "      <td>6.0</td>\n",
       "      <td>4.410153</td>\n",
       "    </tr>\n",
       "    <tr>\n",
       "      <th>37</th>\n",
       "      <td>Jackson Hole</td>\n",
       "      <td>Wyoming</td>\n",
       "      <td>Teton Village</td>\n",
       "      <td>215.0</td>\n",
       "      <td>215.0</td>\n",
       "      <td>10450</td>\n",
       "      <td>4139</td>\n",
       "      <td>6311</td>\n",
       "      <td>1</td>\n",
       "      <td>0</td>\n",
       "      <td>1</td>\n",
       "      <td>38</td>\n",
       "      <td>41</td>\n",
       "      <td>17.0</td>\n",
       "      <td>4.359738</td>\n",
       "    </tr>\n",
       "    <tr>\n",
       "      <th>154</th>\n",
       "      <td>Whiteface Mountain</td>\n",
       "      <td>New York</td>\n",
       "      <td>Wilmington</td>\n",
       "      <td>115.0</td>\n",
       "      <td>115.0</td>\n",
       "      <td>4650</td>\n",
       "      <td>3430</td>\n",
       "      <td>1220</td>\n",
       "      <td>0</td>\n",
       "      <td>0</td>\n",
       "      <td>0</td>\n",
       "      <td>31</td>\n",
       "      <td>46</td>\n",
       "      <td>0.0</td>\n",
       "      <td>4.350751</td>\n",
       "    </tr>\n",
       "    <tr>\n",
       "      <th>42</th>\n",
       "      <td>Steamboat</td>\n",
       "      <td>Colorado</td>\n",
       "      <td>Steamboat Springs</td>\n",
       "      <td>177.0</td>\n",
       "      <td>192.0</td>\n",
       "      <td>10568</td>\n",
       "      <td>3668</td>\n",
       "      <td>6900</td>\n",
       "      <td>1</td>\n",
       "      <td>0</td>\n",
       "      <td>0</td>\n",
       "      <td>40</td>\n",
       "      <td>43</td>\n",
       "      <td>5.0</td>\n",
       "      <td>4.323063</td>\n",
       "    </tr>\n",
       "    <tr>\n",
       "      <th>170</th>\n",
       "      <td>Mt. Sunapee</td>\n",
       "      <td>New Hampshire</td>\n",
       "      <td>Newbury</td>\n",
       "      <td>NaN</td>\n",
       "      <td>NaN</td>\n",
       "      <td>2743</td>\n",
       "      <td>1510</td>\n",
       "      <td>1233</td>\n",
       "      <td>0</td>\n",
       "      <td>1</td>\n",
       "      <td>0</td>\n",
       "      <td>24</td>\n",
       "      <td>47</td>\n",
       "      <td>0.0</td>\n",
       "      <td>4.262017</td>\n",
       "    </tr>\n",
       "  </tbody>\n",
       "</table>\n",
       "</div>"
      ],
      "text/plain": [
       "             ski_resort          state               city  adultWeekdayPrice  \\\n",
       "19            Snowbasin           Utah         Huntsville              149.0   \n",
       "37         Jackson Hole        Wyoming      Teton Village              215.0   \n",
       "154  Whiteface Mountain       New York         Wilmington              115.0   \n",
       "42            Steamboat       Colorado  Steamboat Springs              177.0   \n",
       "170         Mt. Sunapee  New Hampshire            Newbury                NaN   \n",
       "\n",
       "     adultWeekendPrice  summit  drop  base  ikon  epic  mountain_collective  \\\n",
       "19               169.0    9350  2900  6450     1     0                    1   \n",
       "37               215.0   10450  4139  6311     1     0                    1   \n",
       "154              115.0    4650  3430  1220     0     0                    0   \n",
       "42               192.0   10568  3668  6900     1     0                    0   \n",
       "170                NaN    2743  1510  1233     0     1                    0   \n",
       "\n",
       "     advanced_runs  intermediate_runs  expert_runs  predicted_rating  \n",
       "19              52                 33          6.0          4.410153  \n",
       "37              38                 41         17.0          4.359738  \n",
       "154             31                 46          0.0          4.350751  \n",
       "42              40                 43          5.0          4.323063  \n",
       "170             24                 47          0.0          4.262017  "
      ]
     },
     "execution_count": 321,
     "metadata": {},
     "output_type": "execute_result"
    }
   ],
   "source": [
    "collaborative_model()"
   ]
  },
  {
   "cell_type": "code",
   "execution_count": 330,
   "metadata": {},
   "outputs": [
    {
     "name": "stdout",
     "output_type": "stream",
     "text": [
      "How many resort recommendations do you want? 3\n",
      "What's your favorite ski resort? Snowbird\n",
      "What month would you like to travel? December\n"
     ]
    },
    {
     "data": {
      "text/html": [
       "<div>\n",
       "<style scoped>\n",
       "    .dataframe tbody tr th:only-of-type {\n",
       "        vertical-align: middle;\n",
       "    }\n",
       "\n",
       "    .dataframe tbody tr th {\n",
       "        vertical-align: top;\n",
       "    }\n",
       "\n",
       "    .dataframe thead th {\n",
       "        text-align: right;\n",
       "    }\n",
       "</style>\n",
       "<table border=\"1\" class=\"dataframe\">\n",
       "  <thead>\n",
       "    <tr style=\"text-align: right;\">\n",
       "      <th></th>\n",
       "      <th>ski_resort</th>\n",
       "      <th>city</th>\n",
       "      <th>state</th>\n",
       "      <th>summit</th>\n",
       "      <th>drop</th>\n",
       "      <th>base</th>\n",
       "      <th>adultWeekdayPrice</th>\n",
       "      <th>adultWeekendPrice</th>\n",
       "      <th>beginner_runs</th>\n",
       "      <th>intermediate_runs</th>\n",
       "      <th>advanced_runs</th>\n",
       "      <th>expert_runs</th>\n",
       "      <th>dec_mean_4_guests</th>\n",
       "      <th>dec_mean_2_guests</th>\n",
       "    </tr>\n",
       "  </thead>\n",
       "  <tbody>\n",
       "    <tr>\n",
       "      <th>1</th>\n",
       "      <td>Alta</td>\n",
       "      <td>Alta</td>\n",
       "      <td>Utah</td>\n",
       "      <td>11068</td>\n",
       "      <td>2538</td>\n",
       "      <td>8530</td>\n",
       "      <td>159.0</td>\n",
       "      <td>NaN</td>\n",
       "      <td>0</td>\n",
       "      <td>0</td>\n",
       "      <td>0</td>\n",
       "      <td>0.0</td>\n",
       "      <td>352</td>\n",
       "      <td>277</td>\n",
       "    </tr>\n",
       "    <tr>\n",
       "      <th>2</th>\n",
       "      <td>Snowbasin</td>\n",
       "      <td>Huntsville</td>\n",
       "      <td>Utah</td>\n",
       "      <td>9350</td>\n",
       "      <td>2900</td>\n",
       "      <td>6450</td>\n",
       "      <td>149.0</td>\n",
       "      <td>169.0</td>\n",
       "      <td>9</td>\n",
       "      <td>33</td>\n",
       "      <td>52</td>\n",
       "      <td>6.0</td>\n",
       "      <td>240</td>\n",
       "      <td>215</td>\n",
       "    </tr>\n",
       "    <tr>\n",
       "      <th>3</th>\n",
       "      <td>Crystal Mountain Washington</td>\n",
       "      <td>Crystal Mountain</td>\n",
       "      <td>Washington</td>\n",
       "      <td>7012</td>\n",
       "      <td>3100</td>\n",
       "      <td>4400</td>\n",
       "      <td>99.0</td>\n",
       "      <td>99.0</td>\n",
       "      <td>8</td>\n",
       "      <td>31</td>\n",
       "      <td>32</td>\n",
       "      <td>29.0</td>\n",
       "      <td>293</td>\n",
       "      <td>210</td>\n",
       "    </tr>\n",
       "  </tbody>\n",
       "</table>\n",
       "</div>"
      ],
      "text/plain": [
       "                    ski_resort              city       state  summit  drop  \\\n",
       "1                         Alta              Alta        Utah   11068  2538   \n",
       "2                    Snowbasin        Huntsville        Utah    9350  2900   \n",
       "3  Crystal Mountain Washington  Crystal Mountain  Washington    7012  3100   \n",
       "\n",
       "   base  adultWeekdayPrice  adultWeekendPrice  beginner_runs  \\\n",
       "1  8530              159.0                NaN              0   \n",
       "2  6450              149.0              169.0              9   \n",
       "3  4400               99.0               99.0              8   \n",
       "\n",
       "   intermediate_runs  advanced_runs  expert_runs  dec_mean_4_guests  \\\n",
       "1                  0              0          0.0                352   \n",
       "2                 33             52          6.0                240   \n",
       "3                 31             32         29.0                293   \n",
       "\n",
       "   dec_mean_2_guests  \n",
       "1                277  \n",
       "2                215  \n",
       "3                210  "
      ]
     },
     "execution_count": 330,
     "metadata": {},
     "output_type": "execute_result"
    }
   ],
   "source": [
    "content_model()"
   ]
  },
  {
   "cell_type": "code",
   "execution_count": 355,
   "metadata": {},
   "outputs": [
    {
     "name": "stdout",
     "output_type": "stream",
     "text": [
      "Name: Raghava K.\n",
      "How many resort recommendations do you want? 3\n",
      "What's your favorite ski resort? Snowbird\n",
      "What month would you like to travel? December\n"
     ]
    },
    {
     "ename": "KeyError",
     "evalue": "'Raghava K.'",
     "output_type": "error",
     "traceback": [
      "\u001b[0;31m---------------------------------------------------------------------------\u001b[0m",
      "\u001b[0;31mKeyError\u001b[0m                                  Traceback (most recent call last)",
      "\u001b[0;32m~/opt/anaconda3/envs/learn-env/lib/python3.8/site-packages/pandas/core/indexes/base.py\u001b[0m in \u001b[0;36mget_loc\u001b[0;34m(self, key, method, tolerance)\u001b[0m\n\u001b[1;32m   2894\u001b[0m             \u001b[0;32mtry\u001b[0m\u001b[0;34m:\u001b[0m\u001b[0;34m\u001b[0m\u001b[0;34m\u001b[0m\u001b[0m\n\u001b[0;32m-> 2895\u001b[0;31m                 \u001b[0;32mreturn\u001b[0m \u001b[0mself\u001b[0m\u001b[0;34m.\u001b[0m\u001b[0m_engine\u001b[0m\u001b[0;34m.\u001b[0m\u001b[0mget_loc\u001b[0m\u001b[0;34m(\u001b[0m\u001b[0mcasted_key\u001b[0m\u001b[0;34m)\u001b[0m\u001b[0;34m\u001b[0m\u001b[0;34m\u001b[0m\u001b[0m\n\u001b[0m\u001b[1;32m   2896\u001b[0m             \u001b[0;32mexcept\u001b[0m \u001b[0mKeyError\u001b[0m \u001b[0;32mas\u001b[0m \u001b[0merr\u001b[0m\u001b[0;34m:\u001b[0m\u001b[0;34m\u001b[0m\u001b[0;34m\u001b[0m\u001b[0m\n",
      "\u001b[0;32mpandas/_libs/index.pyx\u001b[0m in \u001b[0;36mpandas._libs.index.IndexEngine.get_loc\u001b[0;34m()\u001b[0m\n",
      "\u001b[0;32mpandas/_libs/index.pyx\u001b[0m in \u001b[0;36mpandas._libs.index.IndexEngine.get_loc\u001b[0;34m()\u001b[0m\n",
      "\u001b[0;32mpandas/_libs/index.pyx\u001b[0m in \u001b[0;36mpandas._libs.index.IndexEngine._get_loc_duplicates\u001b[0;34m()\u001b[0m\n",
      "\u001b[0;32mpandas/_libs/index.pyx\u001b[0m in \u001b[0;36mpandas._libs.index.IndexEngine._maybe_get_bool_indexer\u001b[0;34m()\u001b[0m\n",
      "\u001b[0;32mpandas/_libs/index.pyx\u001b[0m in \u001b[0;36mpandas._libs.index.IndexEngine._unpack_bool_indexer\u001b[0;34m()\u001b[0m\n",
      "\u001b[0;31mKeyError\u001b[0m: 'Raghava K.'",
      "\nThe above exception was the direct cause of the following exception:\n",
      "\u001b[0;31mKeyError\u001b[0m                                  Traceback (most recent call last)",
      "\u001b[0;32m<ipython-input-355-156c99039fc7>\u001b[0m in \u001b[0;36m<module>\u001b[0;34m\u001b[0m\n\u001b[0;32m----> 1\u001b[0;31m \u001b[0mstephanie_hybrid\u001b[0m \u001b[0;34m=\u001b[0m \u001b[0mhybrid_model_content\u001b[0m\u001b[0;34m(\u001b[0m\u001b[0;34m)\u001b[0m\u001b[0;34m\u001b[0m\u001b[0;34m\u001b[0m\u001b[0m\n\u001b[0m",
      "\u001b[0;32m<ipython-input-340-ef0406716ba3>\u001b[0m in \u001b[0;36mhybrid_model_content\u001b[0;34m()\u001b[0m\n\u001b[1;32m     62\u001b[0m \u001b[0;34m\u001b[0m\u001b[0m\n\u001b[1;32m     63\u001b[0m     \u001b[0;31m# Collaborative model\u001b[0m\u001b[0;34m\u001b[0m\u001b[0;34m\u001b[0m\u001b[0;34m\u001b[0m\u001b[0m\n\u001b[0;32m---> 64\u001b[0;31m     \u001b[0mhave_rated\u001b[0m \u001b[0;34m=\u001b[0m \u001b[0mlist\u001b[0m\u001b[0;34m(\u001b[0m\u001b[0muser_df\u001b[0m\u001b[0;34m.\u001b[0m\u001b[0mloc\u001b[0m\u001b[0;34m[\u001b[0m\u001b[0muser\u001b[0m\u001b[0;34m,\u001b[0m \u001b[0;34m'ski_resort'\u001b[0m\u001b[0;34m]\u001b[0m\u001b[0;34m)\u001b[0m\u001b[0;34m\u001b[0m\u001b[0;34m\u001b[0m\u001b[0m\n\u001b[0m\u001b[1;32m     65\u001b[0m     \u001b[0mnot_rated\u001b[0m \u001b[0;34m=\u001b[0m \u001b[0mfinal_user_df\u001b[0m\u001b[0;34m.\u001b[0m\u001b[0mcopy\u001b[0m\u001b[0;34m(\u001b[0m\u001b[0;34m)\u001b[0m\u001b[0;34m\u001b[0m\u001b[0;34m\u001b[0m\u001b[0m\n\u001b[1;32m     66\u001b[0m     \u001b[0mnot_rated\u001b[0m \u001b[0;34m=\u001b[0m \u001b[0mnot_rated\u001b[0m\u001b[0;34m.\u001b[0m\u001b[0mloc\u001b[0m\u001b[0;34m[\u001b[0m\u001b[0;34m~\u001b[0m\u001b[0mnot_rated\u001b[0m\u001b[0;34m[\u001b[0m\u001b[0;34m'ski_resort'\u001b[0m\u001b[0;34m]\u001b[0m\u001b[0;34m.\u001b[0m\u001b[0misin\u001b[0m\u001b[0;34m(\u001b[0m\u001b[0mhave_rated\u001b[0m\u001b[0;34m)\u001b[0m\u001b[0;34m]\u001b[0m\u001b[0;34m\u001b[0m\u001b[0;34m\u001b[0m\u001b[0m\n",
      "\u001b[0;32m~/opt/anaconda3/envs/learn-env/lib/python3.8/site-packages/pandas/core/indexing.py\u001b[0m in \u001b[0;36m__getitem__\u001b[0;34m(self, key)\u001b[0m\n\u001b[1;32m    871\u001b[0m                     \u001b[0;31m# AttributeError for IntervalTree get_value\u001b[0m\u001b[0;34m\u001b[0m\u001b[0;34m\u001b[0m\u001b[0;34m\u001b[0m\u001b[0m\n\u001b[1;32m    872\u001b[0m                     \u001b[0;32mpass\u001b[0m\u001b[0;34m\u001b[0m\u001b[0;34m\u001b[0m\u001b[0m\n\u001b[0;32m--> 873\u001b[0;31m             \u001b[0;32mreturn\u001b[0m \u001b[0mself\u001b[0m\u001b[0;34m.\u001b[0m\u001b[0m_getitem_tuple\u001b[0m\u001b[0;34m(\u001b[0m\u001b[0mkey\u001b[0m\u001b[0;34m)\u001b[0m\u001b[0;34m\u001b[0m\u001b[0;34m\u001b[0m\u001b[0m\n\u001b[0m\u001b[1;32m    874\u001b[0m         \u001b[0;32melse\u001b[0m\u001b[0;34m:\u001b[0m\u001b[0;34m\u001b[0m\u001b[0;34m\u001b[0m\u001b[0m\n\u001b[1;32m    875\u001b[0m             \u001b[0;31m# we by definition only have the 0th axis\u001b[0m\u001b[0;34m\u001b[0m\u001b[0;34m\u001b[0m\u001b[0;34m\u001b[0m\u001b[0m\n",
      "\u001b[0;32m~/opt/anaconda3/envs/learn-env/lib/python3.8/site-packages/pandas/core/indexing.py\u001b[0m in \u001b[0;36m_getitem_tuple\u001b[0;34m(self, tup)\u001b[0m\n\u001b[1;32m   1042\u001b[0m     \u001b[0;32mdef\u001b[0m \u001b[0m_getitem_tuple\u001b[0m\u001b[0;34m(\u001b[0m\u001b[0mself\u001b[0m\u001b[0;34m,\u001b[0m \u001b[0mtup\u001b[0m\u001b[0;34m:\u001b[0m \u001b[0mTuple\u001b[0m\u001b[0;34m)\u001b[0m\u001b[0;34m:\u001b[0m\u001b[0;34m\u001b[0m\u001b[0;34m\u001b[0m\u001b[0m\n\u001b[1;32m   1043\u001b[0m         \u001b[0;32mtry\u001b[0m\u001b[0;34m:\u001b[0m\u001b[0;34m\u001b[0m\u001b[0;34m\u001b[0m\u001b[0m\n\u001b[0;32m-> 1044\u001b[0;31m             \u001b[0;32mreturn\u001b[0m \u001b[0mself\u001b[0m\u001b[0;34m.\u001b[0m\u001b[0m_getitem_lowerdim\u001b[0m\u001b[0;34m(\u001b[0m\u001b[0mtup\u001b[0m\u001b[0;34m)\u001b[0m\u001b[0;34m\u001b[0m\u001b[0;34m\u001b[0m\u001b[0m\n\u001b[0m\u001b[1;32m   1045\u001b[0m         \u001b[0;32mexcept\u001b[0m \u001b[0mIndexingError\u001b[0m\u001b[0;34m:\u001b[0m\u001b[0;34m\u001b[0m\u001b[0;34m\u001b[0m\u001b[0m\n\u001b[1;32m   1046\u001b[0m             \u001b[0;32mpass\u001b[0m\u001b[0;34m\u001b[0m\u001b[0;34m\u001b[0m\u001b[0m\n",
      "\u001b[0;32m~/opt/anaconda3/envs/learn-env/lib/python3.8/site-packages/pandas/core/indexing.py\u001b[0m in \u001b[0;36m_getitem_lowerdim\u001b[0;34m(self, tup)\u001b[0m\n\u001b[1;32m    784\u001b[0m                 \u001b[0;31m# We don't need to check for tuples here because those are\u001b[0m\u001b[0;34m\u001b[0m\u001b[0;34m\u001b[0m\u001b[0;34m\u001b[0m\u001b[0m\n\u001b[1;32m    785\u001b[0m                 \u001b[0;31m#  caught by the _is_nested_tuple_indexer check above.\u001b[0m\u001b[0;34m\u001b[0m\u001b[0;34m\u001b[0m\u001b[0;34m\u001b[0m\u001b[0m\n\u001b[0;32m--> 786\u001b[0;31m                 \u001b[0msection\u001b[0m \u001b[0;34m=\u001b[0m \u001b[0mself\u001b[0m\u001b[0;34m.\u001b[0m\u001b[0m_getitem_axis\u001b[0m\u001b[0;34m(\u001b[0m\u001b[0mkey\u001b[0m\u001b[0;34m,\u001b[0m \u001b[0maxis\u001b[0m\u001b[0;34m=\u001b[0m\u001b[0mi\u001b[0m\u001b[0;34m)\u001b[0m\u001b[0;34m\u001b[0m\u001b[0;34m\u001b[0m\u001b[0m\n\u001b[0m\u001b[1;32m    787\u001b[0m \u001b[0;34m\u001b[0m\u001b[0m\n\u001b[1;32m    788\u001b[0m                 \u001b[0;31m# We should never have a scalar section here, because\u001b[0m\u001b[0;34m\u001b[0m\u001b[0;34m\u001b[0m\u001b[0;34m\u001b[0m\u001b[0m\n",
      "\u001b[0;32m~/opt/anaconda3/envs/learn-env/lib/python3.8/site-packages/pandas/core/indexing.py\u001b[0m in \u001b[0;36m_getitem_axis\u001b[0;34m(self, key, axis)\u001b[0m\n\u001b[1;32m   1108\u001b[0m         \u001b[0;31m# fall thru to straight lookup\u001b[0m\u001b[0;34m\u001b[0m\u001b[0;34m\u001b[0m\u001b[0;34m\u001b[0m\u001b[0m\n\u001b[1;32m   1109\u001b[0m         \u001b[0mself\u001b[0m\u001b[0;34m.\u001b[0m\u001b[0m_validate_key\u001b[0m\u001b[0;34m(\u001b[0m\u001b[0mkey\u001b[0m\u001b[0;34m,\u001b[0m \u001b[0maxis\u001b[0m\u001b[0;34m)\u001b[0m\u001b[0;34m\u001b[0m\u001b[0;34m\u001b[0m\u001b[0m\n\u001b[0;32m-> 1110\u001b[0;31m         \u001b[0;32mreturn\u001b[0m \u001b[0mself\u001b[0m\u001b[0;34m.\u001b[0m\u001b[0m_get_label\u001b[0m\u001b[0;34m(\u001b[0m\u001b[0mkey\u001b[0m\u001b[0;34m,\u001b[0m \u001b[0maxis\u001b[0m\u001b[0;34m=\u001b[0m\u001b[0maxis\u001b[0m\u001b[0;34m)\u001b[0m\u001b[0;34m\u001b[0m\u001b[0;34m\u001b[0m\u001b[0m\n\u001b[0m\u001b[1;32m   1111\u001b[0m \u001b[0;34m\u001b[0m\u001b[0m\n\u001b[1;32m   1112\u001b[0m     \u001b[0;32mdef\u001b[0m \u001b[0m_get_slice_axis\u001b[0m\u001b[0;34m(\u001b[0m\u001b[0mself\u001b[0m\u001b[0;34m,\u001b[0m \u001b[0mslice_obj\u001b[0m\u001b[0;34m:\u001b[0m \u001b[0mslice\u001b[0m\u001b[0;34m,\u001b[0m \u001b[0maxis\u001b[0m\u001b[0;34m:\u001b[0m \u001b[0mint\u001b[0m\u001b[0;34m)\u001b[0m\u001b[0;34m:\u001b[0m\u001b[0;34m\u001b[0m\u001b[0;34m\u001b[0m\u001b[0m\n",
      "\u001b[0;32m~/opt/anaconda3/envs/learn-env/lib/python3.8/site-packages/pandas/core/indexing.py\u001b[0m in \u001b[0;36m_get_label\u001b[0;34m(self, label, axis)\u001b[0m\n\u001b[1;32m   1057\u001b[0m     \u001b[0;32mdef\u001b[0m \u001b[0m_get_label\u001b[0m\u001b[0;34m(\u001b[0m\u001b[0mself\u001b[0m\u001b[0;34m,\u001b[0m \u001b[0mlabel\u001b[0m\u001b[0;34m,\u001b[0m \u001b[0maxis\u001b[0m\u001b[0;34m:\u001b[0m \u001b[0mint\u001b[0m\u001b[0;34m)\u001b[0m\u001b[0;34m:\u001b[0m\u001b[0;34m\u001b[0m\u001b[0;34m\u001b[0m\u001b[0m\n\u001b[1;32m   1058\u001b[0m         \u001b[0;31m# GH#5667 this will fail if the label is not present in the axis.\u001b[0m\u001b[0;34m\u001b[0m\u001b[0;34m\u001b[0m\u001b[0;34m\u001b[0m\u001b[0m\n\u001b[0;32m-> 1059\u001b[0;31m         \u001b[0;32mreturn\u001b[0m \u001b[0mself\u001b[0m\u001b[0;34m.\u001b[0m\u001b[0mobj\u001b[0m\u001b[0;34m.\u001b[0m\u001b[0mxs\u001b[0m\u001b[0;34m(\u001b[0m\u001b[0mlabel\u001b[0m\u001b[0;34m,\u001b[0m \u001b[0maxis\u001b[0m\u001b[0;34m=\u001b[0m\u001b[0maxis\u001b[0m\u001b[0;34m)\u001b[0m\u001b[0;34m\u001b[0m\u001b[0;34m\u001b[0m\u001b[0m\n\u001b[0m\u001b[1;32m   1060\u001b[0m \u001b[0;34m\u001b[0m\u001b[0m\n\u001b[1;32m   1061\u001b[0m     \u001b[0;32mdef\u001b[0m \u001b[0m_handle_lowerdim_multi_index_axis0\u001b[0m\u001b[0;34m(\u001b[0m\u001b[0mself\u001b[0m\u001b[0;34m,\u001b[0m \u001b[0mtup\u001b[0m\u001b[0;34m:\u001b[0m \u001b[0mTuple\u001b[0m\u001b[0;34m)\u001b[0m\u001b[0;34m:\u001b[0m\u001b[0;34m\u001b[0m\u001b[0;34m\u001b[0m\u001b[0m\n",
      "\u001b[0;32m~/opt/anaconda3/envs/learn-env/lib/python3.8/site-packages/pandas/core/generic.py\u001b[0m in \u001b[0;36mxs\u001b[0;34m(self, key, axis, level, drop_level)\u001b[0m\n\u001b[1;32m   3489\u001b[0m             \u001b[0mloc\u001b[0m\u001b[0;34m,\u001b[0m \u001b[0mnew_index\u001b[0m \u001b[0;34m=\u001b[0m \u001b[0mself\u001b[0m\u001b[0;34m.\u001b[0m\u001b[0mindex\u001b[0m\u001b[0;34m.\u001b[0m\u001b[0mget_loc_level\u001b[0m\u001b[0;34m(\u001b[0m\u001b[0mkey\u001b[0m\u001b[0;34m,\u001b[0m \u001b[0mdrop_level\u001b[0m\u001b[0;34m=\u001b[0m\u001b[0mdrop_level\u001b[0m\u001b[0;34m)\u001b[0m\u001b[0;34m\u001b[0m\u001b[0;34m\u001b[0m\u001b[0m\n\u001b[1;32m   3490\u001b[0m         \u001b[0;32melse\u001b[0m\u001b[0;34m:\u001b[0m\u001b[0;34m\u001b[0m\u001b[0;34m\u001b[0m\u001b[0m\n\u001b[0;32m-> 3491\u001b[0;31m             \u001b[0mloc\u001b[0m \u001b[0;34m=\u001b[0m \u001b[0mself\u001b[0m\u001b[0;34m.\u001b[0m\u001b[0mindex\u001b[0m\u001b[0;34m.\u001b[0m\u001b[0mget_loc\u001b[0m\u001b[0;34m(\u001b[0m\u001b[0mkey\u001b[0m\u001b[0;34m)\u001b[0m\u001b[0;34m\u001b[0m\u001b[0;34m\u001b[0m\u001b[0m\n\u001b[0m\u001b[1;32m   3492\u001b[0m \u001b[0;34m\u001b[0m\u001b[0m\n\u001b[1;32m   3493\u001b[0m             \u001b[0;32mif\u001b[0m \u001b[0misinstance\u001b[0m\u001b[0;34m(\u001b[0m\u001b[0mloc\u001b[0m\u001b[0;34m,\u001b[0m \u001b[0mnp\u001b[0m\u001b[0;34m.\u001b[0m\u001b[0mndarray\u001b[0m\u001b[0;34m)\u001b[0m\u001b[0;34m:\u001b[0m\u001b[0;34m\u001b[0m\u001b[0;34m\u001b[0m\u001b[0m\n",
      "\u001b[0;32m~/opt/anaconda3/envs/learn-env/lib/python3.8/site-packages/pandas/core/indexes/base.py\u001b[0m in \u001b[0;36mget_loc\u001b[0;34m(self, key, method, tolerance)\u001b[0m\n\u001b[1;32m   2895\u001b[0m                 \u001b[0;32mreturn\u001b[0m \u001b[0mself\u001b[0m\u001b[0;34m.\u001b[0m\u001b[0m_engine\u001b[0m\u001b[0;34m.\u001b[0m\u001b[0mget_loc\u001b[0m\u001b[0;34m(\u001b[0m\u001b[0mcasted_key\u001b[0m\u001b[0;34m)\u001b[0m\u001b[0;34m\u001b[0m\u001b[0;34m\u001b[0m\u001b[0m\n\u001b[1;32m   2896\u001b[0m             \u001b[0;32mexcept\u001b[0m \u001b[0mKeyError\u001b[0m \u001b[0;32mas\u001b[0m \u001b[0merr\u001b[0m\u001b[0;34m:\u001b[0m\u001b[0;34m\u001b[0m\u001b[0;34m\u001b[0m\u001b[0m\n\u001b[0;32m-> 2897\u001b[0;31m                 \u001b[0;32mraise\u001b[0m \u001b[0mKeyError\u001b[0m\u001b[0;34m(\u001b[0m\u001b[0mkey\u001b[0m\u001b[0;34m)\u001b[0m \u001b[0;32mfrom\u001b[0m \u001b[0merr\u001b[0m\u001b[0;34m\u001b[0m\u001b[0;34m\u001b[0m\u001b[0m\n\u001b[0m\u001b[1;32m   2898\u001b[0m \u001b[0;34m\u001b[0m\u001b[0m\n\u001b[1;32m   2899\u001b[0m         \u001b[0;32mif\u001b[0m \u001b[0mtolerance\u001b[0m \u001b[0;32mis\u001b[0m \u001b[0;32mnot\u001b[0m \u001b[0;32mNone\u001b[0m\u001b[0;34m:\u001b[0m\u001b[0;34m\u001b[0m\u001b[0;34m\u001b[0m\u001b[0m\n",
      "\u001b[0;31mKeyError\u001b[0m: 'Raghava K.'"
     ]
    }
   ],
   "source": [
    "stephanie_hybrid = hybrid_model_content()"
   ]
  },
  {
   "cell_type": "code",
   "execution_count": 353,
   "metadata": {},
   "outputs": [
    {
     "data": {
      "text/html": [
       "<div>\n",
       "<style scoped>\n",
       "    .dataframe tbody tr th:only-of-type {\n",
       "        vertical-align: middle;\n",
       "    }\n",
       "\n",
       "    .dataframe tbody tr th {\n",
       "        vertical-align: top;\n",
       "    }\n",
       "\n",
       "    .dataframe thead th {\n",
       "        text-align: right;\n",
       "    }\n",
       "</style>\n",
       "<table border=\"1\" class=\"dataframe\">\n",
       "  <thead>\n",
       "    <tr style=\"text-align: right;\">\n",
       "      <th></th>\n",
       "      <th>Unnamed: 0</th>\n",
       "      <th>ski_resort</th>\n",
       "      <th>address</th>\n",
       "      <th>city</th>\n",
       "      <th>state</th>\n",
       "      <th>zipcode</th>\n",
       "      <th>summit</th>\n",
       "      <th>drop</th>\n",
       "      <th>base</th>\n",
       "      <th>gondolas_and_trams</th>\n",
       "      <th>...</th>\n",
       "      <th>long</th>\n",
       "      <th>airport_2</th>\n",
       "      <th>distance_2</th>\n",
       "      <th>lat_2</th>\n",
       "      <th>long_2</th>\n",
       "      <th>airport_3</th>\n",
       "      <th>distance_3</th>\n",
       "      <th>lat_3</th>\n",
       "      <th>long_3</th>\n",
       "      <th>total_lifts</th>\n",
       "    </tr>\n",
       "  </thead>\n",
       "  <tbody>\n",
       "    <tr>\n",
       "      <th>0</th>\n",
       "      <td>0</td>\n",
       "      <td>Palisades Tahoe</td>\n",
       "      <td>PO Box 2007</td>\n",
       "      <td>Olympic Valley</td>\n",
       "      <td>California</td>\n",
       "      <td>96146</td>\n",
       "      <td>9050</td>\n",
       "      <td>2850</td>\n",
       "      <td>6200</td>\n",
       "      <td>3</td>\n",
       "      <td>...</td>\n",
       "      <td>-120.139563</td>\n",
       "      <td>Minden-Tahoe</td>\n",
       "      <td>47</td>\n",
       "      <td>39.000309</td>\n",
       "      <td>-119.750806</td>\n",
       "      <td>Greenville Muni</td>\n",
       "      <td>3357</td>\n",
       "      <td>41.446832</td>\n",
       "      <td>-80.391262</td>\n",
       "      <td>36</td>\n",
       "    </tr>\n",
       "    <tr>\n",
       "      <th>1</th>\n",
       "      <td>1</td>\n",
       "      <td>Mammoth Mountain</td>\n",
       "      <td>P.O. Box 24</td>\n",
       "      <td>Mammoth Mountain Lakes</td>\n",
       "      <td>California</td>\n",
       "      <td>93546</td>\n",
       "      <td>11053</td>\n",
       "      <td>3100</td>\n",
       "      <td>7953</td>\n",
       "      <td>3</td>\n",
       "      <td>...</td>\n",
       "      <td>-118.837772</td>\n",
       "      <td>Bryant</td>\n",
       "      <td>71</td>\n",
       "      <td>38.262419</td>\n",
       "      <td>-119.225709</td>\n",
       "      <td>Grand Rapids-Itasca County</td>\n",
       "      <td>2330</td>\n",
       "      <td>47.211103</td>\n",
       "      <td>-93.509845</td>\n",
       "      <td>25</td>\n",
       "    </tr>\n",
       "    <tr>\n",
       "      <th>2</th>\n",
       "      <td>2</td>\n",
       "      <td>Donner Ski Ranch</td>\n",
       "      <td>P.O. Box 66</td>\n",
       "      <td>Norden</td>\n",
       "      <td>California</td>\n",
       "      <td>95724</td>\n",
       "      <td>8012</td>\n",
       "      <td>750</td>\n",
       "      <td>7031</td>\n",
       "      <td>0</td>\n",
       "      <td>...</td>\n",
       "      <td>-120.139563</td>\n",
       "      <td>Reno/Tahoe International</td>\n",
       "      <td>54</td>\n",
       "      <td>39.498576</td>\n",
       "      <td>-119.768065</td>\n",
       "      <td>Mapleton Municipal</td>\n",
       "      <td>2085</td>\n",
       "      <td>42.178295</td>\n",
       "      <td>-95.793645</td>\n",
       "      <td>8</td>\n",
       "    </tr>\n",
       "    <tr>\n",
       "      <th>3</th>\n",
       "      <td>3</td>\n",
       "      <td>Sugar Bowl</td>\n",
       "      <td>P.O. Box 5</td>\n",
       "      <td>Norden</td>\n",
       "      <td>California</td>\n",
       "      <td>95724</td>\n",
       "      <td>8383</td>\n",
       "      <td>1500</td>\n",
       "      <td>6883</td>\n",
       "      <td>1</td>\n",
       "      <td>...</td>\n",
       "      <td>-120.139563</td>\n",
       "      <td>Reno/Tahoe International</td>\n",
       "      <td>54</td>\n",
       "      <td>39.498576</td>\n",
       "      <td>-119.768065</td>\n",
       "      <td>Mapleton Municipal</td>\n",
       "      <td>2085</td>\n",
       "      <td>42.178295</td>\n",
       "      <td>-95.793645</td>\n",
       "      <td>12</td>\n",
       "    </tr>\n",
       "    <tr>\n",
       "      <th>4</th>\n",
       "      <td>4</td>\n",
       "      <td>Kirkwood</td>\n",
       "      <td>PO Box 1</td>\n",
       "      <td>Kirkwood</td>\n",
       "      <td>California</td>\n",
       "      <td>95646</td>\n",
       "      <td>9800</td>\n",
       "      <td>2000</td>\n",
       "      <td>7800</td>\n",
       "      <td>0</td>\n",
       "      <td>...</td>\n",
       "      <td>-119.995335</td>\n",
       "      <td>Minden-Tahoe</td>\n",
       "      <td>43</td>\n",
       "      <td>39.000309</td>\n",
       "      <td>-119.750806</td>\n",
       "      <td>Nogales International</td>\n",
       "      <td>1165</td>\n",
       "      <td>31.417722</td>\n",
       "      <td>-110.847889</td>\n",
       "      <td>13</td>\n",
       "    </tr>\n",
       "    <tr>\n",
       "      <th>...</th>\n",
       "      <td>...</td>\n",
       "      <td>...</td>\n",
       "      <td>...</td>\n",
       "      <td>...</td>\n",
       "      <td>...</td>\n",
       "      <td>...</td>\n",
       "      <td>...</td>\n",
       "      <td>...</td>\n",
       "      <td>...</td>\n",
       "      <td>...</td>\n",
       "      <td>...</td>\n",
       "      <td>...</td>\n",
       "      <td>...</td>\n",
       "      <td>...</td>\n",
       "      <td>...</td>\n",
       "      <td>...</td>\n",
       "      <td>...</td>\n",
       "      <td>...</td>\n",
       "      <td>...</td>\n",
       "      <td>...</td>\n",
       "      <td>...</td>\n",
       "    </tr>\n",
       "    <tr>\n",
       "      <th>325</th>\n",
       "      <td>392</td>\n",
       "      <td>Oak Mountain</td>\n",
       "      <td>141 Novosel Way</td>\n",
       "      <td>Speculator</td>\n",
       "      <td>New York</td>\n",
       "      <td>12164</td>\n",
       "      <td>2400</td>\n",
       "      <td>650</td>\n",
       "      <td>1750</td>\n",
       "      <td>0</td>\n",
       "      <td>...</td>\n",
       "      <td>-74.517651</td>\n",
       "      <td>Saratoga Cty</td>\n",
       "      <td>65</td>\n",
       "      <td>43.051261</td>\n",
       "      <td>-73.861194</td>\n",
       "      <td>Hillsboro Municipal</td>\n",
       "      <td>1814</td>\n",
       "      <td>47.359408</td>\n",
       "      <td>-97.060416</td>\n",
       "      <td>4</td>\n",
       "    </tr>\n",
       "    <tr>\n",
       "      <th>326</th>\n",
       "      <td>394</td>\n",
       "      <td>Mt. Pleasant</td>\n",
       "      <td>23301 Plank Rd</td>\n",
       "      <td>Venango</td>\n",
       "      <td>Pennsylvania</td>\n",
       "      <td>16403</td>\n",
       "      <td>1540</td>\n",
       "      <td>340</td>\n",
       "      <td>1200</td>\n",
       "      <td>0</td>\n",
       "      <td>...</td>\n",
       "      <td>-80.214728</td>\n",
       "      <td>Erie Intl</td>\n",
       "      <td>32</td>\n",
       "      <td>42.082021</td>\n",
       "      <td>-80.176216</td>\n",
       "      <td>Nondalton</td>\n",
       "      <td>5284</td>\n",
       "      <td>59.979043</td>\n",
       "      <td>-154.839694</td>\n",
       "      <td>2</td>\n",
       "    </tr>\n",
       "    <tr>\n",
       "      <th>327</th>\n",
       "      <td>395</td>\n",
       "      <td>Hunt Hollow</td>\n",
       "      <td>7532 County Road 36</td>\n",
       "      <td>Naples</td>\n",
       "      <td>New York</td>\n",
       "      <td>14512</td>\n",
       "      <td>2030</td>\n",
       "      <td>825</td>\n",
       "      <td>1000</td>\n",
       "      <td>0</td>\n",
       "      <td>...</td>\n",
       "      <td>-77.713051</td>\n",
       "      <td>Hornell Muni</td>\n",
       "      <td>33</td>\n",
       "      <td>42.382144</td>\n",
       "      <td>-77.682113</td>\n",
       "      <td>Perry-Warsaw</td>\n",
       "      <td>48</td>\n",
       "      <td>42.741347</td>\n",
       "      <td>-78.052081</td>\n",
       "      <td>3</td>\n",
       "    </tr>\n",
       "    <tr>\n",
       "      <th>328</th>\n",
       "      <td>396</td>\n",
       "      <td>Powder Ridge Connecticut</td>\n",
       "      <td>99 Powder Hill Road</td>\n",
       "      <td>Middlefield</td>\n",
       "      <td>Connecticut</td>\n",
       "      <td>06455</td>\n",
       "      <td>720</td>\n",
       "      <td>550</td>\n",
       "      <td>170</td>\n",
       "      <td>0</td>\n",
       "      <td>...</td>\n",
       "      <td>-72.829478</td>\n",
       "      <td>Chester</td>\n",
       "      <td>23</td>\n",
       "      <td>41.383905</td>\n",
       "      <td>-72.505894</td>\n",
       "      <td>Piedmont Triad International</td>\n",
       "      <td>865</td>\n",
       "      <td>36.097747</td>\n",
       "      <td>-79.937297</td>\n",
       "      <td>6</td>\n",
       "    </tr>\n",
       "    <tr>\n",
       "      <th>329</th>\n",
       "      <td>397</td>\n",
       "      <td>Shawnee Mountain</td>\n",
       "      <td>P.O. Box 339</td>\n",
       "      <td>Shawnee on Delaware</td>\n",
       "      <td>Pennsylvania</td>\n",
       "      <td>18356-0339</td>\n",
       "      <td>1350</td>\n",
       "      <td>700</td>\n",
       "      <td>650</td>\n",
       "      <td>0</td>\n",
       "      <td>...</td>\n",
       "      <td>-75.160679</td>\n",
       "      <td>Blairstown</td>\n",
       "      <td>10</td>\n",
       "      <td>40.971146</td>\n",
       "      <td>-74.997476</td>\n",
       "      <td>Brenham Municipal</td>\n",
       "      <td>2256</td>\n",
       "      <td>30.219000</td>\n",
       "      <td>-96.374278</td>\n",
       "      <td>9</td>\n",
       "    </tr>\n",
       "  </tbody>\n",
       "</table>\n",
       "<p>330 rows × 103 columns</p>\n",
       "</div>"
      ],
      "text/plain": [
       "     Unnamed: 0                ski_resort              address  \\\n",
       "0             0           Palisades Tahoe          PO Box 2007   \n",
       "1             1          Mammoth Mountain          P.O. Box 24   \n",
       "2             2          Donner Ski Ranch          P.O. Box 66   \n",
       "3             3                Sugar Bowl           P.O. Box 5   \n",
       "4             4                  Kirkwood             PO Box 1   \n",
       "..          ...                       ...                  ...   \n",
       "325         392              Oak Mountain      141 Novosel Way   \n",
       "326         394              Mt. Pleasant      23301 Plank Rd    \n",
       "327         395               Hunt Hollow  7532 County Road 36   \n",
       "328         396  Powder Ridge Connecticut  99 Powder Hill Road   \n",
       "329         397          Shawnee Mountain         P.O. Box 339   \n",
       "\n",
       "                       city         state     zipcode  summit  drop  base  \\\n",
       "0            Olympic Valley    California       96146    9050  2850  6200   \n",
       "1    Mammoth Mountain Lakes    California       93546   11053  3100  7953   \n",
       "2                    Norden    California       95724    8012   750  7031   \n",
       "3                    Norden    California       95724    8383  1500  6883   \n",
       "4                  Kirkwood    California       95646    9800  2000  7800   \n",
       "..                      ...           ...         ...     ...   ...   ...   \n",
       "325              Speculator      New York       12164    2400   650  1750   \n",
       "326                 Venango  Pennsylvania       16403    1540   340  1200   \n",
       "327                  Naples      New York       14512    2030   825  1000   \n",
       "328             Middlefield   Connecticut       06455     720   550   170   \n",
       "329     Shawnee on Delaware  Pennsylvania  18356-0339    1350   700   650   \n",
       "\n",
       "     gondolas_and_trams  ...        long                 airport_2  \\\n",
       "0                     3  ... -120.139563              Minden-Tahoe   \n",
       "1                     3  ... -118.837772                   Bryant    \n",
       "2                     0  ... -120.139563  Reno/Tahoe International   \n",
       "3                     1  ... -120.139563  Reno/Tahoe International   \n",
       "4                     0  ... -119.995335              Minden-Tahoe   \n",
       "..                  ...  ...         ...                       ...   \n",
       "325                   0  ...  -74.517651              Saratoga Cty   \n",
       "326                   0  ...  -80.214728                 Erie Intl   \n",
       "327                   0  ...  -77.713051              Hornell Muni   \n",
       "328                   0  ...  -72.829478                   Chester   \n",
       "329                   0  ...  -75.160679                Blairstown   \n",
       "\n",
       "     distance_2      lat_2      long_2                     airport_3  \\\n",
       "0            47  39.000309 -119.750806               Greenville Muni   \n",
       "1            71  38.262419 -119.225709    Grand Rapids-Itasca County   \n",
       "2            54  39.498576 -119.768065            Mapleton Municipal   \n",
       "3            54  39.498576 -119.768065            Mapleton Municipal   \n",
       "4            43  39.000309 -119.750806         Nogales International   \n",
       "..          ...        ...         ...                           ...   \n",
       "325          65  43.051261  -73.861194           Hillsboro Municipal   \n",
       "326          32  42.082021  -80.176216                     Nondalton   \n",
       "327          33  42.382144  -77.682113                  Perry-Warsaw   \n",
       "328          23  41.383905  -72.505894  Piedmont Triad International   \n",
       "329          10  40.971146  -74.997476             Brenham Municipal   \n",
       "\n",
       "     distance_3      lat_3      long_3  total_lifts  \n",
       "0          3357  41.446832  -80.391262           36  \n",
       "1          2330  47.211103  -93.509845           25  \n",
       "2          2085  42.178295  -95.793645            8  \n",
       "3          2085  42.178295  -95.793645           12  \n",
       "4          1165  31.417722 -110.847889           13  \n",
       "..          ...        ...         ...          ...  \n",
       "325        1814  47.359408  -97.060416            4  \n",
       "326        5284  59.979043 -154.839694            2  \n",
       "327          48  42.741347  -78.052081            3  \n",
       "328         865  36.097747  -79.937297            6  \n",
       "329        2256  30.219000  -96.374278            9  \n",
       "\n",
       "[330 rows x 103 columns]"
      ]
     },
     "execution_count": 353,
     "metadata": {},
     "output_type": "execute_result"
    }
   ],
   "source": [
    "content_df.loc[content_df['ski_resort'] == \"Snowbasin\"] "
   ]
  },
  {
   "cell_type": "code",
   "execution_count": 343,
   "metadata": {},
   "outputs": [
    {
     "data": {
      "text/html": [
       "<div>\n",
       "<style scoped>\n",
       "    .dataframe tbody tr th:only-of-type {\n",
       "        vertical-align: middle;\n",
       "    }\n",
       "\n",
       "    .dataframe tbody tr th {\n",
       "        vertical-align: top;\n",
       "    }\n",
       "\n",
       "    .dataframe thead th {\n",
       "        text-align: right;\n",
       "    }\n",
       "</style>\n",
       "<table border=\"1\" class=\"dataframe\">\n",
       "  <thead>\n",
       "    <tr style=\"text-align: right;\">\n",
       "      <th></th>\n",
       "      <th>ski_resort</th>\n",
       "      <th>city</th>\n",
       "      <th>state</th>\n",
       "      <th>summit</th>\n",
       "      <th>drop</th>\n",
       "      <th>base</th>\n",
       "      <th>adultWeekdayPrice</th>\n",
       "      <th>adultWeekendPrice</th>\n",
       "      <th>beginner_runs</th>\n",
       "      <th>intermediate_runs</th>\n",
       "      <th>...</th>\n",
       "      <th>expert_runs</th>\n",
       "      <th>nov_snow</th>\n",
       "      <th>dec_snow</th>\n",
       "      <th>jan_snow</th>\n",
       "      <th>feb_snow</th>\n",
       "      <th>mar_snow</th>\n",
       "      <th>apr_snow</th>\n",
       "      <th>dec_mean_4_guests</th>\n",
       "      <th>dec_mean_2_guests</th>\n",
       "      <th>predicted_rating</th>\n",
       "    </tr>\n",
       "  </thead>\n",
       "  <tbody>\n",
       "    <tr>\n",
       "      <th>19</th>\n",
       "      <td>Telluride</td>\n",
       "      <td>Telluride</td>\n",
       "      <td>Colorado</td>\n",
       "      <td>13150</td>\n",
       "      <td>4425</td>\n",
       "      <td>8725</td>\n",
       "      <td>209.0</td>\n",
       "      <td>219.0</td>\n",
       "      <td>16</td>\n",
       "      <td>30</td>\n",
       "      <td>...</td>\n",
       "      <td>34.0</td>\n",
       "      <td>16</td>\n",
       "      <td>49</td>\n",
       "      <td>47</td>\n",
       "      <td>52</td>\n",
       "      <td>49</td>\n",
       "      <td>4</td>\n",
       "      <td>425</td>\n",
       "      <td>308</td>\n",
       "      <td>4.633803</td>\n",
       "    </tr>\n",
       "    <tr>\n",
       "      <th>0</th>\n",
       "      <td>Alta</td>\n",
       "      <td>Alta</td>\n",
       "      <td>Utah</td>\n",
       "      <td>11068</td>\n",
       "      <td>2538</td>\n",
       "      <td>8530</td>\n",
       "      <td>159.0</td>\n",
       "      <td>NaN</td>\n",
       "      <td>0</td>\n",
       "      <td>0</td>\n",
       "      <td>...</td>\n",
       "      <td>0.0</td>\n",
       "      <td>16</td>\n",
       "      <td>88</td>\n",
       "      <td>84</td>\n",
       "      <td>74</td>\n",
       "      <td>74</td>\n",
       "      <td>40</td>\n",
       "      <td>352</td>\n",
       "      <td>277</td>\n",
       "      <td>4.472603</td>\n",
       "    </tr>\n",
       "    <tr>\n",
       "      <th>1</th>\n",
       "      <td>Snowbasin</td>\n",
       "      <td>Huntsville</td>\n",
       "      <td>Utah</td>\n",
       "      <td>9350</td>\n",
       "      <td>2900</td>\n",
       "      <td>6450</td>\n",
       "      <td>149.0</td>\n",
       "      <td>169.0</td>\n",
       "      <td>9</td>\n",
       "      <td>33</td>\n",
       "      <td>...</td>\n",
       "      <td>6.0</td>\n",
       "      <td>14</td>\n",
       "      <td>68</td>\n",
       "      <td>67</td>\n",
       "      <td>68</td>\n",
       "      <td>57</td>\n",
       "      <td>16</td>\n",
       "      <td>240</td>\n",
       "      <td>215</td>\n",
       "      <td>4.370856</td>\n",
       "    </tr>\n",
       "  </tbody>\n",
       "</table>\n",
       "<p>3 rows × 21 columns</p>\n",
       "</div>"
      ],
      "text/plain": [
       "   ski_resort        city     state  summit  drop  base  adultWeekdayPrice  \\\n",
       "19  Telluride   Telluride  Colorado   13150  4425  8725              209.0   \n",
       "0        Alta        Alta      Utah   11068  2538  8530              159.0   \n",
       "1   Snowbasin  Huntsville      Utah    9350  2900  6450              149.0   \n",
       "\n",
       "    adultWeekendPrice  beginner_runs  intermediate_runs  ...  expert_runs  \\\n",
       "19              219.0             16                 30  ...         34.0   \n",
       "0                 NaN              0                  0  ...          0.0   \n",
       "1               169.0              9                 33  ...          6.0   \n",
       "\n",
       "    nov_snow  dec_snow  jan_snow  feb_snow  mar_snow  apr_snow  \\\n",
       "19        16        49        47        52        49         4   \n",
       "0         16        88        84        74        74        40   \n",
       "1         14        68        67        68        57        16   \n",
       "\n",
       "    dec_mean_4_guests  dec_mean_2_guests  predicted_rating  \n",
       "19                425                308          4.633803  \n",
       "0                 352                277          4.472603  \n",
       "1                 240                215          4.370856  \n",
       "\n",
       "[3 rows x 21 columns]"
      ]
     },
     "execution_count": 343,
     "metadata": {},
     "output_type": "execute_result"
    }
   ],
   "source": [
    "stephanie_hybrid "
   ]
  },
  {
   "cell_type": "code",
   "execution_count": 344,
   "metadata": {},
   "outputs": [
    {
     "data": {
      "application/vnd.plotly.v1+json": {
       "config": {
        "plotlyServerURL": "https://plot.ly"
       },
       "data": [
        {
         "alignmentgroup": "True",
         "hovertemplate": "variable=2 Guest Mean<br>ski_resort=%{x}<br>value=%{y}<extra></extra>",
         "legendgroup": "2 Guest Mean",
         "marker": {
          "color": "#636efa"
         },
         "name": "2 Guest Mean",
         "offsetgroup": "dec_mean_2_guests",
         "orientation": "v",
         "showlegend": true,
         "textposition": "outside",
         "type": "bar",
         "x": [
          "Telluride",
          "Alta",
          "Snowbasin"
         ],
         "xaxis": "x",
         "y": [
          308,
          277,
          215
         ],
         "yaxis": "y"
        },
        {
         "alignmentgroup": "True",
         "hovertemplate": "variable=4 Guest Mean<br>ski_resort=%{x}<br>value=%{y}<extra></extra>",
         "legendgroup": "4 Guest Mean",
         "marker": {
          "color": "#EF553B"
         },
         "name": "4 Guest Mean",
         "offsetgroup": "dec_mean_4_guests",
         "orientation": "v",
         "showlegend": true,
         "textposition": "outside",
         "type": "bar",
         "x": [
          "Telluride",
          "Alta",
          "Snowbasin"
         ],
         "xaxis": "x",
         "y": [
          425,
          352,
          240
         ],
         "yaxis": "y"
        }
       ],
       "layout": {
        "barmode": "group",
        "font": {
         "size": 14
        },
        "height": 500,
        "legend": {
         "title": {
          "text": "variable"
         },
         "tracegroupgap": 0
        },
        "margin": {
         "t": 60
        },
        "plot_bgcolor": "white",
        "template": {
         "data": {
          "bar": [
           {
            "error_x": {
             "color": "#2a3f5f"
            },
            "error_y": {
             "color": "#2a3f5f"
            },
            "marker": {
             "line": {
              "color": "#E5ECF6",
              "width": 0.5
             }
            },
            "type": "bar"
           }
          ],
          "barpolar": [
           {
            "marker": {
             "line": {
              "color": "#E5ECF6",
              "width": 0.5
             }
            },
            "type": "barpolar"
           }
          ],
          "carpet": [
           {
            "aaxis": {
             "endlinecolor": "#2a3f5f",
             "gridcolor": "white",
             "linecolor": "white",
             "minorgridcolor": "white",
             "startlinecolor": "#2a3f5f"
            },
            "baxis": {
             "endlinecolor": "#2a3f5f",
             "gridcolor": "white",
             "linecolor": "white",
             "minorgridcolor": "white",
             "startlinecolor": "#2a3f5f"
            },
            "type": "carpet"
           }
          ],
          "choropleth": [
           {
            "colorbar": {
             "outlinewidth": 0,
             "ticks": ""
            },
            "type": "choropleth"
           }
          ],
          "contour": [
           {
            "colorbar": {
             "outlinewidth": 0,
             "ticks": ""
            },
            "colorscale": [
             [
              0,
              "#0d0887"
             ],
             [
              0.1111111111111111,
              "#46039f"
             ],
             [
              0.2222222222222222,
              "#7201a8"
             ],
             [
              0.3333333333333333,
              "#9c179e"
             ],
             [
              0.4444444444444444,
              "#bd3786"
             ],
             [
              0.5555555555555556,
              "#d8576b"
             ],
             [
              0.6666666666666666,
              "#ed7953"
             ],
             [
              0.7777777777777778,
              "#fb9f3a"
             ],
             [
              0.8888888888888888,
              "#fdca26"
             ],
             [
              1,
              "#f0f921"
             ]
            ],
            "type": "contour"
           }
          ],
          "contourcarpet": [
           {
            "colorbar": {
             "outlinewidth": 0,
             "ticks": ""
            },
            "type": "contourcarpet"
           }
          ],
          "heatmap": [
           {
            "colorbar": {
             "outlinewidth": 0,
             "ticks": ""
            },
            "colorscale": [
             [
              0,
              "#0d0887"
             ],
             [
              0.1111111111111111,
              "#46039f"
             ],
             [
              0.2222222222222222,
              "#7201a8"
             ],
             [
              0.3333333333333333,
              "#9c179e"
             ],
             [
              0.4444444444444444,
              "#bd3786"
             ],
             [
              0.5555555555555556,
              "#d8576b"
             ],
             [
              0.6666666666666666,
              "#ed7953"
             ],
             [
              0.7777777777777778,
              "#fb9f3a"
             ],
             [
              0.8888888888888888,
              "#fdca26"
             ],
             [
              1,
              "#f0f921"
             ]
            ],
            "type": "heatmap"
           }
          ],
          "heatmapgl": [
           {
            "colorbar": {
             "outlinewidth": 0,
             "ticks": ""
            },
            "colorscale": [
             [
              0,
              "#0d0887"
             ],
             [
              0.1111111111111111,
              "#46039f"
             ],
             [
              0.2222222222222222,
              "#7201a8"
             ],
             [
              0.3333333333333333,
              "#9c179e"
             ],
             [
              0.4444444444444444,
              "#bd3786"
             ],
             [
              0.5555555555555556,
              "#d8576b"
             ],
             [
              0.6666666666666666,
              "#ed7953"
             ],
             [
              0.7777777777777778,
              "#fb9f3a"
             ],
             [
              0.8888888888888888,
              "#fdca26"
             ],
             [
              1,
              "#f0f921"
             ]
            ],
            "type": "heatmapgl"
           }
          ],
          "histogram": [
           {
            "marker": {
             "colorbar": {
              "outlinewidth": 0,
              "ticks": ""
             }
            },
            "type": "histogram"
           }
          ],
          "histogram2d": [
           {
            "colorbar": {
             "outlinewidth": 0,
             "ticks": ""
            },
            "colorscale": [
             [
              0,
              "#0d0887"
             ],
             [
              0.1111111111111111,
              "#46039f"
             ],
             [
              0.2222222222222222,
              "#7201a8"
             ],
             [
              0.3333333333333333,
              "#9c179e"
             ],
             [
              0.4444444444444444,
              "#bd3786"
             ],
             [
              0.5555555555555556,
              "#d8576b"
             ],
             [
              0.6666666666666666,
              "#ed7953"
             ],
             [
              0.7777777777777778,
              "#fb9f3a"
             ],
             [
              0.8888888888888888,
              "#fdca26"
             ],
             [
              1,
              "#f0f921"
             ]
            ],
            "type": "histogram2d"
           }
          ],
          "histogram2dcontour": [
           {
            "colorbar": {
             "outlinewidth": 0,
             "ticks": ""
            },
            "colorscale": [
             [
              0,
              "#0d0887"
             ],
             [
              0.1111111111111111,
              "#46039f"
             ],
             [
              0.2222222222222222,
              "#7201a8"
             ],
             [
              0.3333333333333333,
              "#9c179e"
             ],
             [
              0.4444444444444444,
              "#bd3786"
             ],
             [
              0.5555555555555556,
              "#d8576b"
             ],
             [
              0.6666666666666666,
              "#ed7953"
             ],
             [
              0.7777777777777778,
              "#fb9f3a"
             ],
             [
              0.8888888888888888,
              "#fdca26"
             ],
             [
              1,
              "#f0f921"
             ]
            ],
            "type": "histogram2dcontour"
           }
          ],
          "mesh3d": [
           {
            "colorbar": {
             "outlinewidth": 0,
             "ticks": ""
            },
            "type": "mesh3d"
           }
          ],
          "parcoords": [
           {
            "line": {
             "colorbar": {
              "outlinewidth": 0,
              "ticks": ""
             }
            },
            "type": "parcoords"
           }
          ],
          "pie": [
           {
            "automargin": true,
            "type": "pie"
           }
          ],
          "scatter": [
           {
            "marker": {
             "colorbar": {
              "outlinewidth": 0,
              "ticks": ""
             }
            },
            "type": "scatter"
           }
          ],
          "scatter3d": [
           {
            "line": {
             "colorbar": {
              "outlinewidth": 0,
              "ticks": ""
             }
            },
            "marker": {
             "colorbar": {
              "outlinewidth": 0,
              "ticks": ""
             }
            },
            "type": "scatter3d"
           }
          ],
          "scattercarpet": [
           {
            "marker": {
             "colorbar": {
              "outlinewidth": 0,
              "ticks": ""
             }
            },
            "type": "scattercarpet"
           }
          ],
          "scattergeo": [
           {
            "marker": {
             "colorbar": {
              "outlinewidth": 0,
              "ticks": ""
             }
            },
            "type": "scattergeo"
           }
          ],
          "scattergl": [
           {
            "marker": {
             "colorbar": {
              "outlinewidth": 0,
              "ticks": ""
             }
            },
            "type": "scattergl"
           }
          ],
          "scattermapbox": [
           {
            "marker": {
             "colorbar": {
              "outlinewidth": 0,
              "ticks": ""
             }
            },
            "type": "scattermapbox"
           }
          ],
          "scatterpolar": [
           {
            "marker": {
             "colorbar": {
              "outlinewidth": 0,
              "ticks": ""
             }
            },
            "type": "scatterpolar"
           }
          ],
          "scatterpolargl": [
           {
            "marker": {
             "colorbar": {
              "outlinewidth": 0,
              "ticks": ""
             }
            },
            "type": "scatterpolargl"
           }
          ],
          "scatterternary": [
           {
            "marker": {
             "colorbar": {
              "outlinewidth": 0,
              "ticks": ""
             }
            },
            "type": "scatterternary"
           }
          ],
          "surface": [
           {
            "colorbar": {
             "outlinewidth": 0,
             "ticks": ""
            },
            "colorscale": [
             [
              0,
              "#0d0887"
             ],
             [
              0.1111111111111111,
              "#46039f"
             ],
             [
              0.2222222222222222,
              "#7201a8"
             ],
             [
              0.3333333333333333,
              "#9c179e"
             ],
             [
              0.4444444444444444,
              "#bd3786"
             ],
             [
              0.5555555555555556,
              "#d8576b"
             ],
             [
              0.6666666666666666,
              "#ed7953"
             ],
             [
              0.7777777777777778,
              "#fb9f3a"
             ],
             [
              0.8888888888888888,
              "#fdca26"
             ],
             [
              1,
              "#f0f921"
             ]
            ],
            "type": "surface"
           }
          ],
          "table": [
           {
            "cells": {
             "fill": {
              "color": "#EBF0F8"
             },
             "line": {
              "color": "white"
             }
            },
            "header": {
             "fill": {
              "color": "#C8D4E3"
             },
             "line": {
              "color": "white"
             }
            },
            "type": "table"
           }
          ]
         },
         "layout": {
          "annotationdefaults": {
           "arrowcolor": "#2a3f5f",
           "arrowhead": 0,
           "arrowwidth": 1
          },
          "coloraxis": {
           "colorbar": {
            "outlinewidth": 0,
            "ticks": ""
           }
          },
          "colorscale": {
           "diverging": [
            [
             0,
             "#8e0152"
            ],
            [
             0.1,
             "#c51b7d"
            ],
            [
             0.2,
             "#de77ae"
            ],
            [
             0.3,
             "#f1b6da"
            ],
            [
             0.4,
             "#fde0ef"
            ],
            [
             0.5,
             "#f7f7f7"
            ],
            [
             0.6,
             "#e6f5d0"
            ],
            [
             0.7,
             "#b8e186"
            ],
            [
             0.8,
             "#7fbc41"
            ],
            [
             0.9,
             "#4d9221"
            ],
            [
             1,
             "#276419"
            ]
           ],
           "sequential": [
            [
             0,
             "#0d0887"
            ],
            [
             0.1111111111111111,
             "#46039f"
            ],
            [
             0.2222222222222222,
             "#7201a8"
            ],
            [
             0.3333333333333333,
             "#9c179e"
            ],
            [
             0.4444444444444444,
             "#bd3786"
            ],
            [
             0.5555555555555556,
             "#d8576b"
            ],
            [
             0.6666666666666666,
             "#ed7953"
            ],
            [
             0.7777777777777778,
             "#fb9f3a"
            ],
            [
             0.8888888888888888,
             "#fdca26"
            ],
            [
             1,
             "#f0f921"
            ]
           ],
           "sequentialminus": [
            [
             0,
             "#0d0887"
            ],
            [
             0.1111111111111111,
             "#46039f"
            ],
            [
             0.2222222222222222,
             "#7201a8"
            ],
            [
             0.3333333333333333,
             "#9c179e"
            ],
            [
             0.4444444444444444,
             "#bd3786"
            ],
            [
             0.5555555555555556,
             "#d8576b"
            ],
            [
             0.6666666666666666,
             "#ed7953"
            ],
            [
             0.7777777777777778,
             "#fb9f3a"
            ],
            [
             0.8888888888888888,
             "#fdca26"
            ],
            [
             1,
             "#f0f921"
            ]
           ]
          },
          "colorway": [
           "#636efa",
           "#EF553B",
           "#00cc96",
           "#ab63fa",
           "#FFA15A",
           "#19d3f3",
           "#FF6692",
           "#B6E880",
           "#FF97FF",
           "#FECB52"
          ],
          "font": {
           "color": "#2a3f5f"
          },
          "geo": {
           "bgcolor": "white",
           "lakecolor": "white",
           "landcolor": "#E5ECF6",
           "showlakes": true,
           "showland": true,
           "subunitcolor": "white"
          },
          "hoverlabel": {
           "align": "left"
          },
          "hovermode": "closest",
          "mapbox": {
           "style": "light"
          },
          "paper_bgcolor": "white",
          "plot_bgcolor": "#E5ECF6",
          "polar": {
           "angularaxis": {
            "gridcolor": "white",
            "linecolor": "white",
            "ticks": ""
           },
           "bgcolor": "#E5ECF6",
           "radialaxis": {
            "gridcolor": "white",
            "linecolor": "white",
            "ticks": ""
           }
          },
          "scene": {
           "xaxis": {
            "backgroundcolor": "#E5ECF6",
            "gridcolor": "white",
            "gridwidth": 2,
            "linecolor": "white",
            "showbackground": true,
            "ticks": "",
            "zerolinecolor": "white"
           },
           "yaxis": {
            "backgroundcolor": "#E5ECF6",
            "gridcolor": "white",
            "gridwidth": 2,
            "linecolor": "white",
            "showbackground": true,
            "ticks": "",
            "zerolinecolor": "white"
           },
           "zaxis": {
            "backgroundcolor": "#E5ECF6",
            "gridcolor": "white",
            "gridwidth": 2,
            "linecolor": "white",
            "showbackground": true,
            "ticks": "",
            "zerolinecolor": "white"
           }
          },
          "shapedefaults": {
           "line": {
            "color": "#2a3f5f"
           }
          },
          "ternary": {
           "aaxis": {
            "gridcolor": "white",
            "linecolor": "white",
            "ticks": ""
           },
           "baxis": {
            "gridcolor": "white",
            "linecolor": "white",
            "ticks": ""
           },
           "bgcolor": "#E5ECF6",
           "caxis": {
            "gridcolor": "white",
            "linecolor": "white",
            "ticks": ""
           }
          },
          "title": {
           "x": 0.05
          },
          "xaxis": {
           "automargin": true,
           "gridcolor": "white",
           "linecolor": "white",
           "ticks": "",
           "title": {
            "standoff": 15
           },
           "zerolinecolor": "white",
           "zerolinewidth": 2
          },
          "yaxis": {
           "automargin": true,
           "gridcolor": "white",
           "linecolor": "white",
           "ticks": "",
           "title": {
            "standoff": 15
           },
           "zerolinecolor": "white",
           "zerolinewidth": 2
          }
         }
        },
        "title": {
         "text": "December Airbnb Costs",
         "x": 0.5
        },
        "width": 1000,
        "xaxis": {
         "anchor": "y",
         "domain": [
          0,
          1
         ],
         "title": {
          "text": "Ski Resort"
         }
        },
        "yaxis": {
         "anchor": "x",
         "domain": [
          0,
          1
         ],
         "title": {
          "text": "Nightly Price ($)"
         }
        }
       }
      },
      "text/html": [
       "<div>                            <div id=\"52800cba-3264-47ce-9253-5c21fd0d535a\" class=\"plotly-graph-div\" style=\"height:500px; width:1000px;\"></div>            <script type=\"text/javascript\">                require([\"plotly\"], function(Plotly) {                    window.PLOTLYENV=window.PLOTLYENV || {};                                    if (document.getElementById(\"52800cba-3264-47ce-9253-5c21fd0d535a\")) {                    Plotly.newPlot(                        \"52800cba-3264-47ce-9253-5c21fd0d535a\",                        [{\"alignmentgroup\": \"True\", \"hovertemplate\": \"variable=2 Guest Mean<br>ski_resort=%{x}<br>value=%{y}<extra></extra>\", \"legendgroup\": \"2 Guest Mean\", \"marker\": {\"color\": \"#636efa\"}, \"name\": \"2 Guest Mean\", \"offsetgroup\": \"dec_mean_2_guests\", \"orientation\": \"v\", \"showlegend\": true, \"textposition\": \"outside\", \"type\": \"bar\", \"x\": [\"Telluride\", \"Alta\", \"Snowbasin\"], \"xaxis\": \"x\", \"y\": [308, 277, 215], \"yaxis\": \"y\"}, {\"alignmentgroup\": \"True\", \"hovertemplate\": \"variable=4 Guest Mean<br>ski_resort=%{x}<br>value=%{y}<extra></extra>\", \"legendgroup\": \"4 Guest Mean\", \"marker\": {\"color\": \"#EF553B\"}, \"name\": \"4 Guest Mean\", \"offsetgroup\": \"dec_mean_4_guests\", \"orientation\": \"v\", \"showlegend\": true, \"textposition\": \"outside\", \"type\": \"bar\", \"x\": [\"Telluride\", \"Alta\", \"Snowbasin\"], \"xaxis\": \"x\", \"y\": [425, 352, 240], \"yaxis\": \"y\"}],                        {\"barmode\": \"group\", \"font\": {\"size\": 14}, \"height\": 500, \"legend\": {\"title\": {\"text\": \"variable\"}, \"tracegroupgap\": 0}, \"margin\": {\"t\": 60}, \"plot_bgcolor\": \"white\", \"template\": {\"data\": {\"bar\": [{\"error_x\": {\"color\": \"#2a3f5f\"}, \"error_y\": {\"color\": \"#2a3f5f\"}, \"marker\": {\"line\": {\"color\": \"#E5ECF6\", \"width\": 0.5}}, \"type\": \"bar\"}], \"barpolar\": [{\"marker\": {\"line\": {\"color\": \"#E5ECF6\", \"width\": 0.5}}, \"type\": \"barpolar\"}], \"carpet\": [{\"aaxis\": {\"endlinecolor\": \"#2a3f5f\", \"gridcolor\": \"white\", \"linecolor\": \"white\", \"minorgridcolor\": \"white\", \"startlinecolor\": \"#2a3f5f\"}, \"baxis\": {\"endlinecolor\": \"#2a3f5f\", \"gridcolor\": \"white\", \"linecolor\": \"white\", \"minorgridcolor\": \"white\", \"startlinecolor\": \"#2a3f5f\"}, \"type\": \"carpet\"}], \"choropleth\": [{\"colorbar\": {\"outlinewidth\": 0, \"ticks\": \"\"}, \"type\": \"choropleth\"}], \"contour\": [{\"colorbar\": {\"outlinewidth\": 0, \"ticks\": \"\"}, \"colorscale\": [[0.0, \"#0d0887\"], [0.1111111111111111, \"#46039f\"], [0.2222222222222222, \"#7201a8\"], [0.3333333333333333, \"#9c179e\"], [0.4444444444444444, \"#bd3786\"], [0.5555555555555556, \"#d8576b\"], [0.6666666666666666, \"#ed7953\"], [0.7777777777777778, \"#fb9f3a\"], [0.8888888888888888, \"#fdca26\"], [1.0, \"#f0f921\"]], \"type\": \"contour\"}], \"contourcarpet\": [{\"colorbar\": {\"outlinewidth\": 0, \"ticks\": \"\"}, \"type\": \"contourcarpet\"}], \"heatmap\": [{\"colorbar\": {\"outlinewidth\": 0, \"ticks\": \"\"}, \"colorscale\": [[0.0, \"#0d0887\"], [0.1111111111111111, \"#46039f\"], [0.2222222222222222, \"#7201a8\"], [0.3333333333333333, \"#9c179e\"], [0.4444444444444444, \"#bd3786\"], [0.5555555555555556, \"#d8576b\"], [0.6666666666666666, \"#ed7953\"], [0.7777777777777778, \"#fb9f3a\"], [0.8888888888888888, \"#fdca26\"], [1.0, \"#f0f921\"]], \"type\": \"heatmap\"}], \"heatmapgl\": [{\"colorbar\": {\"outlinewidth\": 0, \"ticks\": \"\"}, \"colorscale\": [[0.0, \"#0d0887\"], [0.1111111111111111, \"#46039f\"], [0.2222222222222222, \"#7201a8\"], [0.3333333333333333, \"#9c179e\"], [0.4444444444444444, \"#bd3786\"], [0.5555555555555556, \"#d8576b\"], [0.6666666666666666, \"#ed7953\"], [0.7777777777777778, \"#fb9f3a\"], [0.8888888888888888, \"#fdca26\"], [1.0, \"#f0f921\"]], \"type\": \"heatmapgl\"}], \"histogram\": [{\"marker\": {\"colorbar\": {\"outlinewidth\": 0, \"ticks\": \"\"}}, \"type\": \"histogram\"}], \"histogram2d\": [{\"colorbar\": {\"outlinewidth\": 0, \"ticks\": \"\"}, \"colorscale\": [[0.0, \"#0d0887\"], [0.1111111111111111, \"#46039f\"], [0.2222222222222222, \"#7201a8\"], [0.3333333333333333, \"#9c179e\"], [0.4444444444444444, \"#bd3786\"], [0.5555555555555556, \"#d8576b\"], [0.6666666666666666, \"#ed7953\"], [0.7777777777777778, \"#fb9f3a\"], [0.8888888888888888, \"#fdca26\"], [1.0, \"#f0f921\"]], \"type\": \"histogram2d\"}], \"histogram2dcontour\": [{\"colorbar\": {\"outlinewidth\": 0, \"ticks\": \"\"}, \"colorscale\": [[0.0, \"#0d0887\"], [0.1111111111111111, \"#46039f\"], [0.2222222222222222, \"#7201a8\"], [0.3333333333333333, \"#9c179e\"], [0.4444444444444444, \"#bd3786\"], [0.5555555555555556, \"#d8576b\"], [0.6666666666666666, \"#ed7953\"], [0.7777777777777778, \"#fb9f3a\"], [0.8888888888888888, \"#fdca26\"], [1.0, \"#f0f921\"]], \"type\": \"histogram2dcontour\"}], \"mesh3d\": [{\"colorbar\": {\"outlinewidth\": 0, \"ticks\": \"\"}, \"type\": \"mesh3d\"}], \"parcoords\": [{\"line\": {\"colorbar\": {\"outlinewidth\": 0, \"ticks\": \"\"}}, \"type\": \"parcoords\"}], \"pie\": [{\"automargin\": true, \"type\": \"pie\"}], \"scatter\": [{\"marker\": {\"colorbar\": {\"outlinewidth\": 0, \"ticks\": \"\"}}, \"type\": \"scatter\"}], \"scatter3d\": [{\"line\": {\"colorbar\": {\"outlinewidth\": 0, \"ticks\": \"\"}}, \"marker\": {\"colorbar\": {\"outlinewidth\": 0, \"ticks\": \"\"}}, \"type\": \"scatter3d\"}], \"scattercarpet\": [{\"marker\": {\"colorbar\": {\"outlinewidth\": 0, \"ticks\": \"\"}}, \"type\": \"scattercarpet\"}], \"scattergeo\": [{\"marker\": {\"colorbar\": {\"outlinewidth\": 0, \"ticks\": \"\"}}, \"type\": \"scattergeo\"}], \"scattergl\": [{\"marker\": {\"colorbar\": {\"outlinewidth\": 0, \"ticks\": \"\"}}, \"type\": \"scattergl\"}], \"scattermapbox\": [{\"marker\": {\"colorbar\": {\"outlinewidth\": 0, \"ticks\": \"\"}}, \"type\": \"scattermapbox\"}], \"scatterpolar\": [{\"marker\": {\"colorbar\": {\"outlinewidth\": 0, \"ticks\": \"\"}}, \"type\": \"scatterpolar\"}], \"scatterpolargl\": [{\"marker\": {\"colorbar\": {\"outlinewidth\": 0, \"ticks\": \"\"}}, \"type\": \"scatterpolargl\"}], \"scatterternary\": [{\"marker\": {\"colorbar\": {\"outlinewidth\": 0, \"ticks\": \"\"}}, \"type\": \"scatterternary\"}], \"surface\": [{\"colorbar\": {\"outlinewidth\": 0, \"ticks\": \"\"}, \"colorscale\": [[0.0, \"#0d0887\"], [0.1111111111111111, \"#46039f\"], [0.2222222222222222, \"#7201a8\"], [0.3333333333333333, \"#9c179e\"], [0.4444444444444444, \"#bd3786\"], [0.5555555555555556, \"#d8576b\"], [0.6666666666666666, \"#ed7953\"], [0.7777777777777778, \"#fb9f3a\"], [0.8888888888888888, \"#fdca26\"], [1.0, \"#f0f921\"]], \"type\": \"surface\"}], \"table\": [{\"cells\": {\"fill\": {\"color\": \"#EBF0F8\"}, \"line\": {\"color\": \"white\"}}, \"header\": {\"fill\": {\"color\": \"#C8D4E3\"}, \"line\": {\"color\": \"white\"}}, \"type\": \"table\"}]}, \"layout\": {\"annotationdefaults\": {\"arrowcolor\": \"#2a3f5f\", \"arrowhead\": 0, \"arrowwidth\": 1}, \"coloraxis\": {\"colorbar\": {\"outlinewidth\": 0, \"ticks\": \"\"}}, \"colorscale\": {\"diverging\": [[0, \"#8e0152\"], [0.1, \"#c51b7d\"], [0.2, \"#de77ae\"], [0.3, \"#f1b6da\"], [0.4, \"#fde0ef\"], [0.5, \"#f7f7f7\"], [0.6, \"#e6f5d0\"], [0.7, \"#b8e186\"], [0.8, \"#7fbc41\"], [0.9, \"#4d9221\"], [1, \"#276419\"]], \"sequential\": [[0.0, \"#0d0887\"], [0.1111111111111111, \"#46039f\"], [0.2222222222222222, \"#7201a8\"], [0.3333333333333333, \"#9c179e\"], [0.4444444444444444, \"#bd3786\"], [0.5555555555555556, \"#d8576b\"], [0.6666666666666666, \"#ed7953\"], [0.7777777777777778, \"#fb9f3a\"], [0.8888888888888888, \"#fdca26\"], [1.0, \"#f0f921\"]], \"sequentialminus\": [[0.0, \"#0d0887\"], [0.1111111111111111, \"#46039f\"], [0.2222222222222222, \"#7201a8\"], [0.3333333333333333, \"#9c179e\"], [0.4444444444444444, \"#bd3786\"], [0.5555555555555556, \"#d8576b\"], [0.6666666666666666, \"#ed7953\"], [0.7777777777777778, \"#fb9f3a\"], [0.8888888888888888, \"#fdca26\"], [1.0, \"#f0f921\"]]}, \"colorway\": [\"#636efa\", \"#EF553B\", \"#00cc96\", \"#ab63fa\", \"#FFA15A\", \"#19d3f3\", \"#FF6692\", \"#B6E880\", \"#FF97FF\", \"#FECB52\"], \"font\": {\"color\": \"#2a3f5f\"}, \"geo\": {\"bgcolor\": \"white\", \"lakecolor\": \"white\", \"landcolor\": \"#E5ECF6\", \"showlakes\": true, \"showland\": true, \"subunitcolor\": \"white\"}, \"hoverlabel\": {\"align\": \"left\"}, \"hovermode\": \"closest\", \"mapbox\": {\"style\": \"light\"}, \"paper_bgcolor\": \"white\", \"plot_bgcolor\": \"#E5ECF6\", \"polar\": {\"angularaxis\": {\"gridcolor\": \"white\", \"linecolor\": \"white\", \"ticks\": \"\"}, \"bgcolor\": \"#E5ECF6\", \"radialaxis\": {\"gridcolor\": \"white\", \"linecolor\": \"white\", \"ticks\": \"\"}}, \"scene\": {\"xaxis\": {\"backgroundcolor\": \"#E5ECF6\", \"gridcolor\": \"white\", \"gridwidth\": 2, \"linecolor\": \"white\", \"showbackground\": true, \"ticks\": \"\", \"zerolinecolor\": \"white\"}, \"yaxis\": {\"backgroundcolor\": \"#E5ECF6\", \"gridcolor\": \"white\", \"gridwidth\": 2, \"linecolor\": \"white\", \"showbackground\": true, \"ticks\": \"\", \"zerolinecolor\": \"white\"}, \"zaxis\": {\"backgroundcolor\": \"#E5ECF6\", \"gridcolor\": \"white\", \"gridwidth\": 2, \"linecolor\": \"white\", \"showbackground\": true, \"ticks\": \"\", \"zerolinecolor\": \"white\"}}, \"shapedefaults\": {\"line\": {\"color\": \"#2a3f5f\"}}, \"ternary\": {\"aaxis\": {\"gridcolor\": \"white\", \"linecolor\": \"white\", \"ticks\": \"\"}, \"baxis\": {\"gridcolor\": \"white\", \"linecolor\": \"white\", \"ticks\": \"\"}, \"bgcolor\": \"#E5ECF6\", \"caxis\": {\"gridcolor\": \"white\", \"linecolor\": \"white\", \"ticks\": \"\"}}, \"title\": {\"x\": 0.05}, \"xaxis\": {\"automargin\": true, \"gridcolor\": \"white\", \"linecolor\": \"white\", \"ticks\": \"\", \"title\": {\"standoff\": 15}, \"zerolinecolor\": \"white\", \"zerolinewidth\": 2}, \"yaxis\": {\"automargin\": true, \"gridcolor\": \"white\", \"linecolor\": \"white\", \"ticks\": \"\", \"title\": {\"standoff\": 15}, \"zerolinecolor\": \"white\", \"zerolinewidth\": 2}}}, \"title\": {\"text\": \"December Airbnb Costs\", \"x\": 0.5}, \"width\": 1000, \"xaxis\": {\"anchor\": \"y\", \"domain\": [0.0, 1.0], \"title\": {\"text\": \"Ski Resort\"}}, \"yaxis\": {\"anchor\": \"x\", \"domain\": [0.0, 1.0], \"title\": {\"text\": \"Nightly Price ($)\"}}},                        {\"responsive\": true}                    ).then(function(){\n",
       "                            \n",
       "var gd = document.getElementById('52800cba-3264-47ce-9253-5c21fd0d535a');\n",
       "var x = new MutationObserver(function (mutations, observer) {{\n",
       "        var display = window.getComputedStyle(gd).display;\n",
       "        if (!display || display === 'none') {{\n",
       "            console.log([gd, 'removed!']);\n",
       "            Plotly.purge(gd);\n",
       "            observer.disconnect();\n",
       "        }}\n",
       "}});\n",
       "\n",
       "// Listen for the removal of the full notebook cells\n",
       "var notebookContainer = gd.closest('#notebook-container');\n",
       "if (notebookContainer) {{\n",
       "    x.observe(notebookContainer, {childList: true});\n",
       "}}\n",
       "\n",
       "// Listen for the clearing of the current output cell\n",
       "var outputEl = gd.closest('.output');\n",
       "if (outputEl) {{\n",
       "    x.observe(outputEl, {childList: true});\n",
       "}}\n",
       "\n",
       "                        })                };                });            </script>        </div>"
      ]
     },
     "metadata": {},
     "output_type": "display_data"
    }
   ],
   "source": [
    "#using plotly to plot the top featurescolor=\n",
    "fig = px.bar(stephanie_hybrid, x=\"ski_resort\", y=[\"dec_mean_2_guests\", \"dec_mean_4_guests\"],\n",
    "            width=1000, height=500)\n",
    "fig.update_layout(title_text='December Airbnb Costs',\n",
    "                  title_x=0.5,\n",
    "                  xaxis_title=\"Ski Resort\",\n",
    "                  yaxis_title=\"Nightly Price ($)\",\n",
    "                 plot_bgcolor='white',\n",
    "                 font=dict(size=14),\n",
    "                 barmode='group')\n",
    "\n",
    "newnames = {'dec_mean_2_guests':'2 Guest Mean', 'dec_mean_4_guests': '4 Guest Mean'}\n",
    "fig.for_each_trace(lambda t: t.update(name = newnames[t.name],\n",
    "                                      legendgroup = newnames[t.name],\n",
    "                                      hovertemplate = t.hovertemplate.replace(t.name, newnames[t.name])\n",
    "                                     )\n",
    "                  )\n",
    "\n",
    "fig.update_traces(textposition='outside')               \n",
    "              \n",
    "fig.show()"
   ]
  },
  {
   "cell_type": "code",
   "execution_count": 350,
   "metadata": {},
   "outputs": [
    {
     "data": {
      "application/vnd.plotly.v1+json": {
       "config": {
        "plotlyServerURL": "https://plot.ly"
       },
       "data": [
        {
         "alignmentgroup": "True",
         "hovertemplate": "variable=nov_snow<br>ski_resort=%{x}<br>value=%{y}<extra></extra>",
         "legendgroup": "nov_snow",
         "marker": {
          "color": "#636efa"
         },
         "name": "nov_snow",
         "offsetgroup": "nov_snow",
         "orientation": "v",
         "showlegend": true,
         "textposition": "outside",
         "type": "bar",
         "x": [
          "Telluride",
          "Alta",
          "Snowbasin"
         ],
         "xaxis": "x",
         "y": [
          16,
          16,
          14
         ],
         "yaxis": "y"
        },
        {
         "alignmentgroup": "True",
         "hovertemplate": "variable=dec_snow<br>ski_resort=%{x}<br>value=%{y}<extra></extra>",
         "legendgroup": "dec_snow",
         "marker": {
          "color": "#EF553B"
         },
         "name": "dec_snow",
         "offsetgroup": "dec_snow",
         "orientation": "v",
         "showlegend": true,
         "textposition": "outside",
         "type": "bar",
         "x": [
          "Telluride",
          "Alta",
          "Snowbasin"
         ],
         "xaxis": "x",
         "y": [
          49,
          88,
          68
         ],
         "yaxis": "y"
        },
        {
         "alignmentgroup": "True",
         "hovertemplate": "variable=jan_snow<br>ski_resort=%{x}<br>value=%{y}<extra></extra>",
         "legendgroup": "jan_snow",
         "marker": {
          "color": "#00cc96"
         },
         "name": "jan_snow",
         "offsetgroup": "jan_snow",
         "orientation": "v",
         "showlegend": true,
         "textposition": "outside",
         "type": "bar",
         "x": [
          "Telluride",
          "Alta",
          "Snowbasin"
         ],
         "xaxis": "x",
         "y": [
          47,
          84,
          67
         ],
         "yaxis": "y"
        },
        {
         "alignmentgroup": "True",
         "hovertemplate": "variable=feb_snow<br>ski_resort=%{x}<br>value=%{y}<extra></extra>",
         "legendgroup": "feb_snow",
         "marker": {
          "color": "#ab63fa"
         },
         "name": "feb_snow",
         "offsetgroup": "feb_snow",
         "orientation": "v",
         "showlegend": true,
         "textposition": "outside",
         "type": "bar",
         "x": [
          "Telluride",
          "Alta",
          "Snowbasin"
         ],
         "xaxis": "x",
         "y": [
          52,
          74,
          68
         ],
         "yaxis": "y"
        },
        {
         "alignmentgroup": "True",
         "hovertemplate": "variable=mar_snow<br>ski_resort=%{x}<br>value=%{y}<extra></extra>",
         "legendgroup": "mar_snow",
         "marker": {
          "color": "#FFA15A"
         },
         "name": "mar_snow",
         "offsetgroup": "mar_snow",
         "orientation": "v",
         "showlegend": true,
         "textposition": "outside",
         "type": "bar",
         "x": [
          "Telluride",
          "Alta",
          "Snowbasin"
         ],
         "xaxis": "x",
         "y": [
          49,
          74,
          57
         ],
         "yaxis": "y"
        },
        {
         "alignmentgroup": "True",
         "hovertemplate": "variable=apr_snow<br>ski_resort=%{x}<br>value=%{y}<extra></extra>",
         "legendgroup": "apr_snow",
         "marker": {
          "color": "#19d3f3"
         },
         "name": "apr_snow",
         "offsetgroup": "apr_snow",
         "orientation": "v",
         "showlegend": true,
         "textposition": "outside",
         "type": "bar",
         "x": [
          "Telluride",
          "Alta",
          "Snowbasin"
         ],
         "xaxis": "x",
         "y": [
          4,
          40,
          16
         ],
         "yaxis": "y"
        }
       ],
       "layout": {
        "barmode": "group",
        "font": {
         "size": 14
        },
        "height": 500,
        "legend": {
         "title": {
          "text": "variable"
         },
         "tracegroupgap": 0
        },
        "margin": {
         "t": 60
        },
        "plot_bgcolor": "white",
        "template": {
         "data": {
          "bar": [
           {
            "error_x": {
             "color": "#2a3f5f"
            },
            "error_y": {
             "color": "#2a3f5f"
            },
            "marker": {
             "line": {
              "color": "#E5ECF6",
              "width": 0.5
             }
            },
            "type": "bar"
           }
          ],
          "barpolar": [
           {
            "marker": {
             "line": {
              "color": "#E5ECF6",
              "width": 0.5
             }
            },
            "type": "barpolar"
           }
          ],
          "carpet": [
           {
            "aaxis": {
             "endlinecolor": "#2a3f5f",
             "gridcolor": "white",
             "linecolor": "white",
             "minorgridcolor": "white",
             "startlinecolor": "#2a3f5f"
            },
            "baxis": {
             "endlinecolor": "#2a3f5f",
             "gridcolor": "white",
             "linecolor": "white",
             "minorgridcolor": "white",
             "startlinecolor": "#2a3f5f"
            },
            "type": "carpet"
           }
          ],
          "choropleth": [
           {
            "colorbar": {
             "outlinewidth": 0,
             "ticks": ""
            },
            "type": "choropleth"
           }
          ],
          "contour": [
           {
            "colorbar": {
             "outlinewidth": 0,
             "ticks": ""
            },
            "colorscale": [
             [
              0,
              "#0d0887"
             ],
             [
              0.1111111111111111,
              "#46039f"
             ],
             [
              0.2222222222222222,
              "#7201a8"
             ],
             [
              0.3333333333333333,
              "#9c179e"
             ],
             [
              0.4444444444444444,
              "#bd3786"
             ],
             [
              0.5555555555555556,
              "#d8576b"
             ],
             [
              0.6666666666666666,
              "#ed7953"
             ],
             [
              0.7777777777777778,
              "#fb9f3a"
             ],
             [
              0.8888888888888888,
              "#fdca26"
             ],
             [
              1,
              "#f0f921"
             ]
            ],
            "type": "contour"
           }
          ],
          "contourcarpet": [
           {
            "colorbar": {
             "outlinewidth": 0,
             "ticks": ""
            },
            "type": "contourcarpet"
           }
          ],
          "heatmap": [
           {
            "colorbar": {
             "outlinewidth": 0,
             "ticks": ""
            },
            "colorscale": [
             [
              0,
              "#0d0887"
             ],
             [
              0.1111111111111111,
              "#46039f"
             ],
             [
              0.2222222222222222,
              "#7201a8"
             ],
             [
              0.3333333333333333,
              "#9c179e"
             ],
             [
              0.4444444444444444,
              "#bd3786"
             ],
             [
              0.5555555555555556,
              "#d8576b"
             ],
             [
              0.6666666666666666,
              "#ed7953"
             ],
             [
              0.7777777777777778,
              "#fb9f3a"
             ],
             [
              0.8888888888888888,
              "#fdca26"
             ],
             [
              1,
              "#f0f921"
             ]
            ],
            "type": "heatmap"
           }
          ],
          "heatmapgl": [
           {
            "colorbar": {
             "outlinewidth": 0,
             "ticks": ""
            },
            "colorscale": [
             [
              0,
              "#0d0887"
             ],
             [
              0.1111111111111111,
              "#46039f"
             ],
             [
              0.2222222222222222,
              "#7201a8"
             ],
             [
              0.3333333333333333,
              "#9c179e"
             ],
             [
              0.4444444444444444,
              "#bd3786"
             ],
             [
              0.5555555555555556,
              "#d8576b"
             ],
             [
              0.6666666666666666,
              "#ed7953"
             ],
             [
              0.7777777777777778,
              "#fb9f3a"
             ],
             [
              0.8888888888888888,
              "#fdca26"
             ],
             [
              1,
              "#f0f921"
             ]
            ],
            "type": "heatmapgl"
           }
          ],
          "histogram": [
           {
            "marker": {
             "colorbar": {
              "outlinewidth": 0,
              "ticks": ""
             }
            },
            "type": "histogram"
           }
          ],
          "histogram2d": [
           {
            "colorbar": {
             "outlinewidth": 0,
             "ticks": ""
            },
            "colorscale": [
             [
              0,
              "#0d0887"
             ],
             [
              0.1111111111111111,
              "#46039f"
             ],
             [
              0.2222222222222222,
              "#7201a8"
             ],
             [
              0.3333333333333333,
              "#9c179e"
             ],
             [
              0.4444444444444444,
              "#bd3786"
             ],
             [
              0.5555555555555556,
              "#d8576b"
             ],
             [
              0.6666666666666666,
              "#ed7953"
             ],
             [
              0.7777777777777778,
              "#fb9f3a"
             ],
             [
              0.8888888888888888,
              "#fdca26"
             ],
             [
              1,
              "#f0f921"
             ]
            ],
            "type": "histogram2d"
           }
          ],
          "histogram2dcontour": [
           {
            "colorbar": {
             "outlinewidth": 0,
             "ticks": ""
            },
            "colorscale": [
             [
              0,
              "#0d0887"
             ],
             [
              0.1111111111111111,
              "#46039f"
             ],
             [
              0.2222222222222222,
              "#7201a8"
             ],
             [
              0.3333333333333333,
              "#9c179e"
             ],
             [
              0.4444444444444444,
              "#bd3786"
             ],
             [
              0.5555555555555556,
              "#d8576b"
             ],
             [
              0.6666666666666666,
              "#ed7953"
             ],
             [
              0.7777777777777778,
              "#fb9f3a"
             ],
             [
              0.8888888888888888,
              "#fdca26"
             ],
             [
              1,
              "#f0f921"
             ]
            ],
            "type": "histogram2dcontour"
           }
          ],
          "mesh3d": [
           {
            "colorbar": {
             "outlinewidth": 0,
             "ticks": ""
            },
            "type": "mesh3d"
           }
          ],
          "parcoords": [
           {
            "line": {
             "colorbar": {
              "outlinewidth": 0,
              "ticks": ""
             }
            },
            "type": "parcoords"
           }
          ],
          "pie": [
           {
            "automargin": true,
            "type": "pie"
           }
          ],
          "scatter": [
           {
            "marker": {
             "colorbar": {
              "outlinewidth": 0,
              "ticks": ""
             }
            },
            "type": "scatter"
           }
          ],
          "scatter3d": [
           {
            "line": {
             "colorbar": {
              "outlinewidth": 0,
              "ticks": ""
             }
            },
            "marker": {
             "colorbar": {
              "outlinewidth": 0,
              "ticks": ""
             }
            },
            "type": "scatter3d"
           }
          ],
          "scattercarpet": [
           {
            "marker": {
             "colorbar": {
              "outlinewidth": 0,
              "ticks": ""
             }
            },
            "type": "scattercarpet"
           }
          ],
          "scattergeo": [
           {
            "marker": {
             "colorbar": {
              "outlinewidth": 0,
              "ticks": ""
             }
            },
            "type": "scattergeo"
           }
          ],
          "scattergl": [
           {
            "marker": {
             "colorbar": {
              "outlinewidth": 0,
              "ticks": ""
             }
            },
            "type": "scattergl"
           }
          ],
          "scattermapbox": [
           {
            "marker": {
             "colorbar": {
              "outlinewidth": 0,
              "ticks": ""
             }
            },
            "type": "scattermapbox"
           }
          ],
          "scatterpolar": [
           {
            "marker": {
             "colorbar": {
              "outlinewidth": 0,
              "ticks": ""
             }
            },
            "type": "scatterpolar"
           }
          ],
          "scatterpolargl": [
           {
            "marker": {
             "colorbar": {
              "outlinewidth": 0,
              "ticks": ""
             }
            },
            "type": "scatterpolargl"
           }
          ],
          "scatterternary": [
           {
            "marker": {
             "colorbar": {
              "outlinewidth": 0,
              "ticks": ""
             }
            },
            "type": "scatterternary"
           }
          ],
          "surface": [
           {
            "colorbar": {
             "outlinewidth": 0,
             "ticks": ""
            },
            "colorscale": [
             [
              0,
              "#0d0887"
             ],
             [
              0.1111111111111111,
              "#46039f"
             ],
             [
              0.2222222222222222,
              "#7201a8"
             ],
             [
              0.3333333333333333,
              "#9c179e"
             ],
             [
              0.4444444444444444,
              "#bd3786"
             ],
             [
              0.5555555555555556,
              "#d8576b"
             ],
             [
              0.6666666666666666,
              "#ed7953"
             ],
             [
              0.7777777777777778,
              "#fb9f3a"
             ],
             [
              0.8888888888888888,
              "#fdca26"
             ],
             [
              1,
              "#f0f921"
             ]
            ],
            "type": "surface"
           }
          ],
          "table": [
           {
            "cells": {
             "fill": {
              "color": "#EBF0F8"
             },
             "line": {
              "color": "white"
             }
            },
            "header": {
             "fill": {
              "color": "#C8D4E3"
             },
             "line": {
              "color": "white"
             }
            },
            "type": "table"
           }
          ]
         },
         "layout": {
          "annotationdefaults": {
           "arrowcolor": "#2a3f5f",
           "arrowhead": 0,
           "arrowwidth": 1
          },
          "coloraxis": {
           "colorbar": {
            "outlinewidth": 0,
            "ticks": ""
           }
          },
          "colorscale": {
           "diverging": [
            [
             0,
             "#8e0152"
            ],
            [
             0.1,
             "#c51b7d"
            ],
            [
             0.2,
             "#de77ae"
            ],
            [
             0.3,
             "#f1b6da"
            ],
            [
             0.4,
             "#fde0ef"
            ],
            [
             0.5,
             "#f7f7f7"
            ],
            [
             0.6,
             "#e6f5d0"
            ],
            [
             0.7,
             "#b8e186"
            ],
            [
             0.8,
             "#7fbc41"
            ],
            [
             0.9,
             "#4d9221"
            ],
            [
             1,
             "#276419"
            ]
           ],
           "sequential": [
            [
             0,
             "#0d0887"
            ],
            [
             0.1111111111111111,
             "#46039f"
            ],
            [
             0.2222222222222222,
             "#7201a8"
            ],
            [
             0.3333333333333333,
             "#9c179e"
            ],
            [
             0.4444444444444444,
             "#bd3786"
            ],
            [
             0.5555555555555556,
             "#d8576b"
            ],
            [
             0.6666666666666666,
             "#ed7953"
            ],
            [
             0.7777777777777778,
             "#fb9f3a"
            ],
            [
             0.8888888888888888,
             "#fdca26"
            ],
            [
             1,
             "#f0f921"
            ]
           ],
           "sequentialminus": [
            [
             0,
             "#0d0887"
            ],
            [
             0.1111111111111111,
             "#46039f"
            ],
            [
             0.2222222222222222,
             "#7201a8"
            ],
            [
             0.3333333333333333,
             "#9c179e"
            ],
            [
             0.4444444444444444,
             "#bd3786"
            ],
            [
             0.5555555555555556,
             "#d8576b"
            ],
            [
             0.6666666666666666,
             "#ed7953"
            ],
            [
             0.7777777777777778,
             "#fb9f3a"
            ],
            [
             0.8888888888888888,
             "#fdca26"
            ],
            [
             1,
             "#f0f921"
            ]
           ]
          },
          "colorway": [
           "#636efa",
           "#EF553B",
           "#00cc96",
           "#ab63fa",
           "#FFA15A",
           "#19d3f3",
           "#FF6692",
           "#B6E880",
           "#FF97FF",
           "#FECB52"
          ],
          "font": {
           "color": "#2a3f5f"
          },
          "geo": {
           "bgcolor": "white",
           "lakecolor": "white",
           "landcolor": "#E5ECF6",
           "showlakes": true,
           "showland": true,
           "subunitcolor": "white"
          },
          "hoverlabel": {
           "align": "left"
          },
          "hovermode": "closest",
          "mapbox": {
           "style": "light"
          },
          "paper_bgcolor": "white",
          "plot_bgcolor": "#E5ECF6",
          "polar": {
           "angularaxis": {
            "gridcolor": "white",
            "linecolor": "white",
            "ticks": ""
           },
           "bgcolor": "#E5ECF6",
           "radialaxis": {
            "gridcolor": "white",
            "linecolor": "white",
            "ticks": ""
           }
          },
          "scene": {
           "xaxis": {
            "backgroundcolor": "#E5ECF6",
            "gridcolor": "white",
            "gridwidth": 2,
            "linecolor": "white",
            "showbackground": true,
            "ticks": "",
            "zerolinecolor": "white"
           },
           "yaxis": {
            "backgroundcolor": "#E5ECF6",
            "gridcolor": "white",
            "gridwidth": 2,
            "linecolor": "white",
            "showbackground": true,
            "ticks": "",
            "zerolinecolor": "white"
           },
           "zaxis": {
            "backgroundcolor": "#E5ECF6",
            "gridcolor": "white",
            "gridwidth": 2,
            "linecolor": "white",
            "showbackground": true,
            "ticks": "",
            "zerolinecolor": "white"
           }
          },
          "shapedefaults": {
           "line": {
            "color": "#2a3f5f"
           }
          },
          "ternary": {
           "aaxis": {
            "gridcolor": "white",
            "linecolor": "white",
            "ticks": ""
           },
           "baxis": {
            "gridcolor": "white",
            "linecolor": "white",
            "ticks": ""
           },
           "bgcolor": "#E5ECF6",
           "caxis": {
            "gridcolor": "white",
            "linecolor": "white",
            "ticks": ""
           }
          },
          "title": {
           "x": 0.05
          },
          "xaxis": {
           "automargin": true,
           "gridcolor": "white",
           "linecolor": "white",
           "ticks": "",
           "title": {
            "standoff": 15
           },
           "zerolinecolor": "white",
           "zerolinewidth": 2
          },
          "yaxis": {
           "automargin": true,
           "gridcolor": "white",
           "linecolor": "white",
           "ticks": "",
           "title": {
            "standoff": 15
           },
           "zerolinecolor": "white",
           "zerolinewidth": 2
          }
         }
        },
        "title": {
         "text": "December Airbnb Costs",
         "x": 0.5
        },
        "width": 1000,
        "xaxis": {
         "anchor": "y",
         "domain": [
          0,
          1
         ],
         "title": {
          "text": "Ski Resort"
         }
        },
        "yaxis": {
         "anchor": "x",
         "domain": [
          0,
          1
         ],
         "title": {
          "text": "Nightly Price ($)"
         }
        }
       }
      },
      "text/html": [
       "<div>                            <div id=\"6a518fe5-09b0-4857-9686-1ec7cd9212ad\" class=\"plotly-graph-div\" style=\"height:500px; width:1000px;\"></div>            <script type=\"text/javascript\">                require([\"plotly\"], function(Plotly) {                    window.PLOTLYENV=window.PLOTLYENV || {};                                    if (document.getElementById(\"6a518fe5-09b0-4857-9686-1ec7cd9212ad\")) {                    Plotly.newPlot(                        \"6a518fe5-09b0-4857-9686-1ec7cd9212ad\",                        [{\"alignmentgroup\": \"True\", \"hovertemplate\": \"variable=nov_snow<br>ski_resort=%{x}<br>value=%{y}<extra></extra>\", \"legendgroup\": \"nov_snow\", \"marker\": {\"color\": \"#636efa\"}, \"name\": \"nov_snow\", \"offsetgroup\": \"nov_snow\", \"orientation\": \"v\", \"showlegend\": true, \"textposition\": \"outside\", \"type\": \"bar\", \"x\": [\"Telluride\", \"Alta\", \"Snowbasin\"], \"xaxis\": \"x\", \"y\": [16, 16, 14], \"yaxis\": \"y\"}, {\"alignmentgroup\": \"True\", \"hovertemplate\": \"variable=dec_snow<br>ski_resort=%{x}<br>value=%{y}<extra></extra>\", \"legendgroup\": \"dec_snow\", \"marker\": {\"color\": \"#EF553B\"}, \"name\": \"dec_snow\", \"offsetgroup\": \"dec_snow\", \"orientation\": \"v\", \"showlegend\": true, \"textposition\": \"outside\", \"type\": \"bar\", \"x\": [\"Telluride\", \"Alta\", \"Snowbasin\"], \"xaxis\": \"x\", \"y\": [49, 88, 68], \"yaxis\": \"y\"}, {\"alignmentgroup\": \"True\", \"hovertemplate\": \"variable=jan_snow<br>ski_resort=%{x}<br>value=%{y}<extra></extra>\", \"legendgroup\": \"jan_snow\", \"marker\": {\"color\": \"#00cc96\"}, \"name\": \"jan_snow\", \"offsetgroup\": \"jan_snow\", \"orientation\": \"v\", \"showlegend\": true, \"textposition\": \"outside\", \"type\": \"bar\", \"x\": [\"Telluride\", \"Alta\", \"Snowbasin\"], \"xaxis\": \"x\", \"y\": [47, 84, 67], \"yaxis\": \"y\"}, {\"alignmentgroup\": \"True\", \"hovertemplate\": \"variable=feb_snow<br>ski_resort=%{x}<br>value=%{y}<extra></extra>\", \"legendgroup\": \"feb_snow\", \"marker\": {\"color\": \"#ab63fa\"}, \"name\": \"feb_snow\", \"offsetgroup\": \"feb_snow\", \"orientation\": \"v\", \"showlegend\": true, \"textposition\": \"outside\", \"type\": \"bar\", \"x\": [\"Telluride\", \"Alta\", \"Snowbasin\"], \"xaxis\": \"x\", \"y\": [52, 74, 68], \"yaxis\": \"y\"}, {\"alignmentgroup\": \"True\", \"hovertemplate\": \"variable=mar_snow<br>ski_resort=%{x}<br>value=%{y}<extra></extra>\", \"legendgroup\": \"mar_snow\", \"marker\": {\"color\": \"#FFA15A\"}, \"name\": \"mar_snow\", \"offsetgroup\": \"mar_snow\", \"orientation\": \"v\", \"showlegend\": true, \"textposition\": \"outside\", \"type\": \"bar\", \"x\": [\"Telluride\", \"Alta\", \"Snowbasin\"], \"xaxis\": \"x\", \"y\": [49, 74, 57], \"yaxis\": \"y\"}, {\"alignmentgroup\": \"True\", \"hovertemplate\": \"variable=apr_snow<br>ski_resort=%{x}<br>value=%{y}<extra></extra>\", \"legendgroup\": \"apr_snow\", \"marker\": {\"color\": \"#19d3f3\"}, \"name\": \"apr_snow\", \"offsetgroup\": \"apr_snow\", \"orientation\": \"v\", \"showlegend\": true, \"textposition\": \"outside\", \"type\": \"bar\", \"x\": [\"Telluride\", \"Alta\", \"Snowbasin\"], \"xaxis\": \"x\", \"y\": [4, 40, 16], \"yaxis\": \"y\"}],                        {\"barmode\": \"group\", \"font\": {\"size\": 14}, \"height\": 500, \"legend\": {\"title\": {\"text\": \"variable\"}, \"tracegroupgap\": 0}, \"margin\": {\"t\": 60}, \"plot_bgcolor\": \"white\", \"template\": {\"data\": {\"bar\": [{\"error_x\": {\"color\": \"#2a3f5f\"}, \"error_y\": {\"color\": \"#2a3f5f\"}, \"marker\": {\"line\": {\"color\": \"#E5ECF6\", \"width\": 0.5}}, \"type\": \"bar\"}], \"barpolar\": [{\"marker\": {\"line\": {\"color\": \"#E5ECF6\", \"width\": 0.5}}, \"type\": \"barpolar\"}], \"carpet\": [{\"aaxis\": {\"endlinecolor\": \"#2a3f5f\", \"gridcolor\": \"white\", \"linecolor\": \"white\", \"minorgridcolor\": \"white\", \"startlinecolor\": \"#2a3f5f\"}, \"baxis\": {\"endlinecolor\": \"#2a3f5f\", \"gridcolor\": \"white\", \"linecolor\": \"white\", \"minorgridcolor\": \"white\", \"startlinecolor\": \"#2a3f5f\"}, \"type\": \"carpet\"}], \"choropleth\": [{\"colorbar\": {\"outlinewidth\": 0, \"ticks\": \"\"}, \"type\": \"choropleth\"}], \"contour\": [{\"colorbar\": {\"outlinewidth\": 0, \"ticks\": \"\"}, \"colorscale\": [[0.0, \"#0d0887\"], [0.1111111111111111, \"#46039f\"], [0.2222222222222222, \"#7201a8\"], [0.3333333333333333, \"#9c179e\"], [0.4444444444444444, \"#bd3786\"], [0.5555555555555556, \"#d8576b\"], [0.6666666666666666, \"#ed7953\"], [0.7777777777777778, \"#fb9f3a\"], [0.8888888888888888, \"#fdca26\"], [1.0, \"#f0f921\"]], \"type\": \"contour\"}], \"contourcarpet\": [{\"colorbar\": {\"outlinewidth\": 0, \"ticks\": \"\"}, \"type\": \"contourcarpet\"}], \"heatmap\": [{\"colorbar\": {\"outlinewidth\": 0, \"ticks\": \"\"}, \"colorscale\": [[0.0, \"#0d0887\"], [0.1111111111111111, \"#46039f\"], [0.2222222222222222, \"#7201a8\"], [0.3333333333333333, \"#9c179e\"], [0.4444444444444444, \"#bd3786\"], [0.5555555555555556, \"#d8576b\"], [0.6666666666666666, \"#ed7953\"], [0.7777777777777778, \"#fb9f3a\"], [0.8888888888888888, \"#fdca26\"], [1.0, \"#f0f921\"]], \"type\": \"heatmap\"}], \"heatmapgl\": [{\"colorbar\": {\"outlinewidth\": 0, \"ticks\": \"\"}, \"colorscale\": [[0.0, \"#0d0887\"], [0.1111111111111111, \"#46039f\"], [0.2222222222222222, \"#7201a8\"], [0.3333333333333333, \"#9c179e\"], [0.4444444444444444, \"#bd3786\"], [0.5555555555555556, \"#d8576b\"], [0.6666666666666666, \"#ed7953\"], [0.7777777777777778, \"#fb9f3a\"], [0.8888888888888888, \"#fdca26\"], [1.0, \"#f0f921\"]], \"type\": \"heatmapgl\"}], \"histogram\": [{\"marker\": {\"colorbar\": {\"outlinewidth\": 0, \"ticks\": \"\"}}, \"type\": \"histogram\"}], \"histogram2d\": [{\"colorbar\": {\"outlinewidth\": 0, \"ticks\": \"\"}, \"colorscale\": [[0.0, \"#0d0887\"], [0.1111111111111111, \"#46039f\"], [0.2222222222222222, \"#7201a8\"], [0.3333333333333333, \"#9c179e\"], [0.4444444444444444, \"#bd3786\"], [0.5555555555555556, \"#d8576b\"], [0.6666666666666666, \"#ed7953\"], [0.7777777777777778, \"#fb9f3a\"], [0.8888888888888888, \"#fdca26\"], [1.0, \"#f0f921\"]], \"type\": \"histogram2d\"}], \"histogram2dcontour\": [{\"colorbar\": {\"outlinewidth\": 0, \"ticks\": \"\"}, \"colorscale\": [[0.0, \"#0d0887\"], [0.1111111111111111, \"#46039f\"], [0.2222222222222222, \"#7201a8\"], [0.3333333333333333, \"#9c179e\"], [0.4444444444444444, \"#bd3786\"], [0.5555555555555556, \"#d8576b\"], [0.6666666666666666, \"#ed7953\"], [0.7777777777777778, \"#fb9f3a\"], [0.8888888888888888, \"#fdca26\"], [1.0, \"#f0f921\"]], \"type\": \"histogram2dcontour\"}], \"mesh3d\": [{\"colorbar\": {\"outlinewidth\": 0, \"ticks\": \"\"}, \"type\": \"mesh3d\"}], \"parcoords\": [{\"line\": {\"colorbar\": {\"outlinewidth\": 0, \"ticks\": \"\"}}, \"type\": \"parcoords\"}], \"pie\": [{\"automargin\": true, \"type\": \"pie\"}], \"scatter\": [{\"marker\": {\"colorbar\": {\"outlinewidth\": 0, \"ticks\": \"\"}}, \"type\": \"scatter\"}], \"scatter3d\": [{\"line\": {\"colorbar\": {\"outlinewidth\": 0, \"ticks\": \"\"}}, \"marker\": {\"colorbar\": {\"outlinewidth\": 0, \"ticks\": \"\"}}, \"type\": \"scatter3d\"}], \"scattercarpet\": [{\"marker\": {\"colorbar\": {\"outlinewidth\": 0, \"ticks\": \"\"}}, \"type\": \"scattercarpet\"}], \"scattergeo\": [{\"marker\": {\"colorbar\": {\"outlinewidth\": 0, \"ticks\": \"\"}}, \"type\": \"scattergeo\"}], \"scattergl\": [{\"marker\": {\"colorbar\": {\"outlinewidth\": 0, \"ticks\": \"\"}}, \"type\": \"scattergl\"}], \"scattermapbox\": [{\"marker\": {\"colorbar\": {\"outlinewidth\": 0, \"ticks\": \"\"}}, \"type\": \"scattermapbox\"}], \"scatterpolar\": [{\"marker\": {\"colorbar\": {\"outlinewidth\": 0, \"ticks\": \"\"}}, \"type\": \"scatterpolar\"}], \"scatterpolargl\": [{\"marker\": {\"colorbar\": {\"outlinewidth\": 0, \"ticks\": \"\"}}, \"type\": \"scatterpolargl\"}], \"scatterternary\": [{\"marker\": {\"colorbar\": {\"outlinewidth\": 0, \"ticks\": \"\"}}, \"type\": \"scatterternary\"}], \"surface\": [{\"colorbar\": {\"outlinewidth\": 0, \"ticks\": \"\"}, \"colorscale\": [[0.0, \"#0d0887\"], [0.1111111111111111, \"#46039f\"], [0.2222222222222222, \"#7201a8\"], [0.3333333333333333, \"#9c179e\"], [0.4444444444444444, \"#bd3786\"], [0.5555555555555556, \"#d8576b\"], [0.6666666666666666, \"#ed7953\"], [0.7777777777777778, \"#fb9f3a\"], [0.8888888888888888, \"#fdca26\"], [1.0, \"#f0f921\"]], \"type\": \"surface\"}], \"table\": [{\"cells\": {\"fill\": {\"color\": \"#EBF0F8\"}, \"line\": {\"color\": \"white\"}}, \"header\": {\"fill\": {\"color\": \"#C8D4E3\"}, \"line\": {\"color\": \"white\"}}, \"type\": \"table\"}]}, \"layout\": {\"annotationdefaults\": {\"arrowcolor\": \"#2a3f5f\", \"arrowhead\": 0, \"arrowwidth\": 1}, \"coloraxis\": {\"colorbar\": {\"outlinewidth\": 0, \"ticks\": \"\"}}, \"colorscale\": {\"diverging\": [[0, \"#8e0152\"], [0.1, \"#c51b7d\"], [0.2, \"#de77ae\"], [0.3, \"#f1b6da\"], [0.4, \"#fde0ef\"], [0.5, \"#f7f7f7\"], [0.6, \"#e6f5d0\"], [0.7, \"#b8e186\"], [0.8, \"#7fbc41\"], [0.9, \"#4d9221\"], [1, \"#276419\"]], \"sequential\": [[0.0, \"#0d0887\"], [0.1111111111111111, \"#46039f\"], [0.2222222222222222, \"#7201a8\"], [0.3333333333333333, \"#9c179e\"], [0.4444444444444444, \"#bd3786\"], [0.5555555555555556, \"#d8576b\"], [0.6666666666666666, \"#ed7953\"], [0.7777777777777778, \"#fb9f3a\"], [0.8888888888888888, \"#fdca26\"], [1.0, \"#f0f921\"]], \"sequentialminus\": [[0.0, \"#0d0887\"], [0.1111111111111111, \"#46039f\"], [0.2222222222222222, \"#7201a8\"], [0.3333333333333333, \"#9c179e\"], [0.4444444444444444, \"#bd3786\"], [0.5555555555555556, \"#d8576b\"], [0.6666666666666666, \"#ed7953\"], [0.7777777777777778, \"#fb9f3a\"], [0.8888888888888888, \"#fdca26\"], [1.0, \"#f0f921\"]]}, \"colorway\": [\"#636efa\", \"#EF553B\", \"#00cc96\", \"#ab63fa\", \"#FFA15A\", \"#19d3f3\", \"#FF6692\", \"#B6E880\", \"#FF97FF\", \"#FECB52\"], \"font\": {\"color\": \"#2a3f5f\"}, \"geo\": {\"bgcolor\": \"white\", \"lakecolor\": \"white\", \"landcolor\": \"#E5ECF6\", \"showlakes\": true, \"showland\": true, \"subunitcolor\": \"white\"}, \"hoverlabel\": {\"align\": \"left\"}, \"hovermode\": \"closest\", \"mapbox\": {\"style\": \"light\"}, \"paper_bgcolor\": \"white\", \"plot_bgcolor\": \"#E5ECF6\", \"polar\": {\"angularaxis\": {\"gridcolor\": \"white\", \"linecolor\": \"white\", \"ticks\": \"\"}, \"bgcolor\": \"#E5ECF6\", \"radialaxis\": {\"gridcolor\": \"white\", \"linecolor\": \"white\", \"ticks\": \"\"}}, \"scene\": {\"xaxis\": {\"backgroundcolor\": \"#E5ECF6\", \"gridcolor\": \"white\", \"gridwidth\": 2, \"linecolor\": \"white\", \"showbackground\": true, \"ticks\": \"\", \"zerolinecolor\": \"white\"}, \"yaxis\": {\"backgroundcolor\": \"#E5ECF6\", \"gridcolor\": \"white\", \"gridwidth\": 2, \"linecolor\": \"white\", \"showbackground\": true, \"ticks\": \"\", \"zerolinecolor\": \"white\"}, \"zaxis\": {\"backgroundcolor\": \"#E5ECF6\", \"gridcolor\": \"white\", \"gridwidth\": 2, \"linecolor\": \"white\", \"showbackground\": true, \"ticks\": \"\", \"zerolinecolor\": \"white\"}}, \"shapedefaults\": {\"line\": {\"color\": \"#2a3f5f\"}}, \"ternary\": {\"aaxis\": {\"gridcolor\": \"white\", \"linecolor\": \"white\", \"ticks\": \"\"}, \"baxis\": {\"gridcolor\": \"white\", \"linecolor\": \"white\", \"ticks\": \"\"}, \"bgcolor\": \"#E5ECF6\", \"caxis\": {\"gridcolor\": \"white\", \"linecolor\": \"white\", \"ticks\": \"\"}}, \"title\": {\"x\": 0.05}, \"xaxis\": {\"automargin\": true, \"gridcolor\": \"white\", \"linecolor\": \"white\", \"ticks\": \"\", \"title\": {\"standoff\": 15}, \"zerolinecolor\": \"white\", \"zerolinewidth\": 2}, \"yaxis\": {\"automargin\": true, \"gridcolor\": \"white\", \"linecolor\": \"white\", \"ticks\": \"\", \"title\": {\"standoff\": 15}, \"zerolinecolor\": \"white\", \"zerolinewidth\": 2}}}, \"title\": {\"text\": \"December Airbnb Costs\", \"x\": 0.5}, \"width\": 1000, \"xaxis\": {\"anchor\": \"y\", \"domain\": [0.0, 1.0], \"title\": {\"text\": \"Ski Resort\"}}, \"yaxis\": {\"anchor\": \"x\", \"domain\": [0.0, 1.0], \"title\": {\"text\": \"Nightly Price ($)\"}}},                        {\"responsive\": true}                    ).then(function(){\n",
       "                            \n",
       "var gd = document.getElementById('6a518fe5-09b0-4857-9686-1ec7cd9212ad');\n",
       "var x = new MutationObserver(function (mutations, observer) {{\n",
       "        var display = window.getComputedStyle(gd).display;\n",
       "        if (!display || display === 'none') {{\n",
       "            console.log([gd, 'removed!']);\n",
       "            Plotly.purge(gd);\n",
       "            observer.disconnect();\n",
       "        }}\n",
       "}});\n",
       "\n",
       "// Listen for the removal of the full notebook cells\n",
       "var notebookContainer = gd.closest('#notebook-container');\n",
       "if (notebookContainer) {{\n",
       "    x.observe(notebookContainer, {childList: true});\n",
       "}}\n",
       "\n",
       "// Listen for the clearing of the current output cell\n",
       "var outputEl = gd.closest('.output');\n",
       "if (outputEl) {{\n",
       "    x.observe(outputEl, {childList: true});\n",
       "}}\n",
       "\n",
       "                        })                };                });            </script>        </div>"
      ]
     },
     "metadata": {},
     "output_type": "display_data"
    }
   ],
   "source": [
    "#using plotly to plot the top featurescolor=\n",
    "fig = px.bar(stephanie_hybrid, x=\"ski_resort\", y=['nov_snow', 'dec_snow', 'jan_snow', 'feb_snow', 'mar_snow','apr_snow'],\n",
    "            width=1000, height=500)\n",
    "fig.update_layout(title_text='December Airbnb Costs',\n",
    "                  title_x=0.5,\n",
    "                  xaxis_title=\"Ski Resort\",\n",
    "                  yaxis_title=\"Nightly Price ($)\",\n",
    "                 plot_bgcolor='white',\n",
    "                 font=dict(size=14),\n",
    "                 barmode='group')\n",
    "\n",
    "fig.update_traces(textposition='outside')               \n",
    "              \n",
    "fig.show()"
   ]
  },
  {
   "cell_type": "code",
   "execution_count": 352,
   "metadata": {},
   "outputs": [
    {
     "data": {
      "application/vnd.plotly.v1+json": {
       "config": {
        "plotlyServerURL": "https://plot.ly"
       },
       "data": [
        {
         "alignmentgroup": "True",
         "hovertemplate": "variable=base<br>ski_resort=%{x}<br>value=%{y}<extra></extra>",
         "legendgroup": "base",
         "marker": {
          "color": "#636efa"
         },
         "name": "base",
         "offsetgroup": "base",
         "orientation": "v",
         "showlegend": true,
         "textposition": "outside",
         "type": "bar",
         "x": [
          "Telluride",
          "Alta",
          "Snowbasin"
         ],
         "xaxis": "x",
         "y": [
          8725,
          8530,
          6450
         ],
         "yaxis": "y"
        },
        {
         "alignmentgroup": "True",
         "hovertemplate": "variable=summit<br>ski_resort=%{x}<br>value=%{y}<extra></extra>",
         "legendgroup": "summit",
         "marker": {
          "color": "#EF553B"
         },
         "name": "summit",
         "offsetgroup": "summit",
         "orientation": "v",
         "showlegend": true,
         "textposition": "outside",
         "type": "bar",
         "x": [
          "Telluride",
          "Alta",
          "Snowbasin"
         ],
         "xaxis": "x",
         "y": [
          13150,
          11068,
          9350
         ],
         "yaxis": "y"
        },
        {
         "alignmentgroup": "True",
         "hovertemplate": "variable=drop<br>ski_resort=%{x}<br>value=%{y}<extra></extra>",
         "legendgroup": "drop",
         "marker": {
          "color": "#00cc96"
         },
         "name": "drop",
         "offsetgroup": "drop",
         "orientation": "v",
         "showlegend": true,
         "textposition": "outside",
         "type": "bar",
         "x": [
          "Telluride",
          "Alta",
          "Snowbasin"
         ],
         "xaxis": "x",
         "y": [
          4425,
          2538,
          2900
         ],
         "yaxis": "y"
        }
       ],
       "layout": {
        "barmode": "group",
        "font": {
         "size": 14
        },
        "height": 500,
        "legend": {
         "title": {
          "text": "variable"
         },
         "tracegroupgap": 0
        },
        "margin": {
         "t": 60
        },
        "plot_bgcolor": "white",
        "template": {
         "data": {
          "bar": [
           {
            "error_x": {
             "color": "#2a3f5f"
            },
            "error_y": {
             "color": "#2a3f5f"
            },
            "marker": {
             "line": {
              "color": "#E5ECF6",
              "width": 0.5
             }
            },
            "type": "bar"
           }
          ],
          "barpolar": [
           {
            "marker": {
             "line": {
              "color": "#E5ECF6",
              "width": 0.5
             }
            },
            "type": "barpolar"
           }
          ],
          "carpet": [
           {
            "aaxis": {
             "endlinecolor": "#2a3f5f",
             "gridcolor": "white",
             "linecolor": "white",
             "minorgridcolor": "white",
             "startlinecolor": "#2a3f5f"
            },
            "baxis": {
             "endlinecolor": "#2a3f5f",
             "gridcolor": "white",
             "linecolor": "white",
             "minorgridcolor": "white",
             "startlinecolor": "#2a3f5f"
            },
            "type": "carpet"
           }
          ],
          "choropleth": [
           {
            "colorbar": {
             "outlinewidth": 0,
             "ticks": ""
            },
            "type": "choropleth"
           }
          ],
          "contour": [
           {
            "colorbar": {
             "outlinewidth": 0,
             "ticks": ""
            },
            "colorscale": [
             [
              0,
              "#0d0887"
             ],
             [
              0.1111111111111111,
              "#46039f"
             ],
             [
              0.2222222222222222,
              "#7201a8"
             ],
             [
              0.3333333333333333,
              "#9c179e"
             ],
             [
              0.4444444444444444,
              "#bd3786"
             ],
             [
              0.5555555555555556,
              "#d8576b"
             ],
             [
              0.6666666666666666,
              "#ed7953"
             ],
             [
              0.7777777777777778,
              "#fb9f3a"
             ],
             [
              0.8888888888888888,
              "#fdca26"
             ],
             [
              1,
              "#f0f921"
             ]
            ],
            "type": "contour"
           }
          ],
          "contourcarpet": [
           {
            "colorbar": {
             "outlinewidth": 0,
             "ticks": ""
            },
            "type": "contourcarpet"
           }
          ],
          "heatmap": [
           {
            "colorbar": {
             "outlinewidth": 0,
             "ticks": ""
            },
            "colorscale": [
             [
              0,
              "#0d0887"
             ],
             [
              0.1111111111111111,
              "#46039f"
             ],
             [
              0.2222222222222222,
              "#7201a8"
             ],
             [
              0.3333333333333333,
              "#9c179e"
             ],
             [
              0.4444444444444444,
              "#bd3786"
             ],
             [
              0.5555555555555556,
              "#d8576b"
             ],
             [
              0.6666666666666666,
              "#ed7953"
             ],
             [
              0.7777777777777778,
              "#fb9f3a"
             ],
             [
              0.8888888888888888,
              "#fdca26"
             ],
             [
              1,
              "#f0f921"
             ]
            ],
            "type": "heatmap"
           }
          ],
          "heatmapgl": [
           {
            "colorbar": {
             "outlinewidth": 0,
             "ticks": ""
            },
            "colorscale": [
             [
              0,
              "#0d0887"
             ],
             [
              0.1111111111111111,
              "#46039f"
             ],
             [
              0.2222222222222222,
              "#7201a8"
             ],
             [
              0.3333333333333333,
              "#9c179e"
             ],
             [
              0.4444444444444444,
              "#bd3786"
             ],
             [
              0.5555555555555556,
              "#d8576b"
             ],
             [
              0.6666666666666666,
              "#ed7953"
             ],
             [
              0.7777777777777778,
              "#fb9f3a"
             ],
             [
              0.8888888888888888,
              "#fdca26"
             ],
             [
              1,
              "#f0f921"
             ]
            ],
            "type": "heatmapgl"
           }
          ],
          "histogram": [
           {
            "marker": {
             "colorbar": {
              "outlinewidth": 0,
              "ticks": ""
             }
            },
            "type": "histogram"
           }
          ],
          "histogram2d": [
           {
            "colorbar": {
             "outlinewidth": 0,
             "ticks": ""
            },
            "colorscale": [
             [
              0,
              "#0d0887"
             ],
             [
              0.1111111111111111,
              "#46039f"
             ],
             [
              0.2222222222222222,
              "#7201a8"
             ],
             [
              0.3333333333333333,
              "#9c179e"
             ],
             [
              0.4444444444444444,
              "#bd3786"
             ],
             [
              0.5555555555555556,
              "#d8576b"
             ],
             [
              0.6666666666666666,
              "#ed7953"
             ],
             [
              0.7777777777777778,
              "#fb9f3a"
             ],
             [
              0.8888888888888888,
              "#fdca26"
             ],
             [
              1,
              "#f0f921"
             ]
            ],
            "type": "histogram2d"
           }
          ],
          "histogram2dcontour": [
           {
            "colorbar": {
             "outlinewidth": 0,
             "ticks": ""
            },
            "colorscale": [
             [
              0,
              "#0d0887"
             ],
             [
              0.1111111111111111,
              "#46039f"
             ],
             [
              0.2222222222222222,
              "#7201a8"
             ],
             [
              0.3333333333333333,
              "#9c179e"
             ],
             [
              0.4444444444444444,
              "#bd3786"
             ],
             [
              0.5555555555555556,
              "#d8576b"
             ],
             [
              0.6666666666666666,
              "#ed7953"
             ],
             [
              0.7777777777777778,
              "#fb9f3a"
             ],
             [
              0.8888888888888888,
              "#fdca26"
             ],
             [
              1,
              "#f0f921"
             ]
            ],
            "type": "histogram2dcontour"
           }
          ],
          "mesh3d": [
           {
            "colorbar": {
             "outlinewidth": 0,
             "ticks": ""
            },
            "type": "mesh3d"
           }
          ],
          "parcoords": [
           {
            "line": {
             "colorbar": {
              "outlinewidth": 0,
              "ticks": ""
             }
            },
            "type": "parcoords"
           }
          ],
          "pie": [
           {
            "automargin": true,
            "type": "pie"
           }
          ],
          "scatter": [
           {
            "marker": {
             "colorbar": {
              "outlinewidth": 0,
              "ticks": ""
             }
            },
            "type": "scatter"
           }
          ],
          "scatter3d": [
           {
            "line": {
             "colorbar": {
              "outlinewidth": 0,
              "ticks": ""
             }
            },
            "marker": {
             "colorbar": {
              "outlinewidth": 0,
              "ticks": ""
             }
            },
            "type": "scatter3d"
           }
          ],
          "scattercarpet": [
           {
            "marker": {
             "colorbar": {
              "outlinewidth": 0,
              "ticks": ""
             }
            },
            "type": "scattercarpet"
           }
          ],
          "scattergeo": [
           {
            "marker": {
             "colorbar": {
              "outlinewidth": 0,
              "ticks": ""
             }
            },
            "type": "scattergeo"
           }
          ],
          "scattergl": [
           {
            "marker": {
             "colorbar": {
              "outlinewidth": 0,
              "ticks": ""
             }
            },
            "type": "scattergl"
           }
          ],
          "scattermapbox": [
           {
            "marker": {
             "colorbar": {
              "outlinewidth": 0,
              "ticks": ""
             }
            },
            "type": "scattermapbox"
           }
          ],
          "scatterpolar": [
           {
            "marker": {
             "colorbar": {
              "outlinewidth": 0,
              "ticks": ""
             }
            },
            "type": "scatterpolar"
           }
          ],
          "scatterpolargl": [
           {
            "marker": {
             "colorbar": {
              "outlinewidth": 0,
              "ticks": ""
             }
            },
            "type": "scatterpolargl"
           }
          ],
          "scatterternary": [
           {
            "marker": {
             "colorbar": {
              "outlinewidth": 0,
              "ticks": ""
             }
            },
            "type": "scatterternary"
           }
          ],
          "surface": [
           {
            "colorbar": {
             "outlinewidth": 0,
             "ticks": ""
            },
            "colorscale": [
             [
              0,
              "#0d0887"
             ],
             [
              0.1111111111111111,
              "#46039f"
             ],
             [
              0.2222222222222222,
              "#7201a8"
             ],
             [
              0.3333333333333333,
              "#9c179e"
             ],
             [
              0.4444444444444444,
              "#bd3786"
             ],
             [
              0.5555555555555556,
              "#d8576b"
             ],
             [
              0.6666666666666666,
              "#ed7953"
             ],
             [
              0.7777777777777778,
              "#fb9f3a"
             ],
             [
              0.8888888888888888,
              "#fdca26"
             ],
             [
              1,
              "#f0f921"
             ]
            ],
            "type": "surface"
           }
          ],
          "table": [
           {
            "cells": {
             "fill": {
              "color": "#EBF0F8"
             },
             "line": {
              "color": "white"
             }
            },
            "header": {
             "fill": {
              "color": "#C8D4E3"
             },
             "line": {
              "color": "white"
             }
            },
            "type": "table"
           }
          ]
         },
         "layout": {
          "annotationdefaults": {
           "arrowcolor": "#2a3f5f",
           "arrowhead": 0,
           "arrowwidth": 1
          },
          "coloraxis": {
           "colorbar": {
            "outlinewidth": 0,
            "ticks": ""
           }
          },
          "colorscale": {
           "diverging": [
            [
             0,
             "#8e0152"
            ],
            [
             0.1,
             "#c51b7d"
            ],
            [
             0.2,
             "#de77ae"
            ],
            [
             0.3,
             "#f1b6da"
            ],
            [
             0.4,
             "#fde0ef"
            ],
            [
             0.5,
             "#f7f7f7"
            ],
            [
             0.6,
             "#e6f5d0"
            ],
            [
             0.7,
             "#b8e186"
            ],
            [
             0.8,
             "#7fbc41"
            ],
            [
             0.9,
             "#4d9221"
            ],
            [
             1,
             "#276419"
            ]
           ],
           "sequential": [
            [
             0,
             "#0d0887"
            ],
            [
             0.1111111111111111,
             "#46039f"
            ],
            [
             0.2222222222222222,
             "#7201a8"
            ],
            [
             0.3333333333333333,
             "#9c179e"
            ],
            [
             0.4444444444444444,
             "#bd3786"
            ],
            [
             0.5555555555555556,
             "#d8576b"
            ],
            [
             0.6666666666666666,
             "#ed7953"
            ],
            [
             0.7777777777777778,
             "#fb9f3a"
            ],
            [
             0.8888888888888888,
             "#fdca26"
            ],
            [
             1,
             "#f0f921"
            ]
           ],
           "sequentialminus": [
            [
             0,
             "#0d0887"
            ],
            [
             0.1111111111111111,
             "#46039f"
            ],
            [
             0.2222222222222222,
             "#7201a8"
            ],
            [
             0.3333333333333333,
             "#9c179e"
            ],
            [
             0.4444444444444444,
             "#bd3786"
            ],
            [
             0.5555555555555556,
             "#d8576b"
            ],
            [
             0.6666666666666666,
             "#ed7953"
            ],
            [
             0.7777777777777778,
             "#fb9f3a"
            ],
            [
             0.8888888888888888,
             "#fdca26"
            ],
            [
             1,
             "#f0f921"
            ]
           ]
          },
          "colorway": [
           "#636efa",
           "#EF553B",
           "#00cc96",
           "#ab63fa",
           "#FFA15A",
           "#19d3f3",
           "#FF6692",
           "#B6E880",
           "#FF97FF",
           "#FECB52"
          ],
          "font": {
           "color": "#2a3f5f"
          },
          "geo": {
           "bgcolor": "white",
           "lakecolor": "white",
           "landcolor": "#E5ECF6",
           "showlakes": true,
           "showland": true,
           "subunitcolor": "white"
          },
          "hoverlabel": {
           "align": "left"
          },
          "hovermode": "closest",
          "mapbox": {
           "style": "light"
          },
          "paper_bgcolor": "white",
          "plot_bgcolor": "#E5ECF6",
          "polar": {
           "angularaxis": {
            "gridcolor": "white",
            "linecolor": "white",
            "ticks": ""
           },
           "bgcolor": "#E5ECF6",
           "radialaxis": {
            "gridcolor": "white",
            "linecolor": "white",
            "ticks": ""
           }
          },
          "scene": {
           "xaxis": {
            "backgroundcolor": "#E5ECF6",
            "gridcolor": "white",
            "gridwidth": 2,
            "linecolor": "white",
            "showbackground": true,
            "ticks": "",
            "zerolinecolor": "white"
           },
           "yaxis": {
            "backgroundcolor": "#E5ECF6",
            "gridcolor": "white",
            "gridwidth": 2,
            "linecolor": "white",
            "showbackground": true,
            "ticks": "",
            "zerolinecolor": "white"
           },
           "zaxis": {
            "backgroundcolor": "#E5ECF6",
            "gridcolor": "white",
            "gridwidth": 2,
            "linecolor": "white",
            "showbackground": true,
            "ticks": "",
            "zerolinecolor": "white"
           }
          },
          "shapedefaults": {
           "line": {
            "color": "#2a3f5f"
           }
          },
          "ternary": {
           "aaxis": {
            "gridcolor": "white",
            "linecolor": "white",
            "ticks": ""
           },
           "baxis": {
            "gridcolor": "white",
            "linecolor": "white",
            "ticks": ""
           },
           "bgcolor": "#E5ECF6",
           "caxis": {
            "gridcolor": "white",
            "linecolor": "white",
            "ticks": ""
           }
          },
          "title": {
           "x": 0.05
          },
          "xaxis": {
           "automargin": true,
           "gridcolor": "white",
           "linecolor": "white",
           "ticks": "",
           "title": {
            "standoff": 15
           },
           "zerolinecolor": "white",
           "zerolinewidth": 2
          },
          "yaxis": {
           "automargin": true,
           "gridcolor": "white",
           "linecolor": "white",
           "ticks": "",
           "title": {
            "standoff": 15
           },
           "zerolinecolor": "white",
           "zerolinewidth": 2
          }
         }
        },
        "title": {
         "text": "Mountain Vertical",
         "x": 0.5
        },
        "width": 1000,
        "xaxis": {
         "anchor": "y",
         "domain": [
          0,
          1
         ],
         "title": {
          "text": "Ski Resort"
         }
        },
        "yaxis": {
         "anchor": "x",
         "domain": [
          0,
          1
         ],
         "title": {
          "text": "Ft."
         }
        }
       }
      },
      "text/html": [
       "<div>                            <div id=\"6835df8b-2fca-46bc-83c1-c43ece51fa37\" class=\"plotly-graph-div\" style=\"height:500px; width:1000px;\"></div>            <script type=\"text/javascript\">                require([\"plotly\"], function(Plotly) {                    window.PLOTLYENV=window.PLOTLYENV || {};                                    if (document.getElementById(\"6835df8b-2fca-46bc-83c1-c43ece51fa37\")) {                    Plotly.newPlot(                        \"6835df8b-2fca-46bc-83c1-c43ece51fa37\",                        [{\"alignmentgroup\": \"True\", \"hovertemplate\": \"variable=base<br>ski_resort=%{x}<br>value=%{y}<extra></extra>\", \"legendgroup\": \"base\", \"marker\": {\"color\": \"#636efa\"}, \"name\": \"base\", \"offsetgroup\": \"base\", \"orientation\": \"v\", \"showlegend\": true, \"textposition\": \"outside\", \"type\": \"bar\", \"x\": [\"Telluride\", \"Alta\", \"Snowbasin\"], \"xaxis\": \"x\", \"y\": [8725, 8530, 6450], \"yaxis\": \"y\"}, {\"alignmentgroup\": \"True\", \"hovertemplate\": \"variable=summit<br>ski_resort=%{x}<br>value=%{y}<extra></extra>\", \"legendgroup\": \"summit\", \"marker\": {\"color\": \"#EF553B\"}, \"name\": \"summit\", \"offsetgroup\": \"summit\", \"orientation\": \"v\", \"showlegend\": true, \"textposition\": \"outside\", \"type\": \"bar\", \"x\": [\"Telluride\", \"Alta\", \"Snowbasin\"], \"xaxis\": \"x\", \"y\": [13150, 11068, 9350], \"yaxis\": \"y\"}, {\"alignmentgroup\": \"True\", \"hovertemplate\": \"variable=drop<br>ski_resort=%{x}<br>value=%{y}<extra></extra>\", \"legendgroup\": \"drop\", \"marker\": {\"color\": \"#00cc96\"}, \"name\": \"drop\", \"offsetgroup\": \"drop\", \"orientation\": \"v\", \"showlegend\": true, \"textposition\": \"outside\", \"type\": \"bar\", \"x\": [\"Telluride\", \"Alta\", \"Snowbasin\"], \"xaxis\": \"x\", \"y\": [4425, 2538, 2900], \"yaxis\": \"y\"}],                        {\"barmode\": \"group\", \"font\": {\"size\": 14}, \"height\": 500, \"legend\": {\"title\": {\"text\": \"variable\"}, \"tracegroupgap\": 0}, \"margin\": {\"t\": 60}, \"plot_bgcolor\": \"white\", \"template\": {\"data\": {\"bar\": [{\"error_x\": {\"color\": \"#2a3f5f\"}, \"error_y\": {\"color\": \"#2a3f5f\"}, \"marker\": {\"line\": {\"color\": \"#E5ECF6\", \"width\": 0.5}}, \"type\": \"bar\"}], \"barpolar\": [{\"marker\": {\"line\": {\"color\": \"#E5ECF6\", \"width\": 0.5}}, \"type\": \"barpolar\"}], \"carpet\": [{\"aaxis\": {\"endlinecolor\": \"#2a3f5f\", \"gridcolor\": \"white\", \"linecolor\": \"white\", \"minorgridcolor\": \"white\", \"startlinecolor\": \"#2a3f5f\"}, \"baxis\": {\"endlinecolor\": \"#2a3f5f\", \"gridcolor\": \"white\", \"linecolor\": \"white\", \"minorgridcolor\": \"white\", \"startlinecolor\": \"#2a3f5f\"}, \"type\": \"carpet\"}], \"choropleth\": [{\"colorbar\": {\"outlinewidth\": 0, \"ticks\": \"\"}, \"type\": \"choropleth\"}], \"contour\": [{\"colorbar\": {\"outlinewidth\": 0, \"ticks\": \"\"}, \"colorscale\": [[0.0, \"#0d0887\"], [0.1111111111111111, \"#46039f\"], [0.2222222222222222, \"#7201a8\"], [0.3333333333333333, \"#9c179e\"], [0.4444444444444444, \"#bd3786\"], [0.5555555555555556, \"#d8576b\"], [0.6666666666666666, \"#ed7953\"], [0.7777777777777778, \"#fb9f3a\"], [0.8888888888888888, \"#fdca26\"], [1.0, \"#f0f921\"]], \"type\": \"contour\"}], \"contourcarpet\": [{\"colorbar\": {\"outlinewidth\": 0, \"ticks\": \"\"}, \"type\": \"contourcarpet\"}], \"heatmap\": [{\"colorbar\": {\"outlinewidth\": 0, \"ticks\": \"\"}, \"colorscale\": [[0.0, \"#0d0887\"], [0.1111111111111111, \"#46039f\"], [0.2222222222222222, \"#7201a8\"], [0.3333333333333333, \"#9c179e\"], [0.4444444444444444, \"#bd3786\"], [0.5555555555555556, \"#d8576b\"], [0.6666666666666666, \"#ed7953\"], [0.7777777777777778, \"#fb9f3a\"], [0.8888888888888888, \"#fdca26\"], [1.0, \"#f0f921\"]], \"type\": \"heatmap\"}], \"heatmapgl\": [{\"colorbar\": {\"outlinewidth\": 0, \"ticks\": \"\"}, \"colorscale\": [[0.0, \"#0d0887\"], [0.1111111111111111, \"#46039f\"], [0.2222222222222222, \"#7201a8\"], [0.3333333333333333, \"#9c179e\"], [0.4444444444444444, \"#bd3786\"], [0.5555555555555556, \"#d8576b\"], [0.6666666666666666, \"#ed7953\"], [0.7777777777777778, \"#fb9f3a\"], [0.8888888888888888, \"#fdca26\"], [1.0, \"#f0f921\"]], \"type\": \"heatmapgl\"}], \"histogram\": [{\"marker\": {\"colorbar\": {\"outlinewidth\": 0, \"ticks\": \"\"}}, \"type\": \"histogram\"}], \"histogram2d\": [{\"colorbar\": {\"outlinewidth\": 0, \"ticks\": \"\"}, \"colorscale\": [[0.0, \"#0d0887\"], [0.1111111111111111, \"#46039f\"], [0.2222222222222222, \"#7201a8\"], [0.3333333333333333, \"#9c179e\"], [0.4444444444444444, \"#bd3786\"], [0.5555555555555556, \"#d8576b\"], [0.6666666666666666, \"#ed7953\"], [0.7777777777777778, \"#fb9f3a\"], [0.8888888888888888, \"#fdca26\"], [1.0, \"#f0f921\"]], \"type\": \"histogram2d\"}], \"histogram2dcontour\": [{\"colorbar\": {\"outlinewidth\": 0, \"ticks\": \"\"}, \"colorscale\": [[0.0, \"#0d0887\"], [0.1111111111111111, \"#46039f\"], [0.2222222222222222, \"#7201a8\"], [0.3333333333333333, \"#9c179e\"], [0.4444444444444444, \"#bd3786\"], [0.5555555555555556, \"#d8576b\"], [0.6666666666666666, \"#ed7953\"], [0.7777777777777778, \"#fb9f3a\"], [0.8888888888888888, \"#fdca26\"], [1.0, \"#f0f921\"]], \"type\": \"histogram2dcontour\"}], \"mesh3d\": [{\"colorbar\": {\"outlinewidth\": 0, \"ticks\": \"\"}, \"type\": \"mesh3d\"}], \"parcoords\": [{\"line\": {\"colorbar\": {\"outlinewidth\": 0, \"ticks\": \"\"}}, \"type\": \"parcoords\"}], \"pie\": [{\"automargin\": true, \"type\": \"pie\"}], \"scatter\": [{\"marker\": {\"colorbar\": {\"outlinewidth\": 0, \"ticks\": \"\"}}, \"type\": \"scatter\"}], \"scatter3d\": [{\"line\": {\"colorbar\": {\"outlinewidth\": 0, \"ticks\": \"\"}}, \"marker\": {\"colorbar\": {\"outlinewidth\": 0, \"ticks\": \"\"}}, \"type\": \"scatter3d\"}], \"scattercarpet\": [{\"marker\": {\"colorbar\": {\"outlinewidth\": 0, \"ticks\": \"\"}}, \"type\": \"scattercarpet\"}], \"scattergeo\": [{\"marker\": {\"colorbar\": {\"outlinewidth\": 0, \"ticks\": \"\"}}, \"type\": \"scattergeo\"}], \"scattergl\": [{\"marker\": {\"colorbar\": {\"outlinewidth\": 0, \"ticks\": \"\"}}, \"type\": \"scattergl\"}], \"scattermapbox\": [{\"marker\": {\"colorbar\": {\"outlinewidth\": 0, \"ticks\": \"\"}}, \"type\": \"scattermapbox\"}], \"scatterpolar\": [{\"marker\": {\"colorbar\": {\"outlinewidth\": 0, \"ticks\": \"\"}}, \"type\": \"scatterpolar\"}], \"scatterpolargl\": [{\"marker\": {\"colorbar\": {\"outlinewidth\": 0, \"ticks\": \"\"}}, \"type\": \"scatterpolargl\"}], \"scatterternary\": [{\"marker\": {\"colorbar\": {\"outlinewidth\": 0, \"ticks\": \"\"}}, \"type\": \"scatterternary\"}], \"surface\": [{\"colorbar\": {\"outlinewidth\": 0, \"ticks\": \"\"}, \"colorscale\": [[0.0, \"#0d0887\"], [0.1111111111111111, \"#46039f\"], [0.2222222222222222, \"#7201a8\"], [0.3333333333333333, \"#9c179e\"], [0.4444444444444444, \"#bd3786\"], [0.5555555555555556, \"#d8576b\"], [0.6666666666666666, \"#ed7953\"], [0.7777777777777778, \"#fb9f3a\"], [0.8888888888888888, \"#fdca26\"], [1.0, \"#f0f921\"]], \"type\": \"surface\"}], \"table\": [{\"cells\": {\"fill\": {\"color\": \"#EBF0F8\"}, \"line\": {\"color\": \"white\"}}, \"header\": {\"fill\": {\"color\": \"#C8D4E3\"}, \"line\": {\"color\": \"white\"}}, \"type\": \"table\"}]}, \"layout\": {\"annotationdefaults\": {\"arrowcolor\": \"#2a3f5f\", \"arrowhead\": 0, \"arrowwidth\": 1}, \"coloraxis\": {\"colorbar\": {\"outlinewidth\": 0, \"ticks\": \"\"}}, \"colorscale\": {\"diverging\": [[0, \"#8e0152\"], [0.1, \"#c51b7d\"], [0.2, \"#de77ae\"], [0.3, \"#f1b6da\"], [0.4, \"#fde0ef\"], [0.5, \"#f7f7f7\"], [0.6, \"#e6f5d0\"], [0.7, \"#b8e186\"], [0.8, \"#7fbc41\"], [0.9, \"#4d9221\"], [1, \"#276419\"]], \"sequential\": [[0.0, \"#0d0887\"], [0.1111111111111111, \"#46039f\"], [0.2222222222222222, \"#7201a8\"], [0.3333333333333333, \"#9c179e\"], [0.4444444444444444, \"#bd3786\"], [0.5555555555555556, \"#d8576b\"], [0.6666666666666666, \"#ed7953\"], [0.7777777777777778, \"#fb9f3a\"], [0.8888888888888888, \"#fdca26\"], [1.0, \"#f0f921\"]], \"sequentialminus\": [[0.0, \"#0d0887\"], [0.1111111111111111, \"#46039f\"], [0.2222222222222222, \"#7201a8\"], [0.3333333333333333, \"#9c179e\"], [0.4444444444444444, \"#bd3786\"], [0.5555555555555556, \"#d8576b\"], [0.6666666666666666, \"#ed7953\"], [0.7777777777777778, \"#fb9f3a\"], [0.8888888888888888, \"#fdca26\"], [1.0, \"#f0f921\"]]}, \"colorway\": [\"#636efa\", \"#EF553B\", \"#00cc96\", \"#ab63fa\", \"#FFA15A\", \"#19d3f3\", \"#FF6692\", \"#B6E880\", \"#FF97FF\", \"#FECB52\"], \"font\": {\"color\": \"#2a3f5f\"}, \"geo\": {\"bgcolor\": \"white\", \"lakecolor\": \"white\", \"landcolor\": \"#E5ECF6\", \"showlakes\": true, \"showland\": true, \"subunitcolor\": \"white\"}, \"hoverlabel\": {\"align\": \"left\"}, \"hovermode\": \"closest\", \"mapbox\": {\"style\": \"light\"}, \"paper_bgcolor\": \"white\", \"plot_bgcolor\": \"#E5ECF6\", \"polar\": {\"angularaxis\": {\"gridcolor\": \"white\", \"linecolor\": \"white\", \"ticks\": \"\"}, \"bgcolor\": \"#E5ECF6\", \"radialaxis\": {\"gridcolor\": \"white\", \"linecolor\": \"white\", \"ticks\": \"\"}}, \"scene\": {\"xaxis\": {\"backgroundcolor\": \"#E5ECF6\", \"gridcolor\": \"white\", \"gridwidth\": 2, \"linecolor\": \"white\", \"showbackground\": true, \"ticks\": \"\", \"zerolinecolor\": \"white\"}, \"yaxis\": {\"backgroundcolor\": \"#E5ECF6\", \"gridcolor\": \"white\", \"gridwidth\": 2, \"linecolor\": \"white\", \"showbackground\": true, \"ticks\": \"\", \"zerolinecolor\": \"white\"}, \"zaxis\": {\"backgroundcolor\": \"#E5ECF6\", \"gridcolor\": \"white\", \"gridwidth\": 2, \"linecolor\": \"white\", \"showbackground\": true, \"ticks\": \"\", \"zerolinecolor\": \"white\"}}, \"shapedefaults\": {\"line\": {\"color\": \"#2a3f5f\"}}, \"ternary\": {\"aaxis\": {\"gridcolor\": \"white\", \"linecolor\": \"white\", \"ticks\": \"\"}, \"baxis\": {\"gridcolor\": \"white\", \"linecolor\": \"white\", \"ticks\": \"\"}, \"bgcolor\": \"#E5ECF6\", \"caxis\": {\"gridcolor\": \"white\", \"linecolor\": \"white\", \"ticks\": \"\"}}, \"title\": {\"x\": 0.05}, \"xaxis\": {\"automargin\": true, \"gridcolor\": \"white\", \"linecolor\": \"white\", \"ticks\": \"\", \"title\": {\"standoff\": 15}, \"zerolinecolor\": \"white\", \"zerolinewidth\": 2}, \"yaxis\": {\"automargin\": true, \"gridcolor\": \"white\", \"linecolor\": \"white\", \"ticks\": \"\", \"title\": {\"standoff\": 15}, \"zerolinecolor\": \"white\", \"zerolinewidth\": 2}}}, \"title\": {\"text\": \"Mountain Vertical\", \"x\": 0.5}, \"width\": 1000, \"xaxis\": {\"anchor\": \"y\", \"domain\": [0.0, 1.0], \"title\": {\"text\": \"Ski Resort\"}}, \"yaxis\": {\"anchor\": \"x\", \"domain\": [0.0, 1.0], \"title\": {\"text\": \"Ft.\"}}},                        {\"responsive\": true}                    ).then(function(){\n",
       "                            \n",
       "var gd = document.getElementById('6835df8b-2fca-46bc-83c1-c43ece51fa37');\n",
       "var x = new MutationObserver(function (mutations, observer) {{\n",
       "        var display = window.getComputedStyle(gd).display;\n",
       "        if (!display || display === 'none') {{\n",
       "            console.log([gd, 'removed!']);\n",
       "            Plotly.purge(gd);\n",
       "            observer.disconnect();\n",
       "        }}\n",
       "}});\n",
       "\n",
       "// Listen for the removal of the full notebook cells\n",
       "var notebookContainer = gd.closest('#notebook-container');\n",
       "if (notebookContainer) {{\n",
       "    x.observe(notebookContainer, {childList: true});\n",
       "}}\n",
       "\n",
       "// Listen for the clearing of the current output cell\n",
       "var outputEl = gd.closest('.output');\n",
       "if (outputEl) {{\n",
       "    x.observe(outputEl, {childList: true});\n",
       "}}\n",
       "\n",
       "                        })                };                });            </script>        </div>"
      ]
     },
     "metadata": {},
     "output_type": "display_data"
    }
   ],
   "source": [
    "#using plotly to plot the top featurescolor=\n",
    "fig = px.bar(stephanie_hybrid, x=\"ski_resort\", y=['base', 'summit', 'drop'],\n",
    "            width=1000, height=500)\n",
    "fig.update_layout(title_text='Mountain Vertical',\n",
    "                  title_x=0.5,\n",
    "                  xaxis_title=\"Ski Resort\",\n",
    "                  yaxis_title=\"Ft.\",\n",
    "                 plot_bgcolor='white',\n",
    "                 font=dict(size=14),\n",
    "                 barmode='group')\n",
    "\n",
    "fig.update_traces(textposition='outside')               \n",
    "              \n",
    "fig.show()"
   ]
  },
  {
   "cell_type": "markdown",
   "metadata": {},
   "source": [
    "# Conclusions"
   ]
  },
  {
   "cell_type": "markdown",
   "metadata": {},
   "source": [
    "Based on the user analysis, the recommendation system demonstrates strong performance in suggesting ski resorts that align with user inputs. Though, there are times when the output does not seem entirely alligned with the user preferences or former reviews. I believe this is due to the review datatset, being that not all resorts included in the content model were reviewed by users and due to the fact that users with 3 reviews were included in the dataset.\n",
    "\n",
    "Though the results could use some fine tuning, the recommendation system utilizes collaborative filtering and content-based approaches to provide strong recommendations based on user preferences and resort characteristics.\n",
    "\n",
    "It is important to acknowledge that recommendations are inherently subjective, as they rely on individual preferences and the available dataset. To further enhance the system and ensure continuous optimization, user feedback is needed. By incorporating user feedback, the recommendations can be refined and the overall user experience improved, creating a more personalized system that caters to individual preferences."
   ]
  },
  {
   "cell_type": "markdown",
   "metadata": {},
   "source": [
    "\n",
    "# Next Steps"
   ]
  },
  {
   "cell_type": "markdown",
   "metadata": {},
   "source": [
    "Next steps involve deploying a web application, expanding the dataset with additional user ratings and features, and refining the hybrid model to enhance its performance.\n",
    "\n",
    "- The OnTheSnow ratings dataset did not have unique user IDs for each rating, which reduced the number of reviews used to create the collaborative model. As a result, not all ski resorts in the USA were included. By incorporating more reviews, more mountains will be included in the collaborative filtering process which could result in more accurate recommendations.\n",
    "\n",
    "- Once additional user ratings are collected, the cascade hybrid model will be fine-tuned and the main algorithms re-run.\n",
    "\n",
    "- Finally, additional feature characteristics related to the resort towns and mountains will be incorporated. These features could include ratings and assessments of mountain restaurants, parking information, lodging options, après-ski activities, ski rentals, and other amenities available in the resort towns. By including these metrics in the recommendation system, a more comprehensive and personalized service can be provided, catering to diverse preferences and requirements, for a focus that is greater than skiing.\n"
   ]
  }
 ],
 "metadata": {
  "kernelspec": {
   "display_name": "Python (learn-env)",
   "language": "python",
   "name": "learn-env"
  },
  "language_info": {
   "codemirror_mode": {
    "name": "ipython",
    "version": 3
   },
   "file_extension": ".py",
   "mimetype": "text/x-python",
   "name": "python",
   "nbconvert_exporter": "python",
   "pygments_lexer": "ipython3",
   "version": "3.8.5"
  }
 },
 "nbformat": 4,
 "nbformat_minor": 4
}
