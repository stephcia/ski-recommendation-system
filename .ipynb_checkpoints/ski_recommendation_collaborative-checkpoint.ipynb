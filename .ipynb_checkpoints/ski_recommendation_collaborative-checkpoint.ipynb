{
 "cells": [
  {
   "cell_type": "markdown",
   "metadata": {},
   "source": [
    "# Avant Ski/ Send It"
   ]
  },
  {
   "cell_type": "markdown",
   "metadata": {},
   "source": [
    "by: Stephanie Ciaccia"
   ]
  },
  {
   "cell_type": "markdown",
   "metadata": {},
   "source": [
    "# Overview"
   ]
  },
  {
   "cell_type": "markdown",
   "metadata": {},
   "source": [
    "Skiing holds a prominent place for those seeking winter recreational activities in the United States. With its stunning mountain ranges and diverse terrain, the country boasts numerous ski resorts that cater to all skill levels, from beginners to seasoned professionals. Skiing offers a unique blend of adventure, physical activity, and natural beauty, making it a popular choice for winter enthusiasts seeking both relaxation and excitement.\n",
    "\n",
    "The ski market in the United States is thriving, contributing significantly to the economy. According to the [National Ski Areas Association (NSAA)](chrome-extension://efaidnbmnnnibpcajpcglclefindmkaj/https://nsaa.org/webdocs/Media_Public/IndustryStats/Historical_Skier_Days_1979_2022.pdf), approximately 60.7 million skiers and snowboarders visited 473 ski resorts in the 2021-2022 winter season."
   ]
  },
  {
   "cell_type": "markdown",
   "metadata": {},
   "source": [
    "# Business Problem"
   ]
  },
  {
   "cell_type": "markdown",
   "metadata": {},
   "source": [
    "Skiing is an exhilarating winter activity enjoyed by many, but barriers such as high costs and limited accessibility often hinder people from fully experiencing its joys. Choosing the right ski resort can be overwhelming due to the multitude of options available, and existing websites lack dynamic filtering capabilities based on user preferences.\n",
    "\n",
    "To address these challenges, I'm developing Avant Ski, a ski resort recommendation app. Avant Ski simplifies the ski resort selection process by leveraging data and user preferences. With dynamic filtering features, users can personalize their search based on budget, location, amenities, and skill level. By bridging the gap between ski enthusiasts and their dream destinations, Avant Ski makes skiing accessible to a wider audience, empowering them to plan unforgettable ski trips with confidence."
   ]
  },
  {
   "cell_type": "markdown",
   "metadata": {},
   "source": [
    "# Data Understanding"
   ]
  },
  {
   "cell_type": "code",
   "execution_count": 1,
   "metadata": {},
   "outputs": [],
   "source": [
    "import pandas as pd\n",
    "import numpy as np\n",
    "import math\n",
    "from datetime import datetime\n",
    "import datetime\n",
    "from scipy import stats\n",
    "\n",
    "import matplotlib.pyplot as plt\n",
    "import seaborn as sns\n",
    "%matplotlib inline\n",
    "import plotly\n",
    "import plotly.express as px\n",
    "import plotly.io as pio\n",
    "from matplotlib.ticker import StrMethodFormatter\n",
    "\n",
    "from surprise.model_selection import cross_validate\n",
    "from surprise import Dataset, Reader, accuracy\n",
    "from surprise.prediction_algorithms import KNNWithMeans, KNNBasic, KNNBaseline, KNNWithZScore,  SVD, SVDpp, NMF, BaselineOnly, CoClustering, SlopeOne, NormalPredictor\n",
    "from surprise.model_selection import GridSearchCV, cross_validate, train_test_split\n",
    "\n",
    "from collections import Counter\n",
    "from nltk.corpus import stopwords\n",
    "\n",
    "from IPython.display import Image, display\n"
   ]
  },
  {
   "cell_type": "markdown",
   "metadata": {},
   "source": [
    "Function to print full rows"
   ]
  },
  {
   "cell_type": "code",
   "execution_count": 2,
   "metadata": {},
   "outputs": [],
   "source": [
    "def print_full(x):\n",
    "    pd.set_option('display.max_rows', len(x))\n",
    "    print(x)\n",
    "    pd.reset_option('display.max_rows')"
   ]
  },
  {
   "cell_type": "markdown",
   "metadata": {},
   "source": [
    "# Importing Data Files"
   ]
  },
  {
   "cell_type": "code",
   "execution_count": 3,
   "metadata": {},
   "outputs": [],
   "source": [
    "final_user_df = pd.read_csv(\"data/cleaned_data_exports/user_df_model.csv\")"
   ]
  },
  {
   "cell_type": "code",
   "execution_count": 92,
   "metadata": {},
   "outputs": [],
   "source": [
    "content_df = pd.read_csv(\"data/cleaned_data_exports/scraped_feature_df.csv\")"
   ]
  },
  {
   "cell_type": "markdown",
   "metadata": {},
   "source": [
    "# Data Modeling - Recommendation System\n",
    "The proposed recommendation system will adopt a cascade hybrid approach, integrating user-based filtering and content-based recommendation systems.\n",
    "\n",
    "This **cascade hybrid** approach establishes a hierarchical structure within the recommendation system. The primary model, a collaborative user-based system, will generate the initial set of recommendations based on user preferences and ratings. Then, a secondary model, a content-based system, will refine the recommendations by considering additional factors such as mountain characteristics and user-defined filters. This two-step process aims to provide more accurate and personalized ski resort suggestions.\n",
    "\n",
    "In the **user-based collaborative** filtering phase, the model will analyze the historical ratings of users for different ski resorts. By identifying users with similar rating patterns, the model will predict the target user's ratings for unvisited resorts, leveraging the collective wisdom of similar users.\n",
    "\n",
    "The **content-based system** operates by constructing a matrix of resort features and determining the similarity between resorts based on these features. This approach allows the system to identify resorts with similar characteristics and recommend them based on user preferences.\n",
    "\n",
    "To evaluate the accuracy of the collaborative model, the **Root Mean Square Error (RMSE)** score will be used. This metric quantifies the difference between the actual ratings and the predicted ratings, providing insights into the model's performance in capturing user preferences.\n",
    "\n",
    "While the content-based system does not have an accuracy score, a combination of ski expertise and specific user information will be utilized to subjectively assess the effectiveness of the hybrid model.\n",
    "\n",
    "By utilizing both user-based and content-based approaches, the cascade hybrid recommendation system aims to enhance the ski resort selection process, **offering users more personalized and relevant recommendations**."
   ]
  },
  {
   "cell_type": "markdown",
   "metadata": {},
   "source": [
    "### Surprise Data\n",
    "To make this model, we will be using the python package Surprise. This is a scikit tool that uses a range of algorithms made up of matrix factorization-based methods for collaborative filtering. \n",
    "\n",
    "To begin, we will make new dataframe from our final cleaned dataframe with three columns that include user **id, ratings, and movie ids.**"
   ]
  },
  {
   "cell_type": "code",
   "execution_count": 4,
   "metadata": {},
   "outputs": [],
   "source": [
    "final_user_df.drop(columns=\"Unnamed: 0\", inplace=True)"
   ]
  },
  {
   "cell_type": "code",
   "execution_count": 5,
   "metadata": {},
   "outputs": [
    {
     "data": {
      "text/plain": [
       "5.0    1127\n",
       "4.0     936\n",
       "3.0     420\n",
       "2.0     197\n",
       "1.0     115\n",
       "Name: rating, dtype: int64"
      ]
     },
     "execution_count": 5,
     "metadata": {},
     "output_type": "execute_result"
    }
   ],
   "source": [
    "final_user_df['rating'].value_counts()"
   ]
  },
  {
   "cell_type": "code",
   "execution_count": 6,
   "metadata": {},
   "outputs": [
    {
     "data": {
      "text/html": [
       "<div>\n",
       "<style scoped>\n",
       "    .dataframe tbody tr th:only-of-type {\n",
       "        vertical-align: middle;\n",
       "    }\n",
       "\n",
       "    .dataframe tbody tr th {\n",
       "        vertical-align: top;\n",
       "    }\n",
       "\n",
       "    .dataframe thead th {\n",
       "        text-align: right;\n",
       "    }\n",
       "</style>\n",
       "<table border=\"1\" class=\"dataframe\">\n",
       "  <thead>\n",
       "    <tr style=\"text-align: right;\">\n",
       "      <th></th>\n",
       "      <th>review_date</th>\n",
       "      <th>state</th>\n",
       "      <th>ski_resort</th>\n",
       "      <th>rating</th>\n",
       "      <th>review</th>\n",
       "      <th>user_name</th>\n",
       "    </tr>\n",
       "  </thead>\n",
       "  <tbody>\n",
       "    <tr>\n",
       "      <th>1582</th>\n",
       "      <td>2010-11-28</td>\n",
       "      <td>Michigan</td>\n",
       "      <td>Mt. Bohemia</td>\n",
       "      <td>5.0</td>\n",
       "      <td>We happened upon this place about 7 or 8 years...</td>\n",
       "      <td>Peter Mende</td>\n",
       "    </tr>\n",
       "    <tr>\n",
       "      <th>1613</th>\n",
       "      <td>2010-12-27</td>\n",
       "      <td>Michigan</td>\n",
       "      <td>Mt. Bohemia</td>\n",
       "      <td>5.0</td>\n",
       "      <td>Best in the Midwest \\r\\nI pulled up in the par...</td>\n",
       "      <td>A. cooper</td>\n",
       "    </tr>\n",
       "    <tr>\n",
       "      <th>1762</th>\n",
       "      <td>2011-02-27</td>\n",
       "      <td>Michigan</td>\n",
       "      <td>Mt. Bohemia</td>\n",
       "      <td>5.0</td>\n",
       "      <td>The scenery and weather is always top notch in...</td>\n",
       "      <td>skylolow</td>\n",
       "    </tr>\n",
       "    <tr>\n",
       "      <th>1954</th>\n",
       "      <td>2012-03-05</td>\n",
       "      <td>Michigan</td>\n",
       "      <td>Mt. Bohemia</td>\n",
       "      <td>5.0</td>\n",
       "      <td>Best place east of the rockies for steeps, tre...</td>\n",
       "      <td>Adye 1</td>\n",
       "    </tr>\n",
       "    <tr>\n",
       "      <th>2137</th>\n",
       "      <td>2014-01-28</td>\n",
       "      <td>Michigan</td>\n",
       "      <td>Mt. Bohemia</td>\n",
       "      <td>5.0</td>\n",
       "      <td>This was my first visit to Bohemia, and I will...</td>\n",
       "      <td>Linda Smith</td>\n",
       "    </tr>\n",
       "    <tr>\n",
       "      <th>2345</th>\n",
       "      <td>2016-03-16</td>\n",
       "      <td>Michigan</td>\n",
       "      <td>Mt. Bohemia</td>\n",
       "      <td>5.0</td>\n",
       "      <td>I was also there on the 13 of March. When I lo...</td>\n",
       "      <td>Ryan Craig</td>\n",
       "    </tr>\n",
       "  </tbody>\n",
       "</table>\n",
       "</div>"
      ],
      "text/plain": [
       "     review_date     state   ski_resort  rating  \\\n",
       "1582  2010-11-28  Michigan  Mt. Bohemia     5.0   \n",
       "1613  2010-12-27  Michigan  Mt. Bohemia     5.0   \n",
       "1762  2011-02-27  Michigan  Mt. Bohemia     5.0   \n",
       "1954  2012-03-05  Michigan  Mt. Bohemia     5.0   \n",
       "2137  2014-01-28  Michigan  Mt. Bohemia     5.0   \n",
       "2345  2016-03-16  Michigan  Mt. Bohemia     5.0   \n",
       "\n",
       "                                                 review    user_name  \n",
       "1582  We happened upon this place about 7 or 8 years...  Peter Mende  \n",
       "1613  Best in the Midwest \\r\\nI pulled up in the par...    A. cooper  \n",
       "1762  The scenery and weather is always top notch in...     skylolow  \n",
       "1954  Best place east of the rockies for steeps, tre...       Adye 1  \n",
       "2137  This was my first visit to Bohemia, and I will...  Linda Smith  \n",
       "2345  I was also there on the 13 of March. When I lo...   Ryan Craig  "
      ]
     },
     "execution_count": 6,
     "metadata": {},
     "output_type": "execute_result"
    }
   ],
   "source": [
    "final_user_df.loc[final_user_df['ski_resort'] == \"Mt. Bohemia\"]"
   ]
  },
  {
   "cell_type": "code",
   "execution_count": 7,
   "metadata": {},
   "outputs": [],
   "source": [
    "#copying final rewview dataframe\n",
    "surprise_df = final_user_df.copy()\n",
    "\n",
    "#dropping unneeded columns\n",
    "surprise_df = surprise_df[['user_name', 'ski_resort', 'rating']]"
   ]
  },
  {
   "cell_type": "code",
   "execution_count": 8,
   "metadata": {},
   "outputs": [
    {
     "data": {
      "text/html": [
       "<div>\n",
       "<style scoped>\n",
       "    .dataframe tbody tr th:only-of-type {\n",
       "        vertical-align: middle;\n",
       "    }\n",
       "\n",
       "    .dataframe tbody tr th {\n",
       "        vertical-align: top;\n",
       "    }\n",
       "\n",
       "    .dataframe thead th {\n",
       "        text-align: right;\n",
       "    }\n",
       "</style>\n",
       "<table border=\"1\" class=\"dataframe\">\n",
       "  <thead>\n",
       "    <tr style=\"text-align: right;\">\n",
       "      <th></th>\n",
       "      <th>user_name</th>\n",
       "      <th>ski_resort</th>\n",
       "      <th>rating</th>\n",
       "    </tr>\n",
       "  </thead>\n",
       "  <tbody>\n",
       "    <tr>\n",
       "      <th>0</th>\n",
       "      <td>anon_1</td>\n",
       "      <td>Winter Park</td>\n",
       "      <td>4.0</td>\n",
       "    </tr>\n",
       "    <tr>\n",
       "      <th>1</th>\n",
       "      <td>anon_1</td>\n",
       "      <td>Arapahoe Basin</td>\n",
       "      <td>5.0</td>\n",
       "    </tr>\n",
       "    <tr>\n",
       "      <th>2</th>\n",
       "      <td>anon_1</td>\n",
       "      <td>Steamboat</td>\n",
       "      <td>5.0</td>\n",
       "    </tr>\n",
       "    <tr>\n",
       "      <th>3</th>\n",
       "      <td>anon_1</td>\n",
       "      <td>Copper Mountain</td>\n",
       "      <td>5.0</td>\n",
       "    </tr>\n",
       "    <tr>\n",
       "      <th>4</th>\n",
       "      <td>anon_2</td>\n",
       "      <td>Solitude Mountain</td>\n",
       "      <td>5.0</td>\n",
       "    </tr>\n",
       "    <tr>\n",
       "      <th>...</th>\n",
       "      <td>...</td>\n",
       "      <td>...</td>\n",
       "      <td>...</td>\n",
       "    </tr>\n",
       "    <tr>\n",
       "      <th>2802</th>\n",
       "      <td>Payton Sharum</td>\n",
       "      <td>Snowy Range Ski Recreation Area</td>\n",
       "      <td>5.0</td>\n",
       "    </tr>\n",
       "    <tr>\n",
       "      <th>2803</th>\n",
       "      <td>Lori Young</td>\n",
       "      <td>Discovery</td>\n",
       "      <td>5.0</td>\n",
       "    </tr>\n",
       "    <tr>\n",
       "      <th>2804</th>\n",
       "      <td>Lori Young</td>\n",
       "      <td>Discovery</td>\n",
       "      <td>5.0</td>\n",
       "    </tr>\n",
       "    <tr>\n",
       "      <th>2805</th>\n",
       "      <td>Steven Freund</td>\n",
       "      <td>Solitude Mountain</td>\n",
       "      <td>5.0</td>\n",
       "    </tr>\n",
       "    <tr>\n",
       "      <th>2806</th>\n",
       "      <td>Matt  H</td>\n",
       "      <td>Mt. Baker</td>\n",
       "      <td>5.0</td>\n",
       "    </tr>\n",
       "  </tbody>\n",
       "</table>\n",
       "<p>2807 rows × 3 columns</p>\n",
       "</div>"
      ],
      "text/plain": [
       "          user_name                       ski_resort  rating\n",
       "0            anon_1                      Winter Park     4.0\n",
       "1            anon_1                   Arapahoe Basin     5.0\n",
       "2            anon_1                        Steamboat     5.0\n",
       "3            anon_1                  Copper Mountain     5.0\n",
       "4            anon_2                Solitude Mountain     5.0\n",
       "...             ...                              ...     ...\n",
       "2802  Payton Sharum  Snowy Range Ski Recreation Area     5.0\n",
       "2803     Lori Young                        Discovery     5.0\n",
       "2804     Lori Young                        Discovery     5.0\n",
       "2805  Steven Freund                Solitude Mountain     5.0\n",
       "2806        Matt  H                        Mt. Baker     5.0\n",
       "\n",
       "[2807 rows x 3 columns]"
      ]
     },
     "execution_count": 8,
     "metadata": {},
     "output_type": "execute_result"
    }
   ],
   "source": [
    "surprise_df"
   ]
  },
  {
   "cell_type": "code",
   "execution_count": 9,
   "metadata": {},
   "outputs": [],
   "source": [
    "# counting the number of reviews for each user\n",
    "value_counts = surprise_df['user_name'].value_counts()\n",
    "\n",
    "# selecting only users with more than three reviews\n",
    "selected_users = value_counts[value_counts > 2].index\n",
    "\n",
    "# selecting only the rows where the user_name is in the selected_users list\n",
    "surprise_df = surprise_df[surprise_df['user_name'].isin(selected_users)]"
   ]
  },
  {
   "cell_type": "code",
   "execution_count": 10,
   "metadata": {},
   "outputs": [
    {
     "data": {
      "text/plain": [
       "Ski Brule              67\n",
       "Killington             49\n",
       "Vail                   49\n",
       "Breckenridge           48\n",
       "Snowbird               35\n",
       "                       ..\n",
       "Bradford                1\n",
       "Mad River Mountain      1\n",
       "New Hermon Mountain     1\n",
       "Black Mountain          1\n",
       "Soda Springs            1\n",
       "Name: ski_resort, Length: 269, dtype: int64"
      ]
     },
     "execution_count": 10,
     "metadata": {},
     "output_type": "execute_result"
    }
   ],
   "source": [
    "surprise_df['ski_resort'].value_counts()"
   ]
  },
  {
   "cell_type": "code",
   "execution_count": 122,
   "metadata": {},
   "outputs": [],
   "source": [
    "from surprise import Reader, Dataset\n",
    "\n",
    "reader = Reader(rating_scale=(1, 5))\n",
    "\n",
    "#loading final dataset\n",
    "data = Dataset.load_from_df(surprise_df[['user_name', 'ski_resort', 'rating']], reader)\n",
    "\n",
    "#spltting into train and test\n",
    "trainset, testset = train_test_split(data, test_size=0.2, random_state=42)"
   ]
  },
  {
   "cell_type": "code",
   "execution_count": 123,
   "metadata": {},
   "outputs": [
    {
     "name": "stdout",
     "output_type": "stream",
     "text": [
      "Number of users:  534 \n",
      "\n",
      "Number of items:  264\n"
     ]
    }
   ],
   "source": [
    "#looking at number of users\n",
    "print('Number of users: ', trainset.n_users, '\\n')\n",
    "print('Number of items: ', trainset.n_items)"
   ]
  },
  {
   "cell_type": "markdown",
   "metadata": {},
   "source": [
    "### Normal Predictor Model"
   ]
  },
  {
   "cell_type": "markdown",
   "metadata": {},
   "source": [
    "The Normal Predictor baseline model's Root Mean Squared Error (RMSE) tells us that our predicted rating is **1.41** points away from the actual rating."
   ]
  },
  {
   "cell_type": "code",
   "execution_count": 13,
   "metadata": {},
   "outputs": [
    {
     "name": "stdout",
     "output_type": "stream",
     "text": [
      "RMSE: 1.3587\n"
     ]
    }
   ],
   "source": [
    "# Instantiate the model\n",
    "baseline = NormalPredictor()\n",
    "\n",
    "#fitting model\n",
    "baseline.fit(trainset)\n",
    "\n",
    "# making prediction on testset\n",
    "predictions = baseline.test(testset)\n",
    "\n",
    "# Save RMSE score\n",
    "baseline_normal = accuracy.rmse(predictions)"
   ]
  },
  {
   "cell_type": "code",
   "execution_count": 14,
   "metadata": {},
   "outputs": [],
   "source": [
    "#saving normal rmse\n",
    "test_baseline_normal_rmse = 1.358"
   ]
  },
  {
   "cell_type": "code",
   "execution_count": 157,
   "metadata": {},
   "outputs": [],
   "source": [
    "data_rmse = [['normal predictor', 1.358, 'n/a']]\n",
    "\n",
    "model_df = pd.DataFrame(data_rmse, columns=['model', 'rmse', 'params'])"
   ]
  },
  {
   "cell_type": "code",
   "execution_count": 158,
   "metadata": {},
   "outputs": [
    {
     "data": {
      "text/html": [
       "<div>\n",
       "<style scoped>\n",
       "    .dataframe tbody tr th:only-of-type {\n",
       "        vertical-align: middle;\n",
       "    }\n",
       "\n",
       "    .dataframe tbody tr th {\n",
       "        vertical-align: top;\n",
       "    }\n",
       "\n",
       "    .dataframe thead th {\n",
       "        text-align: right;\n",
       "    }\n",
       "</style>\n",
       "<table border=\"1\" class=\"dataframe\">\n",
       "  <thead>\n",
       "    <tr style=\"text-align: right;\">\n",
       "      <th></th>\n",
       "      <th>model</th>\n",
       "      <th>rmse</th>\n",
       "      <th>params</th>\n",
       "    </tr>\n",
       "  </thead>\n",
       "  <tbody>\n",
       "    <tr>\n",
       "      <th>0</th>\n",
       "      <td>normal predictor</td>\n",
       "      <td>1.358</td>\n",
       "      <td>n/a</td>\n",
       "    </tr>\n",
       "  </tbody>\n",
       "</table>\n",
       "</div>"
      ],
      "text/plain": [
       "              model   rmse params\n",
       "0  normal predictor  1.358    n/a"
      ]
     },
     "execution_count": 158,
     "metadata": {},
     "output_type": "execute_result"
    }
   ],
   "source": [
    "model_df"
   ]
  },
  {
   "cell_type": "markdown",
   "metadata": {},
   "source": [
    "#### Defining a function to save the RMSE for all model iterations."
   ]
  },
  {
   "cell_type": "code",
   "execution_count": 159,
   "metadata": {},
   "outputs": [],
   "source": [
    "def model_comp(model_name, rmse, params):\n",
    "    model_df.loc[len(model_df.index)] = [model_name, rmse, params] "
   ]
  },
  {
   "cell_type": "markdown",
   "metadata": {},
   "source": [
    "The Normal Predictor baseline model's Root Mean Squared Error (RMSE) tells us that our predicted rating is **1.41** points away from the actual rating."
   ]
  },
  {
   "cell_type": "markdown",
   "metadata": {},
   "source": [
    "### Algorithim Selection"
   ]
  },
  {
   "cell_type": "markdown",
   "metadata": {},
   "source": [
    "To start off, I'll be testing all algorithms available in Surprise to deterime which models I should I should further adjust hyperparameters.\n",
    "\n",
    "This code was adapated from this [blog](https://towardsdatascience.com/building-and-testing-recommender-systems-with-surprise-step-by-step-d4ba702ef80b0)"
   ]
  },
  {
   "cell_type": "code",
   "execution_count": 179,
   "metadata": {},
   "outputs": [
    {
     "name": "stdout",
     "output_type": "stream",
     "text": [
      "Estimating biases using als...\n",
      "Computing the msd similarity matrix...\n",
      "Done computing similarity matrix.\n",
      "Estimating biases using als...\n",
      "Computing the msd similarity matrix...\n",
      "Done computing similarity matrix.\n",
      "Estimating biases using als...\n",
      "Computing the msd similarity matrix...\n",
      "Done computing similarity matrix.\n",
      "Computing the msd similarity matrix...\n",
      "Done computing similarity matrix.\n",
      "Computing the msd similarity matrix...\n",
      "Done computing similarity matrix.\n",
      "Computing the msd similarity matrix...\n",
      "Done computing similarity matrix.\n",
      "Computing the msd similarity matrix...\n",
      "Done computing similarity matrix.\n",
      "Computing the msd similarity matrix...\n",
      "Done computing similarity matrix.\n",
      "Computing the msd similarity matrix...\n",
      "Done computing similarity matrix.\n",
      "Computing the msd similarity matrix...\n",
      "Done computing similarity matrix.\n",
      "Computing the msd similarity matrix...\n",
      "Done computing similarity matrix.\n",
      "Computing the msd similarity matrix...\n",
      "Done computing similarity matrix.\n",
      "Estimating biases using als...\n",
      "Estimating biases using als...\n",
      "Estimating biases using als...\n"
     ]
    }
   ],
   "source": [
    "benchmark = []\n",
    "\n",
    "# Iterate over all algorithms to see which performs beset\n",
    "for algorithm in [SVD(), SVDpp(), SlopeOne(), NMF(), NormalPredictor(), KNNBaseline(), KNNBasic(), KNNWithMeans(), KNNWithZScore(), BaselineOnly(), CoClustering()]:\n",
    "    \n",
    "    # Perform cross validation\n",
    "    results = cross_validate(algorithm, data, measures=['RMSE'], cv=3, verbose=False)\n",
    "    \n",
    "    # Get results & append algorithm name\n",
    "    tmp = pd.DataFrame.from_dict(results).mean(axis=0)\n",
    "    tmp = tmp.append(pd.Series([str(algorithm).split(' ')[0].split('.')[-1]], index=['Algorithm']))\n",
    "    benchmark.append(tmp)\n",
    "    \n",
    "benchmark_df = pd.DataFrame(benchmark).set_index('Algorithm').sort_values('test_rmse') "
   ]
  },
  {
   "cell_type": "code",
   "execution_count": 180,
   "metadata": {},
   "outputs": [
    {
     "data": {
      "text/html": [
       "<div>\n",
       "<style scoped>\n",
       "    .dataframe tbody tr th:only-of-type {\n",
       "        vertical-align: middle;\n",
       "    }\n",
       "\n",
       "    .dataframe tbody tr th {\n",
       "        vertical-align: top;\n",
       "    }\n",
       "\n",
       "    .dataframe thead th {\n",
       "        text-align: right;\n",
       "    }\n",
       "</style>\n",
       "<table border=\"1\" class=\"dataframe\">\n",
       "  <thead>\n",
       "    <tr style=\"text-align: right;\">\n",
       "      <th></th>\n",
       "      <th>test_rmse</th>\n",
       "      <th>fit_time</th>\n",
       "      <th>test_time</th>\n",
       "    </tr>\n",
       "    <tr>\n",
       "      <th>Algorithm</th>\n",
       "      <th></th>\n",
       "      <th></th>\n",
       "      <th></th>\n",
       "    </tr>\n",
       "  </thead>\n",
       "  <tbody>\n",
       "    <tr>\n",
       "      <th>SVD</th>\n",
       "      <td>0.961244</td>\n",
       "      <td>0.085539</td>\n",
       "      <td>0.003242</td>\n",
       "    </tr>\n",
       "    <tr>\n",
       "      <th>SVDpp</th>\n",
       "      <td>0.964481</td>\n",
       "      <td>0.185893</td>\n",
       "      <td>0.009628</td>\n",
       "    </tr>\n",
       "    <tr>\n",
       "      <th>BaselineOnly</th>\n",
       "      <td>0.991297</td>\n",
       "      <td>0.001756</td>\n",
       "      <td>0.002018</td>\n",
       "    </tr>\n",
       "    <tr>\n",
       "      <th>KNNBaseline</th>\n",
       "      <td>1.009603</td>\n",
       "      <td>0.005219</td>\n",
       "      <td>0.011823</td>\n",
       "    </tr>\n",
       "    <tr>\n",
       "      <th>KNNBasic</th>\n",
       "      <td>1.017418</td>\n",
       "      <td>0.003192</td>\n",
       "      <td>0.009076</td>\n",
       "    </tr>\n",
       "    <tr>\n",
       "      <th>KNNWithMeans</th>\n",
       "      <td>1.149623</td>\n",
       "      <td>0.007013</td>\n",
       "      <td>0.009889</td>\n",
       "    </tr>\n",
       "    <tr>\n",
       "      <th>CoClustering</th>\n",
       "      <td>1.158347</td>\n",
       "      <td>0.057029</td>\n",
       "      <td>0.002440</td>\n",
       "    </tr>\n",
       "    <tr>\n",
       "      <th>KNNWithZScore</th>\n",
       "      <td>1.170293</td>\n",
       "      <td>0.015271</td>\n",
       "      <td>0.010673</td>\n",
       "    </tr>\n",
       "    <tr>\n",
       "      <th>SlopeOne</th>\n",
       "      <td>1.173589</td>\n",
       "      <td>0.003891</td>\n",
       "      <td>0.003808</td>\n",
       "    </tr>\n",
       "    <tr>\n",
       "      <th>NMF</th>\n",
       "      <td>1.193571</td>\n",
       "      <td>0.105964</td>\n",
       "      <td>0.002901</td>\n",
       "    </tr>\n",
       "    <tr>\n",
       "      <th>NormalPredictor</th>\n",
       "      <td>1.434934</td>\n",
       "      <td>0.001427</td>\n",
       "      <td>0.003333</td>\n",
       "    </tr>\n",
       "  </tbody>\n",
       "</table>\n",
       "</div>"
      ],
      "text/plain": [
       "                 test_rmse  fit_time  test_time\n",
       "Algorithm                                      \n",
       "SVD               0.961244  0.085539   0.003242\n",
       "SVDpp             0.964481  0.185893   0.009628\n",
       "BaselineOnly      0.991297  0.001756   0.002018\n",
       "KNNBaseline       1.009603  0.005219   0.011823\n",
       "KNNBasic          1.017418  0.003192   0.009076\n",
       "KNNWithMeans      1.149623  0.007013   0.009889\n",
       "CoClustering      1.158347  0.057029   0.002440\n",
       "KNNWithZScore     1.170293  0.015271   0.010673\n",
       "SlopeOne          1.173589  0.003891   0.003808\n",
       "NMF               1.193571  0.105964   0.002901\n",
       "NormalPredictor   1.434934  0.001427   0.003333"
      ]
     },
     "execution_count": 180,
     "metadata": {},
     "output_type": "execute_result"
    }
   ],
   "source": [
    "benchmark_df"
   ]
  },
  {
   "cell_type": "markdown",
   "metadata": {},
   "source": [
    "From the intiial test, SVDpp and SVD had the lowerse RMSE scores. I will start adjusting hyperparameters to see which model will perform the best."
   ]
  },
  {
   "cell_type": "markdown",
   "metadata": {},
   "source": [
    "### Model #1 - SVD"
   ]
  },
  {
   "cell_type": "markdown",
   "metadata": {},
   "source": [
    "We will be using Singular Value Decomposition (SVD) to reduce the dimensionality of our matrix. SVD is a matrix factorization model that decomposes the reviewer reviews and movies into three matrices. This helps us understand the relationship between users and items, or in this case users and ski resorts."
   ]
  },
  {
   "cell_type": "code",
   "execution_count": 21,
   "metadata": {},
   "outputs": [
    {
     "name": "stdout",
     "output_type": "stream",
     "text": [
      "Evaluating RMSE of algorithm SVD on 3 split(s).\n",
      "\n",
      "                  Fold 1  Fold 2  Fold 3  Mean    Std     \n",
      "RMSE (testset)    0.9376  1.0281  0.9532  0.9730  0.0395  \n",
      "Fit time          0.08    0.08    0.08    0.08    0.00    \n",
      "Test time         0.00    0.00    0.00    0.00    0.00    \n"
     ]
    }
   ],
   "source": [
    "# Cross validate a basic SVD with no hyperparameter tuning expecting sub-par results\n",
    "svd_basic = SVD(random_state=42)\n",
    "\n",
    "results = cross_validate(svd_basic, data, measures=['RMSE'], cv=3, n_jobs = -1, verbose=True)"
   ]
  },
  {
   "cell_type": "code",
   "execution_count": 22,
   "metadata": {},
   "outputs": [
    {
     "name": "stdout",
     "output_type": "stream",
     "text": [
      "RMSE: 0.9254\n"
     ]
    }
   ],
   "source": [
    "# Fit to trainset and predict on the testset for evaluation\n",
    "svd_basic.fit(trainset)\n",
    "\n",
    "predictions = svd_basic.test(testset)\n",
    "\n",
    "svd_simple = accuracy.rmse(predictions)"
   ]
  },
  {
   "cell_type": "code",
   "execution_count": 160,
   "metadata": {},
   "outputs": [],
   "source": [
    "model_comp('svd', .925, 'n/a')"
   ]
  },
  {
   "cell_type": "markdown",
   "metadata": {},
   "source": [
    "### Model #2 - SVD Grid Search"
   ]
  },
  {
   "cell_type": "markdown",
   "metadata": {},
   "source": [
    "To begin, I will be adjusting the following parameters:\n",
    "\n",
    " - n_factors - Increasing the number of factors can improve the model's ability to capture user and content interactions more accurately\n",
    " - n_epochs - Changes the number of iterations the model performs on the training data\n",
    " - init_mean - It changes the starting point for factor initilization\n",
    " - biased - Since user bias is a common issue with ratings, this parameter accounts for more inherent bias"
   ]
  },
  {
   "cell_type": "code",
   "execution_count": 124,
   "metadata": {},
   "outputs": [
    {
     "data": {
      "text/plain": [
       "{'n_factors': 140, 'n_epochs': 40, 'init_mean': 0, 'biased': True}"
      ]
     },
     "execution_count": 124,
     "metadata": {},
     "output_type": "execute_result"
    }
   ],
   "source": [
    "#test grid search\n",
    "params = {'n_factors': [100, 120, 140],\n",
    "          'n_epochs': [20, 40, 60, 80, 100, 120],\n",
    "          'init_mean': [0,.01, 0.05],\n",
    "         'biased': [True, False]}\n",
    "\n",
    "g_s_svd = GridSearchCV(SVD, param_grid=params, cv=5, refit=True)\n",
    "\n",
    "g_s_svd.fit(data)\n",
    "g_s_svd.best_params['rmse']"
   ]
  },
  {
   "cell_type": "code",
   "execution_count": 156,
   "metadata": {},
   "outputs": [
    {
     "name": "stdout",
     "output_type": "stream",
     "text": [
      "RMSE: 0.8860\n"
     ]
    }
   ],
   "source": [
    "# instantiating SVD with best hyperparameters from gridsearch\n",
    "g_s_svd = SVD(n_factors=140 ,n_epochs=40, init_mean=0, biased=True)\n",
    "\n",
    "# fit on trainset and make predictions using testset\n",
    "g_s_svd.fit(trainset)\n",
    "predictions = g_s_svd.test(testset)\n",
    "g_s_svd_1 = accuracy.rmse(predictions)"
   ]
  },
  {
   "cell_type": "code",
   "execution_count": 161,
   "metadata": {},
   "outputs": [],
   "source": [
    "model_comp('svd_grid_1', .88, {'n_factors': 140, 'n_epochs': 40, 'init_mean': 0, 'biased': True})"
   ]
  },
  {
   "cell_type": "markdown",
   "metadata": {},
   "source": [
    "### Model #3 - SVD Grid Search # 2"
   ]
  },
  {
   "cell_type": "markdown",
   "metadata": {},
   "source": [
    "I will continue to adjust the hyperparameters to see if we can bring down the RMSE."
   ]
  },
  {
   "cell_type": "code",
   "execution_count": 32,
   "metadata": {},
   "outputs": [
    {
     "data": {
      "text/plain": [
       "{'n_factors': 140, 'n_epochs': 50, 'init_mean': 0, 'biased': True}"
      ]
     },
     "execution_count": 32,
     "metadata": {},
     "output_type": "execute_result"
    }
   ],
   "source": [
    "#test grid search\n",
    "params = {'n_factors': [80, 100, 110, 120, 130, 140],\n",
    "          'n_epochs': [20, 30, 40, 50, 60, 70, 80],\n",
    "          'init_mean': [-0.5, 0, 0.5],\n",
    "         'biased': [True, False]}\n",
    "\n",
    "g_s_svd_2 = GridSearchCV(SVD, param_grid=params, cv=5, refit=True)\n",
    "\n",
    "g_s_svd_2.fit(data)\n",
    "g_s_svd_2.best_params['rmse']"
   ]
  },
  {
   "cell_type": "code",
   "execution_count": 162,
   "metadata": {},
   "outputs": [
    {
     "name": "stdout",
     "output_type": "stream",
     "text": [
      "RMSE: 0.9026\n"
     ]
    }
   ],
   "source": [
    "# instantiating SVD with best hyperparameters from gridsearch\n",
    "g_s_svd_2 = SVD(n_factors=140 ,n_epochs=50, init_mean=0, biased=True)\n",
    "\n",
    "# fit on trainset and make predictions using testset\n",
    "g_s_svd_2.fit(trainset)\n",
    "predictions_2 = g_s_svd_2.test(testset)\n",
    "g_s_svd_2 = accuracy.rmse(predictions_2)"
   ]
  },
  {
   "cell_type": "code",
   "execution_count": 163,
   "metadata": {},
   "outputs": [],
   "source": [
    "model_comp('svd_grid_2', .902, {'n_factors': 140, 'n_epochs': 50, 'init_mean': 0, 'biased': True})"
   ]
  },
  {
   "cell_type": "markdown",
   "metadata": {},
   "source": [
    "### SVD Grid Search #3"
   ]
  },
  {
   "cell_type": "markdown",
   "metadata": {},
   "source": [
    "I am slightly adjusting the number of n_factors and n_epochs to see if this will bring down RMSE."
   ]
  },
  {
   "cell_type": "code",
   "execution_count": 35,
   "metadata": {},
   "outputs": [
    {
     "data": {
      "text/plain": [
       "{'n_factors': 160, 'n_epochs': 40, 'init_mean': 0, 'biased': True}"
      ]
     },
     "execution_count": 35,
     "metadata": {},
     "output_type": "execute_result"
    }
   ],
   "source": [
    "#test grid search\n",
    "params = {'n_factors': [110, 120, 130, 140, 160],\n",
    "          'n_epochs': [10, 20, 30, 40, 50, 60, 70, 80],\n",
    "          'init_mean': [-0.5, 0, 0.5],\n",
    "         'biased': [True, False]}\n",
    "\n",
    "g_s_svd_2 = GridSearchCV(SVD, param_grid=params, cv=5, refit=True)\n",
    "\n",
    "g_s_svd_2.fit(data)\n",
    "g_s_svd_2.best_params['rmse']"
   ]
  },
  {
   "cell_type": "code",
   "execution_count": 164,
   "metadata": {},
   "outputs": [
    {
     "name": "stdout",
     "output_type": "stream",
     "text": [
      "RMSE: 0.8963\n"
     ]
    }
   ],
   "source": [
    "# instantiating SVD with best hyperparameters from gridsearch\n",
    "g_s_svd_3 = SVD(n_factors=160 ,n_epochs=40, init_mean=0, biased=True)\n",
    "\n",
    "# fit on trainset and make predictions using testset\n",
    "g_s_svd_3.fit(trainset)\n",
    "predictions_3 = g_s_svd_3.test(testset)\n",
    "g_s_svd_3_rmse = accuracy.rmse(predictions_3)"
   ]
  },
  {
   "cell_type": "code",
   "execution_count": 165,
   "metadata": {},
   "outputs": [],
   "source": [
    "model_comp('g_s_svd_3', .896, {'n_factors': 160, 'n_epochs': 40, 'init_mean': 0, 'biased': True})"
   ]
  },
  {
   "cell_type": "markdown",
   "metadata": {},
   "source": [
    "### Model #3 - SVDpp"
   ]
  },
  {
   "cell_type": "markdown",
   "metadata": {},
   "source": [
    "SVD++ is SVD with Implicit Feedback, which incorporates implicit feedback information into the model which capture additional user preferences and can improve the accuracy of the model.\n",
    "\n",
    "SVD++ was the top performing model in the initial benchmark selection, so I am expecting this model to perform the best.\n",
    "\n",
    " - n_factors - Increasing the number of factors can improve the model's ability to capture user and content interactions more accurately\n",
    " - n_epochs - Changes the number of iterations the model performs on the training data\n",
    " - init_mean - It changes the starting point for factor initilization\n",
    " - reg-all - This is a regularization term that's applied to all parameters and helps prevent overfitting"
   ]
  },
  {
   "cell_type": "markdown",
   "metadata": {},
   "source": [
    "To begin I will start with a lower n_factors and n_epochs. Larger n_factors numbers can lead to overfitting."
   ]
  },
  {
   "cell_type": "code",
   "execution_count": 116,
   "metadata": {},
   "outputs": [],
   "source": [
    "# New hyperparameter dictionary for nmf model\n",
    "svd_pp_param_grid = {'n_factors':[5, 10, 20, 30, 40, 50],\n",
    "                  'n_epochs': [20, 30, 40, 50, 60],\n",
    "                    'init_mean':[0, .01, .02, .03],\n",
    "                    'reg_all':[.01, .02, .03]}\n",
    "svd_pp_model = GridSearchCV(SVDpp, param_grid=svd_pp_param_grid, cv=3, joblib_verbose=10, return_train_measures=True)\n",
    "\n",
    "# Fit and return the best hyperparameters\n",
    "svd_pp_model.fit(data)\n",
    "print(svd_pp_model.best_params['rmse'])"
   ]
  },
  {
   "cell_type": "code",
   "execution_count": 166,
   "metadata": {},
   "outputs": [
    {
     "name": "stdout",
     "output_type": "stream",
     "text": [
      "RMSE: 0.9302\n"
     ]
    }
   ],
   "source": [
    "# instantiating NFM\n",
    "svd_pp_model = SVDpp(n_factors=50, n_epochs=60, init_mean=.00, reg_all=.02)\n",
    "\n",
    "# Fit on trainset and make predictions using testset to return RMSE metric\n",
    "svd_pp_model.fit(trainset)\n",
    "predictions = svd_pp_model.test(testset)\n",
    "svd_pp_model_1 = accuracy.rmse(predictions)"
   ]
  },
  {
   "cell_type": "code",
   "execution_count": 167,
   "metadata": {},
   "outputs": [],
   "source": [
    "model_comp('svd_pp_1', .930, {'n_factors': 50, 'n_epochs': 60, 'init_mean': 0, 'reg_all': 0.02} )"
   ]
  },
  {
   "cell_type": "markdown",
   "metadata": {},
   "source": [
    "### Model #7 - SVD ++ Grid Search #2"
   ]
  },
  {
   "cell_type": "markdown",
   "metadata": {},
   "source": [
    "The last SVD++ model had a slightly higher RMSE than the SVD models. I am going to increase the n_factors to increase the complexity of the model."
   ]
  },
  {
   "cell_type": "code",
   "execution_count": 45,
   "metadata": {},
   "outputs": [
    {
     "name": "stderr",
     "output_type": "stream",
     "text": [
      "[Parallel(n_jobs=1)]: Using backend SequentialBackend with 1 concurrent workers.\n",
      "[Parallel(n_jobs=1)]: Done   1 out of   1 | elapsed:    0.3s remaining:    0.0s\n",
      "[Parallel(n_jobs=1)]: Done   2 out of   2 | elapsed:    0.6s remaining:    0.0s\n",
      "[Parallel(n_jobs=1)]: Done   3 out of   3 | elapsed:    1.0s remaining:    0.0s\n",
      "[Parallel(n_jobs=1)]: Done   4 out of   4 | elapsed:    1.3s remaining:    0.0s\n",
      "[Parallel(n_jobs=1)]: Done   5 out of   5 | elapsed:    1.6s remaining:    0.0s\n",
      "[Parallel(n_jobs=1)]: Done   6 out of   6 | elapsed:    1.9s remaining:    0.0s\n",
      "[Parallel(n_jobs=1)]: Done   7 out of   7 | elapsed:    2.2s remaining:    0.0s\n",
      "[Parallel(n_jobs=1)]: Done   8 out of   8 | elapsed:    2.5s remaining:    0.0s\n",
      "[Parallel(n_jobs=1)]: Done   9 out of   9 | elapsed:    2.8s remaining:    0.0s\n",
      "[Parallel(n_jobs=1)]: Done 1080 out of 1080 | elapsed: 24.0min finished\n"
     ]
    },
    {
     "data": {
      "text/plain": [
       "{'n_factors': 90, 'n_epochs': 40, 'init_mean': 0, 'reg_all': 0.03}"
      ]
     },
     "execution_count": 45,
     "metadata": {},
     "output_type": "execute_result"
    }
   ],
   "source": [
    "# New hyperparameter dictionary for nmf model\n",
    "svd_pp_param_grid = {'n_factors':[50, 70, 90, 120, 140, 150],\n",
    "                  'n_epochs': [20, 40, 60, 80, 100],\n",
    "                    'init_mean':[0, .01, .02, .03],\n",
    "                     'reg_all':[.01, .02, .03]}\n",
    "svd_pp_model_2 = GridSearchCV(SVDpp, param_grid=svd_pp_param_grid, cv=3, joblib_verbose=10, return_train_measures=True)\n",
    "\n",
    "# Fit and return the best hyperparameters\n",
    "svd_pp_model_2.fit(data)\n",
    "svd_pp_model_2.best_params['rmse']"
   ]
  },
  {
   "cell_type": "code",
   "execution_count": 168,
   "metadata": {},
   "outputs": [
    {
     "name": "stdout",
     "output_type": "stream",
     "text": [
      "RMSE: 0.9011\n"
     ]
    }
   ],
   "source": [
    "# instantiating SVD\n",
    "svd_pp_model_2 = SVDpp(n_factors=90, n_epochs=40, init_mean=0.0, reg_all=.03)\n",
    "\n",
    "# Fit on trainset and make predictions using testset to return RMSE metric\n",
    "svd_pp_model_2.fit(trainset)\n",
    "predictions = svd_pp_model_2.test(testset)\n",
    "svd_pp_model_2_rmse = accuracy.rmse(predictions)"
   ]
  },
  {
   "cell_type": "code",
   "execution_count": 169,
   "metadata": {},
   "outputs": [],
   "source": [
    "model_comp('svd_pp_2', .901, {'n_factors': 90, 'n_epochs': 40, 'init_mean': 0, 'reg_all': 0.03})"
   ]
  },
  {
   "cell_type": "markdown",
   "metadata": {},
   "source": [
    "### Model #8 - SVD++ Grid Search #3"
   ]
  },
  {
   "cell_type": "markdown",
   "metadata": {},
   "source": [
    "The previous model performed slightly better than the first SVD ++ model. I am now going to adjust the n_factors and n_epochs by making the steps inbetween the numbers smaller in attempt to capture the best hyperparameters."
   ]
  },
  {
   "cell_type": "code",
   "execution_count": 52,
   "metadata": {},
   "outputs": [
    {
     "name": "stderr",
     "output_type": "stream",
     "text": [
      "[Parallel(n_jobs=1)]: Using backend SequentialBackend with 1 concurrent workers.\n",
      "[Parallel(n_jobs=1)]: Done   1 out of   1 | elapsed:    0.4s remaining:    0.0s\n",
      "[Parallel(n_jobs=1)]: Done   2 out of   2 | elapsed:    0.9s remaining:    0.0s\n",
      "[Parallel(n_jobs=1)]: Done   3 out of   3 | elapsed:    1.3s remaining:    0.0s\n",
      "[Parallel(n_jobs=1)]: Done   4 out of   4 | elapsed:    1.8s remaining:    0.0s\n",
      "[Parallel(n_jobs=1)]: Done   5 out of   5 | elapsed:    2.2s remaining:    0.0s\n",
      "[Parallel(n_jobs=1)]: Done   6 out of   6 | elapsed:    2.6s remaining:    0.0s\n",
      "[Parallel(n_jobs=1)]: Done   7 out of   7 | elapsed:    3.0s remaining:    0.0s\n",
      "[Parallel(n_jobs=1)]: Done   8 out of   8 | elapsed:    3.5s remaining:    0.0s\n",
      "[Parallel(n_jobs=1)]: Done   9 out of   9 | elapsed:    3.9s remaining:    0.0s\n",
      "[Parallel(n_jobs=1)]: Done 1080 out of 1080 | elapsed: 18.9min finished\n"
     ]
    },
    {
     "data": {
      "text/plain": [
       "{'n_factors': 100, 'n_epochs': 30, 'init_mean': 0.02, 'reg_all': 0.02}"
      ]
     },
     "execution_count": 52,
     "metadata": {},
     "output_type": "execute_result"
    }
   ],
   "source": [
    "# New hyperparameter dictionary for nmf model\n",
    "svd_pp_param_grid = {'n_factors':[90, 100, 110, 120, 130],\n",
    "                  'n_epochs': [20, 30, 40, 50, 60, 70],\n",
    "                    'init_mean':[0, .01, .02, .03],\n",
    "                    'reg_all':[.01, .02, .03]}\n",
    "svd_pp_model_3 = GridSearchCV(SVDpp, param_grid=svd_pp_param_grid, cv=3, joblib_verbose=10, return_train_measures=True)\n",
    "\n",
    "# Fit and return the best hyperparameters\n",
    "svd_pp_model_3.fit(data)\n",
    "svd_pp_model_3.best_params['rmse']"
   ]
  },
  {
   "cell_type": "code",
   "execution_count": 170,
   "metadata": {},
   "outputs": [
    {
     "name": "stdout",
     "output_type": "stream",
     "text": [
      "RMSE: 0.9069\n"
     ]
    }
   ],
   "source": [
    "# instantiating NFM\n",
    "svd_pp_model_3 = SVDpp(n_factors=100, n_epochs=30, init_mean=0.02, reg_all=.02)\n",
    "\n",
    "# Fit on trainset and make predictions using testset to return RMSE metric\n",
    "svd_pp_model_3.fit(trainset)\n",
    "predictions = svd_pp_model_3.test(testset)\n",
    "svd_pp_model_3_rmse = accuracy.rmse(predictions)"
   ]
  },
  {
   "cell_type": "code",
   "execution_count": 171,
   "metadata": {},
   "outputs": [],
   "source": [
    "model_comp('svd_pp_3', .906, {'n_factors': 100, 'n_epochs': 30, 'init_mean': 0.02, 'reg_all': 0.02})"
   ]
  },
  {
   "cell_type": "markdown",
   "metadata": {},
   "source": [
    "### Model #9 - SVD PP - Grid Search #4"
   ]
  },
  {
   "cell_type": "markdown",
   "metadata": {},
   "source": [
    "The last model performed better than the previous. I'm going to adjust the n_factors and n_epochs again by further adjusting the distance between the parameter options."
   ]
  },
  {
   "cell_type": "code",
   "execution_count": 56,
   "metadata": {},
   "outputs": [
    {
     "name": "stderr",
     "output_type": "stream",
     "text": [
      "[Parallel(n_jobs=1)]: Using backend SequentialBackend with 1 concurrent workers.\n",
      "[Parallel(n_jobs=1)]: Done   1 out of   1 | elapsed:    0.2s remaining:    0.0s\n",
      "[Parallel(n_jobs=1)]: Done   2 out of   2 | elapsed:    0.3s remaining:    0.0s\n",
      "[Parallel(n_jobs=1)]: Done   3 out of   3 | elapsed:    0.5s remaining:    0.0s\n",
      "[Parallel(n_jobs=1)]: Done   4 out of   4 | elapsed:    0.6s remaining:    0.0s\n",
      "[Parallel(n_jobs=1)]: Done   5 out of   5 | elapsed:    0.8s remaining:    0.0s\n",
      "[Parallel(n_jobs=1)]: Done   6 out of   6 | elapsed:    0.9s remaining:    0.0s\n",
      "[Parallel(n_jobs=1)]: Done   7 out of   7 | elapsed:    1.1s remaining:    0.0s\n",
      "[Parallel(n_jobs=1)]: Done   8 out of   8 | elapsed:    1.3s remaining:    0.0s\n",
      "[Parallel(n_jobs=1)]: Done   9 out of   9 | elapsed:    1.4s remaining:    0.0s\n"
     ]
    },
    {
     "name": "stdout",
     "output_type": "stream",
     "text": [
      "{'n_factors': 125, 'n_epochs': 35, 'init_mean': 0.02, 'reg_all': 0.03}\n"
     ]
    },
    {
     "name": "stderr",
     "output_type": "stream",
     "text": [
      "[Parallel(n_jobs=1)]: Done 864 out of 864 | elapsed:  7.6min finished\n"
     ]
    }
   ],
   "source": [
    "# New hyperparameter dictionary for nmf model\n",
    "svd_pp_param_grid = {'n_factors':[120, 125, 130, 140],\n",
    "                  'n_epochs': [5, 10, 15, 20, 30, 35],\n",
    "                    'init_mean':[0, .01, .02, .03],\n",
    "                    'reg_all':[.01, .02, .03]}\n",
    "svd_pp_model_4 = GridSearchCV(SVDpp, param_grid=svd_pp_param_grid, cv=3, joblib_verbose=10, return_train_measures=True)\n",
    "\n",
    "# Fit and return the best hyperparameters\n",
    "svd_pp_model_4.fit(data)\n",
    "print(svd_pp_model_4.best_params['rmse'])"
   ]
  },
  {
   "cell_type": "code",
   "execution_count": 172,
   "metadata": {},
   "outputs": [
    {
     "name": "stdout",
     "output_type": "stream",
     "text": [
      "RMSE: 0.9031\n"
     ]
    }
   ],
   "source": [
    "# instantiating NFM\n",
    "svd_pp_model_4 = SVDpp(n_factors=125, n_epochs=35, init_mean=.02, reg_all=.03)\n",
    "\n",
    "# Fit on trainset and make predictions using testset to return RMSE metric\n",
    "svd_pp_model_4.fit(trainset)\n",
    "predictions = svd_pp_model_4.test(testset)\n",
    "svd_pp_model_4_rmse = accuracy.rmse(predictions)"
   ]
  },
  {
   "cell_type": "code",
   "execution_count": 173,
   "metadata": {},
   "outputs": [],
   "source": [
    "model_comp('svd_pp_4', 0.903, {'n_factors': 125, 'n_epochs': 35, 'init_mean': 0.02, 'reg_all': 0.03})"
   ]
  },
  {
   "cell_type": "markdown",
   "metadata": {},
   "source": [
    "### Model #10 - SVD PP - Grid Search #5"
   ]
  },
  {
   "cell_type": "code",
   "execution_count": 59,
   "metadata": {},
   "outputs": [
    {
     "name": "stderr",
     "output_type": "stream",
     "text": [
      "[Parallel(n_jobs=1)]: Using backend SequentialBackend with 1 concurrent workers.\n",
      "[Parallel(n_jobs=1)]: Done   1 out of   1 | elapsed:    0.5s remaining:    0.0s\n",
      "[Parallel(n_jobs=1)]: Done   2 out of   2 | elapsed:    1.0s remaining:    0.0s\n",
      "[Parallel(n_jobs=1)]: Done   3 out of   3 | elapsed:    1.5s remaining:    0.0s\n",
      "[Parallel(n_jobs=1)]: Done   4 out of   4 | elapsed:    2.0s remaining:    0.0s\n",
      "[Parallel(n_jobs=1)]: Done   5 out of   5 | elapsed:    2.4s remaining:    0.0s\n",
      "[Parallel(n_jobs=1)]: Done   6 out of   6 | elapsed:    2.9s remaining:    0.0s\n",
      "[Parallel(n_jobs=1)]: Done   7 out of   7 | elapsed:    3.4s remaining:    0.0s\n",
      "[Parallel(n_jobs=1)]: Done   8 out of   8 | elapsed:    3.9s remaining:    0.0s\n",
      "[Parallel(n_jobs=1)]: Done   9 out of   9 | elapsed:    4.4s remaining:    0.0s\n",
      "[Parallel(n_jobs=1)]: Done 1782 out of 1782 | elapsed: 56.2min finished\n"
     ]
    },
    {
     "data": {
      "text/plain": [
       "{'n_factors': 125, 'n_epochs': 50, 'init_mean': 0.01, 'reg_all': 0.03}"
      ]
     },
     "execution_count": 59,
     "metadata": {},
     "output_type": "execute_result"
    }
   ],
   "source": [
    "# New hyperparameter dictionary for nmf model\n",
    "svd_pp_param_grid = {'n_factors':[110, 120, 125, 130, 135, 140, 145, 150, 160],\n",
    "                  'n_epochs': [20, 30, 40, 50, 60, 70, 80, 90, 100, 110, 120],\n",
    "                    'init_mean':[0, .01],\n",
    "                    'reg_all':[.01, .02, .03]}\n",
    "svd_pp_model_5 = GridSearchCV(SVDpp, param_grid=svd_pp_param_grid, cv=3, joblib_verbose=10, return_train_measures=True)\n",
    "\n",
    "# Fit and return the best hyperparameters\n",
    "svd_pp_model_5.fit(data)\n",
    "svd_pp_model_5.best_params['rmse']"
   ]
  },
  {
   "cell_type": "code",
   "execution_count": 174,
   "metadata": {},
   "outputs": [
    {
     "name": "stdout",
     "output_type": "stream",
     "text": [
      "RMSE: 0.8937\n"
     ]
    }
   ],
   "source": [
    "# instantiating NFM\n",
    "svd_pp_model_5 = SVDpp(n_factors=125, n_epochs=50, init_mean=.01, reg_all=.03)\n",
    "\n",
    "# Fit on trainset and make predictions using testset to return RMSE metric\n",
    "svd_pp_model_5.fit(trainset)\n",
    "predictions = svd_pp_model_5.test(testset)\n",
    "svd_pp_model_5_rmse = accuracy.rmse(predictions)"
   ]
  },
  {
   "cell_type": "code",
   "execution_count": 175,
   "metadata": {},
   "outputs": [],
   "source": [
    "model_comp('svd_pp_5', .893, {'n_factors': 125, 'n_epochs': 50, 'init_mean': 0.01, 'reg_all': 0.03} )"
   ]
  },
  {
   "cell_type": "markdown",
   "metadata": {},
   "source": [
    "### Model Comparison"
   ]
  },
  {
   "cell_type": "markdown",
   "metadata": {},
   "source": [
    "After comparing all models, the SVD ++ models performed the best in terms of RMSE. Our final model for the collaborative system will be SVD ++. \n",
    "\n",
    "The RMSE scores for the top performing models were all very close, so I trained multiple models and tested the function to see which performed the best. After testing the functions with three users, two of which filled out the google survey, I decided to use the hyperparameters associated with SVD Grid Search #4 which also had the lowest RMSE score. \n",
    "\n",
    "The other models returned often returned resorts that were not aligned with the users top ratings, which myself as well as the other users typically do not go to unless they're close to the main city they live in."
   ]
  },
  {
   "cell_type": "code",
   "execution_count": 187,
   "metadata": {},
   "outputs": [
    {
     "data": {
      "text/html": [
       "<div>\n",
       "<style scoped>\n",
       "    .dataframe tbody tr th:only-of-type {\n",
       "        vertical-align: middle;\n",
       "    }\n",
       "\n",
       "    .dataframe tbody tr th {\n",
       "        vertical-align: top;\n",
       "    }\n",
       "\n",
       "    .dataframe thead th {\n",
       "        text-align: right;\n",
       "    }\n",
       "</style>\n",
       "<table border=\"1\" class=\"dataframe\">\n",
       "  <thead>\n",
       "    <tr style=\"text-align: right;\">\n",
       "      <th></th>\n",
       "      <th>model</th>\n",
       "      <th>rmse</th>\n",
       "      <th>params</th>\n",
       "    </tr>\n",
       "  </thead>\n",
       "  <tbody>\n",
       "    <tr>\n",
       "      <th>2</th>\n",
       "      <td>svd_grid_1</td>\n",
       "      <td>0.880</td>\n",
       "      <td>{'n_factors': 140, 'n_epochs': 40, 'init_mean'...</td>\n",
       "    </tr>\n",
       "    <tr>\n",
       "      <th>9</th>\n",
       "      <td>svd_pp_5</td>\n",
       "      <td>0.893</td>\n",
       "      <td>{'n_factors': 125, 'n_epochs': 50, 'init_mean'...</td>\n",
       "    </tr>\n",
       "    <tr>\n",
       "      <th>4</th>\n",
       "      <td>g_s_svd_3</td>\n",
       "      <td>0.896</td>\n",
       "      <td>{'n_factors': 160, 'n_epochs': 40, 'init_mean'...</td>\n",
       "    </tr>\n",
       "    <tr>\n",
       "      <th>6</th>\n",
       "      <td>svd_pp_2</td>\n",
       "      <td>0.901</td>\n",
       "      <td>{'n_factors': 90, 'n_epochs': 40, 'init_mean':...</td>\n",
       "    </tr>\n",
       "    <tr>\n",
       "      <th>3</th>\n",
       "      <td>svd_grid_2</td>\n",
       "      <td>0.902</td>\n",
       "      <td>{'n_factors': 140, 'n_epochs': 50, 'init_mean'...</td>\n",
       "    </tr>\n",
       "  </tbody>\n",
       "</table>\n",
       "</div>"
      ],
      "text/plain": [
       "        model   rmse                                             params\n",
       "2  svd_grid_1  0.880  {'n_factors': 140, 'n_epochs': 40, 'init_mean'...\n",
       "9    svd_pp_5  0.893  {'n_factors': 125, 'n_epochs': 50, 'init_mean'...\n",
       "4   g_s_svd_3  0.896  {'n_factors': 160, 'n_epochs': 40, 'init_mean'...\n",
       "6    svd_pp_2  0.901  {'n_factors': 90, 'n_epochs': 40, 'init_mean':...\n",
       "3  svd_grid_2  0.902  {'n_factors': 140, 'n_epochs': 50, 'init_mean'..."
      ]
     },
     "execution_count": 187,
     "metadata": {},
     "output_type": "execute_result"
    }
   ],
   "source": [
    "model_df.sort_values(by=\"rmse\").head()"
   ]
  },
  {
   "cell_type": "markdown",
   "metadata": {},
   "source": [
    "#### Best Model"
   ]
  },
  {
   "cell_type": "code",
   "execution_count": 222,
   "metadata": {},
   "outputs": [
    {
     "name": "stdout",
     "output_type": "stream",
     "text": [
      "RMSE: 0.8968\n"
     ]
    }
   ],
   "source": [
    "# instantiating NFM\n",
    "best_model = SVD(n_factors=140, n_epochs=40, biased=True)\n",
    "\n",
    "# Fit on trainset and make predictions using testset to return RMSE metric\n",
    "best_model.fit(trainset)\n",
    "predictions = best_model.test(testset)\n",
    "best_model_rmse = accuracy.rmse(predictions)"
   ]
  },
  {
   "cell_type": "code",
   "execution_count": 214,
   "metadata": {},
   "outputs": [],
   "source": [
    "best_model = SVDpp(n_factors=140, n_epochs=120, init_mean=.01)"
   ]
  },
  {
   "cell_type": "markdown",
   "metadata": {},
   "source": [
    "### Training on Full Dataset"
   ]
  },
  {
   "cell_type": "markdown",
   "metadata": {},
   "source": [
    "Before creating the collaborative mode, we will need to train it on the full dataset. This is important because it ensures that the model learns from the complete set of user resort reviews, so it can make more accurate predictions."
   ]
  },
  {
   "cell_type": "code",
   "execution_count": 223,
   "metadata": {},
   "outputs": [
    {
     "data": {
      "text/plain": [
       "<surprise.prediction_algorithms.matrix_factorization.SVD at 0x7ff683a1fa90>"
      ]
     },
     "execution_count": 223,
     "metadata": {},
     "output_type": "execute_result"
    }
   ],
   "source": [
    "#setting scale\n",
    "reader = Reader(rating_scale=(1, 5))\n",
    "\n",
    "#loading final dataset\n",
    "data_full = Dataset.load_from_df(surprise_df[['user_name', 'ski_resort', 'rating']], reader)\n",
    "\n",
    "#making trainset\n",
    "full_trainset = data_full.build_full_trainset()\n",
    "\n",
    "algo = SVD(n_factors=140, n_epochs=40, biased=True)\n",
    "algo.fit(full_trainset)"
   ]
  },
  {
   "cell_type": "markdown",
   "metadata": {},
   "source": [
    "## Collaborative System - Building Function"
   ]
  },
  {
   "cell_type": "markdown",
   "metadata": {},
   "source": [
    "To implement the model, we will need to create a function that takes in user inputs and outputs predictions. To start, I will make a dataframe of only the user names, ratings, and ski resorts."
   ]
  },
  {
   "cell_type": "code",
   "execution_count": 89,
   "metadata": {},
   "outputs": [
    {
     "data": {
      "text/html": [
       "<div>\n",
       "<style scoped>\n",
       "    .dataframe tbody tr th:only-of-type {\n",
       "        vertical-align: middle;\n",
       "    }\n",
       "\n",
       "    .dataframe tbody tr th {\n",
       "        vertical-align: top;\n",
       "    }\n",
       "\n",
       "    .dataframe thead th {\n",
       "        text-align: right;\n",
       "    }\n",
       "</style>\n",
       "<table border=\"1\" class=\"dataframe\">\n",
       "  <thead>\n",
       "    <tr style=\"text-align: right;\">\n",
       "      <th></th>\n",
       "      <th>user_name</th>\n",
       "      <th>ski_resort</th>\n",
       "      <th>rating</th>\n",
       "    </tr>\n",
       "  </thead>\n",
       "  <tbody>\n",
       "    <tr>\n",
       "      <th>0</th>\n",
       "      <td>anon_1</td>\n",
       "      <td>Winter Park</td>\n",
       "      <td>4.0</td>\n",
       "    </tr>\n",
       "    <tr>\n",
       "      <th>1</th>\n",
       "      <td>anon_1</td>\n",
       "      <td>Arapahoe Basin</td>\n",
       "      <td>5.0</td>\n",
       "    </tr>\n",
       "    <tr>\n",
       "      <th>2</th>\n",
       "      <td>anon_1</td>\n",
       "      <td>Steamboat</td>\n",
       "      <td>5.0</td>\n",
       "    </tr>\n",
       "    <tr>\n",
       "      <th>3</th>\n",
       "      <td>anon_1</td>\n",
       "      <td>Copper Mountain</td>\n",
       "      <td>5.0</td>\n",
       "    </tr>\n",
       "    <tr>\n",
       "      <th>4</th>\n",
       "      <td>anon_2</td>\n",
       "      <td>Solitude Mountain</td>\n",
       "      <td>5.0</td>\n",
       "    </tr>\n",
       "  </tbody>\n",
       "</table>\n",
       "</div>"
      ],
      "text/plain": [
       "  user_name         ski_resort  rating\n",
       "0    anon_1        Winter Park     4.0\n",
       "1    anon_1     Arapahoe Basin     5.0\n",
       "2    anon_1          Steamboat     5.0\n",
       "3    anon_1    Copper Mountain     5.0\n",
       "4    anon_2  Solitude Mountain     5.0"
      ]
     },
     "execution_count": 89,
     "metadata": {},
     "output_type": "execute_result"
    }
   ],
   "source": [
    "surprise_df.head()"
   ]
  },
  {
   "cell_type": "code",
   "execution_count": 90,
   "metadata": {},
   "outputs": [
    {
     "data": {
      "text/html": [
       "<div>\n",
       "<style scoped>\n",
       "    .dataframe tbody tr th:only-of-type {\n",
       "        vertical-align: middle;\n",
       "    }\n",
       "\n",
       "    .dataframe tbody tr th {\n",
       "        vertical-align: top;\n",
       "    }\n",
       "\n",
       "    .dataframe thead th {\n",
       "        text-align: right;\n",
       "    }\n",
       "</style>\n",
       "<table border=\"1\" class=\"dataframe\">\n",
       "  <thead>\n",
       "    <tr style=\"text-align: right;\">\n",
       "      <th></th>\n",
       "      <th>ski_resort</th>\n",
       "    </tr>\n",
       "    <tr>\n",
       "      <th>user_name</th>\n",
       "      <th></th>\n",
       "    </tr>\n",
       "  </thead>\n",
       "  <tbody>\n",
       "    <tr>\n",
       "      <th>anon_1</th>\n",
       "      <td>Winter Park</td>\n",
       "    </tr>\n",
       "    <tr>\n",
       "      <th>anon_1</th>\n",
       "      <td>Arapahoe Basin</td>\n",
       "    </tr>\n",
       "    <tr>\n",
       "      <th>anon_1</th>\n",
       "      <td>Steamboat</td>\n",
       "    </tr>\n",
       "    <tr>\n",
       "      <th>anon_1</th>\n",
       "      <td>Copper Mountain</td>\n",
       "    </tr>\n",
       "    <tr>\n",
       "      <th>anon_2</th>\n",
       "      <td>Solitude Mountain</td>\n",
       "    </tr>\n",
       "  </tbody>\n",
       "</table>\n",
       "</div>"
      ],
      "text/plain": [
       "                  ski_resort\n",
       "user_name                   \n",
       "anon_1           Winter Park\n",
       "anon_1        Arapahoe Basin\n",
       "anon_1             Steamboat\n",
       "anon_1       Copper Mountain\n",
       "anon_2     Solitude Mountain"
      ]
     },
     "execution_count": 90,
     "metadata": {},
     "output_type": "execute_result"
    }
   ],
   "source": [
    "#saving new dataframe with only user information\n",
    "user_df = surprise_df.reset_index()\n",
    "user_df.set_index('user_name', inplace = True)\n",
    "user_df.drop(columns = ['rating', 'index'], inplace =True)\n",
    "user_df.head()"
   ]
  },
  {
   "cell_type": "markdown",
   "metadata": {},
   "source": [
    "### Saving Trained Model"
   ]
  },
  {
   "cell_type": "markdown",
   "metadata": {},
   "source": [
    "For the hybrid model and streamlist app, I will need to save the trained model. To do this, I adapted code found on [Google Colab](https://colab.research.google.com/github/singhsidhukuldeep/Recommendation-System/blob/master/Building_Recommender_System_with_Surprise.ipynb#scrollTo=lM7Db2cj7-IZ)."
   ]
  },
  {
   "cell_type": "code",
   "execution_count": 227,
   "metadata": {},
   "outputs": [
    {
     "name": "stdout",
     "output_type": "stream",
     "text": [
      ">> Starting dump\n",
      ">> Dump done\n",
      "./model.pickle\n"
     ]
    }
   ],
   "source": [
    "#saving trained model\n",
    "from surprise import dump\n",
    "import os\n",
    "\n",
    "model_filename = \"./model.pickle\"\n",
    "\n",
    "print (\">> Starting dump\")\n",
    "\n",
    "# Dump algorithm and reload it.\n",
    "file_name = os.path.expanduser(model_filename)\n",
    "dump.dump(file_name, algo=algo)\n",
    "\n",
    "print (\">> Dump done\")\n",
    "print(model_filename)"
   ]
  },
  {
   "cell_type": "markdown",
   "metadata": {},
   "source": [
    "### Function #1  - User & Recommendation #  Inputs"
   ]
  },
  {
   "cell_type": "markdown",
   "metadata": {},
   "source": [
    "Below is a function that will be used to take user inputs and return predicted ratings. This will used the final trained SVD++ model. The results will be sorted by the highest ratings."
   ]
  },
  {
   "cell_type": "code",
   "execution_count": 93,
   "metadata": {},
   "outputs": [],
   "source": [
    "def shred_recommender():\n",
    "    #user input\n",
    "    user = str(input('Name: '))\n",
    "    #number of recommendations\n",
    "    n_recs = int(input('How many resort recommendations do you want? '))\n",
    "    \n",
    "    #making a list of the resorts rated by each user\n",
    "    have_rated = list(user_df.loc[user, 'ski_resort'])\n",
    "    #dropping rated resorts for final recommendation\n",
    "    not_rated = content_df.copy()\n",
    "    not_rated = not_rated.loc[~not_rated['ski_resort'].isin(have_rated)]\n",
    "    not_rated = not_rated.drop_duplicates(subset=['ski_resort'])\n",
    "    not_rated.reset_index(inplace=True)\n",
    "    \n",
    "    #running the model and saving the predicted ratings as a new column\n",
    "    not_rated['predicted_rating'] = not_rated['ski_resort'].apply(lambda x: algo.predict(user, x).est)\n",
    "    not_rated.sort_values(by='predicted_rating', ascending=False, inplace=True)\n",
    "    not_rated = not_rated[['ski_resort', 'state', 'city', 'sumt', 'drop', 'base', 'intermediate_runs',\n",
    "                          'advanced_runs', 'expert_runs', 'predicted_rating', 'ikon', 'epic',\n",
    "                          'mountain_collective']].copy()\n",
    "    return not_rated.head(n_recs)"
   ]
  },
  {
   "cell_type": "markdown",
   "metadata": {},
   "source": [
    "# Results - Function Testing\n",
    "\n",
    "I will be testing the model results with users whose mountain preferences have been definied:\n",
    "\n",
    "- Stephanie C. - Enjoys mountains with advanced and expert terrain. Enjoys mountains that have good ammenities and that are close to public transportation.\n",
    "- Alexandria K. - Mountains where the majority of skiiers are there for the sport, and that do not feel overly \"bougey\". Skies in expert terrain.\n",
    "- Raghava K. - Enjoys large mountains, back bowls, expert terrain. Parking and mountain ammenities are also important.\n",
    "- Joseph L. - Skies locally in the NY area. Is looking to explore more mountains."
   ]
  },
  {
   "cell_type": "markdown",
   "metadata": {},
   "source": [
    "#### User #1 - Stephanie"
   ]
  },
  {
   "cell_type": "markdown",
   "metadata": {},
   "source": [
    "For the first user comparison, I used myself. I think the recommended resorts for myself are in line with my preferences. They are large mountains with vast advanced and expert terrains, which is what I enjoy skiing."
   ]
  },
  {
   "cell_type": "code",
   "execution_count": 94,
   "metadata": {},
   "outputs": [
    {
     "data": {
      "text/html": [
       "<div>\n",
       "<style scoped>\n",
       "    .dataframe tbody tr th:only-of-type {\n",
       "        vertical-align: middle;\n",
       "    }\n",
       "\n",
       "    .dataframe tbody tr th {\n",
       "        vertical-align: top;\n",
       "    }\n",
       "\n",
       "    .dataframe thead th {\n",
       "        text-align: right;\n",
       "    }\n",
       "</style>\n",
       "<table border=\"1\" class=\"dataframe\">\n",
       "  <thead>\n",
       "    <tr style=\"text-align: right;\">\n",
       "      <th></th>\n",
       "      <th>review_date</th>\n",
       "      <th>state</th>\n",
       "      <th>ski_resort</th>\n",
       "      <th>rating</th>\n",
       "      <th>review</th>\n",
       "      <th>user_name</th>\n",
       "    </tr>\n",
       "  </thead>\n",
       "  <tbody>\n",
       "    <tr>\n",
       "      <th>36</th>\n",
       "      <td>2023-05-05</td>\n",
       "      <td>New York</td>\n",
       "      <td>Hunter Mountain</td>\n",
       "      <td>1.0</td>\n",
       "      <td>Very crowded and snow quality is typically low...</td>\n",
       "      <td>Stephanie Ciaccia</td>\n",
       "    </tr>\n",
       "    <tr>\n",
       "      <th>37</th>\n",
       "      <td>2023-05-05</td>\n",
       "      <td>Colorado</td>\n",
       "      <td>Vail</td>\n",
       "      <td>4.0</td>\n",
       "      <td>Amazing back bowls and snow. Pricey resort tho...</td>\n",
       "      <td>Stephanie Ciaccia</td>\n",
       "    </tr>\n",
       "    <tr>\n",
       "      <th>38</th>\n",
       "      <td>2023-05-05</td>\n",
       "      <td>Utah</td>\n",
       "      <td>Snowbird</td>\n",
       "      <td>5.0</td>\n",
       "      <td>Amazing terrain and huge mountain yet still fe...</td>\n",
       "      <td>Stephanie Ciaccia</td>\n",
       "    </tr>\n",
       "    <tr>\n",
       "      <th>39</th>\n",
       "      <td>2023-05-05</td>\n",
       "      <td>Colorado</td>\n",
       "      <td>Breckenridge</td>\n",
       "      <td>4.0</td>\n",
       "      <td>Great bus route that makes the mountain easily...</td>\n",
       "      <td>Stephanie Ciaccia</td>\n",
       "    </tr>\n",
       "    <tr>\n",
       "      <th>40</th>\n",
       "      <td>2023-05-05</td>\n",
       "      <td>Utah</td>\n",
       "      <td>Park City Mountain</td>\n",
       "      <td>4.0</td>\n",
       "      <td>Great terrain, close to airport, but lodging i...</td>\n",
       "      <td>Stephanie Ciaccia</td>\n",
       "    </tr>\n",
       "  </tbody>\n",
       "</table>\n",
       "</div>"
      ],
      "text/plain": [
       "   review_date     state          ski_resort  rating  \\\n",
       "36  2023-05-05  New York     Hunter Mountain     1.0   \n",
       "37  2023-05-05  Colorado                Vail     4.0   \n",
       "38  2023-05-05      Utah            Snowbird     5.0   \n",
       "39  2023-05-05  Colorado        Breckenridge     4.0   \n",
       "40  2023-05-05      Utah  Park City Mountain     4.0   \n",
       "\n",
       "                                               review          user_name  \n",
       "36  Very crowded and snow quality is typically low...  Stephanie Ciaccia  \n",
       "37  Amazing back bowls and snow. Pricey resort tho...  Stephanie Ciaccia  \n",
       "38  Amazing terrain and huge mountain yet still fe...  Stephanie Ciaccia  \n",
       "39  Great bus route that makes the mountain easily...  Stephanie Ciaccia  \n",
       "40  Great terrain, close to airport, but lodging i...  Stephanie Ciaccia  "
      ]
     },
     "execution_count": 94,
     "metadata": {},
     "output_type": "execute_result"
    }
   ],
   "source": [
    "final_user_df.loc[final_user_df[\"user_name\"] == \"Stephanie Ciaccia\"]"
   ]
  },
  {
   "cell_type": "code",
   "execution_count": 224,
   "metadata": {},
   "outputs": [
    {
     "name": "stdout",
     "output_type": "stream",
     "text": [
      "Name: Stephanie Ciaccia\n",
      "How many resort recommendations do you want? 3\n"
     ]
    },
    {
     "data": {
      "text/html": [
       "<div>\n",
       "<style scoped>\n",
       "    .dataframe tbody tr th:only-of-type {\n",
       "        vertical-align: middle;\n",
       "    }\n",
       "\n",
       "    .dataframe tbody tr th {\n",
       "        vertical-align: top;\n",
       "    }\n",
       "\n",
       "    .dataframe thead th {\n",
       "        text-align: right;\n",
       "    }\n",
       "</style>\n",
       "<table border=\"1\" class=\"dataframe\">\n",
       "  <thead>\n",
       "    <tr style=\"text-align: right;\">\n",
       "      <th></th>\n",
       "      <th>ski_resort</th>\n",
       "      <th>state</th>\n",
       "      <th>city</th>\n",
       "      <th>sumt</th>\n",
       "      <th>drop</th>\n",
       "      <th>base</th>\n",
       "      <th>intermediate_runs</th>\n",
       "      <th>advanced_runs</th>\n",
       "      <th>expert_runs</th>\n",
       "      <th>predicted_rating</th>\n",
       "      <th>ikon</th>\n",
       "      <th>epic</th>\n",
       "      <th>mountain_collective</th>\n",
       "    </tr>\n",
       "  </thead>\n",
       "  <tbody>\n",
       "    <tr>\n",
       "      <th>247</th>\n",
       "      <td>Snowbasin</td>\n",
       "      <td>Utah</td>\n",
       "      <td>Huntsville</td>\n",
       "      <td>9350</td>\n",
       "      <td>2900</td>\n",
       "      <td>6450</td>\n",
       "      <td>33</td>\n",
       "      <td>52</td>\n",
       "      <td>6</td>\n",
       "      <td>4.487251</td>\n",
       "      <td>1</td>\n",
       "      <td>0</td>\n",
       "      <td>1</td>\n",
       "    </tr>\n",
       "    <tr>\n",
       "      <th>302</th>\n",
       "      <td>Whiteface Mountain</td>\n",
       "      <td>New York</td>\n",
       "      <td>Wilngton</td>\n",
       "      <td>4650</td>\n",
       "      <td>3430</td>\n",
       "      <td>1220</td>\n",
       "      <td>46</td>\n",
       "      <td>31</td>\n",
       "      <td>0</td>\n",
       "      <td>4.479332</td>\n",
       "      <td>0</td>\n",
       "      <td>0</td>\n",
       "      <td>0</td>\n",
       "    </tr>\n",
       "    <tr>\n",
       "      <th>5</th>\n",
       "      <td>Alta</td>\n",
       "      <td>Utah</td>\n",
       "      <td>Alta</td>\n",
       "      <td>11068</td>\n",
       "      <td>2538</td>\n",
       "      <td>8530</td>\n",
       "      <td>0</td>\n",
       "      <td>0</td>\n",
       "      <td>0</td>\n",
       "      <td>4.391790</td>\n",
       "      <td>1</td>\n",
       "      <td>0</td>\n",
       "      <td>1</td>\n",
       "    </tr>\n",
       "  </tbody>\n",
       "</table>\n",
       "</div>"
      ],
      "text/plain": [
       "             ski_resort     state        city   sumt  drop  base  \\\n",
       "247           Snowbasin      Utah  Huntsville   9350  2900  6450   \n",
       "302  Whiteface Mountain  New York    Wilngton   4650  3430  1220   \n",
       "5                  Alta      Utah        Alta  11068  2538  8530   \n",
       "\n",
       "     intermediate_runs  advanced_runs  expert_runs  predicted_rating  ikon  \\\n",
       "247                 33             52            6          4.487251     1   \n",
       "302                 46             31            0          4.479332     0   \n",
       "5                    0              0            0          4.391790     1   \n",
       "\n",
       "     epic  mountain_collective  \n",
       "247     0                    1  \n",
       "302     0                    0  \n",
       "5       0                    1  "
      ]
     },
     "execution_count": 224,
     "metadata": {},
     "output_type": "execute_result"
    }
   ],
   "source": [
    "shred_recommender()"
   ]
  },
  {
   "cell_type": "markdown",
   "metadata": {},
   "source": [
    "### User #2 - Raghava"
   ]
  },
  {
   "cell_type": "markdown",
   "metadata": {},
   "source": [
    "The second user's has rated large mountains with advanced, expert, runs and good transportation highly. Their lowest score was given to a mountain that did not have good signage and was difficult to get to with public transport."
   ]
  },
  {
   "cell_type": "code",
   "execution_count": 143,
   "metadata": {},
   "outputs": [
    {
     "data": {
      "text/html": [
       "<div>\n",
       "<style scoped>\n",
       "    .dataframe tbody tr th:only-of-type {\n",
       "        vertical-align: middle;\n",
       "    }\n",
       "\n",
       "    .dataframe tbody tr th {\n",
       "        vertical-align: top;\n",
       "    }\n",
       "\n",
       "    .dataframe thead th {\n",
       "        text-align: right;\n",
       "    }\n",
       "</style>\n",
       "<table border=\"1\" class=\"dataframe\">\n",
       "  <thead>\n",
       "    <tr style=\"text-align: right;\">\n",
       "      <th></th>\n",
       "      <th>review_date</th>\n",
       "      <th>state</th>\n",
       "      <th>ski_resort</th>\n",
       "      <th>rating</th>\n",
       "      <th>review</th>\n",
       "      <th>user_name</th>\n",
       "    </tr>\n",
       "  </thead>\n",
       "  <tbody>\n",
       "    <tr>\n",
       "      <th>55</th>\n",
       "      <td>2023-05-10</td>\n",
       "      <td>Colorado</td>\n",
       "      <td>Breckenridge</td>\n",
       "      <td>4.0</td>\n",
       "      <td>Breck is a decent resort, but a lot of the ter...</td>\n",
       "      <td>Raghava Kamalesh</td>\n",
       "    </tr>\n",
       "    <tr>\n",
       "      <th>56</th>\n",
       "      <td>2023-05-10</td>\n",
       "      <td>Colorado</td>\n",
       "      <td>Crested Butte Mountain</td>\n",
       "      <td>5.0</td>\n",
       "      <td>Really amazing and extensive terrain for advan...</td>\n",
       "      <td>Raghava Kamalesh</td>\n",
       "    </tr>\n",
       "    <tr>\n",
       "      <th>57</th>\n",
       "      <td>2023-05-10</td>\n",
       "      <td>Colorado</td>\n",
       "      <td>Vail</td>\n",
       "      <td>5.0</td>\n",
       "      <td>I enjoyed Vail a lot more this time than my la...</td>\n",
       "      <td>Raghava Kamalesh</td>\n",
       "    </tr>\n",
       "    <tr>\n",
       "      <th>58</th>\n",
       "      <td>2023-05-10</td>\n",
       "      <td>Colorado</td>\n",
       "      <td>Beaver Creek</td>\n",
       "      <td>3.0</td>\n",
       "      <td>There are some good runs here, and part of my ...</td>\n",
       "      <td>Raghava Kamalesh</td>\n",
       "    </tr>\n",
       "    <tr>\n",
       "      <th>59</th>\n",
       "      <td>2023-05-10</td>\n",
       "      <td>Colorado</td>\n",
       "      <td>Telluride</td>\n",
       "      <td>5.0</td>\n",
       "      <td>Telluride is amazing. The town has very good f...</td>\n",
       "      <td>Raghava Kamalesh</td>\n",
       "    </tr>\n",
       "  </tbody>\n",
       "</table>\n",
       "</div>"
      ],
      "text/plain": [
       "   review_date     state              ski_resort  rating  \\\n",
       "55  2023-05-10  Colorado            Breckenridge     4.0   \n",
       "56  2023-05-10  Colorado  Crested Butte Mountain     5.0   \n",
       "57  2023-05-10  Colorado                    Vail     5.0   \n",
       "58  2023-05-10  Colorado            Beaver Creek     3.0   \n",
       "59  2023-05-10  Colorado               Telluride     5.0   \n",
       "\n",
       "                                               review         user_name  \n",
       "55  Breck is a decent resort, but a lot of the ter...  Raghava Kamalesh  \n",
       "56  Really amazing and extensive terrain for advan...  Raghava Kamalesh  \n",
       "57  I enjoyed Vail a lot more this time than my la...  Raghava Kamalesh  \n",
       "58  There are some good runs here, and part of my ...  Raghava Kamalesh  \n",
       "59  Telluride is amazing. The town has very good f...  Raghava Kamalesh  "
      ]
     },
     "execution_count": 143,
     "metadata": {},
     "output_type": "execute_result"
    }
   ],
   "source": [
    "final_user_df.loc[final_user_df[\"user_name\"] == \"Raghava Kamalesh\"]"
   ]
  },
  {
   "cell_type": "code",
   "execution_count": 225,
   "metadata": {},
   "outputs": [
    {
     "name": "stdout",
     "output_type": "stream",
     "text": [
      "Name: Raghava Kamalesh\n",
      "How many resort recommendations do you want? 3\n"
     ]
    },
    {
     "data": {
      "text/html": [
       "<div>\n",
       "<style scoped>\n",
       "    .dataframe tbody tr th:only-of-type {\n",
       "        vertical-align: middle;\n",
       "    }\n",
       "\n",
       "    .dataframe tbody tr th {\n",
       "        vertical-align: top;\n",
       "    }\n",
       "\n",
       "    .dataframe thead th {\n",
       "        text-align: right;\n",
       "    }\n",
       "</style>\n",
       "<table border=\"1\" class=\"dataframe\">\n",
       "  <thead>\n",
       "    <tr style=\"text-align: right;\">\n",
       "      <th></th>\n",
       "      <th>ski_resort</th>\n",
       "      <th>state</th>\n",
       "      <th>city</th>\n",
       "      <th>sumt</th>\n",
       "      <th>drop</th>\n",
       "      <th>base</th>\n",
       "      <th>intermediate_runs</th>\n",
       "      <th>advanced_runs</th>\n",
       "      <th>expert_runs</th>\n",
       "      <th>predicted_rating</th>\n",
       "      <th>ikon</th>\n",
       "      <th>epic</th>\n",
       "      <th>mountain_collective</th>\n",
       "    </tr>\n",
       "  </thead>\n",
       "  <tbody>\n",
       "    <tr>\n",
       "      <th>247</th>\n",
       "      <td>Snowbasin</td>\n",
       "      <td>Utah</td>\n",
       "      <td>Huntsville</td>\n",
       "      <td>9350</td>\n",
       "      <td>2900</td>\n",
       "      <td>6450</td>\n",
       "      <td>33</td>\n",
       "      <td>52</td>\n",
       "      <td>6</td>\n",
       "      <td>4.884927</td>\n",
       "      <td>1</td>\n",
       "      <td>0</td>\n",
       "      <td>1</td>\n",
       "    </tr>\n",
       "    <tr>\n",
       "      <th>248</th>\n",
       "      <td>Snowbird</td>\n",
       "      <td>Utah</td>\n",
       "      <td>Snowbird</td>\n",
       "      <td>11000</td>\n",
       "      <td>3240</td>\n",
       "      <td>7760</td>\n",
       "      <td>25</td>\n",
       "      <td>43</td>\n",
       "      <td>24</td>\n",
       "      <td>4.849952</td>\n",
       "      <td>1</td>\n",
       "      <td>0</td>\n",
       "      <td>1</td>\n",
       "    </tr>\n",
       "    <tr>\n",
       "      <th>271</th>\n",
       "      <td>Sunday River</td>\n",
       "      <td>Maine</td>\n",
       "      <td>Newry</td>\n",
       "      <td>3140</td>\n",
       "      <td>2340</td>\n",
       "      <td>800</td>\n",
       "      <td>36</td>\n",
       "      <td>18</td>\n",
       "      <td>16</td>\n",
       "      <td>4.823627</td>\n",
       "      <td>1</td>\n",
       "      <td>0</td>\n",
       "      <td>0</td>\n",
       "    </tr>\n",
       "  </tbody>\n",
       "</table>\n",
       "</div>"
      ],
      "text/plain": [
       "       ski_resort  state        city   sumt  drop  base  intermediate_runs  \\\n",
       "247     Snowbasin   Utah  Huntsville   9350  2900  6450                 33   \n",
       "248      Snowbird   Utah    Snowbird  11000  3240  7760                 25   \n",
       "271  Sunday River  Maine       Newry   3140  2340   800                 36   \n",
       "\n",
       "     advanced_runs  expert_runs  predicted_rating  ikon  epic  \\\n",
       "247             52            6          4.884927     1     0   \n",
       "248             43           24          4.849952     1     0   \n",
       "271             18           16          4.823627     1     0   \n",
       "\n",
       "     mountain_collective  \n",
       "247                    1  \n",
       "248                    1  \n",
       "271                    0  "
      ]
     },
     "execution_count": 225,
     "metadata": {},
     "output_type": "execute_result"
    }
   ],
   "source": [
    "shred_recommender()"
   ]
  },
  {
   "cell_type": "code",
   "execution_count": 97,
   "metadata": {},
   "outputs": [
    {
     "data": {
      "text/plain": [
       "['Breckenridge', 'Crested Butte Mountain', 'Vail', 'Beaver Creek', 'Telluride']"
      ]
     },
     "execution_count": 97,
     "metadata": {},
     "output_type": "execute_result"
    }
   ],
   "source": [
    "list(user_df.loc['Raghava Kamalesh', 'ski_resort'])"
   ]
  },
  {
   "cell_type": "markdown",
   "metadata": {},
   "source": [
    "### User #3 - Alexandria"
   ]
  },
  {
   "cell_type": "markdown",
   "metadata": {},
   "source": [
    "The third user prefers mountains that have expert terrain and where the mountain doesn't feel too overrun with guests who are there for reasons other than skiing. The recommendations are smaller less known resorts that still have advanced terrain."
   ]
  },
  {
   "cell_type": "code",
   "execution_count": 144,
   "metadata": {},
   "outputs": [
    {
     "data": {
      "text/html": [
       "<div>\n",
       "<style scoped>\n",
       "    .dataframe tbody tr th:only-of-type {\n",
       "        vertical-align: middle;\n",
       "    }\n",
       "\n",
       "    .dataframe tbody tr th {\n",
       "        vertical-align: top;\n",
       "    }\n",
       "\n",
       "    .dataframe thead th {\n",
       "        text-align: right;\n",
       "    }\n",
       "</style>\n",
       "<table border=\"1\" class=\"dataframe\">\n",
       "  <thead>\n",
       "    <tr style=\"text-align: right;\">\n",
       "      <th></th>\n",
       "      <th>review_date</th>\n",
       "      <th>state</th>\n",
       "      <th>ski_resort</th>\n",
       "      <th>rating</th>\n",
       "      <th>review</th>\n",
       "      <th>user_name</th>\n",
       "    </tr>\n",
       "  </thead>\n",
       "  <tbody>\n",
       "    <tr>\n",
       "      <th>46</th>\n",
       "      <td>2023-05-09</td>\n",
       "      <td>Washington</td>\n",
       "      <td>Stevens Pass</td>\n",
       "      <td>5.0</td>\n",
       "      <td>Lots of snow, small local mountain.</td>\n",
       "      <td>Alexandria Kelly</td>\n",
       "    </tr>\n",
       "    <tr>\n",
       "      <th>47</th>\n",
       "      <td>2023-05-09</td>\n",
       "      <td>Colorado</td>\n",
       "      <td>Vail</td>\n",
       "      <td>3.0</td>\n",
       "      <td>Lots of terrain, but very busy.</td>\n",
       "      <td>Alexandria Kelly</td>\n",
       "    </tr>\n",
       "    <tr>\n",
       "      <th>48</th>\n",
       "      <td>2023-05-09</td>\n",
       "      <td>Utah</td>\n",
       "      <td>Snowbird</td>\n",
       "      <td>4.0</td>\n",
       "      <td>Great expert terrain, feels very grand and exc...</td>\n",
       "      <td>Alexandria Kelly</td>\n",
       "    </tr>\n",
       "    <tr>\n",
       "      <th>49</th>\n",
       "      <td>2023-05-09</td>\n",
       "      <td>Utah</td>\n",
       "      <td>Park City Mountain</td>\n",
       "      <td>2.0</td>\n",
       "      <td>Lots of terrain, but usually very busy. The to...</td>\n",
       "      <td>Alexandria Kelly</td>\n",
       "    </tr>\n",
       "  </tbody>\n",
       "</table>\n",
       "</div>"
      ],
      "text/plain": [
       "   review_date       state          ski_resort  rating  \\\n",
       "46  2023-05-09  Washington        Stevens Pass     5.0   \n",
       "47  2023-05-09    Colorado                Vail     3.0   \n",
       "48  2023-05-09        Utah            Snowbird     4.0   \n",
       "49  2023-05-09        Utah  Park City Mountain     2.0   \n",
       "\n",
       "                                               review         user_name  \n",
       "46               Lots of snow, small local mountain.   Alexandria Kelly  \n",
       "47                   Lots of terrain, but very busy.   Alexandria Kelly  \n",
       "48  Great expert terrain, feels very grand and exc...  Alexandria Kelly  \n",
       "49  Lots of terrain, but usually very busy. The to...  Alexandria Kelly  "
      ]
     },
     "execution_count": 144,
     "metadata": {},
     "output_type": "execute_result"
    }
   ],
   "source": [
    "final_user_df.loc[final_user_df[\"user_name\"] == \"Alexandria Kelly\"]"
   ]
  },
  {
   "cell_type": "code",
   "execution_count": 226,
   "metadata": {},
   "outputs": [
    {
     "name": "stdout",
     "output_type": "stream",
     "text": [
      "Name: Alexandria Kelly\n",
      "How many resort recommendations do you want? 3\n"
     ]
    },
    {
     "data": {
      "text/html": [
       "<div>\n",
       "<style scoped>\n",
       "    .dataframe tbody tr th:only-of-type {\n",
       "        vertical-align: middle;\n",
       "    }\n",
       "\n",
       "    .dataframe tbody tr th {\n",
       "        vertical-align: top;\n",
       "    }\n",
       "\n",
       "    .dataframe thead th {\n",
       "        text-align: right;\n",
       "    }\n",
       "</style>\n",
       "<table border=\"1\" class=\"dataframe\">\n",
       "  <thead>\n",
       "    <tr style=\"text-align: right;\">\n",
       "      <th></th>\n",
       "      <th>ski_resort</th>\n",
       "      <th>state</th>\n",
       "      <th>city</th>\n",
       "      <th>sumt</th>\n",
       "      <th>drop</th>\n",
       "      <th>base</th>\n",
       "      <th>intermediate_runs</th>\n",
       "      <th>advanced_runs</th>\n",
       "      <th>expert_runs</th>\n",
       "      <th>predicted_rating</th>\n",
       "      <th>ikon</th>\n",
       "      <th>epic</th>\n",
       "      <th>mountain_collective</th>\n",
       "    </tr>\n",
       "  </thead>\n",
       "  <tbody>\n",
       "    <tr>\n",
       "      <th>280</th>\n",
       "      <td>Telluride</td>\n",
       "      <td>Colorado</td>\n",
       "      <td>Telluride</td>\n",
       "      <td>13150</td>\n",
       "      <td>4425</td>\n",
       "      <td>8725</td>\n",
       "      <td>30</td>\n",
       "      <td>21</td>\n",
       "      <td>34</td>\n",
       "      <td>4.644477</td>\n",
       "      <td>0</td>\n",
       "      <td>0</td>\n",
       "      <td>0</td>\n",
       "    </tr>\n",
       "    <tr>\n",
       "      <th>233</th>\n",
       "      <td>Ski Brule</td>\n",
       "      <td>Michigan</td>\n",
       "      <td>Iron River</td>\n",
       "      <td>1860</td>\n",
       "      <td>500</td>\n",
       "      <td>1360</td>\n",
       "      <td>35</td>\n",
       "      <td>24</td>\n",
       "      <td>6</td>\n",
       "      <td>4.630016</td>\n",
       "      <td>0</td>\n",
       "      <td>0</td>\n",
       "      <td>0</td>\n",
       "    </tr>\n",
       "    <tr>\n",
       "      <th>125</th>\n",
       "      <td>Jackson Hole</td>\n",
       "      <td>Wyoming</td>\n",
       "      <td>Teton Village</td>\n",
       "      <td>10450</td>\n",
       "      <td>4139</td>\n",
       "      <td>6311</td>\n",
       "      <td>41</td>\n",
       "      <td>38</td>\n",
       "      <td>17</td>\n",
       "      <td>4.480602</td>\n",
       "      <td>1</td>\n",
       "      <td>0</td>\n",
       "      <td>1</td>\n",
       "    </tr>\n",
       "  </tbody>\n",
       "</table>\n",
       "</div>"
      ],
      "text/plain": [
       "       ski_resort     state           city   sumt  drop  base  \\\n",
       "280     Telluride  Colorado      Telluride  13150  4425  8725   \n",
       "233     Ski Brule  Michigan     Iron River   1860   500  1360   \n",
       "125  Jackson Hole   Wyoming  Teton Village  10450  4139  6311   \n",
       "\n",
       "     intermediate_runs  advanced_runs  expert_runs  predicted_rating  ikon  \\\n",
       "280                 30             21           34          4.644477     0   \n",
       "233                 35             24            6          4.630016     0   \n",
       "125                 41             38           17          4.480602     1   \n",
       "\n",
       "     epic  mountain_collective  \n",
       "280     0                    0  \n",
       "233     0                    0  \n",
       "125     0                    1  "
      ]
     },
     "execution_count": 226,
     "metadata": {},
     "output_type": "execute_result"
    }
   ],
   "source": [
    "shred_recommender()"
   ]
  },
  {
   "cell_type": "code",
   "execution_count": 98,
   "metadata": {},
   "outputs": [
    {
     "data": {
      "text/plain": [
       "['Stevens Pass', 'Vail', 'Snowbird', 'Park City Mountain']"
      ]
     },
     "execution_count": 98,
     "metadata": {},
     "output_type": "execute_result"
    }
   ],
   "source": [
    "list(user_df.loc['Alexandria Kelly', 'ski_resort'])"
   ]
  },
  {
   "cell_type": "markdown",
   "metadata": {},
   "source": [
    "### Function #2  - User, Recommendation #, and State Inputs"
   ]
  },
  {
   "cell_type": "markdown",
   "metadata": {},
   "source": [
    "Below I added an additional filter that allows users to sort resorts by state. I will plan to further adjust the filters in the hybird and streamlit models."
   ]
  },
  {
   "cell_type": "code",
   "execution_count": 137,
   "metadata": {},
   "outputs": [],
   "source": [
    "def shred_recommender_state():\n",
    "    user = str(input('Name: '))\n",
    "    n_recs = int(input('How many resort recommendations do you want? '))\n",
    "    state = str(input('What state would you like to shred in? '))\n",
    "    \n",
    "    have_rated = list(user_df.loc[user, 'ski_resort'])\n",
    "    not_rated = content_df.copy()\n",
    "    not_rated = not_rated.loc[~not_rated['ski_resort'].isin(have_rated) & (not_rated['state'] == state)]\n",
    "    not_rated = not_rated.drop_duplicates(subset=['ski_resort'])\n",
    "    not_rated.reset_index(inplace=True)\n",
    "    not_rated['predicted_rating'] = not_rated['ski_resort'].apply(lambda x: algo.predict(user, x).est)\n",
    "    not_rated.sort_values(by='predicted_rating', ascending=False, inplace=True)\n",
    "    not_rated = not_rated[['ski_resort', 'state', 'city', 'sumt', 'drop', 'base', 'intermediate_runs',\n",
    "                          'advanced_runs', 'expert_runs', 'predicted_rating', 'ikon', 'epic',\n",
    "                          'mountain_collective']].copy()\n",
    "    return not_rated.head(n_recs)"
   ]
  },
  {
   "cell_type": "code",
   "execution_count": 138,
   "metadata": {},
   "outputs": [
    {
     "name": "stdout",
     "output_type": "stream",
     "text": [
      "Name: Stephanie Ciaccia\n",
      "How many resort recommendations do you want? 3\n",
      "What state would you like to shred in? Utah\n"
     ]
    },
    {
     "data": {
      "text/html": [
       "<div>\n",
       "<style scoped>\n",
       "    .dataframe tbody tr th:only-of-type {\n",
       "        vertical-align: middle;\n",
       "    }\n",
       "\n",
       "    .dataframe tbody tr th {\n",
       "        vertical-align: top;\n",
       "    }\n",
       "\n",
       "    .dataframe thead th {\n",
       "        text-align: right;\n",
       "    }\n",
       "</style>\n",
       "<table border=\"1\" class=\"dataframe\">\n",
       "  <thead>\n",
       "    <tr style=\"text-align: right;\">\n",
       "      <th></th>\n",
       "      <th>ski_resort</th>\n",
       "      <th>state</th>\n",
       "      <th>city</th>\n",
       "      <th>sumt</th>\n",
       "      <th>drop</th>\n",
       "      <th>base</th>\n",
       "      <th>intermediate_runs</th>\n",
       "      <th>advanced_runs</th>\n",
       "      <th>expert_runs</th>\n",
       "      <th>predicted_rating</th>\n",
       "      <th>ikon</th>\n",
       "      <th>epic</th>\n",
       "      <th>mountain_collective</th>\n",
       "    </tr>\n",
       "  </thead>\n",
       "  <tbody>\n",
       "    <tr>\n",
       "      <th>0</th>\n",
       "      <td>Alta</td>\n",
       "      <td>Utah</td>\n",
       "      <td>Alta</td>\n",
       "      <td>11068</td>\n",
       "      <td>2538</td>\n",
       "      <td>8530</td>\n",
       "      <td>0</td>\n",
       "      <td>0</td>\n",
       "      <td>0</td>\n",
       "      <td>4.457562</td>\n",
       "      <td>1</td>\n",
       "      <td>0</td>\n",
       "      <td>1</td>\n",
       "    </tr>\n",
       "    <tr>\n",
       "      <th>8</th>\n",
       "      <td>Snowbasin</td>\n",
       "      <td>Utah</td>\n",
       "      <td>Huntsville</td>\n",
       "      <td>9350</td>\n",
       "      <td>2900</td>\n",
       "      <td>6450</td>\n",
       "      <td>33</td>\n",
       "      <td>52</td>\n",
       "      <td>6</td>\n",
       "      <td>4.407571</td>\n",
       "      <td>1</td>\n",
       "      <td>0</td>\n",
       "      <td>1</td>\n",
       "    </tr>\n",
       "    <tr>\n",
       "      <th>4</th>\n",
       "      <td>Deer Valley</td>\n",
       "      <td>Utah</td>\n",
       "      <td>Park City</td>\n",
       "      <td>9570</td>\n",
       "      <td>3000</td>\n",
       "      <td>6570</td>\n",
       "      <td>31</td>\n",
       "      <td>10</td>\n",
       "      <td>32</td>\n",
       "      <td>3.962196</td>\n",
       "      <td>1</td>\n",
       "      <td>0</td>\n",
       "      <td>0</td>\n",
       "    </tr>\n",
       "  </tbody>\n",
       "</table>\n",
       "</div>"
      ],
      "text/plain": [
       "    ski_resort state        city   sumt  drop  base  intermediate_runs  \\\n",
       "0         Alta  Utah        Alta  11068  2538  8530                  0   \n",
       "8    Snowbasin  Utah  Huntsville   9350  2900  6450                 33   \n",
       "4  Deer Valley  Utah   Park City   9570  3000  6570                 31   \n",
       "\n",
       "   advanced_runs  expert_runs  predicted_rating  ikon  epic  \\\n",
       "0              0            0          4.457562     1     0   \n",
       "8             52            6          4.407571     1     0   \n",
       "4             10           32          3.962196     1     0   \n",
       "\n",
       "   mountain_collective  \n",
       "0                    1  \n",
       "8                    1  \n",
       "4                    0  "
      ]
     },
     "execution_count": 138,
     "metadata": {},
     "output_type": "execute_result"
    }
   ],
   "source": [
    "shred_recommender_state()"
   ]
  },
  {
   "cell_type": "markdown",
   "metadata": {},
   "source": [
    "# Conclusions"
   ]
  },
  {
   "cell_type": "markdown",
   "metadata": {},
   "source": [
    "The analysis of the outputs indicates that the recommendation system effectively suggests ski resorts aligned with user ratings. However, considering the high opportunity cost associated with planning a ski trip, relying solely on a user-based system is insufficient to provide users with tailored recommendations that account for factors such as cost and time of year. While identifying similar users is crucial, it is essential to consider additional elements when making recommendations."
   ]
  },
  {
   "cell_type": "markdown",
   "metadata": {},
   "source": [
    "# Next Steps"
   ]
  },
  {
   "cell_type": "markdown",
   "metadata": {},
   "source": [
    "Next steps involves implementing a content-based system and integrating the results with the collaborative model. This combined approach enhances the filtering capabilities of the collaborative model, allowing for more dynamic filtering based on user preferences. By incorporating both content-based and collaborative filtering, the system will deliver more accurate recommendations that align closely with user preferences, resulting in a more refined and personalized recommendation system.\n",
    "\n",
    "The **Cascade Hybrid Modeling** notebook will be saved in the main github repository."
   ]
  }
 ],
 "metadata": {
  "kernelspec": {
   "display_name": "Python (learn-env)",
   "language": "python",
   "name": "learn-env"
  },
  "language_info": {
   "codemirror_mode": {
    "name": "ipython",
    "version": 3
   },
   "file_extension": ".py",
   "mimetype": "text/x-python",
   "name": "python",
   "nbconvert_exporter": "python",
   "pygments_lexer": "ipython3",
   "version": "3.8.5"
  }
 },
 "nbformat": 4,
 "nbformat_minor": 5
}
